{
 "cells": [
  {
   "cell_type": "code",
   "execution_count": 6,
   "id": "initial_id",
   "metadata": {
    "collapsed": true,
    "ExecuteTime": {
     "end_time": "2023-11-30T14:46:18.028895Z",
     "start_time": "2023-11-30T14:46:16.459587Z"
    }
   },
   "outputs": [
    {
     "name": "stdout",
     "output_type": "stream",
     "text": [
      "Warning: 226 (1.79 %) of 12638 users have no train items\n",
      "Warning: 2142 (16.95 %) of 12638 users have no sampled items\n",
      "Warning: 483 (3.82 %) of 12638 users have no train items\n",
      "Warning: 2546 (20.15 %) of 12638 users have no sampled items\n"
     ]
    }
   ],
   "source": [
    "from Data_manager.UserUtils import *\n",
    "from Data_manager.split_functions.split_train_validation_random_holdout import \\\n",
    "    split_train_in_two_percentage_global_sample\n",
    "URM_all = getURM_all()\n",
    "URM_train_validation, URM_test = split_train_in_two_percentage_global_sample(URM_all, train_percentage = 0.80)\n",
    "URM_train, URM_validation = split_train_in_two_percentage_global_sample(URM_train_validation, train_percentage = 0.80)"
   ]
  },
  {
   "cell_type": "code",
   "execution_count": 7,
   "outputs": [
    {
     "name": "stdout",
     "output_type": "stream",
     "text": [
      "EvaluatorHoldout: Ignoring 2546 (20.1%) Users that have less than 1 test interactions\n",
      "EvaluatorHoldout: Ignoring 0 Users\n"
     ]
    }
   ],
   "source": [
    "from Recommenders.MatrixFactorization.PureSVDRecommender import PureSVDItemRecommender\n",
    "model = PureSVDItemRecommender\n",
    "\n",
    "from Evaluation.Evaluator import EvaluatorHoldout\n",
    "evaluator_validation = EvaluatorHoldout(URM_validation, cutoff_list=[10], ignore_users=[])"
   ],
   "metadata": {
    "collapsed": false,
    "ExecuteTime": {
     "end_time": "2023-11-30T14:46:18.817370Z",
     "start_time": "2023-11-30T14:46:18.558757Z"
    }
   },
   "id": "8a9fec0ccc4f11c5"
  },
  {
   "cell_type": "code",
   "execution_count": 10,
   "outputs": [],
   "source": [
    "import optuna as op\n",
    "def objective(trial):\n",
    "    # Optuna suggest params\n",
    "    num_factors = trial.suggest_int(\"num_factors\", 20, 120)\n",
    "    topK = trial.suggest_int(\"topK\", 5, 1000)\n",
    "    random_seed = 42\n",
    "    \n",
    "    recommender = model(URM_train)\n",
    "    recommender.fit(**trial.params)\n",
    "    \n",
    "    result, _ = evaluator_validation.evaluateRecommender(recommender)\n",
    "    MAP_result = result[\"MAP\"].item()\n",
    "       \n",
    "    return MAP_result"
   ],
   "metadata": {
    "collapsed": false,
    "ExecuteTime": {
     "end_time": "2023-11-30T14:50:55.852814Z",
     "start_time": "2023-11-30T14:50:55.836076Z"
    }
   },
   "id": "b826576f6714c764"
  },
  {
   "cell_type": "code",
   "execution_count": 11,
   "outputs": [
    {
     "name": "stderr",
     "output_type": "stream",
     "text": [
      "[I 2023-11-30 15:50:56,827] Using an existing study with name 'puresvd-item-study' instead of creating a new one.\n"
     ]
    },
    {
     "name": "stdout",
     "output_type": "stream",
     "text": [
      "PureSVDItemRecommender: URM Detected 483 ( 3.8%) users with no interactions.\n",
      "PureSVDItemRecommender: URM Detected 314 ( 1.4%) items with no interactions.\n",
      "PureSVDItemRecommender: Computing SVD decomposition...\n",
      "PureSVDItemRecommender: Computing SVD decomposition... Done!\n",
      "EvaluatorHoldout: Processed 10092 (100.0%) in 6.40 sec. Users per second: 1577\n"
     ]
    },
    {
     "name": "stderr",
     "output_type": "stream",
     "text": [
      "[I 2023-11-30 15:51:17,304] Trial 4 finished with value: 0.020444847875733734 and parameters: {'num_factors': 92, 'topK': 559}. Best is trial 4 with value: 0.020444847875733734.\n"
     ]
    },
    {
     "name": "stdout",
     "output_type": "stream",
     "text": [
      "PureSVDItemRecommender: URM Detected 483 ( 3.8%) users with no interactions.\n",
      "PureSVDItemRecommender: URM Detected 314 ( 1.4%) items with no interactions.\n",
      "PureSVDItemRecommender: Computing SVD decomposition...\n",
      "PureSVDItemRecommender: Computing SVD decomposition... Done!\n",
      "EvaluatorHoldout: Processed 10092 (100.0%) in 5.61 sec. Users per second: 1798\n"
     ]
    },
    {
     "name": "stderr",
     "output_type": "stream",
     "text": [
      "[I 2023-11-30 15:51:30,235] Trial 5 finished with value: 0.019352756229985616 and parameters: {'num_factors': 31, 'topK': 190}. Best is trial 4 with value: 0.020444847875733734.\n"
     ]
    },
    {
     "name": "stdout",
     "output_type": "stream",
     "text": [
      "PureSVDItemRecommender: URM Detected 483 ( 3.8%) users with no interactions.\n",
      "PureSVDItemRecommender: URM Detected 314 ( 1.4%) items with no interactions.\n",
      "PureSVDItemRecommender: Computing SVD decomposition...\n",
      "PureSVDItemRecommender: Computing SVD decomposition... Done!\n",
      "EvaluatorHoldout: Processed 10092 (100.0%) in 4.88 sec. Users per second: 2068\n"
     ]
    },
    {
     "name": "stderr",
     "output_type": "stream",
     "text": [
      "[I 2023-11-30 15:51:41,724] Trial 6 finished with value: 0.019191002302625323 and parameters: {'num_factors': 31, 'topK': 68}. Best is trial 4 with value: 0.020444847875733734.\n"
     ]
    },
    {
     "name": "stdout",
     "output_type": "stream",
     "text": [
      "PureSVDItemRecommender: URM Detected 483 ( 3.8%) users with no interactions.\n",
      "PureSVDItemRecommender: URM Detected 314 ( 1.4%) items with no interactions.\n",
      "PureSVDItemRecommender: Computing SVD decomposition...\n",
      "PureSVDItemRecommender: Computing SVD decomposition... Done!\n",
      "EvaluatorHoldout: Processed 10092 (100.0%) in 6.62 sec. Users per second: 1524\n"
     ]
    },
    {
     "name": "stderr",
     "output_type": "stream",
     "text": [
      "[I 2023-11-30 15:52:01,764] Trial 7 finished with value: 0.020475738287123568 and parameters: {'num_factors': 87, 'topK': 736}. Best is trial 7 with value: 0.020475738287123568.\n"
     ]
    },
    {
     "name": "stdout",
     "output_type": "stream",
     "text": [
      "PureSVDItemRecommender: URM Detected 483 ( 3.8%) users with no interactions.\n",
      "PureSVDItemRecommender: URM Detected 314 ( 1.4%) items with no interactions.\n",
      "PureSVDItemRecommender: Computing SVD decomposition...\n",
      "PureSVDItemRecommender: Computing SVD decomposition... Done!\n",
      "EvaluatorHoldout: Processed 10092 (100.0%) in 6.13 sec. Users per second: 1647\n"
     ]
    },
    {
     "name": "stderr",
     "output_type": "stream",
     "text": [
      "[I 2023-11-30 15:52:19,133] Trial 8 finished with value: 0.020581149456744 and parameters: {'num_factors': 99, 'topK': 382}. Best is trial 8 with value: 0.020581149456744.\n"
     ]
    },
    {
     "name": "stdout",
     "output_type": "stream",
     "text": [
      "PureSVDItemRecommender: URM Detected 483 ( 3.8%) users with no interactions.\n",
      "PureSVDItemRecommender: URM Detected 314 ( 1.4%) items with no interactions.\n",
      "PureSVDItemRecommender: Computing SVD decomposition...\n",
      "PureSVDItemRecommender: Computing SVD decomposition... Done!\n",
      "EvaluatorHoldout: Processed 10092 (100.0%) in 5.88 sec. Users per second: 1717\n"
     ]
    },
    {
     "name": "stderr",
     "output_type": "stream",
     "text": [
      "[I 2023-11-30 15:52:37,620] Trial 9 finished with value: 0.020860912934337488 and parameters: {'num_factors': 106, 'topK': 232}. Best is trial 9 with value: 0.020860912934337488.\n"
     ]
    },
    {
     "name": "stdout",
     "output_type": "stream",
     "text": [
      "PureSVDItemRecommender: URM Detected 483 ( 3.8%) users with no interactions.\n",
      "PureSVDItemRecommender: URM Detected 314 ( 1.4%) items with no interactions.\n",
      "PureSVDItemRecommender: Computing SVD decomposition...\n",
      "PureSVDItemRecommender: Computing SVD decomposition... Done!\n",
      "EvaluatorHoldout: Processed 10092 (100.0%) in 6.36 sec. Users per second: 1588\n"
     ]
    },
    {
     "name": "stderr",
     "output_type": "stream",
     "text": [
      "[I 2023-11-30 15:52:58,325] Trial 10 finished with value: 0.019757331754210548 and parameters: {'num_factors': 60, 'topK': 550}. Best is trial 9 with value: 0.020860912934337488.\n"
     ]
    },
    {
     "name": "stdout",
     "output_type": "stream",
     "text": [
      "PureSVDItemRecommender: URM Detected 483 ( 3.8%) users with no interactions.\n",
      "PureSVDItemRecommender: URM Detected 314 ( 1.4%) items with no interactions.\n",
      "PureSVDItemRecommender: Computing SVD decomposition...\n",
      "PureSVDItemRecommender: Computing SVD decomposition... Done!\n",
      "EvaluatorHoldout: Processed 10092 (100.0%) in 6.36 sec. Users per second: 1588\n"
     ]
    },
    {
     "name": "stderr",
     "output_type": "stream",
     "text": [
      "[I 2023-11-30 15:53:16,763] Trial 11 finished with value: 0.019748055980220076 and parameters: {'num_factors': 54, 'topK': 564}. Best is trial 9 with value: 0.020860912934337488.\n"
     ]
    },
    {
     "name": "stdout",
     "output_type": "stream",
     "text": [
      "PureSVDItemRecommender: URM Detected 483 ( 3.8%) users with no interactions.\n",
      "PureSVDItemRecommender: URM Detected 314 ( 1.4%) items with no interactions.\n",
      "PureSVDItemRecommender: Computing SVD decomposition...\n",
      "PureSVDItemRecommender: Computing SVD decomposition... Done!\n",
      "EvaluatorHoldout: Processed 10092 (100.0%) in 6.53 sec. Users per second: 1545\n"
     ]
    },
    {
     "name": "stderr",
     "output_type": "stream",
     "text": [
      "[I 2023-11-30 15:53:35,927] Trial 12 finished with value: 0.01873219161492049 and parameters: {'num_factors': 29, 'topK': 679}. Best is trial 9 with value: 0.020860912934337488.\n"
     ]
    },
    {
     "name": "stdout",
     "output_type": "stream",
     "text": [
      "PureSVDItemRecommender: URM Detected 483 ( 3.8%) users with no interactions.\n",
      "PureSVDItemRecommender: URM Detected 314 ( 1.4%) items with no interactions.\n",
      "PureSVDItemRecommender: Computing SVD decomposition...\n",
      "PureSVDItemRecommender: Computing SVD decomposition... Done!\n",
      "EvaluatorHoldout: Processed 10092 (100.0%) in 6.93 sec. Users per second: 1457\n"
     ]
    },
    {
     "name": "stderr",
     "output_type": "stream",
     "text": [
      "[I 2023-11-30 15:54:04,169] Trial 13 finished with value: 0.0204184125096729 and parameters: {'num_factors': 113, 'topK': 994}. Best is trial 9 with value: 0.020860912934337488.\n"
     ]
    },
    {
     "name": "stdout",
     "output_type": "stream",
     "text": [
      "PureSVDItemRecommender: URM Detected 483 ( 3.8%) users with no interactions.\n",
      "PureSVDItemRecommender: URM Detected 314 ( 1.4%) items with no interactions.\n",
      "PureSVDItemRecommender: Computing SVD decomposition...\n",
      "PureSVDItemRecommender: Computing SVD decomposition... Done!\n",
      "EvaluatorHoldout: Processed 10092 (100.0%) in 5.85 sec. Users per second: 1727\n"
     ]
    },
    {
     "name": "stderr",
     "output_type": "stream",
     "text": [
      "[I 2023-11-30 15:54:21,158] Trial 14 finished with value: 0.02091847856859746 and parameters: {'num_factors': 96, 'topK': 284}. Best is trial 14 with value: 0.02091847856859746.\n"
     ]
    },
    {
     "name": "stdout",
     "output_type": "stream",
     "text": [
      "PureSVDItemRecommender: URM Detected 483 ( 3.8%) users with no interactions.\n",
      "PureSVDItemRecommender: URM Detected 314 ( 1.4%) items with no interactions.\n",
      "PureSVDItemRecommender: Computing SVD decomposition...\n",
      "PureSVDItemRecommender: Computing SVD decomposition... Done!\n",
      "EvaluatorHoldout: Processed 10092 (100.0%) in 6.08 sec. Users per second: 1659\n"
     ]
    },
    {
     "name": "stderr",
     "output_type": "stream",
     "text": [
      "[I 2023-11-30 15:54:38,365] Trial 15 finished with value: 0.020835558889958382 and parameters: {'num_factors': 78, 'topK': 301}. Best is trial 14 with value: 0.02091847856859746.\n"
     ]
    },
    {
     "name": "stdout",
     "output_type": "stream",
     "text": [
      "PureSVDItemRecommender: URM Detected 483 ( 3.8%) users with no interactions.\n",
      "PureSVDItemRecommender: URM Detected 314 ( 1.4%) items with no interactions.\n",
      "PureSVDItemRecommender: Computing SVD decomposition...\n",
      "PureSVDItemRecommender: Computing SVD decomposition... Done!\n",
      "EvaluatorHoldout: Processed 10092 (100.0%) in 3.72 sec. Users per second: 2713\n"
     ]
    },
    {
     "name": "stderr",
     "output_type": "stream",
     "text": [
      "[I 2023-11-30 15:54:52,603] Trial 16 finished with value: 0.020756972362204237 and parameters: {'num_factors': 103, 'topK': 16}. Best is trial 14 with value: 0.02091847856859746.\n"
     ]
    },
    {
     "name": "stdout",
     "output_type": "stream",
     "text": [
      "PureSVDItemRecommender: URM Detected 483 ( 3.8%) users with no interactions.\n",
      "PureSVDItemRecommender: URM Detected 314 ( 1.4%) items with no interactions.\n",
      "PureSVDItemRecommender: Computing SVD decomposition...\n",
      "PureSVDItemRecommender: Computing SVD decomposition... Done!\n",
      "EvaluatorHoldout: Processed 10092 (100.0%) in 5.93 sec. Users per second: 1703\n"
     ]
    },
    {
     "name": "stderr",
     "output_type": "stream",
     "text": [
      "[I 2023-11-30 15:55:11,471] Trial 17 finished with value: 0.020560230797299784 and parameters: {'num_factors': 75, 'topK': 261}. Best is trial 14 with value: 0.02091847856859746.\n"
     ]
    },
    {
     "name": "stdout",
     "output_type": "stream",
     "text": [
      "PureSVDItemRecommender: URM Detected 483 ( 3.8%) users with no interactions.\n",
      "PureSVDItemRecommender: URM Detected 314 ( 1.4%) items with no interactions.\n",
      "PureSVDItemRecommender: Computing SVD decomposition...\n",
      "PureSVDItemRecommender: Computing SVD decomposition... Done!\n",
      "EvaluatorHoldout: Processed 10092 (100.0%) in 5.53 sec. Users per second: 1825\n"
     ]
    },
    {
     "name": "stderr",
     "output_type": "stream",
     "text": [
      "[I 2023-11-30 15:55:26,584] Trial 18 finished with value: 0.020939774707610645 and parameters: {'num_factors': 109, 'topK': 145}. Best is trial 18 with value: 0.020939774707610645.\n"
     ]
    },
    {
     "name": "stdout",
     "output_type": "stream",
     "text": [
      "PureSVDItemRecommender: URM Detected 483 ( 3.8%) users with no interactions.\n",
      "PureSVDItemRecommender: URM Detected 314 ( 1.4%) items with no interactions.\n",
      "PureSVDItemRecommender: Computing SVD decomposition...\n",
      "PureSVDItemRecommender: Computing SVD decomposition... Done!\n",
      "EvaluatorHoldout: Processed 10092 (100.0%) in 6.19 sec. Users per second: 1631\n"
     ]
    },
    {
     "name": "stderr",
     "output_type": "stream",
     "text": [
      "[I 2023-11-30 15:55:45,595] Trial 19 finished with value: 0.020477480198050974 and parameters: {'num_factors': 87, 'topK': 412}. Best is trial 18 with value: 0.020939774707610645.\n"
     ]
    },
    {
     "name": "stdout",
     "output_type": "stream",
     "text": [
      "PureSVDItemRecommender: URM Detected 483 ( 3.8%) users with no interactions.\n",
      "PureSVDItemRecommender: URM Detected 314 ( 1.4%) items with no interactions.\n",
      "PureSVDItemRecommender: Computing SVD decomposition...\n",
      "PureSVDItemRecommender: Computing SVD decomposition... Done!\n",
      "EvaluatorHoldout: Processed 10092 (100.0%) in 5.31 sec. Users per second: 1901\n"
     ]
    },
    {
     "name": "stderr",
     "output_type": "stream",
     "text": [
      "[I 2023-11-30 15:56:02,675] Trial 20 finished with value: 0.020924592951198195 and parameters: {'num_factors': 117, 'topK': 96}. Best is trial 18 with value: 0.020939774707610645.\n"
     ]
    },
    {
     "name": "stdout",
     "output_type": "stream",
     "text": [
      "PureSVDItemRecommender: URM Detected 483 ( 3.8%) users with no interactions.\n",
      "PureSVDItemRecommender: URM Detected 314 ( 1.4%) items with no interactions.\n",
      "PureSVDItemRecommender: Computing SVD decomposition...\n",
      "PureSVDItemRecommender: Computing SVD decomposition... Done!\n",
      "EvaluatorHoldout: Processed 10092 (100.0%) in 5.35 sec. Users per second: 1885\n"
     ]
    },
    {
     "name": "stderr",
     "output_type": "stream",
     "text": [
      "[I 2023-11-30 15:56:18,650] Trial 21 finished with value: 0.021076764402418385 and parameters: {'num_factors': 119, 'topK': 119}. Best is trial 21 with value: 0.021076764402418385.\n"
     ]
    },
    {
     "name": "stdout",
     "output_type": "stream",
     "text": [
      "PureSVDItemRecommender: URM Detected 483 ( 3.8%) users with no interactions.\n",
      "PureSVDItemRecommender: URM Detected 314 ( 1.4%) items with no interactions.\n",
      "PureSVDItemRecommender: Computing SVD decomposition...\n",
      "PureSVDItemRecommender: Computing SVD decomposition... Done!\n",
      "EvaluatorHoldout: Processed 10092 (100.0%) in 5.58 sec. Users per second: 1809\n"
     ]
    },
    {
     "name": "stderr",
     "output_type": "stream",
     "text": [
      "[I 2023-11-30 15:56:35,687] Trial 22 finished with value: 0.02086627628987914 and parameters: {'num_factors': 110, 'topK': 172}. Best is trial 21 with value: 0.021076764402418385.\n"
     ]
    },
    {
     "name": "stdout",
     "output_type": "stream",
     "text": [
      "PureSVDItemRecommender: URM Detected 483 ( 3.8%) users with no interactions.\n",
      "PureSVDItemRecommender: URM Detected 314 ( 1.4%) items with no interactions.\n",
      "PureSVDItemRecommender: Computing SVD decomposition...\n",
      "PureSVDItemRecommender: Computing SVD decomposition... Done!\n",
      "EvaluatorHoldout: Processed 10092 (100.0%) in 5.28 sec. Users per second: 1912\n"
     ]
    },
    {
     "name": "stderr",
     "output_type": "stream",
     "text": [
      "[I 2023-11-30 15:56:49,178] Trial 23 finished with value: 0.02021425111199189 and parameters: {'num_factors': 60, 'topK': 120}. Best is trial 21 with value: 0.021076764402418385.\n"
     ]
    },
    {
     "name": "stdout",
     "output_type": "stream",
     "text": [
      "PureSVDItemRecommender: URM Detected 483 ( 3.8%) users with no interactions.\n",
      "PureSVDItemRecommender: URM Detected 314 ( 1.4%) items with no interactions.\n",
      "PureSVDItemRecommender: Computing SVD decomposition...\n",
      "PureSVDItemRecommender: Computing SVD decomposition... Done!\n",
      "EvaluatorHoldout: Processed 10092 (100.0%) in 3.24 sec. Users per second: 3114\n"
     ]
    },
    {
     "name": "stderr",
     "output_type": "stream",
     "text": [
      "[I 2023-11-30 15:57:00,701] Trial 24 finished with value: 0.020348142328671447 and parameters: {'num_factors': 120, 'topK': 11}. Best is trial 21 with value: 0.021076764402418385.\n"
     ]
    },
    {
     "name": "stdout",
     "output_type": "stream",
     "text": [
      "PureSVDItemRecommender: URM Detected 483 ( 3.8%) users with no interactions.\n",
      "PureSVDItemRecommender: URM Detected 314 ( 1.4%) items with no interactions.\n",
      "PureSVDItemRecommender: Computing SVD decomposition...\n",
      "PureSVDItemRecommender: Computing SVD decomposition... Done!\n",
      "EvaluatorHoldout: Processed 10092 (100.0%) in 5.34 sec. Users per second: 1890\n"
     ]
    },
    {
     "name": "stderr",
     "output_type": "stream",
     "text": [
      "[I 2023-11-30 15:57:15,316] Trial 25 finished with value: 0.021178518738714937 and parameters: {'num_factors': 112, 'topK': 122}. Best is trial 25 with value: 0.021178518738714937.\n"
     ]
    },
    {
     "name": "stdout",
     "output_type": "stream",
     "text": [
      "PureSVDItemRecommender: URM Detected 483 ( 3.8%) users with no interactions.\n",
      "PureSVDItemRecommender: URM Detected 314 ( 1.4%) items with no interactions.\n",
      "PureSVDItemRecommender: Computing SVD decomposition...\n",
      "PureSVDItemRecommender: Computing SVD decomposition... Done!\n",
      "EvaluatorHoldout: Processed 10092 (100.0%) in 6.19 sec. Users per second: 1630\n"
     ]
    },
    {
     "name": "stderr",
     "output_type": "stream",
     "text": [
      "[I 2023-11-30 15:57:33,444] Trial 26 finished with value: 0.021028403764729572 and parameters: {'num_factors': 108, 'topK': 426}. Best is trial 25 with value: 0.021178518738714937.\n"
     ]
    },
    {
     "name": "stdout",
     "output_type": "stream",
     "text": [
      "PureSVDItemRecommender: URM Detected 483 ( 3.8%) users with no interactions.\n",
      "PureSVDItemRecommender: URM Detected 314 ( 1.4%) items with no interactions.\n",
      "PureSVDItemRecommender: Computing SVD decomposition...\n",
      "PureSVDItemRecommender: Computing SVD decomposition... Done!\n",
      "EvaluatorHoldout: Processed 10092 (100.0%) in 6.14 sec. Users per second: 1643\n"
     ]
    },
    {
     "name": "stderr",
     "output_type": "stream",
     "text": [
      "[I 2023-11-30 15:57:50,706] Trial 27 finished with value: 0.020771524986001794 and parameters: {'num_factors': 101, 'topK': 421}. Best is trial 25 with value: 0.021178518738714937.\n"
     ]
    },
    {
     "name": "stdout",
     "output_type": "stream",
     "text": [
      "PureSVDItemRecommender: URM Detected 483 ( 3.8%) users with no interactions.\n",
      "PureSVDItemRecommender: URM Detected 314 ( 1.4%) items with no interactions.\n",
      "PureSVDItemRecommender: Computing SVD decomposition...\n",
      "PureSVDItemRecommender: Computing SVD decomposition... Done!\n",
      "EvaluatorHoldout: Processed 10092 (100.0%) in 6.73 sec. Users per second: 1499\n"
     ]
    },
    {
     "name": "stderr",
     "output_type": "stream",
     "text": [
      "[I 2023-11-30 15:58:12,224] Trial 28 finished with value: 0.020303057112658795 and parameters: {'num_factors': 84, 'topK': 811}. Best is trial 25 with value: 0.021178518738714937.\n"
     ]
    },
    {
     "name": "stdout",
     "output_type": "stream",
     "text": [
      "PureSVDItemRecommender: URM Detected 483 ( 3.8%) users with no interactions.\n",
      "PureSVDItemRecommender: URM Detected 314 ( 1.4%) items with no interactions.\n",
      "PureSVDItemRecommender: Computing SVD decomposition...\n",
      "PureSVDItemRecommender: Computing SVD decomposition... Done!\n",
      "EvaluatorHoldout: Processed 10092 (100.0%) in 5.95 sec. Users per second: 1696\n"
     ]
    },
    {
     "name": "stderr",
     "output_type": "stream",
     "text": [
      "[I 2023-11-30 15:58:28,294] Trial 29 finished with value: 0.01993644974174105 and parameters: {'num_factors': 41, 'topK': 334}. Best is trial 25 with value: 0.021178518738714937.\n"
     ]
    },
    {
     "name": "stdout",
     "output_type": "stream",
     "text": [
      "PureSVDItemRecommender: URM Detected 483 ( 3.8%) users with no interactions.\n",
      "PureSVDItemRecommender: URM Detected 314 ( 1.4%) items with no interactions.\n",
      "PureSVDItemRecommender: Computing SVD decomposition...\n",
      "PureSVDItemRecommender: Computing SVD decomposition... Done!\n",
      "EvaluatorHoldout: Processed 10092 (100.0%) in 6.26 sec. Users per second: 1611\n"
     ]
    },
    {
     "name": "stderr",
     "output_type": "stream",
     "text": [
      "[I 2023-11-30 15:58:46,623] Trial 30 finished with value: 0.020812552296648613 and parameters: {'num_factors': 113, 'topK': 457}. Best is trial 25 with value: 0.021178518738714937.\n"
     ]
    },
    {
     "name": "stdout",
     "output_type": "stream",
     "text": [
      "PureSVDItemRecommender: URM Detected 483 ( 3.8%) users with no interactions.\n",
      "PureSVDItemRecommender: URM Detected 314 ( 1.4%) items with no interactions.\n",
      "PureSVDItemRecommender: Computing SVD decomposition...\n",
      "PureSVDItemRecommender: Computing SVD decomposition... Done!\n",
      "EvaluatorHoldout: Processed 10092 (100.0%) in 6.58 sec. Users per second: 1534\n"
     ]
    },
    {
     "name": "stderr",
     "output_type": "stream",
     "text": [
      "[I 2023-11-30 15:59:07,112] Trial 31 finished with value: 0.020672287180164704 and parameters: {'num_factors': 97, 'topK': 656}. Best is trial 25 with value: 0.021178518738714937.\n"
     ]
    },
    {
     "name": "stdout",
     "output_type": "stream",
     "text": [
      "PureSVDItemRecommender: URM Detected 483 ( 3.8%) users with no interactions.\n",
      "PureSVDItemRecommender: URM Detected 314 ( 1.4%) items with no interactions.\n",
      "PureSVDItemRecommender: Computing SVD decomposition...\n",
      "PureSVDItemRecommender: Computing SVD decomposition... Done!\n",
      "EvaluatorHoldout: Processed 10092 (100.0%) in 5.67 sec. Users per second: 1781\n"
     ]
    },
    {
     "name": "stderr",
     "output_type": "stream",
     "text": [
      "[I 2023-11-30 15:59:23,116] Trial 32 finished with value: 0.021055114376309445 and parameters: {'num_factors': 120, 'topK': 210}. Best is trial 25 with value: 0.021178518738714937.\n"
     ]
    },
    {
     "name": "stdout",
     "output_type": "stream",
     "text": [
      "PureSVDItemRecommender: URM Detected 483 ( 3.8%) users with no interactions.\n",
      "PureSVDItemRecommender: URM Detected 314 ( 1.4%) items with no interactions.\n",
      "PureSVDItemRecommender: Computing SVD decomposition...\n",
      "PureSVDItemRecommender: Computing SVD decomposition... Done!\n",
      "EvaluatorHoldout: Processed 10092 (100.0%) in 5.70 sec. Users per second: 1770\n"
     ]
    },
    {
     "name": "stderr",
     "output_type": "stream",
     "text": [
      "[I 2023-11-30 15:59:39,230] Trial 33 finished with value: 0.021012195735739127 and parameters: {'num_factors': 119, 'topK': 220}. Best is trial 25 with value: 0.021178518738714937.\n"
     ]
    },
    {
     "name": "stdout",
     "output_type": "stream",
     "text": [
      "PureSVDItemRecommender: URM Detected 483 ( 3.8%) users with no interactions.\n",
      "PureSVDItemRecommender: URM Detected 314 ( 1.4%) items with no interactions.\n",
      "PureSVDItemRecommender: Computing SVD decomposition...\n",
      "PureSVDItemRecommender: Computing SVD decomposition... Done!\n",
      "EvaluatorHoldout: Processed 10092 (100.0%) in 5.98 sec. Users per second: 1687\n"
     ]
    },
    {
     "name": "stderr",
     "output_type": "stream",
     "text": [
      "[I 2023-11-30 15:59:56,325] Trial 34 finished with value: 0.020676875916174387 and parameters: {'num_factors': 107, 'topK': 346}. Best is trial 25 with value: 0.021178518738714937.\n"
     ]
    },
    {
     "name": "stdout",
     "output_type": "stream",
     "text": [
      "PureSVDItemRecommender: URM Detected 483 ( 3.8%) users with no interactions.\n",
      "PureSVDItemRecommender: URM Detected 314 ( 1.4%) items with no interactions.\n",
      "PureSVDItemRecommender: Computing SVD decomposition...\n",
      "PureSVDItemRecommender: Computing SVD decomposition... Done!\n",
      "EvaluatorHoldout: Processed 10092 (100.0%) in 4.96 sec. Users per second: 2037\n"
     ]
    },
    {
     "name": "stderr",
     "output_type": "stream",
     "text": [
      "[I 2023-11-30 16:00:09,527] Trial 35 finished with value: 0.021195926051752433 and parameters: {'num_factors': 115, 'topK': 75}. Best is trial 35 with value: 0.021195926051752433.\n"
     ]
    },
    {
     "name": "stdout",
     "output_type": "stream",
     "text": [
      "PureSVDItemRecommender: URM Detected 483 ( 3.8%) users with no interactions.\n",
      "PureSVDItemRecommender: URM Detected 314 ( 1.4%) items with no interactions.\n",
      "PureSVDItemRecommender: Computing SVD decomposition...\n",
      "PureSVDItemRecommender: Computing SVD decomposition... Done!\n",
      "EvaluatorHoldout: Processed 10092 (100.0%) in 4.92 sec. Users per second: 2049\n"
     ]
    },
    {
     "name": "stderr",
     "output_type": "stream",
     "text": [
      "[I 2023-11-30 16:00:23,493] Trial 36 finished with value: 0.0210523383286463 and parameters: {'num_factors': 120, 'topK': 71}. Best is trial 35 with value: 0.021195926051752433.\n"
     ]
    },
    {
     "name": "stdout",
     "output_type": "stream",
     "text": [
      "PureSVDItemRecommender: URM Detected 483 ( 3.8%) users with no interactions.\n",
      "PureSVDItemRecommender: URM Detected 314 ( 1.4%) items with no interactions.\n",
      "PureSVDItemRecommender: Computing SVD decomposition...\n",
      "PureSVDItemRecommender: Computing SVD decomposition... Done!\n",
      "EvaluatorHoldout: Processed 10092 (100.0%) in 5.56 sec. Users per second: 1814\n"
     ]
    },
    {
     "name": "stderr",
     "output_type": "stream",
     "text": [
      "[I 2023-11-30 16:00:38,762] Trial 37 finished with value: 0.020754290684433362 and parameters: {'num_factors': 114, 'topK': 171}. Best is trial 35 with value: 0.021195926051752433.\n"
     ]
    },
    {
     "name": "stdout",
     "output_type": "stream",
     "text": [
      "PureSVDItemRecommender: URM Detected 483 ( 3.8%) users with no interactions.\n",
      "PureSVDItemRecommender: URM Detected 314 ( 1.4%) items with no interactions.\n",
      "PureSVDItemRecommender: Computing SVD decomposition...\n",
      "PureSVDItemRecommender: Computing SVD decomposition... Done!\n",
      "EvaluatorHoldout: Processed 10092 (100.0%) in 5.32 sec. Users per second: 1896\n"
     ]
    },
    {
     "name": "stderr",
     "output_type": "stream",
     "text": [
      "[I 2023-11-30 16:00:52,856] Trial 38 finished with value: 0.021112424425444684 and parameters: {'num_factors': 92, 'topK': 64}. Best is trial 35 with value: 0.021195926051752433.\n"
     ]
    },
    {
     "name": "stdout",
     "output_type": "stream",
     "text": [
      "PureSVDItemRecommender: URM Detected 483 ( 3.8%) users with no interactions.\n",
      "PureSVDItemRecommender: URM Detected 314 ( 1.4%) items with no interactions.\n",
      "PureSVDItemRecommender: Computing SVD decomposition...\n",
      "PureSVDItemRecommender: Computing SVD decomposition... Done!\n",
      "EvaluatorHoldout: Processed 10092 (100.0%) in 4.87 sec. Users per second: 2074\n"
     ]
    },
    {
     "name": "stderr",
     "output_type": "stream",
     "text": [
      "[I 2023-11-30 16:01:08,457] Trial 39 finished with value: 0.02096630837564256 and parameters: {'num_factors': 92, 'topK': 61}. Best is trial 35 with value: 0.021195926051752433.\n"
     ]
    },
    {
     "name": "stdout",
     "output_type": "stream",
     "text": [
      "PureSVDItemRecommender: URM Detected 483 ( 3.8%) users with no interactions.\n",
      "PureSVDItemRecommender: URM Detected 314 ( 1.4%) items with no interactions.\n",
      "PureSVDItemRecommender: Computing SVD decomposition...\n",
      "PureSVDItemRecommender: Computing SVD decomposition... Done!\n",
      "EvaluatorHoldout: Processed 10092 (100.0%) in 3.10 sec. Users per second: 3259\n"
     ]
    },
    {
     "name": "stderr",
     "output_type": "stream",
     "text": [
      "[I 2023-11-30 16:01:18,868] Trial 40 finished with value: 0.020280966693719413 and parameters: {'num_factors': 95, 'topK': 9}. Best is trial 35 with value: 0.021195926051752433.\n"
     ]
    },
    {
     "name": "stdout",
     "output_type": "stream",
     "text": [
      "PureSVDItemRecommender: URM Detected 483 ( 3.8%) users with no interactions.\n",
      "PureSVDItemRecommender: URM Detected 314 ( 1.4%) items with no interactions.\n",
      "PureSVDItemRecommender: Computing SVD decomposition...\n",
      "PureSVDItemRecommender: Computing SVD decomposition... Done!\n",
      "EvaluatorHoldout: Processed 10092 (100.0%) in 5.24 sec. Users per second: 1926\n"
     ]
    },
    {
     "name": "stderr",
     "output_type": "stream",
     "text": [
      "[I 2023-11-30 16:01:31,185] Trial 41 finished with value: 0.01855285343097467 and parameters: {'num_factors': 21, 'topK': 130}. Best is trial 35 with value: 0.021195926051752433.\n"
     ]
    },
    {
     "name": "stdout",
     "output_type": "stream",
     "text": [
      "PureSVDItemRecommender: URM Detected 483 ( 3.8%) users with no interactions.\n",
      "PureSVDItemRecommender: URM Detected 314 ( 1.4%) items with no interactions.\n",
      "PureSVDItemRecommender: Computing SVD decomposition...\n",
      "PureSVDItemRecommender: Computing SVD decomposition... Done!\n",
      "EvaluatorHoldout: Processed 10092 (100.0%) in 4.95 sec. Users per second: 2038\n"
     ]
    },
    {
     "name": "stderr",
     "output_type": "stream",
     "text": [
      "[I 2023-11-30 16:01:44,343] Trial 42 finished with value: 0.020994996822880342 and parameters: {'num_factors': 102, 'topK': 76}. Best is trial 35 with value: 0.021195926051752433.\n"
     ]
    },
    {
     "name": "stdout",
     "output_type": "stream",
     "text": [
      "PureSVDItemRecommender: URM Detected 483 ( 3.8%) users with no interactions.\n",
      "PureSVDItemRecommender: URM Detected 314 ( 1.4%) items with no interactions.\n",
      "PureSVDItemRecommender: Computing SVD decomposition...\n",
      "PureSVDItemRecommender: Computing SVD decomposition... Done!\n",
      "EvaluatorHoldout: Processed 10092 (100.0%) in 5.64 sec. Users per second: 1789\n"
     ]
    },
    {
     "name": "stderr",
     "output_type": "stream",
     "text": [
      "[I 2023-11-30 16:01:59,275] Trial 43 finished with value: 0.020742978093602378 and parameters: {'num_factors': 91, 'topK': 198}. Best is trial 35 with value: 0.021195926051752433.\n"
     ]
    },
    {
     "name": "stdout",
     "output_type": "stream",
     "text": [
      "PureSVDItemRecommender: URM Detected 483 ( 3.8%) users with no interactions.\n",
      "PureSVDItemRecommender: URM Detected 314 ( 1.4%) items with no interactions.\n",
      "PureSVDItemRecommender: Computing SVD decomposition...\n",
      "PureSVDItemRecommender: Computing SVD decomposition... Done!\n",
      "EvaluatorHoldout: Processed 10092 (100.0%) in 5.82 sec. Users per second: 1733\n"
     ]
    },
    {
     "name": "stderr",
     "output_type": "stream",
     "text": [
      "[I 2023-11-30 16:02:14,945] Trial 44 finished with value: 0.020769228651957544 and parameters: {'num_factors': 114, 'topK': 241}. Best is trial 35 with value: 0.021195926051752433.\n"
     ]
    },
    {
     "name": "stdout",
     "output_type": "stream",
     "text": [
      "PureSVDItemRecommender: URM Detected 483 ( 3.8%) users with no interactions.\n",
      "PureSVDItemRecommender: URM Detected 314 ( 1.4%) items with no interactions.\n",
      "PureSVDItemRecommender: Computing SVD decomposition...\n",
      "PureSVDItemRecommender: Computing SVD decomposition... Done!\n",
      "EvaluatorHoldout: Processed 10092 (100.0%) in 5.35 sec. Users per second: 1888\n"
     ]
    },
    {
     "name": "stderr",
     "output_type": "stream",
     "text": [
      "[I 2023-11-30 16:02:28,697] Trial 45 finished with value: 0.021082064844698673 and parameters: {'num_factors': 105, 'topK': 127}. Best is trial 35 with value: 0.021195926051752433.\n"
     ]
    },
    {
     "name": "stdout",
     "output_type": "stream",
     "text": [
      "PureSVDItemRecommender: URM Detected 483 ( 3.8%) users with no interactions.\n",
      "PureSVDItemRecommender: URM Detected 314 ( 1.4%) items with no interactions.\n",
      "PureSVDItemRecommender: Computing SVD decomposition...\n",
      "PureSVDItemRecommender: Computing SVD decomposition... Done!\n",
      "EvaluatorHoldout: Processed 10092 (100.0%) in 4.62 sec. Users per second: 2183\n"
     ]
    },
    {
     "name": "stderr",
     "output_type": "stream",
     "text": [
      "[I 2023-11-30 16:02:41,351] Trial 46 finished with value: 0.02122139019433907 and parameters: {'num_factors': 104, 'topK': 46}. Best is trial 46 with value: 0.02122139019433907.\n"
     ]
    },
    {
     "name": "stdout",
     "output_type": "stream",
     "text": [
      "PureSVDItemRecommender: URM Detected 483 ( 3.8%) users with no interactions.\n",
      "PureSVDItemRecommender: URM Detected 314 ( 1.4%) items with no interactions.\n",
      "PureSVDItemRecommender: Computing SVD decomposition...\n",
      "PureSVDItemRecommender: Computing SVD decomposition... Done!\n",
      "EvaluatorHoldout: Processed 10092 (100.0%) in 4.45 sec. Users per second: 2266\n"
     ]
    },
    {
     "name": "stderr",
     "output_type": "stream",
     "text": [
      "[I 2023-11-30 16:02:53,446] Trial 47 finished with value: 0.021260451465564455 and parameters: {'num_factors': 104, 'topK': 39}. Best is trial 47 with value: 0.021260451465564455.\n"
     ]
    },
    {
     "name": "stdout",
     "output_type": "stream",
     "text": [
      "PureSVDItemRecommender: URM Detected 483 ( 3.8%) users with no interactions.\n",
      "PureSVDItemRecommender: URM Detected 314 ( 1.4%) items with no interactions.\n",
      "PureSVDItemRecommender: Computing SVD decomposition...\n",
      "PureSVDItemRecommender: Computing SVD decomposition... Done!\n",
      "EvaluatorHoldout: Processed 10092 (100.0%) in 4.64 sec. Users per second: 2173\n"
     ]
    },
    {
     "name": "stderr",
     "output_type": "stream",
     "text": [
      "[I 2023-11-30 16:03:06,062] Trial 48 finished with value: 0.021140751121428908 and parameters: {'num_factors': 98, 'topK': 50}. Best is trial 47 with value: 0.021260451465564455.\n"
     ]
    },
    {
     "name": "stdout",
     "output_type": "stream",
     "text": [
      "PureSVDItemRecommender: URM Detected 483 ( 3.8%) users with no interactions.\n",
      "PureSVDItemRecommender: URM Detected 314 ( 1.4%) items with no interactions.\n",
      "PureSVDItemRecommender: Computing SVD decomposition...\n",
      "PureSVDItemRecommender: Computing SVD decomposition... Done!\n",
      "EvaluatorHoldout: Processed 10092 (100.0%) in 4.54 sec. Users per second: 2222\n"
     ]
    },
    {
     "name": "stderr",
     "output_type": "stream",
     "text": [
      "[I 2023-11-30 16:03:18,290] Trial 49 finished with value: 0.02082545737941097 and parameters: {'num_factors': 82, 'topK': 43}. Best is trial 47 with value: 0.021260451465564455.\n"
     ]
    },
    {
     "name": "stdout",
     "output_type": "stream",
     "text": [
      "PureSVDItemRecommender: URM Detected 483 ( 3.8%) users with no interactions.\n",
      "PureSVDItemRecommender: URM Detected 314 ( 1.4%) items with no interactions.\n",
      "PureSVDItemRecommender: Computing SVD decomposition...\n",
      "PureSVDItemRecommender: Computing SVD decomposition... Done!\n",
      "EvaluatorHoldout: Processed 10092 (100.0%) in 4.50 sec. Users per second: 2243\n"
     ]
    },
    {
     "name": "stderr",
     "output_type": "stream",
     "text": [
      "[I 2023-11-30 16:03:30,163] Trial 50 finished with value: 0.020853807667868252 and parameters: {'num_factors': 100, 'topK': 40}. Best is trial 47 with value: 0.021260451465564455.\n"
     ]
    },
    {
     "name": "stdout",
     "output_type": "stream",
     "text": [
      "PureSVDItemRecommender: URM Detected 483 ( 3.8%) users with no interactions.\n",
      "PureSVDItemRecommender: URM Detected 314 ( 1.4%) items with no interactions.\n",
      "PureSVDItemRecommender: Computing SVD decomposition...\n",
      "PureSVDItemRecommender: Computing SVD decomposition... Done!\n",
      "EvaluatorHoldout: Processed 10092 (100.0%) in 5.55 sec. Users per second: 1818\n"
     ]
    },
    {
     "name": "stderr",
     "output_type": "stream",
     "text": [
      "[I 2023-11-30 16:03:44,221] Trial 51 finished with value: 0.02103985791039894 and parameters: {'num_factors': 111, 'topK': 163}. Best is trial 47 with value: 0.021260451465564455.\n"
     ]
    },
    {
     "name": "stdout",
     "output_type": "stream",
     "text": [
      "PureSVDItemRecommender: URM Detected 483 ( 3.8%) users with no interactions.\n",
      "PureSVDItemRecommender: URM Detected 314 ( 1.4%) items with no interactions.\n",
      "PureSVDItemRecommender: Computing SVD decomposition...\n",
      "PureSVDItemRecommender: Computing SVD decomposition... Done!\n",
      "EvaluatorHoldout: Processed 10092 (100.0%) in 2.71 sec. Users per second: 3720\n"
     ]
    },
    {
     "name": "stderr",
     "output_type": "stream",
     "text": [
      "[I 2023-11-30 16:03:53,527] Trial 52 finished with value: 0.018725860967983402 and parameters: {'num_factors': 69, 'topK': 5}. Best is trial 47 with value: 0.021260451465564455.\n"
     ]
    },
    {
     "name": "stdout",
     "output_type": "stream",
     "text": [
      "PureSVDItemRecommender: URM Detected 483 ( 3.8%) users with no interactions.\n",
      "PureSVDItemRecommender: URM Detected 314 ( 1.4%) items with no interactions.\n",
      "PureSVDItemRecommender: Computing SVD decomposition...\n",
      "PureSVDItemRecommender: Computing SVD decomposition... Done!\n",
      "EvaluatorHoldout: Processed 10092 (100.0%) in 6.92 sec. Users per second: 1458\n"
     ]
    },
    {
     "name": "stderr",
     "output_type": "stream",
     "text": [
      "[I 2023-11-30 16:04:16,365] Trial 53 finished with value: 0.020260433378001715 and parameters: {'num_factors': 105, 'topK': 988}. Best is trial 47 with value: 0.021260451465564455.\n"
     ]
    },
    {
     "name": "stdout",
     "output_type": "stream",
     "text": [
      "PureSVDItemRecommender: URM Detected 483 ( 3.8%) users with no interactions.\n",
      "PureSVDItemRecommender: URM Detected 314 ( 1.4%) items with no interactions.\n",
      "PureSVDItemRecommender: Computing SVD decomposition...\n",
      "PureSVDItemRecommender: Computing SVD decomposition... Done!\n",
      "EvaluatorHoldout: Processed 10092 (100.0%) in 5.17 sec. Users per second: 1951\n"
     ]
    },
    {
     "name": "stderr",
     "output_type": "stream",
     "text": [
      "[I 2023-11-30 16:04:30,125] Trial 54 finished with value: 0.02103340536901779 and parameters: {'num_factors': 89, 'topK': 93}. Best is trial 47 with value: 0.021260451465564455.\n"
     ]
    },
    {
     "name": "stdout",
     "output_type": "stream",
     "text": [
      "PureSVDItemRecommender: URM Detected 483 ( 3.8%) users with no interactions.\n",
      "PureSVDItemRecommender: URM Detected 314 ( 1.4%) items with no interactions.\n",
      "PureSVDItemRecommender: Computing SVD decomposition...\n",
      "PureSVDItemRecommender: Computing SVD decomposition... Done!\n",
      "EvaluatorHoldout: Processed 10092 (100.0%) in 4.78 sec. Users per second: 2112\n"
     ]
    },
    {
     "name": "stderr",
     "output_type": "stream",
     "text": [
      "[I 2023-11-30 16:04:42,990] Trial 55 finished with value: 0.021106188148399867 and parameters: {'num_factors': 97, 'topK': 55}. Best is trial 47 with value: 0.021260451465564455.\n"
     ]
    },
    {
     "name": "stdout",
     "output_type": "stream",
     "text": [
      "PureSVDItemRecommender: URM Detected 483 ( 3.8%) users with no interactions.\n",
      "PureSVDItemRecommender: URM Detected 314 ( 1.4%) items with no interactions.\n",
      "PureSVDItemRecommender: Computing SVD decomposition...\n",
      "PureSVDItemRecommender: Computing SVD decomposition... Done!\n",
      "EvaluatorHoldout: Processed 10092 (100.0%) in 5.23 sec. Users per second: 1931\n"
     ]
    },
    {
     "name": "stderr",
     "output_type": "stream",
     "text": [
      "[I 2023-11-30 16:04:56,665] Trial 56 finished with value: 0.020964629377976565 and parameters: {'num_factors': 93, 'topK': 98}. Best is trial 47 with value: 0.021260451465564455.\n"
     ]
    },
    {
     "name": "stdout",
     "output_type": "stream",
     "text": [
      "PureSVDItemRecommender: URM Detected 483 ( 3.8%) users with no interactions.\n",
      "PureSVDItemRecommender: URM Detected 314 ( 1.4%) items with no interactions.\n",
      "PureSVDItemRecommender: Computing SVD decomposition...\n",
      "PureSVDItemRecommender: Computing SVD decomposition... Done!\n",
      "EvaluatorHoldout: Processed 10092 (100.0%) in 5.48 sec. Users per second: 1841\n"
     ]
    },
    {
     "name": "stderr",
     "output_type": "stream",
     "text": [
      "[I 2023-11-30 16:05:11,297] Trial 57 finished with value: 0.020856642696714126 and parameters: {'num_factors': 102, 'topK': 152}. Best is trial 47 with value: 0.021260451465564455.\n"
     ]
    },
    {
     "name": "stdout",
     "output_type": "stream",
     "text": [
      "PureSVDItemRecommender: URM Detected 483 ( 3.8%) users with no interactions.\n",
      "PureSVDItemRecommender: URM Detected 314 ( 1.4%) items with no interactions.\n",
      "PureSVDItemRecommender: Computing SVD decomposition...\n",
      "PureSVDItemRecommender: Computing SVD decomposition... Done!\n",
      "EvaluatorHoldout: Processed 10092 (100.0%) in 5.87 sec. Users per second: 1720\n"
     ]
    },
    {
     "name": "stderr",
     "output_type": "stream",
     "text": [
      "[I 2023-11-30 16:05:27,728] Trial 58 finished with value: 0.020806025045769377 and parameters: {'num_factors': 108, 'topK': 275}. Best is trial 47 with value: 0.021260451465564455.\n"
     ]
    },
    {
     "name": "stdout",
     "output_type": "stream",
     "text": [
      "PureSVDItemRecommender: URM Detected 483 ( 3.8%) users with no interactions.\n",
      "PureSVDItemRecommender: URM Detected 314 ( 1.4%) items with no interactions.\n",
      "PureSVDItemRecommender: Computing SVD decomposition...\n",
      "PureSVDItemRecommender: Computing SVD decomposition... Done!\n",
      "EvaluatorHoldout: Processed 10092 (100.0%) in 5.18 sec. Users per second: 1948\n"
     ]
    },
    {
     "name": "stderr",
     "output_type": "stream",
     "text": [
      "[I 2023-11-30 16:05:40,803] Trial 59 finished with value: 0.02041486970663546 and parameters: {'num_factors': 74, 'topK': 97}. Best is trial 47 with value: 0.021260451465564455.\n"
     ]
    },
    {
     "name": "stdout",
     "output_type": "stream",
     "text": [
      "PureSVDItemRecommender: URM Detected 483 ( 3.8%) users with no interactions.\n",
      "PureSVDItemRecommender: URM Detected 314 ( 1.4%) items with no interactions.\n",
      "PureSVDItemRecommender: Computing SVD decomposition...\n",
      "PureSVDItemRecommender: Computing SVD decomposition... Done!\n",
      "EvaluatorHoldout: Processed 10092 (100.0%) in 4.36 sec. Users per second: 2313\n"
     ]
    },
    {
     "name": "stderr",
     "output_type": "stream",
     "text": [
      "[I 2023-11-30 16:05:52,891] Trial 60 finished with value: 0.02079717000421517 and parameters: {'num_factors': 115, 'topK': 36}. Best is trial 47 with value: 0.021260451465564455.\n"
     ]
    },
    {
     "name": "stdout",
     "output_type": "stream",
     "text": [
      "PureSVDItemRecommender: URM Detected 483 ( 3.8%) users with no interactions.\n",
      "PureSVDItemRecommender: URM Detected 314 ( 1.4%) items with no interactions.\n",
      "PureSVDItemRecommender: Computing SVD decomposition...\n",
      "PureSVDItemRecommender: Computing SVD decomposition... Done!\n",
      "EvaluatorHoldout: Processed 10092 (100.0%) in 6.45 sec. Users per second: 1564\n"
     ]
    },
    {
     "name": "stderr",
     "output_type": "stream",
     "text": [
      "[I 2023-11-30 16:06:10,770] Trial 61 finished with value: 0.02038399502356101 and parameters: {'num_factors': 85, 'topK': 524}. Best is trial 47 with value: 0.021260451465564455.\n"
     ]
    },
    {
     "name": "stdout",
     "output_type": "stream",
     "text": [
      "PureSVDItemRecommender: URM Detected 483 ( 3.8%) users with no interactions.\n",
      "PureSVDItemRecommender: URM Detected 314 ( 1.4%) items with no interactions.\n",
      "PureSVDItemRecommender: Computing SVD decomposition...\n",
      "PureSVDItemRecommender: Computing SVD decomposition... Done!\n",
      "EvaluatorHoldout: Processed 10092 (100.0%) in 18.92 sec. Users per second: 533\n"
     ]
    },
    {
     "name": "stderr",
     "output_type": "stream",
     "text": [
      "[I 2023-11-30 16:10:28,295] Trial 62 finished with value: 0.02089025803874197 and parameters: {'num_factors': 104, 'topK': 186}. Best is trial 47 with value: 0.021260451465564455.\n"
     ]
    },
    {
     "name": "stdout",
     "output_type": "stream",
     "text": [
      "PureSVDItemRecommender: URM Detected 483 ( 3.8%) users with no interactions.\n",
      "PureSVDItemRecommender: URM Detected 314 ( 1.4%) items with no interactions.\n",
      "PureSVDItemRecommender: Computing SVD decomposition...\n",
      "PureSVDItemRecommender: Computing SVD decomposition... Done!\n",
      "EvaluatorHoldout: Processed 10092 (100.0%) in 5.35 sec. Users per second: 1885\n"
     ]
    },
    {
     "name": "stderr",
     "output_type": "stream",
     "text": [
      "[I 2023-11-30 16:10:44,661] Trial 63 finished with value: 0.021015750335013125 and parameters: {'num_factors': 110, 'topK': 126}. Best is trial 47 with value: 0.021260451465564455.\n"
     ]
    },
    {
     "name": "stdout",
     "output_type": "stream",
     "text": [
      "PureSVDItemRecommender: URM Detected 483 ( 3.8%) users with no interactions.\n",
      "PureSVDItemRecommender: URM Detected 314 ( 1.4%) items with no interactions.\n",
      "PureSVDItemRecommender: Computing SVD decomposition...\n",
      "PureSVDItemRecommender: Computing SVD decomposition... Done!\n",
      "EvaluatorHoldout: Processed 1000 ( 9.9%) in 5.44 min. Users per second: 3\n",
      "EvaluatorHoldout: Processed 10092 (100.0%) in 5.51 min. Users per second: 31\n"
     ]
    },
    {
     "name": "stderr",
     "output_type": "stream",
     "text": [
      "[I 2023-11-30 16:16:23,188] Trial 64 finished with value: 0.02125289794210718 and parameters: {'num_factors': 97, 'topK': 61}. Best is trial 47 with value: 0.021260451465564455.\n"
     ]
    },
    {
     "name": "stdout",
     "output_type": "stream",
     "text": [
      "PureSVDItemRecommender: URM Detected 483 ( 3.8%) users with no interactions.\n",
      "PureSVDItemRecommender: URM Detected 314 ( 1.4%) items with no interactions.\n",
      "PureSVDItemRecommender: Computing SVD decomposition...\n",
      "PureSVDItemRecommender: Computing SVD decomposition... Done!\n",
      "EvaluatorHoldout: Processed 10092 (100.0%) in 5.08 sec. Users per second: 1987\n"
     ]
    },
    {
     "name": "stderr",
     "output_type": "stream",
     "text": [
      "[I 2023-11-30 16:16:38,842] Trial 65 finished with value: 0.021202771801017945 and parameters: {'num_factors': 98, 'topK': 64}. Best is trial 47 with value: 0.021260451465564455.\n"
     ]
    },
    {
     "name": "stdout",
     "output_type": "stream",
     "text": [
      "PureSVDItemRecommender: URM Detected 483 ( 3.8%) users with no interactions.\n",
      "PureSVDItemRecommender: URM Detected 314 ( 1.4%) items with no interactions.\n",
      "PureSVDItemRecommender: Computing SVD decomposition...\n",
      "PureSVDItemRecommender: Computing SVD decomposition... Done!\n",
      "EvaluatorHoldout: Processed 10092 (100.0%) in 4.24 sec. Users per second: 2383\n"
     ]
    },
    {
     "name": "stderr",
     "output_type": "stream",
     "text": [
      "[I 2023-11-30 16:16:50,819] Trial 66 finished with value: 0.021162330370118776 and parameters: {'num_factors': 99, 'topK': 30}. Best is trial 47 with value: 0.021260451465564455.\n"
     ]
    },
    {
     "name": "stdout",
     "output_type": "stream",
     "text": [
      "PureSVDItemRecommender: URM Detected 483 ( 3.8%) users with no interactions.\n",
      "PureSVDItemRecommender: URM Detected 314 ( 1.4%) items with no interactions.\n",
      "PureSVDItemRecommender: Computing SVD decomposition...\n",
      "PureSVDItemRecommender: Computing SVD decomposition... Done!\n",
      "EvaluatorHoldout: Processed 10092 (100.0%) in 2.93 sec. Users per second: 3439\n"
     ]
    },
    {
     "name": "stderr",
     "output_type": "stream",
     "text": [
      "[I 2023-11-30 16:17:01,124] Trial 67 finished with value: 0.02005348806849999 and parameters: {'num_factors': 100, 'topK': 6}. Best is trial 47 with value: 0.021260451465564455.\n"
     ]
    },
    {
     "name": "stdout",
     "output_type": "stream",
     "text": [
      "PureSVDItemRecommender: URM Detected 483 ( 3.8%) users with no interactions.\n",
      "PureSVDItemRecommender: URM Detected 314 ( 1.4%) items with no interactions.\n",
      "PureSVDItemRecommender: Computing SVD decomposition...\n",
      "PureSVDItemRecommender: Computing SVD decomposition... Done!\n",
      "EvaluatorHoldout: Processed 10092 (100.0%) in 5.19 sec. Users per second: 1946\n"
     ]
    },
    {
     "name": "stderr",
     "output_type": "stream",
     "text": [
      "[I 2023-11-30 16:17:14,369] Trial 68 finished with value: 0.02021763269979679 and parameters: {'num_factors': 48, 'topK': 102}. Best is trial 47 with value: 0.021260451465564455.\n"
     ]
    },
    {
     "name": "stdout",
     "output_type": "stream",
     "text": [
      "PureSVDItemRecommender: URM Detected 483 ( 3.8%) users with no interactions.\n",
      "PureSVDItemRecommender: URM Detected 314 ( 1.4%) items with no interactions.\n",
      "PureSVDItemRecommender: Computing SVD decomposition...\n",
      "PureSVDItemRecommender: Computing SVD decomposition... Done!\n",
      "EvaluatorHoldout: Processed 10092 (100.0%) in 5.06 sec. Users per second: 1994\n"
     ]
    },
    {
     "name": "stderr",
     "output_type": "stream",
     "text": [
      "[I 2023-11-30 16:17:28,014] Trial 69 finished with value: 0.020971231338353845 and parameters: {'num_factors': 110, 'topK': 81}. Best is trial 47 with value: 0.021260451465564455.\n"
     ]
    },
    {
     "name": "stdout",
     "output_type": "stream",
     "text": [
      "PureSVDItemRecommender: URM Detected 483 ( 3.8%) users with no interactions.\n",
      "PureSVDItemRecommender: URM Detected 314 ( 1.4%) items with no interactions.\n",
      "PureSVDItemRecommender: Computing SVD decomposition...\n",
      "PureSVDItemRecommender: Computing SVD decomposition... Done!\n",
      "EvaluatorHoldout: Processed 10092 (100.0%) in 5.52 sec. Users per second: 1827\n"
     ]
    },
    {
     "name": "stderr",
     "output_type": "stream",
     "text": [
      "[I 2023-11-30 16:17:42,502] Trial 70 finished with value: 0.020687669472598154 and parameters: {'num_factors': 106, 'topK': 156}. Best is trial 47 with value: 0.021260451465564455.\n"
     ]
    },
    {
     "name": "stdout",
     "output_type": "stream",
     "text": [
      "PureSVDItemRecommender: URM Detected 483 ( 3.8%) users with no interactions.\n",
      "PureSVDItemRecommender: URM Detected 314 ( 1.4%) items with no interactions.\n",
      "PureSVDItemRecommender: Computing SVD decomposition...\n",
      "PureSVDItemRecommender: Computing SVD decomposition... Done!\n",
      "EvaluatorHoldout: Processed 10092 (100.0%) in 4.35 sec. Users per second: 2319\n"
     ]
    },
    {
     "name": "stderr",
     "output_type": "stream",
     "text": [
      "[I 2023-11-30 16:17:55,095] Trial 71 finished with value: 0.020699206191923225 and parameters: {'num_factors': 80, 'topK': 33}. Best is trial 47 with value: 0.021260451465564455.\n"
     ]
    },
    {
     "name": "stdout",
     "output_type": "stream",
     "text": [
      "PureSVDItemRecommender: URM Detected 483 ( 3.8%) users with no interactions.\n",
      "PureSVDItemRecommender: URM Detected 314 ( 1.4%) items with no interactions.\n",
      "PureSVDItemRecommender: Computing SVD decomposition...\n",
      "PureSVDItemRecommender: Computing SVD decomposition... Done!\n",
      "EvaluatorHoldout: Processed 10092 (100.0%) in 6.01 sec. Users per second: 1679\n"
     ]
    },
    {
     "name": "stderr",
     "output_type": "stream",
     "text": [
      "[I 2023-11-30 16:18:11,744] Trial 72 finished with value: 0.020745514284456104 and parameters: {'num_factors': 95, 'topK': 316}. Best is trial 47 with value: 0.021260451465564455.\n"
     ]
    },
    {
     "name": "stdout",
     "output_type": "stream",
     "text": [
      "PureSVDItemRecommender: URM Detected 483 ( 3.8%) users with no interactions.\n",
      "PureSVDItemRecommender: URM Detected 314 ( 1.4%) items with no interactions.\n",
      "PureSVDItemRecommender: Computing SVD decomposition...\n",
      "PureSVDItemRecommender: Computing SVD decomposition... Done!\n",
      "EvaluatorHoldout: Processed 10092 (100.0%) in 5.79 sec. Users per second: 1743\n"
     ]
    },
    {
     "name": "stderr",
     "output_type": "stream",
     "text": [
      "[I 2023-11-30 16:18:27,493] Trial 73 finished with value: 0.020713589736330536 and parameters: {'num_factors': 115, 'topK': 241}. Best is trial 47 with value: 0.021260451465564455.\n"
     ]
    },
    {
     "name": "stdout",
     "output_type": "stream",
     "text": [
      "PureSVDItemRecommender: URM Detected 483 ( 3.8%) users with no interactions.\n",
      "PureSVDItemRecommender: URM Detected 314 ( 1.4%) items with no interactions.\n",
      "PureSVDItemRecommender: Computing SVD decomposition...\n",
      "PureSVDItemRecommender: Computing SVD decomposition... Done!\n",
      "EvaluatorHoldout: Processed 10092 (100.0%) in 4.58 sec. Users per second: 2202\n"
     ]
    },
    {
     "name": "stderr",
     "output_type": "stream",
     "text": [
      "[I 2023-11-30 16:18:39,830] Trial 74 finished with value: 0.021003317101711903 and parameters: {'num_factors': 98, 'topK': 43}. Best is trial 47 with value: 0.021260451465564455.\n"
     ]
    },
    {
     "name": "stdout",
     "output_type": "stream",
     "text": [
      "PureSVDItemRecommender: URM Detected 483 ( 3.8%) users with no interactions.\n",
      "PureSVDItemRecommender: URM Detected 314 ( 1.4%) items with no interactions.\n",
      "PureSVDItemRecommender: Computing SVD decomposition...\n",
      "PureSVDItemRecommender: Computing SVD decomposition... Done!\n",
      "EvaluatorHoldout: Processed 10092 (100.0%) in 5.02 sec. Users per second: 2009\n"
     ]
    },
    {
     "name": "stderr",
     "output_type": "stream",
     "text": [
      "[I 2023-11-30 16:18:52,680] Trial 75 finished with value: 0.020758466552164585 and parameters: {'num_factors': 88, 'topK': 75}. Best is trial 47 with value: 0.021260451465564455.\n"
     ]
    },
    {
     "name": "stdout",
     "output_type": "stream",
     "text": [
      "PureSVDItemRecommender: URM Detected 483 ( 3.8%) users with no interactions.\n",
      "PureSVDItemRecommender: URM Detected 314 ( 1.4%) items with no interactions.\n",
      "PureSVDItemRecommender: Computing SVD decomposition...\n",
      "PureSVDItemRecommender: Computing SVD decomposition... Done!\n",
      "EvaluatorHoldout: Processed 10092 (100.0%) in 5.29 sec. Users per second: 1907\n"
     ]
    },
    {
     "name": "stderr",
     "output_type": "stream",
     "text": [
      "[I 2023-11-30 16:19:06,512] Trial 76 finished with value: 0.02104479266934674 and parameters: {'num_factors': 117, 'topK': 118}. Best is trial 47 with value: 0.021260451465564455.\n"
     ]
    },
    {
     "name": "stdout",
     "output_type": "stream",
     "text": [
      "PureSVDItemRecommender: URM Detected 483 ( 3.8%) users with no interactions.\n",
      "PureSVDItemRecommender: URM Detected 314 ( 1.4%) items with no interactions.\n",
      "PureSVDItemRecommender: Computing SVD decomposition...\n",
      "PureSVDItemRecommender: Computing SVD decomposition... Done!\n",
      "EvaluatorHoldout: Processed 10092 (100.0%) in 4.29 sec. Users per second: 2352\n"
     ]
    },
    {
     "name": "stderr",
     "output_type": "stream",
     "text": [
      "[I 2023-11-30 16:19:18,290] Trial 77 finished with value: 0.021105551151627214 and parameters: {'num_factors': 102, 'topK': 34}. Best is trial 47 with value: 0.021260451465564455.\n"
     ]
    },
    {
     "name": "stdout",
     "output_type": "stream",
     "text": [
      "PureSVDItemRecommender: URM Detected 483 ( 3.8%) users with no interactions.\n",
      "PureSVDItemRecommender: URM Detected 314 ( 1.4%) items with no interactions.\n",
      "PureSVDItemRecommender: Computing SVD decomposition...\n",
      "PureSVDItemRecommender: Computing SVD decomposition... Done!\n",
      "EvaluatorHoldout: Processed 10092 (100.0%) in 5.46 sec. Users per second: 1850\n"
     ]
    },
    {
     "name": "stderr",
     "output_type": "stream",
     "text": [
      "[I 2023-11-30 16:19:32,233] Trial 78 finished with value: 0.020806190193080835 and parameters: {'num_factors': 99, 'topK': 145}. Best is trial 47 with value: 0.021260451465564455.\n"
     ]
    },
    {
     "name": "stdout",
     "output_type": "stream",
     "text": [
      "PureSVDItemRecommender: URM Detected 483 ( 3.8%) users with no interactions.\n",
      "PureSVDItemRecommender: URM Detected 314 ( 1.4%) items with no interactions.\n",
      "PureSVDItemRecommender: Computing SVD decomposition...\n",
      "PureSVDItemRecommender: Computing SVD decomposition... Done!\n",
      "EvaluatorHoldout: Processed 10092 (100.0%) in 6.51 sec. Users per second: 1551\n"
     ]
    },
    {
     "name": "stderr",
     "output_type": "stream",
     "text": [
      "[I 2023-11-30 16:19:51,843] Trial 79 finished with value: 0.0208461086574939 and parameters: {'num_factors': 112, 'topK': 624}. Best is trial 47 with value: 0.021260451465564455.\n"
     ]
    },
    {
     "name": "stdout",
     "output_type": "stream",
     "text": [
      "PureSVDItemRecommender: URM Detected 483 ( 3.8%) users with no interactions.\n",
      "PureSVDItemRecommender: URM Detected 314 ( 1.4%) items with no interactions.\n",
      "PureSVDItemRecommender: Computing SVD decomposition...\n",
      "PureSVDItemRecommender: Computing SVD decomposition... Done!\n",
      "EvaluatorHoldout: Processed 10092 (100.0%) in 4.91 sec. Users per second: 2054\n"
     ]
    },
    {
     "name": "stderr",
     "output_type": "stream",
     "text": [
      "[I 2023-11-30 16:20:05,465] Trial 80 finished with value: 0.020963056546439464 and parameters: {'num_factors': 107, 'topK': 65}. Best is trial 47 with value: 0.021260451465564455.\n"
     ]
    },
    {
     "name": "stdout",
     "output_type": "stream",
     "text": [
      "PureSVDItemRecommender: URM Detected 483 ( 3.8%) users with no interactions.\n",
      "PureSVDItemRecommender: URM Detected 314 ( 1.4%) items with no interactions.\n",
      "PureSVDItemRecommender: Computing SVD decomposition...\n",
      "PureSVDItemRecommender: Computing SVD decomposition... Done!\n",
      "EvaluatorHoldout: Processed 10092 (100.0%) in 5.67 sec. Users per second: 1779\n"
     ]
    },
    {
     "name": "stderr",
     "output_type": "stream",
     "text": [
      "[I 2023-11-30 16:20:21,035] Trial 81 finished with value: 0.02095467728642525 and parameters: {'num_factors': 104, 'topK': 196}. Best is trial 47 with value: 0.021260451465564455.\n"
     ]
    },
    {
     "name": "stdout",
     "output_type": "stream",
     "text": [
      "PureSVDItemRecommender: URM Detected 483 ( 3.8%) users with no interactions.\n",
      "PureSVDItemRecommender: URM Detected 314 ( 1.4%) items with no interactions.\n",
      "PureSVDItemRecommender: Computing SVD decomposition...\n",
      "PureSVDItemRecommender: Computing SVD decomposition... Done!\n",
      "EvaluatorHoldout: Processed 10092 (100.0%) in 6.71 sec. Users per second: 1504\n"
     ]
    },
    {
     "name": "stderr",
     "output_type": "stream",
     "text": [
      "[I 2023-11-30 16:20:43,707] Trial 82 finished with value: 0.020504576153357348 and parameters: {'num_factors': 117, 'topK': 808}. Best is trial 47 with value: 0.021260451465564455.\n"
     ]
    },
    {
     "name": "stdout",
     "output_type": "stream",
     "text": [
      "PureSVDItemRecommender: URM Detected 483 ( 3.8%) users with no interactions.\n",
      "PureSVDItemRecommender: URM Detected 314 ( 1.4%) items with no interactions.\n",
      "PureSVDItemRecommender: Computing SVD decomposition...\n",
      "PureSVDItemRecommender: Computing SVD decomposition... Done!\n",
      "EvaluatorHoldout: Processed 10092 (100.0%) in 3.93 sec. Users per second: 2567\n"
     ]
    },
    {
     "name": "stderr",
     "output_type": "stream",
     "text": [
      "[I 2023-11-30 16:20:56,055] Trial 83 finished with value: 0.02083443038333051 and parameters: {'num_factors': 95, 'topK': 22}. Best is trial 47 with value: 0.021260451465564455.\n"
     ]
    },
    {
     "name": "stdout",
     "output_type": "stream",
     "text": [
      "PureSVDItemRecommender: URM Detected 483 ( 3.8%) users with no interactions.\n",
      "PureSVDItemRecommender: URM Detected 314 ( 1.4%) items with no interactions.\n",
      "PureSVDItemRecommender: Computing SVD decomposition...\n",
      "PureSVDItemRecommender: Computing SVD decomposition... Done!\n",
      "EvaluatorHoldout: Processed 10092 (100.0%) in 4.76 sec. Users per second: 2119\n"
     ]
    },
    {
     "name": "stderr",
     "output_type": "stream",
     "text": [
      "[I 2023-11-30 16:21:08,967] Trial 84 finished with value: 0.021124377945127056 and parameters: {'num_factors': 92, 'topK': 57}. Best is trial 47 with value: 0.021260451465564455.\n"
     ]
    },
    {
     "name": "stdout",
     "output_type": "stream",
     "text": [
      "PureSVDItemRecommender: URM Detected 483 ( 3.8%) users with no interactions.\n",
      "PureSVDItemRecommender: URM Detected 314 ( 1.4%) items with no interactions.\n",
      "PureSVDItemRecommender: Computing SVD decomposition...\n",
      "PureSVDItemRecommender: Computing SVD decomposition... Done!\n",
      "EvaluatorHoldout: Processed 10092 (100.0%) in 5.28 sec. Users per second: 1913\n"
     ]
    },
    {
     "name": "stderr",
     "output_type": "stream",
     "text": [
      "[I 2023-11-30 16:21:22,986] Trial 85 finished with value: 0.020997674568572294 and parameters: {'num_factors': 90, 'topK': 111}. Best is trial 47 with value: 0.021260451465564455.\n"
     ]
    },
    {
     "name": "stdout",
     "output_type": "stream",
     "text": [
      "PureSVDItemRecommender: URM Detected 483 ( 3.8%) users with no interactions.\n",
      "PureSVDItemRecommender: URM Detected 314 ( 1.4%) items with no interactions.\n",
      "PureSVDItemRecommender: Computing SVD decomposition...\n",
      "PureSVDItemRecommender: Computing SVD decomposition... Done!\n",
      "EvaluatorHoldout: Processed 10092 (100.0%) in 4.76 sec. Users per second: 2118\n"
     ]
    },
    {
     "name": "stderr",
     "output_type": "stream",
     "text": [
      "[I 2023-11-30 16:21:35,783] Trial 86 finished with value: 0.021059400342248125 and parameters: {'num_factors': 94, 'topK': 57}. Best is trial 47 with value: 0.021260451465564455.\n"
     ]
    },
    {
     "name": "stdout",
     "output_type": "stream",
     "text": [
      "PureSVDItemRecommender: URM Detected 483 ( 3.8%) users with no interactions.\n",
      "PureSVDItemRecommender: URM Detected 314 ( 1.4%) items with no interactions.\n",
      "PureSVDItemRecommender: Computing SVD decomposition...\n",
      "PureSVDItemRecommender: Computing SVD decomposition... Done!\n",
      "EvaluatorHoldout: Processed 10092 (100.0%) in 5.05 sec. Users per second: 1999\n"
     ]
    },
    {
     "name": "stderr",
     "output_type": "stream",
     "text": [
      "[I 2023-11-30 16:21:49,289] Trial 87 finished with value: 0.021037793569006404 and parameters: {'num_factors': 98, 'topK': 85}. Best is trial 47 with value: 0.021260451465564455.\n"
     ]
    },
    {
     "name": "stdout",
     "output_type": "stream",
     "text": [
      "PureSVDItemRecommender: URM Detected 483 ( 3.8%) users with no interactions.\n",
      "PureSVDItemRecommender: URM Detected 314 ( 1.4%) items with no interactions.\n",
      "PureSVDItemRecommender: Computing SVD decomposition...\n",
      "PureSVDItemRecommender: Computing SVD decomposition... Done!\n",
      "EvaluatorHoldout: Processed 10092 (100.0%) in 5.39 sec. Users per second: 1872\n"
     ]
    },
    {
     "name": "stderr",
     "output_type": "stream",
     "text": [
      "[I 2023-11-30 16:22:03,518] Trial 88 finished with value: 0.020898016030299078 and parameters: {'num_factors': 86, 'topK': 132}. Best is trial 47 with value: 0.021260451465564455.\n"
     ]
    },
    {
     "name": "stdout",
     "output_type": "stream",
     "text": [
      "PureSVDItemRecommender: URM Detected 483 ( 3.8%) users with no interactions.\n",
      "PureSVDItemRecommender: URM Detected 314 ( 1.4%) items with no interactions.\n",
      "PureSVDItemRecommender: Computing SVD decomposition...\n",
      "PureSVDItemRecommender: Computing SVD decomposition... Done!\n",
      "EvaluatorHoldout: Processed 10092 (100.0%) in 3.00 sec. Users per second: 3360\n"
     ]
    },
    {
     "name": "stderr",
     "output_type": "stream",
     "text": [
      "[I 2023-11-30 16:22:14,516] Trial 89 finished with value: 0.020407442009701265 and parameters: {'num_factors': 102, 'topK': 8}. Best is trial 47 with value: 0.021260451465564455.\n"
     ]
    },
    {
     "name": "stdout",
     "output_type": "stream",
     "text": [
      "PureSVDItemRecommender: URM Detected 483 ( 3.8%) users with no interactions.\n",
      "PureSVDItemRecommender: URM Detected 314 ( 1.4%) items with no interactions.\n",
      "PureSVDItemRecommender: Computing SVD decomposition...\n",
      "PureSVDItemRecommender: Computing SVD decomposition... Done!\n",
      "EvaluatorHoldout: Processed 10092 (100.0%) in 4.83 sec. Users per second: 2090\n"
     ]
    },
    {
     "name": "stderr",
     "output_type": "stream",
     "text": [
      "[I 2023-11-30 16:22:29,211] Trial 90 finished with value: 0.021066128129148376 and parameters: {'num_factors': 107, 'topK': 60}. Best is trial 47 with value: 0.021260451465564455.\n"
     ]
    },
    {
     "name": "stdout",
     "output_type": "stream",
     "text": [
      "PureSVDItemRecommender: URM Detected 483 ( 3.8%) users with no interactions.\n",
      "PureSVDItemRecommender: URM Detected 314 ( 1.4%) items with no interactions.\n",
      "PureSVDItemRecommender: Computing SVD decomposition...\n",
      "PureSVDItemRecommender: Computing SVD decomposition... Done!\n",
      "EvaluatorHoldout: Processed 10092 (100.0%) in 5.61 sec. Users per second: 1800\n"
     ]
    },
    {
     "name": "stderr",
     "output_type": "stream",
     "text": [
      "[I 2023-11-30 16:22:43,497] Trial 91 finished with value: 0.020233384607641427 and parameters: {'num_factors': 62, 'topK': 175}. Best is trial 47 with value: 0.021260451465564455.\n"
     ]
    },
    {
     "name": "stdout",
     "output_type": "stream",
     "text": [
      "PureSVDItemRecommender: URM Detected 483 ( 3.8%) users with no interactions.\n",
      "PureSVDItemRecommender: URM Detected 314 ( 1.4%) items with no interactions.\n",
      "PureSVDItemRecommender: Computing SVD decomposition...\n",
      "PureSVDItemRecommender: Computing SVD decomposition... Done!\n",
      "EvaluatorHoldout: Processed 10092 (100.0%) in 4.15 sec. Users per second: 2430\n"
     ]
    },
    {
     "name": "stderr",
     "output_type": "stream",
     "text": [
      "[I 2023-11-30 16:22:55,369] Trial 92 finished with value: 0.02123626918068059 and parameters: {'num_factors': 100, 'topK': 29}. Best is trial 47 with value: 0.021260451465564455.\n"
     ]
    },
    {
     "name": "stdout",
     "output_type": "stream",
     "text": [
      "PureSVDItemRecommender: URM Detected 483 ( 3.8%) users with no interactions.\n",
      "PureSVDItemRecommender: URM Detected 314 ( 1.4%) items with no interactions.\n",
      "PureSVDItemRecommender: Computing SVD decomposition...\n",
      "PureSVDItemRecommender: Computing SVD decomposition... Done!\n",
      "EvaluatorHoldout: Processed 10092 (100.0%) in 4.07 sec. Users per second: 2480\n"
     ]
    },
    {
     "name": "stderr",
     "output_type": "stream",
     "text": [
      "[I 2023-11-30 16:23:07,282] Trial 93 finished with value: 0.02098178110588934 and parameters: {'num_factors': 112, 'topK': 27}. Best is trial 47 with value: 0.021260451465564455.\n"
     ]
    },
    {
     "name": "stdout",
     "output_type": "stream",
     "text": [
      "PureSVDItemRecommender: URM Detected 483 ( 3.8%) users with no interactions.\n",
      "PureSVDItemRecommender: URM Detected 314 ( 1.4%) items with no interactions.\n",
      "PureSVDItemRecommender: Computing SVD decomposition...\n",
      "PureSVDItemRecommender: Computing SVD decomposition... Done!\n",
      "EvaluatorHoldout: Processed 10092 (100.0%) in 4.97 sec. Users per second: 2031\n"
     ]
    },
    {
     "name": "stderr",
     "output_type": "stream",
     "text": [
      "[I 2023-11-30 16:23:20,368] Trial 94 finished with value: 0.021072793002787076 and parameters: {'num_factors': 100, 'topK': 78}. Best is trial 47 with value: 0.021260451465564455.\n"
     ]
    },
    {
     "name": "stdout",
     "output_type": "stream",
     "text": [
      "PureSVDItemRecommender: URM Detected 483 ( 3.8%) users with no interactions.\n",
      "PureSVDItemRecommender: URM Detected 314 ( 1.4%) items with no interactions.\n",
      "PureSVDItemRecommender: Computing SVD decomposition...\n",
      "PureSVDItemRecommender: Computing SVD decomposition... Done!\n",
      "EvaluatorHoldout: Processed 10092 (100.0%) in 4.65 sec. Users per second: 2171\n"
     ]
    },
    {
     "name": "stderr",
     "output_type": "stream",
     "text": [
      "[I 2023-11-30 16:23:32,848] Trial 95 finished with value: 0.02121719466621368 and parameters: {'num_factors': 96, 'topK': 49}. Best is trial 47 with value: 0.021260451465564455.\n"
     ]
    },
    {
     "name": "stdout",
     "output_type": "stream",
     "text": [
      "PureSVDItemRecommender: URM Detected 483 ( 3.8%) users with no interactions.\n",
      "PureSVDItemRecommender: URM Detected 314 ( 1.4%) items with no interactions.\n",
      "PureSVDItemRecommender: Computing SVD decomposition...\n",
      "PureSVDItemRecommender: Computing SVD decomposition... Done!\n",
      "EvaluatorHoldout: Processed 10092 (100.0%) in 5.23 sec. Users per second: 1931\n"
     ]
    },
    {
     "name": "stderr",
     "output_type": "stream",
     "text": [
      "[I 2023-11-30 16:23:46,655] Trial 96 finished with value: 0.021029056489817465 and parameters: {'num_factors': 97, 'topK': 103}. Best is trial 47 with value: 0.021260451465564455.\n"
     ]
    },
    {
     "name": "stdout",
     "output_type": "stream",
     "text": [
      "PureSVDItemRecommender: URM Detected 483 ( 3.8%) users with no interactions.\n",
      "PureSVDItemRecommender: URM Detected 314 ( 1.4%) items with no interactions.\n",
      "PureSVDItemRecommender: Computing SVD decomposition...\n",
      "PureSVDItemRecommender: Computing SVD decomposition... Done!\n",
      "EvaluatorHoldout: Processed 10092 (100.0%) in 4.23 sec. Users per second: 2387\n"
     ]
    },
    {
     "name": "stderr",
     "output_type": "stream",
     "text": [
      "[I 2023-11-30 16:23:58,653] Trial 97 finished with value: 0.02075027603193476 and parameters: {'num_factors': 104, 'topK': 32}. Best is trial 47 with value: 0.021260451465564455.\n"
     ]
    },
    {
     "name": "stdout",
     "output_type": "stream",
     "text": [
      "PureSVDItemRecommender: URM Detected 483 ( 3.8%) users with no interactions.\n",
      "PureSVDItemRecommender: URM Detected 314 ( 1.4%) items with no interactions.\n",
      "PureSVDItemRecommender: Computing SVD decomposition...\n",
      "PureSVDItemRecommender: Computing SVD decomposition... Done!\n",
      "EvaluatorHoldout: Processed 10092 (100.0%) in 5.51 sec. Users per second: 1831\n"
     ]
    },
    {
     "name": "stderr",
     "output_type": "stream",
     "text": [
      "[I 2023-11-30 16:24:13,157] Trial 98 finished with value: 0.02103035014375681 and parameters: {'num_factors': 110, 'topK': 143}. Best is trial 47 with value: 0.021260451465564455.\n"
     ]
    },
    {
     "name": "stdout",
     "output_type": "stream",
     "text": [
      "PureSVDItemRecommender: URM Detected 483 ( 3.8%) users with no interactions.\n",
      "PureSVDItemRecommender: URM Detected 314 ( 1.4%) items with no interactions.\n",
      "PureSVDItemRecommender: Computing SVD decomposition...\n",
      "PureSVDItemRecommender: Computing SVD decomposition... Done!\n",
      "EvaluatorHoldout: Processed 10092 (100.0%) in 2.63 sec. Users per second: 3836\n"
     ]
    },
    {
     "name": "stderr",
     "output_type": "stream",
     "text": [
      "[I 2023-11-30 16:24:23,453] Trial 99 finished with value: 0.019343779293987364 and parameters: {'num_factors': 108, 'topK': 5}. Best is trial 47 with value: 0.021260451465564455.\n"
     ]
    },
    {
     "name": "stdout",
     "output_type": "stream",
     "text": [
      "PureSVDItemRecommender: URM Detected 483 ( 3.8%) users with no interactions.\n",
      "PureSVDItemRecommender: URM Detected 314 ( 1.4%) items with no interactions.\n",
      "PureSVDItemRecommender: Computing SVD decomposition...\n",
      "PureSVDItemRecommender: Computing SVD decomposition... Done!\n",
      "EvaluatorHoldout: Processed 10092 (100.0%) in 5.13 sec. Users per second: 1968\n"
     ]
    },
    {
     "name": "stderr",
     "output_type": "stream",
     "text": [
      "[I 2023-11-30 16:24:36,754] Trial 100 finished with value: 0.0208644400090595 and parameters: {'num_factors': 96, 'topK': 88}. Best is trial 47 with value: 0.021260451465564455.\n"
     ]
    },
    {
     "name": "stdout",
     "output_type": "stream",
     "text": [
      "PureSVDItemRecommender: URM Detected 483 ( 3.8%) users with no interactions.\n",
      "PureSVDItemRecommender: URM Detected 314 ( 1.4%) items with no interactions.\n",
      "PureSVDItemRecommender: Computing SVD decomposition...\n",
      "PureSVDItemRecommender: Computing SVD decomposition... Done!\n",
      "EvaluatorHoldout: Processed 10092 (100.0%) in 4.78 sec. Users per second: 2109\n"
     ]
    },
    {
     "name": "stderr",
     "output_type": "stream",
     "text": [
      "[I 2023-11-30 16:24:49,587] Trial 101 finished with value: 0.02103688919087256 and parameters: {'num_factors': 100, 'topK': 59}. Best is trial 47 with value: 0.021260451465564455.\n"
     ]
    },
    {
     "name": "stdout",
     "output_type": "stream",
     "text": [
      "PureSVDItemRecommender: URM Detected 483 ( 3.8%) users with no interactions.\n",
      "PureSVDItemRecommender: URM Detected 314 ( 1.4%) items with no interactions.\n",
      "PureSVDItemRecommender: Computing SVD decomposition...\n",
      "PureSVDItemRecommender: Computing SVD decomposition... Done!\n",
      "EvaluatorHoldout: Processed 10092 (100.0%) in 4.56 sec. Users per second: 2213\n"
     ]
    },
    {
     "name": "stderr",
     "output_type": "stream",
     "text": [
      "[I 2023-11-30 16:25:02,171] Trial 102 finished with value: 0.020907397970418178 and parameters: {'num_factors': 105, 'topK': 41}. Best is trial 47 with value: 0.021260451465564455.\n"
     ]
    },
    {
     "name": "stdout",
     "output_type": "stream",
     "text": [
      "PureSVDItemRecommender: URM Detected 483 ( 3.8%) users with no interactions.\n",
      "PureSVDItemRecommender: URM Detected 314 ( 1.4%) items with no interactions.\n",
      "PureSVDItemRecommender: Computing SVD decomposition...\n",
      "PureSVDItemRecommender: Computing SVD decomposition... Done!\n",
      "EvaluatorHoldout: Processed 10092 (100.0%) in 5.27 sec. Users per second: 1913\n"
     ]
    },
    {
     "name": "stderr",
     "output_type": "stream",
     "text": [
      "[I 2023-11-30 16:25:15,815] Trial 103 finished with value: 0.021111622281360706 and parameters: {'num_factors': 117, 'topK': 113}. Best is trial 47 with value: 0.021260451465564455.\n"
     ]
    }
   ],
   "source": [
    "best_params = {\n",
    "    \"num_factors\": 79,\n",
    "    \"topK\" : 10,\n",
    "    \"random_seed\": 42,\n",
    "}\n",
    "study_name = \"puresvd-item-study\"  # Unique identifier of the study.\n",
    "storage_name = \"sqlite:///db.db\".format(study_name)\n",
    "study = op.create_study(study_name=study_name, storage=storage_name, direction=\"maximize\", load_if_exists=True)\n",
    "#study.enqueue_trial(best_params)\n",
    "study.optimize(objective, n_trials=100)"
   ],
   "metadata": {
    "collapsed": false,
    "ExecuteTime": {
     "end_time": "2023-11-30T15:25:15.825995Z",
     "start_time": "2023-11-30T14:50:56.803433Z"
    }
   },
   "id": "c5b8a36d4aed08fc"
  },
  {
   "cell_type": "code",
   "execution_count": null,
   "outputs": [],
   "source": [
    "study.best_params"
   ],
   "metadata": {
    "collapsed": false,
    "ExecuteTime": {
     "end_time": "2023-11-30T14:46:02.729460Z",
     "start_time": "2023-11-30T14:46:02.727677Z"
    }
   },
   "id": "f18968c2188a349a"
  },
  {
   "cell_type": "code",
   "execution_count": null,
   "outputs": [],
   "source": [
    "final = model(URM_train_validation)\n",
    "final.fit(**study.best_params)"
   ],
   "metadata": {
    "collapsed": false,
    "ExecuteTime": {
     "start_time": "2023-11-30T14:46:02.728615Z"
    }
   },
   "id": "7ae12a0ef4bc0baa"
  },
  {
   "cell_type": "code",
   "execution_count": 37,
   "outputs": [
    {
     "name": "stdout",
     "output_type": "stream",
     "text": [
      "EvaluatorHoldout: Ignoring 2171 (17.2%) Users that have less than 1 test interactions\n",
      "EvaluatorHoldout: Ignoring 0 Users\n",
      "EvaluatorHoldout: Processed 10467 (100.0%) in 4.23 sec. Users per second: 2476\n"
     ]
    },
    {
     "data": {
      "text/plain": "(       PRECISION PRECISION_RECALL_MIN_DEN   RECALL       MAP MAP_MIN_DEN  \\\n cutoff                                                                     \n 10      0.060055                 0.103973  0.08724  0.030317    0.051596   \n \n              MRR      NDCG        F1  HIT_RATE ARHR_ALL_HITS  ...  \\\n cutoff                                                        ...   \n 10      0.196874  0.097511  0.071139  0.386644      0.242683  ...   \n \n        COVERAGE_USER COVERAGE_USER_HIT USERS_IN_GT DIVERSITY_GINI  \\\n cutoff                                                              \n 10          0.828216          0.320225    0.828216       0.009501   \n \n        SHANNON_ENTROPY RATIO_DIVERSITY_HERFINDAHL RATIO_DIVERSITY_GINI  \\\n cutoff                                                                   \n 10            8.152184                   0.995629             0.027233   \n \n        RATIO_SHANNON_ENTROPY RATIO_AVERAGE_POPULARITY RATIO_NOVELTY  \n cutoff                                                               \n 10                  0.627924                 1.998249      0.263127  \n \n [1 rows x 27 columns],\n 'CUTOFF: 10 - PRECISION: 0.0600554, PRECISION_RECALL_MIN_DEN: 0.1039729, RECALL: 0.0872402, MAP: 0.0303168, MAP_MIN_DEN: 0.0515958, MRR: 0.1968740, NDCG: 0.0975114, F1: 0.0711392, HIT_RATE: 0.3866437, ARHR_ALL_HITS: 0.2426829, NOVELTY: 0.0046585, AVERAGE_POPULARITY: 0.2485698, DIVERSITY_MEAN_INTER_LIST: 0.9527880, DIVERSITY_HERFINDAHL: 0.9952697, COVERAGE_ITEM: 0.0328053, COVERAGE_ITEM_HIT: 0.0212852, ITEMS_IN_GT: 0.8001080, COVERAGE_USER: 0.8282165, COVERAGE_USER_HIT: 0.3202247, USERS_IN_GT: 0.8282165, DIVERSITY_GINI: 0.0095012, SHANNON_ENTROPY: 8.1521843, RATIO_DIVERSITY_HERFINDAHL: 0.9956292, RATIO_DIVERSITY_GINI: 0.0272329, RATIO_SHANNON_ENTROPY: 0.6279245, RATIO_AVERAGE_POPULARITY: 1.9982493, RATIO_NOVELTY: 0.2631268, \\n')"
     },
     "execution_count": 37,
     "metadata": {},
     "output_type": "execute_result"
    }
   ],
   "source": [
    "from Evaluation.Evaluator import EvaluatorHoldout\n",
    "evaluator_test = EvaluatorHoldout(URM_test, cutoff_list=[10], ignore_users=[])\n",
    "evaluator_test.evaluateRecommender(final)"
   ],
   "metadata": {
    "collapsed": false,
    "ExecuteTime": {
     "end_time": "2023-11-22T16:53:10.048377Z",
     "start_time": "2023-11-22T16:53:05.778459Z"
    }
   },
   "id": "1a0a3570fbcb348b"
  },
  {
   "cell_type": "code",
   "execution_count": null,
   "outputs": [],
   "source": [
    "## MAP = 0.0308313"
   ],
   "metadata": {
    "collapsed": false
   },
   "id": "b7dc725c28f92051"
  }
 ],
 "metadata": {
  "kernelspec": {
   "display_name": "Python 3",
   "language": "python",
   "name": "python3"
  },
  "language_info": {
   "codemirror_mode": {
    "name": "ipython",
    "version": 2
   },
   "file_extension": ".py",
   "mimetype": "text/x-python",
   "name": "python",
   "nbconvert_exporter": "python",
   "pygments_lexer": "ipython2",
   "version": "2.7.6"
  }
 },
 "nbformat": 4,
 "nbformat_minor": 5
}
