{
 "cells": [
  {
   "cell_type": "code",
   "execution_count": 1,
   "outputs": [
    {
     "name": "stdout",
     "output_type": "stream",
     "text": [
      "Warning: 212 (1.68 %) of 12638 users have no train items\n",
      "Warning: 2213 (17.51 %) of 12638 users have no sampled items\n"
     ]
    }
   ],
   "source": [
    "from Data_manager.UserUtils import *\n",
    "from Data_manager.split_functions.split_train_validation_random_holdout import \\\n",
    "    split_train_in_two_percentage_global_sample\n",
    "URM_all = getURM_all()\n",
    "URM_train_validation, URM_test = split_train_in_two_percentage_global_sample(URM_all, train_percentage = 0.80)\n",
    "# URM_train, URM_validation = split_train_in_two_percentage_global_sample(URM_train_validation, train_percentage = 0.80)"
   ],
   "metadata": {
    "collapsed": false,
    "ExecuteTime": {
     "end_time": "2023-12-25T23:36:46.638858Z",
     "start_time": "2023-12-25T23:36:45.209610Z"
    }
   },
   "id": "a884190b64cf557"
  },
  {
   "cell_type": "code",
   "execution_count": 2,
   "outputs": [
    {
     "name": "stdout",
     "output_type": "stream",
     "text": [
      "SLIMElasticNetRecommender: URM Detected 210 ( 1.7%) users with no interactions.\n",
      "SLIMElasticNetRecommender: URM Detected 112 ( 0.5%) items with no interactions.\n",
      "SLIMElasticNetRecommender: Processed 22222 (100.0%) in 4.65 min. Items per second: 79.61\n",
      "PureSVDRecommender: URM Detected 210 ( 1.7%) users with no interactions.\n",
      "PureSVDRecommender: URM Detected 112 ( 0.5%) items with no interactions.\n",
      "PureSVDRecommender: Computing SVD decomposition...\n",
      "PureSVDRecommender: Computing SVD decomposition... done in 0.71 sec\n",
      "RP3betaRecommender: URM Detected 210 ( 1.7%) users with no interactions.\n",
      "RP3betaRecommender: URM Detected 112 ( 0.5%) items with no interactions.\n",
      "RP3betaRecommender: Similarity column 22222 (100.0%), 6681.51 column/sec. Elapsed time 3.33 sec\n",
      "UserKNNCFRecommender: URM Detected 210 ( 1.7%) users with no interactions.\n",
      "UserKNNCFRecommender: URM Detected 112 ( 0.5%) items with no interactions.\n",
      "Similarity column 12638 (100.0%), 9956.21 column/sec. Elapsed time 1.27 sec\n",
      "ItemKNNCFRecommender: URM Detected 210 ( 1.7%) users with no interactions.\n",
      "ItemKNNCFRecommender: URM Detected 112 ( 0.5%) items with no interactions.\n",
      "Similarity column 22222 (100.0%), 10084.48 column/sec. Elapsed time 2.20 sec\n",
      "EvaluatorHoldout: Ignoring 2200 (17.4%) Users that have less than 1 test interactions\n"
     ]
    }
   ],
   "source": [
    "from Hybrid import *\n",
    "from Recommenders.SLIM.SLIMElasticNetRecommender import *\n",
    "from Recommenders.MatrixFactorization.PureSVDRecommender import PureSVDRecommender\n",
    "from Recommenders.GraphBased.P3alphaRecommender import P3alphaRecommender\n",
    "from Recommenders.GraphBased.RP3betaRecommender import RP3betaRecommender\n",
    "from Recommenders.KNN.UserKNNCFRecommender import UserKNNCFRecommender\n",
    "from Recommenders.KNN.ItemKNNCFRecommender import ItemKNNCFRecommender\n",
    "from Recommenders.EASE_R.EASE_R_Recommender import EASE_R_Recommender\n",
    "## SLIM\n",
    "slim = SLIMElasticNetRecommender(URM_train_validation)\n",
    "slim.fit(topK=8894, l1_ratio=0.05565733019999427, alpha=0.0012979360257937668)#, workers=7)\n",
    "## P3ALPHA\n",
    "# p3alpha = P3alphaRecommender(URM_train)\n",
    "# p3alpha.fit(topK=76, alpha=0.377201600381895, normalize_similarity=True)\n",
    "## RP3BETA\n",
    "rp3beta = RP3betaRecommender(URM_train_validation)\n",
    "rp3beta.fit(alpha=0.20026352123406477, beta=0.15999879728761354, topK=32)\n",
    "## USER KNN\n",
    "userknn = UserKNNCFRecommender(URM_train_validation)\n",
    "userknn.fit(topK=469, shrink=38, similarity='asymmetric', normalize=True,\n",
    "                                       feature_weighting='TF-IDF', asymmetric_alpha=0.40077406933762383)\n",
    "## ITEM KNN\n",
    "itemknn = ItemKNNCFRecommender(URM_train_validation)\n",
    "itemknn.fit(topK=31, shrink=435, similarity='tversky', normalize=True,\n",
    "                                       feature_weighting='BM25', tversky_alpha=0.17113169506422393, tversky_beta=0.5684024974085575)\n",
    "## EASE_R\n",
    "ease_r = EASE_R_Recommender(URM_train_validation)\n",
    "ease_r.fit(topK=24, l2_norm=37.54323189430143)\n",
    "\n",
    "model = LinearHybridRecommender\n",
    "\n",
    "from Evaluation.Evaluator import EvaluatorHoldout\n",
    "\n",
    "evaluator_validation = EvaluatorHoldout(URM_test, cutoff_list=[10])"
   ],
   "metadata": {
    "collapsed": false,
    "ExecuteTime": {
     "end_time": "2023-12-20T15:20:42.278828Z",
     "start_time": "2023-12-20T15:15:54.737970Z"
    }
   },
   "id": "7789e39614525279"
  },
  {
   "cell_type": "code",
   "execution_count": 3,
   "outputs": [
    {
     "name": "stdout",
     "output_type": "stream",
     "text": [
      "EASE_R_Recommender: URM Detected 210 ( 1.7%) users with no interactions.\n",
      "EASE_R_Recommender: URM Detected 112 ( 0.5%) items with no interactions.\n",
      "EASE_R_Recommender: Fitting model... \n",
      "EASE_R_Recommender: Fitting model... done in 2.50 min\n"
     ]
    }
   ],
   "source": [
    "ease = EASE_R_Recommender(URM_train_validation)\n",
    "ease.fit(topK=24, l2_norm=37.54323189430143)"
   ],
   "metadata": {
    "collapsed": false,
    "ExecuteTime": {
     "end_time": "2023-12-20T15:23:50.182166Z",
     "start_time": "2023-12-20T15:21:09.615831Z"
    }
   },
   "id": "fef0c3cc80bd0ca1"
  },
  {
   "cell_type": "code",
   "execution_count": null,
   "outputs": [],
   "source": [
    "from Recommenders.Neural.MultVAERecommender import MultVAERecommender\n",
    "\n",
    "multvae = MultVAERecommender(URM_train_validation)\n",
    "multvae.fit(epochs=120, learning_rate=0.0003386225308766206, l2_reg=2.129359930047709e-06, dropout=0.09838599885053126, total_anneal_steps=525579, anneal_cap=0.4033304347929101,batch_size=256)"
   ],
   "metadata": {
    "collapsed": false
   },
   "id": "9f06c6e33c89833e"
  },
  {
   "cell_type": "code",
   "execution_count": 7,
   "outputs": [],
   "source": [
    "import itertools\n",
    "import optuna as op\n",
    "\n",
    "# Map the names to the recommender objects\n",
    "# Map the names to the recommender objects\n",
    "recommender_dict = {\n",
    "    'slim': slim,\n",
    "    #'p3alpha': p3alpha,\n",
    "    'rp3beta': rp3beta,\n",
    "    'userknn': userknn,\n",
    "    'itemknn': itemknn,\n",
    "    'easer': ease,\n",
    "    #'multvae': multvae\n",
    "}\n",
    "\n",
    "# Generate all possible combinations of recommender names\n",
    "all_combinations = []\n",
    "for r in range(1, len(recommender_dict) + 1):\n",
    "    all_combinations.extend(itertools.combinations(recommender_dict.keys(), r))\n",
    "\n",
    "# Convert combinations to string format\n",
    "all_combinations_str = ['_'.join(comb) for comb in all_combinations]\n",
    "\n",
    "def objective(trial):\n",
    "    # Select a combination from the pre-defined list\n",
    "    selected_combination_str = trial.suggest_categorical('selected_combination', all_combinations_str)\n",
    "\n",
    "    # Convert the string back to the original recommender objects\n",
    "    selected_combination = [recommender_dict[name] for name in selected_combination_str.split('_')]\n",
    "\n",
    "    # Dynamically generate weights for the selected recommenders\n",
    "    weights = [trial.suggest_float(f'weight_{i}', 0, 1) for i in range(len(selected_combination))]\n",
    "    \n",
    "    # Create hybrid recommender with the suggested weights\n",
    "    hybrid_recommender = model(URM_train_validation, selected_combination)\n",
    "    hybrid_recommender.fit(weights)\n",
    "    \n",
    "    # Evaluate the hybrid recommender\n",
    "    result, _ = evaluator_validation.evaluateRecommender(hybrid_recommender)\n",
    "    MAP_result = result[\"MAP\"].item()\n",
    "       \n",
    "    return MAP_result"
   ],
   "metadata": {
    "collapsed": false,
    "ExecuteTime": {
     "end_time": "2023-12-20T15:25:19.576687Z",
     "start_time": "2023-12-20T15:25:19.572468Z"
    }
   },
   "id": "c6638bcccbda289b"
  },
  {
   "cell_type": "code",
   "execution_count": null,
   "outputs": [],
   "source": [
    "best_params = {\n",
    "    \"alphas\": 1,\n",
    "}\n",
    "\n",
    "study_name = \"hybrid-allmodels-study\"  # Unique identifier of the study.\n",
    "storage_name = \"sqlite:///db.db\".format(study_name)\n",
    "#op.delete_study(study_name, storage_name)\n",
    "study = op.create_study(study_name=study_name, storage=storage_name, direction=\"maximize\", load_if_exists=True)\n",
    "#study.enqueue_trial(best_params)\n",
    "study.optimize(objective, n_trials=150)"
   ],
   "metadata": {
    "collapsed": false
   },
   "id": "d15388f3e5727d96"
  },
  {
   "cell_type": "code",
   "execution_count": 10,
   "outputs": [
    {
     "data": {
      "text/plain": "{'selected_combination': 'slim_rp3beta_itemknn_easer',\n 'weight_0': 0.5583799998585726,\n 'weight_1': 0.4132791538537288,\n 'weight_2': 0.09774430671009315,\n 'weight_3': 0.08954789778507188}"
     },
     "execution_count": 10,
     "metadata": {},
     "output_type": "execute_result"
    }
   ],
   "source": [
    "study.best_params"
   ],
   "metadata": {
    "collapsed": false,
    "ExecuteTime": {
     "end_time": "2023-12-20T15:55:16.519092Z",
     "start_time": "2023-12-20T15:55:16.508931Z"
    }
   },
   "id": "ac696963697fff90"
  },
  {
   "cell_type": "code",
   "execution_count": 22,
   "outputs": [
    {
     "name": "stdout",
     "output_type": "stream",
     "text": [
      "ScoresHybridRecommender: URM Detected 210 ( 1.7%) users with no interactions.\n",
      "ScoresHybridRecommender: URM Detected 112 ( 0.5%) items with no interactions.\n",
      "DifferentLossScoresHybridRecommender: URM Detected 210 ( 1.7%) users with no interactions.\n",
      "DifferentLossScoresHybridRecommender: URM Detected 112 ( 0.5%) items with no interactions.\n"
     ]
    }
   ],
   "source": [
    "hybrid = ScoresHybridRecommender(URM_train_validation, slim, rp3beta, itemknn)\n",
    "hybrid.fit(alpha=0.5072513954300486, beta=0.30902582824263064)\n",
    "hybrid_recommender = DifferentLossScoresHybridRecommender(URM_train_validation, hybrid, ease)"
   ],
   "metadata": {
    "collapsed": false,
    "ExecuteTime": {
     "end_time": "2023-12-20T16:53:59.048633Z",
     "start_time": "2023-12-20T16:53:59.032362Z"
    }
   },
   "id": "1cf94f3d15cce754"
  },
  {
   "cell_type": "code",
   "execution_count": 23,
   "outputs": [],
   "source": [
    "def objective(trial):\n",
    "    alpha = trial.suggest_float('alpha', 0, 1)\n",
    "    # Create hybrid recommender with the suggested weights\n",
    "    hybrid_recommender.fit(norm=2, alpha=alpha)\n",
    "    \n",
    "    # Evaluate the hybrid recommender\n",
    "    result, _ = evaluator_validation.evaluateRecommender(hybrid_recommender)\n",
    "    MAP_result = result[\"MAP\"].item()\n",
    "       \n",
    "    return MAP_result"
   ],
   "metadata": {
    "collapsed": false,
    "ExecuteTime": {
     "end_time": "2023-12-20T16:54:00.417261Z",
     "start_time": "2023-12-20T16:54:00.415481Z"
    }
   },
   "id": "23a7609029f4e05e"
  },
  {
   "cell_type": "code",
   "execution_count": null,
   "outputs": [],
   "source": [
    "study_name = \"hybrid-slim-rp3-item-ease-study\"  # Unique identifier of the study.\n",
    "storage_name = \"sqlite:///db.db\"\n",
    "op.delete_study(study_name, storage_name)\n",
    "study = op.create_study(study_name=study_name, storage=storage_name, direction=\"maximize\", load_if_exists=True)\n",
    "#study.enqueue_trial(best_params)\n",
    "study.optimize(objective, n_trials=150)"
   ],
   "metadata": {
    "collapsed": false
   },
   "id": "52b5055a66579bf3"
  },
  {
   "cell_type": "code",
   "execution_count": 16,
   "outputs": [
    {
     "data": {
      "text/plain": "{'alpha': 0.8857667100747117,\n 'beta': 0.6379807942443021,\n 'gamma': 0.0690929184825888,\n 'delta': 0.11953478623354052}"
     },
     "execution_count": 16,
     "metadata": {},
     "output_type": "execute_result"
    }
   ],
   "source": [
    "study.best_params"
   ],
   "metadata": {
    "collapsed": false,
    "ExecuteTime": {
     "end_time": "2023-12-20T16:34:08.621166Z",
     "start_time": "2023-12-20T16:34:08.614300Z"
    }
   },
   "id": "731a6647494c1cea"
  }
 ],
 "metadata": {
  "kernelspec": {
   "display_name": "Python 3",
   "language": "python",
   "name": "python3"
  },
  "language_info": {
   "codemirror_mode": {
    "name": "ipython",
    "version": 2
   },
   "file_extension": ".py",
   "mimetype": "text/x-python",
   "name": "python",
   "nbconvert_exporter": "python",
   "pygments_lexer": "ipython2",
   "version": "2.7.6"
  }
 },
 "nbformat": 4,
 "nbformat_minor": 5
}
