{
 "cells": [
  {
   "cell_type": "code",
   "execution_count": 1,
   "outputs": [
    {
     "name": "stdout",
     "output_type": "stream",
     "text": [
      "Warning: 210 (1.66 %) of 12638 users have no train items\n",
      "Warning: 2200 (17.41 %) of 12638 users have no sampled items\n",
      "Warning: 446 (3.53 %) of 12638 users have no train items\n",
      "Warning: 2591 (20.50 %) of 12638 users have no sampled items\n"
     ]
    }
   ],
   "source": [
    "from Data_manager.UserUtils import *\n",
    "from Data_manager.split_functions.split_train_validation_random_holdout import \\\n",
    "    split_train_in_two_percentage_global_sample\n",
    "URM_all = getURM_all()\n",
    "URM_train_validation, URM_test = split_train_in_two_percentage_global_sample(URM_all, train_percentage = 0.80)\n",
    "# URM_train, URM_validation = split_train_in_two_percentage_global_sample(URM_train_validation, train_percentage = 0.80)"
   ],
   "metadata": {
    "collapsed": false,
    "ExecuteTime": {
     "end_time": "2023-12-20T15:11:48.453504Z",
     "start_time": "2023-12-20T15:11:46.622114Z"
    }
   },
   "id": "a884190b64cf557"
  },
  {
   "cell_type": "code",
   "execution_count": 2,
   "outputs": [
    {
     "name": "stdout",
     "output_type": "stream",
     "text": [
      "SLIMElasticNetRecommender: URM Detected 210 ( 1.7%) users with no interactions.\n",
      "SLIMElasticNetRecommender: URM Detected 112 ( 0.5%) items with no interactions.\n",
      "SLIMElasticNetRecommender: Processed 22222 (100.0%) in 4.65 min. Items per second: 79.61\n",
      "PureSVDRecommender: URM Detected 210 ( 1.7%) users with no interactions.\n",
      "PureSVDRecommender: URM Detected 112 ( 0.5%) items with no interactions.\n",
      "PureSVDRecommender: Computing SVD decomposition...\n",
      "PureSVDRecommender: Computing SVD decomposition... done in 0.71 sec\n",
      "RP3betaRecommender: URM Detected 210 ( 1.7%) users with no interactions.\n",
      "RP3betaRecommender: URM Detected 112 ( 0.5%) items with no interactions.\n",
      "RP3betaRecommender: Similarity column 22222 (100.0%), 6681.51 column/sec. Elapsed time 3.33 sec\n",
      "UserKNNCFRecommender: URM Detected 210 ( 1.7%) users with no interactions.\n",
      "UserKNNCFRecommender: URM Detected 112 ( 0.5%) items with no interactions.\n",
      "Similarity column 12638 (100.0%), 9956.21 column/sec. Elapsed time 1.27 sec\n",
      "ItemKNNCFRecommender: URM Detected 210 ( 1.7%) users with no interactions.\n",
      "ItemKNNCFRecommender: URM Detected 112 ( 0.5%) items with no interactions.\n",
      "Similarity column 22222 (100.0%), 10084.48 column/sec. Elapsed time 2.20 sec\n",
      "EvaluatorHoldout: Ignoring 2200 (17.4%) Users that have less than 1 test interactions\n"
     ]
    }
   ],
   "source": [
    "from Hybrid import *\n",
    "from Recommenders.SLIM.SLIMElasticNetRecommender import *\n",
    "from Recommenders.MatrixFactorization.PureSVDRecommender import PureSVDRecommender\n",
    "from Recommenders.GraphBased.P3alphaRecommender import P3alphaRecommender\n",
    "from Recommenders.GraphBased.RP3betaRecommender import RP3betaRecommender\n",
    "from Recommenders.KNN.UserKNNCFRecommender import UserKNNCFRecommender\n",
    "from Recommenders.KNN.ItemKNNCFRecommender import ItemKNNCFRecommender\n",
    "from Recommenders.EASE_R.EASE_R_Recommender import EASE_R_Recommender\n",
    "## SLIM\n",
    "slim = SLIMElasticNetRecommender(URM_train_validation)\n",
    "slim.fit(topK=8894, l1_ratio=0.05565733019999427, alpha=0.0012979360257937668)#, workers=7)\n",
    "## P3ALPHA\n",
    "# p3alpha = P3alphaRecommender(URM_train)\n",
    "# p3alpha.fit(topK=76, alpha=0.377201600381895, normalize_similarity=True)\n",
    "## RP3BETA\n",
    "rp3beta = RP3betaRecommender(URM_train_validation)\n",
    "rp3beta.fit(alpha=0.20026352123406477, beta=0.15999879728761354, topK=32)\n",
    "## USER KNN\n",
    "userknn = UserKNNCFRecommender(URM_train_validation)\n",
    "userknn.fit(topK=469, shrink=38, similarity='asymmetric', normalize=True,\n",
    "                                       feature_weighting='TF-IDF', asymmetric_alpha=0.40077406933762383)\n",
    "## ITEM KNN\n",
    "itemknn = ItemKNNCFRecommender(URM_train_validation)\n",
    "itemknn.fit(topK=31, shrink=435, similarity='tversky', normalize=True,\n",
    "                                       feature_weighting='BM25', tversky_alpha=0.17113169506422393, tversky_beta=0.5684024974085575)\n",
    "## EASE_R\n",
    "ease_r = EASE_R_Recommender(URM_train_validation)\n",
    "ease_r.fit(topK=24, l2_norm=37.54323189430143)\n",
    "\n",
    "model = LinearHybridRecommender\n",
    "\n",
    "from Evaluation.Evaluator import EvaluatorHoldout\n",
    "\n",
    "evaluator_validation = EvaluatorHoldout(URM_test, cutoff_list=[10])"
   ],
   "metadata": {
    "collapsed": false,
    "ExecuteTime": {
     "end_time": "2023-12-20T15:20:42.278828Z",
     "start_time": "2023-12-20T15:15:54.737970Z"
    }
   },
   "id": "7789e39614525279"
  },
  {
   "cell_type": "code",
   "execution_count": 3,
   "outputs": [
    {
     "name": "stdout",
     "output_type": "stream",
     "text": [
      "EASE_R_Recommender: URM Detected 210 ( 1.7%) users with no interactions.\n",
      "EASE_R_Recommender: URM Detected 112 ( 0.5%) items with no interactions.\n",
      "EASE_R_Recommender: Fitting model... \n",
      "EASE_R_Recommender: Fitting model... done in 2.50 min\n"
     ]
    }
   ],
   "source": [
    "ease = EASE_R_Recommender(URM_train_validation)\n",
    "ease.fit(topK=24, l2_norm=37.54323189430143)"
   ],
   "metadata": {
    "collapsed": false,
    "ExecuteTime": {
     "end_time": "2023-12-20T15:23:50.182166Z",
     "start_time": "2023-12-20T15:21:09.615831Z"
    }
   },
   "id": "fef0c3cc80bd0ca1"
  },
  {
   "cell_type": "code",
   "execution_count": null,
   "outputs": [],
   "source": [
    "from Recommenders.Neural.MultVAERecommender import MultVAERecommender\n",
    "\n",
    "multvae = MultVAERecommender(URM_train_validation)\n",
    "multvae.fit(epochs=120, learning_rate=0.0003386225308766206, l2_reg=2.129359930047709e-06, dropout=0.09838599885053126, total_anneal_steps=525579, anneal_cap=0.4033304347929101,batch_size=256)"
   ],
   "metadata": {
    "collapsed": false
   },
   "id": "9f06c6e33c89833e"
  },
  {
   "cell_type": "code",
   "execution_count": 7,
   "outputs": [],
   "source": [
    "import itertools\n",
    "import optuna as op\n",
    "\n",
    "# Map the names to the recommender objects\n",
    "# Map the names to the recommender objects\n",
    "recommender_dict = {\n",
    "    'slim': slim,\n",
    "    #'p3alpha': p3alpha,\n",
    "    'rp3beta': rp3beta,\n",
    "    'userknn': userknn,\n",
    "    'itemknn': itemknn,\n",
    "    'easer': ease,\n",
    "    #'multvae': multvae\n",
    "}\n",
    "\n",
    "# Generate all possible combinations of recommender names\n",
    "all_combinations = []\n",
    "for r in range(1, len(recommender_dict) + 1):\n",
    "    all_combinations.extend(itertools.combinations(recommender_dict.keys(), r))\n",
    "\n",
    "# Convert combinations to string format\n",
    "all_combinations_str = ['_'.join(comb) for comb in all_combinations]\n",
    "\n",
    "def objective(trial):\n",
    "    # Select a combination from the pre-defined list\n",
    "    selected_combination_str = trial.suggest_categorical('selected_combination', all_combinations_str)\n",
    "\n",
    "    # Convert the string back to the original recommender objects\n",
    "    selected_combination = [recommender_dict[name] for name in selected_combination_str.split('_')]\n",
    "\n",
    "    # Dynamically generate weights for the selected recommenders\n",
    "    weights = [trial.suggest_float(f'weight_{i}', 0, 1) for i in range(len(selected_combination))]\n",
    "    \n",
    "    # Create hybrid recommender with the suggested weights\n",
    "    hybrid_recommender = model(URM_train_validation, selected_combination)\n",
    "    hybrid_recommender.fit(weights)\n",
    "    \n",
    "    # Evaluate the hybrid recommender\n",
    "    result, _ = evaluator_validation.evaluateRecommender(hybrid_recommender)\n",
    "    MAP_result = result[\"MAP\"].item()\n",
    "       \n",
    "    return MAP_result"
   ],
   "metadata": {
    "collapsed": false,
    "ExecuteTime": {
     "end_time": "2023-12-20T15:25:19.576687Z",
     "start_time": "2023-12-20T15:25:19.572468Z"
    }
   },
   "id": "c6638bcccbda289b"
  },
  {
   "cell_type": "code",
   "execution_count": null,
   "outputs": [],
   "source": [
    "best_params = {\n",
    "    \"alphas\": 1,\n",
    "}\n",
    "\n",
    "study_name = \"hybrid-allmodels-study\"  # Unique identifier of the study.\n",
    "storage_name = \"sqlite:///db.db\".format(study_name)\n",
    "#op.delete_study(study_name, storage_name)\n",
    "study = op.create_study(study_name=study_name, storage=storage_name, direction=\"maximize\", load_if_exists=True)\n",
    "#study.enqueue_trial(best_params)\n",
    "study.optimize(objective, n_trials=150)"
   ],
   "metadata": {
    "collapsed": false
   },
   "id": "d15388f3e5727d96"
  },
  {
   "cell_type": "code",
   "execution_count": 10,
   "outputs": [
    {
     "data": {
      "text/plain": "{'selected_combination': 'slim_rp3beta_itemknn_easer',\n 'weight_0': 0.5583799998585726,\n 'weight_1': 0.4132791538537288,\n 'weight_2': 0.09774430671009315,\n 'weight_3': 0.08954789778507188}"
     },
     "execution_count": 10,
     "metadata": {},
     "output_type": "execute_result"
    }
   ],
   "source": [
    "study.best_params"
   ],
   "metadata": {
    "collapsed": false,
    "ExecuteTime": {
     "end_time": "2023-12-20T15:55:16.519092Z",
     "start_time": "2023-12-20T15:55:16.508931Z"
    }
   },
   "id": "ac696963697fff90"
  },
  {
   "cell_type": "code",
   "execution_count": 22,
   "outputs": [
    {
     "name": "stdout",
     "output_type": "stream",
     "text": [
      "ScoresHybridRecommender: URM Detected 210 ( 1.7%) users with no interactions.\n",
      "ScoresHybridRecommender: URM Detected 112 ( 0.5%) items with no interactions.\n",
      "DifferentLossScoresHybridRecommender: URM Detected 210 ( 1.7%) users with no interactions.\n",
      "DifferentLossScoresHybridRecommender: URM Detected 112 ( 0.5%) items with no interactions.\n"
     ]
    }
   ],
   "source": [
    "# f_slim = SLIMElasticNetRecommender(URM_train_validation)\n",
    "# f_p3alpha = P3alphaRecommender(URM_train_validation)\n",
    "# f_itemknn = ItemKNNCFRecommender(URM_train_validation)\n",
    "# f_slim.fit(topK=8894, l1_ratio=0.05565733019999427, alpha=0.0012979360257937668)#, workers=7)\n",
    "# f_p3alpha.fit(topK=76, alpha=0.377201600381895, normalize_similarity=True)\n",
    "# f_itemknn.fit(topK=31, shrink=435, similarity='tversky', normalize=True,\n",
    "#                                        feature_weighting='BM25', tversky_alpha=0.17113169506422393, tversky_beta=0.5684024974085575)\n",
    "hybrid = ScoresHybridRecommender(URM_train_validation, slim, rp3beta, itemknn)\n",
    "hybrid.fit(alpha=0.5072513954300486, beta=0.30902582824263064)\n",
    "hybrid_recommender = DifferentLossScoresHybridRecommender(URM_train_validation, hybrid, ease)"
   ],
   "metadata": {
    "collapsed": false,
    "ExecuteTime": {
     "end_time": "2023-12-20T16:53:59.048633Z",
     "start_time": "2023-12-20T16:53:59.032362Z"
    }
   },
   "id": "1cf94f3d15cce754"
  },
  {
   "cell_type": "code",
   "execution_count": 23,
   "outputs": [],
   "source": [
    "def objective(trial):\n",
    "    alpha = trial.suggest_float('alpha', 0, 1)\n",
    "    # Create hybrid recommender with the suggested weights\n",
    "    hybrid_recommender.fit(norm=2, alpha=alpha)\n",
    "    \n",
    "    # Evaluate the hybrid recommender\n",
    "    result, _ = evaluator_validation.evaluateRecommender(hybrid_recommender)\n",
    "    MAP_result = result[\"MAP\"].item()\n",
    "       \n",
    "    return MAP_result"
   ],
   "metadata": {
    "collapsed": false,
    "ExecuteTime": {
     "end_time": "2023-12-20T16:54:00.417261Z",
     "start_time": "2023-12-20T16:54:00.415481Z"
    }
   },
   "id": "23a7609029f4e05e"
  },
  {
   "cell_type": "code",
   "execution_count": null,
   "outputs": [
    {
     "name": "stderr",
     "output_type": "stream",
     "text": [
      "/var/folders/l3/n3yjvx_d2g9dy0ztkyft2th40000gn/T/ipykernel_62032/203401308.py:3: FutureWarning: delete_study(): Please give all values as keyword arguments. See https://github.com/optuna/optuna/issues/3324 for details.\n",
      "  op.delete_study(study_name, storage_name)\n",
      "[I 2023-12-20 17:54:05,889] A new study created in RDB with name: hybrid-slim-rp3-item-ease-study\n"
     ]
    },
    {
     "name": "stdout",
     "output_type": "stream",
     "text": [
      "EvaluatorHoldout: Processed 10438 (100.0%) in 33.74 sec. Users per second: 309\n"
     ]
    },
    {
     "name": "stderr",
     "output_type": "stream",
     "text": [
      "[I 2023-12-20 17:54:39,661] Trial 0 finished with value: 0.05118622964929773 and parameters: {'alpha': 0.8746250801641321}. Best is trial 0 with value: 0.05118622964929773.\n"
     ]
    },
    {
     "name": "stdout",
     "output_type": "stream",
     "text": [
      "EvaluatorHoldout: Processed 10438 (100.0%) in 33.23 sec. Users per second: 314\n"
     ]
    },
    {
     "name": "stderr",
     "output_type": "stream",
     "text": [
      "[I 2023-12-20 17:55:12,914] Trial 1 finished with value: 0.048020001703179015 and parameters: {'alpha': 0.053794447825512126}. Best is trial 0 with value: 0.05118622964929773.\n"
     ]
    },
    {
     "name": "stdout",
     "output_type": "stream",
     "text": [
      "EvaluatorHoldout: Processed 10438 (100.0%) in 33.61 sec. Users per second: 311\n"
     ]
    },
    {
     "name": "stderr",
     "output_type": "stream",
     "text": [
      "[I 2023-12-20 17:55:46,546] Trial 2 finished with value: 0.04860298679732533 and parameters: {'alpha': 0.23249785819557067}. Best is trial 0 with value: 0.05118622964929773.\n"
     ]
    },
    {
     "name": "stdout",
     "output_type": "stream",
     "text": [
      "EvaluatorHoldout: Processed 10438 (100.0%) in 32.98 sec. Users per second: 316\n"
     ]
    },
    {
     "name": "stderr",
     "output_type": "stream",
     "text": [
      "[I 2023-12-20 17:56:19,556] Trial 3 finished with value: 0.05102800892343953 and parameters: {'alpha': 0.8441175780131822}. Best is trial 0 with value: 0.05118622964929773.\n"
     ]
    },
    {
     "name": "stdout",
     "output_type": "stream",
     "text": [
      "EvaluatorHoldout: Processed 10438 (100.0%) in 33.41 sec. Users per second: 312\n"
     ]
    },
    {
     "name": "stderr",
     "output_type": "stream",
     "text": [
      "[I 2023-12-20 17:56:52,996] Trial 4 finished with value: 0.04935263247535774 and parameters: {'alpha': 0.4208694836628617}. Best is trial 0 with value: 0.05118622964929773.\n"
     ]
    },
    {
     "name": "stdout",
     "output_type": "stream",
     "text": [
      "EvaluatorHoldout: Processed 10438 (100.0%) in 32.66 sec. Users per second: 320\n"
     ]
    },
    {
     "name": "stderr",
     "output_type": "stream",
     "text": [
      "[I 2023-12-20 17:57:25,684] Trial 5 finished with value: 0.0480226172988201 and parameters: {'alpha': 0.054009460800097386}. Best is trial 0 with value: 0.05118622964929773.\n"
     ]
    },
    {
     "name": "stdout",
     "output_type": "stream",
     "text": [
      "EvaluatorHoldout: Processed 10438 (100.0%) in 32.31 sec. Users per second: 323\n"
     ]
    },
    {
     "name": "stderr",
     "output_type": "stream",
     "text": [
      "[I 2023-12-20 17:57:58,014] Trial 6 finished with value: 0.04979034556276419 and parameters: {'alpha': 0.514827249571971}. Best is trial 0 with value: 0.05118622964929773.\n"
     ]
    },
    {
     "name": "stdout",
     "output_type": "stream",
     "text": [
      "EvaluatorHoldout: Processed 10438 (100.0%) in 32.58 sec. Users per second: 320\n"
     ]
    },
    {
     "name": "stderr",
     "output_type": "stream",
     "text": [
      "[I 2023-12-20 17:58:30,619] Trial 7 finished with value: 0.04924483800034734 and parameters: {'alpha': 0.39105938495025294}. Best is trial 0 with value: 0.05118622964929773.\n"
     ]
    },
    {
     "name": "stdout",
     "output_type": "stream",
     "text": [
      "EvaluatorHoldout: Processed 10438 (100.0%) in 32.82 sec. Users per second: 318\n"
     ]
    },
    {
     "name": "stderr",
     "output_type": "stream",
     "text": [
      "[I 2023-12-20 17:59:03,466] Trial 8 finished with value: 0.05131103309945073 and parameters: {'alpha': 0.9133347903892517}. Best is trial 8 with value: 0.05131103309945073.\n"
     ]
    },
    {
     "name": "stdout",
     "output_type": "stream",
     "text": [
      "EvaluatorHoldout: Processed 10438 (100.0%) in 33.06 sec. Users per second: 316\n"
     ]
    },
    {
     "name": "stderr",
     "output_type": "stream",
     "text": [
      "[I 2023-12-20 17:59:36,546] Trial 9 finished with value: 0.051456445770491105 and parameters: {'alpha': 0.9811063067768981}. Best is trial 9 with value: 0.051456445770491105.\n"
     ]
    },
    {
     "name": "stdout",
     "output_type": "stream",
     "text": [
      "EvaluatorHoldout: Processed 10438 (100.0%) in 32.82 sec. Users per second: 318\n"
     ]
    },
    {
     "name": "stderr",
     "output_type": "stream",
     "text": [
      "[I 2023-12-20 18:00:09,391] Trial 10 finished with value: 0.05148904947429618 and parameters: {'alpha': 0.9951364222876106}. Best is trial 10 with value: 0.05148904947429618.\n"
     ]
    },
    {
     "name": "stdout",
     "output_type": "stream",
     "text": [
      "EvaluatorHoldout: Processed 10438 (100.0%) in 32.23 sec. Users per second: 324\n"
     ]
    },
    {
     "name": "stderr",
     "output_type": "stream",
     "text": [
      "[I 2023-12-20 18:00:41,648] Trial 11 finished with value: 0.0515044275039011 and parameters: {'alpha': 0.9996158950221007}. Best is trial 11 with value: 0.0515044275039011.\n"
     ]
    },
    {
     "name": "stdout",
     "output_type": "stream",
     "text": [
      "EvaluatorHoldout: Processed 10438 (100.0%) in 32.64 sec. Users per second: 320\n"
     ]
    },
    {
     "name": "stderr",
     "output_type": "stream",
     "text": [
      "[I 2023-12-20 18:01:14,318] Trial 12 finished with value: 0.05084218758078741 and parameters: {'alpha': 0.7559993903316934}. Best is trial 11 with value: 0.0515044275039011.\n"
     ]
    },
    {
     "name": "stdout",
     "output_type": "stream",
     "text": [
      "EvaluatorHoldout: Processed 10438 (100.0%) in 32.58 sec. Users per second: 320\n"
     ]
    },
    {
     "name": "stderr",
     "output_type": "stream",
     "text": [
      "[I 2023-12-20 18:01:46,922] Trial 13 finished with value: 0.050774900622573074 and parameters: {'alpha': 0.7197389907767968}. Best is trial 11 with value: 0.0515044275039011.\n"
     ]
    },
    {
     "name": "stdout",
     "output_type": "stream",
     "text": [
      "EvaluatorHoldout: Processed 10438 (100.0%) in 32.61 sec. Users per second: 320\n"
     ]
    },
    {
     "name": "stderr",
     "output_type": "stream",
     "text": [
      "[I 2023-12-20 18:02:19,563] Trial 14 finished with value: 0.051518364674860664 and parameters: {'alpha': 0.9968904202375609}. Best is trial 14 with value: 0.051518364674860664.\n"
     ]
    },
    {
     "name": "stdout",
     "output_type": "stream",
     "text": [
      "EvaluatorHoldout: Processed 10438 (100.0%) in 32.41 sec. Users per second: 322\n"
     ]
    },
    {
     "name": "stderr",
     "output_type": "stream",
     "text": [
      "[I 2023-12-20 18:02:51,994] Trial 15 finished with value: 0.0506785759906573 and parameters: {'alpha': 0.6980746071513086}. Best is trial 14 with value: 0.051518364674860664.\n"
     ]
    },
    {
     "name": "stdout",
     "output_type": "stream",
     "text": [
      "EvaluatorHoldout: Processed 10438 (100.0%) in 32.28 sec. Users per second: 323\n"
     ]
    },
    {
     "name": "stderr",
     "output_type": "stream",
     "text": [
      "[I 2023-12-20 18:03:24,295] Trial 16 finished with value: 0.050967785594151244 and parameters: {'alpha': 0.821937421144814}. Best is trial 14 with value: 0.051518364674860664.\n"
     ]
    },
    {
     "name": "stdout",
     "output_type": "stream",
     "text": [
      "EvaluatorHoldout: Processed 10438 (100.0%) in 32.87 sec. Users per second: 318\n"
     ]
    },
    {
     "name": "stderr",
     "output_type": "stream",
     "text": [
      "[I 2023-12-20 18:03:57,188] Trial 17 finished with value: 0.05145042761947392 and parameters: {'alpha': 0.9823000095645492}. Best is trial 14 with value: 0.051518364674860664.\n"
     ]
    },
    {
     "name": "stdout",
     "output_type": "stream",
     "text": [
      "EvaluatorHoldout: Processed 10438 (100.0%) in 33.01 sec. Users per second: 316\n"
     ]
    },
    {
     "name": "stderr",
     "output_type": "stream",
     "text": [
      "[I 2023-12-20 18:04:30,219] Trial 18 finished with value: 0.05037102300203516 and parameters: {'alpha': 0.6411372078172117}. Best is trial 14 with value: 0.051518364674860664.\n"
     ]
    },
    {
     "name": "stdout",
     "output_type": "stream",
     "text": [
      "EvaluatorHoldout: Processed 10438 (100.0%) in 33.33 sec. Users per second: 313\n"
     ]
    },
    {
     "name": "stderr",
     "output_type": "stream",
     "text": [
      "[I 2023-12-20 18:05:03,575] Trial 19 finished with value: 0.05099673582788214 and parameters: {'alpha': 0.7995375741812883}. Best is trial 14 with value: 0.051518364674860664.\n"
     ]
    },
    {
     "name": "stdout",
     "output_type": "stream",
     "text": [
      "EvaluatorHoldout: Processed 10438 (100.0%) in 32.94 sec. Users per second: 317\n"
     ]
    },
    {
     "name": "stderr",
     "output_type": "stream",
     "text": [
      "[I 2023-12-20 18:05:36,543] Trial 20 finished with value: 0.05130525065618031 and parameters: {'alpha': 0.907228840109343}. Best is trial 14 with value: 0.051518364674860664.\n"
     ]
    },
    {
     "name": "stdout",
     "output_type": "stream",
     "text": [
      "EvaluatorHoldout: Processed 10438 (100.0%) in 32.39 sec. Users per second: 322\n"
     ]
    },
    {
     "name": "stderr",
     "output_type": "stream",
     "text": [
      "[I 2023-12-20 18:06:08,959] Trial 21 finished with value: 0.05147292250233473 and parameters: {'alpha': 0.9706822190003686}. Best is trial 14 with value: 0.051518364674860664.\n"
     ]
    },
    {
     "name": "stdout",
     "output_type": "stream",
     "text": [
      "EvaluatorHoldout: Processed 10438 (100.0%) in 32.11 sec. Users per second: 325\n"
     ]
    },
    {
     "name": "stderr",
     "output_type": "stream",
     "text": [
      "[I 2023-12-20 18:06:41,094] Trial 22 finished with value: 0.0512530908128728 and parameters: {'alpha': 0.9211404824434126}. Best is trial 14 with value: 0.051518364674860664.\n"
     ]
    },
    {
     "name": "stdout",
     "output_type": "stream",
     "text": [
      "EvaluatorHoldout: Processed 10438 (100.0%) in 32.39 sec. Users per second: 322\n"
     ]
    },
    {
     "name": "stderr",
     "output_type": "stream",
     "text": [
      "[I 2023-12-20 18:07:13,513] Trial 23 finished with value: 0.05146188985909286 and parameters: {'alpha': 0.980425907272557}. Best is trial 14 with value: 0.051518364674860664.\n"
     ]
    },
    {
     "name": "stdout",
     "output_type": "stream",
     "text": [
      "EvaluatorHoldout: Processed 10438 (100.0%) in 32.80 sec. Users per second: 318\n"
     ]
    },
    {
     "name": "stderr",
     "output_type": "stream",
     "text": [
      "[I 2023-12-20 18:07:46,333] Trial 24 finished with value: 0.05103392442753477 and parameters: {'alpha': 0.8453944436896914}. Best is trial 14 with value: 0.051518364674860664.\n"
     ]
    },
    {
     "name": "stdout",
     "output_type": "stream",
     "text": [
      "EvaluatorHoldout: Processed 10438 (100.0%) in 32.42 sec. Users per second: 322\n"
     ]
    },
    {
     "name": "stderr",
     "output_type": "stream",
     "text": [
      "[I 2023-12-20 18:08:18,778] Trial 25 finished with value: 0.05037450159216828 and parameters: {'alpha': 0.6402930458896241}. Best is trial 14 with value: 0.051518364674860664.\n"
     ]
    },
    {
     "name": "stdout",
     "output_type": "stream",
     "text": [
      "EvaluatorHoldout: Processed 10438 (100.0%) in 33.18 sec. Users per second: 315\n"
     ]
    },
    {
     "name": "stderr",
     "output_type": "stream",
     "text": [
      "[I 2023-12-20 18:08:51,991] Trial 26 finished with value: 0.0514933720502321 and parameters: {'alpha': 0.9990287510468414}. Best is trial 14 with value: 0.051518364674860664.\n"
     ]
    },
    {
     "name": "stdout",
     "output_type": "stream",
     "text": [
      "EvaluatorHoldout: Processed 10438 (100.0%) in 33.60 sec. Users per second: 311\n"
     ]
    },
    {
     "name": "stderr",
     "output_type": "stream",
     "text": [
      "[I 2023-12-20 18:09:25,643] Trial 27 finished with value: 0.05097941130849785 and parameters: {'alpha': 0.7832610355572861}. Best is trial 14 with value: 0.051518364674860664.\n"
     ]
    },
    {
     "name": "stdout",
     "output_type": "stream",
     "text": [
      "EvaluatorHoldout: Processed 10438 (100.0%) in 33.08 sec. Users per second: 316\n"
     ]
    },
    {
     "name": "stderr",
     "output_type": "stream",
     "text": [
      "[I 2023-12-20 18:09:58,755] Trial 28 finished with value: 0.05128913508943246 and parameters: {'alpha': 0.904831830394736}. Best is trial 14 with value: 0.051518364674860664.\n"
     ]
    },
    {
     "name": "stdout",
     "output_type": "stream",
     "text": [
      "EvaluatorHoldout: Processed 10438 (100.0%) in 33.20 sec. Users per second: 314\n"
     ]
    },
    {
     "name": "stderr",
     "output_type": "stream",
     "text": [
      "[I 2023-12-20 18:10:31,994] Trial 29 finished with value: 0.05121830871327948 and parameters: {'alpha': 0.8666761555907504}. Best is trial 14 with value: 0.051518364674860664.\n"
     ]
    },
    {
     "name": "stdout",
     "output_type": "stream",
     "text": [
      "EvaluatorHoldout: Processed 10438 (100.0%) in 33.06 sec. Users per second: 316\n"
     ]
    },
    {
     "name": "stderr",
     "output_type": "stream",
     "text": [
      "[I 2023-12-20 18:11:05,079] Trial 30 finished with value: 0.05120342490959517 and parameters: {'alpha': 0.886090803480516}. Best is trial 14 with value: 0.051518364674860664.\n"
     ]
    },
    {
     "name": "stdout",
     "output_type": "stream",
     "text": [
      "EvaluatorHoldout: Processed 10438 (100.0%) in 33.13 sec. Users per second: 315\n"
     ]
    },
    {
     "name": "stderr",
     "output_type": "stream",
     "text": [
      "[I 2023-12-20 18:11:38,250] Trial 31 finished with value: 0.05150007451406236 and parameters: {'alpha': 0.9898564101278752}. Best is trial 14 with value: 0.051518364674860664.\n"
     ]
    },
    {
     "name": "stdout",
     "output_type": "stream",
     "text": [
      "EvaluatorHoldout: Processed 10438 (100.0%) in 32.34 sec. Users per second: 323\n"
     ]
    },
    {
     "name": "stderr",
     "output_type": "stream",
     "text": [
      "[I 2023-12-20 18:12:10,619] Trial 32 finished with value: 0.051500846266846 and parameters: {'alpha': 0.9992600566645987}. Best is trial 14 with value: 0.051518364674860664.\n"
     ]
    },
    {
     "name": "stdout",
     "output_type": "stream",
     "text": [
      "EvaluatorHoldout: Processed 10438 (100.0%) in 32.30 sec. Users per second: 323\n"
     ]
    },
    {
     "name": "stderr",
     "output_type": "stream",
     "text": [
      "[I 2023-12-20 18:12:42,945] Trial 33 finished with value: 0.05130420898000932 and parameters: {'alpha': 0.9413114861784858}. Best is trial 14 with value: 0.051518364674860664.\n"
     ]
    },
    {
     "name": "stdout",
     "output_type": "stream",
     "text": [
      "EvaluatorHoldout: Processed 10438 (100.0%) in 32.23 sec. Users per second: 324\n"
     ]
    },
    {
     "name": "stderr",
     "output_type": "stream",
     "text": [
      "[I 2023-12-20 18:13:15,199] Trial 34 finished with value: 0.05118674288390754 and parameters: {'alpha': 0.874651038049078}. Best is trial 14 with value: 0.051518364674860664.\n"
     ]
    },
    {
     "name": "stdout",
     "output_type": "stream",
     "text": [
      "EvaluatorHoldout: Processed 10438 (100.0%) in 32.21 sec. Users per second: 324\n"
     ]
    },
    {
     "name": "stderr",
     "output_type": "stream",
     "text": [
      "[I 2023-12-20 18:13:47,428] Trial 35 finished with value: 0.05128368719909281 and parameters: {'alpha': 0.9302587878432262}. Best is trial 14 with value: 0.051518364674860664.\n"
     ]
    },
    {
     "name": "stdout",
     "output_type": "stream",
     "text": [
      "EvaluatorHoldout: Processed 10438 (100.0%) in 31.89 sec. Users per second: 327\n"
     ]
    },
    {
     "name": "stderr",
     "output_type": "stream",
     "text": [
      "[I 2023-12-20 18:14:19,342] Trial 36 finished with value: 0.051126527158094945 and parameters: {'alpha': 0.8553514060799812}. Best is trial 14 with value: 0.051518364674860664.\n"
     ]
    },
    {
     "name": "stdout",
     "output_type": "stream",
     "text": [
      "EvaluatorHoldout: Processed 10438 (100.0%) in 31.99 sec. Users per second: 326\n"
     ]
    },
    {
     "name": "stderr",
     "output_type": "stream",
     "text": [
      "[I 2023-12-20 18:14:51,354] Trial 37 finished with value: 0.050983327098483716 and parameters: {'alpha': 0.8172074590627749}. Best is trial 14 with value: 0.051518364674860664.\n"
     ]
    },
    {
     "name": "stdout",
     "output_type": "stream",
     "text": [
      "EvaluatorHoldout: Processed 10438 (100.0%) in 33.89 sec. Users per second: 308\n"
     ]
    },
    {
     "name": "stderr",
     "output_type": "stream",
     "text": [
      "[I 2023-12-20 18:15:25,276] Trial 38 finished with value: 0.05129272773170108 and parameters: {'alpha': 0.9371873158835349}. Best is trial 14 with value: 0.051518364674860664.\n"
     ]
    },
    {
     "name": "stdout",
     "output_type": "stream",
     "text": [
      "EvaluatorHoldout: Processed 10438 (100.0%) in 34.00 sec. Users per second: 307\n"
     ]
    },
    {
     "name": "stderr",
     "output_type": "stream",
     "text": [
      "[I 2023-12-20 18:15:59,310] Trial 39 finished with value: 0.05114756977709696 and parameters: {'alpha': 0.8611753972562004}. Best is trial 14 with value: 0.051518364674860664.\n"
     ]
    },
    {
     "name": "stdout",
     "output_type": "stream",
     "text": [
      "EvaluatorHoldout: Processed 10438 (100.0%) in 33.06 sec. Users per second: 316\n"
     ]
    },
    {
     "name": "stderr",
     "output_type": "stream",
     "text": [
      "[I 2023-12-20 18:16:32,414] Trial 40 finished with value: 0.05129608086448513 and parameters: {'alpha': 0.9368909052360227}. Best is trial 14 with value: 0.051518364674860664.\n"
     ]
    },
    {
     "name": "stdout",
     "output_type": "stream",
     "text": [
      "EvaluatorHoldout: Processed 10438 (100.0%) in 34.00 sec. Users per second: 307\n"
     ]
    },
    {
     "name": "stderr",
     "output_type": "stream",
     "text": [
      "[I 2023-12-20 18:17:06,461] Trial 41 finished with value: 0.05144684638241883 and parameters: {'alpha': 0.981811869892121}. Best is trial 14 with value: 0.051518364674860664.\n"
     ]
    },
    {
     "name": "stdout",
     "output_type": "stream",
     "text": [
      "EvaluatorHoldout: Processed 10438 (100.0%) in 32.99 sec. Users per second: 316\n"
     ]
    },
    {
     "name": "stderr",
     "output_type": "stream",
     "text": [
      "[I 2023-12-20 18:17:39,481] Trial 42 finished with value: 0.0514292101205307 and parameters: {'alpha': 0.9569741207576221}. Best is trial 14 with value: 0.051518364674860664.\n"
     ]
    },
    {
     "name": "stdout",
     "output_type": "stream",
     "text": [
      "EvaluatorHoldout: Processed 10438 (100.0%) in 33.79 sec. Users per second: 309\n"
     ]
    },
    {
     "name": "stderr",
     "output_type": "stream",
     "text": [
      "[I 2023-12-20 18:18:13,309] Trial 43 finished with value: 0.051478123279714114 and parameters: {'alpha': 0.9927650340645718}. Best is trial 14 with value: 0.051518364674860664.\n"
     ]
    },
    {
     "name": "stdout",
     "output_type": "stream",
     "text": [
      "EvaluatorHoldout: Processed 10438 (100.0%) in 33.03 sec. Users per second: 316\n"
     ]
    },
    {
     "name": "stderr",
     "output_type": "stream",
     "text": [
      "[I 2023-12-20 18:18:46,365] Trial 44 finished with value: 0.05122746329802326 and parameters: {'alpha': 0.883143971840884}. Best is trial 14 with value: 0.051518364674860664.\n"
     ]
    },
    {
     "name": "stdout",
     "output_type": "stream",
     "text": [
      "EvaluatorHoldout: Processed 10438 (100.0%) in 32.47 sec. Users per second: 321\n"
     ]
    },
    {
     "name": "stderr",
     "output_type": "stream",
     "text": [
      "[I 2023-12-20 18:19:18,860] Trial 45 finished with value: 0.051512422558600474 and parameters: {'alpha': 0.9976774131178362}. Best is trial 14 with value: 0.051518364674860664.\n"
     ]
    },
    {
     "name": "stdout",
     "output_type": "stream",
     "text": [
      "EvaluatorHoldout: Processed 10438 (100.0%) in 32.17 sec. Users per second: 324\n"
     ]
    },
    {
     "name": "stderr",
     "output_type": "stream",
     "text": [
      "[I 2023-12-20 18:19:51,063] Trial 46 finished with value: 0.05130279093179109 and parameters: {'alpha': 0.9166972226214958}. Best is trial 14 with value: 0.051518364674860664.\n"
     ]
    },
    {
     "name": "stdout",
     "output_type": "stream",
     "text": [
      "EvaluatorHoldout: Processed 10438 (100.0%) in 31.87 sec. Users per second: 328\n"
     ]
    },
    {
     "name": "stderr",
     "output_type": "stream",
     "text": [
      "[I 2023-12-20 18:20:22,955] Trial 47 finished with value: 0.05151937973886672 and parameters: {'alpha': 0.9971814706093495}. Best is trial 47 with value: 0.05151937973886672.\n"
     ]
    },
    {
     "name": "stdout",
     "output_type": "stream",
     "text": [
      "EvaluatorHoldout: Processed 10438 (100.0%) in 32.65 sec. Users per second: 320\n"
     ]
    },
    {
     "name": "stderr",
     "output_type": "stream",
     "text": [
      "[I 2023-12-20 18:20:55,634] Trial 48 finished with value: 0.05093362697956541 and parameters: {'alpha': 0.7722289470923502}. Best is trial 47 with value: 0.05151937973886672.\n"
     ]
    },
    {
     "name": "stdout",
     "output_type": "stream",
     "text": [
      "EvaluatorHoldout: Processed 10438 (100.0%) in 35.36 sec. Users per second: 295\n"
     ]
    },
    {
     "name": "stderr",
     "output_type": "stream",
     "text": [
      "[I 2023-12-20 18:21:31,028] Trial 49 finished with value: 0.05096036460186722 and parameters: {'alpha': 0.826650073209899}. Best is trial 47 with value: 0.05151937973886672.\n"
     ]
    },
    {
     "name": "stdout",
     "output_type": "stream",
     "text": [
      "EvaluatorHoldout: Processed 10438 (100.0%) in 36.26 sec. Users per second: 288\n"
     ]
    },
    {
     "name": "stderr",
     "output_type": "stream",
     "text": [
      "[I 2023-12-20 18:22:07,330] Trial 50 finished with value: 0.051331254543077104 and parameters: {'alpha': 0.9437207479495611}. Best is trial 47 with value: 0.05151937973886672.\n"
     ]
    },
    {
     "name": "stdout",
     "output_type": "stream",
     "text": [
      "EvaluatorHoldout: Processed 10438 (100.0%) in 36.09 sec. Users per second: 289\n"
     ]
    },
    {
     "name": "stderr",
     "output_type": "stream",
     "text": [
      "[I 2023-12-20 18:22:43,462] Trial 51 finished with value: 0.05143028601234237 and parameters: {'alpha': 0.9575693868717592}. Best is trial 47 with value: 0.05151937973886672.\n"
     ]
    },
    {
     "name": "stdout",
     "output_type": "stream",
     "text": [
      "EvaluatorHoldout: Processed 10438 (100.0%) in 36.94 sec. Users per second: 283\n"
     ]
    },
    {
     "name": "stderr",
     "output_type": "stream",
     "text": [
      "[I 2023-12-20 18:23:20,445] Trial 52 finished with value: 0.05149332642937788 and parameters: {'alpha': 0.9946395657292375}. Best is trial 47 with value: 0.05151937973886672.\n"
     ]
    },
    {
     "name": "stdout",
     "output_type": "stream",
     "text": [
      "EvaluatorHoldout: Processed 10438 (100.0%) in 38.43 sec. Users per second: 272\n"
     ]
    },
    {
     "name": "stderr",
     "output_type": "stream",
     "text": [
      "[I 2023-12-20 18:23:58,907] Trial 53 finished with value: 0.051494238846461995 and parameters: {'alpha': 0.9986710762173755}. Best is trial 47 with value: 0.05151937973886672.\n"
     ]
    },
    {
     "name": "stdout",
     "output_type": "stream",
     "text": [
      "EvaluatorHoldout: Processed 10438 (100.0%) in 34.34 sec. Users per second: 304\n"
     ]
    },
    {
     "name": "stderr",
     "output_type": "stream",
     "text": [
      "[I 2023-12-20 18:24:33,290] Trial 54 finished with value: 0.051272449262007004 and parameters: {'alpha': 0.9041748034400581}. Best is trial 47 with value: 0.05151937973886672.\n"
     ]
    },
    {
     "name": "stdout",
     "output_type": "stream",
     "text": [
      "EvaluatorHoldout: Processed 10438 (100.0%) in 33.30 sec. Users per second: 313\n"
     ]
    },
    {
     "name": "stderr",
     "output_type": "stream",
     "text": [
      "[I 2023-12-20 18:25:06,616] Trial 55 finished with value: 0.051346982332564246 and parameters: {'alpha': 0.9458627746234495}. Best is trial 47 with value: 0.05151937973886672.\n"
     ]
    },
    {
     "name": "stdout",
     "output_type": "stream",
     "text": [
      "EvaluatorHoldout: Processed 10438 (100.0%) in 32.97 sec. Users per second: 317\n"
     ]
    },
    {
     "name": "stderr",
     "output_type": "stream",
     "text": [
      "[I 2023-12-20 18:25:39,622] Trial 56 finished with value: 0.05127685547617571 and parameters: {'alpha': 0.8981989057763436}. Best is trial 47 with value: 0.05151937973886672.\n"
     ]
    },
    {
     "name": "stdout",
     "output_type": "stream",
     "text": [
      "EvaluatorHoldout: Processed 10438 (100.0%) in 36.86 sec. Users per second: 283\n"
     ]
    },
    {
     "name": "stderr",
     "output_type": "stream",
     "text": [
      "[I 2023-12-20 18:26:16,520] Trial 57 finished with value: 0.05101645164037428 and parameters: {'alpha': 0.843599034418067}. Best is trial 47 with value: 0.05151937973886672.\n"
     ]
    },
    {
     "name": "stdout",
     "output_type": "stream",
     "text": [
      "EvaluatorHoldout: Processed 10438 (100.0%) in 40.46 sec. Users per second: 258\n"
     ]
    },
    {
     "name": "stderr",
     "output_type": "stream",
     "text": [
      "[I 2023-12-20 18:26:57,035] Trial 58 finished with value: 0.05143300805664328 and parameters: {'alpha': 0.9616816030483573}. Best is trial 47 with value: 0.05151937973886672.\n"
     ]
    },
    {
     "name": "stdout",
     "output_type": "stream",
     "text": [
      "EvaluatorHoldout: Processed 10438 (100.0%) in 35.66 sec. Users per second: 293\n"
     ]
    },
    {
     "name": "stderr",
     "output_type": "stream",
     "text": [
      "[I 2023-12-20 18:27:32,736] Trial 59 finished with value: 0.050816202702579874 and parameters: {'alpha': 0.7431105275238226}. Best is trial 47 with value: 0.05151937973886672.\n"
     ]
    },
    {
     "name": "stdout",
     "output_type": "stream",
     "text": [
      "EvaluatorHoldout: Processed 10438 (100.0%) in 32.70 sec. Users per second: 319\n"
     ]
    },
    {
     "name": "stderr",
     "output_type": "stream",
     "text": [
      "[I 2023-12-20 18:28:05,470] Trial 60 finished with value: 0.050991892413860734 and parameters: {'alpha': 0.7937453070356981}. Best is trial 47 with value: 0.05151937973886672.\n"
     ]
    },
    {
     "name": "stdout",
     "output_type": "stream",
     "text": [
      "EvaluatorHoldout: Processed 10438 (100.0%) in 34.56 sec. Users per second: 302\n"
     ]
    },
    {
     "name": "stderr",
     "output_type": "stream",
     "text": [
      "[I 2023-12-20 18:28:40,064] Trial 61 finished with value: 0.0515012454493203 and parameters: {'alpha': 0.999321054321762}. Best is trial 47 with value: 0.05151937973886672.\n"
     ]
    },
    {
     "name": "stdout",
     "output_type": "stream",
     "text": [
      "EvaluatorHoldout: Processed 10438 (100.0%) in 36.05 sec. Users per second: 290\n"
     ]
    },
    {
     "name": "stderr",
     "output_type": "stream",
     "text": [
      "[I 2023-12-20 18:29:16,154] Trial 62 finished with value: 0.05148440375064293 and parameters: {'alpha': 0.9675058932644693}. Best is trial 47 with value: 0.05151937973886672.\n"
     ]
    },
    {
     "name": "stdout",
     "output_type": "stream",
     "text": [
      "EvaluatorHoldout: Processed 10438 (100.0%) in 35.88 sec. Users per second: 291\n"
     ]
    },
    {
     "name": "stderr",
     "output_type": "stream",
     "text": [
      "[I 2023-12-20 18:29:52,080] Trial 63 finished with value: 0.05130911702357415 and parameters: {'alpha': 0.9114531602741505}. Best is trial 47 with value: 0.05151937973886672.\n"
     ]
    },
    {
     "name": "stdout",
     "output_type": "stream",
     "text": [
      "EvaluatorHoldout: Processed 10438 (100.0%) in 34.32 sec. Users per second: 304\n"
     ]
    },
    {
     "name": "stderr",
     "output_type": "stream",
     "text": [
      "[I 2023-12-20 18:30:26,431] Trial 64 finished with value: 0.05147665580890383 and parameters: {'alpha': 0.9683263126922802}. Best is trial 47 with value: 0.05151937973886672.\n"
     ]
    },
    {
     "name": "stdout",
     "output_type": "stream",
     "text": [
      "EvaluatorHoldout: Processed 10438 (100.0%) in 35.94 sec. Users per second: 290\n"
     ]
    },
    {
     "name": "stderr",
     "output_type": "stream",
     "text": [
      "[I 2023-12-20 18:31:02,404] Trial 65 finished with value: 0.05149043710861157 and parameters: {'alpha': 0.9980288409299989}. Best is trial 47 with value: 0.05151937973886672.\n"
     ]
    },
    {
     "name": "stdout",
     "output_type": "stream",
     "text": [
      "EvaluatorHoldout: Processed 10438 (100.0%) in 33.78 sec. Users per second: 309\n"
     ]
    },
    {
     "name": "stderr",
     "output_type": "stream",
     "text": [
      "[I 2023-12-20 18:31:36,228] Trial 66 finished with value: 0.05126348856589372 and parameters: {'alpha': 0.8917734106864963}. Best is trial 47 with value: 0.05151937973886672.\n"
     ]
    },
    {
     "name": "stdout",
     "output_type": "stream",
     "text": [
      "EvaluatorHoldout: Processed 10438 (100.0%) in 32.60 sec. Users per second: 320\n"
     ]
    },
    {
     "name": "stderr",
     "output_type": "stream",
     "text": [
      "[I 2023-12-20 18:32:08,864] Trial 67 finished with value: 0.05127434632919438 and parameters: {'alpha': 0.9293239959262128}. Best is trial 47 with value: 0.05151937973886672.\n"
     ]
    },
    {
     "name": "stdout",
     "output_type": "stream",
     "text": [
      "EvaluatorHoldout: Processed 10438 (100.0%) in 33.81 sec. Users per second: 309\n"
     ]
    },
    {
     "name": "stderr",
     "output_type": "stream",
     "text": [
      "[I 2023-12-20 18:32:42,711] Trial 68 finished with value: 0.051483472324869585 and parameters: {'alpha': 0.9672742970974996}. Best is trial 47 with value: 0.05151937973886672.\n"
     ]
    }
   ],
   "source": [
    "study_name = \"hybrid-slim-rp3-item-ease-study\"  # Unique identifier of the study.\n",
    "storage_name = \"sqlite:///db.db\"\n",
    "op.delete_study(study_name, storage_name)\n",
    "study = op.create_study(study_name=study_name, storage=storage_name, direction=\"maximize\", load_if_exists=True)\n",
    "#study.enqueue_trial(best_params)\n",
    "study.optimize(objective, n_trials=150)"
   ],
   "metadata": {
    "collapsed": false,
    "is_executing": true,
    "ExecuteTime": {
     "start_time": "2023-12-20T16:54:05.811889Z"
    }
   },
   "id": "52b5055a66579bf3"
  },
  {
   "cell_type": "code",
   "execution_count": 16,
   "outputs": [
    {
     "data": {
      "text/plain": "{'alpha': 0.8857667100747117,\n 'beta': 0.6379807942443021,\n 'gamma': 0.0690929184825888,\n 'delta': 0.11953478623354052}"
     },
     "execution_count": 16,
     "metadata": {},
     "output_type": "execute_result"
    }
   ],
   "source": [
    "study.best_params"
   ],
   "metadata": {
    "collapsed": false,
    "ExecuteTime": {
     "end_time": "2023-12-20T16:34:08.621166Z",
     "start_time": "2023-12-20T16:34:08.614300Z"
    }
   },
   "id": "731a6647494c1cea"
  }
 ],
 "metadata": {
  "kernelspec": {
   "display_name": "Python 3",
   "language": "python",
   "name": "python3"
  },
  "language_info": {
   "codemirror_mode": {
    "name": "ipython",
    "version": 2
   },
   "file_extension": ".py",
   "mimetype": "text/x-python",
   "name": "python",
   "nbconvert_exporter": "python",
   "pygments_lexer": "ipython2",
   "version": "2.7.6"
  }
 },
 "nbformat": 4,
 "nbformat_minor": 5
}
