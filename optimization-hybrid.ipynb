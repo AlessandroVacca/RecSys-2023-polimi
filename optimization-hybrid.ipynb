{
 "cells": [
  {
   "cell_type": "code",
   "execution_count": 4,
   "outputs": [
    {
     "name": "stdout",
     "output_type": "stream",
     "text": [
      "Warning: 218 (1.72 %) of 12638 users have no train items\n",
      "Warning: 2237 (17.70 %) of 12638 users have no sampled items\n",
      "Warning: 451 (3.57 %) of 12638 users have no train items\n",
      "Warning: 2608 (20.64 %) of 12638 users have no sampled items\n"
     ]
    }
   ],
   "source": [
    "from Data_manager.UserUtils import *\n",
    "from Data_manager.split_functions.split_train_validation_random_holdout import \\\n",
    "    split_train_in_two_percentage_global_sample\n",
    "URM_all = getURM_all()\n",
    "URM_train_validation, URM_test = split_train_in_two_percentage_global_sample(URM_all, train_percentage = 0.80)\n",
    "URM_train, URM_validation = split_train_in_two_percentage_global_sample(URM_train_validation, train_percentage = 0.80)"
   ],
   "metadata": {
    "collapsed": false,
    "ExecuteTime": {
     "end_time": "2023-11-30T19:07:21.228717Z",
     "start_time": "2023-11-30T19:07:19.917027Z"
    }
   },
   "id": "a884190b64cf557"
  },
  {
   "cell_type": "code",
   "execution_count": 5,
   "outputs": [
    {
     "name": "stdout",
     "output_type": "stream",
     "text": [
      "SLIMElasticNetRecommender: URM Detected 451 ( 3.6%) users with no interactions.\n",
      "SLIMElasticNetRecommender: URM Detected 315 ( 1.4%) items with no interactions.\n"
     ]
    },
    {
     "name": "stderr",
     "output_type": "stream",
     "text": [
      "100%|█████████▉| 22216/22222 [01:34<00:00, 235.74it/s]\n"
     ]
    },
    {
     "name": "stdout",
     "output_type": "stream",
     "text": [
      "PureSVDRecommender: URM Detected 451 ( 3.6%) users with no interactions.\n",
      "PureSVDRecommender: URM Detected 315 ( 1.4%) items with no interactions.\n",
      "PureSVDRecommender: Computing SVD decomposition...\n",
      "PureSVDRecommender: Computing SVD decomposition... done in 0.57 sec\n",
      "P3alphaRecommender: URM Detected 451 ( 3.6%) users with no interactions.\n",
      "P3alphaRecommender: URM Detected 315 ( 1.4%) items with no interactions.\n",
      "P3alphaRecommender: Similarity column 22222 (100.0%), 9041.58 column/sec. Elapsed time 2.46 sec\n",
      "RP3betaRecommender: URM Detected 451 ( 3.6%) users with no interactions.\n",
      "RP3betaRecommender: URM Detected 315 ( 1.4%) items with no interactions.\n",
      "RP3betaRecommender: Similarity column 22222 (100.0%), 7839.76 column/sec. Elapsed time 2.83 sec\n",
      "UserKNNCFRecommender: URM Detected 451 ( 3.6%) users with no interactions.\n",
      "UserKNNCFRecommender: URM Detected 315 ( 1.4%) items with no interactions.\n",
      "Similarity column 12638 (100.0%), 12405.01 column/sec. Elapsed time 1.02 sec\n",
      "ItemKNNCFRecommender: URM Detected 451 ( 3.6%) users with no interactions.\n",
      "ItemKNNCFRecommender: URM Detected 315 ( 1.4%) items with no interactions.\n",
      "Similarity column 22222 (100.0%), 11979.11 column/sec. Elapsed time 1.86 sec\n",
      "EASE_R_Recommender: URM Detected 451 ( 3.6%) users with no interactions.\n",
      "EASE_R_Recommender: URM Detected 315 ( 1.4%) items with no interactions.\n",
      "EASE_R_Recommender: Fitting model... \n",
      "EASE_R_Recommender: Fitting model... done in 2.53 min\n",
      "EvaluatorHoldout: Ignoring 2608 (20.6%) Users that have less than 1 test interactions\n"
     ]
    }
   ],
   "source": [
    "from Hybrid import *\n",
    "from Recommenders.SLIM.SLIMElasticNetRecommender import *\n",
    "from Recommenders.MatrixFactorization.PureSVDRecommender import PureSVDRecommender\n",
    "from Recommenders.GraphBased.P3alphaRecommender import P3alphaRecommender\n",
    "from Recommenders.GraphBased.RP3betaRecommender import RP3betaRecommender\n",
    "from Recommenders.KNN.UserKNNCFRecommender import UserKNNCFRecommender\n",
    "from Recommenders.KNN.ItemKNNCFRecommender import ItemKNNCFRecommender\n",
    "from Recommenders.EASE_R.EASE_R_Recommender import EASE_R_Recommender\n",
    "## SLIM\n",
    "slim = MultiThreadSLIM_SLIMElasticNetRecommender(URM_train)\n",
    "slim.fit(topK=8894, l1_ratio=0.05565733019999427, alpha=0.0012979360257937668)\n",
    "## PURESVD\n",
    "pure_svd = PureSVDRecommender(URM_train)\n",
    "pure_svd.fit(num_factors=70, random_seed=42)\n",
    "## P3ALPHA\n",
    "p3alpha = P3alphaRecommender(URM_train)\n",
    "p3alpha.fit(topK=76, alpha=0.377201600381895, normalize_similarity=True)\n",
    "## RP3BETA\n",
    "rp3beta = RP3betaRecommender(URM_train)\n",
    "rp3beta.fit(topK=101, alpha=0.3026342852596128, beta=0.058468783118329024)\n",
    "## USER KNN\n",
    "userknn = UserKNNCFRecommender(URM_train)\n",
    "userknn.fit(topK=529, shrink=45, similarity='asymmetric', normalize=True,\n",
    "                                       feature_weighting='TF-IDF')\n",
    "## ITEM KNN\n",
    "itemknn = ItemKNNCFRecommender(URM_train)\n",
    "itemknn.fit(topK=31, shrink=435, similarity='tversky', normalize=True,\n",
    "                                       feature_weighting='BM25', tversky_alpha=0.17113169506422393, tversky_beta=0.5684024974085575)\n",
    "## EASE_R\n",
    "ease_r = EASE_R_Recommender(URM_train)\n",
    "ease_r.fit(topK=24, l2_norm=37.54323189430143)\n",
    "\n",
    "model = LinearHybridRecommender\n",
    "\n",
    "from Evaluation.Evaluator import EvaluatorHoldout\n",
    "\n",
    "evaluator_validation = EvaluatorHoldout(URM_validation, cutoff_list=[10])"
   ],
   "metadata": {
    "collapsed": false,
    "ExecuteTime": {
     "end_time": "2023-11-30T19:11:47.248931Z",
     "start_time": "2023-11-30T19:07:21.934268Z"
    }
   },
   "id": "7789e39614525279"
  },
  {
   "cell_type": "code",
   "execution_count": 6,
   "outputs": [],
   "source": [
    "import optuna as op\n",
    "def objective(trial):\n",
    "    \n",
    "    alphas = [trial.suggest_float(\"alphas[0]\", 0, 2), trial.suggest_float(\"alphas[1]\", 0, 2), trial.suggest_float(\"alphas[2]\", 0, 2), trial.suggest_float(\"alphas[3]\", 0, 2), trial.suggest_float(\"alphas[4]\", 0, 2), trial.suggest_float(\"alphas[5]\", 0, 2), trial.suggest_float(\"alphas[6]\", 0, 2)]\n",
    "    \n",
    "    recommender = model(URM_train, [slim, pure_svd, p3alpha, rp3beta, userknn, itemknn, ease_r])\n",
    "    #recommender.fit(**trial.params)\n",
    "    recommender.fit(alphas)\n",
    "    \n",
    "    result, _ = evaluator_validation.evaluateRecommender(recommender)\n",
    "    MAP_result = result[\"MAP\"].item()\n",
    "       \n",
    "    return MAP_result"
   ],
   "metadata": {
    "collapsed": false,
    "ExecuteTime": {
     "end_time": "2023-11-30T19:11:47.586116Z",
     "start_time": "2023-11-30T19:11:47.293713Z"
    }
   },
   "id": "c6638bcccbda289b"
  },
  {
   "cell_type": "code",
   "execution_count": null,
   "outputs": [],
   "source": [
    "best_params = {\n",
    "    \"alphas\": 1,\n",
    "}\n",
    "\n",
    "study_name = \"hybrid-allmodels-study\"  # Unique identifier of the study.\n",
    "storage_name = \"sqlite:///db.db\".format(study_name)\n",
    "study = op.create_study(study_name=study_name, storage=storage_name, direction=\"maximize\", load_if_exists=True)\n",
    "#study.enqueue_trial(best_params)\n",
    "study.optimize(objective, n_trials=50)"
   ],
   "metadata": {
    "collapsed": false
   },
   "id": "d15388f3e5727d96"
  },
  {
   "cell_type": "code",
   "execution_count": null,
   "outputs": [],
   "source": [
    "study.best_params"
   ],
   "metadata": {
    "collapsed": false
   },
   "id": "ac696963697fff90"
  },
  {
   "cell_type": "code",
   "execution_count": 18,
   "outputs": [
    {
     "name": "stdout",
     "output_type": "stream",
     "text": [
      "SLIMElasticNetPureSVDP3alphaRP3betaUserKNNCFItemKNNCFEASE_R_HybridRecommender: URM Detected 218 ( 1.7%) users with no interactions.\n",
      "SLIMElasticNetPureSVDP3alphaRP3betaUserKNNCFItemKNNCFEASE_R_HybridRecommender: URM Detected 113 ( 0.5%) items with no interactions.\n"
     ]
    }
   ],
   "source": [
    "final = model(URM_train_validation, [slim, pure_svd, p3alpha, rp3beta, userknn, itemknn, ease_r])\n",
    "final.fit(alphas=[study.best_params[\"alphas[0]\"],study.best_params[\"alphas[1]\"], study.best_params[\"alphas[2]\"], study.best_params[\"alphas[3]\"], study.best_params[\"alphas[4]\"], study.best_params[\"alphas[5]\"], study.best_params[\"alphas[6]\"]])"
   ],
   "metadata": {
    "collapsed": false,
    "ExecuteTime": {
     "end_time": "2023-11-30T20:52:47.193191Z",
     "start_time": "2023-11-30T20:52:47.161310Z"
    }
   },
   "id": "1cf94f3d15cce754"
  },
  {
   "cell_type": "code",
   "execution_count": 19,
   "outputs": [
    {
     "name": "stdout",
     "output_type": "stream",
     "text": [
      "EvaluatorHoldout: Ignoring 2237 (17.7%) Users that have less than 1 test interactions\n",
      "EvaluatorHoldout: Ignoring 0 Users\n",
      "EvaluatorHoldout: Processed 10401 (100.0%) in 9.20 sec. Users per second: 1130\n"
     ]
    },
    {
     "data": {
      "text/plain": "(       PRECISION PRECISION_RECALL_MIN_DEN    RECALL       MAP MAP_MIN_DEN  \\\n cutoff                                                                      \n 10       0.08752                 0.149037  0.124922  0.045067    0.074636   \n \n              MRR      NDCG        F1  HIT_RATE ARHR_ALL_HITS  ...  \\\n cutoff                                                        ...   \n 10      0.254793  0.137116  0.102929  0.489184      0.335242  ...   \n \n        COVERAGE_USER COVERAGE_USER_HIT USERS_IN_GT DIVERSITY_GINI  \\\n cutoff                                                              \n 10          0.822994          0.402595    0.822994       0.054405   \n \n        SHANNON_ENTROPY RATIO_DIVERSITY_HERFINDAHL RATIO_DIVERSITY_GINI  \\\n cutoff                                                                   \n 10           10.114115                   0.997897             0.155943   \n \n        RATIO_SHANNON_ENTROPY RATIO_AVERAGE_POPULARITY RATIO_NOVELTY  \n cutoff                                                               \n 10                  0.779092                 1.748567      0.286001  \n \n [1 rows x 27 columns],\n 'CUTOFF: 10 - PRECISION: 0.0875204, PRECISION_RECALL_MIN_DEN: 0.1490372, RECALL: 0.1249218, MAP: 0.0450668, MAP_MIN_DEN: 0.0746356, MRR: 0.2547930, NDCG: 0.1371156, F1: 0.1029288, HIT_RATE: 0.4891837, ARHR_ALL_HITS: 0.3352417, NOVELTY: 0.0050632, AVERAGE_POPULARITY: 0.2138185, DIVERSITY_MEAN_INTER_LIST: 0.9754583, DIVERSITY_HERFINDAHL: 0.9975365, COVERAGE_ITEM: 0.3238232, COVERAGE_ITEM_HIT: 0.0774008, ITEMS_IN_GT: 0.8027180, COVERAGE_USER: 0.8229941, COVERAGE_USER_HIT: 0.4025953, USERS_IN_GT: 0.8229941, DIVERSITY_GINI: 0.0544048, SHANNON_ENTROPY: 10.1141145, RATIO_DIVERSITY_HERFINDAHL: 0.9978973, RATIO_DIVERSITY_GINI: 0.1559428, RATIO_SHANNON_ENTROPY: 0.7790918, RATIO_AVERAGE_POPULARITY: 1.7485666, RATIO_NOVELTY: 0.2860009, \\n')"
     },
     "execution_count": 19,
     "metadata": {},
     "output_type": "execute_result"
    }
   ],
   "source": [
    "from Evaluation.Evaluator import EvaluatorHoldout\n",
    "evaluator_test = EvaluatorHoldout(URM_test, cutoff_list=[10], ignore_users=[])\n",
    "evaluator_test.evaluateRecommender(final)"
   ],
   "metadata": {
    "collapsed": false,
    "ExecuteTime": {
     "end_time": "2023-11-30T20:53:00.543673Z",
     "start_time": "2023-11-30T20:52:51.322523Z"
    }
   },
   "id": "ea0f5ae68d4e5c0d"
  },
  {
   "cell_type": "code",
   "execution_count": 20,
   "outputs": [
    {
     "name": "stderr",
     "output_type": "stream",
     "text": [
      "/Users/alessandro/RecSys-2023-polimi/Data_manager/UserUtils.py:71: SettingWithCopyWarning: \n",
      "A value is trying to be set on a copy of a slice from a DataFrame.\n",
      "Try using .loc[row_indexer,col_indexer] = value instead\n",
      "\n",
      "See the caveats in the documentation: https://pandas.pydata.org/pandas-docs/stable/user_guide/indexing.html#returning-a-view-versus-a-copy\n",
      "  submission['item_list'] = submission['item_list'].apply(lambda x: ' '.join(map(str, x)))  # remove brakets\n",
      "/Users/alessandro/RecSys-2023-polimi/Data_manager/UserUtils.py:74: SettingWithCopyWarning: \n",
      "A value is trying to be set on a copy of a slice from a DataFrame.\n",
      "Try using .loc[row_indexer,col_indexer] = value instead\n",
      "\n",
      "See the caveats in the documentation: https://pandas.pydata.org/pandas-docs/stable/user_guide/indexing.html#returning-a-view-versus-a-copy\n",
      "  submission['item_list'] = submission['item_list'].astype(str)\n"
     ]
    }
   ],
   "source": [
    "from Recommenders.NonPersonalizedRecommender import TopPop\n",
    "final = model(URM_all, [slim, pure_svd, p3alpha, rp3beta, userknn, itemknn, ease_r])\n",
    "final.fit(alphas=[study.best_params[\"alphas[0]\"],study.best_params[\"alphas[1]\"], study.best_params[\"alphas[2]\"], study.best_params[\"alphas[3]\"], study.best_params[\"alphas[4]\"], study.best_params[\"alphas[5]\"], study.best_params[\"alphas[6]\"]])\n",
    "top_recommender = TopPop(URM_all)\n",
    "top_recommender.fit()\n",
    "generateSubmission(final, top_recommender)"
   ],
   "metadata": {
    "collapsed": false,
    "ExecuteTime": {
     "end_time": "2023-11-30T20:55:16.774984Z",
     "start_time": "2023-11-30T20:55:05.473092Z"
    }
   },
   "id": "8973a3daee842ed1"
  },
  {
   "cell_type": "code",
   "execution_count": null,
   "outputs": [],
   "source": [],
   "metadata": {
    "collapsed": false
   },
   "id": "23a7609029f4e05e"
  }
 ],
 "metadata": {
  "kernelspec": {
   "display_name": "Python 3",
   "language": "python",
   "name": "python3"
  },
  "language_info": {
   "codemirror_mode": {
    "name": "ipython",
    "version": 2
   },
   "file_extension": ".py",
   "mimetype": "text/x-python",
   "name": "python",
   "nbconvert_exporter": "python",
   "pygments_lexer": "ipython2",
   "version": "2.7.6"
  }
 },
 "nbformat": 4,
 "nbformat_minor": 5
}
