{
 "cells": [
  {
   "cell_type": "code",
   "execution_count": 1,
   "outputs": [
    {
     "name": "stdout",
     "output_type": "stream",
     "text": [
      "Warning: 214 (1.69 %) of 12638 users have no train items\n",
      "Warning: 2181 (17.26 %) of 12638 users have no sampled items\n",
      "Warning: 458 (3.62 %) of 12638 users have no train items\n",
      "Warning: 2570 (20.34 %) of 12638 users have no sampled items\n"
     ]
    }
   ],
   "source": [
    "from Data_manager.UserUtils import *\n",
    "from Data_manager.split_functions.split_train_validation_random_holdout import \\\n",
    "    split_train_in_two_percentage_global_sample\n",
    "URM_all = getURM_all()\n",
    "URM_train_validation, URM_test = split_train_in_two_percentage_global_sample(URM_all, train_percentage = 0.80)\n",
    "URM_train, URM_validation = split_train_in_two_percentage_global_sample(URM_train_validation, train_percentage = 0.80)"
   ],
   "metadata": {
    "collapsed": false,
    "ExecuteTime": {
     "end_time": "2023-12-02T19:29:49.211505368Z",
     "start_time": "2023-12-02T19:29:44.398363207Z"
    }
   },
   "id": "a884190b64cf557"
  },
  {
   "cell_type": "code",
   "execution_count": 2,
   "outputs": [
    {
     "name": "stdout",
     "output_type": "stream",
     "text": [
      "SLIMElasticNetRecommender: URM Detected 458 ( 3.6%) users with no interactions.\n",
      "SLIMElasticNetRecommender: URM Detected 330 ( 1.5%) items with no interactions.\n"
     ]
    },
    {
     "name": "stderr",
     "output_type": "stream",
     "text": [
      "100%|█████████▉| 22192/22222 [01:34<00:00, 81.94it/s] "
     ]
    },
    {
     "name": "stdout",
     "output_type": "stream",
     "text": [
      "PureSVDRecommender: URM Detected 458 ( 3.6%) users with no interactions.\n",
      "PureSVDRecommender: URM Detected 330 ( 1.5%) items with no interactions.\n",
      "PureSVDRecommender: Computing SVD decomposition...\n",
      "PureSVDRecommender: Computing SVD decomposition... done in 1.06 sec\n",
      "P3alphaRecommender: URM Detected 458 ( 3.6%) users with no interactions.\n",
      "P3alphaRecommender: URM Detected 330 ( 1.5%) items with no interactions.\n",
      "P3alphaRecommender: Similarity column 22222 (100.0%), 6014.77 column/sec. Elapsed time 3.69 sec\n",
      "RP3betaRecommender: URM Detected 458 ( 3.6%) users with no interactions.\n",
      "RP3betaRecommender: URM Detected 330 ( 1.5%) items with no interactions.\n",
      "RP3betaRecommender: Similarity column 22222 (100.0%), 4705.11 column/sec. Elapsed time 4.72 sec\n",
      "UserKNNCFRecommender: URM Detected 458 ( 3.6%) users with no interactions.\n",
      "UserKNNCFRecommender: URM Detected 330 ( 1.5%) items with no interactions.\n",
      "Similarity column 12638 (100.0%), 9752.10 column/sec. Elapsed time 1.30 sec\n",
      "ItemKNNCFRecommender: URM Detected 458 ( 3.6%) users with no interactions.\n",
      "ItemKNNCFRecommender: URM Detected 330 ( 1.5%) items with no interactions.\n"
     ]
    },
    {
     "name": "stderr",
     "output_type": "stream",
     "text": [
      "100%|█████████▉| 22216/22222 [01:49<00:00, 81.94it/s]"
     ]
    },
    {
     "name": "stdout",
     "output_type": "stream",
     "text": [
      "Similarity column 22222 (100.0%), 8815.30 column/sec. Elapsed time 2.52 sec\n",
      "EvaluatorHoldout: Ignoring 2570 (20.3%) Users that have less than 1 test interactions\n"
     ]
    }
   ],
   "source": [
    "from Hybrid import *\n",
    "from Recommenders.SLIM.SLIMElasticNetRecommender import *\n",
    "from Recommenders.MatrixFactorization.PureSVDRecommender import PureSVDRecommender\n",
    "from Recommenders.GraphBased.P3alphaRecommender import P3alphaRecommender\n",
    "from Recommenders.GraphBased.RP3betaRecommender import RP3betaRecommender\n",
    "from Recommenders.KNN.UserKNNCFRecommender import UserKNNCFRecommender\n",
    "from Recommenders.KNN.ItemKNNCFRecommender import ItemKNNCFRecommender\n",
    "from Recommenders.EASE_R.EASE_R_Recommender import EASE_R_Recommender\n",
    "## SLIM\n",
    "slim = MultiThreadSLIM_SLIMElasticNetRecommender(URM_train)\n",
    "slim.fit(topK=8894, l1_ratio=0.05565733019999427, alpha=0.0012979360257937668, workers=7)\n",
    "## PURESVD\n",
    "pure_svd = PureSVDRecommender(URM_train)\n",
    "pure_svd.fit(num_factors=70, random_seed=42)\n",
    "## P3ALPHA\n",
    "p3alpha = P3alphaRecommender(URM_train)\n",
    "p3alpha.fit(topK=76, alpha=0.377201600381895, normalize_similarity=True)\n",
    "## RP3BETA\n",
    "rp3beta = RP3betaRecommender(URM_train)\n",
    "rp3beta.fit(topK=101, alpha=0.3026342852596128, beta=0.058468783118329024)\n",
    "## USER KNN\n",
    "userknn = UserKNNCFRecommender(URM_train)\n",
    "userknn.fit(topK=529, shrink=45, similarity='asymmetric', normalize=True,\n",
    "                                       feature_weighting='TF-IDF')\n",
    "## ITEM KNN\n",
    "itemknn = ItemKNNCFRecommender(URM_train)\n",
    "itemknn.fit(topK=31, shrink=435, similarity='tversky', normalize=True,\n",
    "                                       feature_weighting='BM25', tversky_alpha=0.17113169506422393, tversky_beta=0.5684024974085575)\n",
    "## EASE_R\n",
    "#ease_r = EASE_R_Recommender(URM_train)\n",
    "#ease_r.fit(topK=24, l2_norm=37.54323189430143)\n",
    "\n",
    "model = LinearHybridRecommender\n",
    "\n",
    "from Evaluation.Evaluator import EvaluatorHoldout\n",
    "\n",
    "evaluator_validation = EvaluatorHoldout(URM_validation, cutoff_list=[10])"
   ],
   "metadata": {
    "collapsed": false,
    "ExecuteTime": {
     "end_time": "2023-12-02T19:31:50.220816484Z",
     "start_time": "2023-12-02T19:29:57.879569228Z"
    }
   },
   "id": "7789e39614525279"
  },
  {
   "cell_type": "code",
   "execution_count": 25,
   "outputs": [],
   "source": [
    "import itertools\n",
    "import optuna as op\n",
    "\n",
    "# Map the names to the recommender objects\n",
    "# Map the names to the recommender objects\n",
    "recommender_dict = {\n",
    "    'slim': slim,\n",
    "    'puresvd': pure_svd,\n",
    "    'p3alpha': p3alpha,\n",
    "    'rp3beta': rp3beta,\n",
    "    'userknn': userknn,\n",
    "    'itemknn': itemknn\n",
    "}\n",
    "\n",
    "# Generate all possible combinations of recommender names\n",
    "all_combinations = []\n",
    "for r in range(1, len(recommender_dict) + 1):\n",
    "    all_combinations.extend(itertools.combinations(recommender_dict.keys(), r))\n",
    "\n",
    "# Convert combinations to string format\n",
    "all_combinations_str = ['_'.join(comb) for comb in all_combinations]\n",
    "\n",
    "def objective(trial):\n",
    "    # Select a combination from the pre-defined list\n",
    "    selected_combination_str = trial.suggest_categorical('selected_combination', all_combinations_str)\n",
    "\n",
    "    # Convert the string back to the original recommender objects\n",
    "    selected_combination = [recommender_dict[name] for name in selected_combination_str.split('_')]\n",
    "\n",
    "    # Dynamically generate weights for the selected recommenders\n",
    "    weights = [trial.suggest_float(f'weight_{i}', 0, 1) for i in range(len(selected_combination))]\n",
    "    \n",
    "    # Create hybrid recommender with the suggested weights\n",
    "    hybrid_recommender = model(URM_train, selected_combination)\n",
    "    hybrid_recommender.fit(weights)\n",
    "    \n",
    "    # Evaluate the hybrid recommender\n",
    "    result, _ = evaluator_validation.evaluateRecommender(hybrid_recommender)\n",
    "    MAP_result = result[\"MAP\"].item()\n",
    "       \n",
    "    return MAP_result"
   ],
   "metadata": {
    "collapsed": false,
    "ExecuteTime": {
     "end_time": "2023-12-02T23:59:08.778570992Z",
     "start_time": "2023-12-02T23:59:08.771247786Z"
    }
   },
   "id": "c6638bcccbda289b"
  },
  {
   "cell_type": "code",
   "execution_count": 29,
   "outputs": [
    {
     "name": "stderr",
     "output_type": "stream",
     "text": [
      "[I 2023-12-03 01:37:59,248] Using an existing study with name 'hybrid-allmodels-study' instead of creating a new one.\n"
     ]
    },
    {
     "name": "stdout",
     "output_type": "stream",
     "text": [
      "SLIMElasticNetP3alphaItemKNNCFHybridRecommender: URM Detected 458 ( 3.6%) users with no interactions.\n",
      "SLIMElasticNetP3alphaItemKNNCFHybridRecommender: URM Detected 330 ( 1.5%) items with no interactions.\n",
      "EvaluatorHoldout: Processed 10068 (100.0%) in 10.27 sec. Users per second: 981\n"
     ]
    },
    {
     "name": "stderr",
     "output_type": "stream",
     "text": [
      "[I 2023-12-03 01:38:09,884] Trial 300 finished with value: 0.0314276767189462 and parameters: {'selected_combination': 'slim_p3alpha_itemknn', 'weight_0': 0.9577175308652484, 'weight_1': 0.7567721297949973, 'weight_2': 0.6500067609306452}. Best is trial 243 with value: 0.03146035923970984.\n"
     ]
    },
    {
     "name": "stdout",
     "output_type": "stream",
     "text": [
      "SLIMElasticNetP3alphaItemKNNCFHybridRecommender: URM Detected 458 ( 3.6%) users with no interactions.\n",
      "SLIMElasticNetP3alphaItemKNNCFHybridRecommender: URM Detected 330 ( 1.5%) items with no interactions.\n",
      "EvaluatorHoldout: Processed 10068 (100.0%) in 9.92 sec. Users per second: 1015\n"
     ]
    },
    {
     "name": "stderr",
     "output_type": "stream",
     "text": [
      "[I 2023-12-03 01:38:19,926] Trial 301 finished with value: 0.03143414464183251 and parameters: {'selected_combination': 'slim_p3alpha_itemknn', 'weight_0': 0.9587099986473953, 'weight_1': 0.7966249994543064, 'weight_2': 0.6456520427511198}. Best is trial 243 with value: 0.03146035923970984.\n"
     ]
    },
    {
     "name": "stdout",
     "output_type": "stream",
     "text": [
      "SLIMElasticNetP3alphaItemKNNCFHybridRecommender: URM Detected 458 ( 3.6%) users with no interactions.\n",
      "SLIMElasticNetP3alphaItemKNNCFHybridRecommender: URM Detected 330 ( 1.5%) items with no interactions.\n",
      "EvaluatorHoldout: Processed 10068 (100.0%) in 9.84 sec. Users per second: 1023\n"
     ]
    },
    {
     "name": "stderr",
     "output_type": "stream",
     "text": [
      "[I 2023-12-03 01:38:29,903] Trial 302 finished with value: 0.031398509973450506 and parameters: {'selected_combination': 'slim_p3alpha_itemknn', 'weight_0': 0.9801972800801454, 'weight_1': 0.746110615244817, 'weight_2': 0.6154168571734832}. Best is trial 243 with value: 0.03146035923970984.\n"
     ]
    },
    {
     "name": "stdout",
     "output_type": "stream",
     "text": [
      "SLIMElasticNetP3alphaItemKNNCFHybridRecommender: URM Detected 458 ( 3.6%) users with no interactions.\n",
      "SLIMElasticNetP3alphaItemKNNCFHybridRecommender: URM Detected 330 ( 1.5%) items with no interactions.\n",
      "EvaluatorHoldout: Processed 10068 (100.0%) in 9.80 sec. Users per second: 1028\n"
     ]
    },
    {
     "name": "stderr",
     "output_type": "stream",
     "text": [
      "[I 2023-12-03 01:38:39,845] Trial 303 finished with value: 0.03141692837908584 and parameters: {'selected_combination': 'slim_p3alpha_itemknn', 'weight_0': 0.9653741501517769, 'weight_1': 0.7984679189409143, 'weight_2': 0.6395331174306946}. Best is trial 243 with value: 0.03146035923970984.\n"
     ]
    },
    {
     "name": "stdout",
     "output_type": "stream",
     "text": [
      "PureSVDP3alphaItemKNNCFHybridRecommender: URM Detected 458 ( 3.6%) users with no interactions.\n",
      "PureSVDP3alphaItemKNNCFHybridRecommender: URM Detected 330 ( 1.5%) items with no interactions.\n",
      "EvaluatorHoldout: Processed 10068 (100.0%) in 9.17 sec. Users per second: 1098\n"
     ]
    },
    {
     "name": "stderr",
     "output_type": "stream",
     "text": [
      "[I 2023-12-03 01:38:49,151] Trial 304 finished with value: 0.02752405468212981 and parameters: {'selected_combination': 'puresvd_p3alpha_itemknn', 'weight_0': 0.9551326732496633, 'weight_1': 0.8021649415321186, 'weight_2': 0.6537155121755189}. Best is trial 243 with value: 0.03146035923970984.\n"
     ]
    },
    {
     "name": "stdout",
     "output_type": "stream",
     "text": [
      "RP3betaHybridRecommender: URM Detected 458 ( 3.6%) users with no interactions.\n",
      "RP3betaHybridRecommender: URM Detected 330 ( 1.5%) items with no interactions.\n",
      "EvaluatorHoldout: Processed 10068 (100.0%) in 5.47 sec. Users per second: 1841\n"
     ]
    },
    {
     "name": "stderr",
     "output_type": "stream",
     "text": [
      "[I 2023-12-03 01:38:54,705] Trial 305 finished with value: 0.029377451583202686 and parameters: {'selected_combination': 'rp3beta', 'weight_0': 0.979179481498147}. Best is trial 243 with value: 0.03146035923970984.\n"
     ]
    },
    {
     "name": "stdout",
     "output_type": "stream",
     "text": [
      "SLIMElasticNetP3alphaItemKNNCFHybridRecommender: URM Detected 458 ( 3.6%) users with no interactions.\n",
      "SLIMElasticNetP3alphaItemKNNCFHybridRecommender: URM Detected 330 ( 1.5%) items with no interactions.\n",
      "EvaluatorHoldout: Processed 10068 (100.0%) in 9.83 sec. Users per second: 1024\n"
     ]
    },
    {
     "name": "stderr",
     "output_type": "stream",
     "text": [
      "[I 2023-12-03 01:39:04,652] Trial 306 finished with value: 0.031095337419831122 and parameters: {'selected_combination': 'slim_p3alpha_itemknn', 'weight_0': 0.4457724006013153, 'weight_1': 0.8285305083793947, 'weight_2': 0.6542728214663435}. Best is trial 243 with value: 0.03146035923970984.\n"
     ]
    },
    {
     "name": "stdout",
     "output_type": "stream",
     "text": [
      "SLIMElasticNetUserKNNCFHybridRecommender: URM Detected 458 ( 3.6%) users with no interactions.\n",
      "SLIMElasticNetUserKNNCFHybridRecommender: URM Detected 330 ( 1.5%) items with no interactions.\n",
      "EvaluatorHoldout: Processed 10068 (100.0%) in 9.37 sec. Users per second: 1075\n"
     ]
    },
    {
     "name": "stderr",
     "output_type": "stream",
     "text": [
      "[I 2023-12-03 01:39:14,180] Trial 307 finished with value: 0.023144289466548142 and parameters: {'selected_combination': 'slim_userknn', 'weight_0': 0.9984943402577764, 'weight_1': 0.7556531270967937}. Best is trial 243 with value: 0.03146035923970984.\n"
     ]
    },
    {
     "name": "stdout",
     "output_type": "stream",
     "text": [
      "PureSVDItemKNNCFHybridRecommender: URM Detected 458 ( 3.6%) users with no interactions.\n",
      "PureSVDItemKNNCFHybridRecommender: URM Detected 330 ( 1.5%) items with no interactions.\n",
      "EvaluatorHoldout: Processed 10068 (100.0%) in 7.92 sec. Users per second: 1272\n"
     ]
    },
    {
     "name": "stderr",
     "output_type": "stream",
     "text": [
      "[I 2023-12-03 01:39:22,193] Trial 308 finished with value: 0.028420427600254903 and parameters: {'selected_combination': 'puresvd_itemknn', 'weight_0': 0.3564905739672387, 'weight_1': 0.775896592488433}. Best is trial 243 with value: 0.03146035923970984.\n"
     ]
    },
    {
     "name": "stdout",
     "output_type": "stream",
     "text": [
      "SLIMElasticNetP3alphaItemKNNCFHybridRecommender: URM Detected 458 ( 3.6%) users with no interactions.\n",
      "SLIMElasticNetP3alphaItemKNNCFHybridRecommender: URM Detected 330 ( 1.5%) items with no interactions.\n",
      "EvaluatorHoldout: Processed 10068 (100.0%) in 9.74 sec. Users per second: 1033\n"
     ]
    },
    {
     "name": "stderr",
     "output_type": "stream",
     "text": [
      "[I 2023-12-03 01:39:32,084] Trial 309 finished with value: 0.031433399707386754 and parameters: {'selected_combination': 'slim_p3alpha_itemknn', 'weight_0': 0.7787556232236011, 'weight_1': 0.7788269980176852, 'weight_2': 0.591533120829242}. Best is trial 243 with value: 0.03146035923970984.\n"
     ]
    },
    {
     "name": "stdout",
     "output_type": "stream",
     "text": [
      "PureSVDUserKNNCFItemKNNCFHybridRecommender: URM Detected 458 ( 3.6%) users with no interactions.\n",
      "PureSVDUserKNNCFItemKNNCFHybridRecommender: URM Detected 330 ( 1.5%) items with no interactions.\n",
      "EvaluatorHoldout: Processed 10068 (100.0%) in 10.24 sec. Users per second: 984\n"
     ]
    },
    {
     "name": "stderr",
     "output_type": "stream",
     "text": [
      "[I 2023-12-03 01:39:42,449] Trial 310 finished with value: 0.02314128608005252 and parameters: {'selected_combination': 'puresvd_userknn_itemknn', 'weight_0': 0.7627236330113529, 'weight_1': 0.785471996714464, 'weight_2': 0.5724087723226957}. Best is trial 243 with value: 0.03146035923970984.\n"
     ]
    },
    {
     "name": "stdout",
     "output_type": "stream",
     "text": [
      "SLIMElasticNetP3alphaItemKNNCFHybridRecommender: URM Detected 458 ( 3.6%) users with no interactions.\n",
      "SLIMElasticNetP3alphaItemKNNCFHybridRecommender: URM Detected 330 ( 1.5%) items with no interactions.\n",
      "EvaluatorHoldout: Processed 10068 (100.0%) in 9.73 sec. Users per second: 1034\n"
     ]
    },
    {
     "name": "stderr",
     "output_type": "stream",
     "text": [
      "[I 2023-12-03 01:39:52,334] Trial 311 finished with value: 0.0314099401845232 and parameters: {'selected_combination': 'slim_p3alpha_itemknn', 'weight_0': 0.8436397718941918, 'weight_1': 0.7459799168330169, 'weight_2': 0.6709268192324592}. Best is trial 243 with value: 0.03146035923970984.\n"
     ]
    },
    {
     "name": "stdout",
     "output_type": "stream",
     "text": [
      "PureSVDP3alphaRP3betaUserKNNCFHybridRecommender: URM Detected 458 ( 3.6%) users with no interactions.\n",
      "PureSVDP3alphaRP3betaUserKNNCFHybridRecommender: URM Detected 330 ( 1.5%) items with no interactions.\n",
      "EvaluatorHoldout: Processed 10068 (100.0%) in 11.02 sec. Users per second: 914\n"
     ]
    },
    {
     "name": "stderr",
     "output_type": "stream",
     "text": [
      "[I 2023-12-03 01:40:03,493] Trial 312 finished with value: 0.023304864224858335 and parameters: {'selected_combination': 'puresvd_p3alpha_rp3beta_userknn', 'weight_0': 0.9531200412737895, 'weight_1': 0.8206629882222006, 'weight_2': 0.608338112634394, 'weight_3': 0.6300694303544613}. Best is trial 243 with value: 0.03146035923970984.\n"
     ]
    },
    {
     "name": "stdout",
     "output_type": "stream",
     "text": [
      "PureSVDUserKNNCFHybridRecommender: URM Detected 458 ( 3.6%) users with no interactions.\n",
      "PureSVDUserKNNCFHybridRecommender: URM Detected 330 ( 1.5%) items with no interactions.\n",
      "EvaluatorHoldout: Processed 10068 (100.0%) in 8.74 sec. Users per second: 1152\n"
     ]
    },
    {
     "name": "stderr",
     "output_type": "stream",
     "text": [
      "[I 2023-12-03 01:40:12,361] Trial 313 finished with value: 0.022991400539821332 and parameters: {'selected_combination': 'puresvd_userknn', 'weight_0': 0.8312559658973577, 'weight_1': 0.7945777087465897}. Best is trial 243 with value: 0.03146035923970984.\n"
     ]
    },
    {
     "name": "stdout",
     "output_type": "stream",
     "text": [
      "SLIMElasticNetRP3betaHybridRecommender: URM Detected 458 ( 3.6%) users with no interactions.\n",
      "SLIMElasticNetRP3betaHybridRecommender: URM Detected 330 ( 1.5%) items with no interactions.\n",
      "EvaluatorHoldout: Processed 10068 (100.0%) in 8.36 sec. Users per second: 1204\n"
     ]
    },
    {
     "name": "stderr",
     "output_type": "stream",
     "text": [
      "[I 2023-12-03 01:40:20,866] Trial 314 finished with value: 0.030708207995156955 and parameters: {'selected_combination': 'slim_rp3beta', 'weight_0': 0.8091851383552056, 'weight_1': 0.7662585006163288}. Best is trial 243 with value: 0.03146035923970984.\n"
     ]
    },
    {
     "name": "stdout",
     "output_type": "stream",
     "text": [
      "SLIMElasticNetP3alphaItemKNNCFHybridRecommender: URM Detected 458 ( 3.6%) users with no interactions.\n",
      "SLIMElasticNetP3alphaItemKNNCFHybridRecommender: URM Detected 330 ( 1.5%) items with no interactions.\n",
      "EvaluatorHoldout: Processed 10068 (100.0%) in 9.77 sec. Users per second: 1030\n"
     ]
    },
    {
     "name": "stderr",
     "output_type": "stream",
     "text": [
      "[I 2023-12-03 01:40:30,758] Trial 315 finished with value: 0.03145119930504331 and parameters: {'selected_combination': 'slim_p3alpha_itemknn', 'weight_0': 0.9450035276054977, 'weight_1': 0.8381704392567209, 'weight_2': 0.6434881924772359}. Best is trial 243 with value: 0.03146035923970984.\n"
     ]
    },
    {
     "name": "stdout",
     "output_type": "stream",
     "text": [
      "PureSVDP3alphaRP3betaItemKNNCFHybridRecommender: URM Detected 458 ( 3.6%) users with no interactions.\n",
      "PureSVDP3alphaRP3betaItemKNNCFHybridRecommender: URM Detected 330 ( 1.5%) items with no interactions.\n",
      "EvaluatorHoldout: Processed 10068 (100.0%) in 10.42 sec. Users per second: 966\n"
     ]
    },
    {
     "name": "stderr",
     "output_type": "stream",
     "text": [
      "[I 2023-12-03 01:40:41,323] Trial 316 finished with value: 0.02787163951794474 and parameters: {'selected_combination': 'puresvd_p3alpha_rp3beta_itemknn', 'weight_0': 0.9651969344718365, 'weight_1': 0.7047430021526321, 'weight_2': 0.6031369701313423, 'weight_3': 0.544378723613441}. Best is trial 243 with value: 0.03146035923970984.\n"
     ]
    },
    {
     "name": "stdout",
     "output_type": "stream",
     "text": [
      "P3alphaUserKNNCFItemKNNCFHybridRecommender: URM Detected 458 ( 3.6%) users with no interactions.\n",
      "P3alphaUserKNNCFItemKNNCFHybridRecommender: URM Detected 330 ( 1.5%) items with no interactions.\n",
      "EvaluatorHoldout: Processed 10068 (100.0%) in 10.14 sec. Users per second: 993\n"
     ]
    },
    {
     "name": "stderr",
     "output_type": "stream",
     "text": [
      "[I 2023-12-03 01:40:51,622] Trial 317 finished with value: 0.022929610395343445 and parameters: {'selected_combination': 'p3alpha_userknn_itemknn', 'weight_0': 0.7244407974005256, 'weight_1': 0.8277673709960255, 'weight_2': 0.014437367103207532}. Best is trial 243 with value: 0.03146035923970984.\n"
     ]
    },
    {
     "name": "stdout",
     "output_type": "stream",
     "text": [
      "RP3betaItemKNNCFHybridRecommender: URM Detected 458 ( 3.6%) users with no interactions.\n",
      "RP3betaItemKNNCFHybridRecommender: URM Detected 330 ( 1.5%) items with no interactions.\n",
      "EvaluatorHoldout: Processed 10068 (100.0%) in 7.58 sec. Users per second: 1328\n"
     ]
    },
    {
     "name": "stderr",
     "output_type": "stream",
     "text": [
      "[I 2023-12-03 01:40:59,335] Trial 318 finished with value: 0.029834770386766896 and parameters: {'selected_combination': 'rp3beta_itemknn', 'weight_0': 0.945779036315497, 'weight_1': 0.8481061170362386}. Best is trial 243 with value: 0.03146035923970984.\n"
     ]
    },
    {
     "name": "stdout",
     "output_type": "stream",
     "text": [
      "SLIMElasticNetPureSVDP3alphaUserKNNCFHybridRecommender: URM Detected 458 ( 3.6%) users with no interactions.\n",
      "SLIMElasticNetPureSVDP3alphaUserKNNCFHybridRecommender: URM Detected 330 ( 1.5%) items with no interactions.\n",
      "EvaluatorHoldout: Processed 10068 (100.0%) in 12.37 sec. Users per second: 814\n"
     ]
    },
    {
     "name": "stderr",
     "output_type": "stream",
     "text": [
      "[I 2023-12-03 01:41:11,831] Trial 319 finished with value: 0.023386669063069587 and parameters: {'selected_combination': 'slim_puresvd_p3alpha_userknn', 'weight_0': 0.9803402878256755, 'weight_1': 0.804320065671579, 'weight_2': 0.6417845194616563, 'weight_3': 0.7232710903481286}. Best is trial 243 with value: 0.03146035923970984.\n"
     ]
    },
    {
     "name": "stdout",
     "output_type": "stream",
     "text": [
      "SLIMElasticNetP3alphaItemKNNCFHybridRecommender: URM Detected 458 ( 3.6%) users with no interactions.\n",
      "SLIMElasticNetP3alphaItemKNNCFHybridRecommender: URM Detected 330 ( 1.5%) items with no interactions.\n",
      "EvaluatorHoldout: Processed 10068 (100.0%) in 11.56 sec. Users per second: 871\n"
     ]
    },
    {
     "name": "stderr",
     "output_type": "stream",
     "text": [
      "[I 2023-12-03 01:41:23,551] Trial 320 finished with value: 0.031408269008835324 and parameters: {'selected_combination': 'slim_p3alpha_itemknn', 'weight_0': 0.9467101122526872, 'weight_1': 0.7826827815108542, 'weight_2': 0.5050692292861025}. Best is trial 243 with value: 0.03146035923970984.\n"
     ]
    },
    {
     "name": "stdout",
     "output_type": "stream",
     "text": [
      "SLIMElasticNetHybridRecommender: URM Detected 458 ( 3.6%) users with no interactions.\n",
      "SLIMElasticNetHybridRecommender: URM Detected 330 ( 1.5%) items with no interactions.\n",
      "EvaluatorHoldout: Processed 10068 (100.0%) in 7.10 sec. Users per second: 1418\n"
     ]
    },
    {
     "name": "stderr",
     "output_type": "stream",
     "text": [
      "[I 2023-12-03 01:41:30,799] Trial 321 finished with value: 0.030284048628059567 and parameters: {'selected_combination': 'slim', 'weight_0': 0.7137237421050486}. Best is trial 243 with value: 0.03146035923970984.\n"
     ]
    },
    {
     "name": "stdout",
     "output_type": "stream",
     "text": [
      "PureSVDRP3betaHybridRecommender: URM Detected 458 ( 3.6%) users with no interactions.\n",
      "PureSVDRP3betaHybridRecommender: URM Detected 330 ( 1.5%) items with no interactions.\n",
      "EvaluatorHoldout: Processed 10068 (100.0%) in 7.87 sec. Users per second: 1279\n"
     ]
    },
    {
     "name": "stderr",
     "output_type": "stream",
     "text": [
      "[I 2023-12-03 01:41:38,782] Trial 322 finished with value: 0.023708705406410974 and parameters: {'selected_combination': 'puresvd_rp3beta', 'weight_0': 0.8702613621968275, 'weight_1': 0.8348742290223319}. Best is trial 243 with value: 0.03146035923970984.\n"
     ]
    },
    {
     "name": "stdout",
     "output_type": "stream",
     "text": [
      "SLIMElasticNetPureSVDItemKNNCFHybridRecommender: URM Detected 458 ( 3.6%) users with no interactions.\n",
      "SLIMElasticNetPureSVDItemKNNCFHybridRecommender: URM Detected 330 ( 1.5%) items with no interactions.\n",
      "EvaluatorHoldout: Processed 10068 (100.0%) in 10.71 sec. Users per second: 940\n"
     ]
    },
    {
     "name": "stderr",
     "output_type": "stream",
     "text": [
      "[I 2023-12-03 01:41:49,638] Trial 323 finished with value: 0.029373833330180385 and parameters: {'selected_combination': 'slim_puresvd_itemknn', 'weight_0': 0.9999459513247755, 'weight_1': 0.8472104535900881, 'weight_2': 0.5541647846761006}. Best is trial 243 with value: 0.03146035923970984.\n"
     ]
    },
    {
     "name": "stdout",
     "output_type": "stream",
     "text": [
      "SLIMElasticNetP3alphaItemKNNCFHybridRecommender: URM Detected 458 ( 3.6%) users with no interactions.\n",
      "SLIMElasticNetP3alphaItemKNNCFHybridRecommender: URM Detected 330 ( 1.5%) items with no interactions.\n",
      "EvaluatorHoldout: Processed 10068 (100.0%) in 10.87 sec. Users per second: 926\n"
     ]
    },
    {
     "name": "stderr",
     "output_type": "stream",
     "text": [
      "[I 2023-12-03 01:42:00,679] Trial 324 finished with value: 0.03143073528577117 and parameters: {'selected_combination': 'slim_p3alpha_itemknn', 'weight_0': 0.9649434872958343, 'weight_1': 0.8175667506539628, 'weight_2': 0.6251165458050147}. Best is trial 243 with value: 0.03146035923970984.\n"
     ]
    },
    {
     "name": "stdout",
     "output_type": "stream",
     "text": [
      "PureSVDP3alphaHybridRecommender: URM Detected 458 ( 3.6%) users with no interactions.\n",
      "PureSVDP3alphaHybridRecommender: URM Detected 330 ( 1.5%) items with no interactions.\n",
      "EvaluatorHoldout: Processed 10068 (100.0%) in 8.34 sec. Users per second: 1207\n"
     ]
    },
    {
     "name": "stderr",
     "output_type": "stream",
     "text": [
      "[I 2023-12-03 01:42:09,152] Trial 325 finished with value: 0.02354535192437453 and parameters: {'selected_combination': 'puresvd_p3alpha', 'weight_0': 0.9775459886545366, 'weight_1': 0.8086245608814369}. Best is trial 243 with value: 0.03146035923970984.\n"
     ]
    },
    {
     "name": "stdout",
     "output_type": "stream",
     "text": [
      "SLIMElasticNetP3alphaItemKNNCFHybridRecommender: URM Detected 458 ( 3.6%) users with no interactions.\n",
      "SLIMElasticNetP3alphaItemKNNCFHybridRecommender: URM Detected 330 ( 1.5%) items with no interactions.\n",
      "EvaluatorHoldout: Processed 10068 (100.0%) in 10.86 sec. Users per second: 927\n"
     ]
    },
    {
     "name": "stderr",
     "output_type": "stream",
     "text": [
      "[I 2023-12-03 01:42:20,145] Trial 326 finished with value: 0.03141115809322021 and parameters: {'selected_combination': 'slim_p3alpha_itemknn', 'weight_0': 0.9652631621212858, 'weight_1': 0.7860732959534199, 'weight_2': 0.6316501988162484}. Best is trial 243 with value: 0.03146035923970984.\n"
     ]
    },
    {
     "name": "stdout",
     "output_type": "stream",
     "text": [
      "PureSVDP3alphaRP3betaHybridRecommender: URM Detected 458 ( 3.6%) users with no interactions.\n",
      "PureSVDP3alphaRP3betaHybridRecommender: URM Detected 330 ( 1.5%) items with no interactions.\n",
      "EvaluatorHoldout: Processed 10068 (100.0%) in 8.71 sec. Users per second: 1156\n"
     ]
    },
    {
     "name": "stderr",
     "output_type": "stream",
     "text": [
      "[I 2023-12-03 01:42:28,976] Trial 327 finished with value: 0.025509925364663184 and parameters: {'selected_combination': 'puresvd_p3alpha_rp3beta', 'weight_0': 0.7792392329589162, 'weight_1': 0.5862877042114494, 'weight_2': 0.6144732327859308}. Best is trial 243 with value: 0.03146035923970984.\n"
     ]
    },
    {
     "name": "stdout",
     "output_type": "stream",
     "text": [
      "SLIMElasticNetP3alphaItemKNNCFHybridRecommender: URM Detected 458 ( 3.6%) users with no interactions.\n",
      "SLIMElasticNetP3alphaItemKNNCFHybridRecommender: URM Detected 330 ( 1.5%) items with no interactions.\n",
      "EvaluatorHoldout: Processed 10068 (100.0%) in 9.79 sec. Users per second: 1028\n"
     ]
    },
    {
     "name": "stderr",
     "output_type": "stream",
     "text": [
      "[I 2023-12-03 01:42:38,916] Trial 328 finished with value: 0.031442271916050354 and parameters: {'selected_combination': 'slim_p3alpha_itemknn', 'weight_0': 0.9536114619298881, 'weight_1': 0.8200075524230974, 'weight_2': 0.6444283685121399}. Best is trial 243 with value: 0.03146035923970984.\n"
     ]
    },
    {
     "name": "stdout",
     "output_type": "stream",
     "text": [
      "PureSVDRP3betaUserKNNCFHybridRecommender: URM Detected 458 ( 3.6%) users with no interactions.\n",
      "PureSVDRP3betaUserKNNCFHybridRecommender: URM Detected 330 ( 1.5%) items with no interactions.\n",
      "EvaluatorHoldout: Processed 10068 (100.0%) in 9.70 sec. Users per second: 1038\n"
     ]
    },
    {
     "name": "stderr",
     "output_type": "stream",
     "text": [
      "[I 2023-12-03 01:42:48,755] Trial 329 finished with value: 0.023202977688228026 and parameters: {'selected_combination': 'puresvd_rp3beta_userknn', 'weight_0': 0.9610766492343891, 'weight_1': 0.813298547390429, 'weight_2': 0.6541979750773083}. Best is trial 243 with value: 0.03146035923970984.\n"
     ]
    },
    {
     "name": "stdout",
     "output_type": "stream",
     "text": [
      "SLIMElasticNetP3alphaItemKNNCFHybridRecommender: URM Detected 458 ( 3.6%) users with no interactions.\n",
      "SLIMElasticNetP3alphaItemKNNCFHybridRecommender: URM Detected 330 ( 1.5%) items with no interactions.\n",
      "EvaluatorHoldout: Processed 10068 (100.0%) in 9.69 sec. Users per second: 1039\n"
     ]
    },
    {
     "name": "stderr",
     "output_type": "stream",
     "text": [
      "[I 2023-12-03 01:42:58,585] Trial 330 finished with value: 0.031407602903431454 and parameters: {'selected_combination': 'slim_p3alpha_itemknn', 'weight_0': 0.7449138079192947, 'weight_1': 0.7637029399874702, 'weight_2': 0.5930871646360136}. Best is trial 243 with value: 0.03146035923970984.\n"
     ]
    },
    {
     "name": "stdout",
     "output_type": "stream",
     "text": [
      "P3alphaItemKNNCFHybridRecommender: URM Detected 458 ( 3.6%) users with no interactions.\n",
      "P3alphaItemKNNCFHybridRecommender: URM Detected 330 ( 1.5%) items with no interactions.\n",
      "EvaluatorHoldout: Processed 10068 (100.0%) in 7.48 sec. Users per second: 1346\n"
     ]
    },
    {
     "name": "stderr",
     "output_type": "stream",
     "text": [
      "[I 2023-12-03 01:43:06,195] Trial 331 finished with value: 0.03012858199166319 and parameters: {'selected_combination': 'p3alpha_itemknn', 'weight_0': 0.9850121943404931, 'weight_1': 0.8335687207649499}. Best is trial 243 with value: 0.03146035923970984.\n"
     ]
    },
    {
     "name": "stdout",
     "output_type": "stream",
     "text": [
      "SLIMElasticNetP3alphaItemKNNCFHybridRecommender: URM Detected 458 ( 3.6%) users with no interactions.\n",
      "SLIMElasticNetP3alphaItemKNNCFHybridRecommender: URM Detected 330 ( 1.5%) items with no interactions.\n",
      "EvaluatorHoldout: Processed 10068 (100.0%) in 9.67 sec. Users per second: 1041\n"
     ]
    },
    {
     "name": "stderr",
     "output_type": "stream",
     "text": [
      "[I 2023-12-03 01:43:15,998] Trial 332 finished with value: 0.03141996329719819 and parameters: {'selected_combination': 'slim_p3alpha_itemknn', 'weight_0': 0.9466332419832322, 'weight_1': 0.7344828157550589, 'weight_2': 0.6620639319749004}. Best is trial 243 with value: 0.03146035923970984.\n"
     ]
    },
    {
     "name": "stdout",
     "output_type": "stream",
     "text": [
      "SLIMElasticNetPureSVDP3alphaUserKNNCFItemKNNCFHybridRecommender: URM Detected 458 ( 3.6%) users with no interactions.\n",
      "SLIMElasticNetPureSVDP3alphaUserKNNCFItemKNNCFHybridRecommender: URM Detected 330 ( 1.5%) items with no interactions.\n",
      "EvaluatorHoldout: Processed 10068 (100.0%) in 13.67 sec. Users per second: 736\n"
     ]
    },
    {
     "name": "stderr",
     "output_type": "stream",
     "text": [
      "[I 2023-12-03 01:43:29,862] Trial 333 finished with value: 0.024045325122500398 and parameters: {'selected_combination': 'slim_puresvd_p3alpha_userknn_itemknn', 'weight_0': 0.9658635269180468, 'weight_1': 0.8033590381442274, 'weight_2': 0.9809393419937155, 'weight_3': 0.5094958468197714, 'weight_4': 0.9002629801326378}. Best is trial 243 with value: 0.03146035923970984.\n"
     ]
    },
    {
     "name": "stdout",
     "output_type": "stream",
     "text": [
      "SLIMElasticNetP3alphaRP3betaHybridRecommender: URM Detected 458 ( 3.6%) users with no interactions.\n",
      "SLIMElasticNetP3alphaRP3betaHybridRecommender: URM Detected 330 ( 1.5%) items with no interactions.\n",
      "EvaluatorHoldout: Processed 10068 (100.0%) in 9.53 sec. Users per second: 1056\n"
     ]
    },
    {
     "name": "stderr",
     "output_type": "stream",
     "text": [
      "[I 2023-12-03 01:43:39,536] Trial 334 finished with value: 0.03088108008400042 and parameters: {'selected_combination': 'slim_p3alpha_rp3beta', 'weight_0': 0.9046194904612378, 'weight_1': 0.8258975866655024, 'weight_2': 0.6779490227807368}. Best is trial 243 with value: 0.03146035923970984.\n"
     ]
    },
    {
     "name": "stdout",
     "output_type": "stream",
     "text": [
      "RP3betaUserKNNCFHybridRecommender: URM Detected 458 ( 3.6%) users with no interactions.\n",
      "RP3betaUserKNNCFHybridRecommender: URM Detected 330 ( 1.5%) items with no interactions.\n",
      "EvaluatorHoldout: Processed 10068 (100.0%) in 8.34 sec. Users per second: 1208\n"
     ]
    },
    {
     "name": "stderr",
     "output_type": "stream",
     "text": [
      "[I 2023-12-03 01:43:48,031] Trial 335 finished with value: 0.022978764244407902 and parameters: {'selected_combination': 'rp3beta_userknn', 'weight_0': 0.9449436775369401, 'weight_1': 0.7802119374734906}. Best is trial 243 with value: 0.03146035923970984.\n"
     ]
    },
    {
     "name": "stdout",
     "output_type": "stream",
     "text": [
      "P3alphaRP3betaHybridRecommender: URM Detected 458 ( 3.6%) users with no interactions.\n",
      "P3alphaRP3betaHybridRecommender: URM Detected 330 ( 1.5%) items with no interactions.\n",
      "EvaluatorHoldout: Processed 10068 (100.0%) in 6.51 sec. Users per second: 1546\n"
     ]
    },
    {
     "name": "stderr",
     "output_type": "stream",
     "text": [
      "[I 2023-12-03 01:43:54,654] Trial 336 finished with value: 0.029794457214749475 and parameters: {'selected_combination': 'p3alpha_rp3beta', 'weight_0': 0.7958607057665239, 'weight_1': 0.7259865570567375}. Best is trial 243 with value: 0.03146035923970984.\n"
     ]
    },
    {
     "name": "stdout",
     "output_type": "stream",
     "text": [
      "PureSVDP3alphaUserKNNCFItemKNNCFHybridRecommender: URM Detected 458 ( 3.6%) users with no interactions.\n",
      "PureSVDP3alphaUserKNNCFItemKNNCFHybridRecommender: URM Detected 330 ( 1.5%) items with no interactions.\n",
      "EvaluatorHoldout: Processed 10068 (100.0%) in 11.55 sec. Users per second: 872\n"
     ]
    },
    {
     "name": "stderr",
     "output_type": "stream",
     "text": [
      "[I 2023-12-03 01:44:06,331] Trial 337 finished with value: 0.023437568975411695 and parameters: {'selected_combination': 'puresvd_p3alpha_userknn_itemknn', 'weight_0': 0.9988040720388729, 'weight_1': 0.8540599135038615, 'weight_2': 0.7166400747081414, 'weight_3': 0.7638832466976186}. Best is trial 243 with value: 0.03146035923970984.\n"
     ]
    },
    {
     "name": "stdout",
     "output_type": "stream",
     "text": [
      "SLIMElasticNetRP3betaUserKNNCFItemKNNCFHybridRecommender: URM Detected 458 ( 3.6%) users with no interactions.\n",
      "SLIMElasticNetRP3betaUserKNNCFItemKNNCFHybridRecommender: URM Detected 330 ( 1.5%) items with no interactions.\n",
      "EvaluatorHoldout: Processed 10068 (100.0%) in 12.28 sec. Users per second: 820\n"
     ]
    },
    {
     "name": "stderr",
     "output_type": "stream",
     "text": [
      "[I 2023-12-03 01:44:18,734] Trial 338 finished with value: 0.023965912745710177 and parameters: {'selected_combination': 'slim_rp3beta_userknn_itemknn', 'weight_0': 0.535093320176102, 'weight_1': 0.8209710224844954, 'weight_2': 0.34388041734904534, 'weight_3': 0.6961552152121815}. Best is trial 243 with value: 0.03146035923970984.\n"
     ]
    },
    {
     "name": "stdout",
     "output_type": "stream",
     "text": [
      "P3alphaHybridRecommender: URM Detected 458 ( 3.6%) users with no interactions.\n",
      "P3alphaHybridRecommender: URM Detected 330 ( 1.5%) items with no interactions.\n",
      "EvaluatorHoldout: Processed 10068 (100.0%) in 5.29 sec. Users per second: 1902\n"
     ]
    },
    {
     "name": "stderr",
     "output_type": "stream",
     "text": [
      "[I 2023-12-03 01:44:24,139] Trial 339 finished with value: 0.02955210126694049 and parameters: {'selected_combination': 'p3alpha', 'weight_0': 0.6219151168895919}. Best is trial 243 with value: 0.03146035923970984.\n"
     ]
    },
    {
     "name": "stdout",
     "output_type": "stream",
     "text": [
      "SLIMElasticNetP3alphaItemKNNCFHybridRecommender: URM Detected 458 ( 3.6%) users with no interactions.\n",
      "SLIMElasticNetP3alphaItemKNNCFHybridRecommender: URM Detected 330 ( 1.5%) items with no interactions.\n",
      "EvaluatorHoldout: Processed 10068 (100.0%) in 9.63 sec. Users per second: 1046\n"
     ]
    },
    {
     "name": "stderr",
     "output_type": "stream",
     "text": [
      "[I 2023-12-03 01:44:33,882] Trial 340 finished with value: 0.031257051257796445 and parameters: {'selected_combination': 'slim_p3alpha_itemknn', 'weight_0': 0.5767936260487766, 'weight_1': 0.7940156117918308, 'weight_2': 0.6427998305227516}. Best is trial 243 with value: 0.03146035923970984.\n"
     ]
    },
    {
     "name": "stdout",
     "output_type": "stream",
     "text": [
      "UserKNNCFHybridRecommender: URM Detected 458 ( 3.6%) users with no interactions.\n",
      "UserKNNCFHybridRecommender: URM Detected 330 ( 1.5%) items with no interactions.\n",
      "EvaluatorHoldout: Processed 10068 (100.0%) in 7.15 sec. Users per second: 1408\n"
     ]
    },
    {
     "name": "stderr",
     "output_type": "stream",
     "text": [
      "[I 2023-12-03 01:44:41,181] Trial 341 finished with value: 0.02283741588941232 and parameters: {'selected_combination': 'userknn', 'weight_0': 0.9740221103646923}. Best is trial 243 with value: 0.03146035923970984.\n"
     ]
    },
    {
     "name": "stdout",
     "output_type": "stream",
     "text": [
      "SLIMElasticNetP3alphaItemKNNCFHybridRecommender: URM Detected 458 ( 3.6%) users with no interactions.\n",
      "SLIMElasticNetP3alphaItemKNNCFHybridRecommender: URM Detected 330 ( 1.5%) items with no interactions.\n",
      "EvaluatorHoldout: Processed 10068 (100.0%) in 10.21 sec. Users per second: 987\n"
     ]
    },
    {
     "name": "stderr",
     "output_type": "stream",
     "text": [
      "[I 2023-12-03 01:44:51,506] Trial 342 finished with value: 0.03138098233598847 and parameters: {'selected_combination': 'slim_p3alpha_itemknn', 'weight_0': 0.9348707821244716, 'weight_1': 0.8442181547306425, 'weight_2': 0.7518908832736925}. Best is trial 243 with value: 0.03146035923970984.\n"
     ]
    },
    {
     "name": "stdout",
     "output_type": "stream",
     "text": [
      "SLIMElasticNetP3alphaItemKNNCFHybridRecommender: URM Detected 458 ( 3.6%) users with no interactions.\n",
      "SLIMElasticNetP3alphaItemKNNCFHybridRecommender: URM Detected 330 ( 1.5%) items with no interactions.\n",
      "EvaluatorHoldout: Processed 10068 (100.0%) in 10.75 sec. Users per second: 936\n"
     ]
    },
    {
     "name": "stderr",
     "output_type": "stream",
     "text": [
      "[I 2023-12-03 01:45:02,411] Trial 343 finished with value: 0.03142292332772089 and parameters: {'selected_combination': 'slim_p3alpha_itemknn', 'weight_0': 0.9130024166995314, 'weight_1': 0.8601119507476508, 'weight_2': 0.5878067912520352}. Best is trial 243 with value: 0.03146035923970984.\n"
     ]
    },
    {
     "name": "stdout",
     "output_type": "stream",
     "text": [
      "UserKNNCFItemKNNCFHybridRecommender: URM Detected 458 ( 3.6%) users with no interactions.\n",
      "UserKNNCFItemKNNCFHybridRecommender: URM Detected 330 ( 1.5%) items with no interactions.\n",
      "EvaluatorHoldout: Processed 10068 (100.0%) in 9.21 sec. Users per second: 1093\n"
     ]
    },
    {
     "name": "stderr",
     "output_type": "stream",
     "text": [
      "[I 2023-12-03 01:45:11,729] Trial 344 finished with value: 0.023050833695946977 and parameters: {'selected_combination': 'userknn_itemknn', 'weight_0': 0.8792044250409486, 'weight_1': 0.7603814876938579}. Best is trial 243 with value: 0.03146035923970984.\n"
     ]
    },
    {
     "name": "stdout",
     "output_type": "stream",
     "text": [
      "SLIMElasticNetPureSVDP3alphaItemKNNCFHybridRecommender: URM Detected 458 ( 3.6%) users with no interactions.\n",
      "SLIMElasticNetPureSVDP3alphaItemKNNCFHybridRecommender: URM Detected 330 ( 1.5%) items with no interactions.\n",
      "EvaluatorHoldout: Processed 10068 (100.0%) in 11.85 sec. Users per second: 849\n"
     ]
    },
    {
     "name": "stderr",
     "output_type": "stream",
     "text": [
      "[I 2023-12-03 01:45:23,740] Trial 345 finished with value: 0.02929485845457259 and parameters: {'selected_combination': 'slim_puresvd_p3alpha_itemknn', 'weight_0': 0.8423166729385128, 'weight_1': 0.8090829848324075, 'weight_2': 0.4009348629493572, 'weight_3': 0.3562208590138875}. Best is trial 243 with value: 0.03146035923970984.\n"
     ]
    },
    {
     "name": "stdout",
     "output_type": "stream",
     "text": [
      "SLIMElasticNetP3alphaItemKNNCFHybridRecommender: URM Detected 458 ( 3.6%) users with no interactions.\n",
      "SLIMElasticNetP3alphaItemKNNCFHybridRecommender: URM Detected 330 ( 1.5%) items with no interactions.\n",
      "EvaluatorHoldout: Processed 10068 (100.0%) in 10.95 sec. Users per second: 919\n"
     ]
    },
    {
     "name": "stderr",
     "output_type": "stream",
     "text": [
      "[I 2023-12-03 01:45:34,874] Trial 346 finished with value: 0.03138026499170732 and parameters: {'selected_combination': 'slim_p3alpha_itemknn', 'weight_0': 0.9573913283932659, 'weight_1': 0.6584663102625145, 'weight_2': 0.6831768822355005}. Best is trial 243 with value: 0.03146035923970984.\n"
     ]
    },
    {
     "name": "stdout",
     "output_type": "stream",
     "text": [
      "SLIMElasticNetP3alphaItemKNNCFHybridRecommender: URM Detected 458 ( 3.6%) users with no interactions.\n",
      "SLIMElasticNetP3alphaItemKNNCFHybridRecommender: URM Detected 330 ( 1.5%) items with no interactions.\n",
      "EvaluatorHoldout: Processed 10068 (100.0%) in 10.02 sec. Users per second: 1005\n"
     ]
    },
    {
     "name": "stderr",
     "output_type": "stream",
     "text": [
      "[I 2023-12-03 01:45:45,009] Trial 347 finished with value: 0.031456756752495915 and parameters: {'selected_combination': 'slim_p3alpha_itemknn', 'weight_0': 0.9383739710960782, 'weight_1': 0.8325740404685683, 'weight_2': 0.7083829457658045}. Best is trial 243 with value: 0.03146035923970984.\n"
     ]
    },
    {
     "name": "stdout",
     "output_type": "stream",
     "text": [
      "RP3betaUserKNNCFItemKNNCFHybridRecommender: URM Detected 458 ( 3.6%) users with no interactions.\n",
      "RP3betaUserKNNCFItemKNNCFHybridRecommender: URM Detected 330 ( 1.5%) items with no interactions.\n",
      "EvaluatorHoldout: Processed 10068 (100.0%) in 10.87 sec. Users per second: 926\n"
     ]
    },
    {
     "name": "stderr",
     "output_type": "stream",
     "text": [
      "[I 2023-12-03 01:45:56,026] Trial 348 finished with value: 0.023093030882065484 and parameters: {'selected_combination': 'rp3beta_userknn_itemknn', 'weight_0': 0.4981301961246196, 'weight_1': 0.8366596398356081, 'weight_2': 0.7263036795703376}. Best is trial 243 with value: 0.03146035923970984.\n"
     ]
    },
    {
     "name": "stdout",
     "output_type": "stream",
     "text": [
      "PureSVDRP3betaUserKNNCFItemKNNCFHybridRecommender: URM Detected 458 ( 3.6%) users with no interactions.\n",
      "PureSVDRP3betaUserKNNCFItemKNNCFHybridRecommender: URM Detected 330 ( 1.5%) items with no interactions.\n",
      "EvaluatorHoldout: Processed 10068 (100.0%) in 11.52 sec. Users per second: 874\n"
     ]
    },
    {
     "name": "stderr",
     "output_type": "stream",
     "text": [
      "[I 2023-12-03 01:46:07,706] Trial 349 finished with value: 0.023210328496383388 and parameters: {'selected_combination': 'puresvd_rp3beta_userknn_itemknn', 'weight_0': 0.9071822450261121, 'weight_1': 0.8133892246543677, 'weight_2': 0.7080451008992801, 'weight_3': 0.2795835322741268}. Best is trial 243 with value: 0.03146035923970984.\n"
     ]
    }
   ],
   "source": [
    "best_params = {\n",
    "    \"alphas\": 1,\n",
    "}\n",
    "\n",
    "study_name = \"hybrid-allmodels-study\"  # Unique identifier of the study.\n",
    "storage_name = \"sqlite:///db.db\".format(study_name)\n",
    "#op.delete_study(study_name, storage_name)\n",
    "study = op.create_study(study_name=study_name, storage=storage_name, direction=\"maximize\", load_if_exists=True)\n",
    "#study.enqueue_trial(best_params)\n",
    "study.optimize(objective, n_trials=50)"
   ],
   "metadata": {
    "collapsed": false,
    "ExecuteTime": {
     "end_time": "2023-12-03T00:46:07.713645832Z",
     "start_time": "2023-12-03T00:37:59.216212819Z"
    }
   },
   "id": "d15388f3e5727d96"
  },
  {
   "cell_type": "code",
   "execution_count": 30,
   "outputs": [
    {
     "data": {
      "text/plain": "{'selected_combination': 'slim_p3alpha_itemknn',\n 'weight_0': 0.9156068194320912,\n 'weight_1': 0.817561194412642,\n 'weight_2': 0.6931684679976798}"
     },
     "execution_count": 30,
     "metadata": {},
     "output_type": "execute_result"
    }
   ],
   "source": [
    "study.best_params"
   ],
   "metadata": {
    "collapsed": false,
    "ExecuteTime": {
     "end_time": "2023-12-03T00:48:20.642867887Z",
     "start_time": "2023-12-03T00:48:20.600240118Z"
    }
   },
   "id": "ac696963697fff90"
  },
  {
   "cell_type": "code",
   "execution_count": 31,
   "outputs": [
    {
     "name": "stdout",
     "output_type": "stream",
     "text": [
      "SLIMElasticNetP3alphaRP3betaItemKNNCFHybridRecommender: URM Detected 214 ( 1.7%) users with no interactions.\n",
      "SLIMElasticNetP3alphaRP3betaItemKNNCFHybridRecommender: URM Detected 134 ( 0.6%) items with no interactions.\n"
     ]
    }
   ],
   "source": [
    "final = model(URM_train_validation, [slim, p3alpha, rp3beta, itemknn])\n",
    "final.fit(alphas=[study.best_params[\"weight_0\"],study.best_params[\"weight_1\"], study.best_params[\"weight_2\"]])"
   ],
   "metadata": {
    "collapsed": false,
    "ExecuteTime": {
     "end_time": "2023-12-03T00:49:02.636636128Z",
     "start_time": "2023-12-03T00:49:02.590569450Z"
    }
   },
   "id": "1cf94f3d15cce754"
  },
  {
   "cell_type": "code",
   "execution_count": 32,
   "outputs": [
    {
     "name": "stdout",
     "output_type": "stream",
     "text": [
      "EvaluatorHoldout: Ignoring 2181 (17.3%) Users that have less than 1 test interactions\n",
      "EvaluatorHoldout: Ignoring 0 Users\n",
      "EvaluatorHoldout: Processed 10457 (100.0%) in 10.28 sec. Users per second: 1018\n"
     ]
    },
    {
     "data": {
      "text/plain": "(       PRECISION PRECISION_RECALL_MIN_DEN    RECALL       MAP MAP_MIN_DEN  \\\n cutoff                                                                      \n 10      0.087406                 0.146044  0.121361  0.044922    0.074536   \n \n              MRR      NDCG        F1  HIT_RATE ARHR_ALL_HITS  ...  \\\n cutoff                                                        ...   \n 10      0.255372  0.136474  0.101622  0.486851       0.33478  ...   \n \n        COVERAGE_USER COVERAGE_USER_HIT USERS_IN_GT DIVERSITY_GINI  \\\n cutoff                                                              \n 10          0.827425          0.402833    0.827425       0.059011   \n \n        SHANNON_ENTROPY RATIO_DIVERSITY_HERFINDAHL RATIO_DIVERSITY_GINI  \\\n cutoff                                                                   \n 10           10.275576                   0.997986             0.169418   \n \n        RATIO_SHANNON_ENTROPY RATIO_AVERAGE_POPULARITY RATIO_NOVELTY  \n cutoff                                                               \n 10                  0.791563                 1.735517       0.28752  \n \n [1 rows x 27 columns],\n 'CUTOFF: 10 - PRECISION: 0.0874056, PRECISION_RECALL_MIN_DEN: 0.1460445, RECALL: 0.1213607, MAP: 0.0449219, MAP_MIN_DEN: 0.0745359, MRR: 0.2553717, NDCG: 0.1364739, F1: 0.1016218, HIT_RATE: 0.4868509, ARHR_ALL_HITS: 0.3347805, NOVELTY: 0.0050899, AVERAGE_POPULARITY: 0.2188189, DIVERSITY_MEAN_INTER_LIST: 0.9763532, DIVERSITY_HERFINDAHL: 0.9976260, COVERAGE_ITEM: 0.3150932, COVERAGE_ITEM_HIT: 0.0814058, ITEMS_IN_GT: 0.8053731, COVERAGE_USER: 0.8274252, COVERAGE_USER_HIT: 0.4028327, USERS_IN_GT: 0.8274252, DIVERSITY_GINI: 0.0590113, SHANNON_ENTROPY: 10.2755760, RATIO_DIVERSITY_HERFINDAHL: 0.9979863, RATIO_DIVERSITY_GINI: 0.1694184, RATIO_SHANNON_ENTROPY: 0.7915630, RATIO_AVERAGE_POPULARITY: 1.7355168, RATIO_NOVELTY: 0.2875199, \\n')"
     },
     "execution_count": 32,
     "metadata": {},
     "output_type": "execute_result"
    }
   ],
   "source": [
    "from Evaluation.Evaluator import EvaluatorHoldout\n",
    "evaluator_test = EvaluatorHoldout(URM_test, cutoff_list=[10], ignore_users=[])\n",
    "evaluator_test.evaluateRecommender(final)"
   ],
   "metadata": {
    "collapsed": false,
    "ExecuteTime": {
     "end_time": "2023-12-03T00:49:16.052685358Z",
     "start_time": "2023-12-03T00:49:05.726269656Z"
    }
   },
   "id": "ea0f5ae68d4e5c0d"
  },
  {
   "cell_type": "code",
   "execution_count": 20,
   "outputs": [
    {
     "name": "stderr",
     "output_type": "stream",
     "text": [
      "/Users/alessandro/RecSys-2023-polimi/Data_manager/UserUtils.py:71: SettingWithCopyWarning: \n",
      "A value is trying to be set on a copy of a slice from a DataFrame.\n",
      "Try using .loc[row_indexer,col_indexer] = value instead\n",
      "\n",
      "See the caveats in the documentation: https://pandas.pydata.org/pandas-docs/stable/user_guide/indexing.html#returning-a-view-versus-a-copy\n",
      "  submission['item_list'] = submission['item_list'].apply(lambda x: ' '.join(map(str, x)))  # remove brakets\n",
      "/Users/alessandro/RecSys-2023-polimi/Data_manager/UserUtils.py:74: SettingWithCopyWarning: \n",
      "A value is trying to be set on a copy of a slice from a DataFrame.\n",
      "Try using .loc[row_indexer,col_indexer] = value instead\n",
      "\n",
      "See the caveats in the documentation: https://pandas.pydata.org/pandas-docs/stable/user_guide/indexing.html#returning-a-view-versus-a-copy\n",
      "  submission['item_list'] = submission['item_list'].astype(str)\n"
     ]
    }
   ],
   "source": [
    "from Recommenders.NonPersonalizedRecommender import TopPop\n",
    "\n",
    "top_recommender = TopPop(URM_all)\n",
    "top_recommender.fit()\n",
    "generateSubmission(final, top_recommender)"
   ],
   "metadata": {
    "collapsed": false,
    "ExecuteTime": {
     "end_time": "2023-11-30T20:55:16.774984Z",
     "start_time": "2023-11-30T20:55:05.473092Z"
    }
   },
   "id": "8973a3daee842ed1"
  },
  {
   "cell_type": "code",
   "execution_count": null,
   "outputs": [],
   "source": [],
   "metadata": {
    "collapsed": false
   },
   "id": "23a7609029f4e05e"
  }
 ],
 "metadata": {
  "kernelspec": {
   "display_name": "Python 3",
   "language": "python",
   "name": "python3"
  },
  "language_info": {
   "codemirror_mode": {
    "name": "ipython",
    "version": 2
   },
   "file_extension": ".py",
   "mimetype": "text/x-python",
   "name": "python",
   "nbconvert_exporter": "python",
   "pygments_lexer": "ipython2",
   "version": "2.7.6"
  }
 },
 "nbformat": 4,
 "nbformat_minor": 5
}
