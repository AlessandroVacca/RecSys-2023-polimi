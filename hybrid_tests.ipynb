{
 "cells": [
  {
   "cell_type": "code",
   "execution_count": 2,
   "outputs": [
    {
     "name": "stdout",
     "output_type": "stream",
     "text": [
      "Warning: 215 (1.70 %) of 12638 users have no train items\n",
      "Warning: 2190 (17.33 %) of 12638 users have no sampled items\n",
      "Warning: 446 (3.53 %) of 12638 users have no train items\n",
      "Warning: 2579 (20.41 %) of 12638 users have no sampled items\n"
     ]
    }
   ],
   "source": [
    "from Data_manager.UserUtils import *\n",
    "from Data_manager.split_functions.split_train_validation_random_holdout import \\\n",
    "    split_train_in_two_percentage_global_sample\n",
    "URM_all = getURM_all()\n",
    "URM_train, URM_test = split_train_in_two_percentage_global_sample(URM_all, train_percentage = 0.80)\n",
    "URM_train, URM_validation = split_train_in_two_percentage_global_sample(URM_train, train_percentage = 0.80)"
   ],
   "metadata": {
    "collapsed": false,
    "ExecuteTime": {
     "end_time": "2023-11-15T14:48:16.280829Z",
     "start_time": "2023-11-15T14:48:14.763884Z"
    }
   },
   "id": "a884190b64cf557"
  },
  {
   "cell_type": "code",
   "execution_count": 3,
   "outputs": [
    {
     "data": {
      "text/plain": "(array([32, 20,  3, ...,  3, 13, 43], dtype=int32), (12638,))"
     },
     "execution_count": 3,
     "metadata": {},
     "output_type": "execute_result"
    }
   ],
   "source": [
    "import numpy as np \n",
    "import scipy.sparse as sps\n",
    "\n",
    "profile_length = np.ediff1d(sps.csr_matrix(URM_train).indptr)\n",
    "profile_length, profile_length.shape"
   ],
   "metadata": {
    "collapsed": false,
    "ExecuteTime": {
     "end_time": "2023-11-15T14:48:17.751926Z",
     "start_time": "2023-11-15T14:48:17.746502Z"
    }
   },
   "id": "fcb87886c96b697a"
  },
  {
   "cell_type": "code",
   "execution_count": 21,
   "outputs": [
    {
     "data": {
      "text/plain": "2527"
     },
     "execution_count": 21,
     "metadata": {},
     "output_type": "execute_result"
    }
   ],
   "source": [
    "block_size = int(len(profile_length)*0.2)\n",
    "block_size"
   ],
   "metadata": {
    "collapsed": false,
    "ExecuteTime": {
     "end_time": "2023-11-15T15:54:25.240773Z",
     "start_time": "2023-11-15T15:54:25.230620Z"
    }
   },
   "id": "e890d0608bfb6f8e"
  },
  {
   "cell_type": "code",
   "execution_count": 22,
   "outputs": [
    {
     "name": "stdout",
     "output_type": "stream",
     "text": [
      "Group 0, #users in group 2527, average p.len 1.23, median 1.0, min 0, max 3\n",
      "Group 1, #users in group 2527, average p.len 4.91, median 5.0, min 3, max 8\n",
      "Group 2, #users in group 2527, average p.len 11.76, median 11.0, min 8, max 17\n",
      "Group 3, #users in group 2527, average p.len 25.37, median 25.0, min 17, max 37\n",
      "Group 4, #users in group 2527, average p.len 77.24, median 61.0, min 37, max 465\n"
     ]
    }
   ],
   "source": [
    "sorted_users = np.argsort(profile_length)\n",
    "for group_id in range(0, 5):\n",
    "    start_pos = group_id * block_size\n",
    "    end_pos = min((group_id+1) * block_size, len(profile_length))\n",
    "    \n",
    "    users_in_group = sorted_users[start_pos:end_pos]\n",
    "    \n",
    "    users_in_group_p_len = profile_length[users_in_group]\n",
    "    \n",
    "    print(\"Group {}, #users in group {}, average p.len {:.2f}, median {}, min {}, max {}\".format(\n",
    "        group_id, \n",
    "        users_in_group.shape[0],\n",
    "        users_in_group_p_len.mean(),\n",
    "        np.median(users_in_group_p_len),\n",
    "        users_in_group_p_len.min(),\n",
    "        users_in_group_p_len.max()))\n",
    "    "
   ],
   "metadata": {
    "collapsed": false,
    "ExecuteTime": {
     "end_time": "2023-11-15T15:54:25.955724Z",
     "start_time": "2023-11-15T15:54:25.952438Z"
    }
   },
   "id": "2bc4fd6cf29cf877"
  },
  {
   "cell_type": "code",
   "execution_count": 23,
   "outputs": [
    {
     "name": "stdout",
     "output_type": "stream",
     "text": [
      "TopPopRecommender: URM Detected 446 ( 3.5%) users with no interactions.\n",
      "TopPopRecommender: URM Detected 342 ( 1.5%) items with no interactions.\n",
      "UserKNNCFRecommender: URM Detected 446 ( 3.5%) users with no interactions.\n",
      "UserKNNCFRecommender: URM Detected 342 ( 1.5%) items with no interactions.\n",
      "ItemKNNCFRecommender: URM Detected 446 ( 3.5%) users with no interactions.\n",
      "ItemKNNCFRecommender: URM Detected 342 ( 1.5%) items with no interactions.\n",
      "P3alphaRecommender: URM Detected 446 ( 3.5%) users with no interactions.\n",
      "P3alphaRecommender: URM Detected 342 ( 1.5%) items with no interactions.\n",
      "RP3betaRecommender: URM Detected 446 ( 3.5%) users with no interactions.\n",
      "RP3betaRecommender: URM Detected 342 ( 1.5%) items with no interactions.\n",
      "PureSVDRecommender: URM Detected 446 ( 3.5%) users with no interactions.\n",
      "PureSVDRecommender: URM Detected 342 ( 1.5%) items with no interactions.\n",
      "NMFRecommender: URM Detected 446 ( 3.5%) users with no interactions.\n",
      "NMFRecommender: URM Detected 342 ( 1.5%) items with no interactions.\n",
      "SLIMElasticNetRecommender: URM Detected 446 ( 3.5%) users with no interactions.\n",
      "SLIMElasticNetRecommender: URM Detected 342 ( 1.5%) items with no interactions.\n",
      "TopPopRecommender: Loading model from file 'result_experiments/TopPopRecommender_best_model.zip'\n",
      "TopPopRecommender: Loading complete\n",
      "SLIMElasticNetRecommender: Loading model from file 'result_experiments/SLIMElasticNetRecommender_best_model.zip'\n",
      "SLIMElasticNetRecommender: Loading complete\n",
      "PureSVDRecommender: Loading model from file 'result_experiments/PureSVDRecommender_best_model.zip'\n",
      "PureSVDRecommender: Loading complete\n",
      "NMFRecommender: Computing NMF decomposition...\n"
     ]
    },
    {
     "name": "stderr",
     "output_type": "stream",
     "text": [
      "/Users/alessandro/RecSys-2023-polimi/venv/lib/python3.11/site-packages/sklearn/decomposition/_nmf.py:619: RuntimeWarning: overflow encountered in divide\n",
      "  numerator /= denominator\n",
      "/Users/alessandro/RecSys-2023-polimi/venv/lib/python3.11/site-packages/sklearn/decomposition/_nmf.py:626: RuntimeWarning: invalid value encountered in multiply\n",
      "  W *= delta_W\n",
      "/Users/alessandro/RecSys-2023-polimi/venv/lib/python3.11/site-packages/sklearn/decomposition/_nmf.py:1710: ConvergenceWarning: Maximum number of iterations 500 reached. Increase it to improve convergence.\n",
      "  warnings.warn(\n",
      "/Users/alessandro/RecSys-2023-polimi/venv/lib/python3.11/site-packages/sklearn/decomposition/_nmf.py:1710: ConvergenceWarning: Maximum number of iterations 500 reached. Increase it to improve convergence.\n",
      "  warnings.warn(\n"
     ]
    },
    {
     "name": "stdout",
     "output_type": "stream",
     "text": [
      "NMFRecommender: Computing NMF decomposition... done in 23.17 sec\n",
      "P3alphaRecommender: Loading model from file 'result_experiments/P3alphaRecommender_best_model.zip'\n",
      "P3alphaRecommender: Loading complete\n",
      "RP3betaRecommender: Loading model from file 'result_experiments/RP3betaRecommender_best_model.zip'\n",
      "RP3betaRecommender: Loading complete\n",
      "UserKNNCFRecommender: Loading model from file 'result_experiments/UserKNNCFRecommender_cosine_best_model.zip'\n",
      "UserKNNCFRecommender: Loading complete\n",
      "ItemKNNCFRecommender: Loading model from file 'result_experiments/ItemKNNCFRecommender_cosine_best_model.zip'\n",
      "ItemKNNCFRecommender: Loading complete\n"
     ]
    }
   ],
   "source": [
    "from Recommenders.NonPersonalizedRecommender import TopPop\n",
    "from Recommenders.KNN.UserKNNCFRecommender import UserKNNCFRecommender\n",
    "from Recommenders.KNN.ItemKNNCFRecommender import ItemKNNCFRecommender\n",
    "from Recommenders.SLIM.Cython.SLIM_BPR_Cython import SLIM_BPR_Cython\n",
    "from Recommenders.SLIM.SLIMElasticNetRecommender import SLIMElasticNetRecommender\n",
    "from Recommenders.GraphBased.P3alphaRecommender import P3alphaRecommender\n",
    "from Recommenders.GraphBased.RP3betaRecommender import RP3betaRecommender\n",
    "from Recommenders.MatrixFactorization.Cython.MatrixFactorization_Cython import (MatrixFactorization_BPR_Cython,\n",
    "                                                                            MatrixFactorization_AsySVD_Cython)\n",
    "from Recommenders.MatrixFactorization.PureSVDRecommender import PureSVDRecommender\n",
    "from Recommenders.MatrixFactorization.IALSRecommender import IALSRecommender\n",
    "from Recommenders.MatrixFactorization.NMFRecommender import NMFRecommender\n",
    "\n",
    "MAP_recommender_per_group = {}\n",
    "\n",
    "collaborative_recommender_class = {\"TopPop\": TopPop,\n",
    "                                   \"UserKNNCF\": UserKNNCFRecommender,\n",
    "                                   \"ItemKNNCF\": ItemKNNCFRecommender,\n",
    "                                   \"P3alpha\": P3alphaRecommender,\n",
    "                                   \"RP3beta\": RP3betaRecommender,\n",
    "                                   \"PureSVD\": PureSVDRecommender,\n",
    "                                   \"NMF\": NMFRecommender,\n",
    "                                   \"SLIMELASTIC\": SLIMElasticNetRecommender,\n",
    "                                   }\n",
    "collaborative_recommender_class.items()\n",
    "\n",
    "recommender_object_dict = {}\n",
    "\n",
    "for label, recommender_class in collaborative_recommender_class.items():\n",
    "    recommender_object = recommender_class(URM_train)\n",
    "    recommender_object_dict[label] = recommender_object\n",
    "    \n",
    "    \n",
    "recommender_object_dict[\"TopPop\"].load_model(\"result_experiments/\", \"TopPopRecommender_best_model.zip\")\n",
    "recommender_object_dict[\"SLIMELASTIC\"].load_model(\"result_experiments/\", \"SLIMElasticNetRecommender_best_model.zip\")\n",
    "recommender_object_dict[\"PureSVD\"].load_model(\"result_experiments/\", \"PureSVDRecommender_best_model.zip\")\n",
    "recommender_object_dict[\"NMF\"].fit()\n",
    "recommender_object_dict[\"P3alpha\"].load_model(\"result_experiments/\", \"P3alphaRecommender_best_model.zip\")\n",
    "recommender_object_dict[\"RP3beta\"].load_model(\"result_experiments/\", \"RP3betaRecommender_best_model.zip\")\n",
    "recommender_object_dict[\"UserKNNCF\"].load_model(\"result_experiments/\", \"UserKNNCFRecommender_cosine_best_model.zip\")\n",
    "recommender_object_dict[\"ItemKNNCF\"].load_model(\"result_experiments/\", \"ItemKNNCFRecommender_cosine_best_model.zip\")"
   ],
   "metadata": {
    "collapsed": false,
    "ExecuteTime": {
     "end_time": "2023-11-15T15:54:51.066762Z",
     "start_time": "2023-11-15T15:54:27.153900Z"
    }
   },
   "id": "fc4837a46c27e143"
  },
  {
   "cell_type": "code",
   "execution_count": 25,
   "outputs": [
    {
     "name": "stdout",
     "output_type": "stream",
     "text": [
      "Group 0, #users in group 2527, average p.len 1.23, median 1.0, min 0, max 3\n",
      "EvaluatorHoldout: Ignoring 2190 (17.3%) Users that have less than 1 test interactions\n",
      "EvaluatorHoldout: Ignoring 10111 Users\n",
      "EvaluatorHoldout: Processed 1110 (100.0%) in 0.49 sec. Users per second: 2284\n",
      "EvaluatorHoldout: Processed 1110 (100.0%) in 0.47 sec. Users per second: 2383\n",
      "EvaluatorHoldout: Processed 1110 (100.0%) in 0.32 sec. Users per second: 3455\n",
      "EvaluatorHoldout: Processed 1110 (100.0%) in 0.30 sec. Users per second: 3671\n",
      "EvaluatorHoldout: Processed 1110 (100.0%) in 0.28 sec. Users per second: 4015\n",
      "EvaluatorHoldout: Processed 1110 (100.0%) in 0.49 sec. Users per second: 2259\n",
      "EvaluatorHoldout: Processed 1110 (100.0%) in 0.48 sec. Users per second: 2313\n",
      "EvaluatorHoldout: Processed 1110 (100.0%) in 0.33 sec. Users per second: 3326\n",
      "Group 1, #users in group 2527, average p.len 4.91, median 5.0, min 3, max 8\n",
      "EvaluatorHoldout: Ignoring 2190 (17.3%) Users that have less than 1 test interactions\n",
      "EvaluatorHoldout: Ignoring 10111 Users\n",
      "EvaluatorHoldout: Processed 1870 (100.0%) in 0.70 sec. Users per second: 2681\n",
      "EvaluatorHoldout: Processed 1870 (100.0%) in 0.76 sec. Users per second: 2460\n",
      "EvaluatorHoldout: Processed 1870 (100.0%) in 0.61 sec. Users per second: 3052\n",
      "EvaluatorHoldout: Processed 1870 (100.0%) in 0.52 sec. Users per second: 3613\n",
      "EvaluatorHoldout: Processed 1870 (100.0%) in 0.40 sec. Users per second: 4694\n",
      "EvaluatorHoldout: Processed 1870 (100.0%) in 0.74 sec. Users per second: 2528\n",
      "EvaluatorHoldout: Processed 1870 (100.0%) in 0.50 sec. Users per second: 3715\n",
      "EvaluatorHoldout: Processed 1870 (100.0%) in 0.50 sec. Users per second: 3722\n",
      "Group 2, #users in group 2527, average p.len 11.76, median 11.0, min 8, max 17\n",
      "EvaluatorHoldout: Ignoring 2190 (17.3%) Users that have less than 1 test interactions\n",
      "EvaluatorHoldout: Ignoring 10111 Users\n",
      "EvaluatorHoldout: Processed 2417 (100.0%) in 0.88 sec. Users per second: 2738\n",
      "EvaluatorHoldout: Processed 2417 (100.0%) in 1.07 sec. Users per second: 2269\n",
      "EvaluatorHoldout: Processed 2417 (100.0%) in 0.96 sec. Users per second: 2507\n",
      "EvaluatorHoldout: Processed 2417 (100.0%) in 0.78 sec. Users per second: 3095\n",
      "EvaluatorHoldout: Processed 2417 (100.0%) in 0.50 sec. Users per second: 4882\n",
      "EvaluatorHoldout: Processed 2417 (100.0%) in 1.01 sec. Users per second: 2390\n",
      "EvaluatorHoldout: Processed 2417 (100.0%) in 0.47 sec. Users per second: 5109\n",
      "EvaluatorHoldout: Processed 2417 (100.0%) in 0.74 sec. Users per second: 3277\n",
      "Group 3, #users in group 2527, average p.len 25.37, median 25.0, min 17, max 37\n",
      "EvaluatorHoldout: Ignoring 2190 (17.3%) Users that have less than 1 test interactions\n",
      "EvaluatorHoldout: Ignoring 10111 Users\n",
      "EvaluatorHoldout: Processed 2521 (100.0%) in 0.92 sec. Users per second: 2735\n",
      "EvaluatorHoldout: Processed 2521 (100.0%) in 1.23 sec. Users per second: 2054\n",
      "EvaluatorHoldout: Processed 2521 (100.0%) in 1.29 sec. Users per second: 1952\n",
      "EvaluatorHoldout: Processed 2521 (100.0%) in 1.05 sec. Users per second: 2396\n",
      "EvaluatorHoldout: Processed 2521 (100.0%) in 0.54 sec. Users per second: 4678\n",
      "EvaluatorHoldout: Processed 2521 (100.0%) in 1.02 sec. Users per second: 2477\n",
      "EvaluatorHoldout: Processed 2521 (100.0%) in 0.44 sec. Users per second: 5691\n"
     ]
    },
    {
     "name": "stderr",
     "output_type": "stream",
     "text": [
      "/Users/alessandro/RecSys-2023-polimi/Evaluation/metrics.py:513: RuntimeWarning: invalid value encountered in divide\n",
      "  gini_diversity = 2*np.sum((n_items + 1 - index)/(n_items+1) * recommended_counter_sorted/np.sum(recommended_counter_sorted))\n"
     ]
    },
    {
     "name": "stdout",
     "output_type": "stream",
     "text": [
      "EvaluatorHoldout: Processed 2521 (100.0%) in 0.92 sec. Users per second: 2746\n",
      "Group 4, #users in group 2527, average p.len 77.24, median 61.0, min 37, max 465\n",
      "EvaluatorHoldout: Ignoring 2190 (17.3%) Users that have less than 1 test interactions\n",
      "EvaluatorHoldout: Ignoring 10111 Users\n",
      "EvaluatorHoldout: Processed 2527 (100.0%) in 0.92 sec. Users per second: 2735\n",
      "EvaluatorHoldout: Processed 2527 (100.0%) in 1.39 sec. Users per second: 1812\n",
      "EvaluatorHoldout: Processed 2527 (100.0%) in 1.74 sec. Users per second: 1456\n",
      "EvaluatorHoldout: Processed 2527 (100.0%) in 1.49 sec. Users per second: 1692\n",
      "EvaluatorHoldout: Processed 2527 (100.0%) in 0.59 sec. Users per second: 4302\n",
      "EvaluatorHoldout: Processed 2527 (100.0%) in 1.04 sec. Users per second: 2426\n",
      "EvaluatorHoldout: Processed 2527 (100.0%) in 0.48 sec. Users per second: 5237\n"
     ]
    },
    {
     "name": "stderr",
     "output_type": "stream",
     "text": [
      "/Users/alessandro/RecSys-2023-polimi/Evaluation/metrics.py:513: RuntimeWarning: invalid value encountered in divide\n",
      "  gini_diversity = 2*np.sum((n_items + 1 - index)/(n_items+1) * recommended_counter_sorted/np.sum(recommended_counter_sorted))\n"
     ]
    },
    {
     "name": "stdout",
     "output_type": "stream",
     "text": [
      "EvaluatorHoldout: Processed 2527 (100.0%) in 1.07 sec. Users per second: 2368\n"
     ]
    }
   ],
   "source": [
    "from Evaluation.Evaluator import EvaluatorHoldout\n",
    "\n",
    "cutoff = 10\n",
    "\n",
    "for group_id in range(0, 5):\n",
    "    \n",
    "    start_pos = group_id*block_size\n",
    "    end_pos = min((group_id+1)*block_size, len(profile_length))\n",
    "    \n",
    "    users_in_group = sorted_users[start_pos:end_pos]\n",
    "    \n",
    "    users_in_group_p_len = profile_length[users_in_group]\n",
    "    \n",
    "    print(\"Group {}, #users in group {}, average p.len {:.2f}, median {}, min {}, max {}\".format(\n",
    "        group_id, \n",
    "        users_in_group.shape[0],\n",
    "        users_in_group_p_len.mean(),\n",
    "        np.median(users_in_group_p_len),\n",
    "        users_in_group_p_len.min(),\n",
    "        users_in_group_p_len.max()))\n",
    "    \n",
    "    \n",
    "    users_not_in_group_flag = np.isin(sorted_users, users_in_group, invert=True)\n",
    "    users_not_in_group = sorted_users[users_not_in_group_flag]\n",
    "    \n",
    "    evaluator_test = EvaluatorHoldout(URM_test, cutoff_list=[cutoff], ignore_users=users_not_in_group)\n",
    "    \n",
    "    for label, recommender in recommender_object_dict.items():\n",
    "        result_df, _ = evaluator_test.evaluateRecommender(recommender)\n",
    "        if label in MAP_recommender_per_group:\n",
    "            MAP_recommender_per_group[label].append(result_df.loc[cutoff][\"MAP\"])\n",
    "        else:\n",
    "            MAP_recommender_per_group[label] = [result_df.loc[cutoff][\"MAP\"]]\n",
    "        "
   ],
   "metadata": {
    "collapsed": false,
    "ExecuteTime": {
     "end_time": "2023-11-15T15:56:23.737947Z",
     "start_time": "2023-11-15T15:55:53.030254Z"
    }
   },
   "id": "36a5e13e180a688d"
  },
  {
   "cell_type": "code",
   "execution_count": 27,
   "outputs": [
    {
     "data": {
      "text/plain": "<Figure size 1600x900 with 1 Axes>",
      "image/png": "[encoded data removed]"
     },
     "metadata": {},
     "output_type": "display_data"
    }
   ],
   "source": [
    "import matplotlib.pyplot as plt\n",
    "%matplotlib inline  \n",
    "\n",
    "_ = plt.figure(figsize=(16, 9))\n",
    "for label, recommender in recommender_object_dict.items():\n",
    "    results = MAP_recommender_per_group[label]\n",
    "    plt.scatter(x=np.arange(0,len(results)), y=results, label=label)\n",
    "plt.ylabel('MAP')\n",
    "plt.xlabel('User Group')\n",
    "plt.legend()\n",
    "plt.show()"
   ],
   "metadata": {
    "collapsed": false,
    "ExecuteTime": {
     "end_time": "2023-11-15T15:59:31.439547Z",
     "start_time": "2023-11-15T15:59:31.304128Z"
    }
   },
   "id": "e136498634d5f25f"
  },
  {
   "cell_type": "code",
   "execution_count": 5,
   "outputs": [
    {
     "name": "stdout",
     "output_type": "stream",
     "text": [
      "ItemKNNCFRecommender: URM Detected 2612 (20.7%) users with no interactions.\n",
      "ItemKNNCFRecommender: URM Detected 5701 (25.7%) items with no interactions.\n",
      "ItemKNNCFRecommender: Loading model from file 'result_experiments/ItemKNNCFRecommender_cosine_best_model.zip'\n",
      "ItemKNNCFRecommender: Loading complete\n"
     ]
    }
   ],
   "source": [
    "item_recommender = ItemKNNCFRecommender(URM_train=URM_validation)\n",
    "item_recommender.load_model(\"result_experiments/\", \"ItemKNNCFRecommender_cosine_best_model.zip\")"
   ],
   "metadata": {
    "collapsed": false,
    "ExecuteTime": {
     "end_time": "2023-11-15T14:27:13.043477Z",
     "start_time": "2023-11-15T14:27:12.860364Z"
    }
   },
   "id": "2da40cc03e2239b"
  },
  {
   "cell_type": "code",
   "execution_count": 6,
   "outputs": [
    {
     "name": "stdout",
     "output_type": "stream",
     "text": [
      "SLIMElasticNetRecommender: URM Detected 2612 (20.7%) users with no interactions.\n",
      "SLIMElasticNetRecommender: URM Detected 5701 (25.7%) items with no interactions.\n",
      "SLIMElasticNetRecommender: Loading model from file 'result_experiments/SLIMElasticNetRecommender_best_model.zip'\n",
      "SLIMElasticNetRecommender: Loading complete\n"
     ]
    }
   ],
   "source": [
    "slim_recommender = SLIMElasticNetRecommender(URM_train=URM_validation)\n",
    "slim_recommender.load_model(\"result_experiments/\", \"SLIMElasticNetRecommender_best_model.zip\")"
   ],
   "metadata": {
    "collapsed": false,
    "ExecuteTime": {
     "end_time": "2023-11-15T14:27:13.120389Z",
     "start_time": "2023-11-15T14:27:13.098918Z"
    }
   },
   "id": "1fbf906b9904c0b2"
  },
  {
   "cell_type": "code",
   "execution_count": 13,
   "outputs": [
    {
     "name": "stdout",
     "output_type": "stream",
     "text": [
      "PureSVDRecommender: Loading model from file 'result_experiments/PureSVDRecommender_best_model.zip'\n",
      "PureSVDRecommender: Loading complete\n"
     ]
    }
   ],
   "source": [
    "from Recommenders.MatrixFactorization.PureSVDRecommender import PureSVDRecommender\n",
    "recommender = PureSVDRecommender(URM_train=URM_all)\n",
    "recommender.load_model(\"result_experiments/\", \"PureSVDRecommender_best_model.zip\")"
   ],
   "metadata": {
    "collapsed": false,
    "ExecuteTime": {
     "end_time": "2023-11-10T22:56:30.442365Z",
     "start_time": "2023-11-10T22:56:30.329936Z"
    }
   },
   "id": "80e1ec62d3746cde"
  },
  {
   "cell_type": "code",
   "execution_count": 14,
   "outputs": [],
   "source": [
    "from Recommenders.NonPersonalizedRecommender import TopPop\n",
    "top_recommender = TopPop(URM_all)\n",
    "top_recommender.fit()"
   ],
   "metadata": {
    "collapsed": false,
    "ExecuteTime": {
     "end_time": "2023-11-15T14:30:14.026753Z",
     "start_time": "2023-11-15T14:30:14.014501Z"
    }
   },
   "id": "8286310389f85367"
  },
  {
   "cell_type": "code",
   "execution_count": null,
   "outputs": [],
   "source": [
    "generateSubmission(recommender, top_recommender)"
   ],
   "metadata": {
    "collapsed": false
   },
   "id": "a22d0563d1e5f857"
  }
 ],
 "metadata": {
  "kernelspec": {
   "display_name": "Python 3",
   "language": "python",
   "name": "python3"
  },
  "language_info": {
   "codemirror_mode": {
    "name": "ipython",
    "version": 2
   },
   "file_extension": ".py",
   "mimetype": "text/x-python",
   "name": "python",
   "nbconvert_exporter": "python",
   "pygments_lexer": "ipython2",
   "version": "2.7.6"
  }
 },
 "nbformat": 4,
 "nbformat_minor": 5
}
