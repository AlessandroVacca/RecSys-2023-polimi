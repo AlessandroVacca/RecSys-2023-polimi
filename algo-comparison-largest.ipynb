{
 "cells": [
  {
   "cell_type": "code",
   "execution_count": 1,
   "outputs": [
    {
     "name": "stdout",
     "output_type": "stream",
     "text": [
      "Warning: 231 (1.83 %) of 12638 users have no train items\n",
      "Warning: 2190 (17.33 %) of 12638 users have no sampled items\n"
     ]
    }
   ],
   "source": [
    "from Data_manager.UserUtils import *\n",
    "from Data_manager.split_functions.split_train_validation_random_holdout import \\\n",
    "    split_train_in_two_percentage_global_sample\n",
    "import numpy as np\n",
    "URM_all = getURM_all()\n",
    "URM_train_validation, URM_test = split_train_in_two_percentage_global_sample(URM_all, train_percentage = 0.80)\n",
    "#URM_train, URM_validation = split_train_in_two_percentage_global_sample(URM_train_validation, train_percentage = 0.80)"
   ],
   "metadata": {
    "collapsed": false,
    "ExecuteTime": {
     "end_time": "2024-01-09T16:21:07.744032Z",
     "start_time": "2024-01-09T16:21:06.084013Z"
    }
   },
   "id": "a884190b64cf557"
  },
  {
   "cell_type": "code",
   "execution_count": 2,
   "outputs": [],
   "source": [
    "import pickle\n",
    "\n",
    "with open('URM_train_validation.pkl', 'rb') as f:\n",
    "    URM_train_validation = pickle.load(f)"
   ],
   "metadata": {
    "collapsed": false,
    "ExecuteTime": {
     "end_time": "2024-01-09T16:21:07.745788Z",
     "start_time": "2024-01-09T16:21:07.737564Z"
    }
   },
   "id": "273d290aff023061"
  },
  {
   "cell_type": "code",
   "execution_count": 3,
   "outputs": [],
   "source": [
    "import pickle\n",
    "\n",
    "with open('URM_test.pkl', 'rb') as f:\n",
    "    URM_test = pickle.load(f)"
   ],
   "metadata": {
    "collapsed": false,
    "ExecuteTime": {
     "end_time": "2024-01-09T16:21:07.757133Z",
     "start_time": "2024-01-09T16:21:07.748142Z"
    }
   },
   "id": "5a84ca63e0960b54"
  },
  {
   "cell_type": "code",
   "execution_count": 4,
   "outputs": [
    {
     "name": "stdout",
     "output_type": "stream",
     "text": [
      "EvaluatorHoldout: Ignoring 2203 (17.4%) Users that have less than 1 test interactions\n"
     ]
    }
   ],
   "source": [
    "# SETUP EVALUATORS\n",
    "from Evaluation.Evaluator import EvaluatorHoldout\n",
    "\n",
    "#evaluator_validation = EvaluatorHoldout(URM_validation, cutoff_list=[10])\n",
    "evaluator_test = EvaluatorHoldout(URM_test, cutoff_list=[10])"
   ],
   "metadata": {
    "collapsed": false,
    "ExecuteTime": {
     "end_time": "2024-01-09T16:21:08.733505Z",
     "start_time": "2024-01-09T16:21:08.727186Z"
    }
   },
   "id": "3f01a5f386eaff3c"
  },
  {
   "cell_type": "code",
   "execution_count": 5,
   "outputs": [
    {
     "data": {
      "text/plain": "(array([36, 28,  3, ...,  5, 20, 56], dtype=int32), (12638,))"
     },
     "execution_count": 5,
     "metadata": {},
     "output_type": "execute_result"
    }
   ],
   "source": [
    "import numpy as np \n",
    "import scipy.sparse as sps\n",
    "profile_length = np.ediff1d(sps.csr_matrix(URM_train_validation).indptr)\n",
    "\n",
    "#profile_length = np.ediff1d(sps.csr_matrix(URM_train_validation).indptr)\n",
    "profile_length, profile_length.shape"
   ],
   "metadata": {
    "collapsed": false,
    "ExecuteTime": {
     "end_time": "2024-01-09T16:21:11.029919Z",
     "start_time": "2024-01-09T16:21:11.025680Z"
    }
   },
   "id": "fcb87886c96b697a"
  },
  {
   "cell_type": "code",
   "execution_count": 5,
   "outputs": [
    {
     "data": {
      "text/plain": "1263"
     },
     "execution_count": 5,
     "metadata": {},
     "output_type": "execute_result"
    }
   ],
   "source": [
    "block_size = int(len(profile_length)*0.1)\n",
    "block_size"
   ],
   "metadata": {
    "collapsed": false,
    "ExecuteTime": {
     "end_time": "2024-01-02T22:29:15.535396Z",
     "start_time": "2024-01-02T22:29:15.530398Z"
    }
   },
   "id": "e890d0608bfb6f8e"
  },
  {
   "cell_type": "code",
   "execution_count": 17,
   "outputs": [
    {
     "name": "stdout",
     "output_type": "stream",
     "text": [
      "Group 0, #users in group 1263, average p.len 0.83, median 1.0, min 0, max 2\n",
      "Group 1, #users in group 1263, average p.len 2.42, median 2.0, min 2, max 3\n",
      "Group 2, #users in group 1263, average p.len 4.68, median 5.0, min 3, max 6\n",
      "Group 3, #users in group 1263, average p.len 7.72, median 8.0, min 6, max 10\n",
      "Group 4, #users in group 1263, average p.len 11.83, median 12.0, min 10, max 14\n",
      "Group 5, #users in group 1263, average p.len 17.67, median 18.0, min 14, max 21\n",
      "Group 6, #users in group 1263, average p.len 25.76, median 26.0, min 21, max 31\n",
      "Group 7, #users in group 1263, average p.len 37.65, median 37.0, min 31, max 46\n",
      "Group 8, #users in group 1263, average p.len 58.62, median 58.0, min 46, max 76\n",
      "Group 9, #users in group 1263, average p.len 132.04, median 110.0, min 76, max 512\n"
     ]
    }
   ],
   "source": [
    "sorted_users = np.argsort(profile_length)\n",
    "for group_id in range(0, 10):\n",
    "    start_pos = group_id * block_size\n",
    "    end_pos = min((group_id+1) * block_size, len(profile_length))\n",
    "    \n",
    "    users_in_group = sorted_users[start_pos:end_pos]\n",
    "    \n",
    "    users_in_group_p_len = profile_length[users_in_group]\n",
    "    \n",
    "    print(\"Group {}, #users in group {}, average p.len {:.2f}, median {}, min {}, max {}\".format(\n",
    "        group_id, \n",
    "        users_in_group.shape[0],\n",
    "        users_in_group_p_len.mean(),\n",
    "        np.median(users_in_group_p_len),\n",
    "        users_in_group_p_len.min(),\n",
    "        users_in_group_p_len.max()))\n",
    "    "
   ],
   "metadata": {
    "collapsed": false,
    "ExecuteTime": {
     "end_time": "2023-12-24T15:02:54.986802Z",
     "start_time": "2023-12-24T15:02:54.981501Z"
    }
   },
   "id": "2bc4fd6cf29cf877"
  },
  {
   "cell_type": "code",
   "execution_count": 6,
   "outputs": [
    {
     "name": "stderr",
     "output_type": "stream",
     "text": [
      "/Users/alessandro/RecSys-2023-polimi/venv/lib/python3.11/site-packages/lightfm/_lightfm_fast.py:9: UserWarning: LightFM was compiled without OpenMP support. Only a single thread will be used.\n",
      "  warnings.warn(\n"
     ]
    },
    {
     "name": "stdout",
     "output_type": "stream",
     "text": [
      "TopPopRecommender: URM Detected 205 ( 1.6%) users with no interactions.\n",
      "TopPopRecommender: URM Detected 109 ( 0.5%) items with no interactions.\n",
      "UserKNNCFRecommender: URM Detected 205 ( 1.6%) users with no interactions.\n",
      "UserKNNCFRecommender: URM Detected 109 ( 0.5%) items with no interactions.\n",
      "ItemKNNCFRecommender: URM Detected 205 ( 1.6%) users with no interactions.\n",
      "ItemKNNCFRecommender: URM Detected 109 ( 0.5%) items with no interactions.\n",
      "P3alphaRecommender: URM Detected 205 ( 1.6%) users with no interactions.\n",
      "P3alphaRecommender: URM Detected 109 ( 0.5%) items with no interactions.\n",
      "RP3betaRecommender: URM Detected 205 ( 1.6%) users with no interactions.\n",
      "RP3betaRecommender: URM Detected 109 ( 0.5%) items with no interactions.\n",
      "SLIMElasticNetRecommender: URM Detected 205 ( 1.6%) users with no interactions.\n",
      "SLIMElasticNetRecommender: URM Detected 109 ( 0.5%) items with no interactions.\n",
      "EASE_R_Recommender: URM Detected 205 ( 1.6%) users with no interactions.\n",
      "EASE_R_Recommender: URM Detected 109 ( 0.5%) items with no interactions.\n",
      "SLIMElasticNetRecommender: Loading model from file 'slim_models/slim_t_val'\n",
      "SLIMElasticNetRecommender: Loading complete\n",
      "P3alphaRecommender: Similarity column 22222 (100.0%), 6813.30 column/sec. Elapsed time 3.26 sec\n",
      "RP3betaRecommender: Similarity column 22222 (100.0%), 6908.23 column/sec. Elapsed time 3.22 sec\n",
      "Similarity column 12638 (100.0%), 10121.75 column/sec. Elapsed time 1.25 sec\n",
      "Similarity column 22222 (100.0%), 10111.63 column/sec. Elapsed time 2.20 sec\n",
      "EASE_R_Recommender: Loading model from file 'slim_models/ease_t_val'\n",
      "EASE_R_Recommender: Loading complete\n"
     ]
    }
   ],
   "source": [
    "from Recommenders.Neural.MultVAERecommender import MultVAERecommender\n",
    "from Hybrid import *\n",
    "from Recommenders.EASE_R.EASE_R_Recommender import EASE_R_Recommender\n",
    "from Recommenders.FactorizationMachines.LightFMRecommender import LightFMCFRecommender\n",
    "from Recommenders.NonPersonalizedRecommender import TopPop\n",
    "from Recommenders.KNN.UserKNNCFRecommender import UserKNNCFRecommender\n",
    "from Recommenders.KNN.ItemKNNCFRecommender import ItemKNNCFRecommender\n",
    "from Recommenders.SLIM.Cython.SLIM_BPR_Cython import SLIM_BPR_Cython\n",
    "from Recommenders.SLIM.SLIMElasticNetRecommender import *\n",
    "from Recommenders.GraphBased.P3alphaRecommender import P3alphaRecommender\n",
    "from Recommenders.GraphBased.RP3betaRecommender import RP3betaRecommender\n",
    "from Recommenders.MatrixFactorization.Cython.MatrixFactorization_Cython import MatrixFactorization_BPR_Cython, MatrixFactorization_AsySVD_Cython\n",
    "from Recommenders.MatrixFactorization.PureSVDRecommender import PureSVDRecommender\n",
    "from Recommenders.MatrixFactorization.IALSRecommender import IALSRecommender\n",
    "from Recommenders.MatrixFactorization.NMFRecommender import NMFRecommender\n",
    "\n",
    "MAP_recommender_per_group = {}\n",
    "\n",
    "collaborative_recommender_class = {\"TopPop\": TopPop,\n",
    "                                   \"UserKNNCF\": UserKNNCFRecommender,\n",
    "                                   \"ItemKNNCF\": ItemKNNCFRecommender,\n",
    "                                   \"P3alpha\": P3alphaRecommender,\n",
    "                                   #\"RP3_old\": RP3betaRecommender,\n",
    "                                   \"RP3\": RP3betaRecommender,\n",
    "                                   \"SLIM_ELASTIC\": SLIMElasticNetRecommender,\n",
    "                                   #\"MULTVAE\": MultVAERecommender,\n",
    "                                   \"EASE_R\": EASE_R_Recommender,\n",
    "                                   }\n",
    "collaborative_recommender_class.items()\n",
    "\n",
    "recommender_object_dict = {}\n",
    "\n",
    "for label, recommender_class in collaborative_recommender_class.items():\n",
    "    recommender_object = recommender_class(URM_train_validation)\n",
    "    recommender_object_dict[label] = recommender_object\n",
    "    \n",
    "    \n",
    "recommender_object_dict[\"TopPop\"].fit()\n",
    "#recommender_object_dict[\"SLIM_ELASTIC\"].fit(topK=8894, l1_ratio=0.05565733019999427, alpha=0.0012979360257937668)\n",
    "recommender_object_dict[\"SLIM_ELASTIC\"].load_model(\"slim_models/\", \"slim_t_val\")\n",
    "#recommender_object_dict[\"PureSVD\"].fit(num_factors=70, random_seed=42)\n",
    "recommender_object_dict[\"P3alpha\"].fit(topK=76, alpha=0.377201600381895, normalize_similarity=True)\n",
    "#recommender_object_dict[\"RP3_old\"].fit(topK=101, alpha=0.3026342852596128, beta=0.058468783118329024)\n",
    "recommender_object_dict[\"RP3\"].fit(alpha=0.20026352123406477, beta=0.15999879728761354, topK=32)\n",
    "recommender_object_dict[\"UserKNNCF\"].fit(topK=469, shrink=38, similarity='asymmetric', normalize=True,\n",
    "                                       feature_weighting='TF-IDF', asymmetric_alpha=0.40077406933762383)\n",
    "recommender_object_dict[\"ItemKNNCF\"].fit(topK=31, shrink=435, similarity='tversky', normalize=True,\n",
    "                                       feature_weighting='BM25', tversky_alpha=0.17113169506422393, tversky_beta=0.5684024974085575)\n",
    "recommender_object_dict[\"EASE_R\"].load_model(\"slim_models/\", \"ease_t_val\")\n",
    "#recommender_object_dict[\"EASE_R\"].fit(topK=24, l2_norm=37.54323189430143)\n",
    "\n",
    "#recommender_object_dict[\"MULTVAE\"].fit(epochs=120, learning_rate=0.0003386225308766206, l2_reg=2.129359930047709e-06, dropout=0.09838599885053126, total_anneal_steps=525579, anneal_cap=0.4033304347929101,batch_size=256)\n",
    "#recommender_object_dict[\"MF_BPR\"].fit(sgd_mode=\"adagrad\", num_factors=219, batch_size=32, learning_rate=0.08036400470449359,positive_reg=0.016211221706684466,negative_reg=0.00012672106970228173, epochs=260, random_seed=1234)\n",
    "#recommender_object_dict[\"SLIM_BPR\"].fit(topK=46, symmetric=True, sgd_mode=\"adagrad\", epochs=195, lambda_i=0.00035732097169170193, lambda_j=0.004542391418975173, learning_rate=0.0002291767622519941)\n",
    "#recommender_object_dict[\"LightFM\"].load_model(\"result_experiments/\", \"LightFMCFRecommender_best_model.zip\")\n",
    "#recommender_object_dict[\"IALS\"].fit()"
   ],
   "metadata": {
    "collapsed": false,
    "ExecuteTime": {
     "end_time": "2024-01-09T16:21:33.778899Z",
     "start_time": "2024-01-09T16:21:17.031293Z"
    }
   },
   "id": "fc4837a46c27e143"
  },
  {
   "cell_type": "code",
   "execution_count": 7,
   "outputs": [
    {
     "name": "stdout",
     "output_type": "stream",
     "text": [
      "IALSRecommender: URM Detected 205 ( 1.6%) users with no interactions.\n",
      "IALSRecommender: URM Detected 109 ( 0.5%) items with no interactions.\n",
      "IALSRecommender: Loading model from file 'slim_models/IALS_train_validation.zip'\n",
      "IALSRecommender: Loading complete\n"
     ]
    }
   ],
   "source": [
    "recommender_object_dict[\"IALS\"] = IALSRecommender(URM_train_validation)\n",
    "recommender_object_dict[\"IALS\"].load_model(\"slim_models/\", \"IALS_train_validation.zip\")"
   ],
   "metadata": {
    "collapsed": false,
    "ExecuteTime": {
     "end_time": "2024-01-09T16:22:48.297585Z",
     "start_time": "2024-01-09T16:22:47.975910Z"
    }
   },
   "id": "9c08f81020ec66af"
  },
  {
   "cell_type": "code",
   "execution_count": 8,
   "outputs": [
    {
     "name": "stdout",
     "output_type": "stream",
     "text": [
      "MultVAERecommender: URM Detected 205 ( 1.6%) users with no interactions.\n",
      "MultVAERecommender: URM Detected 109 ( 0.5%) items with no interactions.\n",
      "MultVAERecommender: Loading model from file 'slim_models/MultVAE_train_validation_300'\n"
     ]
    },
    {
     "name": "stderr",
     "output_type": "stream",
     "text": [
      "2024-01-09 17:22:50.140796: I metal_plugin/src/device/metal_device.cc:1154] Metal device set to: Apple M1 Pro\n",
      "2024-01-09 17:22:50.140849: I metal_plugin/src/device/metal_device.cc:296] systemMemory: 16.00 GB\n",
      "2024-01-09 17:22:50.140864: I metal_plugin/src/device/metal_device.cc:313] maxCacheSize: 5.33 GB\n",
      "2024-01-09 17:22:50.140918: I tensorflow/core/common_runtime/pluggable_device/pluggable_device_factory.cc:306] Could not identify NUMA node of platform GPU ID 0, defaulting to 0. Your kernel may not have been built with NUMA support.\n",
      "2024-01-09 17:22:50.141064: I tensorflow/core/common_runtime/pluggable_device/pluggable_device_factory.cc:272] Created TensorFlow device (/job:localhost/replica:0/task:0/device:GPU:0 with 0 MB memory) -> physical PluggableDevice (device: 0, name: METAL, pci bus id: <undefined>)\n",
      "2024-01-09 17:22:50.259452: I tensorflow/compiler/mlir/mlir_graph_optimization_pass.cc:388] MLIR V1 optimization pass is not enabled\n",
      "2024-01-09 17:22:50.275014: I tensorflow/core/grappler/optimizers/custom_graph_optimizer_registry.cc:117] Plugin optimizer for device_type GPU is enabled.\n"
     ]
    },
    {
     "name": "stdout",
     "output_type": "stream",
     "text": [
      "INFO:tensorflow:Restoring parameters from slim_models/MultVAE_train_validation_300/.session/session\n",
      "MultVAERecommender: Loading complete\n"
     ]
    }
   ],
   "source": [
    "from Recommenders.Neural.MultVAERecommender import MultVAERecommender_OptimizerMask\n",
    "final = MultVAERecommender_OptimizerMask(URM_train_validation)\n",
    "final.load_model(\"slim_models/\", \"MultVAE_train_validation_300\")\n",
    "recommender_object_dict[\"MULTVAE\"] = final"
   ],
   "metadata": {
    "collapsed": false,
    "ExecuteTime": {
     "end_time": "2024-01-09T16:22:50.972267Z",
     "start_time": "2024-01-09T16:22:49.616876Z"
    }
   },
   "id": "f910b5d97b6ff317"
  },
  {
   "cell_type": "code",
   "execution_count": 9,
   "outputs": [
    {
     "name": "stdout",
     "output_type": "stream",
     "text": [
      "SLIMElasticNetRP3betaItemKNNCFScoresHybridRecommender: URM Detected 205 ( 1.6%) users with no interactions.\n",
      "SLIMElasticNetRP3betaItemKNNCFScoresHybridRecommender: URM Detected 109 ( 0.5%) items with no interactions.\n"
     ]
    }
   ],
   "source": [
    "from Hybrid import *\n",
    "\n",
    "\n",
    "recommender_object_dict[\"hybrid\"] = ScoresHybridRecommender(URM_train_validation, recommender_object_dict[\"SLIM_ELASTIC\"], recommender_object_dict[\"RP3\"], recommender_object_dict[\"ItemKNNCF\"])\n",
    "recommender_object_dict[\"hybrid\"].fit(alpha=0.5072513954300486, beta=0.30902582824263064)"
   ],
   "metadata": {
    "collapsed": false,
    "ExecuteTime": {
     "end_time": "2024-01-09T16:23:01.865020Z",
     "start_time": "2024-01-09T16:23:01.855497Z"
    }
   },
   "id": "bdfad0e4d7a7b379"
  },
  {
   "cell_type": "code",
   "execution_count": 10,
   "outputs": [
    {
     "name": "stdout",
     "output_type": "stream",
     "text": [
      "SLIMElasticNetRP3betaItemKNNCFEASE_R_LinearHybridRecommender: URM Detected 205 ( 1.6%) users with no interactions.\n",
      "SLIMElasticNetRP3betaItemKNNCFEASE_R_LinearHybridRecommender: URM Detected 109 ( 0.5%) items with no interactions.\n"
     ]
    }
   ],
   "source": [
    "recommender_object_dict[\"hybrid_new\"] = LinearHybridRecommender(URM_train_validation, [recommender_object_dict[\"SLIM_ELASTIC\"], recommender_object_dict[\"RP3\"], recommender_object_dict[\"ItemKNNCF\"], recommender_object_dict[\"EASE_R\"]])\n",
    "recommender_object_dict[\"hybrid_new\"].fit(alphas=[0.8857667100747117, 0.6379807942443021, 0.0690929184825888, 0.11953478623354052])"
   ],
   "metadata": {
    "collapsed": false,
    "ExecuteTime": {
     "end_time": "2024-01-09T16:23:03.682862Z",
     "start_time": "2024-01-09T16:23:03.666166Z"
    }
   },
   "id": "5771b3968ff4c1b9"
  },
  {
   "cell_type": "code",
   "execution_count": 13,
   "outputs": [
    {
     "name": "stdout",
     "output_type": "stream",
     "text": [
      "SLIMElasticNetRP3betaUserKNNCFItemKNNCFTwoScoresHybridEASE_R_LinearHybridRecommender: URM Detected 205 ( 1.6%) users with no interactions.\n",
      "SLIMElasticNetRP3betaUserKNNCFItemKNNCFTwoScoresHybridEASE_R_LinearHybridRecommender: URM Detected 109 ( 0.5%) items with no interactions.\n"
     ]
    }
   ],
   "source": [
    "recommender_object_dict[\"superH\"] = LinearHybridRecommender(URM_train_validation, [recommender_object_dict[\"SLIM_ELASTIC\"], recommender_object_dict[\"RP3\"], recommender_object_dict[\"KNN_H\"], recommender_object_dict[\"EASE_R\"]])\n",
    "recommender_object_dict[\"superH\"].fit(alphas=[0.8857667100747117, 0.6379807942443021, 0.0690929184825888, 0.11953478623354052])"
   ],
   "metadata": {
    "collapsed": false,
    "ExecuteTime": {
     "end_time": "2024-01-09T16:23:07.839787Z",
     "start_time": "2024-01-09T16:23:07.824372Z"
    }
   },
   "id": "65bff9b7a1711a4e"
  },
  {
   "cell_type": "code",
   "execution_count": 12,
   "outputs": [
    {
     "name": "stdout",
     "output_type": "stream",
     "text": [
      "UserKNNCFItemKNNCFTwoScoresHybridRecommender: URM Detected 205 ( 1.6%) users with no interactions.\n",
      "UserKNNCFItemKNNCFTwoScoresHybridRecommender: URM Detected 109 ( 0.5%) items with no interactions.\n"
     ]
    }
   ],
   "source": [
    "recommender_object_dict[\"KNN_H\"] = TwoScoresHybridRecommender(URM_train_validation, recommender_object_dict[\"UserKNNCF\"], recommender_object_dict[\"ItemKNNCF\"])\n",
    "recommender_object_dict[\"KNN_H\"].fit(alpha=0.022195783788315104)"
   ],
   "metadata": {
    "collapsed": false,
    "ExecuteTime": {
     "end_time": "2024-01-09T16:23:06.778890Z",
     "start_time": "2024-01-09T16:23:06.763544Z"
    }
   },
   "id": "536ff824eeae189d"
  },
  {
   "cell_type": "code",
   "execution_count": 14,
   "outputs": [
    {
     "name": "stdout",
     "output_type": "stream",
     "text": [
      "UserKNNCFItemKNNCFTwoScoresHybridMultVAEIALSScoresHybridRecommender: URM Detected 205 ( 1.6%) users with no interactions.\n",
      "UserKNNCFItemKNNCFTwoScoresHybridMultVAEIALSScoresHybridRecommender: URM Detected 109 ( 0.5%) items with no interactions.\n"
     ]
    }
   ],
   "source": [
    "recommender_object_dict[\"lowInt\"] = ScoresHybridRecommender(URM_train_validation, recommender_object_dict[\"KNN_H\"], recommender_object_dict[\"MULTVAE\"], recommender_object_dict[\"IALS\"])\n",
    "recommender_object_dict[\"lowInt\"].fit(alpha=0.7509279131476281,beta=0.028318614437090585)"
   ],
   "metadata": {
    "collapsed": false,
    "ExecuteTime": {
     "end_time": "2024-01-09T16:23:09.766995Z",
     "start_time": "2024-01-09T16:23:09.750773Z"
    }
   },
   "id": "a8a515249fd7e61d"
  },
  {
   "cell_type": "code",
   "execution_count": 15,
   "outputs": [
    {
     "name": "stdout",
     "output_type": "stream",
     "text": [
      "SLIMElasticNetRP3betaTwoScoresHybridRecommender: URM Detected 205 ( 1.6%) users with no interactions.\n",
      "SLIMElasticNetRP3betaTwoScoresHybridRecommender: URM Detected 109 ( 0.5%) items with no interactions.\n"
     ]
    }
   ],
   "source": [
    "recommender_object_dict[\"hybrid_hi\"] = TwoScoresHybridRecommender(URM_train_validation, recommender_object_dict[\"SLIM_ELASTIC\"], recommender_object_dict[\"RP3\"])\n",
    "recommender_object_dict[\"hybrid_hi\"].fit(alpha=0.6201320790279279)"
   ],
   "metadata": {
    "collapsed": false,
    "ExecuteTime": {
     "end_time": "2024-01-09T16:23:11.550473Z",
     "start_time": "2024-01-09T16:23:11.534865Z"
    }
   },
   "id": "f16166f2460d1615"
  },
  {
   "cell_type": "code",
   "execution_count": 16,
   "outputs": [
    {
     "name": "stdout",
     "output_type": "stream",
     "text": [
      "SLIMElasticNetRP3betaUserKNNCFItemKNNCFTwoScoresHybridEASE_R_LinearHybridMultVAEIALSLinearHybridRecommender: URM Detected 205 ( 1.6%) users with no interactions.\n",
      "SLIMElasticNetRP3betaUserKNNCFItemKNNCFTwoScoresHybridEASE_R_LinearHybridMultVAEIALSLinearHybridRecommender: URM Detected 109 ( 0.5%) items with no interactions.\n"
     ]
    }
   ],
   "source": [
    "recommender_object_dict[\"hyb_li\"] = LinearHybridRecommender(URM_train_validation, [recommender_object_dict[\"superH\"], recommender_object_dict[\"MULTVAE\"], recommender_object_dict[\"IALS\"]])\n",
    "recommender_object_dict[\"hyb_li\"].fit(alphas=[0.9167461740462644, 0.0389215437427841, 0.038272767002858046])"
   ],
   "metadata": {
    "collapsed": false,
    "ExecuteTime": {
     "end_time": "2024-01-09T16:23:13.778869Z",
     "start_time": "2024-01-09T16:23:13.769844Z"
    }
   },
   "id": "6083099502f3042"
  },
  {
   "cell_type": "code",
   "outputs": [
    {
     "name": "stdout",
     "output_type": "stream",
     "text": [
      "SLIMElasticNetRP3betaEASE_R_ScoresHybridRecommender: URM Detected 205 ( 1.6%) users with no interactions.\n",
      "SLIMElasticNetRP3betaEASE_R_ScoresHybridRecommender: URM Detected 109 ( 0.5%) items with no interactions.\n"
     ]
    }
   ],
   "source": [
    "recommender_object_dict[\"h_hi_var\"] = ScoresHybridRecommender(URM_train_validation, recommender_object_dict[\"SLIM_ELASTIC\"], recommender_object_dict[\"RP3\"], recommender_object_dict[\"EASE_R\"])\n",
    "recommender_object_dict[\"h_hi_var\"].fit(alpha=0.577913223086042, beta=0.31411320194876674)"
   ],
   "metadata": {
    "collapsed": false,
    "ExecuteTime": {
     "end_time": "2024-01-09T16:23:16.055898Z",
     "start_time": "2024-01-09T16:23:16.034001Z"
    }
   },
   "id": "47561e0a298d3269",
   "execution_count": 17
  },
  {
   "cell_type": "code",
   "outputs": [
    {
     "name": "stdout",
     "output_type": "stream",
     "text": [
      "SLIMElasticNetRP3betaP3alphaEASE_R_LinearHybridRecommender: URM Detected 205 ( 1.6%) users with no interactions.\n",
      "SLIMElasticNetRP3betaP3alphaEASE_R_LinearHybridRecommender: URM Detected 109 ( 0.5%) items with no interactions.\n"
     ]
    }
   ],
   "source": [
    "recommender_object_dict[\"h_veryhi\"] = LinearHybridRecommender(URM_train_validation, [recommender_object_dict[\"SLIM_ELASTIC\"], recommender_object_dict[\"RP3\"], recommender_object_dict[\"P3alpha\"], recommender_object_dict[\"EASE_R\"]])\n",
    "recommender_object_dict[\"h_veryhi\"].fit(alphas=[0.6258551295673683, 0.2599284641742562, 0.16636767655647627, 0.1309311249988266])"
   ],
   "metadata": {
    "collapsed": false,
    "ExecuteTime": {
     "end_time": "2024-01-09T16:23:18.015827Z",
     "start_time": "2024-01-09T16:23:17.997052Z"
    }
   },
   "id": "6c5fd34e022495f6",
   "execution_count": 18
  },
  {
   "cell_type": "code",
   "outputs": [
    {
     "name": "stdout",
     "output_type": "stream",
     "text": [
      "SLIMElasticNetRP3betaP3alphaEASE_R_LinearHybridRecommender: URM Detected 205 ( 1.6%) users with no interactions.\n",
      "SLIMElasticNetRP3betaP3alphaEASE_R_LinearHybridRecommender: URM Detected 109 ( 0.5%) items with no interactions.\n"
     ]
    }
   ],
   "source": [
    "recommender_object_dict[\"h_veryhi\"] = LinearHybridRecommender(URM_train_validation, [recommender_object_dict[\"SLIM_ELASTIC\"], recommender_object_dict[\"RP3\"], recommender_object_dict[\"P3alpha\"], recommender_object_dict[\"EASE_R\"]])\n",
    "recommender_object_dict[\"h_veryhi\"].fit(alphas=[0.6945135990698177, 0.2785785166427843, 0.19500750430888225, 0.14106908598709533])"
   ],
   "metadata": {
    "collapsed": false,
    "ExecuteTime": {
     "end_time": "2024-01-09T16:23:24.264608Z",
     "start_time": "2024-01-09T16:23:24.256201Z"
    }
   },
   "id": "83d90c890a50553a",
   "execution_count": 19
  },
  {
   "cell_type": "code",
   "execution_count": 37,
   "outputs": [
    {
     "name": "stdout",
     "output_type": "stream",
     "text": [
      "Group 0, #users in group 1227, average p.len 0.83, median 1.0, min 0, max 1\n",
      "EvaluatorHoldout: Ignoring 2203 (17.4%) Users that have less than 1 test interactions\n",
      "EvaluatorHoldout: Ignoring 11411 Users\n",
      "EvaluatorHoldout: Processed 452 (100.0%) in 0.24 sec. Users per second: 1887\n",
      "EvaluatorHoldout: Processed 452 (100.0%) in 0.25 sec. Users per second: 1839\n",
      "EvaluatorHoldout: Processed 452 (100.0%) in 0.22 sec. Users per second: 2014\n",
      "EvaluatorHoldout: Processed 452 (100.0%) in 0.19 sec. Users per second: 2337\n",
      "EvaluatorHoldout: Processed 452 (100.0%) in 0.19 sec. Users per second: 2376\n",
      "EvaluatorHoldout: Processed 452 (100.0%) in 0.20 sec. Users per second: 2278\n",
      "EvaluatorHoldout: Processed 452 (100.0%) in 0.19 sec. Users per second: 2344\n",
      "EvaluatorHoldout: Processed 452 (100.0%) in 0.27 sec. Users per second: 1689\n",
      "EvaluatorHoldout: Processed 452 (100.0%) in 0.55 sec. Users per second: 823\n",
      "EvaluatorHoldout: Processed 452 (100.0%) in 0.24 sec. Users per second: 1863\n",
      "EvaluatorHoldout: Processed 452 (100.0%) in 0.22 sec. Users per second: 2031\n",
      "EvaluatorHoldout: Processed 452 (100.0%) in 0.26 sec. Users per second: 1753\n",
      "EvaluatorHoldout: Processed 452 (100.0%) in 0.28 sec. Users per second: 1621\n",
      "EvaluatorHoldout: Processed 452 (100.0%) in 0.36 sec. Users per second: 1253\n",
      "EvaluatorHoldout: Processed 452 (100.0%) in 0.21 sec. Users per second: 2126\n",
      "EvaluatorHoldout: Processed 452 (100.0%) in 0.21 sec. Users per second: 2115\n",
      "EvaluatorHoldout: Processed 452 (100.0%) in 0.22 sec. Users per second: 2090\n",
      "Group 1, #users in group 748, average p.len 2.00, median 2.0, min 2, max 2\n",
      "EvaluatorHoldout: Ignoring 2203 (17.4%) Users that have less than 1 test interactions\n",
      "EvaluatorHoldout: Ignoring 11890 Users\n",
      "EvaluatorHoldout: Processed 311 (100.0%) in 0.20 sec. Users per second: 1528\n",
      "EvaluatorHoldout: Processed 311 (100.0%) in 0.23 sec. Users per second: 1337\n",
      "EvaluatorHoldout: Processed 311 (100.0%) in 0.18 sec. Users per second: 1715\n",
      "EvaluatorHoldout: Processed 311 (100.0%) in 0.16 sec. Users per second: 1903\n",
      "EvaluatorHoldout: Processed 311 (100.0%) in 0.16 sec. Users per second: 1911\n",
      "EvaluatorHoldout: Processed 311 (100.0%) in 0.18 sec. Users per second: 1728\n",
      "EvaluatorHoldout: Processed 311 (100.0%) in 0.19 sec. Users per second: 1624\n",
      "EvaluatorHoldout: Processed 311 (100.0%) in 0.21 sec. Users per second: 1468\n",
      "EvaluatorHoldout: Processed 311 (100.0%) in 0.42 sec. Users per second: 734\n",
      "EvaluatorHoldout: Processed 311 (100.0%) in 0.21 sec. Users per second: 1476\n",
      "EvaluatorHoldout: Processed 311 (100.0%) in 0.19 sec. Users per second: 1598\n",
      "EvaluatorHoldout: Processed 311 (100.0%) in 0.25 sec. Users per second: 1234\n",
      "EvaluatorHoldout: Processed 311 (100.0%) in 0.26 sec. Users per second: 1209\n",
      "EvaluatorHoldout: Processed 311 (100.0%) in 0.33 sec. Users per second: 950\n",
      "EvaluatorHoldout: Processed 311 (100.0%) in 0.19 sec. Users per second: 1659\n",
      "EvaluatorHoldout: Processed 311 (100.0%) in 0.19 sec. Users per second: 1641\n",
      "EvaluatorHoldout: Processed 311 (100.0%) in 0.19 sec. Users per second: 1659\n",
      "Group 2, #users in group 608, average p.len 3.00, median 3.0, min 3, max 3\n",
      "EvaluatorHoldout: Ignoring 2203 (17.4%) Users that have less than 1 test interactions\n",
      "EvaluatorHoldout: Ignoring 12030 Users\n",
      "EvaluatorHoldout: Processed 318 (100.0%) in 0.20 sec. Users per second: 1629\n",
      "EvaluatorHoldout: Processed 318 (100.0%) in 0.23 sec. Users per second: 1359\n",
      "EvaluatorHoldout: Processed 318 (100.0%) in 0.18 sec. Users per second: 1781\n",
      "EvaluatorHoldout: Processed 318 (100.0%) in 0.16 sec. Users per second: 1932\n",
      "EvaluatorHoldout: Processed 318 (100.0%) in 0.17 sec. Users per second: 1842\n",
      "EvaluatorHoldout: Processed 318 (100.0%) in 0.18 sec. Users per second: 1760\n",
      "EvaluatorHoldout: Processed 318 (100.0%) in 0.18 sec. Users per second: 1727\n",
      "EvaluatorHoldout: Processed 318 (100.0%) in 0.21 sec. Users per second: 1498\n",
      "EvaluatorHoldout: Processed 318 (100.0%) in 0.43 sec. Users per second: 745\n",
      "EvaluatorHoldout: Processed 318 (100.0%) in 0.20 sec. Users per second: 1572\n",
      "EvaluatorHoldout: Processed 318 (100.0%) in 0.20 sec. Users per second: 1599\n",
      "EvaluatorHoldout: Processed 318 (100.0%) in 0.24 sec. Users per second: 1310\n",
      "EvaluatorHoldout: Processed 318 (100.0%) in 0.27 sec. Users per second: 1200\n",
      "EvaluatorHoldout: Processed 318 (100.0%) in 0.32 sec. Users per second: 986\n",
      "EvaluatorHoldout: Processed 318 (100.0%) in 0.19 sec. Users per second: 1699\n",
      "EvaluatorHoldout: Processed 318 (100.0%) in 0.20 sec. Users per second: 1590\n",
      "EvaluatorHoldout: Processed 318 (100.0%) in 0.19 sec. Users per second: 1640\n",
      "Group 3, #users in group 490, average p.len 4.00, median 4.0, min 4, max 4\n",
      "EvaluatorHoldout: Ignoring 2203 (17.4%) Users that have less than 1 test interactions\n",
      "EvaluatorHoldout: Ignoring 12148 Users\n",
      "EvaluatorHoldout: Processed 318 (100.0%) in 0.19 sec. Users per second: 1633\n",
      "EvaluatorHoldout: Processed 318 (100.0%) in 0.23 sec. Users per second: 1406\n",
      "EvaluatorHoldout: Processed 318 (100.0%) in 0.17 sec. Users per second: 1844\n",
      "EvaluatorHoldout: Processed 318 (100.0%) in 0.17 sec. Users per second: 1917\n",
      "EvaluatorHoldout: Processed 318 (100.0%) in 0.16 sec. Users per second: 1934\n",
      "EvaluatorHoldout: Processed 318 (100.0%) in 0.18 sec. Users per second: 1761\n",
      "EvaluatorHoldout: Processed 318 (100.0%) in 0.18 sec. Users per second: 1743\n",
      "EvaluatorHoldout: Processed 318 (100.0%) in 0.21 sec. Users per second: 1496\n",
      "EvaluatorHoldout: Processed 318 (100.0%) in 0.23 sec. Users per second: 1362\n",
      "EvaluatorHoldout: Processed 318 (100.0%) in 0.20 sec. Users per second: 1584\n",
      "EvaluatorHoldout: Processed 318 (100.0%) in 0.23 sec. Users per second: 1406\n",
      "EvaluatorHoldout: Processed 318 (100.0%) in 0.25 sec. Users per second: 1295\n",
      "EvaluatorHoldout: Processed 318 (100.0%) in 0.27 sec. Users per second: 1177\n",
      "EvaluatorHoldout: Processed 318 (100.0%) in 0.33 sec. Users per second: 978\n",
      "EvaluatorHoldout: Processed 318 (100.0%) in 0.19 sec. Users per second: 1659\n",
      "EvaluatorHoldout: Processed 318 (100.0%) in 0.21 sec. Users per second: 1532\n",
      "EvaluatorHoldout: Processed 318 (100.0%) in 0.20 sec. Users per second: 1611\n",
      "Group 4, #users in group 1628, average p.len 6.37, median 6.0, min 5, max 8\n",
      "EvaluatorHoldout: Ignoring 2203 (17.4%) Users that have less than 1 test interactions\n",
      "EvaluatorHoldout: Ignoring 11010 Users\n",
      "EvaluatorHoldout: Processed 1264 (100.0%) in 0.48 sec. Users per second: 2626\n",
      "EvaluatorHoldout: Processed 1264 (100.0%) in 0.63 sec. Users per second: 2010\n",
      "EvaluatorHoldout: Processed 1264 (100.0%) in 0.41 sec. Users per second: 3107\n",
      "EvaluatorHoldout: Processed 1264 (100.0%) in 0.33 sec. Users per second: 3826\n",
      "EvaluatorHoldout: Processed 1264 (100.0%) in 0.33 sec. Users per second: 3839\n",
      "EvaluatorHoldout: Processed 1264 (100.0%) in 0.41 sec. Users per second: 3071\n",
      "EvaluatorHoldout: Processed 1264 (100.0%) in 0.42 sec. Users per second: 2994\n",
      "EvaluatorHoldout: Processed 1264 (100.0%) in 0.57 sec. Users per second: 2202\n",
      "EvaluatorHoldout: Processed 1264 (100.0%) in 0.99 sec. Users per second: 1274\n",
      "EvaluatorHoldout: Processed 1264 (100.0%) in 0.57 sec. Users per second: 2223\n",
      "EvaluatorHoldout: Processed 1264 (100.0%) in 0.54 sec. Users per second: 2343\n",
      "EvaluatorHoldout: Processed 1264 (100.0%) in 0.74 sec. Users per second: 1716\n",
      "EvaluatorHoldout: Processed 1264 (100.0%) in 0.80 sec. Users per second: 1575\n",
      "EvaluatorHoldout: Processed 1264 (100.0%) in 1.02 sec. Users per second: 1243\n",
      "EvaluatorHoldout: Processed 1264 (100.0%) in 0.45 sec. Users per second: 2829\n",
      "EvaluatorHoldout: Processed 1264 (100.0%) in 0.52 sec. Users per second: 2447\n",
      "EvaluatorHoldout: Processed 1264 (100.0%) in 0.52 sec. Users per second: 2443\n",
      "Group 5, #users in group 1193, average p.len 10.38, median 10.0, min 9, max 12\n",
      "EvaluatorHoldout: Ignoring 2203 (17.4%) Users that have less than 1 test interactions\n",
      "EvaluatorHoldout: Ignoring 11445 Users\n",
      "EvaluatorHoldout: Processed 1077 (100.0%) in 0.42 sec. Users per second: 2592\n",
      "EvaluatorHoldout: Processed 1077 (100.0%) in 0.52 sec. Users per second: 2070\n",
      "EvaluatorHoldout: Processed 1077 (100.0%) in 0.39 sec. Users per second: 2773\n",
      "EvaluatorHoldout: Processed 1077 (100.0%) in 0.30 sec. Users per second: 3570\n",
      "EvaluatorHoldout: Processed 1077 (100.0%) in 0.31 sec. Users per second: 3493\n",
      "EvaluatorHoldout: Processed 1077 (100.0%) in 0.41 sec. Users per second: 2649\n",
      "EvaluatorHoldout: Processed 1077 (100.0%) in 0.41 sec. Users per second: 2651\n",
      "EvaluatorHoldout: Processed 1077 (100.0%) in 0.51 sec. Users per second: 2120\n",
      "EvaluatorHoldout: Processed 1077 (100.0%) in 0.80 sec. Users per second: 1353\n",
      "EvaluatorHoldout: Processed 1077 (100.0%) in 0.54 sec. Users per second: 1996\n",
      "EvaluatorHoldout: Processed 1077 (100.0%) in 0.55 sec. Users per second: 1963\n",
      "EvaluatorHoldout: Processed 1077 (100.0%) in 0.61 sec. Users per second: 1771\n",
      "EvaluatorHoldout: Processed 1077 (100.0%) in 0.72 sec. Users per second: 1497\n",
      "EvaluatorHoldout: Processed 1077 (100.0%) in 0.97 sec. Users per second: 1107\n",
      "EvaluatorHoldout: Processed 1077 (100.0%) in 0.46 sec. Users per second: 2346\n",
      "EvaluatorHoldout: Processed 1077 (100.0%) in 0.52 sec. Users per second: 2058\n",
      "EvaluatorHoldout: Processed 1077 (100.0%) in 0.49 sec. Users per second: 2182\n",
      "Group 6, #users in group 849, average p.len 14.50, median 14.0, min 13, max 16\n",
      "EvaluatorHoldout: Ignoring 2203 (17.4%) Users that have less than 1 test interactions\n",
      "EvaluatorHoldout: Ignoring 11789 Users\n",
      "EvaluatorHoldout: Processed 815 (100.0%) in 0.30 sec. Users per second: 2692\n",
      "EvaluatorHoldout: Processed 815 (100.0%) in 0.42 sec. Users per second: 1946\n",
      "EvaluatorHoldout: Processed 815 (100.0%) in 0.33 sec. Users per second: 2448\n",
      "EvaluatorHoldout: Processed 815 (100.0%) in 0.26 sec. Users per second: 3189\n",
      "EvaluatorHoldout: Processed 815 (100.0%) in 0.28 sec. Users per second: 2874\n",
      "EvaluatorHoldout: Processed 815 (100.0%) in 0.38 sec. Users per second: 2139\n",
      "EvaluatorHoldout: Processed 815 (100.0%) in 0.37 sec. Users per second: 2186\n",
      "EvaluatorHoldout: Processed 815 (100.0%) in 0.41 sec. Users per second: 2011\n",
      "EvaluatorHoldout: Processed 815 (100.0%) in 0.62 sec. Users per second: 1325\n",
      "EvaluatorHoldout: Processed 815 (100.0%) in 0.46 sec. Users per second: 1786\n",
      "EvaluatorHoldout: Processed 815 (100.0%) in 0.48 sec. Users per second: 1699\n",
      "EvaluatorHoldout: Processed 815 (100.0%) in 0.50 sec. Users per second: 1639\n",
      "EvaluatorHoldout: Processed 815 (100.0%) in 0.60 sec. Users per second: 1361\n",
      "EvaluatorHoldout: Processed 815 (100.0%) in 0.68 sec. Users per second: 1204\n",
      "EvaluatorHoldout: Processed 815 (100.0%) in 0.39 sec. Users per second: 2111\n",
      "EvaluatorHoldout: Processed 815 (100.0%) in 0.44 sec. Users per second: 1872\n",
      "EvaluatorHoldout: Processed 815 (100.0%) in 0.42 sec. Users per second: 1925\n",
      "Group 7, #users in group 535, average p.len 17.94, median 18.0, min 17, max 19\n",
      "EvaluatorHoldout: Ignoring 2203 (17.4%) Users that have less than 1 test interactions\n",
      "EvaluatorHoldout: Ignoring 12103 Users\n",
      "EvaluatorHoldout: Processed 526 (100.0%) in 0.25 sec. Users per second: 2142\n",
      "EvaluatorHoldout: Processed 526 (100.0%) in 0.31 sec. Users per second: 1678\n",
      "EvaluatorHoldout: Processed 526 (100.0%) in 0.27 sec. Users per second: 1967\n",
      "EvaluatorHoldout: Processed 526 (100.0%) in 0.20 sec. Users per second: 2606\n",
      "EvaluatorHoldout: Processed 526 (100.0%) in 0.20 sec. Users per second: 2568\n",
      "EvaluatorHoldout: Processed 526 (100.0%) in 0.28 sec. Users per second: 1899\n",
      "EvaluatorHoldout: Processed 526 (100.0%) in 0.30 sec. Users per second: 1727\n",
      "EvaluatorHoldout: Processed 526 (100.0%) in 0.28 sec. Users per second: 1866\n",
      "EvaluatorHoldout: Processed 526 (100.0%) in 0.51 sec. Users per second: 1036\n",
      "EvaluatorHoldout: Processed 526 (100.0%) in 0.36 sec. Users per second: 1467\n",
      "EvaluatorHoldout: Processed 526 (100.0%) in 0.38 sec. Users per second: 1395\n",
      "EvaluatorHoldout: Processed 526 (100.0%) in 0.37 sec. Users per second: 1414\n",
      "EvaluatorHoldout: Processed 526 (100.0%) in 0.47 sec. Users per second: 1129\n",
      "EvaluatorHoldout: Processed 526 (100.0%) in 0.49 sec. Users per second: 1065\n",
      "EvaluatorHoldout: Processed 526 (100.0%) in 0.30 sec. Users per second: 1769\n",
      "EvaluatorHoldout: Processed 526 (100.0%) in 0.39 sec. Users per second: 1354\n",
      "EvaluatorHoldout: Processed 526 (100.0%) in 0.35 sec. Users per second: 1511\n",
      "Group 8, #users in group 1054, average p.len 22.79, median 23.0, min 20, max 26\n",
      "EvaluatorHoldout: Ignoring 2203 (17.4%) Users that have less than 1 test interactions\n",
      "EvaluatorHoldout: Ignoring 11584 Users\n",
      "EvaluatorHoldout: Processed 1050 (100.0%) in 0.44 sec. Users per second: 2380\n",
      "EvaluatorHoldout: Processed 1050 (100.0%) in 0.64 sec. Users per second: 1636\n",
      "EvaluatorHoldout: Processed 1050 (100.0%) in 0.49 sec. Users per second: 2152\n",
      "EvaluatorHoldout: Processed 1050 (100.0%) in 0.31 sec. Users per second: 3374\n",
      "EvaluatorHoldout: Processed 1050 (100.0%) in 0.30 sec. Users per second: 3458\n",
      "EvaluatorHoldout: Processed 1050 (100.0%) in 0.48 sec. Users per second: 2210\n",
      "EvaluatorHoldout: Processed 1050 (100.0%) in 0.54 sec. Users per second: 1954\n",
      "EvaluatorHoldout: Processed 1050 (100.0%) in 0.52 sec. Users per second: 2032\n",
      "EvaluatorHoldout: Processed 1050 (100.0%) in 0.86 sec. Users per second: 1227\n",
      "EvaluatorHoldout: Processed 1050 (100.0%) in 0.74 sec. Users per second: 1411\n",
      "EvaluatorHoldout: Processed 1050 (100.0%) in 0.69 sec. Users per second: 1528\n",
      "EvaluatorHoldout: Processed 1050 (100.0%) in 0.63 sec. Users per second: 1666\n",
      "EvaluatorHoldout: Processed 1050 (100.0%) in 0.88 sec. Users per second: 1199\n",
      "EvaluatorHoldout: Processed 1050 (100.0%) in 0.92 sec. Users per second: 1144\n",
      "EvaluatorHoldout: Processed 1050 (100.0%) in 0.52 sec. Users per second: 2029\n",
      "EvaluatorHoldout: Processed 1050 (100.0%) in 0.61 sec. Users per second: 1712\n",
      "EvaluatorHoldout: Processed 1050 (100.0%) in 0.60 sec. Users per second: 1747\n",
      "Group 9, #users in group 804, average p.len 29.79, median 30.0, min 27, max 33\n",
      "EvaluatorHoldout: Ignoring 2203 (17.4%) Users that have less than 1 test interactions\n",
      "EvaluatorHoldout: Ignoring 11834 Users\n",
      "EvaluatorHoldout: Processed 802 (100.0%) in 0.34 sec. Users per second: 2392\n",
      "EvaluatorHoldout: Processed 802 (100.0%) in 0.42 sec. Users per second: 1913\n",
      "EvaluatorHoldout: Processed 802 (100.0%) in 0.39 sec. Users per second: 2077\n",
      "EvaluatorHoldout: Processed 802 (100.0%) in 0.26 sec. Users per second: 3085\n",
      "EvaluatorHoldout: Processed 802 (100.0%) in 0.26 sec. Users per second: 3050\n",
      "EvaluatorHoldout: Processed 802 (100.0%) in 0.42 sec. Users per second: 1922\n",
      "EvaluatorHoldout: Processed 802 (100.0%) in 0.42 sec. Users per second: 1914\n",
      "EvaluatorHoldout: Processed 802 (100.0%) in 0.41 sec. Users per second: 1949\n",
      "EvaluatorHoldout: Processed 802 (100.0%) in 0.59 sec. Users per second: 1351\n",
      "EvaluatorHoldout: Processed 802 (100.0%) in 0.54 sec. Users per second: 1481\n",
      "EvaluatorHoldout: Processed 802 (100.0%) in 0.62 sec. Users per second: 1289\n",
      "EvaluatorHoldout: Processed 802 (100.0%) in 0.52 sec. Users per second: 1556\n",
      "EvaluatorHoldout: Processed 802 (100.0%) in 0.73 sec. Users per second: 1103\n",
      "EvaluatorHoldout: Processed 802 (100.0%) in 0.74 sec. Users per second: 1091\n",
      "EvaluatorHoldout: Processed 802 (100.0%) in 0.47 sec. Users per second: 1706\n",
      "EvaluatorHoldout: Processed 802 (100.0%) in 0.57 sec. Users per second: 1418\n",
      "EvaluatorHoldout: Processed 802 (100.0%) in 0.61 sec. Users per second: 1312\n",
      "Group 10, #users in group 595, average p.len 36.93, median 37.0, min 34, max 40\n",
      "EvaluatorHoldout: Ignoring 2203 (17.4%) Users that have less than 1 test interactions\n",
      "EvaluatorHoldout: Ignoring 12043 Users\n",
      "EvaluatorHoldout: Processed 595 (100.0%) in 0.28 sec. Users per second: 2131\n",
      "EvaluatorHoldout: Processed 595 (100.0%) in 0.34 sec. Users per second: 1745\n",
      "EvaluatorHoldout: Processed 595 (100.0%) in 0.32 sec. Users per second: 1834\n",
      "EvaluatorHoldout: Processed 595 (100.0%) in 0.22 sec. Users per second: 2657\n",
      "EvaluatorHoldout: Processed 595 (100.0%) in 0.22 sec. Users per second: 2661\n",
      "EvaluatorHoldout: Processed 595 (100.0%) in 0.35 sec. Users per second: 1678\n",
      "EvaluatorHoldout: Processed 595 (100.0%) in 0.38 sec. Users per second: 1554\n",
      "EvaluatorHoldout: Processed 595 (100.0%) in 0.33 sec. Users per second: 1819\n",
      "EvaluatorHoldout: Processed 595 (100.0%) in 0.59 sec. Users per second: 1010\n",
      "EvaluatorHoldout: Processed 595 (100.0%) in 0.49 sec. Users per second: 1211\n",
      "EvaluatorHoldout: Processed 595 (100.0%) in 0.65 sec. Users per second: 914\n",
      "EvaluatorHoldout: Processed 595 (100.0%) in 0.44 sec. Users per second: 1350\n",
      "EvaluatorHoldout: Processed 595 (100.0%) in 0.63 sec. Users per second: 941\n",
      "EvaluatorHoldout: Processed 595 (100.0%) in 0.73 sec. Users per second: 820\n",
      "EvaluatorHoldout: Processed 595 (100.0%) in 0.43 sec. Users per second: 1395\n",
      "EvaluatorHoldout: Processed 595 (100.0%) in 0.50 sec. Users per second: 1197\n",
      "EvaluatorHoldout: Processed 595 (100.0%) in 0.48 sec. Users per second: 1243\n",
      "Group 11, #users in group 448, average p.len 43.70, median 44.0, min 41, max 47\n",
      "EvaluatorHoldout: Ignoring 2203 (17.4%) Users that have less than 1 test interactions\n",
      "EvaluatorHoldout: Ignoring 12190 Users\n",
      "EvaluatorHoldout: Processed 448 (100.0%) in 0.24 sec. Users per second: 1842\n",
      "EvaluatorHoldout: Processed 448 (100.0%) in 0.29 sec. Users per second: 1532\n",
      "EvaluatorHoldout: Processed 448 (100.0%) in 0.29 sec. Users per second: 1545\n",
      "EvaluatorHoldout: Processed 448 (100.0%) in 0.20 sec. Users per second: 2247\n",
      "EvaluatorHoldout: Processed 448 (100.0%) in 0.20 sec. Users per second: 2289\n",
      "EvaluatorHoldout: Processed 448 (100.0%) in 0.31 sec. Users per second: 1444\n",
      "EvaluatorHoldout: Processed 448 (100.0%) in 0.34 sec. Users per second: 1306\n",
      "EvaluatorHoldout: Processed 448 (100.0%) in 0.27 sec. Users per second: 1671\n",
      "EvaluatorHoldout: Processed 448 (100.0%) in 0.46 sec. Users per second: 968\n",
      "EvaluatorHoldout: Processed 448 (100.0%) in 0.41 sec. Users per second: 1085\n",
      "EvaluatorHoldout: Processed 448 (100.0%) in 0.45 sec. Users per second: 987\n",
      "EvaluatorHoldout: Processed 448 (100.0%) in 0.36 sec. Users per second: 1247\n",
      "EvaluatorHoldout: Processed 448 (100.0%) in 0.52 sec. Users per second: 860\n",
      "EvaluatorHoldout: Processed 448 (100.0%) in 0.46 sec. Users per second: 970\n",
      "EvaluatorHoldout: Processed 448 (100.0%) in 0.33 sec. Users per second: 1340\n",
      "EvaluatorHoldout: Processed 448 (100.0%) in 0.40 sec. Users per second: 1110\n",
      "EvaluatorHoldout: Processed 448 (100.0%) in 0.40 sec. Users per second: 1113\n",
      "Group 12, #users in group 399, average p.len 50.89, median 51.0, min 48, max 54\n",
      "EvaluatorHoldout: Ignoring 2203 (17.4%) Users that have less than 1 test interactions\n",
      "EvaluatorHoldout: Ignoring 12239 Users\n",
      "EvaluatorHoldout: Processed 399 (100.0%) in 0.23 sec. Users per second: 1752\n",
      "EvaluatorHoldout: Processed 399 (100.0%) in 0.27 sec. Users per second: 1498\n",
      "EvaluatorHoldout: Processed 399 (100.0%) in 0.27 sec. Users per second: 1469\n",
      "EvaluatorHoldout: Processed 399 (100.0%) in 0.19 sec. Users per second: 2087\n",
      "EvaluatorHoldout: Processed 399 (100.0%) in 0.19 sec. Users per second: 2106\n",
      "EvaluatorHoldout: Processed 399 (100.0%) in 0.30 sec. Users per second: 1339\n",
      "EvaluatorHoldout: Processed 399 (100.0%) in 0.33 sec. Users per second: 1226\n",
      "EvaluatorHoldout: Processed 399 (100.0%) in 0.25 sec. Users per second: 1625\n",
      "EvaluatorHoldout: Processed 399 (100.0%) in 0.45 sec. Users per second: 884\n",
      "EvaluatorHoldout: Processed 399 (100.0%) in 0.41 sec. Users per second: 980\n",
      "EvaluatorHoldout: Processed 399 (100.0%) in 0.44 sec. Users per second: 899\n",
      "EvaluatorHoldout: Processed 399 (100.0%) in 0.34 sec. Users per second: 1179\n",
      "EvaluatorHoldout: Processed 399 (100.0%) in 0.49 sec. Users per second: 813\n",
      "EvaluatorHoldout: Processed 399 (100.0%) in 0.42 sec. Users per second: 958\n",
      "EvaluatorHoldout: Processed 399 (100.0%) in 0.31 sec. Users per second: 1274\n",
      "EvaluatorHoldout: Processed 399 (100.0%) in 0.39 sec. Users per second: 1017\n",
      "EvaluatorHoldout: Processed 399 (100.0%) in 0.39 sec. Users per second: 1031\n",
      "Group 13, #users in group 330, average p.len 57.75, median 58.0, min 55, max 61\n",
      "EvaluatorHoldout: Ignoring 2203 (17.4%) Users that have less than 1 test interactions\n",
      "EvaluatorHoldout: Ignoring 12308 Users\n",
      "EvaluatorHoldout: Processed 330 (100.0%) in 0.20 sec. Users per second: 1666\n",
      "EvaluatorHoldout: Processed 330 (100.0%) in 0.24 sec. Users per second: 1382\n",
      "EvaluatorHoldout: Processed 330 (100.0%) in 0.25 sec. Users per second: 1300\n",
      "EvaluatorHoldout: Processed 330 (100.0%) in 0.18 sec. Users per second: 1818\n",
      "EvaluatorHoldout: Processed 330 (100.0%) in 0.18 sec. Users per second: 1863\n",
      "EvaluatorHoldout: Processed 330 (100.0%) in 0.29 sec. Users per second: 1149\n",
      "EvaluatorHoldout: Processed 330 (100.0%) in 0.30 sec. Users per second: 1107\n",
      "EvaluatorHoldout: Processed 330 (100.0%) in 0.23 sec. Users per second: 1420\n",
      "EvaluatorHoldout: Processed 330 (100.0%) in 0.44 sec. Users per second: 750\n",
      "EvaluatorHoldout: Processed 330 (100.0%) in 0.36 sec. Users per second: 927\n",
      "EvaluatorHoldout: Processed 330 (100.0%) in 0.41 sec. Users per second: 813\n",
      "EvaluatorHoldout: Processed 330 (100.0%) in 0.31 sec. Users per second: 1067\n",
      "EvaluatorHoldout: Processed 330 (100.0%) in 0.45 sec. Users per second: 726\n",
      "EvaluatorHoldout: Processed 330 (100.0%) in 0.40 sec. Users per second: 820\n",
      "EvaluatorHoldout: Processed 330 (100.0%) in 0.29 sec. Users per second: 1136\n",
      "EvaluatorHoldout: Processed 330 (100.0%) in 0.37 sec. Users per second: 901\n",
      "EvaluatorHoldout: Processed 330 (100.0%) in 0.37 sec. Users per second: 890\n",
      "Group 14, #users in group 239, average p.len 64.77, median 65.0, min 62, max 68\n",
      "EvaluatorHoldout: Ignoring 2203 (17.4%) Users that have less than 1 test interactions\n",
      "EvaluatorHoldout: Ignoring 12399 Users\n",
      "EvaluatorHoldout: Processed 239 (100.0%) in 0.17 sec. Users per second: 1369\n",
      "EvaluatorHoldout: Processed 239 (100.0%) in 0.21 sec. Users per second: 1137\n",
      "EvaluatorHoldout: Processed 239 (100.0%) in 0.22 sec. Users per second: 1103\n",
      "EvaluatorHoldout: Processed 239 (100.0%) in 0.16 sec. Users per second: 1492\n",
      "EvaluatorHoldout: Processed 239 (100.0%) in 0.16 sec. Users per second: 1478\n",
      "EvaluatorHoldout: Processed 239 (100.0%) in 0.24 sec. Users per second: 1017\n",
      "EvaluatorHoldout: Processed 239 (100.0%) in 0.25 sec. Users per second: 963\n",
      "EvaluatorHoldout: Processed 239 (100.0%) in 0.20 sec. Users per second: 1193\n",
      "EvaluatorHoldout: Processed 239 (100.0%) in 0.40 sec. Users per second: 598\n",
      "EvaluatorHoldout: Processed 239 (100.0%) in 0.29 sec. Users per second: 811\n",
      "EvaluatorHoldout: Processed 239 (100.0%) in 0.34 sec. Users per second: 709\n",
      "EvaluatorHoldout: Processed 239 (100.0%) in 0.25 sec. Users per second: 941\n",
      "EvaluatorHoldout: Processed 239 (100.0%) in 0.38 sec. Users per second: 627\n",
      "EvaluatorHoldout: Processed 239 (100.0%) in 0.32 sec. Users per second: 743\n",
      "EvaluatorHoldout: Processed 239 (100.0%) in 0.24 sec. Users per second: 980\n",
      "EvaluatorHoldout: Processed 239 (100.0%) in 0.30 sec. Users per second: 784\n",
      "EvaluatorHoldout: Processed 239 (100.0%) in 0.31 sec. Users per second: 777\n",
      "Group 15, #users in group 218, average p.len 71.87, median 72.0, min 69, max 75\n",
      "EvaluatorHoldout: Ignoring 2203 (17.4%) Users that have less than 1 test interactions\n",
      "EvaluatorHoldout: Ignoring 12420 Users\n",
      "EvaluatorHoldout: Processed 218 (100.0%) in 0.17 sec. Users per second: 1270\n",
      "EvaluatorHoldout: Processed 218 (100.0%) in 0.20 sec. Users per second: 1095\n",
      "EvaluatorHoldout: Processed 218 (100.0%) in 0.21 sec. Users per second: 1032\n",
      "EvaluatorHoldout: Processed 218 (100.0%) in 0.16 sec. Users per second: 1356\n",
      "EvaluatorHoldout: Processed 218 (100.0%) in 0.16 sec. Users per second: 1396\n",
      "EvaluatorHoldout: Processed 218 (100.0%) in 0.23 sec. Users per second: 966\n",
      "EvaluatorHoldout: Processed 218 (100.0%) in 0.24 sec. Users per second: 896\n",
      "EvaluatorHoldout: Processed 218 (100.0%) in 0.19 sec. Users per second: 1170\n",
      "EvaluatorHoldout: Processed 218 (100.0%) in 0.37 sec. Users per second: 581\n",
      "EvaluatorHoldout: Processed 218 (100.0%) in 0.29 sec. Users per second: 749\n",
      "EvaluatorHoldout: Processed 218 (100.0%) in 0.33 sec. Users per second: 668\n",
      "EvaluatorHoldout: Processed 218 (100.0%) in 0.24 sec. Users per second: 892\n",
      "EvaluatorHoldout: Processed 218 (100.0%) in 0.36 sec. Users per second: 602\n",
      "EvaluatorHoldout: Processed 218 (100.0%) in 0.31 sec. Users per second: 696\n",
      "EvaluatorHoldout: Processed 218 (100.0%) in 0.24 sec. Users per second: 920\n",
      "EvaluatorHoldout: Processed 218 (100.0%) in 0.29 sec. Users per second: 751\n",
      "EvaluatorHoldout: Processed 218 (100.0%) in 0.31 sec. Users per second: 713\n",
      "Group 16, #users in group 175, average p.len 78.66, median 78.0, min 76, max 82\n",
      "EvaluatorHoldout: Ignoring 2203 (17.4%) Users that have less than 1 test interactions\n",
      "EvaluatorHoldout: Ignoring 12463 Users\n",
      "EvaluatorHoldout: Processed 175 (100.0%) in 0.16 sec. Users per second: 1061\n",
      "EvaluatorHoldout: Processed 175 (100.0%) in 0.18 sec. Users per second: 983\n",
      "EvaluatorHoldout: Processed 175 (100.0%) in 0.19 sec. Users per second: 904\n",
      "EvaluatorHoldout: Processed 175 (100.0%) in 0.15 sec. Users per second: 1158\n",
      "EvaluatorHoldout: Processed 175 (100.0%) in 0.15 sec. Users per second: 1173\n",
      "EvaluatorHoldout: Processed 175 (100.0%) in 0.20 sec. Users per second: 860\n",
      "EvaluatorHoldout: Processed 175 (100.0%) in 0.23 sec. Users per second: 752\n",
      "EvaluatorHoldout: Processed 175 (100.0%) in 0.17 sec. Users per second: 1002\n",
      "EvaluatorHoldout: Processed 175 (100.0%) in 0.45 sec. Users per second: 393\n",
      "EvaluatorHoldout: Processed 175 (100.0%) in 0.27 sec. Users per second: 658\n",
      "EvaluatorHoldout: Processed 175 (100.0%) in 0.31 sec. Users per second: 567\n",
      "EvaluatorHoldout: Processed 175 (100.0%) in 0.22 sec. Users per second: 779\n",
      "EvaluatorHoldout: Processed 175 (100.0%) in 0.32 sec. Users per second: 555\n",
      "EvaluatorHoldout: Processed 175 (100.0%) in 0.28 sec. Users per second: 622\n",
      "EvaluatorHoldout: Processed 175 (100.0%) in 0.22 sec. Users per second: 800\n",
      "EvaluatorHoldout: Processed 175 (100.0%) in 0.26 sec. Users per second: 663\n",
      "EvaluatorHoldout: Processed 175 (100.0%) in 0.27 sec. Users per second: 648\n",
      "Group 17, #users in group 161, average p.len 85.89, median 86.0, min 83, max 89\n",
      "EvaluatorHoldout: Ignoring 2203 (17.4%) Users that have less than 1 test interactions\n",
      "EvaluatorHoldout: Ignoring 12477 Users\n",
      "EvaluatorHoldout: Processed 161 (100.0%) in 0.16 sec. Users per second: 1034\n",
      "EvaluatorHoldout: Processed 161 (100.0%) in 0.18 sec. Users per second: 876\n",
      "EvaluatorHoldout: Processed 161 (100.0%) in 0.18 sec. Users per second: 879\n",
      "EvaluatorHoldout: Processed 161 (100.0%) in 0.15 sec. Users per second: 1090\n",
      "EvaluatorHoldout: Processed 161 (100.0%) in 0.15 sec. Users per second: 1099\n",
      "EvaluatorHoldout: Processed 161 (100.0%) in 0.20 sec. Users per second: 801\n",
      "EvaluatorHoldout: Processed 161 (100.0%) in 0.25 sec. Users per second: 637\n",
      "EvaluatorHoldout: Processed 161 (100.0%) in 0.17 sec. Users per second: 950\n",
      "EvaluatorHoldout: Processed 161 (100.0%) in 0.42 sec. Users per second: 385\n",
      "EvaluatorHoldout: Processed 161 (100.0%) in 0.28 sec. Users per second: 581\n",
      "EvaluatorHoldout: Processed 161 (100.0%) in 0.34 sec. Users per second: 474\n",
      "EvaluatorHoldout: Processed 161 (100.0%) in 0.22 sec. Users per second: 726\n",
      "EvaluatorHoldout: Processed 161 (100.0%) in 0.32 sec. Users per second: 503\n",
      "EvaluatorHoldout: Processed 161 (100.0%) in 0.27 sec. Users per second: 597\n",
      "EvaluatorHoldout: Processed 161 (100.0%) in 0.21 sec. Users per second: 759\n",
      "EvaluatorHoldout: Processed 161 (100.0%) in 0.27 sec. Users per second: 598\n",
      "EvaluatorHoldout: Processed 161 (100.0%) in 0.27 sec. Users per second: 607\n",
      "Group 18, #users in group 116, average p.len 93.08, median 93.0, min 90, max 96\n",
      "EvaluatorHoldout: Ignoring 2203 (17.4%) Users that have less than 1 test interactions\n",
      "EvaluatorHoldout: Ignoring 12522 Users\n",
      "EvaluatorHoldout: Processed 116 (100.0%) in 0.15 sec. Users per second: 761\n",
      "EvaluatorHoldout: Processed 116 (100.0%) in 0.16 sec. Users per second: 714\n",
      "EvaluatorHoldout: Processed 116 (100.0%) in 0.17 sec. Users per second: 669\n",
      "EvaluatorHoldout: Processed 116 (100.0%) in 0.14 sec. Users per second: 833\n",
      "EvaluatorHoldout: Processed 116 (100.0%) in 0.14 sec. Users per second: 840\n",
      "EvaluatorHoldout: Processed 116 (100.0%) in 0.18 sec. Users per second: 636\n",
      "EvaluatorHoldout: Processed 116 (100.0%) in 0.22 sec. Users per second: 523\n",
      "EvaluatorHoldout: Processed 116 (100.0%) in 0.16 sec. Users per second: 743\n",
      "EvaluatorHoldout: Processed 116 (100.0%) in 0.36 sec. Users per second: 324\n",
      "EvaluatorHoldout: Processed 116 (100.0%) in 0.21 sec. Users per second: 553\n",
      "EvaluatorHoldout: Processed 116 (100.0%) in 0.25 sec. Users per second: 472\n",
      "EvaluatorHoldout: Processed 116 (100.0%) in 0.19 sec. Users per second: 607\n",
      "EvaluatorHoldout: Processed 116 (100.0%) in 0.26 sec. Users per second: 444\n",
      "EvaluatorHoldout: Processed 116 (100.0%) in 0.23 sec. Users per second: 500\n",
      "EvaluatorHoldout: Processed 116 (100.0%) in 0.19 sec. Users per second: 617\n",
      "EvaluatorHoldout: Processed 116 (100.0%) in 0.23 sec. Users per second: 498\n",
      "EvaluatorHoldout: Processed 116 (100.0%) in 0.23 sec. Users per second: 505\n",
      "Group 19, #users in group 107, average p.len 100.13, median 100.0, min 97, max 103\n",
      "EvaluatorHoldout: Ignoring 2203 (17.4%) Users that have less than 1 test interactions\n",
      "EvaluatorHoldout: Ignoring 12531 Users\n",
      "EvaluatorHoldout: Processed 107 (100.0%) in 0.14 sec. Users per second: 764\n",
      "EvaluatorHoldout: Processed 107 (100.0%) in 0.16 sec. Users per second: 658\n",
      "EvaluatorHoldout: Processed 107 (100.0%) in 0.17 sec. Users per second: 640\n",
      "EvaluatorHoldout: Processed 107 (100.0%) in 0.14 sec. Users per second: 771\n",
      "EvaluatorHoldout: Processed 107 (100.0%) in 0.14 sec. Users per second: 793\n",
      "EvaluatorHoldout: Processed 107 (100.0%) in 0.18 sec. Users per second: 601\n",
      "EvaluatorHoldout: Processed 107 (100.0%) in 0.21 sec. Users per second: 521\n",
      "EvaluatorHoldout: Processed 107 (100.0%) in 0.16 sec. Users per second: 669\n",
      "EvaluatorHoldout: Processed 107 (100.0%) in 0.96 sec. Users per second: 112\n",
      "EvaluatorHoldout: Processed 107 (100.0%) in 0.22 sec. Users per second: 495\n",
      "EvaluatorHoldout: Processed 107 (100.0%) in 0.25 sec. Users per second: 432\n",
      "EvaluatorHoldout: Processed 107 (100.0%) in 0.19 sec. Users per second: 578\n",
      "EvaluatorHoldout: Processed 107 (100.0%) in 0.26 sec. Users per second: 409\n",
      "EvaluatorHoldout: Processed 107 (100.0%) in 0.22 sec. Users per second: 485\n",
      "EvaluatorHoldout: Processed 107 (100.0%) in 0.18 sec. Users per second: 588\n",
      "EvaluatorHoldout: Processed 107 (100.0%) in 0.22 sec. Users per second: 489\n",
      "EvaluatorHoldout: Processed 107 (100.0%) in 0.22 sec. Users per second: 485\n",
      "Group 20, #users in group 714, average p.len 172.11, median 143.0, min 104, max 1079\n",
      "EvaluatorHoldout: Ignoring 2203 (17.4%) Users that have less than 1 test interactions\n",
      "EvaluatorHoldout: Ignoring 11924 Users\n",
      "EvaluatorHoldout: Processed 714 (100.0%) in 0.33 sec. Users per second: 2193\n",
      "EvaluatorHoldout: Processed 714 (100.0%) in 0.40 sec. Users per second: 1774\n",
      "EvaluatorHoldout: Processed 714 (100.0%) in 0.52 sec. Users per second: 1377\n",
      "EvaluatorHoldout: Processed 714 (100.0%) in 0.29 sec. Users per second: 2442\n",
      "EvaluatorHoldout: Processed 714 (100.0%) in 0.28 sec. Users per second: 2515\n",
      "EvaluatorHoldout: Processed 714 (100.0%) in 0.61 sec. Users per second: 1176\n",
      "EvaluatorHoldout: Processed 714 (100.0%) in 0.92 sec. Users per second: 776\n",
      "EvaluatorHoldout: Processed 714 (100.0%) in 0.40 sec. Users per second: 1781\n",
      "EvaluatorHoldout: Processed 714 (100.0%) in 1.22 sec. Users per second: 587\n",
      "EvaluatorHoldout: Processed 714 (100.0%) in 0.88 sec. Users per second: 815\n",
      "EvaluatorHoldout: Processed 714 (100.0%) in 1.43 sec. Users per second: 498\n",
      "EvaluatorHoldout: Processed 714 (100.0%) in 0.66 sec. Users per second: 1086\n",
      "EvaluatorHoldout: Processed 714 (100.0%) in 1.42 sec. Users per second: 503\n",
      "EvaluatorHoldout: Processed 714 (100.0%) in 0.97 sec. Users per second: 739\n",
      "EvaluatorHoldout: Processed 714 (100.0%) in 0.64 sec. Users per second: 1109\n",
      "EvaluatorHoldout: Processed 714 (100.0%) in 1.13 sec. Users per second: 632\n",
      "EvaluatorHoldout: Processed 714 (100.0%) in 1.07 sec. Users per second: 666\n"
     ]
    }
   ],
   "source": [
    "# PROFILE LENGTH BASED GROUPING\n",
    "from Evaluation.Evaluator import EvaluatorHoldout\n",
    "import numpy as np\n",
    "\n",
    "li_steps = 1\n",
    "mi_steps = 4\n",
    "hi_steps = 7\n",
    "\n",
    "\n",
    "MAP_recommender_per_group = {}\n",
    "cutoff = 10\n",
    "profile_length_cutoffs = np.arange(2, 5, li_steps)\n",
    "profile_length_cutoffs = np.append(profile_length_cutoffs, np.arange(5, 20, mi_steps))\n",
    "profile_length_cutoffs = np.append(profile_length_cutoffs, np.arange(20, 110, hi_steps))\n",
    "profile_length_cutoffs = np.append(profile_length_cutoffs, np.inf)# Define the cutoffs for profile length for each group\n",
    "#profile_length_cutoffs = [2, 3, 4, 6, 8, 25, 80, 100, 250, 1500]\n",
    "\n",
    "for group_id in range(len(profile_length_cutoffs)):\n",
    "\n",
    "    # Select users whose profile length is less than the cutoff for the group and greater than or equal to the cutoff for the previous group\n",
    "    if group_id == 0:\n",
    "        users_in_group_flag = profile_length < profile_length_cutoffs[group_id]\n",
    "    else:\n",
    "        users_in_group_flag = np.logical_and(profile_length >= profile_length_cutoffs[group_id - 1],\n",
    "                                             profile_length < profile_length_cutoffs[group_id])\n",
    "    users_in_group = np.arange(len(profile_length))[users_in_group_flag]\n",
    "\n",
    "    if len(users_in_group) > 0:\n",
    "        users_in_group_p_len = profile_length[users_in_group]\n",
    "\n",
    "        print(\"Group {}, #users in group {}, average p.len {:.2f}, median {}, min {}, max {}\".format(\n",
    "            group_id,\n",
    "            users_in_group.shape[0],\n",
    "            users_in_group_p_len.mean(),\n",
    "            np.median(users_in_group_p_len),\n",
    "            users_in_group_p_len.min(),\n",
    "            users_in_group_p_len.max()))\n",
    "\n",
    "        # Select users not in the current group\n",
    "        users_not_in_group_flag = np.isin(np.arange(len(profile_length)), users_in_group, invert=True)\n",
    "        users_not_in_group = np.arange(len(profile_length))[users_not_in_group_flag]\n",
    "\n",
    "        evaluator_test = EvaluatorHoldout(URM_test, cutoff_list=[cutoff], ignore_users=users_not_in_group)\n",
    "\n",
    "        for label, recommender in recommender_object_dict.items():\n",
    "            result_df, _ = evaluator_test.evaluateRecommender(recommender)\n",
    "            if label in MAP_recommender_per_group:\n",
    "                MAP_recommender_per_group[label].append(result_df.loc[cutoff][\"MAP\"])\n",
    "            else:\n",
    "                MAP_recommender_per_group[label] = [result_df.loc[cutoff][\"MAP\"]]\n",
    "    else:\n",
    "        print(f\"Group {group_id} has no users.\")"
   ],
   "metadata": {
    "collapsed": false,
    "ExecuteTime": {
     "end_time": "2024-01-09T17:00:07.692786Z",
     "start_time": "2024-01-09T16:57:58.507009Z"
    }
   },
   "id": "c84bd2272dcd2066"
  },
  {
   "cell_type": "code",
   "execution_count": 39,
   "outputs": [
    {
     "data": {
      "text/plain": "      TopPop  UserKNNCF  ItemKNNCF   P3alpha       RP3  SLIM_ELASTIC  \\\n0   0.004008   0.005147   0.004164  0.004142  0.004273      0.004256   \n1   0.003806   0.008575   0.009482  0.007990  0.008850      0.007413   \n2   0.002883   0.007786   0.010194  0.008885  0.009720      0.009344   \n3   0.003605   0.011345   0.013497  0.012909  0.013071      0.012011   \n4   0.004917   0.014229   0.019563  0.019374  0.019788      0.020198   \n5   0.005840   0.020926   0.024120  0.025263  0.026338      0.026410   \n6   0.007074   0.023616   0.027288  0.029371  0.030145      0.030401   \n7   0.011057   0.028423   0.032071  0.033978  0.034341      0.033636   \n8   0.009368   0.032887   0.038827  0.042475  0.042785      0.044987   \n9   0.012196   0.037628   0.049639  0.050817  0.052923      0.056539   \n10  0.016342   0.048030   0.057102  0.060912  0.063907      0.071043   \n11  0.014577   0.044471   0.057690  0.063058  0.064830      0.067874   \n12  0.016709   0.045294   0.064790  0.067372  0.067693      0.074862   \n13  0.017885   0.056844   0.072344  0.070038  0.074436      0.081753   \n14  0.016552   0.066201   0.081118  0.088873  0.092871      0.099011   \n15  0.024539   0.066144   0.087616  0.088079  0.093291      0.097118   \n16  0.021813   0.071229   0.096529  0.100401  0.096600      0.101081   \n17  0.024669   0.075704   0.083052  0.097046  0.101557      0.110554   \n18  0.030542   0.081797   0.098099  0.096799  0.101222      0.113788   \n19  0.028934   0.072381   0.092569  0.095812  0.099403      0.096403   \n20  0.031616   0.089065   0.125311  0.129691  0.137025      0.132850   \n\n      EASE_R      IALS   MULTVAE    hybrid  hybrid_new     KNN_H    superH  \\\n0   0.004066  0.003902  0.005650  0.004304    0.004252  0.005332  0.004455   \n1   0.007257  0.009123  0.009305  0.008960    0.008524  0.008506  0.008989   \n2   0.008580  0.006886  0.005878  0.009710    0.009385  0.007811  0.009817   \n3   0.012315  0.011606  0.011037  0.012590    0.012519  0.012695  0.013289   \n4   0.018874  0.016451  0.016209  0.020664    0.020321  0.017764  0.020920   \n5   0.025866  0.022602  0.021708  0.027198    0.027027  0.023747  0.027613   \n6   0.028397  0.024915  0.023353  0.030560    0.030976  0.027065  0.031268   \n7   0.033483  0.027055  0.026732  0.034385    0.034956  0.032017  0.035504   \n8   0.042959  0.036124  0.032601  0.045129    0.045188  0.039466  0.045306   \n9   0.052525  0.040732  0.035012  0.056975    0.057339  0.047418  0.057194   \n10  0.066147  0.048888  0.044275  0.069217    0.070625  0.058129  0.070074   \n11  0.063913  0.049934  0.045108  0.068955    0.069129  0.054787  0.069490   \n12  0.070262  0.053863  0.040712  0.075373    0.076132  0.061276  0.076065   \n13  0.071915  0.056022  0.049272  0.080413    0.081134  0.069056  0.080395   \n14  0.096988  0.066886  0.051433  0.099987    0.101914  0.079777  0.101298   \n15  0.091489  0.064763  0.055599  0.099131    0.099723  0.084136  0.099422   \n16  0.095698  0.067224  0.059621  0.104573    0.102286  0.092817  0.101807   \n17  0.099983  0.061034  0.053300  0.107172    0.110972  0.084510  0.109682   \n18  0.101200  0.070143  0.066958  0.112869    0.112620  0.100745  0.112570   \n19  0.092398  0.062596  0.050377  0.107631    0.109219  0.095380  0.109622   \n20  0.131427  0.074431  0.059778  0.142036    0.141818  0.122267  0.141760   \n\n      lowInt  hybrid_hi  h_hi_var  h_veryhi  \n0   0.006384   0.004278  0.004278  0.004260  \n1   0.008740   0.008481  0.008403  0.008500  \n2   0.007850   0.009681  0.009173  0.009181  \n3   0.013256   0.012220  0.012437  0.012437  \n4   0.018093   0.020309  0.020261  0.020205  \n5   0.024600   0.027011  0.027208  0.027019  \n6   0.027946   0.031038  0.031054  0.031058  \n7   0.032910   0.034977  0.034490  0.034540  \n8   0.040403   0.045554  0.045590  0.045496  \n9   0.047736   0.057376  0.057358  0.057545  \n10  0.059716   0.070751  0.071093  0.071298  \n11  0.057132   0.069366  0.070142  0.069892  \n12  0.062892   0.076507  0.076570  0.076800  \n13  0.070177   0.081207  0.081118  0.081094  \n14  0.083823   0.101834  0.102056  0.102443  \n15  0.086987   0.097677  0.097312  0.097201  \n16  0.094808   0.102717  0.102564  0.104491  \n17  0.088598   0.111249  0.112086  0.111799  \n18  0.102022   0.113448  0.113945  0.114791  \n19  0.098235   0.105561  0.105494  0.107358  \n20  0.121513   0.141847  0.141925  0.141472  ",
      "text/html": "<div>\n<style scoped>\n    .dataframe tbody tr th:only-of-type {\n        vertical-align: middle;\n    }\n\n    .dataframe tbody tr th {\n        vertical-align: top;\n    }\n\n    .dataframe thead th {\n        text-align: right;\n    }\n</style>\n<table border=\"1\" class=\"dataframe\">\n  <thead>\n    <tr style=\"text-align: right;\">\n      <th></th>\n      <th>TopPop</th>\n      <th>UserKNNCF</th>\n      <th>ItemKNNCF</th>\n      <th>P3alpha</th>\n      <th>RP3</th>\n      <th>SLIM_ELASTIC</th>\n      <th>EASE_R</th>\n      <th>IALS</th>\n      <th>MULTVAE</th>\n      <th>hybrid</th>\n      <th>hybrid_new</th>\n      <th>KNN_H</th>\n      <th>superH</th>\n      <th>lowInt</th>\n      <th>hybrid_hi</th>\n      <th>h_hi_var</th>\n      <th>h_veryhi</th>\n    </tr>\n  </thead>\n  <tbody>\n    <tr>\n      <th>0</th>\n      <td>0.004008</td>\n      <td>0.005147</td>\n      <td>0.004164</td>\n      <td>0.004142</td>\n      <td>0.004273</td>\n      <td>0.004256</td>\n      <td>0.004066</td>\n      <td>0.003902</td>\n      <td>0.005650</td>\n      <td>0.004304</td>\n      <td>0.004252</td>\n      <td>0.005332</td>\n      <td>0.004455</td>\n      <td>0.006384</td>\n      <td>0.004278</td>\n      <td>0.004278</td>\n      <td>0.004260</td>\n    </tr>\n    <tr>\n      <th>1</th>\n      <td>0.003806</td>\n      <td>0.008575</td>\n      <td>0.009482</td>\n      <td>0.007990</td>\n      <td>0.008850</td>\n      <td>0.007413</td>\n      <td>0.007257</td>\n      <td>0.009123</td>\n      <td>0.009305</td>\n      <td>0.008960</td>\n      <td>0.008524</td>\n      <td>0.008506</td>\n      <td>0.008989</td>\n      <td>0.008740</td>\n      <td>0.008481</td>\n      <td>0.008403</td>\n      <td>0.008500</td>\n    </tr>\n    <tr>\n      <th>2</th>\n      <td>0.002883</td>\n      <td>0.007786</td>\n      <td>0.010194</td>\n      <td>0.008885</td>\n      <td>0.009720</td>\n      <td>0.009344</td>\n      <td>0.008580</td>\n      <td>0.006886</td>\n      <td>0.005878</td>\n      <td>0.009710</td>\n      <td>0.009385</td>\n      <td>0.007811</td>\n      <td>0.009817</td>\n      <td>0.007850</td>\n      <td>0.009681</td>\n      <td>0.009173</td>\n      <td>0.009181</td>\n    </tr>\n    <tr>\n      <th>3</th>\n      <td>0.003605</td>\n      <td>0.011345</td>\n      <td>0.013497</td>\n      <td>0.012909</td>\n      <td>0.013071</td>\n      <td>0.012011</td>\n      <td>0.012315</td>\n      <td>0.011606</td>\n      <td>0.011037</td>\n      <td>0.012590</td>\n      <td>0.012519</td>\n      <td>0.012695</td>\n      <td>0.013289</td>\n      <td>0.013256</td>\n      <td>0.012220</td>\n      <td>0.012437</td>\n      <td>0.012437</td>\n    </tr>\n    <tr>\n      <th>4</th>\n      <td>0.004917</td>\n      <td>0.014229</td>\n      <td>0.019563</td>\n      <td>0.019374</td>\n      <td>0.019788</td>\n      <td>0.020198</td>\n      <td>0.018874</td>\n      <td>0.016451</td>\n      <td>0.016209</td>\n      <td>0.020664</td>\n      <td>0.020321</td>\n      <td>0.017764</td>\n      <td>0.020920</td>\n      <td>0.018093</td>\n      <td>0.020309</td>\n      <td>0.020261</td>\n      <td>0.020205</td>\n    </tr>\n    <tr>\n      <th>5</th>\n      <td>0.005840</td>\n      <td>0.020926</td>\n      <td>0.024120</td>\n      <td>0.025263</td>\n      <td>0.026338</td>\n      <td>0.026410</td>\n      <td>0.025866</td>\n      <td>0.022602</td>\n      <td>0.021708</td>\n      <td>0.027198</td>\n      <td>0.027027</td>\n      <td>0.023747</td>\n      <td>0.027613</td>\n      <td>0.024600</td>\n      <td>0.027011</td>\n      <td>0.027208</td>\n      <td>0.027019</td>\n    </tr>\n    <tr>\n      <th>6</th>\n      <td>0.007074</td>\n      <td>0.023616</td>\n      <td>0.027288</td>\n      <td>0.029371</td>\n      <td>0.030145</td>\n      <td>0.030401</td>\n      <td>0.028397</td>\n      <td>0.024915</td>\n      <td>0.023353</td>\n      <td>0.030560</td>\n      <td>0.030976</td>\n      <td>0.027065</td>\n      <td>0.031268</td>\n      <td>0.027946</td>\n      <td>0.031038</td>\n      <td>0.031054</td>\n      <td>0.031058</td>\n    </tr>\n    <tr>\n      <th>7</th>\n      <td>0.011057</td>\n      <td>0.028423</td>\n      <td>0.032071</td>\n      <td>0.033978</td>\n      <td>0.034341</td>\n      <td>0.033636</td>\n      <td>0.033483</td>\n      <td>0.027055</td>\n      <td>0.026732</td>\n      <td>0.034385</td>\n      <td>0.034956</td>\n      <td>0.032017</td>\n      <td>0.035504</td>\n      <td>0.032910</td>\n      <td>0.034977</td>\n      <td>0.034490</td>\n      <td>0.034540</td>\n    </tr>\n    <tr>\n      <th>8</th>\n      <td>0.009368</td>\n      <td>0.032887</td>\n      <td>0.038827</td>\n      <td>0.042475</td>\n      <td>0.042785</td>\n      <td>0.044987</td>\n      <td>0.042959</td>\n      <td>0.036124</td>\n      <td>0.032601</td>\n      <td>0.045129</td>\n      <td>0.045188</td>\n      <td>0.039466</td>\n      <td>0.045306</td>\n      <td>0.040403</td>\n      <td>0.045554</td>\n      <td>0.045590</td>\n      <td>0.045496</td>\n    </tr>\n    <tr>\n      <th>9</th>\n      <td>0.012196</td>\n      <td>0.037628</td>\n      <td>0.049639</td>\n      <td>0.050817</td>\n      <td>0.052923</td>\n      <td>0.056539</td>\n      <td>0.052525</td>\n      <td>0.040732</td>\n      <td>0.035012</td>\n      <td>0.056975</td>\n      <td>0.057339</td>\n      <td>0.047418</td>\n      <td>0.057194</td>\n      <td>0.047736</td>\n      <td>0.057376</td>\n      <td>0.057358</td>\n      <td>0.057545</td>\n    </tr>\n    <tr>\n      <th>10</th>\n      <td>0.016342</td>\n      <td>0.048030</td>\n      <td>0.057102</td>\n      <td>0.060912</td>\n      <td>0.063907</td>\n      <td>0.071043</td>\n      <td>0.066147</td>\n      <td>0.048888</td>\n      <td>0.044275</td>\n      <td>0.069217</td>\n      <td>0.070625</td>\n      <td>0.058129</td>\n      <td>0.070074</td>\n      <td>0.059716</td>\n      <td>0.070751</td>\n      <td>0.071093</td>\n      <td>0.071298</td>\n    </tr>\n    <tr>\n      <th>11</th>\n      <td>0.014577</td>\n      <td>0.044471</td>\n      <td>0.057690</td>\n      <td>0.063058</td>\n      <td>0.064830</td>\n      <td>0.067874</td>\n      <td>0.063913</td>\n      <td>0.049934</td>\n      <td>0.045108</td>\n      <td>0.068955</td>\n      <td>0.069129</td>\n      <td>0.054787</td>\n      <td>0.069490</td>\n      <td>0.057132</td>\n      <td>0.069366</td>\n      <td>0.070142</td>\n      <td>0.069892</td>\n    </tr>\n    <tr>\n      <th>12</th>\n      <td>0.016709</td>\n      <td>0.045294</td>\n      <td>0.064790</td>\n      <td>0.067372</td>\n      <td>0.067693</td>\n      <td>0.074862</td>\n      <td>0.070262</td>\n      <td>0.053863</td>\n      <td>0.040712</td>\n      <td>0.075373</td>\n      <td>0.076132</td>\n      <td>0.061276</td>\n      <td>0.076065</td>\n      <td>0.062892</td>\n      <td>0.076507</td>\n      <td>0.076570</td>\n      <td>0.076800</td>\n    </tr>\n    <tr>\n      <th>13</th>\n      <td>0.017885</td>\n      <td>0.056844</td>\n      <td>0.072344</td>\n      <td>0.070038</td>\n      <td>0.074436</td>\n      <td>0.081753</td>\n      <td>0.071915</td>\n      <td>0.056022</td>\n      <td>0.049272</td>\n      <td>0.080413</td>\n      <td>0.081134</td>\n      <td>0.069056</td>\n      <td>0.080395</td>\n      <td>0.070177</td>\n      <td>0.081207</td>\n      <td>0.081118</td>\n      <td>0.081094</td>\n    </tr>\n    <tr>\n      <th>14</th>\n      <td>0.016552</td>\n      <td>0.066201</td>\n      <td>0.081118</td>\n      <td>0.088873</td>\n      <td>0.092871</td>\n      <td>0.099011</td>\n      <td>0.096988</td>\n      <td>0.066886</td>\n      <td>0.051433</td>\n      <td>0.099987</td>\n      <td>0.101914</td>\n      <td>0.079777</td>\n      <td>0.101298</td>\n      <td>0.083823</td>\n      <td>0.101834</td>\n      <td>0.102056</td>\n      <td>0.102443</td>\n    </tr>\n    <tr>\n      <th>15</th>\n      <td>0.024539</td>\n      <td>0.066144</td>\n      <td>0.087616</td>\n      <td>0.088079</td>\n      <td>0.093291</td>\n      <td>0.097118</td>\n      <td>0.091489</td>\n      <td>0.064763</td>\n      <td>0.055599</td>\n      <td>0.099131</td>\n      <td>0.099723</td>\n      <td>0.084136</td>\n      <td>0.099422</td>\n      <td>0.086987</td>\n      <td>0.097677</td>\n      <td>0.097312</td>\n      <td>0.097201</td>\n    </tr>\n    <tr>\n      <th>16</th>\n      <td>0.021813</td>\n      <td>0.071229</td>\n      <td>0.096529</td>\n      <td>0.100401</td>\n      <td>0.096600</td>\n      <td>0.101081</td>\n      <td>0.095698</td>\n      <td>0.067224</td>\n      <td>0.059621</td>\n      <td>0.104573</td>\n      <td>0.102286</td>\n      <td>0.092817</td>\n      <td>0.101807</td>\n      <td>0.094808</td>\n      <td>0.102717</td>\n      <td>0.102564</td>\n      <td>0.104491</td>\n    </tr>\n    <tr>\n      <th>17</th>\n      <td>0.024669</td>\n      <td>0.075704</td>\n      <td>0.083052</td>\n      <td>0.097046</td>\n      <td>0.101557</td>\n      <td>0.110554</td>\n      <td>0.099983</td>\n      <td>0.061034</td>\n      <td>0.053300</td>\n      <td>0.107172</td>\n      <td>0.110972</td>\n      <td>0.084510</td>\n      <td>0.109682</td>\n      <td>0.088598</td>\n      <td>0.111249</td>\n      <td>0.112086</td>\n      <td>0.111799</td>\n    </tr>\n    <tr>\n      <th>18</th>\n      <td>0.030542</td>\n      <td>0.081797</td>\n      <td>0.098099</td>\n      <td>0.096799</td>\n      <td>0.101222</td>\n      <td>0.113788</td>\n      <td>0.101200</td>\n      <td>0.070143</td>\n      <td>0.066958</td>\n      <td>0.112869</td>\n      <td>0.112620</td>\n      <td>0.100745</td>\n      <td>0.112570</td>\n      <td>0.102022</td>\n      <td>0.113448</td>\n      <td>0.113945</td>\n      <td>0.114791</td>\n    </tr>\n    <tr>\n      <th>19</th>\n      <td>0.028934</td>\n      <td>0.072381</td>\n      <td>0.092569</td>\n      <td>0.095812</td>\n      <td>0.099403</td>\n      <td>0.096403</td>\n      <td>0.092398</td>\n      <td>0.062596</td>\n      <td>0.050377</td>\n      <td>0.107631</td>\n      <td>0.109219</td>\n      <td>0.095380</td>\n      <td>0.109622</td>\n      <td>0.098235</td>\n      <td>0.105561</td>\n      <td>0.105494</td>\n      <td>0.107358</td>\n    </tr>\n    <tr>\n      <th>20</th>\n      <td>0.031616</td>\n      <td>0.089065</td>\n      <td>0.125311</td>\n      <td>0.129691</td>\n      <td>0.137025</td>\n      <td>0.132850</td>\n      <td>0.131427</td>\n      <td>0.074431</td>\n      <td>0.059778</td>\n      <td>0.142036</td>\n      <td>0.141818</td>\n      <td>0.122267</td>\n      <td>0.141760</td>\n      <td>0.121513</td>\n      <td>0.141847</td>\n      <td>0.141925</td>\n      <td>0.141472</td>\n    </tr>\n  </tbody>\n</table>\n</div>"
     },
     "execution_count": 39,
     "metadata": {},
     "output_type": "execute_result"
    }
   ],
   "source": [
    "import pandas as pd\n",
    "pd.DataFrame(MAP_recommender_per_group)"
   ],
   "metadata": {
    "collapsed": false,
    "ExecuteTime": {
     "end_time": "2024-01-09T17:02:15.927704Z",
     "start_time": "2024-01-09T17:02:15.913076Z"
    }
   },
   "id": "9eddd27c5a5ba071"
  },
  {
   "cell_type": "code",
   "execution_count": 38,
   "outputs": [
    {
     "name": "stdout",
     "output_type": "stream",
     "text": [
      "Gr 0: Max val 0.0063844992274195815 at lowInt, Second max val 0.005650196656833826 at MULTVAE, Min pl is 1, Max pl is 1, N users in group is 1022, diff 0.0021063351594325028, improvement: 2.1526745329400176\n",
      "Gr 1: Max val 0.009482085438677077 at ItemKNNCF, Second max val 0.009305491757260247 at MULTVAE, Min pl is 2, Max pl is 2, N users in group is 748, diff 0.001000612463634967, improvement: 0.7484581227989553\n",
      "Gr 2: Max val 0.010193670759708496 at ItemKNNCF, Second max val 0.009817435359888186 at superH, Min pl is 3, Max pl is 3, N users in group is 608, diff 0.0005131276829390078, improvement: 0.31198163122691674\n",
      "Gr 3: Max val 0.013497429370070877 at ItemKNNCF, Second max val 0.013289158430667863 at superH, Min pl is 4, Max pl is 4, N users in group is 490, diff 0.0012778276929220293, improvement: 0.6261355695317944\n",
      "Gr 4: Max val 0.020920170283303233 at superH, Second max val 0.020663834890496353 at hybrid, Min pl is 5, Max pl is 8, N users in group is 1628, diff 0.000610872513562382, improvement: 0.994500452079558\n",
      "Gr 5: Max val 0.02761348395749515 at superH, Second max val 0.027208147263857636 at h_hi_var, Min pl is 9, Max pl is 12, N users in group is 1193, diff 0.0006029019469130821, improvement: 0.719262022667307\n",
      "Gr 6: Max val 0.031267991040997256 at superH, Second max val 0.031058282208589045 at h_veryhi, Min pl is 13, Max pl is 16, N users in group is 849, diff 0.00023025611062421278, improvement: 0.19548743791995665\n",
      "Gr 7: Max val 0.0355043303760034 at superH, Second max val 0.034977141046532705 at hybrid_hi, Min pl is 17, Max pl is 19, N users in group is 535, diff 0.0005271893294706981, improvement: 0.28204629126682346\n",
      "Gr 8: Max val 0.04559047619047627 at h_hi_var, Second max val 0.045554383975812615 at hybrid_hi, Min pl is 20, Max pl is 26, N users in group is 1054, diff 3.6092214663656363e-05, improvement: 0.03804119425549381\n",
      "Gr 9: Max val 0.0575445315283221 at h_veryhi, Second max val 0.05737585599493339 at hybrid_hi, Min pl is 27, Max pl is 33, N users in group is 804, diff 0.00016867553338870828, improvement: 0.13561512884452145\n",
      "Gr 10: Max val 0.07129798586101113 at h_veryhi, Second max val 0.07109297052154198 at h_hi_var, Min pl is 34, Max pl is 40, N users in group is 595, diff 0.0005468187274910441, improvement: 0.3253571428571712\n",
      "Gr 11: Max val 0.0701422548185942 at h_hi_var, Second max val 0.06989158163265312 at h_veryhi, Min pl is 41, Max pl is 47, N users in group is 448, diff 0.0007757582199546809, improvement: 0.347539682539697\n",
      "Gr 12: Max val 0.07680003580379535 at h_veryhi, Second max val 0.076569896964634 at h_hi_var, Min pl is 48, Max pl is 54, N users in group is 399, diff 0.0002927954807653427, improvement: 0.11682539682537173\n",
      "Gr 13: Max val 0.08175348725348729 at SLIM_ELASTIC, Second max val 0.08120719095719109 at hybrid_hi, Min pl is 55, Max pl is 61, N users in group is 330, diff 0.0005462962962961976, improvement: 0.1802777777777452\n",
      "Gr 14: Max val 0.10244321578003598 at h_veryhi, Second max val 0.10205618649133306 at h_hi_var, Min pl is 62, Max pl is 68, N users in group is 239, diff 0.0006093511323636835, improvement: 0.14563492063492037\n",
      "Gr 15: Max val 0.09972258628221933 at hybrid_new, Second max val 0.09942223678462216 at superH, Min pl is 69, Max pl is 75, N users in group is 218, diff 0.002045289063637698, improvement: 0.4458730158730182\n",
      "Gr 16: Max val 0.1045725623582767 at hybrid, Second max val 0.10449092970521542 at h_veryhi, Min pl is 76, Max pl is 82, N users in group is 175, diff 0.001856009070294859, improvement: 0.3248015873016003\n",
      "Gr 17: Max val 0.1120861678004535 at h_hi_var, Second max val 0.11179927043281078 at h_veryhi, Min pl is 83, Max pl is 89, N users in group is 161, diff 0.0008367839889578954, improvement: 0.13472222222222116\n",
      "Gr 18: Max val 0.11479132457580735 at h_veryhi, Second max val 0.11394533388067872 at h_hi_var, Min pl is 90, Max pl is 96, N users in group is 116, diff 0.0013430487137383595, improvement: 0.1557936507936497\n",
      "Gr 19: Max val 0.10962171784601686 at superH, Second max val 0.1092193294763388 at hybrid_new, Min pl is 97, Max pl is 103, N users in group is 107, diff 0.004060228452751696, improvement: 0.43444444444443153\n",
      "Gr 20: Max val 0.14203609221466365 at hybrid, Second max val 0.1419254368414032 at h_hi_var, Min pl is 104, Max pl is 1079, N users in group is 714, diff 0.00018946467475874917, improvement: 0.1352777777777469\n"
     ]
    }
   ],
   "source": [
    "#                         0, 1, 2, 3, 4,  5,  6,   7,   8,    9\n",
    "#profile_length_cutoffs = [2, 4, 6, 8, 25, 50, 80, 100, 250, 1500]\n",
    "df = pd.DataFrame(MAP_recommender_per_group)\n",
    "for index, row in df.iterrows():\n",
    "    sorted_row = row.sort_values(ascending=False)\n",
    "    max_value = sorted_row.iloc[0]\n",
    "    max_index = sorted_row.index[0]\n",
    "    second_max_value = sorted_row.iloc[1]\n",
    "    second_max_index = sorted_row.index[1]\n",
    "\n",
    "    # Select users whose profile length is less than the cutoff for the group and greater than or equal to the cutoff for the previous group\n",
    "    if index == 0:\n",
    "        users_in_group_flag = np.logical_and(profile_length > 0, profile_length < profile_length_cutoffs[index])\n",
    "    else:\n",
    "        users_in_group_flag = np.logical_and(profile_length >= profile_length_cutoffs[index - 1], profile_length < profile_length_cutoffs[index])\n",
    "    users_in_group = np.arange(len(profile_length))[users_in_group_flag]\n",
    "\n",
    "    # Calculate the minimum and maximum profile lengths for the users in the group\n",
    "    min_profile_length = profile_length[users_in_group_flag].min()\n",
    "    max_profile_length = profile_length[users_in_group_flag].max()\n",
    "\n",
    "    # Calculate the number of users in the group\n",
    "    num_users_in_group = len(users_in_group)\n",
    "\n",
    "    print(f\"Gr {index}: Max val {max_value} at {max_index}, Second max val {second_max_value} at {second_max_index}, Min pl is {min_profile_length}, Max pl is {max_profile_length}, N users in group is {num_users_in_group}, diff {max_value - df['hybrid_hi'][index]}, improvement: {(max_value - df['hybrid_hi'][index])*num_users_in_group}\")"
   ],
   "metadata": {
    "collapsed": false,
    "ExecuteTime": {
     "end_time": "2024-01-09T17:00:07.704753Z",
     "start_time": "2024-01-09T17:00:07.696486Z"
    }
   },
   "id": "855bdc845ad972a7"
  }
 ],
 "metadata": {
  "kernelspec": {
   "display_name": "Python 3",
   "language": "python",
   "name": "python3"
  },
  "language_info": {
   "codemirror_mode": {
    "name": "ipython",
    "version": 2
   },
   "file_extension": ".py",
   "mimetype": "text/x-python",
   "name": "python",
   "nbconvert_exporter": "python",
   "pygments_lexer": "ipython2",
   "version": "2.7.6"
  }
 },
 "nbformat": 4,
 "nbformat_minor": 5
}
