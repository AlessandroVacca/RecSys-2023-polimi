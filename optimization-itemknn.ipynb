{
 "cells": [
  {
   "cell_type": "code",
   "execution_count": 1,
   "id": "initial_id",
   "metadata": {
    "collapsed": true,
    "ExecuteTime": {
     "end_time": "2023-11-22T12:37:19.557551457Z",
     "start_time": "2023-11-22T12:37:15.277717501Z"
    }
   },
   "outputs": [
    {
     "name": "stdout",
     "output_type": "stream",
     "text": [
      "Warning: 235 (1.86 %) of 12638 users have no train items\n",
      "Warning: 2128 (16.84 %) of 12638 users have no sampled items\n",
      "Warning: 463 (3.66 %) of 12638 users have no train items\n",
      "Warning: 2646 (20.94 %) of 12638 users have no sampled items\n"
     ]
    }
   ],
   "source": [
    "from Data_manager.UserUtils import *\n",
    "from Data_manager.split_functions.split_train_validation_random_holdout import \\\n",
    "    split_train_in_two_percentage_global_sample\n",
    "URM_all = getURM_all()\n",
    "URM_train_validation, URM_test = split_train_in_two_percentage_global_sample(URM_all, train_percentage = 0.80)\n",
    "URM_train, URM_validation = split_train_in_two_percentage_global_sample(URM_train_validation, train_percentage = 0.80)"
   ]
  },
  {
   "cell_type": "code",
   "execution_count": 2,
   "outputs": [
    {
     "name": "stdout",
     "output_type": "stream",
     "text": [
      "EvaluatorHoldout: Ignoring 2646 (20.9%) Users that have less than 1 test interactions\n",
      "EvaluatorHoldout: Ignoring 0 Users\n"
     ]
    }
   ],
   "source": [
    "from Recommenders.KNN.ItemKNNCFRecommender import ItemKNNCFRecommender\n",
    "model = ItemKNNCFRecommender\n",
    "\n",
    "from Evaluation.Evaluator import EvaluatorHoldout\n",
    "evaluator_validation = EvaluatorHoldout(URM_validation, cutoff_list=[10], ignore_users=[])"
   ],
   "metadata": {
    "collapsed": false,
    "ExecuteTime": {
     "end_time": "2023-11-22T12:37:19.577751712Z",
     "start_time": "2023-11-22T12:37:19.551247526Z"
    }
   },
   "id": "8a9fec0ccc4f11c5"
  },
  {
   "cell_type": "code",
   "execution_count": 3,
   "outputs": [],
   "source": [
    "import optuna as op\n",
    "def objective(trial):\n",
    "    topK = trial.suggest_int(\"topK\", 2, 10000)\n",
    "    shrink = trial.suggest_int(\"shrink\", 2, 10000)\n",
    "    similarity = trial.suggest_categorical(\"similarity\", [\"cosine\", \"jaccard\", \"asymmetric\", \"dice\", \"tversky\"])\n",
    "    normalize = trial.suggest_categorical(\"normalize\", [True, False])\n",
    "    feature_weighting = trial.suggest_categorical(\"feature_weighting\", [\"none\", \"BM25\", \"TF-IDF\"])\n",
    "    \n",
    "    recommender = model(URM_train)\n",
    "    recommender.fit(**trial.params)\n",
    "    \n",
    "    result, _ = evaluator_validation.evaluateRecommender(recommender)\n",
    "    MAP_result = result[\"MAP\"].item()\n",
    "       \n",
    "    return MAP_result"
   ],
   "metadata": {
    "collapsed": false,
    "ExecuteTime": {
     "end_time": "2023-11-22T12:37:19.778731210Z",
     "start_time": "2023-11-22T12:37:19.564553126Z"
    }
   },
   "id": "b826576f6714c764"
  },
  {
   "cell_type": "code",
   "execution_count": 4,
   "outputs": [
    {
     "name": "stderr",
     "output_type": "stream",
     "text": [
      "[I 2023-11-22 13:37:19,779] A new study created in memory with name: no-name-9bd4a088-91ec-4c61-a6cf-7827b396ff1f\n"
     ]
    },
    {
     "name": "stdout",
     "output_type": "stream",
     "text": [
      "ItemKNNCFRecommender: URM Detected 463 ( 3.7%) users with no interactions.\n",
      "ItemKNNCFRecommender: URM Detected 316 ( 1.4%) items with no interactions.\n",
      "Similarity column 22222 (100.0%), 6983.68 column/sec. Elapsed time 3.18 sec\n",
      "EvaluatorHoldout: Processed 9992 (100.0%) in 10.00 sec. Users per second: 1000\n"
     ]
    },
    {
     "name": "stderr",
     "output_type": "stream",
     "text": [
      "[I 2023-11-22 13:37:33,040] Trial 0 finished with value: 0.02797788230584483 and parameters: {'topK': 22, 'shrink': 6431, 'similarity': 'tversky', 'normalize': True, 'feature_weighting': 'BM25'}. Best is trial 0 with value: 0.02797788230584483.\n"
     ]
    },
    {
     "name": "stdout",
     "output_type": "stream",
     "text": [
      "ItemKNNCFRecommender: URM Detected 463 ( 3.7%) users with no interactions.\n",
      "ItemKNNCFRecommender: URM Detected 316 ( 1.4%) items with no interactions.\n",
      "Similarity column 22222 (100.0%), 3620.00 column/sec. Elapsed time 6.14 sec\n",
      "EvaluatorHoldout: Processed 9992 (100.0%) in 15.53 sec. Users per second: 643\n"
     ]
    },
    {
     "name": "stderr",
     "output_type": "stream",
     "text": [
      "[I 2023-11-22 13:37:56,109] Trial 1 finished with value: 0.013677807325225224 and parameters: {'topK': 6769, 'shrink': 3939, 'similarity': 'jaccard', 'normalize': False, 'feature_weighting': 'BM25'}. Best is trial 0 with value: 0.02797788230584483.\n"
     ]
    },
    {
     "name": "stdout",
     "output_type": "stream",
     "text": [
      "ItemKNNCFRecommender: URM Detected 463 ( 3.7%) users with no interactions.\n",
      "ItemKNNCFRecommender: URM Detected 316 ( 1.4%) items with no interactions.\n",
      "Similarity column 22222 (100.0%), 3353.21 column/sec. Elapsed time 6.63 sec\n",
      "EvaluatorHoldout: Processed 9992 (100.0%) in 16.67 sec. Users per second: 599\n"
     ]
    },
    {
     "name": "stderr",
     "output_type": "stream",
     "text": [
      "[I 2023-11-22 13:38:21,148] Trial 2 finished with value: 0.013237173071790708 and parameters: {'topK': 9077, 'shrink': 7564, 'similarity': 'jaccard', 'normalize': False, 'feature_weighting': 'BM25'}. Best is trial 0 with value: 0.02797788230584483.\n"
     ]
    },
    {
     "name": "stdout",
     "output_type": "stream",
     "text": [
      "ItemKNNCFRecommender: URM Detected 463 ( 3.7%) users with no interactions.\n",
      "ItemKNNCFRecommender: URM Detected 316 ( 1.4%) items with no interactions.\n",
      "Similarity column 22222 (100.0%), 4056.77 column/sec. Elapsed time 5.48 sec\n",
      "EvaluatorHoldout: Processed 9992 (100.0%) in 16.15 sec. Users per second: 619\n"
     ]
    },
    {
     "name": "stderr",
     "output_type": "stream",
     "text": [
      "[I 2023-11-22 13:38:43,680] Trial 3 finished with value: 0.012681252144572738 and parameters: {'topK': 2465, 'shrink': 1010, 'similarity': 'cosine', 'normalize': False, 'feature_weighting': 'TF-IDF'}. Best is trial 0 with value: 0.02797788230584483.\n"
     ]
    },
    {
     "name": "stdout",
     "output_type": "stream",
     "text": [
      "ItemKNNCFRecommender: URM Detected 463 ( 3.7%) users with no interactions.\n",
      "ItemKNNCFRecommender: URM Detected 316 ( 1.4%) items with no interactions.\n",
      "Similarity column 22222 (100.0%), 3401.77 column/sec. Elapsed time 6.53 sec\n",
      "EvaluatorHoldout: Processed 9992 (100.0%) in 15.98 sec. Users per second: 625\n"
     ]
    },
    {
     "name": "stderr",
     "output_type": "stream",
     "text": [
      "[I 2023-11-22 13:39:07,303] Trial 4 finished with value: 0.011117147686403043 and parameters: {'topK': 6716, 'shrink': 7808, 'similarity': 'cosine', 'normalize': True, 'feature_weighting': 'BM25'}. Best is trial 0 with value: 0.02797788230584483.\n"
     ]
    },
    {
     "name": "stdout",
     "output_type": "stream",
     "text": [
      "ItemKNNCFRecommender: URM Detected 463 ( 3.7%) users with no interactions.\n",
      "ItemKNNCFRecommender: URM Detected 316 ( 1.4%) items with no interactions.\n",
      "Similarity column 22222 (100.0%), 3648.15 column/sec. Elapsed time 6.09 sec\n",
      "EvaluatorHoldout: Processed 9992 (100.0%) in 15.54 sec. Users per second: 643\n"
     ]
    },
    {
     "name": "stderr",
     "output_type": "stream",
     "text": [
      "[I 2023-11-22 13:39:30,275] Trial 5 finished with value: 0.019054807337933872 and parameters: {'topK': 3576, 'shrink': 287, 'similarity': 'tversky', 'normalize': True, 'feature_weighting': 'TF-IDF'}. Best is trial 0 with value: 0.02797788230584483.\n"
     ]
    },
    {
     "name": "stdout",
     "output_type": "stream",
     "text": [
      "ItemKNNCFRecommender: URM Detected 463 ( 3.7%) users with no interactions.\n",
      "ItemKNNCFRecommender: URM Detected 316 ( 1.4%) items with no interactions.\n",
      "Similarity column 22222 (100.0%), 3356.97 column/sec. Elapsed time 6.62 sec\n",
      "EvaluatorHoldout: Processed 9992 (100.0%) in 15.73 sec. Users per second: 635\n"
     ]
    },
    {
     "name": "stderr",
     "output_type": "stream",
     "text": [
      "[I 2023-11-22 13:39:53,782] Trial 6 finished with value: 0.012852059425317976 and parameters: {'topK': 3842, 'shrink': 8846, 'similarity': 'tversky', 'normalize': True, 'feature_weighting': 'none'}. Best is trial 0 with value: 0.02797788230584483.\n"
     ]
    },
    {
     "name": "stdout",
     "output_type": "stream",
     "text": [
      "ItemKNNCFRecommender: URM Detected 463 ( 3.7%) users with no interactions.\n",
      "ItemKNNCFRecommender: URM Detected 316 ( 1.4%) items with no interactions.\n",
      "Similarity column 22222 (100.0%), 3058.68 column/sec. Elapsed time 7.27 sec\n",
      "EvaluatorHoldout: Processed 9992 (100.0%) in 17.09 sec. Users per second: 585\n"
     ]
    },
    {
     "name": "stderr",
     "output_type": "stream",
     "text": [
      "[I 2023-11-22 13:40:19,238] Trial 7 finished with value: 0.016464846480358872 and parameters: {'topK': 7378, 'shrink': 9231, 'similarity': 'asymmetric', 'normalize': True, 'feature_weighting': 'TF-IDF'}. Best is trial 0 with value: 0.02797788230584483.\n"
     ]
    },
    {
     "name": "stdout",
     "output_type": "stream",
     "text": [
      "ItemKNNCFRecommender: URM Detected 463 ( 3.7%) users with no interactions.\n",
      "ItemKNNCFRecommender: URM Detected 316 ( 1.4%) items with no interactions.\n",
      "Similarity column 22222 (100.0%), 3703.36 column/sec. Elapsed time 6.00 sec\n",
      "EvaluatorHoldout: Processed 9992 (100.0%) in 16.59 sec. Users per second: 602\n"
     ]
    },
    {
     "name": "stderr",
     "output_type": "stream",
     "text": [
      "[I 2023-11-22 13:40:43,495] Trial 8 finished with value: 0.013197117217583538 and parameters: {'topK': 8066, 'shrink': 7184, 'similarity': 'dice', 'normalize': True, 'feature_weighting': 'BM25'}. Best is trial 0 with value: 0.02797788230584483.\n"
     ]
    },
    {
     "name": "stdout",
     "output_type": "stream",
     "text": [
      "ItemKNNCFRecommender: URM Detected 463 ( 3.7%) users with no interactions.\n",
      "ItemKNNCFRecommender: URM Detected 316 ( 1.4%) items with no interactions.\n",
      "Similarity column 22222 (100.0%), 3354.87 column/sec. Elapsed time 6.62 sec\n",
      "EvaluatorHoldout: Processed 9992 (100.0%) in 15.76 sec. Users per second: 634\n"
     ]
    },
    {
     "name": "stderr",
     "output_type": "stream",
     "text": [
      "[I 2023-11-22 13:41:07,376] Trial 9 finished with value: 0.018261760201812183 and parameters: {'topK': 8377, 'shrink': 3809, 'similarity': 'cosine', 'normalize': True, 'feature_weighting': 'TF-IDF'}. Best is trial 0 with value: 0.02797788230584483.\n"
     ]
    },
    {
     "name": "stdout",
     "output_type": "stream",
     "text": [
      "ItemKNNCFRecommender: URM Detected 463 ( 3.7%) users with no interactions.\n",
      "ItemKNNCFRecommender: URM Detected 316 ( 1.4%) items with no interactions.\n",
      "Similarity column 22222 (100.0%), 4139.45 column/sec. Elapsed time 5.37 sec\n",
      "EvaluatorHoldout: Processed 9992 (100.0%) in 12.34 sec. Users per second: 810\n"
     ]
    },
    {
     "name": "stderr",
     "output_type": "stream",
     "text": [
      "[I 2023-11-22 13:41:25,394] Trial 10 finished with value: 0.016686646936596907 and parameters: {'topK': 212, 'shrink': 5644, 'similarity': 'tversky', 'normalize': False, 'feature_weighting': 'none'}. Best is trial 0 with value: 0.02797788230584483.\n"
     ]
    },
    {
     "name": "stdout",
     "output_type": "stream",
     "text": [
      "ItemKNNCFRecommender: URM Detected 463 ( 3.7%) users with no interactions.\n",
      "ItemKNNCFRecommender: URM Detected 316 ( 1.4%) items with no interactions.\n",
      "Similarity column 22222 (100.0%), 3765.53 column/sec. Elapsed time 5.90 sec\n",
      "EvaluatorHoldout: Processed 9992 (100.0%) in 11.72 sec. Users per second: 853\n"
     ]
    },
    {
     "name": "stderr",
     "output_type": "stream",
     "text": [
      "[I 2023-11-22 13:41:43,367] Trial 11 finished with value: 0.01992146494973758 and parameters: {'topK': 136, 'shrink': 1432, 'similarity': 'tversky', 'normalize': True, 'feature_weighting': 'TF-IDF'}. Best is trial 0 with value: 0.02797788230584483.\n"
     ]
    },
    {
     "name": "stdout",
     "output_type": "stream",
     "text": [
      "ItemKNNCFRecommender: URM Detected 463 ( 3.7%) users with no interactions.\n",
      "ItemKNNCFRecommender: URM Detected 316 ( 1.4%) items with no interactions.\n",
      "Similarity column 22222 (100.0%), 4055.84 column/sec. Elapsed time 5.48 sec\n",
      "EvaluatorHoldout: Processed 9992 (100.0%) in 9.29 sec. Users per second: 1076\n"
     ]
    },
    {
     "name": "stderr",
     "output_type": "stream",
     "text": [
      "[I 2023-11-22 13:41:58,327] Trial 12 finished with value: 0.01994353022100219 and parameters: {'topK': 4, 'shrink': 2116, 'similarity': 'tversky', 'normalize': True, 'feature_weighting': 'TF-IDF'}. Best is trial 0 with value: 0.02797788230584483.\n"
     ]
    },
    {
     "name": "stdout",
     "output_type": "stream",
     "text": [
      "ItemKNNCFRecommender: URM Detected 463 ( 3.7%) users with no interactions.\n",
      "ItemKNNCFRecommender: URM Detected 316 ( 1.4%) items with no interactions.\n",
      "Similarity column 22222 (100.0%), 3754.60 column/sec. Elapsed time 5.92 sec\n",
      "EvaluatorHoldout: Processed 9992 (100.0%) in 15.20 sec. Users per second: 657\n"
     ]
    },
    {
     "name": "stderr",
     "output_type": "stream",
     "text": [
      "[I 2023-11-22 13:42:20,324] Trial 13 finished with value: 0.016018699880539354 and parameters: {'topK': 1724, 'shrink': 2697, 'similarity': 'tversky', 'normalize': True, 'feature_weighting': 'BM25'}. Best is trial 0 with value: 0.02797788230584483.\n"
     ]
    },
    {
     "name": "stdout",
     "output_type": "stream",
     "text": [
      "ItemKNNCFRecommender: URM Detected 463 ( 3.7%) users with no interactions.\n",
      "ItemKNNCFRecommender: URM Detected 316 ( 1.4%) items with no interactions.\n",
      "Similarity column 22222 (100.0%), 4341.82 column/sec. Elapsed time 5.12 sec\n",
      "EvaluatorHoldout: Processed 9992 (100.0%) in 16.20 sec. Users per second: 617\n"
     ]
    },
    {
     "name": "stderr",
     "output_type": "stream",
     "text": [
      "[I 2023-11-22 13:42:42,368] Trial 14 finished with value: 0.01328528695972645 and parameters: {'topK': 1503, 'shrink': 5697, 'similarity': 'dice', 'normalize': True, 'feature_weighting': 'none'}. Best is trial 0 with value: 0.02797788230584483.\n"
     ]
    },
    {
     "name": "stdout",
     "output_type": "stream",
     "text": [
      "ItemKNNCFRecommender: URM Detected 463 ( 3.7%) users with no interactions.\n",
      "ItemKNNCFRecommender: URM Detected 316 ( 1.4%) items with no interactions.\n",
      "Similarity column 22222 (100.0%), 3409.65 column/sec. Elapsed time 6.52 sec\n",
      "EvaluatorHoldout: Processed 9992 (100.0%) in 15.79 sec. Users per second: 633\n"
     ]
    },
    {
     "name": "stderr",
     "output_type": "stream",
     "text": [
      "[I 2023-11-22 13:43:05,654] Trial 15 finished with value: 0.01879996060340337 and parameters: {'topK': 5001, 'shrink': 3024, 'similarity': 'asymmetric', 'normalize': True, 'feature_weighting': 'TF-IDF'}. Best is trial 0 with value: 0.02797788230584483.\n"
     ]
    },
    {
     "name": "stdout",
     "output_type": "stream",
     "text": [
      "ItemKNNCFRecommender: URM Detected 463 ( 3.7%) users with no interactions.\n",
      "ItemKNNCFRecommender: URM Detected 316 ( 1.4%) items with no interactions.\n",
      "Similarity column 22222 (100.0%), 3605.82 column/sec. Elapsed time 6.16 sec\n",
      "EvaluatorHoldout: Processed 9992 (100.0%) in 15.46 sec. Users per second: 646\n"
     ]
    },
    {
     "name": "stderr",
     "output_type": "stream",
     "text": [
      "[I 2023-11-22 13:43:27,861] Trial 16 finished with value: 0.015593840151486245 and parameters: {'topK': 1263, 'shrink': 6447, 'similarity': 'tversky', 'normalize': True, 'feature_weighting': 'BM25'}. Best is trial 0 with value: 0.02797788230584483.\n"
     ]
    },
    {
     "name": "stdout",
     "output_type": "stream",
     "text": [
      "ItemKNNCFRecommender: URM Detected 463 ( 3.7%) users with no interactions.\n",
      "ItemKNNCFRecommender: URM Detected 316 ( 1.4%) items with no interactions.\n",
      "Similarity column 22222 (100.0%), 3640.28 column/sec. Elapsed time 6.10 sec\n",
      "EvaluatorHoldout: Processed 9992 (100.0%) in 16.19 sec. Users per second: 617\n"
     ]
    },
    {
     "name": "stderr",
     "output_type": "stream",
     "text": [
      "[I 2023-11-22 13:43:51,128] Trial 17 finished with value: 0.013868209647082743 and parameters: {'topK': 3051, 'shrink': 4542, 'similarity': 'tversky', 'normalize': True, 'feature_weighting': 'BM25'}. Best is trial 0 with value: 0.02797788230584483.\n"
     ]
    },
    {
     "name": "stdout",
     "output_type": "stream",
     "text": [
      "ItemKNNCFRecommender: URM Detected 463 ( 3.7%) users with no interactions.\n",
      "ItemKNNCFRecommender: URM Detected 316 ( 1.4%) items with no interactions.\n",
      "Similarity column 22222 (100.0%), 3377.35 column/sec. Elapsed time 6.58 sec\n",
      "EvaluatorHoldout: Processed 9992 (100.0%) in 15.21 sec. Users per second: 657\n"
     ]
    },
    {
     "name": "stderr",
     "output_type": "stream",
     "text": [
      "[I 2023-11-22 13:44:14,111] Trial 18 finished with value: 0.014018734829133083 and parameters: {'topK': 4999, 'shrink': 2779, 'similarity': 'tversky', 'normalize': False, 'feature_weighting': 'TF-IDF'}. Best is trial 0 with value: 0.02797788230584483.\n"
     ]
    },
    {
     "name": "stdout",
     "output_type": "stream",
     "text": [
      "ItemKNNCFRecommender: URM Detected 463 ( 3.7%) users with no interactions.\n",
      "ItemKNNCFRecommender: URM Detected 316 ( 1.4%) items with no interactions.\n",
      "Similarity column 22222 (100.0%), 4467.83 column/sec. Elapsed time 4.97 sec\n",
      "EvaluatorHoldout: Processed 9992 (100.0%) in 9.25 sec. Users per second: 1081\n"
     ]
    },
    {
     "name": "stderr",
     "output_type": "stream",
     "text": [
      "[I 2023-11-22 13:44:28,449] Trial 19 finished with value: 0.021425938369743408 and parameters: {'topK': 11, 'shrink': 1672, 'similarity': 'dice', 'normalize': True, 'feature_weighting': 'none'}. Best is trial 0 with value: 0.02797788230584483.\n"
     ]
    },
    {
     "name": "stdout",
     "output_type": "stream",
     "text": [
      "ItemKNNCFRecommender: URM Detected 463 ( 3.7%) users with no interactions.\n",
      "ItemKNNCFRecommender: URM Detected 316 ( 1.4%) items with no interactions.\n",
      "Similarity column 22222 (100.0%), 4395.67 column/sec. Elapsed time 5.06 sec\n",
      "EvaluatorHoldout: Processed 9992 (100.0%) in 15.21 sec. Users per second: 657\n"
     ]
    },
    {
     "name": "stderr",
     "output_type": "stream",
     "text": [
      "[I 2023-11-22 13:44:49,205] Trial 20 finished with value: 0.013624598091171317 and parameters: {'topK': 1053, 'shrink': 4736, 'similarity': 'dice', 'normalize': True, 'feature_weighting': 'none'}. Best is trial 0 with value: 0.02797788230584483.\n"
     ]
    },
    {
     "name": "stdout",
     "output_type": "stream",
     "text": [
      "ItemKNNCFRecommender: URM Detected 463 ( 3.7%) users with no interactions.\n",
      "ItemKNNCFRecommender: URM Detected 316 ( 1.4%) items with no interactions.\n",
      "Similarity column 22222 (100.0%), 4634.66 column/sec. Elapsed time 4.79 sec\n",
      "EvaluatorHoldout: Processed 9992 (100.0%) in 8.48 sec. Users per second: 1179\n"
     ]
    },
    {
     "name": "stderr",
     "output_type": "stream",
     "text": [
      "[I 2023-11-22 13:45:02,628] Trial 21 finished with value: 0.01856043565010733 and parameters: {'topK': 2, 'shrink': 1290, 'similarity': 'dice', 'normalize': True, 'feature_weighting': 'none'}. Best is trial 0 with value: 0.02797788230584483.\n"
     ]
    },
    {
     "name": "stdout",
     "output_type": "stream",
     "text": [
      "ItemKNNCFRecommender: URM Detected 463 ( 3.7%) users with no interactions.\n",
      "ItemKNNCFRecommender: URM Detected 316 ( 1.4%) items with no interactions.\n",
      "Similarity column 22222 (100.0%), 4338.42 column/sec. Elapsed time 5.12 sec\n",
      "EvaluatorHoldout: Processed 9992 (100.0%) in 15.66 sec. Users per second: 638\n"
     ]
    },
    {
     "name": "stderr",
     "output_type": "stream",
     "text": [
      "[I 2023-11-22 13:45:24,120] Trial 22 finished with value: 0.014395536270285988 and parameters: {'topK': 2225, 'shrink': 2126, 'similarity': 'dice', 'normalize': True, 'feature_weighting': 'none'}. Best is trial 0 with value: 0.02797788230584483.\n"
     ]
    },
    {
     "name": "stdout",
     "output_type": "stream",
     "text": [
      "ItemKNNCFRecommender: URM Detected 463 ( 3.7%) users with no interactions.\n",
      "ItemKNNCFRecommender: URM Detected 316 ( 1.4%) items with no interactions.\n",
      "Similarity column 22222 (100.0%), 4243.42 column/sec. Elapsed time 5.24 sec\n",
      "EvaluatorHoldout: Processed 9992 (100.0%) in 14.87 sec. Users per second: 672\n"
     ]
    },
    {
     "name": "stderr",
     "output_type": "stream",
     "text": [
      "[I 2023-11-22 13:45:44,724] Trial 23 finished with value: 0.02191383662485547 and parameters: {'topK': 925, 'shrink': 68, 'similarity': 'jaccard', 'normalize': True, 'feature_weighting': 'none'}. Best is trial 0 with value: 0.02797788230584483.\n"
     ]
    },
    {
     "name": "stdout",
     "output_type": "stream",
     "text": [
      "ItemKNNCFRecommender: URM Detected 463 ( 3.7%) users with no interactions.\n",
      "ItemKNNCFRecommender: URM Detected 316 ( 1.4%) items with no interactions.\n",
      "Similarity column 22222 (100.0%), 4232.75 column/sec. Elapsed time 5.25 sec\n",
      "EvaluatorHoldout: Processed 9992 (100.0%) in 12.21 sec. Users per second: 818\n"
     ]
    },
    {
     "name": "stderr",
     "output_type": "stream",
     "text": [
      "[I 2023-11-22 13:46:02,699] Trial 24 finished with value: 0.021027385400383885 and parameters: {'topK': 913, 'shrink': 127, 'similarity': 'jaccard', 'normalize': True, 'feature_weighting': 'none'}. Best is trial 0 with value: 0.02797788230584483.\n"
     ]
    },
    {
     "name": "stdout",
     "output_type": "stream",
     "text": [
      "ItemKNNCFRecommender: URM Detected 463 ( 3.7%) users with no interactions.\n",
      "ItemKNNCFRecommender: URM Detected 316 ( 1.4%) items with no interactions.\n",
      "Similarity column 22222 (100.0%), 3982.30 column/sec. Elapsed time 5.58 sec\n",
      "EvaluatorHoldout: Processed 9992 (100.0%) in 15.94 sec. Users per second: 627\n"
     ]
    },
    {
     "name": "stderr",
     "output_type": "stream",
     "text": [
      "[I 2023-11-22 13:46:24,905] Trial 25 finished with value: 0.02231295353743315 and parameters: {'topK': 825, 'shrink': 53, 'similarity': 'jaccard', 'normalize': True, 'feature_weighting': 'none'}. Best is trial 0 with value: 0.02797788230584483.\n"
     ]
    },
    {
     "name": "stdout",
     "output_type": "stream",
     "text": [
      "ItemKNNCFRecommender: URM Detected 463 ( 3.7%) users with no interactions.\n",
      "ItemKNNCFRecommender: URM Detected 316 ( 1.4%) items with no interactions.\n",
      "Similarity column 22222 (100.0%), 3977.21 column/sec. Elapsed time 5.59 sec\n",
      "EvaluatorHoldout: Processed 9992 (100.0%) in 16.22 sec. Users per second: 616\n"
     ]
    },
    {
     "name": "stderr",
     "output_type": "stream",
     "text": [
      "[I 2023-11-22 13:46:48,026] Trial 26 finished with value: 0.017399105792570528 and parameters: {'topK': 4670, 'shrink': 551, 'similarity': 'jaccard', 'normalize': False, 'feature_weighting': 'none'}. Best is trial 0 with value: 0.02797788230584483.\n"
     ]
    },
    {
     "name": "stdout",
     "output_type": "stream",
     "text": [
      "ItemKNNCFRecommender: URM Detected 463 ( 3.7%) users with no interactions.\n",
      "ItemKNNCFRecommender: URM Detected 316 ( 1.4%) items with no interactions.\n",
      "Similarity column 22222 (100.0%), 4038.71 column/sec. Elapsed time 5.50 sec\n",
      "EvaluatorHoldout: Processed 9992 (100.0%) in 15.60 sec. Users per second: 641\n"
     ]
    },
    {
     "name": "stderr",
     "output_type": "stream",
     "text": [
      "[I 2023-11-22 13:47:09,848] Trial 27 finished with value: 0.013121810940816086 and parameters: {'topK': 2217, 'shrink': 6331, 'similarity': 'jaccard', 'normalize': True, 'feature_weighting': 'none'}. Best is trial 0 with value: 0.02797788230584483.\n"
     ]
    },
    {
     "name": "stdout",
     "output_type": "stream",
     "text": [
      "ItemKNNCFRecommender: URM Detected 463 ( 3.7%) users with no interactions.\n",
      "ItemKNNCFRecommender: URM Detected 316 ( 1.4%) items with no interactions.\n",
      "Similarity column 22222 (100.0%), 4193.02 column/sec. Elapsed time 5.30 sec\n",
      "EvaluatorHoldout: Processed 9992 (100.0%) in 15.07 sec. Users per second: 663\n"
     ]
    },
    {
     "name": "stderr",
     "output_type": "stream",
     "text": [
      "[I 2023-11-22 13:47:30,824] Trial 28 finished with value: 0.013348420800132127 and parameters: {'topK': 911, 'shrink': 9877, 'similarity': 'jaccard', 'normalize': True, 'feature_weighting': 'none'}. Best is trial 0 with value: 0.02797788230584483.\n"
     ]
    },
    {
     "name": "stdout",
     "output_type": "stream",
     "text": [
      "ItemKNNCFRecommender: URM Detected 463 ( 3.7%) users with no interactions.\n",
      "ItemKNNCFRecommender: URM Detected 316 ( 1.4%) items with no interactions.\n",
      "Similarity column 22222 (100.0%), 3915.59 column/sec. Elapsed time 5.68 sec\n",
      "EvaluatorHoldout: Processed 9992 (100.0%) in 15.89 sec. Users per second: 629\n"
     ]
    },
    {
     "name": "stderr",
     "output_type": "stream",
     "text": [
      "[I 2023-11-22 13:47:53,491] Trial 29 finished with value: 0.014395711013255048 and parameters: {'topK': 2908, 'shrink': 3391, 'similarity': 'jaccard', 'normalize': False, 'feature_weighting': 'BM25'}. Best is trial 0 with value: 0.02797788230584483.\n"
     ]
    },
    {
     "name": "stdout",
     "output_type": "stream",
     "text": [
      "ItemKNNCFRecommender: URM Detected 463 ( 3.7%) users with no interactions.\n",
      "ItemKNNCFRecommender: URM Detected 316 ( 1.4%) items with no interactions.\n",
      "Similarity column 22222 (100.0%), 4053.09 column/sec. Elapsed time 5.48 sec\n",
      "EvaluatorHoldout: Processed 9992 (100.0%) in 14.55 sec. Users per second: 687\n"
     ]
    },
    {
     "name": "stderr",
     "output_type": "stream",
     "text": [
      "[I 2023-11-22 13:48:14,090] Trial 30 finished with value: 0.017878338384993694 and parameters: {'topK': 779, 'shrink': 4281, 'similarity': 'jaccard', 'normalize': True, 'feature_weighting': 'BM25'}. Best is trial 0 with value: 0.02797788230584483.\n"
     ]
    },
    {
     "name": "stdout",
     "output_type": "stream",
     "text": [
      "ItemKNNCFRecommender: URM Detected 463 ( 3.7%) users with no interactions.\n",
      "ItemKNNCFRecommender: URM Detected 316 ( 1.4%) items with no interactions.\n",
      "Similarity column 22222 (100.0%), 4229.73 column/sec. Elapsed time 5.25 sec\n",
      "EvaluatorHoldout: Processed 9992 (100.0%) in 16.50 sec. Users per second: 606\n"
     ]
    },
    {
     "name": "stderr",
     "output_type": "stream",
     "text": [
      "[I 2023-11-22 13:48:36,725] Trial 31 finished with value: 0.016182040870791836 and parameters: {'topK': 1788, 'shrink': 930, 'similarity': 'jaccard', 'normalize': True, 'feature_weighting': 'none'}. Best is trial 0 with value: 0.02797788230584483.\n"
     ]
    },
    {
     "name": "stdout",
     "output_type": "stream",
     "text": [
      "ItemKNNCFRecommender: URM Detected 463 ( 3.7%) users with no interactions.\n",
      "ItemKNNCFRecommender: URM Detected 316 ( 1.4%) items with no interactions.\n",
      "Similarity column 22222 (100.0%), 3453.81 column/sec. Elapsed time 6.43 sec\n",
      "EvaluatorHoldout: Processed 9992 (100.0%) in 15.09 sec. Users per second: 662\n"
     ]
    },
    {
     "name": "stderr",
     "output_type": "stream",
     "text": [
      "[I 2023-11-22 13:48:58,614] Trial 32 finished with value: 0.014327593026802364 and parameters: {'topK': 561, 'shrink': 1876, 'similarity': 'asymmetric', 'normalize': True, 'feature_weighting': 'none'}. Best is trial 0 with value: 0.02797788230584483.\n"
     ]
    },
    {
     "name": "stdout",
     "output_type": "stream",
     "text": [
      "ItemKNNCFRecommender: URM Detected 463 ( 3.7%) users with no interactions.\n",
      "ItemKNNCFRecommender: URM Detected 316 ( 1.4%) items with no interactions.\n",
      "Similarity column 22222 (100.0%), 3626.66 column/sec. Elapsed time 6.13 sec\n",
      "EvaluatorHoldout: Processed 9992 (100.0%) in 16.41 sec. Users per second: 609\n"
     ]
    },
    {
     "name": "stderr",
     "output_type": "stream",
     "text": [
      "[I 2023-11-22 13:49:22,331] Trial 33 finished with value: 0.022623706107743346 and parameters: {'topK': 5962, 'shrink': 8, 'similarity': 'jaccard', 'normalize': True, 'feature_weighting': 'none'}. Best is trial 0 with value: 0.02797788230584483.\n"
     ]
    },
    {
     "name": "stdout",
     "output_type": "stream",
     "text": [
      "ItemKNNCFRecommender: URM Detected 463 ( 3.7%) users with no interactions.\n",
      "ItemKNNCFRecommender: URM Detected 316 ( 1.4%) items with no interactions.\n",
      "Similarity column 22222 (100.0%), 3918.82 column/sec. Elapsed time 5.67 sec\n",
      "EvaluatorHoldout: Processed 9992 (100.0%) in 15.87 sec. Users per second: 629\n"
     ]
    },
    {
     "name": "stderr",
     "output_type": "stream",
     "text": [
      "[I 2023-11-22 13:49:45,138] Trial 34 finished with value: 0.016569886861870418 and parameters: {'topK': 6363, 'shrink': 734, 'similarity': 'jaccard', 'normalize': False, 'feature_weighting': 'none'}. Best is trial 0 with value: 0.02797788230584483.\n"
     ]
    },
    {
     "name": "stdout",
     "output_type": "stream",
     "text": [
      "ItemKNNCFRecommender: URM Detected 463 ( 3.7%) users with no interactions.\n",
      "ItemKNNCFRecommender: URM Detected 316 ( 1.4%) items with no interactions.\n",
      "Similarity column 22222 (100.0%), 3735.83 column/sec. Elapsed time 5.95 sec\n",
      "EvaluatorHoldout: Processed 9992 (100.0%) in 16.92 sec. Users per second: 590\n"
     ]
    },
    {
     "name": "stderr",
     "output_type": "stream",
     "text": [
      "[I 2023-11-22 13:50:09,190] Trial 35 finished with value: 0.020843885425800873 and parameters: {'topK': 5662, 'shrink': 191, 'similarity': 'jaccard', 'normalize': True, 'feature_weighting': 'BM25'}. Best is trial 0 with value: 0.02797788230584483.\n"
     ]
    },
    {
     "name": "stdout",
     "output_type": "stream",
     "text": [
      "ItemKNNCFRecommender: URM Detected 463 ( 3.7%) users with no interactions.\n",
      "ItemKNNCFRecommender: URM Detected 316 ( 1.4%) items with no interactions.\n",
      "Similarity column 22222 (100.0%), 3690.97 column/sec. Elapsed time 6.02 sec\n",
      "EvaluatorHoldout: Processed 9992 (100.0%) in 16.73 sec. Users per second: 597\n"
     ]
    },
    {
     "name": "stderr",
     "output_type": "stream",
     "text": [
      "[I 2023-11-22 13:50:33,437] Trial 36 finished with value: 0.012839930674698434 and parameters: {'topK': 6200, 'shrink': 8063, 'similarity': 'jaccard', 'normalize': True, 'feature_weighting': 'none'}. Best is trial 0 with value: 0.02797788230584483.\n"
     ]
    },
    {
     "name": "stdout",
     "output_type": "stream",
     "text": [
      "ItemKNNCFRecommender: URM Detected 463 ( 3.7%) users with no interactions.\n",
      "ItemKNNCFRecommender: URM Detected 316 ( 1.4%) items with no interactions.\n",
      "Similarity column 22222 (100.0%), 3093.09 column/sec. Elapsed time 7.18 sec\n",
      "EvaluatorHoldout: Processed 9992 (100.0%) in 16.22 sec. Users per second: 616\n"
     ]
    },
    {
     "name": "stderr",
     "output_type": "stream",
     "text": [
      "[I 2023-11-22 13:50:58,822] Trial 37 finished with value: 0.013876227966500126 and parameters: {'topK': 9700, 'shrink': 941, 'similarity': 'cosine', 'normalize': True, 'feature_weighting': 'none'}. Best is trial 0 with value: 0.02797788230584483.\n"
     ]
    },
    {
     "name": "stdout",
     "output_type": "stream",
     "text": [
      "ItemKNNCFRecommender: URM Detected 463 ( 3.7%) users with no interactions.\n",
      "ItemKNNCFRecommender: URM Detected 316 ( 1.4%) items with no interactions.\n",
      "Similarity column 22222 (100.0%), 3618.51 column/sec. Elapsed time 6.14 sec\n",
      "EvaluatorHoldout: Processed 9992 (100.0%) in 16.13 sec. Users per second: 620\n"
     ]
    },
    {
     "name": "stderr",
     "output_type": "stream",
     "text": [
      "[I 2023-11-22 13:51:22,101] Trial 38 finished with value: 0.01731182167956583 and parameters: {'topK': 4006, 'shrink': 26, 'similarity': 'jaccard', 'normalize': False, 'feature_weighting': 'BM25'}. Best is trial 0 with value: 0.02797788230584483.\n"
     ]
    },
    {
     "name": "stdout",
     "output_type": "stream",
     "text": [
      "ItemKNNCFRecommender: URM Detected 463 ( 3.7%) users with no interactions.\n",
      "ItemKNNCFRecommender: URM Detected 316 ( 1.4%) items with no interactions.\n",
      "Similarity column 22222 (100.0%), 3833.57 column/sec. Elapsed time 5.80 sec\n",
      "EvaluatorHoldout: Processed 9992 (100.0%) in 16.40 sec. Users per second: 609\n"
     ]
    },
    {
     "name": "stderr",
     "output_type": "stream",
     "text": [
      "[I 2023-11-22 13:51:45,246] Trial 39 finished with value: 0.013216887001664762 and parameters: {'topK': 2924, 'shrink': 5633, 'similarity': 'jaccard', 'normalize': True, 'feature_weighting': 'none'}. Best is trial 0 with value: 0.02797788230584483.\n"
     ]
    },
    {
     "name": "stdout",
     "output_type": "stream",
     "text": [
      "ItemKNNCFRecommender: URM Detected 463 ( 3.7%) users with no interactions.\n",
      "ItemKNNCFRecommender: URM Detected 316 ( 1.4%) items with no interactions.\n",
      "Similarity column 22222 (100.0%), 3374.74 column/sec. Elapsed time 6.58 sec\n",
      "EvaluatorHoldout: Processed 9992 (100.0%) in 15.86 sec. Users per second: 630\n"
     ]
    },
    {
     "name": "stderr",
     "output_type": "stream",
     "text": [
      "[I 2023-11-22 13:52:09,005] Trial 40 finished with value: 0.01106858105532039 and parameters: {'topK': 7304, 'shrink': 6893, 'similarity': 'cosine', 'normalize': True, 'feature_weighting': 'BM25'}. Best is trial 0 with value: 0.02797788230584483.\n"
     ]
    },
    {
     "name": "stdout",
     "output_type": "stream",
     "text": [
      "ItemKNNCFRecommender: URM Detected 463 ( 3.7%) users with no interactions.\n",
      "ItemKNNCFRecommender: URM Detected 316 ( 1.4%) items with no interactions.\n",
      "Similarity column 22222 (100.0%), 3997.10 column/sec. Elapsed time 5.56 sec\n",
      "EvaluatorHoldout: Processed 9992 (100.0%) in 14.75 sec. Users per second: 678\n"
     ]
    },
    {
     "name": "stderr",
     "output_type": "stream",
     "text": [
      "[I 2023-11-22 13:52:29,712] Trial 41 finished with value: 0.016144487018185938 and parameters: {'topK': 560, 'shrink': 1573, 'similarity': 'dice', 'normalize': True, 'feature_weighting': 'none'}. Best is trial 0 with value: 0.02797788230584483.\n"
     ]
    },
    {
     "name": "stdout",
     "output_type": "stream",
     "text": [
      "ItemKNNCFRecommender: URM Detected 463 ( 3.7%) users with no interactions.\n",
      "ItemKNNCFRecommender: URM Detected 316 ( 1.4%) items with no interactions.\n",
      "Similarity column 22222 (100.0%), 3547.03 column/sec. Elapsed time 6.26 sec\n",
      "EvaluatorHoldout: Processed 9992 (100.0%) in 15.04 sec. Users per second: 664\n"
     ]
    },
    {
     "name": "stderr",
     "output_type": "stream",
     "text": [
      "[I 2023-11-22 13:52:51,584] Trial 42 finished with value: 0.014706511240738553 and parameters: {'topK': 1454, 'shrink': 562, 'similarity': 'asymmetric', 'normalize': True, 'feature_weighting': 'none'}. Best is trial 0 with value: 0.02797788230584483.\n"
     ]
    },
    {
     "name": "stdout",
     "output_type": "stream",
     "text": [
      "ItemKNNCFRecommender: URM Detected 463 ( 3.7%) users with no interactions.\n",
      "ItemKNNCFRecommender: URM Detected 316 ( 1.4%) items with no interactions.\n",
      "Similarity column 22222 (100.0%), 8622.23 column/sec. Elapsed time 2.58 sec\n",
      "EvaluatorHoldout: Processed 9992 (100.0%) in 13.25 sec. Users per second: 754\n"
     ]
    },
    {
     "name": "stderr",
     "output_type": "stream",
     "text": [
      "[I 2023-11-22 13:53:07,705] Trial 43 finished with value: 0.016874864971342166 and parameters: {'topK': 494, 'shrink': 1281, 'similarity': 'dice', 'normalize': True, 'feature_weighting': 'none'}. Best is trial 0 with value: 0.02797788230584483.\n"
     ]
    },
    {
     "name": "stdout",
     "output_type": "stream",
     "text": [
      "ItemKNNCFRecommender: URM Detected 463 ( 3.7%) users with no interactions.\n",
      "ItemKNNCFRecommender: URM Detected 316 ( 1.4%) items with no interactions.\n",
      "Similarity column 22222 (100.0%), 3895.84 column/sec. Elapsed time 5.70 sec\n",
      "EvaluatorHoldout: Processed 9992 (100.0%) in 16.26 sec. Users per second: 614\n"
     ]
    },
    {
     "name": "stderr",
     "output_type": "stream",
     "text": [
      "[I 2023-11-22 13:53:30,781] Trial 44 finished with value: 0.021774816678739768 and parameters: {'topK': 5748, 'shrink': 3, 'similarity': 'jaccard', 'normalize': True, 'feature_weighting': 'none'}. Best is trial 0 with value: 0.02797788230584483.\n"
     ]
    },
    {
     "name": "stdout",
     "output_type": "stream",
     "text": [
      "ItemKNNCFRecommender: URM Detected 463 ( 3.7%) users with no interactions.\n",
      "ItemKNNCFRecommender: URM Detected 316 ( 1.4%) items with no interactions.\n",
      "Similarity column 22222 (100.0%), 3670.81 column/sec. Elapsed time 6.05 sec\n",
      "EvaluatorHoldout: Processed 9992 (100.0%) in 16.18 sec. Users per second: 618\n"
     ]
    },
    {
     "name": "stderr",
     "output_type": "stream",
     "text": [
      "[I 2023-11-22 13:53:54,171] Trial 45 finished with value: 0.01738436384027852 and parameters: {'topK': 5937, 'shrink': 564, 'similarity': 'jaccard', 'normalize': True, 'feature_weighting': 'none'}. Best is trial 0 with value: 0.02797788230584483.\n"
     ]
    },
    {
     "name": "stdout",
     "output_type": "stream",
     "text": [
      "ItemKNNCFRecommender: URM Detected 463 ( 3.7%) users with no interactions.\n",
      "ItemKNNCFRecommender: URM Detected 316 ( 1.4%) items with no interactions.\n",
      "Similarity column 22222 (100.0%), 3818.37 column/sec. Elapsed time 5.82 sec\n",
      "EvaluatorHoldout: Processed 9992 (100.0%) in 16.11 sec. Users per second: 620\n"
     ]
    },
    {
     "name": "stderr",
     "output_type": "stream",
     "text": [
      "[I 2023-11-22 13:54:17,452] Trial 46 finished with value: 0.013008787982767112 and parameters: {'topK': 7518, 'shrink': 7863, 'similarity': 'jaccard', 'normalize': True, 'feature_weighting': 'none'}. Best is trial 0 with value: 0.02797788230584483.\n"
     ]
    },
    {
     "name": "stdout",
     "output_type": "stream",
     "text": [
      "ItemKNNCFRecommender: URM Detected 463 ( 3.7%) users with no interactions.\n",
      "ItemKNNCFRecommender: URM Detected 316 ( 1.4%) items with no interactions.\n",
      "Similarity column 22222 (100.0%), 3937.01 column/sec. Elapsed time 5.64 sec\n",
      "EvaluatorHoldout: Processed 9992 (100.0%) in 15.96 sec. Users per second: 626\n"
     ]
    },
    {
     "name": "stderr",
     "output_type": "stream",
     "text": [
      "[I 2023-11-22 13:54:40,084] Trial 47 finished with value: 0.022596374718822677 and parameters: {'topK': 5441, 'shrink': 8, 'similarity': 'jaccard', 'normalize': True, 'feature_weighting': 'none'}. Best is trial 0 with value: 0.02797788230584483.\n"
     ]
    },
    {
     "name": "stdout",
     "output_type": "stream",
     "text": [
      "ItemKNNCFRecommender: URM Detected 463 ( 3.7%) users with no interactions.\n",
      "ItemKNNCFRecommender: URM Detected 316 ( 1.4%) items with no interactions.\n",
      "Similarity column 22222 (100.0%), 4156.57 column/sec. Elapsed time 5.35 sec\n",
      "EvaluatorHoldout: Processed 9992 (100.0%) in 16.29 sec. Users per second: 613\n"
     ]
    },
    {
     "name": "stderr",
     "output_type": "stream",
     "text": [
      "[I 2023-11-22 13:55:02,726] Trial 48 finished with value: 0.014854034020867447 and parameters: {'topK': 4484, 'shrink': 2175, 'similarity': 'jaccard', 'normalize': True, 'feature_weighting': 'BM25'}. Best is trial 0 with value: 0.02797788230584483.\n"
     ]
    },
    {
     "name": "stdout",
     "output_type": "stream",
     "text": [
      "ItemKNNCFRecommender: URM Detected 463 ( 3.7%) users with no interactions.\n",
      "ItemKNNCFRecommender: URM Detected 316 ( 1.4%) items with no interactions.\n",
      "Similarity column 22222 (100.0%), 3262.53 column/sec. Elapsed time 6.81 sec\n",
      "EvaluatorHoldout: Processed 9992 (100.0%) in 15.83 sec. Users per second: 631\n"
     ]
    },
    {
     "name": "stderr",
     "output_type": "stream",
     "text": [
      "[I 2023-11-22 13:55:26,668] Trial 49 finished with value: 0.015421785841371464 and parameters: {'topK': 6813, 'shrink': 1195, 'similarity': 'tversky', 'normalize': False, 'feature_weighting': 'TF-IDF'}. Best is trial 0 with value: 0.02797788230584483.\n"
     ]
    },
    {
     "name": "stdout",
     "output_type": "stream",
     "text": [
      "ItemKNNCFRecommender: URM Detected 463 ( 3.7%) users with no interactions.\n",
      "ItemKNNCFRecommender: URM Detected 316 ( 1.4%) items with no interactions.\n",
      "Similarity column 22222 (100.0%), 3540.05 column/sec. Elapsed time 6.28 sec\n",
      "EvaluatorHoldout: Processed 9992 (100.0%) in 16.76 sec. Users per second: 596\n"
     ]
    },
    {
     "name": "stderr",
     "output_type": "stream",
     "text": [
      "[I 2023-11-22 13:55:50,735] Trial 50 finished with value: 0.012462033118558292 and parameters: {'topK': 3692, 'shrink': 8484, 'similarity': 'cosine', 'normalize': True, 'feature_weighting': 'none'}. Best is trial 0 with value: 0.02797788230584483.\n"
     ]
    },
    {
     "name": "stdout",
     "output_type": "stream",
     "text": [
      "ItemKNNCFRecommender: URM Detected 463 ( 3.7%) users with no interactions.\n",
      "ItemKNNCFRecommender: URM Detected 316 ( 1.4%) items with no interactions.\n",
      "Similarity column 22222 (100.0%), 3744.63 column/sec. Elapsed time 5.93 sec\n",
      "EvaluatorHoldout: Processed 9992 (100.0%) in 16.87 sec. Users per second: 592\n"
     ]
    },
    {
     "name": "stderr",
     "output_type": "stream",
     "text": [
      "[I 2023-11-22 13:56:14,837] Trial 51 finished with value: 0.018396407602272305 and parameters: {'topK': 5388, 'shrink': 378, 'similarity': 'jaccard', 'normalize': True, 'feature_weighting': 'none'}. Best is trial 0 with value: 0.02797788230584483.\n"
     ]
    },
    {
     "name": "stdout",
     "output_type": "stream",
     "text": [
      "ItemKNNCFRecommender: URM Detected 463 ( 3.7%) users with no interactions.\n",
      "ItemKNNCFRecommender: URM Detected 316 ( 1.4%) items with no interactions.\n",
      "Similarity column 22222 (100.0%), 4073.77 column/sec. Elapsed time 5.45 sec\n",
      "EvaluatorHoldout: Processed 9992 (100.0%) in 16.12 sec. Users per second: 620\n"
     ]
    },
    {
     "name": "stderr",
     "output_type": "stream",
     "text": [
      "[I 2023-11-22 13:56:37,589] Trial 52 finished with value: 0.02251208506487737 and parameters: {'topK': 5161, 'shrink': 44, 'similarity': 'jaccard', 'normalize': True, 'feature_weighting': 'none'}. Best is trial 0 with value: 0.02797788230584483.\n"
     ]
    },
    {
     "name": "stdout",
     "output_type": "stream",
     "text": [
      "ItemKNNCFRecommender: URM Detected 463 ( 3.7%) users with no interactions.\n",
      "ItemKNNCFRecommender: URM Detected 316 ( 1.4%) items with no interactions.\n",
      "Similarity column 22222 (100.0%), 3466.54 column/sec. Elapsed time 6.41 sec\n",
      "EvaluatorHoldout: Processed 9992 (100.0%) in 16.59 sec. Users per second: 602\n"
     ]
    },
    {
     "name": "stderr",
     "output_type": "stream",
     "text": [
      "[I 2023-11-22 13:57:01,759] Trial 53 finished with value: 0.015852924403014435 and parameters: {'topK': 5144, 'shrink': 959, 'similarity': 'jaccard', 'normalize': True, 'feature_weighting': 'none'}. Best is trial 0 with value: 0.02797788230584483.\n"
     ]
    },
    {
     "name": "stdout",
     "output_type": "stream",
     "text": [
      "ItemKNNCFRecommender: URM Detected 463 ( 3.7%) users with no interactions.\n",
      "ItemKNNCFRecommender: URM Detected 316 ( 1.4%) items with no interactions.\n",
      "Similarity column 22222 (100.0%), 3549.74 column/sec. Elapsed time 6.26 sec\n",
      "EvaluatorHoldout: Processed 9992 (100.0%) in 15.64 sec. Users per second: 639\n"
     ]
    },
    {
     "name": "stderr",
     "output_type": "stream",
     "text": [
      "[I 2023-11-22 13:57:24,717] Trial 54 finished with value: 0.017695263353539985 and parameters: {'topK': 4570, 'shrink': 497, 'similarity': 'tversky', 'normalize': True, 'feature_weighting': 'none'}. Best is trial 0 with value: 0.02797788230584483.\n"
     ]
    },
    {
     "name": "stdout",
     "output_type": "stream",
     "text": [
      "ItemKNNCFRecommender: URM Detected 463 ( 3.7%) users with no interactions.\n",
      "ItemKNNCFRecommender: URM Detected 316 ( 1.4%) items with no interactions.\n",
      "Similarity column 22222 (100.0%), 3640.47 column/sec. Elapsed time 6.10 sec\n",
      "EvaluatorHoldout: Processed 9992 (100.0%) in 15.68 sec. Users per second: 637\n"
     ]
    },
    {
     "name": "stderr",
     "output_type": "stream",
     "text": [
      "[I 2023-11-22 13:57:47,955] Trial 55 finished with value: 0.01293898610952248 and parameters: {'topK': 6761, 'shrink': 7350, 'similarity': 'jaccard', 'normalize': True, 'feature_weighting': 'none'}. Best is trial 0 with value: 0.02797788230584483.\n"
     ]
    },
    {
     "name": "stdout",
     "output_type": "stream",
     "text": [
      "ItemKNNCFRecommender: URM Detected 463 ( 3.7%) users with no interactions.\n",
      "ItemKNNCFRecommender: URM Detected 316 ( 1.4%) items with no interactions.\n",
      "Similarity column 22222 (100.0%), 3415.40 column/sec. Elapsed time 6.51 sec\n",
      "EvaluatorHoldout: Processed 9992 (100.0%) in 16.17 sec. Users per second: 618\n"
     ]
    },
    {
     "name": "stderr",
     "output_type": "stream",
     "text": [
      "[I 2023-11-22 13:58:11,724] Trial 56 finished with value: 0.01949903573652572 and parameters: {'topK': 4249, 'shrink': 2380, 'similarity': 'asymmetric', 'normalize': True, 'feature_weighting': 'TF-IDF'}. Best is trial 0 with value: 0.02797788230584483.\n"
     ]
    },
    {
     "name": "stdout",
     "output_type": "stream",
     "text": [
      "ItemKNNCFRecommender: URM Detected 463 ( 3.7%) users with no interactions.\n",
      "ItemKNNCFRecommender: URM Detected 316 ( 1.4%) items with no interactions.\n",
      "Similarity column 22222 (100.0%), 3707.48 column/sec. Elapsed time 5.99 sec\n",
      "EvaluatorHoldout: Processed 9992 (100.0%) in 15.72 sec. Users per second: 636\n"
     ]
    },
    {
     "name": "stderr",
     "output_type": "stream",
     "text": [
      "[I 2023-11-22 13:58:34,824] Trial 57 finished with value: 0.01343984314435671 and parameters: {'topK': 5371, 'shrink': 5302, 'similarity': 'tversky', 'normalize': True, 'feature_weighting': 'BM25'}. Best is trial 0 with value: 0.02797788230584483.\n"
     ]
    },
    {
     "name": "stdout",
     "output_type": "stream",
     "text": [
      "ItemKNNCFRecommender: URM Detected 463 ( 3.7%) users with no interactions.\n",
      "ItemKNNCFRecommender: URM Detected 316 ( 1.4%) items with no interactions.\n",
      "Similarity column 22222 (100.0%), 3642.11 column/sec. Elapsed time 6.10 sec\n",
      "EvaluatorHoldout: Processed 9992 (100.0%) in 15.55 sec. Users per second: 643\n"
     ]
    },
    {
     "name": "stderr",
     "output_type": "stream",
     "text": [
      "[I 2023-11-22 13:58:57,555] Trial 58 finished with value: 0.014913780230533571 and parameters: {'topK': 3446, 'shrink': 1605, 'similarity': 'jaccard', 'normalize': True, 'feature_weighting': 'none'}. Best is trial 0 with value: 0.02797788230584483.\n"
     ]
    },
    {
     "name": "stdout",
     "output_type": "stream",
     "text": [
      "ItemKNNCFRecommender: URM Detected 463 ( 3.7%) users with no interactions.\n",
      "ItemKNNCFRecommender: URM Detected 316 ( 1.4%) items with no interactions.\n",
      "Similarity column 22222 (100.0%), 4022.13 column/sec. Elapsed time 5.52 sec\n",
      "EvaluatorHoldout: Processed 9992 (100.0%) in 15.73 sec. Users per second: 635\n"
     ]
    },
    {
     "name": "stderr",
     "output_type": "stream",
     "text": [
      "[I 2023-11-22 13:59:20,232] Trial 59 finished with value: 0.012953513604534351 and parameters: {'topK': 6144, 'shrink': 6598, 'similarity': 'jaccard', 'normalize': True, 'feature_weighting': 'none'}. Best is trial 0 with value: 0.02797788230584483.\n"
     ]
    },
    {
     "name": "stdout",
     "output_type": "stream",
     "text": [
      "ItemKNNCFRecommender: URM Detected 463 ( 3.7%) users with no interactions.\n",
      "ItemKNNCFRecommender: URM Detected 316 ( 1.4%) items with no interactions.\n",
      "Similarity column 22222 (100.0%), 4138.48 column/sec. Elapsed time 5.37 sec\n",
      "EvaluatorHoldout: Processed 9992 (100.0%) in 15.92 sec. Users per second: 628\n"
     ]
    },
    {
     "name": "stderr",
     "output_type": "stream",
     "text": [
      "[I 2023-11-22 13:59:42,339] Trial 60 finished with value: 0.014644572801097983 and parameters: {'topK': 1866, 'shrink': 6038, 'similarity': 'jaccard', 'normalize': True, 'feature_weighting': 'BM25'}. Best is trial 0 with value: 0.02797788230584483.\n"
     ]
    },
    {
     "name": "stdout",
     "output_type": "stream",
     "text": [
      "ItemKNNCFRecommender: URM Detected 463 ( 3.7%) users with no interactions.\n",
      "ItemKNNCFRecommender: URM Detected 316 ( 1.4%) items with no interactions.\n",
      "Similarity column 22222 (100.0%), 3997.94 column/sec. Elapsed time 5.56 sec\n",
      "EvaluatorHoldout: Processed 9992 (100.0%) in 16.43 sec. Users per second: 608\n"
     ]
    },
    {
     "name": "stderr",
     "output_type": "stream",
     "text": [
      "[I 2023-11-22 14:00:05,605] Trial 61 finished with value: 0.02307679476914868 and parameters: {'topK': 5691, 'shrink': 16, 'similarity': 'jaccard', 'normalize': True, 'feature_weighting': 'none'}. Best is trial 0 with value: 0.02797788230584483.\n"
     ]
    },
    {
     "name": "stdout",
     "output_type": "stream",
     "text": [
      "ItemKNNCFRecommender: URM Detected 463 ( 3.7%) users with no interactions.\n",
      "ItemKNNCFRecommender: URM Detected 316 ( 1.4%) items with no interactions.\n",
      "Similarity column 22222 (100.0%), 3781.75 column/sec. Elapsed time 5.88 sec\n",
      "EvaluatorHoldout: Processed 9992 (100.0%) in 13.65 sec. Users per second: 732\n"
     ]
    },
    {
     "name": "stderr",
     "output_type": "stream",
     "text": [
      "[I 2023-11-22 14:00:26,522] Trial 62 finished with value: 0.018368202498506726 and parameters: {'topK': 4856, 'shrink': 377, 'similarity': 'jaccard', 'normalize': True, 'feature_weighting': 'none'}. Best is trial 0 with value: 0.02797788230584483.\n"
     ]
    },
    {
     "name": "stdout",
     "output_type": "stream",
     "text": [
      "ItemKNNCFRecommender: URM Detected 463 ( 3.7%) users with no interactions.\n",
      "ItemKNNCFRecommender: URM Detected 316 ( 1.4%) items with no interactions.\n",
      "Similarity column 22222 (100.0%), 4272.89 column/sec. Elapsed time 5.20 sec\n",
      "EvaluatorHoldout: Processed 9992 (100.0%) in 16.55 sec. Users per second: 604\n"
     ]
    },
    {
     "name": "stderr",
     "output_type": "stream",
     "text": [
      "[I 2023-11-22 14:00:49,402] Trial 63 finished with value: 0.01633281625300237 and parameters: {'topK': 6524, 'shrink': 808, 'similarity': 'jaccard', 'normalize': True, 'feature_weighting': 'none'}. Best is trial 0 with value: 0.02797788230584483.\n"
     ]
    },
    {
     "name": "stdout",
     "output_type": "stream",
     "text": [
      "ItemKNNCFRecommender: URM Detected 463 ( 3.7%) users with no interactions.\n",
      "ItemKNNCFRecommender: URM Detected 316 ( 1.4%) items with no interactions.\n",
      "Similarity column 22222 (100.0%), 3828.57 column/sec. Elapsed time 5.80 sec\n",
      "EvaluatorHoldout: Processed 9992 (100.0%) in 15.33 sec. Users per second: 652\n"
     ]
    },
    {
     "name": "stderr",
     "output_type": "stream",
     "text": [
      "[I 2023-11-22 14:01:11,619] Trial 64 finished with value: 0.02273956466760716 and parameters: {'topK': 5210, 'shrink': 35, 'similarity': 'jaccard', 'normalize': True, 'feature_weighting': 'none'}. Best is trial 0 with value: 0.02797788230584483.\n"
     ]
    },
    {
     "name": "stdout",
     "output_type": "stream",
     "text": [
      "ItemKNNCFRecommender: URM Detected 463 ( 3.7%) users with no interactions.\n",
      "ItemKNNCFRecommender: URM Detected 316 ( 1.4%) items with no interactions.\n",
      "Similarity column 22222 (100.0%), 3418.09 column/sec. Elapsed time 6.50 sec\n",
      "EvaluatorHoldout: Processed 9992 (100.0%) in 16.60 sec. Users per second: 602\n"
     ]
    },
    {
     "name": "stderr",
     "output_type": "stream",
     "text": [
      "[I 2023-11-22 14:01:35,811] Trial 65 finished with value: 0.015361026916771462 and parameters: {'topK': 5454, 'shrink': 1210, 'similarity': 'tversky', 'normalize': True, 'feature_weighting': 'none'}. Best is trial 0 with value: 0.02797788230584483.\n"
     ]
    },
    {
     "name": "stdout",
     "output_type": "stream",
     "text": [
      "ItemKNNCFRecommender: URM Detected 463 ( 3.7%) users with no interactions.\n",
      "ItemKNNCFRecommender: URM Detected 316 ( 1.4%) items with no interactions.\n",
      "Similarity column 22222 (100.0%), 3949.50 column/sec. Elapsed time 5.63 sec\n",
      "EvaluatorHoldout: Processed 9992 (100.0%) in 16.73 sec. Users per second: 597\n"
     ]
    },
    {
     "name": "stderr",
     "output_type": "stream",
     "text": [
      "[I 2023-11-22 14:01:59,300] Trial 66 finished with value: 0.01894252306607192 and parameters: {'topK': 5947, 'shrink': 307, 'similarity': 'jaccard', 'normalize': False, 'feature_weighting': 'TF-IDF'}. Best is trial 0 with value: 0.02797788230584483.\n"
     ]
    },
    {
     "name": "stdout",
     "output_type": "stream",
     "text": [
      "ItemKNNCFRecommender: URM Detected 463 ( 3.7%) users with no interactions.\n",
      "ItemKNNCFRecommender: URM Detected 316 ( 1.4%) items with no interactions.\n",
      "Similarity column 22222 (100.0%), 4066.80 column/sec. Elapsed time 5.46 sec\n",
      "EvaluatorHoldout: Processed 9992 (100.0%) in 15.86 sec. Users per second: 630\n"
     ]
    },
    {
     "name": "stderr",
     "output_type": "stream",
     "text": [
      "[I 2023-11-22 14:02:21,613] Trial 67 finished with value: 0.016570331662155095 and parameters: {'topK': 5151, 'shrink': 736, 'similarity': 'jaccard', 'normalize': True, 'feature_weighting': 'none'}. Best is trial 0 with value: 0.02797788230584483.\n"
     ]
    },
    {
     "name": "stdout",
     "output_type": "stream",
     "text": [
      "ItemKNNCFRecommender: URM Detected 463 ( 3.7%) users with no interactions.\n",
      "ItemKNNCFRecommender: URM Detected 316 ( 1.4%) items with no interactions.\n",
      "Similarity column 22222 (100.0%), 3509.46 column/sec. Elapsed time 6.33 sec\n",
      "EvaluatorHoldout: Processed 9992 (100.0%) in 16.00 sec. Users per second: 624\n"
     ]
    },
    {
     "name": "stderr",
     "output_type": "stream",
     "text": [
      "[I 2023-11-22 14:02:45,624] Trial 68 finished with value: 0.014848696417451353 and parameters: {'topK': 8430, 'shrink': 1821, 'similarity': 'jaccard', 'normalize': True, 'feature_weighting': 'none'}. Best is trial 0 with value: 0.02797788230584483.\n"
     ]
    },
    {
     "name": "stdout",
     "output_type": "stream",
     "text": [
      "ItemKNNCFRecommender: URM Detected 463 ( 3.7%) users with no interactions.\n",
      "ItemKNNCFRecommender: URM Detected 316 ( 1.4%) items with no interactions.\n",
      "Similarity column 22222 (100.0%), 3242.41 column/sec. Elapsed time 6.85 sec\n",
      "EvaluatorHoldout: Processed 9992 (100.0%) in 15.74 sec. Users per second: 635\n"
     ]
    },
    {
     "name": "stderr",
     "output_type": "stream",
     "text": [
      "[I 2023-11-22 14:03:09,723] Trial 69 finished with value: 0.021787553058319694 and parameters: {'topK': 6998, 'shrink': 80, 'similarity': 'tversky', 'normalize': True, 'feature_weighting': 'none'}. Best is trial 0 with value: 0.02797788230584483.\n"
     ]
    },
    {
     "name": "stdout",
     "output_type": "stream",
     "text": [
      "ItemKNNCFRecommender: URM Detected 463 ( 3.7%) users with no interactions.\n",
      "ItemKNNCFRecommender: URM Detected 316 ( 1.4%) items with no interactions.\n",
      "Similarity column 22222 (100.0%), 3584.47 column/sec. Elapsed time 6.20 sec\n",
      "EvaluatorHoldout: Processed 9992 (100.0%) in 15.91 sec. Users per second: 628\n"
     ]
    },
    {
     "name": "stderr",
     "output_type": "stream",
     "text": [
      "[I 2023-11-22 14:03:33,128] Trial 70 finished with value: 0.010985570202193446 and parameters: {'topK': 4899, 'shrink': 1091, 'similarity': 'cosine', 'normalize': True, 'feature_weighting': 'BM25'}. Best is trial 0 with value: 0.02797788230584483.\n"
     ]
    },
    {
     "name": "stdout",
     "output_type": "stream",
     "text": [
      "ItemKNNCFRecommender: URM Detected 463 ( 3.7%) users with no interactions.\n",
      "ItemKNNCFRecommender: URM Detected 316 ( 1.4%) items with no interactions.\n",
      "Similarity column 22222 (100.0%), 3798.01 column/sec. Elapsed time 5.85 sec\n",
      "EvaluatorHoldout: Processed 9992 (100.0%) in 16.39 sec. Users per second: 610\n"
     ]
    },
    {
     "name": "stderr",
     "output_type": "stream",
     "text": [
      "[I 2023-11-22 14:03:56,509] Trial 71 finished with value: 0.023033410855668672 and parameters: {'topK': 4190, 'shrink': 27, 'similarity': 'jaccard', 'normalize': True, 'feature_weighting': 'none'}. Best is trial 0 with value: 0.02797788230584483.\n"
     ]
    },
    {
     "name": "stdout",
     "output_type": "stream",
     "text": [
      "ItemKNNCFRecommender: URM Detected 463 ( 3.7%) users with no interactions.\n",
      "ItemKNNCFRecommender: URM Detected 316 ( 1.4%) items with no interactions.\n",
      "Similarity column 22222 (100.0%), 3765.14 column/sec. Elapsed time 5.90 sec\n",
      "EvaluatorHoldout: Processed 9992 (100.0%) in 16.77 sec. Users per second: 596\n"
     ]
    },
    {
     "name": "stderr",
     "output_type": "stream",
     "text": [
      "[I 2023-11-22 14:04:20,343] Trial 72 finished with value: 0.01875159254387639 and parameters: {'topK': 5696, 'shrink': 332, 'similarity': 'jaccard', 'normalize': True, 'feature_weighting': 'none'}. Best is trial 0 with value: 0.02797788230584483.\n"
     ]
    },
    {
     "name": "stdout",
     "output_type": "stream",
     "text": [
      "ItemKNNCFRecommender: URM Detected 463 ( 3.7%) users with no interactions.\n",
      "ItemKNNCFRecommender: URM Detected 316 ( 1.4%) items with no interactions.\n",
      "Similarity column 22222 (100.0%), 3760.36 column/sec. Elapsed time 5.91 sec\n",
      "EvaluatorHoldout: Processed 9992 (100.0%) in 15.70 sec. Users per second: 636\n"
     ]
    },
    {
     "name": "stderr",
     "output_type": "stream",
     "text": [
      "[I 2023-11-22 14:04:43,080] Trial 73 finished with value: 0.016934357009417034 and parameters: {'topK': 4333, 'shrink': 663, 'similarity': 'jaccard', 'normalize': True, 'feature_weighting': 'none'}. Best is trial 0 with value: 0.02797788230584483.\n"
     ]
    },
    {
     "name": "stdout",
     "output_type": "stream",
     "text": [
      "ItemKNNCFRecommender: URM Detected 463 ( 3.7%) users with no interactions.\n",
      "ItemKNNCFRecommender: URM Detected 316 ( 1.4%) items with no interactions.\n",
      "Similarity column 22222 (100.0%), 3609.96 column/sec. Elapsed time 6.16 sec\n",
      "EvaluatorHoldout: Processed 9992 (100.0%) in 15.63 sec. Users per second: 639\n"
     ]
    },
    {
     "name": "stderr",
     "output_type": "stream",
     "text": [
      "[I 2023-11-22 14:05:06,009] Trial 74 finished with value: 0.013535101891036586 and parameters: {'topK': 6437, 'shrink': 3894, 'similarity': 'jaccard', 'normalize': True, 'feature_weighting': 'none'}. Best is trial 0 with value: 0.02797788230584483.\n"
     ]
    },
    {
     "name": "stdout",
     "output_type": "stream",
     "text": [
      "ItemKNNCFRecommender: URM Detected 463 ( 3.7%) users with no interactions.\n",
      "ItemKNNCFRecommender: URM Detected 316 ( 1.4%) items with no interactions.\n",
      "Similarity column 22222 (100.0%), 3566.66 column/sec. Elapsed time 6.23 sec\n",
      "EvaluatorHoldout: Processed 9992 (100.0%) in 13.59 sec. Users per second: 736\n"
     ]
    },
    {
     "name": "stderr",
     "output_type": "stream",
     "text": [
      "[I 2023-11-22 14:05:26,046] Trial 75 finished with value: 0.021505227991917408 and parameters: {'topK': 279, 'shrink': 44, 'similarity': 'asymmetric', 'normalize': True, 'feature_weighting': 'none'}. Best is trial 0 with value: 0.02797788230584483.\n"
     ]
    },
    {
     "name": "stdout",
     "output_type": "stream",
     "text": [
      "ItemKNNCFRecommender: URM Detected 463 ( 3.7%) users with no interactions.\n",
      "ItemKNNCFRecommender: URM Detected 316 ( 1.4%) items with no interactions.\n",
      "Similarity column 22222 (100.0%), 3990.89 column/sec. Elapsed time 5.57 sec\n",
      "EvaluatorHoldout: Processed 9992 (100.0%) in 15.95 sec. Users per second: 626\n"
     ]
    },
    {
     "name": "stderr",
     "output_type": "stream",
     "text": [
      "[I 2023-11-22 14:05:48,489] Trial 76 finished with value: 0.018696127536950186 and parameters: {'topK': 3205, 'shrink': 336, 'similarity': 'jaccard', 'normalize': True, 'feature_weighting': 'none'}. Best is trial 0 with value: 0.02797788230584483.\n"
     ]
    },
    {
     "name": "stdout",
     "output_type": "stream",
     "text": [
      "ItemKNNCFRecommender: URM Detected 463 ( 3.7%) users with no interactions.\n",
      "ItemKNNCFRecommender: URM Detected 316 ( 1.4%) items with no interactions.\n",
      "Similarity column 22222 (100.0%), 3559.85 column/sec. Elapsed time 6.24 sec\n",
      "EvaluatorHoldout: Processed 9992 (100.0%) in 15.98 sec. Users per second: 625\n"
     ]
    },
    {
     "name": "stderr",
     "output_type": "stream",
     "text": [
      "[I 2023-11-22 14:06:12,017] Trial 77 finished with value: 0.01612488800564256 and parameters: {'topK': 5471, 'shrink': 868, 'similarity': 'jaccard', 'normalize': False, 'feature_weighting': 'none'}. Best is trial 0 with value: 0.02797788230584483.\n"
     ]
    },
    {
     "name": "stdout",
     "output_type": "stream",
     "text": [
      "ItemKNNCFRecommender: URM Detected 463 ( 3.7%) users with no interactions.\n",
      "ItemKNNCFRecommender: URM Detected 316 ( 1.4%) items with no interactions.\n",
      "Similarity column 22222 (100.0%), 4057.04 column/sec. Elapsed time 5.48 sec\n",
      "EvaluatorHoldout: Processed 9992 (100.0%) in 16.36 sec. Users per second: 611\n"
     ]
    },
    {
     "name": "stderr",
     "output_type": "stream",
     "text": [
      "[I 2023-11-22 14:06:35,158] Trial 78 finished with value: 0.017122440015504434 and parameters: {'topK': 3958, 'shrink': 617, 'similarity': 'jaccard', 'normalize': True, 'feature_weighting': 'none'}. Best is trial 0 with value: 0.02797788230584483.\n"
     ]
    },
    {
     "name": "stdout",
     "output_type": "stream",
     "text": [
      "ItemKNNCFRecommender: URM Detected 463 ( 3.7%) users with no interactions.\n",
      "ItemKNNCFRecommender: URM Detected 316 ( 1.4%) items with no interactions.\n",
      "Similarity column 22222 (100.0%), 3761.90 column/sec. Elapsed time 5.91 sec\n",
      "EvaluatorHoldout: Processed 9992 (100.0%) in 16.63 sec. Users per second: 601\n"
     ]
    },
    {
     "name": "stderr",
     "output_type": "stream",
     "text": [
      "[I 2023-11-22 14:06:58,731] Trial 79 finished with value: 0.015884826909146305 and parameters: {'topK': 5989, 'shrink': 1341, 'similarity': 'jaccard', 'normalize': True, 'feature_weighting': 'BM25'}. Best is trial 0 with value: 0.02797788230584483.\n"
     ]
    },
    {
     "name": "stdout",
     "output_type": "stream",
     "text": [
      "ItemKNNCFRecommender: URM Detected 463 ( 3.7%) users with no interactions.\n",
      "ItemKNNCFRecommender: URM Detected 316 ( 1.4%) items with no interactions.\n",
      "Similarity column 22222 (100.0%), 3492.67 column/sec. Elapsed time 6.36 sec\n",
      "EvaluatorHoldout: Processed 9992 (100.0%) in 15.55 sec. Users per second: 643\n"
     ]
    },
    {
     "name": "stderr",
     "output_type": "stream",
     "text": [
      "[I 2023-11-22 14:07:21,695] Trial 80 finished with value: 0.019800880386849178 and parameters: {'topK': 2550, 'shrink': 232, 'similarity': 'tversky', 'normalize': True, 'feature_weighting': 'TF-IDF'}. Best is trial 0 with value: 0.02797788230584483.\n"
     ]
    },
    {
     "name": "stdout",
     "output_type": "stream",
     "text": [
      "ItemKNNCFRecommender: URM Detected 463 ( 3.7%) users with no interactions.\n",
      "ItemKNNCFRecommender: URM Detected 316 ( 1.4%) items with no interactions.\n",
      "Similarity column 22222 (100.0%), 3837.65 column/sec. Elapsed time 5.79 sec\n",
      "EvaluatorHoldout: Processed 9992 (100.0%) in 15.47 sec. Users per second: 646\n"
     ]
    },
    {
     "name": "stderr",
     "output_type": "stream",
     "text": [
      "[I 2023-11-22 14:07:43,491] Trial 81 finished with value: 0.021151746794260858 and parameters: {'topK': 1058, 'shrink': 125, 'similarity': 'jaccard', 'normalize': True, 'feature_weighting': 'none'}. Best is trial 0 with value: 0.02797788230584483.\n"
     ]
    },
    {
     "name": "stdout",
     "output_type": "stream",
     "text": [
      "ItemKNNCFRecommender: URM Detected 463 ( 3.7%) users with no interactions.\n",
      "ItemKNNCFRecommender: URM Detected 316 ( 1.4%) items with no interactions.\n",
      "Similarity column 22222 (100.0%), 4005.71 column/sec. Elapsed time 5.55 sec\n",
      "EvaluatorHoldout: Processed 9992 (100.0%) in 13.61 sec. Users per second: 734\n"
     ]
    },
    {
     "name": "stderr",
     "output_type": "stream",
     "text": [
      "[I 2023-11-22 14:08:03,221] Trial 82 finished with value: 0.01397169322759791 and parameters: {'topK': 1297, 'shrink': 3304, 'similarity': 'jaccard', 'normalize': True, 'feature_weighting': 'none'}. Best is trial 0 with value: 0.02797788230584483.\n"
     ]
    },
    {
     "name": "stdout",
     "output_type": "stream",
     "text": [
      "ItemKNNCFRecommender: URM Detected 463 ( 3.7%) users with no interactions.\n",
      "ItemKNNCFRecommender: URM Detected 316 ( 1.4%) items with no interactions.\n",
      "Similarity column 22222 (100.0%), 7521.25 column/sec. Elapsed time 2.95 sec\n",
      "EvaluatorHoldout: Processed 9992 (100.0%) in 12.69 sec. Users per second: 787\n"
     ]
    },
    {
     "name": "stderr",
     "output_type": "stream",
     "text": [
      "[I 2023-11-22 14:08:19,118] Trial 83 finished with value: 0.024343061750988097 and parameters: {'topK': 381, 'shrink': 4, 'similarity': 'jaccard', 'normalize': True, 'feature_weighting': 'none'}. Best is trial 0 with value: 0.02797788230584483.\n"
     ]
    },
    {
     "name": "stdout",
     "output_type": "stream",
     "text": [
      "ItemKNNCFRecommender: URM Detected 463 ( 3.7%) users with no interactions.\n",
      "ItemKNNCFRecommender: URM Detected 316 ( 1.4%) items with no interactions.\n",
      "Similarity column 22222 (100.0%), 4170.28 column/sec. Elapsed time 5.33 sec\n",
      "EvaluatorHoldout: Processed 9992 (100.0%) in 12.75 sec. Users per second: 784\n"
     ]
    },
    {
     "name": "stderr",
     "output_type": "stream",
     "text": [
      "[I 2023-11-22 14:08:37,551] Trial 84 finished with value: 0.024162337806753382 and parameters: {'topK': 459, 'shrink': 6, 'similarity': 'jaccard', 'normalize': True, 'feature_weighting': 'none'}. Best is trial 0 with value: 0.02797788230584483.\n"
     ]
    },
    {
     "name": "stdout",
     "output_type": "stream",
     "text": [
      "ItemKNNCFRecommender: URM Detected 463 ( 3.7%) users with no interactions.\n",
      "ItemKNNCFRecommender: URM Detected 316 ( 1.4%) items with no interactions.\n",
      "Similarity column 22222 (100.0%), 4413.62 column/sec. Elapsed time 5.03 sec\n",
      "EvaluatorHoldout: Processed 9992 (100.0%) in 12.89 sec. Users per second: 775\n"
     ]
    },
    {
     "name": "stderr",
     "output_type": "stream",
     "text": [
      "[I 2023-11-22 14:08:55,929] Trial 85 finished with value: 0.021866898280529193 and parameters: {'topK': 181, 'shrink': 481, 'similarity': 'jaccard', 'normalize': True, 'feature_weighting': 'none'}. Best is trial 0 with value: 0.02797788230584483.\n"
     ]
    },
    {
     "name": "stdout",
     "output_type": "stream",
     "text": [
      "ItemKNNCFRecommender: URM Detected 463 ( 3.7%) users with no interactions.\n",
      "ItemKNNCFRecommender: URM Detected 316 ( 1.4%) items with no interactions.\n",
      "Similarity column 22222 (100.0%), 4033.44 column/sec. Elapsed time 5.51 sec\n",
      "EvaluatorHoldout: Processed 9992 (100.0%) in 16.10 sec. Users per second: 621\n"
     ]
    },
    {
     "name": "stderr",
     "output_type": "stream",
     "text": [
      "[I 2023-11-22 14:09:18,824] Trial 86 finished with value: 0.015721001404298003 and parameters: {'topK': 5173, 'shrink': 1007, 'similarity': 'jaccard', 'normalize': True, 'feature_weighting': 'none'}. Best is trial 0 with value: 0.02797788230584483.\n"
     ]
    },
    {
     "name": "stdout",
     "output_type": "stream",
     "text": [
      "ItemKNNCFRecommender: URM Detected 463 ( 3.7%) users with no interactions.\n",
      "ItemKNNCFRecommender: URM Detected 316 ( 1.4%) items with no interactions.\n",
      "Similarity column 22222 (100.0%), 3785.83 column/sec. Elapsed time 5.87 sec\n",
      "EvaluatorHoldout: Processed 9992 (100.0%) in 14.59 sec. Users per second: 685\n"
     ]
    },
    {
     "name": "stderr",
     "output_type": "stream",
     "text": [
      "[I 2023-11-22 14:09:39,662] Trial 87 finished with value: 0.018791930369692556 and parameters: {'topK': 395, 'shrink': 712, 'similarity': 'dice', 'normalize': True, 'feature_weighting': 'none'}. Best is trial 0 with value: 0.02797788230584483.\n"
     ]
    },
    {
     "name": "stdout",
     "output_type": "stream",
     "text": [
      "ItemKNNCFRecommender: URM Detected 463 ( 3.7%) users with no interactions.\n",
      "ItemKNNCFRecommender: URM Detected 316 ( 1.4%) items with no interactions.\n",
      "Similarity column 22222 (100.0%), 4138.80 column/sec. Elapsed time 5.37 sec\n",
      "EvaluatorHoldout: Processed 9992 (100.0%) in 14.93 sec. Users per second: 669\n"
     ]
    },
    {
     "name": "stderr",
     "output_type": "stream",
     "text": [
      "[I 2023-11-22 14:10:00,395] Trial 88 finished with value: 0.014370651282931064 and parameters: {'topK': 618, 'shrink': 4821, 'similarity': 'jaccard', 'normalize': True, 'feature_weighting': 'none'}. Best is trial 0 with value: 0.02797788230584483.\n"
     ]
    },
    {
     "name": "stdout",
     "output_type": "stream",
     "text": [
      "ItemKNNCFRecommender: URM Detected 463 ( 3.7%) users with no interactions.\n",
      "ItemKNNCFRecommender: URM Detected 316 ( 1.4%) items with no interactions.\n",
      "Similarity column 22222 (100.0%), 3901.30 column/sec. Elapsed time 5.70 sec\n",
      "EvaluatorHoldout: Processed 9992 (100.0%) in 17.09 sec. Users per second: 585\n"
     ]
    },
    {
     "name": "stderr",
     "output_type": "stream",
     "text": [
      "[I 2023-11-22 14:10:24,328] Trial 89 finished with value: 0.015028296446681117 and parameters: {'topK': 4844, 'shrink': 1423, 'similarity': 'jaccard', 'normalize': False, 'feature_weighting': 'none'}. Best is trial 0 with value: 0.02797788230584483.\n"
     ]
    },
    {
     "name": "stdout",
     "output_type": "stream",
     "text": [
      "ItemKNNCFRecommender: URM Detected 463 ( 3.7%) users with no interactions.\n",
      "ItemKNNCFRecommender: URM Detected 316 ( 1.4%) items with no interactions.\n",
      "Similarity column 22222 (100.0%), 3819.16 column/sec. Elapsed time 5.82 sec\n",
      "EvaluatorHoldout: Processed 9992 (100.0%) in 16.06 sec. Users per second: 622\n"
     ]
    },
    {
     "name": "stderr",
     "output_type": "stream",
     "text": [
      "[I 2023-11-22 14:10:47,332] Trial 90 finished with value: 0.011137600556635718 and parameters: {'topK': 5716, 'shrink': 4281, 'similarity': 'cosine', 'normalize': True, 'feature_weighting': 'BM25'}. Best is trial 0 with value: 0.02797788230584483.\n"
     ]
    },
    {
     "name": "stdout",
     "output_type": "stream",
     "text": [
      "ItemKNNCFRecommender: URM Detected 463 ( 3.7%) users with no interactions.\n",
      "ItemKNNCFRecommender: URM Detected 316 ( 1.4%) items with no interactions.\n",
      "Similarity column 22222 (100.0%), 4231.58 column/sec. Elapsed time 5.25 sec\n",
      "EvaluatorHoldout: Processed 9992 (100.0%) in 15.34 sec. Users per second: 651\n"
     ]
    },
    {
     "name": "stderr",
     "output_type": "stream",
     "text": [
      "[I 2023-11-22 14:11:08,547] Trial 91 finished with value: 0.022694588210250836 and parameters: {'topK': 1173, 'shrink': 39, 'similarity': 'jaccard', 'normalize': True, 'feature_weighting': 'none'}. Best is trial 0 with value: 0.02797788230584483.\n"
     ]
    },
    {
     "name": "stdout",
     "output_type": "stream",
     "text": [
      "ItemKNNCFRecommender: URM Detected 463 ( 3.7%) users with no interactions.\n",
      "ItemKNNCFRecommender: URM Detected 316 ( 1.4%) items with no interactions.\n",
      "Similarity column 22222 (100.0%), 4114.26 column/sec. Elapsed time 5.40 sec\n",
      "EvaluatorHoldout: Processed 9992 (100.0%) in 16.05 sec. Users per second: 623\n"
     ]
    },
    {
     "name": "stderr",
     "output_type": "stream",
     "text": [
      "[I 2023-11-22 14:11:30,607] Trial 92 finished with value: 0.019559655661036755 and parameters: {'topK': 1212, 'shrink': 266, 'similarity': 'jaccard', 'normalize': True, 'feature_weighting': 'none'}. Best is trial 0 with value: 0.02797788230584483.\n"
     ]
    },
    {
     "name": "stdout",
     "output_type": "stream",
     "text": [
      "ItemKNNCFRecommender: URM Detected 463 ( 3.7%) users with no interactions.\n",
      "ItemKNNCFRecommender: URM Detected 316 ( 1.4%) items with no interactions.\n",
      "Similarity column 22222 (100.0%), 3909.36 column/sec. Elapsed time 5.68 sec\n",
      "EvaluatorHoldout: Processed 9992 (100.0%) in 15.41 sec. Users per second: 648\n"
     ]
    },
    {
     "name": "stderr",
     "output_type": "stream",
     "text": [
      "[I 2023-11-22 14:11:52,276] Trial 93 finished with value: 0.018142557696951254 and parameters: {'topK': 772, 'shrink': 527, 'similarity': 'jaccard', 'normalize': True, 'feature_weighting': 'none'}. Best is trial 0 with value: 0.02797788230584483.\n"
     ]
    },
    {
     "name": "stdout",
     "output_type": "stream",
     "text": [
      "ItemKNNCFRecommender: URM Detected 463 ( 3.7%) users with no interactions.\n",
      "ItemKNNCFRecommender: URM Detected 316 ( 1.4%) items with no interactions.\n",
      "Similarity column 22222 (100.0%), 4328.20 column/sec. Elapsed time 5.13 sec\n",
      "EvaluatorHoldout: Processed 9992 (100.0%) in 10.87 sec. Users per second: 919\n"
     ]
    },
    {
     "name": "stderr",
     "output_type": "stream",
     "text": [
      "[I 2023-11-22 14:12:08,560] Trial 94 finished with value: 0.023520050167117796 and parameters: {'topK': 123, 'shrink': 280, 'similarity': 'jaccard', 'normalize': True, 'feature_weighting': 'none'}. Best is trial 0 with value: 0.02797788230584483.\n"
     ]
    },
    {
     "name": "stdout",
     "output_type": "stream",
     "text": [
      "ItemKNNCFRecommender: URM Detected 463 ( 3.7%) users with no interactions.\n",
      "ItemKNNCFRecommender: URM Detected 316 ( 1.4%) items with no interactions.\n",
      "Similarity column 22222 (100.0%), 4264.77 column/sec. Elapsed time 5.21 sec\n",
      "EvaluatorHoldout: Processed 9992 (100.0%) in 10.72 sec. Users per second: 932\n"
     ]
    },
    {
     "name": "stderr",
     "output_type": "stream",
     "text": [
      "[I 2023-11-22 14:12:24,998] Trial 95 finished with value: 0.02604875964263485 and parameters: {'topK': 238, 'shrink': 17, 'similarity': 'jaccard', 'normalize': True, 'feature_weighting': 'none'}. Best is trial 0 with value: 0.02797788230584483.\n"
     ]
    },
    {
     "name": "stdout",
     "output_type": "stream",
     "text": [
      "ItemKNNCFRecommender: URM Detected 463 ( 3.7%) users with no interactions.\n",
      "ItemKNNCFRecommender: URM Detected 316 ( 1.4%) items with no interactions.\n",
      "Similarity column 22222 (100.0%), 3791.91 column/sec. Elapsed time 5.86 sec\n",
      "EvaluatorHoldout: Processed 9992 (100.0%) in 11.06 sec. Users per second: 903\n"
     ]
    },
    {
     "name": "stderr",
     "output_type": "stream",
     "text": [
      "[I 2023-11-22 14:12:42,047] Trial 96 finished with value: 0.022821137862671138 and parameters: {'topK': 27, 'shrink': 387, 'similarity': 'asymmetric', 'normalize': True, 'feature_weighting': 'none'}. Best is trial 0 with value: 0.02797788230584483.\n"
     ]
    },
    {
     "name": "stdout",
     "output_type": "stream",
     "text": [
      "ItemKNNCFRecommender: URM Detected 463 ( 3.7%) users with no interactions.\n",
      "ItemKNNCFRecommender: URM Detected 316 ( 1.4%) items with no interactions.\n",
      "Similarity column 22222 (100.0%), 3627.47 column/sec. Elapsed time 6.13 sec\n",
      "EvaluatorHoldout: Processed 9992 (100.0%) in 12.70 sec. Users per second: 787\n"
     ]
    },
    {
     "name": "stderr",
     "output_type": "stream",
     "text": [
      "[I 2023-11-22 14:13:01,084] Trial 97 finished with value: 0.018403313920978097 and parameters: {'topK': 181, 'shrink': 819, 'similarity': 'asymmetric', 'normalize': True, 'feature_weighting': 'none'}. Best is trial 0 with value: 0.02797788230584483.\n"
     ]
    },
    {
     "name": "stdout",
     "output_type": "stream",
     "text": [
      "ItemKNNCFRecommender: URM Detected 463 ( 3.7%) users with no interactions.\n",
      "ItemKNNCFRecommender: URM Detected 316 ( 1.4%) items with no interactions.\n",
      "Similarity column 22222 (100.0%), 3761.61 column/sec. Elapsed time 5.91 sec\n",
      "EvaluatorHoldout: Processed 9992 (100.0%) in 10.98 sec. Users per second: 910\n"
     ]
    },
    {
     "name": "stderr",
     "output_type": "stream",
     "text": [
      "[I 2023-11-22 14:13:18,077] Trial 98 finished with value: 0.022680934430083767 and parameters: {'topK': 23, 'shrink': 452, 'similarity': 'asymmetric', 'normalize': True, 'feature_weighting': 'none'}. Best is trial 0 with value: 0.02797788230584483.\n"
     ]
    },
    {
     "name": "stdout",
     "output_type": "stream",
     "text": [
      "ItemKNNCFRecommender: URM Detected 463 ( 3.7%) users with no interactions.\n",
      "ItemKNNCFRecommender: URM Detected 316 ( 1.4%) items with no interactions.\n",
      "Similarity column 22222 (100.0%), 3746.62 column/sec. Elapsed time 5.93 sec\n",
      "EvaluatorHoldout: Processed 9992 (100.0%) in 14.07 sec. Users per second: 710\n"
     ]
    },
    {
     "name": "stderr",
     "output_type": "stream",
     "text": [
      "[I 2023-11-22 14:13:38,350] Trial 99 finished with value: 0.017326313431697715 and parameters: {'topK': 432, 'shrink': 279, 'similarity': 'asymmetric', 'normalize': True, 'feature_weighting': 'none'}. Best is trial 0 with value: 0.02797788230584483.\n"
     ]
    }
   ],
   "source": [
    "best_params = {\n",
    "    \"topK\": 22,\n",
    "    \"shrink\": 6431,\n",
    "    \"similarity\": \"tversky\",\n",
    "    \"normalize\": True,\n",
    "    \"feature_weighting\": \"BM25\"\n",
    "}\n",
    "# {\"topK\": 9, \"shrink\": 124, \"similarity\": \"cosine\", \"normalize\": true, \"feature_weighting\": \"TF-IDF\"}\n",
    "# {'topK': 22, 'shrink': 6431, 'similarity': 'tversky', 'normalize': True, 'feature_weighting': 'BM25'}\n",
    "# {'topK': 24, 'shrink': 303, 'similarity': 'cosine', 'normalize': True, 'feature_weighting': 'TF-IDF'}\n",
    "study = op.create_study(direction=\"maximize\")\n",
    "study.enqueue_trial(best_params)\n",
    "study.optimize(objective, n_trials=100)"
   ],
   "metadata": {
    "collapsed": false,
    "ExecuteTime": {
     "end_time": "2023-11-22T13:13:38.358060314Z",
     "start_time": "2023-11-22T12:37:19.781689921Z"
    }
   },
   "id": "c5b8a36d4aed08fc"
  },
  {
   "cell_type": "code",
   "execution_count": 5,
   "outputs": [
    {
     "data": {
      "text/plain": "{'topK': 22,\n 'shrink': 6431,\n 'similarity': 'tversky',\n 'normalize': True,\n 'feature_weighting': 'BM25'}"
     },
     "execution_count": 5,
     "metadata": {},
     "output_type": "execute_result"
    }
   ],
   "source": [
    "study.best_params"
   ],
   "metadata": {
    "collapsed": false,
    "ExecuteTime": {
     "end_time": "2023-11-22T00:51:25.717218516Z",
     "start_time": "2023-11-22T00:51:25.674779836Z"
    }
   },
   "id": "f18968c2188a349a"
  },
  {
   "cell_type": "code",
   "execution_count": 3,
   "outputs": [
    {
     "name": "stdout",
     "output_type": "stream",
     "text": [
      "ItemKNNCFRecommender: URM Detected 196 ( 1.6%) users with no interactions.\n",
      "ItemKNNCFRecommender: URM Detected 111 ( 0.5%) items with no interactions.\n",
      "Similarity column 22222 (100.0%), 8259.52 column/sec. Elapsed time 2.69 sec\n"
     ]
    }
   ],
   "source": [
    "final = model(URM_train_validation)\n",
    "final.fit(**study.best_params)"
   ],
   "metadata": {
    "collapsed": false,
    "ExecuteTime": {
     "end_time": "2023-11-22T12:18:18.791618296Z",
     "start_time": "2023-11-22T12:18:16.047834097Z"
    }
   },
   "id": "7ae12a0ef4bc0baa"
  },
  {
   "cell_type": "code",
   "execution_count": null,
   "outputs": [],
   "source": [
    "from Evaluation.Evaluator import EvaluatorHoldout\n",
    "evaluator_test = EvaluatorHoldout(URM_test, cutoff_list=[10], ignore_users=[])\n",
    "evaluator_test.evaluateRecommender(final)"
   ],
   "metadata": {
    "collapsed": false
   },
   "id": "1a0a3570fbcb348b"
  },
  {
   "cell_type": "code",
   "execution_count": null,
   "outputs": [],
   "source": [
    "MAP = .0446210"
   ],
   "metadata": {
    "collapsed": false
   },
   "id": "3cdf5d82e17bdf89"
  }
 ],
 "metadata": {
  "kernelspec": {
   "display_name": "Python 3",
   "language": "python",
   "name": "python3"
  },
  "language_info": {
   "codemirror_mode": {
    "name": "ipython",
    "version": 2
   },
   "file_extension": ".py",
   "mimetype": "text/x-python",
   "name": "python",
   "nbconvert_exporter": "python",
   "pygments_lexer": "ipython2",
   "version": "2.7.6"
  }
 },
 "nbformat": 4,
 "nbformat_minor": 5
}
