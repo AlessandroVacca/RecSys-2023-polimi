{
 "cells": [
  {
   "cell_type": "code",
   "execution_count": 1,
   "id": "initial_id",
   "metadata": {
    "collapsed": true,
    "ExecuteTime": {
     "end_time": "2023-11-27T14:44:54.027818092Z",
     "start_time": "2023-11-27T14:44:51.295574154Z"
    }
   },
   "outputs": [
    {
     "name": "stdout",
     "output_type": "stream",
     "text": [
      "Warning: 209 (1.65 %) of 12638 users have no train items\n",
      "Warning: 2240 (17.72 %) of 12638 users have no sampled items\n",
      "Warning: 459 (3.63 %) of 12638 users have no train items\n",
      "Warning: 2573 (20.36 %) of 12638 users have no sampled items\n"
     ]
    }
   ],
   "source": [
    "from Data_manager.UserUtils import *\n",
    "from Data_manager.split_functions.split_train_validation_random_holdout import \\\n",
    "    split_train_in_two_percentage_global_sample\n",
    "URM_all = getURM_all()\n",
    "URM_train_validation, URM_test = split_train_in_two_percentage_global_sample(URM_all, train_percentage = 0.80)\n",
    "URM_train, URM_validation = split_train_in_two_percentage_global_sample(URM_train_validation, train_percentage = 0.80)"
   ]
  },
  {
   "cell_type": "code",
   "execution_count": 2,
   "outputs": [
    {
     "name": "stdout",
     "output_type": "stream",
     "text": [
      "EvaluatorHoldout: Ignoring 2573 (20.4%) Users that have less than 1 test interactions\n",
      "EvaluatorHoldout: Ignoring 0 Users\n"
     ]
    }
   ],
   "source": [
    "from Recommenders.KNN.ItemKNNCFRecommender import ItemKNNCFRecommender\n",
    "model = ItemKNNCFRecommender\n",
    "\n",
    "from Evaluation.Evaluator import EvaluatorHoldout\n",
    "evaluator_validation = EvaluatorHoldout(URM_validation, cutoff_list=[10], ignore_users=[])"
   ],
   "metadata": {
    "collapsed": false,
    "ExecuteTime": {
     "end_time": "2023-11-27T14:44:54.039989953Z",
     "start_time": "2023-11-27T14:44:54.023236107Z"
    }
   },
   "id": "8a9fec0ccc4f11c5"
  },
  {
   "cell_type": "code",
   "execution_count": 10,
   "outputs": [],
   "source": [
    "import optuna as op\n",
    "def objective(trial):\n",
    "    topK = trial.suggest_int(\"topK\", 2, 1000)\n",
    "    shrink = trial.suggest_int(\"shrink\", 2, 1000)\n",
    "    similarity = trial.suggest_categorical(\"similarity\", [\"tversky\"])\n",
    "    normalize = trial.suggest_categorical(\"normalize\", [True, False])\n",
    "    feature_weighting = trial.suggest_categorical(\"feature_weighting\", [\"none\", \"BM25\", \"TF-IDF\"])\n",
    "    tversky_alpha = trial.suggest_uniform(\"tversky_alpha\", 0.0, 2.0)\n",
    "    tversky_beta = trial.suggest_uniform(\"tversky_beta\", 0.0, 2.0)\n",
    "    #similarity_args = {\"t_a\": tversky_alpha, \"t_b\": tversky_beta}\n",
    "    \n",
    "    recommender = model(URM_train)\n",
    "    recommender.fit(**trial.params)\n",
    "    \n",
    "    result, _ = evaluator_validation.evaluateRecommender(recommender)\n",
    "    MAP_result = result[\"MAP\"].item()\n",
    "       \n",
    "    return MAP_result"
   ],
   "metadata": {
    "collapsed": false,
    "ExecuteTime": {
     "end_time": "2023-11-27T14:50:12.901266572Z",
     "start_time": "2023-11-27T14:50:12.836369503Z"
    }
   },
   "id": "b826576f6714c764"
  },
  {
   "cell_type": "code",
   "execution_count": 11,
   "outputs": [
    {
     "name": "stderr",
     "output_type": "stream",
     "text": [
      "[I 2023-11-27 15:50:13,356] A new study created in memory with name: no-name-f6f55615-1307-4cd1-a73e-f3d2d8e86383\n",
      "/tmp/ipykernel_16881/1486519147.py:8: FutureWarning: suggest_uniform has been deprecated in v3.0.0. This feature will be removed in v6.0.0. See https://github.com/optuna/optuna/releases/tag/v3.0.0. Use suggest_float instead.\n",
      "  tversky_alpha = trial.suggest_uniform(\"tversky_alpha\", 0.0, 2.0)\n",
      "/tmp/ipykernel_16881/1486519147.py:9: FutureWarning: suggest_uniform has been deprecated in v3.0.0. This feature will be removed in v6.0.0. See https://github.com/optuna/optuna/releases/tag/v3.0.0. Use suggest_float instead.\n",
      "  tversky_beta = trial.suggest_uniform(\"tversky_beta\", 0.0, 2.0)\n"
     ]
    },
    {
     "name": "stdout",
     "output_type": "stream",
     "text": [
      "ItemKNNCFRecommender: URM Detected 459 ( 3.6%) users with no interactions.\n",
      "ItemKNNCFRecommender: URM Detected 322 ( 1.4%) items with no interactions.\n",
      "Similarity column 22222 (100.0%), 9057.14 column/sec. Elapsed time 2.45 sec\n",
      "EvaluatorHoldout: Processed 10065 (100.0%) in 6.09 sec. Users per second: 1651\n"
     ]
    },
    {
     "name": "stderr",
     "output_type": "stream",
     "text": [
      "[I 2023-11-27 15:50:21,980] Trial 0 finished with value: 0.02803554278144449 and parameters: {'topK': 22, 'shrink': 6431, 'similarity': 'tversky', 'normalize': True, 'feature_weighting': 'BM25', 'tversky_alpha': 0.0, 'tversky_beta': 0.0}. Best is trial 0 with value: 0.02803554278144449.\n"
     ]
    },
    {
     "name": "stdout",
     "output_type": "stream",
     "text": [
      "ItemKNNCFRecommender: URM Detected 459 ( 3.6%) users with no interactions.\n",
      "ItemKNNCFRecommender: URM Detected 322 ( 1.4%) items with no interactions.\n",
      "Similarity column 22222 (100.0%), 8638.85 column/sec. Elapsed time 2.57 sec\n",
      "EvaluatorHoldout: Processed 10065 (100.0%) in 7.83 sec. Users per second: 1286\n"
     ]
    },
    {
     "name": "stderr",
     "output_type": "stream",
     "text": [
      "[I 2023-11-27 15:50:32,597] Trial 1 finished with value: 0.021875046325866055 and parameters: {'topK': 478, 'shrink': 308, 'similarity': 'tversky', 'normalize': True, 'feature_weighting': 'TF-IDF', 'tversky_alpha': 1.0957822828477461, 'tversky_beta': 0.9383021209819413}. Best is trial 0 with value: 0.02803554278144449.\n"
     ]
    },
    {
     "name": "stdout",
     "output_type": "stream",
     "text": [
      "ItemKNNCFRecommender: URM Detected 459 ( 3.6%) users with no interactions.\n",
      "ItemKNNCFRecommender: URM Detected 322 ( 1.4%) items with no interactions.\n",
      "Similarity column 22222 (100.0%), 8625.45 column/sec. Elapsed time 2.58 sec\n",
      "EvaluatorHoldout: Processed 10065 (100.0%) in 8.39 sec. Users per second: 1200\n"
     ]
    },
    {
     "name": "stderr",
     "output_type": "stream",
     "text": [
      "[I 2023-11-27 15:50:43,864] Trial 2 finished with value: 0.02156006592072168 and parameters: {'topK': 897, 'shrink': 31, 'similarity': 'tversky', 'normalize': False, 'feature_weighting': 'none', 'tversky_alpha': 1.6989723349236625, 'tversky_beta': 0.532614128079695}. Best is trial 0 with value: 0.02803554278144449.\n"
     ]
    },
    {
     "name": "stdout",
     "output_type": "stream",
     "text": [
      "ItemKNNCFRecommender: URM Detected 459 ( 3.6%) users with no interactions.\n",
      "ItemKNNCFRecommender: URM Detected 322 ( 1.4%) items with no interactions.\n",
      "Similarity column 22222 (100.0%), 8596.94 column/sec. Elapsed time 2.58 sec\n",
      "EvaluatorHoldout: Processed 10065 (100.0%) in 8.45 sec. Users per second: 1192\n"
     ]
    },
    {
     "name": "stderr",
     "output_type": "stream",
     "text": [
      "[I 2023-11-27 15:50:55,234] Trial 3 finished with value: 0.016574957222498184 and parameters: {'topK': 946, 'shrink': 535, 'similarity': 'tversky', 'normalize': False, 'feature_weighting': 'TF-IDF', 'tversky_alpha': 0.41240915632493524, 'tversky_beta': 0.726154576241921}. Best is trial 0 with value: 0.02803554278144449.\n"
     ]
    },
    {
     "name": "stdout",
     "output_type": "stream",
     "text": [
      "ItemKNNCFRecommender: URM Detected 459 ( 3.6%) users with no interactions.\n",
      "ItemKNNCFRecommender: URM Detected 322 ( 1.4%) items with no interactions.\n",
      "Similarity column 22222 (100.0%), 8480.54 column/sec. Elapsed time 2.62 sec\n",
      "EvaluatorHoldout: Processed 10065 (100.0%) in 8.53 sec. Users per second: 1180\n"
     ]
    },
    {
     "name": "stderr",
     "output_type": "stream",
     "text": [
      "[I 2023-11-27 15:51:06,704] Trial 4 finished with value: 0.01830320772124052 and parameters: {'topK': 962, 'shrink': 802, 'similarity': 'tversky', 'normalize': False, 'feature_weighting': 'none', 'tversky_alpha': 1.203998734924234, 'tversky_beta': 1.4939501885642001}. Best is trial 0 with value: 0.02803554278144449.\n"
     ]
    },
    {
     "name": "stdout",
     "output_type": "stream",
     "text": [
      "ItemKNNCFRecommender: URM Detected 459 ( 3.6%) users with no interactions.\n",
      "ItemKNNCFRecommender: URM Detected 322 ( 1.4%) items with no interactions.\n",
      "Similarity column 22222 (100.0%), 8695.67 column/sec. Elapsed time 2.56 sec\n",
      "EvaluatorHoldout: Processed 10065 (100.0%) in 8.11 sec. Users per second: 1241\n"
     ]
    },
    {
     "name": "stderr",
     "output_type": "stream",
     "text": [
      "[I 2023-11-27 15:51:17,638] Trial 5 finished with value: 0.01882903192739258 and parameters: {'topK': 630, 'shrink': 416, 'similarity': 'tversky', 'normalize': True, 'feature_weighting': 'TF-IDF', 'tversky_alpha': 0.6069399183936448, 'tversky_beta': 0.6904224936154377}. Best is trial 0 with value: 0.02803554278144449.\n"
     ]
    },
    {
     "name": "stdout",
     "output_type": "stream",
     "text": [
      "ItemKNNCFRecommender: URM Detected 459 ( 3.6%) users with no interactions.\n",
      "ItemKNNCFRecommender: URM Detected 322 ( 1.4%) items with no interactions.\n",
      "Similarity column 22222 (100.0%), 8865.16 column/sec. Elapsed time 2.51 sec\n",
      "EvaluatorHoldout: Processed 10065 (100.0%) in 6.87 sec. Users per second: 1465\n"
     ]
    },
    {
     "name": "stderr",
     "output_type": "stream",
     "text": [
      "[I 2023-11-27 15:51:27,143] Trial 6 finished with value: 0.026489686088046867 and parameters: {'topK': 204, 'shrink': 501, 'similarity': 'tversky', 'normalize': True, 'feature_weighting': 'BM25', 'tversky_alpha': 1.9030768547223027, 'tversky_beta': 0.8806464683240209}. Best is trial 0 with value: 0.02803554278144449.\n"
     ]
    },
    {
     "name": "stdout",
     "output_type": "stream",
     "text": [
      "ItemKNNCFRecommender: URM Detected 459 ( 3.6%) users with no interactions.\n",
      "ItemKNNCFRecommender: URM Detected 322 ( 1.4%) items with no interactions.\n",
      "Similarity column 22222 (100.0%), 8830.77 column/sec. Elapsed time 2.52 sec\n",
      "EvaluatorHoldout: Processed 10065 (100.0%) in 7.06 sec. Users per second: 1425\n"
     ]
    },
    {
     "name": "stderr",
     "output_type": "stream",
     "text": [
      "[I 2023-11-27 15:51:36,863] Trial 7 finished with value: 0.021916806629921463 and parameters: {'topK': 286, 'shrink': 102, 'similarity': 'tversky', 'normalize': False, 'feature_weighting': 'none', 'tversky_alpha': 0.25623531059974614, 'tversky_beta': 0.3488444010032854}. Best is trial 0 with value: 0.02803554278144449.\n"
     ]
    },
    {
     "name": "stdout",
     "output_type": "stream",
     "text": [
      "ItemKNNCFRecommender: URM Detected 459 ( 3.6%) users with no interactions.\n",
      "ItemKNNCFRecommender: URM Detected 322 ( 1.4%) items with no interactions.\n",
      "Similarity column 22222 (100.0%), 8693.11 column/sec. Elapsed time 2.56 sec\n",
      "EvaluatorHoldout: Processed 10065 (100.0%) in 8.34 sec. Users per second: 1207\n"
     ]
    },
    {
     "name": "stderr",
     "output_type": "stream",
     "text": [
      "[I 2023-11-27 15:51:48,060] Trial 8 finished with value: 0.022943766312618758 and parameters: {'topK': 864, 'shrink': 988, 'similarity': 'tversky', 'normalize': True, 'feature_weighting': 'BM25', 'tversky_alpha': 1.4280337108513814, 'tversky_beta': 1.0627710033541744}. Best is trial 0 with value: 0.02803554278144449.\n"
     ]
    },
    {
     "name": "stdout",
     "output_type": "stream",
     "text": [
      "ItemKNNCFRecommender: URM Detected 459 ( 3.6%) users with no interactions.\n",
      "ItemKNNCFRecommender: URM Detected 322 ( 1.4%) items with no interactions.\n",
      "Similarity column 22222 (100.0%), 8710.93 column/sec. Elapsed time 2.55 sec\n",
      "EvaluatorHoldout: Processed 10065 (100.0%) in 8.07 sec. Users per second: 1247\n"
     ]
    },
    {
     "name": "stderr",
     "output_type": "stream",
     "text": [
      "[I 2023-11-27 15:51:58,921] Trial 9 finished with value: 0.02047707362461465 and parameters: {'topK': 599, 'shrink': 541, 'similarity': 'tversky', 'normalize': True, 'feature_weighting': 'TF-IDF', 'tversky_alpha': 1.4123637989113618, 'tversky_beta': 1.0259046834461547}. Best is trial 0 with value: 0.02803554278144449.\n"
     ]
    },
    {
     "name": "stdout",
     "output_type": "stream",
     "text": [
      "ItemKNNCFRecommender: URM Detected 459 ( 3.6%) users with no interactions.\n",
      "ItemKNNCFRecommender: URM Detected 322 ( 1.4%) items with no interactions.\n",
      "Similarity column 22222 (100.0%), 8997.47 column/sec. Elapsed time 2.47 sec\n",
      "EvaluatorHoldout: Processed 10065 (100.0%) in 5.87 sec. Users per second: 1716\n"
     ]
    },
    {
     "name": "stderr",
     "output_type": "stream",
     "text": [
      "[I 2023-11-27 15:52:07,336] Trial 10 finished with value: 0.028004545848808265 and parameters: {'topK': 31, 'shrink': 998, 'similarity': 'tversky', 'normalize': True, 'feature_weighting': 'BM25', 'tversky_alpha': 0.02699615039218458, 'tversky_beta': 0.12707334629795808}. Best is trial 0 with value: 0.02803554278144449.\n"
     ]
    },
    {
     "name": "stdout",
     "output_type": "stream",
     "text": [
      "ItemKNNCFRecommender: URM Detected 459 ( 3.6%) users with no interactions.\n",
      "ItemKNNCFRecommender: URM Detected 322 ( 1.4%) items with no interactions.\n",
      "Similarity column 22222 (100.0%), 9047.56 column/sec. Elapsed time 2.46 sec\n",
      "EvaluatorHoldout: Processed 10065 (100.0%) in 5.40 sec. Users per second: 1863\n"
     ]
    },
    {
     "name": "stderr",
     "output_type": "stream",
     "text": [
      "[I 2023-11-27 15:52:15,279] Trial 11 finished with value: 0.028006927195451857 and parameters: {'topK': 15, 'shrink': 999, 'similarity': 'tversky', 'normalize': True, 'feature_weighting': 'BM25', 'tversky_alpha': 0.013402544545909327, 'tversky_beta': 0.06588737477558312}. Best is trial 0 with value: 0.02803554278144449.\n"
     ]
    },
    {
     "name": "stdout",
     "output_type": "stream",
     "text": [
      "ItemKNNCFRecommender: URM Detected 459 ( 3.6%) users with no interactions.\n",
      "ItemKNNCFRecommender: URM Detected 322 ( 1.4%) items with no interactions.\n",
      "Similarity column 22222 (100.0%), 9062.97 column/sec. Elapsed time 2.45 sec\n",
      "EvaluatorHoldout: Processed 10065 (100.0%) in 5.42 sec. Users per second: 1859\n"
     ]
    },
    {
     "name": "stderr",
     "output_type": "stream",
     "text": [
      "[I 2023-11-27 15:52:23,223] Trial 12 finished with value: 0.027953078797341168 and parameters: {'topK': 15, 'shrink': 808, 'similarity': 'tversky', 'normalize': True, 'feature_weighting': 'BM25', 'tversky_alpha': 0.0035622303985579076, 'tversky_beta': 0.021147098416999875}. Best is trial 0 with value: 0.02803554278144449.\n"
     ]
    },
    {
     "name": "stdout",
     "output_type": "stream",
     "text": [
      "ItemKNNCFRecommender: URM Detected 459 ( 3.6%) users with no interactions.\n",
      "ItemKNNCFRecommender: URM Detected 322 ( 1.4%) items with no interactions.\n",
      "Similarity column 22222 (100.0%), 8909.32 column/sec. Elapsed time 2.49 sec\n",
      "EvaluatorHoldout: Processed 10065 (100.0%) in 6.97 sec. Users per second: 1443\n"
     ]
    },
    {
     "name": "stderr",
     "output_type": "stream",
     "text": [
      "[I 2023-11-27 15:52:32,830] Trial 13 finished with value: 0.025961590928804137 and parameters: {'topK': 191, 'shrink': 817, 'similarity': 'tversky', 'normalize': True, 'feature_weighting': 'BM25', 'tversky_alpha': 0.7333967435183842, 'tversky_beta': 0.2425125865107286}. Best is trial 0 with value: 0.02803554278144449.\n"
     ]
    },
    {
     "name": "stdout",
     "output_type": "stream",
     "text": [
      "ItemKNNCFRecommender: URM Detected 459 ( 3.6%) users with no interactions.\n",
      "ItemKNNCFRecommender: URM Detected 322 ( 1.4%) items with no interactions.\n",
      "Similarity column 22222 (100.0%), 8710.98 column/sec. Elapsed time 2.55 sec\n",
      "EvaluatorHoldout: Processed 10065 (100.0%) in 7.70 sec. Users per second: 1307\n"
     ]
    },
    {
     "name": "stderr",
     "output_type": "stream",
     "text": [
      "[I 2023-11-27 15:52:43,286] Trial 14 finished with value: 0.021973071858317803 and parameters: {'topK': 356, 'shrink': 1000, 'similarity': 'tversky', 'normalize': True, 'feature_weighting': 'BM25', 'tversky_alpha': 0.2771931481479213, 'tversky_beta': 0.0176064511050252}. Best is trial 0 with value: 0.02803554278144449.\n"
     ]
    },
    {
     "name": "stdout",
     "output_type": "stream",
     "text": [
      "ItemKNNCFRecommender: URM Detected 459 ( 3.6%) users with no interactions.\n",
      "ItemKNNCFRecommender: URM Detected 322 ( 1.4%) items with no interactions.\n",
      "Similarity column 22222 (100.0%), 8850.21 column/sec. Elapsed time 2.51 sec\n",
      "EvaluatorHoldout: Processed 10065 (100.0%) in 6.62 sec. Users per second: 1519\n"
     ]
    },
    {
     "name": "stderr",
     "output_type": "stream",
     "text": [
      "[I 2023-11-27 15:52:52,531] Trial 15 finished with value: 0.027112932604736028 and parameters: {'topK': 111, 'shrink': 714, 'similarity': 'tversky', 'normalize': True, 'feature_weighting': 'BM25', 'tversky_alpha': 0.7051095866285554, 'tversky_beta': 0.39387672536729723}. Best is trial 0 with value: 0.02803554278144449.\n"
     ]
    },
    {
     "name": "stdout",
     "output_type": "stream",
     "text": [
      "ItemKNNCFRecommender: URM Detected 459 ( 3.6%) users with no interactions.\n",
      "ItemKNNCFRecommender: URM Detected 322 ( 1.4%) items with no interactions.\n",
      "Similarity column 22222 (100.0%), 8717.26 column/sec. Elapsed time 2.55 sec\n",
      "EvaluatorHoldout: Processed 10065 (100.0%) in 7.68 sec. Users per second: 1311\n"
     ]
    },
    {
     "name": "stderr",
     "output_type": "stream",
     "text": [
      "[I 2023-11-27 15:53:02,956] Trial 16 finished with value: 0.020418430992201614 and parameters: {'topK': 379, 'shrink': 260, 'similarity': 'tversky', 'normalize': True, 'feature_weighting': 'BM25', 'tversky_alpha': 0.009589311317232469, 'tversky_beta': 0.2250164122746049}. Best is trial 0 with value: 0.02803554278144449.\n"
     ]
    },
    {
     "name": "stdout",
     "output_type": "stream",
     "text": [
      "ItemKNNCFRecommender: URM Detected 459 ( 3.6%) users with no interactions.\n",
      "ItemKNNCFRecommender: URM Detected 322 ( 1.4%) items with no interactions.\n",
      "Similarity column 22222 (100.0%), 8852.88 column/sec. Elapsed time 2.51 sec\n",
      "EvaluatorHoldout: Processed 10065 (100.0%) in 7.12 sec. Users per second: 1413\n"
     ]
    },
    {
     "name": "stderr",
     "output_type": "stream",
     "text": [
      "[I 2023-11-27 15:53:12,727] Trial 17 finished with value: 0.02654257642782245 and parameters: {'topK': 161, 'shrink': 897, 'similarity': 'tversky', 'normalize': True, 'feature_weighting': 'BM25', 'tversky_alpha': 0.8606306378325047, 'tversky_beta': 0.4199239994811357}. Best is trial 0 with value: 0.02803554278144449.\n"
     ]
    },
    {
     "name": "stdout",
     "output_type": "stream",
     "text": [
      "ItemKNNCFRecommender: URM Detected 459 ( 3.6%) users with no interactions.\n",
      "ItemKNNCFRecommender: URM Detected 322 ( 1.4%) items with no interactions.\n",
      "Similarity column 22222 (100.0%), 8655.83 column/sec. Elapsed time 2.57 sec\n",
      "EvaluatorHoldout: Processed 10065 (100.0%) in 6.51 sec. Users per second: 1546\n"
     ]
    },
    {
     "name": "stderr",
     "output_type": "stream",
     "text": [
      "[I 2023-11-27 15:53:21,913] Trial 18 finished with value: 0.0278065431835925 and parameters: {'topK': 73, 'shrink': 656, 'similarity': 'tversky', 'normalize': False, 'feature_weighting': 'BM25', 'tversky_alpha': 0.4300310843387293, 'tversky_beta': 0.2092919060104116}. Best is trial 0 with value: 0.02803554278144449.\n"
     ]
    },
    {
     "name": "stdout",
     "output_type": "stream",
     "text": [
      "ItemKNNCFRecommender: URM Detected 459 ( 3.6%) users with no interactions.\n",
      "ItemKNNCFRecommender: URM Detected 322 ( 1.4%) items with no interactions.\n",
      "Similarity column 22222 (100.0%), 8472.24 column/sec. Elapsed time 2.62 sec\n",
      "EvaluatorHoldout: Processed 10065 (100.0%) in 8.43 sec. Users per second: 1193\n"
     ]
    },
    {
     "name": "stderr",
     "output_type": "stream",
     "text": [
      "[I 2023-11-27 15:53:33,260] Trial 19 finished with value: 0.014504636529226634 and parameters: {'topK': 749, 'shrink': 921, 'similarity': 'tversky', 'normalize': True, 'feature_weighting': 'none', 'tversky_alpha': 0.1824349966853814, 'tversky_beta': 0.006646190172642468}. Best is trial 0 with value: 0.02803554278144449.\n"
     ]
    },
    {
     "name": "stdout",
     "output_type": "stream",
     "text": [
      "ItemKNNCFRecommender: URM Detected 459 ( 3.6%) users with no interactions.\n",
      "ItemKNNCFRecommender: URM Detected 322 ( 1.4%) items with no interactions.\n",
      "Similarity column 22222 (100.0%), 8617.47 column/sec. Elapsed time 2.58 sec\n",
      "EvaluatorHoldout: Processed 10065 (100.0%) in 7.33 sec. Users per second: 1373\n"
     ]
    },
    {
     "name": "stderr",
     "output_type": "stream",
     "text": [
      "[I 2023-11-27 15:53:43,345] Trial 20 finished with value: 0.024941964532128533 and parameters: {'topK': 291, 'shrink': 694, 'similarity': 'tversky', 'normalize': True, 'feature_weighting': 'BM25', 'tversky_alpha': 0.5011463457248949, 'tversky_beta': 1.9597078161260166}. Best is trial 0 with value: 0.02803554278144449.\n"
     ]
    },
    {
     "name": "stdout",
     "output_type": "stream",
     "text": [
      "ItemKNNCFRecommender: URM Detected 459 ( 3.6%) users with no interactions.\n",
      "ItemKNNCFRecommender: URM Detected 322 ( 1.4%) items with no interactions.\n",
      "Similarity column 22222 (100.0%), 9053.76 column/sec. Elapsed time 2.45 sec\n",
      "EvaluatorHoldout: Processed 10065 (100.0%) in 5.59 sec. Users per second: 1801\n"
     ]
    },
    {
     "name": "stderr",
     "output_type": "stream",
     "text": [
      "[I 2023-11-27 15:53:51,476] Trial 21 finished with value: 0.0283755352116009 and parameters: {'topK': 19, 'shrink': 999, 'similarity': 'tversky', 'normalize': True, 'feature_weighting': 'BM25', 'tversky_alpha': 0.14573665412825787, 'tversky_beta': 0.16702360111776526}. Best is trial 21 with value: 0.0283755352116009.\n"
     ]
    },
    {
     "name": "stdout",
     "output_type": "stream",
     "text": [
      "ItemKNNCFRecommender: URM Detected 459 ( 3.6%) users with no interactions.\n",
      "ItemKNNCFRecommender: URM Detected 322 ( 1.4%) items with no interactions.\n",
      "Similarity column 22222 (100.0%), 8756.26 column/sec. Elapsed time 2.54 sec\n",
      "EvaluatorHoldout: Processed 10065 (100.0%) in 6.68 sec. Users per second: 1507\n"
     ]
    },
    {
     "name": "stderr",
     "output_type": "stream",
     "text": [
      "[I 2023-11-27 15:54:00,802] Trial 22 finished with value: 0.025998832982439646 and parameters: {'topK': 113, 'shrink': 606, 'similarity': 'tversky', 'normalize': True, 'feature_weighting': 'BM25', 'tversky_alpha': 0.19078667080356726, 'tversky_beta': 0.1887427476360357}. Best is trial 21 with value: 0.0283755352116009.\n"
     ]
    },
    {
     "name": "stdout",
     "output_type": "stream",
     "text": [
      "ItemKNNCFRecommender: URM Detected 459 ( 3.6%) users with no interactions.\n",
      "ItemKNNCFRecommender: URM Detected 322 ( 1.4%) items with no interactions.\n",
      "Similarity column 22222 (100.0%), 8508.21 column/sec. Elapsed time 2.61 sec\n",
      "EvaluatorHoldout: Processed 10065 (100.0%) in 5.49 sec. Users per second: 1834\n"
     ]
    },
    {
     "name": "stderr",
     "output_type": "stream",
     "text": [
      "[I 2023-11-27 15:54:08,987] Trial 23 finished with value: 0.028377222655911236 and parameters: {'topK': 18, 'shrink': 357, 'similarity': 'tversky', 'normalize': True, 'feature_weighting': 'BM25', 'tversky_alpha': 0.33384597479174133, 'tversky_beta': 0.5090919473599922}. Best is trial 23 with value: 0.028377222655911236.\n"
     ]
    },
    {
     "name": "stdout",
     "output_type": "stream",
     "text": [
      "ItemKNNCFRecommender: URM Detected 459 ( 3.6%) users with no interactions.\n",
      "ItemKNNCFRecommender: URM Detected 322 ( 1.4%) items with no interactions.\n",
      "Similarity column 22222 (100.0%), 8478.96 column/sec. Elapsed time 2.62 sec\n",
      "EvaluatorHoldout: Processed 10065 (100.0%) in 7.33 sec. Users per second: 1373\n"
     ]
    },
    {
     "name": "stderr",
     "output_type": "stream",
     "text": [
      "[I 2023-11-27 15:54:19,109] Trial 24 finished with value: 0.02569910265811906 and parameters: {'topK': 247, 'shrink': 391, 'similarity': 'tversky', 'normalize': True, 'feature_weighting': 'BM25', 'tversky_alpha': 0.3538817756991039, 'tversky_beta': 0.4802418123062211}. Best is trial 23 with value: 0.028377222655911236.\n"
     ]
    },
    {
     "name": "stdout",
     "output_type": "stream",
     "text": [
      "ItemKNNCFRecommender: URM Detected 459 ( 3.6%) users with no interactions.\n",
      "ItemKNNCFRecommender: URM Detected 322 ( 1.4%) items with no interactions.\n",
      "Similarity column 22222 (100.0%), 8835.64 column/sec. Elapsed time 2.52 sec\n",
      "EvaluatorHoldout: Processed 10065 (100.0%) in 6.59 sec. Users per second: 1528\n"
     ]
    },
    {
     "name": "stderr",
     "output_type": "stream",
     "text": [
      "[I 2023-11-27 15:54:28,342] Trial 25 finished with value: 0.02687988392906435 and parameters: {'topK': 130, 'shrink': 206, 'similarity': 'tversky', 'normalize': True, 'feature_weighting': 'BM25', 'tversky_alpha': 0.5595192993533987, 'tversky_beta': 0.30803138643125727}. Best is trial 23 with value: 0.028377222655911236.\n"
     ]
    },
    {
     "name": "stdout",
     "output_type": "stream",
     "text": [
      "ItemKNNCFRecommender: URM Detected 459 ( 3.6%) users with no interactions.\n",
      "ItemKNNCFRecommender: URM Detected 322 ( 1.4%) items with no interactions.\n",
      "Similarity column 22222 (100.0%), 8923.66 column/sec. Elapsed time 2.49 sec\n",
      "EvaluatorHoldout: Processed 10065 (100.0%) in 5.87 sec. Users per second: 1716\n"
     ]
    },
    {
     "name": "stderr",
     "output_type": "stream",
     "text": [
      "[I 2023-11-27 15:54:36,802] Trial 26 finished with value: 0.027195506982392283 and parameters: {'topK': 80, 'shrink': 159, 'similarity': 'tversky', 'normalize': False, 'feature_weighting': 'BM25', 'tversky_alpha': 0.16942220479044315, 'tversky_beta': 0.5623074037679014}. Best is trial 23 with value: 0.028377222655911236.\n"
     ]
    },
    {
     "name": "stdout",
     "output_type": "stream",
     "text": [
      "ItemKNNCFRecommender: URM Detected 459 ( 3.6%) users with no interactions.\n",
      "ItemKNNCFRecommender: URM Detected 322 ( 1.4%) items with no interactions.\n",
      "Similarity column 22222 (100.0%), 8739.27 column/sec. Elapsed time 2.54 sec\n",
      "EvaluatorHoldout: Processed 10065 (100.0%) in 7.81 sec. Users per second: 1289\n"
     ]
    },
    {
     "name": "stderr",
     "output_type": "stream",
     "text": [
      "[I 2023-11-27 15:54:47,369] Trial 27 finished with value: 0.023993124058697926 and parameters: {'topK': 442, 'shrink': 385, 'similarity': 'tversky', 'normalize': True, 'feature_weighting': 'BM25', 'tversky_alpha': 0.38202023007193264, 'tversky_beta': 0.2828012890847565}. Best is trial 23 with value: 0.028377222655911236.\n"
     ]
    },
    {
     "name": "stdout",
     "output_type": "stream",
     "text": [
      "ItemKNNCFRecommender: URM Detected 459 ( 3.6%) users with no interactions.\n",
      "ItemKNNCFRecommender: URM Detected 322 ( 1.4%) items with no interactions.\n",
      "Similarity column 22222 (100.0%), 8786.30 column/sec. Elapsed time 2.53 sec\n",
      "EvaluatorHoldout: Processed 10065 (100.0%) in 7.18 sec. Users per second: 1401\n"
     ]
    },
    {
     "name": "stderr",
     "output_type": "stream",
     "text": [
      "[I 2023-11-27 15:54:57,232] Trial 28 finished with value: 0.0175617257666438 and parameters: {'topK': 219, 'shrink': 890, 'similarity': 'tversky', 'normalize': True, 'feature_weighting': 'TF-IDF', 'tversky_alpha': 0.15229105219245656, 'tversky_beta': 0.11236975776561575}. Best is trial 23 with value: 0.028377222655911236.\n"
     ]
    },
    {
     "name": "stdout",
     "output_type": "stream",
     "text": [
      "ItemKNNCFRecommender: URM Detected 459 ( 3.6%) users with no interactions.\n",
      "ItemKNNCFRecommender: URM Detected 322 ( 1.4%) items with no interactions.\n",
      "Similarity column 22222 (100.0%), 8697.56 column/sec. Elapsed time 2.55 sec\n",
      "EvaluatorHoldout: Processed 10065 (100.0%) in 8.07 sec. Users per second: 1247\n"
     ]
    },
    {
     "name": "stderr",
     "output_type": "stream",
     "text": [
      "[I 2023-11-27 15:55:08,093] Trial 29 finished with value: 0.018188477278641226 and parameters: {'topK': 538, 'shrink': 311, 'similarity': 'tversky', 'normalize': True, 'feature_weighting': 'none', 'tversky_alpha': 0.2979510195282508, 'tversky_beta': 0.3682941855469828}. Best is trial 23 with value: 0.028377222655911236.\n"
     ]
    },
    {
     "name": "stdout",
     "output_type": "stream",
     "text": [
      "ItemKNNCFRecommender: URM Detected 459 ( 3.6%) users with no interactions.\n",
      "ItemKNNCFRecommender: URM Detected 322 ( 1.4%) items with no interactions.\n",
      "Similarity column 22222 (100.0%), 9093.56 column/sec. Elapsed time 2.44 sec\n",
      "EvaluatorHoldout: Processed 10065 (100.0%) in 4.79 sec. Users per second: 2101\n"
     ]
    },
    {
     "name": "stderr",
     "output_type": "stream",
     "text": [
      "[I 2023-11-27 15:55:15,407] Trial 30 finished with value: 0.023560503552306822 and parameters: {'topK': 9, 'shrink': 299, 'similarity': 'tversky', 'normalize': True, 'feature_weighting': 'TF-IDF', 'tversky_alpha': 0.49783093230469944, 'tversky_beta': 0.5800044006430677}. Best is trial 23 with value: 0.028377222655911236.\n"
     ]
    },
    {
     "name": "stdout",
     "output_type": "stream",
     "text": [
      "ItemKNNCFRecommender: URM Detected 459 ( 3.6%) users with no interactions.\n",
      "ItemKNNCFRecommender: URM Detected 322 ( 1.4%) items with no interactions.\n",
      "Similarity column 22222 (100.0%), 9034.78 column/sec. Elapsed time 2.46 sec\n",
      "EvaluatorHoldout: Processed 10065 (100.0%) in 6.18 sec. Users per second: 1628\n"
     ]
    },
    {
     "name": "stderr",
     "output_type": "stream",
     "text": [
      "[I 2023-11-27 15:55:24,139] Trial 31 finished with value: 0.026909709901513285 and parameters: {'topK': 57, 'shrink': 453, 'similarity': 'tversky', 'normalize': True, 'feature_weighting': 'BM25', 'tversky_alpha': 0.04402875148278982, 'tversky_beta': 0.09682672882238925}. Best is trial 23 with value: 0.028377222655911236.\n"
     ]
    },
    {
     "name": "stdout",
     "output_type": "stream",
     "text": [
      "ItemKNNCFRecommender: URM Detected 459 ( 3.6%) users with no interactions.\n",
      "ItemKNNCFRecommender: URM Detected 322 ( 1.4%) items with no interactions.\n",
      "Similarity column 22222 (100.0%), 9074.52 column/sec. Elapsed time 2.45 sec\n",
      "EvaluatorHoldout: Processed 10065 (100.0%) in 5.36 sec. Users per second: 1877\n"
     ]
    },
    {
     "name": "stderr",
     "output_type": "stream",
     "text": [
      "[I 2023-11-27 15:55:32,024] Trial 32 finished with value: 0.02786797325321925 and parameters: {'topK': 14, 'shrink': 605, 'similarity': 'tversky', 'normalize': True, 'feature_weighting': 'BM25', 'tversky_alpha': 0.11831226404318151, 'tversky_beta': 0.0007302679829924441}. Best is trial 23 with value: 0.028377222655911236.\n"
     ]
    },
    {
     "name": "stdout",
     "output_type": "stream",
     "text": [
      "ItemKNNCFRecommender: URM Detected 459 ( 3.6%) users with no interactions.\n",
      "ItemKNNCFRecommender: URM Detected 322 ( 1.4%) items with no interactions.\n",
      "Similarity column 22222 (100.0%), 8926.41 column/sec. Elapsed time 2.49 sec\n",
      "EvaluatorHoldout: Processed 10065 (100.0%) in 6.79 sec. Users per second: 1483\n"
     ]
    },
    {
     "name": "stderr",
     "output_type": "stream",
     "text": [
      "[I 2023-11-27 15:55:41,428] Trial 33 finished with value: 0.0251329966329967 and parameters: {'topK': 146, 'shrink': 932, 'similarity': 'tversky', 'normalize': True, 'feature_weighting': 'BM25', 'tversky_alpha': 0.2700645346663713, 'tversky_beta': 0.1396427407242636}. Best is trial 23 with value: 0.028377222655911236.\n"
     ]
    },
    {
     "name": "stdout",
     "output_type": "stream",
     "text": [
      "ItemKNNCFRecommender: URM Detected 459 ( 3.6%) users with no interactions.\n",
      "ItemKNNCFRecommender: URM Detected 322 ( 1.4%) items with no interactions.\n",
      "Similarity column 22222 (100.0%), 8962.97 column/sec. Elapsed time 2.48 sec\n",
      "EvaluatorHoldout: Processed 10065 (100.0%) in 6.46 sec. Users per second: 1559\n"
     ]
    },
    {
     "name": "stderr",
     "output_type": "stream",
     "text": [
      "[I 2023-11-27 15:55:50,465] Trial 34 finished with value: 0.02649953477002667 and parameters: {'topK': 82, 'shrink': 756, 'similarity': 'tversky', 'normalize': False, 'feature_weighting': 'BM25', 'tversky_alpha': 0.14855460142338242, 'tversky_beta': 0.2593767958041103}. Best is trial 23 with value: 0.028377222655911236.\n"
     ]
    },
    {
     "name": "stdout",
     "output_type": "stream",
     "text": [
      "ItemKNNCFRecommender: URM Detected 459 ( 3.6%) users with no interactions.\n",
      "ItemKNNCFRecommender: URM Detected 322 ( 1.4%) items with no interactions.\n",
      "Similarity column 22222 (100.0%), 8916.47 column/sec. Elapsed time 2.49 sec\n",
      "EvaluatorHoldout: Processed 10065 (100.0%) in 6.92 sec. Users per second: 1455\n"
     ]
    },
    {
     "name": "stderr",
     "output_type": "stream",
     "text": [
      "[I 2023-11-27 15:56:00,005] Trial 35 finished with value: 0.01917491858475466 and parameters: {'topK': 161, 'shrink': 847, 'similarity': 'tversky', 'normalize': True, 'feature_weighting': 'none', 'tversky_alpha': 0.33479694569355783, 'tversky_beta': 0.47772683608416416}. Best is trial 23 with value: 0.028377222655911236.\n"
     ]
    },
    {
     "name": "stdout",
     "output_type": "stream",
     "text": [
      "ItemKNNCFRecommender: URM Detected 459 ( 3.6%) users with no interactions.\n",
      "ItemKNNCFRecommender: URM Detected 322 ( 1.4%) items with no interactions.\n",
      "Similarity column 22222 (100.0%), 9096.43 column/sec. Elapsed time 2.44 sec\n",
      "EvaluatorHoldout: Processed 10065 (100.0%) in 4.63 sec. Users per second: 2173\n"
     ]
    },
    {
     "name": "stderr",
     "output_type": "stream",
     "text": [
      "[I 2023-11-27 15:56:07,157] Trial 36 finished with value: 0.025123124295255473 and parameters: {'topK': 7, 'shrink': 38, 'similarity': 'tversky', 'normalize': False, 'feature_weighting': 'BM25', 'tversky_alpha': 0.10024629548855997, 'tversky_beta': 0.12534904032386032}. Best is trial 23 with value: 0.028377222655911236.\n"
     ]
    },
    {
     "name": "stdout",
     "output_type": "stream",
     "text": [
      "ItemKNNCFRecommender: URM Detected 459 ( 3.6%) users with no interactions.\n",
      "ItemKNNCFRecommender: URM Detected 322 ( 1.4%) items with no interactions.\n",
      "Similarity column 22222 (100.0%), 8747.39 column/sec. Elapsed time 2.54 sec\n",
      "EvaluatorHoldout: Processed 10065 (100.0%) in 7.60 sec. Users per second: 1324\n"
     ]
    },
    {
     "name": "stderr",
     "output_type": "stream",
     "text": [
      "[I 2023-11-27 15:56:17,486] Trial 37 finished with value: 0.016093613732958013 and parameters: {'topK': 344, 'shrink': 479, 'similarity': 'tversky', 'normalize': True, 'feature_weighting': 'TF-IDF', 'tversky_alpha': 0.003283387268508676, 'tversky_beta': 0.3401306933095346}. Best is trial 23 with value: 0.028377222655911236.\n"
     ]
    },
    {
     "name": "stdout",
     "output_type": "stream",
     "text": [
      "ItemKNNCFRecommender: URM Detected 459 ( 3.6%) users with no interactions.\n",
      "ItemKNNCFRecommender: URM Detected 322 ( 1.4%) items with no interactions.\n",
      "Similarity column 22222 (100.0%), 8801.64 column/sec. Elapsed time 2.52 sec\n",
      "EvaluatorHoldout: Processed 10065 (100.0%) in 7.30 sec. Users per second: 1379\n"
     ]
    },
    {
     "name": "stderr",
     "output_type": "stream",
     "text": [
      "[I 2023-11-27 15:56:27,471] Trial 38 finished with value: 0.02534251965399518 and parameters: {'topK': 266, 'shrink': 555, 'similarity': 'tversky', 'normalize': True, 'feature_weighting': 'BM25', 'tversky_alpha': 0.427964244327507, 'tversky_beta': 0.5840233162164534}. Best is trial 23 with value: 0.028377222655911236.\n"
     ]
    },
    {
     "name": "stdout",
     "output_type": "stream",
     "text": [
      "ItemKNNCFRecommender: URM Detected 459 ( 3.6%) users with no interactions.\n",
      "ItemKNNCFRecommender: URM Detected 322 ( 1.4%) items with no interactions.\n",
      "Similarity column 22222 (100.0%), 8690.66 column/sec. Elapsed time 2.56 sec\n",
      "EvaluatorHoldout: Processed 10065 (100.0%) in 8.25 sec. Users per second: 1219\n"
     ]
    },
    {
     "name": "stderr",
     "output_type": "stream",
     "text": [
      "[I 2023-11-27 15:56:38,544] Trial 39 finished with value: 0.015195999810753875 and parameters: {'topK': 692, 'shrink': 958, 'similarity': 'tversky', 'normalize': False, 'feature_weighting': 'none', 'tversky_alpha': 0.2105331036342756, 'tversky_beta': 0.710131700902592}. Best is trial 23 with value: 0.028377222655911236.\n"
     ]
    },
    {
     "name": "stdout",
     "output_type": "stream",
     "text": [
      "ItemKNNCFRecommender: URM Detected 459 ( 3.6%) users with no interactions.\n",
      "ItemKNNCFRecommender: URM Detected 322 ( 1.4%) items with no interactions.\n",
      "Similarity column 22222 (100.0%), 9030.89 column/sec. Elapsed time 2.46 sec\n",
      "EvaluatorHoldout: Processed 10065 (100.0%) in 5.98 sec. Users per second: 1684\n"
     ]
    },
    {
     "name": "stderr",
     "output_type": "stream",
     "text": [
      "[I 2023-11-27 15:56:47,083] Trial 40 finished with value: 0.027453579510956647 and parameters: {'topK': 75, 'shrink': 337, 'similarity': 'tversky', 'normalize': True, 'feature_weighting': 'BM25', 'tversky_alpha': 0.10338072226102299, 'tversky_beta': 0.8244052333137907}. Best is trial 23 with value: 0.028377222655911236.\n"
     ]
    },
    {
     "name": "stdout",
     "output_type": "stream",
     "text": [
      "ItemKNNCFRecommender: URM Detected 459 ( 3.6%) users with no interactions.\n",
      "ItemKNNCFRecommender: URM Detected 322 ( 1.4%) items with no interactions.\n",
      "Similarity column 22222 (100.0%), 9086.47 column/sec. Elapsed time 2.45 sec\n",
      "EvaluatorHoldout: Processed 10065 (100.0%) in 6.03 sec. Users per second: 1670\n"
     ]
    },
    {
     "name": "stderr",
     "output_type": "stream",
     "text": [
      "[I 2023-11-27 15:56:55,646] Trial 41 finished with value: 0.027742514922842836 and parameters: {'topK': 44, 'shrink': 874, 'similarity': 'tversky', 'normalize': True, 'feature_weighting': 'BM25', 'tversky_alpha': 0.07651078984601642, 'tversky_beta': 0.13570088010614553}. Best is trial 23 with value: 0.028377222655911236.\n"
     ]
    },
    {
     "name": "stdout",
     "output_type": "stream",
     "text": [
      "ItemKNNCFRecommender: URM Detected 459 ( 3.6%) users with no interactions.\n",
      "ItemKNNCFRecommender: URM Detected 322 ( 1.4%) items with no interactions.\n",
      "Similarity column 22222 (100.0%), 8858.85 column/sec. Elapsed time 2.51 sec\n",
      "EvaluatorHoldout: Processed 10065 (100.0%) in 6.94 sec. Users per second: 1450\n"
     ]
    },
    {
     "name": "stderr",
     "output_type": "stream",
     "text": [
      "[I 2023-11-27 15:57:05,238] Trial 42 finished with value: 0.023848902766935673 and parameters: {'topK': 185, 'shrink': 994, 'similarity': 'tversky', 'normalize': True, 'feature_weighting': 'BM25', 'tversky_alpha': 0.2310632093606205, 'tversky_beta': 0.07572786062832605}. Best is trial 23 with value: 0.028377222655911236.\n"
     ]
    },
    {
     "name": "stdout",
     "output_type": "stream",
     "text": [
      "ItemKNNCFRecommender: URM Detected 459 ( 3.6%) users with no interactions.\n",
      "ItemKNNCFRecommender: URM Detected 322 ( 1.4%) items with no interactions.\n",
      "Similarity column 22222 (100.0%), 8910.81 column/sec. Elapsed time 2.49 sec\n",
      "EvaluatorHoldout: Processed 10065 (100.0%) in 6.59 sec. Users per second: 1527\n"
     ]
    },
    {
     "name": "stderr",
     "output_type": "stream",
     "text": [
      "[I 2023-11-27 15:57:14,452] Trial 43 finished with value: 0.02466780214321207 and parameters: {'topK': 112, 'shrink': 944, 'similarity': 'tversky', 'normalize': True, 'feature_weighting': 'BM25', 'tversky_alpha': 0.009276788662903268, 'tversky_beta': 0.19307606571390543}. Best is trial 23 with value: 0.028377222655911236.\n"
     ]
    },
    {
     "name": "stdout",
     "output_type": "stream",
     "text": [
      "ItemKNNCFRecommender: URM Detected 459 ( 3.6%) users with no interactions.\n",
      "ItemKNNCFRecommender: URM Detected 322 ( 1.4%) items with no interactions.\n",
      "Similarity column 22222 (100.0%), 9070.23 column/sec. Elapsed time 2.45 sec\n",
      "EvaluatorHoldout: Processed 10065 (100.0%) in 5.95 sec. Users per second: 1692\n"
     ]
    },
    {
     "name": "stderr",
     "output_type": "stream",
     "text": [
      "[I 2023-11-27 15:57:22,939] Trial 44 finished with value: 0.028393754090475534 and parameters: {'topK': 39, 'shrink': 758, 'similarity': 'tversky', 'normalize': True, 'feature_weighting': 'BM25', 'tversky_alpha': 0.24972279702783073, 'tversky_beta': 0.3081275570959163}. Best is trial 44 with value: 0.028393754090475534.\n"
     ]
    },
    {
     "name": "stdout",
     "output_type": "stream",
     "text": [
      "ItemKNNCFRecommender: URM Detected 459 ( 3.6%) users with no interactions.\n",
      "ItemKNNCFRecommender: URM Detected 322 ( 1.4%) items with no interactions.\n",
      "Similarity column 22222 (100.0%), 9134.10 column/sec. Elapsed time 2.43 sec\n",
      "EvaluatorHoldout: Processed 10065 (100.0%) in 4.82 sec. Users per second: 2086\n"
     ]
    },
    {
     "name": "stderr",
     "output_type": "stream",
     "text": [
      "[I 2023-11-27 15:57:30,268] Trial 45 finished with value: 0.0206170684203471 and parameters: {'topK': 5, 'shrink': 755, 'similarity': 'tversky', 'normalize': True, 'feature_weighting': 'TF-IDF', 'tversky_alpha': 0.29175730863269045, 'tversky_beta': 0.2925024584267224}. Best is trial 44 with value: 0.028393754090475534.\n"
     ]
    },
    {
     "name": "stdout",
     "output_type": "stream",
     "text": [
      "ItemKNNCFRecommender: URM Detected 459 ( 3.6%) users with no interactions.\n",
      "ItemKNNCFRecommender: URM Detected 322 ( 1.4%) items with no interactions.\n",
      "Similarity column 22222 (100.0%), 8703.92 column/sec. Elapsed time 2.55 sec\n",
      "EvaluatorHoldout: Processed 10065 (100.0%) in 8.34 sec. Users per second: 1206\n"
     ]
    },
    {
     "name": "stderr",
     "output_type": "stream",
     "text": [
      "[I 2023-11-27 15:57:41,480] Trial 46 finished with value: 0.020137333522579445 and parameters: {'topK': 854, 'shrink': 761, 'similarity': 'tversky', 'normalize': True, 'feature_weighting': 'BM25', 'tversky_alpha': 0.380764220095386, 'tversky_beta': 0.37942203438199074}. Best is trial 44 with value: 0.028393754090475534.\n"
     ]
    },
    {
     "name": "stdout",
     "output_type": "stream",
     "text": [
      "ItemKNNCFRecommender: URM Detected 459 ( 3.6%) users with no interactions.\n",
      "ItemKNNCFRecommender: URM Detected 322 ( 1.4%) items with no interactions.\n",
      "Similarity column 22222 (100.0%), 8863.61 column/sec. Elapsed time 2.51 sec\n",
      "EvaluatorHoldout: Processed 10065 (100.0%) in 7.01 sec. Users per second: 1437\n"
     ]
    },
    {
     "name": "stderr",
     "output_type": "stream",
     "text": [
      "[I 2023-11-27 15:57:51,158] Trial 47 finished with value: 0.025035400846876343 and parameters: {'topK': 227, 'shrink': 437, 'similarity': 'tversky', 'normalize': True, 'feature_weighting': 'BM25', 'tversky_alpha': 0.24451646764658339, 'tversky_beta': 0.45745291928810494}. Best is trial 44 with value: 0.028393754090475534.\n"
     ]
    },
    {
     "name": "stdout",
     "output_type": "stream",
     "text": [
      "ItemKNNCFRecommender: URM Detected 459 ( 3.6%) users with no interactions.\n",
      "ItemKNNCFRecommender: URM Detected 322 ( 1.4%) items with no interactions.\n",
      "Similarity column 22222 (100.0%), 9051.79 column/sec. Elapsed time 2.45 sec\n",
      "EvaluatorHoldout: Processed 10065 (100.0%) in 6.21 sec. Users per second: 1620\n"
     ]
    },
    {
     "name": "stderr",
     "output_type": "stream",
     "text": [
      "[I 2023-11-27 15:57:59,921] Trial 48 finished with value: 0.027280782059470675 and parameters: {'topK': 58, 'shrink': 627, 'similarity': 'tversky', 'normalize': True, 'feature_weighting': 'BM25', 'tversky_alpha': 0.0849875317204166, 'tversky_beta': 0.21595560938153222}. Best is trial 44 with value: 0.028393754090475534.\n"
     ]
    },
    {
     "name": "stdout",
     "output_type": "stream",
     "text": [
      "ItemKNNCFRecommender: URM Detected 459 ( 3.6%) users with no interactions.\n",
      "ItemKNNCFRecommender: URM Detected 322 ( 1.4%) items with no interactions.\n",
      "Similarity column 22222 (100.0%), 8944.11 column/sec. Elapsed time 2.48 sec\n",
      "EvaluatorHoldout: Processed 10065 (100.0%) in 6.55 sec. Users per second: 1537\n"
     ]
    },
    {
     "name": "stderr",
     "output_type": "stream",
     "text": [
      "[I 2023-11-27 15:58:09,083] Trial 49 finished with value: 0.026974495146626445 and parameters: {'topK': 109, 'shrink': 833, 'similarity': 'tversky', 'normalize': False, 'feature_weighting': 'BM25', 'tversky_alpha': 0.645284606676128, 'tversky_beta': 0.05122694369120341}. Best is trial 44 with value: 0.028393754090475534.\n"
     ]
    },
    {
     "name": "stdout",
     "output_type": "stream",
     "text": [
      "ItemKNNCFRecommender: URM Detected 459 ( 3.6%) users with no interactions.\n",
      "ItemKNNCFRecommender: URM Detected 322 ( 1.4%) items with no interactions.\n",
      "Similarity column 22222 (100.0%), 8827.44 column/sec. Elapsed time 2.52 sec\n",
      "EvaluatorHoldout: Processed 10065 (100.0%) in 6.92 sec. Users per second: 1454\n"
     ]
    },
    {
     "name": "stderr",
     "output_type": "stream",
     "text": [
      "[I 2023-11-27 15:58:18,655] Trial 50 finished with value: 0.020488180004573527 and parameters: {'topK': 165, 'shrink': 555, 'similarity': 'tversky', 'normalize': True, 'feature_weighting': 'none', 'tversky_alpha': 0.46611297315389416, 'tversky_beta': 0.2985798178928295}. Best is trial 44 with value: 0.028393754090475534.\n"
     ]
    },
    {
     "name": "stdout",
     "output_type": "stream",
     "text": [
      "ItemKNNCFRecommender: URM Detected 459 ( 3.6%) users with no interactions.\n",
      "ItemKNNCFRecommender: URM Detected 322 ( 1.4%) items with no interactions.\n",
      "Similarity column 22222 (100.0%), 9063.43 column/sec. Elapsed time 2.45 sec\n",
      "EvaluatorHoldout: Processed 10065 (100.0%) in 5.97 sec. Users per second: 1685\n"
     ]
    },
    {
     "name": "stderr",
     "output_type": "stream",
     "text": [
      "[I 2023-11-27 15:58:27,178] Trial 51 finished with value: 0.027426805131723256 and parameters: {'topK': 39, 'shrink': 961, 'similarity': 'tversky', 'normalize': True, 'feature_weighting': 'BM25', 'tversky_alpha': 0.07812865077258857, 'tversky_beta': 0.0006190174070531684}. Best is trial 44 with value: 0.028393754090475534.\n"
     ]
    },
    {
     "name": "stdout",
     "output_type": "stream",
     "text": [
      "ItemKNNCFRecommender: URM Detected 459 ( 3.6%) users with no interactions.\n",
      "ItemKNNCFRecommender: URM Detected 322 ( 1.4%) items with no interactions.\n",
      "Similarity column 22222 (100.0%), 9092.70 column/sec. Elapsed time 2.44 sec\n",
      "EvaluatorHoldout: Processed 10065 (100.0%) in 6.01 sec. Users per second: 1674\n"
     ]
    },
    {
     "name": "stderr",
     "output_type": "stream",
     "text": [
      "[I 2023-11-27 15:58:35,720] Trial 52 finished with value: 0.02801806511642585 and parameters: {'topK': 42, 'shrink': 900, 'similarity': 'tversky', 'normalize': True, 'feature_weighting': 'BM25', 'tversky_alpha': 0.20260372158786527, 'tversky_beta': 0.18532232896507805}. Best is trial 44 with value: 0.028393754090475534.\n"
     ]
    },
    {
     "name": "stdout",
     "output_type": "stream",
     "text": [
      "ItemKNNCFRecommender: URM Detected 459 ( 3.6%) users with no interactions.\n",
      "ItemKNNCFRecommender: URM Detected 322 ( 1.4%) items with no interactions.\n",
      "Similarity column 22222 (100.0%), 8975.63 column/sec. Elapsed time 2.48 sec\n",
      "EvaluatorHoldout: Processed 10065 (100.0%) in 6.54 sec. Users per second: 1539\n"
     ]
    },
    {
     "name": "stderr",
     "output_type": "stream",
     "text": [
      "[I 2023-11-27 15:58:44,847] Trial 53 finished with value: 0.025833948383128774 and parameters: {'topK': 103, 'shrink': 886, 'similarity': 'tversky', 'normalize': True, 'feature_weighting': 'BM25', 'tversky_alpha': 0.20482484102266119, 'tversky_beta': 0.1546721287826074}. Best is trial 44 with value: 0.028393754090475534.\n"
     ]
    },
    {
     "name": "stdout",
     "output_type": "stream",
     "text": [
      "ItemKNNCFRecommender: URM Detected 459 ( 3.6%) users with no interactions.\n",
      "ItemKNNCFRecommender: URM Detected 322 ( 1.4%) items with no interactions.\n",
      "Similarity column 22222 (100.0%), 9013.61 column/sec. Elapsed time 2.47 sec\n",
      "EvaluatorHoldout: Processed 10065 (100.0%) in 6.19 sec. Users per second: 1627\n"
     ]
    },
    {
     "name": "stderr",
     "output_type": "stream",
     "text": [
      "[I 2023-11-27 15:58:53,599] Trial 54 finished with value: 0.028076057215401615 and parameters: {'topK': 53, 'shrink': 800, 'similarity': 'tversky', 'normalize': True, 'feature_weighting': 'BM25', 'tversky_alpha': 0.34817853836148116, 'tversky_beta': 0.2175708929775156}. Best is trial 44 with value: 0.028393754090475534.\n"
     ]
    },
    {
     "name": "stdout",
     "output_type": "stream",
     "text": [
      "ItemKNNCFRecommender: URM Detected 459 ( 3.6%) users with no interactions.\n",
      "ItemKNNCFRecommender: URM Detected 322 ( 1.4%) items with no interactions.\n",
      "Similarity column 22222 (100.0%), 8651.44 column/sec. Elapsed time 2.57 sec\n",
      "EvaluatorHoldout: Processed 10065 (100.0%) in 8.48 sec. Users per second: 1187\n"
     ]
    },
    {
     "name": "stderr",
     "output_type": "stream",
     "text": [
      "[I 2023-11-27 15:59:04,997] Trial 55 finished with value: 0.018851252572564058 and parameters: {'topK': 992, 'shrink': 793, 'similarity': 'tversky', 'normalize': True, 'feature_weighting': 'BM25', 'tversky_alpha': 0.32474028951846123, 'tversky_beta': 0.2367981376805559}. Best is trial 44 with value: 0.028393754090475534.\n"
     ]
    },
    {
     "name": "stdout",
     "output_type": "stream",
     "text": [
      "ItemKNNCFRecommender: URM Detected 459 ( 3.6%) users with no interactions.\n",
      "ItemKNNCFRecommender: URM Detected 322 ( 1.4%) items with no interactions.\n",
      "Similarity column 22222 (100.0%), 9050.31 column/sec. Elapsed time 2.46 sec\n",
      "EvaluatorHoldout: Processed 10065 (100.0%) in 6.01 sec. Users per second: 1676\n"
     ]
    },
    {
     "name": "stderr",
     "output_type": "stream",
     "text": [
      "[I 2023-11-27 15:59:13,556] Trial 56 finished with value: 0.028579747514173894 and parameters: {'topK': 41, 'shrink': 713, 'similarity': 'tversky', 'normalize': True, 'feature_weighting': 'BM25', 'tversky_alpha': 0.5697797477432114, 'tversky_beta': 0.414334151561629}. Best is trial 56 with value: 0.028579747514173894.\n"
     ]
    },
    {
     "name": "stdout",
     "output_type": "stream",
     "text": [
      "ItemKNNCFRecommender: URM Detected 459 ( 3.6%) users with no interactions.\n",
      "ItemKNNCFRecommender: URM Detected 322 ( 1.4%) items with no interactions.\n",
      "Similarity column 22222 (100.0%), 8951.26 column/sec. Elapsed time 2.48 sec\n",
      "EvaluatorHoldout: Processed 10065 (100.0%) in 6.76 sec. Users per second: 1489\n"
     ]
    },
    {
     "name": "stderr",
     "output_type": "stream",
     "text": [
      "[I 2023-11-27 15:59:22,935] Trial 57 finished with value: 0.026332024381204862 and parameters: {'topK': 142, 'shrink': 714, 'similarity': 'tversky', 'normalize': True, 'feature_weighting': 'BM25', 'tversky_alpha': 0.4224226079350323, 'tversky_beta': 0.3883718384729366}. Best is trial 56 with value: 0.028579747514173894.\n"
     ]
    },
    {
     "name": "stdout",
     "output_type": "stream",
     "text": [
      "ItemKNNCFRecommender: URM Detected 459 ( 3.6%) users with no interactions.\n",
      "ItemKNNCFRecommender: URM Detected 322 ( 1.4%) items with no interactions.\n",
      "Similarity column 22222 (100.0%), 8958.36 column/sec. Elapsed time 2.48 sec\n",
      "EvaluatorHoldout: Processed 10065 (100.0%) in 6.46 sec. Users per second: 1559\n"
     ]
    },
    {
     "name": "stderr",
     "output_type": "stream",
     "text": [
      "[I 2023-11-27 15:59:31,977] Trial 58 finished with value: 0.027549677098857576 and parameters: {'topK': 84, 'shrink': 655, 'similarity': 'tversky', 'normalize': True, 'feature_weighting': 'BM25', 'tversky_alpha': 0.5520366664587877, 'tversky_beta': 0.508235550833864}. Best is trial 56 with value: 0.028579747514173894.\n"
     ]
    },
    {
     "name": "stdout",
     "output_type": "stream",
     "text": [
      "ItemKNNCFRecommender: URM Detected 459 ( 3.6%) users with no interactions.\n",
      "ItemKNNCFRecommender: URM Detected 322 ( 1.4%) items with no interactions.\n",
      "Similarity column 22222 (100.0%), 8902.58 column/sec. Elapsed time 2.50 sec\n",
      "EvaluatorHoldout: Processed 10065 (100.0%) in 7.03 sec. Users per second: 1431\n"
     ]
    },
    {
     "name": "stderr",
     "output_type": "stream",
     "text": [
      "[I 2023-11-27 15:59:41,653] Trial 59 finished with value: 0.019398907103825143 and parameters: {'topK': 195, 'shrink': 674, 'similarity': 'tversky', 'normalize': True, 'feature_weighting': 'TF-IDF', 'tversky_alpha': 0.3366609607151452, 'tversky_beta': 0.4374811513008189}. Best is trial 56 with value: 0.028579747514173894.\n"
     ]
    },
    {
     "name": "stdout",
     "output_type": "stream",
     "text": [
      "ItemKNNCFRecommender: URM Detected 459 ( 3.6%) users with no interactions.\n",
      "ItemKNNCFRecommender: URM Detected 322 ( 1.4%) items with no interactions.\n",
      "Similarity column 22222 (100.0%), 9029.20 column/sec. Elapsed time 2.46 sec\n",
      "EvaluatorHoldout: Processed 10065 (100.0%) in 5.85 sec. Users per second: 1722\n"
     ]
    },
    {
     "name": "stderr",
     "output_type": "stream",
     "text": [
      "[I 2023-11-27 15:59:50,049] Trial 60 finished with value: 0.028561256594043568 and parameters: {'topK': 42, 'shrink': 502, 'similarity': 'tversky', 'normalize': True, 'feature_weighting': 'BM25', 'tversky_alpha': 0.5289440261723484, 'tversky_beta': 0.6305384276109215}. Best is trial 56 with value: 0.028579747514173894.\n"
     ]
    },
    {
     "name": "stdout",
     "output_type": "stream",
     "text": [
      "ItemKNNCFRecommender: URM Detected 459 ( 3.6%) users with no interactions.\n",
      "ItemKNNCFRecommender: URM Detected 322 ( 1.4%) items with no interactions.\n",
      "Similarity column 22222 (100.0%), 9048.03 column/sec. Elapsed time 2.46 sec\n",
      "EvaluatorHoldout: Processed 10065 (100.0%) in 5.90 sec. Users per second: 1705\n"
     ]
    },
    {
     "name": "stderr",
     "output_type": "stream",
     "text": [
      "[I 2023-11-27 15:59:58,497] Trial 61 finished with value: 0.028374257800487374 and parameters: {'topK': 45, 'shrink': 517, 'similarity': 'tversky', 'normalize': True, 'feature_weighting': 'BM25', 'tversky_alpha': 0.6174097921553736, 'tversky_beta': 0.6332627988510152}. Best is trial 56 with value: 0.028579747514173894.\n"
     ]
    },
    {
     "name": "stdout",
     "output_type": "stream",
     "text": [
      "ItemKNNCFRecommender: URM Detected 459 ( 3.6%) users with no interactions.\n",
      "ItemKNNCFRecommender: URM Detected 322 ( 1.4%) items with no interactions.\n",
      "Similarity column 22222 (100.0%), 9060.69 column/sec. Elapsed time 2.45 sec\n",
      "EvaluatorHoldout: Processed 10065 (100.0%) in 5.89 sec. Users per second: 1710\n"
     ]
    },
    {
     "name": "stderr",
     "output_type": "stream",
     "text": [
      "[I 2023-11-27 16:00:06,925] Trial 62 finished with value: 0.02827467887303966 and parameters: {'topK': 46, 'shrink': 512, 'similarity': 'tversky', 'normalize': True, 'feature_weighting': 'BM25', 'tversky_alpha': 0.613965068176109, 'tversky_beta': 0.6567014187372007}. Best is trial 56 with value: 0.028579747514173894.\n"
     ]
    },
    {
     "name": "stdout",
     "output_type": "stream",
     "text": [
      "ItemKNNCFRecommender: URM Detected 459 ( 3.6%) users with no interactions.\n",
      "ItemKNNCFRecommender: URM Detected 322 ( 1.4%) items with no interactions.\n",
      "Similarity column 22222 (100.0%), 8997.08 column/sec. Elapsed time 2.47 sec\n",
      "EvaluatorHoldout: Processed 10065 (100.0%) in 6.47 sec. Users per second: 1555\n"
     ]
    },
    {
     "name": "stderr",
     "output_type": "stream",
     "text": [
      "[I 2023-11-27 16:00:15,983] Trial 63 finished with value: 0.027542130910983495 and parameters: {'topK': 105, 'shrink': 475, 'similarity': 'tversky', 'normalize': True, 'feature_weighting': 'BM25', 'tversky_alpha': 0.7858112526520475, 'tversky_beta': 0.6168948232681173}. Best is trial 56 with value: 0.028579747514173894.\n"
     ]
    },
    {
     "name": "stdout",
     "output_type": "stream",
     "text": [
      "ItemKNNCFRecommender: URM Detected 459 ( 3.6%) users with no interactions.\n",
      "ItemKNNCFRecommender: URM Detected 322 ( 1.4%) items with no interactions.\n",
      "Similarity column 22222 (100.0%), 9031.53 column/sec. Elapsed time 2.46 sec\n",
      "EvaluatorHoldout: Processed 10065 (100.0%) in 5.79 sec. Users per second: 1737\n"
     ]
    },
    {
     "name": "stderr",
     "output_type": "stream",
     "text": [
      "[I 2023-11-27 16:00:24,328] Trial 64 finished with value: 0.028423615546566458 and parameters: {'topK': 39, 'shrink': 520, 'similarity': 'tversky', 'normalize': True, 'feature_weighting': 'BM25', 'tversky_alpha': 0.6535510780485934, 'tversky_beta': 0.6631630378745603}. Best is trial 56 with value: 0.028579747514173894.\n"
     ]
    },
    {
     "name": "stdout",
     "output_type": "stream",
     "text": [
      "ItemKNNCFRecommender: URM Detected 459 ( 3.6%) users with no interactions.\n",
      "ItemKNNCFRecommender: URM Detected 322 ( 1.4%) items with no interactions.\n",
      "Similarity column 22222 (100.0%), 7020.69 column/sec. Elapsed time 3.17 sec\n",
      "EvaluatorHoldout: Processed 10065 (100.0%) in 4.58 sec. Users per second: 2199\n"
     ]
    },
    {
     "name": "stderr",
     "output_type": "stream",
     "text": [
      "[I 2023-11-27 16:00:32,148] Trial 65 finished with value: 0.02501060172371644 and parameters: {'topK': 2, 'shrink': 586, 'similarity': 'tversky', 'normalize': True, 'feature_weighting': 'BM25', 'tversky_alpha': 0.5390614213748276, 'tversky_beta': 0.5367100059659781}. Best is trial 56 with value: 0.028579747514173894.\n"
     ]
    },
    {
     "name": "stdout",
     "output_type": "stream",
     "text": [
      "ItemKNNCFRecommender: URM Detected 459 ( 3.6%) users with no interactions.\n",
      "ItemKNNCFRecommender: URM Detected 322 ( 1.4%) items with no interactions.\n",
      "Similarity column 22222 (100.0%), 8930.42 column/sec. Elapsed time 2.49 sec\n",
      "EvaluatorHoldout: Processed 10065 (100.0%) in 6.54 sec. Users per second: 1539\n"
     ]
    },
    {
     "name": "stderr",
     "output_type": "stream",
     "text": [
      "[I 2023-11-27 16:00:41,317] Trial 66 finished with value: 0.027205686845031208 and parameters: {'topK': 139, 'shrink': 389, 'similarity': 'tversky', 'normalize': True, 'feature_weighting': 'BM25', 'tversky_alpha': 0.674299774690016, 'tversky_beta': 0.7518295137718662}. Best is trial 56 with value: 0.028579747514173894.\n"
     ]
    },
    {
     "name": "stdout",
     "output_type": "stream",
     "text": [
      "ItemKNNCFRecommender: URM Detected 459 ( 3.6%) users with no interactions.\n",
      "ItemKNNCFRecommender: URM Detected 322 ( 1.4%) items with no interactions.\n",
      "Similarity column 22222 (100.0%), 8930.83 column/sec. Elapsed time 2.49 sec\n",
      "EvaluatorHoldout: Processed 10065 (100.0%) in 6.26 sec. Users per second: 1608\n"
     ]
    },
    {
     "name": "stderr",
     "output_type": "stream",
     "text": [
      "[I 2023-11-27 16:00:50,170] Trial 67 finished with value: 0.027917007703893028 and parameters: {'topK': 72, 'shrink': 499, 'similarity': 'tversky', 'normalize': True, 'feature_weighting': 'BM25', 'tversky_alpha': 0.5807107883095849, 'tversky_beta': 0.6406101802732174}. Best is trial 56 with value: 0.028579747514173894.\n"
     ]
    },
    {
     "name": "stdout",
     "output_type": "stream",
     "text": [
      "ItemKNNCFRecommender: URM Detected 459 ( 3.6%) users with no interactions.\n",
      "ItemKNNCFRecommender: URM Detected 322 ( 1.4%) items with no interactions.\n",
      "Similarity column 22222 (100.0%), 8741.88 column/sec. Elapsed time 2.54 sec\n",
      "EvaluatorHoldout: Processed 10065 (100.0%) in 7.78 sec. Users per second: 1294\n"
     ]
    },
    {
     "name": "stderr",
     "output_type": "stream",
     "text": [
      "[I 2023-11-27 16:01:00,725] Trial 68 finished with value: 0.024559537608717995 and parameters: {'topK': 445, 'shrink': 416, 'similarity': 'tversky', 'normalize': False, 'feature_weighting': 'BM25', 'tversky_alpha': 0.5005491955464608, 'tversky_beta': 0.5253716098074848}. Best is trial 56 with value: 0.028579747514173894.\n"
     ]
    },
    {
     "name": "stdout",
     "output_type": "stream",
     "text": [
      "ItemKNNCFRecommender: URM Detected 459 ( 3.6%) users with no interactions.\n",
      "ItemKNNCFRecommender: URM Detected 322 ( 1.4%) items with no interactions.\n",
      "Similarity column 22222 (100.0%), 8836.29 column/sec. Elapsed time 2.51 sec\n",
      "EvaluatorHoldout: Processed 10065 (100.0%) in 5.37 sec. Users per second: 1874\n"
     ]
    },
    {
     "name": "stderr",
     "output_type": "stream",
     "text": [
      "[I 2023-11-27 16:01:08,702] Trial 69 finished with value: 0.027009525386574623 and parameters: {'topK': 35, 'shrink': 245, 'similarity': 'tversky', 'normalize': True, 'feature_weighting': 'BM25', 'tversky_alpha': 0.7317947105064329, 'tversky_beta': 0.7561368860222438}. Best is trial 56 with value: 0.028579747514173894.\n"
     ]
    },
    {
     "name": "stdout",
     "output_type": "stream",
     "text": [
      "ItemKNNCFRecommender: URM Detected 459 ( 3.6%) users with no interactions.\n",
      "ItemKNNCFRecommender: URM Detected 322 ( 1.4%) items with no interactions.\n",
      "Similarity column 22222 (100.0%), 8912.75 column/sec. Elapsed time 2.49 sec\n",
      "EvaluatorHoldout: Processed 10065 (100.0%) in 6.83 sec. Users per second: 1473\n"
     ]
    },
    {
     "name": "stderr",
     "output_type": "stream",
     "text": [
      "[I 2023-11-27 16:01:18,182] Trial 70 finished with value: 0.02676625742199523 and parameters: {'topK': 173, 'shrink': 365, 'similarity': 'tversky', 'normalize': True, 'feature_weighting': 'BM25', 'tversky_alpha': 0.9131834103215475, 'tversky_beta': 0.42049865940951897}. Best is trial 56 with value: 0.028579747514173894.\n"
     ]
    },
    {
     "name": "stdout",
     "output_type": "stream",
     "text": [
      "ItemKNNCFRecommender: URM Detected 459 ( 3.6%) users with no interactions.\n",
      "ItemKNNCFRecommender: URM Detected 322 ( 1.4%) items with no interactions.\n",
      "Similarity column 22222 (100.0%), 9077.11 column/sec. Elapsed time 2.45 sec\n",
      "EvaluatorHoldout: Processed 10065 (100.0%) in 5.63 sec. Users per second: 1787\n"
     ]
    },
    {
     "name": "stderr",
     "output_type": "stream",
     "text": [
      "[I 2023-11-27 16:01:26,351] Trial 71 finished with value: 0.02843491117261625 and parameters: {'topK': 32, 'shrink': 523, 'similarity': 'tversky', 'normalize': True, 'feature_weighting': 'BM25', 'tversky_alpha': 0.6142463600246648, 'tversky_beta': 0.6619242728956801}. Best is trial 56 with value: 0.028579747514173894.\n"
     ]
    },
    {
     "name": "stdout",
     "output_type": "stream",
     "text": [
      "ItemKNNCFRecommender: URM Detected 459 ( 3.6%) users with no interactions.\n",
      "ItemKNNCFRecommender: URM Detected 322 ( 1.4%) items with no interactions.\n",
      "Similarity column 22222 (100.0%), 8984.03 column/sec. Elapsed time 2.47 sec\n",
      "EvaluatorHoldout: Processed 10065 (100.0%) in 6.31 sec. Users per second: 1594\n"
     ]
    },
    {
     "name": "stderr",
     "output_type": "stream",
     "text": [
      "[I 2023-11-27 16:01:35,243] Trial 72 finished with value: 0.02771572083047511 and parameters: {'topK': 81, 'shrink': 579, 'similarity': 'tversky', 'normalize': True, 'feature_weighting': 'BM25', 'tversky_alpha': 0.6325938033480334, 'tversky_beta': 0.6789817620990433}. Best is trial 56 with value: 0.028579747514173894.\n"
     ]
    },
    {
     "name": "stdout",
     "output_type": "stream",
     "text": [
      "ItemKNNCFRecommender: URM Detected 459 ( 3.6%) users with no interactions.\n",
      "ItemKNNCFRecommender: URM Detected 322 ( 1.4%) items with no interactions.\n",
      "Similarity column 22222 (100.0%), 8984.07 column/sec. Elapsed time 2.47 sec\n",
      "EvaluatorHoldout: Processed 10065 (100.0%) in 5.52 sec. Users per second: 1824\n"
     ]
    },
    {
     "name": "stderr",
     "output_type": "stream",
     "text": [
      "[I 2023-11-27 16:01:43,321] Trial 73 finished with value: 0.028714001845149436 and parameters: {'topK': 27, 'shrink': 511, 'similarity': 'tversky', 'normalize': True, 'feature_weighting': 'BM25', 'tversky_alpha': 0.4493891987927321, 'tversky_beta': 0.5887129186924022}. Best is trial 73 with value: 0.028714001845149436.\n"
     ]
    },
    {
     "name": "stdout",
     "output_type": "stream",
     "text": [
      "ItemKNNCFRecommender: URM Detected 459 ( 3.6%) users with no interactions.\n",
      "ItemKNNCFRecommender: URM Detected 322 ( 1.4%) items with no interactions.\n",
      "Similarity column 22222 (100.0%), 8874.10 column/sec. Elapsed time 2.50 sec\n",
      "EvaluatorHoldout: Processed 10065 (100.0%) in 6.63 sec. Users per second: 1518\n"
     ]
    },
    {
     "name": "stderr",
     "output_type": "stream",
     "text": [
      "[I 2023-11-27 16:01:52,570] Trial 74 finished with value: 0.02135870808001958 and parameters: {'topK': 129, 'shrink': 539, 'similarity': 'tversky', 'normalize': True, 'feature_weighting': 'none', 'tversky_alpha': 0.48334266346164695, 'tversky_beta': 0.5774321827402469}. Best is trial 73 with value: 0.028714001845149436.\n"
     ]
    },
    {
     "name": "stdout",
     "output_type": "stream",
     "text": [
      "ItemKNNCFRecommender: URM Detected 459 ( 3.6%) users with no interactions.\n",
      "ItemKNNCFRecommender: URM Detected 322 ( 1.4%) items with no interactions.\n",
      "Similarity column 22222 (100.0%), 9077.04 column/sec. Elapsed time 2.45 sec\n",
      "EvaluatorHoldout: Processed 10065 (100.0%) in 5.58 sec. Users per second: 1803\n"
     ]
    },
    {
     "name": "stderr",
     "output_type": "stream",
     "text": [
      "[I 2023-11-27 16:02:00,685] Trial 75 finished with value: 0.02873548127646497 and parameters: {'topK': 30, 'shrink': 432, 'similarity': 'tversky', 'normalize': True, 'feature_weighting': 'BM25', 'tversky_alpha': 0.41653714977899475, 'tversky_beta': 0.49498225399274093}. Best is trial 75 with value: 0.02873548127646497.\n"
     ]
    },
    {
     "name": "stdout",
     "output_type": "stream",
     "text": [
      "ItemKNNCFRecommender: URM Detected 459 ( 3.6%) users with no interactions.\n",
      "ItemKNNCFRecommender: URM Detected 322 ( 1.4%) items with no interactions.\n",
      "Similarity column 22222 (100.0%), 9027.39 column/sec. Elapsed time 2.46 sec\n",
      "EvaluatorHoldout: Processed 10065 (100.0%) in 6.44 sec. Users per second: 1562\n"
     ]
    },
    {
     "name": "stderr",
     "output_type": "stream",
     "text": [
      "[I 2023-11-27 16:02:09,707] Trial 76 finished with value: 0.027184029995505586 and parameters: {'topK': 98, 'shrink': 453, 'similarity': 'tversky', 'normalize': True, 'feature_weighting': 'BM25', 'tversky_alpha': 0.4069533718067767, 'tversky_beta': 0.46917155241228714}. Best is trial 75 with value: 0.02873548127646497.\n"
     ]
    },
    {
     "name": "stdout",
     "output_type": "stream",
     "text": [
      "ItemKNNCFRecommender: URM Detected 459 ( 3.6%) users with no interactions.\n",
      "ItemKNNCFRecommender: URM Detected 322 ( 1.4%) items with no interactions.\n",
      "Similarity column 22222 (100.0%), 9072.22 column/sec. Elapsed time 2.45 sec\n",
      "EvaluatorHoldout: Processed 10065 (100.0%) in 5.28 sec. Users per second: 1908\n"
     ]
    },
    {
     "name": "stderr",
     "output_type": "stream",
     "text": [
      "[I 2023-11-27 16:02:17,516] Trial 77 finished with value: 0.0282110015060835 and parameters: {'topK': 20, 'shrink': 358, 'similarity': 'tversky', 'normalize': True, 'feature_weighting': 'BM25', 'tversky_alpha': 0.44794728972346526, 'tversky_beta': 0.5252390707850598}. Best is trial 75 with value: 0.02873548127646497.\n"
     ]
    },
    {
     "name": "stdout",
     "output_type": "stream",
     "text": [
      "ItemKNNCFRecommender: URM Detected 459 ( 3.6%) users with no interactions.\n",
      "ItemKNNCFRecommender: URM Detected 322 ( 1.4%) items with no interactions.\n",
      "Similarity column 22222 (100.0%), 8892.50 column/sec. Elapsed time 2.50 sec\n",
      "EvaluatorHoldout: Processed 10065 (100.0%) in 6.01 sec. Users per second: 1675\n"
     ]
    },
    {
     "name": "stderr",
     "output_type": "stream",
     "text": [
      "[I 2023-11-27 16:02:26,164] Trial 78 finished with value: 0.02332275526537826 and parameters: {'topK': 69, 'shrink': 415, 'similarity': 'tversky', 'normalize': True, 'feature_weighting': 'TF-IDF', 'tversky_alpha': 0.6906003649185776, 'tversky_beta': 0.904172433857769}. Best is trial 75 with value: 0.02873548127646497.\n"
     ]
    },
    {
     "name": "stdout",
     "output_type": "stream",
     "text": [
      "ItemKNNCFRecommender: URM Detected 459 ( 3.6%) users with no interactions.\n",
      "ItemKNNCFRecommender: URM Detected 322 ( 1.4%) items with no interactions.\n",
      "Similarity column 22222 (100.0%), 8747.99 column/sec. Elapsed time 2.54 sec\n",
      "EvaluatorHoldout: Processed 10065 (100.0%) in 8.00 sec. Users per second: 1259\n"
     ]
    },
    {
     "name": "stderr",
     "output_type": "stream",
     "text": [
      "[I 2023-11-27 16:02:36,948] Trial 79 finished with value: 0.02401761565696002 and parameters: {'topK': 529, 'shrink': 481, 'similarity': 'tversky', 'normalize': True, 'feature_weighting': 'BM25', 'tversky_alpha': 0.5616917371998382, 'tversky_beta': 0.33074164861006156}. Best is trial 75 with value: 0.02873548127646497.\n"
     ]
    },
    {
     "name": "stdout",
     "output_type": "stream",
     "text": [
      "ItemKNNCFRecommender: URM Detected 459 ( 3.6%) users with no interactions.\n",
      "ItemKNNCFRecommender: URM Detected 322 ( 1.4%) items with no interactions.\n",
      "Similarity column 22222 (100.0%), 9063.22 column/sec. Elapsed time 2.45 sec\n",
      "EvaluatorHoldout: Processed 10065 (100.0%) in 5.39 sec. Users per second: 1868\n"
     ]
    },
    {
     "name": "stderr",
     "output_type": "stream",
     "text": [
      "[I 2023-11-27 16:02:44,884] Trial 80 finished with value: 0.028015975524172308 and parameters: {'topK': 28, 'shrink': 295, 'similarity': 'tversky', 'normalize': False, 'feature_weighting': 'BM25', 'tversky_alpha': 0.5210721292942451, 'tversky_beta': 0.5904392772930283}. Best is trial 75 with value: 0.02873548127646497.\n"
     ]
    },
    {
     "name": "stdout",
     "output_type": "stream",
     "text": [
      "ItemKNNCFRecommender: URM Detected 459 ( 3.6%) users with no interactions.\n",
      "ItemKNNCFRecommender: URM Detected 322 ( 1.4%) items with no interactions.\n",
      "Similarity column 22222 (100.0%), 9059.37 column/sec. Elapsed time 2.45 sec\n",
      "EvaluatorHoldout: Processed 10065 (100.0%) in 4.91 sec. Users per second: 2050\n"
     ]
    },
    {
     "name": "stderr",
     "output_type": "stream",
     "text": [
      "[I 2023-11-27 16:02:52,328] Trial 81 finished with value: 0.028101790741135158 and parameters: {'topK': 8, 'shrink': 439, 'similarity': 'tversky', 'normalize': True, 'feature_weighting': 'BM25', 'tversky_alpha': 0.39111889280852674, 'tversky_beta': 0.4359874753439581}. Best is trial 75 with value: 0.02873548127646497.\n"
     ]
    },
    {
     "name": "stdout",
     "output_type": "stream",
     "text": [
      "ItemKNNCFRecommender: URM Detected 459 ( 3.6%) users with no interactions.\n",
      "ItemKNNCFRecommender: URM Detected 322 ( 1.4%) items with no interactions.\n",
      "Similarity column 22222 (100.0%), 8881.33 column/sec. Elapsed time 2.50 sec\n",
      "EvaluatorHoldout: Processed 10065 (100.0%) in 6.66 sec. Users per second: 1512\n"
     ]
    },
    {
     "name": "stderr",
     "output_type": "stream",
     "text": [
      "[I 2023-11-27 16:03:01,613] Trial 82 finished with value: 0.026262468557550656 and parameters: {'topK': 128, 'shrink': 571, 'similarity': 'tversky', 'normalize': True, 'feature_weighting': 'BM25', 'tversky_alpha': 0.274699065135416, 'tversky_beta': 0.4833263387572831}. Best is trial 75 with value: 0.02873548127646497.\n"
     ]
    },
    {
     "name": "stdout",
     "output_type": "stream",
     "text": [
      "ItemKNNCFRecommender: URM Detected 459 ( 3.6%) users with no interactions.\n",
      "ItemKNNCFRecommender: URM Detected 322 ( 1.4%) items with no interactions.\n",
      "Similarity column 22222 (100.0%), 8986.68 column/sec. Elapsed time 2.47 sec\n",
      "EvaluatorHoldout: Processed 10065 (100.0%) in 6.21 sec. Users per second: 1621\n"
     ]
    },
    {
     "name": "stderr",
     "output_type": "stream",
     "text": [
      "[I 2023-11-27 16:03:10,399] Trial 83 finished with value: 0.028159412233182787 and parameters: {'topK': 67, 'shrink': 626, 'similarity': 'tversky', 'normalize': True, 'feature_weighting': 'BM25', 'tversky_alpha': 0.46590631501391855, 'tversky_beta': 0.6957826844025273}. Best is trial 75 with value: 0.02873548127646497.\n"
     ]
    },
    {
     "name": "stdout",
     "output_type": "stream",
     "text": [
      "ItemKNNCFRecommender: URM Detected 459 ( 3.6%) users with no interactions.\n",
      "ItemKNNCFRecommender: URM Detected 322 ( 1.4%) items with no interactions.\n",
      "Similarity column 22222 (100.0%), 8952.61 column/sec. Elapsed time 2.48 sec\n",
      "EvaluatorHoldout: Processed 10065 (100.0%) in 6.47 sec. Users per second: 1555\n"
     ]
    },
    {
     "name": "stderr",
     "output_type": "stream",
     "text": [
      "[I 2023-11-27 16:03:19,466] Trial 84 finished with value: 0.026846379485723822 and parameters: {'topK': 91, 'shrink': 725, 'similarity': 'tversky', 'normalize': True, 'feature_weighting': 'BM25', 'tversky_alpha': 0.2934900130214747, 'tversky_beta': 0.36952251015776855}. Best is trial 75 with value: 0.02873548127646497.\n"
     ]
    },
    {
     "name": "stdout",
     "output_type": "stream",
     "text": [
      "ItemKNNCFRecommender: URM Detected 459 ( 3.6%) users with no interactions.\n",
      "ItemKNNCFRecommender: URM Detected 322 ( 1.4%) items with no interactions.\n",
      "Similarity column 22222 (100.0%), 9054.40 column/sec. Elapsed time 2.45 sec\n",
      "EvaluatorHoldout: Processed 10065 (100.0%) in 5.55 sec. Users per second: 1814\n"
     ]
    },
    {
     "name": "stderr",
     "output_type": "stream",
     "text": [
      "[I 2023-11-27 16:03:27,568] Trial 85 finished with value: 0.02841973994433026 and parameters: {'topK': 31, 'shrink': 331, 'similarity': 'tversky', 'normalize': True, 'feature_weighting': 'BM25', 'tversky_alpha': 0.37863900607816003, 'tversky_beta': 0.5588581451636511}. Best is trial 75 with value: 0.02873548127646497.\n"
     ]
    },
    {
     "name": "stdout",
     "output_type": "stream",
     "text": [
      "ItemKNNCFRecommender: URM Detected 459 ( 3.6%) users with no interactions.\n",
      "ItemKNNCFRecommender: URM Detected 322 ( 1.4%) items with no interactions.\n",
      "Similarity column 22222 (100.0%), 9049.99 column/sec. Elapsed time 2.46 sec\n",
      "EvaluatorHoldout: Processed 10065 (100.0%) in 5.39 sec. Users per second: 1867\n"
     ]
    },
    {
     "name": "stderr",
     "output_type": "stream",
     "text": [
      "[I 2023-11-27 16:03:35,501] Trial 86 finished with value: 0.02766145845654056 and parameters: {'topK': 27, 'shrink': 268, 'similarity': 'tversky', 'normalize': True, 'feature_weighting': 'BM25', 'tversky_alpha': 0.5784320234423063, 'tversky_beta': 0.55328013542443}. Best is trial 75 with value: 0.02873548127646497.\n"
     ]
    },
    {
     "name": "stdout",
     "output_type": "stream",
     "text": [
      "ItemKNNCFRecommender: URM Detected 459 ( 3.6%) users with no interactions.\n",
      "ItemKNNCFRecommender: URM Detected 322 ( 1.4%) items with no interactions.\n",
      "Similarity column 22222 (100.0%), 8818.75 column/sec. Elapsed time 2.52 sec\n",
      "EvaluatorHoldout: Processed 10065 (100.0%) in 7.31 sec. Users per second: 1376\n"
     ]
    },
    {
     "name": "stderr",
     "output_type": "stream",
     "text": [
      "[I 2023-11-27 16:03:45,502] Trial 87 finished with value: 0.020616989567809305 and parameters: {'topK': 304, 'shrink': 328, 'similarity': 'tversky', 'normalize': True, 'feature_weighting': 'none', 'tversky_alpha': 0.43702607456887543, 'tversky_beta': 0.7948461158728525}. Best is trial 75 with value: 0.02873548127646497.\n"
     ]
    },
    {
     "name": "stdout",
     "output_type": "stream",
     "text": [
      "ItemKNNCFRecommender: URM Detected 459 ( 3.6%) users with no interactions.\n",
      "ItemKNNCFRecommender: URM Detected 322 ( 1.4%) items with no interactions.\n",
      "Similarity column 22222 (100.0%), 9037.28 column/sec. Elapsed time 2.46 sec\n",
      "EvaluatorHoldout: Processed 10065 (100.0%) in 6.09 sec. Users per second: 1652\n"
     ]
    },
    {
     "name": "stderr",
     "output_type": "stream",
     "text": [
      "[I 2023-11-27 16:03:54,172] Trial 88 finished with value: 0.02816571255095853 and parameters: {'topK': 62, 'shrink': 414, 'similarity': 'tversky', 'normalize': True, 'feature_weighting': 'BM25', 'tversky_alpha': 0.3801727998492491, 'tversky_beta': 0.6096939932363795}. Best is trial 75 with value: 0.02873548127646497.\n"
     ]
    },
    {
     "name": "stdout",
     "output_type": "stream",
     "text": [
      "ItemKNNCFRecommender: URM Detected 459 ( 3.6%) users with no interactions.\n",
      "ItemKNNCFRecommender: URM Detected 322 ( 1.4%) items with no interactions.\n",
      "Similarity column 22222 (100.0%), 5490.93 column/sec. Elapsed time 4.05 sec\n",
      "EvaluatorHoldout: Processed 10065 (100.0%) in 4.59 sec. Users per second: 2193\n"
     ]
    },
    {
     "name": "stderr",
     "output_type": "stream",
     "text": [
      "[I 2023-11-27 16:04:02,892] Trial 89 finished with value: 0.026412950740819705 and parameters: {'topK': 3, 'shrink': 367, 'similarity': 'tversky', 'normalize': True, 'feature_weighting': 'BM25', 'tversky_alpha': 0.4888509828705878, 'tversky_beta': 0.6774804499806645}. Best is trial 75 with value: 0.02873548127646497.\n"
     ]
    },
    {
     "name": "stdout",
     "output_type": "stream",
     "text": [
      "ItemKNNCFRecommender: URM Detected 459 ( 3.6%) users with no interactions.\n",
      "ItemKNNCFRecommender: URM Detected 322 ( 1.4%) items with no interactions.\n",
      "Similarity column 22222 (100.0%), 8612.40 column/sec. Elapsed time 2.58 sec\n",
      "EvaluatorHoldout: Processed 10065 (100.0%) in 8.14 sec. Users per second: 1237\n"
     ]
    },
    {
     "name": "stderr",
     "output_type": "stream",
     "text": [
      "[I 2023-11-27 16:04:13,885] Trial 90 finished with value: 0.02312362500887095 and parameters: {'topK': 635, 'shrink': 533, 'similarity': 'tversky', 'normalize': True, 'feature_weighting': 'BM25', 'tversky_alpha': 0.5361551931333035, 'tversky_beta': 0.506133663969414}. Best is trial 75 with value: 0.02873548127646497.\n"
     ]
    },
    {
     "name": "stdout",
     "output_type": "stream",
     "text": [
      "ItemKNNCFRecommender: URM Detected 459 ( 3.6%) users with no interactions.\n",
      "ItemKNNCFRecommender: URM Detected 322 ( 1.4%) items with no interactions.\n",
      "Similarity column 22222 (100.0%), 9025.16 column/sec. Elapsed time 2.46 sec\n",
      "EvaluatorHoldout: Processed 10065 (100.0%) in 5.54 sec. Users per second: 1817\n"
     ]
    },
    {
     "name": "stderr",
     "output_type": "stream",
     "text": [
      "[I 2023-11-27 16:04:21,981] Trial 91 finished with value: 0.028025067221788578 and parameters: {'topK': 29, 'shrink': 214, 'similarity': 'tversky', 'normalize': True, 'feature_weighting': 'BM25', 'tversky_alpha': 0.3156093581336483, 'tversky_beta': 0.3344260455499786}. Best is trial 75 with value: 0.02873548127646497.\n"
     ]
    },
    {
     "name": "stdout",
     "output_type": "stream",
     "text": [
      "ItemKNNCFRecommender: URM Detected 459 ( 3.6%) users with no interactions.\n",
      "ItemKNNCFRecommender: URM Detected 322 ( 1.4%) items with no interactions.\n",
      "Similarity column 22222 (100.0%), 8955.32 column/sec. Elapsed time 2.48 sec\n",
      "EvaluatorHoldout: Processed 10065 (100.0%) in 6.62 sec. Users per second: 1521\n"
     ]
    },
    {
     "name": "stderr",
     "output_type": "stream",
     "text": [
      "[I 2023-11-27 16:04:31,204] Trial 92 finished with value: 0.02698632302730667 and parameters: {'topK': 119, 'shrink': 467, 'similarity': 'tversky', 'normalize': True, 'feature_weighting': 'BM25', 'tversky_alpha': 0.3631933222982656, 'tversky_beta': 0.4041479305623169}. Best is trial 75 with value: 0.02873548127646497.\n"
     ]
    },
    {
     "name": "stdout",
     "output_type": "stream",
     "text": [
      "ItemKNNCFRecommender: URM Detected 459 ( 3.6%) users with no interactions.\n",
      "ItemKNNCFRecommender: URM Detected 322 ( 1.4%) items with no interactions.\n",
      "Similarity column 22222 (100.0%), 9025.04 column/sec. Elapsed time 2.46 sec\n",
      "EvaluatorHoldout: Processed 10065 (100.0%) in 6.13 sec. Users per second: 1642\n"
     ]
    },
    {
     "name": "stderr",
     "output_type": "stream",
     "text": [
      "[I 2023-11-27 16:04:39,918] Trial 93 finished with value: 0.028113508228262536 and parameters: {'topK': 54, 'shrink': 502, 'similarity': 'tversky', 'normalize': True, 'feature_weighting': 'BM25', 'tversky_alpha': 0.24854956026198907, 'tversky_beta': 0.45835393333833835}. Best is trial 75 with value: 0.02873548127646497.\n"
     ]
    },
    {
     "name": "stdout",
     "output_type": "stream",
     "text": [
      "ItemKNNCFRecommender: URM Detected 459 ( 3.6%) users with no interactions.\n",
      "ItemKNNCFRecommender: URM Detected 322 ( 1.4%) items with no interactions.\n",
      "Similarity column 22222 (100.0%), 8809.51 column/sec. Elapsed time 2.52 sec\n",
      "EvaluatorHoldout: Processed 10065 (100.0%) in 6.28 sec. Users per second: 1604\n"
     ]
    },
    {
     "name": "stderr",
     "output_type": "stream",
     "text": [
      "[I 2023-11-27 16:04:48,840] Trial 94 finished with value: 0.02725258044930181 and parameters: {'topK': 94, 'shrink': 342, 'similarity': 'tversky', 'normalize': True, 'feature_weighting': 'BM25', 'tversky_alpha': 0.43445401291933206, 'tversky_beta': 0.7238988468224237}. Best is trial 75 with value: 0.02873548127646497.\n"
     ]
    },
    {
     "name": "stdout",
     "output_type": "stream",
     "text": [
      "ItemKNNCFRecommender: URM Detected 459 ( 3.6%) users with no interactions.\n",
      "ItemKNNCFRecommender: URM Detected 322 ( 1.4%) items with no interactions.\n",
      "Similarity column 22222 (100.0%), 9001.13 column/sec. Elapsed time 2.47 sec\n",
      "EvaluatorHoldout: Processed 10065 (100.0%) in 5.65 sec. Users per second: 1781\n"
     ]
    },
    {
     "name": "stderr",
     "output_type": "stream",
     "text": [
      "[I 2023-11-27 16:04:57,052] Trial 95 finished with value: 0.029093385060598324 and parameters: {'topK': 31, 'shrink': 435, 'similarity': 'tversky', 'normalize': True, 'feature_weighting': 'BM25', 'tversky_alpha': 0.17113169506422393, 'tversky_beta': 0.5684024974085575}. Best is trial 95 with value: 0.029093385060598324.\n"
     ]
    },
    {
     "name": "stdout",
     "output_type": "stream",
     "text": [
      "ItemKNNCFRecommender: URM Detected 459 ( 3.6%) users with no interactions.\n",
      "ItemKNNCFRecommender: URM Detected 322 ( 1.4%) items with no interactions.\n",
      "Similarity column 22222 (100.0%), 9056.23 column/sec. Elapsed time 2.45 sec\n",
      "EvaluatorHoldout: Processed 10065 (100.0%) in 5.57 sec. Users per second: 1808\n"
     ]
    },
    {
     "name": "stderr",
     "output_type": "stream",
     "text": [
      "[I 2023-11-27 16:05:05,160] Trial 96 finished with value: 0.0228150868560705 and parameters: {'topK': 30, 'shrink': 395, 'similarity': 'tversky', 'normalize': True, 'feature_weighting': 'TF-IDF', 'tversky_alpha': 0.16306306825141337, 'tversky_beta': 0.5653638411791734}. Best is trial 95 with value: 0.029093385060598324.\n"
     ]
    },
    {
     "name": "stdout",
     "output_type": "stream",
     "text": [
      "ItemKNNCFRecommender: URM Detected 459 ( 3.6%) users with no interactions.\n",
      "ItemKNNCFRecommender: URM Detected 322 ( 1.4%) items with no interactions.\n",
      "Similarity column 22222 (100.0%), 9039.21 column/sec. Elapsed time 2.46 sec\n",
      "EvaluatorHoldout: Processed 10065 (100.0%) in 6.13 sec. Users per second: 1642\n"
     ]
    },
    {
     "name": "stderr",
     "output_type": "stream",
     "text": [
      "[I 2023-11-27 16:05:13,866] Trial 97 finished with value: 0.02811651250995524 and parameters: {'topK': 58, 'shrink': 439, 'similarity': 'tversky', 'normalize': False, 'feature_weighting': 'BM25', 'tversky_alpha': 0.24300643758848672, 'tversky_beta': 0.5049929828352445}. Best is trial 95 with value: 0.029093385060598324.\n"
     ]
    },
    {
     "name": "stdout",
     "output_type": "stream",
     "text": [
      "ItemKNNCFRecommender: URM Detected 459 ( 3.6%) users with no interactions.\n",
      "ItemKNNCFRecommender: URM Detected 322 ( 1.4%) items with no interactions.\n",
      "Similarity column 22222 (100.0%), 8661.51 column/sec. Elapsed time 2.57 sec\n",
      "EvaluatorHoldout: Processed 10065 (100.0%) in 8.35 sec. Users per second: 1205\n"
     ]
    },
    {
     "name": "stderr",
     "output_type": "stream",
     "text": [
      "[I 2023-11-27 16:05:25,109] Trial 98 finished with value: 0.02224309448899615 and parameters: {'topK': 804, 'shrink': 610, 'similarity': 'tversky', 'normalize': True, 'feature_weighting': 'BM25', 'tversky_alpha': 0.6039027333542167, 'tversky_beta': 0.5972339138465501}. Best is trial 95 with value: 0.029093385060598324.\n"
     ]
    },
    {
     "name": "stdout",
     "output_type": "stream",
     "text": [
      "ItemKNNCFRecommender: URM Detected 459 ( 3.6%) users with no interactions.\n",
      "ItemKNNCFRecommender: URM Detected 322 ( 1.4%) items with no interactions.\n",
      "Similarity column 22222 (100.0%), 8879.66 column/sec. Elapsed time 2.50 sec\n",
      "EvaluatorHoldout: Processed 10065 (100.0%) in 6.67 sec. Users per second: 1509\n"
     ]
    },
    {
     "name": "stderr",
     "output_type": "stream",
     "text": [
      "[I 2023-11-27 16:05:34,437] Trial 99 finished with value: 0.026665235493104424 and parameters: {'topK': 152, 'shrink': 315, 'similarity': 'tversky', 'normalize': True, 'feature_weighting': 'BM25', 'tversky_alpha': 0.38341757119619446, 'tversky_beta': 0.6444771861317137}. Best is trial 95 with value: 0.029093385060598324.\n"
     ]
    }
   ],
   "source": [
    "best_params = {\n",
    "    \"topK\": 22,\n",
    "    \"shrink\": 6431,\n",
    "    \"similarity\": \"tversky\",\n",
    "    \"normalize\": True,\n",
    "    \"feature_weighting\": \"BM25\",\n",
    "    \"tversky_alpha\": 0.0,\n",
    "    \"tversky_beta\": 0.0\n",
    "}\n",
    "# {\"topK\": 9, \"shrink\": 124, \"similarity\": \"cosine\", \"normalize\": true, \"feature_weighting\": \"TF-IDF\"}\n",
    "# {'topK': 22, 'shrink': 6431, 'similarity': 'tversky', 'normalize': True, 'feature_weighting': 'BM25'}\n",
    "# {'topK': 24, 'shrink': 303, 'similarity': 'cosine', 'normalize': True, 'feature_weighting': 'TF-IDF'}\n",
    "study = op.create_study(direction=\"maximize\")\n",
    "study.enqueue_trial(best_params)\n",
    "study.optimize(objective, n_trials=100)"
   ],
   "metadata": {
    "collapsed": false,
    "ExecuteTime": {
     "end_time": "2023-11-27T15:05:34.447557876Z",
     "start_time": "2023-11-27T14:50:13.358757284Z"
    }
   },
   "id": "c5b8a36d4aed08fc"
  },
  {
   "cell_type": "code",
   "execution_count": 12,
   "outputs": [
    {
     "data": {
      "text/plain": "{'topK': 31,\n 'shrink': 435,\n 'similarity': 'tversky',\n 'normalize': True,\n 'feature_weighting': 'BM25',\n 'tversky_alpha': 0.17113169506422393,\n 'tversky_beta': 0.5684024974085575}"
     },
     "execution_count": 12,
     "metadata": {},
     "output_type": "execute_result"
    }
   ],
   "source": [
    "study.best_params"
   ],
   "metadata": {
    "collapsed": false,
    "ExecuteTime": {
     "end_time": "2023-11-27T15:06:55.859088986Z",
     "start_time": "2023-11-27T15:06:55.818532721Z"
    }
   },
   "id": "f18968c2188a349a"
  },
  {
   "cell_type": "code",
   "execution_count": 13,
   "outputs": [
    {
     "name": "stdout",
     "output_type": "stream",
     "text": [
      "ItemKNNCFRecommender: URM Detected 209 ( 1.7%) users with no interactions.\n",
      "ItemKNNCFRecommender: URM Detected 107 ( 0.5%) items with no interactions.\n",
      "Similarity column 22222 (100.0%), 8332.19 column/sec. Elapsed time 2.67 sec\n"
     ]
    }
   ],
   "source": [
    "final = model(URM_train_validation)\n",
    "final.fit(**study.best_params)"
   ],
   "metadata": {
    "collapsed": false,
    "ExecuteTime": {
     "end_time": "2023-11-27T15:07:19.672001735Z",
     "start_time": "2023-11-27T15:07:16.926402473Z"
    }
   },
   "id": "7ae12a0ef4bc0baa"
  },
  {
   "cell_type": "code",
   "execution_count": 14,
   "outputs": [
    {
     "name": "stdout",
     "output_type": "stream",
     "text": [
      "EvaluatorHoldout: Ignoring 2240 (17.7%) Users that have less than 1 test interactions\n",
      "EvaluatorHoldout: Ignoring 0 Users\n",
      "EvaluatorHoldout: Processed 10398 (100.0%) in 6.11 sec. Users per second: 1703\n"
     ]
    },
    {
     "data": {
      "text/plain": "(       PRECISION PRECISION_RECALL_MIN_DEN    RECALL       MAP MAP_MIN_DEN  \\\n cutoff                                                                      \n 10      0.087555                 0.150164  0.126038  0.044167    0.075071   \n \n              MRR      NDCG       F1 HIT_RATE ARHR_ALL_HITS  ... COVERAGE_USER  \\\n cutoff                                                      ...                 \n 10      0.250032  0.137193  0.10333  0.49346      0.328143  ...      0.822757   \n \n        COVERAGE_USER_HIT USERS_IN_GT DIVERSITY_GINI SHANNON_ENTROPY  \\\n cutoff                                                                \n 10              0.405998    0.822757       0.065133       10.416567   \n \n        RATIO_DIVERSITY_HERFINDAHL RATIO_DIVERSITY_GINI RATIO_SHANNON_ENTROPY  \\\n cutoff                                                                         \n 10                       0.998268             0.187055              0.802518   \n \n        RATIO_AVERAGE_POPULARITY RATIO_NOVELTY  \n cutoff                                         \n 10                     1.600648      0.292522  \n \n [1 rows x 27 columns],\n 'CUTOFF: 10 - PRECISION: 0.0875553, PRECISION_RECALL_MIN_DEN: 0.1501643, RECALL: 0.1260381, MAP: 0.0441665, MAP_MIN_DEN: 0.0750706, MRR: 0.2500324, NDCG: 0.1371930, F1: 0.1033300, HIT_RATE: 0.4934603, ARHR_ALL_HITS: 0.3281433, NOVELTY: 0.0051778, AVERAGE_POPULARITY: 0.2014468, DIVERSITY_MEAN_INTER_LIST: 0.9791575, DIVERSITY_HERFINDAHL: 0.9979063, COVERAGE_ITEM: 0.3515885, COVERAGE_ITEM_HIT: 0.0918909, ITEMS_IN_GT: 0.8036630, COVERAGE_USER: 0.8227568, COVERAGE_USER_HIT: 0.4059978, USERS_IN_GT: 0.8227568, DIVERSITY_GINI: 0.0651329, SHANNON_ENTROPY: 10.4165674, RATIO_DIVERSITY_HERFINDAHL: 0.9982684, RATIO_DIVERSITY_GINI: 0.1870549, RATIO_SHANNON_ENTROPY: 0.8025175, RATIO_AVERAGE_POPULARITY: 1.6006483, RATIO_NOVELTY: 0.2925222, \\n')"
     },
     "execution_count": 14,
     "metadata": {},
     "output_type": "execute_result"
    }
   ],
   "source": [
    "from Evaluation.Evaluator import EvaluatorHoldout\n",
    "evaluator_test = EvaluatorHoldout(URM_test, cutoff_list=[10], ignore_users=[])\n",
    "evaluator_test.evaluateRecommender(final)"
   ],
   "metadata": {
    "collapsed": false,
    "ExecuteTime": {
     "end_time": "2023-11-27T15:07:25.825878914Z",
     "start_time": "2023-11-27T15:07:19.674497794Z"
    }
   },
   "id": "1a0a3570fbcb348b"
  },
  {
   "cell_type": "code",
   "execution_count": null,
   "outputs": [],
   "source": [
    "MAP = .0446210"
   ],
   "metadata": {
    "collapsed": false
   },
   "id": "3cdf5d82e17bdf89"
  },
  {
   "cell_type": "code",
   "execution_count": 15,
   "outputs": [
    {
     "name": "stdout",
     "output_type": "stream",
     "text": [
      "ItemKNNCFRecommender: URM Detected 209 ( 1.7%) users with no interactions.\n",
      "ItemKNNCFRecommender: URM Detected 107 ( 0.5%) items with no interactions.\n",
      "Similarity column 22222 (100.0%), 8086.40 column/sec. Elapsed time 2.75 sec\n",
      "EvaluatorHoldout: Processed 10398 (100.0%) in 6.34 sec. Users per second: 1641\n"
     ]
    },
    {
     "data": {
      "text/plain": "(       PRECISION PRECISION_RECALL_MIN_DEN    RECALL       MAP MAP_MIN_DEN  \\\n cutoff                                                                      \n 10      0.086103                 0.146907  0.122983  0.043788    0.073726   \n \n              MRR      NDCG       F1  HIT_RATE ARHR_ALL_HITS  ...  \\\n cutoff                                                       ...   \n 10      0.250445  0.135174  0.10129  0.489421      0.326844  ...   \n \n        COVERAGE_USER COVERAGE_USER_HIT USERS_IN_GT DIVERSITY_GINI  \\\n cutoff                                                              \n 10          0.822757          0.402674    0.822757       0.057244   \n \n        SHANNON_ENTROPY RATIO_DIVERSITY_HERFINDAHL RATIO_DIVERSITY_GINI  \\\n cutoff                                                                   \n 10            9.904492                   0.996415             0.164398   \n \n        RATIO_SHANNON_ENTROPY RATIO_AVERAGE_POPULARITY RATIO_NOVELTY  \n cutoff                                                               \n 10                  0.763066                 2.054645      0.284419  \n \n [1 rows x 27 columns],\n 'CUTOFF: 10 - PRECISION: 0.0861031, PRECISION_RECALL_MIN_DEN: 0.1469071, RECALL: 0.1229827, MAP: 0.0437879, MAP_MIN_DEN: 0.0737260, MRR: 0.2504453, NDCG: 0.1351745, F1: 0.1012904, HIT_RATE: 0.4894210, ARHR_ALL_HITS: 0.3268439, NOVELTY: 0.0050344, AVERAGE_POPULARITY: 0.2585836, DIVERSITY_MEAN_INTER_LIST: 0.9606304, DIVERSITY_HERFINDAHL: 0.9960538, COVERAGE_ITEM: 0.3553686, COVERAGE_ITEM_HIT: 0.0801908, ITEMS_IN_GT: 0.8036630, COVERAGE_USER: 0.8227568, COVERAGE_USER_HIT: 0.4026745, USERS_IN_GT: 0.8227568, DIVERSITY_GINI: 0.0572437, SHANNON_ENTROPY: 9.9044922, RATIO_DIVERSITY_HERFINDAHL: 0.9964152, RATIO_DIVERSITY_GINI: 0.1643979, RATIO_SHANNON_ENTROPY: 0.7630660, RATIO_AVERAGE_POPULARITY: 2.0546445, RATIO_NOVELTY: 0.2844190, \\n')"
     },
     "execution_count": 15,
     "metadata": {},
     "output_type": "execute_result"
    }
   ],
   "source": [
    "boh = ItemKNNCFRecommender(URM_train_validation)\n",
    "boh.fit(topK=22, shrink=6431, similarity=\"tversky\", normalize=True, feature_weighting=\"BM25\")\n",
    "evaluator_test.evaluateRecommender(boh)"
   ],
   "metadata": {
    "collapsed": false,
    "ExecuteTime": {
     "end_time": "2023-11-27T15:22:47.987130044Z",
     "start_time": "2023-11-27T15:22:38.800953018Z"
    }
   },
   "id": "214f16600326ac17"
  },
  {
   "cell_type": "code",
   "execution_count": null,
   "outputs": [],
   "source": [],
   "metadata": {
    "collapsed": false
   },
   "id": "264ce67e4451acc7"
  }
 ],
 "metadata": {
  "kernelspec": {
   "display_name": "Python 3",
   "language": "python",
   "name": "python3"
  },
  "language_info": {
   "codemirror_mode": {
    "name": "ipython",
    "version": 2
   },
   "file_extension": ".py",
   "mimetype": "text/x-python",
   "name": "python",
   "nbconvert_exporter": "python",
   "pygments_lexer": "ipython2",
   "version": "2.7.6"
  }
 },
 "nbformat": 4,
 "nbformat_minor": 5
}
