{
 "cells": [
  {
   "cell_type": "code",
   "execution_count": 1,
   "id": "initial_id",
   "metadata": {
    "collapsed": true,
    "ExecuteTime": {
     "end_time": "2023-11-22T16:20:52.788710Z",
     "start_time": "2023-11-22T16:20:50.588879Z"
    }
   },
   "outputs": [
    {
     "name": "stdout",
     "output_type": "stream",
     "text": [
      "Warning: 217 (1.72 %) of 12638 users have no train items\n",
      "Warning: 2171 (17.18 %) of 12638 users have no sampled items\n",
      "Warning: 470 (3.72 %) of 12638 users have no train items\n",
      "Warning: 2645 (20.93 %) of 12638 users have no sampled items\n"
     ]
    }
   ],
   "source": [
    "from Data_manager.UserUtils import *\n",
    "from Data_manager.split_functions.split_train_validation_random_holdout import \\\n",
    "    split_train_in_two_percentage_global_sample\n",
    "URM_all = getURM_all()\n",
    "URM_train_validation, URM_test = split_train_in_two_percentage_global_sample(URM_all, train_percentage = 0.80)\n",
    "URM_train, URM_validation = split_train_in_two_percentage_global_sample(URM_train_validation, train_percentage = 0.80)"
   ]
  },
  {
   "cell_type": "code",
   "execution_count": 2,
   "outputs": [
    {
     "name": "stdout",
     "output_type": "stream",
     "text": [
      "EvaluatorHoldout: Ignoring 2645 (20.9%) Users that have less than 1 test interactions\n",
      "EvaluatorHoldout: Ignoring 0 Users\n"
     ]
    }
   ],
   "source": [
    "from Recommenders.MatrixFactorization.PureSVDRecommender import PureSVDRecommender\n",
    "model = PureSVDRecommender\n",
    "\n",
    "from Evaluation.Evaluator import EvaluatorHoldout\n",
    "evaluator_validation = EvaluatorHoldout(URM_validation, cutoff_list=[10], ignore_users=[])"
   ],
   "metadata": {
    "collapsed": false,
    "ExecuteTime": {
     "end_time": "2023-11-22T16:20:53.416350Z",
     "start_time": "2023-11-22T16:20:52.785829Z"
    }
   },
   "id": "8a9fec0ccc4f11c5"
  },
  {
   "cell_type": "code",
   "execution_count": 8,
   "outputs": [],
   "source": [
    "import optuna as op\n",
    "def objective(trial):\n",
    "    # Optuna suggest params\n",
    "    num_factors = trial.suggest_int(\"num_factors\", 20, 120)\n",
    "    random_seed = 42\n",
    "    \n",
    "    recommender = model(URM_train)\n",
    "    recommender.fit(**trial.params)\n",
    "    \n",
    "    result, _ = evaluator_validation.evaluateRecommender(recommender)\n",
    "    MAP_result = result[\"MAP\"].item()\n",
    "       \n",
    "    return MAP_result"
   ],
   "metadata": {
    "collapsed": false,
    "ExecuteTime": {
     "end_time": "2023-11-22T16:38:37.688866Z",
     "start_time": "2023-11-22T16:38:37.677774Z"
    }
   },
   "id": "b826576f6714c764"
  },
  {
   "cell_type": "code",
   "execution_count": 10,
   "outputs": [
    {
     "name": "stderr",
     "output_type": "stream",
     "text": [
      "[I 2023-11-22 17:40:33,918] Using an existing study with name 'puresvd-study' instead of creating a new one.\n"
     ]
    },
    {
     "name": "stdout",
     "output_type": "stream",
     "text": [
      "PureSVDRecommender: URM Detected 470 ( 3.7%) users with no interactions.\n",
      "PureSVDRecommender: URM Detected 320 ( 1.4%) items with no interactions.\n",
      "PureSVDRecommender: Computing SVD decomposition...\n",
      "PureSVDRecommender: Computing SVD decomposition... done in 0.82 sec\n",
      "EvaluatorHoldout: Processed 9993 (100.0%) in 4.99 sec. Users per second: 2003\n"
     ]
    },
    {
     "name": "stderr",
     "output_type": "stream",
     "text": [
      "[I 2023-11-22 17:40:39,782] Trial 100 finished with value: 0.018719512388830874 and parameters: {'num_factors': 79}. Best is trial 39 with value: 0.01897827288625843.\n"
     ]
    },
    {
     "name": "stdout",
     "output_type": "stream",
     "text": [
      "PureSVDRecommender: URM Detected 470 ( 3.7%) users with no interactions.\n",
      "PureSVDRecommender: URM Detected 320 ( 1.4%) items with no interactions.\n",
      "PureSVDRecommender: Computing SVD decomposition...\n",
      "PureSVDRecommender: Computing SVD decomposition... done in 0.40 sec\n",
      "EvaluatorHoldout: Processed 9993 (100.0%) in 4.87 sec. Users per second: 2051\n"
     ]
    },
    {
     "name": "stderr",
     "output_type": "stream",
     "text": [
      "[I 2023-11-22 17:40:45,089] Trial 101 finished with value: 0.018896866695575755 and parameters: {'num_factors': 59}. Best is trial 39 with value: 0.01897827288625843.\n"
     ]
    },
    {
     "name": "stdout",
     "output_type": "stream",
     "text": [
      "PureSVDRecommender: URM Detected 470 ( 3.7%) users with no interactions.\n",
      "PureSVDRecommender: URM Detected 320 ( 1.4%) items with no interactions.\n",
      "PureSVDRecommender: Computing SVD decomposition...\n",
      "PureSVDRecommender: Computing SVD decomposition... done in 0.54 sec\n",
      "EvaluatorHoldout: Processed 9993 (100.0%) in 5.09 sec. Users per second: 1964\n"
     ]
    },
    {
     "name": "stderr",
     "output_type": "stream",
     "text": [
      "[I 2023-11-22 17:40:50,762] Trial 102 finished with value: 0.019149940672756625 and parameters: {'num_factors': 57}. Best is trial 102 with value: 0.019149940672756625.\n"
     ]
    },
    {
     "name": "stdout",
     "output_type": "stream",
     "text": [
      "PureSVDRecommender: URM Detected 470 ( 3.7%) users with no interactions.\n",
      "PureSVDRecommender: URM Detected 320 ( 1.4%) items with no interactions.\n",
      "PureSVDRecommender: Computing SVD decomposition...\n",
      "PureSVDRecommender: Computing SVD decomposition... done in 0.48 sec\n",
      "EvaluatorHoldout: Processed 9993 (100.0%) in 5.05 sec. Users per second: 1981\n"
     ]
    },
    {
     "name": "stderr",
     "output_type": "stream",
     "text": [
      "[I 2023-11-22 17:40:56,380] Trial 103 finished with value: 0.01869256495419807 and parameters: {'num_factors': 60}. Best is trial 102 with value: 0.019149940672756625.\n"
     ]
    },
    {
     "name": "stdout",
     "output_type": "stream",
     "text": [
      "PureSVDRecommender: URM Detected 470 ( 3.7%) users with no interactions.\n",
      "PureSVDRecommender: URM Detected 320 ( 1.4%) items with no interactions.\n",
      "PureSVDRecommender: Computing SVD decomposition...\n",
      "PureSVDRecommender: Computing SVD decomposition... done in 0.43 sec\n",
      "EvaluatorHoldout: Processed 9993 (100.0%) in 4.33 sec. Users per second: 2308\n"
     ]
    },
    {
     "name": "stderr",
     "output_type": "stream",
     "text": [
      "[I 2023-11-22 17:41:01,198] Trial 104 finished with value: 0.01869059532148694 and parameters: {'num_factors': 54}. Best is trial 102 with value: 0.019149940672756625.\n"
     ]
    },
    {
     "name": "stdout",
     "output_type": "stream",
     "text": [
      "PureSVDRecommender: URM Detected 470 ( 3.7%) users with no interactions.\n",
      "PureSVDRecommender: URM Detected 320 ( 1.4%) items with no interactions.\n",
      "PureSVDRecommender: Computing SVD decomposition...\n",
      "PureSVDRecommender: Computing SVD decomposition... done in 0.51 sec\n",
      "EvaluatorHoldout: Processed 9993 (100.0%) in 4.37 sec. Users per second: 2286\n"
     ]
    },
    {
     "name": "stderr",
     "output_type": "stream",
     "text": [
      "[I 2023-11-22 17:41:06,103] Trial 105 finished with value: 0.018788862521225132 and parameters: {'num_factors': 63}. Best is trial 102 with value: 0.019149940672756625.\n"
     ]
    },
    {
     "name": "stdout",
     "output_type": "stream",
     "text": [
      "PureSVDRecommender: URM Detected 470 ( 3.7%) users with no interactions.\n",
      "PureSVDRecommender: URM Detected 320 ( 1.4%) items with no interactions.\n",
      "PureSVDRecommender: Computing SVD decomposition...\n",
      "PureSVDRecommender: Computing SVD decomposition... done in 0.68 sec\n",
      "EvaluatorHoldout: Processed 9993 (100.0%) in 4.76 sec. Users per second: 2099\n"
     ]
    },
    {
     "name": "stderr",
     "output_type": "stream",
     "text": [
      "[I 2023-11-22 17:41:11,574] Trial 106 finished with value: 0.0187909195166775 and parameters: {'num_factors': 75}. Best is trial 102 with value: 0.019149940672756625.\n"
     ]
    },
    {
     "name": "stdout",
     "output_type": "stream",
     "text": [
      "PureSVDRecommender: URM Detected 470 ( 3.7%) users with no interactions.\n",
      "PureSVDRecommender: URM Detected 320 ( 1.4%) items with no interactions.\n",
      "PureSVDRecommender: Computing SVD decomposition...\n",
      "PureSVDRecommender: Computing SVD decomposition... done in 0.48 sec\n",
      "EvaluatorHoldout: Processed 9993 (100.0%) in 4.87 sec. Users per second: 2051\n"
     ]
    },
    {
     "name": "stderr",
     "output_type": "stream",
     "text": [
      "[I 2023-11-22 17:41:16,953] Trial 107 finished with value: 0.01898581387923926 and parameters: {'num_factors': 50}. Best is trial 102 with value: 0.019149940672756625.\n"
     ]
    },
    {
     "name": "stdout",
     "output_type": "stream",
     "text": [
      "PureSVDRecommender: URM Detected 470 ( 3.7%) users with no interactions.\n",
      "PureSVDRecommender: URM Detected 320 ( 1.4%) items with no interactions.\n",
      "PureSVDRecommender: Computing SVD decomposition...\n",
      "PureSVDRecommender: Computing SVD decomposition... done in 0.46 sec\n",
      "EvaluatorHoldout: Processed 9993 (100.0%) in 4.40 sec. Users per second: 2272\n"
     ]
    },
    {
     "name": "stderr",
     "output_type": "stream",
     "text": [
      "[I 2023-11-22 17:41:21,857] Trial 108 finished with value: 0.01876577890237446 and parameters: {'num_factors': 49}. Best is trial 102 with value: 0.019149940672756625.\n"
     ]
    },
    {
     "name": "stdout",
     "output_type": "stream",
     "text": [
      "PureSVDRecommender: URM Detected 470 ( 3.7%) users with no interactions.\n",
      "PureSVDRecommender: URM Detected 320 ( 1.4%) items with no interactions.\n",
      "PureSVDRecommender: Computing SVD decomposition...\n",
      "PureSVDRecommender: Computing SVD decomposition... done in 0.54 sec\n",
      "EvaluatorHoldout: Processed 9993 (100.0%) in 4.70 sec. Users per second: 2128\n"
     ]
    },
    {
     "name": "stderr",
     "output_type": "stream",
     "text": [
      "[I 2023-11-22 17:41:27,128] Trial 109 finished with value: 0.01893163706658152 and parameters: {'num_factors': 72}. Best is trial 102 with value: 0.019149940672756625.\n"
     ]
    },
    {
     "name": "stdout",
     "output_type": "stream",
     "text": [
      "PureSVDRecommender: URM Detected 470 ( 3.7%) users with no interactions.\n",
      "PureSVDRecommender: URM Detected 320 ( 1.4%) items with no interactions.\n",
      "PureSVDRecommender: Computing SVD decomposition...\n",
      "PureSVDRecommender: Computing SVD decomposition... done in 0.66 sec\n",
      "EvaluatorHoldout: Processed 9993 (100.0%) in 4.64 sec. Users per second: 2154\n"
     ]
    },
    {
     "name": "stderr",
     "output_type": "stream",
     "text": [
      "[I 2023-11-22 17:41:32,462] Trial 110 finished with value: 0.018791185575934885 and parameters: {'num_factors': 71}. Best is trial 102 with value: 0.019149940672756625.\n"
     ]
    },
    {
     "name": "stdout",
     "output_type": "stream",
     "text": [
      "PureSVDRecommender: URM Detected 470 ( 3.7%) users with no interactions.\n",
      "PureSVDRecommender: URM Detected 320 ( 1.4%) items with no interactions.\n",
      "PureSVDRecommender: Computing SVD decomposition...\n",
      "PureSVDRecommender: Computing SVD decomposition... done in 0.53 sec\n",
      "EvaluatorHoldout: Processed 9993 (100.0%) in 4.88 sec. Users per second: 2047\n"
     ]
    },
    {
     "name": "stderr",
     "output_type": "stream",
     "text": [
      "[I 2023-11-22 17:41:37,903] Trial 111 finished with value: 0.01884999261387732 and parameters: {'num_factors': 68}. Best is trial 102 with value: 0.019149940672756625.\n"
     ]
    },
    {
     "name": "stdout",
     "output_type": "stream",
     "text": [
      "PureSVDRecommender: URM Detected 470 ( 3.7%) users with no interactions.\n",
      "PureSVDRecommender: URM Detected 320 ( 1.4%) items with no interactions.\n",
      "PureSVDRecommender: Computing SVD decomposition...\n",
      "PureSVDRecommender: Computing SVD decomposition... done in 0.64 sec\n",
      "EvaluatorHoldout: Processed 9993 (100.0%) in 4.69 sec. Users per second: 2129\n"
     ]
    },
    {
     "name": "stderr",
     "output_type": "stream",
     "text": [
      "[I 2023-11-22 17:41:43,304] Trial 112 finished with value: 0.018941679810788165 and parameters: {'num_factors': 66}. Best is trial 102 with value: 0.019149940672756625.\n"
     ]
    },
    {
     "name": "stdout",
     "output_type": "stream",
     "text": [
      "PureSVDRecommender: URM Detected 470 ( 3.7%) users with no interactions.\n",
      "PureSVDRecommender: URM Detected 320 ( 1.4%) items with no interactions.\n",
      "PureSVDRecommender: Computing SVD decomposition...\n",
      "PureSVDRecommender: Computing SVD decomposition... done in 0.59 sec\n",
      "EvaluatorHoldout: Processed 9993 (100.0%) in 4.57 sec. Users per second: 2187\n"
     ]
    },
    {
     "name": "stderr",
     "output_type": "stream",
     "text": [
      "[I 2023-11-22 17:41:48,498] Trial 113 finished with value: 0.01888651421074116 and parameters: {'num_factors': 68}. Best is trial 102 with value: 0.019149940672756625.\n"
     ]
    },
    {
     "name": "stdout",
     "output_type": "stream",
     "text": [
      "PureSVDRecommender: URM Detected 470 ( 3.7%) users with no interactions.\n",
      "PureSVDRecommender: URM Detected 320 ( 1.4%) items with no interactions.\n",
      "PureSVDRecommender: Computing SVD decomposition...\n",
      "PureSVDRecommender: Computing SVD decomposition... done in 0.51 sec\n",
      "EvaluatorHoldout: Processed 9993 (100.0%) in 4.13 sec. Users per second: 2422\n"
     ]
    },
    {
     "name": "stderr",
     "output_type": "stream",
     "text": [
      "[I 2023-11-22 17:41:53,166] Trial 114 finished with value: 0.018889524254279554 and parameters: {'num_factors': 74}. Best is trial 102 with value: 0.019149940672756625.\n"
     ]
    },
    {
     "name": "stdout",
     "output_type": "stream",
     "text": [
      "PureSVDRecommender: URM Detected 470 ( 3.7%) users with no interactions.\n",
      "PureSVDRecommender: URM Detected 320 ( 1.4%) items with no interactions.\n",
      "PureSVDRecommender: Computing SVD decomposition...\n",
      "PureSVDRecommender: Computing SVD decomposition... done in 0.46 sec\n",
      "EvaluatorHoldout: Processed 9993 (100.0%) in 4.03 sec. Users per second: 2478\n"
     ]
    },
    {
     "name": "stderr",
     "output_type": "stream",
     "text": [
      "[I 2023-11-22 17:41:57,689] Trial 115 finished with value: 0.01881571862208302 and parameters: {'num_factors': 74}. Best is trial 102 with value: 0.019149940672756625.\n"
     ]
    },
    {
     "name": "stdout",
     "output_type": "stream",
     "text": [
      "PureSVDRecommender: URM Detected 470 ( 3.7%) users with no interactions.\n",
      "PureSVDRecommender: URM Detected 320 ( 1.4%) items with no interactions.\n",
      "PureSVDRecommender: Computing SVD decomposition...\n",
      "PureSVDRecommender: Computing SVD decomposition... done in 0.43 sec\n",
      "EvaluatorHoldout: Processed 9993 (100.0%) in 4.36 sec. Users per second: 2290\n"
     ]
    },
    {
     "name": "stderr",
     "output_type": "stream",
     "text": [
      "[I 2023-11-22 17:42:02,513] Trial 116 finished with value: 0.018765763018239654 and parameters: {'num_factors': 79}. Best is trial 102 with value: 0.019149940672756625.\n"
     ]
    },
    {
     "name": "stdout",
     "output_type": "stream",
     "text": [
      "PureSVDRecommender: URM Detected 470 ( 3.7%) users with no interactions.\n",
      "PureSVDRecommender: URM Detected 320 ( 1.4%) items with no interactions.\n",
      "PureSVDRecommender: Computing SVD decomposition...\n",
      "PureSVDRecommender: Computing SVD decomposition... done in 0.48 sec\n",
      "EvaluatorHoldout: Processed 9993 (100.0%) in 4.41 sec. Users per second: 2264\n"
     ]
    },
    {
     "name": "stderr",
     "output_type": "stream",
     "text": [
      "[I 2023-11-22 17:42:07,432] Trial 117 finished with value: 0.01883182116370345 and parameters: {'num_factors': 78}. Best is trial 102 with value: 0.019149940672756625.\n"
     ]
    },
    {
     "name": "stdout",
     "output_type": "stream",
     "text": [
      "PureSVDRecommender: URM Detected 470 ( 3.7%) users with no interactions.\n",
      "PureSVDRecommender: URM Detected 320 ( 1.4%) items with no interactions.\n",
      "PureSVDRecommender: Computing SVD decomposition...\n",
      "PureSVDRecommender: Computing SVD decomposition... done in 0.47 sec\n",
      "EvaluatorHoldout: Processed 9993 (100.0%) in 4.35 sec. Users per second: 2295\n"
     ]
    },
    {
     "name": "stderr",
     "output_type": "stream",
     "text": [
      "[I 2023-11-22 17:42:12,298] Trial 118 finished with value: 0.018953279200202074 and parameters: {'num_factors': 68}. Best is trial 102 with value: 0.019149940672756625.\n"
     ]
    },
    {
     "name": "stdout",
     "output_type": "stream",
     "text": [
      "PureSVDRecommender: URM Detected 470 ( 3.7%) users with no interactions.\n",
      "PureSVDRecommender: URM Detected 320 ( 1.4%) items with no interactions.\n",
      "PureSVDRecommender: Computing SVD decomposition...\n",
      "PureSVDRecommender: Computing SVD decomposition... done in 0.60 sec\n",
      "EvaluatorHoldout: Processed 9993 (100.0%) in 4.34 sec. Users per second: 2301\n"
     ]
    },
    {
     "name": "stderr",
     "output_type": "stream",
     "text": [
      "[I 2023-11-22 17:42:17,286] Trial 119 finished with value: 0.01882730609839582 and parameters: {'num_factors': 82}. Best is trial 102 with value: 0.019149940672756625.\n"
     ]
    },
    {
     "name": "stdout",
     "output_type": "stream",
     "text": [
      "PureSVDRecommender: URM Detected 470 ( 3.7%) users with no interactions.\n",
      "PureSVDRecommender: URM Detected 320 ( 1.4%) items with no interactions.\n",
      "PureSVDRecommender: Computing SVD decomposition...\n",
      "PureSVDRecommender: Computing SVD decomposition... done in 0.36 sec\n",
      "EvaluatorHoldout: Processed 9993 (100.0%) in 4.35 sec. Users per second: 2297\n"
     ]
    },
    {
     "name": "stderr",
     "output_type": "stream",
     "text": [
      "[I 2023-11-22 17:42:22,035] Trial 120 finished with value: 0.01892241235531541 and parameters: {'num_factors': 62}. Best is trial 102 with value: 0.019149940672756625.\n"
     ]
    },
    {
     "name": "stdout",
     "output_type": "stream",
     "text": [
      "PureSVDRecommender: URM Detected 470 ( 3.7%) users with no interactions.\n",
      "PureSVDRecommender: URM Detected 320 ( 1.4%) items with no interactions.\n",
      "PureSVDRecommender: Computing SVD decomposition...\n",
      "PureSVDRecommender: Computing SVD decomposition... done in 0.37 sec\n",
      "EvaluatorHoldout: Processed 9993 (100.0%) in 4.44 sec. Users per second: 2253\n"
     ]
    },
    {
     "name": "stderr",
     "output_type": "stream",
     "text": [
      "[I 2023-11-22 17:42:26,864] Trial 121 finished with value: 0.018945698496884315 and parameters: {'num_factors': 62}. Best is trial 102 with value: 0.019149940672756625.\n"
     ]
    },
    {
     "name": "stdout",
     "output_type": "stream",
     "text": [
      "PureSVDRecommender: URM Detected 470 ( 3.7%) users with no interactions.\n",
      "PureSVDRecommender: URM Detected 320 ( 1.4%) items with no interactions.\n",
      "PureSVDRecommender: Computing SVD decomposition...\n",
      "PureSVDRecommender: Computing SVD decomposition... done in 0.54 sec\n",
      "EvaluatorHoldout: Processed 9993 (100.0%) in 4.54 sec. Users per second: 2200\n"
     ]
    },
    {
     "name": "stderr",
     "output_type": "stream",
     "text": [
      "[I 2023-11-22 17:42:32,025] Trial 122 finished with value: 0.01890360156871717 and parameters: {'num_factors': 61}. Best is trial 102 with value: 0.019149940672756625.\n"
     ]
    },
    {
     "name": "stdout",
     "output_type": "stream",
     "text": [
      "PureSVDRecommender: URM Detected 470 ( 3.7%) users with no interactions.\n",
      "PureSVDRecommender: URM Detected 320 ( 1.4%) items with no interactions.\n",
      "PureSVDRecommender: Computing SVD decomposition...\n",
      "PureSVDRecommender: Computing SVD decomposition... done in 0.52 sec\n",
      "EvaluatorHoldout: Processed 9993 (100.0%) in 4.39 sec. Users per second: 2276\n"
     ]
    },
    {
     "name": "stderr",
     "output_type": "stream",
     "text": [
      "[I 2023-11-22 17:42:37,012] Trial 123 finished with value: 0.018792015521976457 and parameters: {'num_factors': 61}. Best is trial 102 with value: 0.019149940672756625.\n"
     ]
    },
    {
     "name": "stdout",
     "output_type": "stream",
     "text": [
      "PureSVDRecommender: URM Detected 470 ( 3.7%) users with no interactions.\n",
      "PureSVDRecommender: URM Detected 320 ( 1.4%) items with no interactions.\n",
      "PureSVDRecommender: Computing SVD decomposition...\n",
      "PureSVDRecommender: Computing SVD decomposition... done in 0.41 sec\n",
      "EvaluatorHoldout: Processed 9993 (100.0%) in 4.43 sec. Users per second: 2256\n"
     ]
    },
    {
     "name": "stderr",
     "output_type": "stream",
     "text": [
      "[I 2023-11-22 17:42:41,959] Trial 124 finished with value: 0.018961805009538393 and parameters: {'num_factors': 57}. Best is trial 102 with value: 0.019149940672756625.\n"
     ]
    },
    {
     "name": "stdout",
     "output_type": "stream",
     "text": [
      "PureSVDRecommender: URM Detected 470 ( 3.7%) users with no interactions.\n",
      "PureSVDRecommender: URM Detected 320 ( 1.4%) items with no interactions.\n",
      "PureSVDRecommender: Computing SVD decomposition...\n",
      "PureSVDRecommender: Computing SVD decomposition... done in 0.37 sec\n",
      "EvaluatorHoldout: Processed 9993 (100.0%) in 4.87 sec. Users per second: 2053\n"
     ]
    },
    {
     "name": "stderr",
     "output_type": "stream",
     "text": [
      "[I 2023-11-22 17:42:47,231] Trial 125 finished with value: 0.018994069658284596 and parameters: {'num_factors': 57}. Best is trial 102 with value: 0.019149940672756625.\n"
     ]
    },
    {
     "name": "stdout",
     "output_type": "stream",
     "text": [
      "PureSVDRecommender: URM Detected 470 ( 3.7%) users with no interactions.\n",
      "PureSVDRecommender: URM Detected 320 ( 1.4%) items with no interactions.\n",
      "PureSVDRecommender: Computing SVD decomposition...\n",
      "PureSVDRecommender: Computing SVD decomposition... done in 0.39 sec\n",
      "EvaluatorHoldout: Processed 9993 (100.0%) in 4.56 sec. Users per second: 2190\n"
     ]
    },
    {
     "name": "stderr",
     "output_type": "stream",
     "text": [
      "[I 2023-11-22 17:42:52,251] Trial 126 finished with value: 0.01890336330669566 and parameters: {'num_factors': 58}. Best is trial 102 with value: 0.019149940672756625.\n"
     ]
    },
    {
     "name": "stdout",
     "output_type": "stream",
     "text": [
      "PureSVDRecommender: URM Detected 470 ( 3.7%) users with no interactions.\n",
      "PureSVDRecommender: URM Detected 320 ( 1.4%) items with no interactions.\n",
      "PureSVDRecommender: Computing SVD decomposition...\n",
      "PureSVDRecommender: Computing SVD decomposition... done in 0.53 sec\n",
      "EvaluatorHoldout: Processed 9993 (100.0%) in 4.63 sec. Users per second: 2160\n"
     ]
    },
    {
     "name": "stderr",
     "output_type": "stream",
     "text": [
      "[I 2023-11-22 17:42:57,446] Trial 127 finished with value: 0.018826420557882553 and parameters: {'num_factors': 56}. Best is trial 102 with value: 0.019149940672756625.\n"
     ]
    },
    {
     "name": "stdout",
     "output_type": "stream",
     "text": [
      "PureSVDRecommender: URM Detected 470 ( 3.7%) users with no interactions.\n",
      "PureSVDRecommender: URM Detected 320 ( 1.4%) items with no interactions.\n",
      "PureSVDRecommender: Computing SVD decomposition...\n",
      "PureSVDRecommender: Computing SVD decomposition... done in 0.43 sec\n",
      "EvaluatorHoldout: Processed 9993 (100.0%) in 4.83 sec. Users per second: 2069\n"
     ]
    },
    {
     "name": "stderr",
     "output_type": "stream",
     "text": [
      "[I 2023-11-22 17:43:02,743] Trial 128 finished with value: 0.018864248624831007 and parameters: {'num_factors': 58}. Best is trial 102 with value: 0.019149940672756625.\n"
     ]
    },
    {
     "name": "stdout",
     "output_type": "stream",
     "text": [
      "PureSVDRecommender: URM Detected 470 ( 3.7%) users with no interactions.\n",
      "PureSVDRecommender: URM Detected 320 ( 1.4%) items with no interactions.\n",
      "PureSVDRecommender: Computing SVD decomposition...\n",
      "PureSVDRecommender: Computing SVD decomposition... done in 0.33 sec\n",
      "EvaluatorHoldout: Processed 9993 (100.0%) in 4.53 sec. Users per second: 2207\n"
     ]
    },
    {
     "name": "stderr",
     "output_type": "stream",
     "text": [
      "[I 2023-11-22 17:43:07,637] Trial 129 finished with value: 0.01887431916627352 and parameters: {'num_factors': 53}. Best is trial 102 with value: 0.019149940672756625.\n"
     ]
    },
    {
     "name": "stdout",
     "output_type": "stream",
     "text": [
      "PureSVDRecommender: URM Detected 470 ( 3.7%) users with no interactions.\n",
      "PureSVDRecommender: URM Detected 320 ( 1.4%) items with no interactions.\n",
      "PureSVDRecommender: Computing SVD decomposition...\n",
      "PureSVDRecommender: Computing SVD decomposition... done in 0.48 sec\n",
      "EvaluatorHoldout: Processed 9993 (100.0%) in 5.27 sec. Users per second: 1895\n"
     ]
    },
    {
     "name": "stderr",
     "output_type": "stream",
     "text": [
      "[I 2023-11-22 17:43:13,417] Trial 130 finished with value: 0.019166329128802832 and parameters: {'num_factors': 62}. Best is trial 130 with value: 0.019166329128802832.\n"
     ]
    },
    {
     "name": "stdout",
     "output_type": "stream",
     "text": [
      "PureSVDRecommender: URM Detected 470 ( 3.7%) users with no interactions.\n",
      "PureSVDRecommender: URM Detected 320 ( 1.4%) items with no interactions.\n",
      "PureSVDRecommender: Computing SVD decomposition...\n",
      "PureSVDRecommender: Computing SVD decomposition... done in 0.45 sec\n",
      "EvaluatorHoldout: Processed 9993 (100.0%) in 4.81 sec. Users per second: 2077\n"
     ]
    },
    {
     "name": "stderr",
     "output_type": "stream",
     "text": [
      "[I 2023-11-22 17:43:18,816] Trial 131 finished with value: 0.01905050598911302 and parameters: {'num_factors': 63}. Best is trial 130 with value: 0.019166329128802832.\n"
     ]
    },
    {
     "name": "stdout",
     "output_type": "stream",
     "text": [
      "PureSVDRecommender: URM Detected 470 ( 3.7%) users with no interactions.\n",
      "PureSVDRecommender: URM Detected 320 ( 1.4%) items with no interactions.\n",
      "PureSVDRecommender: Computing SVD decomposition...\n",
      "PureSVDRecommender: Computing SVD decomposition... done in 0.44 sec\n",
      "EvaluatorHoldout: Processed 9993 (100.0%) in 4.84 sec. Users per second: 2064\n"
     ]
    },
    {
     "name": "stderr",
     "output_type": "stream",
     "text": [
      "[I 2023-11-22 17:43:24,131] Trial 132 finished with value: 0.018672578741627026 and parameters: {'num_factors': 62}. Best is trial 130 with value: 0.019166329128802832.\n"
     ]
    },
    {
     "name": "stdout",
     "output_type": "stream",
     "text": [
      "PureSVDRecommender: URM Detected 470 ( 3.7%) users with no interactions.\n",
      "PureSVDRecommender: URM Detected 320 ( 1.4%) items with no interactions.\n",
      "PureSVDRecommender: Computing SVD decomposition...\n",
      "PureSVDRecommender: Computing SVD decomposition... done in 0.75 sec\n",
      "EvaluatorHoldout: Processed 9993 (100.0%) in 4.80 sec. Users per second: 2081\n"
     ]
    },
    {
     "name": "stderr",
     "output_type": "stream",
     "text": [
      "[I 2023-11-22 17:43:29,709] Trial 133 finished with value: 0.018820833313478193 and parameters: {'num_factors': 65}. Best is trial 130 with value: 0.019166329128802832.\n"
     ]
    },
    {
     "name": "stdout",
     "output_type": "stream",
     "text": [
      "PureSVDRecommender: URM Detected 470 ( 3.7%) users with no interactions.\n",
      "PureSVDRecommender: URM Detected 320 ( 1.4%) items with no interactions.\n",
      "PureSVDRecommender: Computing SVD decomposition...\n",
      "PureSVDRecommender: Computing SVD decomposition... done in 0.59 sec\n",
      "EvaluatorHoldout: Processed 9993 (100.0%) in 5.01 sec. Users per second: 1995\n"
     ]
    },
    {
     "name": "stderr",
     "output_type": "stream",
     "text": [
      "[I 2023-11-22 17:43:35,336] Trial 134 finished with value: 0.018999382901364287 and parameters: {'num_factors': 62}. Best is trial 130 with value: 0.019166329128802832.\n"
     ]
    },
    {
     "name": "stdout",
     "output_type": "stream",
     "text": [
      "PureSVDRecommender: URM Detected 470 ( 3.7%) users with no interactions.\n",
      "PureSVDRecommender: URM Detected 320 ( 1.4%) items with no interactions.\n",
      "PureSVDRecommender: Computing SVD decomposition...\n",
      "PureSVDRecommender: Computing SVD decomposition... done in 0.57 sec\n",
      "EvaluatorHoldout: Processed 9993 (100.0%) in 4.83 sec. Users per second: 2069\n"
     ]
    },
    {
     "name": "stderr",
     "output_type": "stream",
     "text": [
      "[I 2023-11-22 17:43:40,807] Trial 135 finished with value: 0.01890337124876302 and parameters: {'num_factors': 66}. Best is trial 130 with value: 0.019166329128802832.\n"
     ]
    },
    {
     "name": "stdout",
     "output_type": "stream",
     "text": [
      "PureSVDRecommender: URM Detected 470 ( 3.7%) users with no interactions.\n",
      "PureSVDRecommender: URM Detected 320 ( 1.4%) items with no interactions.\n",
      "PureSVDRecommender: Computing SVD decomposition...\n",
      "PureSVDRecommender: Computing SVD decomposition... done in 0.42 sec\n",
      "EvaluatorHoldout: Processed 9993 (100.0%) in 4.43 sec. Users per second: 2255\n"
     ]
    },
    {
     "name": "stderr",
     "output_type": "stream",
     "text": [
      "[I 2023-11-22 17:43:45,688] Trial 136 finished with value: 0.018784236266974164 and parameters: {'num_factors': 62}. Best is trial 130 with value: 0.019166329128802832.\n"
     ]
    },
    {
     "name": "stdout",
     "output_type": "stream",
     "text": [
      "PureSVDRecommender: URM Detected 470 ( 3.7%) users with no interactions.\n",
      "PureSVDRecommender: URM Detected 320 ( 1.4%) items with no interactions.\n",
      "PureSVDRecommender: Computing SVD decomposition...\n",
      "PureSVDRecommender: Computing SVD decomposition... done in 0.86 sec\n",
      "EvaluatorHoldout: Processed 9993 (100.0%) in 4.38 sec. Users per second: 2282\n"
     ]
    },
    {
     "name": "stderr",
     "output_type": "stream",
     "text": [
      "[I 2023-11-22 17:43:51,093] Trial 137 finished with value: 0.018966137407296232 and parameters: {'num_factors': 64}. Best is trial 130 with value: 0.019166329128802832.\n"
     ]
    },
    {
     "name": "stdout",
     "output_type": "stream",
     "text": [
      "PureSVDRecommender: URM Detected 470 ( 3.7%) users with no interactions.\n",
      "PureSVDRecommender: URM Detected 320 ( 1.4%) items with no interactions.\n",
      "PureSVDRecommender: Computing SVD decomposition...\n",
      "PureSVDRecommender: Computing SVD decomposition... done in 1.01 sec\n",
      "EvaluatorHoldout: Processed 9993 (100.0%) in 4.79 sec. Users per second: 2085\n"
     ]
    },
    {
     "name": "stderr",
     "output_type": "stream",
     "text": [
      "[I 2023-11-22 17:43:56,929] Trial 138 finished with value: 0.01896823808411914 and parameters: {'num_factors': 70}. Best is trial 130 with value: 0.019166329128802832.\n"
     ]
    },
    {
     "name": "stdout",
     "output_type": "stream",
     "text": [
      "PureSVDRecommender: URM Detected 470 ( 3.7%) users with no interactions.\n",
      "PureSVDRecommender: URM Detected 320 ( 1.4%) items with no interactions.\n",
      "PureSVDRecommender: Computing SVD decomposition...\n",
      "PureSVDRecommender: Computing SVD decomposition... done in 1.39 sec\n",
      "EvaluatorHoldout: Processed 9993 (100.0%) in 4.48 sec. Users per second: 2229\n"
     ]
    },
    {
     "name": "stderr",
     "output_type": "stream",
     "text": [
      "[I 2023-11-22 17:44:02,832] Trial 139 finished with value: 0.01917349684461663 and parameters: {'num_factors': 70}. Best is trial 139 with value: 0.01917349684461663.\n"
     ]
    },
    {
     "name": "stdout",
     "output_type": "stream",
     "text": [
      "PureSVDRecommender: URM Detected 470 ( 3.7%) users with no interactions.\n",
      "PureSVDRecommender: URM Detected 320 ( 1.4%) items with no interactions.\n",
      "PureSVDRecommender: Computing SVD decomposition...\n",
      "PureSVDRecommender: Computing SVD decomposition... done in 0.37 sec\n",
      "EvaluatorHoldout: Processed 9993 (100.0%) in 4.06 sec. Users per second: 2463\n"
     ]
    },
    {
     "name": "stderr",
     "output_type": "stream",
     "text": [
      "[I 2023-11-22 17:44:07,292] Trial 140 finished with value: 0.01933612258739853 and parameters: {'num_factors': 69}. Best is trial 140 with value: 0.01933612258739853.\n"
     ]
    },
    {
     "name": "stdout",
     "output_type": "stream",
     "text": [
      "PureSVDRecommender: URM Detected 470 ( 3.7%) users with no interactions.\n",
      "PureSVDRecommender: URM Detected 320 ( 1.4%) items with no interactions.\n",
      "PureSVDRecommender: Computing SVD decomposition...\n",
      "PureSVDRecommender: Computing SVD decomposition... done in 0.43 sec\n",
      "EvaluatorHoldout: Processed 9993 (100.0%) in 4.04 sec. Users per second: 2471\n"
     ]
    },
    {
     "name": "stderr",
     "output_type": "stream",
     "text": [
      "[I 2023-11-22 17:44:11,796] Trial 141 finished with value: 0.01888814630558852 and parameters: {'num_factors': 69}. Best is trial 140 with value: 0.01933612258739853.\n"
     ]
    },
    {
     "name": "stdout",
     "output_type": "stream",
     "text": [
      "PureSVDRecommender: URM Detected 470 ( 3.7%) users with no interactions.\n",
      "PureSVDRecommender: URM Detected 320 ( 1.4%) items with no interactions.\n",
      "PureSVDRecommender: Computing SVD decomposition...\n",
      "PureSVDRecommender: Computing SVD decomposition... done in 0.38 sec\n",
      "EvaluatorHoldout: Processed 9993 (100.0%) in 3.98 sec. Users per second: 2511\n"
     ]
    },
    {
     "name": "stderr",
     "output_type": "stream",
     "text": [
      "[I 2023-11-22 17:44:16,193] Trial 142 finished with value: 0.018740725650812702 and parameters: {'num_factors': 65}. Best is trial 140 with value: 0.01933612258739853.\n"
     ]
    },
    {
     "name": "stdout",
     "output_type": "stream",
     "text": [
      "PureSVDRecommender: URM Detected 470 ( 3.7%) users with no interactions.\n",
      "PureSVDRecommender: URM Detected 320 ( 1.4%) items with no interactions.\n",
      "PureSVDRecommender: Computing SVD decomposition...\n",
      "PureSVDRecommender: Computing SVD decomposition... done in 0.42 sec\n",
      "EvaluatorHoldout: Processed 9993 (100.0%) in 4.23 sec. Users per second: 2364\n"
     ]
    },
    {
     "name": "stderr",
     "output_type": "stream",
     "text": [
      "[I 2023-11-22 17:44:20,883] Trial 143 finished with value: 0.019006816676435365 and parameters: {'num_factors': 67}. Best is trial 140 with value: 0.01933612258739853.\n"
     ]
    },
    {
     "name": "stdout",
     "output_type": "stream",
     "text": [
      "PureSVDRecommender: URM Detected 470 ( 3.7%) users with no interactions.\n",
      "PureSVDRecommender: URM Detected 320 ( 1.4%) items with no interactions.\n",
      "PureSVDRecommender: Computing SVD decomposition...\n",
      "PureSVDRecommender: Computing SVD decomposition... done in 0.36 sec\n",
      "EvaluatorHoldout: Processed 9993 (100.0%) in 4.05 sec. Users per second: 2469\n"
     ]
    },
    {
     "name": "stderr",
     "output_type": "stream",
     "text": [
      "[I 2023-11-22 17:44:25,333] Trial 144 finished with value: 0.018956912696030042 and parameters: {'num_factors': 70}. Best is trial 140 with value: 0.01933612258739853.\n"
     ]
    },
    {
     "name": "stdout",
     "output_type": "stream",
     "text": [
      "PureSVDRecommender: URM Detected 470 ( 3.7%) users with no interactions.\n",
      "PureSVDRecommender: URM Detected 320 ( 1.4%) items with no interactions.\n",
      "PureSVDRecommender: Computing SVD decomposition...\n",
      "PureSVDRecommender: Computing SVD decomposition... done in 0.36 sec\n",
      "EvaluatorHoldout: Processed 9993 (100.0%) in 4.10 sec. Users per second: 2436\n"
     ]
    },
    {
     "name": "stderr",
     "output_type": "stream",
     "text": [
      "[I 2023-11-22 17:44:29,858] Trial 145 finished with value: 0.01878347779953907 and parameters: {'num_factors': 70}. Best is trial 140 with value: 0.01933612258739853.\n"
     ]
    },
    {
     "name": "stdout",
     "output_type": "stream",
     "text": [
      "PureSVDRecommender: URM Detected 470 ( 3.7%) users with no interactions.\n",
      "PureSVDRecommender: URM Detected 320 ( 1.4%) items with no interactions.\n",
      "PureSVDRecommender: Computing SVD decomposition...\n",
      "PureSVDRecommender: Computing SVD decomposition... done in 0.48 sec\n",
      "EvaluatorHoldout: Processed 9993 (100.0%) in 4.21 sec. Users per second: 2374\n"
     ]
    },
    {
     "name": "stderr",
     "output_type": "stream",
     "text": [
      "[I 2023-11-22 17:44:34,575] Trial 146 finished with value: 0.0187641110682239 and parameters: {'num_factors': 76}. Best is trial 140 with value: 0.01933612258739853.\n"
     ]
    },
    {
     "name": "stdout",
     "output_type": "stream",
     "text": [
      "PureSVDRecommender: URM Detected 470 ( 3.7%) users with no interactions.\n",
      "PureSVDRecommender: URM Detected 320 ( 1.4%) items with no interactions.\n",
      "PureSVDRecommender: Computing SVD decomposition...\n",
      "PureSVDRecommender: Computing SVD decomposition... done in 0.39 sec\n",
      "EvaluatorHoldout: Processed 9993 (100.0%) in 4.18 sec. Users per second: 2389\n"
     ]
    },
    {
     "name": "stderr",
     "output_type": "stream",
     "text": [
      "[I 2023-11-22 17:44:39,182] Trial 147 finished with value: 0.018929695231106207 and parameters: {'num_factors': 72}. Best is trial 140 with value: 0.01933612258739853.\n"
     ]
    },
    {
     "name": "stdout",
     "output_type": "stream",
     "text": [
      "PureSVDRecommender: URM Detected 470 ( 3.7%) users with no interactions.\n",
      "PureSVDRecommender: URM Detected 320 ( 1.4%) items with no interactions.\n",
      "PureSVDRecommender: Computing SVD decomposition...\n",
      "PureSVDRecommender: Computing SVD decomposition... done in 0.38 sec\n",
      "EvaluatorHoldout: Processed 9993 (100.0%) in 4.03 sec. Users per second: 2479\n"
     ]
    },
    {
     "name": "stderr",
     "output_type": "stream",
     "text": [
      "[I 2023-11-22 17:44:43,621] Trial 148 finished with value: 0.018933852903381544 and parameters: {'num_factors': 52}. Best is trial 140 with value: 0.01933612258739853.\n"
     ]
    },
    {
     "name": "stdout",
     "output_type": "stream",
     "text": [
      "PureSVDRecommender: URM Detected 470 ( 3.7%) users with no interactions.\n",
      "PureSVDRecommender: URM Detected 320 ( 1.4%) items with no interactions.\n",
      "PureSVDRecommender: Computing SVD decomposition...\n",
      "PureSVDRecommender: Computing SVD decomposition... done in 0.40 sec\n",
      "EvaluatorHoldout: Processed 9993 (100.0%) in 4.05 sec. Users per second: 2469\n"
     ]
    },
    {
     "name": "stderr",
     "output_type": "stream",
     "text": [
      "[I 2023-11-22 17:44:48,101] Trial 149 finished with value: 0.019128461351517495 and parameters: {'num_factors': 67}. Best is trial 140 with value: 0.01933612258739853.\n"
     ]
    },
    {
     "name": "stdout",
     "output_type": "stream",
     "text": [
      "PureSVDRecommender: URM Detected 470 ( 3.7%) users with no interactions.\n",
      "PureSVDRecommender: URM Detected 320 ( 1.4%) items with no interactions.\n",
      "PureSVDRecommender: Computing SVD decomposition...\n",
      "PureSVDRecommender: Computing SVD decomposition... done in 0.30 sec\n",
      "EvaluatorHoldout: Processed 9993 (100.0%) in 4.09 sec. Users per second: 2442\n"
     ]
    },
    {
     "name": "stderr",
     "output_type": "stream",
     "text": [
      "[I 2023-11-22 17:44:52,528] Trial 150 finished with value: 0.018737080241883582 and parameters: {'num_factors': 56}. Best is trial 140 with value: 0.01933612258739853.\n"
     ]
    },
    {
     "name": "stdout",
     "output_type": "stream",
     "text": [
      "PureSVDRecommender: URM Detected 470 ( 3.7%) users with no interactions.\n",
      "PureSVDRecommender: URM Detected 320 ( 1.4%) items with no interactions.\n",
      "PureSVDRecommender: Computing SVD decomposition...\n",
      "PureSVDRecommender: Computing SVD decomposition... done in 0.40 sec\n",
      "EvaluatorHoldout: Processed 9993 (100.0%) in 4.22 sec. Users per second: 2367\n"
     ]
    },
    {
     "name": "stderr",
     "output_type": "stream",
     "text": [
      "[I 2023-11-22 17:44:57,190] Trial 151 finished with value: 0.019038191813634628 and parameters: {'num_factors': 67}. Best is trial 140 with value: 0.01933612258739853.\n"
     ]
    },
    {
     "name": "stdout",
     "output_type": "stream",
     "text": [
      "PureSVDRecommender: URM Detected 470 ( 3.7%) users with no interactions.\n",
      "PureSVDRecommender: URM Detected 320 ( 1.4%) items with no interactions.\n",
      "PureSVDRecommender: Computing SVD decomposition...\n",
      "PureSVDRecommender: Computing SVD decomposition... done in 0.41 sec\n",
      "EvaluatorHoldout: Processed 9993 (100.0%) in 4.08 sec. Users per second: 2450\n"
     ]
    },
    {
     "name": "stderr",
     "output_type": "stream",
     "text": [
      "[I 2023-11-22 17:45:01,721] Trial 152 finished with value: 0.01871360746173117 and parameters: {'num_factors': 64}. Best is trial 140 with value: 0.01933612258739853.\n"
     ]
    },
    {
     "name": "stdout",
     "output_type": "stream",
     "text": [
      "PureSVDRecommender: URM Detected 470 ( 3.7%) users with no interactions.\n",
      "PureSVDRecommender: URM Detected 320 ( 1.4%) items with no interactions.\n",
      "PureSVDRecommender: Computing SVD decomposition...\n",
      "PureSVDRecommender: Computing SVD decomposition... done in 0.40 sec\n",
      "EvaluatorHoldout: Processed 9993 (100.0%) in 4.29 sec. Users per second: 2329\n"
     ]
    },
    {
     "name": "stderr",
     "output_type": "stream",
     "text": [
      "[I 2023-11-22 17:45:06,436] Trial 153 finished with value: 0.01874717460952821 and parameters: {'num_factors': 67}. Best is trial 140 with value: 0.01933612258739853.\n"
     ]
    },
    {
     "name": "stdout",
     "output_type": "stream",
     "text": [
      "PureSVDRecommender: URM Detected 470 ( 3.7%) users with no interactions.\n",
      "PureSVDRecommender: URM Detected 320 ( 1.4%) items with no interactions.\n",
      "PureSVDRecommender: Computing SVD decomposition...\n",
      "PureSVDRecommender: Computing SVD decomposition... done in 0.41 sec\n",
      "EvaluatorHoldout: Processed 9993 (100.0%) in 4.10 sec. Users per second: 2440\n"
     ]
    },
    {
     "name": "stderr",
     "output_type": "stream",
     "text": [
      "[I 2023-11-22 17:45:10,973] Trial 154 finished with value: 0.01886938317139454 and parameters: {'num_factors': 59}. Best is trial 140 with value: 0.01933612258739853.\n"
     ]
    },
    {
     "name": "stdout",
     "output_type": "stream",
     "text": [
      "PureSVDRecommender: URM Detected 470 ( 3.7%) users with no interactions.\n",
      "PureSVDRecommender: URM Detected 320 ( 1.4%) items with no interactions.\n",
      "PureSVDRecommender: Computing SVD decomposition...\n",
      "PureSVDRecommender: Computing SVD decomposition... done in 0.45 sec\n",
      "EvaluatorHoldout: Processed 9993 (100.0%) in 4.28 sec. Users per second: 2336\n"
     ]
    },
    {
     "name": "stderr",
     "output_type": "stream",
     "text": [
      "[I 2023-11-22 17:45:15,747] Trial 155 finished with value: 0.018716335561877465 and parameters: {'num_factors': 70}. Best is trial 140 with value: 0.01933612258739853.\n"
     ]
    },
    {
     "name": "stdout",
     "output_type": "stream",
     "text": [
      "PureSVDRecommender: URM Detected 470 ( 3.7%) users with no interactions.\n",
      "PureSVDRecommender: URM Detected 320 ( 1.4%) items with no interactions.\n",
      "PureSVDRecommender: Computing SVD decomposition...\n",
      "PureSVDRecommender: Computing SVD decomposition... done in 0.49 sec\n",
      "EvaluatorHoldout: Processed 9993 (100.0%) in 4.08 sec. Users per second: 2449\n"
     ]
    },
    {
     "name": "stderr",
     "output_type": "stream",
     "text": [
      "[I 2023-11-22 17:45:20,349] Trial 156 finished with value: 0.018791189546968554 and parameters: {'num_factors': 64}. Best is trial 140 with value: 0.01933612258739853.\n"
     ]
    },
    {
     "name": "stdout",
     "output_type": "stream",
     "text": [
      "PureSVDRecommender: URM Detected 470 ( 3.7%) users with no interactions.\n",
      "PureSVDRecommender: URM Detected 320 ( 1.4%) items with no interactions.\n",
      "PureSVDRecommender: Computing SVD decomposition...\n",
      "PureSVDRecommender: Computing SVD decomposition... done in 0.50 sec\n",
      "EvaluatorHoldout: Processed 9993 (100.0%) in 4.04 sec. Users per second: 2474\n"
     ]
    },
    {
     "name": "stderr",
     "output_type": "stream",
     "text": [
      "[I 2023-11-22 17:45:24,920] Trial 157 finished with value: 0.018817029063201398 and parameters: {'num_factors': 73}. Best is trial 140 with value: 0.01933612258739853.\n"
     ]
    },
    {
     "name": "stdout",
     "output_type": "stream",
     "text": [
      "PureSVDRecommender: URM Detected 470 ( 3.7%) users with no interactions.\n",
      "PureSVDRecommender: URM Detected 320 ( 1.4%) items with no interactions.\n",
      "PureSVDRecommender: Computing SVD decomposition...\n",
      "PureSVDRecommender: Computing SVD decomposition... done in 0.38 sec\n",
      "EvaluatorHoldout: Processed 9993 (100.0%) in 4.07 sec. Users per second: 2453\n"
     ]
    },
    {
     "name": "stderr",
     "output_type": "stream",
     "text": [
      "[I 2023-11-22 17:45:29,400] Trial 158 finished with value: 0.01902563143406733 and parameters: {'num_factors': 77}. Best is trial 140 with value: 0.01933612258739853.\n"
     ]
    },
    {
     "name": "stdout",
     "output_type": "stream",
     "text": [
      "PureSVDRecommender: URM Detected 470 ( 3.7%) users with no interactions.\n",
      "PureSVDRecommender: URM Detected 320 ( 1.4%) items with no interactions.\n",
      "PureSVDRecommender: Computing SVD decomposition...\n",
      "PureSVDRecommender: Computing SVD decomposition... done in 0.40 sec\n",
      "EvaluatorHoldout: Processed 9993 (100.0%) in 4.50 sec. Users per second: 2221\n"
     ]
    },
    {
     "name": "stderr",
     "output_type": "stream",
     "text": [
      "[I 2023-11-22 17:45:34,325] Trial 159 finished with value: 0.018721275527790043 and parameters: {'num_factors': 57}. Best is trial 140 with value: 0.01933612258739853.\n"
     ]
    },
    {
     "name": "stdout",
     "output_type": "stream",
     "text": [
      "PureSVDRecommender: URM Detected 470 ( 3.7%) users with no interactions.\n",
      "PureSVDRecommender: URM Detected 320 ( 1.4%) items with no interactions.\n",
      "PureSVDRecommender: Computing SVD decomposition...\n",
      "PureSVDRecommender: Computing SVD decomposition... done in 0.48 sec\n",
      "EvaluatorHoldout: Processed 9993 (100.0%) in 4.83 sec. Users per second: 2070\n"
     ]
    },
    {
     "name": "stderr",
     "output_type": "stream",
     "text": [
      "[I 2023-11-22 17:45:39,692] Trial 160 finished with value: 0.018806708346636326 and parameters: {'num_factors': 60}. Best is trial 140 with value: 0.01933612258739853.\n"
     ]
    },
    {
     "name": "stdout",
     "output_type": "stream",
     "text": [
      "PureSVDRecommender: URM Detected 470 ( 3.7%) users with no interactions.\n",
      "PureSVDRecommender: URM Detected 320 ( 1.4%) items with no interactions.\n",
      "PureSVDRecommender: Computing SVD decomposition...\n",
      "PureSVDRecommender: Computing SVD decomposition... done in 0.75 sec\n",
      "EvaluatorHoldout: Processed 9993 (100.0%) in 4.52 sec. Users per second: 2210\n"
     ]
    },
    {
     "name": "stderr",
     "output_type": "stream",
     "text": [
      "[I 2023-11-22 17:45:45,067] Trial 161 finished with value: 0.018944745448798254 and parameters: {'num_factors': 77}. Best is trial 140 with value: 0.01933612258739853.\n"
     ]
    },
    {
     "name": "stdout",
     "output_type": "stream",
     "text": [
      "PureSVDRecommender: URM Detected 470 ( 3.7%) users with no interactions.\n",
      "PureSVDRecommender: URM Detected 320 ( 1.4%) items with no interactions.\n",
      "PureSVDRecommender: Computing SVD decomposition...\n",
      "PureSVDRecommender: Computing SVD decomposition... done in 0.51 sec\n",
      "EvaluatorHoldout: Processed 9993 (100.0%) in 4.13 sec. Users per second: 2418\n"
     ]
    },
    {
     "name": "stderr",
     "output_type": "stream",
     "text": [
      "[I 2023-11-22 17:45:49,743] Trial 162 finished with value: 0.018922591051831437 and parameters: {'num_factors': 70}. Best is trial 140 with value: 0.01933612258739853.\n"
     ]
    },
    {
     "name": "stdout",
     "output_type": "stream",
     "text": [
      "PureSVDRecommender: URM Detected 470 ( 3.7%) users with no interactions.\n",
      "PureSVDRecommender: URM Detected 320 ( 1.4%) items with no interactions.\n",
      "PureSVDRecommender: Computing SVD decomposition...\n",
      "PureSVDRecommender: Computing SVD decomposition... done in 0.44 sec\n",
      "EvaluatorHoldout: Processed 9993 (100.0%) in 4.21 sec. Users per second: 2372\n"
     ]
    },
    {
     "name": "stderr",
     "output_type": "stream",
     "text": [
      "[I 2023-11-22 17:45:54,425] Trial 163 finished with value: 0.018727688747202438 and parameters: {'num_factors': 67}. Best is trial 140 with value: 0.01933612258739853.\n"
     ]
    },
    {
     "name": "stdout",
     "output_type": "stream",
     "text": [
      "PureSVDRecommender: URM Detected 470 ( 3.7%) users with no interactions.\n",
      "PureSVDRecommender: URM Detected 320 ( 1.4%) items with no interactions.\n",
      "PureSVDRecommender: Computing SVD decomposition...\n",
      "PureSVDRecommender: Computing SVD decomposition... done in 0.42 sec\n",
      "EvaluatorHoldout: Processed 9993 (100.0%) in 4.21 sec. Users per second: 2375\n"
     ]
    },
    {
     "name": "stderr",
     "output_type": "stream",
     "text": [
      "[I 2023-11-22 17:45:59,085] Trial 164 finished with value: 0.018731080009975195 and parameters: {'num_factors': 64}. Best is trial 140 with value: 0.01933612258739853.\n"
     ]
    },
    {
     "name": "stdout",
     "output_type": "stream",
     "text": [
      "PureSVDRecommender: URM Detected 470 ( 3.7%) users with no interactions.\n",
      "PureSVDRecommender: URM Detected 320 ( 1.4%) items with no interactions.\n",
      "PureSVDRecommender: Computing SVD decomposition...\n",
      "PureSVDRecommender: Computing SVD decomposition... done in 0.46 sec\n",
      "EvaluatorHoldout: Processed 9993 (100.0%) in 4.15 sec. Users per second: 2410\n"
     ]
    },
    {
     "name": "stderr",
     "output_type": "stream",
     "text": [
      "[I 2023-11-22 17:46:03,729] Trial 165 finished with value: 0.018510064187788625 and parameters: {'num_factors': 73}. Best is trial 140 with value: 0.01933612258739853.\n"
     ]
    },
    {
     "name": "stdout",
     "output_type": "stream",
     "text": [
      "PureSVDRecommender: URM Detected 470 ( 3.7%) users with no interactions.\n",
      "PureSVDRecommender: URM Detected 320 ( 1.4%) items with no interactions.\n",
      "PureSVDRecommender: Computing SVD decomposition...\n",
      "PureSVDRecommender: Computing SVD decomposition... done in 0.38 sec\n",
      "EvaluatorHoldout: Processed 9993 (100.0%) in 4.22 sec. Users per second: 2370\n"
     ]
    },
    {
     "name": "stderr",
     "output_type": "stream",
     "text": [
      "[I 2023-11-22 17:46:08,367] Trial 166 finished with value: 0.018858927439683926 and parameters: {'num_factors': 54}. Best is trial 140 with value: 0.01933612258739853.\n"
     ]
    },
    {
     "name": "stdout",
     "output_type": "stream",
     "text": [
      "PureSVDRecommender: URM Detected 470 ( 3.7%) users with no interactions.\n",
      "PureSVDRecommender: URM Detected 320 ( 1.4%) items with no interactions.\n",
      "PureSVDRecommender: Computing SVD decomposition...\n",
      "PureSVDRecommender: Computing SVD decomposition... done in 0.47 sec\n",
      "EvaluatorHoldout: Processed 9993 (100.0%) in 4.34 sec. Users per second: 2301\n"
     ]
    },
    {
     "name": "stderr",
     "output_type": "stream",
     "text": [
      "[I 2023-11-22 17:46:13,213] Trial 167 finished with value: 0.01881159668911098 and parameters: {'num_factors': 82}. Best is trial 140 with value: 0.01933612258739853.\n"
     ]
    },
    {
     "name": "stdout",
     "output_type": "stream",
     "text": [
      "PureSVDRecommender: URM Detected 470 ( 3.7%) users with no interactions.\n",
      "PureSVDRecommender: URM Detected 320 ( 1.4%) items with no interactions.\n",
      "PureSVDRecommender: Computing SVD decomposition...\n",
      "PureSVDRecommender: Computing SVD decomposition... done in 1.34 sec\n",
      "EvaluatorHoldout: Processed 9993 (100.0%) in 5.14 sec. Users per second: 1945\n"
     ]
    },
    {
     "name": "stderr",
     "output_type": "stream",
     "text": [
      "[I 2023-11-22 17:46:19,727] Trial 168 finished with value: 0.01888037102161983 and parameters: {'num_factors': 68}. Best is trial 140 with value: 0.01933612258739853.\n"
     ]
    },
    {
     "name": "stdout",
     "output_type": "stream",
     "text": [
      "PureSVDRecommender: URM Detected 470 ( 3.7%) users with no interactions.\n",
      "PureSVDRecommender: URM Detected 320 ( 1.4%) items with no interactions.\n",
      "PureSVDRecommender: Computing SVD decomposition...\n",
      "PureSVDRecommender: Computing SVD decomposition... done in 0.55 sec\n",
      "EvaluatorHoldout: Processed 9993 (100.0%) in 4.81 sec. Users per second: 2079\n"
     ]
    },
    {
     "name": "stderr",
     "output_type": "stream",
     "text": [
      "[I 2023-11-22 17:46:25,116] Trial 169 finished with value: 0.018662261996095678 and parameters: {'num_factors': 66}. Best is trial 140 with value: 0.01933612258739853.\n"
     ]
    },
    {
     "name": "stdout",
     "output_type": "stream",
     "text": [
      "PureSVDRecommender: URM Detected 470 ( 3.7%) users with no interactions.\n",
      "PureSVDRecommender: URM Detected 320 ( 1.4%) items with no interactions.\n",
      "PureSVDRecommender: Computing SVD decomposition...\n",
      "PureSVDRecommender: Computing SVD decomposition... done in 0.59 sec\n",
      "EvaluatorHoldout: Processed 9993 (100.0%) in 4.92 sec. Users per second: 2033\n"
     ]
    },
    {
     "name": "stderr",
     "output_type": "stream",
     "text": [
      "[I 2023-11-22 17:46:30,653] Trial 170 finished with value: 0.018906436886773074 and parameters: {'num_factors': 71}. Best is trial 140 with value: 0.01933612258739853.\n"
     ]
    },
    {
     "name": "stdout",
     "output_type": "stream",
     "text": [
      "PureSVDRecommender: URM Detected 470 ( 3.7%) users with no interactions.\n",
      "PureSVDRecommender: URM Detected 320 ( 1.4%) items with no interactions.\n",
      "PureSVDRecommender: Computing SVD decomposition...\n",
      "PureSVDRecommender: Computing SVD decomposition... done in 0.56 sec\n",
      "EvaluatorHoldout: Processed 9993 (100.0%) in 4.18 sec. Users per second: 2389\n"
     ]
    },
    {
     "name": "stderr",
     "output_type": "stream",
     "text": [
      "[I 2023-11-22 17:46:35,426] Trial 171 finished with value: 0.01913418758210109 and parameters: {'num_factors': 68}. Best is trial 140 with value: 0.01933612258739853.\n"
     ]
    },
    {
     "name": "stdout",
     "output_type": "stream",
     "text": [
      "PureSVDRecommender: URM Detected 470 ( 3.7%) users with no interactions.\n",
      "PureSVDRecommender: URM Detected 320 ( 1.4%) items with no interactions.\n",
      "PureSVDRecommender: Computing SVD decomposition...\n",
      "PureSVDRecommender: Computing SVD decomposition... done in 0.38 sec\n",
      "EvaluatorHoldout: Processed 9993 (100.0%) in 3.92 sec. Users per second: 2552\n"
     ]
    },
    {
     "name": "stderr",
     "output_type": "stream",
     "text": [
      "[I 2023-11-22 17:46:39,752] Trial 172 finished with value: 0.01892623646076059 and parameters: {'num_factors': 63}. Best is trial 140 with value: 0.01933612258739853.\n"
     ]
    },
    {
     "name": "stdout",
     "output_type": "stream",
     "text": [
      "PureSVDRecommender: URM Detected 470 ( 3.7%) users with no interactions.\n",
      "PureSVDRecommender: URM Detected 320 ( 1.4%) items with no interactions.\n",
      "PureSVDRecommender: Computing SVD decomposition...\n",
      "PureSVDRecommender: Computing SVD decomposition... done in 0.41 sec\n",
      "EvaluatorHoldout: Processed 9993 (100.0%) in 4.05 sec. Users per second: 2470\n"
     ]
    },
    {
     "name": "stderr",
     "output_type": "stream",
     "text": [
      "[I 2023-11-22 17:46:44,240] Trial 173 finished with value: 0.018793484804442463 and parameters: {'num_factors': 76}. Best is trial 140 with value: 0.01933612258739853.\n"
     ]
    },
    {
     "name": "stdout",
     "output_type": "stream",
     "text": [
      "PureSVDRecommender: URM Detected 470 ( 3.7%) users with no interactions.\n",
      "PureSVDRecommender: URM Detected 320 ( 1.4%) items with no interactions.\n",
      "PureSVDRecommender: Computing SVD decomposition...\n",
      "PureSVDRecommender: Computing SVD decomposition... done in 0.45 sec\n",
      "EvaluatorHoldout: Processed 9993 (100.0%) in 4.08 sec. Users per second: 2447\n"
     ]
    },
    {
     "name": "stderr",
     "output_type": "stream",
     "text": [
      "[I 2023-11-22 17:46:48,802] Trial 174 finished with value: 0.018674790607393403 and parameters: {'num_factors': 69}. Best is trial 140 with value: 0.01933612258739853.\n"
     ]
    },
    {
     "name": "stdout",
     "output_type": "stream",
     "text": [
      "PureSVDRecommender: URM Detected 470 ( 3.7%) users with no interactions.\n",
      "PureSVDRecommender: URM Detected 320 ( 1.4%) items with no interactions.\n",
      "PureSVDRecommender: Computing SVD decomposition...\n",
      "PureSVDRecommender: Computing SVD decomposition... done in 0.42 sec\n",
      "EvaluatorHoldout: Processed 9993 (100.0%) in 4.24 sec. Users per second: 2359\n"
     ]
    },
    {
     "name": "stderr",
     "output_type": "stream",
     "text": [
      "[I 2023-11-22 17:46:53,494] Trial 175 finished with value: 0.018910693834890756 and parameters: {'num_factors': 65}. Best is trial 140 with value: 0.01933612258739853.\n"
     ]
    },
    {
     "name": "stdout",
     "output_type": "stream",
     "text": [
      "PureSVDRecommender: URM Detected 470 ( 3.7%) users with no interactions.\n",
      "PureSVDRecommender: URM Detected 320 ( 1.4%) items with no interactions.\n",
      "PureSVDRecommender: Computing SVD decomposition...\n",
      "PureSVDRecommender: Computing SVD decomposition... done in 0.66 sec\n",
      "EvaluatorHoldout: Processed 9993 (100.0%) in 4.47 sec. Users per second: 2235\n"
     ]
    },
    {
     "name": "stderr",
     "output_type": "stream",
     "text": [
      "[I 2023-11-22 17:46:58,655] Trial 176 finished with value: 0.018710037502442163 and parameters: {'num_factors': 61}. Best is trial 140 with value: 0.01933612258739853.\n"
     ]
    },
    {
     "name": "stdout",
     "output_type": "stream",
     "text": [
      "PureSVDRecommender: URM Detected 470 ( 3.7%) users with no interactions.\n",
      "PureSVDRecommender: URM Detected 320 ( 1.4%) items with no interactions.\n",
      "PureSVDRecommender: Computing SVD decomposition...\n",
      "PureSVDRecommender: Computing SVD decomposition... done in 0.40 sec\n",
      "EvaluatorHoldout: Processed 9993 (100.0%) in 4.45 sec. Users per second: 2244\n"
     ]
    },
    {
     "name": "stderr",
     "output_type": "stream",
     "text": [
      "[I 2023-11-22 17:47:03,589] Trial 177 finished with value: 0.01870138064899393 and parameters: {'num_factors': 59}. Best is trial 140 with value: 0.01933612258739853.\n"
     ]
    },
    {
     "name": "stdout",
     "output_type": "stream",
     "text": [
      "PureSVDRecommender: URM Detected 470 ( 3.7%) users with no interactions.\n",
      "PureSVDRecommender: URM Detected 320 ( 1.4%) items with no interactions.\n",
      "PureSVDRecommender: Computing SVD decomposition...\n",
      "PureSVDRecommender: Computing SVD decomposition... done in 1.41 sec\n",
      "EvaluatorHoldout: Processed 9993 (100.0%) in 4.38 sec. Users per second: 2281\n"
     ]
    },
    {
     "name": "stderr",
     "output_type": "stream",
     "text": [
      "[I 2023-11-22 17:47:09,410] Trial 178 finished with value: 0.018994982996033687 and parameters: {'num_factors': 67}. Best is trial 140 with value: 0.01933612258739853.\n"
     ]
    },
    {
     "name": "stdout",
     "output_type": "stream",
     "text": [
      "PureSVDRecommender: URM Detected 470 ( 3.7%) users with no interactions.\n",
      "PureSVDRecommender: URM Detected 320 ( 1.4%) items with no interactions.\n",
      "PureSVDRecommender: Computing SVD decomposition...\n",
      "PureSVDRecommender: Computing SVD decomposition... done in 0.45 sec\n",
      "EvaluatorHoldout: Processed 9993 (100.0%) in 4.42 sec. Users per second: 2262\n"
     ]
    },
    {
     "name": "stderr",
     "output_type": "stream",
     "text": [
      "[I 2023-11-22 17:47:14,387] Trial 179 finished with value: 0.018825860642132024 and parameters: {'num_factors': 67}. Best is trial 140 with value: 0.01933612258739853.\n"
     ]
    },
    {
     "name": "stdout",
     "output_type": "stream",
     "text": [
      "PureSVDRecommender: URM Detected 470 ( 3.7%) users with no interactions.\n",
      "PureSVDRecommender: URM Detected 320 ( 1.4%) items with no interactions.\n",
      "PureSVDRecommender: Computing SVD decomposition...\n",
      "PureSVDRecommender: Computing SVD decomposition... done in 0.33 sec\n",
      "EvaluatorHoldout: Processed 9993 (100.0%) in 4.19 sec. Users per second: 2388\n"
     ]
    },
    {
     "name": "stderr",
     "output_type": "stream",
     "text": [
      "[I 2023-11-22 17:47:18,983] Trial 180 finished with value: 0.01903457420194134 and parameters: {'num_factors': 55}. Best is trial 140 with value: 0.01933612258739853.\n"
     ]
    },
    {
     "name": "stdout",
     "output_type": "stream",
     "text": [
      "PureSVDRecommender: URM Detected 470 ( 3.7%) users with no interactions.\n",
      "PureSVDRecommender: URM Detected 320 ( 1.4%) items with no interactions.\n",
      "PureSVDRecommender: Computing SVD decomposition...\n",
      "PureSVDRecommender: Computing SVD decomposition... done in 0.25 sec\n",
      "EvaluatorHoldout: Processed 9993 (100.0%) in 3.94 sec. Users per second: 2533\n"
     ]
    },
    {
     "name": "stderr",
     "output_type": "stream",
     "text": [
      "[I 2023-11-22 17:47:23,204] Trial 181 finished with value: 0.018635731520000476 and parameters: {'num_factors': 50}. Best is trial 140 with value: 0.01933612258739853.\n"
     ]
    },
    {
     "name": "stdout",
     "output_type": "stream",
     "text": [
      "PureSVDRecommender: URM Detected 470 ( 3.7%) users with no interactions.\n",
      "PureSVDRecommender: URM Detected 320 ( 1.4%) items with no interactions.\n",
      "PureSVDRecommender: Computing SVD decomposition...\n",
      "PureSVDRecommender: Computing SVD decomposition... done in 0.23 sec\n",
      "EvaluatorHoldout: Processed 9993 (100.0%) in 3.90 sec. Users per second: 2561\n"
     ]
    },
    {
     "name": "stderr",
     "output_type": "stream",
     "text": [
      "[I 2023-11-22 17:47:27,379] Trial 182 finished with value: 0.018679857646384183 and parameters: {'num_factors': 47}. Best is trial 140 with value: 0.01933612258739853.\n"
     ]
    },
    {
     "name": "stdout",
     "output_type": "stream",
     "text": [
      "PureSVDRecommender: URM Detected 470 ( 3.7%) users with no interactions.\n",
      "PureSVDRecommender: URM Detected 320 ( 1.4%) items with no interactions.\n",
      "PureSVDRecommender: Computing SVD decomposition...\n",
      "PureSVDRecommender: Computing SVD decomposition... done in 0.28 sec\n",
      "EvaluatorHoldout: Processed 9993 (100.0%) in 4.16 sec. Users per second: 2402\n"
     ]
    },
    {
     "name": "stderr",
     "output_type": "stream",
     "text": [
      "[I 2023-11-22 17:47:31,848] Trial 183 finished with value: 0.018833933753627487 and parameters: {'num_factors': 55}. Best is trial 140 with value: 0.01933612258739853.\n"
     ]
    },
    {
     "name": "stdout",
     "output_type": "stream",
     "text": [
      "PureSVDRecommender: URM Detected 470 ( 3.7%) users with no interactions.\n",
      "PureSVDRecommender: URM Detected 320 ( 1.4%) items with no interactions.\n",
      "PureSVDRecommender: Computing SVD decomposition...\n",
      "PureSVDRecommender: Computing SVD decomposition... done in 0.29 sec\n",
      "EvaluatorHoldout: Processed 9993 (100.0%) in 3.95 sec. Users per second: 2533\n"
     ]
    },
    {
     "name": "stderr",
     "output_type": "stream",
     "text": [
      "[I 2023-11-22 17:47:36,113] Trial 184 finished with value: 0.01894098487989211 and parameters: {'num_factors': 56}. Best is trial 140 with value: 0.01933612258739853.\n"
     ]
    },
    {
     "name": "stdout",
     "output_type": "stream",
     "text": [
      "PureSVDRecommender: URM Detected 470 ( 3.7%) users with no interactions.\n",
      "PureSVDRecommender: URM Detected 320 ( 1.4%) items with no interactions.\n",
      "PureSVDRecommender: Computing SVD decomposition...\n",
      "PureSVDRecommender: Computing SVD decomposition... done in 0.36 sec\n",
      "EvaluatorHoldout: Processed 9993 (100.0%) in 4.05 sec. Users per second: 2467\n"
     ]
    },
    {
     "name": "stderr",
     "output_type": "stream",
     "text": [
      "[I 2023-11-22 17:47:40,551] Trial 185 finished with value: 0.018823343006771343 and parameters: {'num_factors': 63}. Best is trial 140 with value: 0.01933612258739853.\n"
     ]
    },
    {
     "name": "stdout",
     "output_type": "stream",
     "text": [
      "PureSVDRecommender: URM Detected 470 ( 3.7%) users with no interactions.\n",
      "PureSVDRecommender: URM Detected 320 ( 1.4%) items with no interactions.\n",
      "PureSVDRecommender: Computing SVD decomposition...\n",
      "PureSVDRecommender: Computing SVD decomposition... done in 0.34 sec\n",
      "EvaluatorHoldout: Processed 9993 (100.0%) in 4.00 sec. Users per second: 2500\n"
     ]
    },
    {
     "name": "stderr",
     "output_type": "stream",
     "text": [
      "[I 2023-11-22 17:47:44,916] Trial 186 finished with value: 0.01872752196378732 and parameters: {'num_factors': 53}. Best is trial 140 with value: 0.01933612258739853.\n"
     ]
    },
    {
     "name": "stdout",
     "output_type": "stream",
     "text": [
      "PureSVDRecommender: URM Detected 470 ( 3.7%) users with no interactions.\n",
      "PureSVDRecommender: URM Detected 320 ( 1.4%) items with no interactions.\n",
      "PureSVDRecommender: Computing SVD decomposition...\n",
      "PureSVDRecommender: Computing SVD decomposition... done in 0.36 sec\n",
      "EvaluatorHoldout: Processed 9993 (100.0%) in 4.07 sec. Users per second: 2454\n"
     ]
    },
    {
     "name": "stderr",
     "output_type": "stream",
     "text": [
      "[I 2023-11-22 17:47:49,382] Trial 187 finished with value: 0.018774241175171784 and parameters: {'num_factors': 59}. Best is trial 140 with value: 0.01933612258739853.\n"
     ]
    },
    {
     "name": "stdout",
     "output_type": "stream",
     "text": [
      "PureSVDRecommender: URM Detected 470 ( 3.7%) users with no interactions.\n",
      "PureSVDRecommender: URM Detected 320 ( 1.4%) items with no interactions.\n",
      "PureSVDRecommender: Computing SVD decomposition...\n",
      "PureSVDRecommender: Computing SVD decomposition... done in 0.45 sec\n",
      "EvaluatorHoldout: Processed 9993 (100.0%) in 3.86 sec. Users per second: 2588\n"
     ]
    },
    {
     "name": "stderr",
     "output_type": "stream",
     "text": [
      "[I 2023-11-22 17:47:53,724] Trial 188 finished with value: 0.019208314868026644 and parameters: {'num_factors': 65}. Best is trial 140 with value: 0.01933612258739853.\n"
     ]
    },
    {
     "name": "stdout",
     "output_type": "stream",
     "text": [
      "PureSVDRecommender: URM Detected 470 ( 3.7%) users with no interactions.\n",
      "PureSVDRecommender: URM Detected 320 ( 1.4%) items with no interactions.\n",
      "PureSVDRecommender: Computing SVD decomposition...\n",
      "PureSVDRecommender: Computing SVD decomposition... done in 0.52 sec\n",
      "EvaluatorHoldout: Processed 9993 (100.0%) in 4.06 sec. Users per second: 2460\n"
     ]
    },
    {
     "name": "stderr",
     "output_type": "stream",
     "text": [
      "[I 2023-11-22 17:47:58,334] Trial 189 finished with value: 0.019007992102408163 and parameters: {'num_factors': 66}. Best is trial 140 with value: 0.01933612258739853.\n"
     ]
    },
    {
     "name": "stdout",
     "output_type": "stream",
     "text": [
      "PureSVDRecommender: URM Detected 470 ( 3.7%) users with no interactions.\n",
      "PureSVDRecommender: URM Detected 320 ( 1.4%) items with no interactions.\n",
      "PureSVDRecommender: Computing SVD decomposition...\n",
      "PureSVDRecommender: Computing SVD decomposition... done in 0.75 sec\n",
      "EvaluatorHoldout: Processed 9993 (100.0%) in 4.11 sec. Users per second: 2430\n"
     ]
    },
    {
     "name": "stderr",
     "output_type": "stream",
     "text": [
      "[I 2023-11-22 17:48:03,232] Trial 190 finished with value: 0.018985134832477952 and parameters: {'num_factors': 72}. Best is trial 140 with value: 0.01933612258739853.\n"
     ]
    },
    {
     "name": "stdout",
     "output_type": "stream",
     "text": [
      "PureSVDRecommender: URM Detected 470 ( 3.7%) users with no interactions.\n",
      "PureSVDRecommender: URM Detected 320 ( 1.4%) items with no interactions.\n",
      "PureSVDRecommender: Computing SVD decomposition...\n",
      "PureSVDRecommender: Computing SVD decomposition... done in 0.75 sec\n",
      "EvaluatorHoldout: Processed 9993 (100.0%) in 4.73 sec. Users per second: 2112\n"
     ]
    },
    {
     "name": "stderr",
     "output_type": "stream",
     "text": [
      "[I 2023-11-22 17:48:08,747] Trial 191 finished with value: 0.01883916360499963 and parameters: {'num_factors': 73}. Best is trial 140 with value: 0.01933612258739853.\n"
     ]
    },
    {
     "name": "stdout",
     "output_type": "stream",
     "text": [
      "PureSVDRecommender: URM Detected 470 ( 3.7%) users with no interactions.\n",
      "PureSVDRecommender: URM Detected 320 ( 1.4%) items with no interactions.\n",
      "PureSVDRecommender: Computing SVD decomposition...\n",
      "PureSVDRecommender: Computing SVD decomposition... done in 0.74 sec\n",
      "EvaluatorHoldout: Processed 9993 (100.0%) in 4.77 sec. Users per second: 2093\n"
     ]
    },
    {
     "name": "stderr",
     "output_type": "stream",
     "text": [
      "[I 2023-11-22 17:48:14,402] Trial 192 finished with value: 0.019121758246645644 and parameters: {'num_factors': 68}. Best is trial 140 with value: 0.01933612258739853.\n"
     ]
    },
    {
     "name": "stdout",
     "output_type": "stream",
     "text": [
      "PureSVDRecommender: URM Detected 470 ( 3.7%) users with no interactions.\n",
      "PureSVDRecommender: URM Detected 320 ( 1.4%) items with no interactions.\n",
      "PureSVDRecommender: Computing SVD decomposition...\n",
      "PureSVDRecommender: Computing SVD decomposition... done in 0.82 sec\n",
      "EvaluatorHoldout: Processed 9993 (100.0%) in 4.79 sec. Users per second: 2085\n"
     ]
    },
    {
     "name": "stderr",
     "output_type": "stream",
     "text": [
      "[I 2023-11-22 17:48:20,048] Trial 193 finished with value: 0.018629989405282175 and parameters: {'num_factors': 66}. Best is trial 140 with value: 0.01933612258739853.\n"
     ]
    },
    {
     "name": "stdout",
     "output_type": "stream",
     "text": [
      "PureSVDRecommender: URM Detected 470 ( 3.7%) users with no interactions.\n",
      "PureSVDRecommender: URM Detected 320 ( 1.4%) items with no interactions.\n",
      "PureSVDRecommender: Computing SVD decomposition...\n",
      "PureSVDRecommender: Computing SVD decomposition... done in 0.68 sec\n",
      "EvaluatorHoldout: Processed 9993 (100.0%) in 4.82 sec. Users per second: 2073\n"
     ]
    },
    {
     "name": "stderr",
     "output_type": "stream",
     "text": [
      "[I 2023-11-22 17:48:25,574] Trial 194 finished with value: 0.01895783000481284 and parameters: {'num_factors': 68}. Best is trial 140 with value: 0.01933612258739853.\n"
     ]
    },
    {
     "name": "stdout",
     "output_type": "stream",
     "text": [
      "PureSVDRecommender: URM Detected 470 ( 3.7%) users with no interactions.\n",
      "PureSVDRecommender: URM Detected 320 ( 1.4%) items with no interactions.\n",
      "PureSVDRecommender: Computing SVD decomposition...\n",
      "PureSVDRecommender: Computing SVD decomposition... done in 0.52 sec\n",
      "EvaluatorHoldout: Processed 9993 (100.0%) in 4.87 sec. Users per second: 2052\n"
     ]
    },
    {
     "name": "stderr",
     "output_type": "stream",
     "text": [
      "[I 2023-11-22 17:48:30,988] Trial 195 finished with value: 0.018676672877363375 and parameters: {'num_factors': 66}. Best is trial 140 with value: 0.01933612258739853.\n"
     ]
    },
    {
     "name": "stdout",
     "output_type": "stream",
     "text": [
      "PureSVDRecommender: URM Detected 470 ( 3.7%) users with no interactions.\n",
      "PureSVDRecommender: URM Detected 320 ( 1.4%) items with no interactions.\n",
      "PureSVDRecommender: Computing SVD decomposition...\n",
      "PureSVDRecommender: Computing SVD decomposition... done in 0.71 sec\n",
      "EvaluatorHoldout: Processed 9993 (100.0%) in 4.11 sec. Users per second: 2431\n"
     ]
    },
    {
     "name": "stderr",
     "output_type": "stream",
     "text": [
      "[I 2023-11-22 17:48:35,846] Trial 196 finished with value: 0.019098928773951276 and parameters: {'num_factors': 72}. Best is trial 140 with value: 0.01933612258739853.\n"
     ]
    },
    {
     "name": "stdout",
     "output_type": "stream",
     "text": [
      "PureSVDRecommender: URM Detected 470 ( 3.7%) users with no interactions.\n",
      "PureSVDRecommender: URM Detected 320 ( 1.4%) items with no interactions.\n",
      "PureSVDRecommender: Computing SVD decomposition...\n",
      "PureSVDRecommender: Computing SVD decomposition... done in 0.48 sec\n",
      "EvaluatorHoldout: Processed 9993 (100.0%) in 3.83 sec. Users per second: 2607\n"
     ]
    },
    {
     "name": "stderr",
     "output_type": "stream",
     "text": [
      "[I 2023-11-22 17:48:40,183] Trial 197 finished with value: 0.018885342755802066 and parameters: {'num_factors': 73}. Best is trial 140 with value: 0.01933612258739853.\n"
     ]
    },
    {
     "name": "stdout",
     "output_type": "stream",
     "text": [
      "PureSVDRecommender: URM Detected 470 ( 3.7%) users with no interactions.\n",
      "PureSVDRecommender: URM Detected 320 ( 1.4%) items with no interactions.\n",
      "PureSVDRecommender: Computing SVD decomposition...\n",
      "PureSVDRecommender: Computing SVD decomposition... done in 0.79 sec\n",
      "EvaluatorHoldout: Processed 9993 (100.0%) in 3.99 sec. Users per second: 2504\n"
     ]
    },
    {
     "name": "stderr",
     "output_type": "stream",
     "text": [
      "[I 2023-11-22 17:48:45,001] Trial 198 finished with value: 0.01891825865407371 and parameters: {'num_factors': 71}. Best is trial 140 with value: 0.01933612258739853.\n"
     ]
    },
    {
     "name": "stdout",
     "output_type": "stream",
     "text": [
      "PureSVDRecommender: URM Detected 470 ( 3.7%) users with no interactions.\n",
      "PureSVDRecommender: URM Detected 320 ( 1.4%) items with no interactions.\n",
      "PureSVDRecommender: Computing SVD decomposition...\n",
      "PureSVDRecommender: Computing SVD decomposition... done in 0.47 sec\n",
      "EvaluatorHoldout: Processed 9993 (100.0%) in 3.97 sec. Users per second: 2519\n"
     ]
    },
    {
     "name": "stderr",
     "output_type": "stream",
     "text": [
      "[I 2023-11-22 17:48:49,467] Trial 199 finished with value: 0.018775202165325237 and parameters: {'num_factors': 75}. Best is trial 140 with value: 0.01933612258739853.\n"
     ]
    }
   ],
   "source": [
    "best_params = {\n",
    "    \"num_factors\": 79,\n",
    "    \"random_seed\": 42,\n",
    "}\n",
    "study_name = \"puresvd-study\"  # Unique identifier of the study.\n",
    "storage_name = \"sqlite:///{}.db\".format(study_name)\n",
    "study = op.create_study(study_name=study_name, storage=storage_name, direction=\"maximize\", load_if_exists=True)\n",
    "study.enqueue_trial(best_params)\n",
    "study.optimize(objective, n_trials=100)"
   ],
   "metadata": {
    "collapsed": false,
    "ExecuteTime": {
     "end_time": "2023-11-22T16:48:49.472484Z",
     "start_time": "2023-11-22T16:40:33.893388Z"
    }
   },
   "id": "c5b8a36d4aed08fc"
  },
  {
   "cell_type": "code",
   "execution_count": 11,
   "outputs": [
    {
     "data": {
      "text/plain": "{'num_factors': 69}"
     },
     "execution_count": 11,
     "metadata": {},
     "output_type": "execute_result"
    }
   ],
   "source": [
    "study.best_params"
   ],
   "metadata": {
    "collapsed": false,
    "ExecuteTime": {
     "end_time": "2023-11-22T16:49:17.548125Z",
     "start_time": "2023-11-22T16:49:17.537952Z"
    }
   },
   "id": "f18968c2188a349a"
  },
  {
   "cell_type": "code",
   "execution_count": 36,
   "outputs": [
    {
     "name": "stdout",
     "output_type": "stream",
     "text": [
      "PureSVDRecommender: URM Detected 217 ( 1.7%) users with no interactions.\n",
      "PureSVDRecommender: URM Detected 104 ( 0.5%) items with no interactions.\n",
      "PureSVDRecommender: Computing SVD decomposition...\n",
      "PureSVDRecommender: Computing SVD decomposition... done in 0.81 sec\n"
     ]
    }
   ],
   "source": [
    "final = model(URM_train_validation)\n",
    "#final.fit(**study.best_params)\n",
    "final.fit(num_factors=69, random_seed=42)"
   ],
   "metadata": {
    "collapsed": false,
    "ExecuteTime": {
     "end_time": "2023-11-22T16:53:05.745582Z",
     "start_time": "2023-11-22T16:53:04.836696Z"
    }
   },
   "id": "7ae12a0ef4bc0baa"
  },
  {
   "cell_type": "code",
   "execution_count": 37,
   "outputs": [
    {
     "name": "stdout",
     "output_type": "stream",
     "text": [
      "EvaluatorHoldout: Ignoring 2171 (17.2%) Users that have less than 1 test interactions\n",
      "EvaluatorHoldout: Ignoring 0 Users\n",
      "EvaluatorHoldout: Processed 10467 (100.0%) in 4.23 sec. Users per second: 2476\n"
     ]
    },
    {
     "data": {
      "text/plain": "(       PRECISION PRECISION_RECALL_MIN_DEN   RECALL       MAP MAP_MIN_DEN  \\\n cutoff                                                                     \n 10      0.060055                 0.103973  0.08724  0.030317    0.051596   \n \n              MRR      NDCG        F1  HIT_RATE ARHR_ALL_HITS  ...  \\\n cutoff                                                        ...   \n 10      0.196874  0.097511  0.071139  0.386644      0.242683  ...   \n \n        COVERAGE_USER COVERAGE_USER_HIT USERS_IN_GT DIVERSITY_GINI  \\\n cutoff                                                              \n 10          0.828216          0.320225    0.828216       0.009501   \n \n        SHANNON_ENTROPY RATIO_DIVERSITY_HERFINDAHL RATIO_DIVERSITY_GINI  \\\n cutoff                                                                   \n 10            8.152184                   0.995629             0.027233   \n \n        RATIO_SHANNON_ENTROPY RATIO_AVERAGE_POPULARITY RATIO_NOVELTY  \n cutoff                                                               \n 10                  0.627924                 1.998249      0.263127  \n \n [1 rows x 27 columns],\n 'CUTOFF: 10 - PRECISION: 0.0600554, PRECISION_RECALL_MIN_DEN: 0.1039729, RECALL: 0.0872402, MAP: 0.0303168, MAP_MIN_DEN: 0.0515958, MRR: 0.1968740, NDCG: 0.0975114, F1: 0.0711392, HIT_RATE: 0.3866437, ARHR_ALL_HITS: 0.2426829, NOVELTY: 0.0046585, AVERAGE_POPULARITY: 0.2485698, DIVERSITY_MEAN_INTER_LIST: 0.9527880, DIVERSITY_HERFINDAHL: 0.9952697, COVERAGE_ITEM: 0.0328053, COVERAGE_ITEM_HIT: 0.0212852, ITEMS_IN_GT: 0.8001080, COVERAGE_USER: 0.8282165, COVERAGE_USER_HIT: 0.3202247, USERS_IN_GT: 0.8282165, DIVERSITY_GINI: 0.0095012, SHANNON_ENTROPY: 8.1521843, RATIO_DIVERSITY_HERFINDAHL: 0.9956292, RATIO_DIVERSITY_GINI: 0.0272329, RATIO_SHANNON_ENTROPY: 0.6279245, RATIO_AVERAGE_POPULARITY: 1.9982493, RATIO_NOVELTY: 0.2631268, \\n')"
     },
     "execution_count": 37,
     "metadata": {},
     "output_type": "execute_result"
    }
   ],
   "source": [
    "from Evaluation.Evaluator import EvaluatorHoldout\n",
    "evaluator_test = EvaluatorHoldout(URM_test, cutoff_list=[10], ignore_users=[])\n",
    "evaluator_test.evaluateRecommender(final)"
   ],
   "metadata": {
    "collapsed": false,
    "ExecuteTime": {
     "end_time": "2023-11-22T16:53:10.048377Z",
     "start_time": "2023-11-22T16:53:05.778459Z"
    }
   },
   "id": "1a0a3570fbcb348b"
  },
  {
   "cell_type": "code",
   "execution_count": null,
   "outputs": [],
   "source": [
    "## MAP = 0.0308313"
   ],
   "metadata": {
    "collapsed": false
   },
   "id": "b7dc725c28f92051"
  }
 ],
 "metadata": {
  "kernelspec": {
   "display_name": "Python 3",
   "language": "python",
   "name": "python3"
  },
  "language_info": {
   "codemirror_mode": {
    "name": "ipython",
    "version": 2
   },
   "file_extension": ".py",
   "mimetype": "text/x-python",
   "name": "python",
   "nbconvert_exporter": "python",
   "pygments_lexer": "ipython2",
   "version": "2.7.6"
  }
 },
 "nbformat": 4,
 "nbformat_minor": 5
}
