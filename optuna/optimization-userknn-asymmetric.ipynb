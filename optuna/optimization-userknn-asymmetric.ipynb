{
 "cells": [
  {
   "cell_type": "code",
   "execution_count": 1,
   "id": "initial_id",
   "metadata": {
    "collapsed": true,
    "ExecuteTime": {
     "end_time": "2023-12-04T21:38:13.153726749Z",
     "start_time": "2023-12-04T21:38:10.074142134Z"
    }
   },
   "outputs": [
    {
     "name": "stdout",
     "output_type": "stream",
     "text": [
      "Warning: 211 (1.67 %) of 12638 users have no train items\n",
      "Warning: 2180 (17.25 %) of 12638 users have no sampled items\n",
      "Warning: 472 (3.73 %) of 12638 users have no train items\n",
      "Warning: 2596 (20.54 %) of 12638 users have no sampled items\n"
     ]
    }
   ],
   "source": [
    "from Data_manager.UserUtils import *\n",
    "from Data_manager.split_functions.split_train_validation_random_holdout import \\\n",
    "    split_train_in_two_percentage_global_sample\n",
    "URM_all = getURM_all()\n",
    "URM_train_validation, URM_test = split_train_in_two_percentage_global_sample(URM_all, train_percentage = 0.80)\n",
    "URM_train, URM_validation = split_train_in_two_percentage_global_sample(URM_train_validation, train_percentage = 0.80)"
   ]
  },
  {
   "cell_type": "code",
   "execution_count": 2,
   "outputs": [
    {
     "name": "stdout",
     "output_type": "stream",
     "text": [
      "EvaluatorHoldout: Ignoring 2596 (20.5%) Users that have less than 1 test interactions\n",
      "EvaluatorHoldout: Ignoring 0 Users\n"
     ]
    }
   ],
   "source": [
    "from Recommenders.KNN.UserKNNCFRecommender import UserKNNCFRecommender\n",
    "model = UserKNNCFRecommender\n",
    "\n",
    "from Evaluation.Evaluator import EvaluatorHoldout\n",
    "evaluator_validation = EvaluatorHoldout(URM_validation, cutoff_list=[10], ignore_users=[])"
   ],
   "metadata": {
    "collapsed": false,
    "ExecuteTime": {
     "end_time": "2023-12-04T21:38:13.161143862Z",
     "start_time": "2023-12-04T21:38:13.150985282Z"
    }
   },
   "id": "8a9fec0ccc4f11c5"
  },
  {
   "cell_type": "code",
   "execution_count": 3,
   "outputs": [],
   "source": [
    "import optuna as op\n",
    "\n",
    "def objective(trial):\n",
    "    topK = trial.suggest_int(\"topK\", 1e2, 1e4)\n",
    "    shrink = trial.suggest_int(\"shrink\", 0, 100)\n",
    "    similarity = trial.suggest_categorical(\"similarity\", [\"asymmetric\"])\n",
    "    #similarity = trial.suggest_categorical(\"similarity\", [\"cosine\", \"jaccard\", \"asymmetric\", \"dice\", \"tversky\"])\n",
    "    normalize = trial.suggest_categorical(\"normalize\", [True, False])\n",
    "    feature_weighting = trial.suggest_categorical(\"feature_weighting\", [\"none\", \"BM25\", \"TF-IDF\"])\n",
    "    asymmetric_alpha = trial.suggest_float(\"asymmetric_alpha\", 0, 2)\n",
    "\n",
    "    recommender = model(URM_train)\n",
    "    recommender.fit(**trial.params)\n",
    "\n",
    "\n",
    "    result, _ = evaluator_validation.evaluateRecommender(recommender)\n",
    "    MAP_result = result[\"MAP\"].item()\n",
    "\n",
    "    return MAP_result"
   ],
   "metadata": {
    "collapsed": false,
    "ExecuteTime": {
     "end_time": "2023-12-04T21:38:52.172704364Z",
     "start_time": "2023-12-04T21:38:51.959357906Z"
    }
   },
   "id": "b826576f6714c764"
  },
  {
   "cell_type": "code",
   "execution_count": 11,
   "outputs": [
    {
     "name": "stderr",
     "output_type": "stream",
     "text": [
      "[I 2023-12-04 23:40:50,895] Using an existing study with name 'userknn-asymmetric-study' instead of creating a new one.\n"
     ]
    },
    {
     "name": "stdout",
     "output_type": "stream",
     "text": [
      "UserKNNCFRecommender: URM Detected 472 ( 3.7%) users with no interactions.\n",
      "UserKNNCFRecommender: URM Detected 329 ( 1.5%) items with no interactions.\n",
      "Similarity column 12638 (100.0%), 10311.38 column/sec. Elapsed time 1.23 sec\n",
      "EvaluatorHoldout: Processed 10042 (100.0%) in 6.45 sec. Users per second: 1558\n"
     ]
    },
    {
     "name": "stderr",
     "output_type": "stream",
     "text": [
      "[I 2023-12-04 23:40:58,870] Trial 201 finished with value: 0.02363923900569985 and parameters: {'topK': 445, 'shrink': 3, 'similarity': 'asymmetric', 'normalize': True, 'feature_weighting': 'none', 'asymmetric_alpha': 0.40251526522883996}. Best is trial 115 with value: 0.023702833021942888.\n"
     ]
    },
    {
     "name": "stdout",
     "output_type": "stream",
     "text": [
      "UserKNNCFRecommender: URM Detected 472 ( 3.7%) users with no interactions.\n",
      "UserKNNCFRecommender: URM Detected 329 ( 1.5%) items with no interactions.\n",
      "Similarity column 12638 (100.0%), 9812.14 column/sec. Elapsed time 1.29 sec\n",
      "EvaluatorHoldout: Processed 10042 (100.0%) in 5.77 sec. Users per second: 1741\n"
     ]
    },
    {
     "name": "stderr",
     "output_type": "stream",
     "text": [
      "[I 2023-12-04 23:41:06,114] Trial 202 finished with value: 0.021961061162166513 and parameters: {'topK': 317, 'shrink': 31, 'similarity': 'asymmetric', 'normalize': True, 'feature_weighting': 'none', 'asymmetric_alpha': 0.46706454458124247}. Best is trial 115 with value: 0.023702833021942888.\n"
     ]
    },
    {
     "name": "stdout",
     "output_type": "stream",
     "text": [
      "UserKNNCFRecommender: URM Detected 472 ( 3.7%) users with no interactions.\n",
      "UserKNNCFRecommender: URM Detected 329 ( 1.5%) items with no interactions.\n",
      "Similarity column 12638 (100.0%), 10205.84 column/sec. Elapsed time 1.24 sec\n",
      "EvaluatorHoldout: Processed 10042 (100.0%) in 6.56 sec. Users per second: 1531\n"
     ]
    },
    {
     "name": "stderr",
     "output_type": "stream",
     "text": [
      "[I 2023-12-04 23:41:14,147] Trial 203 finished with value: 0.021239978597825674 and parameters: {'topK': 669, 'shrink': 34, 'similarity': 'asymmetric', 'normalize': True, 'feature_weighting': 'none', 'asymmetric_alpha': 0.38475676569471473}. Best is trial 115 with value: 0.023702833021942888.\n"
     ]
    },
    {
     "name": "stdout",
     "output_type": "stream",
     "text": [
      "UserKNNCFRecommender: URM Detected 472 ( 3.7%) users with no interactions.\n",
      "UserKNNCFRecommender: URM Detected 329 ( 1.5%) items with no interactions.\n",
      "Similarity column 12638 (100.0%), 10379.61 column/sec. Elapsed time 1.22 sec\n",
      "EvaluatorHoldout: Processed 10042 (100.0%) in 6.16 sec. Users per second: 1631\n"
     ]
    },
    {
     "name": "stderr",
     "output_type": "stream",
     "text": [
      "[I 2023-12-04 23:41:21,724] Trial 204 finished with value: 0.021611884845553476 and parameters: {'topK': 458, 'shrink': 36, 'similarity': 'asymmetric', 'normalize': True, 'feature_weighting': 'none', 'asymmetric_alpha': 0.3430166746184698}. Best is trial 115 with value: 0.023702833021942888.\n"
     ]
    },
    {
     "name": "stdout",
     "output_type": "stream",
     "text": [
      "UserKNNCFRecommender: URM Detected 472 ( 3.7%) users with no interactions.\n",
      "UserKNNCFRecommender: URM Detected 329 ( 1.5%) items with no interactions.\n",
      "Similarity column 12638 (100.0%), 10448.93 column/sec. Elapsed time 1.21 sec\n",
      "EvaluatorHoldout: Processed 10042 (100.0%) in 5.47 sec. Users per second: 1835\n"
     ]
    },
    {
     "name": "stderr",
     "output_type": "stream",
     "text": [
      "[I 2023-12-04 23:41:28,586] Trial 205 finished with value: 0.021634373725590586 and parameters: {'topK': 236, 'shrink': 39, 'similarity': 'asymmetric', 'normalize': True, 'feature_weighting': 'none', 'asymmetric_alpha': 0.41067003664710433}. Best is trial 115 with value: 0.023702833021942888.\n"
     ]
    },
    {
     "name": "stdout",
     "output_type": "stream",
     "text": [
      "UserKNNCFRecommender: URM Detected 472 ( 3.7%) users with no interactions.\n",
      "UserKNNCFRecommender: URM Detected 329 ( 1.5%) items with no interactions.\n",
      "Similarity column 12638 (100.0%), 9911.76 column/sec. Elapsed time 1.28 sec\n",
      "EvaluatorHoldout: Processed 10042 (100.0%) in 6.92 sec. Users per second: 1452\n"
     ]
    },
    {
     "name": "stderr",
     "output_type": "stream",
     "text": [
      "[I 2023-12-04 23:41:37,051] Trial 206 finished with value: 0.020417536031208616 and parameters: {'topK': 846, 'shrink': 51, 'similarity': 'asymmetric', 'normalize': True, 'feature_weighting': 'none', 'asymmetric_alpha': 0.28361800524003256}. Best is trial 115 with value: 0.023702833021942888.\n"
     ]
    },
    {
     "name": "stdout",
     "output_type": "stream",
     "text": [
      "UserKNNCFRecommender: URM Detected 472 ( 3.7%) users with no interactions.\n",
      "UserKNNCFRecommender: URM Detected 329 ( 1.5%) items with no interactions.\n",
      "Similarity column 12638 (100.0%), 10228.37 column/sec. Elapsed time 1.24 sec\n",
      "EvaluatorHoldout: Processed 10042 (100.0%) in 6.49 sec. Users per second: 1546\n"
     ]
    },
    {
     "name": "stderr",
     "output_type": "stream",
     "text": [
      "[I 2023-12-04 23:41:45,014] Trial 207 finished with value: 0.023212464000404744 and parameters: {'topK': 597, 'shrink': 54, 'similarity': 'asymmetric', 'normalize': True, 'feature_weighting': 'TF-IDF', 'asymmetric_alpha': 0.451470025948074}. Best is trial 115 with value: 0.023702833021942888.\n"
     ]
    },
    {
     "name": "stdout",
     "output_type": "stream",
     "text": [
      "UserKNNCFRecommender: URM Detected 472 ( 3.7%) users with no interactions.\n",
      "UserKNNCFRecommender: URM Detected 329 ( 1.5%) items with no interactions.\n",
      "Similarity column 12638 (100.0%), 10397.94 column/sec. Elapsed time 1.22 sec\n",
      "EvaluatorHoldout: Processed 10042 (100.0%) in 5.94 sec. Users per second: 1691\n"
     ]
    },
    {
     "name": "stderr",
     "output_type": "stream",
     "text": [
      "[I 2023-12-04 23:41:52,370] Trial 208 finished with value: 0.023454340974257356 and parameters: {'topK': 421, 'shrink': 29, 'similarity': 'asymmetric', 'normalize': True, 'feature_weighting': 'TF-IDF', 'asymmetric_alpha': 0.3735573279601817}. Best is trial 115 with value: 0.023702833021942888.\n"
     ]
    },
    {
     "name": "stdout",
     "output_type": "stream",
     "text": [
      "UserKNNCFRecommender: URM Detected 472 ( 3.7%) users with no interactions.\n",
      "UserKNNCFRecommender: URM Detected 329 ( 1.5%) items with no interactions.\n",
      "Similarity column 12638 (100.0%), 9930.24 column/sec. Elapsed time 1.27 sec\n",
      "EvaluatorHoldout: Processed 10042 (100.0%) in 7.25 sec. Users per second: 1385\n"
     ]
    },
    {
     "name": "stderr",
     "output_type": "stream",
     "text": [
      "[I 2023-12-04 23:42:01,204] Trial 209 finished with value: 0.02154288101086558 and parameters: {'topK': 1044, 'shrink': 32, 'similarity': 'asymmetric', 'normalize': True, 'feature_weighting': 'TF-IDF', 'asymmetric_alpha': 0.49586570920480744}. Best is trial 115 with value: 0.023702833021942888.\n"
     ]
    },
    {
     "name": "stdout",
     "output_type": "stream",
     "text": [
      "UserKNNCFRecommender: URM Detected 472 ( 3.7%) users with no interactions.\n",
      "UserKNNCFRecommender: URM Detected 329 ( 1.5%) items with no interactions.\n",
      "Similarity column 12638 (100.0%), 10509.69 column/sec. Elapsed time 1.20 sec\n",
      "EvaluatorHoldout: Processed 10042 (100.0%) in 5.21 sec. Users per second: 1928\n"
     ]
    },
    {
     "name": "stderr",
     "output_type": "stream",
     "text": [
      "[I 2023-12-04 23:42:07,798] Trial 210 finished with value: 0.019884228304612724 and parameters: {'topK': 206, 'shrink': 37, 'similarity': 'asymmetric', 'normalize': True, 'feature_weighting': 'TF-IDF', 'asymmetric_alpha': 0.33029104600224374}. Best is trial 115 with value: 0.023702833021942888.\n"
     ]
    },
    {
     "name": "stdout",
     "output_type": "stream",
     "text": [
      "UserKNNCFRecommender: URM Detected 472 ( 3.7%) users with no interactions.\n",
      "UserKNNCFRecommender: URM Detected 329 ( 1.5%) items with no interactions.\n",
      "Similarity column 12638 (100.0%), 10073.97 column/sec. Elapsed time 1.25 sec\n",
      "EvaluatorHoldout: Processed 10042 (100.0%) in 6.68 sec. Users per second: 1502\n"
     ]
    },
    {
     "name": "stderr",
     "output_type": "stream",
     "text": [
      "[I 2023-12-04 23:42:16,002] Trial 211 finished with value: 0.02312082507437025 and parameters: {'topK': 710, 'shrink': 3, 'similarity': 'asymmetric', 'normalize': True, 'feature_weighting': 'TF-IDF', 'asymmetric_alpha': 0.4161598139019815}. Best is trial 115 with value: 0.023702833021942888.\n"
     ]
    },
    {
     "name": "stdout",
     "output_type": "stream",
     "text": [
      "UserKNNCFRecommender: URM Detected 472 ( 3.7%) users with no interactions.\n",
      "UserKNNCFRecommender: URM Detected 329 ( 1.5%) items with no interactions.\n",
      "Similarity column 12638 (100.0%), 10219.09 column/sec. Elapsed time 1.24 sec\n",
      "EvaluatorHoldout: Processed 10042 (100.0%) in 6.14 sec. Users per second: 1636\n"
     ]
    },
    {
     "name": "stderr",
     "output_type": "stream",
     "text": [
      "[I 2023-12-04 23:42:23,586] Trial 212 finished with value: 0.02370607338069006 and parameters: {'topK': 469, 'shrink': 38, 'similarity': 'asymmetric', 'normalize': True, 'feature_weighting': 'TF-IDF', 'asymmetric_alpha': 0.40077406933762383}. Best is trial 212 with value: 0.02370607338069006.\n"
     ]
    },
    {
     "name": "stdout",
     "output_type": "stream",
     "text": [
      "UserKNNCFRecommender: URM Detected 472 ( 3.7%) users with no interactions.\n",
      "UserKNNCFRecommender: URM Detected 329 ( 1.5%) items with no interactions.\n",
      "Similarity column 12638 (100.0%), 10326.53 column/sec. Elapsed time 1.22 sec\n",
      "EvaluatorHoldout: Processed 10042 (100.0%) in 6.12 sec. Users per second: 1642\n"
     ]
    },
    {
     "name": "stderr",
     "output_type": "stream",
     "text": [
      "[I 2023-12-04 23:42:31,139] Trial 213 finished with value: 0.023619840321443708 and parameters: {'topK': 482, 'shrink': 34, 'similarity': 'asymmetric', 'normalize': True, 'feature_weighting': 'TF-IDF', 'asymmetric_alpha': 0.38917435245471066}. Best is trial 212 with value: 0.02370607338069006.\n"
     ]
    },
    {
     "name": "stdout",
     "output_type": "stream",
     "text": [
      "UserKNNCFRecommender: URM Detected 472 ( 3.7%) users with no interactions.\n",
      "UserKNNCFRecommender: URM Detected 329 ( 1.5%) items with no interactions.\n",
      "Similarity column 12638 (100.0%), 10060.72 column/sec. Elapsed time 1.26 sec\n",
      "EvaluatorHoldout: Processed 10042 (100.0%) in 6.38 sec. Users per second: 1574\n"
     ]
    },
    {
     "name": "stderr",
     "output_type": "stream",
     "text": [
      "[I 2023-12-04 23:42:39,024] Trial 214 finished with value: 0.02350576783857021 and parameters: {'topK': 608, 'shrink': 40, 'similarity': 'asymmetric', 'normalize': True, 'feature_weighting': 'TF-IDF', 'asymmetric_alpha': 0.3679070518788784}. Best is trial 212 with value: 0.02370607338069006.\n"
     ]
    },
    {
     "name": "stdout",
     "output_type": "stream",
     "text": [
      "UserKNNCFRecommender: URM Detected 472 ( 3.7%) users with no interactions.\n",
      "UserKNNCFRecommender: URM Detected 329 ( 1.5%) items with no interactions.\n",
      "Similarity column 12638 (100.0%), 10708.83 column/sec. Elapsed time 1.18 sec\n",
      "EvaluatorHoldout: Processed 10042 (100.0%) in 4.82 sec. Users per second: 2083\n"
     ]
    },
    {
     "name": "stderr",
     "output_type": "stream",
     "text": [
      "[I 2023-12-04 23:42:45,165] Trial 215 finished with value: 0.015990265488124458 and parameters: {'topK': 102, 'shrink': 37, 'similarity': 'asymmetric', 'normalize': True, 'feature_weighting': 'TF-IDF', 'asymmetric_alpha': 0.39039549421504993}. Best is trial 212 with value: 0.02370607338069006.\n"
     ]
    },
    {
     "name": "stdout",
     "output_type": "stream",
     "text": [
      "UserKNNCFRecommender: URM Detected 472 ( 3.7%) users with no interactions.\n",
      "UserKNNCFRecommender: URM Detected 329 ( 1.5%) items with no interactions.\n",
      "Similarity column 12638 (100.0%), 10017.55 column/sec. Elapsed time 1.26 sec\n",
      "EvaluatorHoldout: Processed 10042 (100.0%) in 7.09 sec. Users per second: 1417\n"
     ]
    },
    {
     "name": "stderr",
     "output_type": "stream",
     "text": [
      "[I 2023-12-04 23:42:53,791] Trial 216 finished with value: 0.022623852833970358 and parameters: {'topK': 923, 'shrink': 35, 'similarity': 'asymmetric', 'normalize': True, 'feature_weighting': 'TF-IDF', 'asymmetric_alpha': 0.30870660494067226}. Best is trial 212 with value: 0.02370607338069006.\n"
     ]
    },
    {
     "name": "stdout",
     "output_type": "stream",
     "text": [
      "UserKNNCFRecommender: URM Detected 472 ( 3.7%) users with no interactions.\n",
      "UserKNNCFRecommender: URM Detected 329 ( 1.5%) items with no interactions.\n",
      "Similarity column 12638 (100.0%), 10272.60 column/sec. Elapsed time 1.23 sec\n",
      "EvaluatorHoldout: Processed 10042 (100.0%) in 6.17 sec. Users per second: 1627\n"
     ]
    },
    {
     "name": "stderr",
     "output_type": "stream",
     "text": [
      "[I 2023-12-04 23:43:01,414] Trial 217 finished with value: 0.02349499562156413 and parameters: {'topK': 500, 'shrink': 30, 'similarity': 'asymmetric', 'normalize': True, 'feature_weighting': 'TF-IDF', 'asymmetric_alpha': 0.467450277771541}. Best is trial 212 with value: 0.02370607338069006.\n"
     ]
    },
    {
     "name": "stdout",
     "output_type": "stream",
     "text": [
      "UserKNNCFRecommender: URM Detected 472 ( 3.7%) users with no interactions.\n",
      "UserKNNCFRecommender: URM Detected 329 ( 1.5%) items with no interactions.\n",
      "Similarity column 12638 (100.0%), 9889.50 column/sec. Elapsed time 1.28 sec\n",
      "EvaluatorHoldout: Processed 10042 (100.0%) in 5.62 sec. Users per second: 1786\n"
     ]
    },
    {
     "name": "stderr",
     "output_type": "stream",
     "text": [
      "[I 2023-12-04 23:43:08,516] Trial 218 finished with value: 0.02224977317488775 and parameters: {'topK': 307, 'shrink': 33, 'similarity': 'asymmetric', 'normalize': True, 'feature_weighting': 'TF-IDF', 'asymmetric_alpha': 0.3659975769694407}. Best is trial 212 with value: 0.02370607338069006.\n"
     ]
    },
    {
     "name": "stdout",
     "output_type": "stream",
     "text": [
      "UserKNNCFRecommender: URM Detected 472 ( 3.7%) users with no interactions.\n",
      "UserKNNCFRecommender: URM Detected 329 ( 1.5%) items with no interactions.\n",
      "Similarity column 12638 (100.0%), 10119.68 column/sec. Elapsed time 1.25 sec\n",
      "EvaluatorHoldout: Processed 10042 (100.0%) in 6.72 sec. Users per second: 1494\n"
     ]
    },
    {
     "name": "stderr",
     "output_type": "stream",
     "text": [
      "[I 2023-12-04 23:43:16,747] Trial 219 finished with value: 0.022851472229335253 and parameters: {'topK': 744, 'shrink': 37, 'similarity': 'asymmetric', 'normalize': True, 'feature_weighting': 'TF-IDF', 'asymmetric_alpha': 0.420760944521872}. Best is trial 212 with value: 0.02370607338069006.\n"
     ]
    },
    {
     "name": "stdout",
     "output_type": "stream",
     "text": [
      "UserKNNCFRecommender: URM Detected 472 ( 3.7%) users with no interactions.\n",
      "UserKNNCFRecommender: URM Detected 329 ( 1.5%) items with no interactions.\n",
      "Similarity column 12638 (100.0%), 10447.06 column/sec. Elapsed time 1.21 sec\n",
      "EvaluatorHoldout: Processed 10042 (100.0%) in 6.00 sec. Users per second: 1674\n"
     ]
    },
    {
     "name": "stderr",
     "output_type": "stream",
     "text": [
      "[I 2023-12-04 23:43:24,142] Trial 220 finished with value: 0.021850027503532772 and parameters: {'topK': 401, 'shrink': 45, 'similarity': 'asymmetric', 'normalize': True, 'feature_weighting': 'none', 'asymmetric_alpha': 0.2687023287129355}. Best is trial 212 with value: 0.02370607338069006.\n"
     ]
    },
    {
     "name": "stdout",
     "output_type": "stream",
     "text": [
      "UserKNNCFRecommender: URM Detected 472 ( 3.7%) users with no interactions.\n",
      "UserKNNCFRecommender: URM Detected 329 ( 1.5%) items with no interactions.\n",
      "Similarity column 12638 (100.0%), 10083.82 column/sec. Elapsed time 1.25 sec\n",
      "EvaluatorHoldout: Processed 10042 (100.0%) in 6.41 sec. Users per second: 1568\n"
     ]
    },
    {
     "name": "stderr",
     "output_type": "stream",
     "text": [
      "[I 2023-12-04 23:43:32,048] Trial 221 finished with value: 0.02354703104105616 and parameters: {'topK': 629, 'shrink': 0, 'similarity': 'asymmetric', 'normalize': True, 'feature_weighting': 'TF-IDF', 'asymmetric_alpha': 0.3298371385723001}. Best is trial 212 with value: 0.02370607338069006.\n"
     ]
    },
    {
     "name": "stdout",
     "output_type": "stream",
     "text": [
      "UserKNNCFRecommender: URM Detected 472 ( 3.7%) users with no interactions.\n",
      "UserKNNCFRecommender: URM Detected 329 ( 1.5%) items with no interactions.\n",
      "Similarity column 12638 (100.0%), 9974.63 column/sec. Elapsed time 1.27 sec\n",
      "EvaluatorHoldout: Processed 10042 (100.0%) in 6.41 sec. Users per second: 1568\n"
     ]
    },
    {
     "name": "stderr",
     "output_type": "stream",
     "text": [
      "[I 2023-12-04 23:43:39,966] Trial 222 finished with value: 0.023446042494538855 and parameters: {'topK': 637, 'shrink': 0, 'similarity': 'asymmetric', 'normalize': True, 'feature_weighting': 'TF-IDF', 'asymmetric_alpha': 0.3364890251478976}. Best is trial 212 with value: 0.02370607338069006.\n"
     ]
    },
    {
     "name": "stdout",
     "output_type": "stream",
     "text": [
      "UserKNNCFRecommender: URM Detected 472 ( 3.7%) users with no interactions.\n",
      "UserKNNCFRecommender: URM Detected 329 ( 1.5%) items with no interactions.\n",
      "Similarity column 12638 (100.0%), 10104.95 column/sec. Elapsed time 1.25 sec\n",
      "EvaluatorHoldout: Processed 10042 (100.0%) in 6.99 sec. Users per second: 1438\n"
     ]
    },
    {
     "name": "stderr",
     "output_type": "stream",
     "text": [
      "[I 2023-12-04 23:43:48,486] Trial 223 finished with value: 0.022403172548313022 and parameters: {'topK': 886, 'shrink': 6, 'similarity': 'asymmetric', 'normalize': True, 'feature_weighting': 'TF-IDF', 'asymmetric_alpha': 0.397256377045074}. Best is trial 212 with value: 0.02370607338069006.\n"
     ]
    },
    {
     "name": "stdout",
     "output_type": "stream",
     "text": [
      "UserKNNCFRecommender: URM Detected 472 ( 3.7%) users with no interactions.\n",
      "UserKNNCFRecommender: URM Detected 329 ( 1.5%) items with no interactions.\n",
      "Similarity column 12638 (100.0%), 10390.24 column/sec. Elapsed time 1.22 sec\n",
      "EvaluatorHoldout: Processed 10042 (100.0%) in 6.08 sec. Users per second: 1653\n"
     ]
    },
    {
     "name": "stderr",
     "output_type": "stream",
     "text": [
      "[I 2023-12-04 23:43:55,988] Trial 224 finished with value: 0.02361559229015919 and parameters: {'topK': 453, 'shrink': 42, 'similarity': 'asymmetric', 'normalize': True, 'feature_weighting': 'TF-IDF', 'asymmetric_alpha': 0.45980666871943776}. Best is trial 212 with value: 0.02370607338069006.\n"
     ]
    },
    {
     "name": "stdout",
     "output_type": "stream",
     "text": [
      "UserKNNCFRecommender: URM Detected 472 ( 3.7%) users with no interactions.\n",
      "UserKNNCFRecommender: URM Detected 329 ( 1.5%) items with no interactions.\n",
      "Similarity column 12638 (100.0%), 10336.02 column/sec. Elapsed time 1.22 sec\n",
      "EvaluatorHoldout: Processed 10042 (100.0%) in 5.76 sec. Users per second: 1745\n"
     ]
    },
    {
     "name": "stderr",
     "output_type": "stream",
     "text": [
      "[I 2023-12-04 23:44:03,168] Trial 225 finished with value: 0.023460979758032213 and parameters: {'topK': 344, 'shrink': 39, 'similarity': 'asymmetric', 'normalize': True, 'feature_weighting': 'TF-IDF', 'asymmetric_alpha': 0.470288537957009}. Best is trial 212 with value: 0.02370607338069006.\n"
     ]
    },
    {
     "name": "stdout",
     "output_type": "stream",
     "text": [
      "UserKNNCFRecommender: URM Detected 472 ( 3.7%) users with no interactions.\n",
      "UserKNNCFRecommender: URM Detected 329 ( 1.5%) items with no interactions.\n",
      "Similarity column 12638 (100.0%), 10496.14 column/sec. Elapsed time 1.20 sec\n",
      "EvaluatorHoldout: Processed 10042 (100.0%) in 4.90 sec. Users per second: 2048\n"
     ]
    },
    {
     "name": "stderr",
     "output_type": "stream",
     "text": [
      "[I 2023-12-04 23:44:09,431] Trial 226 finished with value: 0.018724741008399656 and parameters: {'topK': 105, 'shrink': 4, 'similarity': 'asymmetric', 'normalize': True, 'feature_weighting': 'TF-IDF', 'asymmetric_alpha': 0.5163932273719753}. Best is trial 212 with value: 0.02370607338069006.\n"
     ]
    },
    {
     "name": "stdout",
     "output_type": "stream",
     "text": [
      "UserKNNCFRecommender: URM Detected 472 ( 3.7%) users with no interactions.\n",
      "UserKNNCFRecommender: URM Detected 329 ( 1.5%) items with no interactions.\n",
      "Similarity column 12638 (100.0%), 10265.15 column/sec. Elapsed time 1.23 sec\n",
      "EvaluatorHoldout: Processed 10042 (100.0%) in 6.56 sec. Users per second: 1531\n"
     ]
    },
    {
     "name": "stderr",
     "output_type": "stream",
     "text": [
      "[I 2023-12-04 23:44:17,460] Trial 227 finished with value: 0.023459806115900605 and parameters: {'topK': 667, 'shrink': 0, 'similarity': 'asymmetric', 'normalize': True, 'feature_weighting': 'TF-IDF', 'asymmetric_alpha': 0.3363464873885439}. Best is trial 212 with value: 0.02370607338069006.\n"
     ]
    },
    {
     "name": "stdout",
     "output_type": "stream",
     "text": [
      "UserKNNCFRecommender: URM Detected 472 ( 3.7%) users with no interactions.\n",
      "UserKNNCFRecommender: URM Detected 329 ( 1.5%) items with no interactions.\n",
      "Similarity column 12638 (100.0%), 10431.42 column/sec. Elapsed time 1.21 sec\n",
      "EvaluatorHoldout: Processed 10042 (100.0%) in 5.96 sec. Users per second: 1685\n"
     ]
    },
    {
     "name": "stderr",
     "output_type": "stream",
     "text": [
      "[I 2023-12-04 23:44:24,831] Trial 228 finished with value: 0.02351557980292305 and parameters: {'topK': 419, 'shrink': 2, 'similarity': 'asymmetric', 'normalize': True, 'feature_weighting': 'TF-IDF', 'asymmetric_alpha': 0.44853019048283027}. Best is trial 212 with value: 0.02370607338069006.\n"
     ]
    },
    {
     "name": "stdout",
     "output_type": "stream",
     "text": [
      "UserKNNCFRecommender: URM Detected 472 ( 3.7%) users with no interactions.\n",
      "UserKNNCFRecommender: URM Detected 329 ( 1.5%) items with no interactions.\n",
      "Similarity column 12638 (100.0%), 10132.73 column/sec. Elapsed time 1.25 sec\n",
      "EvaluatorHoldout: Processed 10042 (100.0%) in 6.73 sec. Users per second: 1493\n"
     ]
    },
    {
     "name": "stderr",
     "output_type": "stream",
     "text": [
      "[I 2023-12-04 23:44:33,067] Trial 229 finished with value: 0.022877434615883166 and parameters: {'topK': 779, 'shrink': 35, 'similarity': 'asymmetric', 'normalize': True, 'feature_weighting': 'TF-IDF', 'asymmetric_alpha': 0.37788580457348137}. Best is trial 212 with value: 0.02370607338069006.\n"
     ]
    },
    {
     "name": "stdout",
     "output_type": "stream",
     "text": [
      "UserKNNCFRecommender: URM Detected 472 ( 3.7%) users with no interactions.\n",
      "UserKNNCFRecommender: URM Detected 329 ( 1.5%) items with no interactions.\n",
      "Similarity column 12638 (100.0%), 10377.76 column/sec. Elapsed time 1.22 sec\n",
      "EvaluatorHoldout: Processed 10042 (100.0%) in 5.59 sec. Users per second: 1796\n"
     ]
    },
    {
     "name": "stderr",
     "output_type": "stream",
     "text": [
      "[I 2023-12-04 23:44:40,081] Trial 230 finished with value: 0.021889733753157368 and parameters: {'topK': 310, 'shrink': 42, 'similarity': 'asymmetric', 'normalize': True, 'feature_weighting': 'TF-IDF', 'asymmetric_alpha': 0.3090045003798284}. Best is trial 212 with value: 0.02370607338069006.\n"
     ]
    },
    {
     "name": "stdout",
     "output_type": "stream",
     "text": [
      "UserKNNCFRecommender: URM Detected 472 ( 3.7%) users with no interactions.\n",
      "UserKNNCFRecommender: URM Detected 329 ( 1.5%) items with no interactions.\n",
      "Similarity column 12638 (100.0%), 10181.91 column/sec. Elapsed time 1.24 sec\n",
      "EvaluatorHoldout: Processed 10042 (100.0%) in 6.38 sec. Users per second: 1574\n"
     ]
    },
    {
     "name": "stderr",
     "output_type": "stream",
     "text": [
      "[I 2023-12-04 23:44:47,938] Trial 231 finished with value: 0.022598313274722382 and parameters: {'topK': 552, 'shrink': 32, 'similarity': 'asymmetric', 'normalize': True, 'feature_weighting': 'TF-IDF', 'asymmetric_alpha': 0.6427405410759328}. Best is trial 212 with value: 0.02370607338069006.\n"
     ]
    },
    {
     "name": "stdout",
     "output_type": "stream",
     "text": [
      "UserKNNCFRecommender: URM Detected 472 ( 3.7%) users with no interactions.\n",
      "UserKNNCFRecommender: URM Detected 329 ( 1.5%) items with no interactions.\n",
      "Similarity column 12638 (100.0%), 10279.88 column/sec. Elapsed time 1.23 sec\n",
      "EvaluatorHoldout: Processed 10042 (100.0%) in 6.25 sec. Users per second: 1607\n"
     ]
    },
    {
     "name": "stderr",
     "output_type": "stream",
     "text": [
      "[I 2023-12-04 23:44:55,639] Trial 232 finished with value: 0.02353779997028364 and parameters: {'topK': 512, 'shrink': 42, 'similarity': 'asymmetric', 'normalize': True, 'feature_weighting': 'TF-IDF', 'asymmetric_alpha': 0.4258554065385396}. Best is trial 212 with value: 0.02370607338069006.\n"
     ]
    },
    {
     "name": "stdout",
     "output_type": "stream",
     "text": [
      "UserKNNCFRecommender: URM Detected 472 ( 3.7%) users with no interactions.\n",
      "UserKNNCFRecommender: URM Detected 329 ( 1.5%) items with no interactions.\n",
      "Similarity column 12638 (100.0%), 10233.02 column/sec. Elapsed time 1.24 sec\n",
      "EvaluatorHoldout: Processed 10042 (100.0%) in 6.22 sec. Users per second: 1615\n"
     ]
    },
    {
     "name": "stderr",
     "output_type": "stream",
     "text": [
      "[I 2023-12-04 23:45:03,305] Trial 233 finished with value: 0.023583694514783975 and parameters: {'topK': 514, 'shrink': 57, 'similarity': 'asymmetric', 'normalize': True, 'feature_weighting': 'TF-IDF', 'asymmetric_alpha': 0.4012479531155283}. Best is trial 212 with value: 0.02370607338069006.\n"
     ]
    },
    {
     "name": "stdout",
     "output_type": "stream",
     "text": [
      "UserKNNCFRecommender: URM Detected 472 ( 3.7%) users with no interactions.\n",
      "UserKNNCFRecommender: URM Detected 329 ( 1.5%) items with no interactions.\n",
      "Similarity column 12638 (100.0%), 10517.28 column/sec. Elapsed time 1.20 sec\n",
      "EvaluatorHoldout: Processed 10042 (100.0%) in 5.71 sec. Users per second: 1759\n"
     ]
    },
    {
     "name": "stderr",
     "output_type": "stream",
     "text": [
      "[I 2023-12-04 23:45:10,395] Trial 234 finished with value: 0.02190279397957152 and parameters: {'topK': 302, 'shrink': 57, 'similarity': 'asymmetric', 'normalize': True, 'feature_weighting': 'TF-IDF', 'asymmetric_alpha': 0.7907138165002374}. Best is trial 212 with value: 0.02370607338069006.\n"
     ]
    },
    {
     "name": "stdout",
     "output_type": "stream",
     "text": [
      "UserKNNCFRecommender: URM Detected 472 ( 3.7%) users with no interactions.\n",
      "UserKNNCFRecommender: URM Detected 329 ( 1.5%) items with no interactions.\n",
      "Similarity column 12638 (100.0%), 10282.27 column/sec. Elapsed time 1.23 sec\n",
      "EvaluatorHoldout: Processed 10042 (100.0%) in 5.90 sec. Users per second: 1702\n"
     ]
    },
    {
     "name": "stderr",
     "output_type": "stream",
     "text": [
      "[I 2023-12-04 23:45:17,741] Trial 235 finished with value: 0.019465060239059445 and parameters: {'topK': 462, 'shrink': 59, 'similarity': 'asymmetric', 'normalize': True, 'feature_weighting': 'TF-IDF', 'asymmetric_alpha': 1.204985194017792}. Best is trial 212 with value: 0.02370607338069006.\n"
     ]
    },
    {
     "name": "stdout",
     "output_type": "stream",
     "text": [
      "UserKNNCFRecommender: URM Detected 472 ( 3.7%) users with no interactions.\n",
      "UserKNNCFRecommender: URM Detected 329 ( 1.5%) items with no interactions.\n",
      "Similarity column 12638 (100.0%), 9937.15 column/sec. Elapsed time 1.27 sec\n",
      "EvaluatorHoldout: Processed 10042 (100.0%) in 6.83 sec. Users per second: 1471\n"
     ]
    },
    {
     "name": "stderr",
     "output_type": "stream",
     "text": [
      "[I 2023-12-04 23:45:26,115] Trial 236 finished with value: 0.022441661687578898 and parameters: {'topK': 813, 'shrink': 59, 'similarity': 'asymmetric', 'normalize': True, 'feature_weighting': 'TF-IDF', 'asymmetric_alpha': 0.4811814281107342}. Best is trial 212 with value: 0.02370607338069006.\n"
     ]
    },
    {
     "name": "stdout",
     "output_type": "stream",
     "text": [
      "UserKNNCFRecommender: URM Detected 472 ( 3.7%) users with no interactions.\n",
      "UserKNNCFRecommender: URM Detected 329 ( 1.5%) items with no interactions.\n",
      "Similarity column 12638 (100.0%), 10107.87 column/sec. Elapsed time 1.25 sec\n",
      "EvaluatorHoldout: Processed 10042 (100.0%) in 6.31 sec. Users per second: 1593\n"
     ]
    },
    {
     "name": "stderr",
     "output_type": "stream",
     "text": [
      "[I 2023-12-04 23:45:33,911] Trial 237 finished with value: 0.02358832190514136 and parameters: {'topK': 548, 'shrink': 29, 'similarity': 'asymmetric', 'normalize': True, 'feature_weighting': 'TF-IDF', 'asymmetric_alpha': 0.4271626874339526}. Best is trial 212 with value: 0.02370607338069006.\n"
     ]
    },
    {
     "name": "stdout",
     "output_type": "stream",
     "text": [
      "UserKNNCFRecommender: URM Detected 472 ( 3.7%) users with no interactions.\n",
      "UserKNNCFRecommender: URM Detected 329 ( 1.5%) items with no interactions.\n",
      "Similarity column 12638 (100.0%), 10818.05 column/sec. Elapsed time 1.17 sec\n",
      "EvaluatorHoldout: Processed 10042 (100.0%) in 5.72 sec. Users per second: 1756\n"
     ]
    },
    {
     "name": "stderr",
     "output_type": "stream",
     "text": [
      "[I 2023-12-04 23:45:40,975] Trial 238 finished with value: 0.012076512773336049 and parameters: {'topK': 272, 'shrink': 28, 'similarity': 'asymmetric', 'normalize': True, 'feature_weighting': 'BM25', 'asymmetric_alpha': 0.4317657699649971}. Best is trial 212 with value: 0.02370607338069006.\n"
     ]
    },
    {
     "name": "stdout",
     "output_type": "stream",
     "text": [
      "UserKNNCFRecommender: URM Detected 472 ( 3.7%) users with no interactions.\n",
      "UserKNNCFRecommender: URM Detected 329 ( 1.5%) items with no interactions.\n",
      "Similarity column 12638 (100.0%), 10038.79 column/sec. Elapsed time 1.26 sec\n",
      "EvaluatorHoldout: Processed 10042 (100.0%) in 9.80 sec. Users per second: 1025\n"
     ]
    },
    {
     "name": "stderr",
     "output_type": "stream",
     "text": [
      "[I 2023-12-04 23:45:52,707] Trial 239 finished with value: 0.01518568045953028 and parameters: {'topK': 8734, 'shrink': 30, 'similarity': 'asymmetric', 'normalize': True, 'feature_weighting': 'TF-IDF', 'asymmetric_alpha': 0.5529995977636846}. Best is trial 212 with value: 0.02370607338069006.\n"
     ]
    },
    {
     "name": "stdout",
     "output_type": "stream",
     "text": [
      "UserKNNCFRecommender: URM Detected 472 ( 3.7%) users with no interactions.\n",
      "UserKNNCFRecommender: URM Detected 329 ( 1.5%) items with no interactions.\n",
      "Similarity column 12638 (100.0%), 10100.59 column/sec. Elapsed time 1.25 sec\n",
      "EvaluatorHoldout: Processed 10042 (100.0%) in 6.59 sec. Users per second: 1523\n"
     ]
    },
    {
     "name": "stderr",
     "output_type": "stream",
     "text": [
      "[I 2023-12-04 23:46:00,810] Trial 240 finished with value: 0.02297620233116153 and parameters: {'topK': 672, 'shrink': 26, 'similarity': 'asymmetric', 'normalize': True, 'feature_weighting': 'TF-IDF', 'asymmetric_alpha': 0.47597664729012223}. Best is trial 212 with value: 0.02370607338069006.\n"
     ]
    },
    {
     "name": "stdout",
     "output_type": "stream",
     "text": [
      "UserKNNCFRecommender: URM Detected 472 ( 3.7%) users with no interactions.\n",
      "UserKNNCFRecommender: URM Detected 329 ( 1.5%) items with no interactions.\n",
      "Similarity column 12638 (100.0%), 10708.88 column/sec. Elapsed time 1.18 sec\n",
      "EvaluatorHoldout: Processed 10042 (100.0%) in 4.78 sec. Users per second: 2101\n"
     ]
    },
    {
     "name": "stderr",
     "output_type": "stream",
     "text": [
      "[I 2023-12-04 23:46:06,916] Trial 241 finished with value: 0.015387471824685518 and parameters: {'topK': 102, 'shrink': 55, 'similarity': 'asymmetric', 'normalize': True, 'feature_weighting': 'TF-IDF', 'asymmetric_alpha': 0.3528394803377724}. Best is trial 212 with value: 0.02370607338069006.\n"
     ]
    },
    {
     "name": "stdout",
     "output_type": "stream",
     "text": [
      "UserKNNCFRecommender: URM Detected 472 ( 3.7%) users with no interactions.\n",
      "UserKNNCFRecommender: URM Detected 329 ( 1.5%) items with no interactions.\n",
      "Similarity column 12638 (100.0%), 9969.97 column/sec. Elapsed time 1.27 sec\n",
      "EvaluatorHoldout: Processed 10042 (100.0%) in 6.30 sec. Users per second: 1594\n"
     ]
    },
    {
     "name": "stderr",
     "output_type": "stream",
     "text": [
      "[I 2023-12-04 23:46:14,709] Trial 242 finished with value: 0.02367746338394624 and parameters: {'topK': 544, 'shrink': 33, 'similarity': 'asymmetric', 'normalize': True, 'feature_weighting': 'TF-IDF', 'asymmetric_alpha': 0.4091680062713296}. Best is trial 212 with value: 0.02370607338069006.\n"
     ]
    },
    {
     "name": "stdout",
     "output_type": "stream",
     "text": [
      "UserKNNCFRecommender: URM Detected 472 ( 3.7%) users with no interactions.\n",
      "UserKNNCFRecommender: URM Detected 329 ( 1.5%) items with no interactions.\n",
      "Similarity column 12638 (100.0%), 10376.52 column/sec. Elapsed time 1.22 sec\n",
      "EvaluatorHoldout: Processed 10042 (100.0%) in 6.20 sec. Users per second: 1619\n"
     ]
    },
    {
     "name": "stderr",
     "output_type": "stream",
     "text": [
      "[I 2023-12-04 23:46:22,343] Trial 243 finished with value: 0.023569780730455965 and parameters: {'topK': 492, 'shrink': 32, 'similarity': 'asymmetric', 'normalize': True, 'feature_weighting': 'TF-IDF', 'asymmetric_alpha': 0.4082632109899911}. Best is trial 212 with value: 0.02370607338069006.\n"
     ]
    },
    {
     "name": "stdout",
     "output_type": "stream",
     "text": [
      "UserKNNCFRecommender: URM Detected 472 ( 3.7%) users with no interactions.\n",
      "UserKNNCFRecommender: URM Detected 329 ( 1.5%) items with no interactions.\n",
      "Similarity column 12638 (100.0%), 10266.48 column/sec. Elapsed time 1.23 sec\n",
      "EvaluatorHoldout: Processed 10042 (100.0%) in 6.16 sec. Users per second: 1629\n"
     ]
    },
    {
     "name": "stderr",
     "output_type": "stream",
     "text": [
      "[I 2023-12-04 23:46:29,959] Trial 244 finished with value: 0.02347763599232443 and parameters: {'topK': 499, 'shrink': 33, 'similarity': 'asymmetric', 'normalize': True, 'feature_weighting': 'TF-IDF', 'asymmetric_alpha': 0.44572966258798924}. Best is trial 212 with value: 0.02370607338069006.\n"
     ]
    },
    {
     "name": "stdout",
     "output_type": "stream",
     "text": [
      "UserKNNCFRecommender: URM Detected 472 ( 3.7%) users with no interactions.\n",
      "UserKNNCFRecommender: URM Detected 329 ( 1.5%) items with no interactions.\n",
      "Similarity column 12638 (100.0%), 10139.00 column/sec. Elapsed time 1.25 sec\n",
      "EvaluatorHoldout: Processed 10042 (100.0%) in 6.66 sec. Users per second: 1509\n"
     ]
    },
    {
     "name": "stderr",
     "output_type": "stream",
     "text": [
      "[I 2023-12-04 23:46:38,132] Trial 245 finished with value: 0.022949702519260425 and parameters: {'topK': 720, 'shrink': 32, 'similarity': 'asymmetric', 'normalize': True, 'feature_weighting': 'TF-IDF', 'asymmetric_alpha': 0.4122790707239591}. Best is trial 212 with value: 0.02370607338069006.\n"
     ]
    },
    {
     "name": "stdout",
     "output_type": "stream",
     "text": [
      "UserKNNCFRecommender: URM Detected 472 ( 3.7%) users with no interactions.\n",
      "UserKNNCFRecommender: URM Detected 329 ( 1.5%) items with no interactions.\n",
      "Similarity column 12638 (100.0%), 10256.41 column/sec. Elapsed time 1.23 sec\n",
      "EvaluatorHoldout: Processed 10042 (100.0%) in 6.11 sec. Users per second: 1644\n"
     ]
    },
    {
     "name": "stderr",
     "output_type": "stream",
     "text": [
      "[I 2023-12-04 23:46:45,684] Trial 246 finished with value: 0.023438542249536155 and parameters: {'topK': 452, 'shrink': 35, 'similarity': 'asymmetric', 'normalize': True, 'feature_weighting': 'TF-IDF', 'asymmetric_alpha': 0.43085162077641637}. Best is trial 212 with value: 0.02370607338069006.\n"
     ]
    },
    {
     "name": "stdout",
     "output_type": "stream",
     "text": [
      "UserKNNCFRecommender: URM Detected 472 ( 3.7%) users with no interactions.\n",
      "UserKNNCFRecommender: URM Detected 329 ( 1.5%) items with no interactions.\n",
      "Similarity column 12638 (100.0%), 10073.02 column/sec. Elapsed time 1.25 sec\n",
      "EvaluatorHoldout: Processed 10042 (100.0%) in 7.01 sec. Users per second: 1432\n"
     ]
    },
    {
     "name": "stderr",
     "output_type": "stream",
     "text": [
      "[I 2023-12-04 23:46:54,238] Trial 247 finished with value: 0.020011459805325607 and parameters: {'topK': 936, 'shrink': 62, 'similarity': 'asymmetric', 'normalize': True, 'feature_weighting': 'none', 'asymmetric_alpha': 0.5032526084887476}. Best is trial 212 with value: 0.02370607338069006.\n"
     ]
    },
    {
     "name": "stdout",
     "output_type": "stream",
     "text": [
      "UserKNNCFRecommender: URM Detected 472 ( 3.7%) users with no interactions.\n",
      "UserKNNCFRecommender: URM Detected 329 ( 1.5%) items with no interactions.\n",
      "Similarity column 12638 (100.0%), 10448.93 column/sec. Elapsed time 1.21 sec\n",
      "EvaluatorHoldout: Processed 10042 (100.0%) in 5.61 sec. Users per second: 1789\n"
     ]
    },
    {
     "name": "stderr",
     "output_type": "stream",
     "text": [
      "[I 2023-12-04 23:47:01,242] Trial 248 finished with value: 0.022519691106874944 and parameters: {'topK': 306, 'shrink': 31, 'similarity': 'asymmetric', 'normalize': True, 'feature_weighting': 'TF-IDF', 'asymmetric_alpha': 0.39280023176933004}. Best is trial 212 with value: 0.02370607338069006.\n"
     ]
    },
    {
     "name": "stdout",
     "output_type": "stream",
     "text": [
      "UserKNNCFRecommender: URM Detected 472 ( 3.7%) users with no interactions.\n",
      "UserKNNCFRecommender: URM Detected 329 ( 1.5%) items with no interactions.\n",
      "Similarity column 12638 (100.0%), 10582.38 column/sec. Elapsed time 1.19 sec\n",
      "EvaluatorHoldout: Processed 10042 (100.0%) in 9.72 sec. Users per second: 1033\n"
     ]
    },
    {
     "name": "stderr",
     "output_type": "stream",
     "text": [
      "[I 2023-12-04 23:47:12,762] Trial 249 finished with value: 0.015120896994527745 and parameters: {'topK': 5798, 'shrink': 34, 'similarity': 'asymmetric', 'normalize': True, 'feature_weighting': 'TF-IDF', 'asymmetric_alpha': 0.9404508993353632}. Best is trial 212 with value: 0.02370607338069006.\n"
     ]
    },
    {
     "name": "stdout",
     "output_type": "stream",
     "text": [
      "UserKNNCFRecommender: URM Detected 472 ( 3.7%) users with no interactions.\n",
      "UserKNNCFRecommender: URM Detected 329 ( 1.5%) items with no interactions.\n",
      "Similarity column 12638 (100.0%), 10215.90 column/sec. Elapsed time 1.24 sec\n",
      "EvaluatorHoldout: Processed 10042 (100.0%) in 6.51 sec. Users per second: 1543\n"
     ]
    },
    {
     "name": "stderr",
     "output_type": "stream",
     "text": [
      "[I 2023-12-04 23:47:20,741] Trial 250 finished with value: 0.023483595091093764 and parameters: {'topK': 635, 'shrink': 31, 'similarity': 'asymmetric', 'normalize': True, 'feature_weighting': 'TF-IDF', 'asymmetric_alpha': 0.347481816958045}. Best is trial 212 with value: 0.02370607338069006.\n"
     ]
    },
    {
     "name": "stdout",
     "output_type": "stream",
     "text": [
      "UserKNNCFRecommender: URM Detected 472 ( 3.7%) users with no interactions.\n",
      "UserKNNCFRecommender: URM Detected 329 ( 1.5%) items with no interactions.\n",
      "Similarity column 12638 (100.0%), 10294.84 column/sec. Elapsed time 1.23 sec\n",
      "EvaluatorHoldout: Processed 10042 (100.0%) in 5.98 sec. Users per second: 1679\n"
     ]
    },
    {
     "name": "stderr",
     "output_type": "stream",
     "text": [
      "[I 2023-12-04 23:47:28,168] Trial 251 finished with value: 0.02357791324058009 and parameters: {'topK': 409, 'shrink': 36, 'similarity': 'asymmetric', 'normalize': True, 'feature_weighting': 'TF-IDF', 'asymmetric_alpha': 0.44565773246632606}. Best is trial 212 with value: 0.02370607338069006.\n"
     ]
    },
    {
     "name": "stdout",
     "output_type": "stream",
     "text": [
      "UserKNNCFRecommender: URM Detected 472 ( 3.7%) users with no interactions.\n",
      "UserKNNCFRecommender: URM Detected 329 ( 1.5%) items with no interactions.\n",
      "Similarity column 12638 (100.0%), 10416.02 column/sec. Elapsed time 1.21 sec\n",
      "EvaluatorHoldout: Processed 10042 (100.0%) in 5.84 sec. Users per second: 1718\n"
     ]
    },
    {
     "name": "stderr",
     "output_type": "stream",
     "text": [
      "[I 2023-12-04 23:47:35,419] Trial 252 finished with value: 0.023464599475852305 and parameters: {'topK': 355, 'shrink': 36, 'similarity': 'asymmetric', 'normalize': True, 'feature_weighting': 'TF-IDF', 'asymmetric_alpha': 0.4674096453077088}. Best is trial 212 with value: 0.02370607338069006.\n"
     ]
    },
    {
     "name": "stdout",
     "output_type": "stream",
     "text": [
      "UserKNNCFRecommender: URM Detected 472 ( 3.7%) users with no interactions.\n",
      "UserKNNCFRecommender: URM Detected 329 ( 1.5%) items with no interactions.\n",
      "Similarity column 12638 (100.0%), 10477.14 column/sec. Elapsed time 1.21 sec\n",
      "EvaluatorHoldout: Processed 10042 (100.0%) in 9.49 sec. Users per second: 1058\n"
     ]
    },
    {
     "name": "stderr",
     "output_type": "stream",
     "text": [
      "[I 2023-12-04 23:47:46,693] Trial 253 finished with value: 0.015296955169241566 and parameters: {'topK': 4114, 'shrink': 33, 'similarity': 'asymmetric', 'normalize': True, 'feature_weighting': 'TF-IDF', 'asymmetric_alpha': 0.5315240964601424}. Best is trial 212 with value: 0.02370607338069006.\n"
     ]
    },
    {
     "name": "stdout",
     "output_type": "stream",
     "text": [
      "UserKNNCFRecommender: URM Detected 472 ( 3.7%) users with no interactions.\n",
      "UserKNNCFRecommender: URM Detected 329 ( 1.5%) items with no interactions.\n",
      "Similarity column 12638 (100.0%), 10051.11 column/sec. Elapsed time 1.26 sec\n",
      "EvaluatorHoldout: Processed 10042 (100.0%) in 6.24 sec. Users per second: 1609\n"
     ]
    },
    {
     "name": "stderr",
     "output_type": "stream",
     "text": [
      "[I 2023-12-04 23:47:54,476] Trial 254 finished with value: 0.01701191108455598 and parameters: {'topK': 803, 'shrink': 34, 'similarity': 'asymmetric', 'normalize': True, 'feature_weighting': 'TF-IDF', 'asymmetric_alpha': 1.5323826241196805}. Best is trial 212 with value: 0.02370607338069006.\n"
     ]
    },
    {
     "name": "stdout",
     "output_type": "stream",
     "text": [
      "UserKNNCFRecommender: URM Detected 472 ( 3.7%) users with no interactions.\n",
      "UserKNNCFRecommender: URM Detected 329 ( 1.5%) items with no interactions.\n",
      "Similarity column 12638 (100.0%), 10661.93 column/sec. Elapsed time 1.19 sec\n",
      "EvaluatorHoldout: Processed 10042 (100.0%) in 5.38 sec. Users per second: 1865\n"
     ]
    },
    {
     "name": "stderr",
     "output_type": "stream",
     "text": [
      "[I 2023-12-04 23:48:01,213] Trial 255 finished with value: 0.02126625711693432 and parameters: {'topK': 235, 'shrink': 29, 'similarity': 'asymmetric', 'normalize': True, 'feature_weighting': 'TF-IDF', 'asymmetric_alpha': 0.3791118715389554}. Best is trial 212 with value: 0.02370607338069006.\n"
     ]
    },
    {
     "name": "stdout",
     "output_type": "stream",
     "text": [
      "UserKNNCFRecommender: URM Detected 472 ( 3.7%) users with no interactions.\n",
      "UserKNNCFRecommender: URM Detected 329 ( 1.5%) items with no interactions.\n",
      "Similarity column 12638 (100.0%), 10179.71 column/sec. Elapsed time 1.24 sec\n",
      "EvaluatorHoldout: Processed 10042 (100.0%) in 6.46 sec. Users per second: 1555\n"
     ]
    },
    {
     "name": "stderr",
     "output_type": "stream",
     "text": [
      "[I 2023-12-04 23:48:09,157] Trial 256 finished with value: 0.021345677519497543 and parameters: {'topK': 590, 'shrink': 37, 'similarity': 'asymmetric', 'normalize': True, 'feature_weighting': 'none', 'asymmetric_alpha': 0.29513330023083106}. Best is trial 212 with value: 0.02370607338069006.\n"
     ]
    },
    {
     "name": "stdout",
     "output_type": "stream",
     "text": [
      "UserKNNCFRecommender: URM Detected 472 ( 3.7%) users with no interactions.\n",
      "UserKNNCFRecommender: URM Detected 329 ( 1.5%) items with no interactions.\n",
      "Similarity column 12638 (100.0%), 9856.15 column/sec. Elapsed time 1.28 sec\n",
      "EvaluatorHoldout: Processed 10042 (100.0%) in 7.22 sec. Users per second: 1391\n"
     ]
    },
    {
     "name": "stderr",
     "output_type": "stream",
     "text": [
      "[I 2023-12-04 23:48:17,964] Trial 257 finished with value: 0.021927677563756118 and parameters: {'topK': 994, 'shrink': 35, 'similarity': 'asymmetric', 'normalize': True, 'feature_weighting': 'TF-IDF', 'asymmetric_alpha': 0.45368920841613325}. Best is trial 212 with value: 0.02370607338069006.\n"
     ]
    },
    {
     "name": "stdout",
     "output_type": "stream",
     "text": [
      "UserKNNCFRecommender: URM Detected 472 ( 3.7%) users with no interactions.\n",
      "UserKNNCFRecommender: URM Detected 329 ( 1.5%) items with no interactions.\n",
      "Similarity column 12638 (100.0%), 10162.88 column/sec. Elapsed time 1.24 sec\n",
      "EvaluatorHoldout: Processed 10042 (100.0%) in 5.98 sec. Users per second: 1678\n"
     ]
    },
    {
     "name": "stderr",
     "output_type": "stream",
     "text": [
      "[I 2023-12-04 23:48:25,397] Trial 258 finished with value: 0.023409584506975507 and parameters: {'topK': 396, 'shrink': 31, 'similarity': 'asymmetric', 'normalize': True, 'feature_weighting': 'TF-IDF', 'asymmetric_alpha': 0.39930388579088966}. Best is trial 212 with value: 0.02370607338069006.\n"
     ]
    },
    {
     "name": "stdout",
     "output_type": "stream",
     "text": [
      "UserKNNCFRecommender: URM Detected 472 ( 3.7%) users with no interactions.\n",
      "UserKNNCFRecommender: URM Detected 329 ( 1.5%) items with no interactions.\n",
      "Similarity column 12638 (100.0%), 10158.15 column/sec. Elapsed time 1.24 sec\n",
      "EvaluatorHoldout: Processed 10042 (100.0%) in 6.73 sec. Users per second: 1493\n"
     ]
    },
    {
     "name": "stderr",
     "output_type": "stream",
     "text": [
      "[I 2023-12-04 23:48:33,635] Trial 259 finished with value: 0.023116490106631568 and parameters: {'topK': 760, 'shrink': 33, 'similarity': 'asymmetric', 'normalize': True, 'feature_weighting': 'TF-IDF', 'asymmetric_alpha': 0.34843734825728356}. Best is trial 212 with value: 0.02370607338069006.\n"
     ]
    },
    {
     "name": "stdout",
     "output_type": "stream",
     "text": [
      "UserKNNCFRecommender: URM Detected 472 ( 3.7%) users with no interactions.\n",
      "UserKNNCFRecommender: URM Detected 329 ( 1.5%) items with no interactions.\n",
      "Similarity column 12638 (100.0%), 10607.90 column/sec. Elapsed time 1.19 sec\n",
      "EvaluatorHoldout: Processed 10042 (100.0%) in 5.38 sec. Users per second: 1866\n"
     ]
    },
    {
     "name": "stderr",
     "output_type": "stream",
     "text": [
      "[I 2023-12-04 23:48:40,375] Trial 260 finished with value: 0.022144208609554124 and parameters: {'topK': 235, 'shrink': 2, 'similarity': 'asymmetric', 'normalize': True, 'feature_weighting': 'TF-IDF', 'asymmetric_alpha': 0.47596273905162645}. Best is trial 212 with value: 0.02370607338069006.\n"
     ]
    },
    {
     "name": "stdout",
     "output_type": "stream",
     "text": [
      "UserKNNCFRecommender: URM Detected 472 ( 3.7%) users with no interactions.\n",
      "UserKNNCFRecommender: URM Detected 329 ( 1.5%) items with no interactions.\n",
      "Similarity column 12638 (100.0%), 10169.43 column/sec. Elapsed time 1.24 sec\n",
      "EvaluatorHoldout: Processed 10042 (100.0%) in 6.30 sec. Users per second: 1594\n"
     ]
    },
    {
     "name": "stderr",
     "output_type": "stream",
     "text": [
      "[I 2023-12-04 23:48:48,145] Trial 261 finished with value: 0.023468756619025574 and parameters: {'topK': 594, 'shrink': 5, 'similarity': 'asymmetric', 'normalize': True, 'feature_weighting': 'TF-IDF', 'asymmetric_alpha': 0.26589482738918446}. Best is trial 212 with value: 0.02370607338069006.\n"
     ]
    },
    {
     "name": "stdout",
     "output_type": "stream",
     "text": [
      "UserKNNCFRecommender: URM Detected 472 ( 3.7%) users with no interactions.\n",
      "UserKNNCFRecommender: URM Detected 329 ( 1.5%) items with no interactions.\n",
      "Similarity column 12638 (100.0%), 10390.37 column/sec. Elapsed time 1.22 sec\n",
      "EvaluatorHoldout: Processed 10042 (100.0%) in 6.12 sec. Users per second: 1641\n"
     ]
    },
    {
     "name": "stderr",
     "output_type": "stream",
     "text": [
      "[I 2023-12-04 23:48:55,690] Trial 262 finished with value: 0.02352422207680131 and parameters: {'topK': 477, 'shrink': 28, 'similarity': 'asymmetric', 'normalize': True, 'feature_weighting': 'TF-IDF', 'asymmetric_alpha': 0.4218587373410809}. Best is trial 212 with value: 0.02370607338069006.\n"
     ]
    },
    {
     "name": "stdout",
     "output_type": "stream",
     "text": [
      "UserKNNCFRecommender: URM Detected 472 ( 3.7%) users with no interactions.\n",
      "UserKNNCFRecommender: URM Detected 329 ( 1.5%) items with no interactions.\n",
      "Similarity column 12638 (100.0%), 10090.15 column/sec. Elapsed time 1.25 sec\n",
      "EvaluatorHoldout: Processed 10042 (100.0%) in 6.77 sec. Users per second: 1482\n"
     ]
    },
    {
     "name": "stderr",
     "output_type": "stream",
     "text": [
      "[I 2023-12-04 23:49:03,995] Trial 263 finished with value: 0.020264255207493642 and parameters: {'topK': 857, 'shrink': 37, 'similarity': 'asymmetric', 'normalize': True, 'feature_weighting': 'none', 'asymmetric_alpha': 0.8753012168854657}. Best is trial 212 with value: 0.02370607338069006.\n"
     ]
    },
    {
     "name": "stdout",
     "output_type": "stream",
     "text": [
      "UserKNNCFRecommender: URM Detected 472 ( 3.7%) users with no interactions.\n",
      "UserKNNCFRecommender: URM Detected 329 ( 1.5%) items with no interactions.\n",
      "Similarity column 12638 (100.0%), 10309.05 column/sec. Elapsed time 1.23 sec\n",
      "EvaluatorHoldout: Processed 10042 (100.0%) in 5.49 sec. Users per second: 1830\n"
     ]
    },
    {
     "name": "stderr",
     "output_type": "stream",
     "text": [
      "[I 2023-12-04 23:49:10,906] Trial 264 finished with value: 0.02217921238733826 and parameters: {'topK': 230, 'shrink': 35, 'similarity': 'asymmetric', 'normalize': True, 'feature_weighting': 'TF-IDF', 'asymmetric_alpha': 0.7266322347721984}. Best is trial 212 with value: 0.02370607338069006.\n"
     ]
    },
    {
     "name": "stdout",
     "output_type": "stream",
     "text": [
      "UserKNNCFRecommender: URM Detected 472 ( 3.7%) users with no interactions.\n",
      "UserKNNCFRecommender: URM Detected 329 ( 1.5%) items with no interactions.\n",
      "Similarity column 12638 (100.0%), 9960.16 column/sec. Elapsed time 1.27 sec\n",
      "EvaluatorHoldout: Processed 10042 (100.0%) in 7.46 sec. Users per second: 1345\n"
     ]
    },
    {
     "name": "stderr",
     "output_type": "stream",
     "text": [
      "[I 2023-12-04 23:49:19,974] Trial 265 finished with value: 0.013501401257575277 and parameters: {'topK': 1142, 'shrink': 32, 'similarity': 'asymmetric', 'normalize': True, 'feature_weighting': 'BM25', 'asymmetric_alpha': 0.5090473037241866}. Best is trial 212 with value: 0.02370607338069006.\n"
     ]
    },
    {
     "name": "stdout",
     "output_type": "stream",
     "text": [
      "UserKNNCFRecommender: URM Detected 472 ( 3.7%) users with no interactions.\n",
      "UserKNNCFRecommender: URM Detected 329 ( 1.5%) items with no interactions.\n",
      "Similarity column 12638 (100.0%), 10215.65 column/sec. Elapsed time 1.24 sec\n",
      "EvaluatorHoldout: Processed 10042 (100.0%) in 6.51 sec. Users per second: 1543\n"
     ]
    },
    {
     "name": "stderr",
     "output_type": "stream",
     "text": [
      "[I 2023-12-04 23:49:27,958] Trial 266 finished with value: 0.023468784280624662 and parameters: {'topK': 639, 'shrink': 57, 'similarity': 'asymmetric', 'normalize': True, 'feature_weighting': 'TF-IDF', 'asymmetric_alpha': 0.3669953907618839}. Best is trial 212 with value: 0.02370607338069006.\n"
     ]
    },
    {
     "name": "stdout",
     "output_type": "stream",
     "text": [
      "UserKNNCFRecommender: URM Detected 472 ( 3.7%) users with no interactions.\n",
      "UserKNNCFRecommender: URM Detected 329 ( 1.5%) items with no interactions.\n",
      "Similarity column 12638 (100.0%), 10431.04 column/sec. Elapsed time 1.21 sec\n",
      "EvaluatorHoldout: Processed 10042 (100.0%) in 5.82 sec. Users per second: 1726\n"
     ]
    },
    {
     "name": "stderr",
     "output_type": "stream",
     "text": [
      "[I 2023-12-04 23:49:35,178] Trial 267 finished with value: 0.022664598369388323 and parameters: {'topK': 374, 'shrink': 30, 'similarity': 'asymmetric', 'normalize': True, 'feature_weighting': 'TF-IDF', 'asymmetric_alpha': 0.32143392859274555}. Best is trial 212 with value: 0.02370607338069006.\n"
     ]
    },
    {
     "name": "stdout",
     "output_type": "stream",
     "text": [
      "UserKNNCFRecommender: URM Detected 472 ( 3.7%) users with no interactions.\n",
      "UserKNNCFRecommender: URM Detected 329 ( 1.5%) items with no interactions.\n",
      "Similarity column 12638 (100.0%), 10063.66 column/sec. Elapsed time 1.26 sec\n",
      "EvaluatorHoldout: Processed 10042 (100.0%) in 6.73 sec. Users per second: 1492\n"
     ]
    },
    {
     "name": "stderr",
     "output_type": "stream",
     "text": [
      "[I 2023-12-04 23:49:43,425] Trial 268 finished with value: 0.02280649446926093 and parameters: {'topK': 729, 'shrink': 38, 'similarity': 'asymmetric', 'normalize': True, 'feature_weighting': 'TF-IDF', 'asymmetric_alpha': 0.44091580183545953}. Best is trial 212 with value: 0.02370607338069006.\n"
     ]
    },
    {
     "name": "stdout",
     "output_type": "stream",
     "text": [
      "UserKNNCFRecommender: URM Detected 472 ( 3.7%) users with no interactions.\n",
      "UserKNNCFRecommender: URM Detected 329 ( 1.5%) items with no interactions.\n",
      "Similarity column 12638 (100.0%), 10337.96 column/sec. Elapsed time 1.22 sec\n",
      "EvaluatorHoldout: Processed 10042 (100.0%) in 6.15 sec. Users per second: 1634\n"
     ]
    },
    {
     "name": "stderr",
     "output_type": "stream",
     "text": [
      "[I 2023-12-04 23:49:51,007] Trial 269 finished with value: 0.02300897342273568 and parameters: {'topK': 452, 'shrink': 34, 'similarity': 'asymmetric', 'normalize': True, 'feature_weighting': 'TF-IDF', 'asymmetric_alpha': 0.5923338066227756}. Best is trial 212 with value: 0.02370607338069006.\n"
     ]
    },
    {
     "name": "stdout",
     "output_type": "stream",
     "text": [
      "UserKNNCFRecommender: URM Detected 472 ( 3.7%) users with no interactions.\n",
      "UserKNNCFRecommender: URM Detected 329 ( 1.5%) items with no interactions.\n",
      "Similarity column 12638 (100.0%), 10678.54 column/sec. Elapsed time 1.18 sec\n",
      "EvaluatorHoldout: Processed 10042 (100.0%) in 5.01 sec. Users per second: 2006\n"
     ]
    },
    {
     "name": "stderr",
     "output_type": "stream",
     "text": [
      "[I 2023-12-04 23:49:57,343] Trial 270 finished with value: 0.018827294411092453 and parameters: {'topK': 139, 'shrink': 36, 'similarity': 'asymmetric', 'normalize': True, 'feature_weighting': 'TF-IDF', 'asymmetric_alpha': 0.4069275256254533}. Best is trial 212 with value: 0.02370607338069006.\n"
     ]
    },
    {
     "name": "stdout",
     "output_type": "stream",
     "text": [
      "UserKNNCFRecommender: URM Detected 472 ( 3.7%) users with no interactions.\n",
      "UserKNNCFRecommender: URM Detected 329 ( 1.5%) items with no interactions.\n",
      "Similarity column 12638 (100.0%), 9892.69 column/sec. Elapsed time 1.28 sec\n",
      "EvaluatorHoldout: Processed 10042 (100.0%) in 7.24 sec. Users per second: 1386\n"
     ]
    },
    {
     "name": "stderr",
     "output_type": "stream",
     "text": [
      "[I 2023-12-04 23:50:06,167] Trial 271 finished with value: 0.021957465154288553 and parameters: {'topK': 949, 'shrink': 26, 'similarity': 'asymmetric', 'normalize': True, 'feature_weighting': 'TF-IDF', 'asymmetric_alpha': 0.4829628584637722}. Best is trial 212 with value: 0.02370607338069006.\n"
     ]
    },
    {
     "name": "stdout",
     "output_type": "stream",
     "text": [
      "UserKNNCFRecommender: URM Detected 472 ( 3.7%) users with no interactions.\n",
      "UserKNNCFRecommender: URM Detected 329 ( 1.5%) items with no interactions.\n",
      "Similarity column 12638 (100.0%), 10281.85 column/sec. Elapsed time 1.23 sec\n",
      "EvaluatorHoldout: Processed 10042 (100.0%) in 6.42 sec. Users per second: 1564\n"
     ]
    },
    {
     "name": "stderr",
     "output_type": "stream",
     "text": [
      "[I 2023-12-04 23:50:14,034] Trial 272 finished with value: 0.02158143337664345 and parameters: {'topK': 552, 'shrink': 33, 'similarity': 'asymmetric', 'normalize': True, 'feature_weighting': 'none', 'asymmetric_alpha': 0.359727538088411}. Best is trial 212 with value: 0.02370607338069006.\n"
     ]
    },
    {
     "name": "stdout",
     "output_type": "stream",
     "text": [
      "UserKNNCFRecommender: URM Detected 472 ( 3.7%) users with no interactions.\n",
      "UserKNNCFRecommender: URM Detected 329 ( 1.5%) items with no interactions.\n",
      "Similarity column 12638 (100.0%), 10381.05 column/sec. Elapsed time 1.22 sec\n",
      "EvaluatorHoldout: Processed 10042 (100.0%) in 5.86 sec. Users per second: 1715\n"
     ]
    },
    {
     "name": "stderr",
     "output_type": "stream",
     "text": [
      "[I 2023-12-04 23:50:21,308] Trial 273 finished with value: 0.023423051754061584 and parameters: {'topK': 385, 'shrink': 30, 'similarity': 'asymmetric', 'normalize': True, 'feature_weighting': 'TF-IDF', 'asymmetric_alpha': 0.40627689190239763}. Best is trial 212 with value: 0.02370607338069006.\n"
     ]
    },
    {
     "name": "stdout",
     "output_type": "stream",
     "text": [
      "UserKNNCFRecommender: URM Detected 472 ( 3.7%) users with no interactions.\n",
      "UserKNNCFRecommender: URM Detected 329 ( 1.5%) items with no interactions.\n",
      "Similarity column 12638 (100.0%), 10685.03 column/sec. Elapsed time 1.18 sec\n",
      "EvaluatorHoldout: Processed 10042 (100.0%) in 5.00 sec. Users per second: 2009\n"
     ]
    },
    {
     "name": "stderr",
     "output_type": "stream",
     "text": [
      "[I 2023-12-04 23:50:27,641] Trial 274 finished with value: 0.01958412761639214 and parameters: {'topK': 112, 'shrink': 0, 'similarity': 'asymmetric', 'normalize': True, 'feature_weighting': 'TF-IDF', 'asymmetric_alpha': 0.5416915851694181}. Best is trial 212 with value: 0.02370607338069006.\n"
     ]
    },
    {
     "name": "stdout",
     "output_type": "stream",
     "text": [
      "UserKNNCFRecommender: URM Detected 472 ( 3.7%) users with no interactions.\n",
      "UserKNNCFRecommender: URM Detected 329 ( 1.5%) items with no interactions.\n",
      "Similarity column 12638 (100.0%), 10298.58 column/sec. Elapsed time 1.23 sec\n",
      "EvaluatorHoldout: Processed 10042 (100.0%) in 6.66 sec. Users per second: 1508\n"
     ]
    },
    {
     "name": "stderr",
     "output_type": "stream",
     "text": [
      "[I 2023-12-04 23:50:35,793] Trial 275 finished with value: 0.0234733326378418 and parameters: {'topK': 699, 'shrink': 36, 'similarity': 'asymmetric', 'normalize': True, 'feature_weighting': 'TF-IDF', 'asymmetric_alpha': 0.3069977018381418}. Best is trial 212 with value: 0.02370607338069006.\n"
     ]
    },
    {
     "name": "stdout",
     "output_type": "stream",
     "text": [
      "UserKNNCFRecommender: URM Detected 472 ( 3.7%) users with no interactions.\n",
      "UserKNNCFRecommender: URM Detected 329 ( 1.5%) items with no interactions.\n",
      "Similarity column 12638 (100.0%), 10004.70 column/sec. Elapsed time 1.26 sec\n",
      "EvaluatorHoldout: Processed 10042 (100.0%) in 7.04 sec. Users per second: 1427\n"
     ]
    },
    {
     "name": "stderr",
     "output_type": "stream",
     "text": [
      "[I 2023-12-04 23:50:44,380] Trial 276 finished with value: 0.022265398026700613 and parameters: {'topK': 884, 'shrink': 53, 'similarity': 'asymmetric', 'normalize': True, 'feature_weighting': 'TF-IDF', 'asymmetric_alpha': 0.4529020623932414}. Best is trial 212 with value: 0.02370607338069006.\n"
     ]
    },
    {
     "name": "stdout",
     "output_type": "stream",
     "text": [
      "UserKNNCFRecommender: URM Detected 472 ( 3.7%) users with no interactions.\n",
      "UserKNNCFRecommender: URM Detected 329 ( 1.5%) items with no interactions.\n",
      "Similarity column 12638 (100.0%), 10413.01 column/sec. Elapsed time 1.21 sec\n",
      "EvaluatorHoldout: Processed 10042 (100.0%) in 5.90 sec. Users per second: 1703\n"
     ]
    },
    {
     "name": "stderr",
     "output_type": "stream",
     "text": [
      "[I 2023-12-04 23:50:51,699] Trial 277 finished with value: 0.02339287690114222 and parameters: {'topK': 399, 'shrink': 32, 'similarity': 'asymmetric', 'normalize': True, 'feature_weighting': 'TF-IDF', 'asymmetric_alpha': 0.3791262648303511}. Best is trial 212 with value: 0.02370607338069006.\n"
     ]
    },
    {
     "name": "stdout",
     "output_type": "stream",
     "text": [
      "UserKNNCFRecommender: URM Detected 472 ( 3.7%) users with no interactions.\n",
      "UserKNNCFRecommender: URM Detected 329 ( 1.5%) items with no interactions.\n",
      "Similarity column 12638 (100.0%), 10017.75 column/sec. Elapsed time 1.26 sec\n",
      "EvaluatorHoldout: Processed 10042 (100.0%) in 6.53 sec. Users per second: 1537\n"
     ]
    },
    {
     "name": "stderr",
     "output_type": "stream",
     "text": [
      "[I 2023-12-04 23:50:59,751] Trial 278 finished with value: 0.02304308017437878 and parameters: {'topK': 622, 'shrink': 39, 'similarity': 'asymmetric', 'normalize': True, 'feature_weighting': 'TF-IDF', 'asymmetric_alpha': 0.5053887609590072}. Best is trial 212 with value: 0.02370607338069006.\n"
     ]
    },
    {
     "name": "stdout",
     "output_type": "stream",
     "text": [
      "UserKNNCFRecommender: URM Detected 472 ( 3.7%) users with no interactions.\n",
      "UserKNNCFRecommender: URM Detected 329 ( 1.5%) items with no interactions.\n",
      "Similarity column 12638 (100.0%), 10667.44 column/sec. Elapsed time 1.18 sec\n",
      "EvaluatorHoldout: Processed 10042 (100.0%) in 9.70 sec. Users per second: 1035\n"
     ]
    },
    {
     "name": "stderr",
     "output_type": "stream",
     "text": [
      "[I 2023-12-04 23:51:11,251] Trial 279 finished with value: 0.014990144567419981 and parameters: {'topK': 6335, 'shrink': 7, 'similarity': 'asymmetric', 'normalize': True, 'feature_weighting': 'TF-IDF', 'asymmetric_alpha': 0.655473794575245}. Best is trial 212 with value: 0.02370607338069006.\n"
     ]
    },
    {
     "name": "stdout",
     "output_type": "stream",
     "text": [
      "UserKNNCFRecommender: URM Detected 472 ( 3.7%) users with no interactions.\n",
      "UserKNNCFRecommender: URM Detected 329 ( 1.5%) items with no interactions.\n",
      "Similarity column 12638 (100.0%), 10501.35 column/sec. Elapsed time 1.20 sec\n",
      "EvaluatorHoldout: Processed 10042 (100.0%) in 5.53 sec. Users per second: 1816\n"
     ]
    },
    {
     "name": "stderr",
     "output_type": "stream",
     "text": [
      "[I 2023-12-04 23:51:18,161] Trial 280 finished with value: 0.020168455186628867 and parameters: {'topK': 270, 'shrink': 34, 'similarity': 'asymmetric', 'normalize': True, 'feature_weighting': 'TF-IDF', 'asymmetric_alpha': 1.0077735042177034}. Best is trial 212 with value: 0.02370607338069006.\n"
     ]
    },
    {
     "name": "stdout",
     "output_type": "stream",
     "text": [
      "UserKNNCFRecommender: URM Detected 472 ( 3.7%) users with no interactions.\n",
      "UserKNNCFRecommender: URM Detected 329 ( 1.5%) items with no interactions.\n",
      "Similarity column 12638 (100.0%), 10138.84 column/sec. Elapsed time 1.25 sec\n",
      "EvaluatorHoldout: Processed 10042 (100.0%) in 9.78 sec. Users per second: 1026\n"
     ]
    },
    {
     "name": "stderr",
     "output_type": "stream",
     "text": [
      "[I 2023-12-04 23:51:29,816] Trial 281 finished with value: 0.014123534330415423 and parameters: {'topK': 7301, 'shrink': 31, 'similarity': 'asymmetric', 'normalize': True, 'feature_weighting': 'none', 'asymmetric_alpha': 0.4494832780541238}. Best is trial 212 with value: 0.02370607338069006.\n"
     ]
    },
    {
     "name": "stdout",
     "output_type": "stream",
     "text": [
      "UserKNNCFRecommender: URM Detected 472 ( 3.7%) users with no interactions.\n",
      "UserKNNCFRecommender: URM Detected 329 ( 1.5%) items with no interactions.\n",
      "Similarity column 12638 (100.0%), 9924.58 column/sec. Elapsed time 1.27 sec\n",
      "EvaluatorHoldout: Processed 10042 (100.0%) in 7.33 sec. Users per second: 1370\n"
     ]
    },
    {
     "name": "stderr",
     "output_type": "stream",
     "text": [
      "[I 2023-12-04 23:51:38,752] Trial 282 finished with value: 0.022218345646696638 and parameters: {'topK': 1082, 'shrink': 27, 'similarity': 'asymmetric', 'normalize': True, 'feature_weighting': 'TF-IDF', 'asymmetric_alpha': 0.2665728345487336}. Best is trial 212 with value: 0.02370607338069006.\n"
     ]
    },
    {
     "name": "stdout",
     "output_type": "stream",
     "text": [
      "UserKNNCFRecommender: URM Detected 472 ( 3.7%) users with no interactions.\n",
      "UserKNNCFRecommender: URM Detected 329 ( 1.5%) items with no interactions.\n",
      "Similarity column 12638 (100.0%), 10134.51 column/sec. Elapsed time 1.25 sec\n",
      "EvaluatorHoldout: Processed 10042 (100.0%) in 6.23 sec. Users per second: 1612\n"
     ]
    },
    {
     "name": "stderr",
     "output_type": "stream",
     "text": [
      "[I 2023-12-04 23:51:46,470] Trial 283 finished with value: 0.023589598290355156 and parameters: {'topK': 524, 'shrink': 38, 'similarity': 'asymmetric', 'normalize': True, 'feature_weighting': 'TF-IDF', 'asymmetric_alpha': 0.33245581288792236}. Best is trial 212 with value: 0.02370607338069006.\n"
     ]
    },
    {
     "name": "stdout",
     "output_type": "stream",
     "text": [
      "UserKNNCFRecommender: URM Detected 472 ( 3.7%) users with no interactions.\n",
      "UserKNNCFRecommender: URM Detected 329 ( 1.5%) items with no interactions.\n",
      "Similarity column 12638 (100.0%), 9974.70 column/sec. Elapsed time 1.27 sec\n",
      "EvaluatorHoldout: Processed 10042 (100.0%) in 6.83 sec. Users per second: 1471\n"
     ]
    },
    {
     "name": "stderr",
     "output_type": "stream",
     "text": [
      "[I 2023-12-04 23:51:54,840] Trial 284 finished with value: 0.022990677250784845 and parameters: {'topK': 809, 'shrink': 41, 'similarity': 'asymmetric', 'normalize': True, 'feature_weighting': 'TF-IDF', 'asymmetric_alpha': 0.33867833774380773}. Best is trial 212 with value: 0.02370607338069006.\n"
     ]
    },
    {
     "name": "stdout",
     "output_type": "stream",
     "text": [
      "UserKNNCFRecommender: URM Detected 472 ( 3.7%) users with no interactions.\n",
      "UserKNNCFRecommender: URM Detected 329 ( 1.5%) items with no interactions.\n",
      "Similarity column 12638 (100.0%), 10101.49 column/sec. Elapsed time 1.25 sec\n",
      "EvaluatorHoldout: Processed 10042 (100.0%) in 5.96 sec. Users per second: 1686\n"
     ]
    },
    {
     "name": "stderr",
     "output_type": "stream",
     "text": [
      "[I 2023-12-04 23:52:02,261] Trial 285 finished with value: 0.023297839550080187 and parameters: {'topK': 438, 'shrink': 38, 'similarity': 'asymmetric', 'normalize': True, 'feature_weighting': 'TF-IDF', 'asymmetric_alpha': 0.3093408338395044}. Best is trial 212 with value: 0.02370607338069006.\n"
     ]
    },
    {
     "name": "stdout",
     "output_type": "stream",
     "text": [
      "UserKNNCFRecommender: URM Detected 472 ( 3.7%) users with no interactions.\n",
      "UserKNNCFRecommender: URM Detected 329 ( 1.5%) items with no interactions.\n",
      "Similarity column 12638 (100.0%), 10112.01 column/sec. Elapsed time 1.25 sec\n",
      "EvaluatorHoldout: Processed 10042 (100.0%) in 6.62 sec. Users per second: 1518\n"
     ]
    },
    {
     "name": "stderr",
     "output_type": "stream",
     "text": [
      "[I 2023-12-04 23:52:10,384] Trial 286 finished with value: 0.023311575509842895 and parameters: {'topK': 691, 'shrink': 40, 'similarity': 'asymmetric', 'normalize': True, 'feature_weighting': 'TF-IDF', 'asymmetric_alpha': 0.36276656052285305}. Best is trial 212 with value: 0.02370607338069006.\n"
     ]
    },
    {
     "name": "stdout",
     "output_type": "stream",
     "text": [
      "UserKNNCFRecommender: URM Detected 472 ( 3.7%) users with no interactions.\n",
      "UserKNNCFRecommender: URM Detected 329 ( 1.5%) items with no interactions.\n",
      "Similarity column 12638 (100.0%), 10653.71 column/sec. Elapsed time 1.19 sec\n",
      "EvaluatorHoldout: Processed 10042 (100.0%) in 5.71 sec. Users per second: 1759\n"
     ]
    },
    {
     "name": "stderr",
     "output_type": "stream",
     "text": [
      "[I 2023-12-04 23:52:17,476] Trial 287 finished with value: 0.012060872114895158 and parameters: {'topK': 271, 'shrink': 37, 'similarity': 'asymmetric', 'normalize': True, 'feature_weighting': 'BM25', 'asymmetric_alpha': 0.39349203811696376}. Best is trial 212 with value: 0.02370607338069006.\n"
     ]
    },
    {
     "name": "stdout",
     "output_type": "stream",
     "text": [
      "UserKNNCFRecommender: URM Detected 472 ( 3.7%) users with no interactions.\n",
      "UserKNNCFRecommender: URM Detected 329 ( 1.5%) items with no interactions.\n",
      "Similarity column 12638 (100.0%), 10184.00 column/sec. Elapsed time 1.24 sec\n",
      "EvaluatorHoldout: Processed 10042 (100.0%) in 6.12 sec. Users per second: 1641\n"
     ]
    },
    {
     "name": "stderr",
     "output_type": "stream",
     "text": [
      "[I 2023-12-04 23:52:25,065] Trial 288 finished with value: 0.023347721316502534 and parameters: {'topK': 494, 'shrink': 35, 'similarity': 'asymmetric', 'normalize': True, 'feature_weighting': 'TF-IDF', 'asymmetric_alpha': 0.2749148888572875}. Best is trial 212 with value: 0.02370607338069006.\n"
     ]
    },
    {
     "name": "stdout",
     "output_type": "stream",
     "text": [
      "UserKNNCFRecommender: URM Detected 472 ( 3.7%) users with no interactions.\n",
      "UserKNNCFRecommender: URM Detected 329 ( 1.5%) items with no interactions.\n",
      "Similarity column 12638 (100.0%), 9765.76 column/sec. Elapsed time 1.29 sec\n",
      "EvaluatorHoldout: Processed 10042 (100.0%) in 7.08 sec. Users per second: 1418\n"
     ]
    },
    {
     "name": "stderr",
     "output_type": "stream",
     "text": [
      "[I 2023-12-04 23:52:33,736] Trial 289 finished with value: 0.021801840997967323 and parameters: {'topK': 890, 'shrink': 3, 'similarity': 'asymmetric', 'normalize': True, 'feature_weighting': 'TF-IDF', 'asymmetric_alpha': 0.5813113330196528}. Best is trial 212 with value: 0.02370607338069006.\n"
     ]
    },
    {
     "name": "stdout",
     "output_type": "stream",
     "text": [
      "UserKNNCFRecommender: URM Detected 472 ( 3.7%) users with no interactions.\n",
      "UserKNNCFRecommender: URM Detected 329 ( 1.5%) items with no interactions.\n",
      "Similarity column 12638 (100.0%), 10262.08 column/sec. Elapsed time 1.23 sec\n",
      "EvaluatorHoldout: Processed 10042 (100.0%) in 6.43 sec. Users per second: 1562\n"
     ]
    },
    {
     "name": "stderr",
     "output_type": "stream",
     "text": [
      "[I 2023-12-04 23:52:41,638] Trial 290 finished with value: 0.02351912839091694 and parameters: {'topK': 619, 'shrink': 50, 'similarity': 'asymmetric', 'normalize': True, 'feature_weighting': 'TF-IDF', 'asymmetric_alpha': 0.31963405676136125}. Best is trial 212 with value: 0.02370607338069006.\n"
     ]
    },
    {
     "name": "stdout",
     "output_type": "stream",
     "text": [
      "UserKNNCFRecommender: URM Detected 472 ( 3.7%) users with no interactions.\n",
      "UserKNNCFRecommender: URM Detected 329 ( 1.5%) items with no interactions.\n",
      "Similarity column 12638 (100.0%), 10580.61 column/sec. Elapsed time 1.19 sec\n",
      "EvaluatorHoldout: Processed 10042 (100.0%) in 5.49 sec. Users per second: 1829\n"
     ]
    },
    {
     "name": "stderr",
     "output_type": "stream",
     "text": [
      "[I 2023-12-04 23:52:48,487] Trial 291 finished with value: 0.02132417260205547 and parameters: {'topK': 252, 'shrink': 36, 'similarity': 'asymmetric', 'normalize': True, 'feature_weighting': 'none', 'asymmetric_alpha': 0.691179224138999}. Best is trial 212 with value: 0.02370607338069006.\n"
     ]
    },
    {
     "name": "stdout",
     "output_type": "stream",
     "text": [
      "UserKNNCFRecommender: URM Detected 472 ( 3.7%) users with no interactions.\n",
      "UserKNNCFRecommender: URM Detected 329 ( 1.5%) items with no interactions.\n",
      "Similarity column 12638 (100.0%), 9880.23 column/sec. Elapsed time 1.28 sec\n",
      "EvaluatorHoldout: Processed 10042 (100.0%) in 7.57 sec. Users per second: 1327\n"
     ]
    },
    {
     "name": "stderr",
     "output_type": "stream",
     "text": [
      "[I 2023-12-04 23:52:57,692] Trial 292 finished with value: 0.0210031834548863 and parameters: {'topK': 1237, 'shrink': 38, 'similarity': 'asymmetric', 'normalize': True, 'feature_weighting': 'TF-IDF', 'asymmetric_alpha': 0.4341426369781622}. Best is trial 212 with value: 0.02370607338069006.\n"
     ]
    },
    {
     "name": "stdout",
     "output_type": "stream",
     "text": [
      "UserKNNCFRecommender: URM Detected 472 ( 3.7%) users with no interactions.\n",
      "UserKNNCFRecommender: URM Detected 329 ( 1.5%) items with no interactions.\n",
      "Similarity column 12638 (100.0%), 10606.62 column/sec. Elapsed time 1.19 sec\n",
      "EvaluatorHoldout: Processed 10042 (100.0%) in 4.95 sec. Users per second: 2030\n"
     ]
    },
    {
     "name": "stderr",
     "output_type": "stream",
     "text": [
      "[I 2023-12-04 23:53:03,987] Trial 293 finished with value: 0.0189015144330321 and parameters: {'topK': 114, 'shrink': 29, 'similarity': 'asymmetric', 'normalize': True, 'feature_weighting': 'TF-IDF', 'asymmetric_alpha': 0.47646927079809304}. Best is trial 212 with value: 0.02370607338069006.\n"
     ]
    },
    {
     "name": "stdout",
     "output_type": "stream",
     "text": [
      "UserKNNCFRecommender: URM Detected 472 ( 3.7%) users with no interactions.\n",
      "UserKNNCFRecommender: URM Detected 329 ( 1.5%) items with no interactions.\n",
      "Similarity column 12638 (100.0%), 9588.79 column/sec. Elapsed time 1.32 sec\n",
      "EvaluatorHoldout: Processed 10042 (100.0%) in 9.77 sec. Users per second: 1028\n"
     ]
    },
    {
     "name": "stderr",
     "output_type": "stream",
     "text": [
      "[I 2023-12-04 23:53:15,802] Trial 294 finished with value: 0.014916082611760749 and parameters: {'topK': 9677, 'shrink': 33, 'similarity': 'asymmetric', 'normalize': True, 'feature_weighting': 'TF-IDF', 'asymmetric_alpha': 0.35666176725754534}. Best is trial 212 with value: 0.02370607338069006.\n"
     ]
    },
    {
     "name": "stdout",
     "output_type": "stream",
     "text": [
      "UserKNNCFRecommender: URM Detected 472 ( 3.7%) users with no interactions.\n",
      "UserKNNCFRecommender: URM Detected 329 ( 1.5%) items with no interactions.\n",
      "Similarity column 12638 (100.0%), 10440.84 column/sec. Elapsed time 1.21 sec\n",
      "EvaluatorHoldout: Processed 10042 (100.0%) in 6.06 sec. Users per second: 1657\n"
     ]
    },
    {
     "name": "stderr",
     "output_type": "stream",
     "text": [
      "[I 2023-12-04 23:53:23,287] Trial 295 finished with value: 0.02360947117345254 and parameters: {'topK': 454, 'shrink': 35, 'similarity': 'asymmetric', 'normalize': True, 'feature_weighting': 'TF-IDF', 'asymmetric_alpha': 0.4041669234769664}. Best is trial 212 with value: 0.02370607338069006.\n"
     ]
    },
    {
     "name": "stdout",
     "output_type": "stream",
     "text": [
      "UserKNNCFRecommender: URM Detected 472 ( 3.7%) users with no interactions.\n",
      "UserKNNCFRecommender: URM Detected 329 ( 1.5%) items with no interactions.\n",
      "Similarity column 12638 (100.0%), 10414.66 column/sec. Elapsed time 1.21 sec\n",
      "EvaluatorHoldout: Processed 10042 (100.0%) in 5.96 sec. Users per second: 1686\n"
     ]
    },
    {
     "name": "stderr",
     "output_type": "stream",
     "text": [
      "[I 2023-12-04 23:53:30,663] Trial 296 finished with value: 0.02181590889691867 and parameters: {'topK': 392, 'shrink': 35, 'similarity': 'asymmetric', 'normalize': True, 'feature_weighting': 'TF-IDF', 'asymmetric_alpha': 0.8202030882597848}. Best is trial 212 with value: 0.02370607338069006.\n"
     ]
    },
    {
     "name": "stdout",
     "output_type": "stream",
     "text": [
      "UserKNNCFRecommender: URM Detected 472 ( 3.7%) users with no interactions.\n",
      "UserKNNCFRecommender: URM Detected 329 ( 1.5%) items with no interactions.\n",
      "Similarity column 12638 (100.0%), 10203.98 column/sec. Elapsed time 1.24 sec\n",
      "EvaluatorHoldout: Processed 10042 (100.0%) in 6.11 sec. Users per second: 1643\n"
     ]
    },
    {
     "name": "stderr",
     "output_type": "stream",
     "text": [
      "[I 2023-12-04 23:53:38,251] Trial 297 finished with value: 0.02364155072505007 and parameters: {'topK': 469, 'shrink': 24, 'similarity': 'asymmetric', 'normalize': True, 'feature_weighting': 'TF-IDF', 'asymmetric_alpha': 0.40090163285988195}. Best is trial 212 with value: 0.02370607338069006.\n"
     ]
    },
    {
     "name": "stdout",
     "output_type": "stream",
     "text": [
      "UserKNNCFRecommender: URM Detected 472 ( 3.7%) users with no interactions.\n",
      "UserKNNCFRecommender: URM Detected 329 ( 1.5%) items with no interactions.\n",
      "Similarity column 12638 (100.0%), 10233.47 column/sec. Elapsed time 1.23 sec\n",
      "EvaluatorHoldout: Processed 10042 (100.0%) in 5.91 sec. Users per second: 1700\n"
     ]
    },
    {
     "name": "stderr",
     "output_type": "stream",
     "text": [
      "[I 2023-12-04 23:53:45,591] Trial 298 finished with value: 0.02330761990117706 and parameters: {'topK': 393, 'shrink': 23, 'similarity': 'asymmetric', 'normalize': True, 'feature_weighting': 'TF-IDF', 'asymmetric_alpha': 0.5171961349053413}. Best is trial 212 with value: 0.02370607338069006.\n"
     ]
    },
    {
     "name": "stdout",
     "output_type": "stream",
     "text": [
      "UserKNNCFRecommender: URM Detected 472 ( 3.7%) users with no interactions.\n",
      "UserKNNCFRecommender: URM Detected 329 ( 1.5%) items with no interactions.\n",
      "Similarity column 12638 (100.0%), 10785.66 column/sec. Elapsed time 1.17 sec\n",
      "EvaluatorHoldout: Processed 10042 (100.0%) in 4.87 sec. Users per second: 2061\n"
     ]
    },
    {
     "name": "stderr",
     "output_type": "stream",
     "text": [
      "[I 2023-12-04 23:53:51,786] Trial 299 finished with value: 0.017001336450400393 and parameters: {'topK': 112, 'shrink': 25, 'similarity': 'asymmetric', 'normalize': True, 'feature_weighting': 'TF-IDF', 'asymmetric_alpha': 0.40649443242989375}. Best is trial 212 with value: 0.02370607338069006.\n"
     ]
    },
    {
     "name": "stdout",
     "output_type": "stream",
     "text": [
      "UserKNNCFRecommender: URM Detected 472 ( 3.7%) users with no interactions.\n",
      "UserKNNCFRecommender: URM Detected 329 ( 1.5%) items with no interactions.\n",
      "Similarity column 12638 (100.0%), 10059.78 column/sec. Elapsed time 1.26 sec\n",
      "EvaluatorHoldout: Processed 10042 (100.0%) in 6.20 sec. Users per second: 1619\n"
     ]
    },
    {
     "name": "stderr",
     "output_type": "stream",
     "text": [
      "[I 2023-12-04 23:53:59,449] Trial 300 finished with value: 0.021765244702408655 and parameters: {'topK': 472, 'shrink': 28, 'similarity': 'asymmetric', 'normalize': True, 'feature_weighting': 'none', 'asymmetric_alpha': 0.44184919955419205}. Best is trial 212 with value: 0.02370607338069006.\n"
     ]
    }
   ],
   "source": [
    "best_params = {\n",
    "    'topK': 445,\n",
    "    'shrink': 3,\n",
    "    'similarity': 'asymmetric',\n",
    "    'normalize': True,\n",
    "    'feature_weighting': 'none',\n",
    "    'asymmetric_alpha': 0.40251526522883996,\n",
    "}\n",
    "study_name = \"userknn-asymmetric-study\"  # Unique identifier of the study.\n",
    "storage_name = \"sqlite:///db.db\"\n",
    "study = op.create_study(study_name=study_name, storage=storage_name, direction=\"maximize\", load_if_exists=True)\n",
    "study.enqueue_trial(best_params)\n",
    "study.optimize(objective, n_trials=100)"
   ],
   "metadata": {
    "collapsed": false,
    "ExecuteTime": {
     "end_time": "2023-12-04T22:53:59.460073680Z",
     "start_time": "2023-12-04T22:40:50.872169680Z"
    }
   },
   "id": "c5b8a36d4aed08fc"
  },
  {
   "cell_type": "code",
   "execution_count": 12,
   "outputs": [
    {
     "data": {
      "text/plain": "{'topK': 469,\n 'shrink': 38,\n 'similarity': 'asymmetric',\n 'normalize': True,\n 'feature_weighting': 'TF-IDF',\n 'asymmetric_alpha': 0.40077406933762383}"
     },
     "execution_count": 12,
     "metadata": {},
     "output_type": "execute_result"
    }
   ],
   "source": [
    "study.best_params"
   ],
   "metadata": {
    "collapsed": false,
    "ExecuteTime": {
     "end_time": "2023-12-04T22:56:15.746952489Z",
     "start_time": "2023-12-04T22:56:15.700315675Z"
    }
   },
   "id": "f18968c2188a349a"
  },
  {
   "cell_type": "code",
   "execution_count": 13,
   "outputs": [
    {
     "name": "stdout",
     "output_type": "stream",
     "text": [
      "UserKNNCFRecommender: URM Detected 211 ( 1.7%) users with no interactions.\n",
      "UserKNNCFRecommender: URM Detected 115 ( 0.5%) items with no interactions.\n",
      "Similarity column 12638 (100.0%), 8661.38 column/sec. Elapsed time 1.46 sec\n"
     ]
    }
   ],
   "source": [
    "final = model(URM_train_validation)\n",
    "final.fit(**study.best_params)"
   ],
   "metadata": {
    "collapsed": false,
    "ExecuteTime": {
     "end_time": "2023-12-04T22:56:21.136081568Z",
     "start_time": "2023-12-04T22:56:19.535295195Z"
    }
   },
   "id": "7ae12a0ef4bc0baa"
  },
  {
   "cell_type": "code",
   "execution_count": 14,
   "outputs": [
    {
     "name": "stdout",
     "output_type": "stream",
     "text": [
      "EvaluatorHoldout: Ignoring 2180 (17.2%) Users that have less than 1 test interactions\n",
      "EvaluatorHoldout: Ignoring 0 Users\n",
      "EvaluatorHoldout: Processed 10458 (100.0%) in 6.67 sec. Users per second: 1568\n"
     ]
    },
    {
     "data": {
      "text/plain": "(       PRECISION PRECISION_RECALL_MIN_DEN    RECALL       MAP MAP_MIN_DEN  \\\n cutoff                                                                      \n 10      0.071859                 0.128379  0.109318  0.035602    0.062117   \n \n              MRR     NDCG        F1  HIT_RATE ARHR_ALL_HITS  ...  \\\n cutoff                                                       ...   \n 10      0.223476  0.11635  0.086716  0.445209      0.279724  ...   \n \n        COVERAGE_USER COVERAGE_USER_HIT USERS_IN_GT DIVERSITY_GINI  \\\n cutoff                                                              \n 10          0.827504          0.368413    0.827504       0.012204   \n \n        SHANNON_ENTROPY RATIO_DIVERSITY_HERFINDAHL RATIO_DIVERSITY_GINI  \\\n cutoff                                                                   \n 10            7.810446                   0.986323             0.034971   \n \n        RATIO_SHANNON_ENTROPY RATIO_AVERAGE_POPULARITY RATIO_NOVELTY  \n cutoff                                                               \n 10                  0.601606                 3.451402       0.25138  \n \n [1 rows x 27 columns],\n 'CUTOFF: 10 - PRECISION: 0.0718589, PRECISION_RECALL_MIN_DEN: 0.1283788, RECALL: 0.1093176, MAP: 0.0356016, MAP_MIN_DEN: 0.0621168, MRR: 0.2234756, NDCG: 0.1163500, F1: 0.0867159, HIT_RATE: 0.4452094, ARHR_ALL_HITS: 0.2797235, NOVELTY: 0.0044505, AVERAGE_POPULARITY: 0.4240451, DIVERSITY_MEAN_INTER_LIST: 0.8597553, DIVERSITY_HERFINDAHL: 0.9859673, COVERAGE_ITEM: 0.1259113, COVERAGE_ITEM_HIT: 0.0426154, ITEMS_IN_GT: 0.8018180, COVERAGE_USER: 0.8275044, COVERAGE_USER_HIT: 0.3684127, USERS_IN_GT: 0.8275044, DIVERSITY_GINI: 0.0122041, SHANNON_ENTROPY: 7.8104462, RATIO_DIVERSITY_HERFINDAHL: 0.9863229, RATIO_DIVERSITY_GINI: 0.0349706, RATIO_SHANNON_ENTROPY: 0.6016065, RATIO_AVERAGE_POPULARITY: 3.4514023, RATIO_NOVELTY: 0.2513797, \\n')"
     },
     "execution_count": 14,
     "metadata": {},
     "output_type": "execute_result"
    }
   ],
   "source": [
    "from Evaluation.Evaluator import EvaluatorHoldout\n",
    "evaluator_test = EvaluatorHoldout(URM_test, cutoff_list=[10], ignore_users=[])\n",
    "evaluator_test.evaluateRecommender(final)"
   ],
   "metadata": {
    "collapsed": false,
    "ExecuteTime": {
     "end_time": "2023-12-04T22:56:27.836626510Z",
     "start_time": "2023-12-04T22:56:21.138081378Z"
    }
   },
   "id": "1a0a3570fbcb348b"
  },
  {
   "cell_type": "code",
   "execution_count": null,
   "outputs": [],
   "source": [],
   "metadata": {
    "collapsed": false
   },
   "id": "3cdf5d82e17bdf89"
  }
 ],
 "metadata": {
  "kernelspec": {
   "display_name": "Python 3",
   "language": "python",
   "name": "python3"
  },
  "language_info": {
   "codemirror_mode": {
    "name": "ipython",
    "version": 2
   },
   "file_extension": ".py",
   "mimetype": "text/x-python",
   "name": "python",
   "nbconvert_exporter": "python",
   "pygments_lexer": "ipython2",
   "version": "2.7.6"
  }
 },
 "nbformat": 4,
 "nbformat_minor": 5
}
