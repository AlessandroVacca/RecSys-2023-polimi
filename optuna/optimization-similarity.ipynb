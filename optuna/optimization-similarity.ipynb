{
 "cells": [
  {
   "cell_type": "code",
   "execution_count": 2,
   "id": "initial_id",
   "metadata": {
    "collapsed": true,
    "ExecuteTime": {
     "end_time": "2023-12-09T16:22:13.810893582Z",
     "start_time": "2023-12-09T16:22:07.652757382Z"
    }
   },
   "outputs": [
    {
     "name": "stdout",
     "output_type": "stream",
     "text": [
      "Warning: 238 (1.88 %) of 12638 users have no train items\n",
      "Warning: 2152 (17.03 %) of 12638 users have no sampled items\n",
      "Warning: 483 (3.82 %) of 12638 users have no train items\n",
      "Warning: 2614 (20.68 %) of 12638 users have no sampled items\n"
     ]
    }
   ],
   "source": [
    "from Data_manager.UserUtils import *\n",
    "from Data_manager.split_functions.split_train_validation_random_holdout import \\\n",
    "    split_train_in_two_percentage_global_sample\n",
    "URM_all = getURM_all()\n",
    "URM_train_validation, URM_test = split_train_in_two_percentage_global_sample(URM_all, train_percentage = 0.80)\n",
    "URM_train, URM_validation = split_train_in_two_percentage_global_sample(URM_train_validation, train_percentage = 0.80)"
   ]
  },
  {
   "cell_type": "code",
   "execution_count": 3,
   "outputs": [
    {
     "name": "stdout",
     "output_type": "stream",
     "text": [
      "SLIMElasticNetRecommender: URM Detected 483 ( 3.8%) users with no interactions.\n",
      "SLIMElasticNetRecommender: URM Detected 358 ( 1.6%) items with no interactions.\n",
      "ItemKNNCFRecommender: URM Detected 483 ( 3.8%) users with no interactions.\n",
      "ItemKNNCFRecommender: URM Detected 358 ( 1.6%) items with no interactions.\n",
      "RP3betaRecommender: URM Detected 483 ( 3.8%) users with no interactions.\n",
      "RP3betaRecommender: URM Detected 358 ( 1.6%) items with no interactions.\n"
     ]
    },
    {
     "name": "stderr",
     "output_type": "stream",
     "text": [
      "100%|█████████▉| 22192/22222 [04:00<00:00, 120.76it/s]"
     ]
    },
    {
     "name": "stdout",
     "output_type": "stream",
     "text": [
      "Similarity column 22222 (100.0%), 8863.88 column/sec. Elapsed time 2.51 sec\n",
      "RP3betaRecommender: Similarity column 22222 (100.0%), 4285.09 column/sec. Elapsed time 5.19 sec\n",
      "EvaluatorHoldout: Ignoring 2614 (20.7%) Users that have less than 1 test interactions\n",
      "EvaluatorHoldout: Ignoring 0 Users\n"
     ]
    }
   ],
   "source": [
    "from Recommenders.GraphBased.RP3betaRecommender import RP3betaRecommender\n",
    "from Recommenders.KNN.ItemKNNCFRecommender import ItemKNNCFRecommender\n",
    "from Recommenders.SLIM.SLIMElasticNetRecommender import SLIMElasticNetRecommender, \\\n",
    "    MultiThreadSLIM_SLIMElasticNetRecommender\n",
    "\n",
    "slim = MultiThreadSLIM_SLIMElasticNetRecommender(URM_train)\n",
    "\n",
    "item = ItemKNNCFRecommender(URM_train)\n",
    "\n",
    "rp3beta = RP3betaRecommender(URM_train)\n",
    "\n",
    "slim.fit(topK=8894, l1_ratio=0.05565733019999427, alpha=0.0012979360257937668, workers = 7)\n",
    "item.fit(topK=31, shrink=435, similarity='tversky', normalize=True,\n",
    "                                       feature_weighting='BM25', tversky_alpha=0.17113169506422393, tversky_beta=0.5684024974085575)\n",
    "rp3beta.fit(topK=101, alpha=0.3026342852596128, beta=0.058468783118329024)\n",
    "\n",
    "from Evaluation.Evaluator import EvaluatorHoldout\n",
    "evaluator_validation = EvaluatorHoldout(URM_validation, cutoff_list=[10], ignore_users=[])"
   ],
   "metadata": {
    "collapsed": false,
    "ExecuteTime": {
     "end_time": "2023-12-09T16:26:24.973612568Z",
     "start_time": "2023-12-09T16:22:13.806297352Z"
    }
   },
   "id": "8a9fec0ccc4f11c5"
  },
  {
   "cell_type": "code",
   "execution_count": 4,
   "outputs": [
    {
     "name": "stderr",
     "output_type": "stream",
     "text": [
      "100%|█████████▉| 22216/22222 [04:40<00:00, 79.18it/s] \n"
     ]
    }
   ],
   "source": [
    "from Recommenders.KNN.ItemKNNCustomSimilarityRecommender import ItemKNNCustomSimilarityRecommender\n",
    "import optuna as op\n",
    "model = ItemKNNCustomSimilarityRecommender\n",
    "\n",
    "def objective(trial):\n",
    "    alpha = trial.suggest_float(\"alpha\", 5e-4, 1)\n",
    "    beta = trial.suggest_float(\"beta\", 5e-4, 1)\n",
    "\n",
    "    new_similarity = (1 - alpha - beta) * slim.W_sparse + alpha * item.W_sparse + beta * rp3beta.W_sparse\n",
    "    recommender = model(URM_train)\n",
    "    recommender.fit(W_sparse=new_similarity)\n",
    "    \n",
    "    result, _ = evaluator_validation.evaluateRecommender(recommender)\n",
    "    MAP_result = result[\"MAP\"].item()\n",
    "       \n",
    "    return MAP_result"
   ],
   "metadata": {
    "collapsed": false,
    "ExecuteTime": {
     "end_time": "2023-12-09T16:26:55.325815888Z",
     "start_time": "2023-12-09T16:26:54.969397556Z"
    }
   },
   "id": "b826576f6714c764"
  },
  {
   "cell_type": "code",
   "execution_count": 5,
   "outputs": [
    {
     "name": "stderr",
     "output_type": "stream",
     "text": [
      "/tmp/ipykernel_193094/3446642297.py:5: FutureWarning: delete_study(): Please give all values as keyword arguments. See https://github.com/optuna/optuna/issues/3324 for details.\n",
      "  op.delete_study(study_name, storage_name)\n",
      "[I 2023-12-09 17:27:04,936] A new study created in RDB with name: cust-sim-study\n"
     ]
    },
    {
     "name": "stdout",
     "output_type": "stream",
     "text": [
      "ItemKNNCustomSimilarityRecommender: URM Detected 483 ( 3.8%) users with no interactions.\n",
      "ItemKNNCustomSimilarityRecommender: URM Detected 358 ( 1.6%) items with no interactions.\n",
      "EvaluatorHoldout: Processed 10024 (100.0%) in 7.32 sec. Users per second: 1369\n"
     ]
    },
    {
     "name": "stderr",
     "output_type": "stream",
     "text": [
      "[I 2023-12-09 17:27:12,391] Trial 0 finished with value: 0.027289212239830853 and parameters: {'alpha': 0.37880472880191335, 'beta': 0.36539122598158535}. Best is trial 0 with value: 0.027289212239830853.\n"
     ]
    },
    {
     "name": "stdout",
     "output_type": "stream",
     "text": [
      "ItemKNNCustomSimilarityRecommender: URM Detected 483 ( 3.8%) users with no interactions.\n",
      "ItemKNNCustomSimilarityRecommender: URM Detected 358 ( 1.6%) items with no interactions.\n",
      "EvaluatorHoldout: Processed 10024 (100.0%) in 7.19 sec. Users per second: 1395\n"
     ]
    },
    {
     "name": "stderr",
     "output_type": "stream",
     "text": [
      "[I 2023-12-09 17:27:19,708] Trial 1 finished with value: 0.022185136624482203 and parameters: {'alpha': 0.7243297217165667, 'beta': 0.4119240114293423}. Best is trial 0 with value: 0.027289212239830853.\n"
     ]
    },
    {
     "name": "stdout",
     "output_type": "stream",
     "text": [
      "ItemKNNCustomSimilarityRecommender: URM Detected 483 ( 3.8%) users with no interactions.\n",
      "ItemKNNCustomSimilarityRecommender: URM Detected 358 ( 1.6%) items with no interactions.\n",
      "EvaluatorHoldout: Processed 10024 (100.0%) in 6.71 sec. Users per second: 1494\n"
     ]
    },
    {
     "name": "stderr",
     "output_type": "stream",
     "text": [
      "[I 2023-12-09 17:27:26,517] Trial 2 finished with value: 0.025271372515486674 and parameters: {'alpha': 0.2753015016286482, 'beta': 0.8751957874293254}. Best is trial 0 with value: 0.027289212239830853.\n"
     ]
    },
    {
     "name": "stdout",
     "output_type": "stream",
     "text": [
      "ItemKNNCustomSimilarityRecommender: URM Detected 483 ( 3.8%) users with no interactions.\n",
      "ItemKNNCustomSimilarityRecommender: URM Detected 358 ( 1.6%) items with no interactions.\n",
      "EvaluatorHoldout: Processed 10024 (100.0%) in 7.10 sec. Users per second: 1413\n"
     ]
    },
    {
     "name": "stderr",
     "output_type": "stream",
     "text": [
      "[I 2023-12-09 17:27:33,728] Trial 3 finished with value: 0.017801253182837394 and parameters: {'alpha': 0.8465077194301127, 'beta': 0.8418531241487663}. Best is trial 0 with value: 0.027289212239830853.\n"
     ]
    },
    {
     "name": "stdout",
     "output_type": "stream",
     "text": [
      "ItemKNNCustomSimilarityRecommender: URM Detected 483 ( 3.8%) users with no interactions.\n",
      "ItemKNNCustomSimilarityRecommender: URM Detected 358 ( 1.6%) items with no interactions.\n",
      "EvaluatorHoldout: Processed 10024 (100.0%) in 7.50 sec. Users per second: 1337\n"
     ]
    },
    {
     "name": "stderr",
     "output_type": "stream",
     "text": [
      "[I 2023-12-09 17:27:41,356] Trial 4 finished with value: 0.02838186368588417 and parameters: {'alpha': 0.2849047103183748, 'beta': 0.42599769295519757}. Best is trial 4 with value: 0.02838186368588417.\n"
     ]
    },
    {
     "name": "stdout",
     "output_type": "stream",
     "text": [
      "ItemKNNCustomSimilarityRecommender: URM Detected 483 ( 3.8%) users with no interactions.\n",
      "ItemKNNCustomSimilarityRecommender: URM Detected 358 ( 1.6%) items with no interactions.\n",
      "EvaluatorHoldout: Processed 10024 (100.0%) in 7.18 sec. Users per second: 1395\n"
     ]
    },
    {
     "name": "stderr",
     "output_type": "stream",
     "text": [
      "[I 2023-12-09 17:27:48,639] Trial 5 finished with value: 0.028021605290160897 and parameters: {'alpha': 0.20108068607688176, 'beta': 0.7498673414824034}. Best is trial 4 with value: 0.02838186368588417.\n"
     ]
    },
    {
     "name": "stdout",
     "output_type": "stream",
     "text": [
      "ItemKNNCustomSimilarityRecommender: URM Detected 483 ( 3.8%) users with no interactions.\n",
      "ItemKNNCustomSimilarityRecommender: URM Detected 358 ( 1.6%) items with no interactions.\n",
      "EvaluatorHoldout: Processed 10024 (100.0%) in 6.95 sec. Users per second: 1442\n"
     ]
    },
    {
     "name": "stderr",
     "output_type": "stream",
     "text": [
      "[I 2023-12-09 17:27:55,694] Trial 6 finished with value: 0.0223834028490353 and parameters: {'alpha': 0.9149385174549204, 'beta': 0.027039594839707443}. Best is trial 4 with value: 0.02838186368588417.\n"
     ]
    },
    {
     "name": "stdout",
     "output_type": "stream",
     "text": [
      "ItemKNNCustomSimilarityRecommender: URM Detected 483 ( 3.8%) users with no interactions.\n",
      "ItemKNNCustomSimilarityRecommender: URM Detected 358 ( 1.6%) items with no interactions.\n",
      "EvaluatorHoldout: Processed 10024 (100.0%) in 7.35 sec. Users per second: 1365\n"
     ]
    },
    {
     "name": "stderr",
     "output_type": "stream",
     "text": [
      "[I 2023-12-09 17:28:03,142] Trial 7 finished with value: 0.02844151813425567 and parameters: {'alpha': 0.21229083968700355, 'beta': 0.6649218580873985}. Best is trial 7 with value: 0.02844151813425567.\n"
     ]
    },
    {
     "name": "stdout",
     "output_type": "stream",
     "text": [
      "ItemKNNCustomSimilarityRecommender: URM Detected 483 ( 3.8%) users with no interactions.\n",
      "ItemKNNCustomSimilarityRecommender: URM Detected 358 ( 1.6%) items with no interactions.\n",
      "EvaluatorHoldout: Processed 10024 (100.0%) in 7.14 sec. Users per second: 1404\n"
     ]
    },
    {
     "name": "stderr",
     "output_type": "stream",
     "text": [
      "[I 2023-12-09 17:28:10,398] Trial 8 finished with value: 0.029286327892423414 and parameters: {'alpha': 0.2209856823691143, 'beta': 0.2545169783807011}. Best is trial 8 with value: 0.029286327892423414.\n"
     ]
    },
    {
     "name": "stdout",
     "output_type": "stream",
     "text": [
      "ItemKNNCustomSimilarityRecommender: URM Detected 483 ( 3.8%) users with no interactions.\n",
      "ItemKNNCustomSimilarityRecommender: URM Detected 358 ( 1.6%) items with no interactions.\n",
      "EvaluatorHoldout: Processed 10024 (100.0%) in 6.74 sec. Users per second: 1487\n"
     ]
    },
    {
     "name": "stderr",
     "output_type": "stream",
     "text": [
      "[I 2023-12-09 17:28:17,234] Trial 9 finished with value: 0.025128556543660377 and parameters: {'alpha': 0.5600421849929632, 'beta': 0.26285384996891015}. Best is trial 8 with value: 0.029286327892423414.\n"
     ]
    },
    {
     "name": "stdout",
     "output_type": "stream",
     "text": [
      "ItemKNNCustomSimilarityRecommender: URM Detected 483 ( 3.8%) users with no interactions.\n",
      "ItemKNNCustomSimilarityRecommender: URM Detected 358 ( 1.6%) items with no interactions.\n",
      "EvaluatorHoldout: Processed 10024 (100.0%) in 6.76 sec. Users per second: 1483\n"
     ]
    },
    {
     "name": "stderr",
     "output_type": "stream",
     "text": [
      "[I 2023-12-09 17:28:24,130] Trial 10 finished with value: 0.027427428140716376 and parameters: {'alpha': 0.09531962016323431, 'beta': 0.9905670068014699}. Best is trial 8 with value: 0.029286327892423414.\n"
     ]
    },
    {
     "name": "stdout",
     "output_type": "stream",
     "text": [
      "ItemKNNCustomSimilarityRecommender: URM Detected 483 ( 3.8%) users with no interactions.\n",
      "ItemKNNCustomSimilarityRecommender: URM Detected 358 ( 1.6%) items with no interactions.\n",
      "EvaluatorHoldout: Processed 10024 (100.0%) in 7.38 sec. Users per second: 1358\n"
     ]
    },
    {
     "name": "stderr",
     "output_type": "stream",
     "text": [
      "[I 2023-12-09 17:28:31,644] Trial 11 finished with value: 0.030418622290629704 and parameters: {'alpha': 0.030924060131810982, 'beta': 0.6183455532339941}. Best is trial 11 with value: 0.030418622290629704.\n"
     ]
    },
    {
     "name": "stdout",
     "output_type": "stream",
     "text": [
      "ItemKNNCustomSimilarityRecommender: URM Detected 483 ( 3.8%) users with no interactions.\n",
      "ItemKNNCustomSimilarityRecommender: URM Detected 358 ( 1.6%) items with no interactions.\n",
      "EvaluatorHoldout: Processed 10024 (100.0%) in 6.93 sec. Users per second: 1446\n"
     ]
    },
    {
     "name": "stderr",
     "output_type": "stream",
     "text": [
      "[I 2023-12-09 17:28:38,683] Trial 12 finished with value: 0.03039016677434498 and parameters: {'alpha': 0.008344029860680353, 'beta': 0.5607524876479759}. Best is trial 11 with value: 0.030418622290629704.\n"
     ]
    },
    {
     "name": "stdout",
     "output_type": "stream",
     "text": [
      "ItemKNNCustomSimilarityRecommender: URM Detected 483 ( 3.8%) users with no interactions.\n",
      "ItemKNNCustomSimilarityRecommender: URM Detected 358 ( 1.6%) items with no interactions.\n",
      "EvaluatorHoldout: Processed 10024 (100.0%) in 6.81 sec. Users per second: 1471\n"
     ]
    },
    {
     "name": "stderr",
     "output_type": "stream",
     "text": [
      "[I 2023-12-09 17:28:45,624] Trial 13 finished with value: 0.03042503547042678 and parameters: {'alpha': 0.024362286630770703, 'beta': 0.5938904217339543}. Best is trial 13 with value: 0.03042503547042678.\n"
     ]
    },
    {
     "name": "stdout",
     "output_type": "stream",
     "text": [
      "ItemKNNCustomSimilarityRecommender: URM Detected 483 ( 3.8%) users with no interactions.\n",
      "ItemKNNCustomSimilarityRecommender: URM Detected 358 ( 1.6%) items with no interactions.\n",
      "EvaluatorHoldout: Processed 10024 (100.0%) in 6.83 sec. Users per second: 1467\n"
     ]
    },
    {
     "name": "stderr",
     "output_type": "stream",
     "text": [
      "[I 2023-12-09 17:28:52,553] Trial 14 finished with value: 0.0304773424733024 and parameters: {'alpha': 0.007242340289790594, 'beta': 0.5947948640455712}. Best is trial 14 with value: 0.0304773424733024.\n"
     ]
    },
    {
     "name": "stdout",
     "output_type": "stream",
     "text": [
      "ItemKNNCustomSimilarityRecommender: URM Detected 483 ( 3.8%) users with no interactions.\n",
      "ItemKNNCustomSimilarityRecommender: URM Detected 358 ( 1.6%) items with no interactions.\n",
      "EvaluatorHoldout: Processed 10024 (100.0%) in 6.77 sec. Users per second: 1482\n"
     ]
    },
    {
     "name": "stderr",
     "output_type": "stream",
     "text": [
      "[I 2023-12-09 17:28:59,439] Trial 15 finished with value: 0.030026796798794123 and parameters: {'alpha': 0.10388111930578955, 'beta': 0.5459847865774325}. Best is trial 14 with value: 0.0304773424733024.\n"
     ]
    },
    {
     "name": "stdout",
     "output_type": "stream",
     "text": [
      "ItemKNNCustomSimilarityRecommender: URM Detected 483 ( 3.8%) users with no interactions.\n",
      "ItemKNNCustomSimilarityRecommender: URM Detected 358 ( 1.6%) items with no interactions.\n",
      "EvaluatorHoldout: Processed 10024 (100.0%) in 7.73 sec. Users per second: 1297\n"
     ]
    },
    {
     "name": "stderr",
     "output_type": "stream",
     "text": [
      "[I 2023-12-09 17:29:07,280] Trial 16 finished with value: 0.03042404974093948 and parameters: {'alpha': 0.002351718941104311, 'beta': 0.7042364862475492}. Best is trial 14 with value: 0.0304773424733024.\n"
     ]
    },
    {
     "name": "stdout",
     "output_type": "stream",
     "text": [
      "ItemKNNCustomSimilarityRecommender: URM Detected 483 ( 3.8%) users with no interactions.\n",
      "ItemKNNCustomSimilarityRecommender: URM Detected 358 ( 1.6%) items with no interactions.\n",
      "EvaluatorHoldout: Processed 10024 (100.0%) in 7.80 sec. Users per second: 1285\n"
     ]
    },
    {
     "name": "stderr",
     "output_type": "stream",
     "text": [
      "[I 2023-12-09 17:29:15,210] Trial 17 finished with value: 0.025873332573252878 and parameters: {'alpha': 0.4211109738023867, 'beta': 0.529765143677418}. Best is trial 14 with value: 0.0304773424733024.\n"
     ]
    },
    {
     "name": "stdout",
     "output_type": "stream",
     "text": [
      "ItemKNNCustomSimilarityRecommender: URM Detected 483 ( 3.8%) users with no interactions.\n",
      "ItemKNNCustomSimilarityRecommender: URM Detected 358 ( 1.6%) items with no interactions.\n",
      "EvaluatorHoldout: Processed 10024 (100.0%) in 7.39 sec. Users per second: 1357\n"
     ]
    },
    {
     "name": "stderr",
     "output_type": "stream",
     "text": [
      "[I 2023-12-09 17:29:22,788] Trial 18 finished with value: 0.029219195359708332 and parameters: {'alpha': 0.13675935180507778, 'beta': 0.7448801408497938}. Best is trial 14 with value: 0.0304773424733024.\n"
     ]
    },
    {
     "name": "stdout",
     "output_type": "stream",
     "text": [
      "ItemKNNCustomSimilarityRecommender: URM Detected 483 ( 3.8%) users with no interactions.\n",
      "ItemKNNCustomSimilarityRecommender: URM Detected 358 ( 1.6%) items with no interactions.\n",
      "EvaluatorHoldout: Processed 10024 (100.0%) in 6.86 sec. Users per second: 1462\n"
     ]
    },
    {
     "name": "stderr",
     "output_type": "stream",
     "text": [
      "[I 2023-12-09 17:29:29,760] Trial 19 finished with value: 0.02962472605429527 and parameters: {'alpha': 0.139772525854334, 'beta': 0.619440746117017}. Best is trial 14 with value: 0.0304773424733024.\n"
     ]
    },
    {
     "name": "stdout",
     "output_type": "stream",
     "text": [
      "ItemKNNCustomSimilarityRecommender: URM Detected 483 ( 3.8%) users with no interactions.\n",
      "ItemKNNCustomSimilarityRecommender: URM Detected 358 ( 1.6%) items with no interactions.\n",
      "EvaluatorHoldout: Processed 10024 (100.0%) in 6.67 sec. Users per second: 1504\n"
     ]
    },
    {
     "name": "stderr",
     "output_type": "stream",
     "text": [
      "[I 2023-12-09 17:29:36,574] Trial 20 finished with value: 0.02700287167939814 and parameters: {'alpha': 0.3618624739730211, 'beta': 0.48319297007116396}. Best is trial 14 with value: 0.0304773424733024.\n"
     ]
    },
    {
     "name": "stdout",
     "output_type": "stream",
     "text": [
      "ItemKNNCustomSimilarityRecommender: URM Detected 483 ( 3.8%) users with no interactions.\n",
      "ItemKNNCustomSimilarityRecommender: URM Detected 358 ( 1.6%) items with no interactions.\n",
      "EvaluatorHoldout: Processed 10024 (100.0%) in 6.70 sec. Users per second: 1496\n"
     ]
    },
    {
     "name": "stderr",
     "output_type": "stream",
     "text": [
      "[I 2023-12-09 17:29:43,395] Trial 21 finished with value: 0.030342190647208854 and parameters: {'alpha': 0.023067839153424426, 'beta': 0.7010230414445108}. Best is trial 14 with value: 0.0304773424733024.\n"
     ]
    },
    {
     "name": "stdout",
     "output_type": "stream",
     "text": [
      "ItemKNNCustomSimilarityRecommender: URM Detected 483 ( 3.8%) users with no interactions.\n",
      "ItemKNNCustomSimilarityRecommender: URM Detected 358 ( 1.6%) items with no interactions.\n",
      "EvaluatorHoldout: Processed 10024 (100.0%) in 6.84 sec. Users per second: 1465\n"
     ]
    },
    {
     "name": "stderr",
     "output_type": "stream",
     "text": [
      "[I 2023-12-09 17:29:50,365] Trial 22 finished with value: 0.030479998796539363 and parameters: {'alpha': 0.0021936340108570287, 'beta': 0.6210655562003827}. Best is trial 22 with value: 0.030479998796539363.\n"
     ]
    },
    {
     "name": "stdout",
     "output_type": "stream",
     "text": [
      "ItemKNNCustomSimilarityRecommender: URM Detected 483 ( 3.8%) users with no interactions.\n",
      "ItemKNNCustomSimilarityRecommender: URM Detected 358 ( 1.6%) items with no interactions.\n",
      "EvaluatorHoldout: Processed 10024 (100.0%) in 6.70 sec. Users per second: 1496\n"
     ]
    },
    {
     "name": "stderr",
     "output_type": "stream",
     "text": [
      "[I 2023-12-09 17:29:57,165] Trial 23 finished with value: 0.030005273058944425 and parameters: {'alpha': 0.10356335958715314, 'beta': 0.6038496662699572}. Best is trial 22 with value: 0.030479998796539363.\n"
     ]
    },
    {
     "name": "stdout",
     "output_type": "stream",
     "text": [
      "ItemKNNCustomSimilarityRecommender: URM Detected 483 ( 3.8%) users with no interactions.\n",
      "ItemKNNCustomSimilarityRecommender: URM Detected 358 ( 1.6%) items with no interactions.\n",
      "EvaluatorHoldout: Processed 10024 (100.0%) in 6.73 sec. Users per second: 1489\n"
     ]
    },
    {
     "name": "stderr",
     "output_type": "stream",
     "text": [
      "[I 2023-12-09 17:30:04,055] Trial 24 finished with value: 0.0301371549550921 and parameters: {'alpha': 0.08086709564849696, 'beta': 0.49844957416701496}. Best is trial 22 with value: 0.030479998796539363.\n"
     ]
    },
    {
     "name": "stdout",
     "output_type": "stream",
     "text": [
      "ItemKNNCustomSimilarityRecommender: URM Detected 483 ( 3.8%) users with no interactions.\n",
      "ItemKNNCustomSimilarityRecommender: URM Detected 358 ( 1.6%) items with no interactions.\n",
      "EvaluatorHoldout: Processed 10024 (100.0%) in 6.98 sec. Users per second: 1436\n"
     ]
    },
    {
     "name": "stderr",
     "output_type": "stream",
     "text": [
      "[I 2023-12-09 17:30:11,167] Trial 25 finished with value: 0.02913673057677462 and parameters: {'alpha': 0.1735409869395503, 'beta': 0.6355524040202505}. Best is trial 22 with value: 0.030479998796539363.\n"
     ]
    },
    {
     "name": "stdout",
     "output_type": "stream",
     "text": [
      "ItemKNNCustomSimilarityRecommender: URM Detected 483 ( 3.8%) users with no interactions.\n",
      "ItemKNNCustomSimilarityRecommender: URM Detected 358 ( 1.6%) items with no interactions.\n",
      "EvaluatorHoldout: Processed 10024 (100.0%) in 6.82 sec. Users per second: 1469\n"
     ]
    },
    {
     "name": "stderr",
     "output_type": "stream",
     "text": [
      "[I 2023-12-09 17:30:18,126] Trial 26 finished with value: 0.029800201738051185 and parameters: {'alpha': 0.06487441383468348, 'beta': 0.789679459888613}. Best is trial 22 with value: 0.030479998796539363.\n"
     ]
    },
    {
     "name": "stdout",
     "output_type": "stream",
     "text": [
      "ItemKNNCustomSimilarityRecommender: URM Detected 483 ( 3.8%) users with no interactions.\n",
      "ItemKNNCustomSimilarityRecommender: URM Detected 358 ( 1.6%) items with no interactions.\n",
      "EvaluatorHoldout: Processed 10024 (100.0%) in 6.50 sec. Users per second: 1543\n"
     ]
    },
    {
     "name": "stderr",
     "output_type": "stream",
     "text": [
      "[I 2023-12-09 17:30:24,742] Trial 27 finished with value: 0.03046769499233613 and parameters: {'alpha': 0.012036268793340668, 'beta': 0.6859300142252531}. Best is trial 22 with value: 0.030479998796539363.\n"
     ]
    },
    {
     "name": "stdout",
     "output_type": "stream",
     "text": [
      "ItemKNNCustomSimilarityRecommender: URM Detected 483 ( 3.8%) users with no interactions.\n",
      "ItemKNNCustomSimilarityRecommender: URM Detected 358 ( 1.6%) items with no interactions.\n",
      "EvaluatorHoldout: Processed 10024 (100.0%) in 6.57 sec. Users per second: 1525\n"
     ]
    },
    {
     "name": "stderr",
     "output_type": "stream",
     "text": [
      "[I 2023-12-09 17:30:31,417] Trial 28 finished with value: 0.02951428872293816 and parameters: {'alpha': 0.13612866387037617, 'beta': 0.6851147295352292}. Best is trial 22 with value: 0.030479998796539363.\n"
     ]
    },
    {
     "name": "stdout",
     "output_type": "stream",
     "text": [
      "ItemKNNCustomSimilarityRecommender: URM Detected 483 ( 3.8%) users with no interactions.\n",
      "ItemKNNCustomSimilarityRecommender: URM Detected 358 ( 1.6%) items with no interactions.\n",
      "EvaluatorHoldout: Processed 10024 (100.0%) in 6.45 sec. Users per second: 1554\n"
     ]
    },
    {
     "name": "stderr",
     "output_type": "stream",
     "text": [
      "[I 2023-12-09 17:30:37,987] Trial 29 finished with value: 0.02626741851302919 and parameters: {'alpha': 0.2728538909480484, 'beta': 0.7841603670708304}. Best is trial 22 with value: 0.030479998796539363.\n"
     ]
    },
    {
     "name": "stdout",
     "output_type": "stream",
     "text": [
      "ItemKNNCustomSimilarityRecommender: URM Detected 483 ( 3.8%) users with no interactions.\n",
      "ItemKNNCustomSimilarityRecommender: URM Detected 358 ( 1.6%) items with no interactions.\n",
      "EvaluatorHoldout: Processed 10024 (100.0%) in 6.63 sec. Users per second: 1512\n"
     ]
    },
    {
     "name": "stderr",
     "output_type": "stream",
     "text": [
      "[I 2023-12-09 17:30:44,711] Trial 30 finished with value: 0.030202268523797055 and parameters: {'alpha': 0.07480036239434006, 'beta': 0.4881992198569134}. Best is trial 22 with value: 0.030479998796539363.\n"
     ]
    },
    {
     "name": "stdout",
     "output_type": "stream",
     "text": [
      "ItemKNNCustomSimilarityRecommender: URM Detected 483 ( 3.8%) users with no interactions.\n",
      "ItemKNNCustomSimilarityRecommender: URM Detected 358 ( 1.6%) items with no interactions.\n",
      "EvaluatorHoldout: Processed 10024 (100.0%) in 6.49 sec. Users per second: 1546\n"
     ]
    },
    {
     "name": "stderr",
     "output_type": "stream",
     "text": [
      "[I 2023-12-09 17:30:51,299] Trial 31 finished with value: 0.030477853152434377 and parameters: {'alpha': 0.008422829222744229, 'beta': 0.5917274932613076}. Best is trial 22 with value: 0.030479998796539363.\n"
     ]
    },
    {
     "name": "stdout",
     "output_type": "stream",
     "text": [
      "ItemKNNCustomSimilarityRecommender: URM Detected 483 ( 3.8%) users with no interactions.\n",
      "ItemKNNCustomSimilarityRecommender: URM Detected 358 ( 1.6%) items with no interactions.\n",
      "EvaluatorHoldout: Processed 10024 (100.0%) in 6.53 sec. Users per second: 1534\n"
     ]
    },
    {
     "name": "stderr",
     "output_type": "stream",
     "text": [
      "[I 2023-12-09 17:30:57,933] Trial 32 finished with value: 0.030508889775649813 and parameters: {'alpha': 0.007361666888105252, 'beta': 0.6731183018579364}. Best is trial 32 with value: 0.030508889775649813.\n"
     ]
    },
    {
     "name": "stdout",
     "output_type": "stream",
     "text": [
      "ItemKNNCustomSimilarityRecommender: URM Detected 483 ( 3.8%) users with no interactions.\n",
      "ItemKNNCustomSimilarityRecommender: URM Detected 358 ( 1.6%) items with no interactions.\n",
      "EvaluatorHoldout: Processed 10024 (100.0%) in 6.46 sec. Users per second: 1552\n"
     ]
    },
    {
     "name": "stderr",
     "output_type": "stream",
     "text": [
      "[I 2023-12-09 17:31:04,493] Trial 33 finished with value: 0.029541536819569704 and parameters: {'alpha': 0.158721818447477, 'beta': 0.5587158240858552}. Best is trial 32 with value: 0.030508889775649813.\n"
     ]
    },
    {
     "name": "stdout",
     "output_type": "stream",
     "text": [
      "ItemKNNCustomSimilarityRecommender: URM Detected 483 ( 3.8%) users with no interactions.\n",
      "ItemKNNCustomSimilarityRecommender: URM Detected 358 ( 1.6%) items with no interactions.\n",
      "EvaluatorHoldout: Processed 10024 (100.0%) in 6.53 sec. Users per second: 1534\n"
     ]
    },
    {
     "name": "stderr",
     "output_type": "stream",
     "text": [
      "[I 2023-12-09 17:31:11,122] Trial 34 finished with value: 0.0302728412128354 and parameters: {'alpha': 0.06554527227700681, 'beta': 0.6398996624119109}. Best is trial 32 with value: 0.030508889775649813.\n"
     ]
    },
    {
     "name": "stdout",
     "output_type": "stream",
     "text": [
      "ItemKNNCustomSimilarityRecommender: URM Detected 483 ( 3.8%) users with no interactions.\n",
      "ItemKNNCustomSimilarityRecommender: URM Detected 358 ( 1.6%) items with no interactions.\n",
      "EvaluatorHoldout: Processed 10024 (100.0%) in 6.60 sec. Users per second: 1519\n"
     ]
    },
    {
     "name": "stderr",
     "output_type": "stream",
     "text": [
      "[I 2023-12-09 17:31:17,842] Trial 35 finished with value: 0.028748396705050947 and parameters: {'alpha': 0.2461652615158445, 'beta': 0.4146700421861813}. Best is trial 32 with value: 0.030508889775649813.\n"
     ]
    },
    {
     "name": "stdout",
     "output_type": "stream",
     "text": [
      "ItemKNNCustomSimilarityRecommender: URM Detected 483 ( 3.8%) users with no interactions.\n",
      "ItemKNNCustomSimilarityRecommender: URM Detected 358 ( 1.6%) items with no interactions.\n",
      "EvaluatorHoldout: Processed 10024 (100.0%) in 6.40 sec. Users per second: 1567\n"
     ]
    },
    {
     "name": "stderr",
     "output_type": "stream",
     "text": [
      "[I 2023-12-09 17:31:24,361] Trial 36 finished with value: 0.029040144922028575 and parameters: {'alpha': 0.19291172970829137, 'beta': 0.5830490181501731}. Best is trial 32 with value: 0.030508889775649813.\n"
     ]
    },
    {
     "name": "stdout",
     "output_type": "stream",
     "text": [
      "ItemKNNCustomSimilarityRecommender: URM Detected 483 ( 3.8%) users with no interactions.\n",
      "ItemKNNCustomSimilarityRecommender: URM Detected 358 ( 1.6%) items with no interactions.\n",
      "EvaluatorHoldout: Processed 10024 (100.0%) in 6.41 sec. Users per second: 1563\n"
     ]
    },
    {
     "name": "stderr",
     "output_type": "stream",
     "text": [
      "[I 2023-12-09 17:31:30,863] Trial 37 finished with value: 0.02985044227188099 and parameters: {'alpha': 0.000637130864164559, 'beta': 0.8684935484470819}. Best is trial 32 with value: 0.030508889775649813.\n"
     ]
    },
    {
     "name": "stdout",
     "output_type": "stream",
     "text": [
      "ItemKNNCustomSimilarityRecommender: URM Detected 483 ( 3.8%) users with no interactions.\n",
      "ItemKNNCustomSimilarityRecommender: URM Detected 358 ( 1.6%) items with no interactions.\n",
      "EvaluatorHoldout: Processed 10024 (100.0%) in 6.56 sec. Users per second: 1528\n"
     ]
    },
    {
     "name": "stderr",
     "output_type": "stream",
     "text": [
      "[I 2023-12-09 17:31:37,541] Trial 38 finished with value: 0.029398610002660547 and parameters: {'alpha': 0.11889491730633903, 'beta': 0.7408486434476702}. Best is trial 32 with value: 0.030508889775649813.\n"
     ]
    },
    {
     "name": "stdout",
     "output_type": "stream",
     "text": [
      "ItemKNNCustomSimilarityRecommender: URM Detected 483 ( 3.8%) users with no interactions.\n",
      "ItemKNNCustomSimilarityRecommender: URM Detected 358 ( 1.6%) items with no interactions.\n",
      "EvaluatorHoldout: Processed 10024 (100.0%) in 6.57 sec. Users per second: 1526\n"
     ]
    },
    {
     "name": "stderr",
     "output_type": "stream",
     "text": [
      "[I 2023-12-09 17:31:44,204] Trial 39 finished with value: 0.028141983050203483 and parameters: {'alpha': 0.2941085556507731, 'beta': 0.4627909892019245}. Best is trial 32 with value: 0.030508889775649813.\n"
     ]
    },
    {
     "name": "stdout",
     "output_type": "stream",
     "text": [
      "ItemKNNCustomSimilarityRecommender: URM Detected 483 ( 3.8%) users with no interactions.\n",
      "ItemKNNCustomSimilarityRecommender: URM Detected 358 ( 1.6%) items with no interactions.\n",
      "EvaluatorHoldout: Processed 10024 (100.0%) in 6.46 sec. Users per second: 1552\n"
     ]
    },
    {
     "name": "stderr",
     "output_type": "stream",
     "text": [
      "[I 2023-12-09 17:31:50,782] Trial 40 finished with value: 0.028607484893398805 and parameters: {'alpha': 0.20358063085035538, 'beta': 0.6592646283903494}. Best is trial 32 with value: 0.030508889775649813.\n"
     ]
    },
    {
     "name": "stdout",
     "output_type": "stream",
     "text": [
      "ItemKNNCustomSimilarityRecommender: URM Detected 483 ( 3.8%) users with no interactions.\n",
      "ItemKNNCustomSimilarityRecommender: URM Detected 358 ( 1.6%) items with no interactions.\n",
      "EvaluatorHoldout: Processed 10024 (100.0%) in 6.37 sec. Users per second: 1573\n"
     ]
    },
    {
     "name": "stderr",
     "output_type": "stream",
     "text": [
      "[I 2023-12-09 17:31:57,251] Trial 41 finished with value: 0.030360052540569473 and parameters: {'alpha': 0.06078049531357614, 'beta': 0.5293082034778618}. Best is trial 32 with value: 0.030508889775649813.\n"
     ]
    },
    {
     "name": "stdout",
     "output_type": "stream",
     "text": [
      "ItemKNNCustomSimilarityRecommender: URM Detected 483 ( 3.8%) users with no interactions.\n",
      "ItemKNNCustomSimilarityRecommender: URM Detected 358 ( 1.6%) items with no interactions.\n",
      "EvaluatorHoldout: Processed 10024 (100.0%) in 6.54 sec. Users per second: 1534\n"
     ]
    },
    {
     "name": "stderr",
     "output_type": "stream",
     "text": [
      "[I 2023-12-09 17:32:03,905] Trial 42 finished with value: 0.030201401556898533 and parameters: {'alpha': 0.05545916377709222, 'beta': 0.6709933756293034}. Best is trial 32 with value: 0.030508889775649813.\n"
     ]
    },
    {
     "name": "stdout",
     "output_type": "stream",
     "text": [
      "ItemKNNCustomSimilarityRecommender: URM Detected 483 ( 3.8%) users with no interactions.\n",
      "ItemKNNCustomSimilarityRecommender: URM Detected 358 ( 1.6%) items with no interactions.\n",
      "EvaluatorHoldout: Processed 10024 (100.0%) in 6.45 sec. Users per second: 1554\n"
     ]
    },
    {
     "name": "stderr",
     "output_type": "stream",
     "text": [
      "[I 2023-12-09 17:32:10,451] Trial 43 finished with value: 0.03025319392188928 and parameters: {'alpha': 0.04597583885227022, 'beta': 0.7062675723085182}. Best is trial 32 with value: 0.030508889775649813.\n"
     ]
    },
    {
     "name": "stdout",
     "output_type": "stream",
     "text": [
      "ItemKNNCustomSimilarityRecommender: URM Detected 483 ( 3.8%) users with no interactions.\n",
      "ItemKNNCustomSimilarityRecommender: URM Detected 358 ( 1.6%) items with no interactions.\n",
      "EvaluatorHoldout: Processed 10024 (100.0%) in 6.53 sec. Users per second: 1536\n"
     ]
    },
    {
     "name": "stderr",
     "output_type": "stream",
     "text": [
      "[I 2023-12-09 17:32:17,072] Trial 44 finished with value: 0.02823641118458568 and parameters: {'alpha': 0.16366245078889122, 'beta': 0.8085406048676176}. Best is trial 32 with value: 0.030508889775649813.\n"
     ]
    },
    {
     "name": "stdout",
     "output_type": "stream",
     "text": [
      "ItemKNNCustomSimilarityRecommender: URM Detected 483 ( 3.8%) users with no interactions.\n",
      "ItemKNNCustomSimilarityRecommender: URM Detected 358 ( 1.6%) items with no interactions.\n",
      "EvaluatorHoldout: Processed 10024 (100.0%) in 6.52 sec. Users per second: 1537\n"
     ]
    },
    {
     "name": "stderr",
     "output_type": "stream",
     "text": [
      "[I 2023-12-09 17:32:23,724] Trial 45 finished with value: 0.030449445141185166 and parameters: {'alpha': 0.004681095979406984, 'beta': 0.5903683958643945}. Best is trial 32 with value: 0.030508889775649813.\n"
     ]
    },
    {
     "name": "stdout",
     "output_type": "stream",
     "text": [
      "ItemKNNCustomSimilarityRecommender: URM Detected 483 ( 3.8%) users with no interactions.\n",
      "ItemKNNCustomSimilarityRecommender: URM Detected 358 ( 1.6%) items with no interactions.\n",
      "EvaluatorHoldout: Processed 10024 (100.0%) in 6.84 sec. Users per second: 1466\n"
     ]
    },
    {
     "name": "stderr",
     "output_type": "stream",
     "text": [
      "[I 2023-12-09 17:32:30,700] Trial 46 finished with value: 0.03002075970052841 and parameters: {'alpha': 0.1069021216359586, 'beta': 0.6501322771761189}. Best is trial 32 with value: 0.030508889775649813.\n"
     ]
    },
    {
     "name": "stdout",
     "output_type": "stream",
     "text": [
      "ItemKNNCustomSimilarityRecommender: URM Detected 483 ( 3.8%) users with no interactions.\n",
      "ItemKNNCustomSimilarityRecommender: URM Detected 358 ( 1.6%) items with no interactions.\n",
      "EvaluatorHoldout: Processed 10024 (100.0%) in 7.06 sec. Users per second: 1419\n"
     ]
    },
    {
     "name": "stderr",
     "output_type": "stream",
     "text": [
      "[I 2023-12-09 17:32:37,868] Trial 47 finished with value: 0.030419532803810684 and parameters: {'alpha': 0.05523571800075159, 'beta': 0.5721126351958499}. Best is trial 32 with value: 0.030508889775649813.\n"
     ]
    },
    {
     "name": "stdout",
     "output_type": "stream",
     "text": [
      "ItemKNNCustomSimilarityRecommender: URM Detected 483 ( 3.8%) users with no interactions.\n",
      "ItemKNNCustomSimilarityRecommender: URM Detected 358 ( 1.6%) items with no interactions.\n",
      "EvaluatorHoldout: Processed 10024 (100.0%) in 6.90 sec. Users per second: 1452\n"
     ]
    },
    {
     "name": "stderr",
     "output_type": "stream",
     "text": [
      "[I 2023-12-09 17:32:44,873] Trial 48 finished with value: 0.029692796811462172 and parameters: {'alpha': 0.10365639456573396, 'beta': 0.7361824524584243}. Best is trial 32 with value: 0.030508889775649813.\n"
     ]
    },
    {
     "name": "stdout",
     "output_type": "stream",
     "text": [
      "ItemKNNCustomSimilarityRecommender: URM Detected 483 ( 3.8%) users with no interactions.\n",
      "ItemKNNCustomSimilarityRecommender: URM Detected 358 ( 1.6%) items with no interactions.\n",
      "EvaluatorHoldout: Processed 10024 (100.0%) in 6.58 sec. Users per second: 1524\n"
     ]
    },
    {
     "name": "stderr",
     "output_type": "stream",
     "text": [
      "[I 2023-12-09 17:32:51,563] Trial 49 finished with value: 0.030394252207400926 and parameters: {'alpha': 0.0009188092025047253, 'beta': 0.5281767690379878}. Best is trial 32 with value: 0.030508889775649813.\n"
     ]
    },
    {
     "name": "stdout",
     "output_type": "stream",
     "text": [
      "ItemKNNCustomSimilarityRecommender: URM Detected 483 ( 3.8%) users with no interactions.\n",
      "ItemKNNCustomSimilarityRecommender: URM Detected 358 ( 1.6%) items with no interactions.\n",
      "EvaluatorHoldout: Processed 10024 (100.0%) in 6.33 sec. Users per second: 1584\n"
     ]
    },
    {
     "name": "stderr",
     "output_type": "stream",
     "text": [
      "[I 2023-12-09 17:32:58,064] Trial 50 finished with value: 0.023810865826777706 and parameters: {'alpha': 0.5803811281263952, 'beta': 0.4446163921104612}. Best is trial 32 with value: 0.030508889775649813.\n"
     ]
    },
    {
     "name": "stdout",
     "output_type": "stream",
     "text": [
      "ItemKNNCustomSimilarityRecommender: URM Detected 483 ( 3.8%) users with no interactions.\n",
      "ItemKNNCustomSimilarityRecommender: URM Detected 358 ( 1.6%) items with no interactions.\n",
      "EvaluatorHoldout: Processed 10024 (100.0%) in 6.47 sec. Users per second: 1549\n"
     ]
    },
    {
     "name": "stderr",
     "output_type": "stream",
     "text": [
      "[I 2023-12-09 17:33:04,632] Trial 51 finished with value: 0.03041764843740128 and parameters: {'alpha': 0.030893789455620758, 'beta': 0.5941309775506735}. Best is trial 32 with value: 0.030508889775649813.\n"
     ]
    },
    {
     "name": "stdout",
     "output_type": "stream",
     "text": [
      "ItemKNNCustomSimilarityRecommender: URM Detected 483 ( 3.8%) users with no interactions.\n",
      "ItemKNNCustomSimilarityRecommender: URM Detected 358 ( 1.6%) items with no interactions.\n",
      "EvaluatorHoldout: Processed 10024 (100.0%) in 6.37 sec. Users per second: 1575\n"
     ]
    },
    {
     "name": "stderr",
     "output_type": "stream",
     "text": [
      "[I 2023-12-09 17:33:11,095] Trial 52 finished with value: 0.03048802714754451 and parameters: {'alpha': 0.0007601716751671215, 'beta': 0.6137285998245513}. Best is trial 32 with value: 0.030508889775649813.\n"
     ]
    },
    {
     "name": "stdout",
     "output_type": "stream",
     "text": [
      "ItemKNNCustomSimilarityRecommender: URM Detected 483 ( 3.8%) users with no interactions.\n",
      "ItemKNNCustomSimilarityRecommender: URM Detected 358 ( 1.6%) items with no interactions.\n",
      "EvaluatorHoldout: Processed 10024 (100.0%) in 6.32 sec. Users per second: 1587\n"
     ]
    },
    {
     "name": "stderr",
     "output_type": "stream",
     "text": [
      "[I 2023-12-09 17:33:17,538] Trial 53 finished with value: 0.03032697715957912 and parameters: {'alpha': 0.05005319858784208, 'beta': 0.6283927811000958}. Best is trial 32 with value: 0.030508889775649813.\n"
     ]
    },
    {
     "name": "stdout",
     "output_type": "stream",
     "text": [
      "ItemKNNCustomSimilarityRecommender: URM Detected 483 ( 3.8%) users with no interactions.\n",
      "ItemKNNCustomSimilarityRecommender: URM Detected 358 ( 1.6%) items with no interactions.\n",
      "EvaluatorHoldout: Processed 10024 (100.0%) in 6.44 sec. Users per second: 1556\n"
     ]
    },
    {
     "name": "stderr",
     "output_type": "stream",
     "text": [
      "[I 2023-12-09 17:33:24,078] Trial 54 finished with value: 0.03001074801428971 and parameters: {'alpha': 0.09853480546906933, 'beta': 0.6703785997336681}. Best is trial 32 with value: 0.030508889775649813.\n"
     ]
    },
    {
     "name": "stdout",
     "output_type": "stream",
     "text": [
      "ItemKNNCustomSimilarityRecommender: URM Detected 483 ( 3.8%) users with no interactions.\n",
      "ItemKNNCustomSimilarityRecommender: URM Detected 358 ( 1.6%) items with no interactions.\n",
      "EvaluatorHoldout: Processed 10024 (100.0%) in 6.50 sec. Users per second: 1542\n"
     ]
    },
    {
     "name": "stderr",
     "output_type": "stream",
     "text": [
      "[I 2023-12-09 17:33:30,675] Trial 55 finished with value: 0.0293462238247257 and parameters: {'alpha': 0.13109682416274185, 'beta': 0.7211188714006924}. Best is trial 32 with value: 0.030508889775649813.\n"
     ]
    },
    {
     "name": "stdout",
     "output_type": "stream",
     "text": [
      "ItemKNNCustomSimilarityRecommender: URM Detected 483 ( 3.8%) users with no interactions.\n",
      "ItemKNNCustomSimilarityRecommender: URM Detected 358 ( 1.6%) items with no interactions.\n",
      "EvaluatorHoldout: Processed 10024 (100.0%) in 6.60 sec. Users per second: 1519\n"
     ]
    },
    {
     "name": "stderr",
     "output_type": "stream",
     "text": [
      "[I 2023-12-09 17:33:37,371] Trial 56 finished with value: 0.030395277524417837 and parameters: {'alpha': 0.03253564455271478, 'beta': 0.6878532256841741}. Best is trial 32 with value: 0.030508889775649813.\n"
     ]
    },
    {
     "name": "stdout",
     "output_type": "stream",
     "text": [
      "ItemKNNCustomSimilarityRecommender: URM Detected 483 ( 3.8%) users with no interactions.\n",
      "ItemKNNCustomSimilarityRecommender: URM Detected 358 ( 1.6%) items with no interactions.\n",
      "EvaluatorHoldout: Processed 10024 (100.0%) in 6.40 sec. Users per second: 1566\n"
     ]
    },
    {
     "name": "stderr",
     "output_type": "stream",
     "text": [
      "[I 2023-12-09 17:33:43,880] Trial 57 finished with value: 0.030211456789419847 and parameters: {'alpha': 0.08227198631513913, 'beta': 0.616891859927764}. Best is trial 32 with value: 0.030508889775649813.\n"
     ]
    },
    {
     "name": "stdout",
     "output_type": "stream",
     "text": [
      "ItemKNNCustomSimilarityRecommender: URM Detected 483 ( 3.8%) users with no interactions.\n",
      "ItemKNNCustomSimilarityRecommender: URM Detected 358 ( 1.6%) items with no interactions.\n",
      "EvaluatorHoldout: Processed 10024 (100.0%) in 6.37 sec. Users per second: 1573\n"
     ]
    },
    {
     "name": "stderr",
     "output_type": "stream",
     "text": [
      "[I 2023-12-09 17:33:50,376] Trial 58 finished with value: 0.030182518305273926 and parameters: {'alpha': 0.0007883564831864861, 'beta': 0.3833359035073398}. Best is trial 32 with value: 0.030508889775649813.\n"
     ]
    },
    {
     "name": "stdout",
     "output_type": "stream",
     "text": [
      "ItemKNNCustomSimilarityRecommender: URM Detected 483 ( 3.8%) users with no interactions.\n",
      "ItemKNNCustomSimilarityRecommender: URM Detected 358 ( 1.6%) items with no interactions.\n",
      "EvaluatorHoldout: Processed 10024 (100.0%) in 7.03 sec. Users per second: 1427\n"
     ]
    },
    {
     "name": "stderr",
     "output_type": "stream",
     "text": [
      "[I 2023-12-09 17:33:57,493] Trial 59 finished with value: 0.029398748559014094 and parameters: {'alpha': 0.17533726715619607, 'beta': 0.5436276524441873}. Best is trial 32 with value: 0.030508889775649813.\n"
     ]
    },
    {
     "name": "stdout",
     "output_type": "stream",
     "text": [
      "ItemKNNCustomSimilarityRecommender: URM Detected 483 ( 3.8%) users with no interactions.\n",
      "ItemKNNCustomSimilarityRecommender: URM Detected 358 ( 1.6%) items with no interactions.\n",
      "EvaluatorHoldout: Processed 10024 (100.0%) in 7.33 sec. Users per second: 1368\n"
     ]
    },
    {
     "name": "stderr",
     "output_type": "stream",
     "text": [
      "[I 2023-12-09 17:34:04,947] Trial 60 finished with value: 0.029035133140779733 and parameters: {'alpha': 0.1384302733687769, 'beta': 0.7586141817914647}. Best is trial 32 with value: 0.030508889775649813.\n"
     ]
    },
    {
     "name": "stdout",
     "output_type": "stream",
     "text": [
      "ItemKNNCustomSimilarityRecommender: URM Detected 483 ( 3.8%) users with no interactions.\n",
      "ItemKNNCustomSimilarityRecommender: URM Detected 358 ( 1.6%) items with no interactions.\n",
      "EvaluatorHoldout: Processed 10024 (100.0%) in 7.00 sec. Users per second: 1432\n"
     ]
    },
    {
     "name": "stderr",
     "output_type": "stream",
     "text": [
      "[I 2023-12-09 17:34:12,055] Trial 61 finished with value: 0.03040557819962271 and parameters: {'alpha': 0.030263502287458312, 'beta': 0.5891117367859844}. Best is trial 32 with value: 0.030508889775649813.\n"
     ]
    },
    {
     "name": "stdout",
     "output_type": "stream",
     "text": [
      "ItemKNNCustomSimilarityRecommender: URM Detected 483 ( 3.8%) users with no interactions.\n",
      "ItemKNNCustomSimilarityRecommender: URM Detected 358 ( 1.6%) items with no interactions.\n",
      "EvaluatorHoldout: Processed 10024 (100.0%) in 6.96 sec. Users per second: 1441\n"
     ]
    },
    {
     "name": "stderr",
     "output_type": "stream",
     "text": [
      "[I 2023-12-09 17:34:19,111] Trial 62 finished with value: 0.030424651471389542 and parameters: {'alpha': 0.028493502316143587, 'beta': 0.6034379738841321}. Best is trial 32 with value: 0.030508889775649813.\n"
     ]
    },
    {
     "name": "stdout",
     "output_type": "stream",
     "text": [
      "ItemKNNCustomSimilarityRecommender: URM Detected 483 ( 3.8%) users with no interactions.\n",
      "ItemKNNCustomSimilarityRecommender: URM Detected 358 ( 1.6%) items with no interactions.\n",
      "EvaluatorHoldout: Processed 10024 (100.0%) in 6.99 sec. Users per second: 1433\n"
     ]
    },
    {
     "name": "stderr",
     "output_type": "stream",
     "text": [
      "[I 2023-12-09 17:34:26,213] Trial 63 finished with value: 0.030517753423529817 and parameters: {'alpha': 0.0010464022298774171, 'beta': 0.6392871761474661}. Best is trial 63 with value: 0.030517753423529817.\n"
     ]
    },
    {
     "name": "stdout",
     "output_type": "stream",
     "text": [
      "ItemKNNCustomSimilarityRecommender: URM Detected 483 ( 3.8%) users with no interactions.\n",
      "ItemKNNCustomSimilarityRecommender: URM Detected 358 ( 1.6%) items with no interactions.\n",
      "EvaluatorHoldout: Processed 10024 (100.0%) in 6.67 sec. Users per second: 1503\n"
     ]
    },
    {
     "name": "stderr",
     "output_type": "stream",
     "text": [
      "[I 2023-12-09 17:34:33,012] Trial 64 finished with value: 0.030120104606088438 and parameters: {'alpha': 0.08443490649154536, 'beta': 0.6469144324195869}. Best is trial 63 with value: 0.030517753423529817.\n"
     ]
    },
    {
     "name": "stdout",
     "output_type": "stream",
     "text": [
      "ItemKNNCustomSimilarityRecommender: URM Detected 483 ( 3.8%) users with no interactions.\n",
      "ItemKNNCustomSimilarityRecommender: URM Detected 358 ( 1.6%) items with no interactions.\n",
      "EvaluatorHoldout: Processed 10024 (100.0%) in 6.69 sec. Users per second: 1498\n"
     ]
    },
    {
     "name": "stderr",
     "output_type": "stream",
     "text": [
      "[I 2023-12-09 17:34:39,838] Trial 65 finished with value: 0.030147657526698055 and parameters: {'alpha': 0.06899928283177065, 'beta': 0.6964203917333717}. Best is trial 63 with value: 0.030517753423529817.\n"
     ]
    },
    {
     "name": "stdout",
     "output_type": "stream",
     "text": [
      "ItemKNNCustomSimilarityRecommender: URM Detected 483 ( 3.8%) users with no interactions.\n",
      "ItemKNNCustomSimilarityRecommender: URM Detected 358 ( 1.6%) items with no interactions.\n",
      "EvaluatorHoldout: Processed 10024 (100.0%) in 6.85 sec. Users per second: 1463\n"
     ]
    },
    {
     "name": "stderr",
     "output_type": "stream",
     "text": [
      "[I 2023-12-09 17:34:46,797] Trial 66 finished with value: 0.030345238886988878 and parameters: {'alpha': 0.03247811112231854, 'beta': 0.5524628145351034}. Best is trial 63 with value: 0.030517753423529817.\n"
     ]
    },
    {
     "name": "stdout",
     "output_type": "stream",
     "text": [
      "ItemKNNCustomSimilarityRecommender: URM Detected 483 ( 3.8%) users with no interactions.\n",
      "ItemKNNCustomSimilarityRecommender: URM Detected 358 ( 1.6%) items with no interactions.\n",
      "EvaluatorHoldout: Processed 10024 (100.0%) in 6.66 sec. Users per second: 1505\n"
     ]
    },
    {
     "name": "stderr",
     "output_type": "stream",
     "text": [
      "[I 2023-12-09 17:34:53,581] Trial 67 finished with value: 0.029942621834581296 and parameters: {'alpha': 0.11856818226562843, 'beta': 0.5088978015505585}. Best is trial 63 with value: 0.030517753423529817.\n"
     ]
    },
    {
     "name": "stdout",
     "output_type": "stream",
     "text": [
      "ItemKNNCustomSimilarityRecommender: URM Detected 483 ( 3.8%) users with no interactions.\n",
      "ItemKNNCustomSimilarityRecommender: URM Detected 358 ( 1.6%) items with no interactions.\n",
      "EvaluatorHoldout: Processed 10024 (100.0%) in 6.61 sec. Users per second: 1516\n"
     ]
    },
    {
     "name": "stderr",
     "output_type": "stream",
     "text": [
      "[I 2023-12-09 17:35:00,290] Trial 68 finished with value: 0.03008665314356668 and parameters: {'alpha': 0.0925556243035125, 'beta': 0.6290068397773749}. Best is trial 63 with value: 0.030517753423529817.\n"
     ]
    },
    {
     "name": "stdout",
     "output_type": "stream",
     "text": [
      "ItemKNNCustomSimilarityRecommender: URM Detected 483 ( 3.8%) users with no interactions.\n",
      "ItemKNNCustomSimilarityRecommender: URM Detected 358 ( 1.6%) items with no interactions.\n",
      "EvaluatorHoldout: Processed 10024 (100.0%) in 6.43 sec. Users per second: 1559\n"
     ]
    },
    {
     "name": "stderr",
     "output_type": "stream",
     "text": [
      "[I 2023-12-09 17:35:06,815] Trial 69 finished with value: 0.03033848921319015 and parameters: {'alpha': 0.03682706944830466, 'beta': 0.6715805855784522}. Best is trial 63 with value: 0.030517753423529817.\n"
     ]
    },
    {
     "name": "stdout",
     "output_type": "stream",
     "text": [
      "ItemKNNCustomSimilarityRecommender: URM Detected 483 ( 3.8%) users with no interactions.\n",
      "ItemKNNCustomSimilarityRecommender: URM Detected 358 ( 1.6%) items with no interactions.\n",
      "EvaluatorHoldout: Processed 10024 (100.0%) in 6.44 sec. Users per second: 1557\n"
     ]
    },
    {
     "name": "stderr",
     "output_type": "stream",
     "text": [
      "[I 2023-12-09 17:35:13,376] Trial 70 finished with value: 0.030401868848098142 and parameters: {'alpha': 0.005901496964469875, 'beta': 0.7162104451825584}. Best is trial 63 with value: 0.030517753423529817.\n"
     ]
    },
    {
     "name": "stdout",
     "output_type": "stream",
     "text": [
      "ItemKNNCustomSimilarityRecommender: URM Detected 483 ( 3.8%) users with no interactions.\n",
      "ItemKNNCustomSimilarityRecommender: URM Detected 358 ( 1.6%) items with no interactions.\n",
      "EvaluatorHoldout: Processed 10024 (100.0%) in 6.40 sec. Users per second: 1566\n"
     ]
    },
    {
     "name": "stderr",
     "output_type": "stream",
     "text": [
      "[I 2023-12-09 17:35:19,897] Trial 71 finished with value: 0.030419536762563693 and parameters: {'alpha': 0.011468730623304483, 'beta': 0.5744072060438958}. Best is trial 63 with value: 0.030517753423529817.\n"
     ]
    },
    {
     "name": "stdout",
     "output_type": "stream",
     "text": [
      "ItemKNNCustomSimilarityRecommender: URM Detected 483 ( 3.8%) users with no interactions.\n",
      "ItemKNNCustomSimilarityRecommender: URM Detected 358 ( 1.6%) items with no interactions.\n",
      "EvaluatorHoldout: Processed 10024 (100.0%) in 6.48 sec. Users per second: 1547\n"
     ]
    },
    {
     "name": "stderr",
     "output_type": "stream",
     "text": [
      "[I 2023-12-09 17:35:26,476] Trial 72 finished with value: 0.03028542212974595 and parameters: {'alpha': 0.07109666439490774, 'beta': 0.5977545438560311}. Best is trial 63 with value: 0.030517753423529817.\n"
     ]
    },
    {
     "name": "stdout",
     "output_type": "stream",
     "text": [
      "ItemKNNCustomSimilarityRecommender: URM Detected 483 ( 3.8%) users with no interactions.\n",
      "ItemKNNCustomSimilarityRecommender: URM Detected 358 ( 1.6%) items with no interactions.\n",
      "EvaluatorHoldout: Processed 10024 (100.0%) in 6.41 sec. Users per second: 1565\n"
     ]
    },
    {
     "name": "stderr",
     "output_type": "stream",
     "text": [
      "[I 2023-12-09 17:35:33,010] Trial 73 finished with value: 0.030477291009513918 and parameters: {'alpha': 0.002477340213043712, 'beta': 0.625249949041655}. Best is trial 63 with value: 0.030517753423529817.\n"
     ]
    },
    {
     "name": "stdout",
     "output_type": "stream",
     "text": [
      "ItemKNNCustomSimilarityRecommender: URM Detected 483 ( 3.8%) users with no interactions.\n",
      "ItemKNNCustomSimilarityRecommender: URM Detected 358 ( 1.6%) items with no interactions.\n",
      "EvaluatorHoldout: Processed 10024 (100.0%) in 6.33 sec. Users per second: 1582\n"
     ]
    },
    {
     "name": "stderr",
     "output_type": "stream",
     "text": [
      "[I 2023-12-09 17:35:39,441] Trial 74 finished with value: 0.03032571035863154 and parameters: {'alpha': 0.04971408168541064, 'beta': 0.6547861903939237}. Best is trial 63 with value: 0.030517753423529817.\n"
     ]
    },
    {
     "name": "stdout",
     "output_type": "stream",
     "text": [
      "ItemKNNCustomSimilarityRecommender: URM Detected 483 ( 3.8%) users with no interactions.\n",
      "ItemKNNCustomSimilarityRecommender: URM Detected 358 ( 1.6%) items with no interactions.\n",
      "EvaluatorHoldout: Processed 10024 (100.0%) in 6.34 sec. Users per second: 1582\n"
     ]
    },
    {
     "name": "stderr",
     "output_type": "stream",
     "text": [
      "[I 2023-12-09 17:35:45,900] Trial 75 finished with value: 0.02945555270525362 and parameters: {'alpha': 0.1523501642557716, 'beta': 0.6286657672562073}. Best is trial 63 with value: 0.030517753423529817.\n"
     ]
    },
    {
     "name": "stdout",
     "output_type": "stream",
     "text": [
      "ItemKNNCustomSimilarityRecommender: URM Detected 483 ( 3.8%) users with no interactions.\n",
      "ItemKNNCustomSimilarityRecommender: URM Detected 358 ( 1.6%) items with no interactions.\n",
      "EvaluatorHoldout: Processed 10024 (100.0%) in 6.34 sec. Users per second: 1582\n"
     ]
    },
    {
     "name": "stderr",
     "output_type": "stream",
     "text": [
      "[I 2023-12-09 17:35:52,362] Trial 76 finished with value: 0.03020583931896799 and parameters: {'alpha': 0.08496596372549556, 'beta': 0.5592272894892664}. Best is trial 63 with value: 0.030517753423529817.\n"
     ]
    },
    {
     "name": "stdout",
     "output_type": "stream",
     "text": [
      "ItemKNNCustomSimilarityRecommender: URM Detected 483 ( 3.8%) users with no interactions.\n",
      "ItemKNNCustomSimilarityRecommender: URM Detected 358 ( 1.6%) items with no interactions.\n",
      "EvaluatorHoldout: Processed 10024 (100.0%) in 6.55 sec. Users per second: 1530\n"
     ]
    },
    {
     "name": "stderr",
     "output_type": "stream",
     "text": [
      "[I 2023-12-09 17:35:59,017] Trial 77 finished with value: 0.02979467531891732 and parameters: {'alpha': 0.11875202885854075, 'beta': 0.6763580875193242}. Best is trial 63 with value: 0.030517753423529817.\n"
     ]
    },
    {
     "name": "stdout",
     "output_type": "stream",
     "text": [
      "ItemKNNCustomSimilarityRecommender: URM Detected 483 ( 3.8%) users with no interactions.\n",
      "ItemKNNCustomSimilarityRecommender: URM Detected 358 ( 1.6%) items with no interactions.\n",
      "EvaluatorHoldout: Processed 10024 (100.0%) in 6.70 sec. Users per second: 1495\n"
     ]
    },
    {
     "name": "stderr",
     "output_type": "stream",
     "text": [
      "[I 2023-12-09 17:36:05,855] Trial 78 finished with value: 0.030351853963186973 and parameters: {'alpha': 0.03606952151643485, 'beta': 0.6205536099877409}. Best is trial 63 with value: 0.030517753423529817.\n"
     ]
    },
    {
     "name": "stdout",
     "output_type": "stream",
     "text": [
      "ItemKNNCustomSimilarityRecommender: URM Detected 483 ( 3.8%) users with no interactions.\n",
      "ItemKNNCustomSimilarityRecommender: URM Detected 358 ( 1.6%) items with no interactions.\n",
      "EvaluatorHoldout: Processed 10024 (100.0%) in 7.02 sec. Users per second: 1429\n"
     ]
    },
    {
     "name": "stderr",
     "output_type": "stream",
     "text": [
      "[I 2023-12-09 17:36:13,019] Trial 79 finished with value: 0.029927954654860336 and parameters: {'alpha': 0.061728551600417424, 'beta': 0.7652812549633136}. Best is trial 63 with value: 0.030517753423529817.\n"
     ]
    },
    {
     "name": "stdout",
     "output_type": "stream",
     "text": [
      "ItemKNNCustomSimilarityRecommender: URM Detected 483 ( 3.8%) users with no interactions.\n",
      "ItemKNNCustomSimilarityRecommender: URM Detected 358 ( 1.6%) items with no interactions.\n",
      "EvaluatorHoldout: Processed 10024 (100.0%) in 6.62 sec. Users per second: 1515\n"
     ]
    },
    {
     "name": "stderr",
     "output_type": "stream",
     "text": [
      "[I 2023-12-09 17:36:19,735] Trial 80 finished with value: 0.03036898348724997 and parameters: {'alpha': 0.0028930662826118477, 'beta': 0.5127554449306011}. Best is trial 63 with value: 0.030517753423529817.\n"
     ]
    },
    {
     "name": "stdout",
     "output_type": "stream",
     "text": [
      "ItemKNNCustomSimilarityRecommender: URM Detected 483 ( 3.8%) users with no interactions.\n",
      "ItemKNNCustomSimilarityRecommender: URM Detected 358 ( 1.6%) items with no interactions.\n",
      "EvaluatorHoldout: Processed 10024 (100.0%) in 6.47 sec. Users per second: 1549\n"
     ]
    },
    {
     "name": "stderr",
     "output_type": "stream",
     "text": [
      "[I 2023-12-09 17:36:26,305] Trial 81 finished with value: 0.030434441467462423 and parameters: {'alpha': 0.02275386296303441, 'beta': 0.5858071024995262}. Best is trial 63 with value: 0.030517753423529817.\n"
     ]
    },
    {
     "name": "stdout",
     "output_type": "stream",
     "text": [
      "ItemKNNCustomSimilarityRecommender: URM Detected 483 ( 3.8%) users with no interactions.\n",
      "ItemKNNCustomSimilarityRecommender: URM Detected 358 ( 1.6%) items with no interactions.\n",
      "EvaluatorHoldout: Processed 10024 (100.0%) in 6.36 sec. Users per second: 1577\n"
     ]
    },
    {
     "name": "stderr",
     "output_type": "stream",
     "text": [
      "[I 2023-12-09 17:36:32,777] Trial 82 finished with value: 0.030498973099482116 and parameters: {'alpha': 0.0006170979295361794, 'beta': 0.6509701401832235}. Best is trial 63 with value: 0.030517753423529817.\n"
     ]
    },
    {
     "name": "stdout",
     "output_type": "stream",
     "text": [
      "ItemKNNCustomSimilarityRecommender: URM Detected 483 ( 3.8%) users with no interactions.\n",
      "ItemKNNCustomSimilarityRecommender: URM Detected 358 ( 1.6%) items with no interactions.\n",
      "EvaluatorHoldout: Processed 10024 (100.0%) in 6.41 sec. Users per second: 1564\n"
     ]
    },
    {
     "name": "stderr",
     "output_type": "stream",
     "text": [
      "[I 2023-12-09 17:36:39,284] Trial 83 finished with value: 0.030293644459646215 and parameters: {'alpha': 0.051741478393704125, 'beta': 0.6491595405718548}. Best is trial 63 with value: 0.030517753423529817.\n"
     ]
    },
    {
     "name": "stdout",
     "output_type": "stream",
     "text": [
      "ItemKNNCustomSimilarityRecommender: URM Detected 483 ( 3.8%) users with no interactions.\n",
      "ItemKNNCustomSimilarityRecommender: URM Detected 358 ( 1.6%) items with no interactions.\n",
      "EvaluatorHoldout: Processed 10024 (100.0%) in 6.42 sec. Users per second: 1561\n"
     ]
    },
    {
     "name": "stderr",
     "output_type": "stream",
     "text": [
      "[I 2023-12-09 17:36:45,819] Trial 84 finished with value: 0.030017446224299985 and parameters: {'alpha': 0.08201894554767387, 'beta': 0.6981507257300877}. Best is trial 63 with value: 0.030517753423529817.\n"
     ]
    },
    {
     "name": "stdout",
     "output_type": "stream",
     "text": [
      "ItemKNNCustomSimilarityRecommender: URM Detected 483 ( 3.8%) users with no interactions.\n",
      "ItemKNNCustomSimilarityRecommender: URM Detected 358 ( 1.6%) items with no interactions.\n",
      "EvaluatorHoldout: Processed 10024 (100.0%) in 6.45 sec. Users per second: 1554\n"
     ]
    },
    {
     "name": "stderr",
     "output_type": "stream",
     "text": [
      "[I 2023-12-09 17:36:52,369] Trial 85 finished with value: 0.030363884613435973 and parameters: {'alpha': 0.023760866319510528, 'beta': 0.7206152103763808}. Best is trial 63 with value: 0.030517753423529817.\n"
     ]
    },
    {
     "name": "stdout",
     "output_type": "stream",
     "text": [
      "ItemKNNCustomSimilarityRecommender: URM Detected 483 ( 3.8%) users with no interactions.\n",
      "ItemKNNCustomSimilarityRecommender: URM Detected 358 ( 1.6%) items with no interactions.\n",
      "EvaluatorHoldout: Processed 10024 (100.0%) in 6.47 sec. Users per second: 1548\n"
     ]
    },
    {
     "name": "stderr",
     "output_type": "stream",
     "text": [
      "[I 2023-12-09 17:36:58,953] Trial 86 finished with value: 0.03026851033709592 and parameters: {'alpha': 0.04860213076110538, 'beta': 0.6790107410372346}. Best is trial 63 with value: 0.030517753423529817.\n"
     ]
    },
    {
     "name": "stdout",
     "output_type": "stream",
     "text": [
      "ItemKNNCustomSimilarityRecommender: URM Detected 483 ( 3.8%) users with no interactions.\n",
      "ItemKNNCustomSimilarityRecommender: URM Detected 358 ( 1.6%) items with no interactions.\n",
      "EvaluatorHoldout: Processed 10024 (100.0%) in 6.48 sec. Users per second: 1546\n"
     ]
    },
    {
     "name": "stderr",
     "output_type": "stream",
     "text": [
      "[I 2023-12-09 17:37:05,532] Trial 87 finished with value: 0.029987462629372186 and parameters: {'alpha': 0.11625982956969722, 'beta': 0.6138059102819056}. Best is trial 63 with value: 0.030517753423529817.\n"
     ]
    },
    {
     "name": "stdout",
     "output_type": "stream",
     "text": [
      "ItemKNNCustomSimilarityRecommender: URM Detected 483 ( 3.8%) users with no interactions.\n",
      "ItemKNNCustomSimilarityRecommender: URM Detected 358 ( 1.6%) items with no interactions.\n",
      "EvaluatorHoldout: Processed 10024 (100.0%) in 6.62 sec. Users per second: 1513\n"
     ]
    },
    {
     "name": "stderr",
     "output_type": "stream",
     "text": [
      "[I 2023-12-09 17:37:12,253] Trial 88 finished with value: 0.030409671550184526 and parameters: {'alpha': 0.01821060598817724, 'beta': 0.5584495905604516}. Best is trial 63 with value: 0.030517753423529817.\n"
     ]
    },
    {
     "name": "stdout",
     "output_type": "stream",
     "text": [
      "ItemKNNCustomSimilarityRecommender: URM Detected 483 ( 3.8%) users with no interactions.\n",
      "ItemKNNCustomSimilarityRecommender: URM Detected 358 ( 1.6%) items with no interactions.\n",
      "EvaluatorHoldout: Processed 10024 (100.0%) in 6.36 sec. Users per second: 1576\n"
     ]
    },
    {
     "name": "stderr",
     "output_type": "stream",
     "text": [
      "[I 2023-12-09 17:37:18,707] Trial 89 finished with value: 0.03044379600070965 and parameters: {'alpha': 0.0016910109186843536, 'beta': 0.6570024477547268}. Best is trial 63 with value: 0.030517753423529817.\n"
     ]
    },
    {
     "name": "stdout",
     "output_type": "stream",
     "text": [
      "ItemKNNCustomSimilarityRecommender: URM Detected 483 ( 3.8%) users with no interactions.\n",
      "ItemKNNCustomSimilarityRecommender: URM Detected 358 ( 1.6%) items with no interactions.\n",
      "EvaluatorHoldout: Processed 10024 (100.0%) in 6.49 sec. Users per second: 1544\n"
     ]
    },
    {
     "name": "stderr",
     "output_type": "stream",
     "text": [
      "[I 2023-12-09 17:37:25,301] Trial 90 finished with value: 0.030082132247685082 and parameters: {'alpha': 0.09641778335224874, 'beta': 0.6318975593810962}. Best is trial 63 with value: 0.030517753423529817.\n"
     ]
    },
    {
     "name": "stdout",
     "output_type": "stream",
     "text": [
      "ItemKNNCustomSimilarityRecommender: URM Detected 483 ( 3.8%) users with no interactions.\n",
      "ItemKNNCustomSimilarityRecommender: URM Detected 358 ( 1.6%) items with no interactions.\n",
      "EvaluatorHoldout: Processed 10024 (100.0%) in 6.56 sec. Users per second: 1528\n"
     ]
    },
    {
     "name": "stderr",
     "output_type": "stream",
     "text": [
      "[I 2023-12-09 17:37:31,957] Trial 91 finished with value: 0.030353041589075248 and parameters: {'alpha': 0.0625675787492498, 'beta': 0.6011042655164204}. Best is trial 63 with value: 0.030517753423529817.\n"
     ]
    },
    {
     "name": "stdout",
     "output_type": "stream",
     "text": [
      "ItemKNNCustomSimilarityRecommender: URM Detected 483 ( 3.8%) users with no interactions.\n",
      "ItemKNNCustomSimilarityRecommender: URM Detected 358 ( 1.6%) items with no interactions.\n",
      "EvaluatorHoldout: Processed 10024 (100.0%) in 6.61 sec. Users per second: 1518\n"
     ]
    },
    {
     "name": "stderr",
     "output_type": "stream",
     "text": [
      "[I 2023-12-09 17:37:38,683] Trial 92 finished with value: 0.030400507037079524 and parameters: {'alpha': 0.02274856756936834, 'beta': 0.533740999292598}. Best is trial 63 with value: 0.030517753423529817.\n"
     ]
    },
    {
     "name": "stdout",
     "output_type": "stream",
     "text": [
      "ItemKNNCustomSimilarityRecommender: URM Detected 483 ( 3.8%) users with no interactions.\n",
      "ItemKNNCustomSimilarityRecommender: URM Detected 358 ( 1.6%) items with no interactions.\n",
      "EvaluatorHoldout: Processed 10024 (100.0%) in 6.47 sec. Users per second: 1549\n"
     ]
    },
    {
     "name": "stderr",
     "output_type": "stream",
     "text": [
      "[I 2023-12-09 17:37:45,280] Trial 93 finished with value: 0.03036036924080638 and parameters: {'alpha': 0.045494749265711565, 'beta': 0.5697202480472343}. Best is trial 63 with value: 0.030517753423529817.\n"
     ]
    },
    {
     "name": "stdout",
     "output_type": "stream",
     "text": [
      "ItemKNNCustomSimilarityRecommender: URM Detected 483 ( 3.8%) users with no interactions.\n",
      "ItemKNNCustomSimilarityRecommender: URM Detected 358 ( 1.6%) items with no interactions.\n",
      "EvaluatorHoldout: Processed 10024 (100.0%) in 6.51 sec. Users per second: 1540\n"
     ]
    },
    {
     "name": "stderr",
     "output_type": "stream",
     "text": [
      "[I 2023-12-09 17:37:51,887] Trial 94 finished with value: 0.030500429920571843 and parameters: {'alpha': 0.003254409901740395, 'beta': 0.6434808929210462}. Best is trial 63 with value: 0.030517753423529817.\n"
     ]
    },
    {
     "name": "stdout",
     "output_type": "stream",
     "text": [
      "ItemKNNCustomSimilarityRecommender: URM Detected 483 ( 3.8%) users with no interactions.\n",
      "ItemKNNCustomSimilarityRecommender: URM Detected 358 ( 1.6%) items with no interactions.\n",
      "EvaluatorHoldout: Processed 10024 (100.0%) in 6.36 sec. Users per second: 1576\n"
     ]
    },
    {
     "name": "stderr",
     "output_type": "stream",
     "text": [
      "[I 2023-12-09 17:37:58,379] Trial 95 finished with value: 0.030052069477698187 and parameters: {'alpha': 0.07052507891246548, 'beta': 0.7265044660508864}. Best is trial 63 with value: 0.030517753423529817.\n"
     ]
    },
    {
     "name": "stdout",
     "output_type": "stream",
     "text": [
      "ItemKNNCustomSimilarityRecommender: URM Detected 483 ( 3.8%) users with no interactions.\n",
      "ItemKNNCustomSimilarityRecommender: URM Detected 358 ( 1.6%) items with no interactions.\n",
      "EvaluatorHoldout: Processed 10024 (100.0%) in 6.43 sec. Users per second: 1559\n"
     ]
    },
    {
     "name": "stderr",
     "output_type": "stream",
     "text": [
      "[I 2023-12-09 17:38:04,933] Trial 96 finished with value: 0.030445304285587872 and parameters: {'alpha': 0.0005550254372988881, 'beta': 0.6837297384923681}. Best is trial 63 with value: 0.030517753423529817.\n"
     ]
    },
    {
     "name": "stdout",
     "output_type": "stream",
     "text": [
      "ItemKNNCustomSimilarityRecommender: URM Detected 483 ( 3.8%) users with no interactions.\n",
      "ItemKNNCustomSimilarityRecommender: URM Detected 358 ( 1.6%) items with no interactions.\n",
      "EvaluatorHoldout: Processed 10024 (100.0%) in 6.52 sec. Users per second: 1537\n"
     ]
    },
    {
     "name": "stderr",
     "output_type": "stream",
     "text": [
      "[I 2023-12-09 17:38:11,563] Trial 97 finished with value: 0.030376311138980927 and parameters: {'alpha': 0.03942682611035651, 'beta': 0.6479476699558064}. Best is trial 63 with value: 0.030517753423529817.\n"
     ]
    },
    {
     "name": "stdout",
     "output_type": "stream",
     "text": [
      "ItemKNNCustomSimilarityRecommender: URM Detected 483 ( 3.8%) users with no interactions.\n",
      "ItemKNNCustomSimilarityRecommender: URM Detected 358 ( 1.6%) items with no interactions.\n",
      "EvaluatorHoldout: Processed 10024 (100.0%) in 6.78 sec. Users per second: 1479\n"
     ]
    },
    {
     "name": "stderr",
     "output_type": "stream",
     "text": [
      "[I 2023-12-09 17:38:18,470] Trial 98 finished with value: 0.02987847024284596 and parameters: {'alpha': 0.09505308486222877, 'beta': 0.7014887379719245}. Best is trial 63 with value: 0.030517753423529817.\n"
     ]
    },
    {
     "name": "stdout",
     "output_type": "stream",
     "text": [
      "ItemKNNCustomSimilarityRecommender: URM Detected 483 ( 3.8%) users with no interactions.\n",
      "ItemKNNCustomSimilarityRecommender: URM Detected 358 ( 1.6%) items with no interactions.\n",
      "EvaluatorHoldout: Processed 10024 (100.0%) in 6.69 sec. Users per second: 1498\n"
     ]
    },
    {
     "name": "stderr",
     "output_type": "stream",
     "text": [
      "[I 2023-12-09 17:38:25,274] Trial 99 finished with value: 0.030470846159693234 and parameters: {'alpha': 0.018462594680569173, 'beta': 0.6129803468459561}. Best is trial 63 with value: 0.030517753423529817.\n"
     ]
    }
   ],
   "source": [
    "best_params = {\n",
    "}\n",
    "study_name = \"cust-sim-study\"  # Unique identifier of the study.\n",
    "storage_name = \"sqlite:///db.db\"\n",
    "study = op.create_study(study_name=study_name, storage=storage_name, direction=\"maximize\", load_if_exists=True)\n",
    "#study.enqueue_trial(best_params)\n",
    "study.optimize(objective, n_trials=100)"
   ],
   "metadata": {
    "collapsed": false,
    "ExecuteTime": {
     "end_time": "2023-12-09T16:38:25.297111304Z",
     "start_time": "2023-12-09T16:27:04.033299624Z"
    }
   },
   "id": "c5b8a36d4aed08fc"
  },
  {
   "cell_type": "code",
   "execution_count": 7,
   "outputs": [
    {
     "data": {
      "text/plain": "{'alpha': 0.10204960939360941}"
     },
     "execution_count": 7,
     "metadata": {},
     "output_type": "execute_result"
    }
   ],
   "source": [
    "study.best_params"
   ],
   "metadata": {
    "collapsed": false,
    "ExecuteTime": {
     "end_time": "2023-12-09T00:11:43.906381890Z",
     "start_time": "2023-12-09T00:11:43.865143011Z"
    }
   },
   "id": "f18968c2188a349a"
  },
  {
   "cell_type": "code",
   "execution_count": 10,
   "outputs": [
    {
     "name": "stdout",
     "output_type": "stream",
     "text": [
      "ItemKNNCustomSimilarityRecommender: URM Detected 451 ( 3.6%) users with no interactions.\n",
      "ItemKNNCustomSimilarityRecommender: URM Detected 356 ( 1.6%) items with no interactions.\n",
      "EvaluatorHoldout: Ignoring 2137 (16.9%) Users that have less than 1 test interactions\n",
      "EvaluatorHoldout: Ignoring 0 Users\n",
      "EvaluatorHoldout: Processed 10501 (100.0%) in 6.86 sec. Users per second: 1532\n"
     ]
    },
    {
     "data": {
      "text/plain": "(       PRECISION PRECISION_RECALL_MIN_DEN    RECALL       MAP MAP_MIN_DEN  \\\n cutoff                                                                      \n 10      0.078231                 0.137502  0.117368  0.037575    0.066342   \n \n              MRR      NDCG        F1  HIT_RATE ARHR_ALL_HITS  ...  \\\n cutoff                                                        ...   \n 10      0.229908  0.123998  0.093884  0.466908      0.292136  ...   \n \n        COVERAGE_USER COVERAGE_USER_HIT USERS_IN_GT DIVERSITY_GINI  \\\n cutoff                                                              \n 10          0.830907          0.387957    0.830907        0.04454   \n \n        SHANNON_ENTROPY RATIO_DIVERSITY_HERFINDAHL RATIO_DIVERSITY_GINI  \\\n cutoff                                                                   \n 10            9.767962                    0.99654             0.129436   \n \n        RATIO_SHANNON_ENTROPY RATIO_AVERAGE_POPULARITY RATIO_NOVELTY  \n cutoff                                                               \n 10                  0.753235                 2.188216      0.348298  \n \n [1 rows x 27 columns],\n 'CUTOFF: 10 - PRECISION: 0.0782306, PRECISION_RECALL_MIN_DEN: 0.1375022, RECALL: 0.1173681, MAP: 0.0375748, MAP_MIN_DEN: 0.0663424, MRR: 0.2299081, NDCG: 0.1239983, F1: 0.0938838, HIT_RATE: 0.4669079, ARHR_ALL_HITS: 0.2921362, NOVELTY: 0.0049276, AVERAGE_POPULARITY: 0.2690360, DIVERSITY_MEAN_INTER_LIST: 0.9618707, DIVERSITY_HERFINDAHL: 0.9961779, COVERAGE_ITEM: 0.2700477, COVERAGE_ITEM_HIT: 0.0692107, ITEMS_IN_GT: 0.7978130, COVERAGE_USER: 0.8309068, COVERAGE_USER_HIT: 0.3879570, USERS_IN_GT: 0.8309068, DIVERSITY_GINI: 0.0445399, SHANNON_ENTROPY: 9.7679618, RATIO_DIVERSITY_HERFINDAHL: 0.9965397, RATIO_DIVERSITY_GINI: 0.1294356, RATIO_SHANNON_ENTROPY: 0.7532351, RATIO_AVERAGE_POPULARITY: 2.1882164, RATIO_NOVELTY: 0.3482981, \\n')"
     },
     "execution_count": 10,
     "metadata": {},
     "output_type": "execute_result"
    }
   ],
   "source": [
    "new_similarity = (1 - 0.10204960939360941) * slim.W_sparse + 0.10204960939360941 * item.W_sparse\n",
    "recommender = model(URM_train)\n",
    "evaluator_test = EvaluatorHoldout(URM_test, cutoff_list=[10], ignore_users=[])\n",
    "recommender.fit(W_sparse=new_similarity)\n",
    "evaluator_test.evaluateRecommender(recommender)"
   ],
   "metadata": {
    "collapsed": false,
    "ExecuteTime": {
     "end_time": "2023-12-09T00:13:15.506264641Z",
     "start_time": "2023-12-09T00:13:08.594143129Z"
    }
   },
   "id": "7ae12a0ef4bc0baa"
  },
  {
   "cell_type": "code",
   "execution_count": 11,
   "outputs": [
    {
     "name": "stdout",
     "output_type": "stream",
     "text": [
      "EvaluatorHoldout: Ignoring 2137 (16.9%) Users that have less than 1 test interactions\n",
      "EvaluatorHoldout: Ignoring 0 Users\n",
      "EvaluatorHoldout: Processed 10501 (100.0%) in 6.83 sec. Users per second: 1538\n"
     ]
    },
    {
     "data": {
      "text/plain": "(       PRECISION PRECISION_RECALL_MIN_DEN    RECALL       MAP MAP_MIN_DEN  \\\n cutoff                                                                      \n 10      0.077831                 0.135528  0.115191  0.037798    0.066234   \n \n              MRR      NDCG        F1  HIT_RATE ARHR_ALL_HITS  ...  \\\n cutoff                                                        ...   \n 10      0.231465  0.123572  0.092895  0.464146      0.293879  ...   \n \n        COVERAGE_USER COVERAGE_USER_HIT USERS_IN_GT DIVERSITY_GINI  \\\n cutoff                                                              \n 10          0.830907          0.385662    0.830907       0.050025   \n \n        SHANNON_ENTROPY RATIO_DIVERSITY_HERFINDAHL RATIO_DIVERSITY_GINI  \\\n cutoff                                                                   \n 10           10.028651                   0.997428             0.145375   \n \n        RATIO_SHANNON_ENTROPY RATIO_AVERAGE_POPULARITY RATIO_NOVELTY  \n cutoff                                                               \n 10                  0.773338                 1.982242      0.353503  \n \n [1 rows x 27 columns],\n 'CUTOFF: 10 - PRECISION: 0.0778307, PRECISION_RECALL_MIN_DEN: 0.1355284, RECALL: 0.1151909, MAP: 0.0377978, MAP_MIN_DEN: 0.0662342, MRR: 0.2314645, NDCG: 0.1235722, F1: 0.0928952, HIT_RATE: 0.4641463, ARHR_ALL_HITS: 0.2938791, NOVELTY: 0.0050012, AVERAGE_POPULARITY: 0.2437119, DIVERSITY_MEAN_INTER_LIST: 0.9707562, DIVERSITY_HERFINDAHL: 0.9970664, COVERAGE_ITEM: 0.2818378, COVERAGE_ITEM_HIT: 0.0733507, ITEMS_IN_GT: 0.7978130, COVERAGE_USER: 0.8309068, COVERAGE_USER_HIT: 0.3856623, USERS_IN_GT: 0.8309068, DIVERSITY_GINI: 0.0500249, SHANNON_ENTROPY: 10.0286509, RATIO_DIVERSITY_HERFINDAHL: 0.9974285, RATIO_DIVERSITY_GINI: 0.1453754, RATIO_SHANNON_ENTROPY: 0.7733375, RATIO_AVERAGE_POPULARITY: 1.9822418, RATIO_NOVELTY: 0.3535027, \\n')"
     },
     "execution_count": 11,
     "metadata": {},
     "output_type": "execute_result"
    }
   ],
   "source": [
    "from Evaluation.Evaluator import EvaluatorHoldout\n",
    "evaluator_test = EvaluatorHoldout(URM_test, cutoff_list=[10], ignore_users=[])\n",
    "evaluator_test.evaluateRecommender(slim)"
   ],
   "metadata": {
    "collapsed": false,
    "ExecuteTime": {
     "end_time": "2023-12-09T00:13:45.018964694Z",
     "start_time": "2023-12-09T00:13:38.158478211Z"
    }
   },
   "id": "1a0a3570fbcb348b"
  },
  {
   "cell_type": "code",
   "execution_count": null,
   "outputs": [],
   "source": [
    "## MAP_MIN_DEN = .0822900 ## MAP = 0.0483066 the best 0.139"
   ],
   "metadata": {
    "collapsed": false
   },
   "id": "3cdf5d82e17bdf89"
  },
  {
   "cell_type": "code",
   "execution_count": null,
   "outputs": [],
   "source": [
    "## MAP_MIN_DEN = .0845288 ## MAP = 0.0495724 second 0.135"
   ],
   "metadata": {
    "collapsed": false
   },
   "id": "4073b54127eeda48"
  },
  {
   "cell_type": "code",
   "execution_count": null,
   "outputs": [],
   "source": [
    "## MAP_MIN_DEN = .0846506 ## MAP = 0.0496060 third "
   ],
   "metadata": {
    "collapsed": false
   },
   "id": "1f7312f3e9dda72e"
  }
 ],
 "metadata": {
  "kernelspec": {
   "display_name": "Python 3",
   "language": "python",
   "name": "python3"
  },
  "language_info": {
   "codemirror_mode": {
    "name": "ipython",
    "version": 2
   },
   "file_extension": ".py",
   "mimetype": "text/x-python",
   "name": "python",
   "nbconvert_exporter": "python",
   "pygments_lexer": "ipython2",
   "version": "2.7.6"
  }
 },
 "nbformat": 4,
 "nbformat_minor": 5
}
