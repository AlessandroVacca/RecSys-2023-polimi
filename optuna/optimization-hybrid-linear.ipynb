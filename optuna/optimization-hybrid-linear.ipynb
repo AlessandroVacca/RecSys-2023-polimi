{
 "cells": [
  {
   "cell_type": "code",
   "execution_count": 4,
   "id": "initial_id",
   "metadata": {
    "collapsed": true,
    "jupyter": {
     "outputs_hidden": true
    },
    "ExecuteTime": {
     "end_time": "2023-12-21T17:49:28.655326Z",
     "start_time": "2023-12-21T17:49:27.453176Z"
    }
   },
   "outputs": [
    {
     "name": "stdout",
     "output_type": "stream",
     "text": [
      "Warning: 208 (1.65 %) of 12638 users have no train items\n",
      "Warning: 2200 (17.41 %) of 12638 users have no sampled items\n"
     ]
    }
   ],
   "source": [
    "from Data_manager.UserUtils import *\n",
    "from Data_manager.split_functions.split_train_validation_random_holdout import \\\n",
    "    split_train_in_two_percentage_global_sample\n",
    "URM_all = getURM_all()\n",
    "URM_train, URM_validation = split_train_in_two_percentage_global_sample(URM_all, train_percentage = 0.80)"
   ]
  },
  {
   "cell_type": "code",
   "execution_count": 5,
   "outputs": [
    {
     "name": "stdout",
     "output_type": "stream",
     "text": [
      "EvaluatorHoldout: Ignoring 2200 (17.4%) Users that have less than 1 test interactions\n",
      "EvaluatorHoldout: Ignoring 0 Users\n"
     ]
    }
   ],
   "source": [
    "from Hybrid import *\n",
    "model = ScoresHybridRecommender\n",
    "\n",
    "from Evaluation.Evaluator import EvaluatorHoldout\n",
    "evaluator_validation = EvaluatorHoldout(URM_validation, cutoff_list=[10], ignore_users=[])"
   ],
   "metadata": {
    "collapsed": false,
    "ExecuteTime": {
     "end_time": "2023-12-21T17:49:30.337884Z",
     "start_time": "2023-12-21T17:49:30.330010Z"
    }
   },
   "id": "eeee21ee8f3d4f42"
  },
  {
   "cell_type": "code",
   "execution_count": 7,
   "id": "8a9fec0ccc4f11c5",
   "metadata": {
    "collapsed": false,
    "ExecuteTime": {
     "end_time": "2023-12-21T17:54:20.715450Z",
     "start_time": "2023-12-21T17:49:41.246620Z"
    }
   },
   "outputs": [
    {
     "name": "stdout",
     "output_type": "stream",
     "text": [
      "SLIMElasticNetRecommender: URM Detected 208 ( 1.6%) users with no interactions.\n",
      "SLIMElasticNetRecommender: URM Detected 108 ( 0.5%) items with no interactions.\n",
      "RP3betaRecommender: URM Detected 208 ( 1.6%) users with no interactions.\n",
      "RP3betaRecommender: URM Detected 108 ( 0.5%) items with no interactions.\n",
      "ItemKNNCFRecommender: URM Detected 208 ( 1.6%) users with no interactions.\n",
      "ItemKNNCFRecommender: URM Detected 108 ( 0.5%) items with no interactions.\n",
      "SLIMElasticNetRecommender: Processed 22222 (100.0%) in 4.56 min. Items per second: 81.17\n",
      "RP3betaRecommender: Similarity column 22222 (100.0%), 7305.73 column/sec. Elapsed time 3.04 sec\n",
      "Similarity column 22222 (100.0%), 9992.13 column/sec. Elapsed time 2.22 sec\n",
      "ScoresHybridRecommender: URM Detected 208 ( 1.6%) users with no interactions.\n",
      "ScoresHybridRecommender: URM Detected 108 ( 0.5%) items with no interactions.\n",
      "EvaluatorHoldout: Ignoring 2200 (17.4%) Users that have less than 1 test interactions\n",
      "EvaluatorHoldout: Ignoring 0 Users\n"
     ]
    }
   ],
   "source": [
    "from Recommenders.KNN.ItemKNNCFRecommender import ItemKNNCFRecommender\n",
    "from Hybrid import LinearHybridRecommender, LinearZScoreNormalizedHybridRecommender\n",
    "from Recommenders.GraphBased.RP3betaRecommender import RP3betaRecommender\n",
    "from Recommenders.SLIM.SLIMElasticNetRecommender import SLIMElasticNetRecommender\n",
    "\n",
    "model = LinearHybridRecommender\n",
    "slim = SLIMElasticNetRecommender(URM_train)\n",
    "rp3 = RP3betaRecommender(URM_train)\n",
    "itemknn = ItemKNNCFRecommender(URM_train)\n",
    "slim.fit(topK=8894, l1_ratio=0.05565733019999427, alpha=0.0012979360257937668)\n",
    "rp3.fit(topK=32, alpha=0.22028996694465927, beta=0.17339063177346345)\n",
    "#rp3.fit(topK=101, alpha=0.3026342852596128, beta=0.058468783118329024)\n",
    "itemknn.fit(topK=31, shrink=435, similarity='tversky', normalize=True,\n",
    "                                       feature_weighting='BM25', tversky_alpha=0.17113169506422393, tversky_beta=0.5684024974085575)\n",
    "hybrid_1 = ScoresHybridRecommender(URM_train, slim, rp3, itemknn)\n",
    "hybrid_1.fit(alpha=0.5072513954300486, beta=0.30902582824263064)\n",
    "from Evaluation.Evaluator import EvaluatorHoldout\n",
    "evaluator_validation = EvaluatorHoldout(URM_validation, cutoff_list=[10], ignore_users=[])"
   ]
  },
  {
   "cell_type": "code",
   "execution_count": 8,
   "outputs": [
    {
     "name": "stdout",
     "output_type": "stream",
     "text": [
      "EASE_R_Recommender: URM Detected 208 ( 1.6%) users with no interactions.\n",
      "EASE_R_Recommender: URM Detected 108 ( 0.5%) items with no interactions.\n",
      "EASE_R_Recommender: Fitting model... \n",
      "EASE_R_Recommender: Fitting model... done in 2.15 min\n",
      "SLIMElasticNetRP3betaItemKNNCFEASE_R_HybridRecommender: URM Detected 208 ( 1.6%) users with no interactions.\n",
      "SLIMElasticNetRP3betaItemKNNCFEASE_R_HybridRecommender: URM Detected 108 ( 0.5%) items with no interactions.\n"
     ]
    }
   ],
   "source": [
    "from Recommenders.EASE_R.EASE_R_Recommender import EASE_R_Recommender\n",
    "\n",
    "ease = EASE_R_Recommender(URM_train)\n",
    "ease.fit(topK=24, l2_norm=37.54323189430143)\n",
    "hybrid_2 = LinearHybridRecommender(URM_train, [slim, rp3, itemknn, ease])\n",
    "hybrid_2.fit(alphas=[0.8857667100747117, 0.6379807942443021, 0.0690929184825888, 0.11953478623354052])"
   ],
   "metadata": {
    "collapsed": false,
    "ExecuteTime": {
     "end_time": "2023-12-21T17:56:48.289066Z",
     "start_time": "2023-12-21T17:54:29.146904Z"
    }
   },
   "id": "9e3209a88de76587"
  },
  {
   "cell_type": "code",
   "execution_count": 9,
   "id": "b826576f6714c764",
   "metadata": {
    "collapsed": false,
    "ExecuteTime": {
     "end_time": "2023-12-21T17:57:27.933645Z",
     "start_time": "2023-12-21T17:57:27.642546Z"
    }
   },
   "outputs": [],
   "source": [
    "import optuna as op\n",
    "def objective(trial):\n",
    "    alpha = trial.suggest_float(\"alpha\", 0.0, 1.0)\n",
    "    \n",
    "    recommender = TwoScoresHybridRecommender(URM_train, hybrid_2, hybrid_1)\n",
    "    recommender.fit(alpha=alpha)\n",
    "    \n",
    "    result, _ = evaluator_validation.evaluateRecommender(recommender)\n",
    "    MAP_result = result[\"MAP\"].item()\n",
    "       \n",
    "    return MAP_result"
   ]
  },
  {
   "cell_type": "code",
   "execution_count": null,
   "id": "c5b8a36d4aed08fc",
   "metadata": {
    "collapsed": false
   },
   "outputs": [],
   "source": [
    "best_params = {\n",
    "    \"alphas\": [1, 1, 1],\n",
    "}\n",
    "\n",
    "study_name = \"nested-hybrids-study\"  # Unique identifier of the study.\n",
    "storage_name = \"sqlite:///db.db\"\n",
    "study = op.create_study(study_name=study_name, storage=storage_name, direction=\"maximize\", load_if_exists=True)\n",
    "#study.enqueue_trial(best_params)\n",
    "study.optimize(objective, n_trials=100)"
   ]
  },
  {
   "cell_type": "code",
   "execution_count": 16,
   "id": "f18968c2188a349a",
   "metadata": {
    "collapsed": false,
    "ExecuteTime": {
     "end_time": "2023-12-15T23:45:03.071212760Z",
     "start_time": "2023-12-15T23:45:02.986868941Z"
    }
   },
   "outputs": [
    {
     "data": {
      "text/plain": "{'alpha': 0.5072513954300486, 'beta': 0.30902582824263064}"
     },
     "execution_count": 16,
     "metadata": {},
     "output_type": "execute_result"
    }
   ],
   "source": [
    "study.best_params"
   ]
  },
  {
   "cell_type": "code",
   "execution_count": 17,
   "outputs": [
    {
     "name": "stdout",
     "output_type": "stream",
     "text": [
      "ScoresHybridRecommender: URM Detected 219 ( 1.7%) users with no interactions.\n",
      "ScoresHybridRecommender: URM Detected 132 ( 0.6%) items with no interactions.\n"
     ]
    }
   ],
   "source": [
    "final = ScoresHybridRecommender(URM_train_validation, slim, rp3, itemknn)\n",
    "final.fit(**study.best_params)"
   ],
   "metadata": {
    "collapsed": false,
    "ExecuteTime": {
     "end_time": "2023-12-15T23:45:51.406536031Z",
     "start_time": "2023-12-15T23:45:51.316634034Z"
    }
   },
   "id": "598a6af814915992"
  },
  {
   "cell_type": "code",
   "execution_count": 11,
   "outputs": [
    {
     "name": "stdout",
     "output_type": "stream",
     "text": [
      "UserKNNCFRecommender: URM Detected 208 ( 1.6%) users with no interactions.\n",
      "UserKNNCFRecommender: URM Detected 108 ( 0.5%) items with no interactions.\n",
      "Similarity column 12638 (100.0%), 10007.60 column/sec. Elapsed time 1.26 sec\n"
     ]
    }
   ],
   "source": [
    "userknn = UserKNNCFRecommender(URM_train)\n",
    "userknn.fit(topK=469, shrink=38, similarity='asymmetric', normalize=True,\n",
    "                                       feature_weighting='TF-IDF', asymmetric_alpha=0.40077406933762383)"
   ],
   "metadata": {
    "collapsed": false,
    "ExecuteTime": {
     "end_time": "2023-12-21T23:34:38.312448Z",
     "start_time": "2023-12-21T23:34:36.947719Z"
    }
   },
   "id": "6c8df27dd21a2c7b"
  },
  {
   "cell_type": "code",
   "execution_count": 12,
   "outputs": [],
   "source": [
    "import optuna as op\n",
    "def objective(trial):\n",
    "    alpha = trial.suggest_float(\"alpha\", 0.0, 1.0)\n",
    "    \n",
    "    recommender = TwoScoresHybridRecommender(URM_train, userknn, itemknn)\n",
    "    recommender.fit(alpha=alpha)\n",
    "    \n",
    "    result, _ = evaluator_validation.evaluateRecommender(recommender)\n",
    "    MAP_result = result[\"MAP\"].item()\n",
    "       \n",
    "    return MAP_result"
   ],
   "metadata": {
    "collapsed": false,
    "ExecuteTime": {
     "end_time": "2023-12-21T23:34:43.341999Z",
     "start_time": "2023-12-21T23:34:43.340617Z"
    }
   },
   "id": "f800731818a98c7d"
  },
  {
   "cell_type": "code",
   "execution_count": 14,
   "outputs": [
    {
     "data": {
      "text/plain": "(array([36, 30,  2, ...,  5, 17, 46], dtype=int32), (12638,))"
     },
     "execution_count": 14,
     "metadata": {},
     "output_type": "execute_result"
    }
   ],
   "source": [
    "import numpy as np \n",
    "import scipy.sparse as sps\n",
    "profile_length = np.ediff1d(sps.csr_matrix(URM_train).indptr)\n",
    "\n",
    "#profile_length = np.ediff1d(sps.csr_matrix(URM_train_validation).indptr)\n",
    "profile_length, profile_length.shape"
   ],
   "metadata": {
    "collapsed": false,
    "ExecuteTime": {
     "end_time": "2023-12-21T23:37:48.910733Z",
     "start_time": "2023-12-21T23:37:48.907027Z"
    }
   },
   "id": "cffb3c9ed23ac1cb"
  },
  {
   "cell_type": "code",
   "execution_count": 24,
   "outputs": [
    {
     "name": "stdout",
     "output_type": "stream",
     "text": [
      "EvaluatorHoldout: Ignoring 2200 (17.4%) Users that have less than 1 test interactions\n",
      "EvaluatorHoldout: Ignoring 10040 Users\n"
     ]
    }
   ],
   "source": [
    "# PROFILE LENGTH BASED GROUPING\n",
    "from Evaluation.Evaluator import EvaluatorHoldout\n",
    "import numpy as np\n",
    "\n",
    "MAP_recommender_per_group = {}\n",
    "cutoff = 10\n",
    "threshold = 4\n",
    "\n",
    "# Select users whose profile length is less than the cutoff for the group and greater than or equal to the cutoff for the previous group\n",
    "\n",
    "users_in_group_flag = profile_length < threshold\n",
    "users_in_group = np.arange(len(profile_length))[users_in_group_flag]\n",
    "\n",
    "users_in_group_p_len = profile_length[users_in_group]\n",
    "\n",
    "# Select users not in the current group\n",
    "users_not_in_group_flag = np.isin(np.arange(len(profile_length)), users_in_group, invert=True)\n",
    "users_not_in_group = np.arange(len(profile_length))[users_not_in_group_flag]\n",
    "\n",
    "evaluator_validation = EvaluatorHoldout(URM_validation, cutoff_list=[cutoff], ignore_users=users_not_in_group)\n"
   ],
   "metadata": {
    "collapsed": false,
    "ExecuteTime": {
     "end_time": "2023-12-22T00:45:05.085584Z",
     "start_time": "2023-12-22T00:45:05.077455Z"
    }
   },
   "id": "e28b5a971fb569de"
  },
  {
   "cell_type": "code",
   "execution_count": 25,
   "outputs": [
    {
     "name": "stderr",
     "output_type": "stream",
     "text": [
      "/var/folders/l3/n3yjvx_d2g9dy0ztkyft2th40000gn/T/ipykernel_78705/1549462082.py:3: FutureWarning: delete_study(): Please give all values as keyword arguments. See https://github.com/optuna/optuna/issues/3324 for details.\n",
      "  op.delete_study(study_name, storage_name)\n",
      "[I 2023-12-22 01:45:12,575] A new study created in RDB with name: KNN-study\n"
     ]
    },
    {
     "name": "stdout",
     "output_type": "stream",
     "text": [
      "TwoScoresHybridRecommender: URM Detected 208 ( 1.6%) users with no interactions.\n",
      "TwoScoresHybridRecommender: URM Detected 108 ( 0.5%) items with no interactions.\n",
      "EvaluatorHoldout: Processed 1141 (100.0%) in 0.58 sec. Users per second: 1958\n"
     ]
    },
    {
     "name": "stderr",
     "output_type": "stream",
     "text": [
      "[I 2023-12-22 01:45:13,191] Trial 0 finished with value: 0.007551889876605028 and parameters: {'alpha': 0.8095870605372276}. Best is trial 0 with value: 0.007551889876605028.\n"
     ]
    },
    {
     "name": "stdout",
     "output_type": "stream",
     "text": [
      "TwoScoresHybridRecommender: URM Detected 208 ( 1.6%) users with no interactions.\n",
      "TwoScoresHybridRecommender: URM Detected 108 ( 0.5%) items with no interactions.\n",
      "EvaluatorHoldout: Processed 1141 (100.0%) in 0.51 sec. Users per second: 2252\n"
     ]
    },
    {
     "name": "stderr",
     "output_type": "stream",
     "text": [
      "[I 2023-12-22 01:45:13,723] Trial 1 finished with value: 0.007551994212818041 and parameters: {'alpha': 0.05084823895978796}. Best is trial 1 with value: 0.007551994212818041.\n"
     ]
    },
    {
     "name": "stdout",
     "output_type": "stream",
     "text": [
      "TwoScoresHybridRecommender: URM Detected 208 ( 1.6%) users with no interactions.\n",
      "TwoScoresHybridRecommender: URM Detected 108 ( 0.5%) items with no interactions.\n",
      "EvaluatorHoldout: Processed 1141 (100.0%) in 0.50 sec. Users per second: 2272\n"
     ]
    },
    {
     "name": "stderr",
     "output_type": "stream",
     "text": [
      "[I 2023-12-22 01:45:14,248] Trial 2 finished with value: 0.007721957903815912 and parameters: {'alpha': 0.01354362641773832}. Best is trial 2 with value: 0.007721957903815912.\n"
     ]
    },
    {
     "name": "stdout",
     "output_type": "stream",
     "text": [
      "TwoScoresHybridRecommender: URM Detected 208 ( 1.6%) users with no interactions.\n",
      "TwoScoresHybridRecommender: URM Detected 108 ( 0.5%) items with no interactions.\n",
      "EvaluatorHoldout: Processed 1141 (100.0%) in 0.51 sec. Users per second: 2218\n"
     ]
    },
    {
     "name": "stderr",
     "output_type": "stream",
     "text": [
      "[I 2023-12-22 01:45:14,785] Trial 3 finished with value: 0.007633759025082414 and parameters: {'alpha': 0.11021338048631868}. Best is trial 2 with value: 0.007721957903815912.\n"
     ]
    },
    {
     "name": "stdout",
     "output_type": "stream",
     "text": [
      "TwoScoresHybridRecommender: URM Detected 208 ( 1.6%) users with no interactions.\n",
      "TwoScoresHybridRecommender: URM Detected 108 ( 0.5%) items with no interactions.\n",
      "EvaluatorHoldout: Processed 1141 (100.0%) in 0.55 sec. Users per second: 2083\n"
     ]
    },
    {
     "name": "stderr",
     "output_type": "stream",
     "text": [
      "[I 2023-12-22 01:45:15,356] Trial 4 finished with value: 0.007590389939206756 and parameters: {'alpha': 0.06766941342954391}. Best is trial 2 with value: 0.007721957903815912.\n"
     ]
    },
    {
     "name": "stdout",
     "output_type": "stream",
     "text": [
      "TwoScoresHybridRecommender: URM Detected 208 ( 1.6%) users with no interactions.\n",
      "TwoScoresHybridRecommender: URM Detected 108 ( 0.5%) items with no interactions.\n",
      "EvaluatorHoldout: Processed 1141 (100.0%) in 0.57 sec. Users per second: 1988\n"
     ]
    },
    {
     "name": "stderr",
     "output_type": "stream",
     "text": [
      "[I 2023-12-22 01:45:15,955] Trial 5 finished with value: 0.007624438323386605 and parameters: {'alpha': 0.07909628018749926}. Best is trial 2 with value: 0.007721957903815912.\n"
     ]
    },
    {
     "name": "stdout",
     "output_type": "stream",
     "text": [
      "TwoScoresHybridRecommender: URM Detected 208 ( 1.6%) users with no interactions.\n",
      "TwoScoresHybridRecommender: URM Detected 108 ( 0.5%) items with no interactions.\n",
      "EvaluatorHoldout: Processed 1141 (100.0%) in 0.51 sec. Users per second: 2242\n"
     ]
    },
    {
     "name": "stderr",
     "output_type": "stream",
     "text": [
      "[I 2023-12-22 01:45:16,487] Trial 6 finished with value: 0.007567957653409002 and parameters: {'alpha': 0.046714940425615414}. Best is trial 2 with value: 0.007721957903815912.\n"
     ]
    },
    {
     "name": "stdout",
     "output_type": "stream",
     "text": [
      "TwoScoresHybridRecommender: URM Detected 208 ( 1.6%) users with no interactions.\n",
      "TwoScoresHybridRecommender: URM Detected 108 ( 0.5%) items with no interactions.\n",
      "EvaluatorHoldout: Processed 1141 (100.0%) in 0.51 sec. Users per second: 2230\n"
     ]
    },
    {
     "name": "stderr",
     "output_type": "stream",
     "text": [
      "[I 2023-12-22 01:45:17,033] Trial 7 finished with value: 0.007540691123074985 and parameters: {'alpha': 0.2893773802831767}. Best is trial 2 with value: 0.007721957903815912.\n"
     ]
    },
    {
     "name": "stdout",
     "output_type": "stream",
     "text": [
      "TwoScoresHybridRecommender: URM Detected 208 ( 1.6%) users with no interactions.\n",
      "TwoScoresHybridRecommender: URM Detected 108 ( 0.5%) items with no interactions.\n",
      "EvaluatorHoldout: Processed 1141 (100.0%) in 0.53 sec. Users per second: 2153\n"
     ]
    },
    {
     "name": "stderr",
     "output_type": "stream",
     "text": [
      "[I 2023-12-22 01:45:17,589] Trial 8 finished with value: 0.0075458035975126125 and parameters: {'alpha': 0.6012779871671948}. Best is trial 2 with value: 0.007721957903815912.\n"
     ]
    },
    {
     "name": "stdout",
     "output_type": "stream",
     "text": [
      "TwoScoresHybridRecommender: URM Detected 208 ( 1.6%) users with no interactions.\n",
      "TwoScoresHybridRecommender: URM Detected 108 ( 0.5%) items with no interactions.\n",
      "EvaluatorHoldout: Processed 1141 (100.0%) in 0.51 sec. Users per second: 2244\n"
     ]
    },
    {
     "name": "stderr",
     "output_type": "stream",
     "text": [
      "[I 2023-12-22 01:45:18,121] Trial 9 finished with value: 0.00754458634169413 and parameters: {'alpha': 0.6610008038352633}. Best is trial 2 with value: 0.007721957903815912.\n"
     ]
    },
    {
     "name": "stdout",
     "output_type": "stream",
     "text": [
      "TwoScoresHybridRecommender: URM Detected 208 ( 1.6%) users with no interactions.\n",
      "TwoScoresHybridRecommender: URM Detected 108 ( 0.5%) items with no interactions.\n",
      "EvaluatorHoldout: Processed 1141 (100.0%) in 0.51 sec. Users per second: 2248\n"
     ]
    },
    {
     "name": "stderr",
     "output_type": "stream",
     "text": [
      "[I 2023-12-22 01:45:18,655] Trial 10 finished with value: 0.007531926881181909 and parameters: {'alpha': 0.3395234865852632}. Best is trial 2 with value: 0.007721957903815912.\n"
     ]
    },
    {
     "name": "stdout",
     "output_type": "stream",
     "text": [
      "TwoScoresHybridRecommender: URM Detected 208 ( 1.6%) users with no interactions.\n",
      "TwoScoresHybridRecommender: URM Detected 108 ( 0.5%) items with no interactions.\n",
      "EvaluatorHoldout: Processed 1141 (100.0%) in 0.50 sec. Users per second: 2261\n"
     ]
    },
    {
     "name": "stderr",
     "output_type": "stream",
     "text": [
      "[I 2023-12-22 01:45:19,184] Trial 11 finished with value: 0.007545073244021524 and parameters: {'alpha': 0.2599737910928041}. Best is trial 2 with value: 0.007721957903815912.\n"
     ]
    },
    {
     "name": "stdout",
     "output_type": "stream",
     "text": [
      "TwoScoresHybridRecommender: URM Detected 208 ( 1.6%) users with no interactions.\n",
      "TwoScoresHybridRecommender: URM Detected 108 ( 0.5%) items with no interactions.\n",
      "EvaluatorHoldout: Processed 1141 (100.0%) in 0.51 sec. Users per second: 2227\n"
     ]
    },
    {
     "name": "stderr",
     "output_type": "stream",
     "text": [
      "[I 2023-12-22 01:45:19,721] Trial 12 finished with value: 0.007528275113726461 and parameters: {'alpha': 0.40955070091655854}. Best is trial 2 with value: 0.007721957903815912.\n"
     ]
    },
    {
     "name": "stdout",
     "output_type": "stream",
     "text": [
      "TwoScoresHybridRecommender: URM Detected 208 ( 1.6%) users with no interactions.\n",
      "TwoScoresHybridRecommender: URM Detected 108 ( 0.5%) items with no interactions.\n",
      "EvaluatorHoldout: Processed 1141 (100.0%) in 0.52 sec. Users per second: 2214\n"
     ]
    },
    {
     "name": "stderr",
     "output_type": "stream",
     "text": [
      "[I 2023-12-22 01:45:20,262] Trial 13 finished with value: 0.007530848740314111 and parameters: {'alpha': 0.204663636028375}. Best is trial 2 with value: 0.007721957903815912.\n"
     ]
    },
    {
     "name": "stdout",
     "output_type": "stream",
     "text": [
      "TwoScoresHybridRecommender: URM Detected 208 ( 1.6%) users with no interactions.\n",
      "TwoScoresHybridRecommender: URM Detected 108 ( 0.5%) items with no interactions.\n",
      "EvaluatorHoldout: Processed 1141 (100.0%) in 0.50 sec. Users per second: 2285\n"
     ]
    },
    {
     "name": "stderr",
     "output_type": "stream",
     "text": [
      "[I 2023-12-22 01:45:20,786] Trial 14 finished with value: 0.007528901131004538 and parameters: {'alpha': 0.19833949744153473}. Best is trial 2 with value: 0.007721957903815912.\n"
     ]
    },
    {
     "name": "stdout",
     "output_type": "stream",
     "text": [
      "TwoScoresHybridRecommender: URM Detected 208 ( 1.6%) users with no interactions.\n",
      "TwoScoresHybridRecommender: URM Detected 108 ( 0.5%) items with no interactions.\n",
      "EvaluatorHoldout: Processed 1141 (100.0%) in 0.50 sec. Users per second: 2291\n"
     ]
    },
    {
     "name": "stderr",
     "output_type": "stream",
     "text": [
      "[I 2023-12-22 01:45:21,309] Trial 15 finished with value: 0.007538500062601716 and parameters: {'alpha': 0.4441478018909519}. Best is trial 2 with value: 0.007721957903815912.\n"
     ]
    },
    {
     "name": "stdout",
     "output_type": "stream",
     "text": [
      "TwoScoresHybridRecommender: URM Detected 208 ( 1.6%) users with no interactions.\n",
      "TwoScoresHybridRecommender: URM Detected 108 ( 0.5%) items with no interactions.\n",
      "EvaluatorHoldout: Processed 1141 (100.0%) in 0.51 sec. Users per second: 2227\n"
     ]
    },
    {
     "name": "stderr",
     "output_type": "stream",
     "text": [
      "[I 2023-12-22 01:45:21,847] Trial 16 finished with value: 0.007592685335893041 and parameters: {'alpha': 0.021514739574408373}. Best is trial 2 with value: 0.007721957903815912.\n"
     ]
    },
    {
     "name": "stdout",
     "output_type": "stream",
     "text": [
      "TwoScoresHybridRecommender: URM Detected 208 ( 1.6%) users with no interactions.\n",
      "TwoScoresHybridRecommender: URM Detected 108 ( 0.5%) items with no interactions.\n",
      "EvaluatorHoldout: Processed 1141 (100.0%) in 0.52 sec. Users per second: 2200\n"
     ]
    },
    {
     "name": "stderr",
     "output_type": "stream",
     "text": [
      "[I 2023-12-22 01:45:22,391] Trial 17 finished with value: 0.007605831698732649 and parameters: {'alpha': 0.15342467436744708}. Best is trial 2 with value: 0.007721957903815912.\n"
     ]
    },
    {
     "name": "stdout",
     "output_type": "stream",
     "text": [
      "TwoScoresHybridRecommender: URM Detected 208 ( 1.6%) users with no interactions.\n",
      "TwoScoresHybridRecommender: URM Detected 108 ( 0.5%) items with no interactions.\n",
      "EvaluatorHoldout: Processed 1141 (100.0%) in 0.51 sec. Users per second: 2219\n"
     ]
    },
    {
     "name": "stderr",
     "output_type": "stream",
     "text": [
      "[I 2023-12-22 01:45:22,930] Trial 18 finished with value: 0.007605831698732649 and parameters: {'alpha': 0.15326951409151784}. Best is trial 2 with value: 0.007721957903815912.\n"
     ]
    },
    {
     "name": "stdout",
     "output_type": "stream",
     "text": [
      "TwoScoresHybridRecommender: URM Detected 208 ( 1.6%) users with no interactions.\n",
      "TwoScoresHybridRecommender: URM Detected 108 ( 0.5%) items with no interactions.\n",
      "EvaluatorHoldout: Processed 1141 (100.0%) in 0.51 sec. Users per second: 2242\n"
     ]
    },
    {
     "name": "stderr",
     "output_type": "stream",
     "text": [
      "[I 2023-12-22 01:45:23,464] Trial 19 finished with value: 0.007417122268130145 and parameters: {'alpha': 0.0014796838430597425}. Best is trial 2 with value: 0.007721957903815912.\n"
     ]
    },
    {
     "name": "stdout",
     "output_type": "stream",
     "text": [
      "TwoScoresHybridRecommender: URM Detected 208 ( 1.6%) users with no interactions.\n",
      "TwoScoresHybridRecommender: URM Detected 108 ( 0.5%) items with no interactions.\n",
      "EvaluatorHoldout: Processed 1141 (100.0%) in 0.50 sec. Users per second: 2285\n"
     ]
    },
    {
     "name": "stderr",
     "output_type": "stream",
     "text": [
      "[I 2023-12-22 01:45:23,986] Trial 20 finished with value: 0.007531926881181909 and parameters: {'alpha': 0.33671665671625384}. Best is trial 2 with value: 0.007721957903815912.\n"
     ]
    },
    {
     "name": "stdout",
     "output_type": "stream",
     "text": [
      "TwoScoresHybridRecommender: URM Detected 208 ( 1.6%) users with no interactions.\n",
      "TwoScoresHybridRecommender: URM Detected 108 ( 0.5%) items with no interactions.\n",
      "EvaluatorHoldout: Processed 1141 (100.0%) in 0.51 sec. Users per second: 2231\n"
     ]
    },
    {
     "name": "stderr",
     "output_type": "stream",
     "text": [
      "[I 2023-12-22 01:45:24,522] Trial 21 finished with value: 0.007637271677587178 and parameters: {'alpha': 0.12121169963884693}. Best is trial 2 with value: 0.007721957903815912.\n"
     ]
    },
    {
     "name": "stdout",
     "output_type": "stream",
     "text": [
      "TwoScoresHybridRecommender: URM Detected 208 ( 1.6%) users with no interactions.\n",
      "TwoScoresHybridRecommender: URM Detected 108 ( 0.5%) items with no interactions.\n",
      "EvaluatorHoldout: Processed 1141 (100.0%) in 0.51 sec. Users per second: 2255\n"
     ]
    },
    {
     "name": "stderr",
     "output_type": "stream",
     "text": [
      "[I 2023-12-22 01:45:25,053] Trial 22 finished with value: 0.007631289734707776 and parameters: {'alpha': 0.13575233915858223}. Best is trial 2 with value: 0.007721957903815912.\n"
     ]
    },
    {
     "name": "stdout",
     "output_type": "stream",
     "text": [
      "TwoScoresHybridRecommender: URM Detected 208 ( 1.6%) users with no interactions.\n",
      "TwoScoresHybridRecommender: URM Detected 108 ( 0.5%) items with no interactions.\n",
      "EvaluatorHoldout: Processed 1141 (100.0%) in 0.50 sec. Users per second: 2290\n"
     ]
    },
    {
     "name": "stderr",
     "output_type": "stream",
     "text": [
      "[I 2023-12-22 01:45:25,574] Trial 23 finished with value: 0.007543508200826332 and parameters: {'alpha': 0.23062635594945236}. Best is trial 2 with value: 0.007721957903815912.\n"
     ]
    },
    {
     "name": "stdout",
     "output_type": "stream",
     "text": [
      "TwoScoresHybridRecommender: URM Detected 208 ( 1.6%) users with no interactions.\n",
      "TwoScoresHybridRecommender: URM Detected 108 ( 0.5%) items with no interactions.\n",
      "EvaluatorHoldout: Processed 1141 (100.0%) in 0.52 sec. Users per second: 2193\n"
     ]
    },
    {
     "name": "stderr",
     "output_type": "stream",
     "text": [
      "[I 2023-12-22 01:45:26,120] Trial 24 finished with value: 0.007638488933405662 and parameters: {'alpha': 0.11778007520761824}. Best is trial 2 with value: 0.007721957903815912.\n"
     ]
    },
    {
     "name": "stdout",
     "output_type": "stream",
     "text": [
      "TwoScoresHybridRecommender: URM Detected 208 ( 1.6%) users with no interactions.\n",
      "TwoScoresHybridRecommender: URM Detected 108 ( 0.5%) items with no interactions.\n",
      "EvaluatorHoldout: Processed 1141 (100.0%) in 0.50 sec. Users per second: 2278\n"
     ]
    },
    {
     "name": "stderr",
     "output_type": "stream",
     "text": [
      "[I 2023-12-22 01:45:26,646] Trial 25 finished with value: 0.007431972789115637 and parameters: {'alpha': 0.0025627751894927216}. Best is trial 2 with value: 0.007721957903815912.\n"
     ]
    },
    {
     "name": "stdout",
     "output_type": "stream",
     "text": [
      "TwoScoresHybridRecommender: URM Detected 208 ( 1.6%) users with no interactions.\n",
      "TwoScoresHybridRecommender: URM Detected 108 ( 0.5%) items with no interactions.\n",
      "EvaluatorHoldout: Processed 1141 (100.0%) in 0.50 sec. Users per second: 2276\n"
     ]
    },
    {
     "name": "stderr",
     "output_type": "stream",
     "text": [
      "[I 2023-12-22 01:45:27,173] Trial 26 finished with value: 0.007637271677587178 and parameters: {'alpha': 0.12264267473892068}. Best is trial 2 with value: 0.007721957903815912.\n"
     ]
    },
    {
     "name": "stdout",
     "output_type": "stream",
     "text": [
      "TwoScoresHybridRecommender: URM Detected 208 ( 1.6%) users with no interactions.\n",
      "TwoScoresHybridRecommender: URM Detected 108 ( 0.5%) items with no interactions.\n",
      "EvaluatorHoldout: Processed 1141 (100.0%) in 0.50 sec. Users per second: 2266\n"
     ]
    },
    {
     "name": "stderr",
     "output_type": "stream",
     "text": [
      "[I 2023-12-22 01:45:27,700] Trial 27 finished with value: 0.00757272234046992 and parameters: {'alpha': 0.1924782355050817}. Best is trial 2 with value: 0.007721957903815912.\n"
     ]
    },
    {
     "name": "stdout",
     "output_type": "stream",
     "text": [
      "TwoScoresHybridRecommender: URM Detected 208 ( 1.6%) users with no interactions.\n",
      "TwoScoresHybridRecommender: URM Detected 108 ( 0.5%) items with no interactions.\n",
      "EvaluatorHoldout: Processed 1141 (100.0%) in 0.51 sec. Users per second: 2246\n"
     ]
    },
    {
     "name": "stderr",
     "output_type": "stream",
     "text": [
      "[I 2023-12-22 01:45:28,232] Trial 28 finished with value: 0.007545073244021524 and parameters: {'alpha': 0.25730381273153224}. Best is trial 2 with value: 0.007721957903815912.\n"
     ]
    },
    {
     "name": "stdout",
     "output_type": "stream",
     "text": [
      "TwoScoresHybridRecommender: URM Detected 208 ( 1.6%) users with no interactions.\n",
      "TwoScoresHybridRecommender: URM Detected 108 ( 0.5%) items with no interactions.\n",
      "EvaluatorHoldout: Processed 1141 (100.0%) in 0.51 sec. Users per second: 2243\n"
     ]
    },
    {
     "name": "stderr",
     "output_type": "stream",
     "text": [
      "[I 2023-12-22 01:45:28,764] Trial 29 finished with value: 0.007551889876605028 and parameters: {'alpha': 0.9300708552321022}. Best is trial 2 with value: 0.007721957903815912.\n"
     ]
    },
    {
     "name": "stdout",
     "output_type": "stream",
     "text": [
      "TwoScoresHybridRecommender: URM Detected 208 ( 1.6%) users with no interactions.\n",
      "TwoScoresHybridRecommender: URM Detected 108 ( 0.5%) items with no interactions.\n",
      "EvaluatorHoldout: Processed 1141 (100.0%) in 0.51 sec. Users per second: 2219\n"
     ]
    },
    {
     "name": "stderr",
     "output_type": "stream",
     "text": [
      "[I 2023-12-22 01:45:29,303] Trial 30 finished with value: 0.007638488933405662 and parameters: {'alpha': 0.1200845442873198}. Best is trial 2 with value: 0.007721957903815912.\n"
     ]
    },
    {
     "name": "stdout",
     "output_type": "stream",
     "text": [
      "TwoScoresHybridRecommender: URM Detected 208 ( 1.6%) users with no interactions.\n",
      "TwoScoresHybridRecommender: URM Detected 108 ( 0.5%) items with no interactions.\n",
      "EvaluatorHoldout: Processed 1141 (100.0%) in 0.52 sec. Users per second: 2184\n"
     ]
    },
    {
     "name": "stderr",
     "output_type": "stream",
     "text": [
      "[I 2023-12-22 01:45:29,851] Trial 31 finished with value: 0.007652017862359656 and parameters: {'alpha': 0.09559780037707528}. Best is trial 2 with value: 0.007721957903815912.\n"
     ]
    },
    {
     "name": "stdout",
     "output_type": "stream",
     "text": [
      "TwoScoresHybridRecommender: URM Detected 208 ( 1.6%) users with no interactions.\n",
      "TwoScoresHybridRecommender: URM Detected 108 ( 0.5%) items with no interactions.\n",
      "EvaluatorHoldout: Processed 1141 (100.0%) in 0.52 sec. Users per second: 2215\n"
     ]
    },
    {
     "name": "stderr",
     "output_type": "stream",
     "text": [
      "[I 2023-12-22 01:45:30,390] Trial 32 finished with value: 0.007617169567213378 and parameters: {'alpha': 0.08391073368138675}. Best is trial 2 with value: 0.007721957903815912.\n"
     ]
    },
    {
     "name": "stdout",
     "output_type": "stream",
     "text": [
      "TwoScoresHybridRecommender: URM Detected 208 ( 1.6%) users with no interactions.\n",
      "TwoScoresHybridRecommender: URM Detected 108 ( 0.5%) items with no interactions.\n",
      "EvaluatorHoldout: Processed 1141 (100.0%) in 0.51 sec. Users per second: 2234\n"
     ]
    },
    {
     "name": "stderr",
     "output_type": "stream",
     "text": [
      "[I 2023-12-22 01:45:30,925] Trial 33 finished with value: 0.007596719669462868 and parameters: {'alpha': 0.06898559548451}. Best is trial 2 with value: 0.007721957903815912.\n"
     ]
    },
    {
     "name": "stdout",
     "output_type": "stream",
     "text": [
      "TwoScoresHybridRecommender: URM Detected 208 ( 1.6%) users with no interactions.\n",
      "TwoScoresHybridRecommender: URM Detected 108 ( 0.5%) items with no interactions.\n",
      "EvaluatorHoldout: Processed 1141 (100.0%) in 0.55 sec. Users per second: 2058\n"
     ]
    },
    {
     "name": "stderr",
     "output_type": "stream",
     "text": [
      "[I 2023-12-22 01:45:31,504] Trial 34 finished with value: 0.0074782632889556526 and parameters: {'alpha': 0.001861710405741318}. Best is trial 2 with value: 0.007721957903815912.\n"
     ]
    },
    {
     "name": "stdout",
     "output_type": "stream",
     "text": [
      "TwoScoresHybridRecommender: URM Detected 208 ( 1.6%) users with no interactions.\n",
      "TwoScoresHybridRecommender: URM Detected 108 ( 0.5%) items with no interactions.\n",
      "EvaluatorHoldout: Processed 1141 (100.0%) in 0.54 sec. Users per second: 2131\n"
     ]
    },
    {
     "name": "stderr",
     "output_type": "stream",
     "text": [
      "[I 2023-12-22 01:45:32,071] Trial 35 finished with value: 0.007622873280191411 and parameters: {'alpha': 0.07630350033697801}. Best is trial 2 with value: 0.007721957903815912.\n"
     ]
    },
    {
     "name": "stdout",
     "output_type": "stream",
     "text": [
      "TwoScoresHybridRecommender: URM Detected 208 ( 1.6%) users with no interactions.\n",
      "TwoScoresHybridRecommender: URM Detected 108 ( 0.5%) items with no interactions.\n",
      "EvaluatorHoldout: Processed 1141 (100.0%) in 0.51 sec. Users per second: 2226\n"
     ]
    },
    {
     "name": "stderr",
     "output_type": "stream",
     "text": [
      "[I 2023-12-22 01:45:32,607] Trial 36 finished with value: 0.007589763921928677 and parameters: {'alpha': 0.16662087627532438}. Best is trial 2 with value: 0.007721957903815912.\n"
     ]
    },
    {
     "name": "stdout",
     "output_type": "stream",
     "text": [
      "TwoScoresHybridRecommender: URM Detected 208 ( 1.6%) users with no interactions.\n",
      "TwoScoresHybridRecommender: URM Detected 108 ( 0.5%) items with no interactions.\n",
      "EvaluatorHoldout: Processed 1141 (100.0%) in 0.56 sec. Users per second: 2034\n"
     ]
    },
    {
     "name": "stderr",
     "output_type": "stream",
     "text": [
      "[I 2023-12-22 01:45:33,192] Trial 37 finished with value: 0.007644714327448759 and parameters: {'alpha': 0.09935426757227113}. Best is trial 2 with value: 0.007721957903815912.\n"
     ]
    },
    {
     "name": "stdout",
     "output_type": "stream",
     "text": [
      "TwoScoresHybridRecommender: URM Detected 208 ( 1.6%) users with no interactions.\n",
      "TwoScoresHybridRecommender: URM Detected 108 ( 0.5%) items with no interactions.\n",
      "EvaluatorHoldout: Processed 1141 (100.0%) in 0.53 sec. Users per second: 2142\n"
     ]
    },
    {
     "name": "stderr",
     "output_type": "stream",
     "text": [
      "[I 2023-12-22 01:45:33,751] Trial 38 finished with value: 0.007652017862359656 and parameters: {'alpha': 0.09634545386635063}. Best is trial 2 with value: 0.007721957903815912.\n"
     ]
    },
    {
     "name": "stdout",
     "output_type": "stream",
     "text": [
      "TwoScoresHybridRecommender: URM Detected 208 ( 1.6%) users with no interactions.\n",
      "TwoScoresHybridRecommender: URM Detected 108 ( 0.5%) items with no interactions.\n",
      "EvaluatorHoldout: Processed 1141 (100.0%) in 0.56 sec. Users per second: 2022\n"
     ]
    },
    {
     "name": "stderr",
     "output_type": "stream",
     "text": [
      "[I 2023-12-22 01:45:34,388] Trial 39 finished with value: 0.007579330300627398 and parameters: {'alpha': 0.05932298378411068}. Best is trial 2 with value: 0.007721957903815912.\n"
     ]
    },
    {
     "name": "stdout",
     "output_type": "stream",
     "text": [
      "TwoScoresHybridRecommender: URM Detected 208 ( 1.6%) users with no interactions.\n",
      "TwoScoresHybridRecommender: URM Detected 108 ( 0.5%) items with no interactions.\n",
      "EvaluatorHoldout: Processed 1141 (100.0%) in 0.54 sec. Users per second: 2108\n"
     ]
    },
    {
     "name": "stderr",
     "output_type": "stream",
     "text": [
      "[I 2023-12-22 01:45:34,956] Trial 40 finished with value: 0.0075596803138433194 and parameters: {'alpha': 0.05014817766862978}. Best is trial 2 with value: 0.007721957903815912.\n"
     ]
    },
    {
     "name": "stdout",
     "output_type": "stream",
     "text": [
      "TwoScoresHybridRecommender: URM Detected 208 ( 1.6%) users with no interactions.\n",
      "TwoScoresHybridRecommender: URM Detected 108 ( 0.5%) items with no interactions.\n",
      "EvaluatorHoldout: Processed 1141 (100.0%) in 0.51 sec. Users per second: 2251\n"
     ]
    },
    {
     "name": "stderr",
     "output_type": "stream",
     "text": [
      "[I 2023-12-22 01:45:35,488] Trial 41 finished with value: 0.007633759025082414 and parameters: {'alpha': 0.10874633902698899}. Best is trial 2 with value: 0.007721957903815912.\n"
     ]
    },
    {
     "name": "stdout",
     "output_type": "stream",
     "text": [
      "TwoScoresHybridRecommender: URM Detected 208 ( 1.6%) users with no interactions.\n",
      "TwoScoresHybridRecommender: URM Detected 108 ( 0.5%) items with no interactions.\n",
      "EvaluatorHoldout: Processed 1141 (100.0%) in 0.54 sec. Users per second: 2114\n"
     ]
    },
    {
     "name": "stderr",
     "output_type": "stream",
     "text": [
      "[I 2023-12-22 01:45:36,071] Trial 42 finished with value: 0.007572235438142525 and parameters: {'alpha': 0.17041481535053}. Best is trial 2 with value: 0.007721957903815912.\n"
     ]
    },
    {
     "name": "stdout",
     "output_type": "stream",
     "text": [
      "TwoScoresHybridRecommender: URM Detected 208 ( 1.6%) users with no interactions.\n",
      "TwoScoresHybridRecommender: URM Detected 108 ( 0.5%) items with no interactions.\n",
      "EvaluatorHoldout: Processed 1141 (100.0%) in 0.58 sec. Users per second: 1982\n"
     ]
    },
    {
     "name": "stderr",
     "output_type": "stream",
     "text": [
      "[I 2023-12-22 01:45:36,673] Trial 43 finished with value: 0.0075701487138822715 and parameters: {'alpha': 0.04587222809544765}. Best is trial 2 with value: 0.007721957903815912.\n"
     ]
    },
    {
     "name": "stdout",
     "output_type": "stream",
     "text": [
      "TwoScoresHybridRecommender: URM Detected 208 ( 1.6%) users with no interactions.\n",
      "TwoScoresHybridRecommender: URM Detected 108 ( 0.5%) items with no interactions.\n",
      "EvaluatorHoldout: Processed 1141 (100.0%) in 0.51 sec. Users per second: 2237\n"
     ]
    },
    {
     "name": "stderr",
     "output_type": "stream",
     "text": [
      "[I 2023-12-22 01:45:37,208] Trial 44 finished with value: 0.007545073244021524 and parameters: {'alpha': 0.2430037245132608}. Best is trial 2 with value: 0.007721957903815912.\n"
     ]
    },
    {
     "name": "stdout",
     "output_type": "stream",
     "text": [
      "TwoScoresHybridRecommender: URM Detected 208 ( 1.6%) users with no interactions.\n",
      "TwoScoresHybridRecommender: URM Detected 108 ( 0.5%) items with no interactions.\n",
      "EvaluatorHoldout: Processed 1141 (100.0%) in 0.52 sec. Users per second: 2212\n"
     ]
    },
    {
     "name": "stderr",
     "output_type": "stream",
     "text": [
      "[I 2023-12-22 01:45:37,748] Trial 45 finished with value: 0.007652017862359656 and parameters: {'alpha': 0.09453028429606175}. Best is trial 2 with value: 0.007721957903815912.\n"
     ]
    },
    {
     "name": "stdout",
     "output_type": "stream",
     "text": [
      "TwoScoresHybridRecommender: URM Detected 208 ( 1.6%) users with no interactions.\n",
      "TwoScoresHybridRecommender: URM Detected 108 ( 0.5%) items with no interactions.\n",
      "EvaluatorHoldout: Processed 1141 (100.0%) in 0.58 sec. Users per second: 1953\n"
     ]
    },
    {
     "name": "stderr",
     "output_type": "stream",
     "text": [
      "[I 2023-12-22 01:45:38,367] Trial 46 finished with value: 0.00753377015427847 and parameters: {'alpha': 0.21533954603068173}. Best is trial 2 with value: 0.007721957903815912.\n"
     ]
    },
    {
     "name": "stdout",
     "output_type": "stream",
     "text": [
      "TwoScoresHybridRecommender: URM Detected 208 ( 1.6%) users with no interactions.\n",
      "TwoScoresHybridRecommender: URM Detected 108 ( 0.5%) items with no interactions.\n",
      "EvaluatorHoldout: Processed 1141 (100.0%) in 0.55 sec. Users per second: 2066\n"
     ]
    },
    {
     "name": "stderr",
     "output_type": "stream",
     "text": [
      "[I 2023-12-22 01:45:38,946] Trial 47 finished with value: 0.007531926881181909 and parameters: {'alpha': 0.3200041459839358}. Best is trial 2 with value: 0.007721957903815912.\n"
     ]
    },
    {
     "name": "stdout",
     "output_type": "stream",
     "text": [
      "TwoScoresHybridRecommender: URM Detected 208 ( 1.6%) users with no interactions.\n",
      "TwoScoresHybridRecommender: URM Detected 108 ( 0.5%) items with no interactions.\n",
      "EvaluatorHoldout: Processed 1141 (100.0%) in 0.53 sec. Users per second: 2170\n"
     ]
    },
    {
     "name": "stderr",
     "output_type": "stream",
     "text": [
      "[I 2023-12-22 01:45:39,496] Trial 48 finished with value: 0.007624438323386605 and parameters: {'alpha': 0.07693369339806966}. Best is trial 2 with value: 0.007721957903815912.\n"
     ]
    },
    {
     "name": "stdout",
     "output_type": "stream",
     "text": [
      "TwoScoresHybridRecommender: URM Detected 208 ( 1.6%) users with no interactions.\n",
      "TwoScoresHybridRecommender: URM Detected 108 ( 0.5%) items with no interactions.\n",
      "EvaluatorHoldout: Processed 1141 (100.0%) in 0.51 sec. Users per second: 2225\n"
     ]
    },
    {
     "name": "stderr",
     "output_type": "stream",
     "text": [
      "[I 2023-12-22 01:45:40,034] Trial 49 finished with value: 0.007545073244021524 and parameters: {'alpha': 0.28006982518176304}. Best is trial 2 with value: 0.007721957903815912.\n"
     ]
    },
    {
     "name": "stdout",
     "output_type": "stream",
     "text": [
      "TwoScoresHybridRecommender: URM Detected 208 ( 1.6%) users with no interactions.\n",
      "TwoScoresHybridRecommender: URM Detected 108 ( 0.5%) items with no interactions.\n",
      "EvaluatorHoldout: Processed 1141 (100.0%) in 0.52 sec. Users per second: 2179\n"
     ]
    },
    {
     "name": "stderr",
     "output_type": "stream",
     "text": [
      "[I 2023-12-22 01:45:40,583] Trial 50 finished with value: 0.007573696145124706 and parameters: {'alpha': 0.1873265154345119}. Best is trial 2 with value: 0.007721957903815912.\n"
     ]
    },
    {
     "name": "stdout",
     "output_type": "stream",
     "text": [
      "TwoScoresHybridRecommender: URM Detected 208 ( 1.6%) users with no interactions.\n",
      "TwoScoresHybridRecommender: URM Detected 108 ( 0.5%) items with no interactions.\n",
      "EvaluatorHoldout: Processed 1141 (100.0%) in 0.51 sec. Users per second: 2244\n"
     ]
    },
    {
     "name": "stderr",
     "output_type": "stream",
     "text": [
      "[I 2023-12-22 01:45:41,116] Trial 51 finished with value: 0.007644714327448759 and parameters: {'alpha': 0.10481572321811505}. Best is trial 2 with value: 0.007721957903815912.\n"
     ]
    },
    {
     "name": "stdout",
     "output_type": "stream",
     "text": [
      "TwoScoresHybridRecommender: URM Detected 208 ( 1.6%) users with no interactions.\n",
      "TwoScoresHybridRecommender: URM Detected 108 ( 0.5%) items with no interactions.\n",
      "EvaluatorHoldout: Processed 1141 (100.0%) in 0.51 sec. Users per second: 2216\n"
     ]
    },
    {
     "name": "stderr",
     "output_type": "stream",
     "text": [
      "[I 2023-12-22 01:45:41,656] Trial 52 finished with value: 0.007627533631039318 and parameters: {'alpha': 0.03701703758076236}. Best is trial 2 with value: 0.007721957903815912.\n"
     ]
    },
    {
     "name": "stdout",
     "output_type": "stream",
     "text": [
      "TwoScoresHybridRecommender: URM Detected 208 ( 1.6%) users with no interactions.\n",
      "TwoScoresHybridRecommender: URM Detected 108 ( 0.5%) items with no interactions.\n",
      "EvaluatorHoldout: Processed 1141 (100.0%) in 0.51 sec. Users per second: 2236\n"
     ]
    },
    {
     "name": "stderr",
     "output_type": "stream",
     "text": [
      "[I 2023-12-22 01:45:42,191] Trial 53 finished with value: 0.007677684570760808 and parameters: {'alpha': 0.09057691046328702}. Best is trial 2 with value: 0.007721957903815912.\n"
     ]
    },
    {
     "name": "stdout",
     "output_type": "stream",
     "text": [
      "TwoScoresHybridRecommender: URM Detected 208 ( 1.6%) users with no interactions.\n",
      "TwoScoresHybridRecommender: URM Detected 108 ( 0.5%) items with no interactions.\n",
      "EvaluatorHoldout: Processed 1141 (100.0%) in 0.51 sec. Users per second: 2240\n"
     ]
    },
    {
     "name": "stderr",
     "output_type": "stream",
     "text": [
      "[I 2023-12-22 01:45:42,725] Trial 54 finished with value: 0.007605831698732649 and parameters: {'alpha': 0.15513665806835875}. Best is trial 2 with value: 0.007721957903815912.\n"
     ]
    },
    {
     "name": "stdout",
     "output_type": "stream",
     "text": [
      "TwoScoresHybridRecommender: URM Detected 208 ( 1.6%) users with no interactions.\n",
      "TwoScoresHybridRecommender: URM Detected 108 ( 0.5%) items with no interactions.\n",
      "EvaluatorHoldout: Processed 1141 (100.0%) in 0.51 sec. Users per second: 2233\n"
     ]
    },
    {
     "name": "stderr",
     "output_type": "stream",
     "text": [
      "[I 2023-12-22 01:45:43,262] Trial 55 finished with value: 0.007550081382246141 and parameters: {'alpha': 0.030238094281875683}. Best is trial 2 with value: 0.007721957903815912.\n"
     ]
    },
    {
     "name": "stdout",
     "output_type": "stream",
     "text": [
      "TwoScoresHybridRecommender: URM Detected 208 ( 1.6%) users with no interactions.\n",
      "TwoScoresHybridRecommender: URM Detected 108 ( 0.5%) items with no interactions.\n",
      "EvaluatorHoldout: Processed 1141 (100.0%) in 0.51 sec. Users per second: 2225\n"
     ]
    },
    {
     "name": "stderr",
     "output_type": "stream",
     "text": [
      "[I 2023-12-22 01:45:43,799] Trial 56 finished with value: 0.007619708415063356 and parameters: {'alpha': 0.08093086922861335}. Best is trial 2 with value: 0.007721957903815912.\n"
     ]
    },
    {
     "name": "stdout",
     "output_type": "stream",
     "text": [
      "TwoScoresHybridRecommender: URM Detected 208 ( 1.6%) users with no interactions.\n",
      "TwoScoresHybridRecommender: URM Detected 108 ( 0.5%) items with no interactions.\n",
      "EvaluatorHoldout: Processed 1141 (100.0%) in 0.50 sec. Users per second: 2261\n"
     ]
    },
    {
     "name": "stderr",
     "output_type": "stream",
     "text": [
      "[I 2023-12-22 01:45:44,329] Trial 57 finished with value: 0.007602910284768292 and parameters: {'alpha': 0.14790268287619016}. Best is trial 2 with value: 0.007721957903815912.\n"
     ]
    },
    {
     "name": "stdout",
     "output_type": "stream",
     "text": [
      "TwoScoresHybridRecommender: URM Detected 208 ( 1.6%) users with no interactions.\n",
      "TwoScoresHybridRecommender: URM Detected 108 ( 0.5%) items with no interactions.\n",
      "EvaluatorHoldout: Processed 1141 (100.0%) in 0.50 sec. Users per second: 2295\n"
     ]
    },
    {
     "name": "stderr",
     "output_type": "stream",
     "text": [
      "[I 2023-12-22 01:45:44,850] Trial 58 finished with value: 0.007543508200826332 and parameters: {'alpha': 0.21670572198365462}. Best is trial 2 with value: 0.007721957903815912.\n"
     ]
    },
    {
     "name": "stdout",
     "output_type": "stream",
     "text": [
      "TwoScoresHybridRecommender: URM Detected 208 ( 1.6%) users with no interactions.\n",
      "TwoScoresHybridRecommender: URM Detected 108 ( 0.5%) items with no interactions.\n",
      "EvaluatorHoldout: Processed 1141 (100.0%) in 0.51 sec. Users per second: 2240\n"
     ]
    },
    {
     "name": "stderr",
     "output_type": "stream",
     "text": [
      "[I 2023-12-22 01:45:45,383] Trial 59 finished with value: 0.0072269173518077915 and parameters: {'alpha': 0.0003330132575553174}. Best is trial 2 with value: 0.007721957903815912.\n"
     ]
    },
    {
     "name": "stdout",
     "output_type": "stream",
     "text": [
      "TwoScoresHybridRecommender: URM Detected 208 ( 1.6%) users with no interactions.\n",
      "TwoScoresHybridRecommender: URM Detected 108 ( 0.5%) items with no interactions.\n",
      "EvaluatorHoldout: Processed 1141 (100.0%) in 0.50 sec. Users per second: 2273\n"
     ]
    },
    {
     "name": "stderr",
     "output_type": "stream",
     "text": [
      "[I 2023-12-22 01:45:45,909] Trial 60 finished with value: 0.007573696145124706 and parameters: {'alpha': 0.19102383904442277}. Best is trial 2 with value: 0.007721957903815912.\n"
     ]
    },
    {
     "name": "stdout",
     "output_type": "stream",
     "text": [
      "TwoScoresHybridRecommender: URM Detected 208 ( 1.6%) users with no interactions.\n",
      "TwoScoresHybridRecommender: URM Detected 108 ( 0.5%) items with no interactions.\n",
      "EvaluatorHoldout: Processed 1141 (100.0%) in 0.50 sec. Users per second: 2275\n"
     ]
    },
    {
     "name": "stderr",
     "output_type": "stream",
     "text": [
      "[I 2023-12-22 01:45:46,434] Trial 61 finished with value: 0.007644714327448759 and parameters: {'alpha': 0.09973757174370924}. Best is trial 2 with value: 0.007721957903815912.\n"
     ]
    },
    {
     "name": "stdout",
     "output_type": "stream",
     "text": [
      "TwoScoresHybridRecommender: URM Detected 208 ( 1.6%) users with no interactions.\n",
      "TwoScoresHybridRecommender: URM Detected 108 ( 0.5%) items with no interactions.\n",
      "EvaluatorHoldout: Processed 1141 (100.0%) in 0.51 sec. Users per second: 2238\n"
     ]
    },
    {
     "name": "stderr",
     "output_type": "stream",
     "text": [
      "[I 2023-12-22 01:45:46,968] Trial 62 finished with value: 0.007644714327448759 and parameters: {'alpha': 0.10251336761114216}. Best is trial 2 with value: 0.007721957903815912.\n"
     ]
    },
    {
     "name": "stdout",
     "output_type": "stream",
     "text": [
      "TwoScoresHybridRecommender: URM Detected 208 ( 1.6%) users with no interactions.\n",
      "TwoScoresHybridRecommender: URM Detected 108 ( 0.5%) items with no interactions.\n",
      "EvaluatorHoldout: Processed 1141 (100.0%) in 0.50 sec. Users per second: 2266\n"
     ]
    },
    {
     "name": "stderr",
     "output_type": "stream",
     "text": [
      "[I 2023-12-22 01:45:47,495] Trial 63 finished with value: 0.007579365079365071 and parameters: {'alpha': 0.04554040042512711}. Best is trial 2 with value: 0.007721957903815912.\n"
     ]
    },
    {
     "name": "stdout",
     "output_type": "stream",
     "text": [
      "TwoScoresHybridRecommender: URM Detected 208 ( 1.6%) users with no interactions.\n",
      "TwoScoresHybridRecommender: URM Detected 108 ( 0.5%) items with no interactions.\n",
      "EvaluatorHoldout: Processed 1141 (100.0%) in 0.51 sec. Users per second: 2222\n"
     ]
    },
    {
     "name": "stderr",
     "output_type": "stream",
     "text": [
      "[I 2023-12-22 01:45:48,034] Trial 64 finished with value: 0.007628507435694102 and parameters: {'alpha': 0.12164837938161717}. Best is trial 2 with value: 0.007721957903815912.\n"
     ]
    },
    {
     "name": "stdout",
     "output_type": "stream",
     "text": [
      "TwoScoresHybridRecommender: URM Detected 208 ( 1.6%) users with no interactions.\n",
      "TwoScoresHybridRecommender: URM Detected 108 ( 0.5%) items with no interactions.\n",
      "EvaluatorHoldout: Processed 1141 (100.0%) in 0.51 sec. Users per second: 2249\n"
     ]
    },
    {
     "name": "stderr",
     "output_type": "stream",
     "text": [
      "[I 2023-12-22 01:45:48,565] Trial 65 finished with value: 0.007602910284768292 and parameters: {'alpha': 0.14390596292157382}. Best is trial 2 with value: 0.007721957903815912.\n"
     ]
    },
    {
     "name": "stdout",
     "output_type": "stream",
     "text": [
      "TwoScoresHybridRecommender: URM Detected 208 ( 1.6%) users with no interactions.\n",
      "TwoScoresHybridRecommender: URM Detected 108 ( 0.5%) items with no interactions.\n",
      "EvaluatorHoldout: Processed 1141 (100.0%) in 0.51 sec. Users per second: 2252\n"
     ]
    },
    {
     "name": "stderr",
     "output_type": "stream",
     "text": [
      "[I 2023-12-22 01:45:49,097] Trial 66 finished with value: 0.0075369002406688555 and parameters: {'alpha': 0.02563394134418749}. Best is trial 2 with value: 0.007721957903815912.\n"
     ]
    },
    {
     "name": "stdout",
     "output_type": "stream",
     "text": [
      "TwoScoresHybridRecommender: URM Detected 208 ( 1.6%) users with no interactions.\n",
      "TwoScoresHybridRecommender: URM Detected 108 ( 0.5%) items with no interactions.\n",
      "EvaluatorHoldout: Processed 1141 (100.0%) in 0.51 sec. Users per second: 2244\n"
     ]
    },
    {
     "name": "stderr",
     "output_type": "stream",
     "text": [
      "[I 2023-12-22 01:45:49,630] Trial 67 finished with value: 0.007617169567213378 and parameters: {'alpha': 0.08602779282933419}. Best is trial 2 with value: 0.007721957903815912.\n"
     ]
    },
    {
     "name": "stdout",
     "output_type": "stream",
     "text": [
      "TwoScoresHybridRecommender: URM Detected 208 ( 1.6%) users with no interactions.\n",
      "TwoScoresHybridRecommender: URM Detected 108 ( 0.5%) items with no interactions.\n",
      "EvaluatorHoldout: Processed 1141 (100.0%) in 0.50 sec. Users per second: 2267\n"
     ]
    },
    {
     "name": "stderr",
     "output_type": "stream",
     "text": [
      "[I 2023-12-22 01:45:50,159] Trial 68 finished with value: 0.007572235438142525 and parameters: {'alpha': 0.17894257386084217}. Best is trial 2 with value: 0.007721957903815912.\n"
     ]
    },
    {
     "name": "stdout",
     "output_type": "stream",
     "text": [
      "TwoScoresHybridRecommender: URM Detected 208 ( 1.6%) users with no interactions.\n",
      "TwoScoresHybridRecommender: URM Detected 108 ( 0.5%) items with no interactions.\n",
      "EvaluatorHoldout: Processed 1141 (100.0%) in 0.50 sec. Users per second: 2269\n"
     ]
    },
    {
     "name": "stderr",
     "output_type": "stream",
     "text": [
      "[I 2023-12-22 01:45:50,689] Trial 69 finished with value: 0.007598423827608743 and parameters: {'alpha': 0.06095169755078972}. Best is trial 2 with value: 0.007721957903815912.\n"
     ]
    },
    {
     "name": "stdout",
     "output_type": "stream",
     "text": [
      "TwoScoresHybridRecommender: URM Detected 208 ( 1.6%) users with no interactions.\n",
      "TwoScoresHybridRecommender: URM Detected 108 ( 0.5%) items with no interactions.\n",
      "EvaluatorHoldout: Processed 1141 (100.0%) in 0.50 sec. Users per second: 2272\n"
     ]
    },
    {
     "name": "stderr",
     "output_type": "stream",
     "text": [
      "[I 2023-12-22 01:45:51,217] Trial 70 finished with value: 0.007621308236996217 and parameters: {'alpha': 0.1388279932043569}. Best is trial 2 with value: 0.007721957903815912.\n"
     ]
    },
    {
     "name": "stdout",
     "output_type": "stream",
     "text": [
      "TwoScoresHybridRecommender: URM Detected 208 ( 1.6%) users with no interactions.\n",
      "TwoScoresHybridRecommender: URM Detected 108 ( 0.5%) items with no interactions.\n",
      "EvaluatorHoldout: Processed 1141 (100.0%) in 0.51 sec. Users per second: 2227\n"
     ]
    },
    {
     "name": "stderr",
     "output_type": "stream",
     "text": [
      "[I 2023-12-22 01:45:51,754] Trial 71 finished with value: 0.007633759025082414 and parameters: {'alpha': 0.10883049960503005}. Best is trial 2 with value: 0.007721957903815912.\n"
     ]
    },
    {
     "name": "stdout",
     "output_type": "stream",
     "text": [
      "TwoScoresHybridRecommender: URM Detected 208 ( 1.6%) users with no interactions.\n",
      "TwoScoresHybridRecommender: URM Detected 108 ( 0.5%) items with no interactions.\n",
      "EvaluatorHoldout: Processed 1141 (100.0%) in 0.50 sec. Users per second: 2270\n"
     ]
    },
    {
     "name": "stderr",
     "output_type": "stream",
     "text": [
      "[I 2023-12-22 01:45:52,281] Trial 72 finished with value: 0.00767559784650055 and parameters: {'alpha': 0.08892661089940787}. Best is trial 2 with value: 0.007721957903815912.\n"
     ]
    },
    {
     "name": "stdout",
     "output_type": "stream",
     "text": [
      "TwoScoresHybridRecommender: URM Detected 208 ( 1.6%) users with no interactions.\n",
      "TwoScoresHybridRecommender: URM Detected 108 ( 0.5%) items with no interactions.\n",
      "EvaluatorHoldout: Processed 1141 (100.0%) in 0.50 sec. Users per second: 2283\n"
     ]
    },
    {
     "name": "stderr",
     "output_type": "stream",
     "text": [
      "[I 2023-12-22 01:45:52,805] Trial 73 finished with value: 0.007643288399204254 and parameters: {'alpha': 0.016226963637707023}. Best is trial 2 with value: 0.007721957903815912.\n"
     ]
    },
    {
     "name": "stdout",
     "output_type": "stream",
     "text": [
      "TwoScoresHybridRecommender: URM Detected 208 ( 1.6%) users with no interactions.\n",
      "TwoScoresHybridRecommender: URM Detected 108 ( 0.5%) items with no interactions.\n",
      "EvaluatorHoldout: Processed 1141 (100.0%) in 0.50 sec. Users per second: 2279\n"
     ]
    },
    {
     "name": "stderr",
     "output_type": "stream",
     "text": [
      "[I 2023-12-22 01:45:53,330] Trial 74 finished with value: 0.007553976600865284 and parameters: {'alpha': 0.05610766541700081}. Best is trial 2 with value: 0.007721957903815912.\n"
     ]
    },
    {
     "name": "stdout",
     "output_type": "stream",
     "text": [
      "TwoScoresHybridRecommender: URM Detected 208 ( 1.6%) users with no interactions.\n",
      "TwoScoresHybridRecommender: URM Detected 108 ( 0.5%) items with no interactions.\n",
      "EvaluatorHoldout: Processed 1141 (100.0%) in 0.51 sec. Users per second: 2252\n"
     ]
    },
    {
     "name": "stderr",
     "output_type": "stream",
     "text": [
      "[I 2023-12-22 01:45:53,861] Trial 75 finished with value: 0.007619708415063356 and parameters: {'alpha': 0.08191346087813851}. Best is trial 2 with value: 0.007721957903815912.\n"
     ]
    },
    {
     "name": "stdout",
     "output_type": "stream",
     "text": [
      "TwoScoresHybridRecommender: URM Detected 208 ( 1.6%) users with no interactions.\n",
      "TwoScoresHybridRecommender: URM Detected 108 ( 0.5%) items with no interactions.\n",
      "EvaluatorHoldout: Processed 1141 (100.0%) in 0.51 sec. Users per second: 2228\n"
     ]
    },
    {
     "name": "stderr",
     "output_type": "stream",
     "text": [
      "[I 2023-12-22 01:45:54,403] Trial 76 finished with value: 0.007632993892853652 and parameters: {'alpha': 0.1285751257762765}. Best is trial 2 with value: 0.007721957903815912.\n"
     ]
    },
    {
     "name": "stdout",
     "output_type": "stream",
     "text": [
      "TwoScoresHybridRecommender: URM Detected 208 ( 1.6%) users with no interactions.\n",
      "TwoScoresHybridRecommender: URM Detected 108 ( 0.5%) items with no interactions.\n",
      "EvaluatorHoldout: Processed 1141 (100.0%) in 0.57 sec. Users per second: 1987\n"
     ]
    },
    {
     "name": "stderr",
     "output_type": "stream",
     "text": [
      "[I 2023-12-22 01:45:55,017] Trial 77 finished with value: 0.007543508200826332 and parameters: {'alpha': 0.2295172901147832}. Best is trial 2 with value: 0.007721957903815912.\n"
     ]
    },
    {
     "name": "stdout",
     "output_type": "stream",
     "text": [
      "TwoScoresHybridRecommender: URM Detected 208 ( 1.6%) users with no interactions.\n",
      "TwoScoresHybridRecommender: URM Detected 108 ( 0.5%) items with no interactions.\n",
      "EvaluatorHoldout: Processed 1141 (100.0%) in 0.51 sec. Users per second: 2217\n"
     ]
    },
    {
     "name": "stderr",
     "output_type": "stream",
     "text": [
      "[I 2023-12-22 01:45:55,557] Trial 78 finished with value: 0.0075515073104906495 and parameters: {'alpha': 0.024824386162761045}. Best is trial 2 with value: 0.007721957903815912.\n"
     ]
    },
    {
     "name": "stdout",
     "output_type": "stream",
     "text": [
      "TwoScoresHybridRecommender: URM Detected 208 ( 1.6%) users with no interactions.\n",
      "TwoScoresHybridRecommender: URM Detected 108 ( 0.5%) items with no interactions.\n",
      "EvaluatorHoldout: Processed 1141 (100.0%) in 0.51 sec. Users per second: 2219\n"
     ]
    },
    {
     "name": "stderr",
     "output_type": "stream",
     "text": [
      "[I 2023-12-22 01:45:56,096] Trial 79 finished with value: 0.007580999680035601 and parameters: {'alpha': 0.16901039720877353}. Best is trial 2 with value: 0.007721957903815912.\n"
     ]
    },
    {
     "name": "stdout",
     "output_type": "stream",
     "text": [
      "TwoScoresHybridRecommender: URM Detected 208 ( 1.6%) users with no interactions.\n",
      "TwoScoresHybridRecommender: URM Detected 108 ( 0.5%) items with no interactions.\n",
      "EvaluatorHoldout: Processed 1141 (100.0%) in 0.51 sec. Users per second: 2251\n"
     ]
    },
    {
     "name": "stderr",
     "output_type": "stream",
     "text": [
      "[I 2023-12-22 01:45:56,629] Trial 80 finished with value: 0.007528901131004538 and parameters: {'alpha': 0.1994362731541226}. Best is trial 2 with value: 0.007721957903815912.\n"
     ]
    },
    {
     "name": "stdout",
     "output_type": "stream",
     "text": [
      "TwoScoresHybridRecommender: URM Detected 208 ( 1.6%) users with no interactions.\n",
      "TwoScoresHybridRecommender: URM Detected 108 ( 0.5%) items with no interactions.\n",
      "EvaluatorHoldout: Processed 1141 (100.0%) in 0.52 sec. Users per second: 2201\n"
     ]
    },
    {
     "name": "stderr",
     "output_type": "stream",
     "text": [
      "[I 2023-12-22 01:45:57,171] Trial 81 finished with value: 0.007663077500939015 and parameters: {'alpha': 0.0918747539439893}. Best is trial 2 with value: 0.007721957903815912.\n"
     ]
    },
    {
     "name": "stdout",
     "output_type": "stream",
     "text": [
      "TwoScoresHybridRecommender: URM Detected 208 ( 1.6%) users with no interactions.\n",
      "TwoScoresHybridRecommender: URM Detected 108 ( 0.5%) items with no interactions.\n",
      "EvaluatorHoldout: Processed 1141 (100.0%) in 0.51 sec. Users per second: 2253\n"
     ]
    },
    {
     "name": "stderr",
     "output_type": "stream",
     "text": [
      "[I 2023-12-22 01:45:57,702] Trial 82 finished with value: 0.007658591043779463 and parameters: {'alpha': 0.09326471291796913}. Best is trial 2 with value: 0.007721957903815912.\n"
     ]
    },
    {
     "name": "stdout",
     "output_type": "stream",
     "text": [
      "TwoScoresHybridRecommender: URM Detected 208 ( 1.6%) users with no interactions.\n",
      "TwoScoresHybridRecommender: URM Detected 108 ( 0.5%) items with no interactions.\n",
      "EvaluatorHoldout: Processed 1141 (100.0%) in 0.50 sec. Users per second: 2271\n"
     ]
    },
    {
     "name": "stderr",
     "output_type": "stream",
     "text": [
      "[I 2023-12-22 01:45:58,229] Trial 83 finished with value: 0.007580895343822591 and parameters: {'alpha': 0.06045381510415521}. Best is trial 2 with value: 0.007721957903815912.\n"
     ]
    },
    {
     "name": "stdout",
     "output_type": "stream",
     "text": [
      "TwoScoresHybridRecommender: URM Detected 208 ( 1.6%) users with no interactions.\n",
      "TwoScoresHybridRecommender: URM Detected 108 ( 0.5%) items with no interactions.\n",
      "EvaluatorHoldout: Processed 1141 (100.0%) in 0.51 sec. Users per second: 2233\n"
     ]
    },
    {
     "name": "stderr",
     "output_type": "stream",
     "text": [
      "[I 2023-12-22 01:45:58,765] Trial 84 finished with value: 0.007631289734707776 and parameters: {'alpha': 0.1324904113233211}. Best is trial 2 with value: 0.007721957903815912.\n"
     ]
    },
    {
     "name": "stdout",
     "output_type": "stream",
     "text": [
      "TwoScoresHybridRecommender: URM Detected 208 ( 1.6%) users with no interactions.\n",
      "TwoScoresHybridRecommender: URM Detected 108 ( 0.5%) items with no interactions.\n",
      "EvaluatorHoldout: Processed 1141 (100.0%) in 0.51 sec. Users per second: 2226\n"
     ]
    },
    {
     "name": "stderr",
     "output_type": "stream",
     "text": [
      "[I 2023-12-22 01:45:59,304] Trial 85 finished with value: 0.007652017862359656 and parameters: {'alpha': 0.09771396917326997}. Best is trial 2 with value: 0.007721957903815912.\n"
     ]
    },
    {
     "name": "stdout",
     "output_type": "stream",
     "text": [
      "TwoScoresHybridRecommender: URM Detected 208 ( 1.6%) users with no interactions.\n",
      "TwoScoresHybridRecommender: URM Detected 108 ( 0.5%) items with no interactions.\n",
      "EvaluatorHoldout: Processed 1141 (100.0%) in 0.51 sec. Users per second: 2251\n"
     ]
    },
    {
     "name": "stderr",
     "output_type": "stream",
     "text": [
      "[I 2023-12-22 01:45:59,838] Trial 86 finished with value: 0.007617308682164064 and parameters: {'alpha': 0.0366929548468215}. Best is trial 2 with value: 0.007721957903815912.\n"
     ]
    },
    {
     "name": "stdout",
     "output_type": "stream",
     "text": [
      "TwoScoresHybridRecommender: URM Detected 208 ( 1.6%) users with no interactions.\n",
      "TwoScoresHybridRecommender: URM Detected 108 ( 0.5%) items with no interactions.\n",
      "EvaluatorHoldout: Processed 1141 (100.0%) in 0.51 sec. Users per second: 2218\n"
     ]
    },
    {
     "name": "stderr",
     "output_type": "stream",
     "text": [
      "[I 2023-12-22 01:46:00,376] Trial 87 finished with value: 0.007605831698732649 and parameters: {'alpha': 0.15742303875211072}. Best is trial 2 with value: 0.007721957903815912.\n"
     ]
    },
    {
     "name": "stdout",
     "output_type": "stream",
     "text": [
      "TwoScoresHybridRecommender: URM Detected 208 ( 1.6%) users with no interactions.\n",
      "TwoScoresHybridRecommender: URM Detected 108 ( 0.5%) items with no interactions.\n",
      "EvaluatorHoldout: Processed 1141 (100.0%) in 0.50 sec. Users per second: 2278\n"
     ]
    },
    {
     "name": "stderr",
     "output_type": "stream",
     "text": [
      "[I 2023-12-22 01:46:00,901] Trial 88 finished with value: 0.007617169567213378 and parameters: {'alpha': 0.08430333563306139}. Best is trial 2 with value: 0.007721957903815912.\n"
     ]
    },
    {
     "name": "stdout",
     "output_type": "stream",
     "text": [
      "TwoScoresHybridRecommender: URM Detected 208 ( 1.6%) users with no interactions.\n",
      "TwoScoresHybridRecommender: URM Detected 108 ( 0.5%) items with no interactions.\n",
      "EvaluatorHoldout: Processed 1141 (100.0%) in 0.50 sec. Users per second: 2261\n"
     ]
    },
    {
     "name": "stderr",
     "output_type": "stream",
     "text": [
      "[I 2023-12-22 01:46:01,431] Trial 89 finished with value: 0.007647427068987095 and parameters: {'alpha': 0.016857998991966508}. Best is trial 2 with value: 0.007721957903815912.\n"
     ]
    },
    {
     "name": "stdout",
     "output_type": "stream",
     "text": [
      "TwoScoresHybridRecommender: URM Detected 208 ( 1.6%) users with no interactions.\n",
      "TwoScoresHybridRecommender: URM Detected 108 ( 0.5%) items with no interactions.\n",
      "EvaluatorHoldout: Processed 1141 (100.0%) in 0.50 sec. Users per second: 2266\n"
     ]
    },
    {
     "name": "stderr",
     "output_type": "stream",
     "text": [
      "[I 2023-12-22 01:46:01,958] Trial 90 finished with value: 0.007597450022953957 and parameters: {'alpha': 0.06097729288068199}. Best is trial 2 with value: 0.007721957903815912.\n"
     ]
    },
    {
     "name": "stdout",
     "output_type": "stream",
     "text": [
      "TwoScoresHybridRecommender: URM Detected 208 ( 1.6%) users with no interactions.\n",
      "TwoScoresHybridRecommender: URM Detected 108 ( 0.5%) items with no interactions.\n",
      "EvaluatorHoldout: Processed 1141 (100.0%) in 0.51 sec. Users per second: 2253\n"
     ]
    },
    {
     "name": "stderr",
     "output_type": "stream",
     "text": [
      "[I 2023-12-22 01:46:02,490] Trial 91 finished with value: 0.007648887775969274 and parameters: {'alpha': 0.016471611967906613}. Best is trial 2 with value: 0.007721957903815912.\n"
     ]
    },
    {
     "name": "stdout",
     "output_type": "stream",
     "text": [
      "TwoScoresHybridRecommender: URM Detected 208 ( 1.6%) users with no interactions.\n",
      "TwoScoresHybridRecommender: URM Detected 108 ( 0.5%) items with no interactions.\n",
      "EvaluatorHoldout: Processed 1141 (100.0%) in 0.51 sec. Users per second: 2219\n"
     ]
    },
    {
     "name": "stderr",
     "output_type": "stream",
     "text": [
      "[I 2023-12-22 01:46:03,029] Trial 92 finished with value: 0.007583781979049278 and parameters: {'alpha': 0.041775798582564916}. Best is trial 2 with value: 0.007721957903815912.\n"
     ]
    },
    {
     "name": "stdout",
     "output_type": "stream",
     "text": [
      "TwoScoresHybridRecommender: URM Detected 208 ( 1.6%) users with no interactions.\n",
      "TwoScoresHybridRecommender: URM Detected 108 ( 0.5%) items with no interactions.\n",
      "EvaluatorHoldout: Processed 1141 (100.0%) in 0.50 sec. Users per second: 2262\n"
     ]
    },
    {
     "name": "stderr",
     "output_type": "stream",
     "text": [
      "[I 2023-12-22 01:46:03,558] Trial 93 finished with value: 0.0071914082606457635 and parameters: {'alpha': 0.0001939383009540302}. Best is trial 2 with value: 0.007721957903815912.\n"
     ]
    },
    {
     "name": "stdout",
     "output_type": "stream",
     "text": [
      "TwoScoresHybridRecommender: URM Detected 208 ( 1.6%) users with no interactions.\n",
      "TwoScoresHybridRecommender: URM Detected 108 ( 0.5%) items with no interactions.\n",
      "EvaluatorHoldout: Processed 1141 (100.0%) in 0.50 sec. Users per second: 2293\n"
     ]
    },
    {
     "name": "stderr",
     "output_type": "stream",
     "text": [
      "[I 2023-12-22 01:46:04,081] Trial 94 finished with value: 0.007652017862359656 and parameters: {'alpha': 0.09814582665863916}. Best is trial 2 with value: 0.007721957903815912.\n"
     ]
    },
    {
     "name": "stdout",
     "output_type": "stream",
     "text": [
      "TwoScoresHybridRecommender: URM Detected 208 ( 1.6%) users with no interactions.\n",
      "TwoScoresHybridRecommender: URM Detected 108 ( 0.5%) items with no interactions.\n",
      "EvaluatorHoldout: Processed 1141 (100.0%) in 0.51 sec. Users per second: 2239\n"
     ]
    },
    {
     "name": "stderr",
     "output_type": "stream",
     "text": [
      "[I 2023-12-22 01:46:04,615] Trial 95 finished with value: 0.007644714327448759 and parameters: {'alpha': 0.10482793960929725}. Best is trial 2 with value: 0.007721957903815912.\n"
     ]
    },
    {
     "name": "stdout",
     "output_type": "stream",
     "text": [
      "TwoScoresHybridRecommender: URM Detected 208 ( 1.6%) users with no interactions.\n",
      "TwoScoresHybridRecommender: URM Detected 108 ( 0.5%) items with no interactions.\n",
      "EvaluatorHoldout: Processed 1141 (100.0%) in 0.50 sec. Users per second: 2274\n"
     ]
    },
    {
     "name": "stderr",
     "output_type": "stream",
     "text": [
      "[I 2023-12-22 01:46:05,141] Trial 96 finished with value: 0.0076362978729323915 and parameters: {'alpha': 0.12530683905335266}. Best is trial 2 with value: 0.007721957903815912.\n"
     ]
    },
    {
     "name": "stdout",
     "output_type": "stream",
     "text": [
      "TwoScoresHybridRecommender: URM Detected 208 ( 1.6%) users with no interactions.\n",
      "TwoScoresHybridRecommender: URM Detected 108 ( 0.5%) items with no interactions.\n",
      "EvaluatorHoldout: Processed 1141 (100.0%) in 0.50 sec. Users per second: 2271\n"
     ]
    },
    {
     "name": "stderr",
     "output_type": "stream",
     "text": [
      "[I 2023-12-22 01:46:05,668] Trial 97 finished with value: 0.007624438323386605 and parameters: {'alpha': 0.07817064220938542}. Best is trial 2 with value: 0.007721957903815912.\n"
     ]
    },
    {
     "name": "stdout",
     "output_type": "stream",
     "text": [
      "TwoScoresHybridRecommender: URM Detected 208 ( 1.6%) users with no interactions.\n",
      "TwoScoresHybridRecommender: URM Detected 108 ( 0.5%) items with no interactions.\n",
      "EvaluatorHoldout: Processed 1141 (100.0%) in 0.50 sec. Users per second: 2298\n"
     ]
    },
    {
     "name": "stderr",
     "output_type": "stream",
     "text": [
      "[I 2023-12-22 01:46:06,189] Trial 98 finished with value: 0.007660782104252731 and parameters: {'alpha': 0.09403625239892137}. Best is trial 2 with value: 0.007721957903815912.\n"
     ]
    },
    {
     "name": "stdout",
     "output_type": "stream",
     "text": [
      "TwoScoresHybridRecommender: URM Detected 208 ( 1.6%) users with no interactions.\n",
      "TwoScoresHybridRecommender: URM Detected 108 ( 0.5%) items with no interactions.\n",
      "EvaluatorHoldout: Processed 1141 (100.0%) in 0.50 sec. Users per second: 2277\n"
     ]
    },
    {
     "name": "stderr",
     "output_type": "stream",
     "text": [
      "[I 2023-12-22 01:46:06,714] Trial 99 finished with value: 0.007580999680035601 and parameters: {'alpha': 0.1689643441003334}. Best is trial 2 with value: 0.007721957903815912.\n"
     ]
    }
   ],
   "source": [
    "study_name = \"KNN-study\"  # Unique identifier of the study.\n",
    "storage_name = \"sqlite:///db.db\"\n",
    "study = op.create_study(study_name=study_name, storage=storage_name, direction=\"maximize\", load_if_exists=True)\n",
    "study.optimize(objective, n_trials=100)"
   ],
   "metadata": {
    "collapsed": false,
    "ExecuteTime": {
     "end_time": "2023-12-22T00:46:06.720059Z",
     "start_time": "2023-12-22T00:45:12.471604Z"
    }
   },
   "id": "932910b333072bf8"
  },
  {
   "cell_type": "code",
   "execution_count": null,
   "outputs": [],
   "source": [],
   "metadata": {
    "collapsed": false
   },
   "id": "4f5abc04ab181a28"
  }
 ],
 "metadata": {
  "kernelspec": {
   "display_name": "Python 3",
   "language": "python",
   "name": "python3"
  },
  "language_info": {
   "codemirror_mode": {
    "name": "ipython",
    "version": 2
   },
   "file_extension": ".py",
   "mimetype": "text/x-python",
   "name": "python",
   "nbconvert_exporter": "python",
   "pygments_lexer": "ipython2",
   "version": "2.7.6"
  }
 },
 "nbformat": 4,
 "nbformat_minor": 5
}
