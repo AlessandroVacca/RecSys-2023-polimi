{
 "cells": [
  {
   "cell_type": "code",
   "execution_count": 1,
   "outputs": [
    {
     "name": "stdout",
     "output_type": "stream",
     "text": [
      "Warning: 221 (1.75 %) of 12638 users have no train items\n",
      "Warning: 2188 (17.31 %) of 12638 users have no sampled items\n"
     ]
    }
   ],
   "source": [
    "from Data_manager.UserUtils import *\n",
    "from Data_manager.split_functions.split_train_validation_random_holdout import \\\n",
    "    split_train_in_two_percentage_global_sample\n",
    "URM_all = getURM_all()\n",
    "URM_train_validation, URM_test = split_train_in_two_percentage_global_sample(URM_all, train_percentage = 0.80)"
   ],
   "metadata": {
    "collapsed": false,
    "ExecuteTime": {
     "end_time": "2024-01-02T22:59:42.966544Z",
     "start_time": "2024-01-02T22:59:41.327876Z"
    }
   },
   "id": "a884190b64cf557"
  },
  {
   "cell_type": "code",
   "execution_count": 2,
   "outputs": [],
   "source": [
    "import pickle\n",
    "\n",
    "with open('URM_train_validation.pkl', 'rb') as f:\n",
    "    URM_train_validation = pickle.load(f)\n",
    "with open('URM_test.pkl', 'rb') as f:\n",
    "    URM_test = pickle.load(f)"
   ],
   "metadata": {
    "collapsed": false,
    "ExecuteTime": {
     "end_time": "2024-01-02T22:59:42.968867Z",
     "start_time": "2024-01-02T22:59:42.960637Z"
    }
   },
   "id": "e40223c1e1d7469d"
  },
  {
   "cell_type": "code",
   "execution_count": 3,
   "outputs": [
    {
     "data": {
      "text/plain": "(array([36, 28,  3, ...,  5, 20, 56], dtype=int32), (12638,))"
     },
     "execution_count": 3,
     "metadata": {},
     "output_type": "execute_result"
    }
   ],
   "source": [
    "import numpy as np \n",
    "import scipy.sparse as sps\n",
    "profile_length = np.ediff1d(sps.csr_matrix(URM_train_validation).indptr)\n",
    "\n",
    "#profile_length = np.ediff1d(sps.csr_matrix(URM_train_validation).indptr)\n",
    "profile_length, profile_length.shape"
   ],
   "metadata": {
    "collapsed": false,
    "ExecuteTime": {
     "end_time": "2024-01-02T22:59:45.135881Z",
     "start_time": "2024-01-02T22:59:45.112562Z"
    }
   },
   "id": "1358f5c49e2b6657"
  },
  {
   "cell_type": "code",
   "execution_count": 9,
   "outputs": [
    {
     "name": "stdout",
     "output_type": "stream",
     "text": [
      "EvaluatorHoldout: Ignoring 2203 (17.4%) Users that have less than 1 test interactions\n",
      "EvaluatorHoldout: Ignoring 3936 Users\n"
     ]
    }
   ],
   "source": [
    "# PROFILE LENGTH BASED GROUPING\n",
    "from Evaluation.Evaluator import EvaluatorHoldout\n",
    "import numpy as np\n",
    "\n",
    "MAP_recommender_per_group = {}\n",
    "cutoff = 10\n",
    "threshold = 30\n",
    "\n",
    "# Select users whose profile length is less than the cutoff for the group and greater than or equal to the cutoff for the previous group\n",
    "\n",
    "users_in_group_flag = profile_length < threshold\n",
    "users_in_group = np.arange(len(profile_length))[users_in_group_flag]\n",
    "\n",
    "users_in_group_p_len = profile_length[users_in_group]\n",
    "\n",
    "# Select users not in the current group\n",
    "users_not_in_group_flag = np.isin(np.arange(len(profile_length)), users_in_group, invert=True)\n",
    "users_not_in_group = np.arange(len(profile_length))[users_not_in_group_flag]\n",
    "\n",
    "evaluator_validation = EvaluatorHoldout(URM_test, cutoff_list=[cutoff], ignore_users=users_not_in_group)"
   ],
   "metadata": {
    "collapsed": false,
    "ExecuteTime": {
     "end_time": "2024-01-02T23:07:02.916270Z",
     "start_time": "2024-01-02T23:07:02.902832Z"
    }
   },
   "id": "882e7d0ca5d30a07"
  },
  {
   "cell_type": "code",
   "execution_count": 8,
   "outputs": [
    {
     "name": "stdout",
     "output_type": "stream",
     "text": [
      "SLIMElasticNetRecommender: URM Detected 205 ( 1.6%) users with no interactions.\n",
      "SLIMElasticNetRecommender: URM Detected 109 ( 0.5%) items with no interactions.\n",
      "SLIMElasticNetRecommender: Processed 22222 (100.0%) in 4.51 min. Items per second: 82.14\n",
      "RP3betaRecommender: URM Detected 205 ( 1.6%) users with no interactions.\n",
      "RP3betaRecommender: URM Detected 109 ( 0.5%) items with no interactions.\n",
      "RP3betaRecommender: Similarity column 22222 (100.0%), 7454.18 column/sec. Elapsed time 2.98 sec\n",
      "UserKNNCFRecommender: URM Detected 205 ( 1.6%) users with no interactions.\n",
      "UserKNNCFRecommender: URM Detected 109 ( 0.5%) items with no interactions.\n",
      "Similarity column 12638 (100.0%), 10183.31 column/sec. Elapsed time 1.24 sec\n",
      "ItemKNNCFRecommender: URM Detected 205 ( 1.6%) users with no interactions.\n",
      "ItemKNNCFRecommender: URM Detected 109 ( 0.5%) items with no interactions.\n",
      "Similarity column 22222 (100.0%), 10183.49 column/sec. Elapsed time 2.18 sec\n",
      "EASE_R_Recommender: URM Detected 205 ( 1.6%) users with no interactions.\n",
      "EASE_R_Recommender: URM Detected 109 ( 0.5%) items with no interactions.\n",
      "EASE_R_Recommender: Fitting model... \n",
      "EASE_R_Recommender: Fitting model... done in 2.03 min\n",
      "EvaluatorHoldout: Ignoring 2203 (17.4%) Users that have less than 1 test interactions\n"
     ]
    }
   ],
   "source": [
    "from Hybrid import *\n",
    "from Recommenders.SLIM.SLIMElasticNetRecommender import *\n",
    "from Recommenders.MatrixFactorization.PureSVDRecommender import PureSVDRecommender\n",
    "from Recommenders.GraphBased.P3alphaRecommender import P3alphaRecommender\n",
    "from Recommenders.GraphBased.RP3betaRecommender import RP3betaRecommender\n",
    "from Recommenders.KNN.UserKNNCFRecommender import UserKNNCFRecommender\n",
    "from Recommenders.KNN.ItemKNNCFRecommender import ItemKNNCFRecommender\n",
    "from Recommenders.EASE_R.EASE_R_Recommender import EASE_R_Recommender\n",
    "## SLIM\n",
    "slim = SLIMElasticNetRecommender(URM_train_validation)\n",
    "slim.fit(topK=8894, l1_ratio=0.05565733019999427, alpha=0.0012979360257937668)#, workers=7)\n",
    "## RP3BETA\n",
    "rp3beta = RP3betaRecommender(URM_train_validation)\n",
    "rp3beta.fit(alpha=0.20026352123406477, beta=0.15999879728761354, topK=32)\n",
    "## USER KNN\n",
    "userknn = UserKNNCFRecommender(URM_train_validation)\n",
    "userknn.fit(topK=469, shrink=38, similarity='asymmetric', normalize=True,\n",
    "                                       feature_weighting='TF-IDF', asymmetric_alpha=0.40077406933762383)\n",
    "## ITEM KNN\n",
    "itemknn = ItemKNNCFRecommender(URM_train_validation)\n",
    "itemknn.fit(topK=31, shrink=435, similarity='tversky', normalize=True,\n",
    "                                       feature_weighting='BM25', tversky_alpha=0.17113169506422393, tversky_beta=0.5684024974085575)\n",
    "## EASE_R\n",
    "ease_r = EASE_R_Recommender(URM_train_validation)\n",
    "ease_r.fit(topK=24, l2_norm=37.54323189430143)\n",
    "\n",
    "model = LinearHybridRecommender\n",
    "\n",
    "from Evaluation.Evaluator import EvaluatorHoldout\n",
    "\n",
    "evaluator_validation = EvaluatorHoldout(URM_test, cutoff_list=[10])"
   ],
   "metadata": {
    "collapsed": false,
    "ExecuteTime": {
     "end_time": "2024-01-02T23:06:57.205713Z",
     "start_time": "2024-01-02T23:00:08.544879Z"
    }
   },
   "id": "7789e39614525279"
  },
  {
   "cell_type": "code",
   "execution_count": 10,
   "outputs": [
    {
     "name": "stdout",
     "output_type": "stream",
     "text": [
      "TwoScoresHybridRecommender: URM Detected 205 ( 1.6%) users with no interactions.\n",
      "TwoScoresHybridRecommender: URM Detected 109 ( 0.5%) items with no interactions.\n"
     ]
    }
   ],
   "source": [
    "knn = TwoScoresHybridRecommender(URM_train_validation, userknn, itemknn)\n",
    "knn.fit(alpha=0.022195783788315104)"
   ],
   "metadata": {
    "collapsed": false,
    "ExecuteTime": {
     "end_time": "2024-01-02T23:07:06.225906Z",
     "start_time": "2024-01-02T23:07:06.216126Z"
    }
   },
   "id": "565e84e394099372"
  },
  {
   "cell_type": "code",
   "execution_count": 6,
   "outputs": [
    {
     "name": "stdout",
     "output_type": "stream",
     "text": [
      "MultVAERecommender: URM Detected 205 ( 1.6%) users with no interactions.\n",
      "MultVAERecommender: URM Detected 109 ( 0.5%) items with no interactions.\n",
      "MultVAERecommender: Loading model from file 'slim_models/MultVAE_train_validation_300'\n"
     ]
    },
    {
     "name": "stderr",
     "output_type": "stream",
     "text": [
      "2024-01-03 00:00:03.635938: I metal_plugin/src/device/metal_device.cc:1154] Metal device set to: Apple M1 Pro\n",
      "2024-01-03 00:00:03.635964: I metal_plugin/src/device/metal_device.cc:296] systemMemory: 16.00 GB\n",
      "2024-01-03 00:00:03.635969: I metal_plugin/src/device/metal_device.cc:313] maxCacheSize: 5.33 GB\n",
      "2024-01-03 00:00:03.635999: I tensorflow/core/common_runtime/pluggable_device/pluggable_device_factory.cc:306] Could not identify NUMA node of platform GPU ID 0, defaulting to 0. Your kernel may not have been built with NUMA support.\n",
      "2024-01-03 00:00:03.636016: I tensorflow/core/common_runtime/pluggable_device/pluggable_device_factory.cc:272] Created TensorFlow device (/job:localhost/replica:0/task:0/device:GPU:0 with 0 MB memory) -> physical PluggableDevice (device: 0, name: METAL, pci bus id: <undefined>)\n",
      "2024-01-03 00:00:03.734153: I tensorflow/compiler/mlir/mlir_graph_optimization_pass.cc:388] MLIR V1 optimization pass is not enabled\n",
      "2024-01-03 00:00:03.737097: I tensorflow/core/grappler/optimizers/custom_graph_optimizer_registry.cc:117] Plugin optimizer for device_type GPU is enabled.\n"
     ]
    },
    {
     "name": "stdout",
     "output_type": "stream",
     "text": [
      "INFO:tensorflow:Restoring parameters from slim_models/MultVAE_train_validation_300/.session/session\n",
      "MultVAERecommender: Loading complete\n"
     ]
    }
   ],
   "source": [
    "from Recommenders.Neural.MultVAERecommender import MultVAERecommender\n",
    "multvae = MultVAERecommender(URM_train_validation)\n",
    "multvae.load_model(folder_path=\"slim_models/\", file_name=\"MultVAE_train_validation_300\")"
   ],
   "metadata": {
    "collapsed": false,
    "ExecuteTime": {
     "end_time": "2024-01-02T23:00:04.298973Z",
     "start_time": "2024-01-02T23:00:00.324568Z"
    }
   },
   "id": "de07452a3f9091e"
  },
  {
   "cell_type": "code",
   "execution_count": 7,
   "outputs": [
    {
     "name": "stdout",
     "output_type": "stream",
     "text": [
      "IALSRecommender: URM Detected 205 ( 1.6%) users with no interactions.\n",
      "IALSRecommender: URM Detected 109 ( 0.5%) items with no interactions.\n",
      "IALSRecommender: Loading model from file 'slim_models/IALS_train_validation'\n",
      "IALSRecommender: Loading complete\n"
     ]
    }
   ],
   "source": [
    "from Recommenders.MatrixFactorization.IALSRecommender import IALSRecommender\n",
    "ials = IALSRecommender(URM_train_validation)\n",
    "ials.load_model(folder_path=\"slim_models/\", file_name=\"IALS_train_validation\")"
   ],
   "metadata": {
    "collapsed": false,
    "ExecuteTime": {
     "end_time": "2024-01-02T23:00:06.643297Z",
     "start_time": "2024-01-02T23:00:06.313113Z"
    }
   },
   "id": "37822aca6d131122"
  },
  {
   "cell_type": "code",
   "execution_count": 17,
   "outputs": [
    {
     "name": "stdout",
     "output_type": "stream",
     "text": [
      "SLIMElasticNetRP3betaTwoScoresHybridEASE_R_HybridRecommender: URM Detected 205 ( 1.6%) users with no interactions.\n",
      "SLIMElasticNetRP3betaTwoScoresHybridEASE_R_HybridRecommender: URM Detected 109 ( 0.5%) items with no interactions.\n",
      "SLIMElasticNetRP3betaTwoScoresHybridEASE_R_HybridIALSHybridRecommender: URM Detected 205 ( 1.6%) users with no interactions.\n",
      "SLIMElasticNetRP3betaTwoScoresHybridEASE_R_HybridIALSHybridRecommender: URM Detected 109 ( 0.5%) items with no interactions.\n"
     ]
    }
   ],
   "source": [
    "hybrid = LinearHybridRecommender(URM_train_validation, [slim, rp3beta, knn, ease_r])\n",
    "hybrid.fit(alphas=[0.8857667100747117, 0.6379807942443021, 0.0690929184825888, 0.11953478623354052])\n",
    "hybrid_recommender = LinearHybridRecommender(URM_train_validation, [hybrid, ials])"
   ],
   "metadata": {
    "collapsed": false,
    "ExecuteTime": {
     "end_time": "2024-01-02T23:31:52.514954Z",
     "start_time": "2024-01-02T23:31:52.486279Z"
    }
   },
   "id": "1cf94f3d15cce754"
  },
  {
   "cell_type": "code",
   "execution_count": 19,
   "outputs": [],
   "source": [
    "import optuna as op\n",
    "def objective(trial):\n",
    "    alpha = trial.suggest_float('alpha', 0, 1)\n",
    "    beta = trial.suggest_float('beta', 0, 1)\n",
    "    \n",
    "    # Create hybrid recommender with the suggested weights\n",
    "    hybrid_recommender.fit(alphas=[alpha,beta])\n",
    "    \n",
    "    # Evaluate the hybrid recommender\n",
    "    result, _ = evaluator_validation.evaluateRecommender(hybrid_recommender)\n",
    "    MAP_result = result[\"MAP\"].item()\n",
    "       \n",
    "    return MAP_result"
   ],
   "metadata": {
    "collapsed": false,
    "ExecuteTime": {
     "end_time": "2024-01-02T23:32:26.226698Z",
     "start_time": "2024-01-02T23:32:26.221368Z"
    }
   },
   "id": "23a7609029f4e05e"
  },
  {
   "cell_type": "code",
   "execution_count": 23,
   "outputs": [
    {
     "name": "stderr",
     "output_type": "stream",
     "text": [
      "[I 2024-01-03 00:42:42,224] Using an existing study with name 'hybrid-IALS-2-study' instead of creating a new one.\n"
     ]
    },
    {
     "name": "stdout",
     "output_type": "stream",
     "text": [
      "EvaluatorHoldout: Processed 6499 (100.0%) in 6.43 sec. Users per second: 1011\n"
     ]
    },
    {
     "name": "stderr",
     "output_type": "stream",
     "text": [
      "[I 2024-01-03 00:42:48,724] Trial 100 finished with value: 0.027760662812593755 and parameters: {'alpha': 0.9311482355816865, 'beta': 0.11140454328425922}. Best is trial 91 with value: 0.027817093960731346.\n"
     ]
    },
    {
     "name": "stdout",
     "output_type": "stream",
     "text": [
      "EvaluatorHoldout: Processed 6499 (100.0%) in 5.46 sec. Users per second: 1190\n"
     ]
    },
    {
     "name": "stderr",
     "output_type": "stream",
     "text": [
      "[I 2024-01-03 00:42:54,227] Trial 101 finished with value: 0.0277887684796439 and parameters: {'alpha': 0.8967311811063379, 'beta': 0.041641596201290085}. Best is trial 91 with value: 0.027817093960731346.\n"
     ]
    },
    {
     "name": "stdout",
     "output_type": "stream",
     "text": [
      "EvaluatorHoldout: Processed 6499 (100.0%) in 5.50 sec. Users per second: 1181\n"
     ]
    },
    {
     "name": "stderr",
     "output_type": "stream",
     "text": [
      "[I 2024-01-03 00:42:59,764] Trial 102 finished with value: 0.027797902974083827 and parameters: {'alpha': 0.9007677821422898, 'beta': 0.04313016994909251}. Best is trial 91 with value: 0.027817093960731346.\n"
     ]
    },
    {
     "name": "stdout",
     "output_type": "stream",
     "text": [
      "EvaluatorHoldout: Processed 6499 (100.0%) in 5.27 sec. Users per second: 1233\n"
     ]
    },
    {
     "name": "stderr",
     "output_type": "stream",
     "text": [
      "[I 2024-01-03 00:43:05,077] Trial 103 finished with value: 0.027741337495145655 and parameters: {'alpha': 0.8995596433357819, 'beta': 0.08964662321991071}. Best is trial 91 with value: 0.027817093960731346.\n"
     ]
    },
    {
     "name": "stdout",
     "output_type": "stream",
     "text": [
      "EvaluatorHoldout: Processed 6499 (100.0%) in 6.01 sec. Users per second: 1081\n"
     ]
    },
    {
     "name": "stderr",
     "output_type": "stream",
     "text": [
      "[I 2024-01-03 00:43:11,123] Trial 104 finished with value: 0.02776481485552102 and parameters: {'alpha': 0.9410558059229561, 'beta': 0.059956466495107934}. Best is trial 91 with value: 0.027817093960731346.\n"
     ]
    },
    {
     "name": "stdout",
     "output_type": "stream",
     "text": [
      "EvaluatorHoldout: Processed 6499 (100.0%) in 4.95 sec. Users per second: 1312\n"
     ]
    },
    {
     "name": "stderr",
     "output_type": "stream",
     "text": [
      "[I 2024-01-03 00:43:16,114] Trial 105 finished with value: 0.027797902974083827 and parameters: {'alpha': 0.9121512818207328, 'beta': 0.04366927582214527}. Best is trial 91 with value: 0.027817093960731346.\n"
     ]
    },
    {
     "name": "stdout",
     "output_type": "stream",
     "text": [
      "EvaluatorHoldout: Processed 6499 (100.0%) in 5.54 sec. Users per second: 1173\n"
     ]
    },
    {
     "name": "stderr",
     "output_type": "stream",
     "text": [
      "[I 2024-01-03 00:43:21,697] Trial 106 finished with value: 0.027741477931891714 and parameters: {'alpha': 0.9693432230097819, 'beta': 0.020625860745902648}. Best is trial 91 with value: 0.027817093960731346.\n"
     ]
    },
    {
     "name": "stdout",
     "output_type": "stream",
     "text": [
      "EvaluatorHoldout: Processed 6499 (100.0%) in 5.59 sec. Users per second: 1162\n"
     ]
    },
    {
     "name": "stderr",
     "output_type": "stream",
     "text": [
      "[I 2024-01-03 00:43:27,340] Trial 107 finished with value: 0.027753976802291823 and parameters: {'alpha': 0.9158521497757491, 'beta': 0.06617494502224543}. Best is trial 91 with value: 0.027817093960731346.\n"
     ]
    },
    {
     "name": "stdout",
     "output_type": "stream",
     "text": [
      "EvaluatorHoldout: Processed 6499 (100.0%) in 4.95 sec. Users per second: 1314\n"
     ]
    },
    {
     "name": "stderr",
     "output_type": "stream",
     "text": [
      "[I 2024-01-03 00:43:32,323] Trial 108 finished with value: 0.02776328836915069 and parameters: {'alpha': 0.9850475979591332, 'beta': 0.08835425688314372}. Best is trial 91 with value: 0.027817093960731346.\n"
     ]
    },
    {
     "name": "stdout",
     "output_type": "stream",
     "text": [
      "EvaluatorHoldout: Processed 6499 (100.0%) in 4.54 sec. Users per second: 1431\n"
     ]
    },
    {
     "name": "stderr",
     "output_type": "stream",
     "text": [
      "[I 2024-01-03 00:43:36,889] Trial 109 finished with value: 0.02777811360477913 and parameters: {'alpha': 0.9448705036318245, 'beta': 0.12465382816257556}. Best is trial 91 with value: 0.027817093960731346.\n"
     ]
    },
    {
     "name": "stdout",
     "output_type": "stream",
     "text": [
      "EvaluatorHoldout: Processed 6499 (100.0%) in 4.59 sec. Users per second: 1416\n"
     ]
    },
    {
     "name": "stderr",
     "output_type": "stream",
     "text": [
      "[I 2024-01-03 00:43:41,511] Trial 110 finished with value: 0.027745538385636734 and parameters: {'alpha': 0.8850266729538709, 'beta': 0.017136370036744612}. Best is trial 91 with value: 0.027817093960731346.\n"
     ]
    },
    {
     "name": "stdout",
     "output_type": "stream",
     "text": [
      "EvaluatorHoldout: Processed 6499 (100.0%) in 4.77 sec. Users per second: 1364\n"
     ]
    },
    {
     "name": "stderr",
     "output_type": "stream",
     "text": [
      "[I 2024-01-03 00:43:46,305] Trial 111 finished with value: 0.027808276975456438 and parameters: {'alpha': 0.9070447241016035, 'beta': 0.04717041383416033}. Best is trial 91 with value: 0.027817093960731346.\n"
     ]
    },
    {
     "name": "stdout",
     "output_type": "stream",
     "text": [
      "EvaluatorHoldout: Processed 6499 (100.0%) in 4.79 sec. Users per second: 1358\n"
     ]
    },
    {
     "name": "stderr",
     "output_type": "stream",
     "text": [
      "[I 2024-01-03 00:43:51,128] Trial 112 finished with value: 0.02780267171750467 and parameters: {'alpha': 0.9995692547847514, 'beta': 0.04845970038226135}. Best is trial 91 with value: 0.027817093960731346.\n"
     ]
    },
    {
     "name": "stdout",
     "output_type": "stream",
     "text": [
      "EvaluatorHoldout: Processed 6499 (100.0%) in 4.63 sec. Users per second: 1404\n"
     ]
    },
    {
     "name": "stderr",
     "output_type": "stream",
     "text": [
      "[I 2024-01-03 00:43:55,785] Trial 113 finished with value: 0.02779607729638494 and parameters: {'alpha': 0.9909096591364952, 'beta': 0.04689178092690952}. Best is trial 91 with value: 0.027817093960731346.\n"
     ]
    },
    {
     "name": "stdout",
     "output_type": "stream",
     "text": [
      "EvaluatorHoldout: Processed 6499 (100.0%) in 5.67 sec. Users per second: 1147\n"
     ]
    },
    {
     "name": "stderr",
     "output_type": "stream",
     "text": [
      "[I 2024-01-03 00:44:01,489] Trial 114 finished with value: 0.027739994187139808 and parameters: {'alpha': 0.9619282674160775, 'beta': 0.0734724468101188}. Best is trial 91 with value: 0.027817093960731346.\n"
     ]
    },
    {
     "name": "stdout",
     "output_type": "stream",
     "text": [
      "EvaluatorHoldout: Processed 6499 (100.0%) in 5.18 sec. Users per second: 1254\n"
     ]
    },
    {
     "name": "stderr",
     "output_type": "stream",
     "text": [
      "[I 2024-01-03 00:44:06,711] Trial 115 finished with value: 0.02774658250231403 and parameters: {'alpha': 0.9217791972368029, 'beta': 0.098154311804008}. Best is trial 91 with value: 0.027817093960731346.\n"
     ]
    },
    {
     "name": "stdout",
     "output_type": "stream",
     "text": [
      "EvaluatorHoldout: Processed 6499 (100.0%) in 4.61 sec. Users per second: 1411\n"
     ]
    },
    {
     "name": "stderr",
     "output_type": "stream",
     "text": [
      "[I 2024-01-03 00:44:11,348] Trial 116 finished with value: 0.027802885425596502 and parameters: {'alpha': 0.9402189451194931, 'beta': 0.05050660372632586}. Best is trial 91 with value: 0.027817093960731346.\n"
     ]
    },
    {
     "name": "stdout",
     "output_type": "stream",
     "text": [
      "EvaluatorHoldout: Processed 6499 (100.0%) in 4.84 sec. Users per second: 1342\n"
     ]
    },
    {
     "name": "stderr",
     "output_type": "stream",
     "text": [
      "[I 2024-01-03 00:44:16,224] Trial 117 finished with value: 0.02772450950939938 and parameters: {'alpha': 0.9964991421776032, 'beta': 0.001846523746099435}. Best is trial 91 with value: 0.027817093960731346.\n"
     ]
    },
    {
     "name": "stdout",
     "output_type": "stream",
     "text": [
      "EvaluatorHoldout: Processed 6499 (100.0%) in 4.75 sec. Users per second: 1369\n"
     ]
    },
    {
     "name": "stderr",
     "output_type": "stream",
     "text": [
      "[I 2024-01-03 00:44:21,000] Trial 118 finished with value: 0.027765169000358927 and parameters: {'alpha': 0.9427845396571624, 'beta': 0.0628595053587329}. Best is trial 91 with value: 0.027817093960731346.\n"
     ]
    },
    {
     "name": "stdout",
     "output_type": "stream",
     "text": [
      "EvaluatorHoldout: Processed 6499 (100.0%) in 4.45 sec. Users per second: 1461\n"
     ]
    },
    {
     "name": "stderr",
     "output_type": "stream",
     "text": [
      "[I 2024-01-03 00:44:25,481] Trial 119 finished with value: 0.02771610162247176 and parameters: {'alpha': 0.9089312003815925, 'beta': 0.17155748991667247}. Best is trial 91 with value: 0.027817093960731346.\n"
     ]
    },
    {
     "name": "stdout",
     "output_type": "stream",
     "text": [
      "EvaluatorHoldout: Processed 6499 (100.0%) in 4.49 sec. Users per second: 1448\n"
     ]
    },
    {
     "name": "stderr",
     "output_type": "stream",
     "text": [
      "[I 2024-01-03 00:44:30,001] Trial 120 finished with value: 0.02774983086531005 and parameters: {'alpha': 0.9697849041978635, 'beta': 0.13068546306546397}. Best is trial 91 with value: 0.027817093960731346.\n"
     ]
    },
    {
     "name": "stdout",
     "output_type": "stream",
     "text": [
      "EvaluatorHoldout: Processed 6499 (100.0%) in 4.85 sec. Users per second: 1339\n"
     ]
    },
    {
     "name": "stderr",
     "output_type": "stream",
     "text": [
      "[I 2024-01-03 00:44:34,891] Trial 121 finished with value: 0.027788402122915026 and parameters: {'alpha': 0.8780976156197716, 'beta': 0.041085193743841855}. Best is trial 91 with value: 0.027817093960731346.\n"
     ]
    },
    {
     "name": "stdout",
     "output_type": "stream",
     "text": [
      "EvaluatorHoldout: Processed 6499 (100.0%) in 4.79 sec. Users per second: 1358\n"
     ]
    },
    {
     "name": "stderr",
     "output_type": "stream",
     "text": [
      "[I 2024-01-03 00:44:39,708] Trial 122 finished with value: 0.027761816836289723 and parameters: {'alpha': 0.9378000065417376, 'beta': 0.014711366914601662}. Best is trial 91 with value: 0.027817093960731346.\n"
     ]
    },
    {
     "name": "stdout",
     "output_type": "stream",
     "text": [
      "EvaluatorHoldout: Processed 6499 (100.0%) in 4.48 sec. Users per second: 1449\n"
     ]
    },
    {
     "name": "stderr",
     "output_type": "stream",
     "text": [
      "[I 2024-01-03 00:44:44,221] Trial 123 finished with value: 0.027801279561934938 and parameters: {'alpha': 0.9048997745322584, 'beta': 0.04789766373603665}. Best is trial 91 with value: 0.027817093960731346.\n"
     ]
    },
    {
     "name": "stdout",
     "output_type": "stream",
     "text": [
      "EvaluatorHoldout: Processed 6499 (100.0%) in 4.66 sec. Users per second: 1395\n"
     ]
    },
    {
     "name": "stderr",
     "output_type": "stream",
     "text": [
      "[I 2024-01-03 00:44:48,910] Trial 124 finished with value: 0.027758769969494577 and parameters: {'alpha': 0.90968325471629, 'beta': 0.08291028641824394}. Best is trial 91 with value: 0.027817093960731346.\n"
     ]
    },
    {
     "name": "stdout",
     "output_type": "stream",
     "text": [
      "EvaluatorHoldout: Processed 6499 (100.0%) in 4.49 sec. Users per second: 1447\n"
     ]
    },
    {
     "name": "stderr",
     "output_type": "stream",
     "text": [
      "[I 2024-01-03 00:44:53,428] Trial 125 finished with value: 0.027770871953438376 and parameters: {'alpha': 0.9832710703320487, 'beta': 0.10963258271278441}. Best is trial 91 with value: 0.027817093960731346.\n"
     ]
    },
    {
     "name": "stdout",
     "output_type": "stream",
     "text": [
      "EvaluatorHoldout: Processed 6499 (100.0%) in 4.60 sec. Users per second: 1414\n"
     ]
    },
    {
     "name": "stderr",
     "output_type": "stream",
     "text": [
      "[I 2024-01-03 00:44:58,051] Trial 126 finished with value: 0.027801053641952136 and parameters: {'alpha': 0.9497321080906062, 'beta': 0.05143592641447293}. Best is trial 91 with value: 0.027817093960731346.\n"
     ]
    },
    {
     "name": "stdout",
     "output_type": "stream",
     "text": [
      "EvaluatorHoldout: Processed 6499 (100.0%) in 4.50 sec. Users per second: 1443\n"
     ]
    },
    {
     "name": "stderr",
     "output_type": "stream",
     "text": [
      "[I 2024-01-03 00:45:02,593] Trial 127 finished with value: 0.02776416762530001 and parameters: {'alpha': 0.9545294941604499, 'beta': 0.058950852115783485}. Best is trial 91 with value: 0.027817093960731346.\n"
     ]
    },
    {
     "name": "stdout",
     "output_type": "stream",
     "text": [
      "EvaluatorHoldout: Processed 6499 (100.0%) in 4.47 sec. Users per second: 1454\n"
     ]
    },
    {
     "name": "stderr",
     "output_type": "stream",
     "text": [
      "[I 2024-01-03 00:45:07,091] Trial 128 finished with value: 0.027738247886732136 and parameters: {'alpha': 0.9222969616941947, 'beta': 0.018855420729023548}. Best is trial 91 with value: 0.027817093960731346.\n"
     ]
    },
    {
     "name": "stdout",
     "output_type": "stream",
     "text": [
      "EvaluatorHoldout: Processed 6499 (100.0%) in 4.53 sec. Users per second: 1435\n"
     ]
    },
    {
     "name": "stderr",
     "output_type": "stream",
     "text": [
      "[I 2024-01-03 00:45:11,645] Trial 129 finished with value: 0.027758110527382605 and parameters: {'alpha': 0.9979502011556047, 'beta': 0.09058075137091981}. Best is trial 91 with value: 0.027817093960731346.\n"
     ]
    },
    {
     "name": "stdout",
     "output_type": "stream",
     "text": [
      "EvaluatorHoldout: Processed 6499 (100.0%) in 4.64 sec. Users per second: 1399\n"
     ]
    },
    {
     "name": "stderr",
     "output_type": "stream",
     "text": [
      "[I 2024-01-03 00:45:16,327] Trial 130 finished with value: 0.027741789335111285 and parameters: {'alpha': 0.8810837365892034, 'beta': 0.06692054042151448}. Best is trial 91 with value: 0.027817093960731346.\n"
     ]
    },
    {
     "name": "stdout",
     "output_type": "stream",
     "text": [
      "EvaluatorHoldout: Processed 6499 (100.0%) in 4.83 sec. Users per second: 1344\n"
     ]
    },
    {
     "name": "stderr",
     "output_type": "stream",
     "text": [
      "[I 2024-01-03 00:45:21,190] Trial 131 finished with value: 0.027813546406406747 and parameters: {'alpha': 0.9524351425220899, 'beta': 0.04817894926602798}. Best is trial 91 with value: 0.027817093960731346.\n"
     ]
    },
    {
     "name": "stdout",
     "output_type": "stream",
     "text": [
      "EvaluatorHoldout: Processed 6499 (100.0%) in 4.39 sec. Users per second: 1479\n"
     ]
    },
    {
     "name": "stderr",
     "output_type": "stream",
     "text": [
      "[I 2024-01-03 00:45:25,611] Trial 132 finished with value: 0.027740293378468374 and parameters: {'alpha': 0.9715895894303993, 'beta': 0.00027026733912347}. Best is trial 91 with value: 0.027817093960731346.\n"
     ]
    },
    {
     "name": "stdout",
     "output_type": "stream",
     "text": [
      "EvaluatorHoldout: Processed 6499 (100.0%) in 5.10 sec. Users per second: 1274\n"
     ]
    },
    {
     "name": "stderr",
     "output_type": "stream",
     "text": [
      "[I 2024-01-03 00:45:30,754] Trial 133 finished with value: 0.027768484528755237 and parameters: {'alpha': 0.951401581142677, 'beta': 0.055467580957449344}. Best is trial 91 with value: 0.027817093960731346.\n"
     ]
    },
    {
     "name": "stdout",
     "output_type": "stream",
     "text": [
      "EvaluatorHoldout: Processed 6499 (100.0%) in 5.84 sec. Users per second: 1113\n"
     ]
    },
    {
     "name": "stderr",
     "output_type": "stream",
     "text": [
      "[I 2024-01-03 00:45:36,637] Trial 134 finished with value: 0.02775340284341655 and parameters: {'alpha': 0.9009300623954037, 'beta': 0.02323562917520606}. Best is trial 91 with value: 0.027817093960731346.\n"
     ]
    },
    {
     "name": "stdout",
     "output_type": "stream",
     "text": [
      "EvaluatorHoldout: Processed 6499 (100.0%) in 4.73 sec. Users per second: 1373\n"
     ]
    },
    {
     "name": "stderr",
     "output_type": "stream",
     "text": [
      "[I 2024-01-03 00:45:41,401] Trial 135 finished with value: 0.02774329750364513 and parameters: {'alpha': 0.9317216370276491, 'beta': 0.11538212731144754}. Best is trial 91 with value: 0.027817093960731346.\n"
     ]
    },
    {
     "name": "stdout",
     "output_type": "stream",
     "text": [
      "EvaluatorHoldout: Processed 6499 (100.0%) in 5.22 sec. Users per second: 1244\n"
     ]
    },
    {
     "name": "stderr",
     "output_type": "stream",
     "text": [
      "[I 2024-01-03 00:45:46,663] Trial 136 finished with value: 0.027756962609632146 and parameters: {'alpha': 0.975478478528877, 'beta': 0.07896629692340448}. Best is trial 91 with value: 0.027817093960731346.\n"
     ]
    },
    {
     "name": "stdout",
     "output_type": "stream",
     "text": [
      "EvaluatorHoldout: Processed 6499 (100.0%) in 4.68 sec. Users per second: 1390\n"
     ]
    },
    {
     "name": "stderr",
     "output_type": "stream",
     "text": [
      "[I 2024-01-03 00:45:51,373] Trial 137 finished with value: 0.027808276975456438 and parameters: {'alpha': 0.9489837131626877, 'beta': 0.049387692029805697}. Best is trial 91 with value: 0.027817093960731346.\n"
     ]
    },
    {
     "name": "stdout",
     "output_type": "stream",
     "text": [
      "EvaluatorHoldout: Processed 6499 (100.0%) in 4.40 sec. Users per second: 1476\n"
     ]
    },
    {
     "name": "stderr",
     "output_type": "stream",
     "text": [
      "[I 2024-01-03 00:45:55,814] Trial 138 finished with value: 0.027750398718239807 and parameters: {'alpha': 0.9670103336577948, 'beta': 0.1410915608504807}. Best is trial 91 with value: 0.027817093960731346.\n"
     ]
    },
    {
     "name": "stdout",
     "output_type": "stream",
     "text": [
      "EvaluatorHoldout: Processed 6499 (100.0%) in 4.43 sec. Users per second: 1468\n"
     ]
    },
    {
     "name": "stderr",
     "output_type": "stream",
     "text": [
      "[I 2024-01-03 00:46:00,275] Trial 139 finished with value: 0.02774810898868434 and parameters: {'alpha': 0.9356363047289633, 'beta': 0.10107920172942103}. Best is trial 91 with value: 0.027817093960731346.\n"
     ]
    },
    {
     "name": "stdout",
     "output_type": "stream",
     "text": [
      "EvaluatorHoldout: Processed 6499 (100.0%) in 4.44 sec. Users per second: 1463\n"
     ]
    },
    {
     "name": "stderr",
     "output_type": "stream",
     "text": [
      "[I 2024-01-03 00:46:04,743] Trial 140 finished with value: 0.02780935772780662 and parameters: {'alpha': 0.9517221676050123, 'beta': 0.0466744833650908}. Best is trial 91 with value: 0.027817093960731346.\n"
     ]
    },
    {
     "name": "stdout",
     "output_type": "stream",
     "text": [
      "EvaluatorHoldout: Processed 6499 (100.0%) in 4.44 sec. Users per second: 1462\n"
     ]
    },
    {
     "name": "stderr",
     "output_type": "stream",
     "text": [
      "[I 2024-01-03 00:46:09,216] Trial 141 finished with value: 0.02780305639206998 and parameters: {'alpha': 0.9527995203580415, 'beta': 0.05123761078260639}. Best is trial 91 with value: 0.027817093960731346.\n"
     ]
    },
    {
     "name": "stdout",
     "output_type": "stream",
     "text": [
      "EvaluatorHoldout: Processed 6499 (100.0%) in 4.47 sec. Users per second: 1455\n"
     ]
    },
    {
     "name": "stderr",
     "output_type": "stream",
     "text": [
      "[I 2024-01-03 00:46:13,713] Trial 142 finished with value: 0.027750130056638657 and parameters: {'alpha': 0.950977079973596, 'beta': 0.07127378735590428}. Best is trial 91 with value: 0.027817093960731346.\n"
     ]
    },
    {
     "name": "stdout",
     "output_type": "stream",
     "text": [
      "EvaluatorHoldout: Processed 6499 (100.0%) in 4.45 sec. Users per second: 1462\n"
     ]
    },
    {
     "name": "stderr",
     "output_type": "stream",
     "text": [
      "[I 2024-01-03 00:46:18,188] Trial 143 finished with value: 0.02774068415897915 and parameters: {'alpha': 0.9988110835432695, 'beta': 0.021023378321911812}. Best is trial 91 with value: 0.027817093960731346.\n"
     ]
    },
    {
     "name": "stdout",
     "output_type": "stream",
     "text": [
      "EvaluatorHoldout: Processed 6499 (100.0%) in 4.52 sec. Users per second: 1439\n"
     ]
    },
    {
     "name": "stderr",
     "output_type": "stream",
     "text": [
      "[I 2024-01-03 00:46:22,732] Trial 144 finished with value: 0.027728521115580603 and parameters: {'alpha': 0.9749022967141732, 'beta': 0.26608483008071315}. Best is trial 91 with value: 0.027817093960731346.\n"
     ]
    },
    {
     "name": "stdout",
     "output_type": "stream",
     "text": [
      "EvaluatorHoldout: Processed 6499 (100.0%) in 4.44 sec. Users per second: 1465\n"
     ]
    },
    {
     "name": "stderr",
     "output_type": "stream",
     "text": [
      "[I 2024-01-03 00:46:27,201] Trial 145 finished with value: 0.027809015794859664 and parameters: {'alpha': 0.9524436374057552, 'beta': 0.048742752204568716}. Best is trial 91 with value: 0.027817093960731346.\n"
     ]
    },
    {
     "name": "stdout",
     "output_type": "stream",
     "text": [
      "EvaluatorHoldout: Processed 6499 (100.0%) in 4.50 sec. Users per second: 1446\n"
     ]
    },
    {
     "name": "stderr",
     "output_type": "stream",
     "text": [
      "[I 2024-01-03 00:46:31,726] Trial 146 finished with value: 0.02776792888771644 and parameters: {'alpha': 0.9543108916629904, 'beta': 0.07852800528207168}. Best is trial 91 with value: 0.027817093960731346.\n"
     ]
    },
    {
     "name": "stdout",
     "output_type": "stream",
     "text": [
      "EvaluatorHoldout: Processed 6499 (100.0%) in 4.65 sec. Users per second: 1398\n"
     ]
    },
    {
     "name": "stderr",
     "output_type": "stream",
     "text": [
      "[I 2024-01-03 00:46:36,406] Trial 147 finished with value: 0.027763526501024472 and parameters: {'alpha': 0.9232927978143761, 'beta': 0.05548637684887968}. Best is trial 91 with value: 0.027817093960731346.\n"
     ]
    },
    {
     "name": "stdout",
     "output_type": "stream",
     "text": [
      "EvaluatorHoldout: Processed 6499 (100.0%) in 4.86 sec. Users per second: 1339\n"
     ]
    },
    {
     "name": "stderr",
     "output_type": "stream",
     "text": [
      "[I 2024-01-03 00:46:41,309] Trial 148 finished with value: 0.02747506942460001 and parameters: {'alpha': 0.999845877915388, 'beta': 0.46586141992964636}. Best is trial 91 with value: 0.027817093960731346.\n"
     ]
    },
    {
     "name": "stdout",
     "output_type": "stream",
     "text": [
      "EvaluatorHoldout: Processed 6499 (100.0%) in 4.87 sec. Users per second: 1335\n"
     ]
    },
    {
     "name": "stderr",
     "output_type": "stream",
     "text": [
      "[I 2024-01-03 00:46:46,219] Trial 149 finished with value: 0.02775440421847548 and parameters: {'alpha': 0.8781985889896188, 'beta': 0.02694206287205283}. Best is trial 91 with value: 0.027817093960731346.\n"
     ]
    }
   ],
   "source": [
    "study_name = \"hybrid-IALS-2-study\"  # Unique identifier of the study.\n",
    "storage_name = \"sqlite:///db.db\"\n",
    "#op.delete_study(study_name, storage_name)\n",
    "study = op.create_study(study_name=study_name, storage=storage_name, direction=\"maximize\", load_if_exists=True)\n",
    "#study.enqueue_trial(best_params)\n",
    "study.optimize(objective, n_trials=50)"
   ],
   "metadata": {
    "collapsed": false,
    "ExecuteTime": {
     "end_time": "2024-01-02T23:46:46.225167Z",
     "start_time": "2024-01-02T23:42:42.191185Z"
    }
   },
   "id": "52b5055a66579bf3"
  },
  {
   "cell_type": "code",
   "execution_count": 16,
   "outputs": [
    {
     "data": {
      "text/plain": "{'alpha': 0.8857667100747117,\n 'beta': 0.6379807942443021,\n 'gamma': 0.0690929184825888,\n 'delta': 0.11953478623354052}"
     },
     "execution_count": 16,
     "metadata": {},
     "output_type": "execute_result"
    }
   ],
   "source": [
    "study.best_params"
   ],
   "metadata": {
    "collapsed": false,
    "ExecuteTime": {
     "end_time": "2023-12-20T16:34:08.621166Z",
     "start_time": "2023-12-20T16:34:08.614300Z"
    }
   },
   "id": "731a6647494c1cea"
  }
 ],
 "metadata": {
  "kernelspec": {
   "display_name": "Python 3",
   "language": "python",
   "name": "python3"
  },
  "language_info": {
   "codemirror_mode": {
    "name": "ipython",
    "version": 2
   },
   "file_extension": ".py",
   "mimetype": "text/x-python",
   "name": "python",
   "nbconvert_exporter": "python",
   "pygments_lexer": "ipython2",
   "version": "2.7.6"
  }
 },
 "nbformat": 4,
 "nbformat_minor": 5
}
