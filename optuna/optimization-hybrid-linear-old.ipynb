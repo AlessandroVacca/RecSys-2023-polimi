{
 "cells": [
  {
   "cell_type": "code",
   "execution_count": 1,
   "id": "initial_id",
   "metadata": {
    "collapsed": true,
    "jupyter": {
     "outputs_hidden": true
    },
    "ExecuteTime": {
     "end_time": "2023-12-15T23:16:16.783304814Z",
     "start_time": "2023-12-15T23:16:14.016783697Z"
    }
   },
   "outputs": [
    {
     "name": "stdout",
     "output_type": "stream",
     "text": [
      "Warning: 219 (1.73 %) of 12638 users have no train items\n",
      "Warning: 2184 (17.28 %) of 12638 users have no sampled items\n",
      "Warning: 463 (3.66 %) of 12638 users have no train items\n",
      "Warning: 2573 (20.36 %) of 12638 users have no sampled items\n"
     ]
    }
   ],
   "source": [
    "from Data_manager.UserUtils import *\n",
    "from Data_manager.split_functions.split_train_validation_random_holdout import \\\n",
    "    split_train_in_two_percentage_global_sample\n",
    "URM_all = getURM_all()\n",
    "URM_train_validation, URM_test = split_train_in_two_percentage_global_sample(URM_all, train_percentage = 0.80)\n",
    "URM_train, URM_validation = split_train_in_two_percentage_global_sample(URM_train_validation, train_percentage = 0.80)"
   ]
  },
  {
   "cell_type": "code",
   "execution_count": null,
   "id": "8a9fec0ccc4f11c5",
   "metadata": {
    "collapsed": false,
    "is_executing": true,
    "ExecuteTime": {
     "start_time": "2023-12-15T23:16:18.093070909Z"
    }
   },
   "outputs": [
    {
     "name": "stdout",
     "output_type": "stream",
     "text": [
      "SLIMElasticNetRecommender: URM Detected 463 ( 3.7%) users with no interactions.\n",
      "SLIMElasticNetRecommender: URM Detected 350 ( 1.6%) items with no interactions.\n",
      "RP3betaRecommender: URM Detected 463 ( 3.7%) users with no interactions.\n",
      "RP3betaRecommender: URM Detected 350 ( 1.6%) items with no interactions.\n",
      "ItemKNNCFRecommender: URM Detected 463 ( 3.7%) users with no interactions.\n",
      "ItemKNNCFRecommender: URM Detected 350 ( 1.6%) items with no interactions.\n",
      "SLIMElasticNetRecommender: Processed 18239 (82.1%) in 5.00 min. Items per second: 60.78\n",
      "SLIMElasticNetRecommender: Processed 22222 (100.0%) in 6.50 min. Items per second: 57.01\n",
      "RP3betaRecommender: Similarity column 22222 (100.0%), 5387.29 column/sec. Elapsed time 4.12 sec\n",
      "Unable to load Cython Compute_Similarity, reverting to Python\n"
     ]
    }
   ],
   "source": [
    "from Recommenders.KNN.ItemKNNCFRecommender import ItemKNNCFRecommender\n",
    "from Hybrid import LinearHybridRecommender, LinearZScoreNormalizedHybridRecommender\n",
    "from Recommenders.GraphBased.RP3betaRecommender import RP3betaRecommender\n",
    "from Recommenders.SLIM.SLIMElasticNetRecommender import SLIMElasticNetRecommender\n",
    "\n",
    "model = LinearHybridRecommender\n",
    "slim = SLIMElasticNetRecommender(URM_train)\n",
    "rp3 = RP3betaRecommender(URM_train)\n",
    "itemknn = ItemKNNCFRecommender(URM_train)\n",
    "slim.fit(topK=8894, l1_ratio=0.05565733019999427, alpha=0.0012979360257937668)\n",
    "rp3.fit(topK=32, alpha=0.22028996694465927, beta=0.17339063177346345)\n",
    "#rp3.fit(topK=101, alpha=0.3026342852596128, beta=0.058468783118329024)\n",
    "itemknn.fit(topK=31, shrink=435, similarity='tversky', normalize=True,\n",
    "                                       feature_weighting='BM25', tversky_alpha=0.17113169506422393, tversky_beta=0.5684024974085575)\n",
    "\n",
    "from Evaluation.Evaluator import EvaluatorHoldout\n",
    "evaluator_validation = EvaluatorHoldout(URM_validation, cutoff_list=[10], ignore_users=[])"
   ]
  },
  {
   "cell_type": "code",
   "execution_count": 3,
   "id": "b826576f6714c764",
   "metadata": {
    "ExecuteTime": {
     "end_time": "2023-11-27T12:52:53.578559576Z",
     "start_time": "2023-11-27T12:52:53.281260870Z"
    },
    "collapsed": false
   },
   "outputs": [],
   "source": [
    "import optuna as op\n",
    "def objective(trial):\n",
    "    alphas = [trial.suggest_float(\"alphas[0]\", 0, 2), trial.suggest_float(\"alphas[1]\", 0, 2), trial.suggest_float(\"alphas[2]\", 0, 2)]\n",
    "    \n",
    "    recommender = model(URM_train, [slim, rp3, itemknn])\n",
    "    #recommender.fit(**trial.params)\n",
    "    recommender.fit(alphas)\n",
    "    \n",
    "    result, _ = evaluator_validation.evaluateRecommender(recommender)\n",
    "    MAP_result = result[\"MAP\"].item()\n",
    "       \n",
    "    return MAP_result"
   ]
  },
  {
   "cell_type": "code",
   "execution_count": 9,
   "id": "c5b8a36d4aed08fc",
   "metadata": {
    "ExecuteTime": {
     "end_time": "2023-11-27T13:21:24.483067433Z",
     "start_time": "2023-11-27T13:18:24.943201892Z"
    },
    "collapsed": false
   },
   "outputs": [
    {
     "name": "stderr",
     "output_type": "stream",
     "text": [
      "[I 2023-11-27 14:18:24,976] Using an existing study with name 'hybrid-study' instead of creating a new one.\n"
     ]
    },
    {
     "name": "stdout",
     "output_type": "stream",
     "text": [
      "SLIMElasticNetRP3betaItemKNNCFHybridRecommender: URM Detected 466 ( 3.7%) users with no interactions.\n",
      "SLIMElasticNetRP3betaItemKNNCFHybridRecommender: URM Detected 322 ( 1.4%) items with no interactions.\n",
      "EvaluatorHoldout: Processed 10039 (100.0%) in 8.89 sec. Users per second: 1129\n"
     ]
    },
    {
     "name": "stderr",
     "output_type": "stream",
     "text": [
      "[I 2023-11-27 14:18:34,067] Trial 181 finished with value: 0.03123723035716291 and parameters: {'alphas[0]': 0.5155126299525674, 'alphas[1]': 0.7773041667745069, 'alphas[2]': 0.7813365086487185}. Best is trial 56 with value: 0.031380586177722464.\n"
     ]
    },
    {
     "name": "stdout",
     "output_type": "stream",
     "text": [
      "SLIMElasticNetRP3betaItemKNNCFHybridRecommender: URM Detected 466 ( 3.7%) users with no interactions.\n",
      "SLIMElasticNetRP3betaItemKNNCFHybridRecommender: URM Detected 322 ( 1.4%) items with no interactions.\n",
      "EvaluatorHoldout: Processed 10039 (100.0%) in 8.59 sec. Users per second: 1169\n"
     ]
    },
    {
     "name": "stderr",
     "output_type": "stream",
     "text": [
      "[I 2023-11-27 14:18:42,732] Trial 182 finished with value: 0.031181534871145625 and parameters: {'alphas[0]': 0.6737073342130012, 'alphas[1]': 0.45615916812277246, 'alphas[2]': 1.9263708211622386}. Best is trial 56 with value: 0.031380586177722464.\n"
     ]
    },
    {
     "name": "stdout",
     "output_type": "stream",
     "text": [
      "SLIMElasticNetRP3betaItemKNNCFHybridRecommender: URM Detected 466 ( 3.7%) users with no interactions.\n",
      "SLIMElasticNetRP3betaItemKNNCFHybridRecommender: URM Detected 322 ( 1.4%) items with no interactions.\n",
      "EvaluatorHoldout: Processed 10039 (100.0%) in 8.52 sec. Users per second: 1178\n"
     ]
    },
    {
     "name": "stderr",
     "output_type": "stream",
     "text": [
      "[I 2023-11-27 14:18:51,352] Trial 183 finished with value: 0.03121772310212419 and parameters: {'alphas[0]': 0.6927285378257758, 'alphas[1]': 0.49058373904019875, 'alphas[2]': 1.314020993547699}. Best is trial 56 with value: 0.031380586177722464.\n"
     ]
    },
    {
     "name": "stdout",
     "output_type": "stream",
     "text": [
      "SLIMElasticNetRP3betaItemKNNCFHybridRecommender: URM Detected 466 ( 3.7%) users with no interactions.\n",
      "SLIMElasticNetRP3betaItemKNNCFHybridRecommender: URM Detected 322 ( 1.4%) items with no interactions.\n",
      "EvaluatorHoldout: Processed 10039 (100.0%) in 8.70 sec. Users per second: 1155\n"
     ]
    },
    {
     "name": "stderr",
     "output_type": "stream",
     "text": [
      "[I 2023-11-27 14:19:00,174] Trial 184 finished with value: 0.031238036736094578 and parameters: {'alphas[0]': 0.6418464341087444, 'alphas[1]': 0.5999427665884601, 'alphas[2]': 1.8635081900387123}. Best is trial 56 with value: 0.031380586177722464.\n"
     ]
    },
    {
     "name": "stdout",
     "output_type": "stream",
     "text": [
      "SLIMElasticNetRP3betaItemKNNCFHybridRecommender: URM Detected 466 ( 3.7%) users with no interactions.\n",
      "SLIMElasticNetRP3betaItemKNNCFHybridRecommender: URM Detected 322 ( 1.4%) items with no interactions.\n",
      "EvaluatorHoldout: Processed 10039 (100.0%) in 8.69 sec. Users per second: 1155\n"
     ]
    },
    {
     "name": "stderr",
     "output_type": "stream",
     "text": [
      "[I 2023-11-27 14:19:08,968] Trial 185 finished with value: 0.031107154320372952 and parameters: {'alphas[0]': 0.7507513554750275, 'alphas[1]': 0.40875776642198514, 'alphas[2]': 1.9489178313535052}. Best is trial 56 with value: 0.031380586177722464.\n"
     ]
    },
    {
     "name": "stdout",
     "output_type": "stream",
     "text": [
      "SLIMElasticNetRP3betaItemKNNCFHybridRecommender: URM Detected 466 ( 3.7%) users with no interactions.\n",
      "SLIMElasticNetRP3betaItemKNNCFHybridRecommender: URM Detected 322 ( 1.4%) items with no interactions.\n",
      "EvaluatorHoldout: Processed 10039 (100.0%) in 9.06 sec. Users per second: 1108\n"
     ]
    },
    {
     "name": "stderr",
     "output_type": "stream",
     "text": [
      "[I 2023-11-27 14:19:18,132] Trial 186 finished with value: 0.03123396136021926 and parameters: {'alphas[0]': 0.8471122478782963, 'alphas[1]': 0.6814931115407221, 'alphas[2]': 1.5970236518796375}. Best is trial 56 with value: 0.031380586177722464.\n"
     ]
    },
    {
     "name": "stdout",
     "output_type": "stream",
     "text": [
      "SLIMElasticNetRP3betaItemKNNCFHybridRecommender: URM Detected 466 ( 3.7%) users with no interactions.\n",
      "SLIMElasticNetRP3betaItemKNNCFHybridRecommender: URM Detected 322 ( 1.4%) items with no interactions.\n",
      "EvaluatorHoldout: Processed 10039 (100.0%) in 9.14 sec. Users per second: 1098\n"
     ]
    },
    {
     "name": "stderr",
     "output_type": "stream",
     "text": [
      "[I 2023-11-27 14:19:27,353] Trial 187 finished with value: 0.03124146779939222 and parameters: {'alphas[0]': 0.5620353971684853, 'alphas[1]': 0.5594160951307885, 'alphas[2]': 1.8574849443387806}. Best is trial 56 with value: 0.031380586177722464.\n"
     ]
    },
    {
     "name": "stdout",
     "output_type": "stream",
     "text": [
      "SLIMElasticNetRP3betaItemKNNCFHybridRecommender: URM Detected 466 ( 3.7%) users with no interactions.\n",
      "SLIMElasticNetRP3betaItemKNNCFHybridRecommender: URM Detected 322 ( 1.4%) items with no interactions.\n",
      "EvaluatorHoldout: Processed 10039 (100.0%) in 8.73 sec. Users per second: 1150\n"
     ]
    },
    {
     "name": "stderr",
     "output_type": "stream",
     "text": [
      "[I 2023-11-27 14:19:36,183] Trial 188 finished with value: 0.0313019541249448 and parameters: {'alphas[0]': 0.3853815097658466, 'alphas[1]': 0.5189103252800203, 'alphas[2]': 1.9929724730579514}. Best is trial 56 with value: 0.031380586177722464.\n"
     ]
    },
    {
     "name": "stdout",
     "output_type": "stream",
     "text": [
      "SLIMElasticNetRP3betaItemKNNCFHybridRecommender: URM Detected 466 ( 3.7%) users with no interactions.\n",
      "SLIMElasticNetRP3betaItemKNNCFHybridRecommender: URM Detected 322 ( 1.4%) items with no interactions.\n",
      "EvaluatorHoldout: Processed 10039 (100.0%) in 9.13 sec. Users per second: 1100\n"
     ]
    },
    {
     "name": "stderr",
     "output_type": "stream",
     "text": [
      "[I 2023-11-27 14:19:45,435] Trial 189 finished with value: 0.031238368774478237 and parameters: {'alphas[0]': 0.6025225405795206, 'alphas[1]': 0.4640115430619528, 'alphas[2]': 1.2040020962639817}. Best is trial 56 with value: 0.031380586177722464.\n"
     ]
    },
    {
     "name": "stdout",
     "output_type": "stream",
     "text": [
      "SLIMElasticNetRP3betaItemKNNCFHybridRecommender: URM Detected 466 ( 3.7%) users with no interactions.\n",
      "SLIMElasticNetRP3betaItemKNNCFHybridRecommender: URM Detected 322 ( 1.4%) items with no interactions.\n",
      "EvaluatorHoldout: Processed 10039 (100.0%) in 9.22 sec. Users per second: 1089\n"
     ]
    },
    {
     "name": "stderr",
     "output_type": "stream",
     "text": [
      "[I 2023-11-27 14:19:54,795] Trial 190 finished with value: 0.03119604178624031 and parameters: {'alphas[0]': 0.7095959020505246, 'alphas[1]': 0.6431491693627222, 'alphas[2]': 1.9117308813600205}. Best is trial 56 with value: 0.031380586177722464.\n"
     ]
    },
    {
     "name": "stdout",
     "output_type": "stream",
     "text": [
      "SLIMElasticNetRP3betaItemKNNCFHybridRecommender: URM Detected 466 ( 3.7%) users with no interactions.\n",
      "SLIMElasticNetRP3betaItemKNNCFHybridRecommender: URM Detected 322 ( 1.4%) items with no interactions.\n",
      "EvaluatorHoldout: Processed 10039 (100.0%) in 8.62 sec. Users per second: 1164\n"
     ]
    },
    {
     "name": "stderr",
     "output_type": "stream",
     "text": [
      "[I 2023-11-27 14:20:03,493] Trial 191 finished with value: 0.031295625631466185 and parameters: {'alphas[0]': 0.4902324092394362, 'alphas[1]': 0.7607345081522561, 'alphas[2]': 1.4980871184831042}. Best is trial 56 with value: 0.031380586177722464.\n"
     ]
    },
    {
     "name": "stdout",
     "output_type": "stream",
     "text": [
      "SLIMElasticNetRP3betaItemKNNCFHybridRecommender: URM Detected 466 ( 3.7%) users with no interactions.\n",
      "SLIMElasticNetRP3betaItemKNNCFHybridRecommender: URM Detected 322 ( 1.4%) items with no interactions.\n",
      "EvaluatorHoldout: Processed 10039 (100.0%) in 8.73 sec. Users per second: 1149\n"
     ]
    },
    {
     "name": "stderr",
     "output_type": "stream",
     "text": [
      "[I 2023-11-27 14:20:12,340] Trial 192 finished with value: 0.031335529530071154 and parameters: {'alphas[0]': 0.5353410334412094, 'alphas[1]': 0.8661808429092649, 'alphas[2]': 1.9517210318877565}. Best is trial 56 with value: 0.031380586177722464.\n"
     ]
    },
    {
     "name": "stdout",
     "output_type": "stream",
     "text": [
      "SLIMElasticNetRP3betaItemKNNCFHybridRecommender: URM Detected 466 ( 3.7%) users with no interactions.\n",
      "SLIMElasticNetRP3betaItemKNNCFHybridRecommender: URM Detected 322 ( 1.4%) items with no interactions.\n",
      "EvaluatorHoldout: Processed 10039 (100.0%) in 9.60 sec. Users per second: 1045\n"
     ]
    },
    {
     "name": "stderr",
     "output_type": "stream",
     "text": [
      "[I 2023-11-27 14:20:22,058] Trial 193 finished with value: 0.031214161595175944 and parameters: {'alphas[0]': 0.44081313269499633, 'alphas[1]': 1.0257023057729906, 'alphas[2]': 1.8776755107463026}. Best is trial 56 with value: 0.031380586177722464.\n"
     ]
    },
    {
     "name": "stdout",
     "output_type": "stream",
     "text": [
      "SLIMElasticNetRP3betaItemKNNCFHybridRecommender: URM Detected 466 ( 3.7%) users with no interactions.\n",
      "SLIMElasticNetRP3betaItemKNNCFHybridRecommender: URM Detected 322 ( 1.4%) items with no interactions.\n",
      "EvaluatorHoldout: Processed 10039 (100.0%) in 9.25 sec. Users per second: 1085\n"
     ]
    },
    {
     "name": "stderr",
     "output_type": "stream",
     "text": [
      "[I 2023-11-27 14:20:31,392] Trial 194 finished with value: 0.031219229133364283 and parameters: {'alphas[0]': 0.6605915488321445, 'alphas[1]': 0.8351691253228121, 'alphas[2]': 1.9169034697419955}. Best is trial 56 with value: 0.031380586177722464.\n"
     ]
    },
    {
     "name": "stdout",
     "output_type": "stream",
     "text": [
      "SLIMElasticNetRP3betaItemKNNCFHybridRecommender: URM Detected 466 ( 3.7%) users with no interactions.\n",
      "SLIMElasticNetRP3betaItemKNNCFHybridRecommender: URM Detected 322 ( 1.4%) items with no interactions.\n",
      "EvaluatorHoldout: Processed 10039 (100.0%) in 8.68 sec. Users per second: 1156\n"
     ]
    },
    {
     "name": "stderr",
     "output_type": "stream",
     "text": [
      "[I 2023-11-27 14:20:40,182] Trial 195 finished with value: 0.0312701733082252 and parameters: {'alphas[0]': 0.5084526746162773, 'alphas[1]': 0.936283168610105, 'alphas[2]': 1.8376823544162049}. Best is trial 56 with value: 0.031380586177722464.\n"
     ]
    },
    {
     "name": "stdout",
     "output_type": "stream",
     "text": [
      "SLIMElasticNetRP3betaItemKNNCFHybridRecommender: URM Detected 466 ( 3.7%) users with no interactions.\n",
      "SLIMElasticNetRP3betaItemKNNCFHybridRecommender: URM Detected 322 ( 1.4%) items with no interactions.\n",
      "EvaluatorHoldout: Processed 10039 (100.0%) in 8.92 sec. Users per second: 1125\n"
     ]
    },
    {
     "name": "stderr",
     "output_type": "stream",
     "text": [
      "[I 2023-11-27 14:20:49,207] Trial 196 finished with value: 0.03125027076939648 and parameters: {'alphas[0]': 0.5748095254554906, 'alphas[1]': 0.7025918073241129, 'alphas[2]': 1.7630561180304576}. Best is trial 56 with value: 0.031380586177722464.\n"
     ]
    },
    {
     "name": "stdout",
     "output_type": "stream",
     "text": [
      "SLIMElasticNetRP3betaItemKNNCFHybridRecommender: URM Detected 466 ( 3.7%) users with no interactions.\n",
      "SLIMElasticNetRP3betaItemKNNCFHybridRecommender: URM Detected 322 ( 1.4%) items with no interactions.\n",
      "EvaluatorHoldout: Processed 10039 (100.0%) in 8.59 sec. Users per second: 1169\n"
     ]
    },
    {
     "name": "stderr",
     "output_type": "stream",
     "text": [
      "[I 2023-11-27 14:20:57,892] Trial 197 finished with value: 0.031300404612487794 and parameters: {'alphas[0]': 0.6263389470552801, 'alphas[1]': 0.8860880367078867, 'alphas[2]': 1.9682112450091338}. Best is trial 56 with value: 0.031380586177722464.\n"
     ]
    },
    {
     "name": "stdout",
     "output_type": "stream",
     "text": [
      "SLIMElasticNetRP3betaItemKNNCFHybridRecommender: URM Detected 466 ( 3.7%) users with no interactions.\n",
      "SLIMElasticNetRP3betaItemKNNCFHybridRecommender: URM Detected 322 ( 1.4%) items with no interactions.\n",
      "EvaluatorHoldout: Processed 10039 (100.0%) in 8.53 sec. Users per second: 1176\n"
     ]
    },
    {
     "name": "stderr",
     "output_type": "stream",
     "text": [
      "[I 2023-11-27 14:21:06,498] Trial 198 finished with value: 0.03124764213219263 and parameters: {'alphas[0]': 0.8043700691616421, 'alphas[1]': 0.8004266498564697, 'alphas[2]': 1.8995165699217158}. Best is trial 56 with value: 0.031380586177722464.\n"
     ]
    },
    {
     "name": "stdout",
     "output_type": "stream",
     "text": [
      "SLIMElasticNetRP3betaItemKNNCFHybridRecommender: URM Detected 466 ( 3.7%) users with no interactions.\n",
      "SLIMElasticNetRP3betaItemKNNCFHybridRecommender: URM Detected 322 ( 1.4%) items with no interactions.\n",
      "EvaluatorHoldout: Processed 10039 (100.0%) in 8.91 sec. Users per second: 1127\n"
     ]
    },
    {
     "name": "stderr",
     "output_type": "stream",
     "text": [
      "[I 2023-11-27 14:21:15,492] Trial 199 finished with value: 0.031236732299587462 and parameters: {'alphas[0]': 0.5416750616569345, 'alphas[1]': 0.7391222711340067, 'alphas[2]': 1.4328731673124357}. Best is trial 56 with value: 0.031380586177722464.\n"
     ]
    },
    {
     "name": "stdout",
     "output_type": "stream",
     "text": [
      "SLIMElasticNetRP3betaItemKNNCFHybridRecommender: URM Detected 466 ( 3.7%) users with no interactions.\n",
      "SLIMElasticNetRP3betaItemKNNCFHybridRecommender: URM Detected 322 ( 1.4%) items with no interactions.\n",
      "EvaluatorHoldout: Processed 10039 (100.0%) in 8.91 sec. Users per second: 1127\n"
     ]
    },
    {
     "name": "stderr",
     "output_type": "stream",
     "text": [
      "[I 2023-11-27 14:21:24,478] Trial 200 finished with value: 0.031244321748356337 and parameters: {'alphas[0]': 0.47376152867947885, 'alphas[1]': 0.8554486426773527, 'alphas[2]': 1.7976434192926811}. Best is trial 56 with value: 0.031380586177722464.\n"
     ]
    }
   ],
   "source": [
    "best_params = {\n",
    "    \"alphas\": [1, 1, 1],\n",
    "}\n",
    "\n",
    "study_name = \"hybrid-study\"  # Unique identifier of the study.\n",
    "storage_name = \"sqlite:///{}.db\".format(study_name)\n",
    "study = op.create_study(study_name=study_name, storage=storage_name, direction=\"maximize\", load_if_exists=True)\n",
    "study.enqueue_trial(best_params)\n",
    "study.optimize(objective, n_trials=20)"
   ]
  },
  {
   "cell_type": "code",
   "execution_count": 11,
   "id": "f18968c2188a349a",
   "metadata": {
    "ExecuteTime": {
     "end_time": "2023-11-25T23:50:29.559096497Z",
     "start_time": "2023-11-25T23:50:29.544612056Z"
    },
    "collapsed": false
   },
   "outputs": [
    {
     "data": {
      "text/plain": [
       "{'alphas[0]': 0.706936448151171,\n",
       " 'alphas[1]': 0.6559700273535034,\n",
       " 'alphas[2]': 1.8265466200396685}"
      ]
     },
     "execution_count": 11,
     "metadata": {},
     "output_type": "execute_result"
    }
   ],
   "source": [
    "study.best_params"
   ]
  },
  {
   "cell_type": "code",
   "execution_count": 15,
   "id": "7ae12a0ef4bc0baa",
   "metadata": {
    "ExecuteTime": {
     "end_time": "2023-11-25T23:51:13.766922985Z",
     "start_time": "2023-11-25T23:51:13.695904300Z"
    },
    "collapsed": false
   },
   "outputs": [
    {
     "name": "stdout",
     "output_type": "stream",
     "text": [
      "SLIMElasticNetRP3betaItemKNNCFHybridRecommender: URM Detected 216 ( 1.7%) users with no interactions.\n",
      "SLIMElasticNetRP3betaItemKNNCFHybridRecommender: URM Detected 94 ( 0.4%) items with no interactions.\n"
     ]
    }
   ],
   "source": [
    "final = model(URM_train_validation, [slim, rp3, itemknn])\n",
    "#final.fit(alphas=[3,1.25])\n",
    "final.fit(alphas=[study.best_params[\"alphas[0]\"],study.best_params[\"alphas[1]\"], study.best_params[\"alphas[2]\"]])\n",
    "#final.fit(**study.best_params)"
   ]
  },
  {
   "cell_type": "code",
   "execution_count": 16,
   "id": "1a0a3570fbcb348b",
   "metadata": {
    "ExecuteTime": {
     "end_time": "2023-11-25T23:51:23.574128634Z",
     "start_time": "2023-11-25T23:51:14.839295676Z"
    },
    "collapsed": false
   },
   "outputs": [
    {
     "name": "stdout",
     "output_type": "stream",
     "text": [
      "EvaluatorHoldout: Ignoring 2184 (17.3%) Users that have less than 1 test interactions\n",
      "EvaluatorHoldout: Ignoring 0 Users\n",
      "EvaluatorHoldout: Processed 10454 (100.0%) in 8.71 sec. Users per second: 1200\n"
     ]
    },
    {
     "data": {
      "text/plain": [
       "(       PRECISION PRECISION_RECALL_MIN_DEN   RECALL      MAP MAP_MIN_DEN  \\\n",
       " cutoff                                                                    \n",
       " 10      0.089028                 0.150759  0.12639  0.04558    0.076747   \n",
       " \n",
       "             MRR      NDCG        F1  HIT_RATE ARHR_ALL_HITS  ...  \\\n",
       " cutoff                                                       ...   \n",
       " 10      0.26035  0.140004  0.104469  0.493495      0.340601  ...   \n",
       " \n",
       "        COVERAGE_USER COVERAGE_USER_HIT USERS_IN_GT DIVERSITY_GINI  \\\n",
       " cutoff                                                              \n",
       " 10          0.827188          0.408213    0.827188       0.057399   \n",
       " \n",
       "        SHANNON_ENTROPY RATIO_DIVERSITY_HERFINDAHL RATIO_DIVERSITY_GINI  \\\n",
       " cutoff                                                                   \n",
       " 10           10.156523                   0.997471             0.164554   \n",
       " \n",
       "        RATIO_SHANNON_ENTROPY RATIO_AVERAGE_POPULARITY RATIO_NOVELTY  \n",
       " cutoff                                                               \n",
       " 10                  0.782377                 1.869101      0.285515  \n",
       " \n",
       " [1 rows x 27 columns],\n",
       " 'CUTOFF: 10 - PRECISION: 0.0890281, PRECISION_RECALL_MIN_DEN: 0.1507588, RECALL: 0.1263903, MAP: 0.0455802, MAP_MIN_DEN: 0.0767475, MRR: 0.2603500, NDCG: 0.1400042, F1: 0.1044692, HIT_RATE: 0.4934953, ARHR_ALL_HITS: 0.3406007, NOVELTY: 0.0050545, AVERAGE_POPULARITY: 0.2295758, DIVERSITY_MEAN_INTER_LIST: 0.9712031, DIVERSITY_HERFINDAHL: 0.9971110, COVERAGE_ITEM: 0.3221582, COVERAGE_ITEM_HIT: 0.0827558, ITEMS_IN_GT: 0.7992530, COVERAGE_USER: 0.8271878, COVERAGE_USER_HIT: 0.4082133, USERS_IN_GT: 0.8271878, DIVERSITY_GINI: 0.0573986, SHANNON_ENTROPY: 10.1565225, RATIO_DIVERSITY_HERFINDAHL: 0.9974715, RATIO_DIVERSITY_GINI: 0.1645540, RATIO_SHANNON_ENTROPY: 0.7823774, RATIO_AVERAGE_POPULARITY: 1.8691010, RATIO_NOVELTY: 0.2855147, \\n')"
      ]
     },
     "execution_count": 16,
     "metadata": {},
     "output_type": "execute_result"
    }
   ],
   "source": [
    "from Evaluation.Evaluator import EvaluatorHoldout\n",
    "evaluator_test = EvaluatorHoldout(URM_test, cutoff_list=[10], ignore_users=[])\n",
    "evaluator_test.evaluateRecommender(final)"
   ]
  },
  {
   "cell_type": "code",
   "execution_count": 17,
   "id": "d44f3917cd92eabc",
   "metadata": {
    "ExecuteTime": {
     "end_time": "2023-11-25T23:51:30.444442207Z",
     "start_time": "2023-11-25T23:51:23.575563489Z"
    },
    "collapsed": false
   },
   "outputs": [
    {
     "name": "stdout",
     "output_type": "stream",
     "text": [
      "EvaluatorHoldout: Processed 10454 (100.0%) in 6.85 sec. Users per second: 1526\n"
     ]
    },
    {
     "data": {
      "text/plain": [
       "(       PRECISION PRECISION_RECALL_MIN_DEN   RECALL      MAP MAP_MIN_DEN  \\\n",
       " cutoff                                                                    \n",
       " 10      0.079759                 0.137157  0.11639  0.03848    0.066675   \n",
       " \n",
       "              MRR      NDCG        F1  HIT_RATE ARHR_ALL_HITS  ...  \\\n",
       " cutoff                                                        ...   \n",
       " 10      0.234882  0.125152  0.094654  0.475703      0.298827  ...   \n",
       " \n",
       "        COVERAGE_USER COVERAGE_USER_HIT USERS_IN_GT DIVERSITY_GINI  \\\n",
       " cutoff                                                              \n",
       " 10          0.827188          0.393496    0.827188       0.050161   \n",
       " \n",
       "        SHANNON_ENTROPY RATIO_DIVERSITY_HERFINDAHL RATIO_DIVERSITY_GINI  \\\n",
       " cutoff                                                                   \n",
       " 10           10.020847                   0.997362             0.145638   \n",
       " \n",
       "        RATIO_SHANNON_ENTROPY RATIO_AVERAGE_POPULARITY RATIO_NOVELTY  \n",
       " cutoff                                                               \n",
       " 10                  0.772591                 1.981834       0.35289  \n",
       " \n",
       " [1 rows x 27 columns],\n",
       " 'CUTOFF: 10 - PRECISION: 0.0797589, PRECISION_RECALL_MIN_DEN: 0.1371573, RECALL: 0.1163901, MAP: 0.0384801, MAP_MIN_DEN: 0.0666754, MRR: 0.2348816, NDCG: 0.1251520, F1: 0.0946541, HIT_RATE: 0.4757031, ARHR_ALL_HITS: 0.2988275, NOVELTY: 0.0049935, AVERAGE_POPULARITY: 0.2402675, DIVERSITY_MEAN_INTER_LIST: 0.9701045, DIVERSITY_HERFINDAHL: 0.9970012, COVERAGE_ITEM: 0.2843578, COVERAGE_ITEM_HIT: 0.0734407, ITEMS_IN_GT: 0.7992530, COVERAGE_USER: 0.8271878, COVERAGE_USER_HIT: 0.3934958, USERS_IN_GT: 0.8271878, DIVERSITY_GINI: 0.0501611, SHANNON_ENTROPY: 10.0208467, RATIO_DIVERSITY_HERFINDAHL: 0.9973624, RATIO_DIVERSITY_GINI: 0.1456376, RATIO_SHANNON_ENTROPY: 0.7725906, RATIO_AVERAGE_POPULARITY: 1.9818339, RATIO_NOVELTY: 0.3528895, \\n')"
      ]
     },
     "execution_count": 17,
     "metadata": {},
     "output_type": "execute_result"
    }
   ],
   "source": [
    "#final.fit(alphas=[3,1.25])\n",
    "evaluator_test.evaluateRecommender(slim)"
   ]
  },
  {
   "cell_type": "code",
   "execution_count": null,
   "id": "5a67428de0ca1e4f",
   "metadata": {
    "collapsed": false
   },
   "outputs": [],
   "source": []
  }
 ],
 "metadata": {
  "kernelspec": {
   "display_name": "Python 3",
   "language": "python",
   "name": "python3"
  },
  "language_info": {
   "codemirror_mode": {
    "name": "ipython",
    "version": 2
   },
   "file_extension": ".py",
   "mimetype": "text/x-python",
   "name": "python",
   "nbconvert_exporter": "python",
   "pygments_lexer": "ipython2",
   "version": "2.7.6"
  }
 },
 "nbformat": 4,
 "nbformat_minor": 5
}
