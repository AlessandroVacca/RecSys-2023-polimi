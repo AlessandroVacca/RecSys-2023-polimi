{
 "cells": [
  {
   "cell_type": "code",
   "execution_count": 1,
   "id": "initial_id",
   "metadata": {
    "collapsed": true,
    "ExecuteTime": {
     "end_time": "2023-12-09T10:37:04.404632978Z",
     "start_time": "2023-12-09T10:37:00.801403971Z"
    }
   },
   "outputs": [
    {
     "name": "stdout",
     "output_type": "stream",
     "text": [
      "Warning: 234 (1.85 %) of 12638 users have no train items\n",
      "Warning: 2195 (17.37 %) of 12638 users have no sampled items\n",
      "Warning: 476 (3.77 %) of 12638 users have no train items\n",
      "Warning: 2595 (20.53 %) of 12638 users have no sampled items\n"
     ]
    }
   ],
   "source": [
    "from Data_manager.UserUtils import *\n",
    "from Data_manager.split_functions.split_train_validation_random_holdout import \\\n",
    "    split_train_in_two_percentage_global_sample\n",
    "URM_all = getURM_all()\n",
    "URM_train_validation, URM_test = split_train_in_two_percentage_global_sample(URM_all, train_percentage = 0.80)\n",
    "URM_train, URM_validation = split_train_in_two_percentage_global_sample(URM_train_validation, train_percentage = 0.80)"
   ]
  },
  {
   "cell_type": "code",
   "execution_count": 2,
   "outputs": [
    {
     "name": "stderr",
     "output_type": "stream",
     "text": [
      "2023-12-09 11:37:04.685606: E external/local_xla/xla/stream_executor/cuda/cuda_dnn.cc:9261] Unable to register cuDNN factory: Attempting to register factory for plugin cuDNN when one has already been registered\n",
      "2023-12-09 11:37:04.685660: E external/local_xla/xla/stream_executor/cuda/cuda_fft.cc:607] Unable to register cuFFT factory: Attempting to register factory for plugin cuFFT when one has already been registered\n",
      "2023-12-09 11:37:04.687810: E external/local_xla/xla/stream_executor/cuda/cuda_blas.cc:1515] Unable to register cuBLAS factory: Attempting to register factory for plugin cuBLAS when one has already been registered\n",
      "2023-12-09 11:37:04.696555: I tensorflow/core/platform/cpu_feature_guard.cc:182] This TensorFlow binary is optimized to use available CPU instructions in performance-critical operations.\n",
      "To enable the following instructions: AVX2 FMA, in other operations, rebuild TensorFlow with the appropriate compiler flags.\n",
      "2023-12-09 11:37:05.605865: W tensorflow/compiler/tf2tensorrt/utils/py_utils.cc:38] TF-TRT Warning: Could not find TensorRT\n"
     ]
    },
    {
     "name": "stdout",
     "output_type": "stream",
     "text": [
      "EvaluatorHoldout: Ignoring 2595 (20.5%) Users that have less than 1 test interactions\n",
      "EvaluatorHoldout: Ignoring 0 Users\n",
      "EvaluatorHoldout: Ignoring 2195 (17.4%) Users that have less than 1 test interactions\n",
      "EvaluatorHoldout: Ignoring 0 Users\n"
     ]
    }
   ],
   "source": [
    "from Recommenders.GANMF.GANMF import GANMF\n",
    "\n",
    "model = GANMF\n",
    "\n",
    "from Evaluation.Evaluator import EvaluatorHoldout\n",
    "evaluator_validation = EvaluatorHoldout(URM_validation, cutoff_list=[10], ignore_users=[])\n",
    "evaluator_test = EvaluatorHoldout(URM_test, cutoff_list=[10], ignore_users=[])"
   ],
   "metadata": {
    "collapsed": false,
    "ExecuteTime": {
     "end_time": "2023-12-09T10:37:07.099639398Z",
     "start_time": "2023-12-09T10:37:04.396144864Z"
    }
   },
   "id": "8a9fec0ccc4f11c5"
  },
  {
   "cell_type": "code",
   "execution_count": 3,
   "outputs": [
    {
     "name": "stderr",
     "output_type": "stream",
     "text": [
      "/home/federico/Documents/projects/rec-sys/RecSys-2023-polimi/Recommenders/GANMF/GANMF.py:64: UserWarning: `tf.layers.dense` is deprecated and will be removed in a future version. Please use `tf.keras.layers.Dense` instead.\n",
      "  encoding = tf.compat.v1.layers.dense(input_data, units=emb_dim, kernel_initializer=glorot_uniform,\n",
      "/home/federico/Documents/projects/rec-sys/RecSys-2023-polimi/Recommenders/GANMF/GANMF.py:66: UserWarning: `tf.layers.dense` is deprecated and will be removed in a future version. Please use `tf.keras.layers.Dense` instead.\n",
      "  decoding = tf.compat.v1.layers.dense(encoding, units=self.num_items, kernel_initializer=glorot_uniform,\n",
      "2023-12-09 10:48:14.377086: I external/local_xla/xla/stream_executor/cuda/cuda_executor.cc:901] successful NUMA node read from SysFS had negative value (-1), but there must be at least one NUMA node, so returning NUMA node zero. See more at https://github.com/torvalds/linux/blob/v6.0/Documentation/ABI/testing/sysfs-bus-pci#L344-L355\n",
      "2023-12-09 10:48:14.543060: I external/local_xla/xla/stream_executor/cuda/cuda_executor.cc:901] successful NUMA node read from SysFS had negative value (-1), but there must be at least one NUMA node, so returning NUMA node zero. See more at https://github.com/torvalds/linux/blob/v6.0/Documentation/ABI/testing/sysfs-bus-pci#L344-L355\n",
      "2023-12-09 10:48:14.543518: I external/local_xla/xla/stream_executor/cuda/cuda_executor.cc:901] successful NUMA node read from SysFS had negative value (-1), but there must be at least one NUMA node, so returning NUMA node zero. See more at https://github.com/torvalds/linux/blob/v6.0/Documentation/ABI/testing/sysfs-bus-pci#L344-L355\n"
     ]
    },
    {
     "name": "stdout",
     "output_type": "stream",
     "text": [
      "WARNING:tensorflow:From /home/federico/Documents/projects/rec-sys/RecSys-2023-polimi/venv/lib/python3.10/site-packages/tensorflow/python/util/tf_should_use.py:288: initialize_all_variables (from tensorflow.python.ops.variables) is deprecated and will be removed after 2017-03-02.\n",
      "Instructions for updating:\n",
      "Use `tf.global_variables_initializer` instead.\n"
     ]
    },
    {
     "name": "stderr",
     "output_type": "stream",
     "text": [
      "2023-12-09 10:48:14.633860: I external/local_xla/xla/stream_executor/cuda/cuda_executor.cc:901] successful NUMA node read from SysFS had negative value (-1), but there must be at least one NUMA node, so returning NUMA node zero. See more at https://github.com/torvalds/linux/blob/v6.0/Documentation/ABI/testing/sysfs-bus-pci#L344-L355\n",
      "2023-12-09 10:48:14.634164: I external/local_xla/xla/stream_executor/cuda/cuda_executor.cc:901] successful NUMA node read from SysFS had negative value (-1), but there must be at least one NUMA node, so returning NUMA node zero. See more at https://github.com/torvalds/linux/blob/v6.0/Documentation/ABI/testing/sysfs-bus-pci#L344-L355\n",
      "2023-12-09 10:48:14.634343: I external/local_xla/xla/stream_executor/cuda/cuda_executor.cc:901] successful NUMA node read from SysFS had negative value (-1), but there must be at least one NUMA node, so returning NUMA node zero. See more at https://github.com/torvalds/linux/blob/v6.0/Documentation/ABI/testing/sysfs-bus-pci#L344-L355\n",
      "2023-12-09 10:48:14.634464: I tensorflow/core/common_runtime/gpu/gpu_device.cc:1929] Created device /job:localhost/replica:0/task:0/device:GPU:0 with 5163 MB memory:  -> device: 0, name: NVIDIA GeForce GTX 1060, pci bus id: 0000:01:00.0, compute capability: 6.1\n",
      "2023-12-09 10:48:14.645604: I tensorflow/compiler/mlir/mlir_graph_optimization_pass.cc:388] MLIR V1 optimization pass is not enabled\n",
      "  0%|          | 1/300 [00:00<?, ?it/s]2023-12-09 10:48:14.969755: I external/local_tsl/tsl/platform/default/subprocess.cc:304] Start cannot spawn child process: No such file or directory\n"
     ]
    },
    {
     "ename": "KeyboardInterrupt",
     "evalue": "",
     "output_type": "error",
     "traceback": [
      "\u001B[0;31m---------------------------------------------------------------------------\u001B[0m",
      "\u001B[0;31mKeyboardInterrupt\u001B[0m                         Traceback (most recent call last)",
      "Cell \u001B[0;32mIn[3], line 3\u001B[0m\n\u001B[1;32m      1\u001B[0m recommender \u001B[38;5;241m=\u001B[39m model(URM_train)\n\u001B[1;32m      2\u001B[0m \u001B[38;5;66;03m# recommender.fit(**trial.params, workers=6)\u001B[39;00m\n\u001B[0;32m----> 3\u001B[0m \u001B[43mrecommender\u001B[49m\u001B[38;5;241;43m.\u001B[39;49m\u001B[43mfit\u001B[49m\u001B[43m(\u001B[49m\u001B[43mvalidation_evaluator\u001B[49m\u001B[38;5;241;43m=\u001B[39;49m\u001B[43mevaluator_validation\u001B[49m\u001B[43m)\u001B[49m\n",
      "File \u001B[0;32m~/Documents/projects/rec-sys/RecSys-2023-polimi/Recommenders/GANMF/GANMF.py:186\u001B[0m, in \u001B[0;36mGANMF.fit\u001B[0;34m(self, num_factors, emb_dim, epochs, batch_size, d_lr, g_lr, d_steps, g_steps, d_reg, g_reg, m, recon_coefficient, allow_worse, freq, after, metrics, sample_every, validation_evaluator, validation_set)\u001B[0m\n\u001B[1;32m    183\u001B[0m uids \u001B[38;5;241m=\u001B[39m all_users[start_idx: end_idx]\n\u001B[1;32m    184\u001B[0m real_histories \u001B[38;5;241m=\u001B[39m \u001B[38;5;28mself\u001B[39m\u001B[38;5;241m.\u001B[39mURM_train[uids]\u001B[38;5;241m.\u001B[39mtoarray()\n\u001B[0;32m--> 186\u001B[0m _, _dloss \u001B[38;5;241m=\u001B[39m \u001B[38;5;28;43mself\u001B[39;49m\u001B[38;5;241;43m.\u001B[39;49m\u001B[43msess\u001B[49m\u001B[38;5;241;43m.\u001B[39;49m\u001B[43mrun\u001B[49m\u001B[43m(\u001B[49m\u001B[43m[\u001B[49m\u001B[43mdtrain\u001B[49m\u001B[43m,\u001B[49m\u001B[43m \u001B[49m\u001B[43mdloss\u001B[49m\u001B[43m]\u001B[49m\u001B[43m,\u001B[49m\n\u001B[1;32m    187\u001B[0m \u001B[43m                          \u001B[49m\u001B[43m{\u001B[49m\u001B[43mreal_profile\u001B[49m\u001B[43m:\u001B[49m\u001B[43m \u001B[49m\u001B[43mreal_histories\u001B[49m\u001B[43m,\u001B[49m\u001B[43m \u001B[49m\u001B[43muser_id\u001B[49m\u001B[43m:\u001B[49m\u001B[43m \u001B[49m\u001B[43muids\u001B[49m\u001B[38;5;241;43m.\u001B[39;49m\u001B[43mreshape\u001B[49m\u001B[43m(\u001B[49m\u001B[38;5;241;43m-\u001B[39;49m\u001B[38;5;241;43m1\u001B[39;49m\u001B[43m,\u001B[49m\u001B[43m \u001B[49m\u001B[38;5;241;43m1\u001B[39;49m\u001B[43m)\u001B[49m\u001B[43m}\u001B[49m\u001B[43m)\u001B[49m\n\u001B[1;32m    188\u001B[0m batch_d_loss\u001B[38;5;241m.\u001B[39mappend(_dloss)\n\u001B[1;32m    189\u001B[0m start_idx \u001B[38;5;241m=\u001B[39m end_idx\n",
      "File \u001B[0;32m~/Documents/projects/rec-sys/RecSys-2023-polimi/venv/lib/python3.10/site-packages/tensorflow/python/client/session.py:972\u001B[0m, in \u001B[0;36mBaseSession.run\u001B[0;34m(self, fetches, feed_dict, options, run_metadata)\u001B[0m\n\u001B[1;32m    969\u001B[0m run_metadata_ptr \u001B[38;5;241m=\u001B[39m tf_session\u001B[38;5;241m.\u001B[39mTF_NewBuffer() \u001B[38;5;28;01mif\u001B[39;00m run_metadata \u001B[38;5;28;01melse\u001B[39;00m \u001B[38;5;28;01mNone\u001B[39;00m\n\u001B[1;32m    971\u001B[0m \u001B[38;5;28;01mtry\u001B[39;00m:\n\u001B[0;32m--> 972\u001B[0m   result \u001B[38;5;241m=\u001B[39m \u001B[38;5;28;43mself\u001B[39;49m\u001B[38;5;241;43m.\u001B[39;49m\u001B[43m_run\u001B[49m\u001B[43m(\u001B[49m\u001B[38;5;28;43;01mNone\u001B[39;49;00m\u001B[43m,\u001B[49m\u001B[43m \u001B[49m\u001B[43mfetches\u001B[49m\u001B[43m,\u001B[49m\u001B[43m \u001B[49m\u001B[43mfeed_dict\u001B[49m\u001B[43m,\u001B[49m\u001B[43m \u001B[49m\u001B[43moptions_ptr\u001B[49m\u001B[43m,\u001B[49m\n\u001B[1;32m    973\u001B[0m \u001B[43m                     \u001B[49m\u001B[43mrun_metadata_ptr\u001B[49m\u001B[43m)\u001B[49m\n\u001B[1;32m    974\u001B[0m   \u001B[38;5;28;01mif\u001B[39;00m run_metadata:\n\u001B[1;32m    975\u001B[0m     proto_data \u001B[38;5;241m=\u001B[39m tf_session\u001B[38;5;241m.\u001B[39mTF_GetBuffer(run_metadata_ptr)\n",
      "File \u001B[0;32m~/Documents/projects/rec-sys/RecSys-2023-polimi/venv/lib/python3.10/site-packages/tensorflow/python/client/session.py:1215\u001B[0m, in \u001B[0;36mBaseSession._run\u001B[0;34m(self, handle, fetches, feed_dict, options, run_metadata)\u001B[0m\n\u001B[1;32m   1212\u001B[0m \u001B[38;5;66;03m# We only want to really perform the run if fetches or targets are provided,\u001B[39;00m\n\u001B[1;32m   1213\u001B[0m \u001B[38;5;66;03m# or if the call is a partial run that specifies feeds.\u001B[39;00m\n\u001B[1;32m   1214\u001B[0m \u001B[38;5;28;01mif\u001B[39;00m final_fetches \u001B[38;5;129;01mor\u001B[39;00m final_targets \u001B[38;5;129;01mor\u001B[39;00m (handle \u001B[38;5;129;01mand\u001B[39;00m feed_dict_tensor):\n\u001B[0;32m-> 1215\u001B[0m   results \u001B[38;5;241m=\u001B[39m \u001B[38;5;28;43mself\u001B[39;49m\u001B[38;5;241;43m.\u001B[39;49m\u001B[43m_do_run\u001B[49m\u001B[43m(\u001B[49m\u001B[43mhandle\u001B[49m\u001B[43m,\u001B[49m\u001B[43m \u001B[49m\u001B[43mfinal_targets\u001B[49m\u001B[43m,\u001B[49m\u001B[43m \u001B[49m\u001B[43mfinal_fetches\u001B[49m\u001B[43m,\u001B[49m\n\u001B[1;32m   1216\u001B[0m \u001B[43m                         \u001B[49m\u001B[43mfeed_dict_tensor\u001B[49m\u001B[43m,\u001B[49m\u001B[43m \u001B[49m\u001B[43moptions\u001B[49m\u001B[43m,\u001B[49m\u001B[43m \u001B[49m\u001B[43mrun_metadata\u001B[49m\u001B[43m)\u001B[49m\n\u001B[1;32m   1217\u001B[0m \u001B[38;5;28;01melse\u001B[39;00m:\n\u001B[1;32m   1218\u001B[0m   results \u001B[38;5;241m=\u001B[39m []\n",
      "File \u001B[0;32m~/Documents/projects/rec-sys/RecSys-2023-polimi/venv/lib/python3.10/site-packages/tensorflow/python/client/session.py:1395\u001B[0m, in \u001B[0;36mBaseSession._do_run\u001B[0;34m(self, handle, target_list, fetch_list, feed_dict, options, run_metadata)\u001B[0m\n\u001B[1;32m   1392\u001B[0m   \u001B[38;5;28;01mreturn\u001B[39;00m \u001B[38;5;28mself\u001B[39m\u001B[38;5;241m.\u001B[39m_call_tf_sessionprun(handle, feed_dict, fetch_list)\n\u001B[1;32m   1394\u001B[0m \u001B[38;5;28;01mif\u001B[39;00m handle \u001B[38;5;129;01mis\u001B[39;00m \u001B[38;5;28;01mNone\u001B[39;00m:\n\u001B[0;32m-> 1395\u001B[0m   \u001B[38;5;28;01mreturn\u001B[39;00m \u001B[38;5;28;43mself\u001B[39;49m\u001B[38;5;241;43m.\u001B[39;49m\u001B[43m_do_call\u001B[49m\u001B[43m(\u001B[49m\u001B[43m_run_fn\u001B[49m\u001B[43m,\u001B[49m\u001B[43m \u001B[49m\u001B[43mfeeds\u001B[49m\u001B[43m,\u001B[49m\u001B[43m \u001B[49m\u001B[43mfetches\u001B[49m\u001B[43m,\u001B[49m\u001B[43m \u001B[49m\u001B[43mtargets\u001B[49m\u001B[43m,\u001B[49m\u001B[43m \u001B[49m\u001B[43moptions\u001B[49m\u001B[43m,\u001B[49m\n\u001B[1;32m   1396\u001B[0m \u001B[43m                       \u001B[49m\u001B[43mrun_metadata\u001B[49m\u001B[43m)\u001B[49m\n\u001B[1;32m   1397\u001B[0m \u001B[38;5;28;01melse\u001B[39;00m:\n\u001B[1;32m   1398\u001B[0m   \u001B[38;5;28;01mreturn\u001B[39;00m \u001B[38;5;28mself\u001B[39m\u001B[38;5;241m.\u001B[39m_do_call(_prun_fn, handle, feeds, fetches)\n",
      "File \u001B[0;32m~/Documents/projects/rec-sys/RecSys-2023-polimi/venv/lib/python3.10/site-packages/tensorflow/python/client/session.py:1402\u001B[0m, in \u001B[0;36mBaseSession._do_call\u001B[0;34m(self, fn, *args)\u001B[0m\n\u001B[1;32m   1400\u001B[0m \u001B[38;5;28;01mdef\u001B[39;00m \u001B[38;5;21m_do_call\u001B[39m(\u001B[38;5;28mself\u001B[39m, fn, \u001B[38;5;241m*\u001B[39margs):\n\u001B[1;32m   1401\u001B[0m   \u001B[38;5;28;01mtry\u001B[39;00m:\n\u001B[0;32m-> 1402\u001B[0m     \u001B[38;5;28;01mreturn\u001B[39;00m \u001B[43mfn\u001B[49m\u001B[43m(\u001B[49m\u001B[38;5;241;43m*\u001B[39;49m\u001B[43margs\u001B[49m\u001B[43m)\u001B[49m\n\u001B[1;32m   1403\u001B[0m   \u001B[38;5;28;01mexcept\u001B[39;00m errors\u001B[38;5;241m.\u001B[39mOpError \u001B[38;5;28;01mas\u001B[39;00m e:\n\u001B[1;32m   1404\u001B[0m     message \u001B[38;5;241m=\u001B[39m compat\u001B[38;5;241m.\u001B[39mas_text(e\u001B[38;5;241m.\u001B[39mmessage)\n",
      "File \u001B[0;32m~/Documents/projects/rec-sys/RecSys-2023-polimi/venv/lib/python3.10/site-packages/tensorflow/python/client/session.py:1385\u001B[0m, in \u001B[0;36mBaseSession._do_run.<locals>._run_fn\u001B[0;34m(feed_dict, fetch_list, target_list, options, run_metadata)\u001B[0m\n\u001B[1;32m   1382\u001B[0m \u001B[38;5;28;01mdef\u001B[39;00m \u001B[38;5;21m_run_fn\u001B[39m(feed_dict, fetch_list, target_list, options, run_metadata):\n\u001B[1;32m   1383\u001B[0m   \u001B[38;5;66;03m# Ensure any changes to the graph are reflected in the runtime.\u001B[39;00m\n\u001B[1;32m   1384\u001B[0m   \u001B[38;5;28mself\u001B[39m\u001B[38;5;241m.\u001B[39m_extend_graph()\n\u001B[0;32m-> 1385\u001B[0m   \u001B[38;5;28;01mreturn\u001B[39;00m \u001B[38;5;28;43mself\u001B[39;49m\u001B[38;5;241;43m.\u001B[39;49m\u001B[43m_call_tf_sessionrun\u001B[49m\u001B[43m(\u001B[49m\u001B[43moptions\u001B[49m\u001B[43m,\u001B[49m\u001B[43m \u001B[49m\u001B[43mfeed_dict\u001B[49m\u001B[43m,\u001B[49m\u001B[43m \u001B[49m\u001B[43mfetch_list\u001B[49m\u001B[43m,\u001B[49m\n\u001B[1;32m   1386\u001B[0m \u001B[43m                                  \u001B[49m\u001B[43mtarget_list\u001B[49m\u001B[43m,\u001B[49m\u001B[43m \u001B[49m\u001B[43mrun_metadata\u001B[49m\u001B[43m)\u001B[49m\n",
      "File \u001B[0;32m~/Documents/projects/rec-sys/RecSys-2023-polimi/venv/lib/python3.10/site-packages/tensorflow/python/client/session.py:1478\u001B[0m, in \u001B[0;36mBaseSession._call_tf_sessionrun\u001B[0;34m(self, options, feed_dict, fetch_list, target_list, run_metadata)\u001B[0m\n\u001B[1;32m   1476\u001B[0m \u001B[38;5;28;01mdef\u001B[39;00m \u001B[38;5;21m_call_tf_sessionrun\u001B[39m(\u001B[38;5;28mself\u001B[39m, options, feed_dict, fetch_list, target_list,\n\u001B[1;32m   1477\u001B[0m                         run_metadata):\n\u001B[0;32m-> 1478\u001B[0m   \u001B[38;5;28;01mreturn\u001B[39;00m \u001B[43mtf_session\u001B[49m\u001B[38;5;241;43m.\u001B[39;49m\u001B[43mTF_SessionRun_wrapper\u001B[49m\u001B[43m(\u001B[49m\u001B[38;5;28;43mself\u001B[39;49m\u001B[38;5;241;43m.\u001B[39;49m\u001B[43m_session\u001B[49m\u001B[43m,\u001B[49m\u001B[43m \u001B[49m\u001B[43moptions\u001B[49m\u001B[43m,\u001B[49m\u001B[43m \u001B[49m\u001B[43mfeed_dict\u001B[49m\u001B[43m,\u001B[49m\n\u001B[1;32m   1479\u001B[0m \u001B[43m                                          \u001B[49m\u001B[43mfetch_list\u001B[49m\u001B[43m,\u001B[49m\u001B[43m \u001B[49m\u001B[43mtarget_list\u001B[49m\u001B[43m,\u001B[49m\n\u001B[1;32m   1480\u001B[0m \u001B[43m                                          \u001B[49m\u001B[43mrun_metadata\u001B[49m\u001B[43m)\u001B[49m\n",
      "\u001B[0;31mKeyboardInterrupt\u001B[0m: "
     ]
    }
   ],
   "source": [
    "recommender = model(URM_train)\n",
    "# recommender.fit(**trial.params, workers=6)\n",
    "recommender.fit(validation_evaluator=evaluator_validation)"
   ],
   "metadata": {
    "collapsed": false,
    "ExecuteTime": {
     "end_time": "2023-12-09T09:48:17.667382050Z",
     "start_time": "2023-12-09T09:48:13.935752066Z"
    }
   },
   "id": "c553c54a3d774214"
  },
  {
   "cell_type": "code",
   "execution_count": 4,
   "outputs": [
    {
     "name": "stdout",
     "output_type": "stream",
     "text": [
      "EvaluatorHoldout: Ignoring 2172 (17.2%) Users that have less than 1 test interactions\n",
      "EvaluatorHoldout: Ignoring 0 Users\n",
      "EvaluatorHoldout: Processed 10466 (100.0%) in 6.77 sec. Users per second: 1547\n"
     ]
    },
    {
     "data": {
      "text/plain": "(       PRECISION PRECISION_RECALL_MIN_DEN    RECALL       MAP MAP_MIN_DEN  \\\n cutoff                                                                      \n 10      0.034903                 0.060857  0.051631  0.014789    0.025143   \n \n              MRR      NDCG       F1  HIT_RATE ARHR_ALL_HITS  ...  \\\n cutoff                                                       ...   \n 10      0.107267  0.052758  0.04165  0.257214      0.125521  ...   \n \n        COVERAGE_USER COVERAGE_USER_HIT USERS_IN_GT DIVERSITY_GINI  \\\n cutoff                                                              \n 10          0.828137          0.213008    0.828137       0.005405   \n \n        SHANNON_ENTROPY RATIO_DIVERSITY_HERFINDAHL RATIO_DIVERSITY_GINI  \\\n cutoff                                                                   \n 10            7.034099                   0.985282             0.015711   \n \n        RATIO_SHANNON_ENTROPY RATIO_AVERAGE_POPULARITY RATIO_NOVELTY  \n cutoff                                                               \n 10                  0.542286                 2.981653      0.315232  \n \n [1 rows x 27 columns],\n 'CUTOFF: 10 - PRECISION: 0.0349035, PRECISION_RECALL_MIN_DEN: 0.0608570, RECALL: 0.0516310, MAP: 0.0147887, MAP_MIN_DEN: 0.0251433, MRR: 0.1072672, NDCG: 0.0527582, F1: 0.0416505, HIT_RATE: 0.2572138, ARHR_ALL_HITS: 0.1255208, NOVELTY: 0.0044609, AVERAGE_POPULARITY: 0.3490905, DIVERSITY_MEAN_INTER_LIST: 0.8493478, DIVERSITY_HERFINDAHL: 0.9849267, COVERAGE_ITEM: 0.0589056, COVERAGE_ITEM_HIT: 0.0113851, ITEMS_IN_GT: 0.8045180, COVERAGE_USER: 0.8281374, COVERAGE_USER_HIT: 0.2130084, USERS_IN_GT: 0.8281374, DIVERSITY_GINI: 0.0054055, SHANNON_ENTROPY: 7.0340989, RATIO_DIVERSITY_HERFINDAHL: 0.9852816, RATIO_DIVERSITY_GINI: 0.0157110, RATIO_SHANNON_ENTROPY: 0.5422857, RATIO_AVERAGE_POPULARITY: 2.9816527, RATIO_NOVELTY: 0.3152322, \\n')"
     },
     "execution_count": 4,
     "metadata": {},
     "output_type": "execute_result"
    }
   ],
   "source": [
    "evaluator_test.evaluateRecommender(recommender)"
   ],
   "metadata": {
    "collapsed": false,
    "ExecuteTime": {
     "end_time": "2023-12-08T23:59:43.282618166Z",
     "start_time": "2023-12-08T23:59:36.473834703Z"
    }
   },
   "id": "c1f53f977991dbad"
  },
  {
   "cell_type": "code",
   "execution_count": 11,
   "outputs": [],
   "source": [
    "import optuna as op\n",
    "def objective(trial):\n",
    "    trial.suggest_int(\"num_factors\", 1, 250)\n",
    "    trial.suggest_int(\"batch_size\", 64, 1024)\n",
    "    trial.suggest_int(\"m\", 1, 10)\n",
    "    trial.suggest_float(\"d_lr\", 1e-4, 1e-2, log=True)\n",
    "    trial.suggest_float(\"g_lr\", 1e-4, 1e-2, log=True)\n",
    "    trial.suggest_float(\"d_reg\", 1e-6, 1e-4, log=True)\n",
    "    trial.suggest_float(\"recon_coefficient\", 1e-2, 0.5)\n",
    "    \n",
    "    recommender = model(URM_train)\n",
    "    recommender.fit(**trial.params, epochs=30, validation_evaluator=evaluator_validation, freq=2, after=2)\n",
    "    result, _ = evaluator_validation.evaluateRecommender(recommender)\n",
    "    MAP_result = result[\"MAP\"].item()\n",
    "       \n",
    "    return MAP_result"
   ],
   "metadata": {
    "collapsed": false,
    "ExecuteTime": {
     "end_time": "2023-12-09T00:11:18.721498496Z",
     "start_time": "2023-12-09T00:11:18.676797838Z"
    }
   },
   "id": "b826576f6714c764"
  },
  {
   "cell_type": "code",
   "execution_count": null,
   "outputs": [],
   "source": [
    "best_params = {\n",
    "    \"num_factors\":245,\n",
    "    \"batch_size\":747,\n",
    "    \"m\":6,\n",
    "    \"d_lr\":0.0016329762690425955,\n",
    "    \"g_lr\":0.00020240992201659615,\n",
    "    \"d_reg\":4.7660661730127275e-06\n",
    "}\n",
    "\n",
    "study_name = \"GANMF-study\"  # Unique identifier of the study.\n",
    "storage_name = \"sqlite:///{}.db\".format(study_name)\n",
    "study = op.create_study(study_name=study_name, storage=storage_name, direction=\"maximize\", load_if_exists=True)\n",
    "# study.enqueue_trial(best_params)\n",
    "study.optimize(objective, n_trials=300)"
   ],
   "metadata": {
    "collapsed": false
   },
   "id": "c5b8a36d4aed08fc"
  },
  {
   "cell_type": "code",
   "execution_count": 15,
   "outputs": [
    {
     "ename": "NameError",
     "evalue": "name 'best_params' is not defined",
     "output_type": "error",
     "traceback": [
      "\u001B[0;31m---------------------------------------------------------------------------\u001B[0m",
      "\u001B[0;31mNameError\u001B[0m                                 Traceback (most recent call last)",
      "Cell \u001B[0;32mIn[15], line 1\u001B[0m\n\u001B[0;32m----> 1\u001B[0m study\u001B[38;5;241m.\u001B[39mbest_params \u001B[38;5;241m=\u001B[39m \u001B[43mbest_params\u001B[49m\n",
      "\u001B[0;31mNameError\u001B[0m: name 'best_params' is not defined"
     ]
    }
   ],
   "source": [
    "study.best_params = best_params"
   ],
   "metadata": {
    "collapsed": false,
    "ExecuteTime": {
     "end_time": "2023-12-09T09:48:10.164339894Z",
     "start_time": "2023-12-09T09:47:19.455173278Z"
    }
   },
   "id": "f18968c2188a349a"
  },
  {
   "cell_type": "code",
   "execution_count": 3,
   "outputs": [
    {
     "name": "stderr",
     "output_type": "stream",
     "text": [
      "/home/federico/Documents/projects/rec-sys/RecSys-2023-polimi/Recommenders/GANMF/GANMF.py:65: UserWarning: `tf.layers.dense` is deprecated and will be removed in a future version. Please use `tf.keras.layers.Dense` instead.\n",
      "  encoding = tf.compat.v1.layers.dense(input_data, units=emb_dim, kernel_initializer=glorot_uniform,\n",
      "/home/federico/Documents/projects/rec-sys/RecSys-2023-polimi/Recommenders/GANMF/GANMF.py:67: UserWarning: `tf.layers.dense` is deprecated and will be removed in a future version. Please use `tf.keras.layers.Dense` instead.\n",
      "  decoding = tf.compat.v1.layers.dense(encoding, units=self.num_items, kernel_initializer=glorot_uniform,\n"
     ]
    },
    {
     "name": "stdout",
     "output_type": "stream",
     "text": [
      "WARNING:tensorflow:From /home/federico/Documents/projects/rec-sys/RecSys-2023-polimi/venv/lib/python3.10/site-packages/tensorflow/python/util/tf_should_use.py:288: initialize_all_variables (from tensorflow.python.ops.variables) is deprecated and will be removed after 2017-03-02.\n",
      "Instructions for updating:\n",
      "Use `tf.global_variables_initializer` instead.\n"
     ]
    },
    {
     "name": "stderr",
     "output_type": "stream",
     "text": [
      "2023-12-09 11:37:15.501019: I external/local_xla/xla/stream_executor/cuda/cuda_executor.cc:901] successful NUMA node read from SysFS had negative value (-1), but there must be at least one NUMA node, so returning NUMA node zero. See more at https://github.com/torvalds/linux/blob/v6.0/Documentation/ABI/testing/sysfs-bus-pci#L344-L355\n",
      "2023-12-09 11:37:15.544087: I external/local_xla/xla/stream_executor/cuda/cuda_executor.cc:901] successful NUMA node read from SysFS had negative value (-1), but there must be at least one NUMA node, so returning NUMA node zero. See more at https://github.com/torvalds/linux/blob/v6.0/Documentation/ABI/testing/sysfs-bus-pci#L344-L355\n",
      "2023-12-09 11:37:15.544568: I external/local_xla/xla/stream_executor/cuda/cuda_executor.cc:901] successful NUMA node read from SysFS had negative value (-1), but there must be at least one NUMA node, so returning NUMA node zero. See more at https://github.com/torvalds/linux/blob/v6.0/Documentation/ABI/testing/sysfs-bus-pci#L344-L355\n",
      "2023-12-09 11:37:15.635670: I external/local_xla/xla/stream_executor/cuda/cuda_executor.cc:901] successful NUMA node read from SysFS had negative value (-1), but there must be at least one NUMA node, so returning NUMA node zero. See more at https://github.com/torvalds/linux/blob/v6.0/Documentation/ABI/testing/sysfs-bus-pci#L344-L355\n",
      "2023-12-09 11:37:15.636072: I external/local_xla/xla/stream_executor/cuda/cuda_executor.cc:901] successful NUMA node read from SysFS had negative value (-1), but there must be at least one NUMA node, so returning NUMA node zero. See more at https://github.com/torvalds/linux/blob/v6.0/Documentation/ABI/testing/sysfs-bus-pci#L344-L355\n",
      "2023-12-09 11:37:15.636381: I external/local_xla/xla/stream_executor/cuda/cuda_executor.cc:901] successful NUMA node read from SysFS had negative value (-1), but there must be at least one NUMA node, so returning NUMA node zero. See more at https://github.com/torvalds/linux/blob/v6.0/Documentation/ABI/testing/sysfs-bus-pci#L344-L355\n",
      "2023-12-09 11:37:15.636587: I tensorflow/core/common_runtime/gpu/gpu_device.cc:1929] Created device /job:localhost/replica:0/task:0/device:GPU:0 with 5163 MB memory:  -> device: 0, name: NVIDIA GeForce GTX 1060, pci bus id: 0000:01:00.0, compute capability: 6.1\n",
      "2023-12-09 11:37:15.651207: I tensorflow/compiler/mlir/mlir_graph_optimization_pass.cc:388] MLIR V1 optimization pass is not enabled\n",
      "  2%|▏         | 1/50 [00:00<?, ?it/s]2023-12-09 11:37:16.346865: I external/local_tsl/tsl/platform/default/subprocess.cc:304] Start cannot spawn child process: No such file or directory\n",
      "51it [04:24,  5.29s/it]                        \n"
     ]
    },
    {
     "data": {
      "text/plain": "51"
     },
     "execution_count": 3,
     "metadata": {},
     "output_type": "execute_result"
    }
   ],
   "source": [
    "best_params = {\n",
    "    \"num_factors\":245,\n",
    "    \"batch_size\":747,\n",
    "    \"m\":6,\n",
    "    \"d_lr\":0.0016329762690425955,\n",
    "    \"g_lr\":0.00020240992201659615,\n",
    "    \"d_reg\":4.7660661730127275e-06\n",
    "}\n",
    "# final = model(URM_train)\n",
    "# final.fit(**best_params,validation_evaluator=evaluator_validation, freq=4, after=25)\n",
    "\n",
    "final = model(URM_train_validation)\n",
    "final.fit(**best_params, epochs=50)"
   ],
   "metadata": {
    "collapsed": false,
    "ExecuteTime": {
     "end_time": "2023-12-09T10:41:40.517899776Z",
     "start_time": "2023-12-09T10:37:15.051763990Z"
    }
   },
   "id": "7ae12a0ef4bc0baa"
  },
  {
   "cell_type": "code",
   "execution_count": 14,
   "outputs": [
    {
     "name": "stdout",
     "output_type": "stream",
     "text": [
      "EvaluatorHoldout: Ignoring 2136 (16.9%) Users that have less than 1 test interactions\n",
      "EvaluatorHoldout: Ignoring 0 Users\n",
      "EvaluatorHoldout: Processed 10502 (100.0%) in 8.53 sec. Users per second: 1231\n"
     ]
    },
    {
     "data": {
      "text/plain": "(       PRECISION PRECISION_RECALL_MIN_DEN    RECALL       MAP MAP_MIN_DEN  \\\n cutoff                                                                      \n 10      0.061284                 0.106942  0.090467  0.029535    0.050349   \n \n              MRR      NDCG        F1  HIT_RATE ARHR_ALL_HITS  ...  \\\n cutoff                                                        ...   \n 10      0.191518  0.097177  0.073069  0.394782      0.236527  ...   \n \n        COVERAGE_USER COVERAGE_USER_HIT USERS_IN_GT DIVERSITY_GINI  \\\n cutoff                                                              \n 10          0.830986          0.328058    0.830986       0.006774   \n \n        SHANNON_ENTROPY RATIO_DIVERSITY_HERFINDAHL RATIO_DIVERSITY_GINI  \\\n cutoff                                                                   \n 10            7.600081                   0.991679             0.019438   \n \n        RATIO_SHANNON_ENTROPY RATIO_AVERAGE_POPULARITY RATIO_NOVELTY  \n cutoff                                                               \n 10                  0.585453                  3.07404      0.249153  \n \n [1 rows x 27 columns],\n 'CUTOFF: 10 - PRECISION: 0.0612836, PRECISION_RECALL_MIN_DEN: 0.1069419, RECALL: 0.0904673, MAP: 0.0295350, MAP_MIN_DEN: 0.0503493, MRR: 0.1915179, NDCG: 0.0971767, F1: 0.0730692, HIT_RATE: 0.3947819, ARHR_ALL_HITS: 0.2365267, NOVELTY: 0.0044107, AVERAGE_POPULARITY: 0.3761446, DIVERSITY_MEAN_INTER_LIST: 0.9133021, DIVERSITY_HERFINDAHL: 0.9913215, COVERAGE_ITEM: 0.0400954, COVERAGE_ITEM_HIT: 0.0150302, ITEMS_IN_GT: 0.8020430, COVERAGE_USER: 0.8309859, COVERAGE_USER_HIT: 0.3280582, USERS_IN_GT: 0.8309859, DIVERSITY_GINI: 0.0067739, SHANNON_ENTROPY: 7.6000809, RATIO_DIVERSITY_HERFINDAHL: 0.9916792, RATIO_DIVERSITY_GINI: 0.0194381, RATIO_SHANNON_ENTROPY: 0.5854533, RATIO_AVERAGE_POPULARITY: 3.0740399, RATIO_NOVELTY: 0.2491529, \\n')"
     },
     "execution_count": 14,
     "metadata": {},
     "output_type": "execute_result"
    }
   ],
   "source": [
    "from Evaluation.Evaluator import EvaluatorHoldout\n",
    "evaluator_test = EvaluatorHoldout(URM_test, cutoff_list=[10], ignore_users=[])\n",
    "evaluator_test.evaluateRecommender(final)"
   ],
   "metadata": {
    "collapsed": false,
    "ExecuteTime": {
     "end_time": "2023-12-09T10:25:05.099068795Z",
     "start_time": "2023-12-09T10:24:56.538877406Z"
    }
   },
   "id": "1a0a3570fbcb348b"
  },
  {
   "cell_type": "code",
   "execution_count": 8,
   "outputs": [
    {
     "data": {
      "text/plain": "<12638x22222 sparse matrix of type '<class 'numpy.float64'>'\n\twith 382984 stored elements in Compressed Sparse Row format>"
     },
     "execution_count": 8,
     "metadata": {},
     "output_type": "execute_result"
    }
   ],
   "source": [
    "# 67 epochs: [MAP: 0.0302020, MAP_MIN_DEN: 0.0510849]"
   ],
   "metadata": {
    "collapsed": false,
    "ExecuteTime": {
     "end_time": "2023-12-09T10:47:55.817623452Z",
     "start_time": "2023-12-09T10:47:55.773912024Z"
    }
   },
   "id": "3cdf5d82e17bdf89"
  },
  {
   "cell_type": "code",
   "execution_count": 9,
   "outputs": [
    {
     "name": "stdout",
     "output_type": "stream",
     "text": [
      "Group 0, #users in group 2527, average p.len 1.64, median 2.0, min 0, max 3\n",
      "EvaluatorHoldout: Ignoring 2195 (17.4%) Users that have less than 1 test interactions\n",
      "EvaluatorHoldout: Ignoring 10111 Users\n",
      "EvaluatorHoldout: Processed 1064 (100.0%) in 1.20 sec. Users per second: 889\n",
      "Group 1, #users in group 2527, average p.len 6.21, median 6.0, min 3, max 10\n",
      "EvaluatorHoldout: Ignoring 2195 (17.4%) Users that have less than 1 test interactions\n",
      "EvaluatorHoldout: Ignoring 10111 Users\n",
      "EvaluatorHoldout: Processed 1911 (100.0%) in 1.38 sec. Users per second: 1382\n",
      "Group 2, #users in group 2527, average p.len 14.75, median 14.0, min 10, max 21\n",
      "EvaluatorHoldout: Ignoring 2195 (17.4%) Users that have less than 1 test interactions\n",
      "EvaluatorHoldout: Ignoring 10111 Users\n",
      "EvaluatorHoldout: Processed 2414 (100.0%) in 1.74 sec. Users per second: 1391\n",
      "Group 3, #users in group 2527, average p.len 31.69, median 31.0, min 21, max 46\n",
      "EvaluatorHoldout: Ignoring 2195 (17.4%) Users that have less than 1 test interactions\n",
      "EvaluatorHoldout: Ignoring 10111 Users\n",
      "EvaluatorHoldout: Processed 2524 (100.0%) in 1.83 sec. Users per second: 1382\n",
      "Group 4, #users in group 2527, average p.len 96.36, median 76.0, min 46, max 555\n",
      "EvaluatorHoldout: Ignoring 2195 (17.4%) Users that have less than 1 test interactions\n",
      "EvaluatorHoldout: Ignoring 10111 Users\n",
      "EvaluatorHoldout: Processed 2527 (100.0%) in 1.90 sec. Users per second: 1332\n"
     ]
    }
   ],
   "source": [
    "import numpy as np\n",
    "import scipy.sparse as sps\n",
    "\n",
    "from Evaluation.Evaluator import EvaluatorHoldout\n",
    "\n",
    "profile_length = np.ediff1d(sps.csr_matrix(URM_train_validation).indptr)\n",
    "sorted_users = np.argsort(profile_length)\n",
    "\n",
    "block_size = int(len(profile_length)*0.2)\n",
    "\n",
    "MAP_recommender_per_group = {}\n",
    "cutoff = 10\n",
    "\n",
    "for group_id in range(0, 5):\n",
    "    \n",
    "    start_pos = group_id*block_size\n",
    "    end_pos = min((group_id+1)*block_size, len(profile_length))\n",
    "    \n",
    "    users_in_group = sorted_users[start_pos:end_pos]\n",
    "    \n",
    "    users_in_group_p_len = profile_length[users_in_group]\n",
    "    \n",
    "    print(\"Group {}, #users in group {}, average p.len {:.2f}, median {}, min {}, max {}\".format(\n",
    "        group_id, \n",
    "        users_in_group.shape[0],\n",
    "        users_in_group_p_len.mean(),\n",
    "        np.median(users_in_group_p_len),\n",
    "        users_in_group_p_len.min(),\n",
    "        users_in_group_p_len.max()))\n",
    "    \n",
    "    \n",
    "    users_not_in_group_flag = np.isin(sorted_users, users_in_group, invert=True)\n",
    "    users_not_in_group = sorted_users[users_not_in_group_flag]\n",
    "    evaluator_test = EvaluatorHoldout(URM_test, cutoff_list=[cutoff], ignore_users=users_not_in_group)\n",
    "    label = \"GANMF\"\n",
    "    result_df, _ = evaluator_test.evaluateRecommender(final)\n",
    "    if label in MAP_recommender_per_group:\n",
    "        MAP_recommender_per_group[label].append(result_df.loc[cutoff][\"MAP\"])\n",
    "    else:\n",
    "        MAP_recommender_per_group[label] = [result_df.loc[cutoff][\"MAP\"]]\n",
    "        "
   ],
   "metadata": {
    "collapsed": false,
    "ExecuteTime": {
     "end_time": "2023-12-09T10:48:18.171293943Z",
     "start_time": "2023-12-09T10:48:10.046674653Z"
    }
   },
   "id": "552308d0d5bef57d"
  },
  {
   "cell_type": "code",
   "execution_count": 10,
   "outputs": [
    {
     "data": {
      "text/plain": "{'GANMF': [0.005550147690655204,\n  0.012661824192436465,\n  0.01964455030838631,\n  0.03426900171056273,\n  0.05848074132700171]}"
     },
     "execution_count": 10,
     "metadata": {},
     "output_type": "execute_result"
    }
   ],
   "source": [
    "MAP_recommender_per_group"
   ],
   "metadata": {
    "collapsed": false,
    "ExecuteTime": {
     "end_time": "2023-12-09T10:48:27.104347804Z",
     "start_time": "2023-12-09T10:48:27.086302346Z"
    }
   },
   "id": "64e66cb8b865c4f6"
  },
  {
   "cell_type": "code",
   "execution_count": null,
   "outputs": [],
   "source": [],
   "metadata": {
    "collapsed": false
   },
   "id": "32273dc7f91944a"
  }
 ],
 "metadata": {
  "kernelspec": {
   "display_name": "Python 3",
   "language": "python",
   "name": "python3"
  },
  "language_info": {
   "codemirror_mode": {
    "name": "ipython",
    "version": 2
   },
   "file_extension": ".py",
   "mimetype": "text/x-python",
   "name": "python",
   "nbconvert_exporter": "python",
   "pygments_lexer": "ipython2",
   "version": "2.7.6"
  }
 },
 "nbformat": 4,
 "nbformat_minor": 5
}
