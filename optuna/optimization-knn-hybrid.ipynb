{
 "cells": [
  {
   "cell_type": "code",
   "execution_count": 4,
   "id": "initial_id",
   "metadata": {
    "collapsed": true,
    "jupyter": {
     "outputs_hidden": true
    },
    "ExecuteTime": {
     "end_time": "2023-12-22T00:52:16.342857Z",
     "start_time": "2023-12-22T00:52:15.269307Z"
    }
   },
   "outputs": [
    {
     "name": "stdout",
     "output_type": "stream",
     "text": [
      "Warning: 236 (1.87 %) of 12638 users have no train items\n",
      "Warning: 2176 (17.22 %) of 12638 users have no sampled items\n"
     ]
    }
   ],
   "source": [
    "from Data_manager.UserUtils import *\n",
    "from Data_manager.split_functions.split_train_validation_random_holdout import \\\n",
    "    split_train_in_two_percentage_global_sample\n",
    "URM_all = getURM_all()\n",
    "URM_train, URM_validation = split_train_in_two_percentage_global_sample(URM_all, train_percentage = 0.80)"
   ]
  },
  {
   "cell_type": "code",
   "execution_count": 5,
   "outputs": [
    {
     "name": "stdout",
     "output_type": "stream",
     "text": [
      "UserKNNCFRecommender: URM Detected 236 ( 1.9%) users with no interactions.\n",
      "UserKNNCFRecommender: URM Detected 115 ( 0.5%) items with no interactions.\n",
      "ItemKNNCFRecommender: URM Detected 236 ( 1.9%) users with no interactions.\n",
      "ItemKNNCFRecommender: URM Detected 115 ( 0.5%) items with no interactions.\n"
     ]
    }
   ],
   "source": [
    "from Recommenders.KNN.ItemKNNCFRecommender import ItemKNNCFRecommender\n",
    "from Recommenders.KNN.UserKNNCFRecommender import UserKNNCFRecommender\n",
    "\n",
    "userknn = UserKNNCFRecommender(URM_train)\n",
    "itemknn = ItemKNNCFRecommender(URM_train)"
   ],
   "metadata": {
    "collapsed": false,
    "ExecuteTime": {
     "end_time": "2023-12-22T00:52:16.664230Z",
     "start_time": "2023-12-22T00:52:16.651401Z"
    }
   },
   "id": "6c8df27dd21a2c7b"
  },
  {
   "cell_type": "code",
   "execution_count": null,
   "outputs": [],
   "source": [
    "import numpy as np \n",
    "import scipy.sparse as sps\n",
    "profile_length = np.ediff1d(sps.csr_matrix(URM_train).indptr)\n",
    "\n",
    "#profile_length = np.ediff1d(sps.csr_matrix(URM_train_validation).indptr)\n",
    "profile_length, profile_length.shape"
   ],
   "metadata": {
    "collapsed": false
   },
   "id": "246a01e321b77003"
  },
  {
   "cell_type": "code",
   "execution_count": 6,
   "outputs": [
    {
     "name": "stdout",
     "output_type": "stream",
     "text": [
      "EvaluatorHoldout: Ignoring 2176 (17.2%) Users that have less than 1 test interactions\n"
     ]
    }
   ],
   "source": [
    "from Evaluation.Evaluator import EvaluatorHoldout\n",
    "\n",
    "evaluator_validation = EvaluatorHoldout(URM_validation, cutoff_list=[10])"
   ],
   "metadata": {
    "collapsed": false,
    "ExecuteTime": {
     "end_time": "2023-12-22T00:52:20.507288Z",
     "start_time": "2023-12-22T00:52:20.489920Z"
    }
   },
   "id": "a578562e64af6557"
  },
  {
   "cell_type": "code",
   "execution_count": null,
   "outputs": [],
   "source": [
    "# PROFILE LENGTH BASED GROUPING\n",
    "from Evaluation.Evaluator import EvaluatorHoldout\n",
    "import numpy as np\n",
    "\n",
    "MAP_recommender_per_group = {}\n",
    "cutoff = 10\n",
    "threshold = 3\n",
    "\n",
    "# Select users whose profile length is less than the cutoff for the group and greater than or equal to the cutoff for the previous group\n",
    "\n",
    "users_in_group_flag = profile_length < threshold\n",
    "users_in_group = np.arange(len(profile_length))[users_in_group_flag]\n",
    "\n",
    "users_in_group_p_len = profile_length[users_in_group]\n",
    "\n",
    "# Select users not in the current group\n",
    "users_not_in_group_flag = np.isin(np.arange(len(profile_length)), users_in_group, invert=True)\n",
    "users_not_in_group = np.arange(len(profile_length))[users_not_in_group_flag]\n",
    "\n",
    "evaluator_validation = EvaluatorHoldout(URM_validation, cutoff_list=[cutoff], ignore_users=users_not_in_group)\n"
   ],
   "metadata": {
    "collapsed": false
   },
   "id": "3b8a69acd18190a8"
  },
  {
   "cell_type": "code",
   "execution_count": 7,
   "outputs": [],
   "source": [
    "from Hybrid import TwoScoresHybridRecommender\n",
    "import optuna as op\n",
    "# COTRAINING\n",
    "def objective(trial):\n",
    "    ## USERKNN TRAINING\n",
    "    user_topK = trial.suggest_int(\"user_topK\", 2, 1e4)\n",
    "    user_shrink = trial.suggest_int(\"user_shrink\", 0, 1000)\n",
    "    user_similarity = trial.suggest_categorical(\"user_similarity\", [\"cosine\", \"jaccard\", \"asymmetric\", \"dice\", \"tversky\"])\n",
    "    user_normalize = trial.suggest_categorical(\"user_normalize\", [True, False])\n",
    "    user_feature_weighting = trial.suggest_categorical(\"user_feature_weighting\", [\"none\", \"BM25\", \"TF-IDF\"])\n",
    "    userknn.fit(topK=user_topK, shrink=user_shrink, similarity=user_similarity, normalize=user_normalize, feature_weighting=user_feature_weighting)\n",
    "    ## ITEMKNN TRAINING\n",
    "    item_topK = trial.suggest_int(\"item_topK\", 2, 10000)\n",
    "    item_shrink = trial.suggest_int(\"item_shrink\", 2, 1000)\n",
    "    item_similarity = trial.suggest_categorical(\"item_similarity\", [\"cosine\", \"jaccard\", \"asymmetric\", \"dice\", \"tversky\"])\n",
    "    item_normalize = trial.suggest_categorical(\"item_normalize\", [True, False])\n",
    "    item_feature_weighting = trial.suggest_categorical(\"item_feature_weighting\", [\"none\", \"BM25\", \"TF-IDF\"])\n",
    "    itemknn.fit(topK=item_topK, shrink=item_shrink, similarity=item_similarity, normalize=item_normalize, feature_weighting=item_feature_weighting)\n",
    "    \n",
    "    ## HYBRID\n",
    "    \n",
    "    alpha = trial.suggest_float(\"alpha\", 0.0, 1.0)\n",
    "    \n",
    "    recommender = TwoScoresHybridRecommender(URM_train, userknn, itemknn)\n",
    "    recommender.fit(alpha=alpha)\n",
    "    \n",
    "    result, _ = evaluator_validation.evaluateRecommender(recommender)\n",
    "    MAP_result = result[\"MAP\"].item()\n",
    "       \n",
    "    return MAP_result"
   ],
   "metadata": {
    "collapsed": false,
    "ExecuteTime": {
     "end_time": "2023-12-22T00:52:26.540292Z",
     "start_time": "2023-12-22T00:52:25.931253Z"
    }
   },
   "id": "f800731818a98c7d"
  },
  {
   "cell_type": "code",
   "execution_count": 13,
   "outputs": [
    {
     "name": "stderr",
     "output_type": "stream",
     "text": [
      "[I 2023-12-22 11:18:26,121] Using an existing study with name 'KNN-cotrain-study' instead of creating a new one.\n"
     ]
    },
    {
     "name": "stdout",
     "output_type": "stream",
     "text": [
      "Similarity column 12638 (100.0%), 12329.77 column/sec. Elapsed time 1.03 sec\n",
      "Similarity column 22222 (100.0%), 10166.53 column/sec. Elapsed time 2.19 sec\n",
      "TwoScoresHybridRecommender: URM Detected 236 ( 1.9%) users with no interactions.\n",
      "TwoScoresHybridRecommender: URM Detected 115 ( 0.5%) items with no interactions.\n",
      "EvaluatorHoldout: Processed 10462 (100.0%) in 8.51 sec. Users per second: 1229\n"
     ]
    },
    {
     "name": "stderr",
     "output_type": "stream",
     "text": [
      "[I 2023-12-22 11:18:39,031] Trial 500 finished with value: 0.03112420460441899 and parameters: {'user_topK': 6595, 'user_shrink': 893, 'user_similarity': 'cosine', 'user_normalize': True, 'user_feature_weighting': 'none', 'item_topK': 6, 'item_shrink': 81, 'item_similarity': 'asymmetric', 'item_normalize': True, 'item_feature_weighting': 'TF-IDF', 'alpha': 0.6438562299363502}. Best is trial 215 with value: 0.048046896098655506.\n"
     ]
    },
    {
     "name": "stdout",
     "output_type": "stream",
     "text": [
      "Similarity column 12638 (100.0%), 12225.70 column/sec. Elapsed time 1.03 sec\n",
      "Similarity column 22222 (100.0%), 12812.00 column/sec. Elapsed time 1.73 sec\n",
      "TwoScoresHybridRecommender: URM Detected 236 ( 1.9%) users with no interactions.\n",
      "TwoScoresHybridRecommender: URM Detected 115 ( 0.5%) items with no interactions.\n",
      "EvaluatorHoldout: Processed 10462 (100.0%) in 8.45 sec. Users per second: 1238\n"
     ]
    },
    {
     "name": "stderr",
     "output_type": "stream",
     "text": [
      "[I 2023-12-22 11:18:50,980] Trial 501 finished with value: 0.029227813887296106 and parameters: {'user_topK': 7809, 'user_shrink': 964, 'user_similarity': 'cosine', 'user_normalize': True, 'user_feature_weighting': 'none', 'item_topK': 2, 'item_shrink': 138, 'item_similarity': 'jaccard', 'item_normalize': True, 'item_feature_weighting': 'TF-IDF', 'alpha': 0.7239882338900044}. Best is trial 215 with value: 0.048046896098655506.\n"
     ]
    },
    {
     "name": "stdout",
     "output_type": "stream",
     "text": [
      "Similarity column 12638 (100.0%), 11448.85 column/sec. Elapsed time 1.10 sec\n",
      "Similarity column 22222 (100.0%), 10038.14 column/sec. Elapsed time 2.21 sec\n",
      "TwoScoresHybridRecommender: URM Detected 236 ( 1.9%) users with no interactions.\n",
      "TwoScoresHybridRecommender: URM Detected 115 ( 0.5%) items with no interactions.\n",
      "EvaluatorHoldout: Processed 10462 (100.0%) in 10.77 sec. Users per second: 971\n"
     ]
    },
    {
     "name": "stderr",
     "output_type": "stream",
     "text": [
      "[I 2023-12-22 11:19:06,119] Trial 502 finished with value: 0.03449499018367343 and parameters: {'user_topK': 9630, 'user_shrink': 917, 'user_similarity': 'cosine', 'user_normalize': True, 'user_feature_weighting': 'none', 'item_topK': 461, 'item_shrink': 363, 'item_similarity': 'asymmetric', 'item_normalize': True, 'item_feature_weighting': 'TF-IDF', 'alpha': 0.46652450606296225}. Best is trial 215 with value: 0.048046896098655506.\n"
     ]
    },
    {
     "name": "stdout",
     "output_type": "stream",
     "text": [
      "Similarity column 12638 (100.0%), 12388.87 column/sec. Elapsed time 1.02 sec\n",
      "Similarity column 22222 (100.0%), 10015.73 column/sec. Elapsed time 2.22 sec\n",
      "TwoScoresHybridRecommender: URM Detected 236 ( 1.9%) users with no interactions.\n",
      "TwoScoresHybridRecommender: URM Detected 115 ( 0.5%) items with no interactions.\n",
      "EvaluatorHoldout: Processed 10462 (100.0%) in 9.12 sec. Users per second: 1147\n"
     ]
    },
    {
     "name": "stderr",
     "output_type": "stream",
     "text": [
      "[I 2023-12-22 11:19:19,257] Trial 503 finished with value: 0.040140610918426495 and parameters: {'user_topK': 8433, 'user_shrink': 512, 'user_similarity': 'dice', 'user_normalize': True, 'user_feature_weighting': 'BM25', 'item_topK': 193, 'item_shrink': 325, 'item_similarity': 'asymmetric', 'item_normalize': True, 'item_feature_weighting': 'TF-IDF', 'alpha': 0.1361680367604634}. Best is trial 215 with value: 0.048046896098655506.\n"
     ]
    },
    {
     "name": "stdout",
     "output_type": "stream",
     "text": [
      "Similarity column 12638 (100.0%), 12337.52 column/sec. Elapsed time 1.02 sec\n",
      "Similarity column 22222 (100.0%), 10071.60 column/sec. Elapsed time 2.21 sec\n",
      "TwoScoresHybridRecommender: URM Detected 236 ( 1.9%) users with no interactions.\n",
      "TwoScoresHybridRecommender: URM Detected 115 ( 0.5%) items with no interactions.\n",
      "EvaluatorHoldout: Processed 10462 (100.0%) in 10.34 sec. Users per second: 1012\n"
     ]
    },
    {
     "name": "stderr",
     "output_type": "stream",
     "text": [
      "[I 2023-12-22 11:19:33,573] Trial 504 finished with value: 0.042334969640695615 and parameters: {'user_topK': 8124, 'user_shrink': 1000, 'user_similarity': 'cosine', 'user_normalize': True, 'user_feature_weighting': 'none', 'item_topK': 344, 'item_shrink': 113, 'item_similarity': 'asymmetric', 'item_normalize': True, 'item_feature_weighting': 'TF-IDF', 'alpha': 0.7595675845694301}. Best is trial 215 with value: 0.048046896098655506.\n"
     ]
    },
    {
     "name": "stdout",
     "output_type": "stream",
     "text": [
      "Similarity column 12638 (100.0%), 12044.61 column/sec. Elapsed time 1.05 sec\n",
      "Similarity column 22222 (100.0%), 10586.27 column/sec. Elapsed time 2.10 sec\n",
      "TwoScoresHybridRecommender: URM Detected 236 ( 1.9%) users with no interactions.\n",
      "TwoScoresHybridRecommender: URM Detected 115 ( 0.5%) items with no interactions.\n",
      "EvaluatorHoldout: Processed 10462 (100.0%) in 10.32 sec. Users per second: 1014\n"
     ]
    },
    {
     "name": "stderr",
     "output_type": "stream",
     "text": [
      "[I 2023-12-22 11:19:47,885] Trial 505 finished with value: 0.03907258468288915 and parameters: {'user_topK': 8775, 'user_shrink': 864, 'user_similarity': 'cosine', 'user_normalize': True, 'user_feature_weighting': 'none', 'item_topK': 188, 'item_shrink': 473, 'item_similarity': 'dice', 'item_normalize': True, 'item_feature_weighting': 'TF-IDF', 'alpha': 0.6948268014513466}. Best is trial 215 with value: 0.048046896098655506.\n"
     ]
    },
    {
     "name": "stdout",
     "output_type": "stream",
     "text": [
      "Similarity column 12638 (100.0%), 11821.27 column/sec. Elapsed time 1.07 sec\n",
      "Similarity column 22222 (100.0%), 10267.01 column/sec. Elapsed time 2.16 sec\n",
      "TwoScoresHybridRecommender: URM Detected 236 ( 1.9%) users with no interactions.\n",
      "TwoScoresHybridRecommender: URM Detected 115 ( 0.5%) items with no interactions.\n",
      "EvaluatorHoldout: Processed 10462 (100.0%) in 8.41 sec. Users per second: 1244\n"
     ]
    },
    {
     "name": "stderr",
     "output_type": "stream",
     "text": [
      "[I 2023-12-22 11:20:00,250] Trial 506 finished with value: 0.04560669300537441 and parameters: {'user_topK': 9066, 'user_shrink': 886, 'user_similarity': 'cosine', 'user_normalize': True, 'user_feature_weighting': 'none', 'item_topK': 7, 'item_shrink': 172, 'item_similarity': 'asymmetric', 'item_normalize': True, 'item_feature_weighting': 'TF-IDF', 'alpha': 0.6642925922150936}. Best is trial 215 with value: 0.048046896098655506.\n"
     ]
    },
    {
     "name": "stdout",
     "output_type": "stream",
     "text": [
      "Similarity column 12638 (100.0%), 12638.42 column/sec. Elapsed time 1.00 sec\n",
      "Similarity column 22222 (100.0%), 10092.28 column/sec. Elapsed time 2.20 sec\n",
      "TwoScoresHybridRecommender: URM Detected 236 ( 1.9%) users with no interactions.\n",
      "TwoScoresHybridRecommender: URM Detected 115 ( 0.5%) items with no interactions.\n",
      "EvaluatorHoldout: Processed 10462 (100.0%) in 11.04 sec. Users per second: 948\n"
     ]
    },
    {
     "name": "stderr",
     "output_type": "stream",
     "text": [
      "[I 2023-12-22 11:20:15,197] Trial 507 finished with value: 0.04220463021122603 and parameters: {'user_topK': 6381, 'user_shrink': 940, 'user_similarity': 'cosine', 'user_normalize': True, 'user_feature_weighting': 'none', 'item_topK': 596, 'item_shrink': 240, 'item_similarity': 'asymmetric', 'item_normalize': True, 'item_feature_weighting': 'TF-IDF', 'alpha': 0.7386561519962892}. Best is trial 215 with value: 0.048046896098655506.\n"
     ]
    },
    {
     "name": "stdout",
     "output_type": "stream",
     "text": [
      "Similarity column 12638 (100.0%), 12697.54 column/sec. Elapsed time 1.00 sec\n",
      "Similarity column 22222 (100.0%), 9943.75 column/sec. Elapsed time 2.23 sec\n",
      "TwoScoresHybridRecommender: URM Detected 236 ( 1.9%) users with no interactions.\n",
      "TwoScoresHybridRecommender: URM Detected 115 ( 0.5%) items with no interactions.\n",
      "EvaluatorHoldout: Processed 10462 (100.0%) in 10.16 sec. Users per second: 1030\n"
     ]
    },
    {
     "name": "stderr",
     "output_type": "stream",
     "text": [
      "[I 2023-12-22 11:20:29,265] Trial 508 finished with value: 0.04256948047810256 and parameters: {'user_topK': 7517, 'user_shrink': 576, 'user_similarity': 'cosine', 'user_normalize': True, 'user_feature_weighting': 'none', 'item_topK': 328, 'item_shrink': 301, 'item_similarity': 'asymmetric', 'item_normalize': True, 'item_feature_weighting': 'none', 'alpha': 0.6870206651299092}. Best is trial 215 with value: 0.048046896098655506.\n"
     ]
    },
    {
     "name": "stdout",
     "output_type": "stream",
     "text": [
      "Similarity column 12638 (100.0%), 11928.60 column/sec. Elapsed time 1.06 sec\n",
      "Similarity column 22222 (100.0%), 10003.80 column/sec. Elapsed time 2.22 sec\n",
      "TwoScoresHybridRecommender: URM Detected 236 ( 1.9%) users with no interactions.\n",
      "TwoScoresHybridRecommender: URM Detected 115 ( 0.5%) items with no interactions.\n",
      "EvaluatorHoldout: Processed 10462 (100.0%) in 9.00 sec. Users per second: 1163\n"
     ]
    },
    {
     "name": "stderr",
     "output_type": "stream",
     "text": [
      "[I 2023-12-22 11:20:42,123] Trial 509 finished with value: 0.042314320458318316 and parameters: {'user_topK': 4783, 'user_shrink': 842, 'user_similarity': 'cosine', 'user_normalize': True, 'user_feature_weighting': 'none', 'item_topK': 200, 'item_shrink': 347, 'item_similarity': 'asymmetric', 'item_normalize': True, 'item_feature_weighting': 'TF-IDF', 'alpha': 0.7953219016527748}. Best is trial 215 with value: 0.048046896098655506.\n"
     ]
    },
    {
     "name": "stdout",
     "output_type": "stream",
     "text": [
      "Similarity column 12638 (100.0%), 12603.93 column/sec. Elapsed time 1.00 sec\n",
      "Similarity column 22222 (100.0%), 10316.12 column/sec. Elapsed time 2.15 sec\n",
      "TwoScoresHybridRecommender: URM Detected 236 ( 1.9%) users with no interactions.\n",
      "TwoScoresHybridRecommender: URM Detected 115 ( 0.5%) items with no interactions.\n",
      "EvaluatorHoldout: Processed 10462 (100.0%) in 12.32 sec. Users per second: 849\n"
     ]
    },
    {
     "name": "stderr",
     "output_type": "stream",
     "text": [
      "[I 2023-12-22 11:20:58,709] Trial 510 finished with value: 0.03927512039034732 and parameters: {'user_topK': 7032, 'user_shrink': 980, 'user_similarity': 'cosine', 'user_normalize': True, 'user_feature_weighting': 'none', 'item_topK': 6210, 'item_shrink': 404, 'item_similarity': 'asymmetric', 'item_normalize': True, 'item_feature_weighting': 'TF-IDF', 'alpha': 0.9966847309463286}. Best is trial 215 with value: 0.048046896098655506.\n"
     ]
    },
    {
     "name": "stdout",
     "output_type": "stream",
     "text": [
      "Similarity column 12638 (100.0%), 11686.00 column/sec. Elapsed time 1.08 sec\n",
      "Similarity column 22222 (100.0%), 10014.53 column/sec. Elapsed time 2.22 sec\n",
      "TwoScoresHybridRecommender: URM Detected 236 ( 1.9%) users with no interactions.\n",
      "TwoScoresHybridRecommender: URM Detected 115 ( 0.5%) items with no interactions.\n",
      "EvaluatorHoldout: Processed 10462 (100.0%) in 10.54 sec. Users per second: 993\n"
     ]
    },
    {
     "name": "stderr",
     "output_type": "stream",
     "text": [
      "[I 2023-12-22 11:21:13,189] Trial 511 finished with value: 0.04252380497219006 and parameters: {'user_topK': 4451, 'user_shrink': 910, 'user_similarity': 'cosine', 'user_normalize': True, 'user_feature_weighting': 'none', 'item_topK': 493, 'item_shrink': 430, 'item_similarity': 'asymmetric', 'item_normalize': True, 'item_feature_weighting': 'TF-IDF', 'alpha': 0.7149471215828155}. Best is trial 215 with value: 0.048046896098655506.\n"
     ]
    },
    {
     "name": "stdout",
     "output_type": "stream",
     "text": [
      "Similarity column 12638 (100.0%), 12185.03 column/sec. Elapsed time 1.04 sec\n",
      "Similarity column 22222 (100.0%), 9813.30 column/sec. Elapsed time 2.26 sec\n",
      "TwoScoresHybridRecommender: URM Detected 236 ( 1.9%) users with no interactions.\n",
      "TwoScoresHybridRecommender: URM Detected 115 ( 0.5%) items with no interactions.\n",
      "EvaluatorHoldout: Processed 10462 (100.0%) in 9.20 sec. Users per second: 1137\n"
     ]
    },
    {
     "name": "stderr",
     "output_type": "stream",
     "text": [
      "[I 2023-12-22 11:21:26,468] Trial 512 finished with value: 0.04082649073138514 and parameters: {'user_topK': 8330, 'user_shrink': 957, 'user_similarity': 'tversky', 'user_normalize': False, 'user_feature_weighting': 'none', 'item_topK': 177, 'item_shrink': 370, 'item_similarity': 'asymmetric', 'item_normalize': True, 'item_feature_weighting': 'TF-IDF', 'alpha': 0.6311329463374803}. Best is trial 215 with value: 0.048046896098655506.\n"
     ]
    },
    {
     "name": "stdout",
     "output_type": "stream",
     "text": [
      "Similarity column 12638 (100.0%), 11884.84 column/sec. Elapsed time 1.06 sec\n",
      "Similarity column 22222 (100.0%), 10194.75 column/sec. Elapsed time 2.18 sec\n",
      "TwoScoresHybridRecommender: URM Detected 236 ( 1.9%) users with no interactions.\n",
      "TwoScoresHybridRecommender: URM Detected 115 ( 0.5%) items with no interactions.\n",
      "EvaluatorHoldout: Processed 10462 (100.0%) in 8.42 sec. Users per second: 1243\n"
     ]
    },
    {
     "name": "stderr",
     "output_type": "stream",
     "text": [
      "[I 2023-12-22 11:21:39,004] Trial 513 finished with value: 0.04510136457565292 and parameters: {'user_topK': 9308, 'user_shrink': 929, 'user_similarity': 'cosine', 'user_normalize': True, 'user_feature_weighting': 'none', 'item_topK': 10, 'item_shrink': 259, 'item_similarity': 'asymmetric', 'item_normalize': True, 'item_feature_weighting': 'TF-IDF', 'alpha': 0.6991655932675707}. Best is trial 215 with value: 0.048046896098655506.\n"
     ]
    },
    {
     "name": "stdout",
     "output_type": "stream",
     "text": [
      "Similarity column 12638 (100.0%), 12300.44 column/sec. Elapsed time 1.03 sec\n",
      "Similarity column 22222 (100.0%), 10277.00 column/sec. Elapsed time 2.16 sec\n",
      "TwoScoresHybridRecommender: URM Detected 236 ( 1.9%) users with no interactions.\n",
      "TwoScoresHybridRecommender: URM Detected 115 ( 0.5%) items with no interactions.\n",
      "EvaluatorHoldout: Processed 10462 (100.0%) in 8.42 sec. Users per second: 1243\n"
     ]
    },
    {
     "name": "stderr",
     "output_type": "stream",
     "text": [
      "[I 2023-12-22 11:21:51,375] Trial 514 finished with value: 0.04533151344396855 and parameters: {'user_topK': 8609, 'user_shrink': 875, 'user_similarity': 'cosine', 'user_normalize': True, 'user_feature_weighting': 'none', 'item_topK': 7, 'item_shrink': 385, 'item_similarity': 'asymmetric', 'item_normalize': True, 'item_feature_weighting': 'TF-IDF', 'alpha': 0.22096608332108125}. Best is trial 215 with value: 0.048046896098655506.\n"
     ]
    },
    {
     "name": "stdout",
     "output_type": "stream",
     "text": [
      "Similarity column 12638 (100.0%), 11829.10 column/sec. Elapsed time 1.07 sec\n",
      "Similarity column 22222 (100.0%), 9971.55 column/sec. Elapsed time 2.23 sec\n",
      "TwoScoresHybridRecommender: URM Detected 236 ( 1.9%) users with no interactions.\n",
      "TwoScoresHybridRecommender: URM Detected 115 ( 0.5%) items with no interactions.\n",
      "EvaluatorHoldout: Processed 10462 (100.0%) in 10.11 sec. Users per second: 1035\n"
     ]
    },
    {
     "name": "stderr",
     "output_type": "stream",
     "text": [
      "[I 2023-12-22 11:22:05,677] Trial 515 finished with value: 0.04196175577221326 and parameters: {'user_topK': 9527, 'user_shrink': 905, 'user_similarity': 'cosine', 'user_normalize': True, 'user_feature_weighting': 'none', 'item_topK': 366, 'item_shrink': 151, 'item_similarity': 'asymmetric', 'item_normalize': True, 'item_feature_weighting': 'BM25', 'alpha': 0.6586832459744743}. Best is trial 215 with value: 0.048046896098655506.\n"
     ]
    },
    {
     "name": "stdout",
     "output_type": "stream",
     "text": [
      "Similarity column 12638 (100.0%), 12601.10 column/sec. Elapsed time 1.00 sec\n",
      "Similarity column 22222 (100.0%), 10070.75 column/sec. Elapsed time 2.21 sec\n",
      "TwoScoresHybridRecommender: URM Detected 236 ( 1.9%) users with no interactions.\n",
      "TwoScoresHybridRecommender: URM Detected 115 ( 0.5%) items with no interactions.\n",
      "EvaluatorHoldout: Processed 10462 (100.0%) in 9.15 sec. Users per second: 1143\n"
     ]
    },
    {
     "name": "stderr",
     "output_type": "stream",
     "text": [
      "[I 2023-12-22 11:22:18,677] Trial 516 finished with value: 0.042252061883824854 and parameters: {'user_topK': 6753, 'user_shrink': 893, 'user_similarity': 'cosine', 'user_normalize': True, 'user_feature_weighting': 'none', 'item_topK': 178, 'item_shrink': 328, 'item_similarity': 'asymmetric', 'item_normalize': True, 'item_feature_weighting': 'TF-IDF', 'alpha': 0.7602046503657253}. Best is trial 215 with value: 0.048046896098655506.\n"
     ]
    },
    {
     "name": "stdout",
     "output_type": "stream",
     "text": [
      "Similarity column 12638 (100.0%), 11612.19 column/sec. Elapsed time 1.09 sec\n",
      "Similarity column 22222 (100.0%), 10330.19 column/sec. Elapsed time 2.15 sec\n",
      "TwoScoresHybridRecommender: URM Detected 236 ( 1.9%) users with no interactions.\n",
      "TwoScoresHybridRecommender: URM Detected 115 ( 0.5%) items with no interactions.\n",
      "EvaluatorHoldout: Processed 10462 (100.0%) in 11.32 sec. Users per second: 924\n"
     ]
    },
    {
     "name": "stderr",
     "output_type": "stream",
     "text": [
      "[I 2023-12-22 11:22:34,109] Trial 517 finished with value: 0.04213164119276773 and parameters: {'user_topK': 9820, 'user_shrink': 927, 'user_similarity': 'cosine', 'user_normalize': True, 'user_feature_weighting': 'none', 'item_topK': 757, 'item_shrink': 87, 'item_similarity': 'cosine', 'item_normalize': True, 'item_feature_weighting': 'TF-IDF', 'alpha': 0.7241230829324712}. Best is trial 215 with value: 0.048046896098655506.\n"
     ]
    },
    {
     "name": "stdout",
     "output_type": "stream",
     "text": [
      "Similarity column 12638 (100.0%), 11548.35 column/sec. Elapsed time 1.09 sec\n",
      "Similarity column 22222 (100.0%), 9947.42 column/sec. Elapsed time 2.23 sec\n",
      "TwoScoresHybridRecommender: URM Detected 236 ( 1.9%) users with no interactions.\n",
      "TwoScoresHybridRecommender: URM Detected 115 ( 0.5%) items with no interactions.\n",
      "EvaluatorHoldout: Processed 10462 (100.0%) in 10.79 sec. Users per second: 969\n"
     ]
    },
    {
     "name": "stderr",
     "output_type": "stream",
     "text": [
      "[I 2023-12-22 11:22:49,019] Trial 518 finished with value: 0.039963249462150824 and parameters: {'user_topK': 8937, 'user_shrink': 855, 'user_similarity': 'cosine', 'user_normalize': True, 'user_feature_weighting': 'none', 'item_topK': 502, 'item_shrink': 277, 'item_similarity': 'asymmetric', 'item_normalize': True, 'item_feature_weighting': 'TF-IDF', 'alpha': 0.956823823768919}. Best is trial 215 with value: 0.048046896098655506.\n"
     ]
    },
    {
     "name": "stdout",
     "output_type": "stream",
     "text": [
      "Similarity column 12638 (100.0%), 12341.23 column/sec. Elapsed time 1.02 sec\n",
      "Similarity column 22222 (100.0%), 10169.68 column/sec. Elapsed time 2.19 sec\n",
      "TwoScoresHybridRecommender: URM Detected 236 ( 1.9%) users with no interactions.\n",
      "TwoScoresHybridRecommender: URM Detected 115 ( 0.5%) items with no interactions.\n",
      "EvaluatorHoldout: Processed 10462 (100.0%) in 11.85 sec. Users per second: 883\n"
     ]
    },
    {
     "name": "stderr",
     "output_type": "stream",
     "text": [
      "[I 2023-12-22 11:23:04,992] Trial 519 finished with value: 0.038397583241542736 and parameters: {'user_topK': 8069, 'user_shrink': 965, 'user_similarity': 'jaccard', 'user_normalize': True, 'user_feature_weighting': 'TF-IDF', 'item_topK': 1096, 'item_shrink': 199, 'item_similarity': 'asymmetric', 'item_normalize': True, 'item_feature_weighting': 'TF-IDF', 'alpha': 0.5992122087927778}. Best is trial 215 with value: 0.048046896098655506.\n"
     ]
    },
    {
     "name": "stdout",
     "output_type": "stream",
     "text": [
      "Similarity column 12638 (100.0%), 12572.88 column/sec. Elapsed time 1.01 sec\n",
      "Similarity column 22222 (100.0%), 10129.41 column/sec. Elapsed time 2.19 sec\n",
      "TwoScoresHybridRecommender: URM Detected 236 ( 1.9%) users with no interactions.\n",
      "TwoScoresHybridRecommender: URM Detected 115 ( 0.5%) items with no interactions.\n",
      "EvaluatorHoldout: Processed 10462 (100.0%) in 12.25 sec. Users per second: 854\n"
     ]
    },
    {
     "name": "stderr",
     "output_type": "stream",
     "text": [
      "[I 2023-12-22 11:23:22,063] Trial 520 finished with value: 0.027367115456391065 and parameters: {'user_topK': 6545, 'user_shrink': 950, 'user_similarity': 'cosine', 'user_normalize': True, 'user_feature_weighting': 'none', 'item_topK': 7613, 'item_shrink': 356, 'item_similarity': 'asymmetric', 'item_normalize': True, 'item_feature_weighting': 'TF-IDF', 'alpha': 0.6797738722392659}. Best is trial 215 with value: 0.048046896098655506.\n"
     ]
    },
    {
     "name": "stdout",
     "output_type": "stream",
     "text": [
      "Similarity column 12638 (100.0%), 12523.99 column/sec. Elapsed time 1.01 sec\n",
      "Similarity column 22222 (100.0%), 10051.31 column/sec. Elapsed time 2.21 sec\n",
      "TwoScoresHybridRecommender: URM Detected 236 ( 1.9%) users with no interactions.\n",
      "TwoScoresHybridRecommender: URM Detected 115 ( 0.5%) items with no interactions.\n",
      "EvaluatorHoldout: Processed 10462 (100.0%) in 9.23 sec. Users per second: 1134\n"
     ]
    },
    {
     "name": "stderr",
     "output_type": "stream",
     "text": [
      "[I 2023-12-22 11:23:35,166] Trial 521 finished with value: 0.02892906452072987 and parameters: {'user_topK': 7222, 'user_shrink': 881, 'user_similarity': 'cosine', 'user_normalize': True, 'user_feature_weighting': 'none', 'item_topK': 190, 'item_shrink': 63, 'item_similarity': 'asymmetric', 'item_normalize': True, 'item_feature_weighting': 'TF-IDF', 'alpha': 0.9401856564653057}. Best is trial 215 with value: 0.048046896098655506.\n"
     ]
    },
    {
     "name": "stdout",
     "output_type": "stream",
     "text": [
      "Similarity column 12638 (100.0%), 12279.50 column/sec. Elapsed time 1.03 sec\n",
      "Similarity column 22222 (100.0%), 10284.06 column/sec. Elapsed time 2.16 sec\n",
      "TwoScoresHybridRecommender: URM Detected 236 ( 1.9%) users with no interactions.\n",
      "TwoScoresHybridRecommender: URM Detected 115 ( 0.5%) items with no interactions.\n",
      "EvaluatorHoldout: Processed 10462 (100.0%) in 8.31 sec. Users per second: 1259\n"
     ]
    },
    {
     "name": "stderr",
     "output_type": "stream",
     "text": [
      "[I 2023-12-22 11:23:47,321] Trial 522 finished with value: 0.03055009740466645 and parameters: {'user_topK': 8747, 'user_shrink': 910, 'user_similarity': 'cosine', 'user_normalize': True, 'user_feature_weighting': 'none', 'item_topK': 5, 'item_shrink': 300, 'item_similarity': 'asymmetric', 'item_normalize': True, 'item_feature_weighting': 'TF-IDF', 'alpha': 0.7414184361140166}. Best is trial 215 with value: 0.048046896098655506.\n"
     ]
    },
    {
     "name": "stdout",
     "output_type": "stream",
     "text": [
      "Similarity column 12638 (100.0%), 12142.62 column/sec. Elapsed time 1.04 sec\n",
      "Similarity column 22222 (100.0%), 10090.88 column/sec. Elapsed time 2.20 sec\n",
      "TwoScoresHybridRecommender: URM Detected 236 ( 1.9%) users with no interactions.\n",
      "TwoScoresHybridRecommender: URM Detected 115 ( 0.5%) items with no interactions.\n",
      "EvaluatorHoldout: Processed 10462 (100.0%) in 9.93 sec. Users per second: 1054\n"
     ]
    },
    {
     "name": "stderr",
     "output_type": "stream",
     "text": [
      "[I 2023-12-22 11:24:01,204] Trial 523 finished with value: 0.03160596702199673 and parameters: {'user_topK': 9178, 'user_shrink': 820, 'user_similarity': 'cosine', 'user_normalize': True, 'user_feature_weighting': 'none', 'item_topK': 297, 'item_shrink': 109, 'item_similarity': 'asymmetric', 'item_normalize': True, 'item_feature_weighting': 'TF-IDF', 'alpha': 0.7086642611613334}. Best is trial 215 with value: 0.048046896098655506.\n"
     ]
    },
    {
     "name": "stdout",
     "output_type": "stream",
     "text": [
      "Similarity column 12638 (100.0%), 12741.02 column/sec. Elapsed time 0.99 sec\n",
      "Similarity column 22222 (100.0%), 10024.87 column/sec. Elapsed time 2.22 sec\n",
      "TwoScoresHybridRecommender: URM Detected 236 ( 1.9%) users with no interactions.\n",
      "TwoScoresHybridRecommender: URM Detected 115 ( 0.5%) items with no interactions.\n",
      "EvaluatorHoldout: Processed 10462 (100.0%) in 10.04 sec. Users per second: 1042\n"
     ]
    },
    {
     "name": "stderr",
     "output_type": "stream",
     "text": [
      "[I 2023-12-22 11:24:15,069] Trial 524 finished with value: 0.037478137052310734 and parameters: {'user_topK': 6935, 'user_shrink': 939, 'user_similarity': 'cosine', 'user_normalize': True, 'user_feature_weighting': 'none', 'item_topK': 328, 'item_shrink': 502, 'item_similarity': 'asymmetric', 'item_normalize': True, 'item_feature_weighting': 'TF-IDF', 'alpha': 0.29423571706192564}. Best is trial 215 with value: 0.048046896098655506.\n"
     ]
    },
    {
     "name": "stdout",
     "output_type": "stream",
     "text": [
      "Similarity column 12638 (100.0%), 12633.46 column/sec. Elapsed time 1.00 sec\n",
      "Similarity column 22222 (100.0%), 10363.42 column/sec. Elapsed time 2.14 sec\n",
      "TwoScoresHybridRecommender: URM Detected 236 ( 1.9%) users with no interactions.\n",
      "TwoScoresHybridRecommender: URM Detected 115 ( 0.5%) items with no interactions.\n",
      "EvaluatorHoldout: Processed 10462 (100.0%) in 10.09 sec. Users per second: 1036\n"
     ]
    },
    {
     "name": "stderr",
     "output_type": "stream",
     "text": [
      "[I 2023-12-22 11:24:28,967] Trial 525 finished with value: 0.039206614717511815 and parameters: {'user_topK': 7688, 'user_shrink': 984, 'user_similarity': 'cosine', 'user_normalize': True, 'user_feature_weighting': 'BM25', 'item_topK': 182, 'item_shrink': 347, 'item_similarity': 'jaccard', 'item_normalize': True, 'item_feature_weighting': 'TF-IDF', 'alpha': 0.9187175200125299}. Best is trial 215 with value: 0.048046896098655506.\n"
     ]
    },
    {
     "name": "stdout",
     "output_type": "stream",
     "text": [
      "Similarity column 12638 (100.0%), 11931.93 column/sec. Elapsed time 1.06 sec\n",
      "Similarity column 22222 (100.0%), 9989.85 column/sec. Elapsed time 2.22 sec\n",
      "TwoScoresHybridRecommender: URM Detected 236 ( 1.9%) users with no interactions.\n",
      "TwoScoresHybridRecommender: URM Detected 115 ( 0.5%) items with no interactions.\n",
      "EvaluatorHoldout: Processed 10462 (100.0%) in 10.97 sec. Users per second: 953\n"
     ]
    },
    {
     "name": "stderr",
     "output_type": "stream",
     "text": [
      "[I 2023-12-22 11:24:44,022] Trial 526 finished with value: 0.042726515158412075 and parameters: {'user_topK': 9410, 'user_shrink': 867, 'user_similarity': 'cosine', 'user_normalize': True, 'user_feature_weighting': 'none', 'item_topK': 581, 'item_shrink': 319, 'item_similarity': 'asymmetric', 'item_normalize': True, 'item_feature_weighting': 'TF-IDF', 'alpha': 0.640520163470862}. Best is trial 215 with value: 0.048046896098655506.\n"
     ]
    },
    {
     "name": "stdout",
     "output_type": "stream",
     "text": [
      "Similarity column 12638 (100.0%), 12163.22 column/sec. Elapsed time 1.04 sec\n",
      "Similarity column 22222 (100.0%), 11030.53 column/sec. Elapsed time 2.01 sec\n",
      "TwoScoresHybridRecommender: URM Detected 236 ( 1.9%) users with no interactions.\n",
      "TwoScoresHybridRecommender: URM Detected 115 ( 0.5%) items with no interactions.\n",
      "EvaluatorHoldout: Processed 10462 (100.0%) in 12.23 sec. Users per second: 855\n"
     ]
    },
    {
     "name": "stderr",
     "output_type": "stream",
     "text": [
      "[I 2023-12-22 11:25:00,318] Trial 527 finished with value: 0.034471041076852886 and parameters: {'user_topK': 8468, 'user_shrink': 896, 'user_similarity': 'cosine', 'user_normalize': True, 'user_feature_weighting': 'none', 'item_topK': 2602, 'item_shrink': 378, 'item_similarity': 'dice', 'item_normalize': True, 'item_feature_weighting': 'TF-IDF', 'alpha': 0.4095656930859126}. Best is trial 215 with value: 0.048046896098655506.\n"
     ]
    },
    {
     "name": "stdout",
     "output_type": "stream",
     "text": [
      "Similarity column 12638 (100.0%), 11096.00 column/sec. Elapsed time 1.14 sec\n",
      "Similarity column 22222 (100.0%), 10277.80 column/sec. Elapsed time 2.16 sec\n",
      "TwoScoresHybridRecommender: URM Detected 236 ( 1.9%) users with no interactions.\n",
      "TwoScoresHybridRecommender: URM Detected 115 ( 0.5%) items with no interactions.\n",
      "EvaluatorHoldout: Processed 10462 (100.0%) in 8.40 sec. Users per second: 1245\n"
     ]
    },
    {
     "name": "stderr",
     "output_type": "stream",
     "text": [
      "[I 2023-12-22 11:25:12,889] Trial 528 finished with value: 0.04348830840562872 and parameters: {'user_topK': 9628, 'user_shrink': 916, 'user_similarity': 'dice', 'user_normalize': True, 'user_feature_weighting': 'none', 'item_topK': 5, 'item_shrink': 414, 'item_similarity': 'asymmetric', 'item_normalize': True, 'item_feature_weighting': 'TF-IDF', 'alpha': 0.6723109265310522}. Best is trial 215 with value: 0.048046896098655506.\n"
     ]
    },
    {
     "name": "stdout",
     "output_type": "stream",
     "text": [
      "Similarity column 12638 (100.0%), 10349.44 column/sec. Elapsed time 1.22 sec\n",
      "Similarity column 22222 (100.0%), 9904.27 column/sec. Elapsed time 2.24 sec\n",
      "TwoScoresHybridRecommender: URM Detected 236 ( 1.9%) users with no interactions.\n",
      "TwoScoresHybridRecommender: URM Detected 115 ( 0.5%) items with no interactions.\n",
      "EvaluatorHoldout: Processed 10462 (100.0%) in 10.64 sec. Users per second: 983\n"
     ]
    },
    {
     "name": "stderr",
     "output_type": "stream",
     "text": [
      "[I 2023-12-22 11:25:27,831] Trial 529 finished with value: 0.04259411612092795 and parameters: {'user_topK': 8913, 'user_shrink': 838, 'user_similarity': 'cosine', 'user_normalize': True, 'user_feature_weighting': 'none', 'item_topK': 360, 'item_shrink': 137, 'item_similarity': 'asymmetric', 'item_normalize': True, 'item_feature_weighting': 'TF-IDF', 'alpha': 0.697560797980715}. Best is trial 215 with value: 0.048046896098655506.\n"
     ]
    },
    {
     "name": "stdout",
     "output_type": "stream",
     "text": [
      "Similarity column 12638 (100.0%), 10748.30 column/sec. Elapsed time 1.18 sec\n",
      "Similarity column 22222 (100.0%), 9926.40 column/sec. Elapsed time 2.24 sec\n",
      "TwoScoresHybridRecommender: URM Detected 236 ( 1.9%) users with no interactions.\n",
      "TwoScoresHybridRecommender: URM Detected 115 ( 0.5%) items with no interactions.\n",
      "EvaluatorHoldout: Processed 10462 (100.0%) in 9.56 sec. Users per second: 1095\n"
     ]
    },
    {
     "name": "stderr",
     "output_type": "stream",
     "text": [
      "[I 2023-12-22 11:25:41,504] Trial 530 finished with value: 0.042486970987975166 and parameters: {'user_topK': 7390, 'user_shrink': 777, 'user_similarity': 'cosine', 'user_normalize': True, 'user_feature_weighting': 'none', 'item_topK': 183, 'item_shrink': 336, 'item_similarity': 'asymmetric', 'item_normalize': True, 'item_feature_weighting': 'none', 'alpha': 0.7752596511196029}. Best is trial 215 with value: 0.048046896098655506.\n"
     ]
    },
    {
     "name": "stdout",
     "output_type": "stream",
     "text": [
      "Similarity column 12638 (100.0%), 12340.11 column/sec. Elapsed time 1.02 sec\n",
      "Similarity column 22222 (100.0%), 10030.09 column/sec. Elapsed time 2.22 sec\n",
      "TwoScoresHybridRecommender: URM Detected 236 ( 1.9%) users with no interactions.\n",
      "TwoScoresHybridRecommender: URM Detected 115 ( 0.5%) items with no interactions.\n",
      "EvaluatorHoldout: Processed 10462 (100.0%) in 9.18 sec. Users per second: 1140\n"
     ]
    },
    {
     "name": "stderr",
     "output_type": "stream",
     "text": [
      "[I 2023-12-22 11:25:54,742] Trial 531 finished with value: 0.041957905860362785 and parameters: {'user_topK': 8006, 'user_shrink': 964, 'user_similarity': 'cosine', 'user_normalize': False, 'user_feature_weighting': 'none', 'item_topK': 171, 'item_shrink': 446, 'item_similarity': 'asymmetric', 'item_normalize': True, 'item_feature_weighting': 'TF-IDF', 'alpha': 0.5182815990425216}. Best is trial 215 with value: 0.048046896098655506.\n"
     ]
    },
    {
     "name": "stdout",
     "output_type": "stream",
     "text": [
      "Similarity column 12638 (100.0%), 12514.73 column/sec. Elapsed time 1.01 sec\n",
      "Similarity column 22222 (100.0%), 10185.70 column/sec. Elapsed time 2.18 sec\n",
      "TwoScoresHybridRecommender: URM Detected 236 ( 1.9%) users with no interactions.\n",
      "TwoScoresHybridRecommender: URM Detected 115 ( 0.5%) items with no interactions.\n",
      "EvaluatorHoldout: Processed 10462 (100.0%) in 8.36 sec. Users per second: 1252\n"
     ]
    },
    {
     "name": "stderr",
     "output_type": "stream",
     "text": [
      "[I 2023-12-22 11:26:06,889] Trial 532 finished with value: 0.04686501109078107 and parameters: {'user_topK': 6193, 'user_shrink': 935, 'user_similarity': 'cosine', 'user_normalize': True, 'user_feature_weighting': 'none', 'item_topK': 10, 'item_shrink': 162, 'item_similarity': 'asymmetric', 'item_normalize': True, 'item_feature_weighting': 'TF-IDF', 'alpha': 0.48813748288431347}. Best is trial 215 with value: 0.048046896098655506.\n"
     ]
    },
    {
     "name": "stdout",
     "output_type": "stream",
     "text": [
      "Similarity column 12638 (100.0%), 12115.36 column/sec. Elapsed time 1.04 sec\n",
      "Similarity column 22222 (100.0%), 9981.41 column/sec. Elapsed time 2.23 sec\n",
      "TwoScoresHybridRecommender: URM Detected 236 ( 1.9%) users with no interactions.\n",
      "TwoScoresHybridRecommender: URM Detected 115 ( 0.5%) items with no interactions.\n",
      "EvaluatorHoldout: Processed 10462 (100.0%) in 10.96 sec. Users per second: 955\n"
     ]
    },
    {
     "name": "stderr",
     "output_type": "stream",
     "text": [
      "[I 2023-12-22 11:26:21,890] Trial 533 finished with value: 0.04242380208949741 and parameters: {'user_topK': 8246, 'user_shrink': 883, 'user_similarity': 'cosine', 'user_normalize': True, 'user_feature_weighting': 'none', 'item_topK': 528, 'item_shrink': 309, 'item_similarity': 'asymmetric', 'item_normalize': True, 'item_feature_weighting': 'TF-IDF', 'alpha': 0.7247063713297006}. Best is trial 215 with value: 0.048046896098655506.\n"
     ]
    },
    {
     "name": "stdout",
     "output_type": "stream",
     "text": [
      "Similarity column 12638 (100.0%), 12114.47 column/sec. Elapsed time 1.04 sec\n",
      "Similarity column 22222 (100.0%), 12521.79 column/sec. Elapsed time 1.77 sec\n",
      "TwoScoresHybridRecommender: URM Detected 236 ( 1.9%) users with no interactions.\n",
      "TwoScoresHybridRecommender: URM Detected 115 ( 0.5%) items with no interactions.\n",
      "EvaluatorHoldout: Processed 10462 (100.0%) in 8.34 sec. Users per second: 1255\n"
     ]
    },
    {
     "name": "stderr",
     "output_type": "stream",
     "text": [
      "[I 2023-12-22 11:26:33,670] Trial 534 finished with value: 0.04056438190518721 and parameters: {'user_topK': 6754, 'user_shrink': 724, 'user_similarity': 'cosine', 'user_normalize': True, 'user_feature_weighting': 'none', 'item_topK': 2, 'item_shrink': 396, 'item_similarity': 'asymmetric', 'item_normalize': True, 'item_feature_weighting': 'TF-IDF', 'alpha': 0.8844158162731028}. Best is trial 215 with value: 0.048046896098655506.\n"
     ]
    },
    {
     "name": "stdout",
     "output_type": "stream",
     "text": [
      "Similarity column 12638 (100.0%), 12080.33 column/sec. Elapsed time 1.05 sec\n",
      "Similarity column 22222 (100.0%), 10096.64 column/sec. Elapsed time 2.20 sec\n",
      "TwoScoresHybridRecommender: URM Detected 236 ( 1.9%) users with no interactions.\n",
      "TwoScoresHybridRecommender: URM Detected 115 ( 0.5%) items with no interactions.\n",
      "EvaluatorHoldout: Processed 10462 (100.0%) in 10.28 sec. Users per second: 1017\n"
     ]
    },
    {
     "name": "stderr",
     "output_type": "stream",
     "text": [
      "[I 2023-12-22 11:26:47,957] Trial 535 finished with value: 0.04170958464951052 and parameters: {'user_topK': 8663, 'user_shrink': 859, 'user_similarity': 'cosine', 'user_normalize': True, 'user_feature_weighting': 'none', 'item_topK': 354, 'item_shrink': 80, 'item_similarity': 'asymmetric', 'item_normalize': True, 'item_feature_weighting': 'TF-IDF', 'alpha': 0.8185983633219972}. Best is trial 215 with value: 0.048046896098655506.\n"
     ]
    },
    {
     "name": "stdout",
     "output_type": "stream",
     "text": [
      "Similarity column 12638 (100.0%), 11821.04 column/sec. Elapsed time 1.07 sec\n",
      "Similarity column 22222 (100.0%), 10068.78 column/sec. Elapsed time 2.21 sec\n",
      "TwoScoresHybridRecommender: URM Detected 236 ( 1.9%) users with no interactions.\n",
      "TwoScoresHybridRecommender: URM Detected 115 ( 0.5%) items with no interactions.\n",
      "EvaluatorHoldout: Processed 10462 (100.0%) in 9.29 sec. Users per second: 1127\n"
     ]
    },
    {
     "name": "stderr",
     "output_type": "stream",
     "text": [
      "[I 2023-12-22 11:27:01,347] Trial 536 finished with value: 0.04281125494230126 and parameters: {'user_topK': 9154, 'user_shrink': 913, 'user_similarity': 'cosine', 'user_normalize': True, 'user_feature_weighting': 'none', 'item_topK': 189, 'item_shrink': 287, 'item_similarity': 'asymmetric', 'item_normalize': True, 'item_feature_weighting': 'TF-IDF', 'alpha': 0.3538784985250242}. Best is trial 215 with value: 0.048046896098655506.\n"
     ]
    },
    {
     "name": "stdout",
     "output_type": "stream",
     "text": [
      "Similarity column 12638 (100.0%), 11091.01 column/sec. Elapsed time 1.14 sec\n",
      "Similarity column 22222 (100.0%), 9899.03 column/sec. Elapsed time 2.24 sec\n",
      "TwoScoresHybridRecommender: URM Detected 236 ( 1.9%) users with no interactions.\n",
      "TwoScoresHybridRecommender: URM Detected 115 ( 0.5%) items with no interactions.\n",
      "EvaluatorHoldout: Processed 10462 (100.0%) in 10.65 sec. Users per second: 983\n"
     ]
    },
    {
     "name": "stderr",
     "output_type": "stream",
     "text": [
      "[I 2023-12-22 11:27:16,002] Trial 537 finished with value: 0.043247929771539455 and parameters: {'user_topK': 3549, 'user_shrink': 949, 'user_similarity': 'cosine', 'user_normalize': True, 'user_feature_weighting': 'none', 'item_topK': 805, 'item_shrink': 218, 'item_similarity': 'asymmetric', 'item_normalize': True, 'item_feature_weighting': 'BM25', 'alpha': 0.5494774971844023}. Best is trial 215 with value: 0.048046896098655506.\n"
     ]
    },
    {
     "name": "stdout",
     "output_type": "stream",
     "text": [
      "Similarity column 12638 (100.0%), 11822.25 column/sec. Elapsed time 1.07 sec\n",
      "Similarity column 22222 (100.0%), 10064.73 column/sec. Elapsed time 2.21 sec\n",
      "TwoScoresHybridRecommender: URM Detected 236 ( 1.9%) users with no interactions.\n",
      "TwoScoresHybridRecommender: URM Detected 115 ( 0.5%) items with no interactions.\n",
      "EvaluatorHoldout: Processed 10462 (100.0%) in 10.21 sec. Users per second: 1024\n"
     ]
    },
    {
     "name": "stderr",
     "output_type": "stream",
     "text": [
      "[I 2023-12-22 11:27:30,375] Trial 538 finished with value: 0.041054037590312314 and parameters: {'user_topK': 8980, 'user_shrink': 979, 'user_similarity': 'tversky', 'user_normalize': True, 'user_feature_weighting': 'none', 'item_topK': 374, 'item_shrink': 118, 'item_similarity': 'asymmetric', 'item_normalize': True, 'item_feature_weighting': 'TF-IDF', 'alpha': 0.9105563311615802}. Best is trial 215 with value: 0.048046896098655506.\n"
     ]
    },
    {
     "name": "stdout",
     "output_type": "stream",
     "text": [
      "Similarity column 12638 (100.0%), 11876.83 column/sec. Elapsed time 1.06 sec\n",
      "Similarity column 22222 (100.0%), 10475.25 column/sec. Elapsed time 2.12 sec\n",
      "TwoScoresHybridRecommender: URM Detected 236 ( 1.9%) users with no interactions.\n",
      "TwoScoresHybridRecommender: URM Detected 115 ( 0.5%) items with no interactions.\n",
      "EvaluatorHoldout: Processed 10462 (100.0%) in 8.37 sec. Users per second: 1249\n"
     ]
    },
    {
     "name": "stderr",
     "output_type": "stream",
     "text": [
      "[I 2023-12-22 11:27:42,711] Trial 539 finished with value: 0.04449392055299211 and parameters: {'user_topK': 9359, 'user_shrink': 900, 'user_similarity': 'cosine', 'user_normalize': True, 'user_feature_weighting': 'none', 'item_topK': 5, 'item_shrink': 367, 'item_similarity': 'cosine', 'item_normalize': True, 'item_feature_weighting': 'TF-IDF', 'alpha': 0.6571761842199352}. Best is trial 215 with value: 0.048046896098655506.\n"
     ]
    },
    {
     "name": "stdout",
     "output_type": "stream",
     "text": [
      "Similarity column 12638 (100.0%), 12466.44 column/sec. Elapsed time 1.01 sec\n",
      "Similarity column 22222 (100.0%), 10060.38 column/sec. Elapsed time 2.21 sec\n",
      "TwoScoresHybridRecommender: URM Detected 236 ( 1.9%) users with no interactions.\n",
      "TwoScoresHybridRecommender: URM Detected 115 ( 0.5%) items with no interactions.\n",
      "EvaluatorHoldout: Processed 10462 (100.0%) in 8.96 sec. Users per second: 1168\n"
     ]
    },
    {
     "name": "stderr",
     "output_type": "stream",
     "text": [
      "[I 2023-12-22 11:27:55,464] Trial 540 finished with value: 0.04371759625917587 and parameters: {'user_topK': 5656, 'user_shrink': 874, 'user_similarity': 'cosine', 'user_normalize': True, 'user_feature_weighting': 'none', 'item_topK': 182, 'item_shrink': 349, 'item_similarity': 'asymmetric', 'item_normalize': True, 'item_feature_weighting': 'TF-IDF', 'alpha': 0.6133595103665814}. Best is trial 215 with value: 0.048046896098655506.\n"
     ]
    },
    {
     "name": "stdout",
     "output_type": "stream",
     "text": [
      "Similarity column 12638 (100.0%), 11887.83 column/sec. Elapsed time 1.06 sec\n",
      "Similarity column 22222 (100.0%), 10025.40 column/sec. Elapsed time 2.22 sec\n",
      "TwoScoresHybridRecommender: URM Detected 236 ( 1.9%) users with no interactions.\n",
      "TwoScoresHybridRecommender: URM Detected 115 ( 0.5%) items with no interactions.\n",
      "EvaluatorHoldout: Processed 10462 (100.0%) in 10.61 sec. Users per second: 986\n"
     ]
    },
    {
     "name": "stderr",
     "output_type": "stream",
     "text": [
      "[I 2023-12-22 11:28:09,956] Trial 541 finished with value: 0.042543373144836 and parameters: {'user_topK': 5058, 'user_shrink': 929, 'user_similarity': 'cosine', 'user_normalize': True, 'user_feature_weighting': 'none', 'item_topK': 523, 'item_shrink': 175, 'item_similarity': 'asymmetric', 'item_normalize': True, 'item_feature_weighting': 'TF-IDF', 'alpha': 0.6883560948885802}. Best is trial 215 with value: 0.048046896098655506.\n"
     ]
    },
    {
     "name": "stdout",
     "output_type": "stream",
     "text": [
      "Similarity column 12638 (100.0%), 12672.90 column/sec. Elapsed time 1.00 sec\n",
      "Similarity column 22222 (100.0%), 10029.46 column/sec. Elapsed time 2.22 sec\n",
      "TwoScoresHybridRecommender: URM Detected 236 ( 1.9%) users with no interactions.\n",
      "TwoScoresHybridRecommender: URM Detected 115 ( 0.5%) items with no interactions.\n",
      "EvaluatorHoldout: Processed 10462 (100.0%) in 10.01 sec. Users per second: 1046\n"
     ]
    },
    {
     "name": "stderr",
     "output_type": "stream",
     "text": [
      "[I 2023-12-22 11:28:23,852] Trial 542 finished with value: 0.03064015499783065 and parameters: {'user_topK': 7023, 'user_shrink': 896, 'user_similarity': 'cosine', 'user_normalize': True, 'user_feature_weighting': 'TF-IDF', 'item_topK': 317, 'item_shrink': 55, 'item_similarity': 'asymmetric', 'item_normalize': True, 'item_feature_weighting': 'TF-IDF', 'alpha': 0.7426205399435688}. Best is trial 215 with value: 0.048046896098655506.\n"
     ]
    },
    {
     "name": "stdout",
     "output_type": "stream",
     "text": [
      "Similarity column 12638 (100.0%), 12779.54 column/sec. Elapsed time 0.99 sec\n",
      "Similarity column 22222 (100.0%), 10113.26 column/sec. Elapsed time 2.20 sec\n",
      "TwoScoresHybridRecommender: URM Detected 236 ( 1.9%) users with no interactions.\n",
      "TwoScoresHybridRecommender: URM Detected 115 ( 0.5%) items with no interactions.\n",
      "EvaluatorHoldout: Processed 10462 (100.0%) in 9.15 sec. Users per second: 1143\n"
     ]
    },
    {
     "name": "stderr",
     "output_type": "stream",
     "text": [
      "[I 2023-12-22 11:28:36,781] Trial 543 finished with value: 0.031234892414877383 and parameters: {'user_topK': 6494, 'user_shrink': 999, 'user_similarity': 'cosine', 'user_normalize': True, 'user_feature_weighting': 'none', 'item_topK': 177, 'item_shrink': 385, 'item_similarity': 'asymmetric', 'item_normalize': True, 'item_feature_weighting': 'TF-IDF', 'alpha': 0.7038021607809533}. Best is trial 215 with value: 0.048046896098655506.\n"
     ]
    },
    {
     "name": "stdout",
     "output_type": "stream",
     "text": [
      "Similarity column 12638 (100.0%), 12281.92 column/sec. Elapsed time 1.03 sec\n",
      "Similarity column 22222 (100.0%), 10129.87 column/sec. Elapsed time 2.19 sec\n",
      "TwoScoresHybridRecommender: URM Detected 236 ( 1.9%) users with no interactions.\n",
      "TwoScoresHybridRecommender: URM Detected 115 ( 0.5%) items with no interactions.\n",
      "EvaluatorHoldout: Processed 10462 (100.0%) in 11.02 sec. Users per second: 949\n"
     ]
    },
    {
     "name": "stderr",
     "output_type": "stream",
     "text": [
      "[I 2023-12-22 11:28:51,833] Trial 544 finished with value: 0.03850303289607482 and parameters: {'user_topK': 8464, 'user_shrink': 948, 'user_similarity': 'jaccard', 'user_normalize': True, 'user_feature_weighting': 'none', 'item_topK': 667, 'item_shrink': 324, 'item_similarity': 'asymmetric', 'item_normalize': True, 'item_feature_weighting': 'TF-IDF', 'alpha': 0.6719404610968096}. Best is trial 215 with value: 0.048046896098655506.\n"
     ]
    },
    {
     "name": "stdout",
     "output_type": "stream",
     "text": [
      "Similarity column 12638 (100.0%), 12423.61 column/sec. Elapsed time 1.02 sec\n",
      "Similarity column 22222 (100.0%), 10713.47 column/sec. Elapsed time 2.07 sec\n",
      "TwoScoresHybridRecommender: URM Detected 236 ( 1.9%) users with no interactions.\n",
      "TwoScoresHybridRecommender: URM Detected 115 ( 0.5%) items with no interactions.\n",
      "EvaluatorHoldout: Processed 10462 (100.0%) in 8.53 sec. Users per second: 1226\n"
     ]
    },
    {
     "name": "stderr",
     "output_type": "stream",
     "text": [
      "[I 2023-12-22 11:29:04,116] Trial 545 finished with value: 0.02963936377456761 and parameters: {'user_topK': 7807, 'user_shrink': 917, 'user_similarity': 'cosine', 'user_normalize': True, 'user_feature_weighting': 'none', 'item_topK': 3, 'item_shrink': 101, 'item_similarity': 'asymmetric', 'item_normalize': True, 'item_feature_weighting': 'TF-IDF', 'alpha': 0.7908194399792331}. Best is trial 215 with value: 0.048046896098655506.\n"
     ]
    },
    {
     "name": "stdout",
     "output_type": "stream",
     "text": [
      "Similarity column 12638 (100.0%), 11282.65 column/sec. Elapsed time 1.12 sec\n",
      "Similarity column 22222 (100.0%), 9778.61 column/sec. Elapsed time 2.27 sec\n",
      "TwoScoresHybridRecommender: URM Detected 236 ( 1.9%) users with no interactions.\n",
      "TwoScoresHybridRecommender: URM Detected 115 ( 0.5%) items with no interactions.\n",
      "EvaluatorHoldout: Processed 10462 (100.0%) in 10.58 sec. Users per second: 989\n"
     ]
    },
    {
     "name": "stderr",
     "output_type": "stream",
     "text": [
      "[I 2023-12-22 11:29:19,206] Trial 546 finished with value: 0.032280194687956495 and parameters: {'user_topK': 9831, 'user_shrink': 848, 'user_similarity': 'cosine', 'user_normalize': True, 'user_feature_weighting': 'none', 'item_topK': 325, 'item_shrink': 358, 'item_similarity': 'asymmetric', 'item_normalize': True, 'item_feature_weighting': 'TF-IDF', 'alpha': 0.6363012460377072}. Best is trial 215 with value: 0.048046896098655506.\n"
     ]
    },
    {
     "name": "stdout",
     "output_type": "stream",
     "text": [
      "Similarity column 12638 (100.0%), 9131.84 column/sec. Elapsed time 1.38 sec\n",
      "Similarity column 22222 (100.0%), 9918.55 column/sec. Elapsed time 2.24 sec\n",
      "TwoScoresHybridRecommender: URM Detected 236 ( 1.9%) users with no interactions.\n",
      "TwoScoresHybridRecommender: URM Detected 115 ( 0.5%) items with no interactions.\n",
      "EvaluatorHoldout: Processed 10462 (100.0%) in 9.69 sec. Users per second: 1080\n"
     ]
    },
    {
     "name": "stderr",
     "output_type": "stream",
     "text": [
      "[I 2023-12-22 11:29:33,449] Trial 547 finished with value: 0.0354933045670958 and parameters: {'user_topK': 8682, 'user_shrink': 975, 'user_similarity': 'cosine', 'user_normalize': True, 'user_feature_weighting': 'none', 'item_topK': 181, 'item_shrink': 302, 'item_similarity': 'asymmetric', 'item_normalize': True, 'item_feature_weighting': 'TF-IDF', 'alpha': 0.4577483459150972}. Best is trial 215 with value: 0.048046896098655506.\n"
     ]
    },
    {
     "name": "stdout",
     "output_type": "stream",
     "text": [
      "Similarity column 12638 (100.0%), 12156.13 column/sec. Elapsed time 1.04 sec\n",
      "Similarity column 22222 (100.0%), 9564.19 column/sec. Elapsed time 2.32 sec\n",
      "TwoScoresHybridRecommender: URM Detected 236 ( 1.9%) users with no interactions.\n",
      "TwoScoresHybridRecommender: URM Detected 115 ( 0.5%) items with no interactions.\n",
      "EvaluatorHoldout: Processed 10462 (100.0%) in 11.40 sec. Users per second: 918\n"
     ]
    },
    {
     "name": "stderr",
     "output_type": "stream",
     "text": [
      "[I 2023-12-22 11:29:49,014] Trial 548 finished with value: 0.03513123078837127 and parameters: {'user_topK': 7505, 'user_shrink': 884, 'user_similarity': 'cosine', 'user_normalize': True, 'user_feature_weighting': 'none', 'item_topK': 471, 'item_shrink': 252, 'item_similarity': 'asymmetric', 'item_normalize': True, 'item_feature_weighting': 'TF-IDF', 'alpha': 0.43249728127592113}. Best is trial 215 with value: 0.048046896098655506.\n"
     ]
    },
    {
     "name": "stdout",
     "output_type": "stream",
     "text": [
      "Similarity column 12638 (100.0%), 11484.85 column/sec. Elapsed time 1.10 sec\n",
      "Similarity column 22222 (100.0%), 9787.21 column/sec. Elapsed time 2.27 sec\n",
      "TwoScoresHybridRecommender: URM Detected 236 ( 1.9%) users with no interactions.\n",
      "TwoScoresHybridRecommender: URM Detected 115 ( 0.5%) items with no interactions.\n",
      "EvaluatorHoldout: Processed 10462 (100.0%) in 11.08 sec. Users per second: 944\n"
     ]
    },
    {
     "name": "stderr",
     "output_type": "stream",
     "text": [
      "[I 2023-12-22 11:30:04,254] Trial 549 finished with value: 0.03490999171605209 and parameters: {'user_topK': 7229, 'user_shrink': 933, 'user_similarity': 'cosine', 'user_normalize': True, 'user_feature_weighting': 'BM25', 'item_topK': 221, 'item_shrink': 423, 'item_similarity': 'dice', 'item_normalize': True, 'item_feature_weighting': 'TF-IDF', 'alpha': 0.04681997569926433}. Best is trial 215 with value: 0.048046896098655506.\n"
     ]
    },
    {
     "name": "stdout",
     "output_type": "stream",
     "text": [
      "Similarity column 12638 (100.0%), 10882.31 column/sec. Elapsed time 1.16 sec\n",
      "Similarity column 22222 (100.0%), 10127.64 column/sec. Elapsed time 2.19 sec\n",
      "TwoScoresHybridRecommender: URM Detected 236 ( 1.9%) users with no interactions.\n",
      "TwoScoresHybridRecommender: URM Detected 115 ( 0.5%) items with no interactions.\n",
      "EvaluatorHoldout: Processed 10462 (100.0%) in 8.80 sec. Users per second: 1189\n"
     ]
    },
    {
     "name": "stderr",
     "output_type": "stream",
     "text": [
      "[I 2023-12-22 11:30:17,156] Trial 550 finished with value: 0.04035394155113176 and parameters: {'user_topK': 6838, 'user_shrink': 803, 'user_similarity': 'asymmetric', 'user_normalize': False, 'user_feature_weighting': 'none', 'item_topK': 6, 'item_shrink': 143, 'item_similarity': 'jaccard', 'item_normalize': True, 'item_feature_weighting': 'TF-IDF', 'alpha': 0.7213183924618265}. Best is trial 215 with value: 0.048046896098655506.\n"
     ]
    },
    {
     "name": "stdout",
     "output_type": "stream",
     "text": [
      "Similarity column 12638 (100.0%), 11966.01 column/sec. Elapsed time 1.06 sec\n",
      "Similarity column 22222 (100.0%), 9857.80 column/sec. Elapsed time 2.25 sec\n",
      "TwoScoresHybridRecommender: URM Detected 236 ( 1.9%) users with no interactions.\n",
      "TwoScoresHybridRecommender: URM Detected 115 ( 0.5%) items with no interactions.\n",
      "EvaluatorHoldout: Processed 10462 (100.0%) in 11.16 sec. Users per second: 937\n"
     ]
    },
    {
     "name": "stderr",
     "output_type": "stream",
     "text": [
      "[I 2023-12-22 11:30:32,418] Trial 551 finished with value: 0.04219123706960697 and parameters: {'user_topK': 8894, 'user_shrink': 954, 'user_similarity': 'cosine', 'user_normalize': True, 'user_feature_weighting': 'none', 'item_topK': 368, 'item_shrink': 402, 'item_similarity': 'asymmetric', 'item_normalize': True, 'item_feature_weighting': 'TF-IDF', 'alpha': 0.765680720712652}. Best is trial 215 with value: 0.048046896098655506.\n"
     ]
    },
    {
     "name": "stdout",
     "output_type": "stream",
     "text": [
      "Similarity column 12638 (100.0%), 12122.97 column/sec. Elapsed time 1.04 sec\n",
      "Similarity column 22222 (100.0%), 9209.95 column/sec. Elapsed time 2.41 sec\n",
      "TwoScoresHybridRecommender: URM Detected 236 ( 1.9%) users with no interactions.\n",
      "TwoScoresHybridRecommender: URM Detected 115 ( 0.5%) items with no interactions.\n",
      "EvaluatorHoldout: Processed 10462 (100.0%) in 9.49 sec. Users per second: 1103\n"
     ]
    },
    {
     "name": "stderr",
     "output_type": "stream",
     "text": [
      "[I 2023-12-22 11:30:46,385] Trial 552 finished with value: 0.043208167578508316 and parameters: {'user_topK': 8232, 'user_shrink': 645, 'user_similarity': 'cosine', 'user_normalize': True, 'user_feature_weighting': 'none', 'item_topK': 190, 'item_shrink': 339, 'item_similarity': 'asymmetric', 'item_normalize': True, 'item_feature_weighting': 'TF-IDF', 'alpha': 0.6833521087321578}. Best is trial 215 with value: 0.048046896098655506.\n"
     ]
    },
    {
     "name": "stdout",
     "output_type": "stream",
     "text": [
      "Similarity column 12638 (100.0%), 10657.60 column/sec. Elapsed time 1.19 sec\n",
      "Similarity column 22222 (100.0%), 9856.18 column/sec. Elapsed time 2.25 sec\n",
      "TwoScoresHybridRecommender: URM Detected 236 ( 1.9%) users with no interactions.\n",
      "TwoScoresHybridRecommender: URM Detected 115 ( 0.5%) items with no interactions.\n",
      "EvaluatorHoldout: Processed 10462 (100.0%) in 11.37 sec. Users per second: 920\n"
     ]
    },
    {
     "name": "stderr",
     "output_type": "stream",
     "text": [
      "[I 2023-12-22 11:31:02,082] Trial 553 finished with value: 0.042671486073560666 and parameters: {'user_topK': 9506, 'user_shrink': 863, 'user_similarity': 'cosine', 'user_normalize': True, 'user_feature_weighting': 'none', 'item_topK': 496, 'item_shrink': 276, 'item_similarity': 'asymmetric', 'item_normalize': True, 'item_feature_weighting': 'TF-IDF', 'alpha': 0.6531054041205167}. Best is trial 215 with value: 0.048046896098655506.\n"
     ]
    },
    {
     "name": "stdout",
     "output_type": "stream",
     "text": [
      "Similarity column 12638 (100.0%), 11514.17 column/sec. Elapsed time 1.10 sec\n",
      "Similarity column 22222 (100.0%), 9604.32 column/sec. Elapsed time 2.31 sec\n",
      "TwoScoresHybridRecommender: URM Detected 236 ( 1.9%) users with no interactions.\n",
      "TwoScoresHybridRecommender: URM Detected 115 ( 0.5%) items with no interactions.\n",
      "EvaluatorHoldout: Processed 10462 (100.0%) in 9.78 sec. Users per second: 1070\n"
     ]
    },
    {
     "name": "stderr",
     "output_type": "stream",
     "text": [
      "[I 2023-12-22 11:31:16,270] Trial 554 finished with value: 0.0428136786799094 and parameters: {'user_topK': 9133, 'user_shrink': 906, 'user_similarity': 'cosine', 'user_normalize': True, 'user_feature_weighting': 'none', 'item_topK': 184, 'item_shrink': 375, 'item_similarity': 'asymmetric', 'item_normalize': True, 'item_feature_weighting': 'none', 'alpha': 0.7516910938600333}. Best is trial 215 with value: 0.048046896098655506.\n"
     ]
    },
    {
     "name": "stdout",
     "output_type": "stream",
     "text": [
      "Similarity column 12638 (100.0%), 12691.94 column/sec. Elapsed time 1.00 sec\n",
      "Similarity column 22222 (100.0%), 10038.65 column/sec. Elapsed time 2.21 sec\n",
      "TwoScoresHybridRecommender: URM Detected 236 ( 1.9%) users with no interactions.\n",
      "TwoScoresHybridRecommender: URM Detected 115 ( 0.5%) items with no interactions.\n",
      "EvaluatorHoldout: Processed 10462 (100.0%) in 8.63 sec. Users per second: 1212\n"
     ]
    },
    {
     "name": "stderr",
     "output_type": "stream",
     "text": [
      "[I 2023-12-22 11:31:28,819] Trial 555 finished with value: 0.04190262643641581 and parameters: {'user_topK': 6679, 'user_shrink': 884, 'user_similarity': 'dice', 'user_normalize': True, 'user_feature_weighting': 'none', 'item_topK': 16, 'item_shrink': 310, 'item_similarity': 'asymmetric', 'item_normalize': True, 'item_feature_weighting': 'TF-IDF', 'alpha': 0.2501901241414208}. Best is trial 215 with value: 0.048046896098655506.\n"
     ]
    },
    {
     "name": "stdout",
     "output_type": "stream",
     "text": [
      "Similarity column 12638 (100.0%), 12183.73 column/sec. Elapsed time 1.04 sec\n",
      "Similarity column 22222 (100.0%), 9697.09 column/sec. Elapsed time 2.29 sec\n",
      "TwoScoresHybridRecommender: URM Detected 236 ( 1.9%) users with no interactions.\n",
      "TwoScoresHybridRecommender: URM Detected 115 ( 0.5%) items with no interactions.\n",
      "EvaluatorHoldout: Processed 10462 (100.0%) in 8.98 sec. Users per second: 1164\n"
     ]
    },
    {
     "name": "stderr",
     "output_type": "stream",
     "text": [
      "[I 2023-12-22 11:31:41,981] Trial 556 finished with value: 0.04572341929826212 and parameters: {'user_topK': 6356, 'user_shrink': 919, 'user_similarity': 'cosine', 'user_normalize': True, 'user_feature_weighting': 'none', 'item_topK': 10, 'item_shrink': 128, 'item_similarity': 'asymmetric', 'item_normalize': True, 'item_feature_weighting': 'TF-IDF', 'alpha': 0.31294320870925396}. Best is trial 215 with value: 0.048046896098655506.\n"
     ]
    },
    {
     "name": "stdout",
     "output_type": "stream",
     "text": [
      "Similarity column 12638 (100.0%), 11825.71 column/sec. Elapsed time 1.07 sec\n",
      "Similarity column 22222 (100.0%), 9159.90 column/sec. Elapsed time 2.43 sec\n",
      "TwoScoresHybridRecommender: URM Detected 236 ( 1.9%) users with no interactions.\n",
      "TwoScoresHybridRecommender: URM Detected 115 ( 0.5%) items with no interactions.\n",
      "EvaluatorHoldout: Processed 10462 (100.0%) in 10.71 sec. Users per second: 977\n"
     ]
    },
    {
     "name": "stderr",
     "output_type": "stream",
     "text": [
      "[I 2023-12-22 11:31:57,355] Trial 557 finished with value: 0.042050444086384246 and parameters: {'user_topK': 8494, 'user_shrink': 968, 'user_similarity': 'cosine', 'user_normalize': True, 'user_feature_weighting': 'none', 'item_topK': 363, 'item_shrink': 193, 'item_similarity': 'asymmetric', 'item_normalize': True, 'item_feature_weighting': 'TF-IDF', 'alpha': 0.33877502112527363}. Best is trial 215 with value: 0.048046896098655506.\n"
     ]
    },
    {
     "name": "stdout",
     "output_type": "stream",
     "text": [
      "Similarity column 12638 (100.0%), 12013.86 column/sec. Elapsed time 1.05 sec\n",
      "Similarity column 22222 (100.0%), 9788.15 column/sec. Elapsed time 2.27 sec\n",
      "TwoScoresHybridRecommender: URM Detected 236 ( 1.9%) users with no interactions.\n",
      "TwoScoresHybridRecommender: URM Detected 115 ( 0.5%) items with no interactions.\n",
      "EvaluatorHoldout: Processed 10462 (100.0%) in 11.65 sec. Users per second: 898\n"
     ]
    },
    {
     "name": "stderr",
     "output_type": "stream",
     "text": [
      "[I 2023-12-22 11:32:13,498] Trial 558 finished with value: 0.0427231469596701 and parameters: {'user_topK': 7987, 'user_shrink': 835, 'user_similarity': 'cosine', 'user_normalize': True, 'user_feature_weighting': 'none', 'item_topK': 647, 'item_shrink': 332, 'item_similarity': 'asymmetric', 'item_normalize': True, 'item_feature_weighting': 'TF-IDF', 'alpha': 0.5885032247637905}. Best is trial 215 with value: 0.048046896098655506.\n"
     ]
    },
    {
     "name": "stdout",
     "output_type": "stream",
     "text": [
      "Similarity column 12638 (100.0%), 10850.34 column/sec. Elapsed time 1.16 sec\n",
      "Similarity column 22222 (100.0%), 9604.99 column/sec. Elapsed time 2.31 sec\n",
      "TwoScoresHybridRecommender: URM Detected 236 ( 1.9%) users with no interactions.\n",
      "TwoScoresHybridRecommender: URM Detected 115 ( 0.5%) items with no interactions.\n",
      "EvaluatorHoldout: Processed 10462 (100.0%) in 9.80 sec. Users per second: 1068\n"
     ]
    },
    {
     "name": "stderr",
     "output_type": "stream",
     "text": [
      "[I 2023-12-22 11:32:27,851] Trial 559 finished with value: 0.041555110255407056 and parameters: {'user_topK': 9351, 'user_shrink': 539, 'user_similarity': 'cosine', 'user_normalize': True, 'user_feature_weighting': 'none', 'item_topK': 206, 'item_shrink': 371, 'item_similarity': 'asymmetric', 'item_normalize': True, 'item_feature_weighting': 'BM25', 'alpha': 0.7078751377799577}. Best is trial 215 with value: 0.048046896098655506.\n"
     ]
    },
    {
     "name": "stdout",
     "output_type": "stream",
     "text": [
      "Similarity column 12638 (100.0%), 11533.19 column/sec. Elapsed time 1.10 sec\n",
      "Similarity column 22222 (100.0%), 9624.37 column/sec. Elapsed time 2.31 sec\n",
      "TwoScoresHybridRecommender: URM Detected 236 ( 1.9%) users with no interactions.\n",
      "TwoScoresHybridRecommender: URM Detected 115 ( 0.5%) items with no interactions.\n",
      "EvaluatorHoldout: Processed 10462 (100.0%) in 10.99 sec. Users per second: 952\n"
     ]
    },
    {
     "name": "stderr",
     "output_type": "stream",
     "text": [
      "[I 2023-12-22 11:32:43,598] Trial 560 finished with value: 0.04341839931665069 and parameters: {'user_topK': 8797, 'user_shrink': 935, 'user_similarity': 'cosine', 'user_normalize': True, 'user_feature_weighting': 'none', 'item_topK': 355, 'item_shrink': 82, 'item_similarity': 'asymmetric', 'item_normalize': True, 'item_feature_weighting': 'TF-IDF', 'alpha': 0.5668991577687013}. Best is trial 215 with value: 0.048046896098655506.\n"
     ]
    },
    {
     "name": "stdout",
     "output_type": "stream",
     "text": [
      "Similarity column 12638 (100.0%), 11977.88 column/sec. Elapsed time 1.06 sec\n",
      "Similarity column 22222 (100.0%), 9492.11 column/sec. Elapsed time 2.34 sec\n",
      "TwoScoresHybridRecommender: URM Detected 236 ( 1.9%) users with no interactions.\n",
      "TwoScoresHybridRecommender: URM Detected 115 ( 0.5%) items with no interactions.\n",
      "EvaluatorHoldout: Processed 10462 (100.0%) in 10.13 sec. Users per second: 1033\n"
     ]
    },
    {
     "name": "stderr",
     "output_type": "stream",
     "text": [
      "[I 2023-12-22 11:32:57,958] Trial 561 finished with value: 0.042681548946603844 and parameters: {'user_topK': 5976, 'user_shrink': 901, 'user_similarity': 'cosine', 'user_normalize': True, 'user_feature_weighting': 'none', 'item_topK': 196, 'item_shrink': 340, 'item_similarity': 'asymmetric', 'item_normalize': True, 'item_feature_weighting': 'TF-IDF', 'alpha': 0.7348809344605689}. Best is trial 215 with value: 0.048046896098655506.\n"
     ]
    },
    {
     "name": "stdout",
     "output_type": "stream",
     "text": [
      "Similarity column 12638 (100.0%), 11981.42 column/sec. Elapsed time 1.05 sec\n",
      "Similarity column 22222 (100.0%), 9900.96 column/sec. Elapsed time 2.24 sec\n",
      "TwoScoresHybridRecommender: URM Detected 236 ( 1.9%) users with no interactions.\n",
      "TwoScoresHybridRecommender: URM Detected 115 ( 0.5%) items with no interactions.\n",
      "EvaluatorHoldout: Processed 10462 (100.0%) in 9.02 sec. Users per second: 1160\n"
     ]
    },
    {
     "name": "stderr",
     "output_type": "stream",
     "text": [
      "[I 2023-12-22 11:33:11,047] Trial 562 finished with value: 0.04378079929480293 and parameters: {'user_topK': 7084, 'user_shrink': 868, 'user_similarity': 'cosine', 'user_normalize': True, 'user_feature_weighting': 'none', 'item_topK': 10, 'item_shrink': 433, 'item_similarity': 'asymmetric', 'item_normalize': True, 'item_feature_weighting': 'TF-IDF', 'alpha': 0.11693058413960977}. Best is trial 215 with value: 0.048046896098655506.\n"
     ]
    },
    {
     "name": "stdout",
     "output_type": "stream",
     "text": [
      "Similarity column 12638 (100.0%), 11358.75 column/sec. Elapsed time 1.11 sec\n",
      "Similarity column 22222 (100.0%), 9720.06 column/sec. Elapsed time 2.29 sec\n",
      "TwoScoresHybridRecommender: URM Detected 236 ( 1.9%) users with no interactions.\n",
      "TwoScoresHybridRecommender: URM Detected 115 ( 0.5%) items with no interactions.\n",
      "EvaluatorHoldout: Processed 10462 (100.0%) in 11.78 sec. Users per second: 888\n"
     ]
    },
    {
     "name": "stderr",
     "output_type": "stream",
     "text": [
      "[I 2023-12-22 11:33:27,159] Trial 563 finished with value: 0.03155251583205158 and parameters: {'user_topK': 9630, 'user_shrink': 957, 'user_similarity': 'cosine', 'user_normalize': True, 'user_feature_weighting': 'TF-IDF', 'item_topK': 484, 'item_shrink': 354, 'item_similarity': 'asymmetric', 'item_normalize': True, 'item_feature_weighting': 'TF-IDF', 'alpha': 0.6868449470973449}. Best is trial 215 with value: 0.048046896098655506.\n"
     ]
    },
    {
     "name": "stdout",
     "output_type": "stream",
     "text": [
      "Similarity column 12638 (100.0%), 11618.53 column/sec. Elapsed time 1.09 sec\n",
      "Similarity column 22222 (100.0%), 10034.09 column/sec. Elapsed time 2.21 sec\n",
      "TwoScoresHybridRecommender: URM Detected 236 ( 1.9%) users with no interactions.\n",
      "TwoScoresHybridRecommender: URM Detected 115 ( 0.5%) items with no interactions.\n",
      "EvaluatorHoldout: Processed 10462 (100.0%) in 9.35 sec. Users per second: 1118\n"
     ]
    },
    {
     "name": "stderr",
     "output_type": "stream",
     "text": [
      "[I 2023-12-22 11:33:40,649] Trial 564 finished with value: 0.031614493723316386 and parameters: {'user_topK': 9114, 'user_shrink': 919, 'user_similarity': 'cosine', 'user_normalize': True, 'user_feature_weighting': 'none', 'item_topK': 184, 'item_shrink': 459, 'item_similarity': 'cosine', 'item_normalize': True, 'item_feature_weighting': 'TF-IDF', 'alpha': 0.7143216279717157}. Best is trial 215 with value: 0.048046896098655506.\n"
     ]
    },
    {
     "name": "stdout",
     "output_type": "stream",
     "text": [
      "Similarity column 12638 (100.0%), 10054.75 column/sec. Elapsed time 1.26 sec\n",
      "Similarity column 22222 (100.0%), 10008.25 column/sec. Elapsed time 2.22 sec\n",
      "TwoScoresHybridRecommender: URM Detected 236 ( 1.9%) users with no interactions.\n",
      "TwoScoresHybridRecommender: URM Detected 115 ( 0.5%) items with no interactions.\n",
      "EvaluatorHoldout: Processed 10462 (100.0%) in 9.08 sec. Users per second: 1152\n"
     ]
    },
    {
     "name": "stderr",
     "output_type": "stream",
     "text": [
      "[I 2023-12-22 11:33:53,955] Trial 565 finished with value: 0.040068915318629085 and parameters: {'user_topK': 8351, 'user_shrink': 887, 'user_similarity': 'tversky', 'user_normalize': True, 'user_feature_weighting': 'none', 'item_topK': 191, 'item_shrink': 167, 'item_similarity': 'asymmetric', 'item_normalize': True, 'item_feature_weighting': 'TF-IDF', 'alpha': 0.3773821463685162}. Best is trial 215 with value: 0.048046896098655506.\n"
     ]
    },
    {
     "name": "stdout",
     "output_type": "stream",
     "text": [
      "Similarity column 12638 (100.0%), 12219.89 column/sec. Elapsed time 1.03 sec\n",
      "Similarity column 22222 (100.0%), 10138.01 column/sec. Elapsed time 2.19 sec\n",
      "TwoScoresHybridRecommender: URM Detected 236 ( 1.9%) users with no interactions.\n",
      "TwoScoresHybridRecommender: URM Detected 115 ( 0.5%) items with no interactions.\n",
      "EvaluatorHoldout: Processed 10462 (100.0%) in 8.70 sec. Users per second: 1202\n"
     ]
    },
    {
     "name": "stderr",
     "output_type": "stream",
     "text": [
      "[I 2023-12-22 11:34:06,584] Trial 566 finished with value: 0.04244779291950052 and parameters: {'user_topK': 8630, 'user_shrink': 488, 'user_similarity': 'cosine', 'user_normalize': True, 'user_feature_weighting': 'none', 'item_topK': 12, 'item_shrink': 394, 'item_similarity': 'asymmetric', 'item_normalize': True, 'item_feature_weighting': 'TF-IDF', 'alpha': 0.22016280743188088}. Best is trial 215 with value: 0.048046896098655506.\n"
     ]
    },
    {
     "name": "stdout",
     "output_type": "stream",
     "text": [
      "Similarity column 12638 (100.0%), 12042.87 column/sec. Elapsed time 1.05 sec\n",
      "Similarity column 22222 (100.0%), 10403.12 column/sec. Elapsed time 2.14 sec\n",
      "TwoScoresHybridRecommender: URM Detected 236 ( 1.9%) users with no interactions.\n",
      "TwoScoresHybridRecommender: URM Detected 115 ( 0.5%) items with no interactions.\n",
      "EvaluatorHoldout: Processed 10462 (100.0%) in 12.45 sec. Users per second: 840\n"
     ]
    },
    {
     "name": "stderr",
     "output_type": "stream",
     "text": [
      "[I 2023-12-22 11:34:23,442] Trial 567 finished with value: 0.027591108258762743 and parameters: {'user_topK': 7602, 'user_shrink': 978, 'user_similarity': 'cosine', 'user_normalize': True, 'user_feature_weighting': 'none', 'item_topK': 5691, 'item_shrink': 313, 'item_similarity': 'asymmetric', 'item_normalize': True, 'item_feature_weighting': 'TF-IDF', 'alpha': 0.6681770390679774}. Best is trial 215 with value: 0.048046896098655506.\n"
     ]
    },
    {
     "name": "stdout",
     "output_type": "stream",
     "text": [
      "Similarity column 12638 (100.0%), 11819.34 column/sec. Elapsed time 1.07 sec\n",
      "Similarity column 22222 (100.0%), 9954.80 column/sec. Elapsed time 2.23 sec\n",
      "TwoScoresHybridRecommender: URM Detected 236 ( 1.9%) users with no interactions.\n",
      "TwoScoresHybridRecommender: URM Detected 115 ( 0.5%) items with no interactions.\n",
      "EvaluatorHoldout: Processed 10462 (100.0%) in 10.52 sec. Users per second: 995\n"
     ]
    },
    {
     "name": "stderr",
     "output_type": "stream",
     "text": [
      "[I 2023-12-22 11:34:38,098] Trial 568 finished with value: 0.030329943135095305 and parameters: {'user_topK': 9311, 'user_shrink': 936, 'user_similarity': 'cosine', 'user_normalize': True, 'user_feature_weighting': 'none', 'item_topK': 388, 'item_shrink': 119, 'item_similarity': 'asymmetric', 'item_normalize': True, 'item_feature_weighting': 'TF-IDF', 'alpha': 0.8466937091814171}. Best is trial 215 with value: 0.048046896098655506.\n"
     ]
    },
    {
     "name": "stdout",
     "output_type": "stream",
     "text": [
      "Similarity column 12638 (100.0%), 11894.56 column/sec. Elapsed time 1.06 sec\n",
      "Similarity column 22222 (100.0%), 9786.32 column/sec. Elapsed time 2.27 sec\n",
      "TwoScoresHybridRecommender: URM Detected 236 ( 1.9%) users with no interactions.\n",
      "TwoScoresHybridRecommender: URM Detected 115 ( 0.5%) items with no interactions.\n",
      "EvaluatorHoldout: Processed 10462 (100.0%) in 11.40 sec. Users per second: 918\n"
     ]
    },
    {
     "name": "stderr",
     "output_type": "stream",
     "text": [
      "[I 2023-12-22 11:34:53,798] Trial 569 finished with value: 0.03234831347309871 and parameters: {'user_topK': 8888, 'user_shrink': 855, 'user_similarity': 'cosine', 'user_normalize': True, 'user_feature_weighting': 'none', 'item_topK': 583, 'item_shrink': 291, 'item_similarity': 'asymmetric', 'item_normalize': True, 'item_feature_weighting': 'TF-IDF', 'alpha': 0.6223682597876911}. Best is trial 215 with value: 0.048046896098655506.\n"
     ]
    },
    {
     "name": "stdout",
     "output_type": "stream",
     "text": [
      "Similarity column 12638 (100.0%), 12961.33 column/sec. Elapsed time 0.98 sec\n",
      "Similarity column 22222 (100.0%), 9991.64 column/sec. Elapsed time 2.22 sec\n",
      "TwoScoresHybridRecommender: URM Detected 236 ( 1.9%) users with no interactions.\n",
      "TwoScoresHybridRecommender: URM Detected 115 ( 0.5%) items with no interactions.\n",
      "EvaluatorHoldout: Processed 10462 (100.0%) in 9.44 sec. Users per second: 1108\n"
     ]
    },
    {
     "name": "stderr",
     "output_type": "stream",
     "text": [
      "[I 2023-12-22 11:35:07,137] Trial 570 finished with value: 0.0293561012947843 and parameters: {'user_topK': 6583, 'user_shrink': 905, 'user_similarity': 'cosine', 'user_normalize': False, 'user_feature_weighting': 'none', 'item_topK': 178, 'item_shrink': 95, 'item_similarity': 'asymmetric', 'item_normalize': True, 'item_feature_weighting': 'TF-IDF', 'alpha': 0.8093360668294677}. Best is trial 215 with value: 0.048046896098655506.\n"
     ]
    },
    {
     "name": "stdout",
     "output_type": "stream",
     "text": [
      "Similarity column 12638 (100.0%), 12185.57 column/sec. Elapsed time 1.04 sec\n",
      "Similarity column 22222 (100.0%), 10013.32 column/sec. Elapsed time 2.22 sec\n",
      "TwoScoresHybridRecommender: URM Detected 236 ( 1.9%) users with no interactions.\n",
      "TwoScoresHybridRecommender: URM Detected 115 ( 0.5%) items with no interactions.\n",
      "EvaluatorHoldout: Processed 10462 (100.0%) in 11.82 sec. Users per second: 885\n"
     ]
    },
    {
     "name": "stderr",
     "output_type": "stream",
     "text": [
      "[I 2023-12-22 11:35:23,204] Trial 571 finished with value: 0.0424390689813176 and parameters: {'user_topK': 8126, 'user_shrink': 945, 'user_similarity': 'cosine', 'user_normalize': True, 'user_feature_weighting': 'BM25', 'item_topK': 943, 'item_shrink': 57, 'item_similarity': 'asymmetric', 'item_normalize': True, 'item_feature_weighting': 'TF-IDF', 'alpha': 0.6958728636428779}. Best is trial 215 with value: 0.048046896098655506.\n"
     ]
    },
    {
     "name": "stdout",
     "output_type": "stream",
     "text": [
      "Similarity column 12638 (100.0%), 12381.57 column/sec. Elapsed time 1.02 sec\n",
      "Similarity column 22222 (100.0%), 9939.29 column/sec. Elapsed time 2.24 sec\n",
      "TwoScoresHybridRecommender: URM Detected 236 ( 1.9%) users with no interactions.\n",
      "TwoScoresHybridRecommender: URM Detected 115 ( 0.5%) items with no interactions.\n",
      "EvaluatorHoldout: Processed 10462 (100.0%) in 10.56 sec. Users per second: 991\n"
     ]
    },
    {
     "name": "stderr",
     "output_type": "stream",
     "text": [
      "[I 2023-12-22 11:35:37,751] Trial 572 finished with value: 0.04276749111675554 and parameters: {'user_topK': 6868, 'user_shrink': 881, 'user_similarity': 'cosine', 'user_normalize': True, 'user_feature_weighting': 'none', 'item_topK': 338, 'item_shrink': 405, 'item_similarity': 'asymmetric', 'item_normalize': True, 'item_feature_weighting': 'TF-IDF', 'alpha': 0.6464560379940624}. Best is trial 215 with value: 0.048046896098655506.\n"
     ]
    },
    {
     "name": "stdout",
     "output_type": "stream",
     "text": [
      "Similarity column 12638 (100.0%), 12338.47 column/sec. Elapsed time 1.02 sec\n",
      "Similarity column 22222 (100.0%), 10220.19 column/sec. Elapsed time 2.17 sec\n",
      "TwoScoresHybridRecommender: URM Detected 236 ( 1.9%) users with no interactions.\n",
      "TwoScoresHybridRecommender: URM Detected 115 ( 0.5%) items with no interactions.\n",
      "EvaluatorHoldout: Processed 10462 (100.0%) in 8.83 sec. Users per second: 1185\n"
     ]
    },
    {
     "name": "stderr",
     "output_type": "stream",
     "text": [
      "[I 2023-12-22 11:35:50,476] Trial 573 finished with value: 0.04390323787069205 and parameters: {'user_topK': 7808, 'user_shrink': 923, 'user_similarity': 'jaccard', 'user_normalize': True, 'user_feature_weighting': 'none', 'item_topK': 8, 'item_shrink': 150, 'item_similarity': 'asymmetric', 'item_normalize': True, 'item_feature_weighting': 'TF-IDF', 'alpha': 0.7343273695573316}. Best is trial 215 with value: 0.048046896098655506.\n"
     ]
    },
    {
     "name": "stdout",
     "output_type": "stream",
     "text": [
      "Similarity column 12638 (100.0%), 11674.27 column/sec. Elapsed time 1.08 sec\n",
      "Similarity column 22222 (100.0%), 10172.33 column/sec. Elapsed time 2.18 sec\n",
      "TwoScoresHybridRecommender: URM Detected 236 ( 1.9%) users with no interactions.\n",
      "TwoScoresHybridRecommender: URM Detected 115 ( 0.5%) items with no interactions.\n",
      "EvaluatorHoldout: Processed 10462 (100.0%) in 10.95 sec. Users per second: 956\n"
     ]
    },
    {
     "name": "stderr",
     "output_type": "stream",
     "text": [
      "[I 2023-12-22 11:36:05,739] Trial 574 finished with value: 0.03868621663283341 and parameters: {'user_topK': 8998, 'user_shrink': 828, 'user_similarity': 'asymmetric', 'user_normalize': True, 'user_feature_weighting': 'none', 'item_topK': 327, 'item_shrink': 230, 'item_similarity': 'jaccard', 'item_normalize': True, 'item_feature_weighting': 'TF-IDF', 'alpha': 0.39774746324034593}. Best is trial 215 with value: 0.048046896098655506.\n"
     ]
    },
    {
     "name": "stdout",
     "output_type": "stream",
     "text": [
      "Similarity column 12638 (100.0%), 12024.09 column/sec. Elapsed time 1.05 sec\n",
      "Similarity column 22222 (100.0%), 10620.85 column/sec. Elapsed time 2.09 sec\n",
      "TwoScoresHybridRecommender: URM Detected 236 ( 1.9%) users with no interactions.\n",
      "TwoScoresHybridRecommender: URM Detected 115 ( 0.5%) items with no interactions.\n",
      "EvaluatorHoldout: Processed 10462 (100.0%) in 8.68 sec. Users per second: 1206\n"
     ]
    },
    {
     "name": "stderr",
     "output_type": "stream",
     "text": [
      "[I 2023-12-22 11:36:18,412] Trial 575 finished with value: 0.0401956551753441 and parameters: {'user_topK': 8556, 'user_shrink': 963, 'user_similarity': 'cosine', 'user_normalize': True, 'user_feature_weighting': 'none', 'item_topK': 12, 'item_shrink': 357, 'item_similarity': 'dice', 'item_normalize': True, 'item_feature_weighting': 'none', 'alpha': 0.6699983582995349}. Best is trial 215 with value: 0.048046896098655506.\n"
     ]
    },
    {
     "name": "stdout",
     "output_type": "stream",
     "text": [
      "Similarity column 12638 (100.0%), 11462.95 column/sec. Elapsed time 1.10 sec\n",
      "Similarity column 22222 (100.0%), 10094.71 column/sec. Elapsed time 2.20 sec\n",
      "TwoScoresHybridRecommender: URM Detected 236 ( 1.9%) users with no interactions.\n",
      "TwoScoresHybridRecommender: URM Detected 115 ( 0.5%) items with no interactions.\n",
      "EvaluatorHoldout: Processed 10462 (100.0%) in 11.39 sec. Users per second: 919\n"
     ]
    },
    {
     "name": "stderr",
     "output_type": "stream",
     "text": [
      "[I 2023-12-22 11:36:34,210] Trial 576 finished with value: 0.04197366963735781 and parameters: {'user_topK': 9777, 'user_shrink': 907, 'user_similarity': 'cosine', 'user_normalize': True, 'user_feature_weighting': 'none', 'item_topK': 776, 'item_shrink': 325, 'item_similarity': 'asymmetric', 'item_normalize': True, 'item_feature_weighting': 'TF-IDF', 'alpha': 0.7510917769930363}. Best is trial 215 with value: 0.048046896098655506.\n"
     ]
    },
    {
     "name": "stdout",
     "output_type": "stream",
     "text": [
      "Similarity column 12638 (100.0%), 12651.14 column/sec. Elapsed time 1.00 sec\n",
      "Similarity column 22222 (100.0%), 10096.02 column/sec. Elapsed time 2.20 sec\n",
      "TwoScoresHybridRecommender: URM Detected 236 ( 1.9%) users with no interactions.\n",
      "TwoScoresHybridRecommender: URM Detected 115 ( 0.5%) items with no interactions.\n",
      "EvaluatorHoldout: Processed 10462 (100.0%) in 9.24 sec. Users per second: 1132\n"
     ]
    },
    {
     "name": "stderr",
     "output_type": "stream",
     "text": [
      "[I 2023-12-22 11:36:47,368] Trial 577 finished with value: 0.04311931995764005 and parameters: {'user_topK': 7229, 'user_shrink': 998, 'user_similarity': 'cosine', 'user_normalize': True, 'user_feature_weighting': 'none', 'item_topK': 176, 'item_shrink': 382, 'item_similarity': 'asymmetric', 'item_normalize': True, 'item_feature_weighting': 'TF-IDF', 'alpha': 0.7061705793773577}. Best is trial 215 with value: 0.048046896098655506.\n"
     ]
    },
    {
     "name": "stdout",
     "output_type": "stream",
     "text": [
      "Similarity column 12638 (100.0%), 12481.42 column/sec. Elapsed time 1.01 sec\n",
      "Similarity column 22222 (100.0%), 9943.59 column/sec. Elapsed time 2.23 sec\n",
      "TwoScoresHybridRecommender: URM Detected 236 ( 1.9%) users with no interactions.\n",
      "TwoScoresHybridRecommender: URM Detected 115 ( 0.5%) items with no interactions.\n",
      "EvaluatorHoldout: Processed 10462 (100.0%) in 10.62 sec. Users per second: 985\n"
     ]
    },
    {
     "name": "stderr",
     "output_type": "stream",
     "text": [
      "[I 2023-12-22 11:37:01,933] Trial 578 finished with value: 0.04238943356607329 and parameters: {'user_topK': 6212, 'user_shrink': 868, 'user_similarity': 'cosine', 'user_normalize': True, 'user_feature_weighting': 'none', 'item_topK': 470, 'item_shrink': 274, 'item_similarity': 'asymmetric', 'item_normalize': True, 'item_feature_weighting': 'TF-IDF', 'alpha': 0.45036522598385437}. Best is trial 215 with value: 0.048046896098655506.\n"
     ]
    },
    {
     "name": "stdout",
     "output_type": "stream",
     "text": [
      "Similarity column 12638 (100.0%), 10646.16 column/sec. Elapsed time 1.19 sec\n",
      "Similarity column 22222 (100.0%), 10143.01 column/sec. Elapsed time 2.19 sec\n",
      "TwoScoresHybridRecommender: URM Detected 236 ( 1.9%) users with no interactions.\n",
      "TwoScoresHybridRecommender: URM Detected 115 ( 0.5%) items with no interactions.\n",
      "EvaluatorHoldout: Processed 10462 (100.0%) in 8.42 sec. Users per second: 1243\n"
     ]
    },
    {
     "name": "stderr",
     "output_type": "stream",
     "text": [
      "[I 2023-12-22 11:37:14,428] Trial 579 finished with value: 0.04402962118384643 and parameters: {'user_topK': 8345, 'user_shrink': 890, 'user_similarity': 'cosine', 'user_normalize': True, 'user_feature_weighting': 'none', 'item_topK': 11, 'item_shrink': 73, 'item_similarity': 'asymmetric', 'item_normalize': True, 'item_feature_weighting': 'TF-IDF', 'alpha': 0.7802774094430975}. Best is trial 215 with value: 0.048046896098655506.\n"
     ]
    },
    {
     "name": "stdout",
     "output_type": "stream",
     "text": [
      "Similarity column 12638 (100.0%), 11776.61 column/sec. Elapsed time 1.07 sec\n",
      "Similarity column 22222 (100.0%), 9953.32 column/sec. Elapsed time 2.23 sec\n",
      "TwoScoresHybridRecommender: URM Detected 236 ( 1.9%) users with no interactions.\n",
      "TwoScoresHybridRecommender: URM Detected 115 ( 0.5%) items with no interactions.\n",
      "EvaluatorHoldout: Processed 10462 (100.0%) in 9.26 sec. Users per second: 1130\n"
     ]
    },
    {
     "name": "stderr",
     "output_type": "stream",
     "text": [
      "[I 2023-12-22 11:37:27,766] Trial 580 finished with value: 0.043318096785646534 and parameters: {'user_topK': 9443, 'user_shrink': 946, 'user_similarity': 'cosine', 'user_normalize': True, 'user_feature_weighting': 'none', 'item_topK': 192, 'item_shrink': 208, 'item_similarity': 'asymmetric', 'item_normalize': True, 'item_feature_weighting': 'TF-IDF', 'alpha': 0.6813841774236612}. Best is trial 215 with value: 0.048046896098655506.\n"
     ]
    },
    {
     "name": "stdout",
     "output_type": "stream",
     "text": [
      "Similarity column 12638 (100.0%), 10640.53 column/sec. Elapsed time 1.19 sec\n",
      "Similarity column 22222 (100.0%), 10051.45 column/sec. Elapsed time 2.21 sec\n",
      "TwoScoresHybridRecommender: URM Detected 236 ( 1.9%) users with no interactions.\n",
      "TwoScoresHybridRecommender: URM Detected 115 ( 0.5%) items with no interactions.\n",
      "EvaluatorHoldout: Processed 10462 (100.0%) in 9.86 sec. Users per second: 1062\n"
     ]
    },
    {
     "name": "stderr",
     "output_type": "stream",
     "text": [
      "[I 2023-12-22 11:37:41,643] Trial 581 finished with value: 0.04257914508440257 and parameters: {'user_topK': 4854, 'user_shrink': 920, 'user_similarity': 'cosine', 'user_normalize': True, 'user_feature_weighting': 'none', 'item_topK': 333, 'item_shrink': 298, 'item_similarity': 'asymmetric', 'item_normalize': True, 'item_feature_weighting': 'TF-IDF', 'alpha': 0.7241020065466451}. Best is trial 215 with value: 0.048046896098655506.\n"
     ]
    },
    {
     "name": "stdout",
     "output_type": "stream",
     "text": [
      "Similarity column 12638 (100.0%), 10652.43 column/sec. Elapsed time 1.19 sec\n",
      "Similarity column 22222 (100.0%), 10041.04 column/sec. Elapsed time 2.21 sec\n",
      "TwoScoresHybridRecommender: URM Detected 236 ( 1.9%) users with no interactions.\n",
      "TwoScoresHybridRecommender: URM Detected 115 ( 0.5%) items with no interactions.\n",
      "EvaluatorHoldout: Processed 10462 (100.0%) in 11.04 sec. Users per second: 948\n"
     ]
    },
    {
     "name": "stderr",
     "output_type": "stream",
     "text": [
      "[I 2023-12-22 11:37:56,915] Trial 582 finished with value: 0.041865731763935335 and parameters: {'user_topK': 9225, 'user_shrink': 847, 'user_similarity': 'cosine', 'user_normalize': True, 'user_feature_weighting': 'none', 'item_topK': 622, 'item_shrink': 353, 'item_similarity': 'asymmetric', 'item_normalize': True, 'item_feature_weighting': 'BM25', 'alpha': 0.6538234746248498}. Best is trial 215 with value: 0.048046896098655506.\n"
     ]
    },
    {
     "name": "stdout",
     "output_type": "stream",
     "text": [
      "Similarity column 12638 (100.0%), 12322.81 column/sec. Elapsed time 1.03 sec\n",
      "Similarity column 22222 (100.0%), 10082.45 column/sec. Elapsed time 2.20 sec\n",
      "TwoScoresHybridRecommender: URM Detected 236 ( 1.9%) users with no interactions.\n",
      "TwoScoresHybridRecommender: URM Detected 115 ( 0.5%) items with no interactions.\n",
      "EvaluatorHoldout: Processed 10462 (100.0%) in 9.03 sec. Users per second: 1158\n"
     ]
    },
    {
     "name": "stderr",
     "output_type": "stream",
     "text": [
      "[I 2023-12-22 11:38:09,943] Trial 583 finished with value: 0.04184089888424686 and parameters: {'user_topK': 8782, 'user_shrink': 979, 'user_similarity': 'dice', 'user_normalize': True, 'user_feature_weighting': 'none', 'item_topK': 190, 'item_shrink': 416, 'item_similarity': 'asymmetric', 'item_normalize': True, 'item_feature_weighting': 'TF-IDF', 'alpha': 0.4223440191716924}. Best is trial 215 with value: 0.048046896098655506.\n"
     ]
    },
    {
     "name": "stdout",
     "output_type": "stream",
     "text": [
      "Similarity column 12638 (100.0%), 12588.56 column/sec. Elapsed time 1.00 sec\n",
      "Similarity column 22222 (100.0%), 10225.37 column/sec. Elapsed time 2.17 sec\n",
      "TwoScoresHybridRecommender: URM Detected 236 ( 1.9%) users with no interactions.\n",
      "TwoScoresHybridRecommender: URM Detected 115 ( 0.5%) items with no interactions.\n",
      "EvaluatorHoldout: Processed 10462 (100.0%) in 8.33 sec. Users per second: 1256\n"
     ]
    },
    {
     "name": "stderr",
     "output_type": "stream",
     "text": [
      "[I 2023-12-22 11:38:22,049] Trial 584 finished with value: 0.041297666839628655 and parameters: {'user_topK': 6444, 'user_shrink': 896, 'user_similarity': 'cosine', 'user_normalize': True, 'user_feature_weighting': 'none', 'item_topK': 5, 'item_shrink': 545, 'item_similarity': 'asymmetric', 'item_normalize': True, 'item_feature_weighting': 'TF-IDF', 'alpha': 3.049295916002226e-05}. Best is trial 215 with value: 0.048046896098655506.\n"
     ]
    },
    {
     "name": "stdout",
     "output_type": "stream",
     "text": [
      "Similarity column 12638 (100.0%), 12561.09 column/sec. Elapsed time 1.01 sec\n",
      "Similarity column 22222 (100.0%), 10724.64 column/sec. Elapsed time 2.07 sec\n",
      "TwoScoresHybridRecommender: URM Detected 236 ( 1.9%) users with no interactions.\n",
      "TwoScoresHybridRecommender: URM Detected 115 ( 0.5%) items with no interactions.\n",
      "EvaluatorHoldout: Processed 10462 (100.0%) in 8.37 sec. Users per second: 1250\n"
     ]
    },
    {
     "name": "stderr",
     "output_type": "stream",
     "text": [
      "[I 2023-12-22 11:38:34,114] Trial 585 finished with value: 0.0438162488279584 and parameters: {'user_topK': 6734, 'user_shrink': 934, 'user_similarity': 'cosine', 'user_normalize': True, 'user_feature_weighting': 'TF-IDF', 'item_topK': 3, 'item_shrink': 333, 'item_similarity': 'asymmetric', 'item_normalize': True, 'item_feature_weighting': 'TF-IDF', 'alpha': 0.10334056758046051}. Best is trial 215 with value: 0.048046896098655506.\n"
     ]
    },
    {
     "name": "stdout",
     "output_type": "stream",
     "text": [
      "Similarity column 12638 (100.0%), 12339.48 column/sec. Elapsed time 1.02 sec\n",
      "Similarity column 22222 (100.0%), 10062.05 column/sec. Elapsed time 2.21 sec\n",
      "TwoScoresHybridRecommender: URM Detected 236 ( 1.9%) users with no interactions.\n",
      "TwoScoresHybridRecommender: URM Detected 115 ( 0.5%) items with no interactions.\n",
      "EvaluatorHoldout: Processed 10462 (100.0%) in 10.27 sec. Users per second: 1018\n"
     ]
    },
    {
     "name": "stderr",
     "output_type": "stream",
     "text": [
      "[I 2023-12-22 11:38:48,338] Trial 586 finished with value: 0.0314555056394573 and parameters: {'user_topK': 8183, 'user_shrink': 960, 'user_similarity': 'cosine', 'user_normalize': True, 'user_feature_weighting': 'none', 'item_topK': 357, 'item_shrink': 103, 'item_similarity': 'asymmetric', 'item_normalize': True, 'item_feature_weighting': 'TF-IDF', 'alpha': 0.6963959987350855}. Best is trial 215 with value: 0.048046896098655506.\n"
     ]
    },
    {
     "name": "stdout",
     "output_type": "stream",
     "text": [
      "Similarity column 12638 (100.0%), 11874.54 column/sec. Elapsed time 1.06 sec\n",
      "Similarity column 22222 (100.0%), 10071.84 column/sec. Elapsed time 2.21 sec\n",
      "TwoScoresHybridRecommender: URM Detected 236 ( 1.9%) users with no interactions.\n",
      "TwoScoresHybridRecommender: URM Detected 115 ( 0.5%) items with no interactions.\n",
      "EvaluatorHoldout: Processed 10462 (100.0%) in 9.27 sec. Users per second: 1128\n"
     ]
    },
    {
     "name": "stderr",
     "output_type": "stream",
     "text": [
      "[I 2023-12-22 11:39:01,649] Trial 587 finished with value: 0.02960235910460552 and parameters: {'user_topK': 9091, 'user_shrink': 870, 'user_similarity': 'cosine', 'user_normalize': True, 'user_feature_weighting': 'none', 'item_topK': 188, 'item_shrink': 188, 'item_similarity': 'asymmetric', 'item_normalize': True, 'item_feature_weighting': 'TF-IDF', 'alpha': 0.9327776518106459}. Best is trial 215 with value: 0.048046896098655506.\n"
     ]
    },
    {
     "name": "stdout",
     "output_type": "stream",
     "text": [
      "Similarity column 12638 (100.0%), 12735.03 column/sec. Elapsed time 0.99 sec\n",
      "Similarity column 22222 (100.0%), 10650.66 column/sec. Elapsed time 2.09 sec\n",
      "TwoScoresHybridRecommender: URM Detected 236 ( 1.9%) users with no interactions.\n",
      "TwoScoresHybridRecommender: URM Detected 115 ( 0.5%) items with no interactions.\n",
      "EvaluatorHoldout: Processed 10462 (100.0%) in 8.37 sec. Users per second: 1250\n"
     ]
    },
    {
     "name": "stderr",
     "output_type": "stream",
     "text": [
      "[I 2023-12-22 11:39:13,730] Trial 588 finished with value: 0.029381286925016747 and parameters: {'user_topK': 7420, 'user_shrink': 750, 'user_similarity': 'cosine', 'user_normalize': False, 'user_feature_weighting': 'none', 'item_topK': 3, 'item_shrink': 369, 'item_similarity': 'asymmetric', 'item_normalize': True, 'item_feature_weighting': 'TF-IDF', 'alpha': 0.7591057074449284}. Best is trial 215 with value: 0.048046896098655506.\n"
     ]
    },
    {
     "name": "stdout",
     "output_type": "stream",
     "text": [
      "Similarity column 12638 (100.0%), 11633.90 column/sec. Elapsed time 1.09 sec\n",
      "Similarity column 22222 (100.0%), 10357.75 column/sec. Elapsed time 2.15 sec\n",
      "TwoScoresHybridRecommender: URM Detected 236 ( 1.9%) users with no interactions.\n",
      "TwoScoresHybridRecommender: URM Detected 115 ( 0.5%) items with no interactions.\n",
      "EvaluatorHoldout: Processed 10462 (100.0%) in 10.78 sec. Users per second: 970\n"
     ]
    },
    {
     "name": "stderr",
     "output_type": "stream",
     "text": [
      "[I 2023-12-22 11:39:28,586] Trial 589 finished with value: 0.03899531714170449 and parameters: {'user_topK': 9539, 'user_shrink': 914, 'user_similarity': 'tversky', 'user_normalize': True, 'user_feature_weighting': 'none', 'item_topK': 517, 'item_shrink': 126, 'item_similarity': 'cosine', 'item_normalize': True, 'item_feature_weighting': 'TF-IDF', 'alpha': 0.497836038862457}. Best is trial 215 with value: 0.048046896098655506.\n"
     ]
    },
    {
     "name": "stdout",
     "output_type": "stream",
     "text": [
      "Similarity column 12638 (100.0%), 12382.58 column/sec. Elapsed time 1.02 sec\n",
      "Similarity column 22222 (100.0%), 10061.49 column/sec. Elapsed time 2.21 sec\n",
      "TwoScoresHybridRecommender: URM Detected 236 ( 1.9%) users with no interactions.\n",
      "TwoScoresHybridRecommender: URM Detected 115 ( 0.5%) items with no interactions.\n",
      "EvaluatorHoldout: Processed 10462 (100.0%) in 10.27 sec. Users per second: 1019\n"
     ]
    },
    {
     "name": "stderr",
     "output_type": "stream",
     "text": [
      "[I 2023-12-22 11:39:42,807] Trial 590 finished with value: 0.03227491860186407 and parameters: {'user_topK': 7891, 'user_shrink': 888, 'user_similarity': 'cosine', 'user_normalize': True, 'user_feature_weighting': 'none', 'item_topK': 328, 'item_shrink': 250, 'item_similarity': 'asymmetric', 'item_normalize': True, 'item_feature_weighting': 'TF-IDF', 'alpha': 0.6245565156400319}. Best is trial 215 with value: 0.048046896098655506.\n"
     ]
    },
    {
     "name": "stdout",
     "output_type": "stream",
     "text": [
      "Similarity column 12638 (100.0%), 11989.91 column/sec. Elapsed time 1.05 sec\n",
      "Similarity column 22222 (100.0%), 10658.35 column/sec. Elapsed time 2.08 sec\n",
      "TwoScoresHybridRecommender: URM Detected 236 ( 1.9%) users with no interactions.\n",
      "TwoScoresHybridRecommender: URM Detected 115 ( 0.5%) items with no interactions.\n",
      "EvaluatorHoldout: Processed 10462 (100.0%) in 8.34 sec. Users per second: 1254\n"
     ]
    },
    {
     "name": "stderr",
     "output_type": "stream",
     "text": [
      "[I 2023-12-22 11:39:55,055] Trial 591 finished with value: 0.044279747870600954 and parameters: {'user_topK': 8701, 'user_shrink': 351, 'user_similarity': 'cosine', 'user_normalize': True, 'user_feature_weighting': 'BM25', 'item_topK': 3, 'item_shrink': 386, 'item_similarity': 'asymmetric', 'item_normalize': True, 'item_feature_weighting': 'TF-IDF', 'alpha': 0.20466395947941973}. Best is trial 215 with value: 0.048046896098655506.\n"
     ]
    },
    {
     "name": "stdout",
     "output_type": "stream",
     "text": [
      "Similarity column 12638 (100.0%), 12717.24 column/sec. Elapsed time 0.99 sec\n",
      "Similarity column 22222 (100.0%), 10421.86 column/sec. Elapsed time 2.13 sec\n",
      "TwoScoresHybridRecommender: URM Detected 236 ( 1.9%) users with no interactions.\n",
      "TwoScoresHybridRecommender: URM Detected 115 ( 0.5%) items with no interactions.\n",
      "EvaluatorHoldout: Processed 10462 (100.0%) in 12.52 sec. Users per second: 835\n"
     ]
    },
    {
     "name": "stderr",
     "output_type": "stream",
     "text": [
      "[I 2023-12-22 11:40:11,741] Trial 592 finished with value: 0.035998268867223474 and parameters: {'user_topK': 6971, 'user_shrink': 948, 'user_similarity': 'cosine', 'user_normalize': True, 'user_feature_weighting': 'none', 'item_topK': 3959, 'item_shrink': 630, 'item_similarity': 'asymmetric', 'item_normalize': True, 'item_feature_weighting': 'TF-IDF', 'alpha': 0.29773876719188425}. Best is trial 215 with value: 0.048046896098655506.\n"
     ]
    },
    {
     "name": "stdout",
     "output_type": "stream",
     "text": [
      "Similarity column 12638 (100.0%), 12131.62 column/sec. Elapsed time 1.04 sec\n",
      "Similarity column 22222 (100.0%), 10069.51 column/sec. Elapsed time 2.21 sec\n",
      "TwoScoresHybridRecommender: URM Detected 236 ( 1.9%) users with no interactions.\n",
      "TwoScoresHybridRecommender: URM Detected 115 ( 0.5%) items with no interactions.\n",
      "EvaluatorHoldout: Processed 10462 (100.0%) in 9.60 sec. Users per second: 1089\n"
     ]
    },
    {
     "name": "stderr",
     "output_type": "stream",
     "text": [
      "[I 2023-12-22 11:40:25,353] Trial 593 finished with value: 0.04312254022873456 and parameters: {'user_topK': 8407, 'user_shrink': 978, 'user_similarity': 'cosine', 'user_normalize': True, 'user_feature_weighting': 'none', 'item_topK': 214, 'item_shrink': 318, 'item_similarity': 'asymmetric', 'item_normalize': True, 'item_feature_weighting': 'TF-IDF', 'alpha': 0.7196510464071593}. Best is trial 215 with value: 0.048046896098655506.\n"
     ]
    },
    {
     "name": "stdout",
     "output_type": "stream",
     "text": [
      "Similarity column 12638 (100.0%), 11722.00 column/sec. Elapsed time 1.08 sec\n",
      "Similarity column 22222 (100.0%), 10022.58 column/sec. Elapsed time 2.22 sec\n",
      "TwoScoresHybridRecommender: URM Detected 236 ( 1.9%) users with no interactions.\n",
      "TwoScoresHybridRecommender: URM Detected 115 ( 0.5%) items with no interactions.\n",
      "EvaluatorHoldout: Processed 10462 (100.0%) in 11.01 sec. Users per second: 950\n"
     ]
    },
    {
     "name": "stderr",
     "output_type": "stream",
     "text": [
      "[I 2023-12-22 11:40:40,627] Trial 594 finished with value: 0.04254737857036702 and parameters: {'user_topK': 8985, 'user_shrink': 929, 'user_similarity': 'cosine', 'user_normalize': True, 'user_feature_weighting': 'none', 'item_topK': 527, 'item_shrink': 341, 'item_similarity': 'asymmetric', 'item_normalize': True, 'item_feature_weighting': 'TF-IDF', 'alpha': 0.6740015067625577}. Best is trial 215 with value: 0.048046896098655506.\n"
     ]
    },
    {
     "name": "stdout",
     "output_type": "stream",
     "text": [
      "Similarity column 12638 (100.0%), 11846.31 column/sec. Elapsed time 1.07 sec\n",
      "Similarity column 22222 (100.0%), 10675.51 column/sec. Elapsed time 2.08 sec\n",
      "TwoScoresHybridRecommender: URM Detected 236 ( 1.9%) users with no interactions.\n",
      "TwoScoresHybridRecommender: URM Detected 115 ( 0.5%) items with no interactions.\n",
      "EvaluatorHoldout: Processed 10462 (100.0%) in 8.38 sec. Users per second: 1248\n"
     ]
    },
    {
     "name": "stderr",
     "output_type": "stream",
     "text": [
      "[I 2023-12-22 11:40:53,049] Trial 595 finished with value: 0.04366041274089501 and parameters: {'user_topK': 9302, 'user_shrink': 853, 'user_similarity': 'cosine', 'user_normalize': True, 'user_feature_weighting': 'none', 'item_topK': 3, 'item_shrink': 303, 'item_similarity': 'asymmetric', 'item_normalize': True, 'item_feature_weighting': 'TF-IDF', 'alpha': 0.6981919009537364}. Best is trial 215 with value: 0.048046896098655506.\n"
     ]
    },
    {
     "name": "stdout",
     "output_type": "stream",
     "text": [
      "Similarity column 12638 (100.0%), 12162.53 column/sec. Elapsed time 1.04 sec\n",
      "Similarity column 22222 (100.0%), 10875.87 column/sec. Elapsed time 2.04 sec\n",
      "TwoScoresHybridRecommender: URM Detected 236 ( 1.9%) users with no interactions.\n",
      "TwoScoresHybridRecommender: URM Detected 115 ( 0.5%) items with no interactions.\n",
      "EvaluatorHoldout: Processed 10462 (100.0%) in 11.54 sec. Users per second: 907\n"
     ]
    },
    {
     "name": "stderr",
     "output_type": "stream",
     "text": [
      "[I 2023-12-22 11:41:08,305] Trial 596 finished with value: 0.021941034522519928 and parameters: {'user_topK': 5368, 'user_shrink': 904, 'user_similarity': 'jaccard', 'user_normalize': True, 'user_feature_weighting': 'none', 'item_topK': 323, 'item_shrink': 161, 'item_similarity': 'asymmetric', 'item_normalize': False, 'item_feature_weighting': 'none', 'alpha': 0.4751493703061146}. Best is trial 215 with value: 0.048046896098655506.\n"
     ]
    },
    {
     "name": "stdout",
     "output_type": "stream",
     "text": [
      "Similarity column 12638 (100.0%), 11062.24 column/sec. Elapsed time 1.14 sec\n",
      "Similarity column 22222 (100.0%), 9934.36 column/sec. Elapsed time 2.24 sec\n",
      "TwoScoresHybridRecommender: URM Detected 236 ( 1.9%) users with no interactions.\n",
      "TwoScoresHybridRecommender: URM Detected 115 ( 0.5%) items with no interactions.\n",
      "EvaluatorHoldout: Processed 10462 (100.0%) in 10.53 sec. Users per second: 993\n"
     ]
    },
    {
     "name": "stderr",
     "output_type": "stream",
     "text": [
      "[I 2023-12-22 11:41:23,447] Trial 597 finished with value: 0.042609109915552765 and parameters: {'user_topK': 9961, 'user_shrink': 961, 'user_similarity': 'cosine', 'user_normalize': True, 'user_feature_weighting': 'none', 'item_topK': 249, 'item_shrink': 447, 'item_similarity': 'asymmetric', 'item_normalize': True, 'item_feature_weighting': 'TF-IDF', 'alpha': 0.7396698682540004}. Best is trial 215 with value: 0.048046896098655506.\n"
     ]
    },
    {
     "name": "stdout",
     "output_type": "stream",
     "text": [
      "Similarity column 12638 (100.0%), 11971.82 column/sec. Elapsed time 1.06 sec\n",
      "Similarity column 22222 (100.0%), 10050.64 column/sec. Elapsed time 2.21 sec\n",
      "TwoScoresHybridRecommender: URM Detected 236 ( 1.9%) users with no interactions.\n",
      "TwoScoresHybridRecommender: URM Detected 115 ( 0.5%) items with no interactions.\n",
      "EvaluatorHoldout: Processed 10462 (100.0%) in 11.50 sec. Users per second: 910\n"
     ]
    },
    {
     "name": "stderr",
     "output_type": "stream",
     "text": [
      "[I 2023-12-22 11:41:39,340] Trial 598 finished with value: 0.04259264822350307 and parameters: {'user_topK': 8578, 'user_shrink': 875, 'user_similarity': 'cosine', 'user_normalize': True, 'user_feature_weighting': 'none', 'item_topK': 749, 'item_shrink': 368, 'item_similarity': 'asymmetric', 'item_normalize': True, 'item_feature_weighting': 'TF-IDF', 'alpha': 0.656415163765803}. Best is trial 215 with value: 0.048046896098655506.\n"
     ]
    },
    {
     "name": "stdout",
     "output_type": "stream",
     "text": [
      "Similarity column 12638 (100.0%), 12344.57 column/sec. Elapsed time 1.02 sec\n",
      "Similarity column 22222 (100.0%), 10306.93 column/sec. Elapsed time 2.16 sec\n",
      "TwoScoresHybridRecommender: URM Detected 236 ( 1.9%) users with no interactions.\n",
      "TwoScoresHybridRecommender: URM Detected 115 ( 0.5%) items with no interactions.\n",
      "EvaluatorHoldout: Processed 10462 (100.0%) in 10.89 sec. Users per second: 960\n"
     ]
    },
    {
     "name": "stderr",
     "output_type": "stream",
     "text": [
      "[I 2023-12-22 11:41:54,255] Trial 599 finished with value: 0.03916170919396935 and parameters: {'user_topK': 8084, 'user_shrink': 928, 'user_similarity': 'cosine', 'user_normalize': True, 'user_feature_weighting': 'none', 'item_topK': 181, 'item_shrink': 803, 'item_similarity': 'jaccard', 'item_normalize': True, 'item_feature_weighting': 'TF-IDF', 'alpha': 0.8314796073819051}. Best is trial 215 with value: 0.048046896098655506.\n"
     ]
    }
   ],
   "source": [
    "study_name = \"KNN-cotrain-study\"  # Unique identifier of the study.\n",
    "storage_name = \"sqlite:///db.db\"\n",
    "study = op.create_study(study_name=study_name, storage=storage_name, direction=\"maximize\", load_if_exists=True)\n",
    "study.optimize(objective, n_trials=100)"
   ],
   "metadata": {
    "collapsed": false,
    "ExecuteTime": {
     "end_time": "2023-12-22T10:41:54.258826Z",
     "start_time": "2023-12-22T10:18:26.084850Z"
    }
   },
   "id": "932910b333072bf8"
  },
  {
   "cell_type": "code",
   "execution_count": null,
   "outputs": [],
   "source": [],
   "metadata": {
    "collapsed": false
   },
   "id": "4f5abc04ab181a28"
  }
 ],
 "metadata": {
  "kernelspec": {
   "display_name": "Python 3",
   "language": "python",
   "name": "python3"
  },
  "language_info": {
   "codemirror_mode": {
    "name": "ipython",
    "version": 2
   },
   "file_extension": ".py",
   "mimetype": "text/x-python",
   "name": "python",
   "nbconvert_exporter": "python",
   "pygments_lexer": "ipython2",
   "version": "2.7.6"
  }
 },
 "nbformat": 4,
 "nbformat_minor": 5
}
