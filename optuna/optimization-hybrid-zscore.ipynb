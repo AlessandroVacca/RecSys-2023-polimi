{
 "cells": [
  {
   "cell_type": "code",
   "execution_count": 2,
   "id": "initial_id",
   "metadata": {
    "collapsed": true,
    "jupyter": {
     "outputs_hidden": true
    },
    "ExecuteTime": {
     "end_time": "2023-11-30T17:25:47.165178Z",
     "start_time": "2023-11-30T17:25:45.823483Z"
    }
   },
   "outputs": [
    {
     "name": "stdout",
     "output_type": "stream",
     "text": [
      "Warning: 227 (1.80 %) of 12638 users have no train items\n",
      "Warning: 2183 (17.27 %) of 12638 users have no sampled items\n",
      "Warning: 469 (3.71 %) of 12638 users have no train items\n",
      "Warning: 2598 (20.56 %) of 12638 users have no sampled items\n"
     ]
    }
   ],
   "source": [
    "from Data_manager.UserUtils import *\n",
    "from Data_manager.split_functions.split_train_validation_random_holdout import \\\n",
    "    split_train_in_two_percentage_global_sample\n",
    "\n",
    "URM_all = getURM_all()\n",
    "URM_train_validation, URM_test = split_train_in_two_percentage_global_sample(URM_all, train_percentage=0.80)\n",
    "URM_train, URM_validation = split_train_in_two_percentage_global_sample(URM_train_validation, train_percentage=0.80)"
   ]
  },
  {
   "cell_type": "code",
   "execution_count": 3,
   "id": "8a9fec0ccc4f11c5",
   "metadata": {
    "collapsed": false,
    "ExecuteTime": {
     "end_time": "2023-11-30T17:30:16.160161Z",
     "start_time": "2023-11-30T17:25:48.060892Z"
    }
   },
   "outputs": [
    {
     "name": "stdout",
     "output_type": "stream",
     "text": [
      "SLIMElasticNetRecommender: URM Detected 469 ( 3.7%) users with no interactions.\n",
      "SLIMElasticNetRecommender: URM Detected 343 ( 1.5%) items with no interactions.\n",
      "RP3betaRecommender: URM Detected 469 ( 3.7%) users with no interactions.\n",
      "RP3betaRecommender: URM Detected 343 ( 1.5%) items with no interactions.\n",
      "ItemKNNCFRecommender: URM Detected 469 ( 3.7%) users with no interactions.\n",
      "ItemKNNCFRecommender: URM Detected 343 ( 1.5%) items with no interactions.\n",
      "SLIMElasticNetRecommender: Processed 22222 (100.0%) in 4.37 min. Items per second: 84.76\n",
      "RP3betaRecommender: Similarity column 22222 (100.0%), 7405.99 column/sec. Elapsed time 3.00 sec\n",
      "Similarity column 22222 (100.0%), 12263.80 column/sec. Elapsed time 1.81 sec\n",
      "EvaluatorHoldout: Ignoring 2598 (20.6%) Users that have less than 1 test interactions\n",
      "EvaluatorHoldout: Ignoring 0 Users\n"
     ]
    }
   ],
   "source": [
    "from Recommenders.KNN.ItemKNNCFRecommender import ItemKNNCFRecommender\n",
    "from Hybrid import LinearZScoreNormalizedHybridRecommender\n",
    "from Recommenders.GraphBased.RP3betaRecommender import RP3betaRecommender\n",
    "from Recommenders.SLIM.SLIMElasticNetRecommender import SLIMElasticNetRecommender\n",
    "\n",
    "model = LinearZScoreNormalizedHybridRecommender\n",
    "slim = SLIMElasticNetRecommender(URM_train)\n",
    "rp3 = RP3betaRecommender(URM_train)\n",
    "itemknn = ItemKNNCFRecommender(URM_train)\n",
    "slim.fit(topK=8894, l1_ratio=0.05565733019999427, alpha=0.0012979360257937668)\n",
    "rp3.fit(topK=101, alpha=0.3026342852596128, beta=0.058468783118329024)\n",
    "itemknn.fit(topK=31, shrink=435, similarity='tversky', normalize=True,\n",
    "            feature_weighting='BM25', tversky_alpha=0.17113169506422393, tversky_beta=0.5684024974085575)\n",
    "\n",
    "from Evaluation.Evaluator import EvaluatorHoldout\n",
    "\n",
    "evaluator_validation = EvaluatorHoldout(URM_validation, cutoff_list=[10], ignore_users=[])"
   ]
  },
  {
   "cell_type": "code",
   "execution_count": 7,
   "outputs": [
    {
     "name": "stdout",
     "output_type": "stream",
     "text": [
      "SLIMElasticNetRP3betaItemKNNCFZScoreNormHybridRecommender: URM Detected 469 ( 3.7%) users with no interactions.\n",
      "SLIMElasticNetRP3betaItemKNNCFZScoreNormHybridRecommender: URM Detected 343 ( 1.5%) items with no interactions.\n"
     ]
    }
   ],
   "source": [
    "recommender = model(URM_train, [slim, rp3, itemknn])"
   ],
   "metadata": {
    "collapsed": false,
    "ExecuteTime": {
     "end_time": "2023-11-30T17:39:50.844646Z",
     "start_time": "2023-11-30T17:39:50.837111Z"
    }
   },
   "id": "9000f4c5396b30d1"
  },
  {
   "cell_type": "code",
   "execution_count": 8,
   "id": "b826576f6714c764",
   "metadata": {
    "collapsed": false,
    "ExecuteTime": {
     "end_time": "2023-11-30T17:40:00.597530Z",
     "start_time": "2023-11-30T17:40:00.355464Z"
    }
   },
   "outputs": [],
   "source": [
    "import optuna as op\n",
    "\n",
    "\n",
    "def objective(trial):\n",
    "    alphas = [trial.suggest_float(\"alphas[0]\", 0, 2), trial.suggest_float(\"alphas[1]\", 0, 2),\n",
    "              trial.suggest_float(\"alphas[2]\", 0, 2)]\n",
    "\n",
    "    #recommender = model(URM_train, [slim, rp3, itemknn])\n",
    "    #recommender.fit(**trial.params)\n",
    "    recommender.fit(alphas)\n",
    "\n",
    "    result, _ = evaluator_validation.evaluateRecommender(recommender)\n",
    "    MAP_result = result[\"MAP_MIN_DEN\"].item()\n",
    "\n",
    "    return MAP_result"
   ]
  },
  {
   "cell_type": "code",
   "execution_count": 10,
   "id": "c5b8a36d4aed08fc",
   "metadata": {
    "collapsed": false,
    "ExecuteTime": {
     "end_time": "2023-11-30T18:41:38.298761Z",
     "start_time": "2023-11-30T17:44:10.576889Z"
    }
   },
   "outputs": [
    {
     "name": "stderr",
     "output_type": "stream",
     "text": [
      "[I 2023-11-30 18:44:10,600] Using an existing study with name 'hybrid-zscore-study' instead of creating a new one.\n"
     ]
    },
    {
     "name": "stdout",
     "output_type": "stream",
     "text": [
      "EvaluatorHoldout: Processed 10040 (100.0%) in 4.85 sec. Users per second: 2071\n"
     ]
    },
    {
     "name": "stderr",
     "output_type": "stream",
     "text": [
      "[I 2023-11-30 18:44:18,856] Trial 20 finished with value: 0.06294703567940371 and parameters: {'alphas[0]': 1.227094327261709, 'alphas[1]': 1.6145538280314196, 'alphas[2]': 1.0843079644964528}. Best is trial 10 with value: 0.06321814590341057.\n"
     ]
    },
    {
     "name": "stdout",
     "output_type": "stream",
     "text": [
      "EvaluatorHoldout: Processed 10040 (100.0%) in 4.83 sec. Users per second: 2078\n"
     ]
    },
    {
     "name": "stderr",
     "output_type": "stream",
     "text": [
      "[I 2023-11-30 18:44:26,993] Trial 21 finished with value: 0.06329357257603493 and parameters: {'alphas[0]': 1.6066169837209139, 'alphas[1]': 1.3237272247734135, 'alphas[2]': 0.6031199316600462}. Best is trial 21 with value: 0.06329357257603493.\n"
     ]
    },
    {
     "name": "stdout",
     "output_type": "stream",
     "text": [
      "EvaluatorHoldout: Processed 10040 (100.0%) in 4.83 sec. Users per second: 2077\n"
     ]
    },
    {
     "name": "stderr",
     "output_type": "stream",
     "text": [
      "[I 2023-11-30 18:44:35,061] Trial 22 finished with value: 0.06327830106884118 and parameters: {'alphas[0]': 1.584312757202966, 'alphas[1]': 1.5102127733766282, 'alphas[2]': 0.6057982942730467}. Best is trial 21 with value: 0.06329357257603493.\n"
     ]
    },
    {
     "name": "stdout",
     "output_type": "stream",
     "text": [
      "EvaluatorHoldout: Processed 10040 (100.0%) in 4.69 sec. Users per second: 2139\n"
     ]
    },
    {
     "name": "stderr",
     "output_type": "stream",
     "text": [
      "[I 2023-11-30 18:44:42,928] Trial 23 finished with value: 0.06317476191542712 and parameters: {'alphas[0]': 1.847725474682037, 'alphas[1]': 1.393680212710053, 'alphas[2]': 0.6719579687045761}. Best is trial 21 with value: 0.06329357257603493.\n"
     ]
    },
    {
     "name": "stdout",
     "output_type": "stream",
     "text": [
      "EvaluatorHoldout: Processed 10040 (100.0%) in 4.80 sec. Users per second: 2093\n"
     ]
    },
    {
     "name": "stderr",
     "output_type": "stream",
     "text": [
      "[I 2023-11-30 18:44:50,894] Trial 24 finished with value: 0.0629440749693339 and parameters: {'alphas[0]': 1.5121033529488828, 'alphas[1]': 1.520987344815337, 'alphas[2]': 0.2546978771270053}. Best is trial 21 with value: 0.06329357257603493.\n"
     ]
    },
    {
     "name": "stdout",
     "output_type": "stream",
     "text": [
      "EvaluatorHoldout: Processed 10040 (100.0%) in 4.75 sec. Users per second: 2113\n"
     ]
    },
    {
     "name": "stderr",
     "output_type": "stream",
     "text": [
      "[I 2023-11-30 18:44:58,788] Trial 25 finished with value: 0.06321603893697054 and parameters: {'alphas[0]': 1.7649547474452747, 'alphas[1]': 1.3483155310840733, 'alphas[2]': 0.6289228643830373}. Best is trial 21 with value: 0.06329357257603493.\n"
     ]
    },
    {
     "name": "stdout",
     "output_type": "stream",
     "text": [
      "EvaluatorHoldout: Processed 10040 (100.0%) in 4.76 sec. Users per second: 2111\n"
     ]
    },
    {
     "name": "stderr",
     "output_type": "stream",
     "text": [
      "[I 2023-11-30 18:45:06,701] Trial 26 finished with value: 0.06306277281275466 and parameters: {'alphas[0]': 1.9786755707841732, 'alphas[1]': 1.0796032811344203, 'alphas[2]': 0.3231670131957527}. Best is trial 21 with value: 0.06329357257603493.\n"
     ]
    },
    {
     "name": "stdout",
     "output_type": "stream",
     "text": [
      "EvaluatorHoldout: Processed 10040 (100.0%) in 4.79 sec. Users per second: 2097\n"
     ]
    },
    {
     "name": "stderr",
     "output_type": "stream",
     "text": [
      "[I 2023-11-30 18:45:14,756] Trial 27 finished with value: 0.06291837696141599 and parameters: {'alphas[0]': 1.5686275548148494, 'alphas[1]': 1.2701547610611432, 'alphas[2]': 1.0606599434557045}. Best is trial 21 with value: 0.06329357257603493.\n"
     ]
    },
    {
     "name": "stdout",
     "output_type": "stream",
     "text": [
      "EvaluatorHoldout: Processed 10040 (100.0%) in 4.83 sec. Users per second: 2078\n"
     ]
    },
    {
     "name": "stderr",
     "output_type": "stream",
     "text": [
      "[I 2023-11-30 18:45:22,920] Trial 28 finished with value: 0.06334784001120723 and parameters: {'alphas[0]': 1.7896873660865777, 'alphas[1]': 1.5419787391787025, 'alphas[2]': 0.597819443896686}. Best is trial 28 with value: 0.06334784001120723.\n"
     ]
    },
    {
     "name": "stdout",
     "output_type": "stream",
     "text": [
      "EvaluatorHoldout: Processed 10040 (100.0%) in 4.81 sec. Users per second: 2089\n"
     ]
    },
    {
     "name": "stderr",
     "output_type": "stream",
     "text": [
      "[I 2023-11-30 18:45:30,962] Trial 29 finished with value: 0.06316605375549957 and parameters: {'alphas[0]': 1.8201551377312355, 'alphas[1]': 1.8042267475514535, 'alphas[2]': 0.9517637667765644}. Best is trial 28 with value: 0.06334784001120723.\n"
     ]
    },
    {
     "name": "stdout",
     "output_type": "stream",
     "text": [
      "EvaluatorHoldout: Processed 10040 (100.0%) in 4.76 sec. Users per second: 2107\n"
     ]
    },
    {
     "name": "stderr",
     "output_type": "stream",
     "text": [
      "[I 2023-11-30 18:45:38,912] Trial 30 finished with value: 0.0632573993833183 and parameters: {'alphas[0]': 1.947351161272669, 'alphas[1]': 1.7301409603042999, 'alphas[2]': 0.7677990617259792}. Best is trial 28 with value: 0.06334784001120723.\n"
     ]
    },
    {
     "name": "stdout",
     "output_type": "stream",
     "text": [
      "EvaluatorHoldout: Processed 10040 (100.0%) in 4.73 sec. Users per second: 2121\n"
     ]
    },
    {
     "name": "stderr",
     "output_type": "stream",
     "text": [
      "[I 2023-11-30 18:45:46,766] Trial 31 finished with value: 0.0633268504779069 and parameters: {'alphas[0]': 1.991142989568486, 'alphas[1]': 1.755286468890894, 'alphas[2]': 0.7387562465042435}. Best is trial 28 with value: 0.06334784001120723.\n"
     ]
    },
    {
     "name": "stdout",
     "output_type": "stream",
     "text": [
      "EvaluatorHoldout: Processed 10040 (100.0%) in 4.76 sec. Users per second: 2109\n"
     ]
    },
    {
     "name": "stderr",
     "output_type": "stream",
     "text": [
      "[I 2023-11-30 18:45:54,663] Trial 32 finished with value: 0.06327497998055637 and parameters: {'alphas[0]': 1.9772924564644887, 'alphas[1]': 1.5453140634988802, 'alphas[2]': 0.6543772248897913}. Best is trial 28 with value: 0.06334784001120723.\n"
     ]
    },
    {
     "name": "stdout",
     "output_type": "stream",
     "text": [
      "EvaluatorHoldout: Processed 10040 (100.0%) in 4.79 sec. Users per second: 2097\n"
     ]
    },
    {
     "name": "stderr",
     "output_type": "stream",
     "text": [
      "[I 2023-11-30 18:46:02,644] Trial 33 finished with value: 0.06313931106325514 and parameters: {'alphas[0]': 1.780286505898067, 'alphas[1]': 1.8389256250220354, 'alphas[2]': 0.9395466090014654}. Best is trial 28 with value: 0.06334784001120723.\n"
     ]
    },
    {
     "name": "stdout",
     "output_type": "stream",
     "text": [
      "EvaluatorHoldout: Processed 10040 (100.0%) in 4.82 sec. Users per second: 2082\n"
     ]
    },
    {
     "name": "stderr",
     "output_type": "stream",
     "text": [
      "[I 2023-11-30 18:46:10,686] Trial 34 finished with value: 0.06335093962145866 and parameters: {'alphas[0]': 1.8659557559271502, 'alphas[1]': 1.5401566412071448, 'alphas[2]': 0.5632380125609343}. Best is trial 34 with value: 0.06335093962145866.\n"
     ]
    },
    {
     "name": "stdout",
     "output_type": "stream",
     "text": [
      "EvaluatorHoldout: Processed 10040 (100.0%) in 4.80 sec. Users per second: 2092\n"
     ]
    },
    {
     "name": "stderr",
     "output_type": "stream",
     "text": [
      "[I 2023-11-30 18:46:18,700] Trial 35 finished with value: 0.06315154378392193 and parameters: {'alphas[0]': 1.8450993153679172, 'alphas[1]': 1.641346339977991, 'alphas[2]': 0.8221260193067326}. Best is trial 34 with value: 0.06335093962145866.\n"
     ]
    },
    {
     "name": "stdout",
     "output_type": "stream",
     "text": [
      "EvaluatorHoldout: Processed 10040 (100.0%) in 4.80 sec. Users per second: 2093\n"
     ]
    },
    {
     "name": "stderr",
     "output_type": "stream",
     "text": [
      "[I 2023-11-30 18:46:26,994] Trial 36 finished with value: 0.06333921580935009 and parameters: {'alphas[0]': 1.9901503746264804, 'alphas[1]': 1.7441471406805393, 'alphas[2]': 0.7492072439358564}. Best is trial 34 with value: 0.06335093962145866.\n"
     ]
    },
    {
     "name": "stdout",
     "output_type": "stream",
     "text": [
      "EvaluatorHoldout: Processed 10040 (100.0%) in 4.75 sec. Users per second: 2116\n"
     ]
    },
    {
     "name": "stderr",
     "output_type": "stream",
     "text": [
      "[I 2023-11-30 18:46:34,966] Trial 37 finished with value: 0.0632672060404137 and parameters: {'alphas[0]': 1.9830306742105754, 'alphas[1]': 1.9699644552646483, 'alphas[2]': 0.7545503868213252}. Best is trial 34 with value: 0.06335093962145866.\n"
     ]
    },
    {
     "name": "stdout",
     "output_type": "stream",
     "text": [
      "EvaluatorHoldout: Processed 10040 (100.0%) in 4.77 sec. Users per second: 2107\n"
     ]
    },
    {
     "name": "stderr",
     "output_type": "stream",
     "text": [
      "[I 2023-11-30 18:46:42,838] Trial 38 finished with value: 0.06318600343523863 and parameters: {'alphas[0]': 1.8748006669243489, 'alphas[1]': 1.7664084843152204, 'alphas[2]': 0.8870173543058615}. Best is trial 34 with value: 0.06335093962145866.\n"
     ]
    },
    {
     "name": "stdout",
     "output_type": "stream",
     "text": [
      "EvaluatorHoldout: Processed 10040 (100.0%) in 4.75 sec. Users per second: 2114\n"
     ]
    },
    {
     "name": "stderr",
     "output_type": "stream",
     "text": [
      "[I 2023-11-30 18:46:50,744] Trial 39 finished with value: 0.06301797072857451 and parameters: {'alphas[0]': 1.7155255939117722, 'alphas[1]': 1.8585113175193961, 'alphas[2]': 1.1770072190833092}. Best is trial 34 with value: 0.06335093962145866.\n"
     ]
    },
    {
     "name": "stdout",
     "output_type": "stream",
     "text": [
      "EvaluatorHoldout: Processed 10040 (100.0%) in 4.82 sec. Users per second: 2083\n"
     ]
    },
    {
     "name": "stderr",
     "output_type": "stream",
     "text": [
      "[I 2023-11-30 18:46:58,887] Trial 40 finished with value: 0.06320412724260424 and parameters: {'alphas[0]': 1.88773793376185, 'alphas[1]': 1.7096427018536833, 'alphas[2]': 0.7452217973461924}. Best is trial 34 with value: 0.06335093962145866.\n"
     ]
    },
    {
     "name": "stdout",
     "output_type": "stream",
     "text": [
      "EvaluatorHoldout: Processed 10040 (100.0%) in 4.72 sec. Users per second: 2127\n"
     ]
    },
    {
     "name": "stderr",
     "output_type": "stream",
     "text": [
      "[I 2023-11-30 18:47:06,759] Trial 41 finished with value: 0.06332337146438174 and parameters: {'alphas[0]': 1.706626943624191, 'alphas[1]': 1.567505359354322, 'alphas[2]': 0.5772612411788566}. Best is trial 34 with value: 0.06335093962145866.\n"
     ]
    },
    {
     "name": "stdout",
     "output_type": "stream",
     "text": [
      "EvaluatorHoldout: Processed 10040 (100.0%) in 4.77 sec. Users per second: 2104\n"
     ]
    },
    {
     "name": "stderr",
     "output_type": "stream",
     "text": [
      "[I 2023-11-30 18:47:14,641] Trial 42 finished with value: 0.06313208869297306 and parameters: {'alphas[0]': 1.7308147888373475, 'alphas[1]': 1.5588252844148618, 'alphas[2]': 0.8852292309843575}. Best is trial 34 with value: 0.06335093962145866.\n"
     ]
    },
    {
     "name": "stdout",
     "output_type": "stream",
     "text": [
      "EvaluatorHoldout: Processed 10040 (100.0%) in 4.82 sec. Users per second: 2082\n"
     ]
    },
    {
     "name": "stderr",
     "output_type": "stream",
     "text": [
      "[I 2023-11-30 18:47:22,686] Trial 43 finished with value: 0.06330766934466708 and parameters: {'alphas[0]': 1.8986744342010495, 'alphas[1]': 1.671837445281725, 'alphas[2]': 0.537703575459587}. Best is trial 34 with value: 0.06335093962145866.\n"
     ]
    },
    {
     "name": "stdout",
     "output_type": "stream",
     "text": [
      "EvaluatorHoldout: Processed 10040 (100.0%) in 4.86 sec. Users per second: 2065\n"
     ]
    },
    {
     "name": "stderr",
     "output_type": "stream",
     "text": [
      "[I 2023-11-30 18:47:30,763] Trial 44 finished with value: 0.06335215057507414 and parameters: {'alphas[0]': 1.737970567939141, 'alphas[1]': 1.4442510055498483, 'alphas[2]': 0.4155164479845629}. Best is trial 44 with value: 0.06335215057507414.\n"
     ]
    },
    {
     "name": "stdout",
     "output_type": "stream",
     "text": [
      "EvaluatorHoldout: Processed 10040 (100.0%) in 4.81 sec. Users per second: 2088\n"
     ]
    },
    {
     "name": "stderr",
     "output_type": "stream",
     "text": [
      "[I 2023-11-30 18:47:38,700] Trial 45 finished with value: 0.06335200185651928 and parameters: {'alphas[0]': 1.777562649884704, 'alphas[1]': 1.4658714760664509, 'alphas[2]': 0.4285252260849296}. Best is trial 44 with value: 0.06335215057507414.\n"
     ]
    },
    {
     "name": "stdout",
     "output_type": "stream",
     "text": [
      "EvaluatorHoldout: Processed 10040 (100.0%) in 4.79 sec. Users per second: 2097\n"
     ]
    },
    {
     "name": "stderr",
     "output_type": "stream",
     "text": [
      "[I 2023-11-30 18:47:46,694] Trial 46 finished with value: 0.06331126123811609 and parameters: {'alphas[0]': 1.7931462000283362, 'alphas[1]': 1.441058185567321, 'alphas[2]': 0.4246085617974089}. Best is trial 44 with value: 0.06335215057507414.\n"
     ]
    },
    {
     "name": "stdout",
     "output_type": "stream",
     "text": [
      "EvaluatorHoldout: Processed 10040 (100.0%) in 4.76 sec. Users per second: 2109\n"
     ]
    },
    {
     "name": "stderr",
     "output_type": "stream",
     "text": [
      "[I 2023-11-30 18:47:54,582] Trial 47 finished with value: 0.06329681003561946 and parameters: {'alphas[0]': 1.7958757444288906, 'alphas[1]': 1.4355467325919256, 'alphas[2]': 0.4112549097134663}. Best is trial 44 with value: 0.06335215057507414.\n"
     ]
    },
    {
     "name": "stdout",
     "output_type": "stream",
     "text": [
      "EvaluatorHoldout: Processed 10040 (100.0%) in 4.74 sec. Users per second: 2119\n"
     ]
    },
    {
     "name": "stderr",
     "output_type": "stream",
     "text": [
      "[I 2023-11-30 18:48:02,383] Trial 48 finished with value: 0.06327223667060135 and parameters: {'alphas[0]': 1.9137188624341872, 'alphas[1]': 1.4822367677797332, 'alphas[2]': 0.47672850963214697}. Best is trial 44 with value: 0.06335215057507414.\n"
     ]
    },
    {
     "name": "stdout",
     "output_type": "stream",
     "text": [
      "EvaluatorHoldout: Processed 10040 (100.0%) in 4.76 sec. Users per second: 2110\n"
     ]
    },
    {
     "name": "stderr",
     "output_type": "stream",
     "text": [
      "[I 2023-11-30 18:48:10,202] Trial 49 finished with value: 0.06323906755505047 and parameters: {'alphas[0]': 1.7053911502109644, 'alphas[1]': 1.6587275907230465, 'alphas[2]': 0.38752103304027424}. Best is trial 44 with value: 0.06335215057507414.\n"
     ]
    },
    {
     "name": "stdout",
     "output_type": "stream",
     "text": [
      "EvaluatorHoldout: Processed 10040 (100.0%) in 4.75 sec. Users per second: 2113\n"
     ]
    },
    {
     "name": "stderr",
     "output_type": "stream",
     "text": [
      "[I 2023-11-30 18:48:17,968] Trial 50 finished with value: 0.06289255543961694 and parameters: {'alphas[0]': 1.5391479930752254, 'alphas[1]': 1.382104171175594, 'alphas[2]': 0.15334374076822554}. Best is trial 44 with value: 0.06335215057507414.\n"
     ]
    },
    {
     "name": "stdout",
     "output_type": "stream",
     "text": [
      "EvaluatorHoldout: Processed 10040 (100.0%) in 4.77 sec. Users per second: 2104\n"
     ]
    },
    {
     "name": "stderr",
     "output_type": "stream",
     "text": [
      "[I 2023-11-30 18:48:25,874] Trial 51 finished with value: 0.06333766579248633 and parameters: {'alphas[0]': 1.966739195918311, 'alphas[1]': 1.731617511860968, 'alphas[2]': 0.7335545198645961}. Best is trial 44 with value: 0.06335215057507414.\n"
     ]
    },
    {
     "name": "stdout",
     "output_type": "stream",
     "text": [
      "EvaluatorHoldout: Processed 10040 (100.0%) in 4.81 sec. Users per second: 2086\n"
     ]
    },
    {
     "name": "stderr",
     "output_type": "stream",
     "text": [
      "[I 2023-11-30 18:48:33,959] Trial 52 finished with value: 0.06328286245607123 and parameters: {'alphas[0]': 1.9077927992367378, 'alphas[1]': 1.5913174741246392, 'alphas[2]': 0.5182586827673433}. Best is trial 44 with value: 0.06335215057507414.\n"
     ]
    },
    {
     "name": "stdout",
     "output_type": "stream",
     "text": [
      "EvaluatorHoldout: Processed 10040 (100.0%) in 4.72 sec. Users per second: 2127\n"
     ]
    },
    {
     "name": "stderr",
     "output_type": "stream",
     "text": [
      "[I 2023-11-30 18:48:41,891] Trial 53 finished with value: 0.06328977943730235 and parameters: {'alphas[0]': 1.799014604424341, 'alphas[1]': 1.685345911178589, 'alphas[2]': 0.6707383901332766}. Best is trial 44 with value: 0.06335215057507414.\n"
     ]
    },
    {
     "name": "stdout",
     "output_type": "stream",
     "text": [
      "EvaluatorHoldout: Processed 10040 (100.0%) in 4.70 sec. Users per second: 2135\n"
     ]
    },
    {
     "name": "stderr",
     "output_type": "stream",
     "text": [
      "[I 2023-11-30 18:48:49,740] Trial 54 finished with value: 0.06314487745352666 and parameters: {'alphas[0]': 1.8679700539806081, 'alphas[1]': 1.8883705399480373, 'alphas[2]': 0.5401182858050693}. Best is trial 44 with value: 0.06335215057507414.\n"
     ]
    },
    {
     "name": "stdout",
     "output_type": "stream",
     "text": [
      "EvaluatorHoldout: Processed 10040 (100.0%) in 4.74 sec. Users per second: 2119\n"
     ]
    },
    {
     "name": "stderr",
     "output_type": "stream",
     "text": [
      "[I 2023-11-30 18:48:57,533] Trial 55 finished with value: 0.06305876381096905 and parameters: {'alphas[0]': 1.6349706918044524, 'alphas[1]': 1.7689067614255674, 'alphas[2]': 0.46166793115475274}. Best is trial 44 with value: 0.06335215057507414.\n"
     ]
    },
    {
     "name": "stdout",
     "output_type": "stream",
     "text": [
      "EvaluatorHoldout: Processed 10040 (100.0%) in 4.72 sec. Users per second: 2127\n"
     ]
    },
    {
     "name": "stderr",
     "output_type": "stream",
     "text": [
      "[I 2023-11-30 18:49:05,306] Trial 56 finished with value: 0.06325145486020124 and parameters: {'alphas[0]': 1.6521494224113136, 'alphas[1]': 1.4924710772392575, 'alphas[2]': 0.36088971714900425}. Best is trial 44 with value: 0.06335215057507414.\n"
     ]
    },
    {
     "name": "stdout",
     "output_type": "stream",
     "text": [
      "EvaluatorHoldout: Processed 10040 (100.0%) in 4.73 sec. Users per second: 2124\n"
     ]
    },
    {
     "name": "stderr",
     "output_type": "stream",
     "text": [
      "[I 2023-11-30 18:49:13,075] Trial 57 finished with value: 0.06314361568277152 and parameters: {'alphas[0]': 1.7165409391683484, 'alphas[1]': 1.2525396629531151, 'alphas[2]': 0.7150829162409776}. Best is trial 44 with value: 0.06335215057507414.\n"
     ]
    },
    {
     "name": "stdout",
     "output_type": "stream",
     "text": [
      "EvaluatorHoldout: Processed 10040 (100.0%) in 4.79 sec. Users per second: 2097\n"
     ]
    },
    {
     "name": "stderr",
     "output_type": "stream",
     "text": [
      "[I 2023-11-30 18:49:20,825] Trial 58 finished with value: 0.06316456401340959 and parameters: {'alphas[0]': 1.8329516256799805, 'alphas[1]': 1.5777142415689853, 'alphas[2]': 0.8525881562993559}. Best is trial 44 with value: 0.06335215057507414.\n"
     ]
    },
    {
     "name": "stdout",
     "output_type": "stream",
     "text": [
      "EvaluatorHoldout: Processed 10040 (100.0%) in 4.76 sec. Users per second: 2107\n"
     ]
    },
    {
     "name": "stderr",
     "output_type": "stream",
     "text": [
      "[I 2023-11-30 18:49:28,854] Trial 59 finished with value: 0.06322994162804552 and parameters: {'alphas[0]': 1.9899296694684134, 'alphas[1]': 1.9051152463308685, 'alphas[2]': 0.8172817087720187}. Best is trial 44 with value: 0.06335215057507414.\n"
     ]
    },
    {
     "name": "stdout",
     "output_type": "stream",
     "text": [
      "EvaluatorHoldout: Processed 10040 (100.0%) in 4.79 sec. Users per second: 2095\n"
     ]
    },
    {
     "name": "stderr",
     "output_type": "stream",
     "text": [
      "[I 2023-11-30 18:49:36,704] Trial 60 finished with value: 0.06324805580524948 and parameters: {'alphas[0]': 1.921406482938629, 'alphas[1]': 1.4166153953619918, 'alphas[2]': 0.5910436355806318}. Best is trial 44 with value: 0.06335215057507414.\n"
     ]
    },
    {
     "name": "stdout",
     "output_type": "stream",
     "text": [
      "EvaluatorHoldout: Processed 10040 (100.0%) in 4.77 sec. Users per second: 2104\n"
     ]
    },
    {
     "name": "stderr",
     "output_type": "stream",
     "text": [
      "[I 2023-11-30 18:49:44,981] Trial 61 finished with value: 0.06330630683363789 and parameters: {'alphas[0]': 1.9860850701856756, 'alphas[1]': 1.7533685777341248, 'alphas[2]': 0.7049295267173216}. Best is trial 44 with value: 0.06335215057507414.\n"
     ]
    },
    {
     "name": "stdout",
     "output_type": "stream",
     "text": [
      "EvaluatorHoldout: Processed 10040 (100.0%) in 4.72 sec. Users per second: 2127\n"
     ]
    },
    {
     "name": "stderr",
     "output_type": "stream",
     "text": [
      "[I 2023-11-30 18:49:52,855] Trial 62 finished with value: 0.06327637299755362 and parameters: {'alphas[0]': 1.9312664637681447, 'alphas[1]': 1.7991414754565203, 'alphas[2]': 0.47214526895764086}. Best is trial 44 with value: 0.06335215057507414.\n"
     ]
    },
    {
     "name": "stdout",
     "output_type": "stream",
     "text": [
      "EvaluatorHoldout: Processed 10040 (100.0%) in 4.75 sec. Users per second: 2114\n"
     ]
    },
    {
     "name": "stderr",
     "output_type": "stream",
     "text": [
      "[I 2023-11-30 18:50:00,749] Trial 63 finished with value: 0.06332809712899465 and parameters: {'alphas[0]': 1.9982006131133423, 'alphas[1]': 1.6387167599985413, 'alphas[2]': 0.5968388965474973}. Best is trial 44 with value: 0.06335215057507414.\n"
     ]
    },
    {
     "name": "stdout",
     "output_type": "stream",
     "text": [
      "EvaluatorHoldout: Processed 10040 (100.0%) in 4.76 sec. Users per second: 2111\n"
     ]
    },
    {
     "name": "stderr",
     "output_type": "stream",
     "text": [
      "[I 2023-11-30 18:50:08,591] Trial 64 finished with value: 0.06332265318607147 and parameters: {'alphas[0]': 1.7761653216073996, 'alphas[1]': 1.6264410029920624, 'alphas[2]': 0.6210607914569253}. Best is trial 44 with value: 0.06335215057507414.\n"
     ]
    },
    {
     "name": "stdout",
     "output_type": "stream",
     "text": [
      "EvaluatorHoldout: Processed 10040 (100.0%) in 4.78 sec. Users per second: 2099\n"
     ]
    },
    {
     "name": "stderr",
     "output_type": "stream",
     "text": [
      "[I 2023-11-30 18:50:16,428] Trial 65 finished with value: 0.06305721155125003 and parameters: {'alphas[0]': 1.8543253495982415, 'alphas[1]': 1.5186623082878978, 'alphas[2]': 0.329399917735223}. Best is trial 44 with value: 0.06335215057507414.\n"
     ]
    },
    {
     "name": "stdout",
     "output_type": "stream",
     "text": [
      "EvaluatorHoldout: Processed 10040 (100.0%) in 4.76 sec. Users per second: 2111\n"
     ]
    },
    {
     "name": "stderr",
     "output_type": "stream",
     "text": [
      "[I 2023-11-30 18:50:24,335] Trial 66 finished with value: 0.06318881939488197 and parameters: {'alphas[0]': 1.6640638640178658, 'alphas[1]': 1.6730980216697755, 'alphas[2]': 0.566921388129217}. Best is trial 44 with value: 0.06335215057507414.\n"
     ]
    },
    {
     "name": "stdout",
     "output_type": "stream",
     "text": [
      "EvaluatorHoldout: Processed 10040 (100.0%) in 4.81 sec. Users per second: 2088\n"
     ]
    },
    {
     "name": "stderr",
     "output_type": "stream",
     "text": [
      "[I 2023-11-30 18:50:32,279] Trial 67 finished with value: 0.06312555897285126 and parameters: {'alphas[0]': 1.7543115519603756, 'alphas[1]': 1.3304994934432322, 'alphas[2]': 0.8019257318466885}. Best is trial 44 with value: 0.06335215057507414.\n"
     ]
    },
    {
     "name": "stdout",
     "output_type": "stream",
     "text": [
      "EvaluatorHoldout: Processed 10040 (100.0%) in 4.85 sec. Users per second: 2072\n"
     ]
    },
    {
     "name": "stderr",
     "output_type": "stream",
     "text": [
      "[I 2023-11-30 18:50:40,680] Trial 68 finished with value: 0.06321025255867421 and parameters: {'alphas[0]': 1.9226106684040953, 'alphas[1]': 1.4731659907510408, 'alphas[2]': 0.6793951441794522}. Best is trial 44 with value: 0.06335215057507414.\n"
     ]
    },
    {
     "name": "stdout",
     "output_type": "stream",
     "text": [
      "EvaluatorHoldout: Processed 10040 (100.0%) in 4.77 sec. Users per second: 2103\n"
     ]
    },
    {
     "name": "stderr",
     "output_type": "stream",
     "text": [
      "[I 2023-11-30 18:50:48,718] Trial 69 finished with value: 0.06303597746830747 and parameters: {'alphas[0]': 1.4881404154340354, 'alphas[1]': 1.7241209564910842, 'alphas[2]': 0.47637561033670917}. Best is trial 44 with value: 0.06335215057507414.\n"
     ]
    },
    {
     "name": "stdout",
     "output_type": "stream",
     "text": [
      "EvaluatorHoldout: Processed 10040 (100.0%) in 4.80 sec. Users per second: 2091\n"
     ]
    },
    {
     "name": "stderr",
     "output_type": "stream",
     "text": [
      "[I 2023-11-30 18:50:56,605] Trial 70 finished with value: 0.06342829511821683 and parameters: {'alphas[0]': 1.849455433517727, 'alphas[1]': 1.5825559104774185, 'alphas[2]': 0.6146994012804048}. Best is trial 70 with value: 0.06342829511821683.\n"
     ]
    },
    {
     "name": "stdout",
     "output_type": "stream",
     "text": [
      "EvaluatorHoldout: Processed 10040 (100.0%) in 4.90 sec. Users per second: 2051\n"
     ]
    },
    {
     "name": "stderr",
     "output_type": "stream",
     "text": [
      "[I 2023-11-30 18:51:04,824] Trial 71 finished with value: 0.063373393692175 and parameters: {'alphas[0]': 1.850676722083627, 'alphas[1]': 1.6080400225943223, 'alphas[2]': 0.6159830166177326}. Best is trial 70 with value: 0.06342829511821683.\n"
     ]
    },
    {
     "name": "stdout",
     "output_type": "stream",
     "text": [
      "EvaluatorHoldout: Processed 10040 (100.0%) in 4.73 sec. Users per second: 2122\n"
     ]
    },
    {
     "name": "stderr",
     "output_type": "stream",
     "text": [
      "[I 2023-11-30 18:51:12,757] Trial 72 finished with value: 0.06337999698735915 and parameters: {'alphas[0]': 1.8248392547742225, 'alphas[1]': 1.5805523497174823, 'alphas[2]': 0.6674776001763262}. Best is trial 70 with value: 0.06342829511821683.\n"
     ]
    },
    {
     "name": "stdout",
     "output_type": "stream",
     "text": [
      "EvaluatorHoldout: Processed 10040 (100.0%) in 4.78 sec. Users per second: 2098\n"
     ]
    },
    {
     "name": "stderr",
     "output_type": "stream",
     "text": [
      "[I 2023-11-30 18:51:20,603] Trial 73 finished with value: 0.0632828419253195 and parameters: {'alphas[0]': 1.8221650552021713, 'alphas[1]': 1.5509376465645952, 'alphas[2]': 0.5186633405032071}. Best is trial 70 with value: 0.06342829511821683.\n"
     ]
    },
    {
     "name": "stdout",
     "output_type": "stream",
     "text": [
      "EvaluatorHoldout: Processed 10040 (100.0%) in 4.71 sec. Users per second: 2132\n"
     ]
    },
    {
     "name": "stderr",
     "output_type": "stream",
     "text": [
      "[I 2023-11-30 18:51:28,448] Trial 74 finished with value: 0.06325600649179534 and parameters: {'alphas[0]': 1.5907581587190112, 'alphas[1]': 1.611041439095058, 'alphas[2]': 0.6334723047707053}. Best is trial 70 with value: 0.06342829511821683.\n"
     ]
    },
    {
     "name": "stdout",
     "output_type": "stream",
     "text": [
      "EvaluatorHoldout: Processed 10040 (100.0%) in 4.70 sec. Users per second: 2137\n"
     ]
    },
    {
     "name": "stderr",
     "output_type": "stream",
     "text": [
      "[I 2023-11-30 18:51:36,286] Trial 75 finished with value: 0.0633502164496459 and parameters: {'alphas[0]': 1.6792761589752647, 'alphas[1]': 1.401838731595355, 'alphas[2]': 0.4179337143637025}. Best is trial 70 with value: 0.06342829511821683.\n"
     ]
    },
    {
     "name": "stdout",
     "output_type": "stream",
     "text": [
      "EvaluatorHoldout: Processed 10040 (100.0%) in 4.69 sec. Users per second: 2140\n"
     ]
    },
    {
     "name": "stderr",
     "output_type": "stream",
     "text": [
      "[I 2023-11-30 18:51:44,067] Trial 76 finished with value: 0.06333462835480932 and parameters: {'alphas[0]': 1.6885996958045923, 'alphas[1]': 1.3707123442939817, 'alphas[2]': 0.41712332292134613}. Best is trial 70 with value: 0.06342829511821683.\n"
     ]
    },
    {
     "name": "stdout",
     "output_type": "stream",
     "text": [
      "EvaluatorHoldout: Processed 10040 (100.0%) in 4.70 sec. Users per second: 2136\n"
     ]
    },
    {
     "name": "stderr",
     "output_type": "stream",
     "text": [
      "[I 2023-11-30 18:51:51,817] Trial 77 finished with value: 0.0630353590833188 and parameters: {'alphas[0]': 1.747923037926924, 'alphas[1]': 1.4192631547431414, 'alphas[2]': 0.2872886043721836}. Best is trial 70 with value: 0.06342829511821683.\n"
     ]
    },
    {
     "name": "stdout",
     "output_type": "stream",
     "text": [
      "EvaluatorHoldout: Processed 10040 (100.0%) in 4.70 sec. Users per second: 2135\n"
     ]
    },
    {
     "name": "stderr",
     "output_type": "stream",
     "text": [
      "[I 2023-11-30 18:51:59,542] Trial 78 finished with value: 0.06336583108232204 and parameters: {'alphas[0]': 1.5599733913166467, 'alphas[1]': 1.311244350581894, 'alphas[2]': 0.3727350603802133}. Best is trial 70 with value: 0.06342829511821683.\n"
     ]
    },
    {
     "name": "stdout",
     "output_type": "stream",
     "text": [
      "EvaluatorHoldout: Processed 10040 (100.0%) in 4.76 sec. Users per second: 2109\n"
     ]
    },
    {
     "name": "stderr",
     "output_type": "stream",
     "text": [
      "[I 2023-11-30 18:52:07,297] Trial 79 finished with value: 0.0632392105174664 and parameters: {'alphas[0]': 1.5320992943265255, 'alphas[1]': 1.4824086016066547, 'alphas[2]': 0.379250286092654}. Best is trial 70 with value: 0.06342829511821683.\n"
     ]
    },
    {
     "name": "stdout",
     "output_type": "stream",
     "text": [
      "EvaluatorHoldout: Processed 10040 (100.0%) in 4.76 sec. Users per second: 2108\n"
     ]
    },
    {
     "name": "stderr",
     "output_type": "stream",
     "text": [
      "[I 2023-11-30 18:52:15,155] Trial 80 finished with value: 0.0629842810196601 and parameters: {'alphas[0]': 1.6217966184133725, 'alphas[1]': 1.311602351032695, 'alphas[2]': 0.23537329730003842}. Best is trial 70 with value: 0.06342829511821683.\n"
     ]
    },
    {
     "name": "stdout",
     "output_type": "stream",
     "text": [
      "EvaluatorHoldout: Processed 10040 (100.0%) in 4.77 sec. Users per second: 2105\n"
     ]
    },
    {
     "name": "stderr",
     "output_type": "stream",
     "text": [
      "[I 2023-11-30 18:52:23,051] Trial 81 finished with value: 0.06340061596333227 and parameters: {'alphas[0]': 1.6769490747684335, 'alphas[1]': 1.5220554260046424, 'alphas[2]': 0.5557088187706994}. Best is trial 70 with value: 0.06342829511821683.\n"
     ]
    },
    {
     "name": "stdout",
     "output_type": "stream",
     "text": [
      "EvaluatorHoldout: Processed 10040 (100.0%) in 4.71 sec. Users per second: 2130\n"
     ]
    },
    {
     "name": "stderr",
     "output_type": "stream",
     "text": [
      "[I 2023-11-30 18:52:30,892] Trial 82 finished with value: 0.06337707258644912 and parameters: {'alphas[0]': 1.6871255377093621, 'alphas[1]': 1.4008958003763294, 'alphas[2]': 0.432623659780369}. Best is trial 70 with value: 0.06342829511821683.\n"
     ]
    },
    {
     "name": "stdout",
     "output_type": "stream",
     "text": [
      "EvaluatorHoldout: Processed 10040 (100.0%) in 4.72 sec. Users per second: 2129\n"
     ]
    },
    {
     "name": "stderr",
     "output_type": "stream",
     "text": [
      "[I 2023-11-30 18:52:38,679] Trial 83 finished with value: 0.06323300034932064 and parameters: {'alphas[0]': 1.5612515780874014, 'alphas[1]': 1.4596055457174903, 'alphas[2]': 0.34663624809328697}. Best is trial 70 with value: 0.06342829511821683.\n"
     ]
    },
    {
     "name": "stdout",
     "output_type": "stream",
     "text": [
      "EvaluatorHoldout: Processed 10040 (100.0%) in 4.71 sec. Users per second: 2132\n"
     ]
    },
    {
     "name": "stderr",
     "output_type": "stream",
     "text": [
      "[I 2023-11-30 18:52:46,429] Trial 84 finished with value: 0.06339572562922897 and parameters: {'alphas[0]': 1.7568235535467314, 'alphas[1]': 1.516330945560971, 'alphas[2]': 0.5505907278937056}. Best is trial 70 with value: 0.06342829511821683.\n"
     ]
    },
    {
     "name": "stdout",
     "output_type": "stream",
     "text": [
      "EvaluatorHoldout: Processed 10040 (100.0%) in 4.77 sec. Users per second: 2105\n"
     ]
    },
    {
     "name": "stderr",
     "output_type": "stream",
     "text": [
      "[I 2023-11-30 18:52:54,360] Trial 85 finished with value: 0.06336992051321026 and parameters: {'alphas[0]': 1.7477313145271496, 'alphas[1]': 1.5075992384280519, 'alphas[2]': 0.4496079285032754}. Best is trial 70 with value: 0.06342829511821683.\n"
     ]
    },
    {
     "name": "stdout",
     "output_type": "stream",
     "text": [
      "EvaluatorHoldout: Processed 10040 (100.0%) in 4.86 sec. Users per second: 2068\n"
     ]
    },
    {
     "name": "stderr",
     "output_type": "stream",
     "text": [
      "[I 2023-11-30 18:53:54,547] Trial 86 finished with value: 0.0632683028750455 and parameters: {'alphas[0]': 1.6117207385404515, 'alphas[1]': 1.595660107944339, 'alphas[2]': 0.5210028871109353}. Best is trial 70 with value: 0.06342829511821683.\n"
     ]
    },
    {
     "name": "stdout",
     "output_type": "stream",
     "text": [
      "EvaluatorHoldout: Processed 10040 (100.0%) in 32.48 sec. Users per second: 309\n"
     ]
    },
    {
     "name": "stderr",
     "output_type": "stream",
     "text": [
      "[I 2023-11-30 18:54:30,261] Trial 87 finished with value: 0.06326960843637278 and parameters: {'alphas[0]': 1.7511874381002663, 'alphas[1]': 1.5187505538498678, 'alphas[2]': 0.4829882585421558}. Best is trial 70 with value: 0.06342829511821683.\n"
     ]
    },
    {
     "name": "stdout",
     "output_type": "stream",
     "text": [
      "EvaluatorHoldout: Processed 10040 (100.0%) in 4.76 sec. Users per second: 2108\n"
     ]
    },
    {
     "name": "stderr",
     "output_type": "stream",
     "text": [
      "[I 2023-11-30 18:54:38,234] Trial 88 finished with value: 0.06324769682293732 and parameters: {'alphas[0]': 1.4553210747514074, 'alphas[1]': 1.2882621767343647, 'alphas[2]': 0.3198880135628399}. Best is trial 70 with value: 0.06342829511821683.\n"
     ]
    },
    {
     "name": "stdout",
     "output_type": "stream",
     "text": [
      "EvaluatorHoldout: Processed 10040 (100.0%) in 47.56 sec. Users per second: 211\n"
     ]
    },
    {
     "name": "stderr",
     "output_type": "stream",
     "text": [
      "[I 2023-11-30 18:55:28,946] Trial 89 finished with value: 0.06327734098564168 and parameters: {'alphas[0]': 1.661189566781028, 'alphas[1]': 1.3745322875269286, 'alphas[2]': 0.6445036689163405}. Best is trial 70 with value: 0.06342829511821683.\n"
     ]
    },
    {
     "name": "stdout",
     "output_type": "stream",
     "text": [
      "EvaluatorHoldout: Processed 10040 (100.0%) in 4.74 sec. Users per second: 2118\n"
     ]
    },
    {
     "name": "stderr",
     "output_type": "stream",
     "text": [
      "[I 2023-11-30 18:55:36,839] Trial 90 finished with value: 0.06327043306993717 and parameters: {'alphas[0]': 1.82182718113342, 'alphas[1]': 1.2134058225840283, 'alphas[2]': 0.5635969853232905}. Best is trial 70 with value: 0.06342829511821683.\n"
     ]
    },
    {
     "name": "stdout",
     "output_type": "stream",
     "text": [
      "EvaluatorHoldout: Processed 10040 (100.0%) in 42.73 sec. Users per second: 235\n"
     ]
    },
    {
     "name": "stderr",
     "output_type": "stream",
     "text": [
      "[I 2023-11-30 18:56:22,679] Trial 91 finished with value: 0.06336470501215075 and parameters: {'alphas[0]': 1.7858386068951668, 'alphas[1]': 1.5022502221005696, 'alphas[2]': 0.463123815094423}. Best is trial 70 with value: 0.06342829511821683.\n"
     ]
    },
    {
     "name": "stdout",
     "output_type": "stream",
     "text": [
      "EvaluatorHoldout: Processed 10040 (100.0%) in 4.78 sec. Users per second: 2100\n"
     ]
    },
    {
     "name": "stderr",
     "output_type": "stream",
     "text": [
      "[I 2023-11-30 18:56:30,615] Trial 92 finished with value: 0.06318705806341259 and parameters: {'alphas[0]': 1.72756156229007, 'alphas[1]': 1.3310930337888065, 'alphas[2]': 0.45515156184758787}. Best is trial 70 with value: 0.06342829511821683.\n"
     ]
    },
    {
     "name": "stdout",
     "output_type": "stream",
     "text": [
      "EvaluatorHoldout: Processed 10040 (100.0%) in 4.71 sec. Users per second: 2132\n"
     ]
    },
    {
     "name": "stderr",
     "output_type": "stream",
     "text": [
      "[I 2023-11-30 18:56:38,354] Trial 93 finished with value: 0.0631389858492458 and parameters: {'alphas[0]': 1.8665139556054333, 'alphas[1]': 1.5103184800433593, 'alphas[2]': 0.37130400890378534}. Best is trial 70 with value: 0.06342829511821683.\n"
     ]
    },
    {
     "name": "stdout",
     "output_type": "stream",
     "text": [
      "EvaluatorHoldout: Processed 10040 (100.0%) in 4.72 sec. Users per second: 2128\n"
     ]
    },
    {
     "name": "stderr",
     "output_type": "stream",
     "text": [
      "[I 2023-11-30 18:56:46,079] Trial 94 finished with value: 0.06330063565654227 and parameters: {'alphas[0]': 1.6929370574797167, 'alphas[1]': 1.568910284288674, 'alphas[2]': 0.5142448394974231}. Best is trial 70 with value: 0.06342829511821683.\n"
     ]
    },
    {
     "name": "stdout",
     "output_type": "stream",
     "text": [
      "EvaluatorHoldout: Processed 1000 (10.0%) in 40.39 min. Users per second: 0\n",
      "EvaluatorHoldout: Processed 10040 (100.0%) in 40.46 min. Users per second: 4\n"
     ]
    },
    {
     "name": "stderr",
     "output_type": "stream",
     "text": [
      "[I 2023-11-30 19:37:16,747] Trial 95 finished with value: 0.06302234230437759 and parameters: {'alphas[0]': 1.814961864858493, 'alphas[1]': 1.41572837244451, 'alphas[2]': 0.29444752818385067}. Best is trial 70 with value: 0.06342829511821683.\n"
     ]
    },
    {
     "name": "stdout",
     "output_type": "stream",
     "text": [
      "EvaluatorHoldout: Processed 10040 (100.0%) in 4.80 sec. Users per second: 2090\n"
     ]
    },
    {
     "name": "stderr",
     "output_type": "stream",
     "text": [
      "[I 2023-11-30 19:37:24,697] Trial 96 finished with value: 0.0634070899257592 and parameters: {'alphas[0]': 1.7511313997515698, 'alphas[1]': 1.6189158764460436, 'alphas[2]': 0.561548653924696}. Best is trial 70 with value: 0.06342829511821683.\n"
     ]
    },
    {
     "name": "stdout",
     "output_type": "stream",
     "text": [
      "EvaluatorHoldout: Processed 10040 (100.0%) in 4.73 sec. Users per second: 2124\n"
     ]
    },
    {
     "name": "stderr",
     "output_type": "stream",
     "text": [
      "[I 2023-11-30 19:37:32,651] Trial 97 finished with value: 0.06308342878799733 and parameters: {'alphas[0]': 1.6316932924768623, 'alphas[1]': 1.6929450126902108, 'alphas[2]': 0.5647609617286764}. Best is trial 70 with value: 0.06342829511821683.\n"
     ]
    },
    {
     "name": "stdout",
     "output_type": "stream",
     "text": [
      "EvaluatorHoldout: Processed 10040 (100.0%) in 4.71 sec. Users per second: 2133\n"
     ]
    },
    {
     "name": "stderr",
     "output_type": "stream",
     "text": [
      "[I 2023-11-30 19:37:40,520] Trial 98 finished with value: 0.06321172456181817 and parameters: {'alphas[0]': 1.7687269897164744, 'alphas[1]': 1.6375843430784842, 'alphas[2]': 0.6935641946660192}. Best is trial 70 with value: 0.06342829511821683.\n"
     ]
    },
    {
     "name": "stdout",
     "output_type": "stream",
     "text": [
      "EvaluatorHoldout: Processed 10040 (100.0%) in 4.71 sec. Users per second: 2130\n"
     ]
    },
    {
     "name": "stderr",
     "output_type": "stream",
     "text": [
      "[I 2023-11-30 19:37:48,250] Trial 99 finished with value: 0.06325774951968378 and parameters: {'alphas[0]': 1.568781071233158, 'alphas[1]': 1.5881605879343785, 'alphas[2]': 0.6231252426890408}. Best is trial 70 with value: 0.06342829511821683.\n"
     ]
    },
    {
     "name": "stdout",
     "output_type": "stream",
     "text": [
      "EvaluatorHoldout: Processed 10040 (100.0%) in 4.70 sec. Users per second: 2138\n"
     ]
    },
    {
     "name": "stderr",
     "output_type": "stream",
     "text": [
      "[I 2023-11-30 19:37:56,007] Trial 100 finished with value: 0.06337570698561246 and parameters: {'alphas[0]': 1.890148878587857, 'alphas[1]': 1.5188808179622573, 'alphas[2]': 0.5417596338538787}. Best is trial 70 with value: 0.06342829511821683.\n"
     ]
    },
    {
     "name": "stdout",
     "output_type": "stream",
     "text": [
      "EvaluatorHoldout: Processed 10040 (100.0%) in 4.70 sec. Users per second: 2137\n"
     ]
    },
    {
     "name": "stderr",
     "output_type": "stream",
     "text": [
      "[I 2023-11-30 19:38:03,736] Trial 101 finished with value: 0.06336125835534144 and parameters: {'alphas[0]': 1.848353375201704, 'alphas[1]': 1.503763069166438, 'alphas[2]': 0.5373757680832923}. Best is trial 70 with value: 0.06342829511821683.\n"
     ]
    },
    {
     "name": "stdout",
     "output_type": "stream",
     "text": [
      "EvaluatorHoldout: Processed 10040 (100.0%) in 4.69 sec. Users per second: 2140\n"
     ]
    },
    {
     "name": "stderr",
     "output_type": "stream",
     "text": [
      "[I 2023-11-30 19:38:11,405] Trial 102 finished with value: 0.06331529357814372 and parameters: {'alphas[0]': 1.8878269457891979, 'alphas[1]': 1.5610106793397898, 'alphas[2]': 0.49546139352691654}. Best is trial 70 with value: 0.06342829511821683.\n"
     ]
    },
    {
     "name": "stdout",
     "output_type": "stream",
     "text": [
      "EvaluatorHoldout: Processed 10040 (100.0%) in 4.70 sec. Users per second: 2134\n"
     ]
    },
    {
     "name": "stderr",
     "output_type": "stream",
     "text": [
      "[I 2023-11-30 19:38:19,067] Trial 103 finished with value: 0.06333555485791756 and parameters: {'alphas[0]': 1.7830141506340569, 'alphas[1]': 1.52808152592195, 'alphas[2]': 0.4407273052926813}. Best is trial 70 with value: 0.06342829511821683.\n"
     ]
    },
    {
     "name": "stdout",
     "output_type": "stream",
     "text": [
      "EvaluatorHoldout: Processed 10040 (100.0%) in 4.69 sec. Users per second: 2140\n"
     ]
    },
    {
     "name": "stderr",
     "output_type": "stream",
     "text": [
      "[I 2023-11-30 19:38:26,689] Trial 104 finished with value: 0.06328428756315109 and parameters: {'alphas[0]': 1.9366343096826462, 'alphas[1]': 1.609028195670554, 'alphas[2]': 0.6573954894018337}. Best is trial 70 with value: 0.06342829511821683.\n"
     ]
    },
    {
     "name": "stdout",
     "output_type": "stream",
     "text": [
      "EvaluatorHoldout: Processed 10040 (100.0%) in 4.69 sec. Users per second: 2141\n"
     ]
    },
    {
     "name": "stderr",
     "output_type": "stream",
     "text": [
      "[I 2023-11-30 19:38:34,348] Trial 105 finished with value: 0.06323635977004043 and parameters: {'alphas[0]': 1.8832457767947726, 'alphas[1]': 1.4673164765043216, 'alphas[2]': 0.5859075449182707}. Best is trial 70 with value: 0.06342829511821683.\n"
     ]
    },
    {
     "name": "stdout",
     "output_type": "stream",
     "text": [
      "EvaluatorHoldout: Processed 10040 (100.0%) in 4.70 sec. Users per second: 2138\n"
     ]
    },
    {
     "name": "stderr",
     "output_type": "stream",
     "text": [
      "[I 2023-11-30 19:38:42,161] Trial 106 finished with value: 0.06326850361843113 and parameters: {'alphas[0]': 1.7180587675358594, 'alphas[1]': 1.6938901899972436, 'alphas[2]': 0.45763180333212883}. Best is trial 70 with value: 0.06342829511821683.\n"
     ]
    },
    {
     "name": "stdout",
     "output_type": "stream",
     "text": [
      "EvaluatorHoldout: Processed 10040 (100.0%) in 4.73 sec. Users per second: 2123\n"
     ]
    },
    {
     "name": "stderr",
     "output_type": "stream",
     "text": [
      "[I 2023-11-30 19:38:50,072] Trial 107 finished with value: 0.0632193170659512 and parameters: {'alphas[0]': 1.82075259959534, 'alphas[1]': 1.6343586097354195, 'alphas[2]': 0.3900861348253339}. Best is trial 70 with value: 0.06342829511821683.\n"
     ]
    },
    {
     "name": "stdout",
     "output_type": "stream",
     "text": [
      "EvaluatorHoldout: Processed 10040 (100.0%) in 4.69 sec. Users per second: 2140\n"
     ]
    },
    {
     "name": "stderr",
     "output_type": "stream",
     "text": [
      "[I 2023-11-30 19:38:57,795] Trial 108 finished with value: 0.06313940609444307 and parameters: {'alphas[0]': 1.6642120222525414, 'alphas[1]': 1.539545977873101, 'alphas[2]': 0.770311128100876}. Best is trial 70 with value: 0.06342829511821683.\n"
     ]
    },
    {
     "name": "stdout",
     "output_type": "stream",
     "text": [
      "EvaluatorHoldout: Processed 10040 (100.0%) in 4.70 sec. Users per second: 2137\n"
     ]
    },
    {
     "name": "stderr",
     "output_type": "stream",
     "text": [
      "[I 2023-11-30 19:39:05,499] Trial 109 finished with value: 0.06320243740018487 and parameters: {'alphas[0]': 1.9542255933414474, 'alphas[1]': 1.3850321243345163, 'alphas[2]': 0.6052265842586664}. Best is trial 70 with value: 0.06342829511821683.\n"
     ]
    },
    {
     "name": "stdout",
     "output_type": "stream",
     "text": [
      "EvaluatorHoldout: Processed 10040 (100.0%) in 4.70 sec. Users per second: 2136\n"
     ]
    },
    {
     "name": "stderr",
     "output_type": "stream",
     "text": [
      "[I 2023-11-30 19:39:13,232] Trial 110 finished with value: 0.06327801189735889 and parameters: {'alphas[0]': 1.7580142207516298, 'alphas[1]': 1.4377842230204905, 'alphas[2]': 0.7051240075905801}. Best is trial 70 with value: 0.06342829511821683.\n"
     ]
    },
    {
     "name": "stdout",
     "output_type": "stream",
     "text": [
      "EvaluatorHoldout: Processed 10040 (100.0%) in 1.28 min. Users per second: 130\n"
     ]
    },
    {
     "name": "stderr",
     "output_type": "stream",
     "text": [
      "[I 2023-11-30 19:40:33,290] Trial 111 finished with value: 0.06333353470409109 and parameters: {'alphas[0]': 1.830614417099736, 'alphas[1]': 1.5005977716377117, 'alphas[2]': 0.5485051935036509}. Best is trial 70 with value: 0.06342829511821683.\n"
     ]
    },
    {
     "name": "stdout",
     "output_type": "stream",
     "text": [
      "EvaluatorHoldout: Processed 10040 (100.0%) in 4.80 sec. Users per second: 2091\n"
     ]
    },
    {
     "name": "stderr",
     "output_type": "stream",
     "text": [
      "[I 2023-11-30 19:40:42,253] Trial 112 finished with value: 0.06333111690614693 and parameters: {'alphas[0]': 1.8623043342997754, 'alphas[1]': 1.4968970315920735, 'alphas[2]': 0.5010507717195211}. Best is trial 70 with value: 0.06342829511821683.\n"
     ]
    },
    {
     "name": "stdout",
     "output_type": "stream",
     "text": [
      "EvaluatorHoldout: Processed 10040 (100.0%) in 4.79 sec. Users per second: 2098\n"
     ]
    },
    {
     "name": "stderr",
     "output_type": "stream",
     "text": [
      "[I 2023-11-30 19:40:50,394] Trial 113 finished with value: 0.06329655772224771 and parameters: {'alphas[0]': 1.7921479164903509, 'alphas[1]': 1.6553394029281, 'alphas[2]': 0.5470720547959244}. Best is trial 70 with value: 0.06342829511821683.\n"
     ]
    },
    {
     "name": "stdout",
     "output_type": "stream",
     "text": [
      "EvaluatorHoldout: Processed 10040 (100.0%) in 4.73 sec. Users per second: 2123\n"
     ]
    },
    {
     "name": "stderr",
     "output_type": "stream",
     "text": [
      "[I 2023-11-30 19:40:58,602] Trial 114 finished with value: 0.06338752869913625 and parameters: {'alphas[0]': 1.897708373644908, 'alphas[1]': 1.5944545756143258, 'alphas[2]': 0.6504265285078046}. Best is trial 70 with value: 0.06342829511821683.\n"
     ]
    },
    {
     "name": "stdout",
     "output_type": "stream",
     "text": [
      "EvaluatorHoldout: Processed 10040 (100.0%) in 4.71 sec. Users per second: 2131\n"
     ]
    },
    {
     "name": "stderr",
     "output_type": "stream",
     "text": [
      "[I 2023-11-30 19:41:06,475] Trial 115 finished with value: 0.06332065936618846 and parameters: {'alphas[0]': 1.94314068444579, 'alphas[1]': 1.5791487514521507, 'alphas[2]': 0.5997588607648583}. Best is trial 70 with value: 0.06342829511821683.\n"
     ]
    },
    {
     "name": "stdout",
     "output_type": "stream",
     "text": [
      "EvaluatorHoldout: Processed 10040 (100.0%) in 4.69 sec. Users per second: 2139\n"
     ]
    },
    {
     "name": "stderr",
     "output_type": "stream",
     "text": [
      "[I 2023-11-30 19:41:14,253] Trial 116 finished with value: 0.06330614962987548 and parameters: {'alphas[0]': 1.8968188105261035, 'alphas[1]': 1.6588830969462802, 'alphas[2]': 0.6547453122080213}. Best is trial 70 with value: 0.06342829511821683.\n"
     ]
    },
    {
     "name": "stdout",
     "output_type": "stream",
     "text": [
      "EvaluatorHoldout: Processed 10040 (100.0%) in 4.73 sec. Users per second: 2123\n"
     ]
    },
    {
     "name": "stderr",
     "output_type": "stream",
     "text": [
      "[I 2023-11-30 19:41:22,091] Trial 117 finished with value: 0.06328933047414764 and parameters: {'alphas[0]': 1.7002826153576542, 'alphas[1]': 1.5971406030733333, 'alphas[2]': 0.44271323102158794}. Best is trial 70 with value: 0.06342829511821683.\n"
     ]
    },
    {
     "name": "stdout",
     "output_type": "stream",
     "text": [
      "EvaluatorHoldout: Processed 10040 (100.0%) in 4.80 sec. Users per second: 2091\n"
     ]
    },
    {
     "name": "stderr",
     "output_type": "stream",
     "text": [
      "[I 2023-11-30 19:41:30,206] Trial 118 finished with value: 0.06325674401474463 and parameters: {'alphas[0]': 1.7333472273622994, 'alphas[1]': 1.4492817050030014, 'alphas[2]': 0.4898722963901122}. Best is trial 70 with value: 0.06342829511821683.\n"
     ]
    },
    {
     "name": "stdout",
     "output_type": "stream",
     "text": [
      "EvaluatorHoldout: Processed 10040 (100.0%) in 4.77 sec. Users per second: 2105\n"
     ]
    },
    {
     "name": "stderr",
     "output_type": "stream",
     "text": [
      "[I 2023-11-30 19:41:38,293] Trial 119 finished with value: 0.06327030047484533 and parameters: {'alphas[0]': 1.6109830967444043, 'alphas[1]': 1.5449100346668938, 'alphas[2]': 0.6766364881269115}. Best is trial 70 with value: 0.06342829511821683.\n"
     ]
    }
   ],
   "source": [
    "best_params = {\n",
    "    \"alphas\": [1, 1, 1],\n",
    "}\n",
    "\n",
    "study_name = \"hybrid-zscore-study\"  # Unique identifier of the study.\n",
    "storage_name = \"sqlite:///db.db\"\n",
    "study = op.create_study(study_name=study_name, storage=storage_name, direction=\"maximize\", load_if_exists=True)\n",
    "#study.enqueue_trial(best_params)\n",
    "study.optimize(objective, n_trials=100)"
   ]
  },
  {
   "cell_type": "code",
   "execution_count": 11,
   "id": "f18968c2188a349a",
   "metadata": {
    "collapsed": false,
    "ExecuteTime": {
     "end_time": "2023-11-30T18:41:49.744396Z",
     "start_time": "2023-11-30T18:41:49.731607Z"
    }
   },
   "outputs": [
    {
     "data": {
      "text/plain": "{'alphas[0]': 1.849455433517727,\n 'alphas[1]': 1.5825559104774185,\n 'alphas[2]': 0.6146994012804048}"
     },
     "execution_count": 11,
     "metadata": {},
     "output_type": "execute_result"
    }
   ],
   "source": [
    "study.best_params"
   ]
  },
  {
   "cell_type": "code",
   "execution_count": 12,
   "id": "7ae12a0ef4bc0baa",
   "metadata": {
    "collapsed": false,
    "ExecuteTime": {
     "end_time": "2023-11-30T18:41:54.750038Z",
     "start_time": "2023-11-30T18:41:51.512283Z"
    }
   },
   "outputs": [
    {
     "name": "stdout",
     "output_type": "stream",
     "text": [
      "SLIMElasticNetRP3betaItemKNNCFZScoreNormHybridRecommender: URM Detected 227 ( 1.8%) users with no interactions.\n",
      "SLIMElasticNetRP3betaItemKNNCFZScoreNormHybridRecommender: URM Detected 135 ( 0.6%) items with no interactions.\n"
     ]
    }
   ],
   "source": [
    "final = model(URM_train_validation, [slim, rp3, itemknn])\n",
    "final.fit(alphas=[study.best_params[\"alphas[0]\"], study.best_params[\"alphas[1]\"], study.best_params[\"alphas[2]\"]])\n",
    "#final.fit(**study.best_params)"
   ]
  },
  {
   "cell_type": "code",
   "execution_count": 13,
   "id": "1a0a3570fbcb348b",
   "metadata": {
    "collapsed": false,
    "ExecuteTime": {
     "end_time": "2023-11-30T18:42:00.433465Z",
     "start_time": "2023-11-30T18:41:55.492575Z"
    }
   },
   "outputs": [
    {
     "name": "stdout",
     "output_type": "stream",
     "text": [
      "EvaluatorHoldout: Ignoring 2183 (17.3%) Users that have less than 1 test interactions\n",
      "EvaluatorHoldout: Ignoring 0 Users\n",
      "EvaluatorHoldout: Processed 10455 (100.0%) in 4.93 sec. Users per second: 2122\n"
     ]
    },
    {
     "data": {
      "text/plain": "(       PRECISION PRECISION_RECALL_MIN_DEN   RECALL       MAP MAP_MIN_DEN  \\\n cutoff                                                                     \n 10      0.087996                 0.149484  0.12505  0.045037    0.075668   \n \n              MRR      NDCG        F1  HIT_RATE ARHR_ALL_HITS  ...  \\\n cutoff                                                        ...   \n 10      0.254339  0.138042  0.103301  0.491822      0.334334  ...   \n \n        COVERAGE_USER COVERAGE_USER_HIT USERS_IN_GT DIVERSITY_GINI  \\\n cutoff                                                              \n 10          0.827267          0.406868    0.827267       0.061158   \n \n        SHANNON_ENTROPY RATIO_DIVERSITY_HERFINDAHL RATIO_DIVERSITY_GINI  \\\n cutoff                                                                   \n 10           10.257095                   0.997729             0.175433   \n \n        RATIO_SHANNON_ENTROPY RATIO_AVERAGE_POPULARITY RATIO_NOVELTY  \n cutoff                                                               \n 10                  0.790218                   1.7794        0.2883  \n \n [1 rows x 27 columns],\n 'CUTOFF: 10 - PRECISION: 0.0879962, PRECISION_RECALL_MIN_DEN: 0.1494840, RECALL: 0.1250502, MAP: 0.0450370, MAP_MIN_DEN: 0.0756680, MRR: 0.2543395, NDCG: 0.1380420, F1: 0.1033009, HIT_RATE: 0.4918221, ARHR_ALL_HITS: 0.3343344, NOVELTY: 0.0051032, AVERAGE_POPULARITY: 0.2203824, DIVERSITY_MEAN_INTER_LIST: 0.9737647, DIVERSITY_HERFINDAHL: 0.9973672, COVERAGE_ITEM: 0.3362884, COVERAGE_ITEM_HIT: 0.0841508, ITEMS_IN_GT: 0.8008280, COVERAGE_USER: 0.8272670, COVERAGE_USER_HIT: 0.4068682, USERS_IN_GT: 0.8272670, DIVERSITY_GINI: 0.0611582, SHANNON_ENTROPY: 10.2570950, RATIO_DIVERSITY_HERFINDAHL: 0.9977292, RATIO_DIVERSITY_GINI: 0.1754326, RATIO_SHANNON_ENTROPY: 0.7902184, RATIO_AVERAGE_POPULARITY: 1.7794003, RATIO_NOVELTY: 0.2883003, \\n')"
     },
     "execution_count": 13,
     "metadata": {},
     "output_type": "execute_result"
    }
   ],
   "source": [
    "from Evaluation.Evaluator import EvaluatorHoldout\n",
    "\n",
    "evaluator_test = EvaluatorHoldout(URM_test, cutoff_list=[10], ignore_users=[])\n",
    "evaluator_test.evaluateRecommender(final)"
   ]
  },
  {
   "cell_type": "code",
   "execution_count": 14,
   "id": "d44f3917cd92eabc",
   "metadata": {
    "collapsed": false,
    "ExecuteTime": {
     "end_time": "2023-11-30T18:42:28.925834Z",
     "start_time": "2023-11-30T18:42:25.340505Z"
    }
   },
   "outputs": [
    {
     "name": "stdout",
     "output_type": "stream",
     "text": [
      "EvaluatorHoldout: Processed 10455 (100.0%) in 3.58 sec. Users per second: 2922\n"
     ]
    },
    {
     "data": {
      "text/plain": "(       PRECISION PRECISION_RECALL_MIN_DEN    RECALL      MAP MAP_MIN_DEN  \\\n cutoff                                                                     \n 10      0.078785                 0.136544  0.115642  0.03788    0.065813   \n \n              MRR      NDCG       F1  HIT_RATE ARHR_ALL_HITS  ...  \\\n cutoff                                                       ...   \n 10      0.230194  0.123547  0.09372  0.471545      0.292971  ...   \n \n        COVERAGE_USER COVERAGE_USER_HIT USERS_IN_GT DIVERSITY_GINI  \\\n cutoff                                                              \n 10          0.827267          0.390093    0.827267       0.050084   \n \n        SHANNON_ENTROPY RATIO_DIVERSITY_HERFINDAHL RATIO_DIVERSITY_GINI  \\\n cutoff                                                                   \n 10           10.015474                   0.997357             0.145463   \n \n        RATIO_SHANNON_ENTROPY RATIO_AVERAGE_POPULARITY RATIO_NOVELTY  \n cutoff                                                               \n 10                  0.772229                 1.997776       0.35334  \n \n [1 rows x 27 columns],\n 'CUTOFF: 10 - PRECISION: 0.0787853, PRECISION_RECALL_MIN_DEN: 0.1365444, RECALL: 0.1156416, MAP: 0.0378798, MAP_MIN_DEN: 0.0658131, MRR: 0.2301939, NDCG: 0.1235466, F1: 0.0937201, HIT_RATE: 0.4715447, ARHR_ALL_HITS: 0.2929706, NOVELTY: 0.0049995, AVERAGE_POPULARITY: 0.2397277, DIVERSITY_MEAN_INTER_LIST: 0.9700462, DIVERSITY_HERFINDAHL: 0.9969953, COVERAGE_ITEM: 0.2836378, COVERAGE_ITEM_HIT: 0.0741157, ITEMS_IN_GT: 0.8008280, COVERAGE_USER: 0.8272670, COVERAGE_USER_HIT: 0.3900934, USERS_IN_GT: 0.8272670, DIVERSITY_GINI: 0.0500841, SHANNON_ENTROPY: 10.0154743, RATIO_DIVERSITY_HERFINDAHL: 0.9973574, RATIO_DIVERSITY_GINI: 0.1454633, RATIO_SHANNON_ENTROPY: 0.7722294, RATIO_AVERAGE_POPULARITY: 1.9977756, RATIO_NOVELTY: 0.3533398, \\n')"
     },
     "execution_count": 14,
     "metadata": {},
     "output_type": "execute_result"
    }
   ],
   "source": [
    "#final.fit(alphas=[3,1.25])\n",
    "evaluator_test.evaluateRecommender(slim)"
   ]
  },
  {
   "cell_type": "code",
   "execution_count": null,
   "id": "5a67428de0ca1e4f",
   "metadata": {
    "collapsed": false
   },
   "outputs": [],
   "source": []
  }
 ],
 "metadata": {
  "kernelspec": {
   "display_name": "Python 3",
   "language": "python",
   "name": "python3"
  },
  "language_info": {
   "codemirror_mode": {
    "name": "ipython",
    "version": 2
   },
   "file_extension": ".py",
   "mimetype": "text/x-python",
   "name": "python",
   "nbconvert_exporter": "python",
   "pygments_lexer": "ipython2",
   "version": "2.7.6"
  }
 },
 "nbformat": 4,
 "nbformat_minor": 5
}
