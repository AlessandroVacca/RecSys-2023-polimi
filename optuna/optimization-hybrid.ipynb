{
 "cells": [
  {
   "cell_type": "code",
   "execution_count": 1,
   "outputs": [
    {
     "name": "stdout",
     "output_type": "stream",
     "text": [
      "Warning: 250 (1.98 %) of 12638 users have no train items\n",
      "Warning: 2107 (16.67 %) of 12638 users have no sampled items\n"
     ]
    }
   ],
   "source": [
    "from Data_manager.UserUtils import *\n",
    "from Data_manager.split_functions.split_train_validation_random_holdout import \\\n",
    "    split_train_in_two_percentage_global_sample\n",
    "URM_all = getURM_all()\n",
    "URM_train_validation, URM_test = split_train_in_two_percentage_global_sample(URM_all, train_percentage = 0.80)\n",
    "# URM_train, URM_validation = split_train_in_two_percentage_global_sample(URM_train_validation, train_percentage = 0.80)"
   ],
   "metadata": {
    "collapsed": false,
    "ExecuteTime": {
     "end_time": "2024-01-10T21:15:44.399422Z",
     "start_time": "2024-01-10T21:15:42.741671Z"
    }
   },
   "id": "a884190b64cf557"
  },
  {
   "cell_type": "code",
   "outputs": [],
   "source": [
    "import pickle\n",
    "\n",
    "with open('URM_train_validation.pkl', 'rb') as f:\n",
    "    URM_train_validation = pickle.load(f)\n",
    "\n",
    "with open('URM_test.pkl', 'rb') as f:\n",
    "    URM_test = pickle.load(f)"
   ],
   "metadata": {
    "collapsed": false,
    "ExecuteTime": {
     "end_time": "2024-01-10T21:16:20.667638Z",
     "start_time": "2024-01-10T21:16:20.659598Z"
    }
   },
   "id": "c9999a438b210c3",
   "execution_count": 3
  },
  {
   "cell_type": "code",
   "execution_count": 6,
   "outputs": [
    {
     "name": "stdout",
     "output_type": "stream",
     "text": [
      "SLIMElasticNetRecommender: URM Detected 205 ( 1.6%) users with no interactions.\n",
      "SLIMElasticNetRecommender: URM Detected 109 ( 0.5%) items with no interactions.\n",
      "SLIMElasticNetRecommender: Loading model from file 'slim_models/slim_t_val'\n",
      "SLIMElasticNetRecommender: Loading complete\n",
      "P3alphaRecommender: URM Detected 205 ( 1.6%) users with no interactions.\n",
      "P3alphaRecommender: URM Detected 109 ( 0.5%) items with no interactions.\n",
      "P3alphaRecommender: Similarity column 22222 (100.0%), 7190.98 column/sec. Elapsed time 3.09 sec\n",
      "RP3betaRecommender: URM Detected 205 ( 1.6%) users with no interactions.\n",
      "RP3betaRecommender: URM Detected 109 ( 0.5%) items with no interactions.\n",
      "RP3betaRecommender: Similarity column 22222 (100.0%), 6756.19 column/sec. Elapsed time 3.29 sec\n",
      "UserKNNCFRecommender: URM Detected 205 ( 1.6%) users with no interactions.\n",
      "UserKNNCFRecommender: URM Detected 109 ( 0.5%) items with no interactions.\n",
      "Similarity column 12638 (100.0%), 9785.54 column/sec. Elapsed time 1.29 sec\n",
      "ItemKNNCFRecommender: URM Detected 205 ( 1.6%) users with no interactions.\n",
      "ItemKNNCFRecommender: URM Detected 109 ( 0.5%) items with no interactions.\n",
      "Similarity column 22222 (100.0%), 9506.77 column/sec. Elapsed time 2.34 sec\n",
      "EASE_R_Recommender: URM Detected 205 ( 1.6%) users with no interactions.\n",
      "EASE_R_Recommender: URM Detected 109 ( 0.5%) items with no interactions.\n",
      "EASE_R_Recommender: Loading model from file 'slim_models/ease_t_val'\n",
      "EASE_R_Recommender: Loading complete\n",
      "EvaluatorHoldout: Ignoring 2203 (17.4%) Users that have less than 1 test interactions\n"
     ]
    }
   ],
   "source": [
    "from Hybrid import *\n",
    "from Recommenders.SLIM.SLIMElasticNetRecommender import *\n",
    "from Recommenders.MatrixFactorization.PureSVDRecommender import PureSVDRecommender\n",
    "from Recommenders.GraphBased.P3alphaRecommender import P3alphaRecommender\n",
    "from Recommenders.GraphBased.RP3betaRecommender import RP3betaRecommender\n",
    "from Recommenders.KNN.UserKNNCFRecommender import UserKNNCFRecommender\n",
    "from Recommenders.KNN.ItemKNNCFRecommender import ItemKNNCFRecommender\n",
    "from Recommenders.EASE_R.EASE_R_Recommender import EASE_R_Recommender\n",
    "## SLIM\n",
    "slim = SLIMElasticNetRecommender(URM_train_validation)\n",
    "slim.load_model(\"slim_models/\", \"slim_t_val\")\n",
    "## P3ALPHA\n",
    "p3alpha = P3alphaRecommender(URM_train_validation)\n",
    "p3alpha.fit(topK=76, alpha=0.377201600381895, normalize_similarity=True)\n",
    "## RP3BETA\n",
    "rp3beta = RP3betaRecommender(URM_train_validation)\n",
    "rp3beta.fit(alpha=0.20026352123406477, beta=0.15999879728761354, topK=32)\n",
    "## USER KNN\n",
    "userknn = UserKNNCFRecommender(URM_train_validation)\n",
    "userknn.fit(topK=469, shrink=38, similarity='asymmetric', normalize=True,\n",
    "                                       feature_weighting='TF-IDF', asymmetric_alpha=0.40077406933762383)\n",
    "## ITEM KNN\n",
    "itemknn = ItemKNNCFRecommender(URM_train_validation)\n",
    "itemknn.fit(topK=31, shrink=435, similarity='tversky', normalize=True,\n",
    "                                       feature_weighting='BM25', tversky_alpha=0.17113169506422393, tversky_beta=0.5684024974085575)\n",
    "## EASE_R\n",
    "ease_r = EASE_R_Recommender(URM_train_validation)\n",
    "ease_r.load_model(\"slim_models/\", \"ease_t_val\")\n",
    "\n",
    "model = LinearHybridRecommender\n",
    "\n",
    "from Evaluation.Evaluator import EvaluatorHoldout\n",
    "\n",
    "evaluator_validation = EvaluatorHoldout(URM_test, cutoff_list=[10])"
   ],
   "metadata": {
    "collapsed": false,
    "ExecuteTime": {
     "end_time": "2024-01-10T21:17:53.317314Z",
     "start_time": "2024-01-10T21:17:39.288114Z"
    }
   },
   "id": "7789e39614525279"
  },
  {
   "cell_type": "code",
   "outputs": [
    {
     "name": "stdout",
     "output_type": "stream",
     "text": [
      "UserKNNCFItemKNNCFTwoScoresHybridRecommender: URM Detected 205 ( 1.6%) users with no interactions.\n",
      "UserKNNCFItemKNNCFTwoScoresHybridRecommender: URM Detected 109 ( 0.5%) items with no interactions.\n",
      "SLIMElasticNetRP3betaUserKNNCFItemKNNCFTwoScoresHybridEASE_R_LinearHybridRecommender: URM Detected 205 ( 1.6%) users with no interactions.\n",
      "SLIMElasticNetRP3betaUserKNNCFItemKNNCFTwoScoresHybridEASE_R_LinearHybridRecommender: URM Detected 109 ( 0.5%) items with no interactions.\n",
      "SLIMElasticNetRP3betaItemKNNCFEASE_R_LinearHybridRecommender: URM Detected 205 ( 1.6%) users with no interactions.\n",
      "SLIMElasticNetRP3betaItemKNNCFEASE_R_LinearHybridRecommender: URM Detected 109 ( 0.5%) items with no interactions.\n",
      "SLIMElasticNetRP3betaItemKNNCFScoresHybridRecommender: URM Detected 205 ( 1.6%) users with no interactions.\n",
      "SLIMElasticNetRP3betaItemKNNCFScoresHybridRecommender: URM Detected 109 ( 0.5%) items with no interactions.\n",
      "SLIMElasticNetRP3betaTwoScoresHybridRecommender: URM Detected 205 ( 1.6%) users with no interactions.\n",
      "SLIMElasticNetRP3betaTwoScoresHybridRecommender: URM Detected 109 ( 0.5%) items with no interactions.\n",
      "P3alphaRP3betaTwoScoresHybridRecommender: URM Detected 205 ( 1.6%) users with no interactions.\n",
      "P3alphaRP3betaTwoScoresHybridRecommender: URM Detected 109 ( 0.5%) items with no interactions.\n"
     ]
    }
   ],
   "source": [
    "##HYBRIDS\n",
    "knn = TwoScoresHybridRecommender(URM_train_validation, userknn, itemknn)\n",
    "knn.fit(alpha=0.022195783788315104)\n",
    "superH = LinearHybridRecommender(URM_train_validation, [slim, rp3beta, knn, ease_r])\n",
    "superH.fit(alphas=[0.8857667100747117, 0.6379807942443021, 0.0690929184825888, 0.11953478623354052])\n",
    "\n",
    "hybrid_new = LinearHybridRecommender(URM_train_validation, [slim, rp3beta, itemknn, ease_r])\n",
    "hybrid_new.fit(alphas=[0.8857667100747117, 0.6379807942443021, 0.0690929184825888, 0.11953478623354052])\n",
    "\n",
    "hybrid_old = ScoresHybridRecommender(URM_train_validation, slim, rp3beta, itemknn)\n",
    "hybrid_old.fit(alpha=0.5072513954300486, beta=0.30902582824263064)\n",
    "\n",
    "hybrid_hi = TwoScoresHybridRecommender(URM_train_validation, slim, rp3beta)\n",
    "hybrid_hi.fit(alpha=0.6201320790279279)\n",
    "\n",
    "graph_h = TwoScoresHybridRecommender(URM_train_validation, p3alpha, rp3beta)\n",
    "graph_h.fit(alpha=0.14935090288050779)"
   ],
   "metadata": {
    "collapsed": false,
    "ExecuteTime": {
     "end_time": "2024-01-10T21:27:23.041440Z",
     "start_time": "2024-01-10T21:27:23.017360Z"
    }
   },
   "id": "2710e576625870d4",
   "execution_count": 8
  },
  {
   "cell_type": "code",
   "outputs": [],
   "source": [
    "ease = ease_r"
   ],
   "metadata": {
    "collapsed": false,
    "ExecuteTime": {
     "end_time": "2024-01-10T21:26:51.329790Z",
     "start_time": "2024-01-10T21:26:51.324336Z"
    }
   },
   "id": "9c2c7aca69c384e9",
   "execution_count": 7
  },
  {
   "cell_type": "code",
   "execution_count": 9,
   "outputs": [],
   "source": [
    "import itertools\n",
    "import optuna as op\n",
    "\n",
    "# Map the names to the recommender objects\n",
    "recommender_dict = {\n",
    "    'slim': slim,\n",
    "    'p3alpha': p3alpha,\n",
    "    'rp3beta': rp3beta,\n",
    "    'userknn': userknn,\n",
    "    'itemknn': itemknn,\n",
    "    'easer': ease,\n",
    "    'knn': knn,\n",
    "    'super': superH,\n",
    "    'hybridnew': hybrid_new,\n",
    "    'hybridold': hybrid_old,\n",
    "    'hybridhi': hybrid_hi,\n",
    "    'graph': graph_h\n",
    "}\n",
    "\n",
    "# Generate all possible combinations of recommender names\n",
    "all_combinations = []\n",
    "for r in range(1, len(recommender_dict) + 1):\n",
    "    all_combinations.extend(itertools.combinations(recommender_dict.keys(), r))\n",
    "\n",
    "# Convert combinations to string format\n",
    "all_combinations_str = ['_'.join(comb) for comb in all_combinations]\n",
    "\n",
    "def objective(trial):\n",
    "    # Select a combination from the pre-defined list\n",
    "    selected_combination_str = trial.suggest_categorical('selected_combination', all_combinations_str)\n",
    "\n",
    "    # Convert the string back to the original recommender objects\n",
    "    selected_combination = [recommender_dict[name] for name in selected_combination_str.split('_')]\n",
    "\n",
    "    # Dynamically generate weights for the selected recommenders\n",
    "    weights = [trial.suggest_float(f'weight_{i}', 0, 1) for i in range(len(selected_combination))]\n",
    "    \n",
    "    # Create hybrid recommender with the suggested weights\n",
    "    hybrid_recommender = model(URM_train_validation, selected_combination)\n",
    "    hybrid_recommender.fit(weights)\n",
    "    \n",
    "    # Evaluate the hybrid recommender\n",
    "    result, _ = evaluator_validation.evaluateRecommender(hybrid_recommender)\n",
    "    MAP_result = result[\"MAP\"].item()\n",
    "       \n",
    "    return MAP_result"
   ],
   "metadata": {
    "collapsed": false,
    "ExecuteTime": {
     "end_time": "2024-01-10T21:27:30.179744Z",
     "start_time": "2024-01-10T21:27:29.824433Z"
    }
   },
   "id": "c6638bcccbda289b"
  },
  {
   "cell_type": "code",
   "execution_count": null,
   "outputs": [],
   "source": [
    "best_params = {\n",
    "    \"alphas\": 1,\n",
    "}\n",
    "\n",
    "study_name = \"hybrid-allmodel2s-study\"  # Unique identifier of the study.\n",
    "storage_name = \"sqlite:///db.db\".format(study_name)\n",
    "#op.delete_study(study_name, storage_name)\n",
    "study = op.create_study(study_name=study_name, storage=storage_name, direction=\"maximize\", load_if_exists=True)\n",
    "#study.enqueue_trial(best_params)\n",
    "study.optimize(objective, n_trials=150)"
   ],
   "metadata": {
    "collapsed": false
   },
   "id": "d15388f3e5727d96"
  },
  {
   "cell_type": "code",
   "execution_count": 12,
   "outputs": [
    {
     "data": {
      "text/plain": "{'selected_combination': 'slim_easer_super_hybridold_graph',\n 'weight_0': 0.6748705047734029,\n 'weight_1': 0.12944639345936737,\n 'weight_2': 0.6039430610485853,\n 'weight_3': 0.8168483325375601,\n 'weight_4': 0.2978584217886625}"
     },
     "execution_count": 12,
     "metadata": {},
     "output_type": "execute_result"
    }
   ],
   "source": [
    "study.best_params"
   ],
   "metadata": {
    "collapsed": false,
    "ExecuteTime": {
     "end_time": "2024-01-10T22:02:29.840878Z",
     "start_time": "2024-01-10T22:02:29.826745Z"
    }
   },
   "id": "ac696963697fff90"
  },
  {
   "cell_type": "code",
   "execution_count": 13,
   "outputs": [
    {
     "name": "stdout",
     "output_type": "stream",
     "text": [
      "SLIMElasticNetEASE_R_SLIMElasticNetRP3betaUserKNNCFItemKNNCFTwoScoresHybridEASE_R_LinearHybridSLIMElasticNetRP3betaItemKNNCFScoresHybridP3alphaRP3betaTwoScoresHybridLinearHybridRecommender: URM Detected 205 ( 1.6%) users with no interactions.\n",
      "SLIMElasticNetEASE_R_SLIMElasticNetRP3betaUserKNNCFItemKNNCFTwoScoresHybridEASE_R_LinearHybridSLIMElasticNetRP3betaItemKNNCFScoresHybridP3alphaRP3betaTwoScoresHybridLinearHybridRecommender: URM Detected 109 ( 0.5%) items with no interactions.\n"
     ]
    }
   ],
   "source": [
    "hybrid_recommender = LinearHybridRecommender(URM_train_validation, [slim, ease, superH, hybrid_old, graph_h])"
   ],
   "metadata": {
    "collapsed": false,
    "ExecuteTime": {
     "end_time": "2024-01-10T22:03:22.189737Z",
     "start_time": "2024-01-10T22:03:22.180479Z"
    }
   },
   "id": "1cf94f3d15cce754"
  },
  {
   "cell_type": "code",
   "execution_count": 14,
   "outputs": [],
   "source": [
    "def objective(trial):\n",
    "    alpha = trial.suggest_float('alpha', 0, 1)\n",
    "    beta = trial.suggest_float('beta', 0, 1)\n",
    "    gamma = trial.suggest_float('gamma', 0, 1)\n",
    "    delta = trial.suggest_float('delta', 0, 1)\n",
    "    epsilon = trial.suggest_float('epsilon', 0, 1)\n",
    "    \n",
    "    # Create hybrid recommender with the suggested weights\n",
    "    hybrid_recommender.fit(alphas=[alpha, beta, gamma, delta, epsilon])\n",
    "    \n",
    "    # Evaluate the hybrid recommender\n",
    "    result, _ = evaluator_validation.evaluateRecommender(hybrid_recommender)\n",
    "    MAP_result = result[\"MAP\"].item()\n",
    "       \n",
    "    return MAP_result"
   ],
   "metadata": {
    "collapsed": false,
    "ExecuteTime": {
     "end_time": "2024-01-10T22:03:51.646047Z",
     "start_time": "2024-01-10T22:03:51.641515Z"
    }
   },
   "id": "23a7609029f4e05e"
  },
  {
   "cell_type": "code",
   "execution_count": null,
   "outputs": [
    {
     "name": "stderr",
     "output_type": "stream",
     "text": [
      "[I 2024-01-10 23:04:13,746] A new study created in RDB with name: hybrid-mixed-study\n"
     ]
    },
    {
     "name": "stdout",
     "output_type": "stream",
     "text": [
      "EvaluatorHoldout: Processed 10435 (100.0%) in 16.39 sec. Users per second: 637\n"
     ]
    },
    {
     "name": "stderr",
     "output_type": "stream",
     "text": [
      "[I 2024-01-10 23:04:30,208] Trial 0 finished with value: 0.05168819449198045 and parameters: {'alpha': 0.533294175974392, 'beta': 0.814664103181865, 'gamma': 0.8052948702291137, 'delta': 0.35083807880822004, 'epsilon': 0.7791298625987269}. Best is trial 0 with value: 0.05168819449198045.\n"
     ]
    },
    {
     "name": "stdout",
     "output_type": "stream",
     "text": [
      "EvaluatorHoldout: Processed 10435 (100.0%) in 17.43 sec. Users per second: 599\n"
     ]
    },
    {
     "name": "stderr",
     "output_type": "stream",
     "text": [
      "[I 2024-01-10 23:04:47,675] Trial 1 finished with value: 0.051602961644649045 and parameters: {'alpha': 0.28585587875451024, 'beta': 0.5097292753768967, 'gamma': 0.35077193972702947, 'delta': 0.3059751036939399, 'epsilon': 0.09450148056163687}. Best is trial 0 with value: 0.05168819449198045.\n"
     ]
    },
    {
     "name": "stdout",
     "output_type": "stream",
     "text": [
      "EvaluatorHoldout: Processed 10435 (100.0%) in 17.58 sec. Users per second: 594\n"
     ]
    },
    {
     "name": "stderr",
     "output_type": "stream",
     "text": [
      "[I 2024-01-10 23:05:05,327] Trial 2 finished with value: 0.05175057993170177 and parameters: {'alpha': 0.14079324293598938, 'beta': 0.49617070644989114, 'gamma': 0.9495317412707982, 'delta': 0.1618963804081366, 'epsilon': 0.5197625524830822}. Best is trial 2 with value: 0.05175057993170177.\n"
     ]
    },
    {
     "name": "stdout",
     "output_type": "stream",
     "text": [
      "EvaluatorHoldout: Processed 10435 (100.0%) in 16.09 sec. Users per second: 649\n"
     ]
    },
    {
     "name": "stderr",
     "output_type": "stream",
     "text": [
      "[I 2024-01-10 23:05:21,462] Trial 3 finished with value: 0.05209182695598662 and parameters: {'alpha': 0.8864292795725881, 'beta': 0.17992860791638388, 'gamma': 0.5192653989352602, 'delta': 0.007197109924397038, 'epsilon': 0.36304592354228626}. Best is trial 3 with value: 0.05209182695598662.\n"
     ]
    },
    {
     "name": "stdout",
     "output_type": "stream",
     "text": [
      "EvaluatorHoldout: Processed 10435 (100.0%) in 17.76 sec. Users per second: 587\n"
     ]
    },
    {
     "name": "stderr",
     "output_type": "stream",
     "text": [
      "[I 2024-01-10 23:05:39,261] Trial 4 finished with value: 0.05159864923449082 and parameters: {'alpha': 0.44523442297534754, 'beta': 0.9969300966078105, 'gamma': 0.7956545411946424, 'delta': 0.45709207638031035, 'epsilon': 0.4190729817852269}. Best is trial 3 with value: 0.05209182695598662.\n"
     ]
    },
    {
     "name": "stdout",
     "output_type": "stream",
     "text": [
      "EvaluatorHoldout: Processed 10435 (100.0%) in 16.04 sec. Users per second: 651\n"
     ]
    },
    {
     "name": "stderr",
     "output_type": "stream",
     "text": [
      "[I 2024-01-10 23:05:55,335] Trial 5 finished with value: 0.05187530517717455 and parameters: {'alpha': 0.5107962381350709, 'beta': 0.39155184666855747, 'gamma': 0.7501465380641281, 'delta': 0.7263158444576615, 'epsilon': 0.6125572160014642}. Best is trial 3 with value: 0.05209182695598662.\n"
     ]
    },
    {
     "name": "stdout",
     "output_type": "stream",
     "text": [
      "EvaluatorHoldout: Processed 10435 (100.0%) in 14.32 sec. Users per second: 729\n"
     ]
    },
    {
     "name": "stderr",
     "output_type": "stream",
     "text": [
      "[I 2024-01-10 23:06:09,680] Trial 6 finished with value: 0.05152951757288185 and parameters: {'alpha': 0.587191848706272, 'beta': 0.8902826640735184, 'gamma': 0.046649740308305154, 'delta': 0.5444228868548507, 'epsilon': 0.9735579249848817}. Best is trial 3 with value: 0.05209182695598662.\n"
     ]
    },
    {
     "name": "stdout",
     "output_type": "stream",
     "text": [
      "EvaluatorHoldout: Processed 10435 (100.0%) in 14.13 sec. Users per second: 738\n"
     ]
    },
    {
     "name": "stderr",
     "output_type": "stream",
     "text": [
      "[I 2024-01-10 23:06:23,838] Trial 7 finished with value: 0.051755234596634336 and parameters: {'alpha': 0.7133678404338842, 'beta': 0.8059647568124284, 'gamma': 0.8821054439768964, 'delta': 0.4320310239517219, 'epsilon': 0.7001703449933269}. Best is trial 3 with value: 0.05209182695598662.\n"
     ]
    },
    {
     "name": "stdout",
     "output_type": "stream",
     "text": [
      "EvaluatorHoldout: Processed 10435 (100.0%) in 13.99 sec. Users per second: 746\n"
     ]
    },
    {
     "name": "stderr",
     "output_type": "stream",
     "text": [
      "[I 2024-01-10 23:06:37,854] Trial 8 finished with value: 0.05177838242788003 and parameters: {'alpha': 0.6799323554886287, 'beta': 0.4756021920310112, 'gamma': 0.12814421838120438, 'delta': 0.9801723339692722, 'epsilon': 0.11279641538693908}. Best is trial 3 with value: 0.05209182695598662.\n"
     ]
    },
    {
     "name": "stdout",
     "output_type": "stream",
     "text": [
      "EvaluatorHoldout: Processed 10435 (100.0%) in 14.84 sec. Users per second: 703\n"
     ]
    },
    {
     "name": "stderr",
     "output_type": "stream",
     "text": [
      "[I 2024-01-10 23:06:52,725] Trial 9 finished with value: 0.05149100250226334 and parameters: {'alpha': 0.10643499397306322, 'beta': 0.5444405364961641, 'gamma': 0.6117959767082436, 'delta': 0.08457318638517308, 'epsilon': 0.28228798339841954}. Best is trial 3 with value: 0.05209182695598662.\n"
     ]
    },
    {
     "name": "stdout",
     "output_type": "stream",
     "text": [
      "EvaluatorHoldout: Processed 10435 (100.0%) in 15.37 sec. Users per second: 679\n"
     ]
    },
    {
     "name": "stderr",
     "output_type": "stream",
     "text": [
      "[I 2024-01-10 23:07:08,140] Trial 10 finished with value: 0.05196988918551021 and parameters: {'alpha': 0.9628967699220092, 'beta': 1.329913405717642e-05, 'gamma': 0.4167476902037881, 'delta': 0.04319487925339727, 'epsilon': 0.3254363249502219}. Best is trial 3 with value: 0.05209182695598662.\n"
     ]
    },
    {
     "name": "stdout",
     "output_type": "stream",
     "text": [
      "EvaluatorHoldout: Processed 10435 (100.0%) in 14.36 sec. Users per second: 727\n"
     ]
    },
    {
     "name": "stderr",
     "output_type": "stream",
     "text": [
      "[I 2024-01-10 23:07:22,546] Trial 11 finished with value: 0.0519555905415997 and parameters: {'alpha': 0.976410456484008, 'beta': 0.01524221084349887, 'gamma': 0.4383601863015265, 'delta': 0.00477559930677085, 'epsilon': 0.3423793792282592}. Best is trial 3 with value: 0.05209182695598662.\n"
     ]
    },
    {
     "name": "stdout",
     "output_type": "stream",
     "text": [
      "EvaluatorHoldout: Processed 10435 (100.0%) in 16.12 sec. Users per second: 647\n"
     ]
    },
    {
     "name": "stderr",
     "output_type": "stream",
     "text": [
      "[I 2024-01-10 23:07:38,703] Trial 12 finished with value: 0.05198101626851082 and parameters: {'alpha': 0.9844606688715709, 'beta': 0.003185407348290265, 'gamma': 0.5601849520699522, 'delta': 0.007531198926796902, 'epsilon': 0.23258430009358116}. Best is trial 3 with value: 0.05209182695598662.\n"
     ]
    },
    {
     "name": "stdout",
     "output_type": "stream",
     "text": [
      "EvaluatorHoldout: Processed 10435 (100.0%) in 15.07 sec. Users per second: 693\n"
     ]
    },
    {
     "name": "stderr",
     "output_type": "stream",
     "text": [
      "[I 2024-01-10 23:07:53,833] Trial 13 finished with value: 0.05204534495478494 and parameters: {'alpha': 0.8336621829533611, 'beta': 0.16012327361779788, 'gamma': 0.5917379795652166, 'delta': 0.20320447347457005, 'epsilon': 0.18395262529753142}. Best is trial 3 with value: 0.05209182695598662.\n"
     ]
    },
    {
     "name": "stdout",
     "output_type": "stream",
     "text": [
      "EvaluatorHoldout: Processed 10435 (100.0%) in 16.24 sec. Users per second: 642\n"
     ]
    },
    {
     "name": "stderr",
     "output_type": "stream",
     "text": [
      "[I 2024-01-10 23:08:10,129] Trial 14 finished with value: 0.051831660087770064 and parameters: {'alpha': 0.8066667541998549, 'beta': 0.22848251594141766, 'gamma': 0.6467775406200825, 'delta': 0.21641563841629047, 'epsilon': 0.03158763444244128}. Best is trial 3 with value: 0.05209182695598662.\n"
     ]
    },
    {
     "name": "stdout",
     "output_type": "stream",
     "text": [
      "EvaluatorHoldout: Processed 10435 (100.0%) in 17.23 sec. Users per second: 606\n"
     ]
    },
    {
     "name": "stderr",
     "output_type": "stream",
     "text": [
      "[I 2024-01-10 23:08:27,416] Trial 15 finished with value: 0.05187505799317088 and parameters: {'alpha': 0.8365061806753288, 'beta': 0.19589056191114518, 'gamma': 0.2961648511987557, 'delta': 0.1950780642203005, 'epsilon': 0.17098930429044606}. Best is trial 3 with value: 0.05209182695598662.\n"
     ]
    },
    {
     "name": "stdout",
     "output_type": "stream",
     "text": [
      "EvaluatorHoldout: Processed 10435 (100.0%) in 17.05 sec. Users per second: 612\n"
     ]
    },
    {
     "name": "stderr",
     "output_type": "stream",
     "text": [
      "[I 2024-01-10 23:08:44,532] Trial 16 finished with value: 0.05197164229052159 and parameters: {'alpha': 0.8498268676049189, 'beta': 0.18430569561771595, 'gamma': 0.5348352991274646, 'delta': 0.15115856015697207, 'epsilon': 0.43510738148701916}. Best is trial 3 with value: 0.05209182695598662.\n"
     ]
    },
    {
     "name": "stdout",
     "output_type": "stream",
     "text": [
      "EvaluatorHoldout: Processed 10435 (100.0%) in 17.05 sec. Users per second: 612\n"
     ]
    },
    {
     "name": "stderr",
     "output_type": "stream",
     "text": [
      "[I 2024-01-10 23:09:01,649] Trial 17 finished with value: 0.051921501966064196 and parameters: {'alpha': 0.6773292260275278, 'beta': 0.29913647374735325, 'gamma': 0.6735440581622336, 'delta': 0.28481132845602486, 'epsilon': 0.0007566998267512504}. Best is trial 3 with value: 0.05209182695598662.\n"
     ]
    },
    {
     "name": "stdout",
     "output_type": "stream",
     "text": [
      "EvaluatorHoldout: Processed 10435 (100.0%) in 20.27 sec. Users per second: 515\n"
     ]
    },
    {
     "name": "stderr",
     "output_type": "stream",
     "text": [
      "[I 2024-01-10 23:09:21,983] Trial 18 finished with value: 0.05198345008024034 and parameters: {'alpha': 0.8807179107239761, 'beta': 0.10826749489254368, 'gamma': 0.4944524037396679, 'delta': 0.10267785558879253, 'epsilon': 0.20446029660089093}. Best is trial 3 with value: 0.05209182695598662.\n"
     ]
    },
    {
     "name": "stdout",
     "output_type": "stream",
     "text": [
      "EvaluatorHoldout: Processed 10435 (100.0%) in 19.38 sec. Users per second: 538\n"
     ]
    },
    {
     "name": "stderr",
     "output_type": "stream",
     "text": [
      "[I 2024-01-10 23:09:41,423] Trial 19 finished with value: 0.052003388322267675 and parameters: {'alpha': 0.7806980575479421, 'beta': 0.32739193601850647, 'gamma': 0.6990018255363448, 'delta': 0.23605688626178234, 'epsilon': 0.2803981667561247}. Best is trial 3 with value: 0.05209182695598662.\n"
     ]
    },
    {
     "name": "stdout",
     "output_type": "stream",
     "text": [
      "EvaluatorHoldout: Processed 10435 (100.0%) in 18.92 sec. Users per second: 551\n"
     ]
    },
    {
     "name": "stderr",
     "output_type": "stream",
     "text": [
      "[I 2024-01-10 23:10:00,394] Trial 20 finished with value: 0.05199781337227492 and parameters: {'alpha': 0.9109919271952928, 'beta': 0.09750259207506326, 'gamma': 0.5918288496148306, 'delta': 0.08712889969650064, 'epsilon': 0.15885305249783138}. Best is trial 3 with value: 0.05209182695598662.\n"
     ]
    },
    {
     "name": "stdout",
     "output_type": "stream",
     "text": [
      "EvaluatorHoldout: Processed 10435 (100.0%) in 19.20 sec. Users per second: 544\n"
     ]
    },
    {
     "name": "stderr",
     "output_type": "stream",
     "text": [
      "[I 2024-01-10 23:10:19,650] Trial 21 finished with value: 0.05195793308538935 and parameters: {'alpha': 0.7641231137917636, 'beta': 0.2877415248262098, 'gamma': 0.7025666240335201, 'delta': 0.23449589104793148, 'epsilon': 0.25544545942979735}. Best is trial 3 with value: 0.05209182695598662.\n"
     ]
    },
    {
     "name": "stdout",
     "output_type": "stream",
     "text": [
      "EvaluatorHoldout: Processed 10435 (100.0%) in 18.79 sec. Users per second: 555\n"
     ]
    },
    {
     "name": "stderr",
     "output_type": "stream",
     "text": [
      "[I 2024-01-10 23:10:38,493] Trial 22 finished with value: 0.051962226481393245 and parameters: {'alpha': 0.7727646995426598, 'beta': 0.13229502975345342, 'gamma': 0.6973143124807124, 'delta': 0.15567234698408405, 'epsilon': 0.362190884496895}. Best is trial 3 with value: 0.05209182695598662.\n"
     ]
    },
    {
     "name": "stdout",
     "output_type": "stream",
     "text": [
      "EvaluatorHoldout: Processed 10435 (100.0%) in 15.09 sec. Users per second: 692\n"
     ]
    },
    {
     "name": "stderr",
     "output_type": "stream",
     "text": [
      "[I 2024-01-10 23:10:53,631] Trial 23 finished with value: 0.05197614103939037 and parameters: {'alpha': 0.8960861798040604, 'beta': 0.3132845869599401, 'gamma': 0.5297157461887063, 'delta': 0.35107693718668304, 'epsilon': 0.2711644926960483}. Best is trial 3 with value: 0.05209182695598662.\n"
     ]
    },
    {
     "name": "stdout",
     "output_type": "stream",
     "text": [
      "EvaluatorHoldout: Processed 10435 (100.0%) in 14.32 sec. Users per second: 728\n"
     ]
    },
    {
     "name": "stderr",
     "output_type": "stream",
     "text": [
      "[I 2024-01-10 23:11:07,992] Trial 24 finished with value: 0.05200630509351225 and parameters: {'alpha': 0.7609089528485249, 'beta': 0.36055363225532927, 'gamma': 0.6283192822101107, 'delta': 0.11576935154144481, 'epsilon': 0.4132725303602135}. Best is trial 3 with value: 0.05209182695598662.\n"
     ]
    },
    {
     "name": "stdout",
     "output_type": "stream",
     "text": [
      "EvaluatorHoldout: Processed 10435 (100.0%) in 14.23 sec. Users per second: 733\n"
     ]
    },
    {
     "name": "stderr",
     "output_type": "stream",
     "text": [
      "[I 2024-01-10 23:11:22,270] Trial 25 finished with value: 0.05201695301982855 and parameters: {'alpha': 0.9043419193316813, 'beta': 0.2349564453836933, 'gamma': 0.5954966540266975, 'delta': 0.11000007577079596, 'epsilon': 0.4880300536707364}. Best is trial 3 with value: 0.05209182695598662.\n"
     ]
    },
    {
     "name": "stdout",
     "output_type": "stream",
     "text": [
      "EvaluatorHoldout: Processed 10435 (100.0%) in 14.20 sec. Users per second: 735\n"
     ]
    },
    {
     "name": "stderr",
     "output_type": "stream",
     "text": [
      "[I 2024-01-10 23:11:36,504] Trial 26 finished with value: 0.051977099352758765 and parameters: {'alpha': 0.9096538192238252, 'beta': 0.23495174503327595, 'gamma': 0.47000256413991853, 'delta': 0.027357133084721375, 'epsilon': 0.5032691244440272}. Best is trial 3 with value: 0.05209182695598662.\n"
     ]
    },
    {
     "name": "stdout",
     "output_type": "stream",
     "text": [
      "EvaluatorHoldout: Processed 10435 (100.0%) in 14.30 sec. Users per second: 730\n"
     ]
    },
    {
     "name": "stderr",
     "output_type": "stream",
     "text": [
      "[I 2024-01-10 23:11:50,848] Trial 27 finished with value: 0.051976171462036876 and parameters: {'alpha': 0.9832326358057265, 'beta': 0.11008657410812295, 'gamma': 0.5769259418669656, 'delta': 0.0029034873660030436, 'epsilon': 0.5417639790635469}. Best is trial 3 with value: 0.05209182695598662.\n"
     ]
    },
    {
     "name": "stdout",
     "output_type": "stream",
     "text": [
      "EvaluatorHoldout: Processed 10435 (100.0%) in 14.31 sec. Users per second: 729\n"
     ]
    },
    {
     "name": "stderr",
     "output_type": "stream",
     "text": [
      "[I 2024-01-10 23:12:05,194] Trial 28 finished with value: 0.05199518561617322 and parameters: {'alpha': 0.839723502443414, 'beta': 0.16396153012722647, 'gamma': 0.38826909615788346, 'delta': 0.11184115432984298, 'epsilon': 0.38400567152421117}. Best is trial 3 with value: 0.05209182695598662.\n"
     ]
    },
    {
     "name": "stdout",
     "output_type": "stream",
     "text": [
      "EvaluatorHoldout: Processed 10435 (100.0%) in 14.16 sec. Users per second: 737\n"
     ]
    },
    {
     "name": "stderr",
     "output_type": "stream",
     "text": [
      "[I 2024-01-10 23:12:19,390] Trial 29 finished with value: 0.05198972475110528 and parameters: {'alpha': 0.6096039997740972, 'beta': 0.06948461407032566, 'gamma': 0.8119982255745997, 'delta': 0.18089354993893234, 'epsilon': 0.45744769801985263}. Best is trial 3 with value: 0.05209182695598662.\n"
     ]
    },
    {
     "name": "stdout",
     "output_type": "stream",
     "text": [
      "EvaluatorHoldout: Processed 10435 (100.0%) in 14.24 sec. Users per second: 733\n"
     ]
    },
    {
     "name": "stderr",
     "output_type": "stream",
     "text": [
      "[I 2024-01-10 23:12:33,663] Trial 30 finished with value: 0.05194636867684375 and parameters: {'alpha': 0.9253998096759876, 'beta': 0.25706520214657075, 'gamma': 0.4683625603217258, 'delta': 0.08113578996102087, 'epsilon': 0.3142198689843596}. Best is trial 3 with value: 0.05209182695598662.\n"
     ]
    },
    {
     "name": "stdout",
     "output_type": "stream",
     "text": [
      "EvaluatorHoldout: Processed 10435 (100.0%) in 14.49 sec. Users per second: 720\n"
     ]
    },
    {
     "name": "stderr",
     "output_type": "stream",
     "text": [
      "[I 2024-01-10 23:12:48,207] Trial 31 finished with value: 0.05200545706223765 and parameters: {'alpha': 0.7385066447302198, 'beta': 0.18051190460309724, 'gamma': 0.6562407113630102, 'delta': 0.12202274530680977, 'epsilon': 0.39348597420124637}. Best is trial 3 with value: 0.05209182695598662.\n"
     ]
    },
    {
     "name": "stdout",
     "output_type": "stream",
     "text": [
      "EvaluatorHoldout: Processed 10435 (100.0%) in 14.78 sec. Users per second: 706\n"
     ]
    },
    {
     "name": "stderr",
     "output_type": "stream",
     "text": [
      "[I 2024-01-10 23:13:03,031] Trial 32 finished with value: 0.0519892836227294 and parameters: {'alpha': 0.8008910283150279, 'beta': 0.3615659335207035, 'gamma': 0.6011300538973859, 'delta': 0.05819441701667499, 'epsilon': 0.46254007047318296}. Best is trial 3 with value: 0.05209182695598662.\n"
     ]
    },
    {
     "name": "stdout",
     "output_type": "stream",
     "text": [
      "EvaluatorHoldout: Processed 10435 (100.0%) in 14.32 sec. Users per second: 729\n"
     ]
    },
    {
     "name": "stderr",
     "output_type": "stream",
     "text": [
      "[I 2024-01-10 23:13:17,388] Trial 33 finished with value: 0.05200428579034285 and parameters: {'alpha': 0.848296247780109, 'beta': 0.2364152180738388, 'gamma': 0.5342512784053377, 'delta': 0.2843991464460106, 'epsilon': 0.5619315694644311}. Best is trial 3 with value: 0.05209182695598662.\n"
     ]
    },
    {
     "name": "stdout",
     "output_type": "stream",
     "text": [
      "EvaluatorHoldout: Processed 10435 (100.0%) in 14.22 sec. Users per second: 734\n"
     ]
    },
    {
     "name": "stderr",
     "output_type": "stream",
     "text": [
      "[I 2024-01-10 23:13:31,644] Trial 34 finished with value: 0.05199604885877098 and parameters: {'alpha': 0.9185245751437904, 'beta': 0.1619141290484417, 'gamma': 0.747872413648233, 'delta': 0.1416376681893048, 'epsilon': 0.38024683916486884}. Best is trial 3 with value: 0.05209182695598662.\n"
     ]
    },
    {
     "name": "stdout",
     "output_type": "stream",
     "text": [
      "EvaluatorHoldout: Processed 10435 (100.0%) in 14.11 sec. Users per second: 740\n"
     ]
    },
    {
     "name": "stderr",
     "output_type": "stream",
     "text": [
      "[I 2024-01-10 23:13:45,788] Trial 35 finished with value: 0.051784649493083264 and parameters: {'alpha': 0.41970433103147603, 'beta': 0.4088492568586614, 'gamma': 0.6206846763387613, 'delta': 0.18945742564712045, 'epsilon': 0.4799170250571507}. Best is trial 3 with value: 0.05209182695598662.\n"
     ]
    },
    {
     "name": "stdout",
     "output_type": "stream",
     "text": [
      "EvaluatorHoldout: Processed 10435 (100.0%) in 14.13 sec. Users per second: 739\n"
     ]
    },
    {
     "name": "stderr",
     "output_type": "stream",
     "text": [
      "[I 2024-01-10 23:13:59,956] Trial 36 finished with value: 0.05203527125592344 and parameters: {'alpha': 0.7011744395093034, 'beta': 0.26351622395259405, 'gamma': 0.9876832795486495, 'delta': 0.06387025325395858, 'epsilon': 0.4179091514039602}. Best is trial 3 with value: 0.05209182695598662.\n"
     ]
    },
    {
     "name": "stdout",
     "output_type": "stream",
     "text": [
      "EvaluatorHoldout: Processed 10435 (100.0%) in 14.19 sec. Users per second: 735\n"
     ]
    },
    {
     "name": "stderr",
     "output_type": "stream",
     "text": [
      "[I 2024-01-10 23:14:14,186] Trial 37 finished with value: 0.0520129486389674 and parameters: {'alpha': 0.7072522759789519, 'beta': 0.05549981189109096, 'gamma': 0.953850414094584, 'delta': 0.05562119874888245, 'epsilon': 0.5982624929966904}. Best is trial 3 with value: 0.05209182695598662.\n"
     ]
    },
    {
     "name": "stdout",
     "output_type": "stream",
     "text": [
      "EvaluatorHoldout: Processed 10435 (100.0%) in 14.15 sec. Users per second: 737\n"
     ]
    },
    {
     "name": "stderr",
     "output_type": "stream",
     "text": [
      "[I 2024-01-10 23:14:28,371] Trial 38 finished with value: 0.051964519588382184 and parameters: {'alpha': 0.6323167951274123, 'beta': 0.26275914474213213, 'gamma': 0.8875905157854677, 'delta': 0.32808344561114816, 'epsilon': 0.6803162926791705}. Best is trial 3 with value: 0.05209182695598662.\n"
     ]
    },
    {
     "name": "stdout",
     "output_type": "stream",
     "text": [
      "EvaluatorHoldout: Processed 10435 (100.0%) in 14.21 sec. Users per second: 734\n"
     ]
    },
    {
     "name": "stderr",
     "output_type": "stream",
     "text": [
      "[I 2024-01-10 23:14:42,630] Trial 39 finished with value: 0.05203444223880316 and parameters: {'alpha': 0.660411831147193, 'beta': 0.15653848527616177, 'gamma': 0.9945723257867082, 'delta': 0.06829639103644314, 'epsilon': 0.48955329245498463}. Best is trial 3 with value: 0.05209182695598662.\n"
     ]
    },
    {
     "name": "stdout",
     "output_type": "stream",
     "text": [
      "EvaluatorHoldout: Processed 10435 (100.0%) in 14.06 sec. Users per second: 742\n"
     ]
    },
    {
     "name": "stderr",
     "output_type": "stream",
     "text": [
      "[I 2024-01-10 23:14:56,723] Trial 40 finished with value: 0.05204606749264203 and parameters: {'alpha': 0.5424608324875239, 'beta': 0.13361314422131848, 'gamma': 0.9560488408243651, 'delta': 0.04967262318092509, 'epsilon': 0.3354547458473294}. Best is trial 3 with value: 0.05209182695598662.\n"
     ]
    },
    {
     "name": "stdout",
     "output_type": "stream",
     "text": [
      "EvaluatorHoldout: Processed 10435 (100.0%) in 13.73 sec. Users per second: 760\n"
     ]
    },
    {
     "name": "stderr",
     "output_type": "stream",
     "text": [
      "[I 2024-01-10 23:15:10,490] Trial 41 finished with value: 0.05203527125592344 and parameters: {'alpha': 0.5172302053585931, 'beta': 0.12190643859690012, 'gamma': 0.9869057899368214, 'delta': 0.03805879048987906, 'epsilon': 0.3218497683960539}. Best is trial 3 with value: 0.05209182695598662.\n"
     ]
    },
    {
     "name": "stdout",
     "output_type": "stream",
     "text": [
      "EvaluatorHoldout: Processed 10435 (100.0%) in 14.14 sec. Users per second: 738\n"
     ]
    },
    {
     "name": "stderr",
     "output_type": "stream",
     "text": [
      "[I 2024-01-10 23:15:24,672] Trial 42 finished with value: 0.05201556118374575 and parameters: {'alpha': 0.5627769258206244, 'beta': 0.06442671257558408, 'gamma': 0.9053237760832819, 'delta': 0.002838047716101395, 'epsilon': 0.34871042981985195}. Best is trial 3 with value: 0.05209182695598662.\n"
     ]
    },
    {
     "name": "stdout",
     "output_type": "stream",
     "text": [
      "EvaluatorHoldout: Processed 10435 (100.0%) in 14.87 sec. Users per second: 702\n"
     ]
    },
    {
     "name": "stderr",
     "output_type": "stream",
     "text": [
      "[I 2024-01-10 23:15:39,589] Trial 43 finished with value: 0.05206074261680448 and parameters: {'alpha': 0.5030872768037707, 'beta': 0.13309640212804166, 'gamma': 0.994874941960367, 'delta': 0.05350467388553162, 'epsilon': 0.30068945152039817}. Best is trial 3 with value: 0.05209182695598662.\n"
     ]
    },
    {
     "name": "stdout",
     "output_type": "stream",
     "text": [
      "EvaluatorHoldout: Processed 10435 (100.0%) in 16.04 sec. Users per second: 651\n"
     ]
    },
    {
     "name": "stderr",
     "output_type": "stream",
     "text": [
      "[I 2024-01-10 23:15:55,694] Trial 44 finished with value: 0.05199634547957553 and parameters: {'alpha': 0.45866386740409754, 'beta': 0.20419466318800084, 'gamma': 0.8258855223067477, 'delta': 0.15836126697150907, 'epsilon': 0.22785226346278206}. Best is trial 3 with value: 0.05209182695598662.\n"
     ]
    },
    {
     "name": "stdout",
     "output_type": "stream",
     "text": [
      "EvaluatorHoldout: Processed 10435 (100.0%) in 15.16 sec. Users per second: 688\n"
     ]
    },
    {
     "name": "stderr",
     "output_type": "stream",
     "text": [
      "[I 2024-01-10 23:16:10,915] Trial 45 finished with value: 0.05196199450871281 and parameters: {'alpha': 0.5831684970657098, 'beta': 0.03895467803787682, 'gamma': 0.9218938495820095, 'delta': 0.05194116515268543, 'epsilon': 0.11747861544676741}. Best is trial 3 with value: 0.05209182695598662.\n"
     ]
    },
    {
     "name": "stdout",
     "output_type": "stream",
     "text": [
      "EvaluatorHoldout: Processed 10435 (100.0%) in 14.28 sec. Users per second: 731\n"
     ]
    },
    {
     "name": "stderr",
     "output_type": "stream",
     "text": [
      "[I 2024-01-10 23:16:25,237] Trial 46 finished with value: 0.052011834409534975 and parameters: {'alpha': 0.5462283392028782, 'beta': 0.07202735044321137, 'gamma': 0.8417683387243204, 'delta': 0.0018579377491393023, 'epsilon': 0.3005150110154939}. Best is trial 3 with value: 0.05209182695598662.\n"
     ]
    },
    {
     "name": "stdout",
     "output_type": "stream",
     "text": [
      "EvaluatorHoldout: Processed 10435 (100.0%) in 14.37 sec. Users per second: 726\n"
     ]
    },
    {
     "name": "stderr",
     "output_type": "stream",
     "text": [
      "[I 2024-01-10 23:16:39,656] Trial 47 finished with value: 0.05199620477483499 and parameters: {'alpha': 0.3737428634690366, 'beta': 0.15474756285963334, 'gamma': 0.9399840603256697, 'delta': 0.07155374829802993, 'epsilon': 0.4247375966425535}. Best is trial 3 with value: 0.05209182695598662.\n"
     ]
    },
    {
     "name": "stdout",
     "output_type": "stream",
     "text": [
      "EvaluatorHoldout: Processed 10435 (100.0%) in 14.35 sec. Users per second: 727\n"
     ]
    },
    {
     "name": "stderr",
     "output_type": "stream",
     "text": [
      "[I 2024-01-10 23:16:54,045] Trial 48 finished with value: 0.05197596230634141 and parameters: {'alpha': 0.7087108482494064, 'beta': 0.20411165894386654, 'gamma': 0.9976315038055665, 'delta': 0.13994643819409458, 'epsilon': 0.22632603425163983}. Best is trial 3 with value: 0.05209182695598662.\n"
     ]
    },
    {
     "name": "stdout",
     "output_type": "stream",
     "text": [
      "EvaluatorHoldout: Processed 10435 (100.0%) in 14.37 sec. Users per second: 726\n"
     ]
    },
    {
     "name": "stderr",
     "output_type": "stream",
     "text": [
      "[I 2024-01-10 23:17:08,466] Trial 49 finished with value: 0.051980696830721346 and parameters: {'alpha': 0.6355564361386868, 'beta': 0.13592145426370184, 'gamma': 0.8702019297128651, 'delta': 0.20152684625088146, 'epsilon': 0.1846881602336631}. Best is trial 3 with value: 0.05209182695598662.\n"
     ]
    },
    {
     "name": "stdout",
     "output_type": "stream",
     "text": [
      "EvaluatorHoldout: Processed 10435 (100.0%) in 14.23 sec. Users per second: 733\n"
     ]
    },
    {
     "name": "stderr",
     "output_type": "stream",
     "text": [
      "[I 2024-01-10 23:17:22,741] Trial 50 finished with value: 0.05201671344148634 and parameters: {'alpha': 0.49886970331561364, 'beta': 0.024941705996407437, 'gamma': 0.7900601331789803, 'delta': 0.09545903970181335, 'epsilon': 0.26761745622292904}. Best is trial 3 with value: 0.05209182695598662.\n"
     ]
    },
    {
     "name": "stdout",
     "output_type": "stream",
     "text": [
      "EvaluatorHoldout: Processed 10435 (100.0%) in 14.38 sec. Users per second: 726\n"
     ]
    },
    {
     "name": "stderr",
     "output_type": "stream",
     "text": [
      "[I 2024-01-10 23:17:37,165] Trial 51 finished with value: 0.05204969919608214 and parameters: {'alpha': 0.5348808235048894, 'beta': 0.1037617560424937, 'gamma': 0.9597971547836038, 'delta': 0.03566057880374068, 'epsilon': 0.3536142094072856}. Best is trial 3 with value: 0.05209182695598662.\n"
     ]
    },
    {
     "name": "stdout",
     "output_type": "stream",
     "text": [
      "EvaluatorHoldout: Processed 10435 (100.0%) in 14.62 sec. Users per second: 714\n"
     ]
    },
    {
     "name": "stderr",
     "output_type": "stream",
     "text": [
      "[I 2024-01-10 23:17:51,835] Trial 52 finished with value: 0.05202356614263711 and parameters: {'alpha': 0.5867144629488763, 'beta': 0.09514582178551695, 'gamma': 0.9521045620203998, 'delta': 0.04064313926090782, 'epsilon': 0.3463399326061737}. Best is trial 3 with value: 0.05209182695598662.\n"
     ]
    },
    {
     "name": "stdout",
     "output_type": "stream",
     "text": [
      "EvaluatorHoldout: Processed 10435 (100.0%) in 17.16 sec. Users per second: 608\n"
     ]
    },
    {
     "name": "stderr",
     "output_type": "stream",
     "text": [
      "[I 2024-01-10 23:18:09,049] Trial 53 finished with value: 0.05204387325925474 and parameters: {'alpha': 0.4847764698902805, 'beta': 0.002398370424029045, 'gamma': 0.8597815527817474, 'delta': 0.03696659316725537, 'epsilon': 0.3043802994047094}. Best is trial 3 with value: 0.05209182695598662.\n"
     ]
    },
    {
     "name": "stdout",
     "output_type": "stream",
     "text": [
      "EvaluatorHoldout: Processed 10435 (100.0%) in 15.84 sec. Users per second: 659\n"
     ]
    },
    {
     "name": "stderr",
     "output_type": "stream",
     "text": [
      "[I 2024-01-10 23:18:24,944] Trial 54 finished with value: 0.05199338687719193 and parameters: {'alpha': 0.5317838375960554, 'beta': 0.03964128887496442, 'gamma': 0.8681781893962699, 'delta': 0.0007632135346431063, 'epsilon': 0.2969128720257437}. Best is trial 3 with value: 0.05209182695598662.\n"
     ]
    },
    {
     "name": "stdout",
     "output_type": "stream",
     "text": [
      "EvaluatorHoldout: Processed 10435 (100.0%) in 17.08 sec. Users per second: 611\n"
     ]
    },
    {
     "name": "stderr",
     "output_type": "stream",
     "text": [
      "[I 2024-01-10 23:18:42,096] Trial 55 finished with value: 0.05200703903986188 and parameters: {'alpha': 0.2813922880728291, 'beta': 0.09042189386223268, 'gamma': 0.9203266541754088, 'delta': 0.1644144681848842, 'epsilon': 0.24991660148747755}. Best is trial 3 with value: 0.05209182695598662.\n"
     ]
    },
    {
     "name": "stdout",
     "output_type": "stream",
     "text": [
      "EvaluatorHoldout: Processed 10435 (100.0%) in 16.31 sec. Users per second: 640\n"
     ]
    },
    {
     "name": "stderr",
     "output_type": "stream",
     "text": [
      "[I 2024-01-10 23:18:58,464] Trial 56 finished with value: 0.05195593659920501 and parameters: {'alpha': 0.6571087700513685, 'beta': 0.04095692737255341, 'gamma': 0.8719783028300834, 'delta': 0.099515456786199, 'epsilon': 0.20561898139366716}. Best is trial 3 with value: 0.05209182695598662.\n"
     ]
    },
    {
     "name": "stdout",
     "output_type": "stream",
     "text": [
      "EvaluatorHoldout: Processed 10435 (100.0%) in 17.85 sec. Users per second: 585\n"
     ]
    },
    {
     "name": "stderr",
     "output_type": "stream",
     "text": [
      "[I 2024-01-10 23:19:16,410] Trial 57 finished with value: 0.05203318350179925 and parameters: {'alpha': 0.48422374453496075, 'beta': 0.003038087260491984, 'gamma': 0.7641960185100585, 'delta': 0.03670843784395251, 'epsilon': 0.33072278271554106}. Best is trial 3 with value: 0.05209182695598662.\n"
     ]
    },
    {
     "name": "stdout",
     "output_type": "stream",
     "text": [
      "EvaluatorHoldout: Processed 10435 (100.0%) in 19.03 sec. Users per second: 548\n"
     ]
    },
    {
     "name": "stderr",
     "output_type": "stream",
     "text": [
      "[I 2024-01-10 23:19:35,506] Trial 58 finished with value: 0.05195960633095334 and parameters: {'alpha': 0.5588154219753261, 'beta': 0.1162980296593861, 'gamma': 0.9475184885666657, 'delta': 0.1385172417860859, 'epsilon': 0.1447801381160715}. Best is trial 3 with value: 0.05209182695598662.\n"
     ]
    },
    {
     "name": "stdout",
     "output_type": "stream",
     "text": [
      "EvaluatorHoldout: Processed 10435 (100.0%) in 18.47 sec. Users per second: 565\n"
     ]
    },
    {
     "name": "stderr",
     "output_type": "stream",
     "text": [
      "[I 2024-01-10 23:19:54,039] Trial 59 finished with value: 0.0520137814589186 and parameters: {'alpha': 0.40408339544108385, 'beta': 0.0026910009675672475, 'gamma': 0.8334584682984681, 'delta': 0.23064773043273312, 'epsilon': 0.2827787295351111}. Best is trial 3 with value: 0.05209182695598662.\n"
     ]
    },
    {
     "name": "stdout",
     "output_type": "stream",
     "text": [
      "EvaluatorHoldout: Processed 10435 (100.0%) in 19.33 sec. Users per second: 540\n"
     ]
    },
    {
     "name": "stderr",
     "output_type": "stream",
     "text": [
      "[I 2024-01-10 23:20:13,456] Trial 60 finished with value: 0.051991318137222 and parameters: {'alpha': 0.4687099226534176, 'beta': 0.20155405211956529, 'gamma': 0.9040935463095096, 'delta': 0.08784055895111452, 'epsilon': 0.3795423155931734}. Best is trial 3 with value: 0.05209182695598662.\n"
     ]
    },
    {
     "name": "stdout",
     "output_type": "stream",
     "text": [
      "EvaluatorHoldout: Processed 10435 (100.0%) in 19.27 sec. Users per second: 542\n"
     ]
    },
    {
     "name": "stderr",
     "output_type": "stream",
     "text": [
      "[I 2024-01-10 23:20:32,815] Trial 61 finished with value: 0.052029403487957 and parameters: {'alpha': 0.5319225067882153, 'beta': 0.08771345584272691, 'gamma': 0.9485175587294534, 'delta': 0.03501664208598393, 'epsilon': 0.36292188873534126}. Best is trial 3 with value: 0.05209182695598662.\n"
     ]
    },
    {
     "name": "stdout",
     "output_type": "stream",
     "text": [
      "EvaluatorHoldout: Processed 10435 (100.0%) in 22.05 sec. Users per second: 473\n"
     ]
    },
    {
     "name": "stderr",
     "output_type": "stream",
     "text": [
      "[I 2024-01-10 23:20:54,930] Trial 62 finished with value: 0.05205717556148857 and parameters: {'alpha': 0.6035910220489612, 'beta': 0.13056297453218862, 'gamma': 0.9785487131857227, 'delta': 0.07263052079762579, 'epsilon': 0.4199356194262774}. Best is trial 3 with value: 0.05209182695598662.\n"
     ]
    },
    {
     "name": "stdout",
     "output_type": "stream",
     "text": [
      "EvaluatorHoldout: Processed 10435 (100.0%) in 16.10 sec. Users per second: 648\n"
     ]
    },
    {
     "name": "stderr",
     "output_type": "stream",
     "text": [
      "[I 2024-01-10 23:21:11,088] Trial 63 finished with value: 0.052025239388201146 and parameters: {'alpha': 0.6116839282319749, 'beta': 0.1381211377063751, 'gamma': 0.9619786824350501, 'delta': 0.12085802841222233, 'epsilon': 0.4318502982185848}. Best is trial 3 with value: 0.05209182695598662.\n"
     ]
    },
    {
     "name": "stdout",
     "output_type": "stream",
     "text": [
      "EvaluatorHoldout: Processed 10435 (100.0%) in 14.83 sec. Users per second: 704\n"
     ]
    },
    {
     "name": "stderr",
     "output_type": "stream",
     "text": [
      "[I 2024-01-10 23:21:25,956] Trial 64 finished with value: 0.05200737368897458 and parameters: {'alpha': 0.49718679516615605, 'beta': 0.17695438620862347, 'gamma': 0.9132206473914088, 'delta': 0.0349378962231508, 'epsilon': 0.3143658061400048}. Best is trial 3 with value: 0.05209182695598662.\n"
     ]
    },
    {
     "name": "stdout",
     "output_type": "stream",
     "text": [
      "EvaluatorHoldout: Processed 10435 (100.0%) in 14.93 sec. Users per second: 699\n"
     ]
    },
    {
     "name": "stderr",
     "output_type": "stream",
     "text": [
      "[I 2024-01-10 23:21:40,933] Trial 65 finished with value: 0.05198238909043948 and parameters: {'alpha': 0.9534714124791878, 'beta': 0.12141028177589339, 'gamma': 0.8434202363873056, 'delta': 0.17383285637507756, 'epsilon': 0.2557235796057713}. Best is trial 3 with value: 0.05209182695598662.\n"
     ]
    },
    {
     "name": "stdout",
     "output_type": "stream",
     "text": [
      "EvaluatorHoldout: Processed 10435 (100.0%) in 14.64 sec. Users per second: 713\n"
     ]
    },
    {
     "name": "stderr",
     "output_type": "stream",
     "text": [
      "[I 2024-01-10 23:21:55,623] Trial 66 finished with value: 0.0519881427734811 and parameters: {'alpha': 0.8715456716049215, 'beta': 0.06827226816450666, 'gamma': 0.9649117438019589, 'delta': 0.08211401374793466, 'epsilon': 0.40644761542144814}. Best is trial 3 with value: 0.05209182695598662.\n"
     ]
    },
    {
     "name": "stdout",
     "output_type": "stream",
     "text": [
      "EvaluatorHoldout: Processed 10435 (100.0%) in 14.45 sec. Users per second: 722\n"
     ]
    },
    {
     "name": "stderr",
     "output_type": "stream",
     "text": [
      "[I 2024-01-10 23:22:10,116] Trial 67 finished with value: 0.05202029570812566 and parameters: {'alpha': 0.571508410065248, 'beta': 0.1457619711463557, 'gamma': 0.8802423635840869, 'delta': 0.11604956224407592, 'epsilon': 0.34833958315214925}. Best is trial 3 with value: 0.05209182695598662.\n"
     ]
    },
    {
     "name": "stdout",
     "output_type": "stream",
     "text": [
      "EvaluatorHoldout: Processed 10435 (100.0%) in 14.79 sec. Users per second: 706\n"
     ]
    },
    {
     "name": "stderr",
     "output_type": "stream",
     "text": [
      "[I 2024-01-10 23:22:24,946] Trial 68 finished with value: 0.0519662802990551 and parameters: {'alpha': 0.8139419698245551, 'beta': 0.03542914344331254, 'gamma': 0.9108846585888732, 'delta': 0.01821475118714045, 'epsilon': 0.44394317507934167}. Best is trial 3 with value: 0.05209182695598662.\n"
     ]
    },
    {
     "name": "stdout",
     "output_type": "stream",
     "text": [
      "EvaluatorHoldout: Processed 10435 (100.0%) in 14.84 sec. Users per second: 703\n"
     ]
    },
    {
     "name": "stderr",
     "output_type": "stream",
     "text": [
      "[I 2024-01-10 23:22:39,838] Trial 69 finished with value: 0.05200894425810624 and parameters: {'alpha': 0.7330074946228158, 'beta': 0.10648927734552563, 'gamma': 0.9959001402867327, 'delta': 0.07664665055658555, 'epsilon': 0.38465879610320136}. Best is trial 3 with value: 0.05209182695598662.\n"
     ]
    },
    {
     "name": "stdout",
     "output_type": "stream",
     "text": [
      "EvaluatorHoldout: Processed 10435 (100.0%) in 15.28 sec. Users per second: 683\n"
     ]
    },
    {
     "name": "stderr",
     "output_type": "stream",
     "text": [
      "[I 2024-01-10 23:22:55,172] Trial 70 finished with value: 0.052037248727953615 and parameters: {'alpha': 0.5246557908845642, 'beta': 0.1878527268491834, 'gamma': 0.5687223573253932, 'delta': 0.2117399386835239, 'epsilon': 0.2959392520219989}. Best is trial 3 with value: 0.05209182695598662.\n"
     ]
    },
    {
     "name": "stdout",
     "output_type": "stream",
     "text": [
      "EvaluatorHoldout: Processed 10435 (100.0%) in 14.43 sec. Users per second: 723\n"
     ]
    },
    {
     "name": "stderr",
     "output_type": "stream",
     "text": [
      "[I 2024-01-10 23:23:09,640] Trial 71 finished with value: 0.05200862101748603 and parameters: {'alpha': 0.5145934015584036, 'beta': 0.19791176889241335, 'gamma': 0.5015017299051657, 'delta': 0.12821218445874338, 'epsilon': 0.28031712530282404}. Best is trial 3 with value: 0.05209182695598662.\n"
     ]
    },
    {
     "name": "stdout",
     "output_type": "stream",
     "text": [
      "EvaluatorHoldout: Processed 10435 (100.0%) in 14.40 sec. Users per second: 725\n"
     ]
    },
    {
     "name": "stderr",
     "output_type": "stream",
     "text": [
      "[I 2024-01-10 23:23:24,079] Trial 72 finished with value: 0.05197837710391673 and parameters: {'alpha': 0.44052890208373024, 'beta': 0.16603787956428342, 'gamma': 0.5725387960618115, 'delta': 0.24570132159744995, 'epsilon': 0.3175195868545008}. Best is trial 3 with value: 0.05209182695598662.\n"
     ]
    },
    {
     "name": "stdout",
     "output_type": "stream",
     "text": [
      "EvaluatorHoldout: Processed 10435 (100.0%) in 14.31 sec. Users per second: 729\n"
     ]
    },
    {
     "name": "stderr",
     "output_type": "stream",
     "text": [
      "[I 2024-01-10 23:23:38,433] Trial 73 finished with value: 0.051981609510119875 and parameters: {'alpha': 0.5370906167440179, 'beta': 0.22326483971169542, 'gamma': 0.5500049947222098, 'delta': 0.18878444918261494, 'epsilon': 0.1976492064996196}. Best is trial 3 with value: 0.05209182695598662.\n"
     ]
    },
    {
     "name": "stdout",
     "output_type": "stream",
     "text": [
      "EvaluatorHoldout: Processed 10435 (100.0%) in 14.27 sec. Users per second: 731\n"
     ]
    },
    {
     "name": "stderr",
     "output_type": "stream",
     "text": [
      "[I 2024-01-10 23:23:52,748] Trial 74 finished with value: 0.05199379378009037 and parameters: {'alpha': 0.6049730175908314, 'beta': 0.06348157192869369, 'gamma': 0.6395304495068933, 'delta': 0.03190307233948819, 'epsilon': 0.358741392547075}. Best is trial 3 with value: 0.05209182695598662.\n"
     ]
    },
    {
     "name": "stdout",
     "output_type": "stream",
     "text": [
      "EvaluatorHoldout: Processed 10435 (100.0%) in 15.23 sec. Users per second: 685\n"
     ]
    },
    {
     "name": "stderr",
     "output_type": "stream",
     "text": [
      "[I 2024-01-10 23:24:08,026] Trial 75 finished with value: 0.05198574318722906 and parameters: {'alpha': 0.48668583397920223, 'beta': 0.08765568305371685, 'gamma': 0.6728006114026234, 'delta': 0.06383179545036595, 'epsilon': 0.23701869710005935}. Best is trial 3 with value: 0.05209182695598662.\n"
     ]
    },
    {
     "name": "stdout",
     "output_type": "stream",
     "text": [
      "EvaluatorHoldout: Processed 10435 (100.0%) in 15.95 sec. Users per second: 654\n"
     ]
    },
    {
     "name": "stderr",
     "output_type": "stream",
     "text": [
      "[I 2024-01-10 23:24:24,036] Trial 76 finished with value: 0.05200181395030516 and parameters: {'alpha': 0.5648567665505689, 'beta': 0.13979784473791695, 'gamma': 0.9735821593141794, 'delta': 0.15255138438988353, 'epsilon': 0.3025154590238234}. Best is trial 3 with value: 0.05209182695598662.\n"
     ]
    },
    {
     "name": "stdout",
     "output_type": "stream",
     "text": [
      "EvaluatorHoldout: Processed 10435 (100.0%) in 16.25 sec. Users per second: 642\n"
     ]
    },
    {
     "name": "stderr",
     "output_type": "stream",
     "text": [
      "[I 2024-01-10 23:24:40,347] Trial 77 finished with value: 0.05201307793521553 and parameters: {'alpha': 0.6841242275249538, 'beta': 0.1765185483603137, 'gamma': 0.9276181626629927, 'delta': 0.10225613655239943, 'epsilon': 0.4051737806324773}. Best is trial 3 with value: 0.05209182695598662.\n"
     ]
    },
    {
     "name": "stdout",
     "output_type": "stream",
     "text": [
      "EvaluatorHoldout: Processed 10435 (100.0%) in 17.09 sec. Users per second: 611\n"
     ]
    },
    {
     "name": "stderr",
     "output_type": "stream",
     "text": [
      "[I 2024-01-10 23:24:57,488] Trial 78 finished with value: 0.05199222701378971 and parameters: {'alpha': 0.5187588060222709, 'beta': 0.2219240406346319, 'gamma': 0.969778605366498, 'delta': 0.05992148156907148, 'epsilon': 0.4584066501683023}. Best is trial 3 with value: 0.05209182695598662.\n"
     ]
    },
    {
     "name": "stdout",
     "output_type": "stream",
     "text": [
      "EvaluatorHoldout: Processed 10435 (100.0%) in 16.62 sec. Users per second: 628\n"
     ]
    },
    {
     "name": "stderr",
     "output_type": "stream",
     "text": [
      "[I 2024-01-10 23:25:14,153] Trial 79 finished with value: 0.051897414835604186 and parameters: {'alpha': 0.4630938564585545, 'beta': 0.29322176728851734, 'gamma': 0.7271654843683315, 'delta': 0.018247093105102797, 'epsilon': 0.32913822666181264}. Best is trial 3 with value: 0.05209182695598662.\n"
     ]
    },
    {
     "name": "stdout",
     "output_type": "stream",
     "text": [
      "EvaluatorHoldout: Processed 10435 (100.0%) in 18.15 sec. Users per second: 575\n"
     ]
    },
    {
     "name": "stderr",
     "output_type": "stream",
     "text": [
      "[I 2024-01-10 23:25:32,359] Trial 80 finished with value: 0.05201495273081335 and parameters: {'alpha': 0.5515051706004631, 'beta': 0.01963992967129813, 'gamma': 0.9354136256659067, 'delta': 0.2101269793236482, 'epsilon': 0.268023194916963}. Best is trial 3 with value: 0.05209182695598662.\n"
     ]
    },
    {
     "name": "stdout",
     "output_type": "stream",
     "text": [
      "EvaluatorHoldout: Processed 10435 (100.0%) in 17.81 sec. Users per second: 586\n"
     ]
    },
    {
     "name": "stderr",
     "output_type": "stream",
     "text": [
      "[I 2024-01-10 23:25:50,241] Trial 81 finished with value: 0.05200580692267373 and parameters: {'alpha': 0.6381036711163527, 'beta': 0.2616453746966746, 'gamma': 0.9989353896524212, 'delta': 0.060181515219816184, 'epsilon': 0.4151828878163305}. Best is trial 3 with value: 0.05209182695598662.\n"
     ]
    },
    {
     "name": "stdout",
     "output_type": "stream",
     "text": [
      "EvaluatorHoldout: Processed 10435 (100.0%) in 16.88 sec. Users per second: 618\n"
     ]
    },
    {
     "name": "stderr",
     "output_type": "stream",
     "text": [
      "[I 2024-01-10 23:26:07,180] Trial 82 finished with value: 0.05203546139746482 and parameters: {'alpha': 0.5902648914528713, 'beta': 0.11961680242439407, 'gamma': 0.9777204875723935, 'delta': 0.09157859015756853, 'epsilon': 0.37577022533560656}. Best is trial 3 with value: 0.05209182695598662.\n"
     ]
    },
    {
     "name": "stdout",
     "output_type": "stream",
     "text": [
      "EvaluatorHoldout: Processed 10435 (100.0%) in 17.72 sec. Users per second: 589\n"
     ]
    },
    {
     "name": "stderr",
     "output_type": "stream",
     "text": [
      "[I 2024-01-10 23:26:24,961] Trial 83 finished with value: 0.05203917676318306 and parameters: {'alpha': 0.595682129059349, 'beta': 0.11077427088873426, 'gamma': 0.8954259751024692, 'delta': 0.09725624638174354, 'epsilon': 0.37338638089134324}. Best is trial 3 with value: 0.05209182695598662.\n"
     ]
    },
    {
     "name": "stdout",
     "output_type": "stream",
     "text": [
      "EvaluatorHoldout: Processed 10435 (100.0%) in 18.63 sec. Users per second: 560\n"
     ]
    },
    {
     "name": "stderr",
     "output_type": "stream",
     "text": [
      "[I 2024-01-10 23:26:43,653] Trial 84 finished with value: 0.05199086560035344 and parameters: {'alpha': 0.6019324847983074, 'beta': 0.17799371290259847, 'gamma': 0.8947270163376877, 'delta': 0.11400380575652345, 'epsilon': 0.3402027589103004}. Best is trial 3 with value: 0.05209182695598662.\n"
     ]
    },
    {
     "name": "stdout",
     "output_type": "stream",
     "text": [
      "EvaluatorHoldout: Processed 10435 (100.0%) in 19.57 sec. Users per second: 533\n"
     ]
    },
    {
     "name": "stderr",
     "output_type": "stream",
     "text": [
      "[I 2024-01-10 23:27:03,298] Trial 85 finished with value: 0.051984693605920784 and parameters: {'alpha': 0.8719776411269807, 'beta': 0.15034216492223812, 'gamma': 0.7969392320172475, 'delta': 0.018315666461425087, 'epsilon': 0.29307891849309714}. Best is trial 3 with value: 0.05209182695598662.\n"
     ]
    },
    {
     "name": "stdout",
     "output_type": "stream",
     "text": [
      "EvaluatorHoldout: Processed 10435 (100.0%) in 19.87 sec. Users per second: 525\n"
     ]
    },
    {
     "name": "stderr",
     "output_type": "stream",
     "text": [
      "[I 2024-01-10 23:27:23,228] Trial 86 finished with value: 0.05197541850153308 and parameters: {'alpha': 0.9949683693755809, 'beta': 0.0906076105758739, 'gamma': 0.6179704656700572, 'delta': 0.135472853122104, 'epsilon': 0.39842165797344387}. Best is trial 3 with value: 0.05209182695598662.\n"
     ]
    },
    {
     "name": "stdout",
     "output_type": "stream",
     "text": [
      "EvaluatorHoldout: Processed 10435 (100.0%) in 19.26 sec. Users per second: 542\n"
     ]
    },
    {
     "name": "stderr",
     "output_type": "stream",
     "text": [
      "[I 2024-01-10 23:27:42,559] Trial 87 finished with value: 0.05206253375012414 and parameters: {'alpha': 0.5430926148465134, 'beta': 0.1151321687948718, 'gamma': 0.8542423108782679, 'delta': 0.1691510900278319, 'epsilon': 0.3578382354249047}. Best is trial 3 with value: 0.05209182695598662.\n"
     ]
    },
    {
     "name": "stdout",
     "output_type": "stream",
     "text": [
      "EvaluatorHoldout: Processed 10435 (100.0%) in 18.37 sec. Users per second: 568\n"
     ]
    },
    {
     "name": "stderr",
     "output_type": "stream",
     "text": [
      "[I 2024-01-10 23:28:00,995] Trial 88 finished with value: 0.05202173698100915 and parameters: {'alpha': 0.6172043572782893, 'beta': 0.051162970901195884, 'gamma': 0.8612496177170273, 'delta': 0.16589444228056457, 'epsilon': 0.3674906251104097}. Best is trial 3 with value: 0.05209182695598662.\n"
     ]
    },
    {
     "name": "stdout",
     "output_type": "stream",
     "text": [
      "EvaluatorHoldout: Processed 10435 (100.0%) in 19.37 sec. Users per second: 539\n"
     ]
    },
    {
     "name": "stderr",
     "output_type": "stream",
     "text": [
      "[I 2024-01-10 23:28:20,427] Trial 89 finished with value: 0.05198416881526657 and parameters: {'alpha': 0.6609283459968596, 'beta': 0.12593121087015074, 'gamma': 0.8926539178208985, 'delta': 0.0010598110991306767, 'epsilon': 0.3343852691344634}. Best is trial 3 with value: 0.05209182695598662.\n"
     ]
    },
    {
     "name": "stdout",
     "output_type": "stream",
     "text": [
      "EvaluatorHoldout: Processed 10435 (100.0%) in 19.39 sec. Users per second: 538\n"
     ]
    },
    {
     "name": "stderr",
     "output_type": "stream",
     "text": [
      "[I 2024-01-10 23:28:39,889] Trial 90 finished with value: 0.05203298195176551 and parameters: {'alpha': 0.5699116827238746, 'beta': 0.1017484171111143, 'gamma': 0.8546358561101725, 'delta': 0.048092317179336014, 'epsilon': 0.4482177880821073}. Best is trial 3 with value: 0.05209182695598662.\n"
     ]
    },
    {
     "name": "stdout",
     "output_type": "stream",
     "text": [
      "EvaluatorHoldout: Processed 10435 (100.0%) in 19.45 sec. Users per second: 537\n"
     ]
    },
    {
     "name": "stderr",
     "output_type": "stream",
     "text": [
      "[I 2024-01-10 23:28:59,402] Trial 91 finished with value: 0.052003985366707535 and parameters: {'alpha': 0.5097319200669042, 'beta': 0.0749551910881339, 'gamma': 0.9283265456197044, 'delta': 0.0847366781646073, 'epsilon': 0.30290004103599766}. Best is trial 3 with value: 0.05209182695598662.\n"
     ]
    },
    {
     "name": "stdout",
     "output_type": "stream",
     "text": [
      "EvaluatorHoldout: Processed 10435 (100.0%) in 14.94 sec. Users per second: 699\n"
     ]
    },
    {
     "name": "stderr",
     "output_type": "stream",
     "text": [
      "[I 2024-01-10 23:29:14,394] Trial 92 finished with value: 0.05198885010001501 and parameters: {'alpha': 0.5358913628736324, 'beta': 0.16126723858267542, 'gamma': 0.9450029395267135, 'delta': 0.13752024896919882, 'epsilon': 0.36600376319659816}. Best is trial 3 with value: 0.05209182695598662.\n"
     ]
    },
    {
     "name": "stdout",
     "output_type": "stream",
     "text": [
      "EvaluatorHoldout: Processed 10435 (100.0%) in 15.52 sec. Users per second: 672\n"
     ]
    },
    {
     "name": "stderr",
     "output_type": "stream",
     "text": [
      "[I 2024-01-10 23:29:29,980] Trial 93 finished with value: 0.052006088332155 and parameters: {'alpha': 0.48809050137085985, 'beta': 0.189262545755388, 'gamma': 0.8209926134561488, 'delta': 0.10528010887351824, 'epsilon': 0.27710078135759775}. Best is trial 3 with value: 0.05209182695598662.\n"
     ]
    },
    {
     "name": "stdout",
     "output_type": "stream",
     "text": [
      "EvaluatorHoldout: Processed 10435 (100.0%) in 14.54 sec. Users per second: 718\n"
     ]
    },
    {
     "name": "stderr",
     "output_type": "stream",
     "text": [
      "[I 2024-01-10 23:29:44,558] Trial 94 finished with value: 0.05203187532799468 and parameters: {'alpha': 0.5557698078554735, 'beta': 0.13099685475893488, 'gamma': 0.8881707516370756, 'delta': 0.18863515212741286, 'epsilon': 0.25054701695373716}. Best is trial 3 with value: 0.05209182695598662.\n"
     ]
    },
    {
     "name": "stdout",
     "output_type": "stream",
     "text": [
      "EvaluatorHoldout: Processed 10435 (100.0%) in 14.59 sec. Users per second: 715\n"
     ]
    },
    {
     "name": "stderr",
     "output_type": "stream",
     "text": [
      "[I 2024-01-10 23:29:59,198] Trial 95 finished with value: 0.05201838288421955 and parameters: {'alpha': 0.5770693635794454, 'beta': 0.025237705277247918, 'gamma': 0.7777273562134019, 'delta': 0.04573899907111581, 'epsilon': 0.3930954333680524}. Best is trial 3 with value: 0.05209182695598662.\n"
     ]
    },
    {
     "name": "stdout",
     "output_type": "stream",
     "text": [
      "EvaluatorHoldout: Processed 10435 (100.0%) in 15.24 sec. Users per second: 685\n"
     ]
    },
    {
     "name": "stderr",
     "output_type": "stream",
     "text": [
      "[I 2024-01-10 23:30:14,486] Trial 96 finished with value: 0.05203552224275802 and parameters: {'alpha': 0.5150278698732841, 'beta': 0.05772336438596699, 'gamma': 0.9674531731541484, 'delta': 0.07376309840917467, 'epsilon': 0.3238286007057028}. Best is trial 3 with value: 0.05209182695598662.\n"
     ]
    },
    {
     "name": "stdout",
     "output_type": "stream",
     "text": [
      "EvaluatorHoldout: Processed 10435 (100.0%) in 16.67 sec. Users per second: 626\n"
     ]
    },
    {
     "name": "stderr",
     "output_type": "stream",
     "text": [
      "[I 2024-01-10 23:30:31,212] Trial 97 finished with value: 0.051932940881192505 and parameters: {'alpha': 0.6267171996199844, 'beta': 0.10046262303071123, 'gamma': 0.8203769759500877, 'delta': 0.018708466404952773, 'epsilon': 0.2209270084606327}. Best is trial 3 with value: 0.05209182695598662.\n"
     ]
    },
    {
     "name": "stdout",
     "output_type": "stream",
     "text": [
      "EvaluatorHoldout: Processed 10435 (100.0%) in 16.24 sec. Users per second: 643\n"
     ]
    },
    {
     "name": "stderr",
     "output_type": "stream",
     "text": [
      "[I 2024-01-10 23:30:47,503] Trial 98 finished with value: 0.051975658079875246 and parameters: {'alpha': 0.47097485775865217, 'beta': 0.14909651242667293, 'gamma': 0.9162656019896793, 'delta': 0.15541898253873143, 'epsilon': 0.35112197871228584}. Best is trial 3 with value: 0.05209182695598662.\n"
     ]
    },
    {
     "name": "stdout",
     "output_type": "stream",
     "text": [
      "EvaluatorHoldout: Processed 10435 (100.0%) in 15.65 sec. Users per second: 667\n"
     ]
    },
    {
     "name": "stderr",
     "output_type": "stream",
     "text": [
      "[I 2024-01-10 23:31:03,211] Trial 99 finished with value: 0.05199317011583482 and parameters: {'alpha': 0.5405594983783872, 'beta': 0.2182830123166126, 'gamma': 0.8588037506761155, 'delta': 0.12173625308359017, 'epsilon': 0.4257548515091303}. Best is trial 3 with value: 0.05209182695598662.\n"
     ]
    },
    {
     "name": "stdout",
     "output_type": "stream",
     "text": [
      "EvaluatorHoldout: Processed 10435 (100.0%) in 16.08 sec. Users per second: 649\n"
     ]
    },
    {
     "name": "stderr",
     "output_type": "stream",
     "text": [
      "[I 2024-01-10 23:31:19,372] Trial 100 finished with value: 0.05200473072154963 and parameters: {'alpha': 0.9396717883126309, 'beta': 0.08070863796196841, 'gamma': 0.6032273756428639, 'delta': 0.05187265100881802, 'epsilon': 0.3148451618045404}. Best is trial 3 with value: 0.05209182695598662.\n"
     ]
    },
    {
     "name": "stdout",
     "output_type": "stream",
     "text": [
      "EvaluatorHoldout: Processed 10435 (100.0%) in 16.27 sec. Users per second: 641\n"
     ]
    },
    {
     "name": "stderr",
     "output_type": "stream",
     "text": [
      "[I 2024-01-10 23:31:35,702] Trial 101 finished with value: 0.052038089153566454 and parameters: {'alpha': 0.5144260678377908, 'beta': 0.049086896919169454, 'gamma': 0.9673357978627506, 'delta': 0.07299075378349176, 'epsilon': 0.3336950932690231}. Best is trial 3 with value: 0.05209182695598662.\n"
     ]
    },
    {
     "name": "stdout",
     "output_type": "stream",
     "text": [
      "EvaluatorHoldout: Processed 10435 (100.0%) in 16.97 sec. Users per second: 615\n"
     ]
    },
    {
     "name": "stderr",
     "output_type": "stream",
     "text": [
      "[I 2024-01-10 23:31:52,736] Trial 102 finished with value: 0.05201713555570818 and parameters: {'alpha': 0.592601348464913, 'beta': 0.049411955534792135, 'gamma': 0.9387835949355775, 'delta': 0.09589675398382316, 'epsilon': 0.34264310942199133}. Best is trial 3 with value: 0.05209182695598662.\n"
     ]
    },
    {
     "name": "stdout",
     "output_type": "stream",
     "text": [
      "EvaluatorHoldout: Processed 10435 (100.0%) in 17.88 sec. Users per second: 584\n"
     ]
    },
    {
     "name": "stderr",
     "output_type": "stream",
     "text": [
      "[I 2024-01-10 23:32:10,675] Trial 103 finished with value: 0.052045200447213565 and parameters: {'alpha': 0.5060212097466823, 'beta': 0.10981381718088919, 'gamma': 0.9779514912352459, 'delta': 0.02517684347067704, 'epsilon': 0.38632036318480745}. Best is trial 3 with value: 0.05209182695598662.\n"
     ]
    },
    {
     "name": "stdout",
     "output_type": "stream",
     "text": [
      "EvaluatorHoldout: Processed 10435 (100.0%) in 16.43 sec. Users per second: 635\n"
     ]
    },
    {
     "name": "stderr",
     "output_type": "stream",
     "text": [
      "[I 2024-01-10 23:32:27,171] Trial 104 finished with value: 0.05200570424624151 and parameters: {'alpha': 0.5047445435894425, 'beta': 0.1223896776513293, 'gamma': 0.9792259055560526, 'delta': 0.07602088020931005, 'epsilon': 0.390695173230768}. Best is trial 3 with value: 0.05209182695598662.\n"
     ]
    },
    {
     "name": "stdout",
     "output_type": "stream",
     "text": [
      "EvaluatorHoldout: Processed 10435 (100.0%) in 15.98 sec. Users per second: 653\n"
     ]
    },
    {
     "name": "stderr",
     "output_type": "stream",
     "text": [
      "[I 2024-01-10 23:32:43,208] Trial 105 finished with value: 0.05199367208950405 and parameters: {'alpha': 0.4503840955226243, 'beta': 0.029005348415485143, 'gamma': 0.902472062834001, 'delta': 0.020375906027750225, 'epsilon': 0.4777274007061121}. Best is trial 3 with value: 0.05209182695598662.\n"
     ]
    },
    {
     "name": "stdout",
     "output_type": "stream",
     "text": [
      "EvaluatorHoldout: Processed 10435 (100.0%) in 17.85 sec. Users per second: 585\n"
     ]
    },
    {
     "name": "stderr",
     "output_type": "stream",
     "text": [
      "[I 2024-01-10 23:33:01,122] Trial 106 finished with value: 0.05206241205953774 and parameters: {'alpha': 0.550100088907209, 'beta': 0.10630795942824404, 'gamma': 0.9564443888584637, 'delta': 0.03587519853097577, 'epsilon': 0.4317725158396094}. Best is trial 3 with value: 0.05209182695598662.\n"
     ]
    },
    {
     "name": "stdout",
     "output_type": "stream",
     "text": [
      "EvaluatorHoldout: Processed 10435 (100.0%) in 18.75 sec. Users per second: 557\n"
     ]
    },
    {
     "name": "stderr",
     "output_type": "stream",
     "text": [
      "[I 2024-01-10 23:33:19,930] Trial 107 finished with value: 0.05206326769647392 and parameters: {'alpha': 0.5444008922092107, 'beta': 0.10902994993653, 'gamma': 0.9512056538110506, 'delta': 0.03918985331163773, 'epsilon': 0.43700895033940657}. Best is trial 3 with value: 0.05209182695598662.\n"
     ]
    },
    {
     "name": "stdout",
     "output_type": "stream",
     "text": [
      "EvaluatorHoldout: Processed 10435 (100.0%) in 17.61 sec. Users per second: 592\n"
     ]
    },
    {
     "name": "stderr",
     "output_type": "stream",
     "text": [
      "[I 2024-01-10 23:33:37,615] Trial 108 finished with value: 0.052037050980750704 and parameters: {'alpha': 0.4847470838518232, 'beta': 0.07679821236401055, 'gamma': 0.9539145161879418, 'delta': 0.03050997450195662, 'epsilon': 0.4389445048811991}. Best is trial 3 with value: 0.05209182695598662.\n"
     ]
    },
    {
     "name": "stdout",
     "output_type": "stream",
     "text": [
      "EvaluatorHoldout: Processed 10435 (100.0%) in 15.28 sec. Users per second: 683\n"
     ]
    },
    {
     "name": "stderr",
     "output_type": "stream",
     "text": [
      "[I 2024-01-10 23:33:52,935] Trial 109 finished with value: 0.051998999855493035 and parameters: {'alpha': 0.5615184907558312, 'beta': 0.16804327835115535, 'gamma': 0.9973366208674376, 'delta': 0.03956848804938313, 'epsilon': 0.41334848020759696}. Best is trial 3 with value: 0.05209182695598662.\n"
     ]
    },
    {
     "name": "stdout",
     "output_type": "stream",
     "text": [
      "EvaluatorHoldout: Processed 10435 (100.0%) in 15.18 sec. Users per second: 688\n"
     ]
    },
    {
     "name": "stderr",
     "output_type": "stream",
     "text": [
      "[I 2024-01-10 23:34:08,159] Trial 110 finished with value: 0.05196795734744993 and parameters: {'alpha': 0.8877297653221732, 'beta': 0.13952290189782077, 'gamma': 0.9239899045417405, 'delta': 0.01387400658232071, 'epsilon': 0.47031697504641906}. Best is trial 3 with value: 0.05209182695598662.\n"
     ]
    },
    {
     "name": "stdout",
     "output_type": "stream",
     "text": [
      "EvaluatorHoldout: Processed 10435 (100.0%) in 16.24 sec. Users per second: 642\n"
     ]
    },
    {
     "name": "stderr",
     "output_type": "stream",
     "text": [
      "[I 2024-01-10 23:34:24,472] Trial 111 finished with value: 0.052056453023631356 and parameters: {'alpha': 0.5473658795161088, 'beta': 0.09830615996643129, 'gamma': 0.8838849415179587, 'delta': 0.05218869182578416, 'epsilon': 0.37700422145293866}. Best is trial 3 with value: 0.05209182695598662.\n"
     ]
    },
    {
     "name": "stdout",
     "output_type": "stream",
     "text": [
      "EvaluatorHoldout: Processed 10435 (100.0%) in 15.40 sec. Users per second: 678\n"
     ]
    },
    {
     "name": "stderr",
     "output_type": "stream",
     "text": [
      "[I 2024-01-10 23:34:39,935] Trial 112 finished with value: 0.051986709106259306 and parameters: {'alpha': 0.5500393643172804, 'beta': 0.0004978521202056996, 'gamma': 0.9504484684377925, 'delta': 0.04921677158178202, 'epsilon': 0.5006737853465266}. Best is trial 3 with value: 0.05209182695598662.\n"
     ]
    },
    {
     "name": "stdout",
     "output_type": "stream",
     "text": [
      "EvaluatorHoldout: Processed 10435 (100.0%) in 15.61 sec. Users per second: 669\n"
     ]
    },
    {
     "name": "stderr",
     "output_type": "stream",
     "text": [
      "[I 2024-01-10 23:34:55,596] Trial 113 finished with value: 0.05202484389379518 and parameters: {'alpha': 0.43488594836827293, 'beta': 0.10461887453038617, 'gamma': 0.9780870710733918, 'delta': 0.0006255906890482894, 'epsilon': 0.44655596931510744}. Best is trial 3 with value: 0.05209182695598662.\n"
     ]
    },
    {
     "name": "stdout",
     "output_type": "stream",
     "text": [
      "EvaluatorHoldout: Processed 10435 (100.0%) in 16.65 sec. Users per second: 627\n"
     ]
    },
    {
     "name": "stderr",
     "output_type": "stream",
     "text": [
      "[I 2024-01-10 23:35:12,296] Trial 114 finished with value: 0.05201093694145982 and parameters: {'alpha': 0.5309183107787837, 'beta': 0.0819801759056778, 'gamma': 0.8817852862124549, 'delta': 0.06407871921127221, 'epsilon': 0.4290851748953344}. Best is trial 3 with value: 0.05209182695598662.\n"
     ]
    },
    {
     "name": "stdout",
     "output_type": "stream",
     "text": [
      "EvaluatorHoldout: Processed 10435 (100.0%) in 15.03 sec. Users per second: 694\n"
     ]
    },
    {
     "name": "stderr",
     "output_type": "stream",
     "text": [
      "[I 2024-01-10 23:35:27,380] Trial 115 finished with value: 0.05200206113430902 and parameters: {'alpha': 0.49635281869005793, 'beta': 0.14399188177782457, 'gamma': 0.8431687825498927, 'delta': 0.02763929463316515, 'epsilon': 0.4028470145363965}. Best is trial 3 with value: 0.05209182695598662.\n"
     ]
    },
    {
     "name": "stdout",
     "output_type": "stream",
     "text": [
      "EvaluatorHoldout: Processed 10435 (100.0%) in 15.85 sec. Users per second: 658\n"
     ]
    },
    {
     "name": "stderr",
     "output_type": "stream",
     "text": [
      "[I 2024-01-10 23:35:43,287] Trial 116 finished with value: 0.05202974193990061 and parameters: {'alpha': 0.5714447744315085, 'beta': 0.06922499090614609, 'gamma': 0.932252874943618, 'delta': 0.04994397206269095, 'epsilon': 0.3582211657737759}. Best is trial 3 with value: 0.05209182695598662.\n"
     ]
    },
    {
     "name": "stdout",
     "output_type": "stream",
     "text": [
      "EvaluatorHoldout: Processed 10435 (100.0%) in 17.44 sec. Users per second: 598\n"
     ]
    },
    {
     "name": "stderr",
     "output_type": "stream",
     "text": [
      "[I 2024-01-10 23:36:00,792] Trial 117 finished with value: 0.052018820209764824 and parameters: {'alpha': 0.47549897080245307, 'beta': 0.10950319338657656, 'gamma': 0.912024696972668, 'delta': 0.027519367050854667, 'epsilon': 0.3893783106266575}. Best is trial 3 with value: 0.05209182695598662.\n"
     ]
    },
    {
     "name": "stdout",
     "output_type": "stream",
     "text": [
      "EvaluatorHoldout: Processed 10435 (100.0%) in 17.60 sec. Users per second: 593\n"
     ]
    },
    {
     "name": "stderr",
     "output_type": "stream",
     "text": [
      "[I 2024-01-10 23:36:18,453] Trial 118 finished with value: 0.05200881115902725 and parameters: {'alpha': 0.7874032962199681, 'beta': 0.15982812285955852, 'gamma': 0.9568474735624205, 'delta': 0.08845072134497996, 'epsilon': 0.4566764781067103}. Best is trial 3 with value: 0.05209182695598662.\n"
     ]
    },
    {
     "name": "stdout",
     "output_type": "stream",
     "text": [
      "EvaluatorHoldout: Processed 10435 (100.0%) in 14.84 sec. Users per second: 703\n"
     ]
    },
    {
     "name": "stderr",
     "output_type": "stream",
     "text": [
      "[I 2024-01-10 23:36:33,342] Trial 119 finished with value: 0.05203362463017524 and parameters: {'alpha': 0.4594974819151017, 'beta': 0.023213357048417538, 'gamma': 0.9828406212064265, 'delta': 0.1266875472005771, 'epsilon': 0.5264215250071766}. Best is trial 3 with value: 0.05209182695598662.\n"
     ]
    },
    {
     "name": "stdout",
     "output_type": "stream",
     "text": [
      "EvaluatorHoldout: Processed 10435 (100.0%) in 16.06 sec. Users per second: 650\n"
     ]
    },
    {
     "name": "stderr",
     "output_type": "stream",
     "text": [
      "[I 2024-01-10 23:36:49,454] Trial 120 finished with value: 0.051997189708019254 and parameters: {'alpha': 0.8134870638302573, 'beta': 0.20381972025433798, 'gamma': 0.9994479574380523, 'delta': 0.07186034647423596, 'epsilon': 0.3791504310617648}. Best is trial 3 with value: 0.05209182695598662.\n"
     ]
    },
    {
     "name": "stdout",
     "output_type": "stream",
     "text": [
      "EvaluatorHoldout: Processed 10435 (100.0%) in 14.28 sec. Users per second: 731\n"
     ]
    },
    {
     "name": "stderr",
     "output_type": "stream",
     "text": [
      "[I 2024-01-10 23:37:03,776] Trial 121 finished with value: 0.05205259695317247 and parameters: {'alpha': 0.5886035289467368, 'beta': 0.12022440503091614, 'gamma': 0.8997057033749583, 'delta': 0.1057773039962644, 'epsilon': 0.36757545283081267}. Best is trial 3 with value: 0.05209182695598662.\n"
     ]
    },
    {
     "name": "stdout",
     "output_type": "stream",
     "text": [
      "EvaluatorHoldout: Processed 10435 (100.0%) in 14.41 sec. Users per second: 724\n"
     ]
    },
    {
     "name": "stderr",
     "output_type": "stream",
     "text": [
      "[I 2024-01-10 23:37:18,240] Trial 122 finished with value: 0.05200127775115856 and parameters: {'alpha': 0.544412553546788, 'beta': 0.13277927477756163, 'gamma': 0.8724939422671527, 'delta': 0.11180866159532277, 'epsilon': 0.41767712472562374}. Best is trial 3 with value: 0.05209182695598662.\n"
     ]
    },
    {
     "name": "stdout",
     "output_type": "stream",
     "text": [
      "EvaluatorHoldout: Processed 10435 (100.0%) in 14.01 sec. Users per second: 745\n"
     ]
    },
    {
     "name": "stderr",
     "output_type": "stream",
     "text": [
      "[I 2024-01-10 23:37:32,307] Trial 123 finished with value: 0.05199764604771844 and parameters: {'alpha': 0.5811630172587513, 'beta': 0.11777057799981264, 'gamma': 0.8076512102763975, 'delta': 0.04861366209419293, 'epsilon': 0.35472130986450245}. Best is trial 3 with value: 0.05209182695598662.\n"
     ]
    }
   ],
   "source": [
    "study_name = \"hybrid-mixed-study\"  # Unique identifier of the study.\n",
    "storage_name = \"sqlite:///db.db\"\n",
    "#op.delete_study(study_name, storage_name)\n",
    "study = op.create_study(study_name=study_name, storage=storage_name, direction=\"maximize\", load_if_exists=True)\n",
    "#study.enqueue_trial(best_params)\n",
    "study.optimize(objective, n_trials=150)"
   ],
   "metadata": {
    "collapsed": false,
    "is_executing": true,
    "ExecuteTime": {
     "start_time": "2024-01-10T22:04:13.728870Z"
    }
   },
   "id": "52b5055a66579bf3"
  },
  {
   "cell_type": "code",
   "execution_count": 16,
   "outputs": [
    {
     "data": {
      "text/plain": "{'alpha': 0.8857667100747117,\n 'beta': 0.6379807942443021,\n 'gamma': 0.0690929184825888,\n 'delta': 0.11953478623354052}"
     },
     "execution_count": 16,
     "metadata": {},
     "output_type": "execute_result"
    }
   ],
   "source": [
    "study.best_params"
   ],
   "metadata": {
    "collapsed": false,
    "ExecuteTime": {
     "end_time": "2023-12-20T16:34:08.621166Z",
     "start_time": "2023-12-20T16:34:08.614300Z"
    }
   },
   "id": "731a6647494c1cea"
  }
 ],
 "metadata": {
  "kernelspec": {
   "display_name": "Python 3",
   "language": "python",
   "name": "python3"
  },
  "language_info": {
   "codemirror_mode": {
    "name": "ipython",
    "version": 2
   },
   "file_extension": ".py",
   "mimetype": "text/x-python",
   "name": "python",
   "nbconvert_exporter": "python",
   "pygments_lexer": "ipython2",
   "version": "2.7.6"
  }
 },
 "nbformat": 4,
 "nbformat_minor": 5
}
