{
 "cells": [
  {
   "cell_type": "code",
   "execution_count": 1,
   "id": "initial_id",
   "metadata": {
    "collapsed": true,
    "ExecuteTime": {
     "end_time": "2023-12-15T23:08:53.428667327Z",
     "start_time": "2023-12-15T23:08:50.745496324Z"
    }
   },
   "outputs": [
    {
     "name": "stdout",
     "output_type": "stream",
     "text": [
      "Warning: 212 (1.68 %) of 12638 users have no train items\n",
      "Warning: 2118 (16.76 %) of 12638 users have no sampled items\n",
      "Warning: 465 (3.68 %) of 12638 users have no train items\n",
      "Warning: 2639 (20.88 %) of 12638 users have no sampled items\n"
     ]
    }
   ],
   "source": [
    "from Data_manager.UserUtils import *\n",
    "from Data_manager.split_functions.split_train_validation_random_holdout import \\\n",
    "    split_train_in_two_percentage_global_sample\n",
    "URM_all = getURM_all()\n",
    "URM_train_validation, URM_test = split_train_in_two_percentage_global_sample(URM_all, train_percentage = 0.80)\n",
    "URM_train, URM_validation = split_train_in_two_percentage_global_sample(URM_train_validation, train_percentage = 0.80)"
   ]
  },
  {
   "cell_type": "code",
   "execution_count": 2,
   "outputs": [
    {
     "name": "stdout",
     "output_type": "stream",
     "text": [
      "EvaluatorHoldout: Ignoring 2639 (20.9%) Users that have less than 1 test interactions\n",
      "EvaluatorHoldout: Ignoring 0 Users\n"
     ]
    }
   ],
   "source": [
    "from Recommenders.GraphBased.RP3betaRecommender import RP3betaRecommender\n",
    "model = RP3betaRecommender\n",
    "\n",
    "from Evaluation.Evaluator import EvaluatorHoldout\n",
    "evaluator_validation = EvaluatorHoldout(URM_validation, cutoff_list=[10], ignore_users=[])"
   ],
   "metadata": {
    "collapsed": false,
    "ExecuteTime": {
     "end_time": "2023-12-15T23:08:53.689465521Z",
     "start_time": "2023-12-15T23:08:53.425181509Z"
    }
   },
   "id": "8a9fec0ccc4f11c5"
  },
  {
   "cell_type": "code",
   "execution_count": 6,
   "outputs": [],
   "source": [
    "import optuna as op\n",
    "def objective(trial):\n",
    "    topK = trial.suggest_int(\"topK\", 1, 1e4)\n",
    "    alpha = trial.suggest_float(\"alpha\", 0.01e-03, 0.5)\n",
    "    beta = trial.suggest_float(\"beta\", 1e-3, 0.5)\n",
    "\n",
    "    \n",
    "    recommender = model(URM_train)\n",
    "    recommender.fit(**trial.params)\n",
    "    \n",
    "    result, _ = evaluator_validation.evaluateRecommender(recommender)\n",
    "    MAP_result = result[\"MAP\"].item()\n",
    "       \n",
    "    return MAP_result"
   ],
   "metadata": {
    "collapsed": false,
    "ExecuteTime": {
     "end_time": "2023-12-15T23:10:26.070528764Z",
     "start_time": "2023-12-15T23:10:26.057883996Z"
    }
   },
   "id": "b826576f6714c764"
  },
  {
   "cell_type": "code",
   "execution_count": 7,
   "outputs": [
    {
     "name": "stderr",
     "output_type": "stream",
     "text": [
      "/tmp/ipykernel_55892/294790089.py:17: FutureWarning: delete_study() got {'study_name', 'storage'} as positional arguments but they were expected to be given as keyword arguments.\n",
      "  op.delete_study(study_name, storage_name)\n",
      "[I 2023-12-16 00:10:33,714] A new study created in RDB with name: rp3beta-study\n"
     ]
    },
    {
     "name": "stdout",
     "output_type": "stream",
     "text": [
      "RP3betaRecommender: URM Detected 465 ( 3.7%) users with no interactions.\n",
      "RP3betaRecommender: URM Detected 336 ( 1.5%) items with no interactions.\n",
      "RP3betaRecommender: Similarity column 22222 (100.0%), 4104.12 column/sec. Elapsed time 5.41 sec\n",
      "EvaluatorHoldout: Processed 9999 (100.0%) in 4.14 sec. Users per second: 2418\n"
     ]
    },
    {
     "name": "stderr",
     "output_type": "stream",
     "text": [
      "[I 2023-12-16 00:10:44,886] Trial 0 finished with value: 0.02950252961804127 and parameters: {'topK': 101, 'alpha': 0.3026342852596128, 'beta': 0.058468783118329024}. Best is trial 0 with value: 0.02950252961804127.\n"
     ]
    },
    {
     "name": "stdout",
     "output_type": "stream",
     "text": [
      "RP3betaRecommender: URM Detected 465 ( 3.7%) users with no interactions.\n",
      "RP3betaRecommender: URM Detected 336 ( 1.5%) items with no interactions.\n",
      "RP3betaRecommender: Similarity column 22222 (100.0%), 5957.50 column/sec. Elapsed time 3.73 sec\n",
      "EvaluatorHoldout: Processed 9999 (100.0%) in 3.86 sec. Users per second: 2589\n"
     ]
    },
    {
     "name": "stderr",
     "output_type": "stream",
     "text": [
      "[I 2023-12-16 00:10:53,337] Trial 1 finished with value: 0.02990566913834253 and parameters: {'topK': 32, 'alpha': 0.22028996694465927, 'beta': 0.17339063177346345}. Best is trial 1 with value: 0.02990566913834253.\n"
     ]
    },
    {
     "name": "stdout",
     "output_type": "stream",
     "text": [
      "RP3betaRecommender: URM Detected 465 ( 3.7%) users with no interactions.\n",
      "RP3betaRecommender: URM Detected 336 ( 1.5%) items with no interactions.\n",
      "RP3betaRecommender: Similarity column 22222 (100.0%), 1146.07 column/sec. Elapsed time 19.39 sec\n",
      "EvaluatorHoldout: Processed 9999 (100.0%) in 7.89 sec. Users per second: 1268\n"
     ]
    },
    {
     "name": "stderr",
     "output_type": "stream",
     "text": [
      "[I 2023-12-16 00:11:36,482] Trial 2 finished with value: 0.01868422556541368 and parameters: {'topK': 3605, 'alpha': 0.17927828528731257, 'beta': 0.3800184992765416}. Best is trial 1 with value: 0.02990566913834253.\n"
     ]
    },
    {
     "name": "stdout",
     "output_type": "stream",
     "text": [
      "RP3betaRecommender: URM Detected 465 ( 3.7%) users with no interactions.\n",
      "RP3betaRecommender: URM Detected 336 ( 1.5%) items with no interactions.\n",
      "RP3betaRecommender: Similarity column 22222 (100.0%), 1099.00 column/sec. Elapsed time 20.22 sec\n",
      "EvaluatorHoldout: Processed 9999 (100.0%) in 8.38 sec. Users per second: 1193\n"
     ]
    },
    {
     "name": "stderr",
     "output_type": "stream",
     "text": [
      "[I 2023-12-16 00:12:22,378] Trial 3 finished with value: 0.016060947364577735 and parameters: {'topK': 7769, 'alpha': 0.1568442593297654, 'beta': 0.4383787037159127}. Best is trial 1 with value: 0.02990566913834253.\n"
     ]
    },
    {
     "name": "stdout",
     "output_type": "stream",
     "text": [
      "RP3betaRecommender: URM Detected 465 ( 3.7%) users with no interactions.\n",
      "RP3betaRecommender: URM Detected 336 ( 1.5%) items with no interactions.\n",
      "RP3betaRecommender: Similarity column 22222 (100.0%), 1119.06 column/sec. Elapsed time 19.86 sec\n",
      "EvaluatorHoldout: Processed 9999 (100.0%) in 9.29 sec. Users per second: 1076\n"
     ]
    },
    {
     "name": "stderr",
     "output_type": "stream",
     "text": [
      "[I 2023-12-16 00:13:09,860] Trial 4 finished with value: 0.019949332234810775 and parameters: {'topK': 5752, 'alpha': 0.4366126202547041, 'beta': 0.18739092326330814}. Best is trial 1 with value: 0.02990566913834253.\n"
     ]
    },
    {
     "name": "stdout",
     "output_type": "stream",
     "text": [
      "RP3betaRecommender: URM Detected 465 ( 3.7%) users with no interactions.\n",
      "RP3betaRecommender: URM Detected 336 ( 1.5%) items with no interactions.\n",
      "RP3betaRecommender: Similarity column 22222 (100.0%), 1238.69 column/sec. Elapsed time 17.94 sec\n",
      "EvaluatorHoldout: Processed 9999 (100.0%) in 7.05 sec. Users per second: 1419\n"
     ]
    },
    {
     "name": "stderr",
     "output_type": "stream",
     "text": [
      "[I 2023-12-16 00:13:47,405] Trial 5 finished with value: 0.02018074426490277 and parameters: {'topK': 1770, 'alpha': 0.42211492099649506, 'beta': 0.38509473610085265}. Best is trial 1 with value: 0.02990566913834253.\n"
     ]
    },
    {
     "name": "stdout",
     "output_type": "stream",
     "text": [
      "RP3betaRecommender: URM Detected 465 ( 3.7%) users with no interactions.\n",
      "RP3betaRecommender: URM Detected 336 ( 1.5%) items with no interactions.\n",
      "RP3betaRecommender: Similarity column 22222 (100.0%), 1445.34 column/sec. Elapsed time 15.37 sec\n",
      "EvaluatorHoldout: Processed 9999 (100.0%) in 6.45 sec. Users per second: 1551\n"
     ]
    },
    {
     "name": "stderr",
     "output_type": "stream",
     "text": [
      "[I 2023-12-16 00:14:20,278] Trial 6 finished with value: 0.023655758432986184 and parameters: {'topK': 1205, 'alpha': 0.27995138408607734, 'beta': 0.14692375182256184}. Best is trial 1 with value: 0.02990566913834253.\n"
     ]
    },
    {
     "name": "stdout",
     "output_type": "stream",
     "text": [
      "RP3betaRecommender: URM Detected 465 ( 3.7%) users with no interactions.\n",
      "RP3betaRecommender: URM Detected 336 ( 1.5%) items with no interactions.\n",
      "RP3betaRecommender: Similarity column 22222 (100.0%), 1125.55 column/sec. Elapsed time 19.74 sec\n",
      "EvaluatorHoldout: Processed 9999 (100.0%) in 8.05 sec. Users per second: 1242\n"
     ]
    },
    {
     "name": "stderr",
     "output_type": "stream",
     "text": [
      "[I 2023-12-16 00:15:03,973] Trial 7 finished with value: 0.019269343601026806 and parameters: {'topK': 3511, 'alpha': 0.40070462778310867, 'beta': 0.37261663824520447}. Best is trial 1 with value: 0.02990566913834253.\n"
     ]
    },
    {
     "name": "stdout",
     "output_type": "stream",
     "text": [
      "RP3betaRecommender: URM Detected 465 ( 3.7%) users with no interactions.\n",
      "RP3betaRecommender: URM Detected 336 ( 1.5%) items with no interactions.\n",
      "RP3betaRecommender: Similarity column 22222 (100.0%), 1276.94 column/sec. Elapsed time 17.40 sec\n",
      "EvaluatorHoldout: Processed 9999 (100.0%) in 6.66 sec. Users per second: 1500\n"
     ]
    },
    {
     "name": "stderr",
     "output_type": "stream",
     "text": [
      "[I 2023-12-16 00:15:41,039] Trial 8 finished with value: 0.02214349212699048 and parameters: {'topK': 1427, 'alpha': 0.1750710516221385, 'beta': 0.3063128593600676}. Best is trial 1 with value: 0.02990566913834253.\n"
     ]
    },
    {
     "name": "stdout",
     "output_type": "stream",
     "text": [
      "RP3betaRecommender: URM Detected 465 ( 3.7%) users with no interactions.\n",
      "RP3betaRecommender: URM Detected 336 ( 1.5%) items with no interactions.\n",
      "RP3betaRecommender: Similarity column 22222 (100.0%), 1105.73 column/sec. Elapsed time 20.10 sec\n",
      "EvaluatorHoldout: Processed 9999 (100.0%) in 8.28 sec. Users per second: 1207\n"
     ]
    },
    {
     "name": "stderr",
     "output_type": "stream",
     "text": [
      "[I 2023-12-16 00:16:28,592] Trial 9 finished with value: 0.016588559649615753 and parameters: {'topK': 7601, 'alpha': 0.28997254112083587, 'beta': 0.05108209591809136}. Best is trial 1 with value: 0.02990566913834253.\n"
     ]
    },
    {
     "name": "stdout",
     "output_type": "stream",
     "text": [
      "RP3betaRecommender: URM Detected 465 ( 3.7%) users with no interactions.\n",
      "RP3betaRecommender: URM Detected 336 ( 1.5%) items with no interactions.\n",
      "RP3betaRecommender: Similarity column 22222 (100.0%), 1065.27 column/sec. Elapsed time 20.86 sec\n",
      "EvaluatorHoldout: Processed 9999 (100.0%) in 8.73 sec. Users per second: 1145\n"
     ]
    },
    {
     "name": "stderr",
     "output_type": "stream",
     "text": [
      "[I 2023-12-16 00:17:18,749] Trial 10 finished with value: 0.017626294375469323 and parameters: {'topK': 9653, 'alpha': 0.0025602771744568653, 'beta': 0.23146838000759726}. Best is trial 1 with value: 0.02990566913834253.\n"
     ]
    },
    {
     "name": "stdout",
     "output_type": "stream",
     "text": [
      "RP3betaRecommender: URM Detected 465 ( 3.7%) users with no interactions.\n",
      "RP3betaRecommender: URM Detected 336 ( 1.5%) items with no interactions.\n",
      "RP3betaRecommender: Similarity column 22222 (100.0%), 2377.00 column/sec. Elapsed time 9.35 sec\n",
      "EvaluatorHoldout: Processed 9999 (100.0%) in 4.41 sec. Users per second: 2269\n"
     ]
    },
    {
     "name": "stderr",
     "output_type": "stream",
     "text": [
      "[I 2023-12-16 00:17:36,934] Trial 11 finished with value: 0.026989147327431257 and parameters: {'topK': 371, 'alpha': 0.33207576136418393, 'beta': 0.03418750616529892}. Best is trial 1 with value: 0.02990566913834253.\n"
     ]
    },
    {
     "name": "stdout",
     "output_type": "stream",
     "text": [
      "RP3betaRecommender: URM Detected 465 ( 3.7%) users with no interactions.\n",
      "RP3betaRecommender: URM Detected 336 ( 1.5%) items with no interactions.\n",
      "RP3betaRecommender: Similarity column 22222 (100.0%), 1144.41 column/sec. Elapsed time 19.42 sec\n",
      "EvaluatorHoldout: Processed 9999 (100.0%) in 7.59 sec. Users per second: 1317\n"
     ]
    },
    {
     "name": "stderr",
     "output_type": "stream",
     "text": [
      "[I 2023-12-16 00:18:18,686] Trial 12 finished with value: 0.02097288697123685 and parameters: {'topK': 3033, 'alpha': 0.0811100727809774, 'beta': 0.12039447269452286}. Best is trial 1 with value: 0.02990566913834253.\n"
     ]
    },
    {
     "name": "stdout",
     "output_type": "stream",
     "text": [
      "RP3betaRecommender: URM Detected 465 ( 3.7%) users with no interactions.\n",
      "RP3betaRecommender: URM Detected 336 ( 1.5%) items with no interactions.\n",
      "RP3betaRecommender: Similarity column 22222 (100.0%), 3353.32 column/sec. Elapsed time 6.63 sec\n",
      "EvaluatorHoldout: Processed 9999 (100.0%) in 4.26 sec. Users per second: 2346\n"
     ]
    },
    {
     "name": "stderr",
     "output_type": "stream",
     "text": [
      "[I 2023-12-16 00:18:32,440] Trial 13 finished with value: 0.02839979632883945 and parameters: {'topK': 185, 'alpha': 0.23059860011188704, 'beta': 0.09016149951136426}. Best is trial 1 with value: 0.02990566913834253.\n"
     ]
    },
    {
     "name": "stdout",
     "output_type": "stream",
     "text": [
      "RP3betaRecommender: URM Detected 465 ( 3.7%) users with no interactions.\n",
      "RP3betaRecommender: URM Detected 336 ( 1.5%) items with no interactions.\n",
      "RP3betaRecommender: Similarity column 22222 (100.0%), 1219.41 column/sec. Elapsed time 18.22 sec\n",
      "EvaluatorHoldout: Processed 9999 (100.0%) in 7.08 sec. Users per second: 1412\n"
     ]
    },
    {
     "name": "stderr",
     "output_type": "stream",
     "text": [
      "[I 2023-12-16 00:19:11,215] Trial 14 finished with value: 0.021250418692662944 and parameters: {'topK': 2296, 'alpha': 0.49556302898127713, 'beta': 0.005232899658470652}. Best is trial 1 with value: 0.02990566913834253.\n"
     ]
    },
    {
     "name": "stdout",
     "output_type": "stream",
     "text": [
      "RP3betaRecommender: URM Detected 465 ( 3.7%) users with no interactions.\n",
      "RP3betaRecommender: URM Detected 336 ( 1.5%) items with no interactions.\n",
      "RP3betaRecommender: Similarity column 22222 (100.0%), 1044.26 column/sec. Elapsed time 21.28 sec\n",
      "EvaluatorHoldout: Processed 9999 (100.0%) in 8.37 sec. Users per second: 1194\n"
     ]
    },
    {
     "name": "stderr",
     "output_type": "stream",
     "text": [
      "[I 2023-12-16 00:20:00,789] Trial 15 finished with value: 0.021102237207847777 and parameters: {'topK': 4605, 'alpha': 0.35512571853123054, 'beta': 0.2557044412462959}. Best is trial 1 with value: 0.02990566913834253.\n"
     ]
    },
    {
     "name": "stdout",
     "output_type": "stream",
     "text": [
      "RP3betaRecommender: URM Detected 465 ( 3.7%) users with no interactions.\n",
      "RP3betaRecommender: URM Detected 336 ( 1.5%) items with no interactions.\n",
      "RP3betaRecommender: Similarity column 22222 (100.0%), 5559.84 column/sec. Elapsed time 4.00 sec\n",
      "EvaluatorHoldout: Processed 9999 (100.0%) in 4.67 sec. Users per second: 2140\n"
     ]
    },
    {
     "name": "stderr",
     "output_type": "stream",
     "text": [
      "[I 2023-12-16 00:20:10,404] Trial 16 finished with value: 0.029742148818056525 and parameters: {'topK': 33, 'alpha': 0.23645837554566912, 'beta': 0.18267421380308427}. Best is trial 1 with value: 0.02990566913834253.\n"
     ]
    },
    {
     "name": "stdout",
     "output_type": "stream",
     "text": [
      "RP3betaRecommender: URM Detected 465 ( 3.7%) users with no interactions.\n",
      "RP3betaRecommender: URM Detected 336 ( 1.5%) items with no interactions.\n",
      "RP3betaRecommender: Similarity column 22222 (100.0%), 962.41 column/sec. Elapsed time 23.09 sec\n",
      "EvaluatorHoldout: Processed 9999 (100.0%) in 9.01 sec. Users per second: 1110\n"
     ]
    },
    {
     "name": "stderr",
     "output_type": "stream",
     "text": [
      "[I 2023-12-16 00:21:00,486] Trial 17 finished with value: 0.019971572554080837 and parameters: {'topK': 5491, 'alpha': 0.22143312816348426, 'beta': 0.17813147684496053}. Best is trial 1 with value: 0.02990566913834253.\n"
     ]
    },
    {
     "name": "stdout",
     "output_type": "stream",
     "text": [
      "RP3betaRecommender: URM Detected 465 ( 3.7%) users with no interactions.\n",
      "RP3betaRecommender: URM Detected 336 ( 1.5%) items with no interactions.\n",
      "RP3betaRecommender: Similarity column 22222 (100.0%), 1068.21 column/sec. Elapsed time 20.80 sec\n",
      "EvaluatorHoldout: Processed 9999 (100.0%) in 8.36 sec. Users per second: 1195\n"
     ]
    },
    {
     "name": "stderr",
     "output_type": "stream",
     "text": [
      "[I 2023-12-16 00:21:45,094] Trial 18 finished with value: 0.021202846475123754 and parameters: {'topK': 2627, 'alpha': 0.09160316668737226, 'beta': 0.2818445168783554}. Best is trial 1 with value: 0.02990566913834253.\n"
     ]
    },
    {
     "name": "stdout",
     "output_type": "stream",
     "text": [
      "RP3betaRecommender: URM Detected 465 ( 3.7%) users with no interactions.\n",
      "RP3betaRecommender: URM Detected 336 ( 1.5%) items with no interactions.\n",
      "RP3betaRecommender: Similarity column 22222 (100.0%), 1371.33 column/sec. Elapsed time 16.20 sec\n",
      "EvaluatorHoldout: Processed 9999 (100.0%) in 6.31 sec. Users per second: 1585\n"
     ]
    },
    {
     "name": "stderr",
     "output_type": "stream",
     "text": [
      "[I 2023-12-16 00:22:17,405] Trial 19 finished with value: 0.02351653816175271 and parameters: {'topK': 897, 'alpha': 0.09455541521291769, 'beta': 0.21671082695918942}. Best is trial 1 with value: 0.02990566913834253.\n"
     ]
    },
    {
     "name": "stdout",
     "output_type": "stream",
     "text": [
      "RP3betaRecommender: URM Detected 465 ( 3.7%) users with no interactions.\n",
      "RP3betaRecommender: URM Detected 336 ( 1.5%) items with no interactions.\n",
      "RP3betaRecommender: Similarity column 22222 (100.0%), 971.24 column/sec. Elapsed time 22.88 sec\n",
      "EvaluatorHoldout: Processed 9999 (100.0%) in 8.98 sec. Users per second: 1113\n"
     ]
    },
    {
     "name": "stderr",
     "output_type": "stream",
     "text": [
      "[I 2023-12-16 00:23:08,647] Trial 20 finished with value: 0.012519434483130839 and parameters: {'topK': 4326, 'alpha': 0.2389295184088909, 'beta': 0.49839620921651695}. Best is trial 1 with value: 0.02990566913834253.\n"
     ]
    },
    {
     "name": "stdout",
     "output_type": "stream",
     "text": [
      "RP3betaRecommender: URM Detected 465 ( 3.7%) users with no interactions.\n",
      "RP3betaRecommender: URM Detected 336 ( 1.5%) items with no interactions.\n",
      "RP3betaRecommender: Similarity column 22222 (100.0%), 3614.35 column/sec. Elapsed time 6.15 sec\n",
      "EvaluatorHoldout: Processed 9999 (100.0%) in 4.14 sec. Users per second: 2418\n"
     ]
    },
    {
     "name": "stderr",
     "output_type": "stream",
     "text": [
      "[I 2023-12-16 00:23:21,144] Trial 21 finished with value: 0.02924191625511764 and parameters: {'topK': 130, 'alpha': 0.3146604112331679, 'beta': 0.09271722358770368}. Best is trial 1 with value: 0.02990566913834253.\n"
     ]
    },
    {
     "name": "stdout",
     "output_type": "stream",
     "text": [
      "RP3betaRecommender: URM Detected 465 ( 3.7%) users with no interactions.\n",
      "RP3betaRecommender: URM Detected 336 ( 1.5%) items with no interactions.\n",
      "RP3betaRecommender: Similarity column 22222 (100.0%), 4880.03 column/sec. Elapsed time 4.55 sec\n",
      "EvaluatorHoldout: Processed 9999 (100.0%) in 4.25 sec. Users per second: 2354\n"
     ]
    },
    {
     "name": "stderr",
     "output_type": "stream",
     "text": [
      "[I 2023-12-16 00:23:31,352] Trial 22 finished with value: 0.02988300020478253 and parameters: {'topK': 59, 'alpha': 0.25446691439635305, 'beta': 0.12828820650510164}. Best is trial 1 with value: 0.02990566913834253.\n"
     ]
    },
    {
     "name": "stdout",
     "output_type": "stream",
     "text": [
      "RP3betaRecommender: URM Detected 465 ( 3.7%) users with no interactions.\n",
      "RP3betaRecommender: URM Detected 336 ( 1.5%) items with no interactions.\n",
      "RP3betaRecommender: Similarity column 22222 (100.0%), 1177.49 column/sec. Elapsed time 18.87 sec\n",
      "EvaluatorHoldout: Processed 9999 (100.0%) in 6.85 sec. Users per second: 1460\n"
     ]
    },
    {
     "name": "stderr",
     "output_type": "stream",
     "text": [
      "[I 2023-12-16 00:24:10,006] Trial 23 finished with value: 0.02234107934602982 and parameters: {'topK': 1829, 'alpha': 0.13680315760330203, 'beta': 0.15511629302785915}. Best is trial 1 with value: 0.02990566913834253.\n"
     ]
    },
    {
     "name": "stdout",
     "output_type": "stream",
     "text": [
      "RP3betaRecommender: URM Detected 465 ( 3.7%) users with no interactions.\n",
      "RP3betaRecommender: URM Detected 336 ( 1.5%) items with no interactions.\n",
      "RP3betaRecommender: Similarity column 22222 (100.0%), 1476.73 column/sec. Elapsed time 15.05 sec\n",
      "EvaluatorHoldout: Processed 9999 (100.0%) in 5.66 sec. Users per second: 1768\n"
     ]
    },
    {
     "name": "stderr",
     "output_type": "stream",
     "text": [
      "[I 2023-12-16 00:24:39,807] Trial 24 finished with value: 0.023965761655530656 and parameters: {'topK': 948, 'alpha': 0.1984859775019358, 'beta': 0.12571041995946014}. Best is trial 1 with value: 0.02990566913834253.\n"
     ]
    },
    {
     "name": "stdout",
     "output_type": "stream",
     "text": [
      "RP3betaRecommender: URM Detected 465 ( 3.7%) users with no interactions.\n",
      "RP3betaRecommender: URM Detected 336 ( 1.5%) items with no interactions.\n",
      "RP3betaRecommender: Similarity column 22222 (100.0%), 1225.72 column/sec. Elapsed time 18.13 sec\n",
      "EvaluatorHoldout: Processed 9999 (100.0%) in 7.53 sec. Users per second: 1328\n"
     ]
    },
    {
     "name": "stderr",
     "output_type": "stream",
     "text": [
      "[I 2023-12-16 00:25:19,985] Trial 25 finished with value: 0.022438585128354123 and parameters: {'topK': 2059, 'alpha': 0.26140745209329913, 'beta': 0.19609378741377267}. Best is trial 1 with value: 0.02990566913834253.\n"
     ]
    },
    {
     "name": "stdout",
     "output_type": "stream",
     "text": [
      "RP3betaRecommender: URM Detected 465 ( 3.7%) users with no interactions.\n",
      "RP3betaRecommender: URM Detected 336 ( 1.5%) items with no interactions.\n",
      "RP3betaRecommender: Similarity column 22222 (100.0%), 1463.92 column/sec. Elapsed time 15.18 sec\n",
      "EvaluatorHoldout: Processed 9999 (100.0%) in 6.24 sec. Users per second: 1604\n"
     ]
    },
    {
     "name": "stderr",
     "output_type": "stream",
     "text": [
      "[I 2023-12-16 00:25:51,449] Trial 26 finished with value: 0.02311687517958149 and parameters: {'topK': 870, 'alpha': 0.13083236777197138, 'beta': 0.3025555732215309}. Best is trial 1 with value: 0.02990566913834253.\n"
     ]
    },
    {
     "name": "stdout",
     "output_type": "stream",
     "text": [
      "RP3betaRecommender: URM Detected 465 ( 3.7%) users with no interactions.\n",
      "RP3betaRecommender: URM Detected 336 ( 1.5%) items with no interactions.\n",
      "RP3betaRecommender: Similarity column 22222 (100.0%), 967.42 column/sec. Elapsed time 22.97 sec\n",
      "EvaluatorHoldout: Processed 9999 (100.0%) in 8.85 sec. Users per second: 1130\n"
     ]
    },
    {
     "name": "stderr",
     "output_type": "stream",
     "text": [
      "[I 2023-12-16 00:26:42,751] Trial 27 finished with value: 0.017842808090332795 and parameters: {'topK': 6990, 'alpha': 0.3786628770674141, 'beta': 0.1012438871601485}. Best is trial 1 with value: 0.02990566913834253.\n"
     ]
    },
    {
     "name": "stdout",
     "output_type": "stream",
     "text": [
      "RP3betaRecommender: URM Detected 465 ( 3.7%) users with no interactions.\n",
      "RP3betaRecommender: URM Detected 336 ( 1.5%) items with no interactions.\n",
      "RP3betaRecommender: Similarity column 22222 (100.0%), 921.75 column/sec. Elapsed time 24.11 sec\n",
      "EvaluatorHoldout: Processed 9999 (100.0%) in 8.72 sec. Users per second: 1147\n"
     ]
    },
    {
     "name": "stderr",
     "output_type": "stream",
     "text": [
      "[I 2023-12-16 00:27:34,586] Trial 28 finished with value: 0.018312180424391623 and parameters: {'topK': 9568, 'alpha': 0.20219134807157363, 'beta': 0.2547370127210163}. Best is trial 1 with value: 0.02990566913834253.\n"
     ]
    },
    {
     "name": "stdout",
     "output_type": "stream",
     "text": [
      "RP3betaRecommender: URM Detected 465 ( 3.7%) users with no interactions.\n",
      "RP3betaRecommender: URM Detected 336 ( 1.5%) items with no interactions.\n",
      "RP3betaRecommender: Similarity column 22222 (100.0%), 2472.22 column/sec. Elapsed time 8.99 sec\n",
      "EvaluatorHoldout: Processed 9999 (100.0%) in 4.53 sec. Users per second: 2205\n"
     ]
    },
    {
     "name": "stderr",
     "output_type": "stream",
     "text": [
      "[I 2023-12-16 00:27:52,834] Trial 29 finished with value: 0.02663690972271834 and parameters: {'topK': 293, 'alpha': 0.2583370802327286, 'beta': 0.15615806162919865}. Best is trial 1 with value: 0.02990566913834253.\n"
     ]
    },
    {
     "name": "stdout",
     "output_type": "stream",
     "text": [
      "RP3betaRecommender: URM Detected 465 ( 3.7%) users with no interactions.\n",
      "RP3betaRecommender: URM Detected 336 ( 1.5%) items with no interactions.\n",
      "RP3betaRecommender: Similarity column 22222 (100.0%), 1583.25 column/sec. Elapsed time 14.04 sec\n",
      "EvaluatorHoldout: Processed 9999 (100.0%) in 5.73 sec. Users per second: 1746\n"
     ]
    },
    {
     "name": "stderr",
     "output_type": "stream",
     "text": [
      "[I 2023-12-16 00:28:20,789] Trial 30 finished with value: 0.024728254571488903 and parameters: {'topK': 736, 'alpha': 0.29946407780478074, 'beta': 0.06770812226036076}. Best is trial 1 with value: 0.02990566913834253.\n"
     ]
    },
    {
     "name": "stdout",
     "output_type": "stream",
     "text": [
      "RP3betaRecommender: URM Detected 465 ( 3.7%) users with no interactions.\n",
      "RP3betaRecommender: URM Detected 336 ( 1.5%) items with no interactions.\n",
      "RP3betaRecommender: Similarity column 22222 (100.0%), 3688.53 column/sec. Elapsed time 6.02 sec\n",
      "EvaluatorHoldout: Processed 9999 (100.0%) in 4.45 sec. Users per second: 2249\n"
     ]
    },
    {
     "name": "stderr",
     "output_type": "stream",
     "text": [
      "[I 2023-12-16 00:28:33,328] Trial 31 finished with value: 0.0292920561897461 and parameters: {'topK': 124, 'alpha': 0.3382115498372045, 'beta': 0.06756657149391186}. Best is trial 1 with value: 0.02990566913834253.\n"
     ]
    },
    {
     "name": "stdout",
     "output_type": "stream",
     "text": [
      "RP3betaRecommender: URM Detected 465 ( 3.7%) users with no interactions.\n",
      "RP3betaRecommender: URM Detected 336 ( 1.5%) items with no interactions.\n",
      "RP3betaRecommender: Similarity column 22222 (100.0%), 1197.28 column/sec. Elapsed time 18.56 sec\n",
      "EvaluatorHoldout: Processed 9999 (100.0%) in 6.20 sec. Users per second: 1613\n"
     ]
    },
    {
     "name": "stderr",
     "output_type": "stream",
     "text": [
      "[I 2023-12-16 00:29:10,365] Trial 32 finished with value: 0.022891749492409567 and parameters: {'topK': 1477, 'alpha': 0.265379235112314, 'beta': 0.020796255210203334}. Best is trial 1 with value: 0.02990566913834253.\n"
     ]
    },
    {
     "name": "stdout",
     "output_type": "stream",
     "text": [
      "RP3betaRecommender: URM Detected 465 ( 3.7%) users with no interactions.\n",
      "RP3betaRecommender: URM Detected 336 ( 1.5%) items with no interactions.\n",
      "RP3betaRecommender: Similarity column 22222 (100.0%), 1060.96 column/sec. Elapsed time 20.95 sec\n",
      "EvaluatorHoldout: Processed 9999 (100.0%) in 8.05 sec. Users per second: 1242\n"
     ]
    },
    {
     "name": "stderr",
     "output_type": "stream",
     "text": [
      "[I 2023-12-16 00:29:55,259] Trial 33 finished with value: 0.021198937354052858 and parameters: {'topK': 2844, 'alpha': 0.16627510685245556, 'beta': 0.1317662039783019}. Best is trial 1 with value: 0.02990566913834253.\n"
     ]
    },
    {
     "name": "stdout",
     "output_type": "stream",
     "text": [
      "RP3betaRecommender: URM Detected 465 ( 3.7%) users with no interactions.\n",
      "RP3betaRecommender: URM Detected 336 ( 1.5%) items with no interactions.\n",
      "RP3betaRecommender: Similarity column 22222 (100.0%), 5625.26 column/sec. Elapsed time 3.95 sec\n",
      "EvaluatorHoldout: Processed 9999 (100.0%) in 4.57 sec. Users per second: 2189\n"
     ]
    },
    {
     "name": "stderr",
     "output_type": "stream",
     "text": [
      "[I 2023-12-16 00:30:04,819] Trial 34 finished with value: 0.029739501727950774 and parameters: {'topK': 36, 'alpha': 0.1937840382704001, 'beta': 0.18909404843090286}. Best is trial 1 with value: 0.02990566913834253.\n"
     ]
    },
    {
     "name": "stdout",
     "output_type": "stream",
     "text": [
      "RP3betaRecommender: URM Detected 465 ( 3.7%) users with no interactions.\n",
      "RP3betaRecommender: URM Detected 336 ( 1.5%) items with no interactions.\n",
      "RP3betaRecommender: Similarity column 22222 (100.0%), 1671.68 column/sec. Elapsed time 13.29 sec\n",
      "EvaluatorHoldout: Processed 9999 (100.0%) in 5.78 sec. Users per second: 1729\n"
     ]
    },
    {
     "name": "stderr",
     "output_type": "stream",
     "text": [
      "[I 2023-12-16 00:30:32,148] Trial 35 finished with value: 0.024249512252812595 and parameters: {'topK': 688, 'alpha': 0.21485950314983088, 'beta': 0.21160889561154034}. Best is trial 1 with value: 0.02990566913834253.\n"
     ]
    },
    {
     "name": "stdout",
     "output_type": "stream",
     "text": [
      "RP3betaRecommender: URM Detected 465 ( 3.7%) users with no interactions.\n",
      "RP3betaRecommender: URM Detected 336 ( 1.5%) items with no interactions.\n",
      "RP3betaRecommender: Similarity column 22222 (100.0%), 1288.34 column/sec. Elapsed time 17.25 sec\n",
      "EvaluatorHoldout: Processed 9999 (100.0%) in 6.66 sec. Users per second: 1501\n"
     ]
    },
    {
     "name": "stderr",
     "output_type": "stream",
     "text": [
      "[I 2023-12-16 00:31:07,698] Trial 36 finished with value: 0.022801919080796963 and parameters: {'topK': 1415, 'alpha': 0.13069652860400907, 'beta': 0.17206096362475906}. Best is trial 1 with value: 0.02990566913834253.\n"
     ]
    },
    {
     "name": "stdout",
     "output_type": "stream",
     "text": [
      "RP3betaRecommender: URM Detected 465 ( 3.7%) users with no interactions.\n",
      "RP3betaRecommender: URM Detected 336 ( 1.5%) items with no interactions.\n",
      "RP3betaRecommender: Similarity column 22222 (100.0%), 5802.70 column/sec. Elapsed time 3.83 sec\n",
      "EvaluatorHoldout: Processed 9999 (100.0%) in 4.19 sec. Users per second: 2384\n"
     ]
    },
    {
     "name": "stderr",
     "output_type": "stream",
     "text": [
      "[I 2023-12-16 00:31:16,759] Trial 37 finished with value: 0.029500073023175484 and parameters: {'topK': 31, 'alpha': 0.18908784944246543, 'beta': 0.23456279453026835}. Best is trial 1 with value: 0.02990566913834253.\n"
     ]
    },
    {
     "name": "stdout",
     "output_type": "stream",
     "text": [
      "RP3betaRecommender: URM Detected 465 ( 3.7%) users with no interactions.\n",
      "RP3betaRecommender: URM Detected 336 ( 1.5%) items with no interactions.\n",
      "RP3betaRecommender: Similarity column 22222 (100.0%), 1130.45 column/sec. Elapsed time 19.66 sec\n",
      "EvaluatorHoldout: Processed 9999 (100.0%) in 7.88 sec. Users per second: 1269\n"
     ]
    },
    {
     "name": "stderr",
     "output_type": "stream",
     "text": [
      "[I 2023-12-16 00:32:00,018] Trial 38 finished with value: 0.02215283036240134 and parameters: {'topK': 2182, 'alpha': 0.2445266191731288, 'beta': 0.19466429127818596}. Best is trial 1 with value: 0.02990566913834253.\n"
     ]
    },
    {
     "name": "stdout",
     "output_type": "stream",
     "text": [
      "RP3betaRecommender: URM Detected 465 ( 3.7%) users with no interactions.\n",
      "RP3betaRecommender: URM Detected 336 ( 1.5%) items with no interactions.\n",
      "RP3betaRecommender: Similarity column 22222 (100.0%), 1201.70 column/sec. Elapsed time 18.49 sec\n",
      "EvaluatorHoldout: Processed 9999 (100.0%) in 7.44 sec. Users per second: 1344\n"
     ]
    },
    {
     "name": "stderr",
     "output_type": "stream",
     "text": [
      "[I 2023-12-16 00:32:38,017] Trial 39 finished with value: 0.022547417440156717 and parameters: {'topK': 1335, 'alpha': 0.15123689005803123, 'beta': 0.2735451837255626}. Best is trial 1 with value: 0.02990566913834253.\n"
     ]
    },
    {
     "name": "stdout",
     "output_type": "stream",
     "text": [
      "RP3betaRecommender: URM Detected 465 ( 3.7%) users with no interactions.\n",
      "RP3betaRecommender: URM Detected 336 ( 1.5%) items with no interactions.\n",
      "RP3betaRecommender: Similarity column 22222 (100.0%), 925.50 column/sec. Elapsed time 24.01 sec\n",
      "EvaluatorHoldout: Processed 9999 (100.0%) in 8.11 sec. Users per second: 1233\n"
     ]
    },
    {
     "name": "stderr",
     "output_type": "stream",
     "text": [
      "[I 2023-12-16 00:33:29,249] Trial 40 finished with value: 0.020349423831272053 and parameters: {'topK': 4074, 'alpha': 0.27906775139024287, 'beta': 0.3292082749042887}. Best is trial 1 with value: 0.02990566913834253.\n"
     ]
    },
    {
     "name": "stdout",
     "output_type": "stream",
     "text": [
      "RP3betaRecommender: URM Detected 465 ( 3.7%) users with no interactions.\n",
      "RP3betaRecommender: URM Detected 336 ( 1.5%) items with no interactions.\n",
      "RP3betaRecommender: Similarity column 22222 (100.0%), 1715.49 column/sec. Elapsed time 12.95 sec\n",
      "EvaluatorHoldout: Processed 9999 (100.0%) in 5.43 sec. Users per second: 1842\n"
     ]
    },
    {
     "name": "stderr",
     "output_type": "stream",
     "text": [
      "[I 2023-12-16 00:33:55,307] Trial 41 finished with value: 0.02463187985465208 and parameters: {'topK': 706, 'alpha': 0.30154171496402826, 'beta': 0.14469713147123264}. Best is trial 1 with value: 0.02990566913834253.\n"
     ]
    },
    {
     "name": "stdout",
     "output_type": "stream",
     "text": [
      "RP3betaRecommender: URM Detected 465 ( 3.7%) users with no interactions.\n",
      "RP3betaRecommender: URM Detected 336 ( 1.5%) items with no interactions.\n",
      "RP3betaRecommender: Similarity column 22222 (100.0%), 6970.71 column/sec. Elapsed time 3.19 sec\n",
      "EvaluatorHoldout: Processed 9999 (100.0%) in 4.08 sec. Users per second: 2449\n"
     ]
    },
    {
     "name": "stderr",
     "output_type": "stream",
     "text": [
      "[I 2023-12-16 00:34:03,032] Trial 42 finished with value: 0.02550593948283715 and parameters: {'topK': 8, 'alpha': 0.22311525481640895, 'beta': 0.11855843875635833}. Best is trial 1 with value: 0.02990566913834253.\n"
     ]
    },
    {
     "name": "stdout",
     "output_type": "stream",
     "text": [
      "RP3betaRecommender: URM Detected 465 ( 3.7%) users with no interactions.\n",
      "RP3betaRecommender: URM Detected 336 ( 1.5%) items with no interactions.\n",
      "RP3betaRecommender: Similarity column 22222 (100.0%), 1092.68 column/sec. Elapsed time 20.34 sec\n",
      "EvaluatorHoldout: Processed 9999 (100.0%) in 7.85 sec. Users per second: 1274\n"
     ]
    },
    {
     "name": "stderr",
     "output_type": "stream",
     "text": [
      "[I 2023-12-16 00:34:47,255] Trial 43 finished with value: 0.02011723791426768 and parameters: {'topK': 3485, 'alpha': 0.18171365266639383, 'beta': 0.06545904849915621}. Best is trial 1 with value: 0.02990566913834253.\n"
     ]
    },
    {
     "name": "stdout",
     "output_type": "stream",
     "text": [
      "RP3betaRecommender: URM Detected 465 ( 3.7%) users with no interactions.\n",
      "RP3betaRecommender: URM Detected 336 ( 1.5%) items with no interactions.\n",
      "RP3betaRecommender: Similarity column 22222 (100.0%), 1690.39 column/sec. Elapsed time 13.15 sec\n",
      "EvaluatorHoldout: Processed 9999 (100.0%) in 5.53 sec. Users per second: 1807\n"
     ]
    },
    {
     "name": "stderr",
     "output_type": "stream",
     "text": [
      "[I 2023-12-16 00:35:13,573] Trial 44 finished with value: 0.02499080860466998 and parameters: {'topK': 572, 'alpha': 0.3229752559261869, 'beta': 0.17497775454806713}. Best is trial 1 with value: 0.02990566913834253.\n"
     ]
    },
    {
     "name": "stdout",
     "output_type": "stream",
     "text": [
      "RP3betaRecommender: URM Detected 465 ( 3.7%) users with no interactions.\n",
      "RP3betaRecommender: URM Detected 336 ( 1.5%) items with no interactions.\n",
      "RP3betaRecommender: Similarity column 22222 (100.0%), 1237.35 column/sec. Elapsed time 17.96 sec\n",
      "EvaluatorHoldout: Processed 9999 (100.0%) in 6.15 sec. Users per second: 1626\n"
     ]
    },
    {
     "name": "stderr",
     "output_type": "stream",
     "text": [
      "[I 2023-12-16 00:35:49,145] Trial 45 finished with value: 0.023699854112395346 and parameters: {'topK': 1148, 'alpha': 0.36318568317712185, 'beta': 0.10204989862644702}. Best is trial 1 with value: 0.02990566913834253.\n"
     ]
    },
    {
     "name": "stdout",
     "output_type": "stream",
     "text": [
      "RP3betaRecommender: URM Detected 465 ( 3.7%) users with no interactions.\n",
      "RP3betaRecommender: URM Detected 336 ( 1.5%) items with no interactions.\n",
      "RP3betaRecommender: Similarity column 22222 (100.0%), 1100.99 column/sec. Elapsed time 20.18 sec\n",
      "EvaluatorHoldout: Processed 9999 (100.0%) in 7.33 sec. Users per second: 1364\n"
     ]
    },
    {
     "name": "stderr",
     "output_type": "stream",
     "text": [
      "[I 2023-12-16 00:36:30,930] Trial 46 finished with value: 0.0224876495586067 and parameters: {'topK': 1696, 'alpha': 0.28440093298639674, 'beta': 0.04145045164784816}. Best is trial 1 with value: 0.02990566913834253.\n"
     ]
    },
    {
     "name": "stdout",
     "output_type": "stream",
     "text": [
      "RP3betaRecommender: URM Detected 465 ( 3.7%) users with no interactions.\n",
      "RP3betaRecommender: URM Detected 336 ( 1.5%) items with no interactions.\n",
      "RP3betaRecommender: Similarity column 22222 (100.0%), 1866.95 column/sec. Elapsed time 11.90 sec\n",
      "EvaluatorHoldout: Processed 9999 (100.0%) in 5.61 sec. Users per second: 1781\n"
     ]
    },
    {
     "name": "stderr",
     "output_type": "stream",
     "text": [
      "[I 2023-12-16 00:36:55,785] Trial 47 finished with value: 0.024869748879649878 and parameters: {'topK': 540, 'alpha': 0.24429496244161772, 'beta': 0.2192210569715753}. Best is trial 1 with value: 0.02990566913834253.\n"
     ]
    },
    {
     "name": "stdout",
     "output_type": "stream",
     "text": [
      "RP3betaRecommender: URM Detected 465 ( 3.7%) users with no interactions.\n",
      "RP3betaRecommender: URM Detected 336 ( 1.5%) items with no interactions.\n",
      "RP3betaRecommender: Similarity column 22222 (100.0%), 1016.49 column/sec. Elapsed time 21.86 sec\n",
      "EvaluatorHoldout: Processed 9999 (100.0%) in 8.78 sec. Users per second: 1139\n"
     ]
    },
    {
     "name": "stderr",
     "output_type": "stream",
     "text": [
      "[I 2023-12-16 00:37:45,694] Trial 48 finished with value: 0.01896330109201389 and parameters: {'topK': 5927, 'alpha': 0.020493915742957114, 'beta': 0.1580618817916547}. Best is trial 1 with value: 0.02990566913834253.\n"
     ]
    },
    {
     "name": "stdout",
     "output_type": "stream",
     "text": [
      "RP3betaRecommender: URM Detected 465 ( 3.7%) users with no interactions.\n",
      "RP3betaRecommender: URM Detected 336 ( 1.5%) items with no interactions.\n",
      "RP3betaRecommender: Similarity column 22222 (100.0%), 1015.79 column/sec. Elapsed time 21.88 sec\n",
      "EvaluatorHoldout: Processed 9999 (100.0%) in 9.11 sec. Users per second: 1098\n"
     ]
    },
    {
     "name": "stderr",
     "output_type": "stream",
     "text": [
      "[I 2023-12-16 00:38:36,096] Trial 49 finished with value: 0.016551524200039077 and parameters: {'topK': 8610, 'alpha': 0.41533217791281607, 'beta': 0.08528856538114013}. Best is trial 1 with value: 0.02990566913834253.\n"
     ]
    },
    {
     "name": "stdout",
     "output_type": "stream",
     "text": [
      "RP3betaRecommender: URM Detected 465 ( 3.7%) users with no interactions.\n",
      "RP3betaRecommender: URM Detected 336 ( 1.5%) items with no interactions.\n",
      "RP3betaRecommender: Similarity column 22222 (100.0%), 1230.02 column/sec. Elapsed time 18.07 sec\n",
      "EvaluatorHoldout: Processed 9999 (100.0%) in 6.63 sec. Users per second: 1507\n"
     ]
    },
    {
     "name": "stderr",
     "output_type": "stream",
     "text": [
      "[I 2023-12-16 00:39:12,216] Trial 50 finished with value: 0.023469672364061837 and parameters: {'topK': 1160, 'alpha': 0.21172743404673458, 'beta': 0.18800243379819173}. Best is trial 1 with value: 0.02990566913834253.\n"
     ]
    },
    {
     "name": "stdout",
     "output_type": "stream",
     "text": [
      "RP3betaRecommender: URM Detected 465 ( 3.7%) users with no interactions.\n",
      "RP3betaRecommender: URM Detected 336 ( 1.5%) items with no interactions.\n",
      "RP3betaRecommender: Similarity column 22222 (100.0%), 4476.89 column/sec. Elapsed time 4.96 sec\n",
      "EvaluatorHoldout: Processed 9999 (100.0%) in 4.27 sec. Users per second: 2342\n"
     ]
    },
    {
     "name": "stderr",
     "output_type": "stream",
     "text": [
      "[I 2023-12-16 00:39:22,944] Trial 51 finished with value: 0.029776437961256525 and parameters: {'topK': 51, 'alpha': 0.18593213762101063, 'beta': 0.2248235661792767}. Best is trial 1 with value: 0.02990566913834253.\n"
     ]
    },
    {
     "name": "stdout",
     "output_type": "stream",
     "text": [
      "RP3betaRecommender: URM Detected 465 ( 3.7%) users with no interactions.\n",
      "RP3betaRecommender: URM Detected 336 ( 1.5%) items with no interactions.\n",
      "RP3betaRecommender: Similarity column 22222 (100.0%), 1994.04 column/sec. Elapsed time 11.14 sec\n",
      "EvaluatorHoldout: Processed 9999 (100.0%) in 5.39 sec. Users per second: 1856\n"
     ]
    },
    {
     "name": "stderr",
     "output_type": "stream",
     "text": [
      "[I 2023-12-16 00:39:46,248] Trial 52 finished with value: 0.024687897361164658 and parameters: {'topK': 477, 'alpha': 0.1608834335360167, 'beta': 0.2450507100329733}. Best is trial 1 with value: 0.02990566913834253.\n"
     ]
    },
    {
     "name": "stdout",
     "output_type": "stream",
     "text": [
      "RP3betaRecommender: URM Detected 465 ( 3.7%) users with no interactions.\n",
      "RP3betaRecommender: URM Detected 336 ( 1.5%) items with no interactions.\n",
      "RP3betaRecommender: Similarity column 22222 (100.0%), 1972.73 column/sec. Elapsed time 11.26 sec\n"
     ]
    },
    {
     "name": "stderr",
     "output_type": "stream",
     "text": [
      "[W 2023-12-16 00:40:01,958] Trial 53 failed with parameters: {'topK': 429, 'alpha': 0.18352301255863934, 'beta': 0.2197531908134651} because of the following error: KeyboardInterrupt().\n",
      "Traceback (most recent call last):\n",
      "  File \"/home/alessandro/RecSys-2023-polimi/venv/lib/python3.9/site-packages/optuna/study/_optimize.py\", line 200, in _run_trial\n",
      "    value_or_values = func(trial)\n",
      "  File \"/tmp/ipykernel_55892/2745064418.py\", line 9, in objective\n",
      "    recommender.fit(**trial.params)\n",
      "  File \"/home/alessandro/RecSys-2023-polimi/Recommenders/GraphBased/RP3betaRecommender.py\", line 136, in fit\n",
      "    self.W_sparse = similarityMatrixTopK(self.W_sparse, k=self.topK)\n",
      "  File \"/home/alessandro/RecSys-2023-polimi/Recommenders/Recommender_utils.py\", line 121, in similarityMatrixTopK\n",
      "    similarity_builder.add_data_lists(row_list_to_add = column_row_index,\n",
      "  File \"/home/alessandro/RecSys-2023-polimi/Recommenders/Similarity/Compute_Similarity_Python.py\", line 52, in add_data_lists\n",
      "    self._row_array[self._next_cell_pointer] = row_list_to_add[data_point_index]\n",
      "KeyboardInterrupt\n",
      "[W 2023-12-16 00:40:01,959] Trial 53 failed with value None.\n"
     ]
    },
    {
     "ename": "KeyboardInterrupt",
     "evalue": "",
     "output_type": "error",
     "traceback": [
      "\u001B[0;31m---------------------------------------------------------------------------\u001B[0m",
      "\u001B[0;31mKeyboardInterrupt\u001B[0m                         Traceback (most recent call last)",
      "Cell \u001B[0;32mIn[7], line 21\u001B[0m\n\u001B[1;32m     19\u001B[0m study\u001B[38;5;241m.\u001B[39menqueue_trial(best_params)\n\u001B[1;32m     20\u001B[0m study\u001B[38;5;241m.\u001B[39menqueue_trial(test_params)\n\u001B[0;32m---> 21\u001B[0m \u001B[43mstudy\u001B[49m\u001B[38;5;241;43m.\u001B[39;49m\u001B[43moptimize\u001B[49m\u001B[43m(\u001B[49m\u001B[43mobjective\u001B[49m\u001B[43m,\u001B[49m\u001B[43m \u001B[49m\u001B[43mn_trials\u001B[49m\u001B[38;5;241;43m=\u001B[39;49m\u001B[38;5;241;43m100\u001B[39;49m\u001B[43m)\u001B[49m\n",
      "File \u001B[0;32m~/RecSys-2023-polimi/venv/lib/python3.9/site-packages/optuna/study/study.py:451\u001B[0m, in \u001B[0;36mStudy.optimize\u001B[0;34m(self, func, n_trials, timeout, n_jobs, catch, callbacks, gc_after_trial, show_progress_bar)\u001B[0m\n\u001B[1;32m    348\u001B[0m \u001B[38;5;28;01mdef\u001B[39;00m \u001B[38;5;21moptimize\u001B[39m(\n\u001B[1;32m    349\u001B[0m     \u001B[38;5;28mself\u001B[39m,\n\u001B[1;32m    350\u001B[0m     func: ObjectiveFuncType,\n\u001B[0;32m   (...)\u001B[0m\n\u001B[1;32m    357\u001B[0m     show_progress_bar: \u001B[38;5;28mbool\u001B[39m \u001B[38;5;241m=\u001B[39m \u001B[38;5;28;01mFalse\u001B[39;00m,\n\u001B[1;32m    358\u001B[0m ) \u001B[38;5;241m-\u001B[39m\u001B[38;5;241m>\u001B[39m \u001B[38;5;28;01mNone\u001B[39;00m:\n\u001B[1;32m    359\u001B[0m \u001B[38;5;250m    \u001B[39m\u001B[38;5;124;03m\"\"\"Optimize an objective function.\u001B[39;00m\n\u001B[1;32m    360\u001B[0m \n\u001B[1;32m    361\u001B[0m \u001B[38;5;124;03m    Optimization is done by choosing a suitable set of hyperparameter values from a given\u001B[39;00m\n\u001B[0;32m   (...)\u001B[0m\n\u001B[1;32m    449\u001B[0m \u001B[38;5;124;03m            If nested invocation of this method occurs.\u001B[39;00m\n\u001B[1;32m    450\u001B[0m \u001B[38;5;124;03m    \"\"\"\u001B[39;00m\n\u001B[0;32m--> 451\u001B[0m     \u001B[43m_optimize\u001B[49m\u001B[43m(\u001B[49m\n\u001B[1;32m    452\u001B[0m \u001B[43m        \u001B[49m\u001B[43mstudy\u001B[49m\u001B[38;5;241;43m=\u001B[39;49m\u001B[38;5;28;43mself\u001B[39;49m\u001B[43m,\u001B[49m\n\u001B[1;32m    453\u001B[0m \u001B[43m        \u001B[49m\u001B[43mfunc\u001B[49m\u001B[38;5;241;43m=\u001B[39;49m\u001B[43mfunc\u001B[49m\u001B[43m,\u001B[49m\n\u001B[1;32m    454\u001B[0m \u001B[43m        \u001B[49m\u001B[43mn_trials\u001B[49m\u001B[38;5;241;43m=\u001B[39;49m\u001B[43mn_trials\u001B[49m\u001B[43m,\u001B[49m\n\u001B[1;32m    455\u001B[0m \u001B[43m        \u001B[49m\u001B[43mtimeout\u001B[49m\u001B[38;5;241;43m=\u001B[39;49m\u001B[43mtimeout\u001B[49m\u001B[43m,\u001B[49m\n\u001B[1;32m    456\u001B[0m \u001B[43m        \u001B[49m\u001B[43mn_jobs\u001B[49m\u001B[38;5;241;43m=\u001B[39;49m\u001B[43mn_jobs\u001B[49m\u001B[43m,\u001B[49m\n\u001B[1;32m    457\u001B[0m \u001B[43m        \u001B[49m\u001B[43mcatch\u001B[49m\u001B[38;5;241;43m=\u001B[39;49m\u001B[38;5;28;43mtuple\u001B[39;49m\u001B[43m(\u001B[49m\u001B[43mcatch\u001B[49m\u001B[43m)\u001B[49m\u001B[43m \u001B[49m\u001B[38;5;28;43;01mif\u001B[39;49;00m\u001B[43m \u001B[49m\u001B[38;5;28;43misinstance\u001B[39;49m\u001B[43m(\u001B[49m\u001B[43mcatch\u001B[49m\u001B[43m,\u001B[49m\u001B[43m \u001B[49m\u001B[43mIterable\u001B[49m\u001B[43m)\u001B[49m\u001B[43m \u001B[49m\u001B[38;5;28;43;01melse\u001B[39;49;00m\u001B[43m \u001B[49m\u001B[43m(\u001B[49m\u001B[43mcatch\u001B[49m\u001B[43m,\u001B[49m\u001B[43m)\u001B[49m\u001B[43m,\u001B[49m\n\u001B[1;32m    458\u001B[0m \u001B[43m        \u001B[49m\u001B[43mcallbacks\u001B[49m\u001B[38;5;241;43m=\u001B[39;49m\u001B[43mcallbacks\u001B[49m\u001B[43m,\u001B[49m\n\u001B[1;32m    459\u001B[0m \u001B[43m        \u001B[49m\u001B[43mgc_after_trial\u001B[49m\u001B[38;5;241;43m=\u001B[39;49m\u001B[43mgc_after_trial\u001B[49m\u001B[43m,\u001B[49m\n\u001B[1;32m    460\u001B[0m \u001B[43m        \u001B[49m\u001B[43mshow_progress_bar\u001B[49m\u001B[38;5;241;43m=\u001B[39;49m\u001B[43mshow_progress_bar\u001B[49m\u001B[43m,\u001B[49m\n\u001B[1;32m    461\u001B[0m \u001B[43m    \u001B[49m\u001B[43m)\u001B[49m\n",
      "File \u001B[0;32m~/RecSys-2023-polimi/venv/lib/python3.9/site-packages/optuna/study/_optimize.py:66\u001B[0m, in \u001B[0;36m_optimize\u001B[0;34m(study, func, n_trials, timeout, n_jobs, catch, callbacks, gc_after_trial, show_progress_bar)\u001B[0m\n\u001B[1;32m     64\u001B[0m \u001B[38;5;28;01mtry\u001B[39;00m:\n\u001B[1;32m     65\u001B[0m     \u001B[38;5;28;01mif\u001B[39;00m n_jobs \u001B[38;5;241m==\u001B[39m \u001B[38;5;241m1\u001B[39m:\n\u001B[0;32m---> 66\u001B[0m         \u001B[43m_optimize_sequential\u001B[49m\u001B[43m(\u001B[49m\n\u001B[1;32m     67\u001B[0m \u001B[43m            \u001B[49m\u001B[43mstudy\u001B[49m\u001B[43m,\u001B[49m\n\u001B[1;32m     68\u001B[0m \u001B[43m            \u001B[49m\u001B[43mfunc\u001B[49m\u001B[43m,\u001B[49m\n\u001B[1;32m     69\u001B[0m \u001B[43m            \u001B[49m\u001B[43mn_trials\u001B[49m\u001B[43m,\u001B[49m\n\u001B[1;32m     70\u001B[0m \u001B[43m            \u001B[49m\u001B[43mtimeout\u001B[49m\u001B[43m,\u001B[49m\n\u001B[1;32m     71\u001B[0m \u001B[43m            \u001B[49m\u001B[43mcatch\u001B[49m\u001B[43m,\u001B[49m\n\u001B[1;32m     72\u001B[0m \u001B[43m            \u001B[49m\u001B[43mcallbacks\u001B[49m\u001B[43m,\u001B[49m\n\u001B[1;32m     73\u001B[0m \u001B[43m            \u001B[49m\u001B[43mgc_after_trial\u001B[49m\u001B[43m,\u001B[49m\n\u001B[1;32m     74\u001B[0m \u001B[43m            \u001B[49m\u001B[43mreseed_sampler_rng\u001B[49m\u001B[38;5;241;43m=\u001B[39;49m\u001B[38;5;28;43;01mFalse\u001B[39;49;00m\u001B[43m,\u001B[49m\n\u001B[1;32m     75\u001B[0m \u001B[43m            \u001B[49m\u001B[43mtime_start\u001B[49m\u001B[38;5;241;43m=\u001B[39;49m\u001B[38;5;28;43;01mNone\u001B[39;49;00m\u001B[43m,\u001B[49m\n\u001B[1;32m     76\u001B[0m \u001B[43m            \u001B[49m\u001B[43mprogress_bar\u001B[49m\u001B[38;5;241;43m=\u001B[39;49m\u001B[43mprogress_bar\u001B[49m\u001B[43m,\u001B[49m\n\u001B[1;32m     77\u001B[0m \u001B[43m        \u001B[49m\u001B[43m)\u001B[49m\n\u001B[1;32m     78\u001B[0m     \u001B[38;5;28;01melse\u001B[39;00m:\n\u001B[1;32m     79\u001B[0m         \u001B[38;5;28;01mif\u001B[39;00m n_jobs \u001B[38;5;241m==\u001B[39m \u001B[38;5;241m-\u001B[39m\u001B[38;5;241m1\u001B[39m:\n",
      "File \u001B[0;32m~/RecSys-2023-polimi/venv/lib/python3.9/site-packages/optuna/study/_optimize.py:163\u001B[0m, in \u001B[0;36m_optimize_sequential\u001B[0;34m(study, func, n_trials, timeout, catch, callbacks, gc_after_trial, reseed_sampler_rng, time_start, progress_bar)\u001B[0m\n\u001B[1;32m    160\u001B[0m         \u001B[38;5;28;01mbreak\u001B[39;00m\n\u001B[1;32m    162\u001B[0m \u001B[38;5;28;01mtry\u001B[39;00m:\n\u001B[0;32m--> 163\u001B[0m     frozen_trial \u001B[38;5;241m=\u001B[39m \u001B[43m_run_trial\u001B[49m\u001B[43m(\u001B[49m\u001B[43mstudy\u001B[49m\u001B[43m,\u001B[49m\u001B[43m \u001B[49m\u001B[43mfunc\u001B[49m\u001B[43m,\u001B[49m\u001B[43m \u001B[49m\u001B[43mcatch\u001B[49m\u001B[43m)\u001B[49m\n\u001B[1;32m    164\u001B[0m \u001B[38;5;28;01mfinally\u001B[39;00m:\n\u001B[1;32m    165\u001B[0m     \u001B[38;5;66;03m# The following line mitigates memory problems that can be occurred in some\u001B[39;00m\n\u001B[1;32m    166\u001B[0m     \u001B[38;5;66;03m# environments (e.g., services that use computing containers such as GitHub Actions).\u001B[39;00m\n\u001B[1;32m    167\u001B[0m     \u001B[38;5;66;03m# Please refer to the following PR for further details:\u001B[39;00m\n\u001B[1;32m    168\u001B[0m     \u001B[38;5;66;03m# https://github.com/optuna/optuna/pull/325.\u001B[39;00m\n\u001B[1;32m    169\u001B[0m     \u001B[38;5;28;01mif\u001B[39;00m gc_after_trial:\n",
      "File \u001B[0;32m~/RecSys-2023-polimi/venv/lib/python3.9/site-packages/optuna/study/_optimize.py:251\u001B[0m, in \u001B[0;36m_run_trial\u001B[0;34m(study, func, catch)\u001B[0m\n\u001B[1;32m    244\u001B[0m         \u001B[38;5;28;01massert\u001B[39;00m \u001B[38;5;28;01mFalse\u001B[39;00m, \u001B[38;5;124m\"\u001B[39m\u001B[38;5;124mShould not reach.\u001B[39m\u001B[38;5;124m\"\u001B[39m\n\u001B[1;32m    246\u001B[0m \u001B[38;5;28;01mif\u001B[39;00m (\n\u001B[1;32m    247\u001B[0m     frozen_trial\u001B[38;5;241m.\u001B[39mstate \u001B[38;5;241m==\u001B[39m TrialState\u001B[38;5;241m.\u001B[39mFAIL\n\u001B[1;32m    248\u001B[0m     \u001B[38;5;129;01mand\u001B[39;00m func_err \u001B[38;5;129;01mis\u001B[39;00m \u001B[38;5;129;01mnot\u001B[39;00m \u001B[38;5;28;01mNone\u001B[39;00m\n\u001B[1;32m    249\u001B[0m     \u001B[38;5;129;01mand\u001B[39;00m \u001B[38;5;129;01mnot\u001B[39;00m \u001B[38;5;28misinstance\u001B[39m(func_err, catch)\n\u001B[1;32m    250\u001B[0m ):\n\u001B[0;32m--> 251\u001B[0m     \u001B[38;5;28;01mraise\u001B[39;00m func_err\n\u001B[1;32m    252\u001B[0m \u001B[38;5;28;01mreturn\u001B[39;00m frozen_trial\n",
      "File \u001B[0;32m~/RecSys-2023-polimi/venv/lib/python3.9/site-packages/optuna/study/_optimize.py:200\u001B[0m, in \u001B[0;36m_run_trial\u001B[0;34m(study, func, catch)\u001B[0m\n\u001B[1;32m    198\u001B[0m \u001B[38;5;28;01mwith\u001B[39;00m get_heartbeat_thread(trial\u001B[38;5;241m.\u001B[39m_trial_id, study\u001B[38;5;241m.\u001B[39m_storage):\n\u001B[1;32m    199\u001B[0m     \u001B[38;5;28;01mtry\u001B[39;00m:\n\u001B[0;32m--> 200\u001B[0m         value_or_values \u001B[38;5;241m=\u001B[39m \u001B[43mfunc\u001B[49m\u001B[43m(\u001B[49m\u001B[43mtrial\u001B[49m\u001B[43m)\u001B[49m\n\u001B[1;32m    201\u001B[0m     \u001B[38;5;28;01mexcept\u001B[39;00m exceptions\u001B[38;5;241m.\u001B[39mTrialPruned \u001B[38;5;28;01mas\u001B[39;00m e:\n\u001B[1;32m    202\u001B[0m         \u001B[38;5;66;03m# TODO(mamu): Handle multi-objective cases.\u001B[39;00m\n\u001B[1;32m    203\u001B[0m         state \u001B[38;5;241m=\u001B[39m TrialState\u001B[38;5;241m.\u001B[39mPRUNED\n",
      "Cell \u001B[0;32mIn[6], line 9\u001B[0m, in \u001B[0;36mobjective\u001B[0;34m(trial)\u001B[0m\n\u001B[1;32m      5\u001B[0m beta \u001B[38;5;241m=\u001B[39m trial\u001B[38;5;241m.\u001B[39msuggest_float(\u001B[38;5;124m\"\u001B[39m\u001B[38;5;124mbeta\u001B[39m\u001B[38;5;124m\"\u001B[39m, \u001B[38;5;241m1e-3\u001B[39m, \u001B[38;5;241m0.5\u001B[39m)\n\u001B[1;32m      8\u001B[0m recommender \u001B[38;5;241m=\u001B[39m model(URM_train)\n\u001B[0;32m----> 9\u001B[0m \u001B[43mrecommender\u001B[49m\u001B[38;5;241;43m.\u001B[39;49m\u001B[43mfit\u001B[49m\u001B[43m(\u001B[49m\u001B[38;5;241;43m*\u001B[39;49m\u001B[38;5;241;43m*\u001B[39;49m\u001B[43mtrial\u001B[49m\u001B[38;5;241;43m.\u001B[39;49m\u001B[43mparams\u001B[49m\u001B[43m)\u001B[49m\n\u001B[1;32m     11\u001B[0m result, _ \u001B[38;5;241m=\u001B[39m evaluator_validation\u001B[38;5;241m.\u001B[39mevaluateRecommender(recommender)\n\u001B[1;32m     12\u001B[0m MAP_result \u001B[38;5;241m=\u001B[39m result[\u001B[38;5;124m\"\u001B[39m\u001B[38;5;124mMAP\u001B[39m\u001B[38;5;124m\"\u001B[39m]\u001B[38;5;241m.\u001B[39mitem()\n",
      "File \u001B[0;32m~/RecSys-2023-polimi/Recommenders/GraphBased/RP3betaRecommender.py:136\u001B[0m, in \u001B[0;36mRP3betaRecommender.fit\u001B[0;34m(self, alpha, beta, min_rating, topK, implicit, normalize_similarity)\u001B[0m\n\u001B[1;32m    132\u001B[0m     \u001B[38;5;28mself\u001B[39m\u001B[38;5;241m.\u001B[39mW_sparse \u001B[38;5;241m=\u001B[39m normalize(\u001B[38;5;28mself\u001B[39m\u001B[38;5;241m.\u001B[39mW_sparse, norm\u001B[38;5;241m=\u001B[39m\u001B[38;5;124m'\u001B[39m\u001B[38;5;124ml1\u001B[39m\u001B[38;5;124m'\u001B[39m, axis\u001B[38;5;241m=\u001B[39m\u001B[38;5;241m1\u001B[39m)\n\u001B[1;32m    135\u001B[0m \u001B[38;5;28;01mif\u001B[39;00m \u001B[38;5;28mself\u001B[39m\u001B[38;5;241m.\u001B[39mtopK \u001B[38;5;241m!=\u001B[39m \u001B[38;5;28;01mFalse\u001B[39;00m:\n\u001B[0;32m--> 136\u001B[0m     \u001B[38;5;28mself\u001B[39m\u001B[38;5;241m.\u001B[39mW_sparse \u001B[38;5;241m=\u001B[39m \u001B[43msimilarityMatrixTopK\u001B[49m\u001B[43m(\u001B[49m\u001B[38;5;28;43mself\u001B[39;49m\u001B[38;5;241;43m.\u001B[39;49m\u001B[43mW_sparse\u001B[49m\u001B[43m,\u001B[49m\u001B[43m \u001B[49m\u001B[43mk\u001B[49m\u001B[38;5;241;43m=\u001B[39;49m\u001B[38;5;28;43mself\u001B[39;49m\u001B[38;5;241;43m.\u001B[39;49m\u001B[43mtopK\u001B[49m\u001B[43m)\u001B[49m\n\u001B[1;32m    138\u001B[0m \u001B[38;5;28mself\u001B[39m\u001B[38;5;241m.\u001B[39mW_sparse \u001B[38;5;241m=\u001B[39m check_matrix(\u001B[38;5;28mself\u001B[39m\u001B[38;5;241m.\u001B[39mW_sparse, \u001B[38;5;28mformat\u001B[39m\u001B[38;5;241m=\u001B[39m\u001B[38;5;124m'\u001B[39m\u001B[38;5;124mcsr\u001B[39m\u001B[38;5;124m'\u001B[39m)\n",
      "File \u001B[0;32m~/RecSys-2023-polimi/Recommenders/Recommender_utils.py:121\u001B[0m, in \u001B[0;36msimilarityMatrixTopK\u001B[0;34m(item_weights, k, verbose, use_absolute_values)\u001B[0m\n\u001B[1;32m    117\u001B[0m         \u001B[38;5;28;01mexcept\u001B[39;00m:\n\u001B[1;32m    118\u001B[0m             \u001B[38;5;28;01mpass\u001B[39;00m\n\u001B[0;32m--> 121\u001B[0m     \u001B[43msimilarity_builder\u001B[49m\u001B[38;5;241;43m.\u001B[39;49m\u001B[43madd_data_lists\u001B[49m\u001B[43m(\u001B[49m\u001B[43mrow_list_to_add\u001B[49m\u001B[43m \u001B[49m\u001B[38;5;241;43m=\u001B[39;49m\u001B[43m \u001B[49m\u001B[43mcolumn_row_index\u001B[49m\u001B[43m,\u001B[49m\n\u001B[1;32m    122\u001B[0m \u001B[43m                                      \u001B[49m\u001B[43mcol_list_to_add\u001B[49m\u001B[43m \u001B[49m\u001B[38;5;241;43m=\u001B[39;49m\u001B[43m \u001B[49m\u001B[43mnp\u001B[49m\u001B[38;5;241;43m.\u001B[39;49m\u001B[43mones\u001B[49m\u001B[43m(\u001B[49m\u001B[38;5;28;43mlen\u001B[39;49m\u001B[43m(\u001B[49m\u001B[43mcolumn_row_index\u001B[49m\u001B[43m)\u001B[49m\u001B[43m,\u001B[49m\u001B[43m \u001B[49m\u001B[43mdtype\u001B[49m\u001B[43m \u001B[49m\u001B[38;5;241;43m=\u001B[39;49m\u001B[43m \u001B[49m\u001B[43mnp\u001B[49m\u001B[38;5;241;43m.\u001B[39;49m\u001B[43mint_\u001B[49m\u001B[43m)\u001B[49m\u001B[43m \u001B[49m\u001B[38;5;241;43m*\u001B[39;49m\u001B[43m \u001B[49m\u001B[43mitem_idx\u001B[49m\u001B[43m,\u001B[49m\n\u001B[1;32m    123\u001B[0m \u001B[43m                                      \u001B[49m\u001B[43mdata_list_to_add\u001B[49m\u001B[43m \u001B[49m\u001B[38;5;241;43m=\u001B[39;49m\u001B[43m \u001B[49m\u001B[43mcolumn_data\u001B[49m\u001B[43m)\u001B[49m\n\u001B[1;32m    127\u001B[0m \u001B[38;5;28;01mif\u001B[39;00m verbose:\n\u001B[1;32m    128\u001B[0m     \u001B[38;5;28mprint\u001B[39m(\u001B[38;5;124m\"\u001B[39m\u001B[38;5;124mSparse TopK matrix generated in \u001B[39m\u001B[38;5;132;01m{:.2f}\u001B[39;00m\u001B[38;5;124m seconds\u001B[39m\u001B[38;5;124m\"\u001B[39m\u001B[38;5;241m.\u001B[39mformat(time\u001B[38;5;241m.\u001B[39mtime() \u001B[38;5;241m-\u001B[39m start_time))\n",
      "File \u001B[0;32m~/RecSys-2023-polimi/Recommenders/Similarity/Compute_Similarity_Python.py:52\u001B[0m, in \u001B[0;36mIncremental_Similarity_Builder.add_data_lists\u001B[0;34m(self, row_list_to_add, col_list_to_add, data_list_to_add)\u001B[0m\n\u001B[1;32m     49\u001B[0m     \u001B[38;5;28mself\u001B[39m\u001B[38;5;241m.\u001B[39m_col_array \u001B[38;5;241m=\u001B[39m np\u001B[38;5;241m.\u001B[39mconcatenate((\u001B[38;5;28mself\u001B[39m\u001B[38;5;241m.\u001B[39m_col_array, np\u001B[38;5;241m.\u001B[39mzeros(\u001B[38;5;28mself\u001B[39m\u001B[38;5;241m.\u001B[39m_additional_data_block, dtype\u001B[38;5;241m=\u001B[39m\u001B[38;5;28mself\u001B[39m\u001B[38;5;241m.\u001B[39m_dtype_coordinates)))\n\u001B[1;32m     50\u001B[0m     \u001B[38;5;28mself\u001B[39m\u001B[38;5;241m.\u001B[39m_data_array \u001B[38;5;241m=\u001B[39m np\u001B[38;5;241m.\u001B[39mconcatenate((\u001B[38;5;28mself\u001B[39m\u001B[38;5;241m.\u001B[39m_data_array, np\u001B[38;5;241m.\u001B[39mzeros(\u001B[38;5;28mself\u001B[39m\u001B[38;5;241m.\u001B[39m_additional_data_block, dtype\u001B[38;5;241m=\u001B[39m\u001B[38;5;28mself\u001B[39m\u001B[38;5;241m.\u001B[39m_dtype_data)))\n\u001B[0;32m---> 52\u001B[0m \u001B[38;5;28;43mself\u001B[39;49m\u001B[38;5;241;43m.\u001B[39;49m\u001B[43m_row_array\u001B[49m\u001B[43m[\u001B[49m\u001B[38;5;28;43mself\u001B[39;49m\u001B[38;5;241;43m.\u001B[39;49m\u001B[43m_next_cell_pointer\u001B[49m\u001B[43m]\u001B[49m \u001B[38;5;241m=\u001B[39m row_list_to_add[data_point_index]\n\u001B[1;32m     53\u001B[0m \u001B[38;5;28mself\u001B[39m\u001B[38;5;241m.\u001B[39m_col_array[\u001B[38;5;28mself\u001B[39m\u001B[38;5;241m.\u001B[39m_next_cell_pointer] \u001B[38;5;241m=\u001B[39m col_list_to_add[data_point_index]\n\u001B[1;32m     54\u001B[0m \u001B[38;5;28mself\u001B[39m\u001B[38;5;241m.\u001B[39m_data_array[\u001B[38;5;28mself\u001B[39m\u001B[38;5;241m.\u001B[39m_next_cell_pointer] \u001B[38;5;241m=\u001B[39m data_list_to_add[data_point_index]\n",
      "\u001B[0;31mKeyboardInterrupt\u001B[0m: "
     ]
    }
   ],
   "source": [
    "best_params = {\n",
    "    \"topK\": 101,\n",
    "    \"alpha\": 0.3026342852596128,\n",
    "    \"beta\": 0.058468783118329024,\n",
    "}\n",
    "test_params = {\n",
    "    \"topK\": 32,\n",
    "    \"alpha\": 0.22028996694465927,\n",
    "    \"beta\": 0.17339063177346345,\n",
    "    \"normalize_similarity\": True,\n",
    "}\n",
    "# {\"topK\": 147, \"alpha\": 0.27678704319239206, \"beta\": 0.014194107697503181, \"normalize_similarity\": true}\n",
    "# {'topK': 103, 'alpha': 0.11341252259425386, 'beta': 0.056147895798144845}\n",
    "# {'topK': 101, 'alpha': 0.3026342852596128, 'beta': 0.058468783118329024}\n",
    "study_name = \"rp3beta-study\"  # Unique identifier of the study.\n",
    "storage_name = \"sqlite:///db.db\"\n",
    "study = op.create_study(study_name=study_name, storage=storage_name, direction=\"maximize\", load_if_exists=True)\n",
    "study.enqueue_trial(best_params)\n",
    "study.enqueue_trial(test_params)\n",
    "study.optimize(objective, n_trials=100)"
   ],
   "metadata": {
    "collapsed": false,
    "ExecuteTime": {
     "end_time": "2023-12-15T23:40:02.112589382Z",
     "start_time": "2023-12-15T23:10:33.608949963Z"
    }
   },
   "id": "c5b8a36d4aed08fc"
  },
  {
   "cell_type": "code",
   "execution_count": 9,
   "outputs": [
    {
     "data": {
      "text/plain": "{'topK': 101, 'alpha': 0.3026342852596128, 'beta': 0.058468783118329024}"
     },
     "execution_count": 9,
     "metadata": {},
     "output_type": "execute_result"
    }
   ],
   "source": [
    "study.best_params"
   ],
   "metadata": {
    "collapsed": false,
    "ExecuteTime": {
     "end_time": "2023-11-21T21:50:49.816676107Z",
     "start_time": "2023-11-21T21:50:49.809307435Z"
    }
   },
   "id": "f18968c2188a349a"
  },
  {
   "cell_type": "code",
   "execution_count": 10,
   "outputs": [
    {
     "name": "stdout",
     "output_type": "stream",
     "text": [
      "RP3betaRecommender: URM Detected 245 ( 1.9%) users with no interactions.\n",
      "RP3betaRecommender: URM Detected 110 ( 0.5%) items with no interactions.\n",
      "RP3betaRecommender: Similarity column 22222 (100.0%), 4027.41 column/sec. Elapsed time 5.52 sec\n"
     ]
    }
   ],
   "source": [
    "final = model(URM_train_validation)\n",
    "final.fit(**study.best_params)"
   ],
   "metadata": {
    "collapsed": false,
    "ExecuteTime": {
     "end_time": "2023-11-21T21:50:58.781096801Z",
     "start_time": "2023-11-21T21:50:51.734119077Z"
    }
   },
   "id": "7ae12a0ef4bc0baa"
  },
  {
   "cell_type": "code",
   "execution_count": 11,
   "outputs": [
    {
     "name": "stdout",
     "output_type": "stream",
     "text": [
      "EvaluatorHoldout: Ignoring 2100 (16.6%) Users that have less than 1 test interactions\n",
      "EvaluatorHoldout: Ignoring 0 Users\n",
      "EvaluatorHoldout: Processed 10538 (100.0%) in 5.18 sec. Users per second: 2033\n"
     ]
    },
    {
     "data": {
      "text/plain": "(       PRECISION PRECISION_RECALL_MIN_DEN    RECALL       MAP MAP_MIN_DEN  \\\n cutoff                                                                      \n 10      0.090378                 0.157221  0.133194  0.045665    0.078973   \n \n              MRR      NDCG        F1  HIT_RATE ARHR_ALL_HITS  ...  \\\n cutoff                                                        ...   \n 10      0.259414  0.143182  0.107686  0.509869      0.339649  ...   \n \n        COVERAGE_USER COVERAGE_USER_HIT USERS_IN_GT DIVERSITY_GINI  \\\n cutoff                                                              \n 10          0.833834          0.425146    0.833834       0.057877   \n \n        SHANNON_ENTROPY RATIO_DIVERSITY_HERFINDAHL RATIO_DIVERSITY_GINI  \\\n cutoff                                                                   \n 10           10.145296                   0.997617             0.165954   \n \n        RATIO_SHANNON_ENTROPY RATIO_AVERAGE_POPULARITY RATIO_NOVELTY  \n cutoff                                                               \n 10                  0.781482                 1.752902      0.289366  \n \n [1 rows x 27 columns],\n 'CUTOFF: 10 - PRECISION: 0.0903777, PRECISION_RECALL_MIN_DEN: 0.1572207, RECALL: 0.1331937, MAP: 0.0456652, MAP_MIN_DEN: 0.0789727, MRR: 0.2594145, NDCG: 0.1431817, F1: 0.1076858, HIT_RATE: 0.5098690, ARHR_ALL_HITS: 0.3396486, NOVELTY: 0.0051229, AVERAGE_POPULARITY: 0.2142476, DIVERSITY_MEAN_INTER_LIST: 0.9726623, DIVERSITY_HERFINDAHL: 0.9972570, COVERAGE_ITEM: 0.3306633, COVERAGE_ITEM_HIT: 0.0932409, ITEMS_IN_GT: 0.8015930, COVERAGE_USER: 0.8338345, COVERAGE_USER_HIT: 0.4251464, USERS_IN_GT: 0.8338345, DIVERSITY_GINI: 0.0578771, SHANNON_ENTROPY: 10.1452956, RATIO_DIVERSITY_HERFINDAHL: 0.9976173, RATIO_DIVERSITY_GINI: 0.1659535, RATIO_SHANNON_ENTROPY: 0.7814820, RATIO_AVERAGE_POPULARITY: 1.7529024, RATIO_NOVELTY: 0.2893664, \\n')"
     },
     "execution_count": 11,
     "metadata": {},
     "output_type": "execute_result"
    }
   ],
   "source": [
    "from Evaluation.Evaluator import EvaluatorHoldout\n",
    "evaluator_test = EvaluatorHoldout(URM_test, cutoff_list=[10], ignore_users=[])\n",
    "evaluator_test.evaluateRecommender(final)"
   ],
   "metadata": {
    "collapsed": false,
    "ExecuteTime": {
     "end_time": "2023-11-21T21:51:04.026989928Z",
     "start_time": "2023-11-21T21:50:58.787046525Z"
    }
   },
   "id": "1a0a3570fbcb348b"
  },
  {
   "cell_type": "code",
   "execution_count": null,
   "outputs": [],
   "source": [],
   "metadata": {
    "collapsed": false
   },
   "id": "3cdf5d82e17bdf89"
  }
 ],
 "metadata": {
  "kernelspec": {
   "display_name": "Python 3",
   "language": "python",
   "name": "python3"
  },
  "language_info": {
   "codemirror_mode": {
    "name": "ipython",
    "version": 2
   },
   "file_extension": ".py",
   "mimetype": "text/x-python",
   "name": "python",
   "nbconvert_exporter": "python",
   "pygments_lexer": "ipython2",
   "version": "2.7.6"
  }
 },
 "nbformat": 4,
 "nbformat_minor": 5
}
