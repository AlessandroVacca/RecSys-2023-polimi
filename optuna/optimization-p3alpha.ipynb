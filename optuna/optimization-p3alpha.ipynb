{
 "cells": [
  {
   "cell_type": "code",
   "execution_count": 1,
   "id": "initial_id",
   "metadata": {
    "collapsed": true,
    "ExecuteTime": {
     "end_time": "2024-01-10T21:22:08.535494Z",
     "start_time": "2024-01-10T21:22:06.914569Z"
    }
   },
   "outputs": [
    {
     "name": "stdout",
     "output_type": "stream",
     "text": [
      "Warning: 207 (1.64 %) of 12638 users have no train items\n",
      "Warning: 2207 (17.46 %) of 12638 users have no sampled items\n",
      "Warning: 453 (3.58 %) of 12638 users have no train items\n",
      "Warning: 2635 (20.85 %) of 12638 users have no sampled items\n"
     ]
    }
   ],
   "source": [
    "from Data_manager.UserUtils import *\n",
    "from Data_manager.split_functions.split_train_validation_random_holdout import \\\n",
    "    split_train_in_two_percentage_global_sample\n",
    "URM_all = getURM_all()\n",
    "URM_train_validation, URM_test = split_train_in_two_percentage_global_sample(URM_all, train_percentage = 0.80)\n",
    "URM_train, URM_validation = split_train_in_two_percentage_global_sample(URM_train_validation, train_percentage = 0.80)"
   ]
  },
  {
   "cell_type": "code",
   "execution_count": 3,
   "outputs": [
    {
     "name": "stdout",
     "output_type": "stream",
     "text": [
      "EvaluatorHoldout: Ignoring 2635 (20.8%) Users that have less than 1 test interactions\n",
      "EvaluatorHoldout: Ignoring 0 Users\n"
     ]
    }
   ],
   "source": [
    "from Recommenders.GraphBased.P3alphaRecommender import P3alphaRecommender\n",
    "model = P3alphaRecommender\n",
    "\n",
    "from Evaluation.Evaluator import EvaluatorHoldout\n",
    "evaluator_validation = EvaluatorHoldout(URM_validation, cutoff_list=[10], ignore_users=[])"
   ],
   "metadata": {
    "collapsed": false,
    "ExecuteTime": {
     "end_time": "2024-01-10T21:22:39.876405Z",
     "start_time": "2024-01-10T21:22:39.871489Z"
    }
   },
   "id": "8a9fec0ccc4f11c5"
  },
  {
   "cell_type": "code",
   "outputs": [
    {
     "data": {
      "text/plain": "(array([35, 27,  4, ...,  6, 22, 63], dtype=int32), (12638,))"
     },
     "execution_count": 5,
     "metadata": {},
     "output_type": "execute_result"
    }
   ],
   "source": [
    "import numpy as np \n",
    "import scipy.sparse as sps\n",
    "profile_length = np.ediff1d(sps.csr_matrix(URM_train_validation).indptr)\n",
    "\n",
    "#profile_length = np.ediff1d(sps.csr_matrix(URM_train_validation).indptr)\n",
    "profile_length, profile_length.shape"
   ],
   "metadata": {
    "collapsed": false,
    "ExecuteTime": {
     "end_time": "2024-01-10T21:23:15.641924Z",
     "start_time": "2024-01-10T21:23:15.637860Z"
    }
   },
   "id": "f1e4e6ecc67265aa",
   "execution_count": 5
  },
  {
   "cell_type": "code",
   "outputs": [
    {
     "name": "stdout",
     "output_type": "stream",
     "text": [
      "EvaluatorHoldout: Ignoring 2207 (17.5%) Users that have less than 1 test interactions\n",
      "EvaluatorHoldout: Ignoring 6095 Users\n"
     ]
    }
   ],
   "source": [
    "# PROFILE LENGTH BASED GROUPING\n",
    "from Evaluation.Evaluator import EvaluatorHoldout\n",
    "import numpy as np\n",
    "\n",
    "MAP_recommender_per_group = {}\n",
    "cutoff = 10\n",
    "threshold = 13\n",
    "\n",
    "# Select users whose profile length is less than the cutoff for the group and greater than or equal to the cutoff for the previous group\n",
    "\n",
    "users_in_group_flag = profile_length > threshold\n",
    "users_in_group = np.arange(len(profile_length))[users_in_group_flag]\n",
    "\n",
    "users_in_group_p_len = profile_length[users_in_group]\n",
    "\n",
    "# Select users not in the current group\n",
    "users_not_in_group_flag = np.isin(np.arange(len(profile_length)), users_in_group, invert=True)\n",
    "users_not_in_group = np.arange(len(profile_length))[users_not_in_group_flag]\n",
    "\n",
    "evaluator_test = EvaluatorHoldout(URM_test, cutoff_list=[cutoff], ignore_users=users_not_in_group)"
   ],
   "metadata": {
    "collapsed": false,
    "ExecuteTime": {
     "end_time": "2024-01-10T21:23:18.061802Z",
     "start_time": "2024-01-10T21:23:18.053909Z"
    }
   },
   "id": "ca4fb37550d00338",
   "execution_count": 6
  },
  {
   "cell_type": "code",
   "execution_count": 9,
   "outputs": [],
   "source": [
    "import optuna as op\n",
    "def objective(trial):\n",
    "    # Optuna suggest params\n",
    "    topK = trial.suggest_int(\"topK\", 10, 1000)\n",
    "    alpha = trial.suggest_uniform(\"alpha\", 0.001, 2.0)\n",
    "    normalize_similarity = trial.suggest_categorical(\"normalize_similarity\", [True, False])\n",
    "    \n",
    "    recommender = model(URM_train_validation)\n",
    "    recommender.fit(**trial.params)\n",
    "    \n",
    "    result, _ = evaluator_test.evaluateRecommender(recommender)\n",
    "    MAP_result = result[\"MAP\"].item()\n",
    "       \n",
    "    return MAP_result"
   ],
   "metadata": {
    "collapsed": false,
    "ExecuteTime": {
     "end_time": "2024-01-10T21:25:23.029230Z",
     "start_time": "2024-01-10T21:25:23.026539Z"
    }
   },
   "id": "b826576f6714c764"
  },
  {
   "cell_type": "code",
   "execution_count": 11,
   "outputs": [
    {
     "name": "stderr",
     "output_type": "stream",
     "text": [
      "[I 2024-01-10 22:39:18,088] Using an existing study with name 'p3alpha2-study' instead of creating a new one.\n",
      "/var/folders/l3/n3yjvx_d2g9dy0ztkyft2th40000gn/T/ipykernel_11921/144902340.py:5: FutureWarning: suggest_uniform has been deprecated in v3.0.0. This feature will be removed in v6.0.0. See https://github.com/optuna/optuna/releases/tag/v3.0.0. Use suggest_float instead.\n",
      "  alpha = trial.suggest_uniform(\"alpha\", 0.001, 2.0)\n"
     ]
    },
    {
     "name": "stdout",
     "output_type": "stream",
     "text": [
      "P3alphaRecommender: URM Detected 207 ( 1.6%) users with no interactions.\n",
      "P3alphaRecommender: URM Detected 119 ( 0.5%) items with no interactions.\n",
      "P3alphaRecommender: Similarity column 22222 (100.0%), 7483.89 column/sec. Elapsed time 2.97 sec\n",
      "EvaluatorHoldout: Processed 6514 (100.0%) in 1.60 sec. Users per second: 4060\n"
     ]
    },
    {
     "name": "stderr",
     "output_type": "stream",
     "text": [
      "[I 2024-01-10 22:39:23,019] Trial 100 finished with value: 0.06682690152102219 and parameters: {'topK': 31, 'alpha': 0.3598623800610297, 'normalize_similarity': True}. Best is trial 100 with value: 0.06682690152102219.\n"
     ]
    },
    {
     "name": "stdout",
     "output_type": "stream",
     "text": [
      "P3alphaRecommender: URM Detected 207 ( 1.6%) users with no interactions.\n",
      "P3alphaRecommender: URM Detected 119 ( 0.5%) items with no interactions.\n"
     ]
    },
    {
     "name": "stderr",
     "output_type": "stream",
     "text": [
      "/var/folders/l3/n3yjvx_d2g9dy0ztkyft2th40000gn/T/ipykernel_11921/144902340.py:5: FutureWarning: suggest_uniform has been deprecated in v3.0.0. This feature will be removed in v6.0.0. See https://github.com/optuna/optuna/releases/tag/v3.0.0. Use suggest_float instead.\n",
      "  alpha = trial.suggest_uniform(\"alpha\", 0.001, 2.0)\n"
     ]
    },
    {
     "name": "stdout",
     "output_type": "stream",
     "text": [
      "P3alphaRecommender: Similarity column 22222 (100.0%), 7562.27 column/sec. Elapsed time 2.94 sec\n",
      "EvaluatorHoldout: Processed 6514 (100.0%) in 1.43 sec. Users per second: 4569\n"
     ]
    },
    {
     "name": "stderr",
     "output_type": "stream",
     "text": [
      "[I 2024-01-10 22:39:27,679] Trial 101 finished with value: 0.0664373315593769 and parameters: {'topK': 30, 'alpha': 0.2963477950518918, 'normalize_similarity': True}. Best is trial 100 with value: 0.06682690152102219.\n"
     ]
    },
    {
     "name": "stdout",
     "output_type": "stream",
     "text": [
      "P3alphaRecommender: URM Detected 207 ( 1.6%) users with no interactions.\n",
      "P3alphaRecommender: URM Detected 119 ( 0.5%) items with no interactions.\n"
     ]
    },
    {
     "name": "stderr",
     "output_type": "stream",
     "text": [
      "/var/folders/l3/n3yjvx_d2g9dy0ztkyft2th40000gn/T/ipykernel_11921/144902340.py:5: FutureWarning: suggest_uniform has been deprecated in v3.0.0. This feature will be removed in v6.0.0. See https://github.com/optuna/optuna/releases/tag/v3.0.0. Use suggest_float instead.\n",
      "  alpha = trial.suggest_uniform(\"alpha\", 0.001, 2.0)\n"
     ]
    },
    {
     "name": "stdout",
     "output_type": "stream",
     "text": [
      "P3alphaRecommender: Similarity column 22222 (100.0%), 6424.95 column/sec. Elapsed time 3.46 sec\n",
      "EvaluatorHoldout: Processed 6514 (100.0%) in 1.53 sec. Users per second: 4271\n"
     ]
    },
    {
     "name": "stderr",
     "output_type": "stream",
     "text": [
      "[I 2024-01-10 22:39:33,122] Trial 102 finished with value: 0.06598055592106918 and parameters: {'topK': 61, 'alpha': 0.35408065677626666, 'normalize_similarity': True}. Best is trial 100 with value: 0.06682690152102219.\n"
     ]
    },
    {
     "name": "stdout",
     "output_type": "stream",
     "text": [
      "P3alphaRecommender: URM Detected 207 ( 1.6%) users with no interactions.\n",
      "P3alphaRecommender: URM Detected 119 ( 0.5%) items with no interactions.\n"
     ]
    },
    {
     "name": "stderr",
     "output_type": "stream",
     "text": [
      "/var/folders/l3/n3yjvx_d2g9dy0ztkyft2th40000gn/T/ipykernel_11921/144902340.py:5: FutureWarning: suggest_uniform has been deprecated in v3.0.0. This feature will be removed in v6.0.0. See https://github.com/optuna/optuna/releases/tag/v3.0.0. Use suggest_float instead.\n",
      "  alpha = trial.suggest_uniform(\"alpha\", 0.001, 2.0)\n"
     ]
    },
    {
     "name": "stdout",
     "output_type": "stream",
     "text": [
      "P3alphaRecommender: Similarity column 22222 (100.0%), 6370.82 column/sec. Elapsed time 3.49 sec\n",
      "EvaluatorHoldout: Processed 6514 (100.0%) in 1.88 sec. Users per second: 3458\n"
     ]
    },
    {
     "name": "stderr",
     "output_type": "stream",
     "text": [
      "[I 2024-01-10 22:39:39,282] Trial 103 finished with value: 0.06394855281177105 and parameters: {'topK': 123, 'alpha': 0.2967668231299256, 'normalize_similarity': True}. Best is trial 100 with value: 0.06682690152102219.\n"
     ]
    },
    {
     "name": "stdout",
     "output_type": "stream",
     "text": [
      "P3alphaRecommender: URM Detected 207 ( 1.6%) users with no interactions.\n",
      "P3alphaRecommender: URM Detected 119 ( 0.5%) items with no interactions.\n"
     ]
    },
    {
     "name": "stderr",
     "output_type": "stream",
     "text": [
      "/var/folders/l3/n3yjvx_d2g9dy0ztkyft2th40000gn/T/ipykernel_11921/144902340.py:5: FutureWarning: suggest_uniform has been deprecated in v3.0.0. This feature will be removed in v6.0.0. See https://github.com/optuna/optuna/releases/tag/v3.0.0. Use suggest_float instead.\n",
      "  alpha = trial.suggest_uniform(\"alpha\", 0.001, 2.0)\n"
     ]
    },
    {
     "name": "stdout",
     "output_type": "stream",
     "text": [
      "P3alphaRecommender: Similarity column 22222 (100.0%), 7493.88 column/sec. Elapsed time 2.97 sec\n",
      "EvaluatorHoldout: Processed 6514 (100.0%) in 1.68 sec. Users per second: 3871\n"
     ]
    },
    {
     "name": "stderr",
     "output_type": "stream",
     "text": [
      "[I 2024-01-10 22:39:44,243] Trial 104 finished with value: 0.06671078409871822 and parameters: {'topK': 31, 'alpha': 0.19937602864424533, 'normalize_similarity': True}. Best is trial 100 with value: 0.06682690152102219.\n"
     ]
    },
    {
     "name": "stdout",
     "output_type": "stream",
     "text": [
      "P3alphaRecommender: URM Detected 207 ( 1.6%) users with no interactions.\n",
      "P3alphaRecommender: URM Detected 119 ( 0.5%) items with no interactions.\n"
     ]
    },
    {
     "name": "stderr",
     "output_type": "stream",
     "text": [
      "/var/folders/l3/n3yjvx_d2g9dy0ztkyft2th40000gn/T/ipykernel_11921/144902340.py:5: FutureWarning: suggest_uniform has been deprecated in v3.0.0. This feature will be removed in v6.0.0. See https://github.com/optuna/optuna/releases/tag/v3.0.0. Use suggest_float instead.\n",
      "  alpha = trial.suggest_uniform(\"alpha\", 0.001, 2.0)\n"
     ]
    },
    {
     "name": "stdout",
     "output_type": "stream",
     "text": [
      "P3alphaRecommender: Similarity column 22222 (100.0%), 6961.61 column/sec. Elapsed time 3.19 sec\n",
      "EvaluatorHoldout: Processed 6514 (100.0%) in 1.67 sec. Users per second: 3909\n"
     ]
    },
    {
     "name": "stderr",
     "output_type": "stream",
     "text": [
      "[I 2024-01-10 22:39:49,592] Trial 105 finished with value: 0.0657916039202505 and parameters: {'topK': 62, 'alpha': 0.21444472064808773, 'normalize_similarity': True}. Best is trial 100 with value: 0.06682690152102219.\n"
     ]
    },
    {
     "name": "stdout",
     "output_type": "stream",
     "text": [
      "P3alphaRecommender: URM Detected 207 ( 1.6%) users with no interactions.\n",
      "P3alphaRecommender: URM Detected 119 ( 0.5%) items with no interactions.\n"
     ]
    },
    {
     "name": "stderr",
     "output_type": "stream",
     "text": [
      "/var/folders/l3/n3yjvx_d2g9dy0ztkyft2th40000gn/T/ipykernel_11921/144902340.py:5: FutureWarning: suggest_uniform has been deprecated in v3.0.0. This feature will be removed in v6.0.0. See https://github.com/optuna/optuna/releases/tag/v3.0.0. Use suggest_float instead.\n",
      "  alpha = trial.suggest_uniform(\"alpha\", 0.001, 2.0)\n"
     ]
    },
    {
     "name": "stdout",
     "output_type": "stream",
     "text": [
      "P3alphaRecommender: Similarity column 22222 (100.0%), 7954.92 column/sec. Elapsed time 2.79 sec\n",
      "EvaluatorHoldout: Processed 6514 (100.0%) in 1.62 sec. Users per second: 4014\n"
     ]
    },
    {
     "name": "stderr",
     "output_type": "stream",
     "text": [
      "[I 2024-01-10 22:39:54,203] Trial 106 finished with value: 0.056876361536325214 and parameters: {'topK': 10, 'alpha': 0.45031236756996523, 'normalize_similarity': True}. Best is trial 100 with value: 0.06682690152102219.\n"
     ]
    },
    {
     "name": "stdout",
     "output_type": "stream",
     "text": [
      "P3alphaRecommender: URM Detected 207 ( 1.6%) users with no interactions.\n",
      "P3alphaRecommender: URM Detected 119 ( 0.5%) items with no interactions.\n"
     ]
    },
    {
     "name": "stderr",
     "output_type": "stream",
     "text": [
      "/var/folders/l3/n3yjvx_d2g9dy0ztkyft2th40000gn/T/ipykernel_11921/144902340.py:5: FutureWarning: suggest_uniform has been deprecated in v3.0.0. This feature will be removed in v6.0.0. See https://github.com/optuna/optuna/releases/tag/v3.0.0. Use suggest_float instead.\n",
      "  alpha = trial.suggest_uniform(\"alpha\", 0.001, 2.0)\n"
     ]
    },
    {
     "name": "stdout",
     "output_type": "stream",
     "text": [
      "P3alphaRecommender: Similarity column 22222 (100.0%), 6281.32 column/sec. Elapsed time 3.54 sec\n",
      "EvaluatorHoldout: Processed 6514 (100.0%) in 1.63 sec. Users per second: 4000\n"
     ]
    },
    {
     "name": "stderr",
     "output_type": "stream",
     "text": [
      "[I 2024-01-10 22:40:00,098] Trial 107 finished with value: 0.06468577447353968 and parameters: {'topK': 91, 'alpha': 0.3319366239591617, 'normalize_similarity': True}. Best is trial 100 with value: 0.06682690152102219.\n"
     ]
    },
    {
     "name": "stdout",
     "output_type": "stream",
     "text": [
      "P3alphaRecommender: URM Detected 207 ( 1.6%) users with no interactions.\n",
      "P3alphaRecommender: URM Detected 119 ( 0.5%) items with no interactions.\n"
     ]
    },
    {
     "name": "stderr",
     "output_type": "stream",
     "text": [
      "/var/folders/l3/n3yjvx_d2g9dy0ztkyft2th40000gn/T/ipykernel_11921/144902340.py:5: FutureWarning: suggest_uniform has been deprecated in v3.0.0. This feature will be removed in v6.0.0. See https://github.com/optuna/optuna/releases/tag/v3.0.0. Use suggest_float instead.\n",
      "  alpha = trial.suggest_uniform(\"alpha\", 0.001, 2.0)\n"
     ]
    },
    {
     "name": "stdout",
     "output_type": "stream",
     "text": [
      "P3alphaRecommender: Similarity column 22222 (100.0%), 7109.32 column/sec. Elapsed time 3.13 sec\n",
      "EvaluatorHoldout: Processed 6514 (100.0%) in 1.53 sec. Users per second: 4271\n"
     ]
    },
    {
     "name": "stderr",
     "output_type": "stream",
     "text": [
      "[I 2024-01-10 22:40:05,019] Trial 108 finished with value: 0.06606527576745605 and parameters: {'topK': 25, 'alpha': 0.38133139515913805, 'normalize_similarity': True}. Best is trial 100 with value: 0.06682690152102219.\n"
     ]
    },
    {
     "name": "stdout",
     "output_type": "stream",
     "text": [
      "P3alphaRecommender: URM Detected 207 ( 1.6%) users with no interactions.\n",
      "P3alphaRecommender: URM Detected 119 ( 0.5%) items with no interactions.\n"
     ]
    },
    {
     "name": "stderr",
     "output_type": "stream",
     "text": [
      "/var/folders/l3/n3yjvx_d2g9dy0ztkyft2th40000gn/T/ipykernel_11921/144902340.py:5: FutureWarning: suggest_uniform has been deprecated in v3.0.0. This feature will be removed in v6.0.0. See https://github.com/optuna/optuna/releases/tag/v3.0.0. Use suggest_float instead.\n",
      "  alpha = trial.suggest_uniform(\"alpha\", 0.001, 2.0)\n"
     ]
    },
    {
     "name": "stdout",
     "output_type": "stream",
     "text": [
      "P3alphaRecommender: Similarity column 22222 (100.0%), 6638.10 column/sec. Elapsed time 3.35 sec\n",
      "EvaluatorHoldout: Processed 6514 (100.0%) in 1.49 sec. Users per second: 4373\n"
     ]
    },
    {
     "name": "stderr",
     "output_type": "stream",
     "text": [
      "[I 2024-01-10 22:40:10,270] Trial 109 finished with value: 0.06584771627410618 and parameters: {'topK': 51, 'alpha': 0.2607746747705627, 'normalize_similarity': True}. Best is trial 100 with value: 0.06682690152102219.\n"
     ]
    },
    {
     "name": "stdout",
     "output_type": "stream",
     "text": [
      "P3alphaRecommender: URM Detected 207 ( 1.6%) users with no interactions.\n",
      "P3alphaRecommender: URM Detected 119 ( 0.5%) items with no interactions.\n"
     ]
    },
    {
     "name": "stderr",
     "output_type": "stream",
     "text": [
      "/var/folders/l3/n3yjvx_d2g9dy0ztkyft2th40000gn/T/ipykernel_11921/144902340.py:5: FutureWarning: suggest_uniform has been deprecated in v3.0.0. This feature will be removed in v6.0.0. See https://github.com/optuna/optuna/releases/tag/v3.0.0. Use suggest_float instead.\n",
      "  alpha = trial.suggest_uniform(\"alpha\", 0.001, 2.0)\n"
     ]
    },
    {
     "name": "stdout",
     "output_type": "stream",
     "text": [
      "P3alphaRecommender: Similarity column 22222 (100.0%), 6715.05 column/sec. Elapsed time 3.31 sec\n",
      "EvaluatorHoldout: Processed 6514 (100.0%) in 1.46 sec. Users per second: 4451\n"
     ]
    },
    {
     "name": "stderr",
     "output_type": "stream",
     "text": [
      "[I 2024-01-10 22:40:15,586] Trial 110 finished with value: 0.06497424960159112 and parameters: {'topK': 78, 'alpha': 0.43020163355711205, 'normalize_similarity': True}. Best is trial 100 with value: 0.06682690152102219.\n"
     ]
    },
    {
     "name": "stdout",
     "output_type": "stream",
     "text": [
      "P3alphaRecommender: URM Detected 207 ( 1.6%) users with no interactions.\n",
      "P3alphaRecommender: URM Detected 119 ( 0.5%) items with no interactions.\n"
     ]
    },
    {
     "name": "stderr",
     "output_type": "stream",
     "text": [
      "/var/folders/l3/n3yjvx_d2g9dy0ztkyft2th40000gn/T/ipykernel_11921/144902340.py:5: FutureWarning: suggest_uniform has been deprecated in v3.0.0. This feature will be removed in v6.0.0. See https://github.com/optuna/optuna/releases/tag/v3.0.0. Use suggest_float instead.\n",
      "  alpha = trial.suggest_uniform(\"alpha\", 0.001, 2.0)\n"
     ]
    },
    {
     "name": "stdout",
     "output_type": "stream",
     "text": [
      "P3alphaRecommender: Similarity column 22222 (100.0%), 8199.91 column/sec. Elapsed time 2.71 sec\n",
      "EvaluatorHoldout: Processed 6514 (100.0%) in 1.79 sec. Users per second: 3636\n"
     ]
    },
    {
     "name": "stderr",
     "output_type": "stream",
     "text": [
      "[I 2024-01-10 22:40:20,337] Trial 111 finished with value: 0.0659942931220184 and parameters: {'topK': 26, 'alpha': 0.17464755468331886, 'normalize_similarity': True}. Best is trial 100 with value: 0.06682690152102219.\n"
     ]
    },
    {
     "name": "stdout",
     "output_type": "stream",
     "text": [
      "P3alphaRecommender: URM Detected 207 ( 1.6%) users with no interactions.\n",
      "P3alphaRecommender: URM Detected 119 ( 0.5%) items with no interactions.\n"
     ]
    },
    {
     "name": "stderr",
     "output_type": "stream",
     "text": [
      "/var/folders/l3/n3yjvx_d2g9dy0ztkyft2th40000gn/T/ipykernel_11921/144902340.py:5: FutureWarning: suggest_uniform has been deprecated in v3.0.0. This feature will be removed in v6.0.0. See https://github.com/optuna/optuna/releases/tag/v3.0.0. Use suggest_float instead.\n",
      "  alpha = trial.suggest_uniform(\"alpha\", 0.001, 2.0)\n"
     ]
    },
    {
     "name": "stdout",
     "output_type": "stream",
     "text": [
      "P3alphaRecommender: Similarity column 22222 (100.0%), 7412.85 column/sec. Elapsed time 3.00 sec\n",
      "EvaluatorHoldout: Processed 6514 (100.0%) in 1.97 sec. Users per second: 3307\n"
     ]
    },
    {
     "name": "stderr",
     "output_type": "stream",
     "text": [
      "[I 2024-01-10 22:40:25,632] Trial 112 finished with value: 0.06680992343718825 and parameters: {'topK': 35, 'alpha': 0.2912424370667926, 'normalize_similarity': True}. Best is trial 100 with value: 0.06682690152102219.\n"
     ]
    },
    {
     "name": "stdout",
     "output_type": "stream",
     "text": [
      "P3alphaRecommender: URM Detected 207 ( 1.6%) users with no interactions.\n",
      "P3alphaRecommender: URM Detected 119 ( 0.5%) items with no interactions.\n"
     ]
    },
    {
     "name": "stderr",
     "output_type": "stream",
     "text": [
      "/var/folders/l3/n3yjvx_d2g9dy0ztkyft2th40000gn/T/ipykernel_11921/144902340.py:5: FutureWarning: suggest_uniform has been deprecated in v3.0.0. This feature will be removed in v6.0.0. See https://github.com/optuna/optuna/releases/tag/v3.0.0. Use suggest_float instead.\n",
      "  alpha = trial.suggest_uniform(\"alpha\", 0.001, 2.0)\n"
     ]
    },
    {
     "name": "stdout",
     "output_type": "stream",
     "text": [
      "P3alphaRecommender: Similarity column 22222 (100.0%), 5532.48 column/sec. Elapsed time 4.02 sec\n",
      "EvaluatorHoldout: Processed 6514 (100.0%) in 1.69 sec. Users per second: 3852\n"
     ]
    },
    {
     "name": "stderr",
     "output_type": "stream",
     "text": [
      "[I 2024-01-10 22:40:32,058] Trial 113 finished with value: 0.06399633755866528 and parameters: {'topK': 103, 'alpha': 0.3010204226046655, 'normalize_similarity': True}. Best is trial 100 with value: 0.06682690152102219.\n"
     ]
    },
    {
     "name": "stdout",
     "output_type": "stream",
     "text": [
      "P3alphaRecommender: URM Detected 207 ( 1.6%) users with no interactions.\n",
      "P3alphaRecommender: URM Detected 119 ( 0.5%) items with no interactions.\n"
     ]
    },
    {
     "name": "stderr",
     "output_type": "stream",
     "text": [
      "/var/folders/l3/n3yjvx_d2g9dy0ztkyft2th40000gn/T/ipykernel_11921/144902340.py:5: FutureWarning: suggest_uniform has been deprecated in v3.0.0. This feature will be removed in v6.0.0. See https://github.com/optuna/optuna/releases/tag/v3.0.0. Use suggest_float instead.\n",
      "  alpha = trial.suggest_uniform(\"alpha\", 0.001, 2.0)\n"
     ]
    },
    {
     "name": "stdout",
     "output_type": "stream",
     "text": [
      "P3alphaRecommender: Similarity column 22222 (100.0%), 7103.77 column/sec. Elapsed time 3.13 sec\n",
      "EvaluatorHoldout: Processed 6514 (100.0%) in 1.78 sec. Users per second: 3658\n"
     ]
    },
    {
     "name": "stderr",
     "output_type": "stream",
     "text": [
      "[I 2024-01-10 22:40:37,432] Trial 114 finished with value: 0.06597817399398663 and parameters: {'topK': 57, 'alpha': 0.2115338167365336, 'normalize_similarity': True}. Best is trial 100 with value: 0.06682690152102219.\n"
     ]
    },
    {
     "name": "stdout",
     "output_type": "stream",
     "text": [
      "P3alphaRecommender: URM Detected 207 ( 1.6%) users with no interactions.\n",
      "P3alphaRecommender: URM Detected 119 ( 0.5%) items with no interactions.\n"
     ]
    },
    {
     "name": "stderr",
     "output_type": "stream",
     "text": [
      "/var/folders/l3/n3yjvx_d2g9dy0ztkyft2th40000gn/T/ipykernel_11921/144902340.py:5: FutureWarning: suggest_uniform has been deprecated in v3.0.0. This feature will be removed in v6.0.0. See https://github.com/optuna/optuna/releases/tag/v3.0.0. Use suggest_float instead.\n",
      "  alpha = trial.suggest_uniform(\"alpha\", 0.001, 2.0)\n"
     ]
    },
    {
     "name": "stdout",
     "output_type": "stream",
     "text": [
      "P3alphaRecommender: Similarity column 22222 (100.0%), 7391.76 column/sec. Elapsed time 3.01 sec\n",
      "EvaluatorHoldout: Processed 6514 (100.0%) in 1.68 sec. Users per second: 3876\n"
     ]
    },
    {
     "name": "stderr",
     "output_type": "stream",
     "text": [
      "[I 2024-01-10 22:40:42,512] Trial 115 finished with value: 0.06632087908339103 and parameters: {'topK': 44, 'alpha': 0.24709551211699476, 'normalize_similarity': True}. Best is trial 100 with value: 0.06682690152102219.\n"
     ]
    },
    {
     "name": "stdout",
     "output_type": "stream",
     "text": [
      "P3alphaRecommender: URM Detected 207 ( 1.6%) users with no interactions.\n",
      "P3alphaRecommender: URM Detected 119 ( 0.5%) items with no interactions.\n"
     ]
    },
    {
     "name": "stderr",
     "output_type": "stream",
     "text": [
      "/var/folders/l3/n3yjvx_d2g9dy0ztkyft2th40000gn/T/ipykernel_11921/144902340.py:5: FutureWarning: suggest_uniform has been deprecated in v3.0.0. This feature will be removed in v6.0.0. See https://github.com/optuna/optuna/releases/tag/v3.0.0. Use suggest_float instead.\n",
      "  alpha = trial.suggest_uniform(\"alpha\", 0.001, 2.0)\n"
     ]
    },
    {
     "name": "stdout",
     "output_type": "stream",
     "text": [
      "P3alphaRecommender: Similarity column 22222 (100.0%), 2489.80 column/sec. Elapsed time 8.93 sec\n",
      "EvaluatorHoldout: Processed 6514 (100.0%) in 2.86 sec. Users per second: 2278\n"
     ]
    },
    {
     "name": "stderr",
     "output_type": "stream",
     "text": [
      "[I 2024-01-10 22:40:59,552] Trial 116 finished with value: 0.0457850977869402 and parameters: {'topK': 860, 'alpha': 0.3676364770554899, 'normalize_similarity': True}. Best is trial 100 with value: 0.06682690152102219.\n"
     ]
    },
    {
     "name": "stdout",
     "output_type": "stream",
     "text": [
      "P3alphaRecommender: URM Detected 207 ( 1.6%) users with no interactions.\n",
      "P3alphaRecommender: URM Detected 119 ( 0.5%) items with no interactions.\n"
     ]
    },
    {
     "name": "stderr",
     "output_type": "stream",
     "text": [
      "/var/folders/l3/n3yjvx_d2g9dy0ztkyft2th40000gn/T/ipykernel_11921/144902340.py:5: FutureWarning: suggest_uniform has been deprecated in v3.0.0. This feature will be removed in v6.0.0. See https://github.com/optuna/optuna/releases/tag/v3.0.0. Use suggest_float instead.\n",
      "  alpha = trial.suggest_uniform(\"alpha\", 0.001, 2.0)\n"
     ]
    },
    {
     "name": "stdout",
     "output_type": "stream",
     "text": [
      "P3alphaRecommender: Similarity column 22222 (100.0%), 8305.55 column/sec. Elapsed time 2.68 sec\n",
      "EvaluatorHoldout: Processed 6514 (100.0%) in 1.32 sec. Users per second: 4950\n"
     ]
    },
    {
     "name": "stderr",
     "output_type": "stream",
     "text": [
      "[I 2024-01-10 22:41:03,806] Trial 117 finished with value: 0.06637706453986819 and parameters: {'topK': 29, 'alpha': 0.16300349993134522, 'normalize_similarity': True}. Best is trial 100 with value: 0.06682690152102219.\n"
     ]
    },
    {
     "name": "stdout",
     "output_type": "stream",
     "text": [
      "P3alphaRecommender: URM Detected 207 ( 1.6%) users with no interactions.\n",
      "P3alphaRecommender: URM Detected 119 ( 0.5%) items with no interactions.\n"
     ]
    },
    {
     "name": "stderr",
     "output_type": "stream",
     "text": [
      "/var/folders/l3/n3yjvx_d2g9dy0ztkyft2th40000gn/T/ipykernel_11921/144902340.py:5: FutureWarning: suggest_uniform has been deprecated in v3.0.0. This feature will be removed in v6.0.0. See https://github.com/optuna/optuna/releases/tag/v3.0.0. Use suggest_float instead.\n",
      "  alpha = trial.suggest_uniform(\"alpha\", 0.001, 2.0)\n"
     ]
    },
    {
     "name": "stdout",
     "output_type": "stream",
     "text": [
      "P3alphaRecommender: Similarity column 22222 (100.0%), 7236.94 column/sec. Elapsed time 3.07 sec\n",
      "EvaluatorHoldout: Processed 6514 (100.0%) in 1.49 sec. Users per second: 4357\n"
     ]
    },
    {
     "name": "stderr",
     "output_type": "stream",
     "text": [
      "[I 2024-01-10 22:41:08,904] Trial 118 finished with value: 0.06498024401655086 and parameters: {'topK': 80, 'alpha': 0.3154043336540901, 'normalize_similarity': True}. Best is trial 100 with value: 0.06682690152102219.\n"
     ]
    },
    {
     "name": "stdout",
     "output_type": "stream",
     "text": [
      "P3alphaRecommender: URM Detected 207 ( 1.6%) users with no interactions.\n",
      "P3alphaRecommender: URM Detected 119 ( 0.5%) items with no interactions.\n"
     ]
    },
    {
     "name": "stderr",
     "output_type": "stream",
     "text": [
      "/var/folders/l3/n3yjvx_d2g9dy0ztkyft2th40000gn/T/ipykernel_11921/144902340.py:5: FutureWarning: suggest_uniform has been deprecated in v3.0.0. This feature will be removed in v6.0.0. See https://github.com/optuna/optuna/releases/tag/v3.0.0. Use suggest_float instead.\n",
      "  alpha = trial.suggest_uniform(\"alpha\", 0.001, 2.0)\n"
     ]
    },
    {
     "name": "stdout",
     "output_type": "stream",
     "text": [
      "P3alphaRecommender: Similarity column 22222 (100.0%), 8673.34 column/sec. Elapsed time 2.56 sec\n",
      "EvaluatorHoldout: Processed 6514 (100.0%) in 1.48 sec. Users per second: 4399\n"
     ]
    },
    {
     "name": "stderr",
     "output_type": "stream",
     "text": [
      "[I 2024-01-10 22:41:13,130] Trial 119 finished with value: 0.04155904742410722 and parameters: {'topK': 10, 'alpha': 0.16629628997897386, 'normalize_similarity': False}. Best is trial 100 with value: 0.06682690152102219.\n"
     ]
    },
    {
     "name": "stdout",
     "output_type": "stream",
     "text": [
      "P3alphaRecommender: URM Detected 207 ( 1.6%) users with no interactions.\n",
      "P3alphaRecommender: URM Detected 119 ( 0.5%) items with no interactions.\n"
     ]
    },
    {
     "name": "stderr",
     "output_type": "stream",
     "text": [
      "/var/folders/l3/n3yjvx_d2g9dy0ztkyft2th40000gn/T/ipykernel_11921/144902340.py:5: FutureWarning: suggest_uniform has been deprecated in v3.0.0. This feature will be removed in v6.0.0. See https://github.com/optuna/optuna/releases/tag/v3.0.0. Use suggest_float instead.\n",
      "  alpha = trial.suggest_uniform(\"alpha\", 0.001, 2.0)\n"
     ]
    },
    {
     "name": "stdout",
     "output_type": "stream",
     "text": [
      "P3alphaRecommender: Similarity column 22222 (100.0%), 2681.39 column/sec. Elapsed time 8.29 sec\n",
      "EvaluatorHoldout: Processed 6514 (100.0%) in 2.67 sec. Users per second: 2442\n"
     ]
    },
    {
     "name": "stderr",
     "output_type": "stream",
     "text": [
      "[I 2024-01-10 22:41:28,338] Trial 120 finished with value: 0.04800993951976461 and parameters: {'topK': 707, 'alpha': 0.41246536601371053, 'normalize_similarity': True}. Best is trial 100 with value: 0.06682690152102219.\n"
     ]
    },
    {
     "name": "stdout",
     "output_type": "stream",
     "text": [
      "P3alphaRecommender: URM Detected 207 ( 1.6%) users with no interactions.\n",
      "P3alphaRecommender: URM Detected 119 ( 0.5%) items with no interactions.\n"
     ]
    },
    {
     "name": "stderr",
     "output_type": "stream",
     "text": [
      "/var/folders/l3/n3yjvx_d2g9dy0ztkyft2th40000gn/T/ipykernel_11921/144902340.py:5: FutureWarning: suggest_uniform has been deprecated in v3.0.0. This feature will be removed in v6.0.0. See https://github.com/optuna/optuna/releases/tag/v3.0.0. Use suggest_float instead.\n",
      "  alpha = trial.suggest_uniform(\"alpha\", 0.001, 2.0)\n"
     ]
    },
    {
     "name": "stdout",
     "output_type": "stream",
     "text": [
      "P3alphaRecommender: Similarity column 22222 (100.0%), 8019.63 column/sec. Elapsed time 2.77 sec\n",
      "EvaluatorHoldout: Processed 6514 (100.0%) in 1.84 sec. Users per second: 3541\n"
     ]
    },
    {
     "name": "stderr",
     "output_type": "stream",
     "text": [
      "[I 2024-01-10 22:41:33,261] Trial 121 finished with value: 0.06665283808744087 and parameters: {'topK': 35, 'alpha': 0.27323594540138013, 'normalize_similarity': True}. Best is trial 100 with value: 0.06682690152102219.\n"
     ]
    },
    {
     "name": "stdout",
     "output_type": "stream",
     "text": [
      "P3alphaRecommender: URM Detected 207 ( 1.6%) users with no interactions.\n",
      "P3alphaRecommender: URM Detected 119 ( 0.5%) items with no interactions.\n"
     ]
    },
    {
     "name": "stderr",
     "output_type": "stream",
     "text": [
      "/var/folders/l3/n3yjvx_d2g9dy0ztkyft2th40000gn/T/ipykernel_11921/144902340.py:5: FutureWarning: suggest_uniform has been deprecated in v3.0.0. This feature will be removed in v6.0.0. See https://github.com/optuna/optuna/releases/tag/v3.0.0. Use suggest_float instead.\n",
      "  alpha = trial.suggest_uniform(\"alpha\", 0.001, 2.0)\n"
     ]
    },
    {
     "name": "stdout",
     "output_type": "stream",
     "text": [
      "P3alphaRecommender: Similarity column 22222 (100.0%), 3719.36 column/sec. Elapsed time 5.97 sec\n",
      "EvaluatorHoldout: Processed 6514 (100.0%) in 2.81 sec. Users per second: 2315\n"
     ]
    },
    {
     "name": "stderr",
     "output_type": "stream",
     "text": [
      "[I 2024-01-10 22:41:44,895] Trial 122 finished with value: 0.05388780453333739 and parameters: {'topK': 371, 'alpha': 0.2761528837710269, 'normalize_similarity': True}. Best is trial 100 with value: 0.06682690152102219.\n"
     ]
    },
    {
     "name": "stdout",
     "output_type": "stream",
     "text": [
      "P3alphaRecommender: URM Detected 207 ( 1.6%) users with no interactions.\n",
      "P3alphaRecommender: URM Detected 119 ( 0.5%) items with no interactions.\n"
     ]
    },
    {
     "name": "stderr",
     "output_type": "stream",
     "text": [
      "/var/folders/l3/n3yjvx_d2g9dy0ztkyft2th40000gn/T/ipykernel_11921/144902340.py:5: FutureWarning: suggest_uniform has been deprecated in v3.0.0. This feature will be removed in v6.0.0. See https://github.com/optuna/optuna/releases/tag/v3.0.0. Use suggest_float instead.\n",
      "  alpha = trial.suggest_uniform(\"alpha\", 0.001, 2.0)\n"
     ]
    },
    {
     "name": "stdout",
     "output_type": "stream",
     "text": [
      "P3alphaRecommender: Similarity column 22222 (100.0%), 7474.14 column/sec. Elapsed time 2.97 sec\n",
      "EvaluatorHoldout: Processed 6514 (100.0%) in 1.61 sec. Users per second: 4042\n"
     ]
    },
    {
     "name": "stderr",
     "output_type": "stream",
     "text": [
      "[I 2024-01-10 22:41:49,770] Trial 123 finished with value: 0.0662847359289642 and parameters: {'topK': 31, 'alpha': 0.1569324306659845, 'normalize_similarity': True}. Best is trial 100 with value: 0.06682690152102219.\n"
     ]
    },
    {
     "name": "stdout",
     "output_type": "stream",
     "text": [
      "P3alphaRecommender: URM Detected 207 ( 1.6%) users with no interactions.\n",
      "P3alphaRecommender: URM Detected 119 ( 0.5%) items with no interactions.\n"
     ]
    },
    {
     "name": "stderr",
     "output_type": "stream",
     "text": [
      "/var/folders/l3/n3yjvx_d2g9dy0ztkyft2th40000gn/T/ipykernel_11921/144902340.py:5: FutureWarning: suggest_uniform has been deprecated in v3.0.0. This feature will be removed in v6.0.0. See https://github.com/optuna/optuna/releases/tag/v3.0.0. Use suggest_float instead.\n",
      "  alpha = trial.suggest_uniform(\"alpha\", 0.001, 2.0)\n"
     ]
    },
    {
     "name": "stdout",
     "output_type": "stream",
     "text": [
      "P3alphaRecommender: Similarity column 22222 (100.0%), 6683.22 column/sec. Elapsed time 3.33 sec\n",
      "EvaluatorHoldout: Processed 6514 (100.0%) in 1.67 sec. Users per second: 3897\n"
     ]
    },
    {
     "name": "stderr",
     "output_type": "stream",
     "text": [
      "[I 2024-01-10 22:41:55,285] Trial 124 finished with value: 0.0659993981217505 and parameters: {'topK': 60, 'alpha': 0.34603984678238076, 'normalize_similarity': True}. Best is trial 100 with value: 0.06682690152102219.\n"
     ]
    },
    {
     "name": "stdout",
     "output_type": "stream",
     "text": [
      "P3alphaRecommender: URM Detected 207 ( 1.6%) users with no interactions.\n",
      "P3alphaRecommender: URM Detected 119 ( 0.5%) items with no interactions.\n"
     ]
    },
    {
     "name": "stderr",
     "output_type": "stream",
     "text": [
      "/var/folders/l3/n3yjvx_d2g9dy0ztkyft2th40000gn/T/ipykernel_11921/144902340.py:5: FutureWarning: suggest_uniform has been deprecated in v3.0.0. This feature will be removed in v6.0.0. See https://github.com/optuna/optuna/releases/tag/v3.0.0. Use suggest_float instead.\n",
      "  alpha = trial.suggest_uniform(\"alpha\", 0.001, 2.0)\n"
     ]
    },
    {
     "name": "stdout",
     "output_type": "stream",
     "text": [
      "P3alphaRecommender: Similarity column 22222 (100.0%), 5902.41 column/sec. Elapsed time 3.76 sec\n",
      "EvaluatorHoldout: Processed 6514 (100.0%) in 2.04 sec. Users per second: 3198\n"
     ]
    },
    {
     "name": "stderr",
     "output_type": "stream",
     "text": [
      "[I 2024-01-10 22:42:02,008] Trial 125 finished with value: 0.06354815757026412 and parameters: {'topK': 117, 'alpha': 0.21553891080488294, 'normalize_similarity': True}. Best is trial 100 with value: 0.06682690152102219.\n"
     ]
    },
    {
     "name": "stdout",
     "output_type": "stream",
     "text": [
      "P3alphaRecommender: URM Detected 207 ( 1.6%) users with no interactions.\n",
      "P3alphaRecommender: URM Detected 119 ( 0.5%) items with no interactions.\n"
     ]
    },
    {
     "name": "stderr",
     "output_type": "stream",
     "text": [
      "/var/folders/l3/n3yjvx_d2g9dy0ztkyft2th40000gn/T/ipykernel_11921/144902340.py:5: FutureWarning: suggest_uniform has been deprecated in v3.0.0. This feature will be removed in v6.0.0. See https://github.com/optuna/optuna/releases/tag/v3.0.0. Use suggest_float instead.\n",
      "  alpha = trial.suggest_uniform(\"alpha\", 0.001, 2.0)\n"
     ]
    },
    {
     "name": "stdout",
     "output_type": "stream",
     "text": [
      "P3alphaRecommender: Similarity column 22222 (100.0%), 7428.33 column/sec. Elapsed time 2.99 sec\n",
      "EvaluatorHoldout: Processed 6514 (100.0%) in 1.70 sec. Users per second: 3824\n"
     ]
    },
    {
     "name": "stderr",
     "output_type": "stream",
     "text": [
      "[I 2024-01-10 22:42:06,982] Trial 126 finished with value: 0.06533326875935158 and parameters: {'topK': 29, 'alpha': 0.04228429505338033, 'normalize_similarity': True}. Best is trial 100 with value: 0.06682690152102219.\n"
     ]
    },
    {
     "name": "stdout",
     "output_type": "stream",
     "text": [
      "P3alphaRecommender: URM Detected 207 ( 1.6%) users with no interactions.\n",
      "P3alphaRecommender: URM Detected 119 ( 0.5%) items with no interactions.\n"
     ]
    },
    {
     "name": "stderr",
     "output_type": "stream",
     "text": [
      "/var/folders/l3/n3yjvx_d2g9dy0ztkyft2th40000gn/T/ipykernel_11921/144902340.py:5: FutureWarning: suggest_uniform has been deprecated in v3.0.0. This feature will be removed in v6.0.0. See https://github.com/optuna/optuna/releases/tag/v3.0.0. Use suggest_float instead.\n",
      "  alpha = trial.suggest_uniform(\"alpha\", 0.001, 2.0)\n"
     ]
    },
    {
     "name": "stdout",
     "output_type": "stream",
     "text": [
      "P3alphaRecommender: Similarity column 22222 (100.0%), 6618.18 column/sec. Elapsed time 3.36 sec\n",
      "EvaluatorHoldout: Processed 6514 (100.0%) in 1.51 sec. Users per second: 4319\n"
     ]
    },
    {
     "name": "stderr",
     "output_type": "stream",
     "text": [
      "[I 2024-01-10 22:42:12,426] Trial 127 finished with value: 0.06456215794065091 and parameters: {'topK': 87, 'alpha': 0.25404596797299633, 'normalize_similarity': True}. Best is trial 100 with value: 0.06682690152102219.\n"
     ]
    },
    {
     "name": "stdout",
     "output_type": "stream",
     "text": [
      "P3alphaRecommender: URM Detected 207 ( 1.6%) users with no interactions.\n",
      "P3alphaRecommender: URM Detected 119 ( 0.5%) items with no interactions.\n"
     ]
    },
    {
     "name": "stderr",
     "output_type": "stream",
     "text": [
      "/var/folders/l3/n3yjvx_d2g9dy0ztkyft2th40000gn/T/ipykernel_11921/144902340.py:5: FutureWarning: suggest_uniform has been deprecated in v3.0.0. This feature will be removed in v6.0.0. See https://github.com/optuna/optuna/releases/tag/v3.0.0. Use suggest_float instead.\n",
      "  alpha = trial.suggest_uniform(\"alpha\", 0.001, 2.0)\n"
     ]
    },
    {
     "name": "stdout",
     "output_type": "stream",
     "text": [
      "P3alphaRecommender: Similarity column 22222 (100.0%), 5670.72 column/sec. Elapsed time 3.92 sec\n",
      "EvaluatorHoldout: Processed 6514 (100.0%) in 1.92 sec. Users per second: 3395\n"
     ]
    },
    {
     "name": "stderr",
     "output_type": "stream",
     "text": [
      "[I 2024-01-10 22:42:19,281] Trial 128 finished with value: 0.06296345843628662 and parameters: {'topK': 142, 'alpha': 0.291145378310092, 'normalize_similarity': True}. Best is trial 100 with value: 0.06682690152102219.\n"
     ]
    },
    {
     "name": "stdout",
     "output_type": "stream",
     "text": [
      "P3alphaRecommender: URM Detected 207 ( 1.6%) users with no interactions.\n",
      "P3alphaRecommender: URM Detected 119 ( 0.5%) items with no interactions.\n"
     ]
    },
    {
     "name": "stderr",
     "output_type": "stream",
     "text": [
      "/var/folders/l3/n3yjvx_d2g9dy0ztkyft2th40000gn/T/ipykernel_11921/144902340.py:5: FutureWarning: suggest_uniform has been deprecated in v3.0.0. This feature will be removed in v6.0.0. See https://github.com/optuna/optuna/releases/tag/v3.0.0. Use suggest_float instead.\n",
      "  alpha = trial.suggest_uniform(\"alpha\", 0.001, 2.0)\n"
     ]
    },
    {
     "name": "stdout",
     "output_type": "stream",
     "text": [
      "P3alphaRecommender: Similarity column 22222 (100.0%), 7192.92 column/sec. Elapsed time 3.09 sec\n",
      "EvaluatorHoldout: Processed 6514 (100.0%) in 1.70 sec. Users per second: 3840\n"
     ]
    },
    {
     "name": "stderr",
     "output_type": "stream",
     "text": [
      "[I 2024-01-10 22:42:24,451] Trial 129 finished with value: 0.06592457149680095 and parameters: {'topK': 48, 'alpha': 0.14816857427660435, 'normalize_similarity': True}. Best is trial 100 with value: 0.06682690152102219.\n"
     ]
    },
    {
     "name": "stdout",
     "output_type": "stream",
     "text": [
      "P3alphaRecommender: URM Detected 207 ( 1.6%) users with no interactions.\n",
      "P3alphaRecommender: URM Detected 119 ( 0.5%) items with no interactions.\n"
     ]
    },
    {
     "name": "stderr",
     "output_type": "stream",
     "text": [
      "/var/folders/l3/n3yjvx_d2g9dy0ztkyft2th40000gn/T/ipykernel_11921/144902340.py:5: FutureWarning: suggest_uniform has been deprecated in v3.0.0. This feature will be removed in v6.0.0. See https://github.com/optuna/optuna/releases/tag/v3.0.0. Use suggest_float instead.\n",
      "  alpha = trial.suggest_uniform(\"alpha\", 0.001, 2.0)\n"
     ]
    },
    {
     "name": "stdout",
     "output_type": "stream",
     "text": [
      "P3alphaRecommender: Similarity column 22222 (100.0%), 8430.39 column/sec. Elapsed time 2.64 sec\n",
      "EvaluatorHoldout: Processed 6514 (100.0%) in 1.66 sec. Users per second: 3935\n"
     ]
    },
    {
     "name": "stderr",
     "output_type": "stream",
     "text": [
      "[I 2024-01-10 22:42:28,951] Trial 130 finished with value: 0.05647413872928191 and parameters: {'topK': 10, 'alpha': 0.4765294363190836, 'normalize_similarity': True}. Best is trial 100 with value: 0.06682690152102219.\n"
     ]
    },
    {
     "name": "stdout",
     "output_type": "stream",
     "text": [
      "P3alphaRecommender: URM Detected 207 ( 1.6%) users with no interactions.\n",
      "P3alphaRecommender: URM Detected 119 ( 0.5%) items with no interactions.\n"
     ]
    },
    {
     "name": "stderr",
     "output_type": "stream",
     "text": [
      "/var/folders/l3/n3yjvx_d2g9dy0ztkyft2th40000gn/T/ipykernel_11921/144902340.py:5: FutureWarning: suggest_uniform has been deprecated in v3.0.0. This feature will be removed in v6.0.0. See https://github.com/optuna/optuna/releases/tag/v3.0.0. Use suggest_float instead.\n",
      "  alpha = trial.suggest_uniform(\"alpha\", 0.001, 2.0)\n"
     ]
    },
    {
     "name": "stdout",
     "output_type": "stream",
     "text": [
      "P3alphaRecommender: Similarity column 22222 (100.0%), 7523.86 column/sec. Elapsed time 2.95 sec\n",
      "EvaluatorHoldout: Processed 6514 (100.0%) in 1.73 sec. Users per second: 3762\n"
     ]
    },
    {
     "name": "stderr",
     "output_type": "stream",
     "text": [
      "[I 2024-01-10 22:42:34,024] Trial 131 finished with value: 0.06667350176177363 and parameters: {'topK': 36, 'alpha': 0.19084776574159878, 'normalize_similarity': True}. Best is trial 100 with value: 0.06682690152102219.\n"
     ]
    },
    {
     "name": "stdout",
     "output_type": "stream",
     "text": [
      "P3alphaRecommender: URM Detected 207 ( 1.6%) users with no interactions.\n",
      "P3alphaRecommender: URM Detected 119 ( 0.5%) items with no interactions.\n"
     ]
    },
    {
     "name": "stderr",
     "output_type": "stream",
     "text": [
      "/var/folders/l3/n3yjvx_d2g9dy0ztkyft2th40000gn/T/ipykernel_11921/144902340.py:5: FutureWarning: suggest_uniform has been deprecated in v3.0.0. This feature will be removed in v6.0.0. See https://github.com/optuna/optuna/releases/tag/v3.0.0. Use suggest_float instead.\n",
      "  alpha = trial.suggest_uniform(\"alpha\", 0.001, 2.0)\n"
     ]
    },
    {
     "name": "stdout",
     "output_type": "stream",
     "text": [
      "P3alphaRecommender: Similarity column 22222 (100.0%), 6126.92 column/sec. Elapsed time 3.63 sec\n",
      "EvaluatorHoldout: Processed 6514 (100.0%) in 1.58 sec. Users per second: 4112\n"
     ]
    },
    {
     "name": "stderr",
     "output_type": "stream",
     "text": [
      "[I 2024-01-10 22:42:39,771] Trial 132 finished with value: 0.06557497039343874 and parameters: {'topK': 68, 'alpha': 0.18877167114739046, 'normalize_similarity': True}. Best is trial 100 with value: 0.06682690152102219.\n"
     ]
    },
    {
     "name": "stdout",
     "output_type": "stream",
     "text": [
      "P3alphaRecommender: URM Detected 207 ( 1.6%) users with no interactions.\n",
      "P3alphaRecommender: URM Detected 119 ( 0.5%) items with no interactions.\n"
     ]
    },
    {
     "name": "stderr",
     "output_type": "stream",
     "text": [
      "/var/folders/l3/n3yjvx_d2g9dy0ztkyft2th40000gn/T/ipykernel_11921/144902340.py:5: FutureWarning: suggest_uniform has been deprecated in v3.0.0. This feature will be removed in v6.0.0. See https://github.com/optuna/optuna/releases/tag/v3.0.0. Use suggest_float instead.\n",
      "  alpha = trial.suggest_uniform(\"alpha\", 0.001, 2.0)\n"
     ]
    },
    {
     "name": "stdout",
     "output_type": "stream",
     "text": [
      "P3alphaRecommender: Similarity column 22222 (100.0%), 7898.63 column/sec. Elapsed time 2.81 sec\n",
      "EvaluatorHoldout: Processed 6514 (100.0%) in 1.43 sec. Users per second: 4547\n"
     ]
    },
    {
     "name": "stderr",
     "output_type": "stream",
     "text": [
      "[I 2024-01-10 22:42:44,312] Trial 133 finished with value: 0.06671196592443196 and parameters: {'topK': 30, 'alpha': 0.23638196278857854, 'normalize_similarity': True}. Best is trial 100 with value: 0.06682690152102219.\n"
     ]
    },
    {
     "name": "stdout",
     "output_type": "stream",
     "text": [
      "P3alphaRecommender: URM Detected 207 ( 1.6%) users with no interactions.\n",
      "P3alphaRecommender: URM Detected 119 ( 0.5%) items with no interactions.\n"
     ]
    },
    {
     "name": "stderr",
     "output_type": "stream",
     "text": [
      "/var/folders/l3/n3yjvx_d2g9dy0ztkyft2th40000gn/T/ipykernel_11921/144902340.py:5: FutureWarning: suggest_uniform has been deprecated in v3.0.0. This feature will be removed in v6.0.0. See https://github.com/optuna/optuna/releases/tag/v3.0.0. Use suggest_float instead.\n",
      "  alpha = trial.suggest_uniform(\"alpha\", 0.001, 2.0)\n"
     ]
    },
    {
     "name": "stdout",
     "output_type": "stream",
     "text": [
      "P3alphaRecommender: Similarity column 22222 (100.0%), 7591.12 column/sec. Elapsed time 2.93 sec\n",
      "EvaluatorHoldout: Processed 6514 (100.0%) in 1.52 sec. Users per second: 4280\n"
     ]
    },
    {
     "name": "stderr",
     "output_type": "stream",
     "text": [
      "[I 2024-01-10 22:42:49,160] Trial 134 finished with value: 0.06598267589709161 and parameters: {'topK': 49, 'alpha': 0.2386099974062131, 'normalize_similarity': True}. Best is trial 100 with value: 0.06682690152102219.\n"
     ]
    },
    {
     "name": "stdout",
     "output_type": "stream",
     "text": [
      "P3alphaRecommender: URM Detected 207 ( 1.6%) users with no interactions.\n",
      "P3alphaRecommender: URM Detected 119 ( 0.5%) items with no interactions.\n"
     ]
    },
    {
     "name": "stderr",
     "output_type": "stream",
     "text": [
      "/var/folders/l3/n3yjvx_d2g9dy0ztkyft2th40000gn/T/ipykernel_11921/144902340.py:5: FutureWarning: suggest_uniform has been deprecated in v3.0.0. This feature will be removed in v6.0.0. See https://github.com/optuna/optuna/releases/tag/v3.0.0. Use suggest_float instead.\n",
      "  alpha = trial.suggest_uniform(\"alpha\", 0.001, 2.0)\n"
     ]
    },
    {
     "name": "stdout",
     "output_type": "stream",
     "text": [
      "P3alphaRecommender: Similarity column 22222 (100.0%), 6620.93 column/sec. Elapsed time 3.36 sec\n",
      "EvaluatorHoldout: Processed 6514 (100.0%) in 1.75 sec. Users per second: 3715\n"
     ]
    },
    {
     "name": "stderr",
     "output_type": "stream",
     "text": [
      "[I 2024-01-10 22:42:54,919] Trial 135 finished with value: 0.06450497950689892 and parameters: {'topK': 96, 'alpha': 0.34625103172805183, 'normalize_similarity': True}. Best is trial 100 with value: 0.06682690152102219.\n"
     ]
    },
    {
     "name": "stdout",
     "output_type": "stream",
     "text": [
      "P3alphaRecommender: URM Detected 207 ( 1.6%) users with no interactions.\n",
      "P3alphaRecommender: URM Detected 119 ( 0.5%) items with no interactions.\n"
     ]
    },
    {
     "name": "stderr",
     "output_type": "stream",
     "text": [
      "/var/folders/l3/n3yjvx_d2g9dy0ztkyft2th40000gn/T/ipykernel_11921/144902340.py:5: FutureWarning: suggest_uniform has been deprecated in v3.0.0. This feature will be removed in v6.0.0. See https://github.com/optuna/optuna/releases/tag/v3.0.0. Use suggest_float instead.\n",
      "  alpha = trial.suggest_uniform(\"alpha\", 0.001, 2.0)\n"
     ]
    },
    {
     "name": "stdout",
     "output_type": "stream",
     "text": [
      "P3alphaRecommender: Similarity column 22222 (100.0%), 7625.74 column/sec. Elapsed time 2.91 sec\n",
      "EvaluatorHoldout: Processed 6514 (100.0%) in 1.46 sec. Users per second: 4455\n"
     ]
    },
    {
     "name": "stderr",
     "output_type": "stream",
     "text": [
      "[I 2024-01-10 22:42:59,610] Trial 136 finished with value: 0.06658816054310428 and parameters: {'topK': 33, 'alpha': 0.2985905166316132, 'normalize_similarity': True}. Best is trial 100 with value: 0.06682690152102219.\n"
     ]
    },
    {
     "name": "stdout",
     "output_type": "stream",
     "text": [
      "P3alphaRecommender: URM Detected 207 ( 1.6%) users with no interactions.\n",
      "P3alphaRecommender: URM Detected 119 ( 0.5%) items with no interactions.\n"
     ]
    },
    {
     "name": "stderr",
     "output_type": "stream",
     "text": [
      "/var/folders/l3/n3yjvx_d2g9dy0ztkyft2th40000gn/T/ipykernel_11921/144902340.py:5: FutureWarning: suggest_uniform has been deprecated in v3.0.0. This feature will be removed in v6.0.0. See https://github.com/optuna/optuna/releases/tag/v3.0.0. Use suggest_float instead.\n",
      "  alpha = trial.suggest_uniform(\"alpha\", 0.001, 2.0)\n"
     ]
    },
    {
     "name": "stdout",
     "output_type": "stream",
     "text": [
      "P3alphaRecommender: Similarity column 22222 (100.0%), 6846.10 column/sec. Elapsed time 3.25 sec\n",
      "EvaluatorHoldout: Processed 6514 (100.0%) in 1.52 sec. Users per second: 4282\n"
     ]
    },
    {
     "name": "stderr",
     "output_type": "stream",
     "text": [
      "[I 2024-01-10 22:43:04,969] Trial 137 finished with value: 0.06496246180388086 and parameters: {'topK': 81, 'alpha': 0.2194778956494209, 'normalize_similarity': True}. Best is trial 100 with value: 0.06682690152102219.\n"
     ]
    },
    {
     "name": "stdout",
     "output_type": "stream",
     "text": [
      "P3alphaRecommender: URM Detected 207 ( 1.6%) users with no interactions.\n",
      "P3alphaRecommender: URM Detected 119 ( 0.5%) items with no interactions.\n"
     ]
    },
    {
     "name": "stderr",
     "output_type": "stream",
     "text": [
      "/var/folders/l3/n3yjvx_d2g9dy0ztkyft2th40000gn/T/ipykernel_11921/144902340.py:5: FutureWarning: suggest_uniform has been deprecated in v3.0.0. This feature will be removed in v6.0.0. See https://github.com/optuna/optuna/releases/tag/v3.0.0. Use suggest_float instead.\n",
      "  alpha = trial.suggest_uniform(\"alpha\", 0.001, 2.0)\n"
     ]
    },
    {
     "name": "stdout",
     "output_type": "stream",
     "text": [
      "P3alphaRecommender: Similarity column 22222 (100.0%), 7329.52 column/sec. Elapsed time 3.03 sec\n",
      "EvaluatorHoldout: Processed 6514 (100.0%) in 1.45 sec. Users per second: 4489\n"
     ]
    },
    {
     "name": "stderr",
     "output_type": "stream",
     "text": [
      "[I 2024-01-10 22:43:09,916] Trial 138 finished with value: 0.06565059505533925 and parameters: {'topK': 65, 'alpha': 0.26481595847239237, 'normalize_similarity': True}. Best is trial 100 with value: 0.06682690152102219.\n"
     ]
    },
    {
     "name": "stdout",
     "output_type": "stream",
     "text": [
      "P3alphaRecommender: URM Detected 207 ( 1.6%) users with no interactions.\n",
      "P3alphaRecommender: URM Detected 119 ( 0.5%) items with no interactions.\n"
     ]
    },
    {
     "name": "stderr",
     "output_type": "stream",
     "text": [
      "/var/folders/l3/n3yjvx_d2g9dy0ztkyft2th40000gn/T/ipykernel_11921/144902340.py:5: FutureWarning: suggest_uniform has been deprecated in v3.0.0. This feature will be removed in v6.0.0. See https://github.com/optuna/optuna/releases/tag/v3.0.0. Use suggest_float instead.\n",
      "  alpha = trial.suggest_uniform(\"alpha\", 0.001, 2.0)\n"
     ]
    },
    {
     "name": "stdout",
     "output_type": "stream",
     "text": [
      "P3alphaRecommender: Similarity column 22222 (100.0%), 7911.36 column/sec. Elapsed time 2.81 sec\n",
      "EvaluatorHoldout: Processed 6514 (100.0%) in 1.39 sec. Users per second: 4677\n"
     ]
    },
    {
     "name": "stderr",
     "output_type": "stream",
     "text": [
      "[I 2024-01-10 22:43:14,431] Trial 139 finished with value: 0.06627172975422954 and parameters: {'topK': 37, 'alpha': 0.07716112105763995, 'normalize_similarity': True}. Best is trial 100 with value: 0.06682690152102219.\n"
     ]
    },
    {
     "name": "stdout",
     "output_type": "stream",
     "text": [
      "P3alphaRecommender: URM Detected 207 ( 1.6%) users with no interactions.\n",
      "P3alphaRecommender: URM Detected 119 ( 0.5%) items with no interactions.\n"
     ]
    },
    {
     "name": "stderr",
     "output_type": "stream",
     "text": [
      "/var/folders/l3/n3yjvx_d2g9dy0ztkyft2th40000gn/T/ipykernel_11921/144902340.py:5: FutureWarning: suggest_uniform has been deprecated in v3.0.0. This feature will be removed in v6.0.0. See https://github.com/optuna/optuna/releases/tag/v3.0.0. Use suggest_float instead.\n",
      "  alpha = trial.suggest_uniform(\"alpha\", 0.001, 2.0)\n"
     ]
    },
    {
     "name": "stdout",
     "output_type": "stream",
     "text": [
      "P3alphaRecommender: Similarity column 22222 (100.0%), 6470.87 column/sec. Elapsed time 3.43 sec\n",
      "EvaluatorHoldout: Processed 6514 (100.0%) in 1.80 sec. Users per second: 3624\n"
     ]
    },
    {
     "name": "stderr",
     "output_type": "stream",
     "text": [
      "[I 2024-01-10 22:43:20,418] Trial 140 finished with value: 0.03296065616913037 and parameters: {'topK': 111, 'alpha': 0.13399339091166335, 'normalize_similarity': False}. Best is trial 100 with value: 0.06682690152102219.\n"
     ]
    },
    {
     "name": "stdout",
     "output_type": "stream",
     "text": [
      "P3alphaRecommender: URM Detected 207 ( 1.6%) users with no interactions.\n",
      "P3alphaRecommender: URM Detected 119 ( 0.5%) items with no interactions.\n"
     ]
    },
    {
     "name": "stderr",
     "output_type": "stream",
     "text": [
      "/var/folders/l3/n3yjvx_d2g9dy0ztkyft2th40000gn/T/ipykernel_11921/144902340.py:5: FutureWarning: suggest_uniform has been deprecated in v3.0.0. This feature will be removed in v6.0.0. See https://github.com/optuna/optuna/releases/tag/v3.0.0. Use suggest_float instead.\n",
      "  alpha = trial.suggest_uniform(\"alpha\", 0.001, 2.0)\n"
     ]
    },
    {
     "name": "stdout",
     "output_type": "stream",
     "text": [
      "P3alphaRecommender: Similarity column 22222 (100.0%), 7894.28 column/sec. Elapsed time 2.81 sec\n",
      "EvaluatorHoldout: Processed 6514 (100.0%) in 1.48 sec. Users per second: 4410\n"
     ]
    },
    {
     "name": "stderr",
     "output_type": "stream",
     "text": [
      "[I 2024-01-10 22:43:25,044] Trial 141 finished with value: 0.06681008791808646 and parameters: {'topK': 34, 'alpha': 0.3109313429765229, 'normalize_similarity': True}. Best is trial 100 with value: 0.06682690152102219.\n"
     ]
    },
    {
     "name": "stdout",
     "output_type": "stream",
     "text": [
      "P3alphaRecommender: URM Detected 207 ( 1.6%) users with no interactions.\n",
      "P3alphaRecommender: URM Detected 119 ( 0.5%) items with no interactions.\n"
     ]
    },
    {
     "name": "stderr",
     "output_type": "stream",
     "text": [
      "/var/folders/l3/n3yjvx_d2g9dy0ztkyft2th40000gn/T/ipykernel_11921/144902340.py:5: FutureWarning: suggest_uniform has been deprecated in v3.0.0. This feature will be removed in v6.0.0. See https://github.com/optuna/optuna/releases/tag/v3.0.0. Use suggest_float instead.\n",
      "  alpha = trial.suggest_uniform(\"alpha\", 0.001, 2.0)\n"
     ]
    },
    {
     "name": "stdout",
     "output_type": "stream",
     "text": [
      "P3alphaRecommender: Similarity column 22222 (100.0%), 7426.40 column/sec. Elapsed time 2.99 sec\n",
      "EvaluatorHoldout: Processed 6514 (100.0%) in 1.48 sec. Users per second: 4407\n"
     ]
    },
    {
     "name": "stderr",
     "output_type": "stream",
     "text": [
      "[I 2024-01-10 22:43:29,925] Trial 142 finished with value: 0.06587301587301636 and parameters: {'topK': 52, 'alpha': 0.39883203210489865, 'normalize_similarity': True}. Best is trial 100 with value: 0.06682690152102219.\n"
     ]
    },
    {
     "name": "stdout",
     "output_type": "stream",
     "text": [
      "P3alphaRecommender: URM Detected 207 ( 1.6%) users with no interactions.\n",
      "P3alphaRecommender: URM Detected 119 ( 0.5%) items with no interactions.\n"
     ]
    },
    {
     "name": "stderr",
     "output_type": "stream",
     "text": [
      "/var/folders/l3/n3yjvx_d2g9dy0ztkyft2th40000gn/T/ipykernel_11921/144902340.py:5: FutureWarning: suggest_uniform has been deprecated in v3.0.0. This feature will be removed in v6.0.0. See https://github.com/optuna/optuna/releases/tag/v3.0.0. Use suggest_float instead.\n",
      "  alpha = trial.suggest_uniform(\"alpha\", 0.001, 2.0)\n"
     ]
    },
    {
     "name": "stdout",
     "output_type": "stream",
     "text": [
      "P3alphaRecommender: Similarity column 22222 (100.0%), 8217.24 column/sec. Elapsed time 2.70 sec\n",
      "EvaluatorHoldout: Processed 6514 (100.0%) in 1.42 sec. Users per second: 4584\n"
     ]
    },
    {
     "name": "stderr",
     "output_type": "stream",
     "text": [
      "[I 2024-01-10 22:43:34,349] Trial 143 finished with value: 0.0662447609787959 and parameters: {'topK': 24, 'alpha': 0.32882239962877824, 'normalize_similarity': True}. Best is trial 100 with value: 0.06682690152102219.\n"
     ]
    },
    {
     "name": "stdout",
     "output_type": "stream",
     "text": [
      "P3alphaRecommender: URM Detected 207 ( 1.6%) users with no interactions.\n",
      "P3alphaRecommender: URM Detected 119 ( 0.5%) items with no interactions.\n"
     ]
    },
    {
     "name": "stderr",
     "output_type": "stream",
     "text": [
      "/var/folders/l3/n3yjvx_d2g9dy0ztkyft2th40000gn/T/ipykernel_11921/144902340.py:5: FutureWarning: suggest_uniform has been deprecated in v3.0.0. This feature will be removed in v6.0.0. See https://github.com/optuna/optuna/releases/tag/v3.0.0. Use suggest_float instead.\n",
      "  alpha = trial.suggest_uniform(\"alpha\", 0.001, 2.0)\n"
     ]
    },
    {
     "name": "stdout",
     "output_type": "stream",
     "text": [
      "P3alphaRecommender: Similarity column 22222 (100.0%), 8583.69 column/sec. Elapsed time 2.59 sec\n",
      "EvaluatorHoldout: Processed 6514 (100.0%) in 1.41 sec. Users per second: 4617\n"
     ]
    },
    {
     "name": "stderr",
     "output_type": "stream",
     "text": [
      "[I 2024-01-10 22:43:38,562] Trial 144 finished with value: 0.0583509388813354 and parameters: {'topK': 11, 'alpha': 0.20464944844671173, 'normalize_similarity': True}. Best is trial 100 with value: 0.06682690152102219.\n"
     ]
    },
    {
     "name": "stdout",
     "output_type": "stream",
     "text": [
      "P3alphaRecommender: URM Detected 207 ( 1.6%) users with no interactions.\n",
      "P3alphaRecommender: URM Detected 119 ( 0.5%) items with no interactions.\n"
     ]
    },
    {
     "name": "stderr",
     "output_type": "stream",
     "text": [
      "/var/folders/l3/n3yjvx_d2g9dy0ztkyft2th40000gn/T/ipykernel_11921/144902340.py:5: FutureWarning: suggest_uniform has been deprecated in v3.0.0. This feature will be removed in v6.0.0. See https://github.com/optuna/optuna/releases/tag/v3.0.0. Use suggest_float instead.\n",
      "  alpha = trial.suggest_uniform(\"alpha\", 0.001, 2.0)\n"
     ]
    },
    {
     "name": "stdout",
     "output_type": "stream",
     "text": [
      "P3alphaRecommender: Similarity column 22222 (100.0%), 7088.60 column/sec. Elapsed time 3.13 sec\n",
      "EvaluatorHoldout: Processed 6514 (100.0%) in 1.55 sec. Users per second: 4195\n"
     ]
    },
    {
     "name": "stderr",
     "output_type": "stream",
     "text": [
      "[I 2024-01-10 22:43:43,753] Trial 145 finished with value: 0.06554376775784572 and parameters: {'topK': 67, 'alpha': 0.2563616008264636, 'normalize_similarity': True}. Best is trial 100 with value: 0.06682690152102219.\n"
     ]
    },
    {
     "name": "stdout",
     "output_type": "stream",
     "text": [
      "P3alphaRecommender: URM Detected 207 ( 1.6%) users with no interactions.\n",
      "P3alphaRecommender: URM Detected 119 ( 0.5%) items with no interactions.\n"
     ]
    },
    {
     "name": "stderr",
     "output_type": "stream",
     "text": [
      "/var/folders/l3/n3yjvx_d2g9dy0ztkyft2th40000gn/T/ipykernel_11921/144902340.py:5: FutureWarning: suggest_uniform has been deprecated in v3.0.0. This feature will be removed in v6.0.0. See https://github.com/optuna/optuna/releases/tag/v3.0.0. Use suggest_float instead.\n",
      "  alpha = trial.suggest_uniform(\"alpha\", 0.001, 2.0)\n"
     ]
    },
    {
     "name": "stdout",
     "output_type": "stream",
     "text": [
      "P3alphaRecommender: Similarity column 22222 (100.0%), 7977.71 column/sec. Elapsed time 2.79 sec\n",
      "EvaluatorHoldout: Processed 6514 (100.0%) in 1.51 sec. Users per second: 4301\n"
     ]
    },
    {
     "name": "stderr",
     "output_type": "stream",
     "text": [
      "[I 2024-01-10 22:43:48,406] Trial 146 finished with value: 0.06666117178628733 and parameters: {'topK': 40, 'alpha': 0.3022512347613283, 'normalize_similarity': True}. Best is trial 100 with value: 0.06682690152102219.\n"
     ]
    },
    {
     "name": "stdout",
     "output_type": "stream",
     "text": [
      "P3alphaRecommender: URM Detected 207 ( 1.6%) users with no interactions.\n",
      "P3alphaRecommender: URM Detected 119 ( 0.5%) items with no interactions.\n"
     ]
    },
    {
     "name": "stderr",
     "output_type": "stream",
     "text": [
      "/var/folders/l3/n3yjvx_d2g9dy0ztkyft2th40000gn/T/ipykernel_11921/144902340.py:5: FutureWarning: suggest_uniform has been deprecated in v3.0.0. This feature will be removed in v6.0.0. See https://github.com/optuna/optuna/releases/tag/v3.0.0. Use suggest_float instead.\n",
      "  alpha = trial.suggest_uniform(\"alpha\", 0.001, 2.0)\n"
     ]
    },
    {
     "name": "stdout",
     "output_type": "stream",
     "text": [
      "P3alphaRecommender: Similarity column 22222 (100.0%), 3425.56 column/sec. Elapsed time 6.49 sec\n",
      "EvaluatorHoldout: Processed 6514 (100.0%) in 2.53 sec. Users per second: 2573\n"
     ]
    },
    {
     "name": "stderr",
     "output_type": "stream",
     "text": [
      "[I 2024-01-10 22:44:00,855] Trial 147 finished with value: 0.050209609583266625 and parameters: {'topK': 543, 'alpha': 0.3698367441247525, 'normalize_similarity': True}. Best is trial 100 with value: 0.06682690152102219.\n"
     ]
    },
    {
     "name": "stdout",
     "output_type": "stream",
     "text": [
      "P3alphaRecommender: URM Detected 207 ( 1.6%) users with no interactions.\n",
      "P3alphaRecommender: URM Detected 119 ( 0.5%) items with no interactions.\n"
     ]
    },
    {
     "name": "stderr",
     "output_type": "stream",
     "text": [
      "/var/folders/l3/n3yjvx_d2g9dy0ztkyft2th40000gn/T/ipykernel_11921/144902340.py:5: FutureWarning: suggest_uniform has been deprecated in v3.0.0. This feature will be removed in v6.0.0. See https://github.com/optuna/optuna/releases/tag/v3.0.0. Use suggest_float instead.\n",
      "  alpha = trial.suggest_uniform(\"alpha\", 0.001, 2.0)\n"
     ]
    },
    {
     "name": "stdout",
     "output_type": "stream",
     "text": [
      "P3alphaRecommender: Similarity column 22222 (100.0%), 6742.83 column/sec. Elapsed time 3.30 sec\n",
      "EvaluatorHoldout: Processed 6514 (100.0%) in 1.57 sec. Users per second: 4140\n"
     ]
    },
    {
     "name": "stderr",
     "output_type": "stream",
     "text": [
      "[I 2024-01-10 22:44:06,332] Trial 148 finished with value: 0.06497643049646461 and parameters: {'topK': 82, 'alpha': 0.4400411709915713, 'normalize_similarity': True}. Best is trial 100 with value: 0.06682690152102219.\n"
     ]
    },
    {
     "name": "stdout",
     "output_type": "stream",
     "text": [
      "P3alphaRecommender: URM Detected 207 ( 1.6%) users with no interactions.\n",
      "P3alphaRecommender: URM Detected 119 ( 0.5%) items with no interactions.\n"
     ]
    },
    {
     "name": "stderr",
     "output_type": "stream",
     "text": [
      "/var/folders/l3/n3yjvx_d2g9dy0ztkyft2th40000gn/T/ipykernel_11921/144902340.py:5: FutureWarning: suggest_uniform has been deprecated in v3.0.0. This feature will be removed in v6.0.0. See https://github.com/optuna/optuna/releases/tag/v3.0.0. Use suggest_float instead.\n",
      "  alpha = trial.suggest_uniform(\"alpha\", 0.001, 2.0)\n"
     ]
    },
    {
     "name": "stdout",
     "output_type": "stream",
     "text": [
      "P3alphaRecommender: Similarity column 22222 (100.0%), 7526.85 column/sec. Elapsed time 2.95 sec\n",
      "EvaluatorHoldout: Processed 6514 (100.0%) in 1.58 sec. Users per second: 4132\n"
     ]
    },
    {
     "name": "stderr",
     "output_type": "stream",
     "text": [
      "[I 2024-01-10 22:44:11,266] Trial 149 finished with value: 0.06607840377989334 and parameters: {'topK': 45, 'alpha': 0.31509916892984513, 'normalize_similarity': True}. Best is trial 100 with value: 0.06682690152102219.\n"
     ]
    },
    {
     "name": "stdout",
     "output_type": "stream",
     "text": [
      "P3alphaRecommender: URM Detected 207 ( 1.6%) users with no interactions.\n",
      "P3alphaRecommender: URM Detected 119 ( 0.5%) items with no interactions.\n"
     ]
    },
    {
     "name": "stderr",
     "output_type": "stream",
     "text": [
      "/var/folders/l3/n3yjvx_d2g9dy0ztkyft2th40000gn/T/ipykernel_11921/144902340.py:5: FutureWarning: suggest_uniform has been deprecated in v3.0.0. This feature will be removed in v6.0.0. See https://github.com/optuna/optuna/releases/tag/v3.0.0. Use suggest_float instead.\n",
      "  alpha = trial.suggest_uniform(\"alpha\", 0.001, 2.0)\n"
     ]
    },
    {
     "name": "stdout",
     "output_type": "stream",
     "text": [
      "P3alphaRecommender: Similarity column 22222 (100.0%), 6600.56 column/sec. Elapsed time 3.37 sec\n",
      "EvaluatorHoldout: Processed 6514 (100.0%) in 1.70 sec. Users per second: 3835\n"
     ]
    },
    {
     "name": "stderr",
     "output_type": "stream",
     "text": [
      "[I 2024-01-10 22:44:17,061] Trial 150 finished with value: 0.0643208766466371 and parameters: {'topK': 101, 'alpha': 0.5179123893149726, 'normalize_similarity': True}. Best is trial 100 with value: 0.06682690152102219.\n"
     ]
    },
    {
     "name": "stdout",
     "output_type": "stream",
     "text": [
      "P3alphaRecommender: URM Detected 207 ( 1.6%) users with no interactions.\n",
      "P3alphaRecommender: URM Detected 119 ( 0.5%) items with no interactions.\n"
     ]
    },
    {
     "name": "stderr",
     "output_type": "stream",
     "text": [
      "/var/folders/l3/n3yjvx_d2g9dy0ztkyft2th40000gn/T/ipykernel_11921/144902340.py:5: FutureWarning: suggest_uniform has been deprecated in v3.0.0. This feature will be removed in v6.0.0. See https://github.com/optuna/optuna/releases/tag/v3.0.0. Use suggest_float instead.\n",
      "  alpha = trial.suggest_uniform(\"alpha\", 0.001, 2.0)\n"
     ]
    },
    {
     "name": "stdout",
     "output_type": "stream",
     "text": [
      "P3alphaRecommender: Similarity column 22222 (100.0%), 7821.09 column/sec. Elapsed time 2.84 sec\n",
      "EvaluatorHoldout: Processed 6514 (100.0%) in 1.43 sec. Users per second: 4549\n"
     ]
    },
    {
     "name": "stderr",
     "output_type": "stream",
     "text": [
      "[I 2024-01-10 22:44:21,668] Trial 151 finished with value: 0.06663236326154703 and parameters: {'topK': 34, 'alpha': 0.2758397699535437, 'normalize_similarity': True}. Best is trial 100 with value: 0.06682690152102219.\n"
     ]
    },
    {
     "name": "stdout",
     "output_type": "stream",
     "text": [
      "P3alphaRecommender: URM Detected 207 ( 1.6%) users with no interactions.\n",
      "P3alphaRecommender: URM Detected 119 ( 0.5%) items with no interactions.\n"
     ]
    },
    {
     "name": "stderr",
     "output_type": "stream",
     "text": [
      "/var/folders/l3/n3yjvx_d2g9dy0ztkyft2th40000gn/T/ipykernel_11921/144902340.py:5: FutureWarning: suggest_uniform has been deprecated in v3.0.0. This feature will be removed in v6.0.0. See https://github.com/optuna/optuna/releases/tag/v3.0.0. Use suggest_float instead.\n",
      "  alpha = trial.suggest_uniform(\"alpha\", 0.001, 2.0)\n"
     ]
    },
    {
     "name": "stdout",
     "output_type": "stream",
     "text": [
      "P3alphaRecommender: Similarity column 22222 (100.0%), 7291.50 column/sec. Elapsed time 3.05 sec\n",
      "EvaluatorHoldout: Processed 6514 (100.0%) in 1.51 sec. Users per second: 4306\n"
     ]
    },
    {
     "name": "stderr",
     "output_type": "stream",
     "text": [
      "[I 2024-01-10 22:44:26,657] Trial 152 finished with value: 0.06557754726084532 and parameters: {'topK': 54, 'alpha': 0.19434372932476351, 'normalize_similarity': True}. Best is trial 100 with value: 0.06682690152102219.\n"
     ]
    },
    {
     "name": "stdout",
     "output_type": "stream",
     "text": [
      "P3alphaRecommender: URM Detected 207 ( 1.6%) users with no interactions.\n",
      "P3alphaRecommender: URM Detected 119 ( 0.5%) items with no interactions.\n"
     ]
    },
    {
     "name": "stderr",
     "output_type": "stream",
     "text": [
      "/var/folders/l3/n3yjvx_d2g9dy0ztkyft2th40000gn/T/ipykernel_11921/144902340.py:5: FutureWarning: suggest_uniform has been deprecated in v3.0.0. This feature will be removed in v6.0.0. See https://github.com/optuna/optuna/releases/tag/v3.0.0. Use suggest_float instead.\n",
      "  alpha = trial.suggest_uniform(\"alpha\", 0.001, 2.0)\n"
     ]
    },
    {
     "name": "stdout",
     "output_type": "stream",
     "text": [
      "P3alphaRecommender: Similarity column 22222 (100.0%), 7828.81 column/sec. Elapsed time 2.84 sec\n",
      "EvaluatorHoldout: Processed 6514 (100.0%) in 1.43 sec. Users per second: 4549\n"
     ]
    },
    {
     "name": "stderr",
     "output_type": "stream",
     "text": [
      "[I 2024-01-10 22:44:31,256] Trial 153 finished with value: 0.06654462793202483 and parameters: {'topK': 33, 'alpha': 0.2972850166605145, 'normalize_similarity': True}. Best is trial 100 with value: 0.06682690152102219.\n"
     ]
    },
    {
     "name": "stdout",
     "output_type": "stream",
     "text": [
      "P3alphaRecommender: URM Detected 207 ( 1.6%) users with no interactions.\n",
      "P3alphaRecommender: URM Detected 119 ( 0.5%) items with no interactions.\n"
     ]
    },
    {
     "name": "stderr",
     "output_type": "stream",
     "text": [
      "/var/folders/l3/n3yjvx_d2g9dy0ztkyft2th40000gn/T/ipykernel_11921/144902340.py:5: FutureWarning: suggest_uniform has been deprecated in v3.0.0. This feature will be removed in v6.0.0. See https://github.com/optuna/optuna/releases/tag/v3.0.0. Use suggest_float instead.\n",
      "  alpha = trial.suggest_uniform(\"alpha\", 0.001, 2.0)\n"
     ]
    },
    {
     "name": "stdout",
     "output_type": "stream",
     "text": [
      "P3alphaRecommender: Similarity column 22222 (100.0%), 8095.90 column/sec. Elapsed time 2.74 sec\n",
      "EvaluatorHoldout: Processed 6514 (100.0%) in 1.52 sec. Users per second: 4291\n"
     ]
    },
    {
     "name": "stderr",
     "output_type": "stream",
     "text": [
      "[I 2024-01-10 22:44:35,827] Trial 154 finished with value: 0.06622780726250226 and parameters: {'topK': 26, 'alpha': 0.2911425890807786, 'normalize_similarity': True}. Best is trial 100 with value: 0.06682690152102219.\n"
     ]
    },
    {
     "name": "stdout",
     "output_type": "stream",
     "text": [
      "P3alphaRecommender: URM Detected 207 ( 1.6%) users with no interactions.\n",
      "P3alphaRecommender: URM Detected 119 ( 0.5%) items with no interactions.\n"
     ]
    },
    {
     "name": "stderr",
     "output_type": "stream",
     "text": [
      "/var/folders/l3/n3yjvx_d2g9dy0ztkyft2th40000gn/T/ipykernel_11921/144902340.py:5: FutureWarning: suggest_uniform has been deprecated in v3.0.0. This feature will be removed in v6.0.0. See https://github.com/optuna/optuna/releases/tag/v3.0.0. Use suggest_float instead.\n",
      "  alpha = trial.suggest_uniform(\"alpha\", 0.001, 2.0)\n"
     ]
    },
    {
     "name": "stdout",
     "output_type": "stream",
     "text": [
      "P3alphaRecommender: Similarity column 22222 (100.0%), 8559.43 column/sec. Elapsed time 2.60 sec\n",
      "EvaluatorHoldout: Processed 6514 (100.0%) in 1.38 sec. Users per second: 4705\n"
     ]
    },
    {
     "name": "stderr",
     "output_type": "stream",
     "text": [
      "[I 2024-01-10 22:44:40,018] Trial 155 finished with value: 0.059047832263598776 and parameters: {'topK': 11, 'alpha': 0.3438088618394672, 'normalize_similarity': True}. Best is trial 100 with value: 0.06682690152102219.\n"
     ]
    },
    {
     "name": "stdout",
     "output_type": "stream",
     "text": [
      "P3alphaRecommender: URM Detected 207 ( 1.6%) users with no interactions.\n",
      "P3alphaRecommender: URM Detected 119 ( 0.5%) items with no interactions.\n"
     ]
    },
    {
     "name": "stderr",
     "output_type": "stream",
     "text": [
      "/var/folders/l3/n3yjvx_d2g9dy0ztkyft2th40000gn/T/ipykernel_11921/144902340.py:5: FutureWarning: suggest_uniform has been deprecated in v3.0.0. This feature will be removed in v6.0.0. See https://github.com/optuna/optuna/releases/tag/v3.0.0. Use suggest_float instead.\n",
      "  alpha = trial.suggest_uniform(\"alpha\", 0.001, 2.0)\n"
     ]
    },
    {
     "name": "stdout",
     "output_type": "stream",
     "text": [
      "P3alphaRecommender: Similarity column 22222 (100.0%), 7220.53 column/sec. Elapsed time 3.08 sec\n",
      "EvaluatorHoldout: Processed 6514 (100.0%) in 1.57 sec. Users per second: 4136\n"
     ]
    },
    {
     "name": "stderr",
     "output_type": "stream",
     "text": [
      "[I 2024-01-10 22:44:45,186] Trial 156 finished with value: 0.06536349060144021 and parameters: {'topK': 70, 'alpha': 0.23462991992437646, 'normalize_similarity': True}. Best is trial 100 with value: 0.06682690152102219.\n"
     ]
    },
    {
     "name": "stdout",
     "output_type": "stream",
     "text": [
      "P3alphaRecommender: URM Detected 207 ( 1.6%) users with no interactions.\n",
      "P3alphaRecommender: URM Detected 119 ( 0.5%) items with no interactions.\n"
     ]
    },
    {
     "name": "stderr",
     "output_type": "stream",
     "text": [
      "/var/folders/l3/n3yjvx_d2g9dy0ztkyft2th40000gn/T/ipykernel_11921/144902340.py:5: FutureWarning: suggest_uniform has been deprecated in v3.0.0. This feature will be removed in v6.0.0. See https://github.com/optuna/optuna/releases/tag/v3.0.0. Use suggest_float instead.\n",
      "  alpha = trial.suggest_uniform(\"alpha\", 0.001, 2.0)\n"
     ]
    },
    {
     "name": "stdout",
     "output_type": "stream",
     "text": [
      "P3alphaRecommender: Similarity column 22222 (100.0%), 7656.27 column/sec. Elapsed time 2.90 sec\n",
      "EvaluatorHoldout: Processed 6514 (100.0%) in 1.43 sec. Users per second: 4557\n"
     ]
    },
    {
     "name": "stderr",
     "output_type": "stream",
     "text": [
      "[I 2024-01-10 22:44:49,875] Trial 157 finished with value: 0.06630425432889397 and parameters: {'topK': 43, 'alpha': 0.38965378875462314, 'normalize_similarity': True}. Best is trial 100 with value: 0.06682690152102219.\n"
     ]
    },
    {
     "name": "stdout",
     "output_type": "stream",
     "text": [
      "P3alphaRecommender: URM Detected 207 ( 1.6%) users with no interactions.\n",
      "P3alphaRecommender: URM Detected 119 ( 0.5%) items with no interactions.\n"
     ]
    },
    {
     "name": "stderr",
     "output_type": "stream",
     "text": [
      "/var/folders/l3/n3yjvx_d2g9dy0ztkyft2th40000gn/T/ipykernel_11921/144902340.py:5: FutureWarning: suggest_uniform has been deprecated in v3.0.0. This feature will be removed in v6.0.0. See https://github.com/optuna/optuna/releases/tag/v3.0.0. Use suggest_float instead.\n",
      "  alpha = trial.suggest_uniform(\"alpha\", 0.001, 2.0)\n"
     ]
    },
    {
     "name": "stdout",
     "output_type": "stream",
     "text": [
      "P3alphaRecommender: Similarity column 22222 (100.0%), 7406.27 column/sec. Elapsed time 3.00 sec\n",
      "EvaluatorHoldout: Processed 6514 (100.0%) in 1.50 sec. Users per second: 4337\n"
     ]
    },
    {
     "name": "stderr",
     "output_type": "stream",
     "text": [
      "[I 2024-01-10 22:44:54,902] Trial 158 finished with value: 0.06584737512853926 and parameters: {'topK': 63, 'alpha': 0.3070964472367445, 'normalize_similarity': True}. Best is trial 100 with value: 0.06682690152102219.\n"
     ]
    },
    {
     "name": "stdout",
     "output_type": "stream",
     "text": [
      "P3alphaRecommender: URM Detected 207 ( 1.6%) users with no interactions.\n",
      "P3alphaRecommender: URM Detected 119 ( 0.5%) items with no interactions.\n"
     ]
    },
    {
     "name": "stderr",
     "output_type": "stream",
     "text": [
      "/var/folders/l3/n3yjvx_d2g9dy0ztkyft2th40000gn/T/ipykernel_11921/144902340.py:5: FutureWarning: suggest_uniform has been deprecated in v3.0.0. This feature will be removed in v6.0.0. See https://github.com/optuna/optuna/releases/tag/v3.0.0. Use suggest_float instead.\n",
      "  alpha = trial.suggest_uniform(\"alpha\", 0.001, 2.0)\n"
     ]
    },
    {
     "name": "stdout",
     "output_type": "stream",
     "text": [
      "P3alphaRecommender: Similarity column 22222 (100.0%), 8473.96 column/sec. Elapsed time 2.62 sec\n",
      "EvaluatorHoldout: Processed 6514 (100.0%) in 1.46 sec. Users per second: 4462\n"
     ]
    },
    {
     "name": "stderr",
     "output_type": "stream",
     "text": [
      "[I 2024-01-10 22:44:59,245] Trial 159 finished with value: 0.05580455526801903 and parameters: {'topK': 10, 'alpha': 0.1300289472017159, 'normalize_similarity': True}. Best is trial 100 with value: 0.06682690152102219.\n"
     ]
    },
    {
     "name": "stdout",
     "output_type": "stream",
     "text": [
      "P3alphaRecommender: URM Detected 207 ( 1.6%) users with no interactions.\n",
      "P3alphaRecommender: URM Detected 119 ( 0.5%) items with no interactions.\n"
     ]
    },
    {
     "name": "stderr",
     "output_type": "stream",
     "text": [
      "/var/folders/l3/n3yjvx_d2g9dy0ztkyft2th40000gn/T/ipykernel_11921/144902340.py:5: FutureWarning: suggest_uniform has been deprecated in v3.0.0. This feature will be removed in v6.0.0. See https://github.com/optuna/optuna/releases/tag/v3.0.0. Use suggest_float instead.\n",
      "  alpha = trial.suggest_uniform(\"alpha\", 0.001, 2.0)\n"
     ]
    },
    {
     "name": "stdout",
     "output_type": "stream",
     "text": [
      "P3alphaRecommender: Similarity column 22222 (100.0%), 7101.82 column/sec. Elapsed time 3.13 sec\n",
      "EvaluatorHoldout: Processed 6514 (100.0%) in 1.57 sec. Users per second: 4160\n"
     ]
    },
    {
     "name": "stderr",
     "output_type": "stream",
     "text": [
      "[I 2024-01-10 22:45:04,323] Trial 160 finished with value: 0.06660724641919036 and parameters: {'topK': 35, 'alpha': 0.23607939080055668, 'normalize_similarity': True}. Best is trial 100 with value: 0.06682690152102219.\n"
     ]
    },
    {
     "name": "stdout",
     "output_type": "stream",
     "text": [
      "P3alphaRecommender: URM Detected 207 ( 1.6%) users with no interactions.\n",
      "P3alphaRecommender: URM Detected 119 ( 0.5%) items with no interactions.\n"
     ]
    },
    {
     "name": "stderr",
     "output_type": "stream",
     "text": [
      "/var/folders/l3/n3yjvx_d2g9dy0ztkyft2th40000gn/T/ipykernel_11921/144902340.py:5: FutureWarning: suggest_uniform has been deprecated in v3.0.0. This feature will be removed in v6.0.0. See https://github.com/optuna/optuna/releases/tag/v3.0.0. Use suggest_float instead.\n",
      "  alpha = trial.suggest_uniform(\"alpha\", 0.001, 2.0)\n"
     ]
    },
    {
     "name": "stdout",
     "output_type": "stream",
     "text": [
      "P3alphaRecommender: Similarity column 22222 (100.0%), 6108.28 column/sec. Elapsed time 3.64 sec\n",
      "EvaluatorHoldout: Processed 6514 (100.0%) in 1.63 sec. Users per second: 3992\n"
     ]
    },
    {
     "name": "stderr",
     "output_type": "stream",
     "text": [
      "[I 2024-01-10 22:45:10,000] Trial 161 finished with value: 0.06657823686224101 and parameters: {'topK': 35, 'alpha': 0.23702403775478845, 'normalize_similarity': True}. Best is trial 100 with value: 0.06682690152102219.\n"
     ]
    },
    {
     "name": "stdout",
     "output_type": "stream",
     "text": [
      "P3alphaRecommender: URM Detected 207 ( 1.6%) users with no interactions.\n",
      "P3alphaRecommender: URM Detected 119 ( 0.5%) items with no interactions.\n"
     ]
    },
    {
     "name": "stderr",
     "output_type": "stream",
     "text": [
      "/var/folders/l3/n3yjvx_d2g9dy0ztkyft2th40000gn/T/ipykernel_11921/144902340.py:5: FutureWarning: suggest_uniform has been deprecated in v3.0.0. This feature will be removed in v6.0.0. See https://github.com/optuna/optuna/releases/tag/v3.0.0. Use suggest_float instead.\n",
      "  alpha = trial.suggest_uniform(\"alpha\", 0.001, 2.0)\n"
     ]
    },
    {
     "name": "stdout",
     "output_type": "stream",
     "text": [
      "P3alphaRecommender: Similarity column 22222 (100.0%), 6088.61 column/sec. Elapsed time 3.65 sec\n",
      "EvaluatorHoldout: Processed 6514 (100.0%) in 2.00 sec. Users per second: 3252\n"
     ]
    },
    {
     "name": "stderr",
     "output_type": "stream",
     "text": [
      "[I 2024-01-10 22:45:16,375] Trial 162 finished with value: 0.06471556988366989 and parameters: {'topK': 83, 'alpha': 0.2575435382574942, 'normalize_similarity': True}. Best is trial 100 with value: 0.06682690152102219.\n"
     ]
    },
    {
     "name": "stdout",
     "output_type": "stream",
     "text": [
      "P3alphaRecommender: URM Detected 207 ( 1.6%) users with no interactions.\n",
      "P3alphaRecommender: URM Detected 119 ( 0.5%) items with no interactions.\n"
     ]
    },
    {
     "name": "stderr",
     "output_type": "stream",
     "text": [
      "/var/folders/l3/n3yjvx_d2g9dy0ztkyft2th40000gn/T/ipykernel_11921/144902340.py:5: FutureWarning: suggest_uniform has been deprecated in v3.0.0. This feature will be removed in v6.0.0. See https://github.com/optuna/optuna/releases/tag/v3.0.0. Use suggest_float instead.\n",
      "  alpha = trial.suggest_uniform(\"alpha\", 0.001, 2.0)\n"
     ]
    },
    {
     "name": "stdout",
     "output_type": "stream",
     "text": [
      "P3alphaRecommender: Similarity column 22222 (100.0%), 6353.02 column/sec. Elapsed time 3.50 sec\n",
      "EvaluatorHoldout: Processed 6514 (100.0%) in 1.40 sec. Users per second: 4640\n"
     ]
    },
    {
     "name": "stderr",
     "output_type": "stream",
     "text": [
      "[I 2024-01-10 22:45:21,683] Trial 163 finished with value: 0.06592843375196819 and parameters: {'topK': 49, 'alpha': 0.21138735311265577, 'normalize_similarity': True}. Best is trial 100 with value: 0.06682690152102219.\n"
     ]
    },
    {
     "name": "stdout",
     "output_type": "stream",
     "text": [
      "P3alphaRecommender: URM Detected 207 ( 1.6%) users with no interactions.\n",
      "P3alphaRecommender: URM Detected 119 ( 0.5%) items with no interactions.\n"
     ]
    },
    {
     "name": "stderr",
     "output_type": "stream",
     "text": [
      "/var/folders/l3/n3yjvx_d2g9dy0ztkyft2th40000gn/T/ipykernel_11921/144902340.py:5: FutureWarning: suggest_uniform has been deprecated in v3.0.0. This feature will be removed in v6.0.0. See https://github.com/optuna/optuna/releases/tag/v3.0.0. Use suggest_float instead.\n",
      "  alpha = trial.suggest_uniform(\"alpha\", 0.001, 2.0)\n"
     ]
    },
    {
     "name": "stdout",
     "output_type": "stream",
     "text": [
      "P3alphaRecommender: Similarity column 22222 (100.0%), 8216.02 column/sec. Elapsed time 2.70 sec\n",
      "EvaluatorHoldout: Processed 6514 (100.0%) in 1.34 sec. Users per second: 4859\n"
     ]
    },
    {
     "name": "stderr",
     "output_type": "stream",
     "text": [
      "[I 2024-01-10 22:45:26,009] Trial 164 finished with value: 0.06641644857717979 and parameters: {'topK': 30, 'alpha': 0.1711729006193391, 'normalize_similarity': True}. Best is trial 100 with value: 0.06682690152102219.\n"
     ]
    },
    {
     "name": "stdout",
     "output_type": "stream",
     "text": [
      "P3alphaRecommender: URM Detected 207 ( 1.6%) users with no interactions.\n",
      "P3alphaRecommender: URM Detected 119 ( 0.5%) items with no interactions.\n"
     ]
    },
    {
     "name": "stderr",
     "output_type": "stream",
     "text": [
      "/var/folders/l3/n3yjvx_d2g9dy0ztkyft2th40000gn/T/ipykernel_11921/144902340.py:5: FutureWarning: suggest_uniform has been deprecated in v3.0.0. This feature will be removed in v6.0.0. See https://github.com/optuna/optuna/releases/tag/v3.0.0. Use suggest_float instead.\n",
      "  alpha = trial.suggest_uniform(\"alpha\", 0.001, 2.0)\n"
     ]
    },
    {
     "name": "stdout",
     "output_type": "stream",
     "text": [
      "P3alphaRecommender: Similarity column 22222 (100.0%), 7387.38 column/sec. Elapsed time 3.01 sec\n",
      "EvaluatorHoldout: Processed 6514 (100.0%) in 1.61 sec. Users per second: 4049\n"
     ]
    },
    {
     "name": "stderr",
     "output_type": "stream",
     "text": [
      "[I 2024-01-10 22:45:31,092] Trial 165 finished with value: 0.0654112022457131 and parameters: {'topK': 58, 'alpha': 0.10747000137372811, 'normalize_similarity': True}. Best is trial 100 with value: 0.06682690152102219.\n"
     ]
    },
    {
     "name": "stdout",
     "output_type": "stream",
     "text": [
      "P3alphaRecommender: URM Detected 207 ( 1.6%) users with no interactions.\n",
      "P3alphaRecommender: URM Detected 119 ( 0.5%) items with no interactions.\n"
     ]
    },
    {
     "name": "stderr",
     "output_type": "stream",
     "text": [
      "/var/folders/l3/n3yjvx_d2g9dy0ztkyft2th40000gn/T/ipykernel_11921/144902340.py:5: FutureWarning: suggest_uniform has been deprecated in v3.0.0. This feature will be removed in v6.0.0. See https://github.com/optuna/optuna/releases/tag/v3.0.0. Use suggest_float instead.\n",
      "  alpha = trial.suggest_uniform(\"alpha\", 0.001, 2.0)\n"
     ]
    },
    {
     "name": "stdout",
     "output_type": "stream",
     "text": [
      "P3alphaRecommender: Similarity column 22222 (100.0%), 7823.68 column/sec. Elapsed time 2.84 sec\n",
      "EvaluatorHoldout: Processed 6514 (100.0%) in 1.90 sec. Users per second: 3430\n"
     ]
    },
    {
     "name": "stderr",
     "output_type": "stream",
     "text": [
      "[I 2024-01-10 22:45:36,163] Trial 166 finished with value: 0.06668267004888177 and parameters: {'topK': 33, 'alpha': 0.23526054296640275, 'normalize_similarity': True}. Best is trial 100 with value: 0.06682690152102219.\n"
     ]
    },
    {
     "name": "stdout",
     "output_type": "stream",
     "text": [
      "P3alphaRecommender: URM Detected 207 ( 1.6%) users with no interactions.\n",
      "P3alphaRecommender: URM Detected 119 ( 0.5%) items with no interactions.\n"
     ]
    },
    {
     "name": "stderr",
     "output_type": "stream",
     "text": [
      "/var/folders/l3/n3yjvx_d2g9dy0ztkyft2th40000gn/T/ipykernel_11921/144902340.py:5: FutureWarning: suggest_uniform has been deprecated in v3.0.0. This feature will be removed in v6.0.0. See https://github.com/optuna/optuna/releases/tag/v3.0.0. Use suggest_float instead.\n",
      "  alpha = trial.suggest_uniform(\"alpha\", 0.001, 2.0)\n"
     ]
    },
    {
     "name": "stdout",
     "output_type": "stream",
     "text": [
      "P3alphaRecommender: Similarity column 22222 (100.0%), 7002.27 column/sec. Elapsed time 3.17 sec\n",
      "EvaluatorHoldout: Processed 6514 (100.0%) in 1.55 sec. Users per second: 4213\n"
     ]
    },
    {
     "name": "stderr",
     "output_type": "stream",
     "text": [
      "[I 2024-01-10 22:45:41,405] Trial 167 finished with value: 0.06500279617527133 and parameters: {'topK': 75, 'alpha': 0.3491316326150545, 'normalize_similarity': True}. Best is trial 100 with value: 0.06682690152102219.\n"
     ]
    },
    {
     "name": "stdout",
     "output_type": "stream",
     "text": [
      "P3alphaRecommender: URM Detected 207 ( 1.6%) users with no interactions.\n",
      "P3alphaRecommender: URM Detected 119 ( 0.5%) items with no interactions.\n"
     ]
    },
    {
     "name": "stderr",
     "output_type": "stream",
     "text": [
      "/var/folders/l3/n3yjvx_d2g9dy0ztkyft2th40000gn/T/ipykernel_11921/144902340.py:5: FutureWarning: suggest_uniform has been deprecated in v3.0.0. This feature will be removed in v6.0.0. See https://github.com/optuna/optuna/releases/tag/v3.0.0. Use suggest_float instead.\n",
      "  alpha = trial.suggest_uniform(\"alpha\", 0.001, 2.0)\n"
     ]
    },
    {
     "name": "stdout",
     "output_type": "stream",
     "text": [
      "P3alphaRecommender: Similarity column 22222 (100.0%), 8550.42 column/sec. Elapsed time 2.60 sec\n",
      "EvaluatorHoldout: Processed 6514 (100.0%) in 1.36 sec. Users per second: 4780\n"
     ]
    },
    {
     "name": "stderr",
     "output_type": "stream",
     "text": [
      "[I 2024-01-10 22:45:45,561] Trial 168 finished with value: 0.05934454362033459 and parameters: {'topK': 12, 'alpha': 0.14828227641032793, 'normalize_similarity': True}. Best is trial 100 with value: 0.06682690152102219.\n"
     ]
    },
    {
     "name": "stdout",
     "output_type": "stream",
     "text": [
      "P3alphaRecommender: URM Detected 207 ( 1.6%) users with no interactions.\n",
      "P3alphaRecommender: URM Detected 119 ( 0.5%) items with no interactions.\n"
     ]
    },
    {
     "name": "stderr",
     "output_type": "stream",
     "text": [
      "/var/folders/l3/n3yjvx_d2g9dy0ztkyft2th40000gn/T/ipykernel_11921/144902340.py:5: FutureWarning: suggest_uniform has been deprecated in v3.0.0. This feature will be removed in v6.0.0. See https://github.com/optuna/optuna/releases/tag/v3.0.0. Use suggest_float instead.\n",
      "  alpha = trial.suggest_uniform(\"alpha\", 0.001, 2.0)\n"
     ]
    },
    {
     "name": "stdout",
     "output_type": "stream",
     "text": [
      "P3alphaRecommender: Similarity column 22222 (100.0%), 6712.45 column/sec. Elapsed time 3.31 sec\n",
      "EvaluatorHoldout: Processed 6514 (100.0%) in 1.65 sec. Users per second: 3950\n"
     ]
    },
    {
     "name": "stderr",
     "output_type": "stream",
     "text": [
      "[I 2024-01-10 22:45:51,131] Trial 169 finished with value: 0.03642313137515779 and parameters: {'topK': 92, 'alpha': 0.26952696986890545, 'normalize_similarity': False}. Best is trial 100 with value: 0.06682690152102219.\n"
     ]
    },
    {
     "name": "stdout",
     "output_type": "stream",
     "text": [
      "P3alphaRecommender: URM Detected 207 ( 1.6%) users with no interactions.\n",
      "P3alphaRecommender: URM Detected 119 ( 0.5%) items with no interactions.\n"
     ]
    },
    {
     "name": "stderr",
     "output_type": "stream",
     "text": [
      "/var/folders/l3/n3yjvx_d2g9dy0ztkyft2th40000gn/T/ipykernel_11921/144902340.py:5: FutureWarning: suggest_uniform has been deprecated in v3.0.0. This feature will be removed in v6.0.0. See https://github.com/optuna/optuna/releases/tag/v3.0.0. Use suggest_float instead.\n",
      "  alpha = trial.suggest_uniform(\"alpha\", 0.001, 2.0)\n"
     ]
    },
    {
     "name": "stdout",
     "output_type": "stream",
     "text": [
      "P3alphaRecommender: Similarity column 22222 (100.0%), 7828.71 column/sec. Elapsed time 2.84 sec\n",
      "EvaluatorHoldout: Processed 6514 (100.0%) in 1.42 sec. Users per second: 4587\n"
     ]
    },
    {
     "name": "stderr",
     "output_type": "stream",
     "text": [
      "[I 2024-01-10 22:45:55,782] Trial 170 finished with value: 0.06534991178950392 and parameters: {'topK': 47, 'alpha': 0.6273173441052193, 'normalize_similarity': True}. Best is trial 100 with value: 0.06682690152102219.\n"
     ]
    },
    {
     "name": "stdout",
     "output_type": "stream",
     "text": [
      "P3alphaRecommender: URM Detected 207 ( 1.6%) users with no interactions.\n",
      "P3alphaRecommender: URM Detected 119 ( 0.5%) items with no interactions.\n"
     ]
    },
    {
     "name": "stderr",
     "output_type": "stream",
     "text": [
      "/var/folders/l3/n3yjvx_d2g9dy0ztkyft2th40000gn/T/ipykernel_11921/144902340.py:5: FutureWarning: suggest_uniform has been deprecated in v3.0.0. This feature will be removed in v6.0.0. See https://github.com/optuna/optuna/releases/tag/v3.0.0. Use suggest_float instead.\n",
      "  alpha = trial.suggest_uniform(\"alpha\", 0.001, 2.0)\n"
     ]
    },
    {
     "name": "stdout",
     "output_type": "stream",
     "text": [
      "P3alphaRecommender: Similarity column 22222 (100.0%), 8138.77 column/sec. Elapsed time 2.73 sec\n",
      "EvaluatorHoldout: Processed 6514 (100.0%) in 1.39 sec. Users per second: 4701\n"
     ]
    },
    {
     "name": "stderr",
     "output_type": "stream",
     "text": [
      "[I 2024-01-10 22:46:00,182] Trial 171 finished with value: 0.06674110950285399 and parameters: {'topK': 30, 'alpha': 0.2272261074505349, 'normalize_similarity': True}. Best is trial 100 with value: 0.06682690152102219.\n"
     ]
    },
    {
     "name": "stdout",
     "output_type": "stream",
     "text": [
      "P3alphaRecommender: URM Detected 207 ( 1.6%) users with no interactions.\n",
      "P3alphaRecommender: URM Detected 119 ( 0.5%) items with no interactions.\n"
     ]
    },
    {
     "name": "stderr",
     "output_type": "stream",
     "text": [
      "/var/folders/l3/n3yjvx_d2g9dy0ztkyft2th40000gn/T/ipykernel_11921/144902340.py:5: FutureWarning: suggest_uniform has been deprecated in v3.0.0. This feature will be removed in v6.0.0. See https://github.com/optuna/optuna/releases/tag/v3.0.0. Use suggest_float instead.\n",
      "  alpha = trial.suggest_uniform(\"alpha\", 0.001, 2.0)\n"
     ]
    },
    {
     "name": "stdout",
     "output_type": "stream",
     "text": [
      "P3alphaRecommender: Similarity column 22222 (100.0%), 8350.06 column/sec. Elapsed time 2.66 sec\n",
      "EvaluatorHoldout: Processed 6514 (100.0%) in 1.35 sec. Users per second: 4841\n"
     ]
    },
    {
     "name": "stderr",
     "output_type": "stream",
     "text": [
      "[I 2024-01-10 22:46:04,471] Trial 172 finished with value: 0.06665936858829136 and parameters: {'topK': 30, 'alpha': 0.2031576803591485, 'normalize_similarity': True}. Best is trial 100 with value: 0.06682690152102219.\n"
     ]
    },
    {
     "name": "stdout",
     "output_type": "stream",
     "text": [
      "P3alphaRecommender: URM Detected 207 ( 1.6%) users with no interactions.\n",
      "P3alphaRecommender: URM Detected 119 ( 0.5%) items with no interactions.\n"
     ]
    },
    {
     "name": "stderr",
     "output_type": "stream",
     "text": [
      "/var/folders/l3/n3yjvx_d2g9dy0ztkyft2th40000gn/T/ipykernel_11921/144902340.py:5: FutureWarning: suggest_uniform has been deprecated in v3.0.0. This feature will be removed in v6.0.0. See https://github.com/optuna/optuna/releases/tag/v3.0.0. Use suggest_float instead.\n",
      "  alpha = trial.suggest_uniform(\"alpha\", 0.001, 2.0)\n"
     ]
    },
    {
     "name": "stdout",
     "output_type": "stream",
     "text": [
      "P3alphaRecommender: Similarity column 22222 (100.0%), 8361.91 column/sec. Elapsed time 2.66 sec\n",
      "EvaluatorHoldout: Processed 6514 (100.0%) in 1.39 sec. Users per second: 4694\n"
     ]
    },
    {
     "name": "stderr",
     "output_type": "stream",
     "text": [
      "[I 2024-01-10 22:46:08,786] Trial 173 finished with value: 0.06610216822375302 and parameters: {'topK': 27, 'alpha': 0.18981485463895562, 'normalize_similarity': True}. Best is trial 100 with value: 0.06682690152102219.\n"
     ]
    },
    {
     "name": "stdout",
     "output_type": "stream",
     "text": [
      "P3alphaRecommender: URM Detected 207 ( 1.6%) users with no interactions.\n",
      "P3alphaRecommender: URM Detected 119 ( 0.5%) items with no interactions.\n"
     ]
    },
    {
     "name": "stderr",
     "output_type": "stream",
     "text": [
      "/var/folders/l3/n3yjvx_d2g9dy0ztkyft2th40000gn/T/ipykernel_11921/144902340.py:5: FutureWarning: suggest_uniform has been deprecated in v3.0.0. This feature will be removed in v6.0.0. See https://github.com/optuna/optuna/releases/tag/v3.0.0. Use suggest_float instead.\n",
      "  alpha = trial.suggest_uniform(\"alpha\", 0.001, 2.0)\n"
     ]
    },
    {
     "name": "stdout",
     "output_type": "stream",
     "text": [
      "P3alphaRecommender: Similarity column 22222 (100.0%), 7790.14 column/sec. Elapsed time 2.85 sec\n",
      "EvaluatorHoldout: Processed 6514 (100.0%) in 1.41 sec. Users per second: 4610\n"
     ]
    },
    {
     "name": "stderr",
     "output_type": "stream",
     "text": [
      "[I 2024-01-10 22:46:13,423] Trial 174 finished with value: 0.06596968799801223 and parameters: {'topK': 49, 'alpha': 0.23643659873524575, 'normalize_similarity': True}. Best is trial 100 with value: 0.06682690152102219.\n"
     ]
    },
    {
     "name": "stdout",
     "output_type": "stream",
     "text": [
      "P3alphaRecommender: URM Detected 207 ( 1.6%) users with no interactions.\n",
      "P3alphaRecommender: URM Detected 119 ( 0.5%) items with no interactions.\n"
     ]
    },
    {
     "name": "stderr",
     "output_type": "stream",
     "text": [
      "/var/folders/l3/n3yjvx_d2g9dy0ztkyft2th40000gn/T/ipykernel_11921/144902340.py:5: FutureWarning: suggest_uniform has been deprecated in v3.0.0. This feature will be removed in v6.0.0. See https://github.com/optuna/optuna/releases/tag/v3.0.0. Use suggest_float instead.\n",
      "  alpha = trial.suggest_uniform(\"alpha\", 0.001, 2.0)\n"
     ]
    },
    {
     "name": "stdout",
     "output_type": "stream",
     "text": [
      "P3alphaRecommender: Similarity column 22222 (100.0%), 7527.02 column/sec. Elapsed time 2.95 sec\n",
      "EvaluatorHoldout: Processed 6514 (100.0%) in 1.43 sec. Users per second: 4543\n"
     ]
    },
    {
     "name": "stderr",
     "output_type": "stream",
     "text": [
      "[I 2024-01-10 22:46:18,262] Trial 175 finished with value: 0.06559244191996784 and parameters: {'topK': 67, 'alpha': 0.28719247727437336, 'normalize_similarity': True}. Best is trial 100 with value: 0.06682690152102219.\n"
     ]
    },
    {
     "name": "stdout",
     "output_type": "stream",
     "text": [
      "P3alphaRecommender: URM Detected 207 ( 1.6%) users with no interactions.\n",
      "P3alphaRecommender: URM Detected 119 ( 0.5%) items with no interactions.\n"
     ]
    },
    {
     "name": "stderr",
     "output_type": "stream",
     "text": [
      "/var/folders/l3/n3yjvx_d2g9dy0ztkyft2th40000gn/T/ipykernel_11921/144902340.py:5: FutureWarning: suggest_uniform has been deprecated in v3.0.0. This feature will be removed in v6.0.0. See https://github.com/optuna/optuna/releases/tag/v3.0.0. Use suggest_float instead.\n",
      "  alpha = trial.suggest_uniform(\"alpha\", 0.001, 2.0)\n"
     ]
    },
    {
     "name": "stdout",
     "output_type": "stream",
     "text": [
      "P3alphaRecommender: Similarity column 22222 (100.0%), 8687.52 column/sec. Elapsed time 2.56 sec\n",
      "EvaluatorHoldout: Processed 6514 (100.0%) in 1.35 sec. Users per second: 4835\n"
     ]
    },
    {
     "name": "stderr",
     "output_type": "stream",
     "text": [
      "[I 2024-01-10 22:46:22,359] Trial 176 finished with value: 0.05868058906092426 and parameters: {'topK': 11, 'alpha': 0.3192795213193331, 'normalize_similarity': True}. Best is trial 100 with value: 0.06682690152102219.\n"
     ]
    },
    {
     "name": "stdout",
     "output_type": "stream",
     "text": [
      "P3alphaRecommender: URM Detected 207 ( 1.6%) users with no interactions.\n",
      "P3alphaRecommender: URM Detected 119 ( 0.5%) items with no interactions.\n"
     ]
    },
    {
     "name": "stderr",
     "output_type": "stream",
     "text": [
      "/var/folders/l3/n3yjvx_d2g9dy0ztkyft2th40000gn/T/ipykernel_11921/144902340.py:5: FutureWarning: suggest_uniform has been deprecated in v3.0.0. This feature will be removed in v6.0.0. See https://github.com/optuna/optuna/releases/tag/v3.0.0. Use suggest_float instead.\n",
      "  alpha = trial.suggest_uniform(\"alpha\", 0.001, 2.0)\n"
     ]
    },
    {
     "name": "stdout",
     "output_type": "stream",
     "text": [
      "P3alphaRecommender: Similarity column 22222 (100.0%), 7459.77 column/sec. Elapsed time 2.98 sec\n",
      "EvaluatorHoldout: Processed 6514 (100.0%) in 1.43 sec. Users per second: 4546\n"
     ]
    },
    {
     "name": "stderr",
     "output_type": "stream",
     "text": [
      "[I 2024-01-10 22:46:27,052] Trial 177 finished with value: 0.06639016209287978 and parameters: {'topK': 30, 'alpha': 0.16933949724700442, 'normalize_similarity': True}. Best is trial 100 with value: 0.06682690152102219.\n"
     ]
    },
    {
     "name": "stdout",
     "output_type": "stream",
     "text": [
      "P3alphaRecommender: URM Detected 207 ( 1.6%) users with no interactions.\n",
      "P3alphaRecommender: URM Detected 119 ( 0.5%) items with no interactions.\n"
     ]
    },
    {
     "name": "stderr",
     "output_type": "stream",
     "text": [
      "/var/folders/l3/n3yjvx_d2g9dy0ztkyft2th40000gn/T/ipykernel_11921/144902340.py:5: FutureWarning: suggest_uniform has been deprecated in v3.0.0. This feature will be removed in v6.0.0. See https://github.com/optuna/optuna/releases/tag/v3.0.0. Use suggest_float instead.\n",
      "  alpha = trial.suggest_uniform(\"alpha\", 0.001, 2.0)\n"
     ]
    },
    {
     "name": "stdout",
     "output_type": "stream",
     "text": [
      "P3alphaRecommender: Similarity column 22222 (100.0%), 7435.09 column/sec. Elapsed time 2.99 sec\n",
      "EvaluatorHoldout: Processed 6514 (100.0%) in 1.39 sec. Users per second: 4678\n"
     ]
    },
    {
     "name": "stderr",
     "output_type": "stream",
     "text": [
      "[I 2024-01-10 22:46:31,855] Trial 178 finished with value: 0.06606406348231696 and parameters: {'topK': 59, 'alpha': 0.2257091133987545, 'normalize_similarity': True}. Best is trial 100 with value: 0.06682690152102219.\n"
     ]
    },
    {
     "name": "stdout",
     "output_type": "stream",
     "text": [
      "P3alphaRecommender: URM Detected 207 ( 1.6%) users with no interactions.\n",
      "P3alphaRecommender: URM Detected 119 ( 0.5%) items with no interactions.\n"
     ]
    },
    {
     "name": "stderr",
     "output_type": "stream",
     "text": [
      "/var/folders/l3/n3yjvx_d2g9dy0ztkyft2th40000gn/T/ipykernel_11921/144902340.py:5: FutureWarning: suggest_uniform has been deprecated in v3.0.0. This feature will be removed in v6.0.0. See https://github.com/optuna/optuna/releases/tag/v3.0.0. Use suggest_float instead.\n",
      "  alpha = trial.suggest_uniform(\"alpha\", 0.001, 2.0)\n"
     ]
    },
    {
     "name": "stdout",
     "output_type": "stream",
     "text": [
      "P3alphaRecommender: Similarity column 22222 (100.0%), 7162.10 column/sec. Elapsed time 3.10 sec\n",
      "EvaluatorHoldout: Processed 6514 (100.0%) in 1.52 sec. Users per second: 4278\n"
     ]
    },
    {
     "name": "stderr",
     "output_type": "stream",
     "text": [
      "[I 2024-01-10 22:46:37,058] Trial 179 finished with value: 0.06486534497127107 and parameters: {'topK': 82, 'alpha': 0.39577222996429096, 'normalize_similarity': True}. Best is trial 100 with value: 0.06682690152102219.\n"
     ]
    },
    {
     "name": "stdout",
     "output_type": "stream",
     "text": [
      "P3alphaRecommender: URM Detected 207 ( 1.6%) users with no interactions.\n",
      "P3alphaRecommender: URM Detected 119 ( 0.5%) items with no interactions.\n"
     ]
    },
    {
     "name": "stderr",
     "output_type": "stream",
     "text": [
      "/var/folders/l3/n3yjvx_d2g9dy0ztkyft2th40000gn/T/ipykernel_11921/144902340.py:5: FutureWarning: suggest_uniform has been deprecated in v3.0.0. This feature will be removed in v6.0.0. See https://github.com/optuna/optuna/releases/tag/v3.0.0. Use suggest_float instead.\n",
      "  alpha = trial.suggest_uniform(\"alpha\", 0.001, 2.0)\n"
     ]
    },
    {
     "name": "stdout",
     "output_type": "stream",
     "text": [
      "P3alphaRecommender: Similarity column 22222 (100.0%), 7374.25 column/sec. Elapsed time 3.01 sec\n",
      "EvaluatorHoldout: Processed 6514 (100.0%) in 1.44 sec. Users per second: 4522\n"
     ]
    },
    {
     "name": "stderr",
     "output_type": "stream",
     "text": [
      "[I 2024-01-10 22:46:41,849] Trial 180 finished with value: 0.06626133090632695 and parameters: {'topK': 41, 'alpha': 0.07990036454674002, 'normalize_similarity': True}. Best is trial 100 with value: 0.06682690152102219.\n"
     ]
    },
    {
     "name": "stdout",
     "output_type": "stream",
     "text": [
      "P3alphaRecommender: URM Detected 207 ( 1.6%) users with no interactions.\n",
      "P3alphaRecommender: URM Detected 119 ( 0.5%) items with no interactions.\n"
     ]
    },
    {
     "name": "stderr",
     "output_type": "stream",
     "text": [
      "/var/folders/l3/n3yjvx_d2g9dy0ztkyft2th40000gn/T/ipykernel_11921/144902340.py:5: FutureWarning: suggest_uniform has been deprecated in v3.0.0. This feature will be removed in v6.0.0. See https://github.com/optuna/optuna/releases/tag/v3.0.0. Use suggest_float instead.\n",
      "  alpha = trial.suggest_uniform(\"alpha\", 0.001, 2.0)\n"
     ]
    },
    {
     "name": "stdout",
     "output_type": "stream",
     "text": [
      "P3alphaRecommender: Similarity column 22222 (100.0%), 8189.25 column/sec. Elapsed time 2.71 sec\n",
      "EvaluatorHoldout: Processed 6514 (100.0%) in 1.39 sec. Users per second: 4670\n"
     ]
    },
    {
     "name": "stderr",
     "output_type": "stream",
     "text": [
      "[I 2024-01-10 22:46:46,238] Trial 181 finished with value: 0.06647977372301958 and parameters: {'topK': 28, 'alpha': 0.26780894922099857, 'normalize_similarity': True}. Best is trial 100 with value: 0.06682690152102219.\n"
     ]
    },
    {
     "name": "stdout",
     "output_type": "stream",
     "text": [
      "P3alphaRecommender: URM Detected 207 ( 1.6%) users with no interactions.\n",
      "P3alphaRecommender: URM Detected 119 ( 0.5%) items with no interactions.\n"
     ]
    },
    {
     "name": "stderr",
     "output_type": "stream",
     "text": [
      "/var/folders/l3/n3yjvx_d2g9dy0ztkyft2th40000gn/T/ipykernel_11921/144902340.py:5: FutureWarning: suggest_uniform has been deprecated in v3.0.0. This feature will be removed in v6.0.0. See https://github.com/optuna/optuna/releases/tag/v3.0.0. Use suggest_float instead.\n",
      "  alpha = trial.suggest_uniform(\"alpha\", 0.001, 2.0)\n"
     ]
    },
    {
     "name": "stdout",
     "output_type": "stream",
     "text": [
      "P3alphaRecommender: Similarity column 22222 (100.0%), 7789.91 column/sec. Elapsed time 2.85 sec\n",
      "EvaluatorHoldout: Processed 6514 (100.0%) in 1.47 sec. Users per second: 4439\n"
     ]
    },
    {
     "name": "stderr",
     "output_type": "stream",
     "text": [
      "[I 2024-01-10 22:46:50,913] Trial 182 finished with value: 0.06603343957581025 and parameters: {'topK': 48, 'alpha': 0.20621750230563216, 'normalize_similarity': True}. Best is trial 100 with value: 0.06682690152102219.\n"
     ]
    },
    {
     "name": "stdout",
     "output_type": "stream",
     "text": [
      "P3alphaRecommender: URM Detected 207 ( 1.6%) users with no interactions.\n",
      "P3alphaRecommender: URM Detected 119 ( 0.5%) items with no interactions.\n"
     ]
    },
    {
     "name": "stderr",
     "output_type": "stream",
     "text": [
      "/var/folders/l3/n3yjvx_d2g9dy0ztkyft2th40000gn/T/ipykernel_11921/144902340.py:5: FutureWarning: suggest_uniform has been deprecated in v3.0.0. This feature will be removed in v6.0.0. See https://github.com/optuna/optuna/releases/tag/v3.0.0. Use suggest_float instead.\n",
      "  alpha = trial.suggest_uniform(\"alpha\", 0.001, 2.0)\n"
     ]
    },
    {
     "name": "stdout",
     "output_type": "stream",
     "text": [
      "P3alphaRecommender: Similarity column 22222 (100.0%), 8704.57 column/sec. Elapsed time 2.55 sec\n",
      "EvaluatorHoldout: Processed 6514 (100.0%) in 1.36 sec. Users per second: 4807\n"
     ]
    },
    {
     "name": "stderr",
     "output_type": "stream",
     "text": [
      "[I 2024-01-10 22:46:55,006] Trial 183 finished with value: 0.056035120936103994 and parameters: {'topK': 10, 'alpha': 0.14746710428094778, 'normalize_similarity': True}. Best is trial 100 with value: 0.06682690152102219.\n"
     ]
    },
    {
     "name": "stdout",
     "output_type": "stream",
     "text": [
      "P3alphaRecommender: URM Detected 207 ( 1.6%) users with no interactions.\n",
      "P3alphaRecommender: URM Detected 119 ( 0.5%) items with no interactions.\n"
     ]
    },
    {
     "name": "stderr",
     "output_type": "stream",
     "text": [
      "/var/folders/l3/n3yjvx_d2g9dy0ztkyft2th40000gn/T/ipykernel_11921/144902340.py:5: FutureWarning: suggest_uniform has been deprecated in v3.0.0. This feature will be removed in v6.0.0. See https://github.com/optuna/optuna/releases/tag/v3.0.0. Use suggest_float instead.\n",
      "  alpha = trial.suggest_uniform(\"alpha\", 0.001, 2.0)\n"
     ]
    },
    {
     "name": "stdout",
     "output_type": "stream",
     "text": [
      "P3alphaRecommender: Similarity column 22222 (100.0%), 6936.64 column/sec. Elapsed time 3.20 sec\n",
      "EvaluatorHoldout: Processed 6514 (100.0%) in 1.52 sec. Users per second: 4295\n"
     ]
    },
    {
     "name": "stderr",
     "output_type": "stream",
     "text": [
      "[I 2024-01-10 22:47:00,288] Trial 184 finished with value: 0.06569577856728662 and parameters: {'topK': 66, 'alpha': 0.24186088931155975, 'normalize_similarity': True}. Best is trial 100 with value: 0.06682690152102219.\n"
     ]
    },
    {
     "name": "stdout",
     "output_type": "stream",
     "text": [
      "P3alphaRecommender: URM Detected 207 ( 1.6%) users with no interactions.\n",
      "P3alphaRecommender: URM Detected 119 ( 0.5%) items with no interactions.\n"
     ]
    },
    {
     "name": "stderr",
     "output_type": "stream",
     "text": [
      "/var/folders/l3/n3yjvx_d2g9dy0ztkyft2th40000gn/T/ipykernel_11921/144902340.py:5: FutureWarning: suggest_uniform has been deprecated in v3.0.0. This feature will be removed in v6.0.0. See https://github.com/optuna/optuna/releases/tag/v3.0.0. Use suggest_float instead.\n",
      "  alpha = trial.suggest_uniform(\"alpha\", 0.001, 2.0)\n"
     ]
    },
    {
     "name": "stdout",
     "output_type": "stream",
     "text": [
      "P3alphaRecommender: Similarity column 22222 (100.0%), 7967.30 column/sec. Elapsed time 2.79 sec\n",
      "EvaluatorHoldout: Processed 6514 (100.0%) in 1.42 sec. Users per second: 4588\n"
     ]
    },
    {
     "name": "stderr",
     "output_type": "stream",
     "text": [
      "[I 2024-01-10 22:47:04,809] Trial 185 finished with value: 0.06320613477199342 and parameters: {'topK': 31, 'alpha': 0.720951351471365, 'normalize_similarity': True}. Best is trial 100 with value: 0.06682690152102219.\n"
     ]
    },
    {
     "name": "stdout",
     "output_type": "stream",
     "text": [
      "P3alphaRecommender: URM Detected 207 ( 1.6%) users with no interactions.\n",
      "P3alphaRecommender: URM Detected 119 ( 0.5%) items with no interactions.\n"
     ]
    },
    {
     "name": "stderr",
     "output_type": "stream",
     "text": [
      "/var/folders/l3/n3yjvx_d2g9dy0ztkyft2th40000gn/T/ipykernel_11921/144902340.py:5: FutureWarning: suggest_uniform has been deprecated in v3.0.0. This feature will be removed in v6.0.0. See https://github.com/optuna/optuna/releases/tag/v3.0.0. Use suggest_float instead.\n",
      "  alpha = trial.suggest_uniform(\"alpha\", 0.001, 2.0)\n"
     ]
    },
    {
     "name": "stdout",
     "output_type": "stream",
     "text": [
      "P3alphaRecommender: Similarity column 22222 (100.0%), 7613.59 column/sec. Elapsed time 2.92 sec\n",
      "EvaluatorHoldout: Processed 6514 (100.0%) in 1.50 sec. Users per second: 4330\n"
     ]
    },
    {
     "name": "stderr",
     "output_type": "stream",
     "text": [
      "[I 2024-01-10 22:47:09,620] Trial 186 finished with value: 0.06616496337558711 and parameters: {'topK': 46, 'alpha': 0.31975226460566797, 'normalize_similarity': True}. Best is trial 100 with value: 0.06682690152102219.\n"
     ]
    },
    {
     "name": "stdout",
     "output_type": "stream",
     "text": [
      "P3alphaRecommender: URM Detected 207 ( 1.6%) users with no interactions.\n",
      "P3alphaRecommender: URM Detected 119 ( 0.5%) items with no interactions.\n"
     ]
    },
    {
     "name": "stderr",
     "output_type": "stream",
     "text": [
      "/var/folders/l3/n3yjvx_d2g9dy0ztkyft2th40000gn/T/ipykernel_11921/144902340.py:5: FutureWarning: suggest_uniform has been deprecated in v3.0.0. This feature will be removed in v6.0.0. See https://github.com/optuna/optuna/releases/tag/v3.0.0. Use suggest_float instead.\n",
      "  alpha = trial.suggest_uniform(\"alpha\", 0.001, 2.0)\n"
     ]
    },
    {
     "name": "stdout",
     "output_type": "stream",
     "text": [
      "P3alphaRecommender: Similarity column 22222 (100.0%), 6354.94 column/sec. Elapsed time 3.50 sec\n",
      "EvaluatorHoldout: Processed 6514 (100.0%) in 1.58 sec. Users per second: 4126\n"
     ]
    },
    {
     "name": "stderr",
     "output_type": "stream",
     "text": [
      "[I 2024-01-10 22:47:15,401] Trial 187 finished with value: 0.06413894249747848 and parameters: {'topK': 99, 'alpha': 0.18590150909795428, 'normalize_similarity': True}. Best is trial 100 with value: 0.06682690152102219.\n"
     ]
    },
    {
     "name": "stdout",
     "output_type": "stream",
     "text": [
      "P3alphaRecommender: URM Detected 207 ( 1.6%) users with no interactions.\n",
      "P3alphaRecommender: URM Detected 119 ( 0.5%) items with no interactions.\n"
     ]
    },
    {
     "name": "stderr",
     "output_type": "stream",
     "text": [
      "/var/folders/l3/n3yjvx_d2g9dy0ztkyft2th40000gn/T/ipykernel_11921/144902340.py:5: FutureWarning: suggest_uniform has been deprecated in v3.0.0. This feature will be removed in v6.0.0. See https://github.com/optuna/optuna/releases/tag/v3.0.0. Use suggest_float instead.\n",
      "  alpha = trial.suggest_uniform(\"alpha\", 0.001, 2.0)\n"
     ]
    },
    {
     "name": "stdout",
     "output_type": "stream",
     "text": [
      "P3alphaRecommender: Similarity column 22222 (100.0%), 7158.98 column/sec. Elapsed time 3.10 sec\n",
      "EvaluatorHoldout: Processed 6514 (100.0%) in 1.53 sec. Users per second: 4254\n"
     ]
    },
    {
     "name": "stderr",
     "output_type": "stream",
     "text": [
      "[I 2024-01-10 22:47:20,565] Trial 188 finished with value: 0.06536120005263438 and parameters: {'topK': 72, 'alpha': 0.28021208271270726, 'normalize_similarity': True}. Best is trial 100 with value: 0.06682690152102219.\n"
     ]
    },
    {
     "name": "stdout",
     "output_type": "stream",
     "text": [
      "P3alphaRecommender: URM Detected 207 ( 1.6%) users with no interactions.\n",
      "P3alphaRecommender: URM Detected 119 ( 0.5%) items with no interactions.\n"
     ]
    },
    {
     "name": "stderr",
     "output_type": "stream",
     "text": [
      "/var/folders/l3/n3yjvx_d2g9dy0ztkyft2th40000gn/T/ipykernel_11921/144902340.py:5: FutureWarning: suggest_uniform has been deprecated in v3.0.0. This feature will be removed in v6.0.0. See https://github.com/optuna/optuna/releases/tag/v3.0.0. Use suggest_float instead.\n",
      "  alpha = trial.suggest_uniform(\"alpha\", 0.001, 2.0)\n"
     ]
    },
    {
     "name": "stdout",
     "output_type": "stream",
     "text": [
      "P3alphaRecommender: Similarity column 22222 (100.0%), 7164.10 column/sec. Elapsed time 3.10 sec\n",
      "EvaluatorHoldout: Processed 6514 (100.0%) in 1.37 sec. Users per second: 4757\n"
     ]
    },
    {
     "name": "stderr",
     "output_type": "stream",
     "text": [
      "[I 2024-01-10 22:47:25,311] Trial 189 finished with value: 0.06595904547470463 and parameters: {'topK': 29, 'alpha': 0.1210971837506099, 'normalize_similarity': True}. Best is trial 100 with value: 0.06682690152102219.\n"
     ]
    },
    {
     "name": "stdout",
     "output_type": "stream",
     "text": [
      "P3alphaRecommender: URM Detected 207 ( 1.6%) users with no interactions.\n",
      "P3alphaRecommender: URM Detected 119 ( 0.5%) items with no interactions.\n"
     ]
    },
    {
     "name": "stderr",
     "output_type": "stream",
     "text": [
      "/var/folders/l3/n3yjvx_d2g9dy0ztkyft2th40000gn/T/ipykernel_11921/144902340.py:5: FutureWarning: suggest_uniform has been deprecated in v3.0.0. This feature will be removed in v6.0.0. See https://github.com/optuna/optuna/releases/tag/v3.0.0. Use suggest_float instead.\n",
      "  alpha = trial.suggest_uniform(\"alpha\", 0.001, 2.0)\n"
     ]
    },
    {
     "name": "stdout",
     "output_type": "stream",
     "text": [
      "P3alphaRecommender: Similarity column 22222 (100.0%), 8324.59 column/sec. Elapsed time 2.67 sec\n",
      "EvaluatorHoldout: Processed 6514 (100.0%) in 1.31 sec. Users per second: 4958\n"
     ]
    },
    {
     "name": "stderr",
     "output_type": "stream",
     "text": [
      "[I 2024-01-10 22:47:29,472] Trial 190 finished with value: 0.05701852785940947 and parameters: {'topK': 10, 'alpha': 0.3608906481436378, 'normalize_similarity': True}. Best is trial 100 with value: 0.06682690152102219.\n"
     ]
    },
    {
     "name": "stdout",
     "output_type": "stream",
     "text": [
      "P3alphaRecommender: URM Detected 207 ( 1.6%) users with no interactions.\n",
      "P3alphaRecommender: URM Detected 119 ( 0.5%) items with no interactions.\n"
     ]
    },
    {
     "name": "stderr",
     "output_type": "stream",
     "text": [
      "/var/folders/l3/n3yjvx_d2g9dy0ztkyft2th40000gn/T/ipykernel_11921/144902340.py:5: FutureWarning: suggest_uniform has been deprecated in v3.0.0. This feature will be removed in v6.0.0. See https://github.com/optuna/optuna/releases/tag/v3.0.0. Use suggest_float instead.\n",
      "  alpha = trial.suggest_uniform(\"alpha\", 0.001, 2.0)\n"
     ]
    },
    {
     "name": "stdout",
     "output_type": "stream",
     "text": [
      "P3alphaRecommender: Similarity column 22222 (100.0%), 7938.30 column/sec. Elapsed time 2.80 sec\n",
      "EvaluatorHoldout: Processed 6514 (100.0%) in 1.40 sec. Users per second: 4659\n"
     ]
    },
    {
     "name": "stderr",
     "output_type": "stream",
     "text": [
      "[I 2024-01-10 22:47:33,987] Trial 191 finished with value: 0.06685656290967963 and parameters: {'topK': 38, 'alpha': 0.23046287039291546, 'normalize_similarity': True}. Best is trial 191 with value: 0.06685656290967963.\n"
     ]
    },
    {
     "name": "stdout",
     "output_type": "stream",
     "text": [
      "P3alphaRecommender: URM Detected 207 ( 1.6%) users with no interactions.\n",
      "P3alphaRecommender: URM Detected 119 ( 0.5%) items with no interactions.\n"
     ]
    },
    {
     "name": "stderr",
     "output_type": "stream",
     "text": [
      "/var/folders/l3/n3yjvx_d2g9dy0ztkyft2th40000gn/T/ipykernel_11921/144902340.py:5: FutureWarning: suggest_uniform has been deprecated in v3.0.0. This feature will be removed in v6.0.0. See https://github.com/optuna/optuna/releases/tag/v3.0.0. Use suggest_float instead.\n",
      "  alpha = trial.suggest_uniform(\"alpha\", 0.001, 2.0)\n"
     ]
    },
    {
     "name": "stdout",
     "output_type": "stream",
     "text": [
      "P3alphaRecommender: Similarity column 22222 (100.0%), 7440.53 column/sec. Elapsed time 2.99 sec\n",
      "EvaluatorHoldout: Processed 6514 (100.0%) in 1.73 sec. Users per second: 3765\n"
     ]
    },
    {
     "name": "stderr",
     "output_type": "stream",
     "text": [
      "[I 2024-01-10 22:47:39,152] Trial 192 finished with value: 0.06567322031668102 and parameters: {'topK': 55, 'alpha': 0.21627589506286973, 'normalize_similarity': True}. Best is trial 191 with value: 0.06685656290967963.\n"
     ]
    },
    {
     "name": "stdout",
     "output_type": "stream",
     "text": [
      "P3alphaRecommender: URM Detected 207 ( 1.6%) users with no interactions.\n",
      "P3alphaRecommender: URM Detected 119 ( 0.5%) items with no interactions.\n"
     ]
    },
    {
     "name": "stderr",
     "output_type": "stream",
     "text": [
      "/var/folders/l3/n3yjvx_d2g9dy0ztkyft2th40000gn/T/ipykernel_11921/144902340.py:5: FutureWarning: suggest_uniform has been deprecated in v3.0.0. This feature will be removed in v6.0.0. See https://github.com/optuna/optuna/releases/tag/v3.0.0. Use suggest_float instead.\n",
      "  alpha = trial.suggest_uniform(\"alpha\", 0.001, 2.0)\n"
     ]
    },
    {
     "name": "stdout",
     "output_type": "stream",
     "text": [
      "P3alphaRecommender: Similarity column 22222 (100.0%), 7929.87 column/sec. Elapsed time 2.80 sec\n",
      "EvaluatorHoldout: Processed 6514 (100.0%) in 1.63 sec. Users per second: 3998\n"
     ]
    },
    {
     "name": "stderr",
     "output_type": "stream",
     "text": [
      "[I 2024-01-10 22:47:43,936] Trial 193 finished with value: 0.0667240400407429 and parameters: {'topK': 38, 'alpha': 0.257038923723903, 'normalize_similarity': True}. Best is trial 191 with value: 0.06685656290967963.\n"
     ]
    },
    {
     "name": "stdout",
     "output_type": "stream",
     "text": [
      "P3alphaRecommender: URM Detected 207 ( 1.6%) users with no interactions.\n",
      "P3alphaRecommender: URM Detected 119 ( 0.5%) items with no interactions.\n"
     ]
    },
    {
     "name": "stderr",
     "output_type": "stream",
     "text": [
      "/var/folders/l3/n3yjvx_d2g9dy0ztkyft2th40000gn/T/ipykernel_11921/144902340.py:5: FutureWarning: suggest_uniform has been deprecated in v3.0.0. This feature will be removed in v6.0.0. See https://github.com/optuna/optuna/releases/tag/v3.0.0. Use suggest_float instead.\n",
      "  alpha = trial.suggest_uniform(\"alpha\", 0.001, 2.0)\n"
     ]
    },
    {
     "name": "stdout",
     "output_type": "stream",
     "text": [
      "P3alphaRecommender: Similarity column 22222 (100.0%), 7129.87 column/sec. Elapsed time 3.12 sec\n",
      "EvaluatorHoldout: Processed 6514 (100.0%) in 1.67 sec. Users per second: 3898\n"
     ]
    },
    {
     "name": "stderr",
     "output_type": "stream",
     "text": [
      "[I 2024-01-10 22:47:49,084] Trial 194 finished with value: 0.06619651934051728 and parameters: {'topK': 44, 'alpha': 0.2740364853904948, 'normalize_similarity': True}. Best is trial 191 with value: 0.06685656290967963.\n"
     ]
    },
    {
     "name": "stdout",
     "output_type": "stream",
     "text": [
      "P3alphaRecommender: URM Detected 207 ( 1.6%) users with no interactions.\n",
      "P3alphaRecommender: URM Detected 119 ( 0.5%) items with no interactions.\n"
     ]
    },
    {
     "name": "stderr",
     "output_type": "stream",
     "text": [
      "/var/folders/l3/n3yjvx_d2g9dy0ztkyft2th40000gn/T/ipykernel_11921/144902340.py:5: FutureWarning: suggest_uniform has been deprecated in v3.0.0. This feature will be removed in v6.0.0. See https://github.com/optuna/optuna/releases/tag/v3.0.0. Use suggest_float instead.\n",
      "  alpha = trial.suggest_uniform(\"alpha\", 0.001, 2.0)\n"
     ]
    },
    {
     "name": "stdout",
     "output_type": "stream",
     "text": [
      "P3alphaRecommender: Similarity column 22222 (100.0%), 7990.65 column/sec. Elapsed time 2.78 sec\n",
      "EvaluatorHoldout: Processed 6514 (100.0%) in 1.75 sec. Users per second: 3722\n"
     ]
    },
    {
     "name": "stderr",
     "output_type": "stream",
     "text": [
      "[I 2024-01-10 22:47:53,949] Trial 195 finished with value: 0.06632753142194392 and parameters: {'topK': 27, 'alpha': 0.3242440782108962, 'normalize_similarity': True}. Best is trial 191 with value: 0.06685656290967963.\n"
     ]
    },
    {
     "name": "stdout",
     "output_type": "stream",
     "text": [
      "P3alphaRecommender: URM Detected 207 ( 1.6%) users with no interactions.\n",
      "P3alphaRecommender: URM Detected 119 ( 0.5%) items with no interactions.\n"
     ]
    },
    {
     "name": "stderr",
     "output_type": "stream",
     "text": [
      "/var/folders/l3/n3yjvx_d2g9dy0ztkyft2th40000gn/T/ipykernel_11921/144902340.py:5: FutureWarning: suggest_uniform has been deprecated in v3.0.0. This feature will be removed in v6.0.0. See https://github.com/optuna/optuna/releases/tag/v3.0.0. Use suggest_float instead.\n",
      "  alpha = trial.suggest_uniform(\"alpha\", 0.001, 2.0)\n"
     ]
    },
    {
     "name": "stdout",
     "output_type": "stream",
     "text": [
      "P3alphaRecommender: Similarity column 22222 (100.0%), 2367.96 column/sec. Elapsed time 9.38 sec\n",
      "EvaluatorHoldout: Processed 6514 (100.0%) in 4.30 sec. Users per second: 1514\n"
     ]
    },
    {
     "name": "stderr",
     "output_type": "stream",
     "text": [
      "[I 2024-01-10 22:48:14,100] Trial 196 finished with value: 0.04914828135736977 and parameters: {'topK': 933, 'alpha': 0.8340472513701539, 'normalize_similarity': True}. Best is trial 191 with value: 0.06685656290967963.\n"
     ]
    },
    {
     "name": "stdout",
     "output_type": "stream",
     "text": [
      "P3alphaRecommender: URM Detected 207 ( 1.6%) users with no interactions.\n",
      "P3alphaRecommender: URM Detected 119 ( 0.5%) items with no interactions.\n"
     ]
    },
    {
     "name": "stderr",
     "output_type": "stream",
     "text": [
      "/var/folders/l3/n3yjvx_d2g9dy0ztkyft2th40000gn/T/ipykernel_11921/144902340.py:5: FutureWarning: suggest_uniform has been deprecated in v3.0.0. This feature will be removed in v6.0.0. See https://github.com/optuna/optuna/releases/tag/v3.0.0. Use suggest_float instead.\n",
      "  alpha = trial.suggest_uniform(\"alpha\", 0.001, 2.0)\n"
     ]
    },
    {
     "name": "stdout",
     "output_type": "stream",
     "text": [
      "P3alphaRecommender: Similarity column 22222 (100.0%), 6498.95 column/sec. Elapsed time 3.42 sec\n",
      "EvaluatorHoldout: Processed 6514 (100.0%) in 1.87 sec. Users per second: 3479\n"
     ]
    },
    {
     "name": "stderr",
     "output_type": "stream",
     "text": [
      "[I 2024-01-10 22:48:19,999] Trial 197 finished with value: 0.05993545647713626 and parameters: {'topK': 66, 'alpha': 0.9094932980648935, 'normalize_similarity': True}. Best is trial 191 with value: 0.06685656290967963.\n"
     ]
    },
    {
     "name": "stdout",
     "output_type": "stream",
     "text": [
      "P3alphaRecommender: URM Detected 207 ( 1.6%) users with no interactions.\n",
      "P3alphaRecommender: URM Detected 119 ( 0.5%) items with no interactions.\n"
     ]
    },
    {
     "name": "stderr",
     "output_type": "stream",
     "text": [
      "/var/folders/l3/n3yjvx_d2g9dy0ztkyft2th40000gn/T/ipykernel_11921/144902340.py:5: FutureWarning: suggest_uniform has been deprecated in v3.0.0. This feature will be removed in v6.0.0. See https://github.com/optuna/optuna/releases/tag/v3.0.0. Use suggest_float instead.\n",
      "  alpha = trial.suggest_uniform(\"alpha\", 0.001, 2.0)\n"
     ]
    },
    {
     "name": "stdout",
     "output_type": "stream",
     "text": [
      "P3alphaRecommender: Similarity column 22222 (100.0%), 6029.73 column/sec. Elapsed time 3.69 sec\n",
      "EvaluatorHoldout: Processed 6514 (100.0%) in 1.69 sec. Users per second: 3851\n"
     ]
    },
    {
     "name": "stderr",
     "output_type": "stream",
     "text": [
      "[I 2024-01-10 22:48:26,005] Trial 198 finished with value: 0.06482626552821567 and parameters: {'topK': 83, 'alpha': 0.23648758099574446, 'normalize_similarity': True}. Best is trial 191 with value: 0.06685656290967963.\n"
     ]
    },
    {
     "name": "stdout",
     "output_type": "stream",
     "text": [
      "P3alphaRecommender: URM Detected 207 ( 1.6%) users with no interactions.\n",
      "P3alphaRecommender: URM Detected 119 ( 0.5%) items with no interactions.\n"
     ]
    },
    {
     "name": "stderr",
     "output_type": "stream",
     "text": [
      "/var/folders/l3/n3yjvx_d2g9dy0ztkyft2th40000gn/T/ipykernel_11921/144902340.py:5: FutureWarning: suggest_uniform has been deprecated in v3.0.0. This feature will be removed in v6.0.0. See https://github.com/optuna/optuna/releases/tag/v3.0.0. Use suggest_float instead.\n",
      "  alpha = trial.suggest_uniform(\"alpha\", 0.001, 2.0)\n"
     ]
    },
    {
     "name": "stdout",
     "output_type": "stream",
     "text": [
      "P3alphaRecommender: Similarity column 22222 (100.0%), 7047.04 column/sec. Elapsed time 3.15 sec\n",
      "EvaluatorHoldout: Processed 6514 (100.0%) in 2.15 sec. Users per second: 3027\n"
     ]
    },
    {
     "name": "stderr",
     "output_type": "stream",
     "text": [
      "[I 2024-01-10 22:48:31,602] Trial 199 finished with value: 0.042108724310520367 and parameters: {'topK': 10, 'alpha': 0.1834585348162417, 'normalize_similarity': False}. Best is trial 191 with value: 0.06685656290967963.\n"
     ]
    }
   ],
   "source": [
    "best_params = {\n",
    "    \"topK\": 76,\n",
    "    \"alpha\": 0.377201600381895,\n",
    "    \"normalize_similarity\": True,\n",
    "}\n",
    "#{\"topK\": 84, \"alpha\": 0.3904145688038595, \"normalize_similarity\": true}\n",
    "study_name = \"p3alpha2-study\"  # Unique identifier of the study.\n",
    "storage_name = \"sqlite:///db.db\"\n",
    "study = op.create_study(study_name=study_name, storage=storage_name, direction=\"maximize\", load_if_exists=True)\n",
    "#study.enqueue_trial(best_params)\n",
    "study.optimize(objective, n_trials=100)"
   ],
   "metadata": {
    "collapsed": false,
    "ExecuteTime": {
     "end_time": "2024-01-10T21:48:31.615865Z",
     "start_time": "2024-01-10T21:39:18.054404Z"
    }
   },
   "id": "c5b8a36d4aed08fc"
  },
  {
   "cell_type": "code",
   "execution_count": 5,
   "outputs": [
    {
     "data": {
      "text/plain": "{'topK': 76, 'alpha': 0.377201600381895, 'normalize_similarity': True}"
     },
     "execution_count": 5,
     "metadata": {},
     "output_type": "execute_result"
    }
   ],
   "source": [
    "study.best_params"
   ],
   "metadata": {
    "collapsed": false,
    "ExecuteTime": {
     "end_time": "2023-11-22T23:53:59.082529456Z",
     "start_time": "2023-11-22T23:53:59.040222738Z"
    }
   },
   "id": "f18968c2188a349a"
  },
  {
   "cell_type": "code",
   "execution_count": 6,
   "outputs": [
    {
     "name": "stdout",
     "output_type": "stream",
     "text": [
      "P3alphaRecommender: URM Detected 225 ( 1.8%) users with no interactions.\n",
      "P3alphaRecommender: URM Detected 119 ( 0.5%) items with no interactions.\n",
      "P3alphaRecommender: Similarity column 22222 (100.0%), 4880.62 column/sec. Elapsed time 4.55 sec\n"
     ]
    }
   ],
   "source": [
    "final = model(URM_train_validation)\n",
    "final.fit(**study.best_params)"
   ],
   "metadata": {
    "collapsed": false,
    "ExecuteTime": {
     "end_time": "2023-11-22T23:54:10.112297178Z",
     "start_time": "2023-11-22T23:54:04.496146031Z"
    }
   },
   "id": "7ae12a0ef4bc0baa"
  },
  {
   "cell_type": "code",
   "execution_count": null,
   "outputs": [],
   "source": [
    "from Evaluation.Evaluator import EvaluatorHoldout\n",
    "evaluator_test = EvaluatorHoldout(URM_test, cutoff_list=[10], ignore_users=[])\n",
    "evaluator_test.evaluateRecommender(final)"
   ],
   "metadata": {
    "collapsed": false
   },
   "id": "1a0a3570fbcb348b"
  },
  {
   "cell_type": "code",
   "execution_count": null,
   "outputs": [],
   "source": [
    "## MAP = .046439"
   ],
   "metadata": {
    "collapsed": false
   },
   "id": "b7dc725c28f92051"
  }
 ],
 "metadata": {
  "kernelspec": {
   "display_name": "Python 3",
   "language": "python",
   "name": "python3"
  },
  "language_info": {
   "codemirror_mode": {
    "name": "ipython",
    "version": 2
   },
   "file_extension": ".py",
   "mimetype": "text/x-python",
   "name": "python",
   "nbconvert_exporter": "python",
   "pygments_lexer": "ipython2",
   "version": "2.7.6"
  }
 },
 "nbformat": 4,
 "nbformat_minor": 5
}
