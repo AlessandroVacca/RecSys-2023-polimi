{
 "cells": [
  {
   "cell_type": "code",
   "execution_count": 1,
   "id": "initial_id",
   "metadata": {
    "collapsed": true,
    "ExecuteTime": {
     "end_time": "2023-11-30T13:31:21.110155Z",
     "start_time": "2023-11-30T13:31:19.047688Z"
    }
   },
   "outputs": [
    {
     "name": "stdout",
     "output_type": "stream",
     "text": [
      "Warning: 216 (1.71 %) of 12638 users have no train items\n",
      "Warning: 2198 (17.39 %) of 12638 users have no sampled items\n",
      "Warning: 457 (3.62 %) of 12638 users have no train items\n",
      "Warning: 2561 (20.26 %) of 12638 users have no sampled items\n"
     ]
    }
   ],
   "source": [
    "from Data_manager.UserUtils import *\n",
    "from Data_manager.split_functions.split_train_validation_random_holdout import \\\n",
    "    split_train_in_two_percentage_global_sample\n",
    "URM_all = getURM_all()\n",
    "URM_train_validation, URM_test = split_train_in_two_percentage_global_sample(URM_all, train_percentage = 0.80)\n",
    "URM_train, URM_validation = split_train_in_two_percentage_global_sample(URM_train_validation, train_percentage = 0.80)"
   ]
  },
  {
   "cell_type": "code",
   "execution_count": 2,
   "outputs": [
    {
     "name": "stdout",
     "output_type": "stream",
     "text": [
      "EvaluatorHoldout: Ignoring 2561 (20.3%) Users that have less than 1 test interactions\n",
      "EvaluatorHoldout: Ignoring 0 Users\n"
     ]
    }
   ],
   "source": [
    "from Recommenders.EASE_R.EASE_R_Recommender import EASE_R_Recommender\n",
    "model = EASE_R_Recommender\n",
    "\n",
    "from Evaluation.Evaluator import EvaluatorHoldout\n",
    "evaluator_validation = EvaluatorHoldout(URM_validation, cutoff_list=[10], ignore_users=[])"
   ],
   "metadata": {
    "collapsed": false,
    "ExecuteTime": {
     "end_time": "2023-11-30T13:31:21.633240Z",
     "start_time": "2023-11-30T13:31:21.108011Z"
    }
   },
   "id": "8a9fec0ccc4f11c5"
  },
  {
   "cell_type": "code",
   "execution_count": 3,
   "outputs": [],
   "source": [
    "import optuna as op\n",
    "def objective(trial):\n",
    "    # Optuna suggest params\n",
    "    topK = trial.suggest_int(\"topK\", 1, 1000)\n",
    "    l2_norm = trial.suggest_float(\"l2_norm\", 1, 1e7, log=True)\n",
    "    normalize_matrix = False\n",
    "    \n",
    "    recommender = model(URM_train)\n",
    "    recommender.fit(**trial.params)\n",
    "    \n",
    "    result, _ = evaluator_validation.evaluateRecommender(recommender)\n",
    "    MAP_result = result[\"MAP\"].item()\n",
    "       \n",
    "    return MAP_result"
   ],
   "metadata": {
    "collapsed": false,
    "ExecuteTime": {
     "end_time": "2023-11-30T13:31:21.878322Z",
     "start_time": "2023-11-30T13:31:21.630969Z"
    }
   },
   "id": "b826576f6714c764"
  },
  {
   "cell_type": "code",
   "execution_count": null,
   "outputs": [
    {
     "name": "stderr",
     "output_type": "stream",
     "text": [
      "[I 2023-11-30 14:56:28,834] Using an existing study with name 'ease-r-study' instead of creating a new one.\n"
     ]
    },
    {
     "name": "stdout",
     "output_type": "stream",
     "text": [
      "EASE_R_Recommender: URM Detected 457 ( 3.6%) users with no interactions.\n",
      "EASE_R_Recommender: URM Detected 333 ( 1.5%) items with no interactions.\n",
      "EASE_R_Recommender: Fitting model... \n",
      "EASE_R_Recommender: Fitting model... done in 2.10 min\n",
      "EvaluatorHoldout: Processed 10077 (100.0%) in 3.00 sec. Users per second: 3355\n"
     ]
    },
    {
     "name": "stderr",
     "output_type": "stream",
     "text": [
      "[I 2023-11-30 14:58:47,223] Trial 155 finished with value: 0.029149674490549973 and parameters: {'topK': 32, 'l2_norm': 21.90136310855922}. Best is trial 131 with value: 0.03004205329780373.\n"
     ]
    },
    {
     "name": "stdout",
     "output_type": "stream",
     "text": [
      "EASE_R_Recommender: URM Detected 457 ( 3.6%) users with no interactions.\n",
      "EASE_R_Recommender: URM Detected 333 ( 1.5%) items with no interactions.\n",
      "EASE_R_Recommender: Fitting model... \n",
      "EASE_R_Recommender: Fitting model... done in 1.94 min\n",
      "EvaluatorHoldout: Processed 10077 (100.0%) in 3.08 sec. Users per second: 3270\n"
     ]
    },
    {
     "name": "stderr",
     "output_type": "stream",
     "text": [
      "[I 2023-11-30 15:00:56,017] Trial 156 finished with value: 0.029416225224501703 and parameters: {'topK': 51, 'l2_norm': 36.04687475595589}. Best is trial 131 with value: 0.03004205329780373.\n"
     ]
    },
    {
     "name": "stdout",
     "output_type": "stream",
     "text": [
      "EASE_R_Recommender: URM Detected 457 ( 3.6%) users with no interactions.\n",
      "EASE_R_Recommender: URM Detected 333 ( 1.5%) items with no interactions.\n",
      "EASE_R_Recommender: Fitting model... \n",
      "EASE_R_Recommender: Fitting model... done in 2.06 min\n",
      "EvaluatorHoldout: Processed 10077 (100.0%) in 2.93 sec. Users per second: 3438\n"
     ]
    },
    {
     "name": "stderr",
     "output_type": "stream",
     "text": [
      "[I 2023-11-30 15:03:12,189] Trial 157 finished with value: 0.029052793490126266 and parameters: {'topK': 26, 'l2_norm': 19.579549378317864}. Best is trial 131 with value: 0.03004205329780373.\n"
     ]
    },
    {
     "name": "stdout",
     "output_type": "stream",
     "text": [
      "EASE_R_Recommender: URM Detected 457 ( 3.6%) users with no interactions.\n",
      "EASE_R_Recommender: URM Detected 333 ( 1.5%) items with no interactions.\n",
      "EASE_R_Recommender: Fitting model... \n",
      "EASE_R_Recommender: Fitting model... done in 1.89 min\n",
      "EvaluatorHoldout: Processed 10077 (100.0%) in 3.30 sec. Users per second: 3049\n"
     ]
    },
    {
     "name": "stderr",
     "output_type": "stream",
     "text": [
      "[I 2023-11-30 15:05:19,314] Trial 158 finished with value: 0.029324534418312502 and parameters: {'topK': 74, 'l2_norm': 45.087986144310406}. Best is trial 131 with value: 0.03004205329780373.\n"
     ]
    },
    {
     "name": "stdout",
     "output_type": "stream",
     "text": [
      "EASE_R_Recommender: URM Detected 457 ( 3.6%) users with no interactions.\n",
      "EASE_R_Recommender: URM Detected 333 ( 1.5%) items with no interactions.\n",
      "EASE_R_Recommender: Fitting model... \n"
     ]
    }
   ],
   "source": [
    "best_params = {\n",
    "    \"topK\" : 24,\n",
    "    \"l2_norm\" : 37.54323189430143,\n",
    "    \"normalize_matrix\" : False\n",
    "}\n",
    "# {'topK': 22, 'l2_norm': 30.57223051536002}\n",
    "# {'topK': 24, 'l2_norm': 37.54323189430143} best\n",
    "study_name = \"ease-r-study\"  # Unique identifier of the study.\n",
    "storage_name = \"sqlite:///db.db\"\n",
    "study = op.create_study(study_name=study_name, storage=storage_name, direction=\"maximize\", load_if_exists=True)\n",
    "#study.enqueue_trial(best_params)\n",
    "study.optimize(objective, n_trials=10)"
   ],
   "metadata": {
    "collapsed": false,
    "is_executing": true,
    "ExecuteTime": {
     "start_time": "2023-11-30T13:56:28.792899Z"
    }
   },
   "id": "c5b8a36d4aed08fc"
  },
  {
   "cell_type": "code",
   "execution_count": 14,
   "outputs": [
    {
     "data": {
      "text/plain": "{'topK': 24, 'l2_norm': 37.54323189430143}"
     },
     "execution_count": 14,
     "metadata": {},
     "output_type": "execute_result"
    }
   ],
   "source": [
    "study.best_params"
   ],
   "metadata": {
    "collapsed": false,
    "ExecuteTime": {
     "end_time": "2023-11-30T00:49:59.844032Z",
     "start_time": "2023-11-30T00:49:59.835296Z"
    }
   },
   "id": "f18968c2188a349a"
  },
  {
   "cell_type": "code",
   "execution_count": 15,
   "outputs": [
    {
     "name": "stdout",
     "output_type": "stream",
     "text": [
      "EASE_R_Recommender: URM Detected 226 ( 1.8%) users with no interactions.\n",
      "EASE_R_Recommender: URM Detected 124 ( 0.6%) items with no interactions.\n",
      "EASE_R_Recommender: Fitting model... \n",
      "EASE_R_Recommender: Fitting model... done in 2.43 min\n"
     ]
    }
   ],
   "source": [
    "final = model(URM_train_validation)\n",
    "final.fit(**study.best_params)"
   ],
   "metadata": {
    "collapsed": false,
    "ExecuteTime": {
     "end_time": "2023-11-30T00:52:41.151648Z",
     "start_time": "2023-11-30T00:50:05.327601Z"
    }
   },
   "id": "7ae12a0ef4bc0baa"
  },
  {
   "cell_type": "code",
   "execution_count": 16,
   "outputs": [
    {
     "name": "stdout",
     "output_type": "stream",
     "text": [
      "EvaluatorHoldout: Ignoring 2225 (17.6%) Users that have less than 1 test interactions\n",
      "EvaluatorHoldout: Ignoring 0 Users\n",
      "EvaluatorHoldout: Processed 10413 (100.0%) in 3.37 sec. Users per second: 3086\n"
     ]
    },
    {
     "data": {
      "text/plain": "(       PRECISION PRECISION_RECALL_MIN_DEN    RECALL       MAP MAP_MIN_DEN  \\\n cutoff                                                                      \n 10      0.093278                 0.158106  0.132708  0.048562    0.081839   \n \n              MRR      NDCG        F1  HIT_RATE ARHR_ALL_HITS  ...  \\\n cutoff                                                        ...   \n 10      0.270498  0.147366  0.109553  0.513301      0.357693  ...   \n \n        COVERAGE_USER COVERAGE_USER_HIT USERS_IN_GT DIVERSITY_GINI  \\\n cutoff                                                              \n 10          0.823944          0.422931    0.823944       0.055496   \n \n        SHANNON_ENTROPY RATIO_DIVERSITY_HERFINDAHL RATIO_DIVERSITY_GINI  \\\n cutoff                                                                   \n 10           10.346571                   0.998603             0.159453   \n \n        RATIO_SHANNON_ENTROPY RATIO_AVERAGE_POPULARITY RATIO_NOVELTY  \n cutoff                                                               \n 10                  0.797112                 1.407996      0.291055  \n \n [1 rows x 27 columns],\n 'CUTOFF: 10 - PRECISION: 0.0932776, PRECISION_RECALL_MIN_DEN: 0.1581063, RECALL: 0.1327080, MAP: 0.0485623, MAP_MIN_DEN: 0.0818394, MRR: 0.2704980, NDCG: 0.1473663, F1: 0.1095529, HIT_RATE: 0.5133007, ARHR_ALL_HITS: 0.3576928, NOVELTY: 0.0051519, AVERAGE_POPULARITY: 0.1742654, DIVERSITY_MEAN_INTER_LIST: 0.9825139, DIVERSITY_HERFINDAHL: 0.9982420, COVERAGE_ITEM: 0.2961030, COVERAGE_ITEM_HIT: 0.0800558, ITEMS_IN_GT: 0.8065881, COVERAGE_USER: 0.8239437, COVERAGE_USER_HIT: 0.4229308, USERS_IN_GT: 0.8239437, DIVERSITY_GINI: 0.0554958, SHANNON_ENTROPY: 10.3465711, RATIO_DIVERSITY_HERFINDAHL: 0.9986028, RATIO_DIVERSITY_GINI: 0.1594529, RATIO_SHANNON_ENTROPY: 0.7971123, RATIO_AVERAGE_POPULARITY: 1.4079956, RATIO_NOVELTY: 0.2910553, \\n')"
     },
     "execution_count": 16,
     "metadata": {},
     "output_type": "execute_result"
    }
   ],
   "source": [
    "from Evaluation.Evaluator import EvaluatorHoldout\n",
    "evaluator_test = EvaluatorHoldout(URM_test, cutoff_list=[10], ignore_users=[])\n",
    "evaluator_test.evaluateRecommender(final)"
   ],
   "metadata": {
    "collapsed": false,
    "ExecuteTime": {
     "end_time": "2023-11-30T00:52:44.575867Z",
     "start_time": "2023-11-30T00:52:41.164917Z"
    }
   },
   "id": "1a0a3570fbcb348b"
  },
  {
   "cell_type": "code",
   "execution_count": null,
   "outputs": [],
   "source": [
    "## MAP = 0.0485282"
   ],
   "metadata": {
    "collapsed": false
   },
   "id": "b7dc725c28f92051"
  }
 ],
 "metadata": {
  "kernelspec": {
   "display_name": "Python 3",
   "language": "python",
   "name": "python3"
  },
  "language_info": {
   "codemirror_mode": {
    "name": "ipython",
    "version": 2
   },
   "file_extension": ".py",
   "mimetype": "text/x-python",
   "name": "python",
   "nbconvert_exporter": "python",
   "pygments_lexer": "ipython2",
   "version": "2.7.6"
  }
 },
 "nbformat": 4,
 "nbformat_minor": 5
}
