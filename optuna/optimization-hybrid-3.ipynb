{
 "cells": [
  {
   "cell_type": "code",
   "execution_count": 1,
   "outputs": [
    {
     "name": "stdout",
     "output_type": "stream",
     "text": [
      "Warning: 228 (1.80 %) of 12638 users have no train items\n",
      "Warning: 2158 (17.08 %) of 12638 users have no sampled items\n"
     ]
    }
   ],
   "source": [
    "from Data_manager.UserUtils import *\n",
    "from Data_manager.split_functions.split_train_validation_random_holdout import \\\n",
    "    split_train_in_two_percentage_global_sample\n",
    "URM_all = getURM_all()\n",
    "URM_train_validation, URM_test = split_train_in_two_percentage_global_sample(URM_all, train_percentage = 0.80)"
   ],
   "metadata": {
    "collapsed": false,
    "ExecuteTime": {
     "end_time": "2024-01-08T12:08:37.463206Z",
     "start_time": "2024-01-08T12:08:35.820664Z"
    }
   },
   "id": "a884190b64cf557"
  },
  {
   "cell_type": "code",
   "execution_count": 1,
   "outputs": [],
   "source": [
    "import pickle\n",
    "\n",
    "with open('URM_train_validation.pkl', 'rb') as f:\n",
    "    URM_train_validation = pickle.load(f)\n",
    "with open('URM_test.pkl', 'rb') as f:\n",
    "    URM_test = pickle.load(f)"
   ],
   "metadata": {
    "collapsed": false,
    "ExecuteTime": {
     "end_time": "2024-01-08T14:15:29.652266Z",
     "start_time": "2024-01-08T14:15:29.417023Z"
    }
   },
   "id": "e40223c1e1d7469d"
  },
  {
   "cell_type": "code",
   "execution_count": 11,
   "outputs": [
    {
     "name": "stdout",
     "output_type": "stream",
     "text": [
      "SLIMElasticNetRecommender: URM Detected 205 ( 1.6%) users with no interactions.\n",
      "SLIMElasticNetRecommender: URM Detected 109 ( 0.5%) items with no interactions.\n",
      "SLIMElasticNetRecommender: Loading model from file 'slim_modelsslim_t_val'\n",
      "SLIMElasticNetRecommender: Loading complete\n",
      "RP3betaRecommender: URM Detected 205 ( 1.6%) users with no interactions.\n",
      "RP3betaRecommender: URM Detected 109 ( 0.5%) items with no interactions.\n",
      "RP3betaRecommender: Similarity column 22222 (100.0%), 5797.10 column/sec. Elapsed time 3.83 sec\n",
      "P3alphaRecommender: URM Detected 205 ( 1.6%) users with no interactions.\n",
      "P3alphaRecommender: URM Detected 109 ( 0.5%) items with no interactions.\n",
      "P3alphaRecommender: Similarity column 22222 (100.0%), 5567.73 column/sec. Elapsed time 3.99 sec\n",
      "EASE_R_Recommender: URM Detected 205 ( 1.6%) users with no interactions.\n",
      "EASE_R_Recommender: URM Detected 109 ( 0.5%) items with no interactions.\n",
      "EASE_R_Recommender: Loading model from file 'slim_modelsease_t_val'\n",
      "EASE_R_Recommender: Loading complete\n",
      "EvaluatorHoldout: Ignoring 2203 (17.4%) Users that have less than 1 test interactions\n"
     ]
    }
   ],
   "source": [
    "from Hybrid import *\n",
    "from Recommenders.SLIM.SLIMElasticNetRecommender import *\n",
    "from Recommenders.MatrixFactorization.PureSVDRecommender import PureSVDRecommender\n",
    "from Recommenders.GraphBased.P3alphaRecommender import P3alphaRecommender\n",
    "from Recommenders.GraphBased.RP3betaRecommender import RP3betaRecommender\n",
    "from Recommenders.KNN.UserKNNCFRecommender import UserKNNCFRecommender\n",
    "from Recommenders.KNN.ItemKNNCFRecommender import ItemKNNCFRecommender\n",
    "from Recommenders.EASE_R.EASE_R_Recommender import EASE_R_Recommender\n",
    "## SLIM\n",
    "slim = SLIMElasticNetRecommender(URM_train_validation)\n",
    "slim.load_model(\"slim_models\", \"slim_t_val\")\n",
    "## RP3BETA\n",
    "rp3beta = RP3betaRecommender(URM_train_validation)\n",
    "rp3beta.fit(alpha=0.20026352123406477, beta=0.15999879728761354, topK=32)\n",
    "## P3ALPHA\n",
    "p3 = P3alphaRecommender(URM_train_validation)\n",
    "p3.fit(topK=76, alpha=0.377201600381895, normalize_similarity=True)\n",
    "\n",
    "## EASE\n",
    "ease = EASE_R_Recommender(URM_train_validation)\n",
    "ease.load_model(\"slim_models\", \"ease_t_val\")\n",
    "from Evaluation.Evaluator import EvaluatorHoldout\n",
    "\n",
    "evaluator_validation = EvaluatorHoldout(URM_test, cutoff_list=[10])"
   ],
   "metadata": {
    "collapsed": false,
    "ExecuteTime": {
     "end_time": "2024-01-08T14:27:52.087679Z",
     "start_time": "2024-01-08T14:27:39.804851Z"
    }
   },
   "id": "7789e39614525279"
  },
  {
   "cell_type": "code",
   "outputs": [
    {
     "name": "stdout",
     "output_type": "stream",
     "text": [
      "EvaluatorHoldout: Ignoring 2203 (17.4%) Users that have less than 1 test interactions\n"
     ]
    }
   ],
   "source": [
    "from Evaluation.Evaluator import EvaluatorHoldout\n",
    "evaluator_validation = EvaluatorHoldout(URM_test, cutoff_list=[10])"
   ],
   "metadata": {
    "collapsed": false,
    "ExecuteTime": {
     "end_time": "2024-01-08T12:11:24.327474Z",
     "start_time": "2024-01-08T12:11:24.314534Z"
    }
   },
   "id": "b1900e51692957a7",
   "execution_count": 6
  },
  {
   "cell_type": "code",
   "outputs": [
    {
     "data": {
      "text/plain": "(array([36, 28,  3, ...,  5, 20, 56], dtype=int32), (12638,))"
     },
     "execution_count": 3,
     "metadata": {},
     "output_type": "execute_result"
    }
   ],
   "source": [
    "import numpy as np \n",
    "import scipy.sparse as sps\n",
    "profile_length = np.ediff1d(sps.csr_matrix(URM_train_validation).indptr)\n",
    "\n",
    "#profile_length = np.ediff1d(sps.csr_matrix(URM_train_validation).indptr)\n",
    "profile_length, profile_length.shape"
   ],
   "metadata": {
    "collapsed": false,
    "ExecuteTime": {
     "end_time": "2024-01-08T14:15:50.819651Z",
     "start_time": "2024-01-08T14:15:50.799153Z"
    }
   },
   "id": "36b12ef45468119b",
   "execution_count": 3
  },
  {
   "cell_type": "code",
   "outputs": [
    {
     "name": "stdout",
     "output_type": "stream",
     "text": [
      "EvaluatorHoldout: Ignoring 2203 (17.4%) Users that have less than 1 test interactions\n",
      "EvaluatorHoldout: Ignoring 10070 Users\n"
     ]
    }
   ],
   "source": [
    "# PROFILE LENGTH BASED GROUPING\n",
    "from Evaluation.Evaluator import EvaluatorHoldout\n",
    "import numpy as np\n",
    "\n",
    "MAP_recommender_per_group = {}\n",
    "cutoff = 10\n",
    "threshold = 45\n",
    "\n",
    "# Select users whose profile length is less than the cutoff for the group and greater than or equal to the cutoff for the previous group\n",
    "\n",
    "users_in_group_flag = profile_length > threshold\n",
    "users_in_group = np.arange(len(profile_length))[users_in_group_flag]\n",
    "\n",
    "users_in_group_p_len = profile_length[users_in_group]\n",
    "\n",
    "# Select users not in the current group\n",
    "users_not_in_group_flag = np.isin(np.arange(len(profile_length)), users_in_group, invert=True)\n",
    "users_not_in_group = np.arange(len(profile_length))[users_not_in_group_flag]\n",
    "\n",
    "evaluator_validation = EvaluatorHoldout(URM_test, cutoff_list=[cutoff], ignore_users=users_not_in_group)"
   ],
   "metadata": {
    "collapsed": false,
    "ExecuteTime": {
     "end_time": "2024-01-08T14:28:01.775198Z",
     "start_time": "2024-01-08T14:28:01.761127Z"
    }
   },
   "id": "cf972b7601d3edad",
   "execution_count": 12
  },
  {
   "cell_type": "code",
   "execution_count": 13,
   "outputs": [
    {
     "name": "stdout",
     "output_type": "stream",
     "text": [
      "SLIMElasticNetRP3betaP3alphaEASE_R_LinearHybridRecommender: URM Detected 205 ( 1.6%) users with no interactions.\n",
      "SLIMElasticNetRP3betaP3alphaEASE_R_LinearHybridRecommender: URM Detected 109 ( 0.5%) items with no interactions.\n"
     ]
    }
   ],
   "source": [
    "import optuna as op\n",
    "hybrid = LinearHybridRecommender(URM_train_validation, [slim, rp3beta, p3, ease])\n",
    "\n",
    "def objective(trial):\n",
    "    alpha = trial.suggest_float('alpha', 0, 1)\n",
    "    beta = trial.suggest_float('beta', 0, 1)\n",
    "    gamma = trial.suggest_float('gamma', 0, 1)\n",
    "    delta = trial.suggest_float('delta', 0, 1)\n",
    "    # Create hybrid recommender with the suggested weights\n",
    "    hybrid.fit(alphas=[alpha, beta, gamma, delta])\n",
    "    \n",
    "    # Evaluate the hybrid recommender\n",
    "    result, _ = evaluator_validation.evaluateRecommender(hybrid)\n",
    "    MAP_result = result[\"MAP\"].item()\n",
    "       \n",
    "    return MAP_result"
   ],
   "metadata": {
    "collapsed": false,
    "ExecuteTime": {
     "end_time": "2024-01-08T14:28:15.844867Z",
     "start_time": "2024-01-08T14:28:15.833095Z"
    }
   },
   "id": "23a7609029f4e05e"
  },
  {
   "cell_type": "code",
   "execution_count": 20,
   "outputs": [
    {
     "name": "stderr",
     "output_type": "stream",
     "text": [
      "[I 2024-01-08 16:08:04,089] Using an existing study with name 'hybrid-sl-rp3-p3-ease-veryhi-study' instead of creating a new one.\n"
     ]
    },
    {
     "name": "stdout",
     "output_type": "stream",
     "text": [
      "EvaluatorHoldout: Processed 2568 (100.0%) in 3.31 sec. Users per second: 776\n"
     ]
    },
    {
     "name": "stderr",
     "output_type": "stream",
     "text": [
      "[I 2024-01-08 16:08:07,539] Trial 600 finished with value: 0.1050013443851061 and parameters: {'alpha': 0.9874883060173058, 'beta': 0.9851180135425676, 'gamma': 0.6275093126626894, 'delta': 0.15610106044018784}. Best is trial 437 with value: 0.10609228971962607.\n"
     ]
    },
    {
     "name": "stdout",
     "output_type": "stream",
     "text": [
      "EvaluatorHoldout: Processed 2568 (100.0%) in 2.93 sec. Users per second: 878\n"
     ]
    },
    {
     "name": "stderr",
     "output_type": "stream",
     "text": [
      "[I 2024-01-08 16:08:10,509] Trial 601 finished with value: 0.10553733681946285 and parameters: {'alpha': 0.6435795890832501, 'beta': 0.2642478746571836, 'gamma': 0.35686672130995856, 'delta': 0.1279139930224713}. Best is trial 437 with value: 0.10609228971962607.\n"
     ]
    },
    {
     "name": "stdout",
     "output_type": "stream",
     "text": [
      "EvaluatorHoldout: Processed 2568 (100.0%) in 2.84 sec. Users per second: 903\n"
     ]
    },
    {
     "name": "stderr",
     "output_type": "stream",
     "text": [
      "[I 2024-01-08 16:08:13,398] Trial 602 finished with value: 0.10311087623003527 and parameters: {'alpha': 0.7559634371643944, 'beta': 0.17797258412792608, 'gamma': 0.2317554461313772, 'delta': 0.862531900347412}. Best is trial 437 with value: 0.10609228971962607.\n"
     ]
    },
    {
     "name": "stdout",
     "output_type": "stream",
     "text": [
      "EvaluatorHoldout: Processed 2568 (100.0%) in 2.92 sec. Users per second: 880\n"
     ]
    },
    {
     "name": "stderr",
     "output_type": "stream",
     "text": [
      "[I 2024-01-08 16:08:16,365] Trial 603 finished with value: 0.10457565334025622 and parameters: {'alpha': 0.6064323319600265, 'beta': 0.12837840246068485, 'gamma': 0.3921183915447384, 'delta': 0.40343294498488114}. Best is trial 437 with value: 0.10609228971962607.\n"
     ]
    },
    {
     "name": "stdout",
     "output_type": "stream",
     "text": [
      "EvaluatorHoldout: Processed 2568 (100.0%) in 2.89 sec. Users per second: 888\n"
     ]
    },
    {
     "name": "stderr",
     "output_type": "stream",
     "text": [
      "[I 2024-01-08 16:08:19,299] Trial 604 finished with value: 0.10481466028779099 and parameters: {'alpha': 0.7410790233839186, 'beta': 0.2129142066037072, 'gamma': 0.7682991096231966, 'delta': 0.0781969096115681}. Best is trial 437 with value: 0.10609228971962607.\n"
     ]
    },
    {
     "name": "stdout",
     "output_type": "stream",
     "text": [
      "EvaluatorHoldout: Processed 2568 (100.0%) in 2.88 sec. Users per second: 891\n"
     ]
    },
    {
     "name": "stderr",
     "output_type": "stream",
     "text": [
      "[I 2024-01-08 16:08:22,233] Trial 605 finished with value: 0.10232822776047074 and parameters: {'alpha': 0.11573219427021109, 'beta': 0.24654172447848993, 'gamma': 0.0702629140414559, 'delta': 0.5371976343891682}. Best is trial 437 with value: 0.10609228971962607.\n"
     ]
    },
    {
     "name": "stdout",
     "output_type": "stream",
     "text": [
      "EvaluatorHoldout: Processed 2568 (100.0%) in 2.81 sec. Users per second: 915\n"
     ]
    },
    {
     "name": "stderr",
     "output_type": "stream",
     "text": [
      "[I 2024-01-08 16:08:25,084] Trial 606 finished with value: 0.10536837697176488 and parameters: {'alpha': 0.9987512892971799, 'beta': 0.2935246516880463, 'gamma': 0.15926685240768013, 'delta': 0.1437406977352867}. Best is trial 437 with value: 0.10609228971962607.\n"
     ]
    },
    {
     "name": "stdout",
     "output_type": "stream",
     "text": [
      "EvaluatorHoldout: Processed 2568 (100.0%) in 2.90 sec. Users per second: 886\n"
     ]
    },
    {
     "name": "stderr",
     "output_type": "stream",
     "text": [
      "[I 2024-01-08 16:08:28,029] Trial 607 finished with value: 0.10494554467685299 and parameters: {'alpha': 0.6212860686875397, 'beta': 0.16006274158383407, 'gamma': 0.5625434699813929, 'delta': 0.11788510411337579}. Best is trial 437 with value: 0.10609228971962607.\n"
     ]
    },
    {
     "name": "stdout",
     "output_type": "stream",
     "text": [
      "EvaluatorHoldout: Processed 2568 (100.0%) in 2.80 sec. Users per second: 916\n"
     ]
    },
    {
     "name": "stderr",
     "output_type": "stream",
     "text": [
      "[I 2024-01-08 16:08:30,880] Trial 608 finished with value: 0.10451010297680857 and parameters: {'alpha': 0.5018036493373128, 'beta': 0.19715818523411294, 'gamma': 0.2700888438514629, 'delta': 0.34231081629204935}. Best is trial 437 with value: 0.10609228971962607.\n"
     ]
    },
    {
     "name": "stdout",
     "output_type": "stream",
     "text": [
      "EvaluatorHoldout: Processed 2568 (100.0%) in 2.83 sec. Users per second: 908\n"
     ]
    },
    {
     "name": "stderr",
     "output_type": "stream",
     "text": [
      "[I 2024-01-08 16:08:33,759] Trial 609 finished with value: 0.10572162574791066 and parameters: {'alpha': 0.5336725799102224, 'beta': 0.2312935004679641, 'gamma': 0.12876484768489221, 'delta': 0.16353237285175687}. Best is trial 437 with value: 0.10609228971962607.\n"
     ]
    },
    {
     "name": "stdout",
     "output_type": "stream",
     "text": [
      "EvaluatorHoldout: Processed 2568 (100.0%) in 2.76 sec. Users per second: 930\n"
     ]
    },
    {
     "name": "stderr",
     "output_type": "stream",
     "text": [
      "[I 2024-01-08 16:08:36,567] Trial 610 finished with value: 0.10493642758245555 and parameters: {'alpha': 0.7150560783563359, 'beta': 0.5247416843774263, 'gamma': 0.34171846766790326, 'delta': 0.42269445427432356}. Best is trial 437 with value: 0.10609228971962607.\n"
     ]
    },
    {
     "name": "stdout",
     "output_type": "stream",
     "text": [
      "EvaluatorHoldout: Processed 2568 (100.0%) in 2.76 sec. Users per second: 930\n"
     ]
    },
    {
     "name": "stderr",
     "output_type": "stream",
     "text": [
      "[I 2024-01-08 16:08:39,370] Trial 611 finished with value: 0.10448037197745141 and parameters: {'alpha': 0.5834972768259953, 'beta': 0.31342860441201464, 'gamma': 0.2134416291478209, 'delta': 0.5541692173478583}. Best is trial 437 with value: 0.10609228971962607.\n"
     ]
    },
    {
     "name": "stdout",
     "output_type": "stream",
     "text": [
      "EvaluatorHoldout: Processed 2568 (100.0%) in 2.85 sec. Users per second: 902\n"
     ]
    },
    {
     "name": "stderr",
     "output_type": "stream",
     "text": [
      "[I 2024-01-08 16:08:42,254] Trial 612 finished with value: 0.10435256267616067 and parameters: {'alpha': 0.4705640250647307, 'beta': 0.08635907740202951, 'gamma': 0.6008425167771706, 'delta': 0.09323600426325658}. Best is trial 437 with value: 0.10609228971962607.\n"
     ]
    },
    {
     "name": "stdout",
     "output_type": "stream",
     "text": [
      "EvaluatorHoldout: Processed 2568 (100.0%) in 2.80 sec. Users per second: 916\n"
     ]
    },
    {
     "name": "stderr",
     "output_type": "stream",
     "text": [
      "[I 2024-01-08 16:08:45,099] Trial 613 finished with value: 0.10568852605943717 and parameters: {'alpha': 0.6576987430713529, 'beta': 0.2822691817216292, 'gamma': 0.1857981320682915, 'delta': 0.028265354344520453}. Best is trial 437 with value: 0.10609228971962607.\n"
     ]
    },
    {
     "name": "stdout",
     "output_type": "stream",
     "text": [
      "EvaluatorHoldout: Processed 2568 (100.0%) in 2.75 sec. Users per second: 932\n"
     ]
    },
    {
     "name": "stderr",
     "output_type": "stream",
     "text": [
      "[I 2024-01-08 16:08:47,897] Trial 614 finished with value: 0.10153465423033191 and parameters: {'alpha': 0.0879465988575473, 'beta': 0.4167701118950121, 'gamma': 0.8033610487578583, 'delta': 0.19226671324650557}. Best is trial 437 with value: 0.10609228971962607.\n"
     ]
    },
    {
     "name": "stdout",
     "output_type": "stream",
     "text": [
      "EvaluatorHoldout: Processed 2568 (100.0%) in 2.82 sec. Users per second: 910\n"
     ]
    },
    {
     "name": "stderr",
     "output_type": "stream",
     "text": [
      "[I 2024-01-08 16:08:50,761] Trial 615 finished with value: 0.10453508999653863 and parameters: {'alpha': 0.6357866387475984, 'beta': 0.2564424313050313, 'gamma': 0.9094125844655905, 'delta': 0.1271250069360521}. Best is trial 437 with value: 0.10609228971962607.\n"
     ]
    },
    {
     "name": "stdout",
     "output_type": "stream",
     "text": [
      "EvaluatorHoldout: Processed 2568 (100.0%) in 2.78 sec. Users per second: 923\n"
     ]
    },
    {
     "name": "stderr",
     "output_type": "stream",
     "text": [
      "[I 2024-01-08 16:08:53,586] Trial 616 finished with value: 0.10270800882658361 and parameters: {'alpha': 0.2255205454812692, 'beta': 0.5497000866699353, 'gamma': 0.9417367372993193, 'delta': 0.38670922257411533}. Best is trial 437 with value: 0.10609228971962607.\n"
     ]
    },
    {
     "name": "stdout",
     "output_type": "stream",
     "text": [
      "EvaluatorHoldout: Processed 2568 (100.0%) in 2.82 sec. Users per second: 910\n"
     ]
    },
    {
     "name": "stderr",
     "output_type": "stream",
     "text": [
      "[I 2024-01-08 16:08:56,448] Trial 617 finished with value: 0.10544131372694455 and parameters: {'alpha': 0.6099931054596359, 'beta': 0.184525353244878, 'gamma': 0.1444318791889249, 'delta': 0.10811068295439819}. Best is trial 437 with value: 0.10609228971962607.\n"
     ]
    },
    {
     "name": "stdout",
     "output_type": "stream",
     "text": [
      "EvaluatorHoldout: Processed 2568 (100.0%) in 2.83 sec. Users per second: 907\n"
     ]
    },
    {
     "name": "stderr",
     "output_type": "stream",
     "text": [
      "[I 2024-01-08 16:08:59,323] Trial 618 finished with value: 0.1035354237749098 and parameters: {'alpha': 0.16234016088736825, 'beta': 0.5808281503895408, 'gamma': 0.17604373955421865, 'delta': 0.2995921240869909}. Best is trial 437 with value: 0.10609228971962607.\n"
     ]
    },
    {
     "name": "stdout",
     "output_type": "stream",
     "text": [
      "EvaluatorHoldout: Processed 2568 (100.0%) in 2.80 sec. Users per second: 918\n"
     ]
    },
    {
     "name": "stderr",
     "output_type": "stream",
     "text": [
      "[I 2024-01-08 16:09:02,165] Trial 619 finished with value: 0.1028272727834643 and parameters: {'alpha': 0.20231765198393725, 'beta': 0.2115374957169003, 'gamma': 0.19833433389164795, 'delta': 0.570033857888621}. Best is trial 437 with value: 0.10609228971962607.\n"
     ]
    },
    {
     "name": "stdout",
     "output_type": "stream",
     "text": [
      "EvaluatorHoldout: Processed 2568 (100.0%) in 2.72 sec. Users per second: 944\n"
     ]
    },
    {
     "name": "stderr",
     "output_type": "stream",
     "text": [
      "[I 2024-01-08 16:09:04,925] Trial 620 finished with value: 0.1054424726796222 and parameters: {'alpha': 0.5617951427579612, 'beta': 0.6185356652976515, 'gamma': 0.1105165060346836, 'delta': 0.06907050841554262}. Best is trial 437 with value: 0.10609228971962607.\n"
     ]
    },
    {
     "name": "stdout",
     "output_type": "stream",
     "text": [
      "EvaluatorHoldout: Processed 2568 (100.0%) in 2.81 sec. Users per second: 913\n"
     ]
    },
    {
     "name": "stderr",
     "output_type": "stream",
     "text": [
      "[I 2024-01-08 16:09:07,779] Trial 621 finished with value: 0.10449363039608371 and parameters: {'alpha': 0.3068673002500457, 'beta': 0.6339146681571287, 'gamma': 0.23478642529231267, 'delta': 0.13806034677917112}. Best is trial 437 with value: 0.10609228971962607.\n"
     ]
    },
    {
     "name": "stdout",
     "output_type": "stream",
     "text": [
      "EvaluatorHoldout: Processed 2568 (100.0%) in 2.85 sec. Users per second: 902\n"
     ]
    },
    {
     "name": "stderr",
     "output_type": "stream",
     "text": [
      "[I 2024-01-08 16:09:10,665] Trial 622 finished with value: 0.10458954531968567 and parameters: {'alpha': 0.6830382767981281, 'beta': 0.9675792688097437, 'gamma': 0.49341509400359446, 'delta': 0.216054722417702}. Best is trial 437 with value: 0.10609228971962607.\n"
     ]
    },
    {
     "name": "stdout",
     "output_type": "stream",
     "text": [
      "EvaluatorHoldout: Processed 2568 (100.0%) in 2.85 sec. Users per second: 900\n"
     ]
    },
    {
     "name": "stderr",
     "output_type": "stream",
     "text": [
      "[I 2024-01-08 16:09:13,565] Trial 623 finished with value: 0.10536783612718183 and parameters: {'alpha': 0.9049947737317147, 'beta': 0.4893394544828765, 'gamma': 0.38265782429806716, 'delta': 0.1720133404241938}. Best is trial 437 with value: 0.10609228971962607.\n"
     ]
    },
    {
     "name": "stdout",
     "output_type": "stream",
     "text": [
      "EvaluatorHoldout: Processed 2568 (100.0%) in 2.86 sec. Users per second: 897\n"
     ]
    },
    {
     "name": "stderr",
     "output_type": "stream",
     "text": [
      "[I 2024-01-08 16:09:16,468] Trial 624 finished with value: 0.1036413520496464 and parameters: {'alpha': 0.2708001611019541, 'beta': 0.8665849487574636, 'gamma': 0.16709765608287963, 'delta': 0.14989530518999739}. Best is trial 437 with value: 0.10609228971962607.\n"
     ]
    },
    {
     "name": "stdout",
     "output_type": "stream",
     "text": [
      "EvaluatorHoldout: Processed 2568 (100.0%) in 2.84 sec. Users per second: 904\n"
     ]
    },
    {
     "name": "stderr",
     "output_type": "stream",
     "text": [
      "[I 2024-01-08 16:09:19,347] Trial 625 finished with value: 0.10373298657469203 and parameters: {'alpha': 0.39785498362112903, 'beta': 0.22998328958758357, 'gamma': 0.46046077549056785, 'delta': 0.6900788767004118}. Best is trial 437 with value: 0.10609228971962607.\n"
     ]
    },
    {
     "name": "stdout",
     "output_type": "stream",
     "text": [
      "EvaluatorHoldout: Processed 2568 (100.0%) in 2.80 sec. Users per second: 919\n"
     ]
    },
    {
     "name": "stderr",
     "output_type": "stream",
     "text": [
      "[I 2024-01-08 16:09:22,180] Trial 626 finished with value: 0.10432306346733922 and parameters: {'alpha': 0.5923428153936534, 'beta': 0.7995234427043455, 'gamma': 0.32931691036851507, 'delta': 0.7701141717539769}. Best is trial 437 with value: 0.10609228971962607.\n"
     ]
    },
    {
     "name": "stdout",
     "output_type": "stream",
     "text": [
      "EvaluatorHoldout: Processed 2568 (100.0%) in 2.78 sec. Users per second: 924\n"
     ]
    },
    {
     "name": "stderr",
     "output_type": "stream",
     "text": [
      "[I 2024-01-08 16:09:25,001] Trial 627 finished with value: 0.10571048434950296 and parameters: {'alpha': 0.6287540206075746, 'beta': 0.14548075871247823, 'gamma': 0.2921577319889872, 'delta': 0.09939704043225103}. Best is trial 437 with value: 0.10609228971962607.\n"
     ]
    },
    {
     "name": "stdout",
     "output_type": "stream",
     "text": [
      "EvaluatorHoldout: Processed 2568 (100.0%) in 2.85 sec. Users per second: 901\n"
     ]
    },
    {
     "name": "stderr",
     "output_type": "stream",
     "text": [
      "[I 2024-01-08 16:09:27,895] Trial 628 finished with value: 0.105799028334075 and parameters: {'alpha': 0.6562997973867606, 'beta': 0.272336534599657, 'gamma': 0.2105137844384105, 'delta': 0.11932038648274468}. Best is trial 437 with value: 0.10609228971962607.\n"
     ]
    },
    {
     "name": "stdout",
     "output_type": "stream",
     "text": [
      "EvaluatorHoldout: Processed 2568 (100.0%) in 2.88 sec. Users per second: 891\n"
     ]
    },
    {
     "name": "stderr",
     "output_type": "stream",
     "text": [
      "[I 2024-01-08 16:09:30,819] Trial 629 finished with value: 0.10581537729318101 and parameters: {'alpha': 0.604298255611798, 'beta': 0.24738986084229875, 'gamma': 0.15202986620915895, 'delta': 0.0775375752152191}. Best is trial 437 with value: 0.10609228971962607.\n"
     ]
    },
    {
     "name": "stdout",
     "output_type": "stream",
     "text": [
      "EvaluatorHoldout: Processed 2568 (100.0%) in 2.96 sec. Users per second: 867\n"
     ]
    },
    {
     "name": "stderr",
     "output_type": "stream",
     "text": [
      "[I 2024-01-08 16:09:33,820] Trial 630 finished with value: 0.10467671401374666 and parameters: {'alpha': 0.5726555860638584, 'beta': 0.16816506870223566, 'gamma': 0.18945933187940323, 'delta': 0.32310060283904096}. Best is trial 437 with value: 0.10609228971962607.\n"
     ]
    },
    {
     "name": "stdout",
     "output_type": "stream",
     "text": [
      "EvaluatorHoldout: Processed 2568 (100.0%) in 2.83 sec. Users per second: 908\n"
     ]
    },
    {
     "name": "stderr",
     "output_type": "stream",
     "text": [
      "[I 2024-01-08 16:09:36,685] Trial 631 finished with value: 0.10517906591504723 and parameters: {'alpha': 0.6790919065095617, 'beta': 0.20533568856062176, 'gamma': 0.08817985929750466, 'delta': 0.05399168240447906}. Best is trial 437 with value: 0.10609228971962607.\n"
     ]
    },
    {
     "name": "stdout",
     "output_type": "stream",
     "text": [
      "EvaluatorHoldout: Processed 2568 (100.0%) in 2.87 sec. Users per second: 895\n"
     ]
    },
    {
     "name": "stderr",
     "output_type": "stream",
     "text": [
      "[I 2024-01-08 16:09:39,601] Trial 632 finished with value: 0.10559840589922358 and parameters: {'alpha': 0.6246067633572393, 'beta': 0.22124095880191735, 'gamma': 0.2542709805008792, 'delta': 0.14536023843296103}. Best is trial 437 with value: 0.10609228971962607.\n"
     ]
    },
    {
     "name": "stdout",
     "output_type": "stream",
     "text": [
      "EvaluatorHoldout: Processed 2568 (100.0%) in 2.80 sec. Users per second: 916\n"
     ]
    },
    {
     "name": "stderr",
     "output_type": "stream",
     "text": [
      "[I 2024-01-08 16:09:42,448] Trial 633 finished with value: 0.10314097809424932 and parameters: {'alpha': 0.5245322770727178, 'beta': 0.18143312312250645, 'gamma': 0.03975086375897385, 'delta': 0.6047306906972355}. Best is trial 437 with value: 0.10609228971962607.\n"
     ]
    },
    {
     "name": "stdout",
     "output_type": "stream",
     "text": [
      "EvaluatorHoldout: Processed 2568 (100.0%) in 3.18 sec. Users per second: 806\n"
     ]
    },
    {
     "name": "stderr",
     "output_type": "stream",
     "text": [
      "[I 2024-01-08 16:09:45,702] Trial 634 finished with value: 0.10578000605745924 and parameters: {'alpha': 0.7307305384433826, 'beta': 0.30122051681427947, 'gamma': 0.221002882523784, 'delta': 0.10218248234456448}. Best is trial 437 with value: 0.10609228971962607.\n"
     ]
    },
    {
     "name": "stdout",
     "output_type": "stream",
     "text": [
      "EvaluatorHoldout: Processed 2568 (100.0%) in 2.92 sec. Users per second: 879\n"
     ]
    },
    {
     "name": "stderr",
     "output_type": "stream",
     "text": [
      "[I 2024-01-08 16:09:48,676] Trial 635 finished with value: 0.10566933380309534 and parameters: {'alpha': 0.5879302381093757, 'beta': 0.2432503451161015, 'gamma': 0.1715970924005915, 'delta': 0.179989161257072}. Best is trial 437 with value: 0.10609228971962607.\n"
     ]
    },
    {
     "name": "stdout",
     "output_type": "stream",
     "text": [
      "EvaluatorHoldout: Processed 2568 (100.0%) in 3.62 sec. Users per second: 709\n"
     ]
    },
    {
     "name": "stderr",
     "output_type": "stream",
     "text": [
      "[I 2024-01-08 16:09:52,371] Trial 636 finished with value: 0.10112325693517293 and parameters: {'alpha': 0.03798556585106949, 'beta': 0.332859393294378, 'gamma': 0.6497458050299751, 'delta': 0.13183883685886794}. Best is trial 437 with value: 0.10609228971962607.\n"
     ]
    },
    {
     "name": "stdout",
     "output_type": "stream",
     "text": [
      "EvaluatorHoldout: Processed 2568 (100.0%) in 2.95 sec. Users per second: 870\n"
     ]
    },
    {
     "name": "stderr",
     "output_type": "stream",
     "text": [
      "[I 2024-01-08 16:09:55,373] Trial 637 finished with value: 0.10439870444543334 and parameters: {'alpha': 0.6438938389857616, 'beta': 0.010480688082552203, 'gamma': 0.13379483740510603, 'delta': 0.2761385688561495}. Best is trial 437 with value: 0.10609228971962607.\n"
     ]
    },
    {
     "name": "stdout",
     "output_type": "stream",
     "text": [
      "EvaluatorHoldout: Processed 2568 (100.0%) in 2.76 sec. Users per second: 929\n"
     ]
    },
    {
     "name": "stderr",
     "output_type": "stream",
     "text": [
      "[I 2024-01-08 16:09:58,176] Trial 638 finished with value: 0.10199390854472633 and parameters: {'alpha': 0.00927899040079938, 'beta': 0.4407654506327373, 'gamma': 0.19778446294344323, 'delta': 0.46683129634349907}. Best is trial 437 with value: 0.10609228971962607.\n"
     ]
    },
    {
     "name": "stdout",
     "output_type": "stream",
     "text": [
      "EvaluatorHoldout: Processed 2568 (100.0%) in 2.81 sec. Users per second: 913\n"
     ]
    },
    {
     "name": "stderr",
     "output_type": "stream",
     "text": [
      "[I 2024-01-08 16:10:01,029] Trial 639 finished with value: 0.10505128751916142 and parameters: {'alpha': 0.8704301323130986, 'beta': 0.2011845563961292, 'gamma': 0.11169930824538776, 'delta': 0.16033728352058224}. Best is trial 437 with value: 0.10609228971962607.\n"
     ]
    },
    {
     "name": "stdout",
     "output_type": "stream",
     "text": [
      "EvaluatorHoldout: Processed 2568 (100.0%) in 2.78 sec. Users per second: 925\n"
     ]
    },
    {
     "name": "stderr",
     "output_type": "stream",
     "text": [
      "[I 2024-01-08 16:10:03,849] Trial 640 finished with value: 0.10573020199772529 and parameters: {'alpha': 0.5547292059531816, 'beta': 0.26887270019060056, 'gamma': 0.062248703870012266, 'delta': 0.087380281205151}. Best is trial 437 with value: 0.10609228971962607.\n"
     ]
    },
    {
     "name": "stdout",
     "output_type": "stream",
     "text": [
      "EvaluatorHoldout: Processed 2568 (100.0%) in 2.79 sec. Users per second: 920\n"
     ]
    },
    {
     "name": "stderr",
     "output_type": "stream",
     "text": [
      "[I 2024-01-08 16:10:06,683] Trial 641 finished with value: 0.10418323196360584 and parameters: {'alpha': 0.6985214353276572, 'beta': 0.22684301739185686, 'gamma': 0.41952086520812903, 'delta': 0.7333545733772047}. Best is trial 437 with value: 0.10609228971962607.\n"
     ]
    },
    {
     "name": "stdout",
     "output_type": "stream",
     "text": [
      "EvaluatorHoldout: Processed 2568 (100.0%) in 2.76 sec. Users per second: 930\n"
     ]
    },
    {
     "name": "stderr",
     "output_type": "stream",
     "text": [
      "[I 2024-01-08 16:10:09,486] Trial 642 finished with value: 0.10299298756366529 and parameters: {'alpha': 0.61526833389665, 'beta': 0.15997770065137498, 'gamma': 0.22624948268943476, 'delta': 0.8017912000579634}. Best is trial 437 with value: 0.10609228971962607.\n"
     ]
    },
    {
     "name": "stdout",
     "output_type": "stream",
     "text": [
      "EvaluatorHoldout: Processed 2568 (100.0%) in 2.76 sec. Users per second: 929\n"
     ]
    },
    {
     "name": "stderr",
     "output_type": "stream",
     "text": [
      "[I 2024-01-08 16:10:12,287] Trial 643 finished with value: 0.1054480201997726 and parameters: {'alpha': 0.6663324857729254, 'beta': 0.8665778454323528, 'gamma': 0.14792914007377864, 'delta': 0.1188287431943399}. Best is trial 437 with value: 0.10609228971962607.\n"
     ]
    },
    {
     "name": "stdout",
     "output_type": "stream",
     "text": [
      "EvaluatorHoldout: Processed 2568 (100.0%) in 2.82 sec. Users per second: 911\n"
     ]
    },
    {
     "name": "stderr",
     "output_type": "stream",
     "text": [
      "[I 2024-01-08 16:10:15,149] Trial 644 finished with value: 0.10504767158680713 and parameters: {'alpha': 0.5990925240720472, 'beta': 0.6639925029648241, 'gamma': 0.18066079426981743, 'delta': 0.3690996529729448}. Best is trial 437 with value: 0.10609228971962607.\n"
     ]
    },
    {
     "name": "stdout",
     "output_type": "stream",
     "text": [
      "EvaluatorHoldout: Processed 2568 (100.0%) in 2.97 sec. Users per second: 866\n"
     ]
    },
    {
     "name": "stderr",
     "output_type": "stream",
     "text": [
      "[I 2024-01-08 16:10:18,161] Trial 645 finished with value: 0.10522358515057104 and parameters: {'alpha': 0.5765281942749094, 'beta': 0.051712528033606264, 'gamma': 0.20519475267901527, 'delta': 0.13784732549157094}. Best is trial 437 with value: 0.10609228971962607.\n"
     ]
    },
    {
     "name": "stdout",
     "output_type": "stream",
     "text": [
      "EvaluatorHoldout: Processed 2568 (100.0%) in 2.73 sec. Users per second: 939\n"
     ]
    },
    {
     "name": "stderr",
     "output_type": "stream",
     "text": [
      "[I 2024-01-08 16:10:20,938] Trial 646 finished with value: 0.10550556606339319 and parameters: {'alpha': 0.48622176950544005, 'beta': 0.19350197414436074, 'gamma': 0.24307323359998861, 'delta': 0.19629280190390416}. Best is trial 437 with value: 0.10609228971962607.\n"
     ]
    },
    {
     "name": "stdout",
     "output_type": "stream",
     "text": [
      "EvaluatorHoldout: Processed 2568 (100.0%) in 2.78 sec. Users per second: 922\n"
     ]
    },
    {
     "name": "stderr",
     "output_type": "stream",
     "text": [
      "[I 2024-01-08 16:10:23,764] Trial 647 finished with value: 0.10492700143401085 and parameters: {'alpha': 0.6404896453456271, 'beta': 0.10744148786204627, 'gamma': 0.16503012295449412, 'delta': 0.22284836590332452}. Best is trial 437 with value: 0.10609228971962607.\n"
     ]
    },
    {
     "name": "stdout",
     "output_type": "stream",
     "text": [
      "EvaluatorHoldout: Processed 2568 (100.0%) in 2.85 sec. Users per second: 901\n"
     ]
    },
    {
     "name": "stderr",
     "output_type": "stream",
     "text": [
      "[I 2024-01-08 16:10:26,655] Trial 648 finished with value: 0.10419066471344508 and parameters: {'alpha': 0.542635090782087, 'beta': 0.7629825262729242, 'gamma': 0.4045405709256467, 'delta': 0.6819699464482469}. Best is trial 437 with value: 0.10609228971962607.\n"
     ]
    },
    {
     "name": "stdout",
     "output_type": "stream",
     "text": [
      "EvaluatorHoldout: Processed 2568 (100.0%) in 2.86 sec. Users per second: 899\n"
     ]
    },
    {
     "name": "stderr",
     "output_type": "stream",
     "text": [
      "[I 2024-01-08 16:10:29,554] Trial 649 finished with value: 0.10512674306482708 and parameters: {'alpha': 0.6059791424932128, 'beta': 0.1363816231741251, 'gamma': 0.46511477267756035, 'delta': 0.01922087047929652}. Best is trial 437 with value: 0.10609228971962607.\n"
     ]
    },
    {
     "name": "stdout",
     "output_type": "stream",
     "text": [
      "EvaluatorHoldout: Processed 2568 (100.0%) in 2.97 sec. Users per second: 864\n"
     ]
    },
    {
     "name": "stderr",
     "output_type": "stream",
     "text": [
      "[I 2024-01-08 16:10:32,573] Trial 650 finished with value: 0.10295587017257588 and parameters: {'alpha': 0.3322757379186401, 'beta': 0.6994153318872631, 'gamma': 0.8530127262530962, 'delta': 0.10664696598539353}. Best is trial 437 with value: 0.10609228971962607.\n"
     ]
    },
    {
     "name": "stdout",
     "output_type": "stream",
     "text": [
      "EvaluatorHoldout: Processed 2568 (100.0%) in 2.80 sec. Users per second: 918\n"
     ]
    },
    {
     "name": "stderr",
     "output_type": "stream",
     "text": [
      "[I 2024-01-08 16:10:35,409] Trial 651 finished with value: 0.10531183553379808 and parameters: {'alpha': 0.7977130317352359, 'beta': 0.5897725023076232, 'gamma': 0.27569483294412517, 'delta': 0.1598975359383144}. Best is trial 437 with value: 0.10609228971962607.\n"
     ]
    },
    {
     "name": "stdout",
     "output_type": "stream",
     "text": [
      "EvaluatorHoldout: Processed 2568 (100.0%) in 2.82 sec. Users per second: 910\n"
     ]
    },
    {
     "name": "stderr",
     "output_type": "stream",
     "text": [
      "[I 2024-01-08 16:10:38,274] Trial 652 finished with value: 0.10496374796024321 and parameters: {'alpha': 0.6305471994717028, 'beta': 0.24969558655653862, 'gamma': 0.5908700789751462, 'delta': 0.06666406321011967}. Best is trial 437 with value: 0.10609228971962607.\n"
     ]
    },
    {
     "name": "stdout",
     "output_type": "stream",
     "text": [
      "EvaluatorHoldout: Processed 2568 (100.0%) in 2.74 sec. Users per second: 937\n"
     ]
    },
    {
     "name": "stderr",
     "output_type": "stream",
     "text": [
      "[I 2024-01-08 16:10:41,053] Trial 653 finished with value: 0.10277539806161298 and parameters: {'alpha': 0.05575210526071295, 'beta': 0.2825662331955739, 'gamma': 0.1946309794052498, 'delta': 0.12424468593455298}. Best is trial 437 with value: 0.10609228971962607.\n"
     ]
    },
    {
     "name": "stdout",
     "output_type": "stream",
     "text": [
      "EvaluatorHoldout: Processed 2568 (100.0%) in 2.85 sec. Users per second: 902\n"
     ]
    },
    {
     "name": "stderr",
     "output_type": "stream",
     "text": [
      "[I 2024-01-08 16:10:43,942] Trial 654 finished with value: 0.10440584359392759 and parameters: {'alpha': 0.5847524970766151, 'beta': 0.21964138376367798, 'gamma': 0.6263235946091519, 'delta': 0.25027105127509053}. Best is trial 437 with value: 0.10609228971962607.\n"
     ]
    },
    {
     "name": "stdout",
     "output_type": "stream",
     "text": [
      "EvaluatorHoldout: Processed 2568 (100.0%) in 2.75 sec. Users per second: 932\n"
     ]
    },
    {
     "name": "stderr",
     "output_type": "stream",
     "text": [
      "[I 2024-01-08 16:10:46,739] Trial 655 finished with value: 0.1034429393512338 and parameters: {'alpha': 0.42016722309227994, 'beta': 0.8904948980665888, 'gamma': 0.9012787659310424, 'delta': 0.08532239293350712}. Best is trial 437 with value: 0.10609228971962607.\n"
     ]
    },
    {
     "name": "stdout",
     "output_type": "stream",
     "text": [
      "EvaluatorHoldout: Processed 2568 (100.0%) in 2.75 sec. Users per second: 935\n"
     ]
    },
    {
     "name": "stderr",
     "output_type": "stream",
     "text": [
      "[I 2024-01-08 16:10:49,528] Trial 656 finished with value: 0.10331789608366723 and parameters: {'alpha': 0.8123190426494266, 'beta': 0.32129471865649983, 'gamma': 0.12549592861947498, 'delta': 0.9119739059876778}. Best is trial 437 with value: 0.10609228971962607.\n"
     ]
    },
    {
     "name": "stdout",
     "output_type": "stream",
     "text": [
      "EvaluatorHoldout: Processed 2568 (100.0%) in 2.80 sec. Users per second: 918\n"
     ]
    },
    {
     "name": "stderr",
     "output_type": "stream",
     "text": [
      "[I 2024-01-08 16:10:52,366] Trial 657 finished with value: 0.1046335546160313 and parameters: {'alpha': 0.4491574404245905, 'beta': 0.7263726734324722, 'gamma': 0.15408810137847395, 'delta': 0.6301964219220673}. Best is trial 437 with value: 0.10609228971962607.\n"
     ]
    },
    {
     "name": "stdout",
     "output_type": "stream",
     "text": [
      "EvaluatorHoldout: Processed 2568 (100.0%) in 2.73 sec. Users per second: 939\n"
     ]
    },
    {
     "name": "stderr",
     "output_type": "stream",
     "text": [
      "[I 2024-01-08 16:10:55,147] Trial 658 finished with value: 0.10545121890916274 and parameters: {'alpha': 0.718505058501189, 'beta': 0.1801260050517674, 'gamma': 0.21836077724212202, 'delta': 0.14684949220927623}. Best is trial 437 with value: 0.10609228971962607.\n"
     ]
    },
    {
     "name": "stdout",
     "output_type": "stream",
     "text": [
      "EvaluatorHoldout: Processed 2568 (100.0%) in 2.80 sec. Users per second: 919\n"
     ]
    },
    {
     "name": "stderr",
     "output_type": "stream",
     "text": [
      "[I 2024-01-08 16:10:57,983] Trial 659 finished with value: 0.10258353730900457 and parameters: {'alpha': 0.15086814256354986, 'beta': 0.2543898537389751, 'gamma': 0.18449483831792665, 'delta': 0.5412669159812338}. Best is trial 437 with value: 0.10609228971962607.\n"
     ]
    },
    {
     "name": "stdout",
     "output_type": "stream",
     "text": [
      "EvaluatorHoldout: Processed 2568 (100.0%) in 2.79 sec. Users per second: 919\n"
     ]
    },
    {
     "name": "stderr",
     "output_type": "stream",
     "text": [
      "[I 2024-01-08 16:11:00,818] Trial 660 finished with value: 0.10050915109034272 and parameters: {'alpha': 0.07147767767073665, 'beta': 0.6786862887846614, 'gamma': 0.5538621178138965, 'delta': 0.03695632232187853}. Best is trial 437 with value: 0.10609228971962607.\n"
     ]
    },
    {
     "name": "stdout",
     "output_type": "stream",
     "text": [
      "EvaluatorHoldout: Processed 2568 (100.0%) in 2.81 sec. Users per second: 912\n"
     ]
    },
    {
     "name": "stderr",
     "output_type": "stream",
     "text": [
      "[I 2024-01-08 16:11:03,681] Trial 661 finished with value: 0.1050574995055135 and parameters: {'alpha': 0.6526624566842885, 'beta': 0.20344074758922648, 'gamma': 0.17517864541839567, 'delta': 0.28885711340722475}. Best is trial 437 with value: 0.10609228971962607.\n"
     ]
    },
    {
     "name": "stdout",
     "output_type": "stream",
     "text": [
      "EvaluatorHoldout: Processed 2568 (100.0%) in 2.87 sec. Users per second: 896\n"
     ]
    },
    {
     "name": "stderr",
     "output_type": "stream",
     "text": [
      "[I 2024-01-08 16:11:06,584] Trial 662 finished with value: 0.10384121730208176 and parameters: {'alpha': 0.6887461250895466, 'beta': 0.39148629791529016, 'gamma': 0.9941632098750701, 'delta': 0.9449362392611816}. Best is trial 437 with value: 0.10609228971962607.\n"
     ]
    },
    {
     "name": "stdout",
     "output_type": "stream",
     "text": [
      "EvaluatorHoldout: Processed 2568 (100.0%) in 2.87 sec. Users per second: 893\n"
     ]
    },
    {
     "name": "stderr",
     "output_type": "stream",
     "text": [
      "[I 2024-01-08 16:11:09,501] Trial 663 finished with value: 0.10383933207239283 and parameters: {'alpha': 0.3617939880746345, 'beta': 0.23449848054374967, 'gamma': 0.7038070169240704, 'delta': 0.10621803082679486}. Best is trial 437 with value: 0.10609228971962607.\n"
     ]
    },
    {
     "name": "stdout",
     "output_type": "stream",
     "text": [
      "EvaluatorHoldout: Processed 2568 (100.0%) in 2.80 sec. Users per second: 917\n"
     ]
    },
    {
     "name": "stderr",
     "output_type": "stream",
     "text": [
      "[I 2024-01-08 16:11:12,342] Trial 664 finished with value: 0.10461621668397374 and parameters: {'alpha': 0.6189225997785073, 'beta': 0.3545471046533714, 'gamma': 0.671391275208567, 'delta': 0.17655900577881645}. Best is trial 437 with value: 0.10609228971962607.\n"
     ]
    },
    {
     "name": "stdout",
     "output_type": "stream",
     "text": [
      "EvaluatorHoldout: Processed 2568 (100.0%) in 2.81 sec. Users per second: 915\n"
     ]
    },
    {
     "name": "stderr",
     "output_type": "stream",
     "text": [
      "[I 2024-01-08 16:11:15,196] Trial 665 finished with value: 0.10605376613262116 and parameters: {'alpha': 0.5596910706588043, 'beta': 0.29571136084255334, 'gamma': 0.08241436700785121, 'delta': 0.1285644771999038}. Best is trial 437 with value: 0.10609228971962607.\n"
     ]
    },
    {
     "name": "stdout",
     "output_type": "stream",
     "text": [
      "EvaluatorHoldout: Processed 2568 (100.0%) in 2.79 sec. Users per second: 921\n"
     ]
    },
    {
     "name": "stderr",
     "output_type": "stream",
     "text": [
      "[I 2024-01-08 16:11:18,032] Trial 666 finished with value: 0.10552823517776774 and parameters: {'alpha': 0.5646241404077598, 'beta': 0.2922875317051286, 'gamma': 0.2514966404986832, 'delta': 0.12519582044934408}. Best is trial 437 with value: 0.10609228971962607.\n"
     ]
    },
    {
     "name": "stdout",
     "output_type": "stream",
     "text": [
      "EvaluatorHoldout: Processed 2568 (100.0%) in 2.76 sec. Users per second: 929\n"
     ]
    },
    {
     "name": "stderr",
     "output_type": "stream",
     "text": [
      "[I 2024-01-08 16:11:20,837] Trial 667 finished with value: 0.10457577696187516 and parameters: {'alpha': 0.5239283126474978, 'beta': 0.27890256617428766, 'gamma': 0.7591373191413986, 'delta': 0.0899382117610474}. Best is trial 437 with value: 0.10609228971962607.\n"
     ]
    },
    {
     "name": "stdout",
     "output_type": "stream",
     "text": [
      "EvaluatorHoldout: Processed 2568 (100.0%) in 2.80 sec. Users per second: 917\n"
     ]
    },
    {
     "name": "stderr",
     "output_type": "stream",
     "text": [
      "[I 2024-01-08 16:11:23,676] Trial 668 finished with value: 0.10563969551995248 and parameters: {'alpha': 0.5454313101071302, 'beta': 0.3008129286772976, 'gamma': 0.14123489045759918, 'delta': 0.11040043856440084}. Best is trial 437 with value: 0.10609228971962607.\n"
     ]
    },
    {
     "name": "stdout",
     "output_type": "stream",
     "text": [
      "EvaluatorHoldout: Processed 2568 (100.0%) in 2.76 sec. Users per second: 930\n"
     ]
    },
    {
     "name": "stderr",
     "output_type": "stream",
     "text": [
      "[I 2024-01-08 16:11:26,480] Trial 669 finished with value: 0.10543261385551105 and parameters: {'alpha': 0.5679866840569691, 'beta': 0.2565871938398504, 'gamma': 0.20358983733704528, 'delta': 0.055898984190274024}. Best is trial 437 with value: 0.10609228971962607.\n"
     ]
    },
    {
     "name": "stdout",
     "output_type": "stream",
     "text": [
      "EvaluatorHoldout: Processed 2568 (100.0%) in 2.81 sec. Users per second: 913\n"
     ]
    },
    {
     "name": "stderr",
     "output_type": "stream",
     "text": [
      "[I 2024-01-08 16:11:29,335] Trial 670 finished with value: 0.1032016608564507 and parameters: {'alpha': 0.1780604301560612, 'beta': 0.27177480254463077, 'gamma': 0.3717681970069433, 'delta': 0.0008149090291398042}. Best is trial 437 with value: 0.10609228971962607.\n"
     ]
    },
    {
     "name": "stdout",
     "output_type": "stream",
     "text": [
      "EvaluatorHoldout: Processed 2568 (100.0%) in 3.18 sec. Users per second: 807\n"
     ]
    },
    {
     "name": "stderr",
     "output_type": "stream",
     "text": [
      "[I 2024-01-08 16:11:32,569] Trial 671 finished with value: 0.10582622509024374 and parameters: {'alpha': 0.5850496017264241, 'beta': 0.3136507795110739, 'gamma': 0.01716853305291953, 'delta': 0.14105864612686633}. Best is trial 437 with value: 0.10609228971962607.\n"
     ]
    },
    {
     "name": "stdout",
     "output_type": "stream",
     "text": [
      "EvaluatorHoldout: Processed 2568 (100.0%) in 2.91 sec. Users per second: 883\n"
     ]
    },
    {
     "name": "stderr",
     "output_type": "stream",
     "text": [
      "[I 2024-01-08 16:11:35,522] Trial 672 finished with value: 0.10347926865450252 and parameters: {'alpha': 0.5490915375425154, 'beta': 0.15898707441382, 'gamma': 0.097089470970006, 'delta': 0.5221795436728155}. Best is trial 437 with value: 0.10609228971962607.\n"
     ]
    },
    {
     "name": "stdout",
     "output_type": "stream",
     "text": [
      "EvaluatorHoldout: Processed 2568 (100.0%) in 2.84 sec. Users per second: 905\n"
     ]
    },
    {
     "name": "stderr",
     "output_type": "stream",
     "text": [
      "[I 2024-01-08 16:11:38,404] Trial 673 finished with value: 0.10519581664441477 and parameters: {'alpha': 0.600496380698277, 'beta': 0.4652760714034046, 'gamma': 0.22507503043854574, 'delta': 0.08387007290904747}. Best is trial 437 with value: 0.10609228971962607.\n"
     ]
    },
    {
     "name": "stdout",
     "output_type": "stream",
     "text": [
      "EvaluatorHoldout: Processed 2568 (100.0%) in 3.31 sec. Users per second: 775\n"
     ]
    },
    {
     "name": "stderr",
     "output_type": "stream",
     "text": [
      "[I 2024-01-08 16:11:41,764] Trial 674 finished with value: 0.10458558942787903 and parameters: {'alpha': 0.5650094097231501, 'beta': 0.2178581179607908, 'gamma': 0.5095841757793522, 'delta': 0.12580109138738377}. Best is trial 437 with value: 0.10609228971962607.\n"
     ]
    },
    {
     "name": "stdout",
     "output_type": "stream",
     "text": [
      "EvaluatorHoldout: Processed 2568 (100.0%) in 3.02 sec. Users per second: 850\n"
     ]
    },
    {
     "name": "stderr",
     "output_type": "stream",
     "text": [
      "[I 2024-01-08 16:11:44,838] Trial 675 finished with value: 0.10276141336596968 and parameters: {'alpha': 0.5990834663667849, 'beta': 0.1815066044930783, 'gamma': 0.16455649558473448, 'delta': 0.7895547195270006}. Best is trial 437 with value: 0.10609228971962607.\n"
     ]
    },
    {
     "name": "stdout",
     "output_type": "stream",
     "text": [
      "EvaluatorHoldout: Processed 2568 (100.0%) in 2.98 sec. Users per second: 862\n"
     ]
    },
    {
     "name": "stderr",
     "output_type": "stream",
     "text": [
      "[I 2024-01-08 16:11:47,870] Trial 676 finished with value: 0.10467396343272525 and parameters: {'alpha': 0.6191205072475845, 'beta': 0.7997972168847495, 'gamma': 0.6806565356258352, 'delta': 0.09876208124660164}. Best is trial 437 with value: 0.10609228971962607.\n"
     ]
    },
    {
     "name": "stdout",
     "output_type": "stream",
     "text": [
      "EvaluatorHoldout: Processed 2568 (100.0%) in 2.86 sec. Users per second: 898\n"
     ]
    },
    {
     "name": "stderr",
     "output_type": "stream",
     "text": [
      "[I 2024-01-08 16:11:50,773] Trial 677 finished with value: 0.10430011620432186 and parameters: {'alpha': 0.34809866481946905, 'beta': 0.7142816403675247, 'gamma': 0.3179536039743081, 'delta': 0.11608208466093722}. Best is trial 437 with value: 0.10609228971962607.\n"
     ]
    },
    {
     "name": "stdout",
     "output_type": "stream",
     "text": [
      "EvaluatorHoldout: Processed 2568 (100.0%) in 2.96 sec. Users per second: 868\n"
     ]
    },
    {
     "name": "stderr",
     "output_type": "stream",
     "text": [
      "[I 2024-01-08 16:11:53,777] Trial 678 finished with value: 0.10361114201651572 and parameters: {'alpha': 0.09390916482444056, 'beta': 0.23900572456440086, 'gamma': 0.1879918838680198, 'delta': 0.1540340683430291}. Best is trial 437 with value: 0.10609228971962607.\n"
     ]
    },
    {
     "name": "stdout",
     "output_type": "stream",
     "text": [
      "EvaluatorHoldout: Processed 2568 (100.0%) in 2.84 sec. Users per second: 905\n"
     ]
    },
    {
     "name": "stderr",
     "output_type": "stream",
     "text": [
      "[I 2024-01-08 16:11:56,656] Trial 679 finished with value: 0.10390244090886616 and parameters: {'alpha': 0.5749054953700324, 'beta': 0.12782352450811696, 'gamma': 0.13006309683990322, 'delta': 0.42090088693558236}. Best is trial 437 with value: 0.10609228971962607.\n"
     ]
    },
    {
     "name": "stdout",
     "output_type": "stream",
     "text": [
      "EvaluatorHoldout: Processed 2568 (100.0%) in 2.77 sec. Users per second: 926\n"
     ]
    },
    {
     "name": "stderr",
     "output_type": "stream",
     "text": [
      "[I 2024-01-08 16:11:59,471] Trial 680 finished with value: 0.10285184258023056 and parameters: {'alpha': 0.5142460893007202, 'beta': 0.27308307248014163, 'gamma': 0.20700587778116086, 'delta': 0.899941086725619}. Best is trial 437 with value: 0.10609228971962607.\n"
     ]
    },
    {
     "name": "stdout",
     "output_type": "stream",
     "text": [
      "EvaluatorHoldout: Processed 2568 (100.0%) in 2.85 sec. Users per second: 900\n"
     ]
    },
    {
     "name": "stderr",
     "output_type": "stream",
     "text": [
      "[I 2024-01-08 16:12:02,458] Trial 681 finished with value: 0.10438349898630281 and parameters: {'alpha': 0.8429953776973862, 'beta': 0.032875346271719785, 'gamma': 0.8767422381909412, 'delta': 0.39309629374526434}. Best is trial 437 with value: 0.10609228971962607.\n"
     ]
    },
    {
     "name": "stdout",
     "output_type": "stream",
     "text": [
      "EvaluatorHoldout: Processed 2568 (100.0%) in 2.93 sec. Users per second: 878\n"
     ]
    },
    {
     "name": "stderr",
     "output_type": "stream",
     "text": [
      "[I 2024-01-08 16:12:05,460] Trial 682 finished with value: 0.10517256032734999 and parameters: {'alpha': 0.6379281202557098, 'beta': 0.5353897853119385, 'gamma': 0.15743130716988438, 'delta': 0.440565220289079}. Best is trial 437 with value: 0.10609228971962607.\n"
     ]
    },
    {
     "name": "stdout",
     "output_type": "stream",
     "text": [
      "EvaluatorHoldout: Processed 2568 (100.0%) in 3.06 sec. Users per second: 840\n"
     ]
    },
    {
     "name": "stderr",
     "output_type": "stream",
     "text": [
      "[I 2024-01-08 16:12:08,565] Trial 683 finished with value: 0.10468346684468172 and parameters: {'alpha': 0.2936508203596487, 'beta': 0.2053133263287971, 'gamma': 0.24000435334143405, 'delta': 0.06901531061233585}. Best is trial 437 with value: 0.10609228971962607.\n"
     ]
    },
    {
     "name": "stdout",
     "output_type": "stream",
     "text": [
      "EvaluatorHoldout: Processed 2568 (100.0%) in 3.16 sec. Users per second: 814\n"
     ]
    },
    {
     "name": "stderr",
     "output_type": "stream",
     "text": [
      "[I 2024-01-08 16:12:11,792] Trial 684 finished with value: 0.1047692293428275 and parameters: {'alpha': 0.5864310886112986, 'beta': 0.5186838199956745, 'gamma': 0.06064718948515503, 'delta': 0.47183090788101895}. Best is trial 437 with value: 0.10609228971962607.\n"
     ]
    },
    {
     "name": "stdout",
     "output_type": "stream",
     "text": [
      "EvaluatorHoldout: Processed 2568 (100.0%) in 3.22 sec. Users per second: 796\n"
     ]
    },
    {
     "name": "stderr",
     "output_type": "stream",
     "text": [
      "[I 2024-01-08 16:12:15,080] Trial 685 finished with value: 0.1044351264649161 and parameters: {'alpha': 0.29045699299712885, 'beta': 0.07571345511286892, 'gamma': 0.3466597299980197, 'delta': 0.13469838923107663}. Best is trial 437 with value: 0.10609228971962607.\n"
     ]
    },
    {
     "name": "stdout",
     "output_type": "stream",
     "text": [
      "EvaluatorHoldout: Processed 2568 (100.0%) in 2.97 sec. Users per second: 866\n"
     ]
    },
    {
     "name": "stderr",
     "output_type": "stream",
     "text": [
      "[I 2024-01-08 16:12:18,096] Trial 686 finished with value: 0.10443277765415623 and parameters: {'alpha': 0.5320616277192705, 'beta': 0.2985977754957015, 'gamma': 0.802109854094764, 'delta': 0.10444965091309742}. Best is trial 437 with value: 0.10609228971962607.\n"
     ]
    },
    {
     "name": "stdout",
     "output_type": "stream",
     "text": [
      "EvaluatorHoldout: Processed 2568 (100.0%) in 2.85 sec. Users per second: 900\n"
     ]
    },
    {
     "name": "stderr",
     "output_type": "stream",
     "text": [
      "[I 2024-01-08 16:12:20,991] Trial 687 finished with value: 0.10580063541512129 and parameters: {'alpha': 0.6113170794153786, 'beta': 0.23413964496829695, 'gamma': 0.17760462947923886, 'delta': 0.15979352377281578}. Best is trial 437 with value: 0.10609228971962607.\n"
     ]
    },
    {
     "name": "stdout",
     "output_type": "stream",
     "text": [
      "EvaluatorHoldout: Processed 2568 (100.0%) in 2.93 sec. Users per second: 876\n"
     ]
    },
    {
     "name": "stderr",
     "output_type": "stream",
     "text": [
      "[I 2024-01-08 16:12:23,966] Trial 688 finished with value: 0.10568749072837849 and parameters: {'alpha': 0.555637776050139, 'beta': 0.1756330838697317, 'gamma': 0.21190194837580617, 'delta': 0.13143552195632352}. Best is trial 437 with value: 0.10609228971962607.\n"
     ]
    },
    {
     "name": "stdout",
     "output_type": "stream",
     "text": [
      "EvaluatorHoldout: Processed 2568 (100.0%) in 2.95 sec. Users per second: 870\n"
     ]
    },
    {
     "name": "stderr",
     "output_type": "stream",
     "text": [
      "[I 2024-01-08 16:12:26,966] Trial 689 finished with value: 0.10515423342234084 and parameters: {'alpha': 0.856471534168114, 'beta': 0.2570642717096935, 'gamma': 0.2872631751598585, 'delta': 0.3387846810349659}. Best is trial 437 with value: 0.10609228971962607.\n"
     ]
    },
    {
     "name": "stdout",
     "output_type": "stream",
     "text": [
      "EvaluatorHoldout: Processed 2568 (100.0%) in 2.93 sec. Users per second: 877\n"
     ]
    },
    {
     "name": "stderr",
     "output_type": "stream",
     "text": [
      "[I 2024-01-08 16:12:29,948] Trial 690 finished with value: 0.10215945334520118 and parameters: {'alpha': 0.14227669346315686, 'beta': 0.1496931788178256, 'gamma': 0.6389866236191745, 'delta': 0.04205313230173301}. Best is trial 437 with value: 0.10609228971962607.\n"
     ]
    },
    {
     "name": "stdout",
     "output_type": "stream",
     "text": [
      "EvaluatorHoldout: Processed 2568 (100.0%) in 3.06 sec. Users per second: 841\n"
     ]
    },
    {
     "name": "stderr",
     "output_type": "stream",
     "text": [
      "[I 2024-01-08 16:12:33,051] Trial 691 finished with value: 0.10197961479503541 and parameters: {'alpha': 0.03763141315398333, 'beta': 0.5407851317414418, 'gamma': 0.115195106357494, 'delta': 0.5771473937821159}. Best is trial 437 with value: 0.10609228971962607.\n"
     ]
    },
    {
     "name": "stdout",
     "output_type": "stream",
     "text": [
      "EvaluatorHoldout: Processed 2568 (100.0%) in 3.08 sec. Users per second: 832\n"
     ]
    },
    {
     "name": "stderr",
     "output_type": "stream",
     "text": [
      "[I 2024-01-08 16:12:36,189] Trial 692 finished with value: 0.10437384104732249 and parameters: {'alpha': 0.6299442511824674, 'beta': 0.9601075768775473, 'gamma': 0.7914418741856336, 'delta': 0.0831915690758146}. Best is trial 437 with value: 0.10609228971962607.\n"
     ]
    },
    {
     "name": "stdout",
     "output_type": "stream",
     "text": [
      "EvaluatorHoldout: Processed 2568 (100.0%) in 3.35 sec. Users per second: 766\n"
     ]
    },
    {
     "name": "stderr",
     "output_type": "stream",
     "text": [
      "[I 2024-01-08 16:12:39,594] Trial 693 finished with value: 0.10205018728675287 and parameters: {'alpha': 0.2030750889579419, 'beta': 0.1970395646159172, 'gamma': 0.2640184421945517, 'delta': 0.839269950023086}. Best is trial 437 with value: 0.10609228971962607.\n"
     ]
    },
    {
     "name": "stdout",
     "output_type": "stream",
     "text": [
      "EvaluatorHoldout: Processed 2568 (100.0%) in 3.01 sec. Users per second: 854\n"
     ]
    },
    {
     "name": "stderr",
     "output_type": "stream",
     "text": [
      "[I 2024-01-08 16:12:42,653] Trial 694 finished with value: 0.10468182885823091 and parameters: {'alpha': 0.5987788199672908, 'beta': 0.6237073785280276, 'gamma': 0.7323157269845595, 'delta': 0.11260816952769387}. Best is trial 437 with value: 0.10609228971962607.\n"
     ]
    },
    {
     "name": "stdout",
     "output_type": "stream",
     "text": [
      "EvaluatorHoldout: Processed 2568 (100.0%) in 2.83 sec. Users per second: 908\n"
     ]
    },
    {
     "name": "stderr",
     "output_type": "stream",
     "text": [
      "[I 2024-01-08 16:12:45,523] Trial 695 finished with value: 0.10589468056173651 and parameters: {'alpha': 0.6500372174177126, 'beta': 0.22131439816590326, 'gamma': 0.1917036830393147, 'delta': 0.14491702131261894}. Best is trial 437 with value: 0.10609228971962607.\n"
     ]
    },
    {
     "name": "stdout",
     "output_type": "stream",
     "text": [
      "EvaluatorHoldout: Processed 2568 (100.0%) in 2.78 sec. Users per second: 925\n"
     ]
    },
    {
     "name": "stderr",
     "output_type": "stream",
     "text": [
      "[I 2024-01-08 16:12:48,341] Trial 696 finished with value: 0.10416716115314244 and parameters: {'alpha': 0.22625759442733162, 'beta': 0.28319591759223195, 'gamma': 0.14867153507173717, 'delta': 0.36333649256501827}. Best is trial 437 with value: 0.10609228971962607.\n"
     ]
    },
    {
     "name": "stdout",
     "output_type": "stream",
     "text": [
      "EvaluatorHoldout: Processed 2568 (100.0%) in 3.05 sec. Users per second: 843\n"
     ]
    },
    {
     "name": "stderr",
     "output_type": "stream",
     "text": [
      "[I 2024-01-08 16:12:51,434] Trial 697 finished with value: 0.10416674393017858 and parameters: {'alpha': 0.5051260505225957, 'beta': 0.7789519195649763, 'gamma': 0.7108776411620928, 'delta': 0.09089350432827509}. Best is trial 437 with value: 0.10609228971962607.\n"
     ]
    },
    {
     "name": "stdout",
     "output_type": "stream",
     "text": [
      "EvaluatorHoldout: Processed 2568 (100.0%) in 3.47 sec. Users per second: 741\n"
     ]
    },
    {
     "name": "stderr",
     "output_type": "stream",
     "text": [
      "[I 2024-01-08 16:12:54,953] Trial 698 finished with value: 0.10426771188745493 and parameters: {'alpha': 0.579970329526471, 'beta': 0.26376128981692004, 'gamma': 0.22985198859058112, 'delta': 0.5558073387116506}. Best is trial 437 with value: 0.10609228971962607.\n"
     ]
    },
    {
     "name": "stdout",
     "output_type": "stream",
     "text": [
      "EvaluatorHoldout: Processed 2568 (100.0%) in 2.79 sec. Users per second: 919\n"
     ]
    },
    {
     "name": "stderr",
     "output_type": "stream",
     "text": [
      "[I 2024-01-08 16:12:57,796] Trial 699 finished with value: 0.10419428064579923 and parameters: {'alpha': 0.922491681050054, 'beta': 0.6018233849824389, 'gamma': 0.8260124632267317, 'delta': 0.7526067027436315}. Best is trial 437 with value: 0.10609228971962607.\n"
     ]
    }
   ],
   "source": [
    "best_params = {\n",
    "    \"alpha\": 1,\n",
    "}\n",
    "study_name = \"hybrid-sl-rp3-p3-ease-veryhi-study\"  # Unique identifier of the study.\n",
    "storage_name = \"sqlite:///db.db\"\n",
    "#op.delete_study(study_name, storage_name)\n",
    "study = op.create_study(study_name=study_name, storage=storage_name, direction=\"maximize\", load_if_exists=True)\n",
    "#study.enqueue_trial(best_params)\n",
    "study.optimize(objective, n_trials=100)"
   ],
   "metadata": {
    "collapsed": false,
    "ExecuteTime": {
     "end_time": "2024-01-08T15:12:57.805405Z",
     "start_time": "2024-01-08T15:08:04.069590Z"
    }
   },
   "id": "52b5055a66579bf3"
  },
  {
   "cell_type": "code",
   "execution_count": 16,
   "outputs": [
    {
     "data": {
      "text/plain": "{'alpha': 0.8857667100747117,\n 'beta': 0.6379807942443021,\n 'gamma': 0.0690929184825888,\n 'delta': 0.11953478623354052}"
     },
     "execution_count": 16,
     "metadata": {},
     "output_type": "execute_result"
    }
   ],
   "source": [
    "study.best_params"
   ],
   "metadata": {
    "collapsed": false,
    "ExecuteTime": {
     "end_time": "2023-12-20T16:34:08.621166Z",
     "start_time": "2023-12-20T16:34:08.614300Z"
    }
   },
   "id": "731a6647494c1cea"
  }
 ],
 "metadata": {
  "kernelspec": {
   "display_name": "Python 3",
   "language": "python",
   "name": "python3"
  },
  "language_info": {
   "codemirror_mode": {
    "name": "ipython",
    "version": 2
   },
   "file_extension": ".py",
   "mimetype": "text/x-python",
   "name": "python",
   "nbconvert_exporter": "python",
   "pygments_lexer": "ipython2",
   "version": "2.7.6"
  }
 },
 "nbformat": 4,
 "nbformat_minor": 5
}
