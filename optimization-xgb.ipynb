{
 "cells": [
  {
   "cell_type": "code",
   "execution_count": 1,
   "id": "initial_id",
   "metadata": {
    "collapsed": true,
    "jupyter": {
     "outputs_hidden": true
    },
    "ExecuteTime": {
     "end_time": "2023-12-05T15:43:59.177996Z",
     "start_time": "2023-12-05T15:43:57.622645Z"
    }
   },
   "outputs": [
    {
     "name": "stdout",
     "output_type": "stream",
     "text": [
      "Warning: 211 (1.67 %) of 12638 users have no train items\n",
      "Warning: 2189 (17.32 %) of 12638 users have no sampled items\n",
      "Warning: 469 (3.71 %) of 12638 users have no train items\n",
      "Warning: 2629 (20.80 %) of 12638 users have no sampled items\n"
     ]
    }
   ],
   "source": [
    "from Data_manager.UserUtils import *\n",
    "from Data_manager.split_functions.split_train_validation_random_holdout import \\\n",
    "    split_train_in_two_percentage_global_sample\n",
    "URM_all = getURM_all()\n",
    "URM_train_validation, URM_test = split_train_in_two_percentage_global_sample(URM_all, train_percentage = 0.80)\n",
    "URM_train, URM_validation = split_train_in_two_percentage_global_sample(URM_train_validation, train_percentage = 0.80)"
   ]
  },
  {
   "cell_type": "code",
   "execution_count": 9,
   "outputs": [
    {
     "name": "stdout",
     "output_type": "stream",
     "text": [
      "EvaluatorHoldout: Ignoring 2629 (20.8%) Users that have less than 1 test interactions\n",
      "EvaluatorHoldout: Ignoring 2189 (17.3%) Users that have less than 1 test interactions\n"
     ]
    }
   ],
   "source": [
    "# SETUP EVALUATORS\n",
    "from Evaluation.Evaluator import EvaluatorHoldout\n",
    "\n",
    "evaluator_validation = EvaluatorHoldout(URM_validation, cutoff_list=[10])\n",
    "evaluator_test = EvaluatorHoldout(URM_test, cutoff_list=[10])"
   ],
   "metadata": {
    "collapsed": false,
    "ExecuteTime": {
     "end_time": "2023-12-05T16:00:47.375347Z",
     "start_time": "2023-12-05T16:00:47.366865Z"
    }
   },
   "id": "34a9630a540a4a6b"
  },
  {
   "cell_type": "code",
   "execution_count": 2,
   "id": "8a9fec0ccc4f11c5",
   "metadata": {
    "collapsed": false,
    "ExecuteTime": {
     "end_time": "2023-12-05T15:46:39.699904Z",
     "start_time": "2023-12-05T15:43:59.179215Z"
    }
   },
   "outputs": [
    {
     "name": "stdout",
     "output_type": "stream",
     "text": [
      "UserKNNCFRecommender: URM Detected 211 ( 1.7%) users with no interactions.\n",
      "UserKNNCFRecommender: URM Detected 118 ( 0.5%) items with no interactions.\n",
      "ItemKNNCFRecommender: URM Detected 211 ( 1.7%) users with no interactions.\n",
      "ItemKNNCFRecommender: URM Detected 118 ( 0.5%) items with no interactions.\n",
      "P3alphaRecommender: URM Detected 211 ( 1.7%) users with no interactions.\n",
      "P3alphaRecommender: URM Detected 118 ( 0.5%) items with no interactions.\n",
      "RP3betaRecommender: URM Detected 211 ( 1.7%) users with no interactions.\n",
      "RP3betaRecommender: URM Detected 118 ( 0.5%) items with no interactions.\n",
      "SLIMElasticNetRecommender: URM Detected 211 ( 1.7%) users with no interactions.\n",
      "SLIMElasticNetRecommender: URM Detected 118 ( 0.5%) items with no interactions.\n",
      "EASE_R_Recommender: URM Detected 211 ( 1.7%) users with no interactions.\n",
      "EASE_R_Recommender: URM Detected 118 ( 0.5%) items with no interactions.\n"
     ]
    },
    {
     "name": "stderr",
     "output_type": "stream",
     "text": [
      "100%|█████████▉| 22216/22222 [00:46<00:00, 482.78it/s]\n"
     ]
    },
    {
     "name": "stdout",
     "output_type": "stream",
     "text": [
      "P3alphaRecommender: Similarity column 22222 (100.0%), 7454.50 column/sec. Elapsed time 2.98 sec\n",
      "RP3betaRecommender: Similarity column 22222 (100.0%), 6074.14 column/sec. Elapsed time 3.66 sec\n",
      "Similarity column 12638 (100.0%), 10126.68 column/sec. Elapsed time 1.25 sec\n",
      "Similarity column 22222 (100.0%), 10158.70 column/sec. Elapsed time 2.19 sec\n",
      "EASE_R_Recommender: Fitting model... \n",
      "EASE_R_Recommender: Fitting model... done in 1.56 min\n"
     ]
    }
   ],
   "source": [
    "from Recommenders.EASE_R.EASE_R_Recommender import EASE_R_Recommender\n",
    "from Recommenders.KNN.UserKNNCFRecommender import UserKNNCFRecommender\n",
    "from Recommenders.KNN.ItemKNNCFRecommender import ItemKNNCFRecommender\n",
    "from Recommenders.SLIM.SLIMElasticNetRecommender import SLIMElasticNetRecommender, MultiThreadSLIM_SLIMElasticNetRecommender\n",
    "from Recommenders.GraphBased.P3alphaRecommender import P3alphaRecommender\n",
    "from Recommenders.GraphBased.RP3betaRecommender import RP3betaRecommender\n",
    "\n",
    "\n",
    "MAP_recommender_per_group = {}\n",
    "\n",
    "collaborative_recommender_class = {\"UserKNNCF\": UserKNNCFRecommender,\n",
    "                                   \"ItemKNNCF\": ItemKNNCFRecommender,\n",
    "                                   \"P3alpha\": P3alphaRecommender,\n",
    "                                   \"RP3beta\": RP3betaRecommender,\n",
    "                                   \"SLIM_ELASTIC\": MultiThreadSLIM_SLIMElasticNetRecommender,\n",
    "                                   \"EASE_R\": EASE_R_Recommender,\n",
    "                                   }\n",
    "collaborative_recommender_class.items()\n",
    "\n",
    "recommender_object_dict = {}\n",
    "\n",
    "for label, recommender_class in collaborative_recommender_class.items():\n",
    "    recommender_object = recommender_class(URM_train_validation)\n",
    "    recommender_object_dict[label] = recommender_object\n",
    "    \n",
    "    \n",
    "recommender_object_dict[\"SLIM_ELASTIC\"].fit(topK=8894, l1_ratio=0.05565733019999427, alpha=0.0012979360257937668, workers=7)\n",
    "recommender_object_dict[\"P3alpha\"].fit(topK=76, alpha=0.377201600381895, normalize_similarity=True)\n",
    "recommender_object_dict[\"RP3beta\"].fit(topK=101, alpha=0.3026342852596128, beta=0.058468783118329024)\n",
    "recommender_object_dict[\"UserKNNCF\"].fit(topK=469, shrink=38, similarity='asymmetric', normalize=True,\n",
    "                                         feature_weighting='TF-IDF', asymmetric_alpha=0.40077406933762383)\n",
    "recommender_object_dict[\"ItemKNNCF\"].fit(topK=31, shrink=435, similarity='tversky', normalize=True,\n",
    "                                       feature_weighting='BM25', tversky_alpha=0.17113169506422393, tversky_beta=0.5684024974085575)\n",
    "recommender_object_dict[\"EASE_R\"].fit(topK=24, l2_norm=37.54323189430143)"
   ]
  },
  {
   "cell_type": "code",
   "execution_count": 10,
   "id": "b826576f6714c764",
   "metadata": {
    "collapsed": false,
    "ExecuteTime": {
     "end_time": "2023-12-05T16:00:58.086525Z",
     "start_time": "2023-12-05T16:00:58.083998Z"
    }
   },
   "outputs": [],
   "source": [
    "from xgboost import XGBRanker\n",
    "from Recommenders.XGBoostTrain import XGBoostTrain\n",
    "import optuna as op\n",
    "import xgboost as xgb\n",
    "\n",
    "def objective(trial):\n",
    "    param = {\n",
    "        \"verbosity\": 0,\n",
    "        \"objective\": \"rank:pairwise\",\n",
    "        \"n_estimators\": trial.suggest_int(\"n_estimators\", 100, 1000),\n",
    "        \"learning_rate\": trial.suggest_float(\"learning_rate\", 1e-8, 1.0, log=True),\n",
    "        \"eval_metric\": \"auc\",\n",
    "        \"booster\": trial.suggest_categorical(\"booster\", [\"gbtree\", \"gblinear\", \"dart\"]),\n",
    "        \"reg_lambda\": trial.suggest_float(\"reg_lambda\", 1e-8, 1.0, log=True),\n",
    "        \"reg_alpha\": trial.suggest_float(\"reg_alpha\", 1e-8, 1.0, log=True),\n",
    "    }\n",
    "\n",
    "    if param[\"booster\"] == \"gbtree\" or param[\"booster\"] == \"dart\":\n",
    "        param[\"max_depth\"] = trial.suggest_int(\"max_depth\", 1, 9)\n",
    "        param[\"eta\"] = trial.suggest_float(\"eta\", 1e-8, 1.0, log=True)\n",
    "        param[\"gamma\"] = trial.suggest_float(\"gamma\", 1e-8, 1.0, log=True)\n",
    "        param[\"grow_policy\"] = trial.suggest_categorical(\"grow_policy\", [\"depthwise\", \"lossguide\"])\n",
    "    if param[\"booster\"] == \"dart\":\n",
    "        param[\"sample_type\"] = trial.suggest_categorical(\"sample_type\", [\"uniform\", \"weighted\"])\n",
    "        param[\"normalize_type\"] = trial.suggest_categorical(\"normalize_type\", [\"tree\", \"forest\"])\n",
    "        param[\"rate_drop\"] = trial.suggest_float(\"rate_drop\", 1e-8, 1.0, log=True)\n",
    "        param[\"skip_drop\"] = trial.suggest_float(\"skip_drop\", 1e-8, 1.0, log=True)\n",
    "    xgb_model = XGBRanker(**param)\n",
    "    # XGBRanker(\n",
    "    #     objective='rank:pairwise',\n",
    "    #     n_estimators=1000,\n",
    "    #     learning_rate=0.19823429576094637,\n",
    "    #     reg_alpha=47,\n",
    "    #     reg_lambda=0.313,\n",
    "    #     max_depth=3,\n",
    "    #     verbosity=0,\n",
    "    #     booster=\"gbtree\",\n",
    "    #     colsample_bytree=0.6113704247857885,\n",
    "    #     gamma=8.964184693722684,\n",
    "    #     min_child_weight=7.0,\n",
    "    #     tree_method=\"hist\"\n",
    "    # )\n",
    "    model = XGBoostTrain(URM_train_validation, URM_val=URM_test, recommenders=recommender_object_dict, XGB_model=xgb_model)\n",
    "    # Add a callback for pruning.\n",
    "    #pruning_callback = op.integration.XGBoostPruningCallback(trial, \"validation-auc\")\n",
    "    model.fit()\n",
    "        \n",
    "    result, _ = evaluator_test.evaluateRecommender(model)\n",
    "    MAP_result = result[\"MAP\"].item()\n",
    "       \n",
    "    return MAP_result"
   ]
  },
  {
   "cell_type": "code",
   "execution_count": null,
   "id": "c5b8a36d4aed08fc",
   "metadata": {
    "collapsed": false,
    "is_executing": true,
    "ExecuteTime": {
     "start_time": "2023-12-05T17:07:55.096092Z"
    }
   },
   "outputs": [
    {
     "name": "stderr",
     "output_type": "stream",
     "text": [
      "[I 2023-12-05 18:07:55,118] Using an existing study with name 'XGB-study' instead of creating a new one.\n"
     ]
    },
    {
     "name": "stdout",
     "output_type": "stream",
     "text": [
      "XGBoostTrain: URM Detected 211 ( 1.7%) users with no interactions.\n",
      "XGBoostTrain: URM Detected 118 ( 0.5%) items with no interactions.\n",
      "CREATING THE DATAFRAME\n"
     ]
    },
    {
     "name": "stderr",
     "output_type": "stream",
     "text": [
      "100%|██████████| 12638/12638 [00:04<00:00, 2974.90it/s]\n"
     ]
    },
    {
     "name": "stdout",
     "output_type": "stream",
     "text": [
      "POPULATING THE DATAFRAME\n"
     ]
    },
    {
     "name": "stderr",
     "output_type": "stream",
     "text": [
      "100%|██████████| 12638/12638 [00:19<00:00, 653.81it/s]\n"
     ]
    },
    {
     "name": "stdout",
     "output_type": "stream",
     "text": [
      "START TRAINING XGBOOSS\n",
      "CREATING THE DATAFRAME\n"
     ]
    },
    {
     "name": "stderr",
     "output_type": "stream",
     "text": [
      "100%|██████████| 1000/1000 [00:00<00:00, 2657.23it/s]\n"
     ]
    },
    {
     "name": "stdout",
     "output_type": "stream",
     "text": [
      "POPULATING THE DATAFRAME\n"
     ]
    },
    {
     "name": "stderr",
     "output_type": "stream",
     "text": [
      "100%|██████████| 1000/1000 [00:01<00:00, 636.76it/s]\n",
      "100%|██████████| 1000/1000 [00:00<00:00, 4398.80it/s]\n"
     ]
    },
    {
     "name": "stdout",
     "output_type": "stream",
     "text": [
      "CREATING THE DATAFRAME\n"
     ]
    },
    {
     "name": "stderr",
     "output_type": "stream",
     "text": [
      "100%|██████████| 1000/1000 [00:00<00:00, 2732.37it/s]\n"
     ]
    },
    {
     "name": "stdout",
     "output_type": "stream",
     "text": [
      "POPULATING THE DATAFRAME\n"
     ]
    },
    {
     "name": "stderr",
     "output_type": "stream",
     "text": [
      "100%|██████████| 1000/1000 [00:01<00:00, 647.84it/s]\n",
      "100%|██████████| 1000/1000 [00:00<00:00, 4442.69it/s]\n"
     ]
    },
    {
     "name": "stdout",
     "output_type": "stream",
     "text": [
      "CREATING THE DATAFRAME\n"
     ]
    },
    {
     "name": "stderr",
     "output_type": "stream",
     "text": [
      "100%|██████████| 1000/1000 [00:00<00:00, 2647.20it/s]\n"
     ]
    },
    {
     "name": "stdout",
     "output_type": "stream",
     "text": [
      "POPULATING THE DATAFRAME\n"
     ]
    },
    {
     "name": "stderr",
     "output_type": "stream",
     "text": [
      "100%|██████████| 1000/1000 [00:01<00:00, 620.37it/s]\n",
      "100%|██████████| 1000/1000 [00:00<00:00, 4387.15it/s]\n"
     ]
    },
    {
     "name": "stdout",
     "output_type": "stream",
     "text": [
      "CREATING THE DATAFRAME\n"
     ]
    },
    {
     "name": "stderr",
     "output_type": "stream",
     "text": [
      "100%|██████████| 1000/1000 [00:00<00:00, 2721.53it/s]\n"
     ]
    },
    {
     "name": "stdout",
     "output_type": "stream",
     "text": [
      "POPULATING THE DATAFRAME\n"
     ]
    },
    {
     "name": "stderr",
     "output_type": "stream",
     "text": [
      "100%|██████████| 1000/1000 [00:01<00:00, 581.89it/s]\n",
      "100%|██████████| 1000/1000 [00:00<00:00, 4384.77it/s]\n"
     ]
    },
    {
     "name": "stdout",
     "output_type": "stream",
     "text": [
      "CREATING THE DATAFRAME\n"
     ]
    },
    {
     "name": "stderr",
     "output_type": "stream",
     "text": [
      "100%|██████████| 1000/1000 [00:00<00:00, 2645.45it/s]\n"
     ]
    },
    {
     "name": "stdout",
     "output_type": "stream",
     "text": [
      "POPULATING THE DATAFRAME\n"
     ]
    },
    {
     "name": "stderr",
     "output_type": "stream",
     "text": [
      "100%|██████████| 1000/1000 [00:01<00:00, 605.32it/s]\n",
      "100%|██████████| 1000/1000 [00:00<00:00, 4405.58it/s]\n"
     ]
    },
    {
     "name": "stdout",
     "output_type": "stream",
     "text": [
      "CREATING THE DATAFRAME\n"
     ]
    },
    {
     "name": "stderr",
     "output_type": "stream",
     "text": [
      "100%|██████████| 1000/1000 [00:00<00:00, 2674.48it/s]\n"
     ]
    },
    {
     "name": "stdout",
     "output_type": "stream",
     "text": [
      "POPULATING THE DATAFRAME\n"
     ]
    },
    {
     "name": "stderr",
     "output_type": "stream",
     "text": [
      "100%|██████████| 1000/1000 [00:01<00:00, 646.45it/s]\n",
      "100%|██████████| 1000/1000 [00:00<00:00, 4475.64it/s]\n"
     ]
    },
    {
     "name": "stdout",
     "output_type": "stream",
     "text": [
      "CREATING THE DATAFRAME\n"
     ]
    },
    {
     "name": "stderr",
     "output_type": "stream",
     "text": [
      "100%|██████████| 1000/1000 [00:00<00:00, 2644.86it/s]\n"
     ]
    },
    {
     "name": "stdout",
     "output_type": "stream",
     "text": [
      "POPULATING THE DATAFRAME\n"
     ]
    },
    {
     "name": "stderr",
     "output_type": "stream",
     "text": [
      "100%|██████████| 1000/1000 [00:01<00:00, 648.94it/s]\n",
      "100%|██████████| 1000/1000 [00:00<00:00, 4474.75it/s]\n"
     ]
    },
    {
     "name": "stdout",
     "output_type": "stream",
     "text": [
      "CREATING THE DATAFRAME\n"
     ]
    },
    {
     "name": "stderr",
     "output_type": "stream",
     "text": [
      "100%|██████████| 1000/1000 [00:00<00:00, 2786.43it/s]\n"
     ]
    },
    {
     "name": "stdout",
     "output_type": "stream",
     "text": [
      "POPULATING THE DATAFRAME\n"
     ]
    },
    {
     "name": "stderr",
     "output_type": "stream",
     "text": [
      "100%|██████████| 1000/1000 [00:01<00:00, 604.89it/s]\n",
      "100%|██████████| 1000/1000 [00:00<00:00, 4483.09it/s]\n"
     ]
    },
    {
     "name": "stdout",
     "output_type": "stream",
     "text": [
      "CREATING THE DATAFRAME\n"
     ]
    },
    {
     "name": "stderr",
     "output_type": "stream",
     "text": [
      "100%|██████████| 1000/1000 [00:00<00:00, 2717.16it/s]\n"
     ]
    },
    {
     "name": "stdout",
     "output_type": "stream",
     "text": [
      "POPULATING THE DATAFRAME\n"
     ]
    },
    {
     "name": "stderr",
     "output_type": "stream",
     "text": [
      "100%|██████████| 1000/1000 [00:01<00:00, 658.12it/s]\n",
      "100%|██████████| 1000/1000 [00:00<00:00, 4493.13it/s]\n"
     ]
    },
    {
     "name": "stdout",
     "output_type": "stream",
     "text": [
      "CREATING THE DATAFRAME\n"
     ]
    },
    {
     "name": "stderr",
     "output_type": "stream",
     "text": [
      "100%|██████████| 1000/1000 [00:00<00:00, 2751.54it/s]\n"
     ]
    },
    {
     "name": "stdout",
     "output_type": "stream",
     "text": [
      "POPULATING THE DATAFRAME\n"
     ]
    },
    {
     "name": "stderr",
     "output_type": "stream",
     "text": [
      "100%|██████████| 1000/1000 [00:01<00:00, 654.79it/s]\n",
      "100%|██████████| 1000/1000 [00:00<00:00, 4389.20it/s]\n"
     ]
    },
    {
     "name": "stdout",
     "output_type": "stream",
     "text": [
      "CREATING THE DATAFRAME\n"
     ]
    },
    {
     "name": "stderr",
     "output_type": "stream",
     "text": [
      "100%|██████████| 449/449 [00:00<00:00, 2616.56it/s]\n"
     ]
    },
    {
     "name": "stdout",
     "output_type": "stream",
     "text": [
      "POPULATING THE DATAFRAME\n"
     ]
    },
    {
     "name": "stderr",
     "output_type": "stream",
     "text": [
      "100%|██████████| 449/449 [00:00<00:00, 628.21it/s]\n",
      "100%|██████████| 449/449 [00:00<00:00, 4589.41it/s]\n"
     ]
    },
    {
     "name": "stdout",
     "output_type": "stream",
     "text": [
      "EvaluatorHoldout: Processed 10449 (100.0%) in 25.86 sec. Users per second: 404\n"
     ]
    },
    {
     "name": "stderr",
     "output_type": "stream",
     "text": [
      "[I 2023-12-05 18:08:52,159] Trial 10 finished with value: 0.05080710617101708 and parameters: {'n_estimators': 489, 'learning_rate': 0.005629914838769923, 'booster': 'gblinear', 'reg_lambda': 0.0001418383354902228, 'reg_alpha': 6.634406597113382e-05}. Best is trial 4 with value: 0.05114406026550781.\n"
     ]
    },
    {
     "name": "stdout",
     "output_type": "stream",
     "text": [
      "XGBoostTrain: URM Detected 211 ( 1.7%) users with no interactions.\n",
      "XGBoostTrain: URM Detected 118 ( 0.5%) items with no interactions.\n",
      "CREATING THE DATAFRAME\n"
     ]
    },
    {
     "name": "stderr",
     "output_type": "stream",
     "text": [
      "100%|██████████| 12638/12638 [00:04<00:00, 2954.11it/s]\n"
     ]
    },
    {
     "name": "stdout",
     "output_type": "stream",
     "text": [
      "POPULATING THE DATAFRAME\n"
     ]
    },
    {
     "name": "stderr",
     "output_type": "stream",
     "text": [
      "100%|██████████| 12638/12638 [00:18<00:00, 676.34it/s]\n"
     ]
    },
    {
     "name": "stdout",
     "output_type": "stream",
     "text": [
      "START TRAINING XGBOOSS\n",
      "CREATING THE DATAFRAME\n"
     ]
    },
    {
     "name": "stderr",
     "output_type": "stream",
     "text": [
      "100%|██████████| 1000/1000 [00:00<00:00, 2623.27it/s]\n"
     ]
    },
    {
     "name": "stdout",
     "output_type": "stream",
     "text": [
      "POPULATING THE DATAFRAME\n"
     ]
    },
    {
     "name": "stderr",
     "output_type": "stream",
     "text": [
      "100%|██████████| 1000/1000 [00:01<00:00, 626.44it/s]\n",
      "100%|██████████| 1000/1000 [00:00<00:00, 4348.02it/s]\n"
     ]
    },
    {
     "name": "stdout",
     "output_type": "stream",
     "text": [
      "CREATING THE DATAFRAME\n"
     ]
    },
    {
     "name": "stderr",
     "output_type": "stream",
     "text": [
      "100%|██████████| 1000/1000 [00:00<00:00, 2866.90it/s]\n"
     ]
    },
    {
     "name": "stdout",
     "output_type": "stream",
     "text": [
      "POPULATING THE DATAFRAME\n"
     ]
    },
    {
     "name": "stderr",
     "output_type": "stream",
     "text": [
      "100%|██████████| 1000/1000 [00:01<00:00, 626.84it/s]\n",
      "100%|██████████| 1000/1000 [00:00<00:00, 4273.48it/s]\n"
     ]
    },
    {
     "name": "stdout",
     "output_type": "stream",
     "text": [
      "CREATING THE DATAFRAME\n"
     ]
    },
    {
     "name": "stderr",
     "output_type": "stream",
     "text": [
      "100%|██████████| 1000/1000 [00:00<00:00, 2826.53it/s]\n"
     ]
    },
    {
     "name": "stdout",
     "output_type": "stream",
     "text": [
      "POPULATING THE DATAFRAME\n"
     ]
    },
    {
     "name": "stderr",
     "output_type": "stream",
     "text": [
      "100%|██████████| 1000/1000 [00:01<00:00, 602.12it/s]\n",
      "100%|██████████| 1000/1000 [00:00<00:00, 4436.24it/s]\n"
     ]
    },
    {
     "name": "stdout",
     "output_type": "stream",
     "text": [
      "CREATING THE DATAFRAME\n"
     ]
    },
    {
     "name": "stderr",
     "output_type": "stream",
     "text": [
      "100%|██████████| 1000/1000 [00:00<00:00, 2840.41it/s]\n"
     ]
    },
    {
     "name": "stdout",
     "output_type": "stream",
     "text": [
      "POPULATING THE DATAFRAME\n"
     ]
    },
    {
     "name": "stderr",
     "output_type": "stream",
     "text": [
      "100%|██████████| 1000/1000 [00:01<00:00, 646.40it/s]\n",
      "100%|██████████| 1000/1000 [00:00<00:00, 4399.98it/s]\n"
     ]
    },
    {
     "name": "stdout",
     "output_type": "stream",
     "text": [
      "CREATING THE DATAFRAME\n"
     ]
    },
    {
     "name": "stderr",
     "output_type": "stream",
     "text": [
      "100%|██████████| 1000/1000 [00:00<00:00, 2795.08it/s]\n"
     ]
    },
    {
     "name": "stdout",
     "output_type": "stream",
     "text": [
      "POPULATING THE DATAFRAME\n"
     ]
    },
    {
     "name": "stderr",
     "output_type": "stream",
     "text": [
      "100%|██████████| 1000/1000 [00:01<00:00, 650.90it/s]\n",
      "100%|██████████| 1000/1000 [00:00<00:00, 4381.16it/s]\n"
     ]
    },
    {
     "name": "stdout",
     "output_type": "stream",
     "text": [
      "CREATING THE DATAFRAME\n"
     ]
    },
    {
     "name": "stderr",
     "output_type": "stream",
     "text": [
      "100%|██████████| 1000/1000 [00:00<00:00, 2796.52it/s]\n"
     ]
    },
    {
     "name": "stdout",
     "output_type": "stream",
     "text": [
      "POPULATING THE DATAFRAME\n"
     ]
    },
    {
     "name": "stderr",
     "output_type": "stream",
     "text": [
      "100%|██████████| 1000/1000 [00:01<00:00, 620.51it/s]\n",
      "100%|██████████| 1000/1000 [00:00<00:00, 4284.74it/s]\n"
     ]
    },
    {
     "name": "stdout",
     "output_type": "stream",
     "text": [
      "CREATING THE DATAFRAME\n"
     ]
    },
    {
     "name": "stderr",
     "output_type": "stream",
     "text": [
      "100%|██████████| 1000/1000 [00:00<00:00, 2484.29it/s]\n"
     ]
    },
    {
     "name": "stdout",
     "output_type": "stream",
     "text": [
      "POPULATING THE DATAFRAME\n"
     ]
    },
    {
     "name": "stderr",
     "output_type": "stream",
     "text": [
      "100%|██████████| 1000/1000 [00:01<00:00, 588.13it/s]\n",
      "100%|██████████| 1000/1000 [00:00<00:00, 4395.53it/s]\n"
     ]
    },
    {
     "name": "stdout",
     "output_type": "stream",
     "text": [
      "CREATING THE DATAFRAME\n"
     ]
    },
    {
     "name": "stderr",
     "output_type": "stream",
     "text": [
      "100%|██████████| 1000/1000 [00:00<00:00, 2795.69it/s]\n"
     ]
    },
    {
     "name": "stdout",
     "output_type": "stream",
     "text": [
      "POPULATING THE DATAFRAME\n"
     ]
    },
    {
     "name": "stderr",
     "output_type": "stream",
     "text": [
      "100%|██████████| 1000/1000 [00:01<00:00, 637.09it/s]\n",
      "100%|██████████| 1000/1000 [00:00<00:00, 4248.39it/s]\n"
     ]
    },
    {
     "name": "stdout",
     "output_type": "stream",
     "text": [
      "CREATING THE DATAFRAME\n"
     ]
    },
    {
     "name": "stderr",
     "output_type": "stream",
     "text": [
      "100%|██████████| 1000/1000 [00:00<00:00, 2681.16it/s]\n"
     ]
    },
    {
     "name": "stdout",
     "output_type": "stream",
     "text": [
      "POPULATING THE DATAFRAME\n"
     ]
    },
    {
     "name": "stderr",
     "output_type": "stream",
     "text": [
      "100%|██████████| 1000/1000 [00:01<00:00, 637.43it/s]\n",
      "100%|██████████| 1000/1000 [00:00<00:00, 4301.33it/s]\n"
     ]
    },
    {
     "name": "stdout",
     "output_type": "stream",
     "text": [
      "CREATING THE DATAFRAME\n"
     ]
    },
    {
     "name": "stderr",
     "output_type": "stream",
     "text": [
      "100%|██████████| 1000/1000 [00:00<00:00, 2696.70it/s]\n"
     ]
    },
    {
     "name": "stdout",
     "output_type": "stream",
     "text": [
      "POPULATING THE DATAFRAME\n"
     ]
    },
    {
     "name": "stderr",
     "output_type": "stream",
     "text": [
      " 26%|██▌       | 260/1000 [00:00<00:01, 621.47it/s]"
     ]
    }
   ],
   "source": [
    "best_params = {\n",
    "    \n",
    "}\n",
    "\n",
    "study_name = \"XGB-study\"  # Unique identifier of the study.\n",
    "storage_name = \"sqlite:///db.db\"\n",
    "study = op.create_study(study_name=study_name, storage=storage_name, direction=\"maximize\",pruner=op.pruners.MedianPruner(n_warmup_steps=5), load_if_exists=True)\n",
    "#study.enqueue_trial(best_params)\n",
    "study.optimize(objective, n_trials=10)"
   ]
  },
  {
   "cell_type": "code",
   "execution_count": null,
   "outputs": [],
   "source": [],
   "metadata": {
    "collapsed": false
   },
   "id": "40ff8f62a1530c0d"
  },
  {
   "cell_type": "code",
   "execution_count": 16,
   "id": "1a0a3570fbcb348b",
   "metadata": {
    "ExecuteTime": {
     "end_time": "2023-11-25T23:51:23.574128634Z",
     "start_time": "2023-11-25T23:51:14.839295676Z"
    },
    "collapsed": false
   },
   "outputs": [
    {
     "name": "stdout",
     "output_type": "stream",
     "text": [
      "EvaluatorHoldout: Ignoring 2184 (17.3%) Users that have less than 1 test interactions\n",
      "EvaluatorHoldout: Ignoring 0 Users\n",
      "EvaluatorHoldout: Processed 10454 (100.0%) in 8.71 sec. Users per second: 1200\n"
     ]
    },
    {
     "data": {
      "text/plain": [
       "(       PRECISION PRECISION_RECALL_MIN_DEN   RECALL      MAP MAP_MIN_DEN  \\\n",
       " cutoff                                                                    \n",
       " 10      0.089028                 0.150759  0.12639  0.04558    0.076747   \n",
       " \n",
       "             MRR      NDCG        F1  HIT_RATE ARHR_ALL_HITS  ...  \\\n",
       " cutoff                                                       ...   \n",
       " 10      0.26035  0.140004  0.104469  0.493495      0.340601  ...   \n",
       " \n",
       "        COVERAGE_USER COVERAGE_USER_HIT USERS_IN_GT DIVERSITY_GINI  \\\n",
       " cutoff                                                              \n",
       " 10          0.827188          0.408213    0.827188       0.057399   \n",
       " \n",
       "        SHANNON_ENTROPY RATIO_DIVERSITY_HERFINDAHL RATIO_DIVERSITY_GINI  \\\n",
       " cutoff                                                                   \n",
       " 10           10.156523                   0.997471             0.164554   \n",
       " \n",
       "        RATIO_SHANNON_ENTROPY RATIO_AVERAGE_POPULARITY RATIO_NOVELTY  \n",
       " cutoff                                                               \n",
       " 10                  0.782377                 1.869101      0.285515  \n",
       " \n",
       " [1 rows x 27 columns],\n",
       " 'CUTOFF: 10 - PRECISION: 0.0890281, PRECISION_RECALL_MIN_DEN: 0.1507588, RECALL: 0.1263903, MAP: 0.0455802, MAP_MIN_DEN: 0.0767475, MRR: 0.2603500, NDCG: 0.1400042, F1: 0.1044692, HIT_RATE: 0.4934953, ARHR_ALL_HITS: 0.3406007, NOVELTY: 0.0050545, AVERAGE_POPULARITY: 0.2295758, DIVERSITY_MEAN_INTER_LIST: 0.9712031, DIVERSITY_HERFINDAHL: 0.9971110, COVERAGE_ITEM: 0.3221582, COVERAGE_ITEM_HIT: 0.0827558, ITEMS_IN_GT: 0.7992530, COVERAGE_USER: 0.8271878, COVERAGE_USER_HIT: 0.4082133, USERS_IN_GT: 0.8271878, DIVERSITY_GINI: 0.0573986, SHANNON_ENTROPY: 10.1565225, RATIO_DIVERSITY_HERFINDAHL: 0.9974715, RATIO_DIVERSITY_GINI: 0.1645540, RATIO_SHANNON_ENTROPY: 0.7823774, RATIO_AVERAGE_POPULARITY: 1.8691010, RATIO_NOVELTY: 0.2855147, \\n')"
      ]
     },
     "execution_count": 16,
     "metadata": {},
     "output_type": "execute_result"
    }
   ],
   "source": [
    "from Evaluation.Evaluator import EvaluatorHoldout\n",
    "evaluator_test = EvaluatorHoldout(URM_test, cutoff_list=[10], ignore_users=[])\n",
    "evaluator_test.evaluateRecommender(final)"
   ]
  },
  {
   "cell_type": "code",
   "execution_count": 17,
   "id": "d44f3917cd92eabc",
   "metadata": {
    "ExecuteTime": {
     "end_time": "2023-11-25T23:51:30.444442207Z",
     "start_time": "2023-11-25T23:51:23.575563489Z"
    },
    "collapsed": false
   },
   "outputs": [
    {
     "name": "stdout",
     "output_type": "stream",
     "text": [
      "EvaluatorHoldout: Processed 10454 (100.0%) in 6.85 sec. Users per second: 1526\n"
     ]
    },
    {
     "data": {
      "text/plain": [
       "(       PRECISION PRECISION_RECALL_MIN_DEN   RECALL      MAP MAP_MIN_DEN  \\\n",
       " cutoff                                                                    \n",
       " 10      0.079759                 0.137157  0.11639  0.03848    0.066675   \n",
       " \n",
       "              MRR      NDCG        F1  HIT_RATE ARHR_ALL_HITS  ...  \\\n",
       " cutoff                                                        ...   \n",
       " 10      0.234882  0.125152  0.094654  0.475703      0.298827  ...   \n",
       " \n",
       "        COVERAGE_USER COVERAGE_USER_HIT USERS_IN_GT DIVERSITY_GINI  \\\n",
       " cutoff                                                              \n",
       " 10          0.827188          0.393496    0.827188       0.050161   \n",
       " \n",
       "        SHANNON_ENTROPY RATIO_DIVERSITY_HERFINDAHL RATIO_DIVERSITY_GINI  \\\n",
       " cutoff                                                                   \n",
       " 10           10.020847                   0.997362             0.145638   \n",
       " \n",
       "        RATIO_SHANNON_ENTROPY RATIO_AVERAGE_POPULARITY RATIO_NOVELTY  \n",
       " cutoff                                                               \n",
       " 10                  0.772591                 1.981834       0.35289  \n",
       " \n",
       " [1 rows x 27 columns],\n",
       " 'CUTOFF: 10 - PRECISION: 0.0797589, PRECISION_RECALL_MIN_DEN: 0.1371573, RECALL: 0.1163901, MAP: 0.0384801, MAP_MIN_DEN: 0.0666754, MRR: 0.2348816, NDCG: 0.1251520, F1: 0.0946541, HIT_RATE: 0.4757031, ARHR_ALL_HITS: 0.2988275, NOVELTY: 0.0049935, AVERAGE_POPULARITY: 0.2402675, DIVERSITY_MEAN_INTER_LIST: 0.9701045, DIVERSITY_HERFINDAHL: 0.9970012, COVERAGE_ITEM: 0.2843578, COVERAGE_ITEM_HIT: 0.0734407, ITEMS_IN_GT: 0.7992530, COVERAGE_USER: 0.8271878, COVERAGE_USER_HIT: 0.3934958, USERS_IN_GT: 0.8271878, DIVERSITY_GINI: 0.0501611, SHANNON_ENTROPY: 10.0208467, RATIO_DIVERSITY_HERFINDAHL: 0.9973624, RATIO_DIVERSITY_GINI: 0.1456376, RATIO_SHANNON_ENTROPY: 0.7725906, RATIO_AVERAGE_POPULARITY: 1.9818339, RATIO_NOVELTY: 0.3528895, \\n')"
      ]
     },
     "execution_count": 17,
     "metadata": {},
     "output_type": "execute_result"
    }
   ],
   "source": [
    "#final.fit(alphas=[3,1.25])\n",
    "evaluator_test.evaluateRecommender(slim)"
   ]
  },
  {
   "cell_type": "code",
   "execution_count": null,
   "id": "5a67428de0ca1e4f",
   "metadata": {
    "collapsed": false
   },
   "outputs": [],
   "source": []
  }
 ],
 "metadata": {
  "kernelspec": {
   "display_name": "Python 3",
   "language": "python",
   "name": "python3"
  },
  "language_info": {
   "codemirror_mode": {
    "name": "ipython",
    "version": 2
   },
   "file_extension": ".py",
   "mimetype": "text/x-python",
   "name": "python",
   "nbconvert_exporter": "python",
   "pygments_lexer": "ipython2",
   "version": "2.7.6"
  }
 },
 "nbformat": 4,
 "nbformat_minor": 5
}
