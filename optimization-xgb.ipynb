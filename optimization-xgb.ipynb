{
 "cells": [
  {
   "cell_type": "code",
   "execution_count": 1,
   "id": "initial_id",
   "metadata": {
    "collapsed": true,
    "jupyter": {
     "outputs_hidden": true
    },
    "ExecuteTime": {
     "end_time": "2023-12-05T22:06:28.266493566Z",
     "start_time": "2023-12-05T22:06:25.054647503Z"
    }
   },
   "outputs": [
    {
     "name": "stdout",
     "output_type": "stream",
     "text": [
      "Warning: 207 (1.64 %) of 12638 users have no train items\n",
      "Warning: 2164 (17.12 %) of 12638 users have no sampled items\n",
      "Warning: 463 (3.66 %) of 12638 users have no train items\n",
      "Warning: 2578 (20.40 %) of 12638 users have no sampled items\n"
     ]
    }
   ],
   "source": [
    "from Data_manager.UserUtils import *\n",
    "from Data_manager.split_functions.split_train_validation_random_holdout import \\\n",
    "    split_train_in_two_percentage_global_sample\n",
    "URM_all = getURM_all()\n",
    "URM_train_validation, URM_test = split_train_in_two_percentage_global_sample(URM_all, train_percentage = 0.80)\n",
    "URM_train, URM_validation = split_train_in_two_percentage_global_sample(URM_train_validation, train_percentage = 0.80)"
   ]
  },
  {
   "cell_type": "code",
   "execution_count": 2,
   "outputs": [
    {
     "name": "stdout",
     "output_type": "stream",
     "text": [
      "EvaluatorHoldout: Ignoring 2578 (20.4%) Users that have less than 1 test interactions\n",
      "EvaluatorHoldout: Ignoring 2164 (17.1%) Users that have less than 1 test interactions\n"
     ]
    }
   ],
   "source": [
    "# SETUP EVALUATORS\n",
    "from Evaluation.Evaluator import EvaluatorHoldout\n",
    "\n",
    "evaluator_validation = EvaluatorHoldout(URM_validation, cutoff_list=[10])\n",
    "evaluator_test = EvaluatorHoldout(URM_test, cutoff_list=[10])"
   ],
   "metadata": {
    "collapsed": false,
    "ExecuteTime": {
     "end_time": "2023-12-05T22:06:28.290568743Z",
     "start_time": "2023-12-05T22:06:28.269484675Z"
    }
   },
   "id": "34a9630a540a4a6b"
  },
  {
   "cell_type": "code",
   "execution_count": 3,
   "id": "8a9fec0ccc4f11c5",
   "metadata": {
    "collapsed": false,
    "ExecuteTime": {
     "end_time": "2023-12-05T22:08:30.342265060Z",
     "start_time": "2023-12-05T22:06:28.287233346Z"
    }
   },
   "outputs": [
    {
     "name": "stdout",
     "output_type": "stream",
     "text": [
      "UserKNNCFRecommender: URM Detected 207 ( 1.6%) users with no interactions.\n",
      "UserKNNCFRecommender: URM Detected 99 ( 0.4%) items with no interactions.\n",
      "ItemKNNCFRecommender: URM Detected 207 ( 1.6%) users with no interactions.\n",
      "ItemKNNCFRecommender: URM Detected 99 ( 0.4%) items with no interactions.\n",
      "P3alphaRecommender: URM Detected 207 ( 1.6%) users with no interactions.\n",
      "P3alphaRecommender: URM Detected 99 ( 0.4%) items with no interactions.\n",
      "RP3betaRecommender: URM Detected 207 ( 1.6%) users with no interactions.\n",
      "RP3betaRecommender: URM Detected 99 ( 0.4%) items with no interactions.\n",
      "SLIMElasticNetRecommender: URM Detected 207 ( 1.6%) users with no interactions.\n",
      "SLIMElasticNetRecommender: URM Detected 99 ( 0.4%) items with no interactions.\n"
     ]
    },
    {
     "name": "stderr",
     "output_type": "stream",
     "text": [
      "100%|█████████▉| 22192/22222 [01:44<00:00, 134.56it/s]"
     ]
    },
    {
     "name": "stdout",
     "output_type": "stream",
     "text": [
      "P3alphaRecommender: Similarity column 22222 (100.0%), 5373.18 column/sec. Elapsed time 4.14 sec\n",
      "RP3betaRecommender: Similarity column 22222 (100.0%), 4284.52 column/sec. Elapsed time 5.19 sec\n",
      "Similarity column 12638 (100.0%), 8951.99 column/sec. Elapsed time 1.41 sec\n"
     ]
    },
    {
     "name": "stderr",
     "output_type": "stream",
     "text": [
      "100%|█████████▉| 22216/22222 [02:00<00:00, 134.56it/s]"
     ]
    },
    {
     "name": "stdout",
     "output_type": "stream",
     "text": [
      "Similarity column 22222 (100.0%), 8295.28 column/sec. Elapsed time 2.68 sec\n"
     ]
    }
   ],
   "source": [
    "from Recommenders.EASE_R.EASE_R_Recommender import EASE_R_Recommender\n",
    "from Recommenders.KNN.UserKNNCFRecommender import UserKNNCFRecommender\n",
    "from Recommenders.KNN.ItemKNNCFRecommender import ItemKNNCFRecommender\n",
    "from Recommenders.SLIM.SLIMElasticNetRecommender import SLIMElasticNetRecommender, MultiThreadSLIM_SLIMElasticNetRecommender\n",
    "from Recommenders.GraphBased.P3alphaRecommender import P3alphaRecommender\n",
    "from Recommenders.GraphBased.RP3betaRecommender import RP3betaRecommender\n",
    "\n",
    "\n",
    "MAP_recommender_per_group = {}\n",
    "\n",
    "collaborative_recommender_class = {\"UserKNNCF\": UserKNNCFRecommender,\n",
    "                                   \"ItemKNNCF\": ItemKNNCFRecommender,\n",
    "                                   \"P3alpha\": P3alphaRecommender,\n",
    "                                   \"RP3beta\": RP3betaRecommender,\n",
    "                                   \"SLIM_ELASTIC\": MultiThreadSLIM_SLIMElasticNetRecommender,\n",
    "                                   #\"EASE_R\": EASE_R_Recommender,\n",
    "                                   }\n",
    "collaborative_recommender_class.items()\n",
    "\n",
    "recommender_object_dict = {}\n",
    "\n",
    "for label, recommender_class in collaborative_recommender_class.items():\n",
    "    recommender_object = recommender_class(URM_train_validation)\n",
    "    recommender_object_dict[label] = recommender_object\n",
    "    \n",
    "    \n",
    "recommender_object_dict[\"SLIM_ELASTIC\"].fit(topK=8894, l1_ratio=0.05565733019999427, alpha=0.0012979360257937668, workers=7)\n",
    "recommender_object_dict[\"P3alpha\"].fit(topK=76, alpha=0.377201600381895, normalize_similarity=True)\n",
    "recommender_object_dict[\"RP3beta\"].fit(topK=101, alpha=0.3026342852596128, beta=0.058468783118329024)\n",
    "recommender_object_dict[\"UserKNNCF\"].fit(topK=469, shrink=38, similarity='asymmetric', normalize=True,\n",
    "                                         feature_weighting='TF-IDF', asymmetric_alpha=0.40077406933762383)\n",
    "recommender_object_dict[\"ItemKNNCF\"].fit(topK=31, shrink=435, similarity='tversky', normalize=True,\n",
    "                                       feature_weighting='BM25', tversky_alpha=0.17113169506422393, tversky_beta=0.5684024974085575)\n",
    "#recommender_object_dict[\"EASE_R\"].fit(topK=24, l2_norm=37.54323189430143)"
   ]
  },
  {
   "cell_type": "code",
   "execution_count": 16,
   "outputs": [
    {
     "data": {
      "text/plain": "<module 'Recommenders.XGBoostTrain' from '/home/alessandro/RecSys-2023-polimi/Recommenders/XGBoostTrain.py'>"
     },
     "execution_count": 16,
     "metadata": {},
     "output_type": "execute_result"
    }
   ],
   "source": [
    "import  Recommenders.XGBoostTrain as XGBoostTrain\n",
    "from importlib import reload\n",
    "reload(XGBoostTrain)"
   ],
   "metadata": {
    "collapsed": false,
    "ExecuteTime": {
     "end_time": "2023-12-05T23:05:46.656419666Z",
     "start_time": "2023-12-05T23:05:46.648963087Z"
    }
   },
   "id": "3ec1c0898360f0ae"
  },
  {
   "cell_type": "code",
   "execution_count": 17,
   "id": "b826576f6714c764",
   "metadata": {
    "collapsed": false,
    "ExecuteTime": {
     "end_time": "2023-12-05T23:07:38.913834386Z",
     "start_time": "2023-12-05T23:05:51.198301876Z"
    }
   },
   "outputs": [
    {
     "name": "stderr",
     "output_type": "stream",
     "text": [
      "  1%|          | 141/12638 [00:00<00:08, 1402.49it/s]"
     ]
    },
    {
     "name": "stdout",
     "output_type": "stream",
     "text": [
      "XGBoostTrain: URM Detected 207 ( 1.6%) users with no interactions.\n",
      "XGBoostTrain: URM Detected 99 ( 0.4%) items with no interactions.\n",
      "CREATING THE DATAFRAME\n"
     ]
    },
    {
     "name": "stderr",
     "output_type": "stream",
     "text": [
      "100%|██████████| 12638/12638 [00:07<00:00, 1662.96it/s]\n",
      "  0%|          | 12/12638 [00:00<01:51, 113.34it/s]"
     ]
    },
    {
     "name": "stdout",
     "output_type": "stream",
     "text": [
      "POPULATING THE DATAFRAME\n"
     ]
    },
    {
     "name": "stderr",
     "output_type": "stream",
     "text": [
      "100%|██████████| 12638/12638 [01:39<00:00, 126.64it/s]\n"
     ]
    },
    {
     "name": "stdout",
     "output_type": "stream",
     "text": [
      "DF LOADING END\n"
     ]
    }
   ],
   "source": [
    "from xgboost import XGBRanker\n",
    "from Recommenders.XGBoostTrain import XGBoostTrain\n",
    "\n",
    "import optuna as op\n",
    "import xgboost as xgb\n",
    "\n",
    "model = XGBoostTrain(URM_train_validation, URM_val=URM_test, recommenders=recommender_object_dict, XGB_model=None)\n",
    "\n",
    "\n",
    "\n",
    "def objective(trial):\n",
    "    param = {\n",
    "        \"verbosity\": 0,\n",
    "        \"objective\": \"rank:pairwise\",\n",
    "        \"n_estimators\": trial.suggest_int(\"n_estimators\", 100, 1000),\n",
    "        \"learning_rate\": trial.suggest_float(\"learning_rate\", 1e-8, 1.0, log=True),\n",
    "        \"eval_metric\": \"auc\",\n",
    "        \"booster\": trial.suggest_categorical(\"booster\", [\"gbtree\", \"gblinear\"]),\n",
    "        \"reg_lambda\": trial.suggest_float(\"reg_lambda\", 1e-8, 1.0, log=True),\n",
    "        \"reg_alpha\": trial.suggest_float(\"reg_alpha\", 1e-8, 1.0, log=True),\n",
    "    }\n",
    "\n",
    "    if param[\"booster\"] == \"gbtree\":\n",
    "        param[\"max_depth\"] = trial.suggest_int(\"max_depth\", 1, 9)\n",
    "        param[\"eta\"] = trial.suggest_float(\"eta\", 1e-8, 1.0, log=True)\n",
    "        param[\"gamma\"] = trial.suggest_float(\"gamma\", 1e-8, 1.0, log=True)\n",
    "        param[\"grow_policy\"] = trial.suggest_categorical(\"grow_policy\", [\"depthwise\", \"lossguide\"])\n",
    "    xgb_model = XGBRanker(**param)\n",
    "    # XGBRanker(\n",
    "    #     objective='rank:pairwise',\n",
    "    #     n_estimators=1000,\n",
    "    #     learning_rate=0.19823429576094637,\n",
    "    #     reg_alpha=47,\n",
    "    #     reg_lambda=0.313,\n",
    "    #     max_depth=3,\n",
    "    #     verbosity=0,\n",
    "    #     booster=\"gbtree\",\n",
    "    #     colsample_bytree=0.6113704247857885,\n",
    "    #     gamma=8.964184693722684,\n",
    "    #     min_child_weight=7.0,\n",
    "    #     tree_method=\"hist\"\n",
    "    # )\n",
    "    # Add a callback for pruning.\n",
    "    #pruning_callback = op.integration.XGBoostPruningCallback(trial, \"validation-auc\")\n",
    "    model.fit(XGB_model=xgb_model)\n",
    "        \n",
    "    result, _ = evaluator_test.evaluateRecommender(model)\n",
    "    MAP_result = result[\"MAP\"].item()\n",
    "       \n",
    "    return MAP_result"
   ]
  },
  {
   "cell_type": "code",
   "execution_count": null,
   "id": "c5b8a36d4aed08fc",
   "metadata": {
    "collapsed": false,
    "is_executing": true,
    "ExecuteTime": {
     "start_time": "2023-12-05T23:58:41.777892834Z"
    }
   },
   "outputs": [
    {
     "name": "stderr",
     "output_type": "stream",
     "text": [
      "[I 2023-12-06 00:58:41,807] Using an existing study with name 'XGB-study' instead of creating a new one.\n",
      " 16%|█▋        | 163/1000 [00:00<00:00, 1622.89it/s]"
     ]
    },
    {
     "name": "stdout",
     "output_type": "stream",
     "text": [
      "CREATING THE DATAFRAME\n"
     ]
    },
    {
     "name": "stderr",
     "output_type": "stream",
     "text": [
      "100%|██████████| 1000/1000 [00:00<00:00, 1573.08it/s]\n",
      "  3%|▎         | 26/1000 [00:00<00:03, 257.30it/s]"
     ]
    },
    {
     "name": "stdout",
     "output_type": "stream",
     "text": [
      "POPULATING THE DATAFRAME\n"
     ]
    },
    {
     "name": "stderr",
     "output_type": "stream",
     "text": [
      "100%|██████████| 1000/1000 [00:03<00:00, 266.49it/s]\n",
      "100%|██████████| 1000/1000 [00:01<00:00, 647.64it/s]\n",
      " 17%|█▋        | 173/1000 [00:00<00:00, 1722.36it/s]"
     ]
    },
    {
     "name": "stdout",
     "output_type": "stream",
     "text": [
      "CREATING THE DATAFRAME\n"
     ]
    },
    {
     "name": "stderr",
     "output_type": "stream",
     "text": [
      "100%|██████████| 1000/1000 [00:00<00:00, 1641.95it/s]\n",
      "  2%|▏         | 24/1000 [00:00<00:04, 239.33it/s]"
     ]
    },
    {
     "name": "stdout",
     "output_type": "stream",
     "text": [
      "POPULATING THE DATAFRAME\n"
     ]
    },
    {
     "name": "stderr",
     "output_type": "stream",
     "text": [
      "100%|██████████| 1000/1000 [00:03<00:00, 261.35it/s]\n",
      "100%|██████████| 1000/1000 [00:01<00:00, 653.34it/s]\n",
      " 16%|█▌        | 159/1000 [00:00<00:00, 1588.04it/s]"
     ]
    },
    {
     "name": "stdout",
     "output_type": "stream",
     "text": [
      "CREATING THE DATAFRAME\n"
     ]
    },
    {
     "name": "stderr",
     "output_type": "stream",
     "text": [
      "100%|██████████| 1000/1000 [00:00<00:00, 1598.44it/s]\n",
      "  3%|▎         | 26/1000 [00:00<00:03, 253.84it/s]"
     ]
    },
    {
     "name": "stdout",
     "output_type": "stream",
     "text": [
      "POPULATING THE DATAFRAME\n"
     ]
    },
    {
     "name": "stderr",
     "output_type": "stream",
     "text": [
      "100%|██████████| 1000/1000 [00:03<00:00, 265.18it/s]\n",
      "100%|██████████| 1000/1000 [00:01<00:00, 644.98it/s]\n",
      " 15%|█▌        | 151/1000 [00:00<00:00, 1505.29it/s]"
     ]
    },
    {
     "name": "stdout",
     "output_type": "stream",
     "text": [
      "CREATING THE DATAFRAME\n"
     ]
    },
    {
     "name": "stderr",
     "output_type": "stream",
     "text": [
      "100%|██████████| 1000/1000 [00:00<00:00, 1549.41it/s]\n",
      "  2%|▎         | 25/1000 [00:00<00:03, 249.33it/s]"
     ]
    },
    {
     "name": "stdout",
     "output_type": "stream",
     "text": [
      "POPULATING THE DATAFRAME\n"
     ]
    },
    {
     "name": "stderr",
     "output_type": "stream",
     "text": [
      "100%|██████████| 1000/1000 [00:03<00:00, 267.17it/s]\n",
      "100%|██████████| 1000/1000 [00:01<00:00, 644.47it/s]\n",
      " 16%|█▋        | 163/1000 [00:00<00:00, 1625.33it/s]"
     ]
    },
    {
     "name": "stdout",
     "output_type": "stream",
     "text": [
      "CREATING THE DATAFRAME\n"
     ]
    },
    {
     "name": "stderr",
     "output_type": "stream",
     "text": [
      "100%|██████████| 1000/1000 [00:00<00:00, 1624.44it/s]\n",
      "  3%|▎         | 27/1000 [00:00<00:03, 261.04it/s]"
     ]
    },
    {
     "name": "stdout",
     "output_type": "stream",
     "text": [
      "POPULATING THE DATAFRAME\n"
     ]
    },
    {
     "name": "stderr",
     "output_type": "stream",
     "text": [
      "100%|██████████| 1000/1000 [00:03<00:00, 263.18it/s]\n",
      "100%|██████████| 1000/1000 [00:01<00:00, 634.25it/s]\n",
      " 16%|█▌        | 160/1000 [00:00<00:00, 1590.17it/s]"
     ]
    },
    {
     "name": "stdout",
     "output_type": "stream",
     "text": [
      "CREATING THE DATAFRAME\n"
     ]
    },
    {
     "name": "stderr",
     "output_type": "stream",
     "text": [
      "100%|██████████| 1000/1000 [00:00<00:00, 1490.04it/s]\n",
      "  2%|▎         | 25/1000 [00:00<00:03, 246.16it/s]"
     ]
    },
    {
     "name": "stdout",
     "output_type": "stream",
     "text": [
      "POPULATING THE DATAFRAME\n"
     ]
    },
    {
     "name": "stderr",
     "output_type": "stream",
     "text": [
      "100%|██████████| 1000/1000 [00:03<00:00, 265.75it/s]\n",
      "100%|██████████| 1000/1000 [00:01<00:00, 642.79it/s]\n",
      " 16%|█▌        | 159/1000 [00:00<00:00, 1575.82it/s]"
     ]
    },
    {
     "name": "stdout",
     "output_type": "stream",
     "text": [
      "CREATING THE DATAFRAME\n"
     ]
    },
    {
     "name": "stderr",
     "output_type": "stream",
     "text": [
      "100%|██████████| 1000/1000 [00:00<00:00, 1520.40it/s]\n",
      "  3%|▎         | 26/1000 [00:00<00:03, 259.05it/s]"
     ]
    },
    {
     "name": "stdout",
     "output_type": "stream",
     "text": [
      "POPULATING THE DATAFRAME\n"
     ]
    },
    {
     "name": "stderr",
     "output_type": "stream",
     "text": [
      "100%|██████████| 1000/1000 [00:03<00:00, 260.92it/s]\n",
      "100%|██████████| 1000/1000 [00:01<00:00, 645.38it/s]\n",
      " 14%|█▍        | 144/1000 [00:00<00:00, 1433.33it/s]"
     ]
    },
    {
     "name": "stdout",
     "output_type": "stream",
     "text": [
      "CREATING THE DATAFRAME\n"
     ]
    },
    {
     "name": "stderr",
     "output_type": "stream",
     "text": [
      "100%|██████████| 1000/1000 [00:00<00:00, 1537.01it/s]\n",
      "  3%|▎         | 27/1000 [00:00<00:03, 267.50it/s]"
     ]
    },
    {
     "name": "stdout",
     "output_type": "stream",
     "text": [
      "POPULATING THE DATAFRAME\n"
     ]
    },
    {
     "name": "stderr",
     "output_type": "stream",
     "text": [
      "100%|██████████| 1000/1000 [00:03<00:00, 265.16it/s]\n",
      "100%|██████████| 1000/1000 [00:01<00:00, 636.85it/s]\n",
      " 16%|█▌        | 160/1000 [00:00<00:00, 1590.77it/s]"
     ]
    },
    {
     "name": "stdout",
     "output_type": "stream",
     "text": [
      "CREATING THE DATAFRAME\n"
     ]
    },
    {
     "name": "stderr",
     "output_type": "stream",
     "text": [
      "100%|██████████| 1000/1000 [00:00<00:00, 1568.01it/s]\n",
      "  2%|▎         | 25/1000 [00:00<00:03, 246.03it/s]"
     ]
    },
    {
     "name": "stdout",
     "output_type": "stream",
     "text": [
      "POPULATING THE DATAFRAME\n"
     ]
    },
    {
     "name": "stderr",
     "output_type": "stream",
     "text": [
      "100%|██████████| 1000/1000 [00:03<00:00, 261.30it/s]\n",
      "100%|██████████| 1000/1000 [00:01<00:00, 639.92it/s]\n",
      " 17%|█▋        | 166/1000 [00:00<00:00, 1659.40it/s]"
     ]
    },
    {
     "name": "stdout",
     "output_type": "stream",
     "text": [
      "CREATING THE DATAFRAME\n"
     ]
    },
    {
     "name": "stderr",
     "output_type": "stream",
     "text": [
      "100%|██████████| 1000/1000 [00:00<00:00, 1598.42it/s]\n",
      "  3%|▎         | 26/1000 [00:00<00:03, 255.89it/s]"
     ]
    },
    {
     "name": "stdout",
     "output_type": "stream",
     "text": [
      "POPULATING THE DATAFRAME\n"
     ]
    },
    {
     "name": "stderr",
     "output_type": "stream",
     "text": [
      "100%|██████████| 1000/1000 [00:03<00:00, 262.60it/s]\n",
      "100%|██████████| 1000/1000 [00:01<00:00, 645.15it/s]\n",
      " 34%|███▎      | 159/474 [00:00<00:00, 1581.11it/s]"
     ]
    },
    {
     "name": "stdout",
     "output_type": "stream",
     "text": [
      "CREATING THE DATAFRAME\n"
     ]
    },
    {
     "name": "stderr",
     "output_type": "stream",
     "text": [
      "100%|██████████| 474/474 [00:00<00:00, 1596.83it/s]\n",
      "  5%|▌         | 25/474 [00:00<00:01, 247.61it/s]"
     ]
    },
    {
     "name": "stdout",
     "output_type": "stream",
     "text": [
      "POPULATING THE DATAFRAME\n"
     ]
    },
    {
     "name": "stderr",
     "output_type": "stream",
     "text": [
      "100%|██████████| 474/474 [00:01<00:00, 267.02it/s]\n",
      "100%|██████████| 474/474 [00:00<00:00, 642.34it/s]\n"
     ]
    },
    {
     "name": "stdout",
     "output_type": "stream",
     "text": [
      "EvaluatorHoldout: Processed 10474 (100.0%) in 1.13 min. Users per second: 154\n"
     ]
    },
    {
     "name": "stderr",
     "output_type": "stream",
     "text": [
      "[I 2023-12-06 00:59:56,520] Trial 20 finished with value: 0.03301545626206722 and parameters: {'n_estimators': 233, 'learning_rate': 0.0005174802084512318, 'booster': 'gbtree', 'reg_lambda': 8.942645680925706e-06, 'reg_alpha': 2.396999992044784e-07, 'max_depth': 1, 'eta': 0.07238010517669093, 'gamma': 0.8899260434155436, 'grow_policy': 'lossguide'}. Best is trial 15 with value: 0.18511997963210083.\n",
      " 15%|█▌        | 154/1000 [00:00<00:00, 1536.48it/s]"
     ]
    },
    {
     "name": "stdout",
     "output_type": "stream",
     "text": [
      "CREATING THE DATAFRAME\n"
     ]
    },
    {
     "name": "stderr",
     "output_type": "stream",
     "text": [
      "100%|██████████| 1000/1000 [00:00<00:00, 1600.72it/s]\n",
      "  3%|▎         | 27/1000 [00:00<00:03, 262.23it/s]"
     ]
    },
    {
     "name": "stdout",
     "output_type": "stream",
     "text": [
      "POPULATING THE DATAFRAME\n"
     ]
    },
    {
     "name": "stderr",
     "output_type": "stream",
     "text": [
      "100%|██████████| 1000/1000 [00:03<00:00, 257.90it/s]\n",
      "100%|██████████| 1000/1000 [00:01<00:00, 632.52it/s]\n",
      " 17%|█▋        | 168/1000 [00:00<00:00, 1672.16it/s]"
     ]
    },
    {
     "name": "stdout",
     "output_type": "stream",
     "text": [
      "CREATING THE DATAFRAME\n"
     ]
    },
    {
     "name": "stderr",
     "output_type": "stream",
     "text": [
      "100%|██████████| 1000/1000 [00:00<00:00, 1541.67it/s]\n",
      "  2%|▏         | 22/1000 [00:00<00:04, 218.45it/s]"
     ]
    },
    {
     "name": "stdout",
     "output_type": "stream",
     "text": [
      "POPULATING THE DATAFRAME\n"
     ]
    },
    {
     "name": "stderr",
     "output_type": "stream",
     "text": [
      " 58%|█████▊    | 578/1000 [00:02<00:01, 260.68it/s]"
     ]
    }
   ],
   "source": [
    "best_params = {\n",
    "    \n",
    "}\n",
    "\n",
    "study_name = \"XGB-study\"  # Unique identifier of the study.\n",
    "storage_name = \"sqlite:///db.db\"\n",
    "study = op.create_study(study_name=study_name, storage=storage_name, direction=\"maximize\",pruner=op.pruners.MedianPruner(n_warmup_steps=5), load_if_exists=True)\n",
    "#study.enqueue_trial(best_params)\n",
    "study.optimize(objective, n_trials=10)"
   ]
  },
  {
   "cell_type": "code",
   "execution_count": null,
   "outputs": [],
   "source": [],
   "metadata": {
    "collapsed": false
   },
   "id": "40ff8f62a1530c0d"
  },
  {
   "cell_type": "code",
   "execution_count": 16,
   "id": "1a0a3570fbcb348b",
   "metadata": {
    "ExecuteTime": {
     "end_time": "2023-11-25T23:51:23.574128634Z",
     "start_time": "2023-11-25T23:51:14.839295676Z"
    },
    "collapsed": false
   },
   "outputs": [
    {
     "name": "stdout",
     "output_type": "stream",
     "text": [
      "EvaluatorHoldout: Ignoring 2184 (17.3%) Users that have less than 1 test interactions\n",
      "EvaluatorHoldout: Ignoring 0 Users\n",
      "EvaluatorHoldout: Processed 10454 (100.0%) in 8.71 sec. Users per second: 1200\n"
     ]
    },
    {
     "data": {
      "text/plain": [
       "(       PRECISION PRECISION_RECALL_MIN_DEN   RECALL      MAP MAP_MIN_DEN  \\\n",
       " cutoff                                                                    \n",
       " 10      0.089028                 0.150759  0.12639  0.04558    0.076747   \n",
       " \n",
       "             MRR      NDCG        F1  HIT_RATE ARHR_ALL_HITS  ...  \\\n",
       " cutoff                                                       ...   \n",
       " 10      0.26035  0.140004  0.104469  0.493495      0.340601  ...   \n",
       " \n",
       "        COVERAGE_USER COVERAGE_USER_HIT USERS_IN_GT DIVERSITY_GINI  \\\n",
       " cutoff                                                              \n",
       " 10          0.827188          0.408213    0.827188       0.057399   \n",
       " \n",
       "        SHANNON_ENTROPY RATIO_DIVERSITY_HERFINDAHL RATIO_DIVERSITY_GINI  \\\n",
       " cutoff                                                                   \n",
       " 10           10.156523                   0.997471             0.164554   \n",
       " \n",
       "        RATIO_SHANNON_ENTROPY RATIO_AVERAGE_POPULARITY RATIO_NOVELTY  \n",
       " cutoff                                                               \n",
       " 10                  0.782377                 1.869101      0.285515  \n",
       " \n",
       " [1 rows x 27 columns],\n",
       " 'CUTOFF: 10 - PRECISION: 0.0890281, PRECISION_RECALL_MIN_DEN: 0.1507588, RECALL: 0.1263903, MAP: 0.0455802, MAP_MIN_DEN: 0.0767475, MRR: 0.2603500, NDCG: 0.1400042, F1: 0.1044692, HIT_RATE: 0.4934953, ARHR_ALL_HITS: 0.3406007, NOVELTY: 0.0050545, AVERAGE_POPULARITY: 0.2295758, DIVERSITY_MEAN_INTER_LIST: 0.9712031, DIVERSITY_HERFINDAHL: 0.9971110, COVERAGE_ITEM: 0.3221582, COVERAGE_ITEM_HIT: 0.0827558, ITEMS_IN_GT: 0.7992530, COVERAGE_USER: 0.8271878, COVERAGE_USER_HIT: 0.4082133, USERS_IN_GT: 0.8271878, DIVERSITY_GINI: 0.0573986, SHANNON_ENTROPY: 10.1565225, RATIO_DIVERSITY_HERFINDAHL: 0.9974715, RATIO_DIVERSITY_GINI: 0.1645540, RATIO_SHANNON_ENTROPY: 0.7823774, RATIO_AVERAGE_POPULARITY: 1.8691010, RATIO_NOVELTY: 0.2855147, \\n')"
      ]
     },
     "execution_count": 16,
     "metadata": {},
     "output_type": "execute_result"
    }
   ],
   "source": [
    "from Evaluation.Evaluator import EvaluatorHoldout\n",
    "evaluator_test = EvaluatorHoldout(URM_test, cutoff_list=[10], ignore_users=[])\n",
    "evaluator_test.evaluateRecommender(final)"
   ]
  },
  {
   "cell_type": "code",
   "execution_count": 17,
   "id": "d44f3917cd92eabc",
   "metadata": {
    "ExecuteTime": {
     "end_time": "2023-11-25T23:51:30.444442207Z",
     "start_time": "2023-11-25T23:51:23.575563489Z"
    },
    "collapsed": false
   },
   "outputs": [
    {
     "name": "stdout",
     "output_type": "stream",
     "text": [
      "EvaluatorHoldout: Processed 10454 (100.0%) in 6.85 sec. Users per second: 1526\n"
     ]
    },
    {
     "data": {
      "text/plain": [
       "(       PRECISION PRECISION_RECALL_MIN_DEN   RECALL      MAP MAP_MIN_DEN  \\\n",
       " cutoff                                                                    \n",
       " 10      0.079759                 0.137157  0.11639  0.03848    0.066675   \n",
       " \n",
       "              MRR      NDCG        F1  HIT_RATE ARHR_ALL_HITS  ...  \\\n",
       " cutoff                                                        ...   \n",
       " 10      0.234882  0.125152  0.094654  0.475703      0.298827  ...   \n",
       " \n",
       "        COVERAGE_USER COVERAGE_USER_HIT USERS_IN_GT DIVERSITY_GINI  \\\n",
       " cutoff                                                              \n",
       " 10          0.827188          0.393496    0.827188       0.050161   \n",
       " \n",
       "        SHANNON_ENTROPY RATIO_DIVERSITY_HERFINDAHL RATIO_DIVERSITY_GINI  \\\n",
       " cutoff                                                                   \n",
       " 10           10.020847                   0.997362             0.145638   \n",
       " \n",
       "        RATIO_SHANNON_ENTROPY RATIO_AVERAGE_POPULARITY RATIO_NOVELTY  \n",
       " cutoff                                                               \n",
       " 10                  0.772591                 1.981834       0.35289  \n",
       " \n",
       " [1 rows x 27 columns],\n",
       " 'CUTOFF: 10 - PRECISION: 0.0797589, PRECISION_RECALL_MIN_DEN: 0.1371573, RECALL: 0.1163901, MAP: 0.0384801, MAP_MIN_DEN: 0.0666754, MRR: 0.2348816, NDCG: 0.1251520, F1: 0.0946541, HIT_RATE: 0.4757031, ARHR_ALL_HITS: 0.2988275, NOVELTY: 0.0049935, AVERAGE_POPULARITY: 0.2402675, DIVERSITY_MEAN_INTER_LIST: 0.9701045, DIVERSITY_HERFINDAHL: 0.9970012, COVERAGE_ITEM: 0.2843578, COVERAGE_ITEM_HIT: 0.0734407, ITEMS_IN_GT: 0.7992530, COVERAGE_USER: 0.8271878, COVERAGE_USER_HIT: 0.3934958, USERS_IN_GT: 0.8271878, DIVERSITY_GINI: 0.0501611, SHANNON_ENTROPY: 10.0208467, RATIO_DIVERSITY_HERFINDAHL: 0.9973624, RATIO_DIVERSITY_GINI: 0.1456376, RATIO_SHANNON_ENTROPY: 0.7725906, RATIO_AVERAGE_POPULARITY: 1.9818339, RATIO_NOVELTY: 0.3528895, \\n')"
      ]
     },
     "execution_count": 17,
     "metadata": {},
     "output_type": "execute_result"
    }
   ],
   "source": [
    "#final.fit(alphas=[3,1.25])\n",
    "evaluator_test.evaluateRecommender(slim)"
   ]
  },
  {
   "cell_type": "code",
   "execution_count": null,
   "id": "5a67428de0ca1e4f",
   "metadata": {
    "collapsed": false
   },
   "outputs": [],
   "source": []
  }
 ],
 "metadata": {
  "kernelspec": {
   "display_name": "Python 3",
   "language": "python",
   "name": "python3"
  },
  "language_info": {
   "codemirror_mode": {
    "name": "ipython",
    "version": 2
   },
   "file_extension": ".py",
   "mimetype": "text/x-python",
   "name": "python",
   "nbconvert_exporter": "python",
   "pygments_lexer": "ipython2",
   "version": "2.7.6"
  }
 },
 "nbformat": 4,
 "nbformat_minor": 5
}
