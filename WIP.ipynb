{
 "cells": [
  {
   "cell_type": "markdown",
   "metadata": {
    "id": "m0kNUOh9M-xt"
   },
   "source": [
    "#### Let's take a look at the data"
   ]
  },
  {
   "cell_type": "code",
   "execution_count": 1,
   "metadata": {
    "id": "SAZnGv5cMeK6",
    "ExecuteTime": {
     "end_time": "2023-11-06T12:54:13.904358Z",
     "start_time": "2023-11-06T12:54:13.643391Z"
    }
   },
   "outputs": [],
   "source": [
    "import pandas as pd"
   ]
  },
  {
   "cell_type": "code",
   "execution_count": 2,
   "metadata": {
    "id": "_T3FGCVvMOzW",
    "ExecuteTime": {
     "end_time": "2023-11-06T12:54:14.659173Z",
     "start_time": "2023-11-06T12:54:13.910483Z"
    }
   },
   "outputs": [],
   "source": [
    "URM_path = \"data_train.csv\"\n",
    "URM_all_dataframe = pd.read_csv(filepath_or_buffer=URM_path,\n",
    "                                sep=\",\",\n",
    "                                header=0,\n",
    "                                dtype={0:int, 1:int, 2:int},\n",
    "                                engine='python')\n",
    "\n",
    "URM_all_dataframe.columns = [\"UserID\", \"ItemID\", \"Interaction\"]\n",
    "# Interaction 1 iff rating >= 4"
   ]
  },
  {
   "cell_type": "code",
   "execution_count": 3,
   "metadata": {
    "colab": {
     "base_uri": "https://localhost:8080/",
     "height": 359
    },
    "id": "JWDVBLuaM0Ld",
    "outputId": "999d982a-b26d-4884-dde8-babd5aad7372",
    "ExecuteTime": {
     "end_time": "2023-11-06T12:54:14.665189Z",
     "start_time": "2023-11-06T12:54:14.659715Z"
    }
   },
   "outputs": [
    {
     "data": {
      "text/plain": "   UserID  ItemID  Interaction\n0       1       7            1\n1       1      15            1\n2       1      16            1\n3       1     133            1\n4       1     161            1\n5       1     187            1\n6       1     205            1\n7       1     222            1\n8       1     237            1\n9       1     354            1",
      "text/html": "<div>\n<style scoped>\n    .dataframe tbody tr th:only-of-type {\n        vertical-align: middle;\n    }\n\n    .dataframe tbody tr th {\n        vertical-align: top;\n    }\n\n    .dataframe thead th {\n        text-align: right;\n    }\n</style>\n<table border=\"1\" class=\"dataframe\">\n  <thead>\n    <tr style=\"text-align: right;\">\n      <th></th>\n      <th>UserID</th>\n      <th>ItemID</th>\n      <th>Interaction</th>\n    </tr>\n  </thead>\n  <tbody>\n    <tr>\n      <th>0</th>\n      <td>1</td>\n      <td>7</td>\n      <td>1</td>\n    </tr>\n    <tr>\n      <th>1</th>\n      <td>1</td>\n      <td>15</td>\n      <td>1</td>\n    </tr>\n    <tr>\n      <th>2</th>\n      <td>1</td>\n      <td>16</td>\n      <td>1</td>\n    </tr>\n    <tr>\n      <th>3</th>\n      <td>1</td>\n      <td>133</td>\n      <td>1</td>\n    </tr>\n    <tr>\n      <th>4</th>\n      <td>1</td>\n      <td>161</td>\n      <td>1</td>\n    </tr>\n    <tr>\n      <th>5</th>\n      <td>1</td>\n      <td>187</td>\n      <td>1</td>\n    </tr>\n    <tr>\n      <th>6</th>\n      <td>1</td>\n      <td>205</td>\n      <td>1</td>\n    </tr>\n    <tr>\n      <th>7</th>\n      <td>1</td>\n      <td>222</td>\n      <td>1</td>\n    </tr>\n    <tr>\n      <th>8</th>\n      <td>1</td>\n      <td>237</td>\n      <td>1</td>\n    </tr>\n    <tr>\n      <th>9</th>\n      <td>1</td>\n      <td>354</td>\n      <td>1</td>\n    </tr>\n  </tbody>\n</table>\n</div>"
     },
     "execution_count": 3,
     "metadata": {},
     "output_type": "execute_result"
    }
   ],
   "source": [
    "URM_all_dataframe.head(10)"
   ]
  },
  {
   "cell_type": "code",
   "execution_count": 4,
   "metadata": {
    "colab": {
     "base_uri": "https://localhost:8080/"
    },
    "id": "JzaIvurcM7Ns",
    "outputId": "3fe9db7b-ae0f-4170-99d6-4d35136709da",
    "ExecuteTime": {
     "end_time": "2023-11-06T12:54:14.667689Z",
     "start_time": "2023-11-06T12:54:14.665339Z"
    }
   },
   "outputs": [
    {
     "name": "stdout",
     "output_type": "stream",
     "text": [
      "The number of interactions is 478730\n"
     ]
    }
   ],
   "source": [
    "print (\"The number of interactions is {}\".format(len(URM_all_dataframe)))"
   ]
  },
  {
   "cell_type": "markdown",
   "metadata": {
    "id": "g90kStl1M9wD"
   },
   "source": [
    "### Now we can extract the list of unique user id and item id and display some statistics"
   ]
  },
  {
   "cell_type": "code",
   "execution_count": 5,
   "metadata": {
    "id": "_NEd-UrLNT9t",
    "ExecuteTime": {
     "end_time": "2023-11-06T12:54:14.674844Z",
     "start_time": "2023-11-06T12:54:14.668465Z"
    }
   },
   "outputs": [],
   "source": [
    "userID_unique = URM_all_dataframe[\"UserID\"].unique()\n",
    "itemID_unique = URM_all_dataframe[\"ItemID\"].unique()"
   ]
  },
  {
   "cell_type": "code",
   "execution_count": 6,
   "metadata": {
    "colab": {
     "base_uri": "https://localhost:8080/"
    },
    "id": "tWHVToEaNUWB",
    "outputId": "052d4efa-28a6-48fb-e249-291e1e0bc53f",
    "ExecuteTime": {
     "end_time": "2023-11-06T12:54:14.679807Z",
     "start_time": "2023-11-06T12:54:14.676855Z"
    }
   },
   "outputs": [
    {
     "name": "stdout",
     "output_type": "stream",
     "text": [
      "Number of items\t 22222, Number of users\t 12638\n",
      "Max ID items\t 22347, Max Id users\t 13024\n"
     ]
    }
   ],
   "source": [
    "n_users = len(userID_unique)\n",
    "n_items = len(itemID_unique)\n",
    "n_interactions = len(URM_all_dataframe)\n",
    "\n",
    "print (\"Number of items\\t {}, Number of users\\t {}\".format(n_items, n_users))\n",
    "print (\"Max ID items\\t {}, Max Id users\\t {}\\n\".format(max(itemID_unique), max(userID_unique)))"
   ]
  },
  {
   "cell_type": "markdown",
   "metadata": {
    "id": "3E0qmzXzNir5"
   },
   "source": [
    "### See that the max ID of items and users is higher than the number of unique values -> empty profiles\n",
    "### We should remove empty indices, to do so we create a new mapping"
   ]
  },
  {
   "cell_type": "code",
   "execution_count": 7,
   "metadata": {
    "colab": {
     "base_uri": "https://localhost:8080/",
     "height": 359
    },
    "id": "vBjCjAADNiAj",
    "outputId": "3c8aad0d-dd49-4dce-efa7-712956e0a925",
    "ExecuteTime": {
     "end_time": "2023-11-06T12:54:14.710091Z",
     "start_time": "2023-11-06T12:54:14.679432Z"
    }
   },
   "outputs": [
    {
     "data": {
      "text/plain": "   UserID  ItemID  Interaction\n0       0       0            1\n1       0       1            1\n2       0       2            1\n3       0       3            1\n4       0       4            1\n5       0       5            1\n6       0       6            1\n7       0       7            1\n8       0       8            1\n9       0       9            1",
      "text/html": "<div>\n<style scoped>\n    .dataframe tbody tr th:only-of-type {\n        vertical-align: middle;\n    }\n\n    .dataframe tbody tr th {\n        vertical-align: top;\n    }\n\n    .dataframe thead th {\n        text-align: right;\n    }\n</style>\n<table border=\"1\" class=\"dataframe\">\n  <thead>\n    <tr style=\"text-align: right;\">\n      <th></th>\n      <th>UserID</th>\n      <th>ItemID</th>\n      <th>Interaction</th>\n    </tr>\n  </thead>\n  <tbody>\n    <tr>\n      <th>0</th>\n      <td>0</td>\n      <td>0</td>\n      <td>1</td>\n    </tr>\n    <tr>\n      <th>1</th>\n      <td>0</td>\n      <td>1</td>\n      <td>1</td>\n    </tr>\n    <tr>\n      <th>2</th>\n      <td>0</td>\n      <td>2</td>\n      <td>1</td>\n    </tr>\n    <tr>\n      <th>3</th>\n      <td>0</td>\n      <td>3</td>\n      <td>1</td>\n    </tr>\n    <tr>\n      <th>4</th>\n      <td>0</td>\n      <td>4</td>\n      <td>1</td>\n    </tr>\n    <tr>\n      <th>5</th>\n      <td>0</td>\n      <td>5</td>\n      <td>1</td>\n    </tr>\n    <tr>\n      <th>6</th>\n      <td>0</td>\n      <td>6</td>\n      <td>1</td>\n    </tr>\n    <tr>\n      <th>7</th>\n      <td>0</td>\n      <td>7</td>\n      <td>1</td>\n    </tr>\n    <tr>\n      <th>8</th>\n      <td>0</td>\n      <td>8</td>\n      <td>1</td>\n    </tr>\n    <tr>\n      <th>9</th>\n      <td>0</td>\n      <td>9</td>\n      <td>1</td>\n    </tr>\n  </tbody>\n</table>\n</div>"
     },
     "execution_count": 7,
     "metadata": {},
     "output_type": "execute_result"
    }
   ],
   "source": [
    "mapped_id, original_id = pd.factorize(URM_all_dataframe[\"UserID\"].unique())\n",
    "user_original_ID_to_index = pd.Series(mapped_id, index=original_id)\n",
    "\n",
    "mapped_id, original_id = pd.factorize(URM_all_dataframe[\"ItemID\"].unique())\n",
    "item_original_ID_to_index = pd.Series(mapped_id, index=original_id)\n",
    "\n",
    "URM_all_dataframe[\"UserID\"] = URM_all_dataframe[\"UserID\"].map(user_original_ID_to_index)\n",
    "URM_all_dataframe[\"ItemID\"] = URM_all_dataframe[\"ItemID\"].map(item_original_ID_to_index)\n",
    "URM_all_dataframe.head(10)"
   ]
  },
  {
   "cell_type": "code",
   "execution_count": 8,
   "metadata": {
    "colab": {
     "base_uri": "https://localhost:8080/"
    },
    "id": "Al7A6iUbN-bu",
    "outputId": "4e54eb45-cfbe-41a7-8e87-298205bd8c9d",
    "ExecuteTime": {
     "end_time": "2023-11-06T12:54:14.765747Z",
     "start_time": "2023-11-06T12:54:14.694463Z"
    }
   },
   "outputs": [
    {
     "name": "stdout",
     "output_type": "stream",
     "text": [
      "Number of items\t 22222, Number of users\t 12638\n",
      "Max ID items\t 22221, Max Id users\t 12637\n",
      "\n",
      "Average interactions per user 37.88\n",
      "Average interactions per item 21.54\n",
      "\n",
      "Sparsity 99.83 %\n"
     ]
    }
   ],
   "source": [
    "userID_unique = URM_all_dataframe[\"UserID\"].unique()\n",
    "itemID_unique = URM_all_dataframe[\"ItemID\"].unique()\n",
    "\n",
    "n_users = len(userID_unique)\n",
    "n_items = len(itemID_unique)\n",
    "n_interactions = len(URM_all_dataframe)\n",
    "\n",
    "print (\"Number of items\\t {}, Number of users\\t {}\".format(n_items, n_users))\n",
    "print (\"Max ID items\\t {}, Max Id users\\t {}\\n\".format(max(itemID_unique), max(userID_unique)))\n",
    "print (\"Average interactions per user {:.2f}\".format(n_interactions/n_users))\n",
    "print (\"Average interactions per item {:.2f}\\n\".format(n_interactions/n_items))\n",
    "\n",
    "print (\"Sparsity {:.2f} %\".format((1-float(n_interactions)/(n_items*n_users))*100))"
   ]
  },
  {
   "cell_type": "markdown",
   "metadata": {
    "id": "GcY83doBOQtJ"
   },
   "source": [
    "#### To store the data we use a sparse matrix. We build it as a COO matrix and then change its format\n",
    "\n",
    "#### The COO constructor expects (data, (row, column))"
   ]
  },
  {
   "cell_type": "code",
   "execution_count": 9,
   "metadata": {
    "colab": {
     "base_uri": "https://localhost:8080/"
    },
    "id": "zi-VCkPNOQLI",
    "outputId": "22672532-314a-459f-b5e9-504166be1311",
    "ExecuteTime": {
     "end_time": "2023-11-06T12:54:14.877954Z",
     "start_time": "2023-11-06T12:54:14.703071Z"
    }
   },
   "outputs": [
    {
     "data": {
      "text/plain": "<12638x22222 sparse matrix of type '<class 'numpy.int64'>'\n\twith 478730 stored elements in COOrdinate format>"
     },
     "execution_count": 9,
     "metadata": {},
     "output_type": "execute_result"
    }
   ],
   "source": [
    "import scipy.sparse as sps\n",
    "\n",
    "URM_all = sps.coo_matrix((URM_all_dataframe[\"Interaction\"].values,\n",
    "                          (URM_all_dataframe[\"UserID\"].values, URM_all_dataframe[\"ItemID\"].values)),\n",
    "                        shape = (n_users, n_items))\n",
    "\n",
    "URM_all"
   ]
  },
  {
   "cell_type": "code",
   "execution_count": 10,
   "metadata": {
    "colab": {
     "base_uri": "https://localhost:8080/"
    },
    "id": "rZL-LYRlOYaE",
    "outputId": "d4cd7c4c-b7fa-48e5-e113-d7e54cf77cda",
    "ExecuteTime": {
     "end_time": "2023-11-06T12:54:14.896481Z",
     "start_time": "2023-11-06T12:54:14.828438Z"
    }
   },
   "outputs": [
    {
     "data": {
      "text/plain": "<12638x22222 sparse matrix of type '<class 'numpy.int64'>'\n\twith 478730 stored elements in Compressed Sparse Row format>"
     },
     "execution_count": 10,
     "metadata": {},
     "output_type": "execute_result"
    }
   ],
   "source": [
    "URM_all.tocsr()"
   ]
  },
  {
   "cell_type": "markdown",
   "metadata": {
    "id": "O4I_3KK8ObXX"
   },
   "source": [
    "### We compute the item popularity as the number of interaction in each column\n",
    "\n",
    "### We can use the properties of sparse matrices in CSC format"
   ]
  },
  {
   "cell_type": "code",
   "execution_count": 11,
   "metadata": {
    "colab": {
     "base_uri": "https://localhost:8080/"
    },
    "id": "fw5vcOS-Oeoc",
    "outputId": "9c3919c0-f683-4569-e60d-4927da5b32b2",
    "ExecuteTime": {
     "end_time": "2023-11-06T12:54:14.947235Z",
     "start_time": "2023-11-06T12:54:14.853133Z"
    }
   },
   "outputs": [
    {
     "data": {
      "text/plain": "array([1431, 1007,  754, ...,    1,    1,    1], dtype=int32)"
     },
     "execution_count": 11,
     "metadata": {},
     "output_type": "execute_result"
    }
   ],
   "source": [
    "import numpy as np\n",
    "\n",
    "item_popularity = np.ediff1d(URM_all.tocsc().indptr)\n",
    "item_popularity"
   ]
  },
  {
   "cell_type": "code",
   "execution_count": 12,
   "metadata": {
    "colab": {
     "base_uri": "https://localhost:8080/"
    },
    "id": "ywgMiBnwOl0I",
    "outputId": "6e56820b-cc24-4b69-b406-6c21b61776f8",
    "ExecuteTime": {
     "end_time": "2023-11-06T12:54:14.947544Z",
     "start_time": "2023-11-06T12:54:14.860387Z"
    }
   },
   "outputs": [
    {
     "data": {
      "text/plain": "array([   1,    1,    1, ..., 1581, 1666, 1764], dtype=int32)"
     },
     "execution_count": 12,
     "metadata": {},
     "output_type": "execute_result"
    }
   ],
   "source": [
    "item_popularity = np.sort(item_popularity)\n",
    "item_popularity"
   ]
  },
  {
   "cell_type": "code",
   "execution_count": 13,
   "metadata": {
    "colab": {
     "base_uri": "https://localhost:8080/",
     "height": 449
    },
    "id": "3cnSe9wZOpVR",
    "outputId": "c552202a-c6c2-4979-b536-5d29923aa3a4",
    "ExecuteTime": {
     "end_time": "2023-11-06T12:54:15.115890Z",
     "start_time": "2023-11-06T12:54:14.866127Z"
    }
   },
   "outputs": [
    {
     "data": {
      "text/plain": "<Figure size 640x480 with 1 Axes>",
      "image/png": "[encoded data removed]"
     },
     "metadata": {},
     "output_type": "display_data"
    }
   ],
   "source": [
    "import matplotlib.pyplot as pyplot\n",
    "pyplot.plot(item_popularity, 'ro')\n",
    "pyplot.ylabel('Num Interactions ')\n",
    "pyplot.xlabel('Sorted Item')\n",
    "pyplot.show()"
   ]
  },
  {
   "cell_type": "code",
   "execution_count": 14,
   "metadata": {
    "colab": {
     "base_uri": "https://localhost:8080/"
    },
    "id": "gfT6FaVsO2Ft",
    "outputId": "eb72c79f-98d5-46cf-e2f3-b0cfcb67e594",
    "ExecuteTime": {
     "end_time": "2023-11-06T12:54:15.120548Z",
     "start_time": "2023-11-06T12:54:15.118909Z"
    }
   },
   "outputs": [
    {
     "name": "stdout",
     "output_type": "stream",
     "text": [
      "Average per-item interactions over the whole dataset 21.54\n",
      "Average per-item interactions for the top 10% popular items 122.73\n",
      "Average per-item interactions for the least 10% popular items 2.35\n",
      "Average per-item interactions for the median 10% popular items 8.37\n"
     ]
    }
   ],
   "source": [
    "ten_percent = int(n_items/10)\n",
    "\n",
    "print(\"Average per-item interactions over the whole dataset {:.2f}\".\n",
    "      format(item_popularity.mean()))\n",
    "\n",
    "print(\"Average per-item interactions for the top 10% popular items {:.2f}\".\n",
    "      format(item_popularity[-ten_percent:].mean()))\n",
    "\n",
    "print(\"Average per-item interactions for the least 10% popular items {:.2f}\".\n",
    "      format(item_popularity[:ten_percent].mean()))\n",
    "\n",
    "print(\"Average per-item interactions for the median 10% popular items {:.2f}\".\n",
    "      format(item_popularity[int(n_items*0.45):int(n_items*0.55)].mean()))"
   ]
  },
  {
   "cell_type": "code",
   "execution_count": 15,
   "metadata": {
    "colab": {
     "base_uri": "https://localhost:8080/"
    },
    "id": "5_wU2sqXPGxS",
    "outputId": "776ac60d-abe4-4df4-f10f-ca16dce49b65",
    "ExecuteTime": {
     "end_time": "2023-11-06T12:54:15.122895Z",
     "start_time": "2023-11-06T12:54:15.121438Z"
    }
   },
   "outputs": [
    {
     "name": "stdout",
     "output_type": "stream",
     "text": [
      "Number of items with zero interactions 0\n"
     ]
    }
   ],
   "source": [
    "print(\"Number of items with zero interactions {}\".\n",
    "      format(np.sum(item_popularity==0)))"
   ]
  },
  {
   "cell_type": "markdown",
   "metadata": {
    "id": "DujN_x75PK_Q"
   },
   "source": [
    "### We compute the user activity (profile length) as the number of interaction in each row\n",
    "\n",
    "### We can use the properties of sparse matrices in CSR format"
   ]
  },
  {
   "cell_type": "code",
   "execution_count": 16,
   "metadata": {
    "colab": {
     "base_uri": "https://localhost:8080/",
     "height": 449
    },
    "id": "KH5mS0r9PLiT",
    "outputId": "56051b48-6d81-4ca0-c011-b80c63fa2ead",
    "ExecuteTime": {
     "end_time": "2023-11-06T12:54:15.193692Z",
     "start_time": "2023-11-06T12:54:15.124015Z"
    }
   },
   "outputs": [
    {
     "data": {
      "text/plain": "<Figure size 640x480 with 1 Axes>",
      "image/png": "[encoded data removed]"
     },
     "metadata": {},
     "output_type": "display_data"
    }
   ],
   "source": [
    "user_activity = np.ediff1d(URM_all.tocsr().indptr)\n",
    "user_activity = np.sort(user_activity)\n",
    "\n",
    "\n",
    "pyplot.plot(user_activity, 'ro')\n",
    "pyplot.ylabel('Num Interactions ')\n",
    "pyplot.xlabel('Sorted User')\n",
    "pyplot.show()"
   ]
  },
  {
   "cell_type": "markdown",
   "metadata": {
    "id": "r0o3aaATPVmi"
   },
   "source": [
    "In order to evaluate our recommender we have to define:\n",
    "\n",
    "A splitting of the data in URM_train and URM_test\n",
    "An evaluation metric\n",
    "A functon computing the evaluation for each user\n",
    "The splitting of the data is very important to ensure your algorithm is evaluated in a realistic scenario by using test it has never seen. We create two splits:\n",
    "\n",
    "- Train data: we will use this to train our model\n",
    "\n",
    "- Test data: we will use this to evaluate our model"
   ]
  },
  {
   "cell_type": "code",
   "execution_count": 17,
   "metadata": {
    "colab": {
     "base_uri": "https://localhost:8080/"
    },
    "id": "woS2eFjePqS4",
    "outputId": "663c83ef-37da-4556-ee14-4d44f3467ea4",
    "ExecuteTime": {
     "end_time": "2023-11-06T12:54:15.208074Z",
     "start_time": "2023-11-06T12:54:15.193922Z"
    }
   },
   "outputs": [
    {
     "data": {
      "text/plain": "array([ True,  True,  True, ...,  True,  True,  True])"
     },
     "execution_count": 17,
     "metadata": {},
     "output_type": "execute_result"
    }
   ],
   "source": [
    "train_test_split = 0.80\n",
    "\n",
    "n_interactions = URM_all.nnz\n",
    "\n",
    "\n",
    "train_mask = np.random.choice([True,False], n_interactions, p=[train_test_split, 1-train_test_split])\n",
    "train_mask"
   ]
  },
  {
   "cell_type": "code",
   "execution_count": 18,
   "metadata": {
    "colab": {
     "base_uri": "https://localhost:8080/"
    },
    "id": "OwJg-RboPuNR",
    "outputId": "e0e00f24-ae29-4ae2-8144-795cfaee2d67",
    "ExecuteTime": {
     "end_time": "2023-11-06T12:54:15.243354Z",
     "start_time": "2023-11-06T12:54:15.208746Z"
    }
   },
   "outputs": [
    {
     "data": {
      "text/plain": "<12638x22222 sparse matrix of type '<class 'numpy.int64'>'\n\twith 383090 stored elements in Compressed Sparse Row format>"
     },
     "execution_count": 18,
     "metadata": {},
     "output_type": "execute_result"
    }
   ],
   "source": [
    "URM_train = sps.csr_matrix((URM_all.data[train_mask],\n",
    "                            (URM_all.row[train_mask], URM_all.col[train_mask])))\n",
    "\n",
    "URM_train"
   ]
  },
  {
   "cell_type": "code",
   "execution_count": 19,
   "metadata": {
    "colab": {
     "base_uri": "https://localhost:8080/"
    },
    "id": "61LZN72jPwvx",
    "outputId": "a0ae7428-be0a-43fd-f3fa-d5debc080bfe",
    "ExecuteTime": {
     "end_time": "2023-11-06T12:54:15.243728Z",
     "start_time": "2023-11-06T12:54:15.228204Z"
    }
   },
   "outputs": [
    {
     "data": {
      "text/plain": "<12638x22218 sparse matrix of type '<class 'numpy.int64'>'\n\twith 95640 stored elements in Compressed Sparse Row format>"
     },
     "execution_count": 19,
     "metadata": {},
     "output_type": "execute_result"
    }
   ],
   "source": [
    "test_mask = np.logical_not(train_mask)\n",
    "\n",
    "URM_test = sps.csr_matrix((URM_all.data[test_mask],\n",
    "                            (URM_all.row[test_mask], URM_all.col[test_mask])))\n",
    "\n",
    "URM_test"
   ]
  },
  {
   "cell_type": "markdown",
   "metadata": {
    "id": "JG7CwEuJRQqP"
   },
   "source": [
    "#### Let's build the recommender"
   ]
  },
  {
   "cell_type": "code",
   "execution_count": 20,
   "outputs": [
    {
     "name": "stdout",
     "output_type": "stream",
     "text": [
      "Warning: 230 (1.82 %) of 12638 users have no train items\n",
      "Warning: 2196 (17.38 %) of 12638 users have no sampled items\n",
      "Warning: 469 (3.71 %) of 12638 users have no train items\n",
      "Warning: 2570 (20.34 %) of 12638 users have no sampled items\n",
      "EvaluatorHoldout: Ignoring 2570 (20.3%) Users that have less than 1 test interactions\n",
      "EvaluatorHoldout: Ignoring 2196 (17.4%) Users that have less than 1 test interactions\n"
     ]
    }
   ],
   "source": [
    "from Evaluation.Evaluator import EvaluatorHoldout\n",
    "from Data_manager.split_functions.split_train_validation_random_holdout import split_train_in_two_percentage_global_sample\n",
    "\n",
    "URM_train, URM_test = split_train_in_two_percentage_global_sample(URM_all, train_percentage = 0.80)\n",
    "URM_train, URM_validation = split_train_in_two_percentage_global_sample(URM_train, train_percentage = 0.80)\n",
    "\n",
    "evaluator_validation = EvaluatorHoldout(URM_validation, cutoff_list=[10])\n",
    "evaluator_test = EvaluatorHoldout(URM_test, cutoff_list=[10]) "
   ],
   "metadata": {
    "collapsed": false,
    "ExecuteTime": {
     "end_time": "2023-11-06T12:54:15.815594Z",
     "start_time": "2023-11-06T12:54:15.239241Z"
    }
   }
  },
  {
   "cell_type": "code",
   "execution_count": 21,
   "outputs": [
    {
     "name": "stdout",
     "output_type": "stream",
     "text": [
      "Similarity column 22222 (100.0%), 4868.89 column/sec. Elapsed time 4.56 sec\n"
     ]
    },
    {
     "data": {
      "text/plain": "<22222x22222 sparse matrix of type '<class 'numpy.float32'>'\n\twith 2108035 stored elements in Compressed Sparse Row format>"
     },
     "execution_count": 21,
     "metadata": {},
     "output_type": "execute_result"
    }
   ],
   "source": [
    "from Recommenders.Similarity.Compute_Similarity_Python import Compute_Similarity_Python\n",
    "\n",
    "similarity_object = Compute_Similarity_Python(URM_train, shrink=100.0, \n",
    "                                          topK=100,\n",
    "                                          normalize=True, \n",
    "                                          similarity = \"cosine\")\n",
    "\n",
    "W_sparse = similarity_object.compute_similarity()\n",
    "W_sparse"
   ],
   "metadata": {
    "collapsed": false,
    "ExecuteTime": {
     "end_time": "2023-11-06T12:54:20.398187Z",
     "start_time": "2023-11-06T12:54:15.816185Z"
    }
   }
  },
  {
   "cell_type": "code",
   "execution_count": 49,
   "metadata": {
    "ExecuteTime": {
     "end_time": "2023-11-06T13:10:31.348977Z",
     "start_time": "2023-11-06T13:10:30.201820Z"
    }
   },
   "outputs": [
    {
     "name": "stdout",
     "output_type": "stream",
     "text": [
      "PureSVDRecommender: URM Detected 469 ( 3.7%) users with no interactions.\n",
      "PureSVDRecommender: URM Detected 331 ( 1.5%) items with no interactions.\n",
      "PureSVDRecommender: Computing SVD decomposition...\n",
      "PureSVDRecommender: Computing SVD decomposition... done in 0.98 sec\n",
      "TopPopRecommender: URM Detected 469 ( 3.7%) users with no interactions.\n",
      "TopPopRecommender: URM Detected 331 ( 1.5%) items with no interactions.\n"
     ]
    }
   ],
   "source": [
    "from Recommenders.MatrixFactorization.PureSVDRecommender import PureSVDRecommender\n",
    "from Recommenders.NonPersonalizedRecommender import TopPop\n",
    "\n",
    "recommender = PureSVDRecommender(URM_train)\n",
    "recommender.fit()\n",
    "\n",
    "top_recommender = TopPop(URM_train)\n",
    "top_recommender.fit()"
   ]
  },
  {
   "cell_type": "code",
   "execution_count": 50,
   "outputs": [
    {
     "name": "stdout",
     "output_type": "stream",
     "text": [
      "EvaluatorHoldout: Processed 10442 (100.0%) in 3.48 sec. Users per second: 3002\n"
     ]
    },
    {
     "data": {
      "text/plain": "(       PRECISION PRECISION_RECALL_MIN_DEN   RECALL       MAP MAP_MIN_DEN  \\\n cutoff                                                                     \n 10       0.02873                 0.053143  0.04577  0.011384    0.021019   \n \n              MRR      NDCG        F1  HIT_RATE ARHR_ALL_HITS  ...  \\\n cutoff                                                        ...   \n 10      0.091625  0.044823  0.035301  0.232331      0.102071  ...   \n \n        COVERAGE_USER COVERAGE_USER_HIT USERS_IN_GT DIVERSITY_GINI  \\\n cutoff                                                              \n 10          0.826238          0.191961    0.826238       0.000536   \n \n        SHANNON_ENTROPY RATIO_DIVERSITY_HERFINDAHL RATIO_DIVERSITY_GINI  \\\n cutoff                                                                   \n 10             3.60392                   0.913235             0.001557   \n \n        RATIO_SHANNON_ENTROPY RATIO_AVERAGE_POPULARITY RATIO_NOVELTY  \n cutoff                                                               \n 10                  0.277913                 6.067516      0.272131  \n \n [1 rows x 27 columns],\n 'CUTOFF: 10 - PRECISION: 0.0287301, PRECISION_RECALL_MIN_DEN: 0.0531428, RECALL: 0.0457705, MAP: 0.0113840, MAP_MIN_DEN: 0.0210186, MRR: 0.0916249, NDCG: 0.0448232, F1: 0.0353015, HIT_RATE: 0.2323310, ARHR_ALL_HITS: 0.1020706, NOVELTY: 0.0038499, AVERAGE_POPULARITY: 0.7378517, DIVERSITY_MEAN_INTER_LIST: 0.1290408, DIVERSITY_HERFINDAHL: 0.9129028, COVERAGE_ITEM: 0.0009000, COVERAGE_ITEM_HIT: 0.0008550, ITEMS_IN_GT: 0.8033480, COVERAGE_USER: 0.8262383, COVERAGE_USER_HIT: 0.1919608, USERS_IN_GT: 0.8262383, DIVERSITY_GINI: 0.0005361, SHANNON_ENTROPY: 3.6039205, RATIO_DIVERSITY_HERFINDAHL: 0.9132346, RATIO_DIVERSITY_GINI: 0.0015572, RATIO_SHANNON_ENTROPY: 0.2779131, RATIO_AVERAGE_POPULARITY: 6.0675160, RATIO_NOVELTY: 0.2721314, \\n')"
     },
     "execution_count": 50,
     "metadata": {},
     "output_type": "execute_result"
    }
   ],
   "source": [
    "evaluator_test.evaluateRecommender(top_recommender)"
   ],
   "metadata": {
    "collapsed": false,
    "ExecuteTime": {
     "end_time": "2023-11-06T13:10:38.549796Z",
     "start_time": "2023-11-06T13:10:35.061970Z"
    }
   }
  },
  {
   "cell_type": "code",
   "execution_count": 24,
   "outputs": [
    {
     "name": "stdout",
     "output_type": "stream",
     "text": [
      "PureSVDRecommender: URM Detected 469 ( 3.7%) users with no interactions.\n",
      "PureSVDRecommender: URM Detected 331 ( 1.5%) items with no interactions.\n",
      "PureSVDRecommender: Computing SVD decomposition...\n",
      "PureSVDRecommender: Computing SVD decomposition... done in 0.41 sec\n",
      "EvaluatorHoldout: Processed 10068 (100.0%) in 4.47 sec. Users per second: 2250\n",
      "PureSVDRecommender: URM Detected 469 ( 3.7%) users with no interactions.\n",
      "PureSVDRecommender: URM Detected 331 ( 1.5%) items with no interactions.\n",
      "PureSVDRecommender: Computing SVD decomposition...\n",
      "PureSVDRecommender: Computing SVD decomposition... done in 0.73 sec\n",
      "EvaluatorHoldout: Processed 10068 (100.0%) in 4.32 sec. Users per second: 2328\n",
      "PureSVDRecommender: URM Detected 469 ( 3.7%) users with no interactions.\n",
      "PureSVDRecommender: URM Detected 331 ( 1.5%) items with no interactions.\n",
      "PureSVDRecommender: Computing SVD decomposition...\n",
      "PureSVDRecommender: Computing SVD decomposition... done in 1.00 sec\n",
      "EvaluatorHoldout: Processed 10068 (100.0%) in 4.30 sec. Users per second: 2341\n",
      "PureSVDRecommender: URM Detected 469 ( 3.7%) users with no interactions.\n",
      "PureSVDRecommender: URM Detected 331 ( 1.5%) items with no interactions.\n",
      "PureSVDRecommender: Computing SVD decomposition...\n",
      "PureSVDRecommender: Computing SVD decomposition... done in 1.08 sec\n",
      "EvaluatorHoldout: Processed 10068 (100.0%) in 4.13 sec. Users per second: 2436\n",
      "PureSVDRecommender: URM Detected 469 ( 3.7%) users with no interactions.\n",
      "PureSVDRecommender: URM Detected 331 ( 1.5%) items with no interactions.\n",
      "PureSVDRecommender: Computing SVD decomposition...\n",
      "PureSVDRecommender: Computing SVD decomposition... done in 0.98 sec\n",
      "EvaluatorHoldout: Processed 10068 (100.0%) in 4.12 sec. Users per second: 2442\n",
      "PureSVDRecommender: URM Detected 469 ( 3.7%) users with no interactions.\n",
      "PureSVDRecommender: URM Detected 331 ( 1.5%) items with no interactions.\n",
      "PureSVDRecommender: Computing SVD decomposition...\n",
      "PureSVDRecommender: Computing SVD decomposition... done in 1.27 sec\n",
      "EvaluatorHoldout: Processed 10068 (100.0%) in 4.50 sec. Users per second: 2239\n"
     ]
    },
    {
     "data": {
      "text/plain": "<Figure size 640x480 with 1 Axes>",
      "image/png": "[encoded data removed]"
     },
     "metadata": {},
     "output_type": "display_data"
    }
   ],
   "source": [
    "x_tick = [50, 75, 100, 125, 150, 200]\n",
    "MAP_per_factors = []\n",
    "\n",
    "for factor in x_tick:\n",
    "    \n",
    "    recommender = PureSVDRecommender(URM_train)\n",
    "    recommender.fit(num_factors=factor)\n",
    "    \n",
    "    result_df, _ = evaluator_validation.evaluateRecommender(recommender)\n",
    "    \n",
    "    MAP_per_factors.append(result_df.loc[10][\"MAP\"])\n",
    "\n",
    "pyplot.plot(x_tick, MAP_per_factors)\n",
    "pyplot.ylabel('MAP')\n",
    "pyplot.xlabel('factors')\n",
    "pyplot.show()"
   ],
   "metadata": {
    "collapsed": false,
    "ExecuteTime": {
     "end_time": "2023-11-06T12:54:56.730578Z",
     "start_time": "2023-11-06T12:54:25.141509Z"
    }
   }
  },
  {
   "cell_type": "code",
   "execution_count": 25,
   "outputs": [
    {
     "name": "stdout",
     "output_type": "stream",
     "text": [
      "PureSVDRecommender: Computing SVD decomposition...\n",
      "PureSVDRecommender: Computing SVD decomposition... done in 0.66 sec\n",
      "EvaluatorHoldout: Processed 10442 (100.0%) in 4.67 sec. Users per second: 2237\n"
     ]
    },
    {
     "data": {
      "text/plain": "(       PRECISION PRECISION_RECALL_MIN_DEN    RECALL       MAP MAP_MIN_DEN  \\\n cutoff                                                                      \n 10      0.050718                 0.088969  0.075073  0.023871    0.042103   \n \n              MRR      NDCG        F1  HIT_RATE ARHR_ALL_HITS  ...  \\\n cutoff                                                        ...   \n 10      0.164656  0.081606  0.060538  0.346868      0.197352  ...   \n \n        COVERAGE_USER COVERAGE_USER_HIT USERS_IN_GT DIVERSITY_GINI  \\\n cutoff                                                              \n 10          0.826238          0.286596    0.826238       0.007284   \n \n        SHANNON_ENTROPY RATIO_DIVERSITY_HERFINDAHL RATIO_DIVERSITY_GINI  \\\n cutoff                                                                   \n 10            7.761488                   0.994219             0.021157   \n \n        RATIO_SHANNON_ENTROPY RATIO_AVERAGE_POPULARITY RATIO_NOVELTY  \n cutoff                                                               \n 10                   0.59852                  2.27081      0.324194  \n \n [1 rows x 27 columns],\n 'CUTOFF: 10 - PRECISION: 0.0507183, PRECISION_RECALL_MIN_DEN: 0.0889690, RECALL: 0.0750725, MAP: 0.0238713, MAP_MIN_DEN: 0.0421033, MRR: 0.1646558, NDCG: 0.0816064, F1: 0.0605378, HIT_RATE: 0.3468684, ARHR_ALL_HITS: 0.1973522, NOVELTY: 0.0045865, AVERAGE_POPULARITY: 0.2761461, DIVERSITY_MEAN_INTER_LIST: 0.9386720, DIVERSITY_HERFINDAHL: 0.9938582, COVERAGE_ITEM: 0.0237152, COVERAGE_ITEM_HIT: 0.0156602, ITEMS_IN_GT: 0.8033480, COVERAGE_USER: 0.8262383, COVERAGE_USER_HIT: 0.2865960, USERS_IN_GT: 0.8262383, DIVERSITY_GINI: 0.0072839, SHANNON_ENTROPY: 7.7614879, RATIO_DIVERSITY_HERFINDAHL: 0.9942194, RATIO_DIVERSITY_GINI: 0.0211572, RATIO_SHANNON_ENTROPY: 0.5985203, RATIO_AVERAGE_POPULARITY: 2.2708102, RATIO_NOVELTY: 0.3241945, \\n')"
     },
     "execution_count": 25,
     "metadata": {},
     "output_type": "execute_result"
    }
   ],
   "source": [
    "recommender.fit(num_factors=50)\n",
    "evaluator_test.evaluateRecommender(recommender)"
   ],
   "metadata": {
    "collapsed": false,
    "ExecuteTime": {
     "end_time": "2023-11-06T12:55:02.143475Z",
     "start_time": "2023-11-06T12:54:56.732830Z"
    }
   }
  },
  {
   "cell_type": "code",
   "execution_count": 26,
   "outputs": [
    {
     "name": "stdout",
     "output_type": "stream",
     "text": [
      "Unable to load Cython Compute_Similarity, reverting to Python\n",
      "Similarity column 22222 (100.0%), 4731.85 column/sec. Elapsed time 4.70 sec\n"
     ]
    }
   ],
   "source": [
    "from Recommenders.KNN.ItemKNNCFRecommender import ItemKNNCFRecommender \n",
    "# retrain with full dset\n",
    "\n",
    "recommender = ItemKNNCFRecommender(URM_all)\n",
    "recommender.fit(shrink=50.0, topK=10)"
   ],
   "metadata": {
    "collapsed": false,
    "ExecuteTime": {
     "end_time": "2023-11-06T12:55:06.878639Z",
     "start_time": "2023-11-06T12:55:02.145358Z"
    }
   }
  },
  {
   "cell_type": "code",
   "execution_count": 27,
   "outputs": [],
   "source": [
    "import pandas as pd\n",
    "UserID_path = \"data_target_users_test.csv\"\n",
    "URM_all_submission_dataframe = pd.read_csv(filepath_or_buffer=UserID_path, \n",
    "                                sep=\",\", \n",
    "                                # header=None, \n",
    "                                dtype={0:int},\n",
    "                                engine='python')\n",
    "\n",
    "URM_all_submission_dataframe.columns = [\"UserID\"]"
   ],
   "metadata": {
    "collapsed": false,
    "ExecuteTime": {
     "end_time": "2023-11-06T12:55:06.891086Z",
     "start_time": "2023-11-06T12:55:06.878983Z"
    }
   }
  },
  {
   "cell_type": "code",
   "execution_count": 28,
   "outputs": [],
   "source": [
    "URM_all_submission_dataframe[\"UserIDMapped\"] = URM_all_submission_dataframe[\"UserID\"].map(user_original_ID_to_index)"
   ],
   "metadata": {
    "collapsed": false,
    "ExecuteTime": {
     "end_time": "2023-11-06T12:55:06.895877Z",
     "start_time": "2023-11-06T12:55:06.891687Z"
    }
   }
  },
  {
   "cell_type": "code",
   "execution_count": 41,
   "outputs": [],
   "source": [
    "# Assuming you have a DataFrame URM_all_submission_dataframe with 'UserIDMapped' and 'item_list' columns\n",
    "\n",
    "# First, create a mask for non-null 'UserIDMapped' values\n",
    "mask = ~URM_all_submission_dataframe['UserIDMapped'].isna()\n",
    "\n",
    "URM_all_submission_dataframe['item_list'] = [top_recommender.recommend(0, items_to_compute=10, remove_seen_flag = False)]*len(URM_all_submission_dataframe)\n",
    "test = top_recommender.recommend(0, cutoff=10, remove_seen_flag = False)\n",
    "# Use the mask to make recommendations for non-null 'UserIDMapped'\n",
    "URM_all_submission_dataframe.loc[mask, 'item_list'] = URM_all_submission_dataframe.loc[mask, 'UserIDMapped'].apply(lambda x: recommender.recommend(int(x), cutff=10))"
   ],
   "metadata": {
    "collapsed": false,
    "ExecuteTime": {
     "end_time": "2023-11-06T13:06:40.621563Z",
     "start_time": "2023-11-06T13:06:40.602381Z"
    }
   }
  },
  {
   "cell_type": "code",
   "execution_count": 37,
   "outputs": [],
   "source": [
    "item_index_to_original_id = item_original_ID_to_index.reset_index().set_index(0).to_numpy().reshape(-1)\n",
    "URM_all_submission_dataframe['item_list'] = URM_all_submission_dataframe['item_list'].apply(lambda item_indices: [item_index_to_original_id[index] for index in item_indices])"
   ],
   "metadata": {
    "collapsed": false,
    "ExecuteTime": {
     "end_time": "2023-11-06T13:05:21.302563Z",
     "start_time": "2023-11-06T13:05:21.290808Z"
    }
   }
  },
  {
   "cell_type": "code",
   "execution_count": 40,
   "outputs": [
    {
     "data": {
      "text/plain": "    UserID  UserIDMapped item_list\n0        1           0.0      [10]\n1        2           1.0      [10]\n2        3           2.0      [10]\n3        4           3.0      [10]\n4        5           4.0      [10]\n5        6           5.0      [10]\n6        8           7.0      [10]\n7        9           8.0      [10]\n8       10           9.0      [10]\n9       11          10.0      [10]\n10      12          11.0      [10]\n11      13          12.0      [10]\n12      14          13.0      [10]\n13      15          14.0      [10]\n14      16          15.0      [10]\n15      17          16.0      [10]\n16      18          17.0      [10]\n17      19          18.0      [10]\n18      20          19.0      [10]\n19      21          20.0      [10]\n20      23          21.0      [10]\n21      24          22.0      [10]\n22      25          23.0      [10]\n23      26          24.0      [10]\n24      28          26.0      [10]\n25      29          27.0      [10]\n26      30          28.0      [10]\n27      32          30.0      [10]\n28      33          31.0      [10]\n29      34          32.0      [10]\n30      35          33.0      [10]\n31      36          34.0      [10]\n32      38          36.0      [10]\n33      39          37.0      [10]\n34      40          38.0      [10]\n35      41          39.0      [10]\n36      42          40.0      [10]\n37      43          41.0      [10]\n38      44          42.0      [10]\n39      45          43.0      [10]\n40      46          44.0      [10]\n41      47          45.0      [10]\n42      48          46.0      [10]\n43      49          47.0      [10]\n44      50          48.0      [10]\n45      51          49.0      [10]\n46      52          50.0      [10]\n47      53          51.0      [10]\n48      54          52.0      [10]\n49      55          53.0      [10]",
      "text/html": "<div>\n<style scoped>\n    .dataframe tbody tr th:only-of-type {\n        vertical-align: middle;\n    }\n\n    .dataframe tbody tr th {\n        vertical-align: top;\n    }\n\n    .dataframe thead th {\n        text-align: right;\n    }\n</style>\n<table border=\"1\" class=\"dataframe\">\n  <thead>\n    <tr style=\"text-align: right;\">\n      <th></th>\n      <th>UserID</th>\n      <th>UserIDMapped</th>\n      <th>item_list</th>\n    </tr>\n  </thead>\n  <tbody>\n    <tr>\n      <th>0</th>\n      <td>1</td>\n      <td>0.0</td>\n      <td>[10]</td>\n    </tr>\n    <tr>\n      <th>1</th>\n      <td>2</td>\n      <td>1.0</td>\n      <td>[10]</td>\n    </tr>\n    <tr>\n      <th>2</th>\n      <td>3</td>\n      <td>2.0</td>\n      <td>[10]</td>\n    </tr>\n    <tr>\n      <th>3</th>\n      <td>4</td>\n      <td>3.0</td>\n      <td>[10]</td>\n    </tr>\n    <tr>\n      <th>4</th>\n      <td>5</td>\n      <td>4.0</td>\n      <td>[10]</td>\n    </tr>\n    <tr>\n      <th>5</th>\n      <td>6</td>\n      <td>5.0</td>\n      <td>[10]</td>\n    </tr>\n    <tr>\n      <th>6</th>\n      <td>8</td>\n      <td>7.0</td>\n      <td>[10]</td>\n    </tr>\n    <tr>\n      <th>7</th>\n      <td>9</td>\n      <td>8.0</td>\n      <td>[10]</td>\n    </tr>\n    <tr>\n      <th>8</th>\n      <td>10</td>\n      <td>9.0</td>\n      <td>[10]</td>\n    </tr>\n    <tr>\n      <th>9</th>\n      <td>11</td>\n      <td>10.0</td>\n      <td>[10]</td>\n    </tr>\n    <tr>\n      <th>10</th>\n      <td>12</td>\n      <td>11.0</td>\n      <td>[10]</td>\n    </tr>\n    <tr>\n      <th>11</th>\n      <td>13</td>\n      <td>12.0</td>\n      <td>[10]</td>\n    </tr>\n    <tr>\n      <th>12</th>\n      <td>14</td>\n      <td>13.0</td>\n      <td>[10]</td>\n    </tr>\n    <tr>\n      <th>13</th>\n      <td>15</td>\n      <td>14.0</td>\n      <td>[10]</td>\n    </tr>\n    <tr>\n      <th>14</th>\n      <td>16</td>\n      <td>15.0</td>\n      <td>[10]</td>\n    </tr>\n    <tr>\n      <th>15</th>\n      <td>17</td>\n      <td>16.0</td>\n      <td>[10]</td>\n    </tr>\n    <tr>\n      <th>16</th>\n      <td>18</td>\n      <td>17.0</td>\n      <td>[10]</td>\n    </tr>\n    <tr>\n      <th>17</th>\n      <td>19</td>\n      <td>18.0</td>\n      <td>[10]</td>\n    </tr>\n    <tr>\n      <th>18</th>\n      <td>20</td>\n      <td>19.0</td>\n      <td>[10]</td>\n    </tr>\n    <tr>\n      <th>19</th>\n      <td>21</td>\n      <td>20.0</td>\n      <td>[10]</td>\n    </tr>\n    <tr>\n      <th>20</th>\n      <td>23</td>\n      <td>21.0</td>\n      <td>[10]</td>\n    </tr>\n    <tr>\n      <th>21</th>\n      <td>24</td>\n      <td>22.0</td>\n      <td>[10]</td>\n    </tr>\n    <tr>\n      <th>22</th>\n      <td>25</td>\n      <td>23.0</td>\n      <td>[10]</td>\n    </tr>\n    <tr>\n      <th>23</th>\n      <td>26</td>\n      <td>24.0</td>\n      <td>[10]</td>\n    </tr>\n    <tr>\n      <th>24</th>\n      <td>28</td>\n      <td>26.0</td>\n      <td>[10]</td>\n    </tr>\n    <tr>\n      <th>25</th>\n      <td>29</td>\n      <td>27.0</td>\n      <td>[10]</td>\n    </tr>\n    <tr>\n      <th>26</th>\n      <td>30</td>\n      <td>28.0</td>\n      <td>[10]</td>\n    </tr>\n    <tr>\n      <th>27</th>\n      <td>32</td>\n      <td>30.0</td>\n      <td>[10]</td>\n    </tr>\n    <tr>\n      <th>28</th>\n      <td>33</td>\n      <td>31.0</td>\n      <td>[10]</td>\n    </tr>\n    <tr>\n      <th>29</th>\n      <td>34</td>\n      <td>32.0</td>\n      <td>[10]</td>\n    </tr>\n    <tr>\n      <th>30</th>\n      <td>35</td>\n      <td>33.0</td>\n      <td>[10]</td>\n    </tr>\n    <tr>\n      <th>31</th>\n      <td>36</td>\n      <td>34.0</td>\n      <td>[10]</td>\n    </tr>\n    <tr>\n      <th>32</th>\n      <td>38</td>\n      <td>36.0</td>\n      <td>[10]</td>\n    </tr>\n    <tr>\n      <th>33</th>\n      <td>39</td>\n      <td>37.0</td>\n      <td>[10]</td>\n    </tr>\n    <tr>\n      <th>34</th>\n      <td>40</td>\n      <td>38.0</td>\n      <td>[10]</td>\n    </tr>\n    <tr>\n      <th>35</th>\n      <td>41</td>\n      <td>39.0</td>\n      <td>[10]</td>\n    </tr>\n    <tr>\n      <th>36</th>\n      <td>42</td>\n      <td>40.0</td>\n      <td>[10]</td>\n    </tr>\n    <tr>\n      <th>37</th>\n      <td>43</td>\n      <td>41.0</td>\n      <td>[10]</td>\n    </tr>\n    <tr>\n      <th>38</th>\n      <td>44</td>\n      <td>42.0</td>\n      <td>[10]</td>\n    </tr>\n    <tr>\n      <th>39</th>\n      <td>45</td>\n      <td>43.0</td>\n      <td>[10]</td>\n    </tr>\n    <tr>\n      <th>40</th>\n      <td>46</td>\n      <td>44.0</td>\n      <td>[10]</td>\n    </tr>\n    <tr>\n      <th>41</th>\n      <td>47</td>\n      <td>45.0</td>\n      <td>[10]</td>\n    </tr>\n    <tr>\n      <th>42</th>\n      <td>48</td>\n      <td>46.0</td>\n      <td>[10]</td>\n    </tr>\n    <tr>\n      <th>43</th>\n      <td>49</td>\n      <td>47.0</td>\n      <td>[10]</td>\n    </tr>\n    <tr>\n      <th>44</th>\n      <td>50</td>\n      <td>48.0</td>\n      <td>[10]</td>\n    </tr>\n    <tr>\n      <th>45</th>\n      <td>51</td>\n      <td>49.0</td>\n      <td>[10]</td>\n    </tr>\n    <tr>\n      <th>46</th>\n      <td>52</td>\n      <td>50.0</td>\n      <td>[10]</td>\n    </tr>\n    <tr>\n      <th>47</th>\n      <td>53</td>\n      <td>51.0</td>\n      <td>[10]</td>\n    </tr>\n    <tr>\n      <th>48</th>\n      <td>54</td>\n      <td>52.0</td>\n      <td>[10]</td>\n    </tr>\n    <tr>\n      <th>49</th>\n      <td>55</td>\n      <td>53.0</td>\n      <td>[10]</td>\n    </tr>\n  </tbody>\n</table>\n</div>"
     },
     "execution_count": 40,
     "metadata": {},
     "output_type": "execute_result"
    }
   ],
   "source": [
    "URM_all_submission_dataframe.head(50)"
   ],
   "metadata": {
    "collapsed": false,
    "ExecuteTime": {
     "end_time": "2023-11-06T13:05:44.042548Z",
     "start_time": "2023-11-06T13:05:44.033854Z"
    }
   }
  },
  {
   "cell_type": "code",
   "execution_count": 48,
   "outputs": [
    {
     "data": {
      "text/plain": "[[3], [3]]"
     },
     "execution_count": 48,
     "metadata": {},
     "output_type": "execute_result"
    }
   ],
   "source": [
    "top_recommender.recommend([999,99], items_to_compute=3)"
   ],
   "metadata": {
    "collapsed": false,
    "ExecuteTime": {
     "end_time": "2023-11-06T13:10:04.789175Z",
     "start_time": "2023-11-06T13:10:04.771599Z"
    }
   }
  },
  {
   "cell_type": "code",
   "execution_count": null,
   "outputs": [],
   "source": [],
   "metadata": {
    "collapsed": false
   }
  }
 ],
 "metadata": {
  "colab": {
   "provenance": [],
   "toc_visible": true
  },
  "kernelspec": {
   "display_name": "Python 3 (ipykernel)",
   "language": "python",
   "name": "python3"
  },
  "language_info": {
   "codemirror_mode": {
    "name": "ipython",
    "version": 3
   },
   "file_extension": ".py",
   "mimetype": "text/x-python",
   "name": "python",
   "nbconvert_exporter": "python",
   "pygments_lexer": "ipython3",
   "version": "3.11.6"
  }
 },
 "nbformat": 4,
 "nbformat_minor": 4
}
