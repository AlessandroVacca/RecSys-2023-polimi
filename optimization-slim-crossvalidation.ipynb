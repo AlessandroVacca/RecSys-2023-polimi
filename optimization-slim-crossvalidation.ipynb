{
 "cells": [
  {
   "cell_type": "code",
   "execution_count": 1,
   "id": "initial_id",
   "metadata": {
    "collapsed": true,
    "ExecuteTime": {
     "end_time": "2023-12-01T18:04:00.417499396Z",
     "start_time": "2023-12-01T18:03:54.848791776Z"
    }
   },
   "outputs": [
    {
     "name": "stdout",
     "output_type": "stream",
     "text": [
      "Warning: 224 (1.77 %) of 12638 users have no train items\n",
      "Warning: 2170 (17.17 %) of 12638 users have no sampled items\n",
      "Warning: 461 (3.65 %) of 12638 users have no train items\n",
      "Warning: 2627 (20.79 %) of 12638 users have no sampled items\n"
     ]
    }
   ],
   "source": [
    "from Data_manager.UserUtils import *\n",
    "from Data_manager.split_functions.split_train_validation_random_holdout import \\\n",
    "    split_train_in_two_percentage_global_sample\n",
    "URM_all = getURM_all()\n",
    "URM_train_validation, URM_test = split_train_in_two_percentage_global_sample(URM_all, train_percentage = 0.80)\n",
    "URM_train, URM_validation = split_train_in_two_percentage_global_sample(URM_train_validation, train_percentage = 0.80)"
   ]
  },
  {
   "cell_type": "code",
   "execution_count": 2,
   "outputs": [],
   "source": [
    "from sklearn.model_selection import KFold\n",
    "\n",
    "def cross_validation_split(URM_all, n_folds=5):\n",
    "    kf = KFold(n_splits=n_folds, shuffle=True, random_state=42)\n",
    "    for train_indices, test_indices in kf.split(URM_all):\n",
    "        URM_train = URM_all[train_indices]\n",
    "        URM_test = URM_all[test_indices]\n",
    "        yield URM_train, URM_test\n"
   ],
   "metadata": {
    "collapsed": false,
    "ExecuteTime": {
     "end_time": "2023-12-01T18:04:01.187161552Z",
     "start_time": "2023-12-01T18:04:00.406645414Z"
    }
   },
   "id": "96ab4c8dfb062b9d"
  },
  {
   "cell_type": "code",
   "execution_count": 3,
   "outputs": [
    {
     "name": "stdout",
     "output_type": "stream",
     "text": [
      "EvaluatorHoldout: Ignoring 2627 (20.8%) Users that have less than 1 test interactions\n",
      "EvaluatorHoldout: Ignoring 0 Users\n"
     ]
    }
   ],
   "source": [
    "from Recommenders.SLIM.SLIMElasticNetRecommender import SLIMElasticNetRecommender, \\\n",
    "    MultiThreadSLIM_SLIMElasticNetRecommender\n",
    "\n",
    "model = MultiThreadSLIM_SLIMElasticNetRecommender\n",
    "\n",
    "from Evaluation.Evaluator import EvaluatorHoldout\n",
    "evaluator_validation = EvaluatorHoldout(URM_validation, cutoff_list=[10], ignore_users=[])"
   ],
   "metadata": {
    "collapsed": false,
    "ExecuteTime": {
     "end_time": "2023-12-01T18:04:01.189418364Z",
     "start_time": "2023-12-01T18:04:01.108964368Z"
    }
   },
   "id": "8a9fec0ccc4f11c5"
  },
  {
   "cell_type": "code",
   "execution_count": 4,
   "outputs": [],
   "source": [
    "import optuna as op\n",
    "import numpy as np\n",
    "\n",
    "def objective(trial):\n",
    "    # Hyperparameters to optimize\n",
    "    topK = trial.suggest_int(\"topK\", 3, 1e4)\n",
    "    l1 = trial.suggest_float(\"l1_ratio\", 0.01e-05, 1, log=True)\n",
    "    alpha = trial.suggest_float(\"alpha\", 5e-4, 1)\n",
    "\n",
    "    MAP_scores = []\n",
    "\n",
    "    for URM_train, URM_validation in cross_validation_split(URM_all, n_folds=5):\n",
    "        # Model initialization and fitting\n",
    "        recommender = model(URM_train)\n",
    "        recommender.fit(topK=topK, l1_ratio=l1, alpha=alpha, workers=7)\n",
    "\n",
    "        # Evaluation\n",
    "        evaluator_validation = EvaluatorHoldout(URM_validation, cutoff_list=[10], ignore_users=[])\n",
    "        result, _ = evaluator_validation.evaluateRecommender(recommender)\n",
    "        MAP_result = result[\"MAP_MIN_DEN\"].item()\n",
    "        MAP_scores.append(MAP_result)\n",
    "\n",
    "    # Return the average MAP across all folds\n",
    "    return np.mean(MAP_scores)"
   ],
   "metadata": {
    "collapsed": false,
    "ExecuteTime": {
     "end_time": "2023-12-01T18:04:01.704930192Z",
     "start_time": "2023-12-01T18:04:01.194055920Z"
    }
   },
   "id": "b826576f6714c764"
  },
  {
   "cell_type": "code",
   "execution_count": null,
   "outputs": [],
   "source": [
    "best_params = {\n",
    "    \"topK\": 8894,\n",
    "    \"l1_ratio\": 0.05565733019999427,\n",
    "    \"alpha\": 0.0012979360257937668\n",
    "}\n",
    "study_name = \"slim-elastic-crossvalidation-study\"  # Unique identifier of the study.\n",
    "storage_name = \"sqlite:///db.db\"\n",
    "study = op.create_study(study_name=study_name, storage=storage_name, direction=\"maximize\", load_if_exists=True)\n",
    "#study.enqueue_trial(best_params)\n",
    "study.optimize(objective, n_trials=5)"
   ],
   "metadata": {
    "collapsed": false
   },
   "id": "c5b8a36d4aed08fc"
  },
  {
   "cell_type": "code",
   "execution_count": null,
   "outputs": [],
   "source": [
    "study.best_params"
   ],
   "metadata": {
    "collapsed": false
   },
   "id": "f18968c2188a349a"
  },
  {
   "cell_type": "code",
   "execution_count": null,
   "outputs": [],
   "source": [
    "final = model(URM_train_validation)\n",
    "final.fit(**study.best_params, workers=7)"
   ],
   "metadata": {
    "collapsed": false
   },
   "id": "7ae12a0ef4bc0baa"
  },
  {
   "cell_type": "code",
   "execution_count": null,
   "outputs": [],
   "source": [
    "from Evaluation.Evaluator import EvaluatorHoldout\n",
    "evaluator_test = EvaluatorHoldout(URM_test, cutoff_list=[10], ignore_users=[])\n",
    "evaluator_test.evaluateRecommender(final)"
   ],
   "metadata": {
    "collapsed": false
   },
   "id": "1a0a3570fbcb348b"
  },
  {
   "cell_type": "code",
   "execution_count": null,
   "outputs": [],
   "source": [],
   "metadata": {
    "collapsed": false
   },
   "id": "88c5d2516fa6d172"
  },
  {
   "cell_type": "markdown",
   "source": [
    "Original scores"
   ],
   "metadata": {
    "collapsed": false
   },
   "id": "a307c84710af1f24"
  },
  {
   "cell_type": "code",
   "execution_count": null,
   "outputs": [],
   "source": [
    "## MAP_MIN_DEN = .0822900 ## MAP = 0.0483066 the best 0.139"
   ],
   "metadata": {
    "collapsed": false
   },
   "id": "3cdf5d82e17bdf89"
  },
  {
   "cell_type": "code",
   "execution_count": null,
   "outputs": [],
   "source": [
    "## MAP_MIN_DEN = .0845288 ## MAP = 0.0495724 second 0.135"
   ],
   "metadata": {
    "collapsed": false
   },
   "id": "4073b54127eeda48"
  },
  {
   "cell_type": "code",
   "execution_count": null,
   "outputs": [],
   "source": [
    "## MAP_MIN_DEN = .0846506 ## MAP = 0.0496060 third "
   ],
   "metadata": {
    "collapsed": false
   },
   "id": "1f7312f3e9dda72e"
  }
 ],
 "metadata": {
  "kernelspec": {
   "display_name": "Python 3",
   "language": "python",
   "name": "python3"
  },
  "language_info": {
   "codemirror_mode": {
    "name": "ipython",
    "version": 2
   },
   "file_extension": ".py",
   "mimetype": "text/x-python",
   "name": "python",
   "nbconvert_exporter": "python",
   "pygments_lexer": "ipython2",
   "version": "2.7.6"
  }
 },
 "nbformat": 4,
 "nbformat_minor": 5
}
