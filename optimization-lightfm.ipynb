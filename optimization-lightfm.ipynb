{
 "cells": [
  {
   "cell_type": "code",
   "execution_count": 1,
   "id": "initial_id",
   "metadata": {
    "collapsed": true,
    "ExecuteTime": {
     "end_time": "2023-12-09T16:32:44.950486185Z",
     "start_time": "2023-12-09T16:32:41.750652028Z"
    }
   },
   "outputs": [
    {
     "name": "stdout",
     "output_type": "stream",
     "text": [
      "Warning: 242 (1.91 %) of 12638 users have no train items\n",
      "Warning: 2156 (17.06 %) of 12638 users have no sampled items\n",
      "Warning: 458 (3.62 %) of 12638 users have no train items\n",
      "Warning: 2604 (20.60 %) of 12638 users have no sampled items\n"
     ]
    }
   ],
   "source": [
    "from Data_manager.UserUtils import *\n",
    "from Data_manager.split_functions.split_train_validation_random_holdout import \\\n",
    "    split_train_in_two_percentage_global_sample\n",
    "URM_all = getURM_all()\n",
    "URM_train_validation, URM_test = split_train_in_two_percentage_global_sample(URM_all, train_percentage = 0.80)\n",
    "URM_train, URM_validation = split_train_in_two_percentage_global_sample(URM_train_validation, train_percentage = 0.80)"
   ]
  },
  {
   "cell_type": "code",
   "execution_count": 2,
   "outputs": [
    {
     "name": "stdout",
     "output_type": "stream",
     "text": [
      "EvaluatorHoldout: Ignoring 2604 (20.6%) Users that have less than 1 test interactions\n",
      "EvaluatorHoldout: Ignoring 0 Users\n"
     ]
    }
   ],
   "source": [
    "from Recommenders.FactorizationMachines import LightFMRecommender\n",
    "\n",
    "model = LightFMRecommender.LightFMCFRecommender\n",
    "\n",
    "from Evaluation.Evaluator import EvaluatorHoldout\n",
    "evaluator_validation = EvaluatorHoldout(URM_validation, cutoff_list=[10], ignore_users=[])"
   ],
   "metadata": {
    "collapsed": false,
    "ExecuteTime": {
     "end_time": "2023-12-09T16:32:45.589268153Z",
     "start_time": "2023-12-09T16:32:45.562446240Z"
    }
   },
   "id": "8a9fec0ccc4f11c5"
  },
  {
   "cell_type": "code",
   "execution_count": 3,
   "outputs": [],
   "source": [
    "import optuna as op\n",
    "\n",
    "class Objective:\n",
    "    def __init__(self):\n",
    "        self.step = 1.0\n",
    "\n",
    "    def __call__(self, trial: op.Trial):\n",
    "        self.step = 1.0\n",
    "        trial.suggest_int(\"n_components\", 1, 200)\n",
    "        trial.suggest_categorical(\"loss\", ['bpr', 'warp', 'warp-kos'])\n",
    "        trial.suggest_categorical(\"sgd_mode\", ['adagrad', 'adadelta'])\n",
    "        trial.suggest_float(\"learning_rate\", 1e-6, 1e-1, log=True)\n",
    "        trial.suggest_float(\"item_alpha\", 1e-5, 1e-2, log=True)\n",
    "        trial.suggest_float(\"user_alpha\", 1e-5, 1e-2, log=True)\n",
    "\n",
    "        def callback_prune(value):\n",
    "            if value is None:\n",
    "                return\n",
    "            trial.report(value, step=self.step)\n",
    "            self.step += 1\n",
    "\n",
    "        recommender = model(URM_train)\n",
    "        recommender.fit(**trial.params, epochs=100, num_threads=7, stop_on_validation=True, validation_metric=\"MAP\",\n",
    "                        validation_every_n=10,\n",
    "                        lower_validations_allowed=2,\n",
    "                        evaluator_object=evaluator_validation, callback_validation=callback_prune)\n",
    "\n",
    "        result, _ = evaluator_validation.evaluateRecommender(recommender)\n",
    "        MAP_result = result[\"MAP\"].item()\n",
    "\n",
    "        return MAP_result\n"
   ],
   "metadata": {
    "collapsed": false,
    "ExecuteTime": {
     "end_time": "2023-12-09T16:32:46.799093292Z",
     "start_time": "2023-12-09T16:32:46.503793918Z"
    }
   },
   "id": "b826576f6714c764"
  },
  {
   "cell_type": "code",
   "execution_count": null,
   "outputs": [
    {
     "name": "stderr",
     "output_type": "stream",
     "text": [
      "[I 2023-12-09 17:32:46,949] Using an existing study with name 'light-fm' instead of creating a new one.\n"
     ]
    },
    {
     "name": "stdout",
     "output_type": "stream",
     "text": [
      "LightFMCFRecommender: URM Detected 458 ( 3.6%) users with no interactions.\n",
      "LightFMCFRecommender: URM Detected 316 ( 1.4%) items with no interactions.\n",
      "LightFMCFRecommender: Epoch 1 of 100. Elapsed time 0.23 sec\n",
      "LightFMCFRecommender: Epoch 2 of 100. Elapsed time 0.45 sec\n",
      "LightFMCFRecommender: Epoch 3 of 100. Elapsed time 0.67 sec\n",
      "LightFMCFRecommender: Epoch 4 of 100. Elapsed time 0.87 sec\n",
      "LightFMCFRecommender: Epoch 5 of 100. Elapsed time 1.08 sec\n",
      "LightFMCFRecommender: Epoch 6 of 100. Elapsed time 1.29 sec\n",
      "LightFMCFRecommender: Epoch 7 of 100. Elapsed time 1.50 sec\n",
      "LightFMCFRecommender: Epoch 8 of 100. Elapsed time 1.70 sec\n",
      "LightFMCFRecommender: Epoch 9 of 100. Elapsed time 1.91 sec\n",
      "LightFMCFRecommender: Validation begins...\n"
     ]
    }
   ],
   "source": [
    "study_name = \"light-fm\"  # Unique identifier of the study.\n",
    "storage_name = \"sqlite:///{}.db\".format(study_name)\n",
    "study = op.create_study(study_name=study_name, storage=storage_name, direction=\"maximize\", load_if_exists=True)\n",
    "# study.enqueue_trial(best_params)\n",
    "objective = Objective()\n",
    "study.optimize(objective, n_trials=10)"
   ],
   "metadata": {
    "collapsed": false,
    "is_executing": true,
    "ExecuteTime": {
     "start_time": "2023-12-09T16:32:46.803973710Z"
    }
   },
   "id": "c5b8a36d4aed08fc"
  },
  {
   "cell_type": "code",
   "execution_count": 9,
   "outputs": [
    {
     "data": {
      "text/plain": "{'topK': 8894, 'l1_ratio': 0.05565733019999427, 'alpha': 0.0012979360257937668}"
     },
     "execution_count": 9,
     "metadata": {},
     "output_type": "execute_result"
    }
   ],
   "source": [
    "study.best_params"
   ],
   "metadata": {
    "collapsed": false,
    "ExecuteTime": {
     "end_time": "2023-11-27T16:23:22.094479770Z",
     "start_time": "2023-11-27T16:23:22.039351045Z"
    }
   },
   "id": "f18968c2188a349a"
  },
  {
   "cell_type": "code",
   "execution_count": 10,
   "outputs": [
    {
     "name": "stdout",
     "output_type": "stream",
     "text": [
      "SLIMElasticNetRecommender: URM Detected 221 ( 1.7%) users with no interactions.\n",
      "SLIMElasticNetRecommender: URM Detected 113 ( 0.5%) items with no interactions.\n"
     ]
    },
    {
     "name": "stderr",
     "output_type": "stream",
     "text": [
      "100%|█████████▉| 22200/22222 [03:20<00:00, 68.60it/s] "
     ]
    }
   ],
   "source": [
    "final = model(URM_train_validation)\n",
    "final.fit(**study.best_params)"
   ],
   "metadata": {
    "collapsed": false,
    "ExecuteTime": {
     "end_time": "2023-11-27T16:26:44.992072240Z",
     "start_time": "2023-11-27T16:23:24.223330337Z"
    }
   },
   "id": "7ae12a0ef4bc0baa"
  },
  {
   "cell_type": "code",
   "execution_count": 11,
   "outputs": [
    {
     "name": "stdout",
     "output_type": "stream",
     "text": [
      "EvaluatorHoldout: Ignoring 2191 (17.3%) Users that have less than 1 test interactions\n",
      "EvaluatorHoldout: Ignoring 0 Users\n",
      "EvaluatorHoldout: Processed 10447 (100.0%) in 6.49 sec. Users per second: 1611\n"
     ]
    },
    {
     "data": {
      "text/plain": "(       PRECISION PRECISION_RECALL_MIN_DEN    RECALL       MAP MAP_MIN_DEN  \\\n cutoff                                                                      \n 10      0.094821                 0.163454  0.137526  0.048307     0.08229   \n \n              MRR      NDCG        F1  HIT_RATE ARHR_ALL_HITS  ...  \\\n cutoff                                                        ...   \n 10      0.267329  0.148903  0.112249  0.516129      0.355594  ...   \n \n        COVERAGE_USER COVERAGE_USER_HIT USERS_IN_GT DIVERSITY_GINI  \\\n cutoff                                                              \n 10          0.826634           0.42665    0.826634       0.055048   \n \n        SHANNON_ENTROPY RATIO_DIVERSITY_HERFINDAHL RATIO_DIVERSITY_GINI  \\\n cutoff                                                                   \n 10           10.183917                   0.997667             0.157923   \n \n        RATIO_SHANNON_ENTROPY RATIO_AVERAGE_POPULARITY RATIO_NOVELTY  \n cutoff                                                               \n 10                  0.784502                 1.870632      0.284263  \n \n [1 rows x 27 columns],\n 'CUTOFF: 10 - PRECISION: 0.0948215, PRECISION_RECALL_MIN_DEN: 0.1634542, RECALL: 0.1375260, MAP: 0.0483066, MAP_MIN_DEN: 0.0822900, MRR: 0.2673285, NDCG: 0.1489035, F1: 0.1122493, HIT_RATE: 0.5161290, ARHR_ALL_HITS: 0.3555935, NOVELTY: 0.0050322, AVERAGE_POPULARITY: 0.2334947, DIVERSITY_MEAN_INTER_LIST: 0.9731593, DIVERSITY_HERFINDAHL: 0.9973066, COVERAGE_ITEM: 0.2924129, COVERAGE_ITEM_HIT: 0.0897309, ITEMS_IN_GT: 0.8029880, COVERAGE_USER: 0.8266340, COVERAGE_USER_HIT: 0.4266498, USERS_IN_GT: 0.8266340, DIVERSITY_GINI: 0.0550484, SHANNON_ENTROPY: 10.1839173, RATIO_DIVERSITY_HERFINDAHL: 0.9976669, RATIO_DIVERSITY_GINI: 0.1579232, RATIO_SHANNON_ENTROPY: 0.7845018, RATIO_AVERAGE_POPULARITY: 1.8706318, RATIO_NOVELTY: 0.2842634, \\n')"
     },
     "execution_count": 11,
     "metadata": {},
     "output_type": "execute_result"
    }
   ],
   "source": [
    "from Evaluation.Evaluator import EvaluatorHoldout\n",
    "evaluator_test = EvaluatorHoldout(URM_test, cutoff_list=[10], ignore_users=[])\n",
    "evaluator_test.evaluateRecommender(final)"
   ],
   "metadata": {
    "collapsed": false,
    "ExecuteTime": {
     "end_time": "2023-11-27T16:27:01.608660403Z",
     "start_time": "2023-11-27T16:26:55.075232689Z"
    }
   },
   "id": "1a0a3570fbcb348b"
  },
  {
   "cell_type": "code",
   "execution_count": null,
   "outputs": [],
   "source": [],
   "metadata": {
    "collapsed": false
   },
   "id": "3cdf5d82e17bdf89"
  }
 ],
 "metadata": {
  "kernelspec": {
   "display_name": "Python 3",
   "language": "python",
   "name": "python3"
  },
  "language_info": {
   "codemirror_mode": {
    "name": "ipython",
    "version": 2
   },
   "file_extension": ".py",
   "mimetype": "text/x-python",
   "name": "python",
   "nbconvert_exporter": "python",
   "pygments_lexer": "ipython2",
   "version": "2.7.6"
  }
 },
 "nbformat": 4,
 "nbformat_minor": 5
}
