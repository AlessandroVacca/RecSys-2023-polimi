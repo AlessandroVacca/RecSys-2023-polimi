{
 "cells": [
  {
   "cell_type": "markdown",
   "metadata": {},
   "source": [
    "# Recommender Systems 2023/24 Challenge\n",
    "\n",
    "@authors Federico Sarrocco, Alessandro Vacca\n",
    "\n",
    "### Load the data:"
   ]
  },
  {
   "cell_type": "code",
   "execution_count": 1,
   "metadata": {
    "ExecuteTime": {
     "end_time": "2023-11-07T00:06:52.590531Z",
     "start_time": "2023-11-07T00:06:51.522846Z"
    }
   },
   "outputs": [],
   "source": [
    "import pandas as pd\n",
    "URM_path = \"data_train.csv\"\n",
    "URM_all_dataframe = pd.read_csv(filepath_or_buffer=URM_path, \n",
    "                                sep=\",\", \n",
    "                                # header=None, \n",
    "                                dtype={0:int, 1:int, 2:int},\n",
    "                                engine='python')\n",
    "\n",
    "URM_all_dataframe.columns = [\"UserID\", \"ItemID\", \"Interaction\"]"
   ]
  },
  {
   "cell_type": "code",
   "execution_count": 2,
   "metadata": {
    "ExecuteTime": {
     "end_time": "2023-11-07T00:06:52.594806Z",
     "start_time": "2023-11-07T00:06:52.588315Z"
    }
   },
   "outputs": [
    {
     "data": {
      "text/plain": "   UserID  ItemID  Interaction\n0       1       7            1\n1       1      15            1\n2       1      16            1\n3       1     133            1\n4       1     161            1\n5       1     187            1\n6       1     205            1\n7       1     222            1\n8       1     237            1\n9       1     354            1",
      "text/html": "<div>\n<style scoped>\n    .dataframe tbody tr th:only-of-type {\n        vertical-align: middle;\n    }\n\n    .dataframe tbody tr th {\n        vertical-align: top;\n    }\n\n    .dataframe thead th {\n        text-align: right;\n    }\n</style>\n<table border=\"1\" class=\"dataframe\">\n  <thead>\n    <tr style=\"text-align: right;\">\n      <th></th>\n      <th>UserID</th>\n      <th>ItemID</th>\n      <th>Interaction</th>\n    </tr>\n  </thead>\n  <tbody>\n    <tr>\n      <th>0</th>\n      <td>1</td>\n      <td>7</td>\n      <td>1</td>\n    </tr>\n    <tr>\n      <th>1</th>\n      <td>1</td>\n      <td>15</td>\n      <td>1</td>\n    </tr>\n    <tr>\n      <th>2</th>\n      <td>1</td>\n      <td>16</td>\n      <td>1</td>\n    </tr>\n    <tr>\n      <th>3</th>\n      <td>1</td>\n      <td>133</td>\n      <td>1</td>\n    </tr>\n    <tr>\n      <th>4</th>\n      <td>1</td>\n      <td>161</td>\n      <td>1</td>\n    </tr>\n    <tr>\n      <th>5</th>\n      <td>1</td>\n      <td>187</td>\n      <td>1</td>\n    </tr>\n    <tr>\n      <th>6</th>\n      <td>1</td>\n      <td>205</td>\n      <td>1</td>\n    </tr>\n    <tr>\n      <th>7</th>\n      <td>1</td>\n      <td>222</td>\n      <td>1</td>\n    </tr>\n    <tr>\n      <th>8</th>\n      <td>1</td>\n      <td>237</td>\n      <td>1</td>\n    </tr>\n    <tr>\n      <th>9</th>\n      <td>1</td>\n      <td>354</td>\n      <td>1</td>\n    </tr>\n  </tbody>\n</table>\n</div>"
     },
     "execution_count": 2,
     "metadata": {},
     "output_type": "execute_result"
    }
   ],
   "source": [
    "URM_all_dataframe.head(10)"
   ]
  },
  {
   "cell_type": "markdown",
   "metadata": {},
   "source": [
    "### BUILD the SPARSE URM matrix"
   ]
  },
  {
   "cell_type": "code",
   "execution_count": 3,
   "metadata": {
    "ExecuteTime": {
     "end_time": "2023-11-07T00:06:53.259952Z",
     "start_time": "2023-11-07T00:06:53.157227Z"
    }
   },
   "outputs": [
    {
     "data": {
      "text/plain": "   UserID  ItemID  Interaction\n0       0       0            1\n1       0       1            1\n2       0       2            1\n3       0       3            1\n4       0       4            1\n5       0       5            1\n6       0       6            1\n7       0       7            1\n8       0       8            1\n9       0       9            1",
      "text/html": "<div>\n<style scoped>\n    .dataframe tbody tr th:only-of-type {\n        vertical-align: middle;\n    }\n\n    .dataframe tbody tr th {\n        vertical-align: top;\n    }\n\n    .dataframe thead th {\n        text-align: right;\n    }\n</style>\n<table border=\"1\" class=\"dataframe\">\n  <thead>\n    <tr style=\"text-align: right;\">\n      <th></th>\n      <th>UserID</th>\n      <th>ItemID</th>\n      <th>Interaction</th>\n    </tr>\n  </thead>\n  <tbody>\n    <tr>\n      <th>0</th>\n      <td>0</td>\n      <td>0</td>\n      <td>1</td>\n    </tr>\n    <tr>\n      <th>1</th>\n      <td>0</td>\n      <td>1</td>\n      <td>1</td>\n    </tr>\n    <tr>\n      <th>2</th>\n      <td>0</td>\n      <td>2</td>\n      <td>1</td>\n    </tr>\n    <tr>\n      <th>3</th>\n      <td>0</td>\n      <td>3</td>\n      <td>1</td>\n    </tr>\n    <tr>\n      <th>4</th>\n      <td>0</td>\n      <td>4</td>\n      <td>1</td>\n    </tr>\n    <tr>\n      <th>5</th>\n      <td>0</td>\n      <td>5</td>\n      <td>1</td>\n    </tr>\n    <tr>\n      <th>6</th>\n      <td>0</td>\n      <td>6</td>\n      <td>1</td>\n    </tr>\n    <tr>\n      <th>7</th>\n      <td>0</td>\n      <td>7</td>\n      <td>1</td>\n    </tr>\n    <tr>\n      <th>8</th>\n      <td>0</td>\n      <td>8</td>\n      <td>1</td>\n    </tr>\n    <tr>\n      <th>9</th>\n      <td>0</td>\n      <td>9</td>\n      <td>1</td>\n    </tr>\n  </tbody>\n</table>\n</div>"
     },
     "execution_count": 3,
     "metadata": {},
     "output_type": "execute_result"
    }
   ],
   "source": [
    "import scipy.sparse as sps\n",
    "import numpy as np\n",
    "\n",
    "mapped_id, original_id = pd.factorize(URM_all_dataframe[\"UserID\"].unique())\n",
    "user_original_ID_to_index = pd.Series(mapped_id, index=original_id)\n",
    "\n",
    "mapped_id, original_id = pd.factorize(URM_all_dataframe[\"ItemID\"].unique())\n",
    "item_original_ID_to_index = pd.Series(mapped_id, index=original_id)\n",
    "\n",
    "URM_all_dataframe[\"UserID\"] = URM_all_dataframe[\"UserID\"].map(user_original_ID_to_index)\n",
    "URM_all_dataframe[\"ItemID\"] = URM_all_dataframe[\"ItemID\"].map(item_original_ID_to_index)\n",
    "URM_all_dataframe.head(10)"
   ]
  },
  {
   "cell_type": "code",
   "execution_count": 4,
   "metadata": {
    "ExecuteTime": {
     "end_time": "2023-11-07T00:06:53.516623Z",
     "start_time": "2023-11-07T00:06:53.492010Z"
    }
   },
   "outputs": [
    {
     "data": {
      "text/plain": "<12638x22222 sparse matrix of type '<class 'numpy.int64'>'\n\twith 478730 stored elements in Compressed Sparse Row format>"
     },
     "execution_count": 4,
     "metadata": {},
     "output_type": "execute_result"
    }
   ],
   "source": [
    "n_users = len(URM_all_dataframe[\"UserID\"].unique())\n",
    "n_items = len(URM_all_dataframe[\"ItemID\"].unique())\n",
    "\n",
    "URM_all = sps.csr_matrix((URM_all_dataframe[\"Interaction\"].values, \n",
    "                          (URM_all_dataframe[\"UserID\"].values, URM_all_dataframe[\"ItemID\"].values)),\n",
    "                        shape = (n_users, n_items))\n",
    "\n",
    "URM_all"
   ]
  },
  {
   "cell_type": "markdown",
   "metadata": {},
   "source": [
    "# Let's take a look at the URM\n"
   ]
  },
  {
   "cell_type": "code",
   "execution_count": 5,
   "metadata": {
    "ExecuteTime": {
     "end_time": "2023-11-07T00:06:54.263596Z",
     "start_time": "2023-11-07T00:06:54.210923Z"
    }
   },
   "outputs": [],
   "source": [
    "URM_all = sps.csr_matrix(URM_all)\n",
    "items_per_user = np.ediff1d(URM_all.indptr)\n",
    "\n",
    "URM_all = sps.csc_matrix(URM_all)\n",
    "users_per_item = np.ediff1d(URM_all.indptr)\n",
    "\n",
    "URM_all = sps.csr_matrix(URM_all)"
   ]
  },
  {
   "cell_type": "code",
   "execution_count": 6,
   "metadata": {
    "ExecuteTime": {
     "end_time": "2023-11-07T00:06:54.547964Z",
     "start_time": "2023-11-07T00:06:54.544252Z"
    }
   },
   "outputs": [
    {
     "name": "stdout",
     "output_type": "stream",
     "text": [
      "(12638,)\n",
      "(22222,)\n"
     ]
    }
   ],
   "source": [
    "print(items_per_user.shape)\n",
    "print(users_per_item.shape)"
   ]
  },
  {
   "cell_type": "code",
   "execution_count": 7,
   "metadata": {
    "ExecuteTime": {
     "end_time": "2023-11-07T00:06:55.054350Z",
     "start_time": "2023-11-07T00:06:55.049675Z"
    }
   },
   "outputs": [],
   "source": [
    "items_per_user = np.sort(items_per_user)\n",
    "users_per_item = np.sort(users_per_item)"
   ]
  },
  {
   "cell_type": "code",
   "execution_count": 8,
   "metadata": {
    "ExecuteTime": {
     "end_time": "2023-11-07T00:06:55.625125Z",
     "start_time": "2023-11-07T00:06:55.395556Z"
    }
   },
   "outputs": [
    {
     "data": {
      "text/plain": "<Figure size 640x480 with 1 Axes>",
      "image/png": "[encoded data removed]"
     },
     "metadata": {},
     "output_type": "display_data"
    }
   ],
   "source": [
    "import matplotlib.pyplot as pyplot\n",
    "%matplotlib inline  \n",
    "\n",
    "pyplot.plot(items_per_user, 'ro')\n",
    "pyplot.ylabel('Num items ')\n",
    "pyplot.xlabel('Sorted users')\n",
    "pyplot.show()"
   ]
  },
  {
   "cell_type": "code",
   "execution_count": 9,
   "metadata": {
    "ExecuteTime": {
     "end_time": "2023-11-07T00:06:55.870474Z",
     "start_time": "2023-11-07T00:06:55.812430Z"
    }
   },
   "outputs": [
    {
     "data": {
      "text/plain": "<Figure size 640x480 with 1 Axes>",
      "image/png": "[encoded data removed]"
     },
     "metadata": {},
     "output_type": "display_data"
    }
   ],
   "source": [
    "pyplot.plot(users_per_item, 'ro')\n",
    "pyplot.ylabel('Num users ')\n",
    "pyplot.xlabel('Sorted items')\n",
    "pyplot.show()"
   ]
  },
  {
   "cell_type": "markdown",
   "metadata": {},
   "source": [
    "## DATASET SPLIT"
   ]
  },
  {
   "cell_type": "code",
   "execution_count": 10,
   "metadata": {
    "ExecuteTime": {
     "end_time": "2023-11-07T00:06:57.173093Z",
     "start_time": "2023-11-07T00:06:56.579169Z"
    }
   },
   "outputs": [
    {
     "name": "stdout",
     "output_type": "stream",
     "text": [
      "Warning: 227 (1.80 %) of 12638 users have no train items\n",
      "Warning: 2132 (16.87 %) of 12638 users have no sampled items\n",
      "Warning: 500 (3.96 %) of 12638 users have no train items\n",
      "Warning: 2569 (20.33 %) of 12638 users have no sampled items\n",
      "EvaluatorHoldout: Ignoring 2569 (20.3%) Users that have less than 1 test interactions\n",
      "EvaluatorHoldout: Ignoring 2132 (16.9%) Users that have less than 1 test interactions\n"
     ]
    }
   ],
   "source": [
    "from Evaluation.Evaluator import EvaluatorHoldout\n",
    "from Data_manager.split_functions.split_train_validation_random_holdout import split_train_in_two_percentage_global_sample\n",
    "\n",
    "URM_train, URM_test = split_train_in_two_percentage_global_sample(URM_all, train_percentage = 0.80)\n",
    "URM_train, URM_validation = split_train_in_two_percentage_global_sample(URM_train, train_percentage = 0.80)\n",
    "\n",
    "evaluator_validation = EvaluatorHoldout(URM_validation, cutoff_list=[10])\n",
    "evaluator_test = EvaluatorHoldout(URM_test, cutoff_list=[10])"
   ]
  },
  {
   "cell_type": "markdown",
   "metadata": {},
   "source": [
    "## Similarity matrix"
   ]
  },
  {
   "cell_type": "code",
   "execution_count": 11,
   "metadata": {
    "ExecuteTime": {
     "end_time": "2023-11-07T00:07:03.161197Z",
     "start_time": "2023-11-07T00:06:58.125411Z"
    }
   },
   "outputs": [
    {
     "name": "stdout",
     "output_type": "stream",
     "text": [
      "Similarity column 22222 (100.0%), 4430.44 column/sec. Elapsed time 5.02 sec\n"
     ]
    },
    {
     "data": {
      "text/plain": "<22222x22222 sparse matrix of type '<class 'numpy.float32'>'\n\twith 2107925 stored elements in Compressed Sparse Row format>"
     },
     "execution_count": 11,
     "metadata": {},
     "output_type": "execute_result"
    }
   ],
   "source": [
    "from Recommenders.Similarity.Compute_Similarity_Python import Compute_Similarity_Python\n",
    "\n",
    "similarity_object = Compute_Similarity_Python(URM_train, shrink=100.0, \n",
    "                                          topK=100,\n",
    "                                          normalize=True, \n",
    "                                          similarity = \"cosine\")\n",
    "\n",
    "W_sparse = similarity_object.compute_similarity()\n",
    "W_sparse"
   ]
  },
  {
   "cell_type": "markdown",
   "metadata": {},
   "source": [
    "### Prediction for a certain user"
   ]
  },
  {
   "cell_type": "code",
   "execution_count": 12,
   "metadata": {
    "ExecuteTime": {
     "end_time": "2023-11-07T00:07:03.183949Z",
     "start_time": "2023-11-07T00:07:03.160490Z"
    }
   },
   "outputs": [],
   "source": [
    "user_id = 80\n",
    "\n",
    "user_profile = URM_train[user_id]\n",
    "scores = user_profile.dot(W_sparse).toarray().ravel()\n",
    "\n",
    "ranking = scores.argsort()[::-1]"
   ]
  },
  {
   "cell_type": "code",
   "execution_count": 13,
   "metadata": {
    "ExecuteTime": {
     "end_time": "2023-11-07T00:07:03.231920Z",
     "start_time": "2023-11-07T00:07:03.171439Z"
    }
   },
   "outputs": [
    {
     "data": {
      "text/plain": "<Figure size 640x480 with 1 Axes>",
      "image/png": "[encoded data removed]"
     },
     "metadata": {},
     "output_type": "display_data"
    },
    {
     "data": {
      "text/plain": "array([ 189, 1266,  517,   44,   47,  291,  809,  808,  811,  284])"
     },
     "execution_count": 13,
     "metadata": {},
     "output_type": "execute_result"
    }
   ],
   "source": [
    "pyplot.plot(scores[ranking], 'ro')\n",
    "pyplot.ylabel('Similarity')\n",
    "pyplot.xlabel('Item')\n",
    "pyplot.show()\n",
    "ranking[0:10]"
   ]
  },
  {
   "cell_type": "markdown",
   "metadata": {},
   "source": [
    "### All together inside a class"
   ]
  },
  {
   "cell_type": "code",
   "execution_count": 31,
   "metadata": {
    "ExecuteTime": {
     "end_time": "2023-11-06T23:02:48.288025Z",
     "start_time": "2023-11-06T22:53:53.476300Z"
    }
   },
   "outputs": [
    {
     "name": "stdout",
     "output_type": "stream",
     "text": [
      "EvaluatorHoldout: Ignoring 2582 (20.4%) Users that have less than 1 test interactions\n",
      "IALSRecommender: URM Detected 516 ( 4.1%) users with no interactions.\n",
      "IALSRecommender: URM Detected 330 ( 1.5%) items with no interactions.\n",
      "IALSRecommender: Epoch 1 of 40. Elapsed time 3.57 sec\n",
      "IALSRecommender: Epoch 2 of 40. Elapsed time 7.32 sec\n",
      "IALSRecommender: Epoch 3 of 40. Elapsed time 10.41 sec\n",
      "IALSRecommender: Epoch 4 of 40. Elapsed time 13.68 sec\n",
      "IALSRecommender: Validation begins...\n",
      "EvaluatorHoldout: Processed 10056 (100.0%) in 4.13 sec. Users per second: 2434\n",
      "IALSRecommender: CUTOFF: 20 - PRECISION: 0.0320903, PRECISION_RECALL_MIN_DEN: 0.1126683, RECALL: 0.1102779, MAP: 0.0102534, MAP_MIN_DEN: 0.0360808, MRR: 0.1360366, NDCG: 0.0791024, F1: 0.0497141, HIT_RATE: 0.4066229, ARHR_ALL_HITS: 0.1652154, NOVELTY: 0.0087883, AVERAGE_POPULARITY: 0.3575472, DIVERSITY_MEAN_INTER_LIST: 0.8495581, DIVERSITY_HERFINDAHL: 0.9924737, COVERAGE_ITEM: 0.0220052, COVERAGE_ITEM_HIT: 0.0153002, ITEMS_IN_GT: 0.7435424, COVERAGE_USER: 0.7956955, COVERAGE_USER_HIT: 0.3235480, USERS_IN_GT: 0.7956955, DIVERSITY_GINI: 0.0061495, SHANNON_ENTROPY: 7.5185505, RATIO_DIVERSITY_HERFINDAHL: 0.9928347, RATIO_DIVERSITY_GINI: 0.0178415, RATIO_SHANNON_ENTROPY: 0.5797211, RATIO_AVERAGE_POPULARITY: 3.0072628, RATIO_NOVELTY: 0.6211304, \n",
      "\n",
      "IALSRecommender: New best model found! Updating.\n",
      "IALSRecommender: Epoch 5 of 40. Elapsed time 21.48 sec\n",
      "IALSRecommender: Epoch 6 of 40. Elapsed time 45.10 sec\n",
      "IALSRecommender: Epoch 7 of 40. Elapsed time 50.26 sec\n",
      "IALSRecommender: Epoch 8 of 40. Elapsed time 53.55 sec\n",
      "IALSRecommender: Epoch 9 of 40. Elapsed time 57.21 sec\n",
      "IALSRecommender: Validation begins...\n",
      "EvaluatorHoldout: Processed 10056 (100.0%) in 4.72 sec. Users per second: 2130\n",
      "IALSRecommender: CUTOFF: 20 - PRECISION: 0.0335074, PRECISION_RECALL_MIN_DEN: 0.1168154, RECALL: 0.1142766, MAP: 0.0108760, MAP_MIN_DEN: 0.0377378, MRR: 0.1401943, NDCG: 0.0822917, F1: 0.0518203, HIT_RATE: 0.4167661, ARHR_ALL_HITS: 0.1726081, NOVELTY: 0.0088357, AVERAGE_POPULARITY: 0.3476206, DIVERSITY_MEAN_INTER_LIST: 0.8596437, DIVERSITY_HERFINDAHL: 0.9929779, COVERAGE_ITEM: 0.0232652, COVERAGE_ITEM_HIT: 0.0164252, ITEMS_IN_GT: 0.7435424, COVERAGE_USER: 0.7956955, COVERAGE_USER_HIT: 0.3316189, USERS_IN_GT: 0.7956955, DIVERSITY_GINI: 0.0066365, SHANNON_ENTROPY: 7.6283866, RATIO_DIVERSITY_HERFINDAHL: 0.9933391, RATIO_DIVERSITY_GINI: 0.0192546, RATIO_SHANNON_ENTROPY: 0.5881901, RATIO_AVERAGE_POPULARITY: 2.9237719, RATIO_NOVELTY: 0.6244781, \n",
      "\n",
      "IALSRecommender: New best model found! Updating.\n",
      "IALSRecommender: Epoch 10 of 40. Elapsed time 1.12 min\n",
      "IALSRecommender: Epoch 11 of 40. Elapsed time 1.35 min\n",
      "IALSRecommender: Epoch 12 of 40. Elapsed time 1.53 min\n",
      "IALSRecommender: Epoch 13 of 40. Elapsed time 1.71 min\n",
      "IALSRecommender: Epoch 14 of 40. Elapsed time 1.87 min\n",
      "IALSRecommender: Validation begins...\n",
      "EvaluatorHoldout: Processed 10056 (100.0%) in 4.38 sec. Users per second: 2297\n",
      "IALSRecommender: CUTOFF: 20 - PRECISION: 0.0338952, PRECISION_RECALL_MIN_DEN: 0.1168566, RECALL: 0.1142463, MAP: 0.0110980, MAP_MIN_DEN: 0.0383166, MRR: 0.1429339, NDCG: 0.0831805, F1: 0.0522797, HIT_RATE: 0.4201472, ARHR_ALL_HITS: 0.1758993, NOVELTY: 0.0088504, AVERAGE_POPULARITY: 0.3445695, DIVERSITY_MEAN_INTER_LIST: 0.8627076, DIVERSITY_HERFINDAHL: 0.9931311, COVERAGE_ITEM: 0.0236702, COVERAGE_ITEM_HIT: 0.0166502, ITEMS_IN_GT: 0.7435424, COVERAGE_USER: 0.7956955, COVERAGE_USER_HIT: 0.3343092, USERS_IN_GT: 0.7956955, DIVERSITY_GINI: 0.0067865, SHANNON_ENTROPY: 7.6595909, RATIO_DIVERSITY_HERFINDAHL: 0.9934924, RATIO_DIVERSITY_GINI: 0.0196897, RATIO_SHANNON_ENTROPY: 0.5905961, RATIO_AVERAGE_POPULARITY: 2.8981096, RATIO_NOVELTY: 0.6255146, \n",
      "\n",
      "IALSRecommender: New best model found! Updating.\n",
      "IALSRecommender: Epoch 15 of 40. Elapsed time 2.26 min\n",
      "IALSRecommender: Epoch 16 of 40. Elapsed time 2.35 min\n",
      "IALSRecommender: Epoch 17 of 40. Elapsed time 2.55 min\n",
      "IALSRecommender: Epoch 18 of 40. Elapsed time 2.82 min\n",
      "IALSRecommender: Epoch 19 of 40. Elapsed time 3.06 min\n",
      "IALSRecommender: Validation begins...\n",
      "EvaluatorHoldout: Processed 10056 (100.0%) in 4.77 sec. Users per second: 2110\n",
      "IALSRecommender: CUTOFF: 20 - PRECISION: 0.0339996, PRECISION_RECALL_MIN_DEN: 0.1170531, RECALL: 0.1144328, MAP: 0.0112105, MAP_MIN_DEN: 0.0386845, MRR: 0.1448953, NDCG: 0.0837184, F1: 0.0524235, HIT_RATE: 0.4227327, ARHR_ALL_HITS: 0.1779807, NOVELTY: 0.0088607, AVERAGE_POPULARITY: 0.3422802, DIVERSITY_MEAN_INTER_LIST: 0.8650428, DIVERSITY_HERFINDAHL: 0.9932478, COVERAGE_ITEM: 0.0243002, COVERAGE_ITEM_HIT: 0.0166052, ITEMS_IN_GT: 0.7435424, COVERAGE_USER: 0.7956955, COVERAGE_USER_HIT: 0.3363665, USERS_IN_GT: 0.7956955, DIVERSITY_GINI: 0.0068838, SHANNON_ENTROPY: 7.6801509, RATIO_DIVERSITY_HERFINDAHL: 0.9936092, RATIO_DIVERSITY_GINI: 0.0199719, RATIO_SHANNON_ENTROPY: 0.5921814, RATIO_AVERAGE_POPULARITY: 2.8788547, RATIO_NOVELTY: 0.6262431, \n",
      "\n",
      "IALSRecommender: New best model found! Updating.\n",
      "IALSRecommender: Epoch 20 of 40. Elapsed time 3.33 min\n",
      "IALSRecommender: Epoch 21 of 40. Elapsed time 3.51 min\n",
      "IALSRecommender: Epoch 22 of 40. Elapsed time 3.74 min\n",
      "IALSRecommender: Epoch 23 of 40. Elapsed time 3.98 min\n",
      "IALSRecommender: Epoch 24 of 40. Elapsed time 4.21 min\n",
      "IALSRecommender: Validation begins...\n",
      "EvaluatorHoldout: Processed 10056 (100.0%) in 5.11 sec. Users per second: 1966\n",
      "IALSRecommender: CUTOFF: 20 - PRECISION: 0.0340046, PRECISION_RECALL_MIN_DEN: 0.1163054, RECALL: 0.1136564, MAP: 0.0112230, MAP_MIN_DEN: 0.0387068, MRR: 0.1447354, NDCG: 0.0835889, F1: 0.0523474, HIT_RATE: 0.4221360, ARHR_ALL_HITS: 0.1779151, NOVELTY: 0.0088689, AVERAGE_POPULARITY: 0.3405693, DIVERSITY_MEAN_INTER_LIST: 0.8668174, DIVERSITY_HERFINDAHL: 0.9933366, COVERAGE_ITEM: 0.0247502, COVERAGE_ITEM_HIT: 0.0164702, ITEMS_IN_GT: 0.7435424, COVERAGE_USER: 0.7956955, COVERAGE_USER_HIT: 0.3358918, USERS_IN_GT: 0.7956955, DIVERSITY_GINI: 0.0069708, SHANNON_ENTROPY: 7.6982198, RATIO_DIVERSITY_HERFINDAHL: 0.9936979, RATIO_DIVERSITY_GINI: 0.0202245, RATIO_SHANNON_ENTROPY: 0.5935746, RATIO_AVERAGE_POPULARITY: 2.8644647, RATIO_NOVELTY: 0.6268242, \n",
      "\n",
      "IALSRecommender: New best model found! Updating.\n",
      "IALSRecommender: Epoch 25 of 40. Elapsed time 4.53 min\n",
      "IALSRecommender: Epoch 26 of 40. Elapsed time 4.77 min\n",
      "IALSRecommender: Epoch 27 of 40. Elapsed time 5.03 min\n",
      "IALSRecommender: Epoch 28 of 40. Elapsed time 5.27 min\n",
      "IALSRecommender: Epoch 29 of 40. Elapsed time 5.56 min\n",
      "IALSRecommender: Validation begins...\n",
      "EvaluatorHoldout: Processed 10056 (100.0%) in 5.14 sec. Users per second: 1956\n",
      "IALSRecommender: CUTOFF: 20 - PRECISION: 0.0340543, PRECISION_RECALL_MIN_DEN: 0.1165608, RECALL: 0.1139314, MAP: 0.0111955, MAP_MIN_DEN: 0.0385474, MRR: 0.1443171, NDCG: 0.0834972, F1: 0.0524355, HIT_RATE: 0.4231305, ARHR_ALL_HITS: 0.1774779, NOVELTY: 0.0088714, AVERAGE_POPULARITY: 0.3401069, DIVERSITY_MEAN_INTER_LIST: 0.8670755, DIVERSITY_HERFINDAHL: 0.9933495, COVERAGE_ITEM: 0.0246152, COVERAGE_ITEM_HIT: 0.0163802, ITEMS_IN_GT: 0.7435424, COVERAGE_USER: 0.7956955, COVERAGE_USER_HIT: 0.3366830, USERS_IN_GT: 0.7956955, DIVERSITY_GINI: 0.0069849, SHANNON_ENTROPY: 7.7013272, RATIO_DIVERSITY_HERFINDAHL: 0.9937108, RATIO_DIVERSITY_GINI: 0.0202653, RATIO_SHANNON_ENTROPY: 0.5938142, RATIO_AVERAGE_POPULARITY: 2.8605758, RATIO_NOVELTY: 0.6270005, \n",
      "\n",
      "IALSRecommender: Epoch 30 of 40. Elapsed time 5.84 min\n",
      "IALSRecommender: Epoch 31 of 40. Elapsed time 6.24 min\n",
      "IALSRecommender: Epoch 32 of 40. Elapsed time 6.30 min\n",
      "IALSRecommender: Epoch 33 of 40. Elapsed time 6.37 min\n",
      "IALSRecommender: Epoch 34 of 40. Elapsed time 6.58 min\n",
      "IALSRecommender: Validation begins...\n",
      "EvaluatorHoldout: Processed 10056 (100.0%) in 4.80 sec. Users per second: 2096\n",
      "IALSRecommender: CUTOFF: 20 - PRECISION: 0.0340692, PRECISION_RECALL_MIN_DEN: 0.1166719, RECALL: 0.1140401, MAP: 0.0111837, MAP_MIN_DEN: 0.0386517, MRR: 0.1442414, NDCG: 0.0835431, F1: 0.0524647, HIT_RATE: 0.4234288, ARHR_ALL_HITS: 0.1773982, NOVELTY: 0.0088722, AVERAGE_POPULARITY: 0.3399634, DIVERSITY_MEAN_INTER_LIST: 0.8671991, DIVERSITY_HERFINDAHL: 0.9933556, COVERAGE_ITEM: 0.0245702, COVERAGE_ITEM_HIT: 0.0162902, ITEMS_IN_GT: 0.7435424, COVERAGE_USER: 0.7956955, COVERAGE_USER_HIT: 0.3369204, USERS_IN_GT: 0.7956955, DIVERSITY_GINI: 0.0069932, SHANNON_ENTROPY: 7.7031843, RATIO_DIVERSITY_HERFINDAHL: 0.9937170, RATIO_DIVERSITY_GINI: 0.0202893, RATIO_SHANNON_ENTROPY: 0.5939574, RATIO_AVERAGE_POPULARITY: 2.8593689, RATIO_NOVELTY: 0.6270548, \n",
      "\n",
      "IALSRecommender: Epoch 35 of 40. Elapsed time 7.02 min\n",
      "IALSRecommender: Epoch 36 of 40. Elapsed time 7.26 min\n",
      "IALSRecommender: Epoch 37 of 40. Elapsed time 7.73 min\n",
      "IALSRecommender: Epoch 38 of 40. Elapsed time 8.07 min\n",
      "IALSRecommender: Epoch 39 of 40. Elapsed time 8.41 min\n",
      "IALSRecommender: Validation begins...\n",
      "EvaluatorHoldout: Processed 10056 (100.0%) in 4.41 sec. Users per second: 2278\n",
      "IALSRecommender: CUTOFF: 20 - PRECISION: 0.0340344, PRECISION_RECALL_MIN_DEN: 0.1166778, RECALL: 0.1140555, MAP: 0.0111672, MAP_MIN_DEN: 0.0386518, MRR: 0.1442241, NDCG: 0.0835185, F1: 0.0524251, HIT_RATE: 0.4228321, ARHR_ALL_HITS: 0.1772526, NOVELTY: 0.0088717, AVERAGE_POPULARITY: 0.3400296, DIVERSITY_MEAN_INTER_LIST: 0.8671074, DIVERSITY_HERFINDAHL: 0.9933511, COVERAGE_ITEM: 0.0246602, COVERAGE_ITEM_HIT: 0.0162452, ITEMS_IN_GT: 0.7435424, COVERAGE_USER: 0.7956955, COVERAGE_USER_HIT: 0.3364456, USERS_IN_GT: 0.7956955, DIVERSITY_GINI: 0.0069889, SHANNON_ENTROPY: 7.7023601, RATIO_DIVERSITY_HERFINDAHL: 0.9937124, RATIO_DIVERSITY_GINI: 0.0202770, RATIO_SHANNON_ENTROPY: 0.5938938, RATIO_AVERAGE_POPULARITY: 2.8599256, RATIO_NOVELTY: 0.6270207, \n",
      "\n",
      "IALSRecommender: Epoch 40 of 40. Elapsed time 8.91 min\n",
      "IALSRecommender: Terminating at epoch 40. Best value for 'MAP' at epoch 25 is 0.0112. Elapsed time 8.91 min\n",
      "TopPopRecommender: URM Detected 516 ( 4.1%) users with no interactions.\n",
      "TopPopRecommender: URM Detected 330 ( 1.5%) items with no interactions.\n"
     ]
    }
   ],
   "source": [
    "from Recommenders.MatrixFactorization.IALSRecommender import IALSRecommender\n",
    "from Recommenders.NonPersonalizedRecommender import TopPop\n",
    "\n",
    "earlystopping_keywargs = {\"validation_every_n\": 5,\n",
    "                              \"stop_on_validation\": True,\n",
    "                              \"evaluator_object\": EvaluatorHoldout(URM_validation, [20], exclude_seen=True),\n",
    "                              \"lower_validations_allowed\": 5,\n",
    "                              \"validation_metric\": \"MAP\",\n",
    "                              }\n",
    "\n",
    "recommender = IALSRecommender(URM_train)\n",
    "recommender.fit(epochs = 40,**earlystopping_keywargs)\n",
    "\n",
    "top_recommender = TopPop(URM_train)\n",
    "top_recommender.fit()"
   ]
  },
  {
   "cell_type": "code",
   "execution_count": 15,
   "metadata": {
    "ExecuteTime": {
     "end_time": "2023-11-06T15:03:39.728090Z",
     "start_time": "2023-11-06T15:03:36.470643Z"
    }
   },
   "outputs": [
    {
     "name": "stdout",
     "output_type": "stream",
     "text": [
      "EvaluatorHoldout: Processed 10465 (100.0%) in 3.22 sec. Users per second: 3252\n"
     ]
    },
    {
     "data": {
      "text/plain": "(       PRECISION PRECISION_RECALL_MIN_DEN    RECALL       MAP MAP_MIN_DEN  \\\n cutoff                                                                      \n 10      0.027998                 0.052572  0.045015  0.010933    0.019688   \n \n              MRR      NDCG        F1  HIT_RATE ARHR_ALL_HITS  ...  \\\n cutoff                                                        ...   \n 10      0.088208  0.043098  0.034524  0.226947      0.098002  ...   \n \n        COVERAGE_USER COVERAGE_USER_HIT USERS_IN_GT DIVERSITY_GINI  \\\n cutoff                                                              \n 10          0.828058          0.187925    0.828058       0.000536   \n \n        SHANNON_ENTROPY RATIO_DIVERSITY_HERFINDAHL RATIO_DIVERSITY_GINI  \\\n cutoff                                                                   \n 10            3.601492                   0.913182              0.00156   \n \n        RATIO_SHANNON_ENTROPY RATIO_AVERAGE_POPULARITY RATIO_NOVELTY  \n cutoff                                                               \n 10                  0.277759                 6.075982      0.272001  \n \n [1 rows x 27 columns],\n 'CUTOFF: 10 - PRECISION: 0.0279981, PRECISION_RECALL_MIN_DEN: 0.0525721, RECALL: 0.0450152, MAP: 0.0109334, MAP_MIN_DEN: 0.0196884, MRR: 0.0882080, NDCG: 0.0430976, F1: 0.0345236, HIT_RATE: 0.2269470, ARHR_ALL_HITS: 0.0980020, NOVELTY: 0.0038476, AVERAGE_POPULARITY: 0.7362505, DIVERSITY_MEAN_INTER_LIST: 0.1285129, DIVERSITY_HERFINDAHL: 0.9128501, COVERAGE_ITEM: 0.0009450, COVERAGE_ITEM_HIT: 0.0008100, ITEMS_IN_GT: 0.8036630, COVERAGE_USER: 0.8280582, COVERAGE_USER_HIT: 0.1879253, USERS_IN_GT: 0.8280582, DIVERSITY_GINI: 0.0005361, SHANNON_ENTROPY: 3.6014917, RATIO_DIVERSITY_HERFINDAHL: 0.9131819, RATIO_DIVERSITY_GINI: 0.0015604, RATIO_SHANNON_ENTROPY: 0.2777585, RATIO_AVERAGE_POPULARITY: 6.0759824, RATIO_NOVELTY: 0.2720007, \\n')"
     },
     "execution_count": 15,
     "metadata": {},
     "output_type": "execute_result"
    }
   ],
   "source": [
    "evaluator_test.evaluateRecommender(top_recommender)"
   ]
  },
  {
   "cell_type": "code",
   "execution_count": 16,
   "outputs": [
    {
     "name": "stdout",
     "output_type": "stream",
     "text": [
      "EvaluatorHoldout: Processed 10465 (100.0%) in 4.68 sec. Users per second: 2235\n"
     ]
    },
    {
     "data": {
      "text/plain": "(       PRECISION PRECISION_RECALL_MIN_DEN    RECALL       MAP MAP_MIN_DEN  \\\n cutoff                                                                      \n 10      0.053636                 0.096234  0.081943  0.023996    0.043109   \n \n             MRR      NDCG        F1  HIT_RATE ARHR_ALL_HITS  ...  \\\n cutoff                                                       ...   \n 10      0.16593  0.084868  0.064834  0.368275      0.198611  ...   \n \n        COVERAGE_USER COVERAGE_USER_HIT USERS_IN_GT DIVERSITY_GINI  \\\n cutoff                                                              \n 10          0.828058          0.304953    0.828058        0.00474   \n \n        SHANNON_ENTROPY RATIO_DIVERSITY_HERFINDAHL RATIO_DIVERSITY_GINI  \\\n cutoff                                                                   \n 10            7.133695                   0.990246             0.013799   \n \n        RATIO_SHANNON_ENTROPY RATIO_AVERAGE_POPULARITY RATIO_NOVELTY  \n cutoff                                                               \n 10                  0.550173                 3.281262      0.300315  \n \n [1 rows x 27 columns],\n 'CUTOFF: 10 - PRECISION: 0.0536359, PRECISION_RECALL_MIN_DEN: 0.0962343, RECALL: 0.0819428, MAP: 0.0239962, MAP_MIN_DEN: 0.0431092, MRR: 0.1659302, NDCG: 0.0848682, F1: 0.0648343, HIT_RATE: 0.3682752, ARHR_ALL_HITS: 0.1986108, NOVELTY: 0.0042482, AVERAGE_POPULARITY: 0.3976033, DIVERSITY_MEAN_INTER_LIST: 0.8989521, DIVERSITY_HERFINDAHL: 0.9898866, COVERAGE_ITEM: 0.0161552, COVERAGE_ITEM_HIT: 0.0116101, ITEMS_IN_GT: 0.8036630, COVERAGE_USER: 0.8280582, COVERAGE_USER_HIT: 0.3049533, USERS_IN_GT: 0.8280582, DIVERSITY_GINI: 0.0047405, SHANNON_ENTROPY: 7.1336953, RATIO_DIVERSITY_HERFINDAHL: 0.9902464, RATIO_DIVERSITY_GINI: 0.0137986, RATIO_SHANNON_ENTROPY: 0.5501733, RATIO_AVERAGE_POPULARITY: 3.2812621, RATIO_NOVELTY: 0.3003153, \\n')"
     },
     "execution_count": 16,
     "metadata": {},
     "output_type": "execute_result"
    }
   ],
   "source": [
    "evaluator_test.evaluateRecommender(recommender)"
   ],
   "metadata": {
    "collapsed": false,
    "ExecuteTime": {
     "end_time": "2023-11-06T15:03:44.428885Z",
     "start_time": "2023-11-06T15:03:39.717573Z"
    }
   }
  },
  {
   "cell_type": "markdown",
   "metadata": {},
   "source": [
    "## Hyperparameter tuning\n",
    "\n",
    "#### Once we have built our model we can play with its parameters\n",
    "* Number of neighbors\n",
    "* Shrinkage\n",
    "* Similarity type\n",
    "\n",
    "#### Optimize the recommendation quality on the validation data, then use those hyperparameters to train the model in all the data you have (train + validation) and evaluate on the test data"
   ]
  },
  {
   "cell_type": "code",
   "execution_count": 29,
   "metadata": {
    "ExecuteTime": {
     "end_time": "2023-11-06T14:35:51.116922Z",
     "start_time": "2023-11-06T14:35:16.354322Z"
    }
   },
   "outputs": [
    {
     "name": "stdout",
     "output_type": "stream",
     "text": [
      "PureSVDRecommender: URM Detected 458 ( 3.6%) users with no interactions.\n",
      "PureSVDRecommender: URM Detected 332 ( 1.5%) items with no interactions.\n",
      "PureSVDRecommender: Computing SVD decomposition...\n",
      "PureSVDRecommender: Computing SVD decomposition... done in 0.38 sec\n",
      "EvaluatorHoldout: Processed 9986 (100.0%) in 4.84 sec. Users per second: 2063\n",
      "PureSVDRecommender: URM Detected 458 ( 3.6%) users with no interactions.\n",
      "PureSVDRecommender: URM Detected 332 ( 1.5%) items with no interactions.\n",
      "PureSVDRecommender: Computing SVD decomposition...\n",
      "PureSVDRecommender: Computing SVD decomposition... done in 0.59 sec\n",
      "EvaluatorHoldout: Processed 9986 (100.0%) in 4.83 sec. Users per second: 2069\n",
      "PureSVDRecommender: URM Detected 458 ( 3.6%) users with no interactions.\n",
      "PureSVDRecommender: URM Detected 332 ( 1.5%) items with no interactions.\n",
      "PureSVDRecommender: Computing SVD decomposition...\n",
      "PureSVDRecommender: Computing SVD decomposition... done in 0.83 sec\n",
      "EvaluatorHoldout: Processed 9986 (100.0%) in 5.28 sec. Users per second: 1890\n",
      "PureSVDRecommender: URM Detected 458 ( 3.6%) users with no interactions.\n",
      "PureSVDRecommender: URM Detected 332 ( 1.5%) items with no interactions.\n",
      "PureSVDRecommender: Computing SVD decomposition...\n",
      "PureSVDRecommender: Computing SVD decomposition... done in 0.89 sec\n",
      "EvaluatorHoldout: Processed 9986 (100.0%) in 4.87 sec. Users per second: 2050\n",
      "PureSVDRecommender: URM Detected 458 ( 3.6%) users with no interactions.\n",
      "PureSVDRecommender: URM Detected 332 ( 1.5%) items with no interactions.\n",
      "PureSVDRecommender: Computing SVD decomposition...\n",
      "PureSVDRecommender: Computing SVD decomposition... done in 0.90 sec\n",
      "EvaluatorHoldout: Processed 9986 (100.0%) in 4.94 sec. Users per second: 2020\n",
      "PureSVDRecommender: URM Detected 458 ( 3.6%) users with no interactions.\n",
      "PureSVDRecommender: URM Detected 332 ( 1.5%) items with no interactions.\n",
      "PureSVDRecommender: Computing SVD decomposition...\n",
      "PureSVDRecommender: Computing SVD decomposition... done in 1.41 sec\n",
      "EvaluatorHoldout: Processed 9986 (100.0%) in 4.71 sec. Users per second: 2120\n"
     ]
    },
    {
     "data": {
      "text/plain": "<Figure size 640x480 with 1 Axes>",
      "image/png": "[encoded data removed]"
     },
     "metadata": {},
     "output_type": "display_data"
    }
   ],
   "source": [
    "x_tick = [50, 75, 100, 125, 150, 200]\n",
    "MAP_per_factors = []\n",
    "\n",
    "for factor in x_tick:\n",
    "    \n",
    "    recommender = IALSRecommender(URM_train)\n",
    "    recommender.fit()\n",
    "    \n",
    "    result_df, _ = evaluator_validation.evaluateRecommender(recommender)\n",
    "    \n",
    "    MAP_per_factors.append(result_df.loc[10][\"MAP\"])\n",
    "\n",
    "pyplot.plot(x_tick, MAP_per_factors)\n",
    "pyplot.ylabel('MAP')\n",
    "pyplot.xlabel('factors')\n",
    "pyplot.show()"
   ]
  },
  {
   "cell_type": "markdown",
   "metadata": {},
   "source": [
    "# Generate submissions"
   ]
  },
  {
   "cell_type": "code",
   "execution_count": null,
   "metadata": {
    "is_executing": true,
    "ExecuteTime": {
     "start_time": "2023-11-07T00:14:55.647566Z"
    }
   },
   "outputs": [
    {
     "name": "stdout",
     "output_type": "stream",
     "text": [
      "EvaluatorHoldout: Ignoring 2569 (20.3%) Users that have less than 1 test interactions\n",
      "IALSRecommender: Epoch 1 of 300. Elapsed time 22.74 sec\n",
      "IALSRecommender: Epoch 2 of 300. Elapsed time 31.10 sec\n",
      "IALSRecommender: Epoch 3 of 300. Elapsed time 38.95 sec\n",
      "IALSRecommender: Epoch 4 of 300. Elapsed time 46.26 sec\n",
      "IALSRecommender: Epoch 5 of 300. Elapsed time 54.18 sec\n",
      "IALSRecommender: Epoch 6 of 300. Elapsed time 1.02 min\n",
      "IALSRecommender: Epoch 7 of 300. Elapsed time 1.20 min\n",
      "IALSRecommender: Epoch 8 of 300. Elapsed time 1.45 min\n",
      "IALSRecommender: Epoch 9 of 300. Elapsed time 1.60 min\n",
      "IALSRecommender: Epoch 10 of 300. Elapsed time 1.76 min\n",
      "IALSRecommender: Epoch 11 of 300. Elapsed time 1.88 min\n",
      "IALSRecommender: Epoch 12 of 300. Elapsed time 2.00 min\n",
      "IALSRecommender: Epoch 13 of 300. Elapsed time 2.27 min\n",
      "IALSRecommender: Epoch 14 of 300. Elapsed time 2.49 min\n",
      "IALSRecommender: Epoch 15 of 300. Elapsed time 2.68 min\n",
      "IALSRecommender: Epoch 16 of 300. Elapsed time 2.92 min\n",
      "IALSRecommender: Epoch 17 of 300. Elapsed time 3.13 min\n",
      "IALSRecommender: Epoch 18 of 300. Elapsed time 3.30 min\n",
      "IALSRecommender: Epoch 19 of 300. Elapsed time 3.47 min\n",
      "IALSRecommender: Epoch 20 of 300. Elapsed time 3.64 min\n",
      "IALSRecommender: Epoch 21 of 300. Elapsed time 4.00 min\n",
      "IALSRecommender: Epoch 22 of 300. Elapsed time 4.13 min\n",
      "IALSRecommender: Epoch 23 of 300. Elapsed time 4.25 min\n",
      "IALSRecommender: Epoch 24 of 300. Elapsed time 4.37 min\n",
      "IALSRecommender: Epoch 25 of 300. Elapsed time 4.54 min\n",
      "IALSRecommender: Epoch 26 of 300. Elapsed time 4.72 min\n",
      "IALSRecommender: Epoch 27 of 300. Elapsed time 4.82 min\n",
      "IALSRecommender: Epoch 28 of 300. Elapsed time 4.93 min\n",
      "IALSRecommender: Epoch 29 of 300. Elapsed time 5.04 min\n",
      "IALSRecommender: Epoch 30 of 300. Elapsed time 5.18 min\n",
      "IALSRecommender: Epoch 31 of 300. Elapsed time 5.31 min\n",
      "IALSRecommender: Epoch 32 of 300. Elapsed time 5.43 min\n",
      "IALSRecommender: Epoch 33 of 300. Elapsed time 5.55 min\n",
      "IALSRecommender: Epoch 34 of 300. Elapsed time 5.68 min\n",
      "IALSRecommender: Epoch 35 of 300. Elapsed time 5.79 min\n",
      "IALSRecommender: Epoch 36 of 300. Elapsed time 5.97 min\n",
      "IALSRecommender: Epoch 37 of 300. Elapsed time 6.17 min\n",
      "IALSRecommender: Epoch 38 of 300. Elapsed time 6.31 min\n",
      "IALSRecommender: Epoch 39 of 300. Elapsed time 6.44 min\n",
      "IALSRecommender: Epoch 40 of 300. Elapsed time 6.55 min\n",
      "IALSRecommender: Epoch 41 of 300. Elapsed time 6.69 min\n",
      "IALSRecommender: Epoch 42 of 300. Elapsed time 6.81 min\n",
      "IALSRecommender: Epoch 43 of 300. Elapsed time 6.91 min\n",
      "IALSRecommender: Epoch 44 of 300. Elapsed time 7.05 min\n",
      "IALSRecommender: Epoch 45 of 300. Elapsed time 7.16 min\n",
      "IALSRecommender: Epoch 46 of 300. Elapsed time 7.27 min\n",
      "IALSRecommender: Epoch 47 of 300. Elapsed time 7.36 min\n",
      "IALSRecommender: Epoch 48 of 300. Elapsed time 7.47 min\n",
      "IALSRecommender: Epoch 49 of 300. Elapsed time 7.58 min\n",
      "IALSRecommender: Epoch 50 of 300. Elapsed time 7.68 min\n",
      "IALSRecommender: Epoch 51 of 300. Elapsed time 7.78 min\n",
      "IALSRecommender: Epoch 52 of 300. Elapsed time 7.88 min\n",
      "IALSRecommender: Epoch 53 of 300. Elapsed time 7.98 min\n",
      "IALSRecommender: Epoch 54 of 300. Elapsed time 8.09 min\n",
      "IALSRecommender: Epoch 55 of 300. Elapsed time 8.20 min\n",
      "IALSRecommender: Epoch 56 of 300. Elapsed time 8.30 min\n",
      "IALSRecommender: Epoch 57 of 300. Elapsed time 8.40 min\n",
      "IALSRecommender: Epoch 58 of 300. Elapsed time 8.50 min\n",
      "IALSRecommender: Epoch 59 of 300. Elapsed time 8.60 min\n",
      "IALSRecommender: Epoch 60 of 300. Elapsed time 8.70 min\n",
      "IALSRecommender: Epoch 61 of 300. Elapsed time 8.80 min\n",
      "IALSRecommender: Epoch 62 of 300. Elapsed time 8.90 min\n",
      "IALSRecommender: Epoch 63 of 300. Elapsed time 9.03 min\n",
      "IALSRecommender: Epoch 64 of 300. Elapsed time 9.14 min\n",
      "IALSRecommender: Epoch 65 of 300. Elapsed time 9.23 min\n",
      "IALSRecommender: Epoch 66 of 300. Elapsed time 9.33 min\n",
      "IALSRecommender: Epoch 67 of 300. Elapsed time 9.42 min\n",
      "IALSRecommender: Epoch 68 of 300. Elapsed time 9.51 min\n",
      "IALSRecommender: Epoch 69 of 300. Elapsed time 9.61 min\n",
      "IALSRecommender: Epoch 70 of 300. Elapsed time 9.71 min\n",
      "IALSRecommender: Epoch 71 of 300. Elapsed time 9.84 min\n",
      "IALSRecommender: Epoch 72 of 300. Elapsed time 9.94 min\n",
      "IALSRecommender: Epoch 73 of 300. Elapsed time 10.03 min\n",
      "IALSRecommender: Epoch 74 of 300. Elapsed time 10.13 min\n",
      "IALSRecommender: Epoch 75 of 300. Elapsed time 10.23 min\n",
      "IALSRecommender: Epoch 76 of 300. Elapsed time 10.32 min\n",
      "IALSRecommender: Epoch 77 of 300. Elapsed time 10.41 min\n",
      "IALSRecommender: Epoch 78 of 300. Elapsed time 10.51 min\n",
      "IALSRecommender: Epoch 79 of 300. Elapsed time 10.63 min\n",
      "IALSRecommender: Epoch 80 of 300. Elapsed time 10.75 min\n",
      "IALSRecommender: Epoch 81 of 300. Elapsed time 10.85 min\n",
      "IALSRecommender: Epoch 82 of 300. Elapsed time 10.95 min\n",
      "IALSRecommender: Epoch 83 of 300. Elapsed time 11.05 min\n",
      "IALSRecommender: Epoch 84 of 300. Elapsed time 11.17 min\n",
      "IALSRecommender: Epoch 85 of 300. Elapsed time 11.27 min\n",
      "IALSRecommender: Epoch 86 of 300. Elapsed time 11.39 min\n",
      "IALSRecommender: Epoch 87 of 300. Elapsed time 11.50 min\n",
      "IALSRecommender: Epoch 88 of 300. Elapsed time 11.60 min\n",
      "IALSRecommender: Epoch 89 of 300. Elapsed time 11.72 min\n",
      "IALSRecommender: Epoch 90 of 300. Elapsed time 11.86 min\n",
      "IALSRecommender: Epoch 91 of 300. Elapsed time 11.95 min\n",
      "IALSRecommender: Epoch 92 of 300. Elapsed time 12.05 min\n",
      "IALSRecommender: Epoch 93 of 300. Elapsed time 12.15 min\n",
      "IALSRecommender: Epoch 94 of 300. Elapsed time 12.25 min\n",
      "IALSRecommender: Epoch 95 of 300. Elapsed time 12.35 min\n",
      "IALSRecommender: Epoch 96 of 300. Elapsed time 12.45 min\n",
      "IALSRecommender: Epoch 97 of 300. Elapsed time 12.55 min\n",
      "IALSRecommender: Epoch 98 of 300. Elapsed time 12.66 min\n",
      "IALSRecommender: Epoch 99 of 300. Elapsed time 12.76 min\n",
      "IALSRecommender: Epoch 100 of 300. Elapsed time 12.86 min\n",
      "IALSRecommender: Epoch 101 of 300. Elapsed time 12.96 min\n",
      "IALSRecommender: Epoch 102 of 300. Elapsed time 13.06 min\n",
      "IALSRecommender: Epoch 103 of 300. Elapsed time 13.17 min\n",
      "IALSRecommender: Epoch 104 of 300. Elapsed time 13.27 min\n",
      "IALSRecommender: Epoch 105 of 300. Elapsed time 13.41 min\n",
      "IALSRecommender: Epoch 106 of 300. Elapsed time 13.51 min\n",
      "IALSRecommender: Epoch 107 of 300. Elapsed time 13.62 min\n",
      "IALSRecommender: Epoch 108 of 300. Elapsed time 13.72 min\n",
      "IALSRecommender: Epoch 109 of 300. Elapsed time 13.81 min\n",
      "IALSRecommender: Epoch 110 of 300. Elapsed time 13.92 min\n",
      "IALSRecommender: Epoch 111 of 300. Elapsed time 14.01 min\n",
      "IALSRecommender: Epoch 112 of 300. Elapsed time 14.11 min\n",
      "IALSRecommender: Epoch 113 of 300. Elapsed time 14.21 min\n",
      "IALSRecommender: Epoch 114 of 300. Elapsed time 14.31 min\n",
      "IALSRecommender: Epoch 115 of 300. Elapsed time 14.40 min\n",
      "IALSRecommender: Epoch 116 of 300. Elapsed time 14.50 min\n",
      "IALSRecommender: Epoch 117 of 300. Elapsed time 14.60 min\n",
      "IALSRecommender: Epoch 118 of 300. Elapsed time 14.69 min\n",
      "IALSRecommender: Epoch 119 of 300. Elapsed time 14.79 min\n",
      "IALSRecommender: Epoch 120 of 300. Elapsed time 14.89 min\n",
      "IALSRecommender: Epoch 121 of 300. Elapsed time 14.99 min\n",
      "IALSRecommender: Epoch 122 of 300. Elapsed time 15.09 min\n",
      "IALSRecommender: Epoch 123 of 300. Elapsed time 15.19 min\n",
      "IALSRecommender: Epoch 124 of 300. Elapsed time 15.29 min\n",
      "IALSRecommender: Epoch 125 of 300. Elapsed time 15.39 min\n",
      "IALSRecommender: Epoch 126 of 300. Elapsed time 15.49 min\n",
      "IALSRecommender: Epoch 127 of 300. Elapsed time 15.59 min\n",
      "IALSRecommender: Epoch 128 of 300. Elapsed time 15.69 min\n",
      "IALSRecommender: Epoch 129 of 300. Elapsed time 15.79 min\n",
      "IALSRecommender: Epoch 130 of 300. Elapsed time 15.89 min\n",
      "IALSRecommender: Epoch 131 of 300. Elapsed time 15.98 min\n",
      "IALSRecommender: Epoch 132 of 300. Elapsed time 16.09 min\n",
      "IALSRecommender: Epoch 133 of 300. Elapsed time 16.19 min\n",
      "IALSRecommender: Epoch 134 of 300. Elapsed time 16.29 min\n",
      "IALSRecommender: Epoch 135 of 300. Elapsed time 16.39 min\n",
      "IALSRecommender: Epoch 136 of 300. Elapsed time 16.49 min\n",
      "IALSRecommender: Epoch 137 of 300. Elapsed time 16.60 min\n",
      "IALSRecommender: Epoch 138 of 300. Elapsed time 16.70 min\n",
      "IALSRecommender: Epoch 139 of 300. Elapsed time 16.81 min\n",
      "IALSRecommender: Epoch 140 of 300. Elapsed time 16.91 min\n",
      "IALSRecommender: Epoch 141 of 300. Elapsed time 17.01 min\n",
      "IALSRecommender: Epoch 142 of 300. Elapsed time 17.12 min\n",
      "IALSRecommender: Epoch 143 of 300. Elapsed time 17.23 min\n",
      "IALSRecommender: Epoch 144 of 300. Elapsed time 17.33 min\n",
      "IALSRecommender: Epoch 145 of 300. Elapsed time 17.43 min\n",
      "IALSRecommender: Epoch 146 of 300. Elapsed time 17.53 min\n",
      "IALSRecommender: Epoch 147 of 300. Elapsed time 17.64 min\n",
      "IALSRecommender: Epoch 148 of 300. Elapsed time 17.74 min\n",
      "IALSRecommender: Epoch 149 of 300. Elapsed time 17.84 min\n",
      "IALSRecommender: Epoch 150 of 300. Elapsed time 17.94 min\n",
      "IALSRecommender: Epoch 151 of 300. Elapsed time 18.04 min\n",
      "IALSRecommender: Epoch 152 of 300. Elapsed time 18.14 min\n",
      "IALSRecommender: Epoch 153 of 300. Elapsed time 18.25 min\n",
      "IALSRecommender: Epoch 154 of 300. Elapsed time 18.35 min\n",
      "IALSRecommender: Epoch 155 of 300. Elapsed time 18.45 min\n",
      "IALSRecommender: Epoch 156 of 300. Elapsed time 18.56 min\n",
      "IALSRecommender: Epoch 157 of 300. Elapsed time 18.66 min\n",
      "IALSRecommender: Epoch 158 of 300. Elapsed time 18.76 min\n",
      "IALSRecommender: Epoch 159 of 300. Elapsed time 18.86 min\n",
      "IALSRecommender: Epoch 160 of 300. Elapsed time 18.96 min\n",
      "IALSRecommender: Epoch 161 of 300. Elapsed time 19.05 min\n",
      "IALSRecommender: Epoch 162 of 300. Elapsed time 19.17 min\n",
      "IALSRecommender: Epoch 163 of 300. Elapsed time 19.26 min\n",
      "IALSRecommender: Epoch 164 of 300. Elapsed time 19.35 min\n",
      "IALSRecommender: Epoch 165 of 300. Elapsed time 19.45 min\n",
      "IALSRecommender: Epoch 166 of 300. Elapsed time 19.55 min\n",
      "IALSRecommender: Epoch 167 of 300. Elapsed time 19.64 min\n",
      "IALSRecommender: Epoch 168 of 300. Elapsed time 19.72 min\n",
      "IALSRecommender: Epoch 169 of 300. Elapsed time 19.81 min\n",
      "IALSRecommender: Epoch 170 of 300. Elapsed time 19.90 min\n",
      "IALSRecommender: Epoch 171 of 300. Elapsed time 19.99 min\n",
      "IALSRecommender: Epoch 172 of 300. Elapsed time 20.08 min\n",
      "IALSRecommender: Epoch 173 of 300. Elapsed time 20.17 min\n",
      "IALSRecommender: Epoch 174 of 300. Elapsed time 20.26 min\n",
      "IALSRecommender: Epoch 175 of 300. Elapsed time 20.35 min\n",
      "IALSRecommender: Epoch 176 of 300. Elapsed time 20.44 min\n",
      "IALSRecommender: Epoch 177 of 300. Elapsed time 20.53 min\n",
      "IALSRecommender: Epoch 178 of 300. Elapsed time 20.62 min\n",
      "IALSRecommender: Epoch 179 of 300. Elapsed time 20.71 min\n",
      "IALSRecommender: Epoch 180 of 300. Elapsed time 20.80 min\n",
      "IALSRecommender: Epoch 181 of 300. Elapsed time 20.88 min\n",
      "IALSRecommender: Epoch 182 of 300. Elapsed time 20.97 min\n",
      "IALSRecommender: Epoch 183 of 300. Elapsed time 21.06 min\n",
      "IALSRecommender: Epoch 184 of 300. Elapsed time 21.16 min\n",
      "IALSRecommender: Epoch 185 of 300. Elapsed time 21.24 min\n",
      "IALSRecommender: Epoch 186 of 300. Elapsed time 21.34 min\n",
      "IALSRecommender: Epoch 187 of 300. Elapsed time 21.42 min\n",
      "IALSRecommender: Epoch 188 of 300. Elapsed time 21.51 min\n",
      "IALSRecommender: Epoch 189 of 300. Elapsed time 21.60 min\n",
      "IALSRecommender: Epoch 190 of 300. Elapsed time 21.69 min\n",
      "IALSRecommender: Epoch 191 of 300. Elapsed time 21.76 min\n",
      "IALSRecommender: Epoch 192 of 300. Elapsed time 21.81 min\n",
      "IALSRecommender: Epoch 193 of 300. Elapsed time 1.12 hour\n",
      "IALSRecommender: Epoch 194 of 300. Elapsed time 1.12 hour\n",
      "IALSRecommender: Epoch 195 of 300. Elapsed time 1.12 hour\n",
      "IALSRecommender: Epoch 196 of 300. Elapsed time 1.12 hour\n",
      "IALSRecommender: Epoch 197 of 300. Elapsed time 1.12 hour\n",
      "IALSRecommender: Epoch 198 of 300. Elapsed time 1.12 hour\n",
      "IALSRecommender: Epoch 199 of 300. Elapsed time 1.12 hour\n",
      "IALSRecommender: Epoch 200 of 300. Elapsed time 1.12 hour\n",
      "IALSRecommender: Epoch 201 of 300. Elapsed time 1.12 hour\n",
      "IALSRecommender: Epoch 202 of 300. Elapsed time 1.12 hour\n"
     ]
    }
   ],
   "source": [
    "# RETRAIN WITH FULL DATASET\n",
    "from Recommenders.MatrixFactorization.IALSRecommender import IALSRecommender\n",
    "\n",
    "earlystopping_keywargs = {\"validation_every_n\": 5,\n",
    "                              \"stop_on_validation\": True,\n",
    "                              \"evaluator_object\": EvaluatorHoldout(URM_validation, [10], exclude_seen=True),\n",
    "                              \"lower_validations_allowed\": 5,\n",
    "                              \"validation_metric\": \"MAP\",\n",
    "                              }\n",
    "\n",
    "recommender = IALSRecommender(URM_all)\n",
    "recommender.fit(epochs=300)\n",
    "\n",
    "top_recommender = TopPop(URM_all)\n",
    "top_recommender.fit()"
   ]
  },
  {
   "cell_type": "code",
   "execution_count": 31,
   "metadata": {
    "ExecuteTime": {
     "end_time": "2023-11-06T14:37:19.686962Z",
     "start_time": "2023-11-06T14:37:19.679161Z"
    }
   },
   "outputs": [
    {
     "data": {
      "text/plain": "[[517, 189, 44, 0, 284, 808, 285, 557, 1, 1266],\n [517, 189, 44, 0, 284, 808, 285, 557, 1, 1266],\n [517, 0, 284, 808, 285, 557, 1, 1266, 1265, 841]]"
     },
     "execution_count": 31,
     "metadata": {},
     "output_type": "execute_result"
    }
   ],
   "source": [
    "top_recommender.recommend(np.array([22,2,5]), cutoff=10)"
   ]
  },
  {
   "cell_type": "code",
   "execution_count": 32,
   "metadata": {
    "ExecuteTime": {
     "end_time": "2023-11-06T14:37:21.923770Z",
     "start_time": "2023-11-06T14:37:21.905792Z"
    }
   },
   "outputs": [],
   "source": [
    "import pandas as pd\n",
    "URM_path = \"data_target_users_test.csv\"\n",
    "URM_all_submission_dataframe = pd.read_csv(filepath_or_buffer=URM_path, \n",
    "                                sep=\",\", \n",
    "                                # header=None, \n",
    "                                dtype={0:int},\n",
    "                                engine='python')\n",
    "\n",
    "URM_all_submission_dataframe.columns = [\"UserID\"]"
   ]
  },
  {
   "cell_type": "code",
   "execution_count": 33,
   "metadata": {
    "ExecuteTime": {
     "end_time": "2023-11-06T14:37:22.571916Z",
     "start_time": "2023-11-06T14:37:22.569082Z"
    }
   },
   "outputs": [],
   "source": [
    "URM_all_submission_dataframe[\"UserIDMapped\"] = URM_all_submission_dataframe[\"UserID\"].map(user_original_ID_to_index)"
   ]
  },
  {
   "cell_type": "code",
   "execution_count": 34,
   "metadata": {
    "ExecuteTime": {
     "end_time": "2023-11-06T14:37:28.873074Z",
     "start_time": "2023-11-06T14:37:23.686037Z"
    }
   },
   "outputs": [],
   "source": [
    "import pandas as pd\n",
    "# Assuming you have a DataFrame URM_all_submission_dataframe with 'UserIDMapped' and 'item_list' columns\n",
    "\n",
    "# First, create a mask for non-null 'UserIDMapped' values\n",
    "mask = ~URM_all_submission_dataframe['UserIDMapped'].isna()\n",
    "URM_all_submission_dataframe['item_list'] = top_recommender.recommend(URM_all_submission_dataframe['UserIDMapped'], cutoff=10, remove_seen_flag=False)\n",
    "URM_all_submission_dataframe.loc[mask, 'item_list'] = pd.Series(recommender.recommend(URM_all_submission_dataframe.loc[mask, 'UserIDMapped'].to_numpy().astype(int), cutoff=10, remove_seen_flag=True), index=URM_all_submission_dataframe.index[mask])"
   ]
  },
  {
   "cell_type": "code",
   "execution_count": 35,
   "metadata": {
    "ExecuteTime": {
     "end_time": "2023-11-06T14:37:30.671896Z",
     "start_time": "2023-11-06T14:37:30.652677Z"
    }
   },
   "outputs": [],
   "source": [
    "item_index_to_original_id = item_original_ID_to_index.reset_index().set_index(0).to_numpy().reshape(-1)\n",
    "URM_all_submission_dataframe['item_list'] = URM_all_submission_dataframe['item_list'].apply(lambda item_indices: [item_index_to_original_id[index] for index in item_indices])"
   ]
  },
  {
   "cell_type": "code",
   "execution_count": 36,
   "metadata": {
    "ExecuteTime": {
     "end_time": "2023-11-06T14:37:31.499561Z",
     "start_time": "2023-11-06T14:37:31.349397Z"
    }
   },
   "outputs": [
    {
     "name": "stderr",
     "output_type": "stream",
     "text": [
      "/var/folders/l3/n3yjvx_d2g9dy0ztkyft2th40000gn/T/ipykernel_50253/2149847291.py:3: SettingWithCopyWarning: \n",
      "A value is trying to be set on a copy of a slice from a DataFrame.\n",
      "Try using .loc[row_indexer,col_indexer] = value instead\n",
      "\n",
      "See the caveats in the documentation: https://pandas.pydata.org/pandas-docs/stable/user_guide/indexing.html#returning-a-view-versus-a-copy\n",
      "  submission['item_list'] = submission['item_list'].apply(lambda x: ' '.join(map(str, x))) # remove brakets\n",
      "/var/folders/l3/n3yjvx_d2g9dy0ztkyft2th40000gn/T/ipykernel_50253/2149847291.py:6: SettingWithCopyWarning: \n",
      "A value is trying to be set on a copy of a slice from a DataFrame.\n",
      "Try using .loc[row_indexer,col_indexer] = value instead\n",
      "\n",
      "See the caveats in the documentation: https://pandas.pydata.org/pandas-docs/stable/user_guide/indexing.html#returning-a-view-versus-a-copy\n",
      "  submission['item_list'] = submission['item_list'].astype(str)\n"
     ]
    }
   ],
   "source": [
    "submission = URM_all_submission_dataframe[[\"UserID\",\"item_list\"]]\n",
    "submission.columns = [\"user_id\", \"item_list\"]\n",
    "submission['item_list'] = submission['item_list'].apply(lambda x: ' '.join(map(str, x))) # remove brakets\n",
    "\n",
    "# Convert item_list to string format\n",
    "submission['item_list'] = submission['item_list'].astype(str)\n",
    "\n",
    "# Save to CSV without quotes and with the desired format\n",
    "# submission.to_csv(\"submission.csv\", index=False, header=[\"user_id\", \"item_list\"], quoting=csv.QUOTE_NONE, sep=',')\n",
    "def write_csv_without_quotes(df, file_path):\n",
    "    with open(file_path, 'w', newline='') as f:\n",
    "        f.write(\"user_id,item_list\\n\")\n",
    "        for index, row in df.iterrows():\n",
    "            f.write(f\"{row['user_id']},{row['item_list']}\\n\")\n",
    "\n",
    "# Save the DataFrame to CSV without quotes and with the desired format\n",
    "write_csv_without_quotes(submission, \"submission.csv\")"
   ]
  },
  {
   "cell_type": "code",
   "execution_count": 37,
   "metadata": {
    "ExecuteTime": {
     "end_time": "2023-11-06T14:37:34.027708Z",
     "start_time": "2023-11-06T14:37:34.004542Z"
    }
   },
   "outputs": [
    {
     "data": {
      "text/plain": "0           36 101 52 102 112 139 403 146 318 156\n1                50 47 12 28 46 114 125 136 5 131\n2           59 259 414 536 584 648 117 18 159 956\n3                28 50 59 145 97 54 136 90 249 46\n4            116 77 164 62 131 179 175 148 186 95\n                           ...                   \n10877      161 155 108 337 105 87 506 403 303 345\n10878      13 133 24 57 593 474 6179 6720 350 579\n10879    119 147 83 299 540 133 809 625 1446 1411\n10880           23 32 129 89 82 96 242 282 313 37\n10881      347 292 329 139 353 408 415 24 733 132\nName: item_list, Length: 10882, dtype: object"
     },
     "execution_count": 37,
     "metadata": {},
     "output_type": "execute_result"
    }
   ],
   "source": [
    "submission['item_list']"
   ]
  },
  {
   "cell_type": "code",
   "execution_count": null,
   "outputs": [],
   "source": [],
   "metadata": {
    "collapsed": false
   }
  }
 ],
 "metadata": {
  "anaconda-cloud": {},
  "kernelspec": {
   "display_name": "Python 3 (ipykernel)",
   "language": "python",
   "name": "python3"
  },
  "language_info": {
   "codemirror_mode": {
    "name": "ipython",
    "version": 3
   },
   "file_extension": ".py",
   "mimetype": "text/x-python",
   "name": "python",
   "nbconvert_exporter": "python",
   "pygments_lexer": "ipython3",
   "version": "3.8.0"
  }
 },
 "nbformat": 4,
 "nbformat_minor": 4
}
