{
 "cells": [
  {
   "cell_type": "code",
   "execution_count": null,
   "outputs": [],
   "source": [
    "import pandas as pd\n",
    "import matplotlib.pyplot as plt\n",
    "\n",
    "# Load the CSV file with userID, itemID, and interaction\n",
    "csv_file_path = 'data_train.csv'  # Replace with the actual file path\n",
    "data = pd.read_csv(filepath_or_buffer=csv_file_path,\n",
    "                                    sep=\",\",\n",
    "                                    # header=None,\n",
    "                                    dtype={0: int, 1: int, 2: int},\n",
    "                                    engine='python')\n",
    "data.columns = [\"userID\", \"ItemID\", \"interaction\"]\n",
    "# Group users based on the number of interactions\n",
    "user_interactions = data.groupby('userID')['interaction'].count().reset_index()\n",
    "user_interactions.columns = ['userID', 'interaction_count']\n",
    "\n",
    "# Define the groups based on interaction counts\n",
    "bins = [0, 10, 20, 30, 40, float('inf')]\n",
    "labels = ['Group 1', 'Group 2', 'Group 3', 'Group 4', 'Group 5']\n",
    "user_interactions['group'] = pd.cut(user_interactions['interaction_count'], bins=bins, labels=labels)\n",
    "\n",
    "# Open another CSV file with just userIDs\n",
    "user_ids_file_path = 'data_target_users_test.csv'  # Replace with the actual file path\n",
    "user_ids = pd.read_csv(filepath_or_buffer=user_ids_file_path,\n",
    "                                               sep=\",\",\n",
    "                                               # header=None,\n",
    "                                               dtype={0: int},\n",
    "                                               engine='python')\n",
    "user_ids.columns = ['userID']\n",
    "# Merge the userIDs with the grouped user information\n",
    "merged_data = pd.merge(user_ids, user_interactions[['userID', 'group']], on='userID', how='left')\n",
    "\n",
    "# Plot the distribution of userIDs in the 5 groups\n",
    "plt.figure(figsize=(10, 6))\n",
    "merged_data['group'].value_counts().sort_index().plot(kind='bar', color='skyblue')\n",
    "plt.title('Distribution of UserIDs in 5 Groups based on Interaction Counts')\n",
    "plt.xlabel('Group')\n",
    "plt.ylabel('Number of Interactions')\n",
    "plt.xticks(rotation=45)\n",
    "plt.show()"
   ],
   "metadata": {
    "collapsed": false
   },
   "id": "3f01a5f386eaff3c"
  },
  {
   "cell_type": "code",
   "execution_count": 8,
   "outputs": [
    {
     "data": {
      "text/plain": "       userID  interaction_count\n0           1               44.0\n1           2               38.0\n2           3                4.0\n3           4               39.0\n4           5               75.0\n...       ...                ...\n10877   13020               35.0\n10878   13021              197.0\n10879   13022                8.0\n10880   13023               26.0\n10881   13024               71.0\n\n[10882 rows x 2 columns]",
      "text/html": "<div>\n<style scoped>\n    .dataframe tbody tr th:only-of-type {\n        vertical-align: middle;\n    }\n\n    .dataframe tbody tr th {\n        vertical-align: top;\n    }\n\n    .dataframe thead th {\n        text-align: right;\n    }\n</style>\n<table border=\"1\" class=\"dataframe\">\n  <thead>\n    <tr style=\"text-align: right;\">\n      <th></th>\n      <th>userID</th>\n      <th>interaction_count</th>\n    </tr>\n  </thead>\n  <tbody>\n    <tr>\n      <th>0</th>\n      <td>1</td>\n      <td>44.0</td>\n    </tr>\n    <tr>\n      <th>1</th>\n      <td>2</td>\n      <td>38.0</td>\n    </tr>\n    <tr>\n      <th>2</th>\n      <td>3</td>\n      <td>4.0</td>\n    </tr>\n    <tr>\n      <th>3</th>\n      <td>4</td>\n      <td>39.0</td>\n    </tr>\n    <tr>\n      <th>4</th>\n      <td>5</td>\n      <td>75.0</td>\n    </tr>\n    <tr>\n      <th>...</th>\n      <td>...</td>\n      <td>...</td>\n    </tr>\n    <tr>\n      <th>10877</th>\n      <td>13020</td>\n      <td>35.0</td>\n    </tr>\n    <tr>\n      <th>10878</th>\n      <td>13021</td>\n      <td>197.0</td>\n    </tr>\n    <tr>\n      <th>10879</th>\n      <td>13022</td>\n      <td>8.0</td>\n    </tr>\n    <tr>\n      <th>10880</th>\n      <td>13023</td>\n      <td>26.0</td>\n    </tr>\n    <tr>\n      <th>10881</th>\n      <td>13024</td>\n      <td>71.0</td>\n    </tr>\n  </tbody>\n</table>\n<p>10882 rows × 2 columns</p>\n</div>"
     },
     "execution_count": 8,
     "metadata": {},
     "output_type": "execute_result"
    }
   ],
   "source": [
    "import pandas as pd\n",
    "import matplotlib.pyplot as plt\n",
    "\n",
    "# Load the CSV file with userID, itemID, and interaction\n",
    "csv_file_path = 'data_train.csv'  # Replace with the actual file path\n",
    "data = pd.read_csv(filepath_or_buffer=csv_file_path,\n",
    "                                    sep=\",\",\n",
    "                                    # header=None,\n",
    "                                    dtype={0: int, 1: int, 2: int},\n",
    "                                    engine='python')\n",
    "data.columns = [\"userID\", \"ItemID\", \"interaction\"]\n",
    "# Group users based on the number of interactions\n",
    "user_interactions = data.groupby('userID')['interaction'].count().reset_index()\n",
    "user_interactions.columns = ['userID', 'interaction_count']\n",
    "\n",
    "# Define the groups based on interaction counts\n",
    "bins = [0, 10, 20, 30, 40, float('inf')]\n",
    "#labels = ['Group 1', 'Group 2', 'Group 3', 'Group 4', 'Group 5']\n",
    "#user_interactions['group'] = pd.cut(user_interactions['interaction_count'], bins=bins, labels=labels)\n",
    "\n",
    "# Open another CSV file with just userIDs\n",
    "user_ids_file_path = 'data_target_users_test.csv'  # Replace with the actual file path\n",
    "user_ids = pd.read_csv(filepath_or_buffer=user_ids_file_path,\n",
    "                                               sep=\",\",\n",
    "                                               # header=None,\n",
    "                                               dtype={0: int},\n",
    "                                               engine='python')\n",
    "user_ids.columns = ['userID']\n",
    "# Merge the userIDs with the grouped user information\n",
    "merged_data = pd.merge(user_ids, user_interactions[['userID', 'interaction_count']], on='userID', how='left')\n",
    "\n",
    "merged_data"
   ],
   "metadata": {
    "collapsed": false,
    "ExecuteTime": {
     "end_time": "2023-12-03T17:24:43.492892Z",
     "start_time": "2023-12-03T17:24:42.667349Z"
    }
   },
   "id": "c6638bcccbda289b"
  },
  {
   "cell_type": "code",
   "execution_count": null,
   "outputs": [],
   "source": [],
   "metadata": {
    "collapsed": false
   },
   "id": "5c8e0a084deb061c"
  }
 ],
 "metadata": {
  "kernelspec": {
   "display_name": "Python 3",
   "language": "python",
   "name": "python3"
  },
  "language_info": {
   "codemirror_mode": {
    "name": "ipython",
    "version": 2
   },
   "file_extension": ".py",
   "mimetype": "text/x-python",
   "name": "python",
   "nbconvert_exporter": "python",
   "pygments_lexer": "ipython2",
   "version": "2.7.6"
  }
 },
 "nbformat": 4,
 "nbformat_minor": 5
}
