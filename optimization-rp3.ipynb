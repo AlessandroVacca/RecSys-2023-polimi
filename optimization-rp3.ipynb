{
 "cells": [
  {
   "cell_type": "code",
   "execution_count": 1,
   "id": "initial_id",
   "metadata": {
    "collapsed": true,
    "ExecuteTime": {
     "end_time": "2023-11-21T17:35:38.132454494Z",
     "start_time": "2023-11-21T17:35:33.425283026Z"
    }
   },
   "outputs": [
    {
     "name": "stdout",
     "output_type": "stream",
     "text": [
      "Warning: 245 (1.94 %) of 12638 users have no train items\n",
      "Warning: 2100 (16.62 %) of 12638 users have no sampled items\n",
      "Warning: 502 (3.97 %) of 12638 users have no train items\n",
      "Warning: 2595 (20.53 %) of 12638 users have no sampled items\n"
     ]
    }
   ],
   "source": [
    "from Data_manager.UserUtils import *\n",
    "from Data_manager.split_functions.split_train_validation_random_holdout import \\\n",
    "    split_train_in_two_percentage_global_sample\n",
    "URM_all = getURM_all()\n",
    "URM_train_validation, URM_test = split_train_in_two_percentage_global_sample(URM_all, train_percentage = 0.80)\n",
    "URM_train, URM_validation = split_train_in_two_percentage_global_sample(URM_train_validation, train_percentage = 0.80)"
   ]
  },
  {
   "cell_type": "code",
   "execution_count": 2,
   "outputs": [
    {
     "name": "stdout",
     "output_type": "stream",
     "text": [
      "EvaluatorHoldout: Ignoring 2595 (20.5%) Users that have less than 1 test interactions\n",
      "EvaluatorHoldout: Ignoring 0 Users\n"
     ]
    }
   ],
   "source": [
    "from Recommenders.GraphBased.RP3betaRecommender import RP3betaRecommender\n",
    "model = RP3betaRecommender\n",
    "\n",
    "from Evaluation.Evaluator import EvaluatorHoldout\n",
    "evaluator_validation = EvaluatorHoldout(URM_validation, cutoff_list=[10], ignore_users=[])"
   ],
   "metadata": {
    "collapsed": false,
    "ExecuteTime": {
     "end_time": "2023-11-21T17:35:38.275334224Z",
     "start_time": "2023-11-21T17:35:37.887271957Z"
    }
   },
   "id": "8a9fec0ccc4f11c5"
  },
  {
   "cell_type": "code",
   "execution_count": 3,
   "outputs": [],
   "source": [
    "import optuna as op\n",
    "def objective(trial):\n",
    "    topK = trial.suggest_int(\"topK\", 1e2, 1e4)\n",
    "    alpha = trial.suggest_float(\"alpha\", 0.01e-03, 0.5)\n",
    "    beta = trial.suggest_float(\"beta\", 1e-3, 0.5)\n",
    "\n",
    "    \n",
    "    recommender = model(URM_train)\n",
    "    recommender.fit(**trial.params)\n",
    "    \n",
    "    result, _ = evaluator_validation.evaluateRecommender(recommender)\n",
    "    MAP_result = result[\"MAP\"].item()\n",
    "       \n",
    "    return MAP_result"
   ],
   "metadata": {
    "collapsed": false,
    "ExecuteTime": {
     "end_time": "2023-11-21T17:35:38.545987881Z",
     "start_time": "2023-11-21T17:35:38.246449727Z"
    }
   },
   "id": "b826576f6714c764"
  },
  {
   "cell_type": "code",
   "execution_count": 8,
   "outputs": [
    {
     "name": "stderr",
     "output_type": "stream",
     "text": [
      "[I 2023-11-21 22:01:42,765] A new study created in memory with name: no-name-25472d06-7714-4d88-8df3-63325f7b1509\n"
     ]
    },
    {
     "name": "stdout",
     "output_type": "stream",
     "text": [
      "RP3betaRecommender: URM Detected 502 ( 4.0%) users with no interactions.\n",
      "RP3betaRecommender: URM Detected 323 ( 1.5%) items with no interactions.\n",
      "RP3betaRecommender: Similarity column 22222 (100.0%), 3762.50 column/sec. Elapsed time 5.91 sec\n",
      "EvaluatorHoldout: Processed 10043 (100.0%) in 4.71 sec. Users per second: 2134\n"
     ]
    },
    {
     "name": "stderr",
     "output_type": "stream",
     "text": [
      "[I 2023-11-21 22:01:54,948] Trial 0 finished with value: 0.02895109363072139 and parameters: {'topK': 101, 'alpha': 0.3026342852596128, 'beta': 0.058468783118329024}. Best is trial 0 with value: 0.02895109363072139.\n"
     ]
    },
    {
     "name": "stdout",
     "output_type": "stream",
     "text": [
      "RP3betaRecommender: URM Detected 502 ( 4.0%) users with no interactions.\n",
      "RP3betaRecommender: URM Detected 323 ( 1.5%) items with no interactions.\n",
      "RP3betaRecommender: Similarity column 22222 (100.0%), 1041.93 column/sec. Elapsed time 21.33 sec\n",
      "EvaluatorHoldout: Processed 10043 (100.0%) in 8.97 sec. Users per second: 1119\n"
     ]
    },
    {
     "name": "stderr",
     "output_type": "stream",
     "text": [
      "[I 2023-11-21 22:02:43,157] Trial 1 finished with value: 0.018493608436105723 and parameters: {'topK': 6024, 'alpha': 0.16596722575753695, 'beta': 0.3337603798641373}. Best is trial 0 with value: 0.02895109363072139.\n"
     ]
    },
    {
     "name": "stdout",
     "output_type": "stream",
     "text": [
      "RP3betaRecommender: URM Detected 502 ( 4.0%) users with no interactions.\n",
      "RP3betaRecommender: URM Detected 323 ( 1.5%) items with no interactions.\n",
      "RP3betaRecommender: Similarity column 22222 (100.0%), 1169.30 column/sec. Elapsed time 19.00 sec\n",
      "EvaluatorHoldout: Processed 10043 (100.0%) in 9.99 sec. Users per second: 1005\n"
     ]
    },
    {
     "name": "stderr",
     "output_type": "stream",
     "text": [
      "[I 2023-11-21 22:03:29,271] Trial 2 finished with value: 0.018655333652595443 and parameters: {'topK': 6057, 'alpha': 0.13826424096733636, 'beta': 0.19921040377287894}. Best is trial 0 with value: 0.02895109363072139.\n"
     ]
    },
    {
     "name": "stdout",
     "output_type": "stream",
     "text": [
      "RP3betaRecommender: URM Detected 502 ( 4.0%) users with no interactions.\n",
      "RP3betaRecommender: URM Detected 323 ( 1.5%) items with no interactions.\n",
      "RP3betaRecommender: Similarity column 22222 (100.0%), 1030.79 column/sec. Elapsed time 21.56 sec\n",
      "EvaluatorHoldout: Processed 10043 (100.0%) in 9.00 sec. Users per second: 1116\n"
     ]
    },
    {
     "name": "stderr",
     "output_type": "stream",
     "text": [
      "[I 2023-11-21 22:04:18,794] Trial 3 finished with value: 0.019216551368796735 and parameters: {'topK': 4918, 'alpha': 0.49090129684725464, 'beta': 0.18483985899798802}. Best is trial 0 with value: 0.02895109363072139.\n"
     ]
    },
    {
     "name": "stdout",
     "output_type": "stream",
     "text": [
      "RP3betaRecommender: URM Detected 502 ( 4.0%) users with no interactions.\n",
      "RP3betaRecommender: URM Detected 323 ( 1.5%) items with no interactions.\n",
      "RP3betaRecommender: Similarity column 22222 (100.0%), 1099.99 column/sec. Elapsed time 20.20 sec\n",
      "EvaluatorHoldout: Processed 10043 (100.0%) in 8.69 sec. Users per second: 1155\n"
     ]
    },
    {
     "name": "stderr",
     "output_type": "stream",
     "text": [
      "[I 2023-11-21 22:05:04,248] Trial 4 finished with value: 0.017822482373413384 and parameters: {'topK': 5404, 'alpha': 0.443817499481937, 'beta': 0.08465407525950784}. Best is trial 0 with value: 0.02895109363072139.\n"
     ]
    },
    {
     "name": "stdout",
     "output_type": "stream",
     "text": [
      "RP3betaRecommender: URM Detected 502 ( 4.0%) users with no interactions.\n",
      "RP3betaRecommender: URM Detected 323 ( 1.5%) items with no interactions.\n",
      "RP3betaRecommender: Similarity column 22222 (100.0%), 1162.77 column/sec. Elapsed time 19.11 sec\n",
      "EvaluatorHoldout: Processed 10043 (100.0%) in 8.76 sec. Users per second: 1146\n"
     ]
    },
    {
     "name": "stderr",
     "output_type": "stream",
     "text": [
      "[I 2023-11-21 22:05:48,404] Trial 5 finished with value: 0.01752198483030904 and parameters: {'topK': 5185, 'alpha': 0.22393690837069016, 'beta': 0.04591254887365538}. Best is trial 0 with value: 0.02895109363072139.\n"
     ]
    },
    {
     "name": "stdout",
     "output_type": "stream",
     "text": [
      "RP3betaRecommender: URM Detected 502 ( 4.0%) users with no interactions.\n",
      "RP3betaRecommender: URM Detected 323 ( 1.5%) items with no interactions.\n",
      "RP3betaRecommender: Similarity column 22222 (100.0%), 1221.36 column/sec. Elapsed time 18.19 sec\n",
      "EvaluatorHoldout: Processed 10043 (100.0%) in 8.19 sec. Users per second: 1226\n"
     ]
    },
    {
     "name": "stderr",
     "output_type": "stream",
     "text": [
      "[I 2023-11-21 22:06:29,416] Trial 6 finished with value: 0.019013744865333065 and parameters: {'topK': 3275, 'alpha': 0.460046663774194, 'beta': 0.00230453152324454}. Best is trial 0 with value: 0.02895109363072139.\n"
     ]
    },
    {
     "name": "stdout",
     "output_type": "stream",
     "text": [
      "RP3betaRecommender: URM Detected 502 ( 4.0%) users with no interactions.\n",
      "RP3betaRecommender: URM Detected 323 ( 1.5%) items with no interactions.\n",
      "RP3betaRecommender: Similarity column 22222 (100.0%), 1128.47 column/sec. Elapsed time 19.69 sec\n",
      "EvaluatorHoldout: Processed 10043 (100.0%) in 8.88 sec. Users per second: 1132\n"
     ]
    },
    {
     "name": "stderr",
     "output_type": "stream",
     "text": [
      "[I 2023-11-21 22:07:14,963] Trial 7 finished with value: 0.01572427055723877 and parameters: {'topK': 9582, 'alpha': 0.02635129137636859, 'beta': 0.14185900079375957}. Best is trial 0 with value: 0.02895109363072139.\n"
     ]
    },
    {
     "name": "stdout",
     "output_type": "stream",
     "text": [
      "RP3betaRecommender: URM Detected 502 ( 4.0%) users with no interactions.\n",
      "RP3betaRecommender: URM Detected 323 ( 1.5%) items with no interactions.\n",
      "RP3betaRecommender: Similarity column 22222 (100.0%), 1420.90 column/sec. Elapsed time 15.64 sec\n",
      "EvaluatorHoldout: Processed 10043 (100.0%) in 7.62 sec. Users per second: 1318\n"
     ]
    },
    {
     "name": "stderr",
     "output_type": "stream",
     "text": [
      "[I 2023-11-21 22:07:49,761] Trial 8 finished with value: 0.019314005332625294 and parameters: {'topK': 1415, 'alpha': 0.42956774246586366, 'beta': 0.41248240237675105}. Best is trial 0 with value: 0.02895109363072139.\n"
     ]
    },
    {
     "name": "stdout",
     "output_type": "stream",
     "text": [
      "RP3betaRecommender: URM Detected 502 ( 4.0%) users with no interactions.\n",
      "RP3betaRecommender: URM Detected 323 ( 1.5%) items with no interactions.\n",
      "RP3betaRecommender: Similarity column 22222 (100.0%), 1221.70 column/sec. Elapsed time 18.19 sec\n",
      "EvaluatorHoldout: Processed 10043 (100.0%) in 8.07 sec. Users per second: 1245\n"
     ]
    },
    {
     "name": "stderr",
     "output_type": "stream",
     "text": [
      "[I 2023-11-21 22:08:30,183] Trial 9 finished with value: 0.016604394753354224 and parameters: {'topK': 2428, 'alpha': 0.1547818043589081, 'beta': 0.42994245057016417}. Best is trial 0 with value: 0.02895109363072139.\n"
     ]
    },
    {
     "name": "stdout",
     "output_type": "stream",
     "text": [
      "RP3betaRecommender: URM Detected 502 ( 4.0%) users with no interactions.\n",
      "RP3betaRecommender: URM Detected 323 ( 1.5%) items with no interactions.\n",
      "RP3betaRecommender: Similarity column 22222 (100.0%), 1745.34 column/sec. Elapsed time 12.73 sec\n",
      "EvaluatorHoldout: Processed 10043 (100.0%) in 6.25 sec. Users per second: 1606\n"
     ]
    },
    {
     "name": "stderr",
     "output_type": "stream",
     "text": [
      "[I 2023-11-21 22:08:57,427] Trial 10 finished with value: 0.0234198343946427 and parameters: {'topK': 707, 'alpha': 0.34018954704520904, 'beta': 0.2762552307510424}. Best is trial 0 with value: 0.02895109363072139.\n"
     ]
    },
    {
     "name": "stdout",
     "output_type": "stream",
     "text": [
      "RP3betaRecommender: URM Detected 502 ( 4.0%) users with no interactions.\n",
      "RP3betaRecommender: URM Detected 323 ( 1.5%) items with no interactions.\n",
      "RP3betaRecommender: Similarity column 22222 (100.0%), 1996.68 column/sec. Elapsed time 11.13 sec\n",
      "EvaluatorHoldout: Processed 10043 (100.0%) in 5.98 sec. Users per second: 1680\n"
     ]
    },
    {
     "name": "stderr",
     "output_type": "stream",
     "text": [
      "[I 2023-11-21 22:09:21,567] Trial 11 finished with value: 0.02364948578256353 and parameters: {'topK': 575, 'alpha': 0.34705589463079084, 'beta': 0.29311328371957}. Best is trial 0 with value: 0.02895109363072139.\n"
     ]
    },
    {
     "name": "stdout",
     "output_type": "stream",
     "text": [
      "RP3betaRecommender: URM Detected 502 ( 4.0%) users with no interactions.\n",
      "RP3betaRecommender: URM Detected 323 ( 1.5%) items with no interactions.\n",
      "RP3betaRecommender: Similarity column 22222 (100.0%), 3009.87 column/sec. Elapsed time 7.38 sec\n",
      "EvaluatorHoldout: Processed 10043 (100.0%) in 5.26 sec. Users per second: 1909\n"
     ]
    },
    {
     "name": "stderr",
     "output_type": "stream",
     "text": [
      "[I 2023-11-21 22:09:38,134] Trial 12 finished with value: 0.02560188016924052 and parameters: {'topK': 245, 'alpha': 0.3255941712476672, 'beta': 0.27303335048416955}. Best is trial 0 with value: 0.02895109363072139.\n"
     ]
    },
    {
     "name": "stdout",
     "output_type": "stream",
     "text": [
      "RP3betaRecommender: URM Detected 502 ( 4.0%) users with no interactions.\n",
      "RP3betaRecommender: URM Detected 323 ( 1.5%) items with no interactions.\n",
      "RP3betaRecommender: Similarity column 22222 (100.0%), 1215.92 column/sec. Elapsed time 18.28 sec\n",
      "EvaluatorHoldout: Processed 10043 (100.0%) in 8.19 sec. Users per second: 1226\n"
     ]
    },
    {
     "name": "stderr",
     "output_type": "stream",
     "text": [
      "[I 2023-11-21 22:10:18,974] Trial 13 finished with value: 0.02052159049420826 and parameters: {'topK': 2956, 'alpha': 0.3098699462091893, 'beta': 0.10780281756838828}. Best is trial 0 with value: 0.02895109363072139.\n"
     ]
    },
    {
     "name": "stdout",
     "output_type": "stream",
     "text": [
      "RP3betaRecommender: URM Detected 502 ( 4.0%) users with no interactions.\n",
      "RP3betaRecommender: URM Detected 323 ( 1.5%) items with no interactions.\n",
      "RP3betaRecommender: Similarity column 22222 (100.0%), 2559.56 column/sec. Elapsed time 8.68 sec\n",
      "EvaluatorHoldout: Processed 10043 (100.0%) in 5.38 sec. Users per second: 1866\n"
     ]
    },
    {
     "name": "stderr",
     "output_type": "stream",
     "text": [
      "[I 2023-11-21 22:10:37,829] Trial 14 finished with value: 0.024960447852014112 and parameters: {'topK': 340, 'alpha': 0.2770753953127353, 'beta': 0.21762278709475735}. Best is trial 0 with value: 0.02895109363072139.\n"
     ]
    },
    {
     "name": "stdout",
     "output_type": "stream",
     "text": [
      "RP3betaRecommender: URM Detected 502 ( 4.0%) users with no interactions.\n",
      "RP3betaRecommender: URM Detected 323 ( 1.5%) items with no interactions.\n",
      "RP3betaRecommender: Similarity column 22222 (100.0%), 1124.50 column/sec. Elapsed time 19.76 sec\n",
      "EvaluatorHoldout: Processed 10043 (100.0%) in 8.89 sec. Users per second: 1130\n"
     ]
    },
    {
     "name": "stderr",
     "output_type": "stream",
     "text": [
      "[I 2023-11-21 22:11:23,948] Trial 15 finished with value: 0.01668117965763091 and parameters: {'topK': 8445, 'alpha': 0.381630110043921, 'beta': 0.14790195134015227}. Best is trial 0 with value: 0.02895109363072139.\n"
     ]
    },
    {
     "name": "stdout",
     "output_type": "stream",
     "text": [
      "RP3betaRecommender: URM Detected 502 ( 4.0%) users with no interactions.\n",
      "RP3betaRecommender: URM Detected 323 ( 1.5%) items with no interactions.\n",
      "RP3betaRecommender: Similarity column 22222 (100.0%), 1339.44 column/sec. Elapsed time 16.59 sec\n",
      "EvaluatorHoldout: Processed 10043 (100.0%) in 7.42 sec. Users per second: 1354\n"
     ]
    },
    {
     "name": "stderr",
     "output_type": "stream",
     "text": [
      "[I 2023-11-21 22:12:00,139] Trial 16 finished with value: 0.02219595422224122 and parameters: {'topK': 1753, 'alpha': 0.26312278575415965, 'beta': 0.24481892390861482}. Best is trial 0 with value: 0.02895109363072139.\n"
     ]
    },
    {
     "name": "stdout",
     "output_type": "stream",
     "text": [
      "RP3betaRecommender: URM Detected 502 ( 4.0%) users with no interactions.\n",
      "RP3betaRecommender: URM Detected 323 ( 1.5%) items with no interactions.\n",
      "RP3betaRecommender: Similarity column 22222 (100.0%), 1177.08 column/sec. Elapsed time 18.88 sec\n",
      "EvaluatorHoldout: Processed 10043 (100.0%) in 8.45 sec. Users per second: 1188\n"
     ]
    },
    {
     "name": "stderr",
     "output_type": "stream",
     "text": [
      "[I 2023-11-21 22:12:43,480] Trial 17 finished with value: 0.012806503463677564 and parameters: {'topK': 4004, 'alpha': 0.39032249726769397, 'beta': 0.49229894400374147}. Best is trial 0 with value: 0.02895109363072139.\n"
     ]
    },
    {
     "name": "stdout",
     "output_type": "stream",
     "text": [
      "RP3betaRecommender: URM Detected 502 ( 4.0%) users with no interactions.\n",
      "RP3betaRecommender: URM Detected 323 ( 1.5%) items with no interactions.\n",
      "RP3betaRecommender: Similarity column 22222 (100.0%), 1119.65 column/sec. Elapsed time 19.85 sec\n",
      "EvaluatorHoldout: Processed 10043 (100.0%) in 8.90 sec. Users per second: 1128\n"
     ]
    },
    {
     "name": "stderr",
     "output_type": "stream",
     "text": [
      "[I 2023-11-21 22:13:29,407] Trial 18 finished with value: 0.015438546788492042 and parameters: {'topK': 7324, 'alpha': 0.3087757514515686, 'beta': 0.015162764021289403}. Best is trial 0 with value: 0.02895109363072139.\n"
     ]
    },
    {
     "name": "stdout",
     "output_type": "stream",
     "text": [
      "RP3betaRecommender: URM Detected 502 ( 4.0%) users with no interactions.\n",
      "RP3betaRecommender: URM Detected 323 ( 1.5%) items with no interactions.\n",
      "RP3betaRecommender: Similarity column 22222 (100.0%), 1332.78 column/sec. Elapsed time 16.67 sec\n",
      "EvaluatorHoldout: Processed 10043 (100.0%) in 7.35 sec. Users per second: 1367\n"
     ]
    },
    {
     "name": "stderr",
     "output_type": "stream",
     "text": [
      "[I 2023-11-21 22:14:05,505] Trial 19 finished with value: 0.021909001610535068 and parameters: {'topK': 1758, 'alpha': 0.2249327871626426, 'beta': 0.09322558754037988}. Best is trial 0 with value: 0.02895109363072139.\n"
     ]
    },
    {
     "name": "stdout",
     "output_type": "stream",
     "text": [
      "RP3betaRecommender: URM Detected 502 ( 4.0%) users with no interactions.\n",
      "RP3betaRecommender: URM Detected 323 ( 1.5%) items with no interactions.\n",
      "RP3betaRecommender: Similarity column 22222 (100.0%), 1169.58 column/sec. Elapsed time 19.00 sec\n",
      "EvaluatorHoldout: Processed 10043 (100.0%) in 8.56 sec. Users per second: 1173\n"
     ]
    },
    {
     "name": "stderr",
     "output_type": "stream",
     "text": [
      "[I 2023-11-21 22:14:48,902] Trial 20 finished with value: 0.02008187413170988 and parameters: {'topK': 4048, 'alpha': 0.3950570027747017, 'beta': 0.1644778965454453}. Best is trial 0 with value: 0.02895109363072139.\n"
     ]
    },
    {
     "name": "stdout",
     "output_type": "stream",
     "text": [
      "RP3betaRecommender: URM Detected 502 ( 4.0%) users with no interactions.\n",
      "RP3betaRecommender: URM Detected 323 ( 1.5%) items with no interactions.\n",
      "RP3betaRecommender: Similarity column 22222 (100.0%), 3306.16 column/sec. Elapsed time 6.72 sec\n",
      "EvaluatorHoldout: Processed 10043 (100.0%) in 5.12 sec. Users per second: 1963\n"
     ]
    },
    {
     "name": "stderr",
     "output_type": "stream",
     "text": [
      "[I 2023-11-21 22:15:04,198] Trial 21 finished with value: 0.026291344045999032 and parameters: {'topK': 208, 'alpha': 0.28043793843413056, 'beta': 0.2256979153065574}. Best is trial 0 with value: 0.02895109363072139.\n"
     ]
    },
    {
     "name": "stdout",
     "output_type": "stream",
     "text": [
      "RP3betaRecommender: URM Detected 502 ( 4.0%) users with no interactions.\n",
      "RP3betaRecommender: URM Detected 323 ( 1.5%) items with no interactions.\n",
      "RP3betaRecommender: Similarity column 22222 (100.0%), 3382.90 column/sec. Elapsed time 6.57 sec\n",
      "EvaluatorHoldout: Processed 10043 (100.0%) in 5.13 sec. Users per second: 1956\n"
     ]
    },
    {
     "name": "stderr",
     "output_type": "stream",
     "text": [
      "[I 2023-11-21 22:15:19,196] Trial 22 finished with value: 0.026487097544052724 and parameters: {'topK': 197, 'alpha': 0.29781942527156213, 'beta': 0.22464478458119763}. Best is trial 0 with value: 0.02895109363072139.\n"
     ]
    },
    {
     "name": "stdout",
     "output_type": "stream",
     "text": [
      "RP3betaRecommender: URM Detected 502 ( 4.0%) users with no interactions.\n",
      "RP3betaRecommender: URM Detected 323 ( 1.5%) items with no interactions.\n",
      "RP3betaRecommender: Similarity column 22222 (100.0%), 1510.42 column/sec. Elapsed time 14.71 sec\n",
      "EvaluatorHoldout: Processed 10043 (100.0%) in 6.74 sec. Users per second: 1489\n"
     ]
    },
    {
     "name": "stderr",
     "output_type": "stream",
     "text": [
      "[I 2023-11-21 22:15:51,058] Trial 23 finished with value: 0.023175041764855565 and parameters: {'topK': 1065, 'alpha': 0.2779251835700514, 'beta': 0.20816909424236765}. Best is trial 0 with value: 0.02895109363072139.\n"
     ]
    },
    {
     "name": "stdout",
     "output_type": "stream",
     "text": [
      "RP3betaRecommender: URM Detected 502 ( 4.0%) users with no interactions.\n",
      "RP3betaRecommender: URM Detected 323 ( 1.5%) items with no interactions.\n",
      "RP3betaRecommender: Similarity column 22222 (100.0%), 1177.07 column/sec. Elapsed time 18.88 sec\n",
      "EvaluatorHoldout: Processed 10043 (100.0%) in 8.24 sec. Users per second: 1219\n"
     ]
    },
    {
     "name": "stderr",
     "output_type": "stream",
     "text": [
      "[I 2023-11-21 22:16:32,834] Trial 24 finished with value: 0.021357847762557572 and parameters: {'topK': 2447, 'alpha': 0.24480174456341197, 'beta': 0.1286493224978036}. Best is trial 0 with value: 0.02895109363072139.\n"
     ]
    },
    {
     "name": "stdout",
     "output_type": "stream",
     "text": [
      "RP3betaRecommender: URM Detected 502 ( 4.0%) users with no interactions.\n",
      "RP3betaRecommender: URM Detected 323 ( 1.5%) items with no interactions.\n",
      "RP3betaRecommender: Similarity column 22222 (100.0%), 4265.57 column/sec. Elapsed time 5.21 sec\n",
      "EvaluatorHoldout: Processed 10043 (100.0%) in 5.03 sec. Users per second: 1996\n"
     ]
    },
    {
     "name": "stderr",
     "output_type": "stream",
     "text": [
      "[I 2023-11-21 22:16:45,075] Trial 25 finished with value: 0.02880307139617122 and parameters: {'topK': 103, 'alpha': 0.36152374876545, 'beta': 0.17031411831055188}. Best is trial 0 with value: 0.02895109363072139.\n"
     ]
    },
    {
     "name": "stdout",
     "output_type": "stream",
     "text": [
      "RP3betaRecommender: URM Detected 502 ( 4.0%) users with no interactions.\n",
      "RP3betaRecommender: URM Detected 323 ( 1.5%) items with no interactions.\n",
      "RP3betaRecommender: Similarity column 22222 (100.0%), 1314.08 column/sec. Elapsed time 16.91 sec\n",
      "EvaluatorHoldout: Processed 10043 (100.0%) in 7.06 sec. Users per second: 1422\n"
     ]
    },
    {
     "name": "stderr",
     "output_type": "stream",
     "text": [
      "[I 2023-11-21 22:17:20,268] Trial 26 finished with value: 0.02274052921643285 and parameters: {'topK': 1367, 'alpha': 0.35460755233200913, 'beta': 0.058838550536898224}. Best is trial 0 with value: 0.02895109363072139.\n"
     ]
    },
    {
     "name": "stdout",
     "output_type": "stream",
     "text": [
      "RP3betaRecommender: URM Detected 502 ( 4.0%) users with no interactions.\n",
      "RP3betaRecommender: URM Detected 323 ( 1.5%) items with no interactions.\n",
      "RP3betaRecommender: Similarity column 22222 (100.0%), 1182.02 column/sec. Elapsed time 18.80 sec\n",
      "EvaluatorHoldout: Processed 10043 (100.0%) in 8.30 sec. Users per second: 1210\n"
     ]
    },
    {
     "name": "stderr",
     "output_type": "stream",
     "text": [
      "[I 2023-11-21 22:18:01,655] Trial 27 finished with value: 0.021769403469841585 and parameters: {'topK': 2257, 'alpha': 0.37606880267112036, 'beta': 0.1624148103082959}. Best is trial 0 with value: 0.02895109363072139.\n"
     ]
    },
    {
     "name": "stdout",
     "output_type": "stream",
     "text": [
      "RP3betaRecommender: URM Detected 502 ( 4.0%) users with no interactions.\n",
      "RP3betaRecommender: URM Detected 323 ( 1.5%) items with no interactions.\n",
      "RP3betaRecommender: Similarity column 22222 (100.0%), 1452.27 column/sec. Elapsed time 15.30 sec\n",
      "EvaluatorHoldout: Processed 10043 (100.0%) in 6.57 sec. Users per second: 1528\n"
     ]
    },
    {
     "name": "stderr",
     "output_type": "stream",
     "text": [
      "[I 2023-11-21 22:18:33,272] Trial 28 finished with value: 0.023485935082320702 and parameters: {'topK': 1034, 'alpha': 0.42079042810084977, 'beta': 0.10214561648591615}. Best is trial 0 with value: 0.02895109363072139.\n"
     ]
    },
    {
     "name": "stdout",
     "output_type": "stream",
     "text": [
      "RP3betaRecommender: URM Detected 502 ( 4.0%) users with no interactions.\n",
      "RP3betaRecommender: URM Detected 323 ( 1.5%) items with no interactions.\n",
      "RP3betaRecommender: Similarity column 22222 (100.0%), 1122.55 column/sec. Elapsed time 19.80 sec\n",
      "EvaluatorHoldout: Processed 10043 (100.0%) in 8.67 sec. Users per second: 1159\n"
     ]
    },
    {
     "name": "stderr",
     "output_type": "stream",
     "text": [
      "[I 2023-11-21 22:19:17,941] Trial 29 finished with value: 0.019944832458523618 and parameters: {'topK': 3553, 'alpha': 0.3227457581746902, 'beta': 0.31930860964564095}. Best is trial 0 with value: 0.02895109363072139.\n"
     ]
    },
    {
     "name": "stdout",
     "output_type": "stream",
     "text": [
      "RP3betaRecommender: URM Detected 502 ( 4.0%) users with no interactions.\n",
      "RP3betaRecommender: URM Detected 323 ( 1.5%) items with no interactions.\n",
      "RP3betaRecommender: Similarity column 22222 (100.0%), 3989.68 column/sec. Elapsed time 5.57 sec\n",
      "EvaluatorHoldout: Processed 10043 (100.0%) in 5.21 sec. Users per second: 1928\n"
     ]
    },
    {
     "name": "stderr",
     "output_type": "stream",
     "text": [
      "[I 2023-11-21 22:19:31,302] Trial 30 finished with value: 0.02760457018945532 and parameters: {'topK': 130, 'alpha': 0.18935566386844294, 'beta': 0.23877470164579492}. Best is trial 0 with value: 0.02895109363072139.\n"
     ]
    },
    {
     "name": "stdout",
     "output_type": "stream",
     "text": [
      "RP3betaRecommender: URM Detected 502 ( 4.0%) users with no interactions.\n",
      "RP3betaRecommender: URM Detected 323 ( 1.5%) items with no interactions.\n",
      "RP3betaRecommender: Similarity column 22222 (100.0%), 3987.21 column/sec. Elapsed time 5.57 sec\n",
      "EvaluatorHoldout: Processed 10043 (100.0%) in 5.30 sec. Users per second: 1897\n"
     ]
    },
    {
     "name": "stderr",
     "output_type": "stream",
     "text": [
      "[I 2023-11-21 22:19:44,658] Trial 31 finished with value: 0.02757756330319319 and parameters: {'topK': 128, 'alpha': 0.19265714923768248, 'beta': 0.24384303741775684}. Best is trial 0 with value: 0.02895109363072139.\n"
     ]
    },
    {
     "name": "stdout",
     "output_type": "stream",
     "text": [
      "RP3betaRecommender: URM Detected 502 ( 4.0%) users with no interactions.\n",
      "RP3betaRecommender: URM Detected 323 ( 1.5%) items with no interactions.\n",
      "RP3betaRecommender: Similarity column 22222 (100.0%), 1223.16 column/sec. Elapsed time 18.17 sec\n",
      "EvaluatorHoldout: Processed 10043 (100.0%) in 8.00 sec. Users per second: 1255\n"
     ]
    },
    {
     "name": "stderr",
     "output_type": "stream",
     "text": [
      "[I 2023-11-21 22:20:24,085] Trial 32 finished with value: 0.02202292839204123 and parameters: {'topK': 1923, 'alpha': 0.1840182877407853, 'beta': 0.18122796914310826}. Best is trial 0 with value: 0.02895109363072139.\n"
     ]
    },
    {
     "name": "stdout",
     "output_type": "stream",
     "text": [
      "RP3betaRecommender: URM Detected 502 ( 4.0%) users with no interactions.\n",
      "RP3betaRecommender: URM Detected 323 ( 1.5%) items with no interactions.\n",
      "RP3betaRecommender: Similarity column 22222 (100.0%), 1442.62 column/sec. Elapsed time 15.40 sec\n",
      "EvaluatorHoldout: Processed 10043 (100.0%) in 7.02 sec. Users per second: 1430\n"
     ]
    },
    {
     "name": "stderr",
     "output_type": "stream",
     "text": [
      "[I 2023-11-21 22:20:56,607] Trial 33 finished with value: 0.02283566378856634 and parameters: {'topK': 1074, 'alpha': 0.1792394871512817, 'beta': 0.25176489394581947}. Best is trial 0 with value: 0.02895109363072139.\n"
     ]
    },
    {
     "name": "stdout",
     "output_type": "stream",
     "text": [
      "RP3betaRecommender: URM Detected 502 ( 4.0%) users with no interactions.\n",
      "RP3betaRecommender: URM Detected 323 ( 1.5%) items with no interactions.\n",
      "RP3betaRecommender: Similarity column 22222 (100.0%), 1037.72 column/sec. Elapsed time 21.41 sec\n",
      "EvaluatorHoldout: Processed 10043 (100.0%) in 9.28 sec. Users per second: 1083\n"
     ]
    },
    {
     "name": "stderr",
     "output_type": "stream",
     "text": [
      "[I 2023-11-21 22:21:45,915] Trial 34 finished with value: 0.017992821344409497 and parameters: {'topK': 6972, 'alpha': 0.13001430701718025, 'beta': 0.18650153404280012}. Best is trial 0 with value: 0.02895109363072139.\n"
     ]
    },
    {
     "name": "stdout",
     "output_type": "stream",
     "text": [
      "RP3betaRecommender: URM Detected 502 ( 4.0%) users with no interactions.\n",
      "RP3betaRecommender: URM Detected 323 ( 1.5%) items with no interactions.\n",
      "RP3betaRecommender: Similarity column 22222 (100.0%), 1533.04 column/sec. Elapsed time 14.50 sec\n",
      "EvaluatorHoldout: Processed 10043 (100.0%) in 6.67 sec. Users per second: 1505\n"
     ]
    },
    {
     "name": "stderr",
     "output_type": "stream",
     "text": [
      "[I 2023-11-21 22:22:16,185] Trial 35 finished with value: 0.023207430272052423 and parameters: {'topK': 862, 'alpha': 0.20135065540914923, 'beta': 0.1908561472464583}. Best is trial 0 with value: 0.02895109363072139.\n"
     ]
    },
    {
     "name": "stdout",
     "output_type": "stream",
     "text": [
      "RP3betaRecommender: URM Detected 502 ( 4.0%) users with no interactions.\n",
      "RP3betaRecommender: URM Detected 323 ( 1.5%) items with no interactions.\n",
      "RP3betaRecommender: Similarity column 22222 (100.0%), 1145.92 column/sec. Elapsed time 19.39 sec\n",
      "EvaluatorHoldout: Processed 10043 (100.0%) in 8.31 sec. Users per second: 1209\n"
     ]
    },
    {
     "name": "stderr",
     "output_type": "stream",
     "text": [
      "[I 2023-11-21 22:22:58,971] Trial 36 finished with value: 0.02091519165998908 and parameters: {'topK': 2746, 'alpha': 0.2505231482724929, 'beta': 0.11862276069656164}. Best is trial 0 with value: 0.02895109363072139.\n"
     ]
    },
    {
     "name": "stdout",
     "output_type": "stream",
     "text": [
      "RP3betaRecommender: URM Detected 502 ( 4.0%) users with no interactions.\n",
      "RP3betaRecommender: URM Detected 323 ( 1.5%) items with no interactions.\n",
      "RP3betaRecommender: Similarity column 22222 (100.0%), 3688.44 column/sec. Elapsed time 6.02 sec\n",
      "EvaluatorHoldout: Processed 10043 (100.0%) in 5.08 sec. Users per second: 1979\n"
     ]
    },
    {
     "name": "stderr",
     "output_type": "stream",
     "text": [
      "[I 2023-11-21 22:23:12,500] Trial 37 finished with value: 0.027892968963615285 and parameters: {'topK': 137, 'alpha': 0.11740536696966829, 'beta': 0.13586464832561657}. Best is trial 0 with value: 0.02895109363072139.\n"
     ]
    },
    {
     "name": "stdout",
     "output_type": "stream",
     "text": [
      "RP3betaRecommender: URM Detected 502 ( 4.0%) users with no interactions.\n",
      "RP3betaRecommender: URM Detected 323 ( 1.5%) items with no interactions.\n",
      "RP3betaRecommender: Similarity column 22222 (100.0%), 1293.48 column/sec. Elapsed time 17.18 sec\n",
      "EvaluatorHoldout: Processed 10043 (100.0%) in 7.54 sec. Users per second: 1332\n"
     ]
    },
    {
     "name": "stderr",
     "output_type": "stream",
     "text": [
      "[I 2023-11-21 22:23:49,492] Trial 38 finished with value: 0.02223134964098825 and parameters: {'topK': 1544, 'alpha': 0.12307004109711095, 'beta': 0.06529437215721397}. Best is trial 0 with value: 0.02895109363072139.\n"
     ]
    },
    {
     "name": "stdout",
     "output_type": "stream",
     "text": [
      "RP3betaRecommender: URM Detected 502 ( 4.0%) users with no interactions.\n",
      "RP3betaRecommender: URM Detected 323 ( 1.5%) items with no interactions.\n",
      "RP3betaRecommender: Similarity column 22222 (100.0%), 1736.30 column/sec. Elapsed time 12.80 sec\n",
      "EvaluatorHoldout: Processed 10043 (100.0%) in 6.16 sec. Users per second: 1630\n"
     ]
    },
    {
     "name": "stderr",
     "output_type": "stream",
     "text": [
      "[I 2023-11-21 22:24:16,789] Trial 39 finished with value: 0.02352171377363059 and parameters: {'topK': 806, 'alpha': 0.09996756236011159, 'beta': 0.13480213744103522}. Best is trial 0 with value: 0.02895109363072139.\n"
     ]
    },
    {
     "name": "stdout",
     "output_type": "stream",
     "text": [
      "RP3betaRecommender: URM Detected 502 ( 4.0%) users with no interactions.\n",
      "RP3betaRecommender: URM Detected 323 ( 1.5%) items with no interactions.\n",
      "RP3betaRecommender: Similarity column 22222 (100.0%), 1284.91 column/sec. Elapsed time 17.29 sec\n",
      "EvaluatorHoldout: Processed 10043 (100.0%) in 7.65 sec. Users per second: 1313\n"
     ]
    },
    {
     "name": "stderr",
     "output_type": "stream",
     "text": [
      "[I 2023-11-21 22:24:54,634] Trial 40 finished with value: 0.021111668239269604 and parameters: {'topK': 2148, 'alpha': 0.0962796204683384, 'beta': 0.08356547442857651}. Best is trial 0 with value: 0.02895109363072139.\n"
     ]
    },
    {
     "name": "stdout",
     "output_type": "stream",
     "text": [
      "RP3betaRecommender: URM Detected 502 ( 4.0%) users with no interactions.\n",
      "RP3betaRecommender: URM Detected 323 ( 1.5%) items with no interactions.\n",
      "RP3betaRecommender: Similarity column 22222 (100.0%), 3644.77 column/sec. Elapsed time 6.10 sec\n",
      "EvaluatorHoldout: Processed 10043 (100.0%) in 4.93 sec. Users per second: 2036\n"
     ]
    },
    {
     "name": "stderr",
     "output_type": "stream",
     "text": [
      "[I 2023-11-21 22:25:08,410] Trial 41 finished with value: 0.027217883734860896 and parameters: {'topK': 170, 'alpha': 0.2220699734145282, 'beta': 0.16990398450709507}. Best is trial 0 with value: 0.02895109363072139.\n"
     ]
    },
    {
     "name": "stdout",
     "output_type": "stream",
     "text": [
      "RP3betaRecommender: URM Detected 502 ( 4.0%) users with no interactions.\n",
      "RP3betaRecommender: URM Detected 323 ( 1.5%) items with no interactions.\n",
      "RP3betaRecommender: Similarity column 22222 (100.0%), 1784.56 column/sec. Elapsed time 12.45 sec\n",
      "EvaluatorHoldout: Processed 10043 (100.0%) in 5.76 sec. Users per second: 1743\n"
     ]
    },
    {
     "name": "stderr",
     "output_type": "stream",
     "text": [
      "[I 2023-11-21 22:25:33,815] Trial 42 finished with value: 0.024389043778419522 and parameters: {'topK': 733, 'alpha': 0.16948437970856134, 'beta': 0.034741338072218075}. Best is trial 0 with value: 0.02895109363072139.\n"
     ]
    },
    {
     "name": "stdout",
     "output_type": "stream",
     "text": [
      "RP3betaRecommender: URM Detected 502 ( 4.0%) users with no interactions.\n",
      "RP3betaRecommender: URM Detected 323 ( 1.5%) items with no interactions.\n",
      "RP3betaRecommender: Similarity column 22222 (100.0%), 1445.70 column/sec. Elapsed time 15.37 sec\n",
      "EvaluatorHoldout: Processed 10043 (100.0%) in 7.07 sec. Users per second: 1421\n"
     ]
    },
    {
     "name": "stderr",
     "output_type": "stream",
     "text": [
      "[I 2023-11-21 22:26:06,992] Trial 43 finished with value: 0.022670789415039097 and parameters: {'topK': 1369, 'alpha': 0.15696546527203337, 'beta': 0.20008947212538986}. Best is trial 0 with value: 0.02895109363072139.\n"
     ]
    },
    {
     "name": "stdout",
     "output_type": "stream",
     "text": [
      "RP3betaRecommender: URM Detected 502 ( 4.0%) users with no interactions.\n",
      "RP3betaRecommender: URM Detected 323 ( 1.5%) items with no interactions.\n",
      "RP3betaRecommender: Similarity column 22222 (100.0%), 1148.62 column/sec. Elapsed time 19.35 sec\n",
      "EvaluatorHoldout: Processed 10043 (100.0%) in 8.71 sec. Users per second: 1153\n"
     ]
    },
    {
     "name": "stderr",
     "output_type": "stream",
     "text": [
      "[I 2023-11-21 22:26:51,866] Trial 44 finished with value: 0.018198196169170993 and parameters: {'topK': 5994, 'alpha': 0.4994407186334668, 'beta': 0.14946844358856715}. Best is trial 0 with value: 0.02895109363072139.\n"
     ]
    },
    {
     "name": "stdout",
     "output_type": "stream",
     "text": [
      "RP3betaRecommender: URM Detected 502 ( 4.0%) users with no interactions.\n",
      "RP3betaRecommender: URM Detected 323 ( 1.5%) items with no interactions.\n",
      "RP3betaRecommender: Similarity column 22222 (100.0%), 1985.87 column/sec. Elapsed time 11.19 sec\n",
      "EvaluatorHoldout: Processed 10043 (100.0%) in 5.65 sec. Users per second: 1779\n"
     ]
    },
    {
     "name": "stderr",
     "output_type": "stream",
     "text": [
      "[I 2023-11-21 22:27:15,192] Trial 45 finished with value: 0.02446118199677901 and parameters: {'topK': 572, 'alpha': 0.2091321075223916, 'beta': 0.11728038426382074}. Best is trial 0 with value: 0.02895109363072139.\n"
     ]
    },
    {
     "name": "stdout",
     "output_type": "stream",
     "text": [
      "RP3betaRecommender: URM Detected 502 ( 4.0%) users with no interactions.\n",
      "RP3betaRecommender: URM Detected 323 ( 1.5%) items with no interactions.\n",
      "RP3betaRecommender: Similarity column 22222 (100.0%), 1498.57 column/sec. Elapsed time 14.83 sec\n",
      "EvaluatorHoldout: Processed 10043 (100.0%) in 6.62 sec. Users per second: 1516\n"
     ]
    },
    {
     "name": "stderr",
     "output_type": "stream",
     "text": [
      "[I 2023-11-21 22:27:46,615] Trial 46 finished with value: 0.02283448236076937 and parameters: {'topK': 1235, 'alpha': 0.1924191804485852, 'beta': 0.07938611181184235}. Best is trial 0 with value: 0.02895109363072139.\n"
     ]
    },
    {
     "name": "stdout",
     "output_type": "stream",
     "text": [
      "RP3betaRecommender: URM Detected 502 ( 4.0%) users with no interactions.\n",
      "RP3betaRecommender: URM Detected 323 ( 1.5%) items with no interactions.\n",
      "RP3betaRecommender: Similarity column 22222 (100.0%), 1117.08 column/sec. Elapsed time 19.89 sec\n",
      "EvaluatorHoldout: Processed 10043 (100.0%) in 9.21 sec. Users per second: 1091\n"
     ]
    },
    {
     "name": "stderr",
     "output_type": "stream",
     "text": [
      "[I 2023-11-21 22:28:33,041] Trial 47 finished with value: 0.017090336947949213 and parameters: {'topK': 9977, 'alpha': 0.1475349767143245, 'beta': 0.24684326200625895}. Best is trial 0 with value: 0.02895109363072139.\n"
     ]
    },
    {
     "name": "stdout",
     "output_type": "stream",
     "text": [
      "RP3betaRecommender: URM Detected 502 ( 4.0%) users with no interactions.\n",
      "RP3betaRecommender: URM Detected 323 ( 1.5%) items with no interactions.\n",
      "RP3betaRecommender: Similarity column 22222 (100.0%), 4268.23 column/sec. Elapsed time 5.21 sec\n",
      "EvaluatorHoldout: Processed 10043 (100.0%) in 4.79 sec. Users per second: 2097\n"
     ]
    },
    {
     "name": "stderr",
     "output_type": "stream",
     "text": [
      "[I 2023-11-21 22:28:45,138] Trial 48 finished with value: 0.02825326492905911 and parameters: {'topK': 127, 'alpha': 0.23566424839568642, 'beta': 0.14787413142587305}. Best is trial 0 with value: 0.02895109363072139.\n"
     ]
    },
    {
     "name": "stdout",
     "output_type": "stream",
     "text": [
      "RP3betaRecommender: URM Detected 502 ( 4.0%) users with no interactions.\n",
      "RP3betaRecommender: URM Detected 323 ( 1.5%) items with no interactions.\n",
      "RP3betaRecommender: Similarity column 22222 (100.0%), 2024.74 column/sec. Elapsed time 10.98 sec\n",
      "EvaluatorHoldout: Processed 10043 (100.0%) in 5.66 sec. Users per second: 1776\n"
     ]
    },
    {
     "name": "stderr",
     "output_type": "stream",
     "text": [
      "[I 2023-11-21 22:29:08,290] Trial 49 finished with value: 0.024116860989807393 and parameters: {'topK': 563, 'alpha': 0.23514972589812017, 'beta': 0.14224852950919942}. Best is trial 0 with value: 0.02895109363072139.\n"
     ]
    },
    {
     "name": "stdout",
     "output_type": "stream",
     "text": [
      "RP3betaRecommender: URM Detected 502 ( 4.0%) users with no interactions.\n",
      "RP3betaRecommender: URM Detected 323 ( 1.5%) items with no interactions.\n",
      "RP3betaRecommender: Similarity column 22222 (100.0%), 1172.20 column/sec. Elapsed time 18.96 sec\n",
      "EvaluatorHoldout: Processed 10043 (100.0%) in 8.58 sec. Users per second: 1170\n"
     ]
    },
    {
     "name": "stderr",
     "output_type": "stream",
     "text": [
      "[I 2023-11-21 22:29:52,765] Trial 50 finished with value: 0.01913202198799133 and parameters: {'topK': 4572, 'alpha': 0.26093568110868937, 'beta': 0.1172348495850452}. Best is trial 0 with value: 0.02895109363072139.\n"
     ]
    },
    {
     "name": "stdout",
     "output_type": "stream",
     "text": [
      "RP3betaRecommender: URM Detected 502 ( 4.0%) users with no interactions.\n",
      "RP3betaRecommender: URM Detected 323 ( 1.5%) items with no interactions.\n",
      "RP3betaRecommender: Similarity column 22222 (100.0%), 4507.29 column/sec. Elapsed time 4.93 sec\n",
      "EvaluatorHoldout: Processed 10043 (100.0%) in 4.79 sec. Users per second: 2096\n"
     ]
    },
    {
     "name": "stderr",
     "output_type": "stream",
     "text": [
      "[I 2023-11-21 22:30:04,385] Trial 51 finished with value: 0.028705542358335456 and parameters: {'topK': 105, 'alpha': 0.21042610026982014, 'beta': 0.16545256847275788}. Best is trial 0 with value: 0.02895109363072139.\n"
     ]
    },
    {
     "name": "stdout",
     "output_type": "stream",
     "text": [
      "RP3betaRecommender: URM Detected 502 ( 4.0%) users with no interactions.\n",
      "RP3betaRecommender: URM Detected 323 ( 1.5%) items with no interactions.\n",
      "RP3betaRecommender: Similarity column 22222 (100.0%), 1988.16 column/sec. Elapsed time 11.18 sec\n",
      "EvaluatorHoldout: Processed 10043 (100.0%) in 5.88 sec. Users per second: 1707\n"
     ]
    },
    {
     "name": "stderr",
     "output_type": "stream",
     "text": [
      "[I 2023-11-21 22:30:27,948] Trial 52 finished with value: 0.024104623926639333 and parameters: {'topK': 571, 'alpha': 0.2377313076866737, 'beta': 0.158373768170726}. Best is trial 0 with value: 0.02895109363072139.\n"
     ]
    },
    {
     "name": "stdout",
     "output_type": "stream",
     "text": [
      "RP3betaRecommender: URM Detected 502 ( 4.0%) users with no interactions.\n",
      "RP3betaRecommender: URM Detected 323 ( 1.5%) items with no interactions.\n",
      "RP3betaRecommender: Similarity column 22222 (100.0%), 2093.04 column/sec. Elapsed time 10.62 sec\n",
      "EvaluatorHoldout: Processed 10043 (100.0%) in 5.62 sec. Users per second: 1786\n"
     ]
    },
    {
     "name": "stderr",
     "output_type": "stream",
     "text": [
      "[I 2023-11-21 22:30:50,114] Trial 53 finished with value: 0.024151316007833084 and parameters: {'topK': 499, 'alpha': 0.29265142414850537, 'beta': 0.17556586455901263}. Best is trial 0 with value: 0.02895109363072139.\n"
     ]
    },
    {
     "name": "stdout",
     "output_type": "stream",
     "text": [
      "RP3betaRecommender: URM Detected 502 ( 4.0%) users with no interactions.\n",
      "RP3betaRecommender: URM Detected 323 ( 1.5%) items with no interactions.\n",
      "RP3betaRecommender: Similarity column 22222 (100.0%), 4512.55 column/sec. Elapsed time 4.92 sec\n",
      "EvaluatorHoldout: Processed 10043 (100.0%) in 4.66 sec. Users per second: 2155\n"
     ]
    },
    {
     "name": "stderr",
     "output_type": "stream",
     "text": [
      "[I 2023-11-21 22:31:01,428] Trial 54 finished with value: 0.02876841881496886 and parameters: {'topK': 104, 'alpha': 0.215077745865085, 'beta': 0.0965065571343088}. Best is trial 0 with value: 0.02895109363072139.\n"
     ]
    },
    {
     "name": "stdout",
     "output_type": "stream",
     "text": [
      "RP3betaRecommender: URM Detected 502 ( 4.0%) users with no interactions.\n",
      "RP3betaRecommender: URM Detected 323 ( 1.5%) items with no interactions.\n",
      "RP3betaRecommender: Similarity column 22222 (100.0%), 1375.25 column/sec. Elapsed time 16.16 sec\n",
      "EvaluatorHoldout: Processed 10043 (100.0%) in 7.22 sec. Users per second: 1392\n"
     ]
    },
    {
     "name": "stderr",
     "output_type": "stream",
     "text": [
      "[I 2023-11-21 22:31:36,250] Trial 55 finished with value: 0.02212122002373925 and parameters: {'topK': 1667, 'alpha': 0.26779108150517733, 'beta': 0.10284839028932498}. Best is trial 0 with value: 0.02895109363072139.\n"
     ]
    },
    {
     "name": "stdout",
     "output_type": "stream",
     "text": [
      "RP3betaRecommender: URM Detected 502 ( 4.0%) users with no interactions.\n",
      "RP3betaRecommender: URM Detected 323 ( 1.5%) items with no interactions.\n",
      "RP3betaRecommender: Similarity column 22222 (100.0%), 1644.36 column/sec. Elapsed time 13.51 sec\n",
      "EvaluatorHoldout: Processed 10043 (100.0%) in 6.25 sec. Users per second: 1606\n"
     ]
    },
    {
     "name": "stderr",
     "output_type": "stream",
     "text": [
      "[I 2023-11-21 22:32:04,579] Trial 56 finished with value: 0.023177254472435228 and parameters: {'topK': 941, 'alpha': 0.3326253085347748, 'beta': 0.13805539384733662}. Best is trial 0 with value: 0.02895109363072139.\n"
     ]
    },
    {
     "name": "stdout",
     "output_type": "stream",
     "text": [
      "RP3betaRecommender: URM Detected 502 ( 4.0%) users with no interactions.\n",
      "RP3betaRecommender: URM Detected 323 ( 1.5%) items with no interactions.\n",
      "RP3betaRecommender: Similarity column 22222 (100.0%), 1110.97 column/sec. Elapsed time 20.00 sec\n",
      "EvaluatorHoldout: Processed 10043 (100.0%) in 8.88 sec. Users per second: 1131\n"
     ]
    },
    {
     "name": "stderr",
     "output_type": "stream",
     "text": [
      "[I 2023-11-21 22:32:50,395] Trial 57 finished with value: 0.01553558191838588 and parameters: {'topK': 8816, 'alpha': 0.29906118066068343, 'beta': 0.0862312270336477}. Best is trial 0 with value: 0.02895109363072139.\n"
     ]
    },
    {
     "name": "stdout",
     "output_type": "stream",
     "text": [
      "RP3betaRecommender: URM Detected 502 ( 4.0%) users with no interactions.\n",
      "RP3betaRecommender: URM Detected 323 ( 1.5%) items with no interactions.\n",
      "RP3betaRecommender: Similarity column 22222 (100.0%), 1464.17 column/sec. Elapsed time 15.18 sec\n",
      "EvaluatorHoldout: Processed 10043 (100.0%) in 6.63 sec. Users per second: 1516\n"
     ]
    },
    {
     "name": "stderr",
     "output_type": "stream",
     "text": [
      "[I 2023-11-21 22:33:22,058] Trial 58 finished with value: 0.022894079268668575 and parameters: {'topK': 1277, 'alpha': 0.20839249194261528, 'beta': 0.039990742269753514}. Best is trial 0 with value: 0.02895109363072139.\n"
     ]
    },
    {
     "name": "stdout",
     "output_type": "stream",
     "text": [
      "RP3betaRecommender: URM Detected 502 ( 4.0%) users with no interactions.\n",
      "RP3betaRecommender: URM Detected 323 ( 1.5%) items with no interactions.\n",
      "RP3betaRecommender: Similarity column 22222 (100.0%), 2264.72 column/sec. Elapsed time 9.81 sec\n",
      "EvaluatorHoldout: Processed 10043 (100.0%) in 5.07 sec. Users per second: 1982\n"
     ]
    },
    {
     "name": "stderr",
     "output_type": "stream",
     "text": [
      "[I 2023-11-21 22:33:42,217] Trial 59 finished with value: 0.025334865633332284 and parameters: {'topK': 464, 'alpha': 0.28509313834483574, 'beta': 0.06904654047687847}. Best is trial 0 with value: 0.02895109363072139.\n"
     ]
    },
    {
     "name": "stdout",
     "output_type": "stream",
     "text": [
      "RP3betaRecommender: URM Detected 502 ( 4.0%) users with no interactions.\n",
      "RP3betaRecommender: URM Detected 323 ( 1.5%) items with no interactions.\n",
      "RP3betaRecommender: Similarity column 22222 (100.0%), 1339.63 column/sec. Elapsed time 16.59 sec\n",
      "EvaluatorHoldout: Processed 10043 (100.0%) in 7.50 sec. Users per second: 1339\n"
     ]
    },
    {
     "name": "stderr",
     "output_type": "stream",
     "text": [
      "[I 2023-11-21 22:34:18,802] Trial 60 finished with value: 0.021760639567320873 and parameters: {'topK': 1959, 'alpha': 0.25491471293507817, 'beta': 0.0955187800412344}. Best is trial 0 with value: 0.02895109363072139.\n"
     ]
    },
    {
     "name": "stdout",
     "output_type": "stream",
     "text": [
      "RP3betaRecommender: URM Detected 502 ( 4.0%) users with no interactions.\n",
      "RP3betaRecommender: URM Detected 323 ( 1.5%) items with no interactions.\n",
      "RP3betaRecommender: Similarity column 22222 (100.0%), 2690.24 column/sec. Elapsed time 8.26 sec\n",
      "EvaluatorHoldout: Processed 10043 (100.0%) in 5.32 sec. Users per second: 1887\n"
     ]
    },
    {
     "name": "stderr",
     "output_type": "stream",
     "text": [
      "[I 2023-11-21 22:34:36,949] Trial 61 finished with value: 0.02509367260462559 and parameters: {'topK': 327, 'alpha': 0.22669420027758952, 'beta': 0.20978494068270856}. Best is trial 0 with value: 0.02895109363072139.\n"
     ]
    },
    {
     "name": "stdout",
     "output_type": "stream",
     "text": [
      "RP3betaRecommender: URM Detected 502 ( 4.0%) users with no interactions.\n",
      "RP3betaRecommender: URM Detected 323 ( 1.5%) items with no interactions.\n",
      "RP3betaRecommender: Similarity column 22222 (100.0%), 4554.22 column/sec. Elapsed time 4.88 sec\n",
      "EvaluatorHoldout: Processed 10043 (100.0%) in 4.71 sec. Users per second: 2132\n"
     ]
    },
    {
     "name": "stderr",
     "output_type": "stream",
     "text": [
      "[I 2023-11-21 22:34:48,365] Trial 62 finished with value: 0.02865031159664247 and parameters: {'topK': 102, 'alpha': 0.16842412663172684, 'beta': 0.1567913174324917}. Best is trial 0 with value: 0.02895109363072139.\n"
     ]
    },
    {
     "name": "stdout",
     "output_type": "stream",
     "text": [
      "RP3betaRecommender: URM Detected 502 ( 4.0%) users with no interactions.\n",
      "RP3betaRecommender: URM Detected 323 ( 1.5%) items with no interactions.\n",
      "RP3betaRecommender: Similarity column 22222 (100.0%), 1728.07 column/sec. Elapsed time 12.86 sec\n",
      "EvaluatorHoldout: Processed 10043 (100.0%) in 6.12 sec. Users per second: 1640\n"
     ]
    },
    {
     "name": "stderr",
     "output_type": "stream",
     "text": [
      "[I 2023-11-21 22:35:15,704] Trial 63 finished with value: 0.023316662952478952 and parameters: {'topK': 838, 'alpha': 0.174611794737084, 'beta': 0.15005397336841203}. Best is trial 0 with value: 0.02895109363072139.\n"
     ]
    },
    {
     "name": "stdout",
     "output_type": "stream",
     "text": [
      "RP3betaRecommender: URM Detected 502 ( 4.0%) users with no interactions.\n",
      "RP3betaRecommender: URM Detected 323 ( 1.5%) items with no interactions.\n",
      "RP3betaRecommender: Similarity column 22222 (100.0%), 4108.32 column/sec. Elapsed time 5.41 sec\n",
      "EvaluatorHoldout: Processed 10043 (100.0%) in 4.75 sec. Users per second: 2115\n"
     ]
    },
    {
     "name": "stderr",
     "output_type": "stream",
     "text": [
      "[I 2023-11-21 22:35:28,076] Trial 64 finished with value: 0.028348431111300917 and parameters: {'topK': 136, 'alpha': 0.21353362007479715, 'beta': 0.1269127087586769}. Best is trial 0 with value: 0.02895109363072139.\n"
     ]
    },
    {
     "name": "stdout",
     "output_type": "stream",
     "text": [
      "RP3betaRecommender: URM Detected 502 ( 4.0%) users with no interactions.\n",
      "RP3betaRecommender: URM Detected 323 ( 1.5%) items with no interactions.\n",
      "RP3betaRecommender: Similarity column 22222 (100.0%), 1598.87 column/sec. Elapsed time 13.90 sec\n",
      "EvaluatorHoldout: Processed 10043 (100.0%) in 6.45 sec. Users per second: 1556\n"
     ]
    },
    {
     "name": "stderr",
     "output_type": "stream",
     "text": [
      "[I 2023-11-21 22:35:57,766] Trial 65 finished with value: 0.023077319115106618 and parameters: {'topK': 1042, 'alpha': 0.2157963626855718, 'beta': 0.167983146201491}. Best is trial 0 with value: 0.02895109363072139.\n"
     ]
    },
    {
     "name": "stdout",
     "output_type": "stream",
     "text": [
      "RP3betaRecommender: URM Detected 502 ( 4.0%) users with no interactions.\n",
      "RP3betaRecommender: URM Detected 323 ( 1.5%) items with no interactions.\n",
      "RP3betaRecommender: Similarity column 22222 (100.0%), 2241.20 column/sec. Elapsed time 9.92 sec\n",
      "EvaluatorHoldout: Processed 10043 (100.0%) in 5.48 sec. Users per second: 1832\n"
     ]
    },
    {
     "name": "stderr",
     "output_type": "stream",
     "text": [
      "[I 2023-11-21 22:36:18,720] Trial 66 finished with value: 0.02467722523308516 and parameters: {'topK': 467, 'alpha': 0.23161486616307422, 'beta': 0.12477473133568827}. Best is trial 0 with value: 0.02895109363072139.\n"
     ]
    },
    {
     "name": "stdout",
     "output_type": "stream",
     "text": [
      "RP3betaRecommender: URM Detected 502 ( 4.0%) users with no interactions.\n",
      "RP3betaRecommender: URM Detected 323 ( 1.5%) items with no interactions.\n",
      "RP3betaRecommender: Similarity column 22222 (100.0%), 1401.49 column/sec. Elapsed time 15.86 sec\n",
      "EvaluatorHoldout: Processed 10043 (100.0%) in 7.03 sec. Users per second: 1428\n"
     ]
    },
    {
     "name": "stderr",
     "output_type": "stream",
     "text": [
      "[I 2023-11-21 22:36:52,695] Trial 67 finished with value: 0.022497957196752422 and parameters: {'topK': 1553, 'alpha': 0.3136682504089607, 'beta': 0.1147253204272376}. Best is trial 0 with value: 0.02895109363072139.\n"
     ]
    },
    {
     "name": "stdout",
     "output_type": "stream",
     "text": [
      "RP3betaRecommender: URM Detected 502 ( 4.0%) users with no interactions.\n",
      "RP3betaRecommender: URM Detected 323 ( 1.5%) items with no interactions.\n",
      "RP3betaRecommender: Similarity column 22222 (100.0%), 1818.03 column/sec. Elapsed time 12.22 sec\n",
      "EvaluatorHoldout: Processed 10043 (100.0%) in 5.89 sec. Users per second: 1704\n"
     ]
    },
    {
     "name": "stderr",
     "output_type": "stream",
     "text": [
      "[I 2023-11-21 22:37:18,220] Trial 68 finished with value: 0.02393477886358512 and parameters: {'topK': 734, 'alpha': 0.27204943616382277, 'beta': 0.1059490109042166}. Best is trial 0 with value: 0.02895109363072139.\n"
     ]
    },
    {
     "name": "stdout",
     "output_type": "stream",
     "text": [
      "RP3betaRecommender: URM Detected 502 ( 4.0%) users with no interactions.\n",
      "RP3betaRecommender: URM Detected 323 ( 1.5%) items with no interactions.\n",
      "RP3betaRecommender: Similarity column 22222 (100.0%), 1504.06 column/sec. Elapsed time 14.77 sec\n",
      "EvaluatorHoldout: Processed 10043 (100.0%) in 6.68 sec. Users per second: 1504\n"
     ]
    },
    {
     "name": "stderr",
     "output_type": "stream",
     "text": [
      "[I 2023-11-21 22:37:49,651] Trial 69 finished with value: 0.02290266141306666 and parameters: {'topK': 1207, 'alpha': 0.20231897596948983, 'beta': 0.19764493318222767}. Best is trial 0 with value: 0.02895109363072139.\n"
     ]
    },
    {
     "name": "stdout",
     "output_type": "stream",
     "text": [
      "RP3betaRecommender: URM Detected 502 ( 4.0%) users with no interactions.\n",
      "RP3betaRecommender: URM Detected 323 ( 1.5%) items with no interactions.\n",
      "RP3betaRecommender: Similarity column 22222 (100.0%), 2474.54 column/sec. Elapsed time 8.98 sec\n",
      "EvaluatorHoldout: Processed 10043 (100.0%) in 4.95 sec. Users per second: 2029\n"
     ]
    },
    {
     "name": "stderr",
     "output_type": "stream",
     "text": [
      "[I 2023-11-21 22:38:08,161] Trial 70 finished with value: 0.025888840683473822 and parameters: {'topK': 385, 'alpha': 0.24804401591220326, 'beta': 0.05063544283958468}. Best is trial 0 with value: 0.02895109363072139.\n"
     ]
    },
    {
     "name": "stdout",
     "output_type": "stream",
     "text": [
      "RP3betaRecommender: URM Detected 502 ( 4.0%) users with no interactions.\n",
      "RP3betaRecommender: URM Detected 323 ( 1.5%) items with no interactions.\n",
      "RP3betaRecommender: Similarity column 22222 (100.0%), 3640.50 column/sec. Elapsed time 6.10 sec\n",
      "EvaluatorHoldout: Processed 10043 (100.0%) in 4.88 sec. Users per second: 2060\n"
     ]
    },
    {
     "name": "stderr",
     "output_type": "stream",
     "text": [
      "[I 2023-11-21 22:38:21,803] Trial 71 finished with value: 0.027501465918771575 and parameters: {'topK': 169, 'alpha': 0.16936447350638995, 'beta': 0.1317904043164841}. Best is trial 0 with value: 0.02895109363072139.\n"
     ]
    },
    {
     "name": "stdout",
     "output_type": "stream",
     "text": [
      "RP3betaRecommender: URM Detected 502 ( 4.0%) users with no interactions.\n",
      "RP3betaRecommender: URM Detected 323 ( 1.5%) items with no interactions.\n",
      "RP3betaRecommender: Similarity column 22222 (100.0%), 3425.16 column/sec. Elapsed time 6.49 sec\n",
      "EvaluatorHoldout: Processed 10043 (100.0%) in 5.03 sec. Users per second: 1998\n"
     ]
    },
    {
     "name": "stderr",
     "output_type": "stream",
     "text": [
      "[I 2023-11-21 22:38:36,394] Trial 72 finished with value: 0.026723331737023008 and parameters: {'topK': 200, 'alpha': 0.3575507629742635, 'beta': 0.17883910473560527}. Best is trial 0 with value: 0.02895109363072139.\n"
     ]
    },
    {
     "name": "stdout",
     "output_type": "stream",
     "text": [
      "RP3betaRecommender: URM Detected 502 ( 4.0%) users with no interactions.\n",
      "RP3betaRecommender: URM Detected 323 ( 1.5%) items with no interactions.\n",
      "RP3betaRecommender: Similarity column 22222 (100.0%), 4456.35 column/sec. Elapsed time 4.99 sec\n",
      "EvaluatorHoldout: Processed 10043 (100.0%) in 4.76 sec. Users per second: 2111\n"
     ]
    },
    {
     "name": "stderr",
     "output_type": "stream",
     "text": [
      "[I 2023-11-21 22:38:48,002] Trial 73 finished with value: 0.02876597298284056 and parameters: {'topK': 105, 'alpha': 0.24230836904641087, 'beta': 0.1514672935410597}. Best is trial 0 with value: 0.02895109363072139.\n"
     ]
    },
    {
     "name": "stdout",
     "output_type": "stream",
     "text": [
      "RP3betaRecommender: URM Detected 502 ( 4.0%) users with no interactions.\n",
      "RP3betaRecommender: URM Detected 323 ( 1.5%) items with no interactions.\n",
      "RP3betaRecommender: Similarity column 22222 (100.0%), 1783.40 column/sec. Elapsed time 12.46 sec\n",
      "EvaluatorHoldout: Processed 10043 (100.0%) in 5.99 sec. Users per second: 1676\n"
     ]
    },
    {
     "name": "stderr",
     "output_type": "stream",
     "text": [
      "[I 2023-11-21 22:39:14,199] Trial 74 finished with value: 0.02352715071225477 and parameters: {'topK': 757, 'alpha': 0.24157480812747026, 'beta': 0.14957315782102354}. Best is trial 0 with value: 0.02895109363072139.\n"
     ]
    },
    {
     "name": "stdout",
     "output_type": "stream",
     "text": [
      "RP3betaRecommender: URM Detected 502 ( 4.0%) users with no interactions.\n",
      "RP3betaRecommender: URM Detected 323 ( 1.5%) items with no interactions.\n",
      "RP3betaRecommender: Similarity column 22222 (100.0%), 1596.76 column/sec. Elapsed time 13.92 sec\n",
      "EvaluatorHoldout: Processed 10043 (100.0%) in 6.22 sec. Users per second: 1614\n"
     ]
    },
    {
     "name": "stderr",
     "output_type": "stream",
     "text": [
      "[I 2023-11-21 22:39:43,169] Trial 75 finished with value: 0.023318915172694004 and parameters: {'topK': 1002, 'alpha': 0.2590653529427617, 'beta': 0.09811095202269773}. Best is trial 0 with value: 0.02895109363072139.\n"
     ]
    },
    {
     "name": "stdout",
     "output_type": "stream",
     "text": [
      "RP3betaRecommender: URM Detected 502 ( 4.0%) users with no interactions.\n",
      "RP3betaRecommender: URM Detected 323 ( 1.5%) items with no interactions.\n",
      "RP3betaRecommender: Similarity column 22222 (100.0%), 2162.87 column/sec. Elapsed time 10.27 sec\n",
      "EvaluatorHoldout: Processed 10043 (100.0%) in 5.58 sec. Users per second: 1800\n"
     ]
    },
    {
     "name": "stderr",
     "output_type": "stream",
     "text": [
      "[I 2023-11-21 22:40:04,968] Trial 76 finished with value: 0.02422232021355793 and parameters: {'topK': 501, 'alpha': 0.21538203417394408, 'beta': 0.16777045335583507}. Best is trial 0 with value: 0.02895109363072139.\n"
     ]
    },
    {
     "name": "stdout",
     "output_type": "stream",
     "text": [
      "RP3betaRecommender: URM Detected 502 ( 4.0%) users with no interactions.\n",
      "RP3betaRecommender: URM Detected 323 ( 1.5%) items with no interactions.\n",
      "RP3betaRecommender: Similarity column 22222 (100.0%), 4031.07 column/sec. Elapsed time 5.51 sec\n",
      "EvaluatorHoldout: Processed 10043 (100.0%) in 4.82 sec. Users per second: 2083\n"
     ]
    },
    {
     "name": "stderr",
     "output_type": "stream",
     "text": [
      "[I 2023-11-21 22:40:17,621] Trial 77 finished with value: 0.02792604103940378 and parameters: {'topK': 140, 'alpha': 0.1932756304010581, 'beta': 0.15438048025505982}. Best is trial 0 with value: 0.02895109363072139.\n"
     ]
    },
    {
     "name": "stdout",
     "output_type": "stream",
     "text": [
      "RP3betaRecommender: URM Detected 502 ( 4.0%) users with no interactions.\n",
      "RP3betaRecommender: URM Detected 323 ( 1.5%) items with no interactions.\n",
      "RP3betaRecommender: Similarity column 22222 (100.0%), 1139.48 column/sec. Elapsed time 19.50 sec\n",
      "EvaluatorHoldout: Processed 10043 (100.0%) in 8.93 sec. Users per second: 1124\n"
     ]
    },
    {
     "name": "stderr",
     "output_type": "stream",
     "text": [
      "[I 2023-11-21 22:41:02,815] Trial 78 finished with value: 0.016162228607464062 and parameters: {'topK': 7284, 'alpha': 0.2250609086317251, 'beta': 0.07308311300506332}. Best is trial 0 with value: 0.02895109363072139.\n"
     ]
    },
    {
     "name": "stdout",
     "output_type": "stream",
     "text": [
      "RP3betaRecommender: URM Detected 502 ( 4.0%) users with no interactions.\n",
      "RP3betaRecommender: URM Detected 323 ( 1.5%) items with no interactions.\n",
      "RP3betaRecommender: Similarity column 22222 (100.0%), 1833.65 column/sec. Elapsed time 12.12 sec\n",
      "EvaluatorHoldout: Processed 10043 (100.0%) in 5.99 sec. Users per second: 1678\n"
     ]
    },
    {
     "name": "stderr",
     "output_type": "stream",
     "text": [
      "[I 2023-11-21 22:41:28,322] Trial 79 finished with value: 0.02351594888013291 and parameters: {'topK': 713, 'alpha': 0.2731783378309217, 'beta': 0.18717524620394693}. Best is trial 0 with value: 0.02895109363072139.\n"
     ]
    },
    {
     "name": "stdout",
     "output_type": "stream",
     "text": [
      "RP3betaRecommender: URM Detected 502 ( 4.0%) users with no interactions.\n",
      "RP3betaRecommender: URM Detected 323 ( 1.5%) items with no interactions.\n",
      "RP3betaRecommender: Similarity column 22222 (100.0%), 1261.59 column/sec. Elapsed time 17.61 sec\n",
      "EvaluatorHoldout: Processed 10043 (100.0%) in 8.30 sec. Users per second: 1210\n"
     ]
    },
    {
     "name": "stderr",
     "output_type": "stream",
     "text": [
      "[I 2023-11-21 22:42:08,061] Trial 80 finished with value: 0.021135383723007016 and parameters: {'topK': 2633, 'alpha': 0.24999538045755781, 'beta': 0.1299147202703352}. Best is trial 0 with value: 0.02895109363072139.\n"
     ]
    },
    {
     "name": "stdout",
     "output_type": "stream",
     "text": [
      "RP3betaRecommender: URM Detected 502 ( 4.0%) users with no interactions.\n",
      "RP3betaRecommender: URM Detected 323 ( 1.5%) items with no interactions.\n",
      "RP3betaRecommender: Similarity column 22222 (100.0%), 3551.21 column/sec. Elapsed time 6.26 sec\n",
      "EvaluatorHoldout: Processed 10043 (100.0%) in 5.05 sec. Users per second: 1988\n"
     ]
    },
    {
     "name": "stderr",
     "output_type": "stream",
     "text": [
      "[I 2023-11-21 22:42:22,306] Trial 81 finished with value: 0.02700571273681903 and parameters: {'topK': 186, 'alpha': 0.20769101044920035, 'beta': 0.15731707203121645}. Best is trial 0 with value: 0.02895109363072139.\n"
     ]
    },
    {
     "name": "stdout",
     "output_type": "stream",
     "text": [
      "RP3betaRecommender: URM Detected 502 ( 4.0%) users with no interactions.\n",
      "RP3betaRecommender: URM Detected 323 ( 1.5%) items with no interactions.\n",
      "RP3betaRecommender: Similarity column 22222 (100.0%), 2560.81 column/sec. Elapsed time 8.68 sec\n",
      "EvaluatorHoldout: Processed 10043 (100.0%) in 5.32 sec. Users per second: 1889\n"
     ]
    },
    {
     "name": "stderr",
     "output_type": "stream",
     "text": [
      "[I 2023-11-21 22:42:41,121] Trial 82 finished with value: 0.025112543839268992 and parameters: {'topK': 356, 'alpha': 0.19809958841743983, 'beta': 0.1584444725305041}. Best is trial 0 with value: 0.02895109363072139.\n"
     ]
    },
    {
     "name": "stdout",
     "output_type": "stream",
     "text": [
      "RP3betaRecommender: URM Detected 502 ( 4.0%) users with no interactions.\n",
      "RP3betaRecommender: URM Detected 323 ( 1.5%) items with no interactions.\n",
      "RP3betaRecommender: Similarity column 22222 (100.0%), 4176.53 column/sec. Elapsed time 5.32 sec\n",
      "EvaluatorHoldout: Processed 10043 (100.0%) in 4.82 sec. Users per second: 2082\n"
     ]
    },
    {
     "name": "stderr",
     "output_type": "stream",
     "text": [
      "[I 2023-11-21 22:42:53,450] Trial 83 finished with value: 0.028222954786481767 and parameters: {'topK': 128, 'alpha': 0.18219072170748427, 'beta': 0.14476707771538155}. Best is trial 0 with value: 0.02895109363072139.\n"
     ]
    },
    {
     "name": "stdout",
     "output_type": "stream",
     "text": [
      "RP3betaRecommender: URM Detected 502 ( 4.0%) users with no interactions.\n",
      "RP3betaRecommender: URM Detected 323 ( 1.5%) items with no interactions.\n",
      "RP3betaRecommender: Similarity column 22222 (100.0%), 1649.61 column/sec. Elapsed time 13.47 sec\n",
      "EvaluatorHoldout: Processed 10043 (100.0%) in 6.31 sec. Users per second: 1591\n"
     ]
    },
    {
     "name": "stderr",
     "output_type": "stream",
     "text": [
      "[I 2023-11-21 22:43:22,188] Trial 84 finished with value: 0.023119139288361668 and parameters: {'topK': 958, 'alpha': 0.15517925616525238, 'beta': 0.11210435901515636}. Best is trial 0 with value: 0.02895109363072139.\n"
     ]
    },
    {
     "name": "stdout",
     "output_type": "stream",
     "text": [
      "RP3betaRecommender: URM Detected 502 ( 4.0%) users with no interactions.\n",
      "RP3betaRecommender: URM Detected 323 ( 1.5%) items with no interactions.\n",
      "RP3betaRecommender: Similarity column 22222 (100.0%), 1964.80 column/sec. Elapsed time 11.31 sec\n",
      "EvaluatorHoldout: Processed 10043 (100.0%) in 5.83 sec. Users per second: 1724\n"
     ]
    },
    {
     "name": "stderr",
     "output_type": "stream",
     "text": [
      "[I 2023-11-21 22:43:46,290] Trial 85 finished with value: 0.02390131956397023 and parameters: {'topK': 626, 'alpha': 0.18234405410949042, 'beta': 0.14287559724183657}. Best is trial 0 with value: 0.02895109363072139.\n"
     ]
    },
    {
     "name": "stdout",
     "output_type": "stream",
     "text": [
      "RP3betaRecommender: URM Detected 502 ( 4.0%) users with no interactions.\n",
      "RP3betaRecommender: URM Detected 323 ( 1.5%) items with no interactions.\n",
      "RP3betaRecommender: Similarity column 22222 (100.0%), 1443.82 column/sec. Elapsed time 15.39 sec\n",
      "EvaluatorHoldout: Processed 10043 (100.0%) in 6.92 sec. Users per second: 1452\n"
     ]
    },
    {
     "name": "stderr",
     "output_type": "stream",
     "text": [
      "[I 2023-11-21 22:44:19,440] Trial 86 finished with value: 0.022388487440513773 and parameters: {'topK': 1469, 'alpha': 0.23626116685204818, 'beta': 0.09097456455410025}. Best is trial 0 with value: 0.02895109363072139.\n"
     ]
    },
    {
     "name": "stdout",
     "output_type": "stream",
     "text": [
      "RP3betaRecommender: URM Detected 502 ( 4.0%) users with no interactions.\n",
      "RP3betaRecommender: URM Detected 323 ( 1.5%) items with no interactions.\n",
      "RP3betaRecommender: Similarity column 22222 (100.0%), 1537.39 column/sec. Elapsed time 14.45 sec\n",
      "EvaluatorHoldout: Processed 10043 (100.0%) in 6.60 sec. Users per second: 1522\n"
     ]
    },
    {
     "name": "stderr",
     "output_type": "stream",
     "text": [
      "[I 2023-11-21 22:44:50,270] Trial 87 finished with value: 0.022807238398695213 and parameters: {'topK': 1162, 'alpha': 0.2179186132288669, 'beta': 0.12093139518682507}. Best is trial 0 with value: 0.02895109363072139.\n"
     ]
    },
    {
     "name": "stdout",
     "output_type": "stream",
     "text": [
      "RP3betaRecommender: URM Detected 502 ( 4.0%) users with no interactions.\n",
      "RP3betaRecommender: URM Detected 323 ( 1.5%) items with no interactions.\n",
      "RP3betaRecommender: Similarity column 22222 (100.0%), 1164.65 column/sec. Elapsed time 19.08 sec\n",
      "EvaluatorHoldout: Processed 10043 (100.0%) in 8.97 sec. Users per second: 1120\n"
     ]
    },
    {
     "name": "stderr",
     "output_type": "stream",
     "text": [
      "[I 2023-11-21 22:45:34,699] Trial 88 finished with value: 0.018609356750101575 and parameters: {'topK': 5654, 'alpha': 0.1755917429328724, 'beta': 0.1710312979679358}. Best is trial 0 with value: 0.02895109363072139.\n"
     ]
    },
    {
     "name": "stdout",
     "output_type": "stream",
     "text": [
      "RP3betaRecommender: URM Detected 502 ( 4.0%) users with no interactions.\n",
      "RP3betaRecommender: URM Detected 323 ( 1.5%) items with no interactions.\n",
      "RP3betaRecommender: Similarity column 22222 (100.0%), 4601.54 column/sec. Elapsed time 4.83 sec\n",
      "EvaluatorHoldout: Processed 10043 (100.0%) in 4.92 sec. Users per second: 2042\n"
     ]
    },
    {
     "name": "stderr",
     "output_type": "stream",
     "text": [
      "[I 2023-11-21 22:45:46,333] Trial 89 finished with value: 0.028545883652674617 and parameters: {'topK': 103, 'alpha': 0.1624876299184727, 'beta': 0.18437114855030012}. Best is trial 0 with value: 0.02895109363072139.\n"
     ]
    },
    {
     "name": "stdout",
     "output_type": "stream",
     "text": [
      "RP3betaRecommender: URM Detected 502 ( 4.0%) users with no interactions.\n",
      "RP3betaRecommender: URM Detected 323 ( 1.5%) items with no interactions.\n",
      "RP3betaRecommender: Similarity column 22222 (100.0%), 1104.41 column/sec. Elapsed time 20.12 sec\n",
      "EvaluatorHoldout: Processed 10043 (100.0%) in 8.57 sec. Users per second: 1173\n"
     ]
    },
    {
     "name": "stderr",
     "output_type": "stream",
     "text": [
      "[I 2023-11-21 22:46:30,659] Trial 90 finished with value: 0.020979285105791105 and parameters: {'topK': 3215, 'alpha': 0.26384992790042006, 'beta': 0.1961953740243645}. Best is trial 0 with value: 0.02895109363072139.\n"
     ]
    },
    {
     "name": "stdout",
     "output_type": "stream",
     "text": [
      "RP3betaRecommender: URM Detected 502 ( 4.0%) users with no interactions.\n",
      "RP3betaRecommender: URM Detected 323 ( 1.5%) items with no interactions.\n",
      "RP3betaRecommender: Similarity column 22222 (100.0%), 4428.68 column/sec. Elapsed time 5.02 sec\n",
      "EvaluatorHoldout: Processed 10043 (100.0%) in 4.84 sec. Users per second: 2075\n"
     ]
    },
    {
     "name": "stderr",
     "output_type": "stream",
     "text": [
      "[I 2023-11-21 22:46:42,575] Trial 91 finished with value: 0.028561171091291748 and parameters: {'topK': 107, 'alpha': 0.18126955895469293, 'beta': 0.17883449200208998}. Best is trial 0 with value: 0.02895109363072139.\n"
     ]
    },
    {
     "name": "stdout",
     "output_type": "stream",
     "text": [
      "RP3betaRecommender: URM Detected 502 ( 4.0%) users with no interactions.\n",
      "RP3betaRecommender: URM Detected 323 ( 1.5%) items with no interactions.\n",
      "RP3betaRecommender: Similarity column 22222 (100.0%), 2380.02 column/sec. Elapsed time 9.34 sec\n",
      "EvaluatorHoldout: Processed 10043 (100.0%) in 5.50 sec. Users per second: 1825\n"
     ]
    },
    {
     "name": "stderr",
     "output_type": "stream",
     "text": [
      "[I 2023-11-21 22:47:02,915] Trial 92 finished with value: 0.02479882536837639 and parameters: {'topK': 370, 'alpha': 0.15717739977924716, 'beta': 0.181510703175727}. Best is trial 0 with value: 0.02895109363072139.\n"
     ]
    },
    {
     "name": "stdout",
     "output_type": "stream",
     "text": [
      "RP3betaRecommender: URM Detected 502 ( 4.0%) users with no interactions.\n",
      "RP3betaRecommender: URM Detected 323 ( 1.5%) items with no interactions.\n",
      "RP3betaRecommender: Similarity column 22222 (100.0%), 2263.72 column/sec. Elapsed time 9.82 sec\n",
      "EvaluatorHoldout: Processed 10043 (100.0%) in 6.00 sec. Users per second: 1673\n"
     ]
    },
    {
     "name": "stderr",
     "output_type": "stream",
     "text": [
      "[I 2023-11-21 22:47:24,124] Trial 93 finished with value: 0.02447113522962378 and parameters: {'topK': 407, 'alpha': 0.19809261418468868, 'beta': 0.20947644867941714}. Best is trial 0 with value: 0.02895109363072139.\n"
     ]
    },
    {
     "name": "stdout",
     "output_type": "stream",
     "text": [
      "RP3betaRecommender: URM Detected 502 ( 4.0%) users with no interactions.\n",
      "RP3betaRecommender: URM Detected 323 ( 1.5%) items with no interactions.\n",
      "RP3betaRecommender: Similarity column 22222 (100.0%), 1684.81 column/sec. Elapsed time 13.19 sec\n",
      "EvaluatorHoldout: Processed 10043 (100.0%) in 6.31 sec. Users per second: 1591\n"
     ]
    },
    {
     "name": "stderr",
     "output_type": "stream",
     "text": [
      "[I 2023-11-21 22:47:51,879] Trial 94 finished with value: 0.023468510010131022 and parameters: {'topK': 711, 'alpha': 0.14097659537266266, 'beta': 0.18670913898929367}. Best is trial 0 with value: 0.02895109363072139.\n"
     ]
    },
    {
     "name": "stdout",
     "output_type": "stream",
     "text": [
      "RP3betaRecommender: URM Detected 502 ( 4.0%) users with no interactions.\n",
      "RP3betaRecommender: URM Detected 323 ( 1.5%) items with no interactions.\n",
      "RP3betaRecommender: Similarity column 22222 (100.0%), 1630.90 column/sec. Elapsed time 13.63 sec\n",
      "EvaluatorHoldout: Processed 10043 (100.0%) in 6.21 sec. Users per second: 1617\n"
     ]
    },
    {
     "name": "stderr",
     "output_type": "stream",
     "text": [
      "[I 2023-11-21 22:48:20,254] Trial 95 finished with value: 0.023355511775555622 and parameters: {'topK': 857, 'alpha': 0.22753363968706644, 'beta': 0.12952728861013246}. Best is trial 0 with value: 0.02895109363072139.\n"
     ]
    },
    {
     "name": "stdout",
     "output_type": "stream",
     "text": [
      "RP3betaRecommender: URM Detected 502 ( 4.0%) users with no interactions.\n",
      "RP3betaRecommender: URM Detected 323 ( 1.5%) items with no interactions.\n",
      "RP3betaRecommender: Similarity column 22222 (100.0%), 2603.09 column/sec. Elapsed time 8.54 sec\n",
      "EvaluatorHoldout: Processed 10043 (100.0%) in 5.41 sec. Users per second: 1857\n"
     ]
    },
    {
     "name": "stderr",
     "output_type": "stream",
     "text": [
      "[I 2023-11-21 22:48:39,052] Trial 96 finished with value: 0.024835062406256266 and parameters: {'topK': 349, 'alpha': 0.18663175274690605, 'beta': 0.2218767621051031}. Best is trial 0 with value: 0.02895109363072139.\n"
     ]
    },
    {
     "name": "stdout",
     "output_type": "stream",
     "text": [
      "RP3betaRecommender: URM Detected 502 ( 4.0%) users with no interactions.\n",
      "RP3betaRecommender: URM Detected 323 ( 1.5%) items with no interactions.\n",
      "RP3betaRecommender: Similarity column 22222 (100.0%), 4615.30 column/sec. Elapsed time 4.81 sec\n",
      "EvaluatorHoldout: Processed 10043 (100.0%) in 5.18 sec. Users per second: 1939\n"
     ]
    },
    {
     "name": "stderr",
     "output_type": "stream",
     "text": [
      "[I 2023-11-21 22:48:50,911] Trial 97 finished with value: 0.02867908864896836 and parameters: {'topK': 101, 'alpha': 0.165664128070732, 'beta': 0.17581313166163345}. Best is trial 0 with value: 0.02895109363072139.\n"
     ]
    },
    {
     "name": "stdout",
     "output_type": "stream",
     "text": [
      "RP3betaRecommender: URM Detected 502 ( 4.0%) users with no interactions.\n",
      "RP3betaRecommender: URM Detected 323 ( 1.5%) items with no interactions.\n",
      "RP3betaRecommender: Similarity column 22222 (100.0%), 1898.49 column/sec. Elapsed time 11.71 sec\n",
      "EvaluatorHoldout: Processed 10043 (100.0%) in 6.02 sec. Users per second: 1669\n"
     ]
    },
    {
     "name": "stderr",
     "output_type": "stream",
     "text": [
      "[I 2023-11-21 22:49:15,385] Trial 98 finished with value: 0.024092979553001468 and parameters: {'topK': 525, 'alpha': 0.16389711471094648, 'beta': 0.16443219396917477}. Best is trial 0 with value: 0.02895109363072139.\n"
     ]
    },
    {
     "name": "stdout",
     "output_type": "stream",
     "text": [
      "RP3betaRecommender: URM Detected 502 ( 4.0%) users with no interactions.\n",
      "RP3betaRecommender: URM Detected 323 ( 1.5%) items with no interactions.\n",
      "RP3betaRecommender: Similarity column 22222 (100.0%), 1084.82 column/sec. Elapsed time 20.48 sec\n",
      "EvaluatorHoldout: Processed 10043 (100.0%) in 8.99 sec. Users per second: 1117\n"
     ]
    },
    {
     "name": "stderr",
     "output_type": "stream",
     "text": [
      "[I 2023-11-21 22:50:01,762] Trial 99 finished with value: 0.019395847854226853 and parameters: {'topK': 4794, 'alpha': 0.16500672397468355, 'beta': 0.1729527849196202}. Best is trial 0 with value: 0.02895109363072139.\n"
     ]
    }
   ],
   "source": [
    "best_params = {\n",
    "    \"topK\": 101,\n",
    "    \"alpha\": 0.3026342852596128,\n",
    "    \"beta\": 0.058468783118329024,\n",
    "}\n",
    "# {\"topK\": 147, \"alpha\": 0.27678704319239206, \"beta\": 0.014194107697503181, \"normalize_similarity\": true}\n",
    "# {'topK': 103, 'alpha': 0.11341252259425386, 'beta': 0.056147895798144845}\n",
    "# {'topK': 101, 'alpha': 0.3026342852596128, 'beta': 0.058468783118329024}\n",
    "study = op.create_study(direction=\"maximize\")\n",
    "study.enqueue_trial(best_params)\n",
    "study.optimize(objective, n_trials=100)"
   ],
   "metadata": {
    "collapsed": false,
    "ExecuteTime": {
     "end_time": "2023-11-21T21:50:01.770783384Z",
     "start_time": "2023-11-21T21:01:42.766897587Z"
    }
   },
   "id": "c5b8a36d4aed08fc"
  },
  {
   "cell_type": "code",
   "execution_count": 9,
   "outputs": [
    {
     "data": {
      "text/plain": "{'topK': 101, 'alpha': 0.3026342852596128, 'beta': 0.058468783118329024}"
     },
     "execution_count": 9,
     "metadata": {},
     "output_type": "execute_result"
    }
   ],
   "source": [
    "study.best_params"
   ],
   "metadata": {
    "collapsed": false,
    "ExecuteTime": {
     "end_time": "2023-11-21T21:50:49.816676107Z",
     "start_time": "2023-11-21T21:50:49.809307435Z"
    }
   },
   "id": "f18968c2188a349a"
  },
  {
   "cell_type": "code",
   "execution_count": 10,
   "outputs": [
    {
     "name": "stdout",
     "output_type": "stream",
     "text": [
      "RP3betaRecommender: URM Detected 245 ( 1.9%) users with no interactions.\n",
      "RP3betaRecommender: URM Detected 110 ( 0.5%) items with no interactions.\n",
      "RP3betaRecommender: Similarity column 22222 (100.0%), 4027.41 column/sec. Elapsed time 5.52 sec\n"
     ]
    }
   ],
   "source": [
    "final = model(URM_train_validation)\n",
    "final.fit(**study.best_params)"
   ],
   "metadata": {
    "collapsed": false,
    "ExecuteTime": {
     "end_time": "2023-11-21T21:50:58.781096801Z",
     "start_time": "2023-11-21T21:50:51.734119077Z"
    }
   },
   "id": "7ae12a0ef4bc0baa"
  },
  {
   "cell_type": "code",
   "execution_count": 11,
   "outputs": [
    {
     "name": "stdout",
     "output_type": "stream",
     "text": [
      "EvaluatorHoldout: Ignoring 2100 (16.6%) Users that have less than 1 test interactions\n",
      "EvaluatorHoldout: Ignoring 0 Users\n",
      "EvaluatorHoldout: Processed 10538 (100.0%) in 5.18 sec. Users per second: 2033\n"
     ]
    },
    {
     "data": {
      "text/plain": "(       PRECISION PRECISION_RECALL_MIN_DEN    RECALL       MAP MAP_MIN_DEN  \\\n cutoff                                                                      \n 10      0.090378                 0.157221  0.133194  0.045665    0.078973   \n \n              MRR      NDCG        F1  HIT_RATE ARHR_ALL_HITS  ...  \\\n cutoff                                                        ...   \n 10      0.259414  0.143182  0.107686  0.509869      0.339649  ...   \n \n        COVERAGE_USER COVERAGE_USER_HIT USERS_IN_GT DIVERSITY_GINI  \\\n cutoff                                                              \n 10          0.833834          0.425146    0.833834       0.057877   \n \n        SHANNON_ENTROPY RATIO_DIVERSITY_HERFINDAHL RATIO_DIVERSITY_GINI  \\\n cutoff                                                                   \n 10           10.145296                   0.997617             0.165954   \n \n        RATIO_SHANNON_ENTROPY RATIO_AVERAGE_POPULARITY RATIO_NOVELTY  \n cutoff                                                               \n 10                  0.781482                 1.752902      0.289366  \n \n [1 rows x 27 columns],\n 'CUTOFF: 10 - PRECISION: 0.0903777, PRECISION_RECALL_MIN_DEN: 0.1572207, RECALL: 0.1331937, MAP: 0.0456652, MAP_MIN_DEN: 0.0789727, MRR: 0.2594145, NDCG: 0.1431817, F1: 0.1076858, HIT_RATE: 0.5098690, ARHR_ALL_HITS: 0.3396486, NOVELTY: 0.0051229, AVERAGE_POPULARITY: 0.2142476, DIVERSITY_MEAN_INTER_LIST: 0.9726623, DIVERSITY_HERFINDAHL: 0.9972570, COVERAGE_ITEM: 0.3306633, COVERAGE_ITEM_HIT: 0.0932409, ITEMS_IN_GT: 0.8015930, COVERAGE_USER: 0.8338345, COVERAGE_USER_HIT: 0.4251464, USERS_IN_GT: 0.8338345, DIVERSITY_GINI: 0.0578771, SHANNON_ENTROPY: 10.1452956, RATIO_DIVERSITY_HERFINDAHL: 0.9976173, RATIO_DIVERSITY_GINI: 0.1659535, RATIO_SHANNON_ENTROPY: 0.7814820, RATIO_AVERAGE_POPULARITY: 1.7529024, RATIO_NOVELTY: 0.2893664, \\n')"
     },
     "execution_count": 11,
     "metadata": {},
     "output_type": "execute_result"
    }
   ],
   "source": [
    "from Evaluation.Evaluator import EvaluatorHoldout\n",
    "evaluator_test = EvaluatorHoldout(URM_test, cutoff_list=[10], ignore_users=[])\n",
    "evaluator_test.evaluateRecommender(final)"
   ],
   "metadata": {
    "collapsed": false,
    "ExecuteTime": {
     "end_time": "2023-11-21T21:51:04.026989928Z",
     "start_time": "2023-11-21T21:50:58.787046525Z"
    }
   },
   "id": "1a0a3570fbcb348b"
  },
  {
   "cell_type": "code",
   "execution_count": null,
   "outputs": [],
   "source": [],
   "metadata": {
    "collapsed": false
   },
   "id": "3cdf5d82e17bdf89"
  }
 ],
 "metadata": {
  "kernelspec": {
   "display_name": "Python 3",
   "language": "python",
   "name": "python3"
  },
  "language_info": {
   "codemirror_mode": {
    "name": "ipython",
    "version": 2
   },
   "file_extension": ".py",
   "mimetype": "text/x-python",
   "name": "python",
   "nbconvert_exporter": "python",
   "pygments_lexer": "ipython2",
   "version": "2.7.6"
  }
 },
 "nbformat": 4,
 "nbformat_minor": 5
}
