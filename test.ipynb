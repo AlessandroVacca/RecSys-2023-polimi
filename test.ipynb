{
 "cells": [
  {
   "cell_type": "code",
   "execution_count": 1,
   "id": "initial_id",
   "metadata": {
    "collapsed": true,
    "ExecuteTime": {
     "end_time": "2023-11-15T23:47:42.139100267Z",
     "start_time": "2023-11-15T23:47:39.703128284Z"
    }
   },
   "outputs": [],
   "source": [
    "from Recommenders.KNN.ItemKNNCFRecommender import ItemKNNCFRecommender\n",
    "from Recommenders.SLIM.SLIMElasticNetRecommender import SLIMElasticNetRecommender\n",
    "import pandas as pd\n",
    "URM_path = \"data_train.csv\"\n",
    "URM_all_dataframe = pd.read_csv(filepath_or_buffer=URM_path, \n",
    "                                sep=\",\", \n",
    "                                # header=None, \n",
    "                                dtype={0:int, 1:int, 2:int},\n",
    "                                engine='python')\n",
    "\n",
    "URM_all_dataframe.columns = [\"UserID\", \"ItemID\", \"Interaction\"]"
   ]
  },
  {
   "cell_type": "code",
   "execution_count": 2,
   "outputs": [],
   "source": [
    "import scipy.sparse as sps\n",
    "import numpy as np\n",
    "\n",
    "mapped_id, original_id = pd.factorize(URM_all_dataframe[\"UserID\"].unique())\n",
    "user_original_ID_to_index = pd.Series(mapped_id, index=original_id)\n",
    "\n",
    "mapped_id, original_id = pd.factorize(URM_all_dataframe[\"ItemID\"].unique())\n",
    "item_original_ID_to_index = pd.Series(mapped_id, index=original_id)\n",
    "\n",
    "URM_all_dataframe[\"UserID\"] = URM_all_dataframe[\"UserID\"].map(user_original_ID_to_index)\n",
    "URM_all_dataframe[\"ItemID\"] = URM_all_dataframe[\"ItemID\"].map(item_original_ID_to_index)"
   ],
   "metadata": {
    "collapsed": false,
    "ExecuteTime": {
     "end_time": "2023-11-15T23:47:42.164079712Z",
     "start_time": "2023-11-15T23:47:42.141438191Z"
    }
   },
   "id": "8f78253445136575"
  },
  {
   "cell_type": "code",
   "execution_count": 3,
   "outputs": [
    {
     "data": {
      "text/plain": "<12638x22222 sparse matrix of type '<class 'numpy.int64'>'\n\twith 478730 stored elements in Compressed Sparse Row format>"
     },
     "execution_count": 3,
     "metadata": {},
     "output_type": "execute_result"
    }
   ],
   "source": [
    "n_users = len(URM_all_dataframe[\"UserID\"].unique())\n",
    "n_items = len(URM_all_dataframe[\"ItemID\"].unique())\n",
    "\n",
    "URM_all = sps.csr_matrix((URM_all_dataframe[\"Interaction\"].values, \n",
    "                          (URM_all_dataframe[\"UserID\"].values, URM_all_dataframe[\"ItemID\"].values)),\n",
    "                        shape = (n_users, n_items))\n",
    "\n",
    "URM_all"
   ],
   "metadata": {
    "collapsed": false,
    "ExecuteTime": {
     "end_time": "2023-11-15T23:47:42.203827543Z",
     "start_time": "2023-11-15T23:47:42.162585111Z"
    }
   },
   "id": "a8d30f8b972c7688"
  },
  {
   "cell_type": "code",
   "execution_count": 4,
   "outputs": [
    {
     "name": "stdout",
     "output_type": "stream",
     "text": [
      "Warning: 245 (1.94 %) of 12638 users have no train items\n",
      "Warning: 2133 (16.88 %) of 12638 users have no sampled items\n",
      "Warning: 482 (3.81 %) of 12638 users have no train items\n",
      "Warning: 2657 (21.02 %) of 12638 users have no sampled items\n"
     ]
    }
   ],
   "source": [
    "from Data_manager.split_functions.split_train_validation_random_holdout import \\\n",
    "    split_train_in_two_percentage_global_sample\n",
    "\n",
    "URM_train, URM_test = split_train_in_two_percentage_global_sample(URM_all, train_percentage = 0.80)\n",
    "URM_train, URM_validation = split_train_in_two_percentage_global_sample(URM_train, train_percentage = 0.80)"
   ],
   "metadata": {
    "collapsed": false,
    "ExecuteTime": {
     "end_time": "2023-11-15T23:47:43.598191451Z",
     "start_time": "2023-11-15T23:47:42.200605515Z"
    }
   },
   "id": "a884190b64cf557"
  },
  {
   "cell_type": "code",
   "execution_count": 5,
   "outputs": [
    {
     "name": "stdout",
     "output_type": "stream",
     "text": [
      "ItemKNNCFRecommender: URM Detected 2612 (20.7%) users with no interactions.\n",
      "ItemKNNCFRecommender: URM Detected 5701 (25.7%) items with no interactions.\n",
      "ItemKNNCFRecommender: Loading model from file 'result_experiments/ItemKNNCFRecommender_cosine_best_model.zip'\n",
      "ItemKNNCFRecommender: Loading complete\n"
     ]
    }
   ],
   "source": [
    "item_recommender = ItemKNNCFRecommender(URM_train=URM_validation)\n",
    "item_recommender.load_model(\"result_experiments/\", \"ItemKNNCFRecommender_cosine_best_model.zip\")"
   ],
   "metadata": {
    "collapsed": false,
    "ExecuteTime": {
     "end_time": "2023-11-15T14:27:13.043477Z",
     "start_time": "2023-11-15T14:27:12.860364Z"
    }
   },
   "id": "2da40cc03e2239b"
  },
  {
   "cell_type": "code",
   "execution_count": 6,
   "outputs": [
    {
     "name": "stdout",
     "output_type": "stream",
     "text": [
      "SLIMElasticNetRecommender: URM Detected 2612 (20.7%) users with no interactions.\n",
      "SLIMElasticNetRecommender: URM Detected 5701 (25.7%) items with no interactions.\n",
      "SLIMElasticNetRecommender: Loading model from file 'result_experiments/SLIMElasticNetRecommender_best_model.zip'\n",
      "SLIMElasticNetRecommender: Loading complete\n"
     ]
    }
   ],
   "source": [
    "slim_recommender = SLIMElasticNetRecommender(URM_train=URM_validation)\n",
    "slim_recommender.load_model(\"result_experiments/\", \"SLIMElasticNetRecommender_best_model.zip\")"
   ],
   "metadata": {
    "collapsed": false,
    "ExecuteTime": {
     "end_time": "2023-11-15T14:27:13.120389Z",
     "start_time": "2023-11-15T14:27:13.098918Z"
    }
   },
   "id": "1fbf906b9904c0b2"
  },
  {
   "cell_type": "code",
   "execution_count": 7,
   "outputs": [
    {
     "data": {
      "text/plain": "<22222x22222 sparse matrix of type '<class 'numpy.float32'>'\n\twith 6341383 stored elements in Compressed Sparse Row format>"
     },
     "execution_count": 7,
     "metadata": {},
     "output_type": "execute_result"
    }
   ],
   "source": [
    "item_recommender.W_sparse"
   ],
   "metadata": {
    "collapsed": false,
    "ExecuteTime": {
     "end_time": "2023-11-15T14:27:14.137181Z",
     "start_time": "2023-11-15T14:27:14.128251Z"
    }
   },
   "id": "e229eb25871ee931"
  },
  {
   "cell_type": "code",
   "execution_count": 8,
   "outputs": [
    {
     "data": {
      "text/plain": "<22222x22222 sparse matrix of type '<class 'numpy.float32'>'\n\twith 389501 stored elements in Compressed Sparse Row format>"
     },
     "execution_count": 8,
     "metadata": {},
     "output_type": "execute_result"
    }
   ],
   "source": [
    "slim_recommender.W_sparse"
   ],
   "metadata": {
    "collapsed": false,
    "ExecuteTime": {
     "end_time": "2023-11-15T14:27:14.453033Z",
     "start_time": "2023-11-15T14:27:14.450599Z"
    }
   },
   "id": "966de714757bf10"
  },
  {
   "cell_type": "code",
   "execution_count": 10,
   "outputs": [
    {
     "name": "stdout",
     "output_type": "stream",
     "text": [
      "EvaluatorHoldout: Ignoring 2166 (17.1%) Users that have less than 1 test interactions\n",
      "ItemKNNCustomSimilarityRecommender: URM Detected 441 ( 3.5%) users with no interactions.\n",
      "ItemKNNCustomSimilarityRecommender: URM Detected 357 ( 1.6%) items with no interactions.\n",
      "EvaluatorHoldout: Processed 10472 (100.0%) in 4.82 sec. Users per second: 2175\n",
      "ItemKNNCustomSimilarityRecommender: URM Detected 441 ( 3.5%) users with no interactions.\n",
      "ItemKNNCustomSimilarityRecommender: URM Detected 357 ( 1.6%) items with no interactions.\n",
      "EvaluatorHoldout: Processed 10472 (100.0%) in 4.59 sec. Users per second: 2282\n",
      "ItemKNNCustomSimilarityRecommender: URM Detected 441 ( 3.5%) users with no interactions.\n",
      "ItemKNNCustomSimilarityRecommender: URM Detected 357 ( 1.6%) items with no interactions.\n",
      "EvaluatorHoldout: Processed 10472 (100.0%) in 4.60 sec. Users per second: 2278\n",
      "ItemKNNCustomSimilarityRecommender: URM Detected 441 ( 3.5%) users with no interactions.\n",
      "ItemKNNCustomSimilarityRecommender: URM Detected 357 ( 1.6%) items with no interactions.\n",
      "EvaluatorHoldout: Processed 10472 (100.0%) in 4.59 sec. Users per second: 2280\n",
      "ItemKNNCustomSimilarityRecommender: URM Detected 441 ( 3.5%) users with no interactions.\n",
      "ItemKNNCustomSimilarityRecommender: URM Detected 357 ( 1.6%) items with no interactions.\n",
      "EvaluatorHoldout: Processed 10472 (100.0%) in 4.63 sec. Users per second: 2262\n",
      "ItemKNNCustomSimilarityRecommender: URM Detected 441 ( 3.5%) users with no interactions.\n",
      "ItemKNNCustomSimilarityRecommender: URM Detected 357 ( 1.6%) items with no interactions.\n",
      "EvaluatorHoldout: Processed 10472 (100.0%) in 4.59 sec. Users per second: 2282\n",
      "ItemKNNCustomSimilarityRecommender: URM Detected 441 ( 3.5%) users with no interactions.\n",
      "ItemKNNCustomSimilarityRecommender: URM Detected 357 ( 1.6%) items with no interactions.\n",
      "EvaluatorHoldout: Processed 10472 (100.0%) in 4.58 sec. Users per second: 2289\n",
      "ItemKNNCustomSimilarityRecommender: URM Detected 441 ( 3.5%) users with no interactions.\n",
      "ItemKNNCustomSimilarityRecommender: URM Detected 357 ( 1.6%) items with no interactions.\n",
      "EvaluatorHoldout: Processed 10472 (100.0%) in 4.57 sec. Users per second: 2292\n",
      "ItemKNNCustomSimilarityRecommender: URM Detected 441 ( 3.5%) users with no interactions.\n",
      "ItemKNNCustomSimilarityRecommender: URM Detected 357 ( 1.6%) items with no interactions.\n",
      "EvaluatorHoldout: Processed 10472 (100.0%) in 4.60 sec. Users per second: 2276\n"
     ]
    },
    {
     "data": {
      "text/plain": "<Figure size 640x480 with 1 Axes>",
      "image/png": "[encoded data removed]"
     },
     "metadata": {},
     "output_type": "display_data"
    }
   ],
   "source": [
    "from Evaluation.Evaluator import EvaluatorHoldout\n",
    "import matplotlib.pyplot as pyplot\n",
    "from Recommenders.KNN.ItemKNNCustomSimilarityRecommender import ItemKNNCustomSimilarityRecommender\n",
    "evaluator_validation = EvaluatorHoldout(URM_test, cutoff_list=[10])\n",
    "\n",
    "alphas = [0.1, 0.2, 0.3, 0.4, 0.5, 0.6, 0.7, 0.8, 0.9]\n",
    "MAP_per_factors = []\n",
    "\n",
    "for alpha in alphas:\n",
    "    new_similarity = (1 - alpha) * item_recommender.W_sparse + alpha * slim_recommender.W_sparse\n",
    "    recommender = ItemKNNCustomSimilarityRecommender(URM_train)\n",
    "    recommender.fit(new_similarity)\n",
    "    \n",
    "    result_df, _ = evaluator_validation.evaluateRecommender(recommender)\n",
    "    \n",
    "    MAP_per_factors.append(result_df.loc[10][\"MAP\"])\n",
    "\n",
    "pyplot.plot(alphas, MAP_per_factors)\n",
    "pyplot.ylabel('MAP')\n",
    "pyplot.xlabel('factors')\n",
    "pyplot.show()"
   ],
   "metadata": {
    "collapsed": false,
    "ExecuteTime": {
     "end_time": "2023-11-15T14:28:36.830354Z",
     "start_time": "2023-11-15T14:27:54.423452Z"
    }
   },
   "id": "bd870271e852712c"
  },
  {
   "cell_type": "code",
   "execution_count": 7,
   "outputs": [
    {
     "name": "stdout",
     "output_type": "stream",
     "text": [
      "MatrixFactorization_BPR_Cython_Recommender: Loading model from file 'result_experiments/MatrixFactorization_BPR_Cython_Recommender_best_model.zip'\n",
      "MatrixFactorization_BPR_Cython_Recommender: Loading complete\n"
     ]
    }
   ],
   "source": [
    "from Recommenders.MatrixFactorization.Cython.MatrixFactorization_Cython import MatrixFactorization_BPR_Cython\n",
    "\n",
    "recommender = MatrixFactorization_BPR_Cython(URM_all)\n",
    "recommender.load_model(\"result_experiments/\", \"MatrixFactorization_BPR_Cython_Recommender_best_model.zip\")"
   ],
   "metadata": {
    "collapsed": false,
    "ExecuteTime": {
     "end_time": "2023-11-15T23:50:10.087213539Z",
     "start_time": "2023-11-15T23:50:09.690718744Z"
    }
   },
   "id": "1152b6264f229795"
  },
  {
   "cell_type": "code",
   "execution_count": 13,
   "outputs": [
    {
     "name": "stdout",
     "output_type": "stream",
     "text": [
      "PureSVDRecommender: Loading model from file 'result_experiments/PureSVDRecommender_best_model.zip'\n",
      "PureSVDRecommender: Loading complete\n"
     ]
    }
   ],
   "source": [
    "from Recommenders.MatrixFactorization.PureSVDRecommender import PureSVDRecommender\n",
    "recommender = PureSVDRecommender(URM_train=URM_all)\n",
    "recommender.load_model(\"result_experiments/\", \"PureSVDRecommender_best_model.zip\")"
   ],
   "metadata": {
    "collapsed": false,
    "ExecuteTime": {
     "end_time": "2023-11-10T22:56:30.442365Z",
     "start_time": "2023-11-10T22:56:30.329936Z"
    }
   },
   "id": "80e1ec62d3746cde"
  },
  {
   "cell_type": "code",
   "execution_count": 8,
   "outputs": [],
   "source": [
    "from Recommenders.NonPersonalizedRecommender import TopPop\n",
    "top_recommender = TopPop(URM_all)\n",
    "top_recommender.fit()"
   ],
   "metadata": {
    "collapsed": false,
    "ExecuteTime": {
     "end_time": "2023-11-15T23:50:12.619060456Z",
     "start_time": "2023-11-15T23:50:12.594646279Z"
    }
   },
   "id": "8286310389f85367"
  },
  {
   "cell_type": "code",
   "execution_count": 9,
   "outputs": [],
   "source": [
    "URM_path = \"data_target_users_test.csv\"\n",
    "URM_all_submission_dataframe = pd.read_csv(filepath_or_buffer=URM_path, \n",
    "                                sep=\",\", \n",
    "                                # header=None, \n",
    "                                dtype={0:int},\n",
    "                                engine='python')\n",
    "\n",
    "URM_all_submission_dataframe.columns = [\"UserID\"]"
   ],
   "metadata": {
    "collapsed": false,
    "ExecuteTime": {
     "end_time": "2023-11-15T23:50:13.211588821Z",
     "start_time": "2023-11-15T23:50:13.176135722Z"
    }
   },
   "id": "9765f9c1690afcfc"
  },
  {
   "cell_type": "code",
   "execution_count": 10,
   "outputs": [],
   "source": [
    "URM_all_submission_dataframe[\"UserIDMapped\"] = URM_all_submission_dataframe[\"UserID\"].map(user_original_ID_to_index)\n",
    "# First, create a mask for non-null 'UserIDMapped' values\n",
    "mask = ~URM_all_submission_dataframe['UserIDMapped'].isna()\n",
    "URM_all_submission_dataframe['item_list'] = top_recommender.recommend(URM_all_submission_dataframe['UserIDMapped'], cutoff=10, remove_seen_flag=False)\n",
    "URM_all_submission_dataframe.loc[mask, 'item_list'] = pd.Series(recommender.recommend(URM_all_submission_dataframe.loc[mask, 'UserIDMapped'].to_numpy().astype(int), cutoff=10, remove_seen_flag=True), index=URM_all_submission_dataframe.index[mask])"
   ],
   "metadata": {
    "collapsed": false,
    "ExecuteTime": {
     "end_time": "2023-11-15T23:50:19.027877311Z",
     "start_time": "2023-11-15T23:50:14.240595447Z"
    }
   },
   "id": "360f3169a1b66471"
  },
  {
   "cell_type": "code",
   "execution_count": 11,
   "outputs": [],
   "source": [
    "item_index_to_original_id = item_original_ID_to_index.reset_index().set_index(0).to_numpy().reshape(-1)\n",
    "URM_all_submission_dataframe['item_list'] = URM_all_submission_dataframe['item_list'].apply(lambda item_indices: [item_index_to_original_id[index] for index in item_indices])"
   ],
   "metadata": {
    "collapsed": false,
    "ExecuteTime": {
     "end_time": "2023-11-15T23:50:19.073260424Z",
     "start_time": "2023-11-15T23:50:19.030796107Z"
    }
   },
   "id": "50fd7450cc6b4be3"
  },
  {
   "cell_type": "code",
   "execution_count": 12,
   "outputs": [
    {
     "name": "stderr",
     "output_type": "stream",
     "text": [
      "/tmp/ipykernel_61242/2149847291.py:3: SettingWithCopyWarning: \n",
      "A value is trying to be set on a copy of a slice from a DataFrame.\n",
      "Try using .loc[row_indexer,col_indexer] = value instead\n",
      "\n",
      "See the caveats in the documentation: https://pandas.pydata.org/pandas-docs/stable/user_guide/indexing.html#returning-a-view-versus-a-copy\n",
      "  submission['item_list'] = submission['item_list'].apply(lambda x: ' '.join(map(str, x))) # remove brakets\n",
      "/tmp/ipykernel_61242/2149847291.py:6: SettingWithCopyWarning: \n",
      "A value is trying to be set on a copy of a slice from a DataFrame.\n",
      "Try using .loc[row_indexer,col_indexer] = value instead\n",
      "\n",
      "See the caveats in the documentation: https://pandas.pydata.org/pandas-docs/stable/user_guide/indexing.html#returning-a-view-versus-a-copy\n",
      "  submission['item_list'] = submission['item_list'].astype(str)\n"
     ]
    }
   ],
   "source": [
    "submission = URM_all_submission_dataframe[[\"UserID\",\"item_list\"]]\n",
    "submission.columns = [\"user_id\", \"item_list\"]\n",
    "submission['item_list'] = submission['item_list'].apply(lambda x: ' '.join(map(str, x))) # remove brakets\n",
    "\n",
    "# Convert item_list to string format\n",
    "submission['item_list'] = submission['item_list'].astype(str)\n",
    "\n",
    "# Save to CSV without quotes and with the desired format\n",
    "# submission.to_csv(\"submission.csv\", index=False, header=[\"user_id\", \"item_list\"], quoting=csv.QUOTE_NONE, sep=',')\n",
    "def write_csv_without_quotes(df, file_path):\n",
    "    with open(file_path, 'w', newline='') as f:\n",
    "        f.write(\"user_id,item_list\\n\")\n",
    "        for index, row in df.iterrows():\n",
    "            f.write(f\"{row['user_id']},{row['item_list']}\\n\")\n",
    "\n",
    "# Save the DataFrame to CSV without quotes and with the desired format\n",
    "write_csv_without_quotes(submission, \"submission.csv\")"
   ],
   "metadata": {
    "collapsed": false,
    "ExecuteTime": {
     "end_time": "2023-11-15T23:50:19.847441905Z",
     "start_time": "2023-11-15T23:50:19.073144646Z"
    }
   },
   "id": "14078158995a90c4"
  },
  {
   "cell_type": "code",
   "execution_count": null,
   "outputs": [],
   "source": [],
   "metadata": {
    "collapsed": false
   },
   "id": "a22d0563d1e5f857"
  }
 ],
 "metadata": {
  "kernelspec": {
   "display_name": "Python 3",
   "language": "python",
   "name": "python3"
  },
  "language_info": {
   "codemirror_mode": {
    "name": "ipython",
    "version": 2
   },
   "file_extension": ".py",
   "mimetype": "text/x-python",
   "name": "python",
   "nbconvert_exporter": "python",
   "pygments_lexer": "ipython2",
   "version": "2.7.6"
  }
 },
 "nbformat": 4,
 "nbformat_minor": 5
}
