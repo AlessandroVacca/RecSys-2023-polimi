{
 "cells": [
  {
   "cell_type": "code",
   "execution_count": 2,
   "id": "initial_id",
   "metadata": {
    "collapsed": true,
    "ExecuteTime": {
     "end_time": "2023-11-21T13:56:10.403675747Z",
     "start_time": "2023-11-21T13:56:07.956718835Z"
    }
   },
   "outputs": [
    {
     "name": "stdout",
     "output_type": "stream",
     "text": [
      "Warning: 232 (1.84 %) of 12638 users have no train items\n",
      "Warning: 2176 (17.22 %) of 12638 users have no sampled items\n",
      "Warning: 487 (3.85 %) of 12638 users have no train items\n",
      "Warning: 2601 (20.58 %) of 12638 users have no sampled items\n"
     ]
    }
   ],
   "source": [
    "from Data_manager.UserUtils import *\n",
    "from Data_manager.split_functions.split_train_validation_random_holdout import \\\n",
    "    split_train_in_two_percentage_global_sample\n",
    "URM_all = getURM_all()\n",
    "URM_train_validation, URM_test = split_train_in_two_percentage_global_sample(URM_all, train_percentage = 0.80)\n",
    "URM_train, URM_validation = split_train_in_two_percentage_global_sample(URM_train_validation, train_percentage = 0.80)"
   ]
  },
  {
   "cell_type": "code",
   "execution_count": 3,
   "outputs": [
    {
     "name": "stdout",
     "output_type": "stream",
     "text": [
      "EvaluatorHoldout: Ignoring 2601 (20.6%) Users that have less than 1 test interactions\n",
      "EvaluatorHoldout: Ignoring 0 Users\n"
     ]
    }
   ],
   "source": [
    "from Recommenders.SLIM.SLIMElasticNetRecommender import SLIMElasticNetRecommender\n",
    "\n",
    "model = SLIMElasticNetRecommender\n",
    "\n",
    "from Evaluation.Evaluator import EvaluatorHoldout\n",
    "evaluator_validation = EvaluatorHoldout(URM_validation, cutoff_list=[10], ignore_users=[])"
   ],
   "metadata": {
    "collapsed": false,
    "ExecuteTime": {
     "end_time": "2023-11-21T13:56:10.654273603Z",
     "start_time": "2023-11-21T13:56:10.397292703Z"
    }
   },
   "id": "8a9fec0ccc4f11c5"
  },
  {
   "cell_type": "code",
   "execution_count": 4,
   "outputs": [],
   "source": [
    "import optuna as op\n",
    "def objective(trial):\n",
    "    topK = trial.suggest_int(\"topK\", 3e2, 1e4)\n",
    "    l1 = trial.suggest_float(\"l1_ratio\", 0.01e-05, 0.1)\n",
    "    alpha = trial.suggest_float(\"alpha\", 5e-4, 0.5)\n",
    "\n",
    "    \n",
    "    recommender = model(URM_train)\n",
    "    recommender.fit(**trial.params)\n",
    "    \n",
    "    result, _ = evaluator_validation.evaluateRecommender(recommender)\n",
    "    MAP_result = result[\"MAP\"].item()\n",
    "       \n",
    "    return MAP_result"
   ],
   "metadata": {
    "collapsed": false,
    "ExecuteTime": {
     "end_time": "2023-11-21T13:56:17.434244928Z",
     "start_time": "2023-11-21T13:56:17.172413583Z"
    }
   },
   "id": "b826576f6714c764"
  },
  {
   "cell_type": "code",
   "execution_count": 5,
   "outputs": [
    {
     "name": "stderr",
     "output_type": "stream",
     "text": [
      "[I 2023-11-21 14:57:21,815] A new study created in memory with name: no-name-41829aa7-70c8-444b-9d6b-1afe4f14a820\n",
      "/home/alessandro/RecSys-2023-polimi/venv/lib/python3.8/site-packages/optuna/trial/_trial.py:651: UserWarning: Fixed parameter 'topK' with value 387 is out of range for distribution IntDistribution(high=10000, log=False, low=3000, step=1).\n",
      "  warnings.warn(\n",
      "/home/alessandro/RecSys-2023-polimi/venv/lib/python3.8/site-packages/optuna/trial/_trial.py:651: UserWarning: Fixed parameter 'l1_ratio' with value 2.885534884125904e-05 is out of range for distribution FloatDistribution(high=0.1, log=False, low=0.01, step=None).\n",
      "  warnings.warn(\n",
      "/home/alessandro/RecSys-2023-polimi/venv/lib/python3.8/site-packages/optuna/trial/_trial.py:651: UserWarning: Fixed parameter 'alpha' with value 0.021093218153486776 is out of range for distribution FloatDistribution(high=0.005, log=False, low=0.0005, step=None).\n",
      "  warnings.warn(\n"
     ]
    },
    {
     "name": "stdout",
     "output_type": "stream",
     "text": [
      "SLIMElasticNetRecommender: URM Detected 487 ( 3.9%) users with no interactions.\n",
      "SLIMElasticNetRecommender: URM Detected 338 ( 1.5%) items with no interactions.\n",
      "SLIMElasticNetRecommender: Processed 17819 (80.2%) in 5.00 min. Items per second: 59.39\n",
      "SLIMElasticNetRecommender: Processed 22222 (100.0%) in 6.45 min. Items per second: 57.46\n",
      "EvaluatorHoldout: Processed 10037 (100.0%) in 6.98 sec. Users per second: 1437\n"
     ]
    },
    {
     "name": "stderr",
     "output_type": "stream",
     "text": [
      "[I 2023-11-21 15:03:55,655] Trial 0 finished with value: 0.02787448741244708 and parameters: {'topK': 387, 'l1_ratio': 2.885534884125904e-05, 'alpha': 0.021093218153486776}. Best is trial 0 with value: 0.02787448741244708.\n"
     ]
    },
    {
     "name": "stdout",
     "output_type": "stream",
     "text": [
      "SLIMElasticNetRecommender: URM Detected 487 ( 3.9%) users with no interactions.\n",
      "SLIMElasticNetRecommender: URM Detected 338 ( 1.5%) items with no interactions.\n",
      "SLIMElasticNetRecommender: Processed 22222 (100.0%) in 2.66 min. Items per second: 139.00\n",
      "EvaluatorHoldout: Processed 10037 (100.0%) in 5.12 sec. Users per second: 1961\n"
     ]
    },
    {
     "name": "stderr",
     "output_type": "stream",
     "text": [
      "[I 2023-11-21 15:06:40,657] Trial 1 finished with value: 0.028883610798774866 and parameters: {'topK': 3313, 'l1_ratio': 0.08670390716643786, 'alpha': 0.003537843989047223}. Best is trial 1 with value: 0.028883610798774866.\n"
     ]
    },
    {
     "name": "stdout",
     "output_type": "stream",
     "text": [
      "SLIMElasticNetRecommender: URM Detected 487 ( 3.9%) users with no interactions.\n",
      "SLIMElasticNetRecommender: URM Detected 338 ( 1.5%) items with no interactions.\n",
      "SLIMElasticNetRecommender: Processed 22222 (100.0%) in 3.31 min. Items per second: 111.99\n",
      "EvaluatorHoldout: Processed 10037 (100.0%) in 5.33 sec. Users per second: 1882\n"
     ]
    },
    {
     "name": "stderr",
     "output_type": "stream",
     "text": [
      "[I 2023-11-21 15:10:04,425] Trial 2 finished with value: 0.02949220424113338 and parameters: {'topK': 9761, 'l1_ratio': 0.06265950207732668, 'alpha': 0.0033134544889912064}. Best is trial 2 with value: 0.02949220424113338.\n"
     ]
    },
    {
     "name": "stdout",
     "output_type": "stream",
     "text": [
      "SLIMElasticNetRecommender: URM Detected 487 ( 3.9%) users with no interactions.\n",
      "SLIMElasticNetRecommender: URM Detected 338 ( 1.5%) items with no interactions.\n",
      "SLIMElasticNetRecommender: Processed 22222 (100.0%) in 3.33 min. Items per second: 111.33\n",
      "EvaluatorHoldout: Processed 10037 (100.0%) in 5.26 sec. Users per second: 1907\n"
     ]
    },
    {
     "name": "stderr",
     "output_type": "stream",
     "text": [
      "[I 2023-11-21 15:13:29,305] Trial 3 finished with value: 0.029776596434462496 and parameters: {'topK': 4153, 'l1_ratio': 0.09972400132122995, 'alpha': 0.0020672046638418404}. Best is trial 3 with value: 0.029776596434462496.\n"
     ]
    },
    {
     "name": "stdout",
     "output_type": "stream",
     "text": [
      "SLIMElasticNetRecommender: URM Detected 487 ( 3.9%) users with no interactions.\n",
      "SLIMElasticNetRecommender: URM Detected 338 ( 1.5%) items with no interactions.\n",
      "SLIMElasticNetRecommender: Processed 22222 (100.0%) in 2.64 min. Items per second: 140.40\n",
      "EvaluatorHoldout: Processed 10037 (100.0%) in 4.99 sec. Users per second: 2010\n"
     ]
    },
    {
     "name": "stderr",
     "output_type": "stream",
     "text": [
      "[I 2023-11-21 15:16:12,589] Trial 4 finished with value: 0.0288603990631491 and parameters: {'topK': 9814, 'l1_ratio': 0.0698303755719834, 'alpha': 0.004027472126802576}. Best is trial 3 with value: 0.029776596434462496.\n"
     ]
    },
    {
     "name": "stdout",
     "output_type": "stream",
     "text": [
      "SLIMElasticNetRecommender: URM Detected 487 ( 3.9%) users with no interactions.\n",
      "SLIMElasticNetRecommender: URM Detected 338 ( 1.5%) items with no interactions.\n",
      "SLIMElasticNetRecommender: Processed 16801 (75.6%) in 5.00 min. Items per second: 56.00\n",
      "SLIMElasticNetRecommender: Processed 22222 (100.0%) in 6.83 min. Items per second: 54.20\n",
      "EvaluatorHoldout: Processed 10037 (100.0%) in 5.93 sec. Users per second: 1693\n"
     ]
    },
    {
     "name": "stderr",
     "output_type": "stream",
     "text": [
      "[I 2023-11-21 15:23:08,616] Trial 5 finished with value: 0.02928477727645814 and parameters: {'topK': 3929, 'l1_ratio': 0.05970271768234537, 'alpha': 0.0005591692269025884}. Best is trial 3 with value: 0.029776596434462496.\n"
     ]
    },
    {
     "name": "stdout",
     "output_type": "stream",
     "text": [
      "SLIMElasticNetRecommender: URM Detected 487 ( 3.9%) users with no interactions.\n",
      "SLIMElasticNetRecommender: URM Detected 338 ( 1.5%) items with no interactions.\n",
      "SLIMElasticNetRecommender: Processed 19948 (89.8%) in 5.00 min. Items per second: 66.49\n",
      "SLIMElasticNetRecommender: Processed 22222 (100.0%) in 5.79 min. Items per second: 64.00\n",
      "EvaluatorHoldout: Processed 10037 (100.0%) in 6.29 sec. Users per second: 1595\n"
     ]
    },
    {
     "name": "stderr",
     "output_type": "stream",
     "text": [
      "[I 2023-11-21 15:29:02,197] Trial 6 finished with value: 0.029891943459991833 and parameters: {'topK': 5763, 'l1_ratio': 0.022314969075041283, 'alpha': 0.0030414711652659737}. Best is trial 6 with value: 0.029891943459991833.\n"
     ]
    },
    {
     "name": "stdout",
     "output_type": "stream",
     "text": [
      "SLIMElasticNetRecommender: URM Detected 487 ( 3.9%) users with no interactions.\n",
      "SLIMElasticNetRecommender: URM Detected 338 ( 1.5%) items with no interactions.\n",
      "SLIMElasticNetRecommender: Processed 17386 (78.2%) in 5.00 min. Items per second: 57.95\n",
      "SLIMElasticNetRecommender: Processed 22222 (100.0%) in 6.64 min. Items per second: 55.74\n",
      "EvaluatorHoldout: Processed 10037 (100.0%) in 6.08 sec. Users per second: 1652\n"
     ]
    },
    {
     "name": "stderr",
     "output_type": "stream",
     "text": [
      "[I 2023-11-21 15:35:47,023] Trial 7 finished with value: 0.02982070703476518 and parameters: {'topK': 6180, 'l1_ratio': 0.043335023047112564, 'alpha': 0.0008422177683366178}. Best is trial 6 with value: 0.029891943459991833.\n"
     ]
    },
    {
     "name": "stdout",
     "output_type": "stream",
     "text": [
      "SLIMElasticNetRecommender: URM Detected 487 ( 3.9%) users with no interactions.\n",
      "SLIMElasticNetRecommender: URM Detected 338 ( 1.5%) items with no interactions.\n",
      "SLIMElasticNetRecommender: Processed 22222 (100.0%) in 2.63 min. Items per second: 140.68\n",
      "EvaluatorHoldout: Processed 10037 (100.0%) in 4.97 sec. Users per second: 2019\n"
     ]
    },
    {
     "name": "stderr",
     "output_type": "stream",
     "text": [
      "[I 2023-11-21 15:38:29,966] Trial 8 finished with value: 0.028795994502879264 and parameters: {'topK': 8389, 'l1_ratio': 0.0673034228514404, 'alpha': 0.004255256060395891}. Best is trial 6 with value: 0.029891943459991833.\n"
     ]
    },
    {
     "name": "stdout",
     "output_type": "stream",
     "text": [
      "SLIMElasticNetRecommender: URM Detected 487 ( 3.9%) users with no interactions.\n",
      "SLIMElasticNetRecommender: URM Detected 338 ( 1.5%) items with no interactions.\n",
      "SLIMElasticNetRecommender: Processed 22222 (100.0%) in 3.27 min. Items per second: 113.36\n",
      "EvaluatorHoldout: Processed 10037 (100.0%) in 5.31 sec. Users per second: 1891\n"
     ]
    },
    {
     "name": "stderr",
     "output_type": "stream",
     "text": [
      "[I 2023-11-21 15:41:51,312] Trial 9 finished with value: 0.0296655074636545 and parameters: {'topK': 5680, 'l1_ratio': 0.0712655476164521, 'alpha': 0.0027532525928144016}. Best is trial 6 with value: 0.029891943459991833.\n"
     ]
    },
    {
     "name": "stdout",
     "output_type": "stream",
     "text": [
      "SLIMElasticNetRecommender: URM Detected 487 ( 3.9%) users with no interactions.\n",
      "SLIMElasticNetRecommender: URM Detected 338 ( 1.5%) items with no interactions.\n",
      "SLIMElasticNetRecommender: Processed 18228 (82.0%) in 5.00 min. Items per second: 60.73\n",
      "SLIMElasticNetRecommender: Processed 22222 (100.0%) in 6.42 min. Items per second: 57.68\n",
      "EvaluatorHoldout: Processed 10037 (100.0%) in 6.25 sec. Users per second: 1606\n"
     ]
    },
    {
     "name": "stderr",
     "output_type": "stream",
     "text": [
      "[I 2023-11-21 15:48:22,941] Trial 10 finished with value: 0.030262279565607453 and parameters: {'topK': 7593, 'l1_ratio': 0.03209040779629596, 'alpha': 0.0019012701527472463}. Best is trial 10 with value: 0.030262279565607453.\n"
     ]
    },
    {
     "name": "stdout",
     "output_type": "stream",
     "text": [
      "SLIMElasticNetRecommender: URM Detected 487 ( 3.9%) users with no interactions.\n",
      "SLIMElasticNetRecommender: URM Detected 338 ( 1.5%) items with no interactions.\n",
      "SLIMElasticNetRecommender: Processed 17883 (80.5%) in 5.00 min. Items per second: 59.60\n",
      "SLIMElasticNetRecommender: Processed 22222 (100.0%) in 6.46 min. Items per second: 57.30\n",
      "EvaluatorHoldout: Processed 10037 (100.0%) in 6.29 sec. Users per second: 1596\n"
     ]
    },
    {
     "name": "stderr",
     "output_type": "stream",
     "text": [
      "[I 2023-11-21 15:54:57,174] Trial 11 finished with value: 0.030298032201489657 and parameters: {'topK': 7895, 'l1_ratio': 0.030244228624427334, 'alpha': 0.001882544719694433}. Best is trial 11 with value: 0.030298032201489657.\n"
     ]
    },
    {
     "name": "stdout",
     "output_type": "stream",
     "text": [
      "SLIMElasticNetRecommender: URM Detected 487 ( 3.9%) users with no interactions.\n",
      "SLIMElasticNetRecommender: URM Detected 338 ( 1.5%) items with no interactions.\n",
      "SLIMElasticNetRecommender: Processed 20106 (90.5%) in 5.00 min. Items per second: 67.01\n",
      "SLIMElasticNetRecommender: Processed 22222 (100.0%) in 5.75 min. Items per second: 64.44\n",
      "EvaluatorHoldout: Processed 10037 (100.0%) in 6.15 sec. Users per second: 1631\n"
     ]
    },
    {
     "name": "stderr",
     "output_type": "stream",
     "text": [
      "[I 2023-11-21 16:00:48,226] Trial 12 finished with value: 0.03036989329955377 and parameters: {'topK': 7998, 'l1_ratio': 0.04235969824578516, 'alpha': 0.0017170769746172462}. Best is trial 12 with value: 0.03036989329955377.\n"
     ]
    },
    {
     "name": "stdout",
     "output_type": "stream",
     "text": [
      "SLIMElasticNetRecommender: URM Detected 487 ( 3.9%) users with no interactions.\n",
      "SLIMElasticNetRecommender: URM Detected 338 ( 1.5%) items with no interactions.\n",
      "SLIMElasticNetRecommender: Processed 19204 (86.4%) in 5.00 min. Items per second: 64.00\n",
      "SLIMElasticNetRecommender: Processed 22222 (100.0%) in 6.02 min. Items per second: 61.54\n",
      "EvaluatorHoldout: Processed 10037 (100.0%) in 6.28 sec. Users per second: 1597\n"
     ]
    },
    {
     "name": "stderr",
     "output_type": "stream",
     "text": [
      "[I 2023-11-21 16:06:55,707] Trial 13 finished with value: 0.030315942125247904 and parameters: {'topK': 7685, 'l1_ratio': 0.042894345667597845, 'alpha': 0.001559094538667277}. Best is trial 12 with value: 0.03036989329955377.\n"
     ]
    },
    {
     "name": "stdout",
     "output_type": "stream",
     "text": [
      "SLIMElasticNetRecommender: URM Detected 487 ( 3.9%) users with no interactions.\n",
      "SLIMElasticNetRecommender: URM Detected 338 ( 1.5%) items with no interactions.\n",
      "SLIMElasticNetRecommender: Processed 18547 (83.5%) in 5.00 min. Items per second: 61.82\n",
      "SLIMElasticNetRecommender: Processed 22222 (100.0%) in 6.24 min. Items per second: 59.36\n",
      "EvaluatorHoldout: Processed 10037 (100.0%) in 6.20 sec. Users per second: 1618\n"
     ]
    },
    {
     "name": "stderr",
     "output_type": "stream",
     "text": [
      "[I 2023-11-21 16:13:16,360] Trial 14 finished with value: 0.030345946189574903 and parameters: {'topK': 7164, 'l1_ratio': 0.04882986119471493, 'alpha': 0.001225839365231431}. Best is trial 12 with value: 0.03036989329955377.\n"
     ]
    },
    {
     "name": "stdout",
     "output_type": "stream",
     "text": [
      "SLIMElasticNetRecommender: URM Detected 487 ( 3.9%) users with no interactions.\n",
      "SLIMElasticNetRecommender: URM Detected 338 ( 1.5%) items with no interactions.\n",
      "SLIMElasticNetRecommender: Processed 18643 (83.9%) in 5.00 min. Items per second: 62.14\n",
      "SLIMElasticNetRecommender: Processed 22222 (100.0%) in 6.20 min. Items per second: 59.77\n",
      "EvaluatorHoldout: Processed 10037 (100.0%) in 6.09 sec. Users per second: 1647\n"
     ]
    },
    {
     "name": "stderr",
     "output_type": "stream",
     "text": [
      "[I 2023-11-21 16:19:34,346] Trial 15 finished with value: 0.03036469032832502 and parameters: {'topK': 8864, 'l1_ratio': 0.05211500619309048, 'alpha': 0.00114846135040315}. Best is trial 12 with value: 0.03036989329955377.\n"
     ]
    },
    {
     "name": "stdout",
     "output_type": "stream",
     "text": [
      "SLIMElasticNetRecommender: URM Detected 487 ( 3.9%) users with no interactions.\n",
      "SLIMElasticNetRecommender: URM Detected 338 ( 1.5%) items with no interactions.\n",
      "SLIMElasticNetRecommender: Processed 17164 (77.2%) in 5.00 min. Items per second: 57.21\n",
      "SLIMElasticNetRecommender: Processed 22222 (100.0%) in 6.74 min. Items per second: 54.98\n",
      "EvaluatorHoldout: Processed 10037 (100.0%) in 6.04 sec. Users per second: 1662\n"
     ]
    },
    {
     "name": "stderr",
     "output_type": "stream",
     "text": [
      "[I 2023-11-21 16:26:24,692] Trial 16 finished with value: 0.02998933311825636 and parameters: {'topK': 8981, 'l1_ratio': 0.0454236462884312, 'alpha': 0.000982120764607489}. Best is trial 12 with value: 0.03036989329955377.\n"
     ]
    },
    {
     "name": "stdout",
     "output_type": "stream",
     "text": [
      "SLIMElasticNetRecommender: URM Detected 487 ( 3.9%) users with no interactions.\n",
      "SLIMElasticNetRecommender: URM Detected 338 ( 1.5%) items with no interactions.\n",
      "SLIMElasticNetRecommender: Processed 19197 (86.4%) in 5.00 min. Items per second: 63.98\n",
      "SLIMElasticNetRecommender: Processed 22222 (100.0%) in 6.03 min. Items per second: 61.38\n",
      "EvaluatorHoldout: Processed 10037 (100.0%) in 5.97 sec. Users per second: 1680\n"
     ]
    },
    {
     "name": "stderr",
     "output_type": "stream",
     "text": [
      "[I 2023-11-21 16:32:32,730] Trial 17 finished with value: 0.030403087939702568 and parameters: {'topK': 8894, 'l1_ratio': 0.05565733019999427, 'alpha': 0.0012979360257937668}. Best is trial 17 with value: 0.030403087939702568.\n"
     ]
    },
    {
     "name": "stdout",
     "output_type": "stream",
     "text": [
      "SLIMElasticNetRecommender: URM Detected 487 ( 3.9%) users with no interactions.\n",
      "SLIMElasticNetRecommender: URM Detected 338 ( 1.5%) items with no interactions.\n",
      "SLIMElasticNetRecommender: Processed 22222 (100.0%) in 4.45 min. Items per second: 83.26\n",
      "EvaluatorHoldout: Processed 10037 (100.0%) in 5.71 sec. Users per second: 1757\n"
     ]
    },
    {
     "name": "stderr",
     "output_type": "stream",
     "text": [
      "[I 2023-11-21 16:37:05,369] Trial 18 finished with value: 0.03007588984250365 and parameters: {'topK': 8953, 'l1_ratio': 0.05701941485332182, 'alpha': 0.002265112135949522}. Best is trial 17 with value: 0.030403087939702568.\n"
     ]
    },
    {
     "name": "stdout",
     "output_type": "stream",
     "text": [
      "SLIMElasticNetRecommender: URM Detected 487 ( 3.9%) users with no interactions.\n",
      "SLIMElasticNetRecommender: URM Detected 338 ( 1.5%) items with no interactions.\n",
      "SLIMElasticNetRecommender: Processed 22222 (100.0%) in 4.57 min. Items per second: 81.01\n",
      "EvaluatorHoldout: Processed 10037 (100.0%) in 5.72 sec. Users per second: 1756\n"
     ]
    },
    {
     "name": "stderr",
     "output_type": "stream",
     "text": [
      "[I 2023-11-21 16:41:45,428] Trial 19 finished with value: 0.03035968899199962 and parameters: {'topK': 6687, 'l1_ratio': 0.07863554255693765, 'alpha': 0.0014814296009775367}. Best is trial 17 with value: 0.030403087939702568.\n"
     ]
    },
    {
     "name": "stdout",
     "output_type": "stream",
     "text": [
      "SLIMElasticNetRecommender: URM Detected 487 ( 3.9%) users with no interactions.\n",
      "SLIMElasticNetRecommender: URM Detected 338 ( 1.5%) items with no interactions.\n",
      "SLIMElasticNetRecommender: Processed 16845 (75.8%) in 5.00 min. Items per second: 56.15\n",
      "SLIMElasticNetRecommender: Processed 22222 (100.0%) in 6.83 min. Items per second: 54.23\n",
      "EvaluatorHoldout: Processed 10037 (100.0%) in 6.00 sec. Users per second: 1674\n"
     ]
    },
    {
     "name": "stderr",
     "output_type": "stream",
     "text": [
      "[I 2023-11-21 16:48:41,338] Trial 20 finished with value: 0.02924390469548395 and parameters: {'topK': 8382, 'l1_ratio': 0.05385657158197074, 'alpha': 0.0005798229689643879}. Best is trial 17 with value: 0.030403087939702568.\n"
     ]
    },
    {
     "name": "stdout",
     "output_type": "stream",
     "text": [
      "SLIMElasticNetRecommender: URM Detected 487 ( 3.9%) users with no interactions.\n",
      "SLIMElasticNetRecommender: URM Detected 338 ( 1.5%) items with no interactions.\n",
      "SLIMElasticNetRecommender: Processed 19062 (85.8%) in 5.00 min. Items per second: 63.52\n",
      "SLIMElasticNetRecommender: Processed 22222 (100.0%) in 6.07 min. Items per second: 60.96\n",
      "EvaluatorHoldout: Processed 10037 (100.0%) in 6.13 sec. Users per second: 1637\n"
     ]
    },
    {
     "name": "stderr",
     "output_type": "stream",
     "text": [
      "[I 2023-11-21 16:54:52,047] Trial 21 finished with value: 0.03038234326642228 and parameters: {'topK': 9182, 'l1_ratio': 0.05325816223256781, 'alpha': 0.0011880453644831468}. Best is trial 17 with value: 0.030403087939702568.\n"
     ]
    },
    {
     "name": "stdout",
     "output_type": "stream",
     "text": [
      "SLIMElasticNetRecommender: URM Detected 487 ( 3.9%) users with no interactions.\n",
      "SLIMElasticNetRecommender: URM Detected 338 ( 1.5%) items with no interactions.\n",
      "SLIMElasticNetRecommender: Processed 22222 (100.0%) in 4.69 min. Items per second: 78.98\n",
      "EvaluatorHoldout: Processed 10037 (100.0%) in 5.81 sec. Users per second: 1727\n"
     ]
    },
    {
     "name": "stderr",
     "output_type": "stream",
     "text": [
      "[I 2023-11-21 16:59:39,250] Trial 22 finished with value: 0.03037981689969357 and parameters: {'topK': 9364, 'l1_ratio': 0.06005696886910818, 'alpha': 0.0014716654907452125}. Best is trial 17 with value: 0.030403087939702568.\n"
     ]
    },
    {
     "name": "stdout",
     "output_type": "stream",
     "text": [
      "SLIMElasticNetRecommender: URM Detected 487 ( 3.9%) users with no interactions.\n",
      "SLIMElasticNetRecommender: URM Detected 338 ( 1.5%) items with no interactions.\n",
      "SLIMElasticNetRecommender: Processed 21055 (94.7%) in 5.00 min. Items per second: 70.17\n",
      "SLIMElasticNetRecommender: Processed 22222 (100.0%) in 5.44 min. Items per second: 68.07\n",
      "EvaluatorHoldout: Processed 10037 (100.0%) in 5.88 sec. Users per second: 1708\n"
     ]
    },
    {
     "name": "stderr",
     "output_type": "stream",
     "text": [
      "[I 2023-11-21 17:05:11,612] Trial 23 finished with value: 0.030402866536671593 and parameters: {'topK': 9961, 'l1_ratio': 0.060326550710494295, 'alpha': 0.0012928834555533824}. Best is trial 17 with value: 0.030403087939702568.\n"
     ]
    },
    {
     "name": "stdout",
     "output_type": "stream",
     "text": [
      "SLIMElasticNetRecommender: URM Detected 487 ( 3.9%) users with no interactions.\n",
      "SLIMElasticNetRecommender: URM Detected 338 ( 1.5%) items with no interactions.\n",
      "SLIMElasticNetRecommender: Processed 18705 (84.2%) in 5.00 min. Items per second: 62.34\n",
      "SLIMElasticNetRecommender: Processed 22222 (100.0%) in 6.19 min. Items per second: 59.86\n",
      "EvaluatorHoldout: Processed 10037 (100.0%) in 6.09 sec. Users per second: 1647\n"
     ]
    },
    {
     "name": "stderr",
     "output_type": "stream",
     "text": [
      "[I 2023-11-21 17:11:29,030] Trial 24 finished with value: 0.03020436290487115 and parameters: {'topK': 9761, 'l1_ratio': 0.06534295493314546, 'alpha': 0.000931878045926226}. Best is trial 17 with value: 0.030403087939702568.\n"
     ]
    },
    {
     "name": "stdout",
     "output_type": "stream",
     "text": [
      "SLIMElasticNetRecommender: URM Detected 487 ( 3.9%) users with no interactions.\n",
      "SLIMElasticNetRecommender: URM Detected 338 ( 1.5%) items with no interactions.\n",
      "SLIMElasticNetRecommender: Processed 19685 (88.6%) in 5.00 min. Items per second: 65.61\n",
      "SLIMElasticNetRecommender: Processed 22222 (100.0%) in 5.87 min. Items per second: 63.07\n",
      "EvaluatorHoldout: Processed 10037 (100.0%) in 6.07 sec. Users per second: 1654\n"
     ]
    },
    {
     "name": "stderr",
     "output_type": "stream",
     "text": [
      "[I 2023-11-21 17:17:27,517] Trial 25 finished with value: 0.03038533220734092 and parameters: {'topK': 9078, 'l1_ratio': 0.055403291827455695, 'alpha': 0.001279198222977055}. Best is trial 17 with value: 0.030403087939702568.\n"
     ]
    },
    {
     "name": "stdout",
     "output_type": "stream",
     "text": [
      "SLIMElasticNetRecommender: URM Detected 487 ( 3.9%) users with no interactions.\n",
      "SLIMElasticNetRecommender: URM Detected 338 ( 1.5%) items with no interactions.\n",
      "SLIMElasticNetRecommender: Processed 22222 (100.0%) in 4.62 min. Items per second: 80.16\n",
      "EvaluatorHoldout: Processed 10037 (100.0%) in 5.78 sec. Users per second: 1737\n"
     ]
    },
    {
     "name": "stderr",
     "output_type": "stream",
     "text": [
      "[I 2023-11-21 17:22:10,557] Trial 26 finished with value: 0.030355079064604017 and parameters: {'topK': 8550, 'l1_ratio': 0.07388020716775157, 'alpha': 0.001502106558252857}. Best is trial 17 with value: 0.030403087939702568.\n"
     ]
    },
    {
     "name": "stdout",
     "output_type": "stream",
     "text": [
      "SLIMElasticNetRecommender: URM Detected 487 ( 3.9%) users with no interactions.\n",
      "SLIMElasticNetRecommender: URM Detected 338 ( 1.5%) items with no interactions.\n",
      "SLIMElasticNetRecommender: Processed 22222 (100.0%) in 4.45 min. Items per second: 83.29\n",
      "EvaluatorHoldout: Processed 10037 (100.0%) in 5.89 sec. Users per second: 1705\n"
     ]
    },
    {
     "name": "stderr",
     "output_type": "stream",
     "text": [
      "[I 2023-11-21 17:26:43,287] Trial 27 finished with value: 0.030074944925996307 and parameters: {'topK': 9435, 'l1_ratio': 0.06222010738476105, 'alpha': 0.0022196564901362584}. Best is trial 17 with value: 0.030403087939702568.\n"
     ]
    },
    {
     "name": "stdout",
     "output_type": "stream",
     "text": [
      "SLIMElasticNetRecommender: URM Detected 487 ( 3.9%) users with no interactions.\n",
      "SLIMElasticNetRecommender: URM Detected 338 ( 1.5%) items with no interactions.\n",
      "SLIMElasticNetRecommender: Processed 17337 (78.0%) in 5.00 min. Items per second: 57.78\n",
      "SLIMElasticNetRecommender: Processed 22222 (100.0%) in 6.68 min. Items per second: 55.43\n",
      "EvaluatorHoldout: Processed 10037 (100.0%) in 6.24 sec. Users per second: 1609\n"
     ]
    },
    {
     "name": "stderr",
     "output_type": "stream",
     "text": [
      "[I 2023-11-21 17:33:30,551] Trial 28 finished with value: 0.029825502782561842 and parameters: {'topK': 9955, 'l1_ratio': 0.056654226514938504, 'alpha': 0.0007552710205499062}. Best is trial 17 with value: 0.030403087939702568.\n"
     ]
    },
    {
     "name": "stdout",
     "output_type": "stream",
     "text": [
      "SLIMElasticNetRecommender: URM Detected 487 ( 3.9%) users with no interactions.\n",
      "SLIMElasticNetRecommender: URM Detected 338 ( 1.5%) items with no interactions.\n",
      "SLIMElasticNetRecommender: Processed 16716 (75.2%) in 5.00 min. Items per second: 55.71\n",
      "SLIMElasticNetRecommender: Processed 22222 (100.0%) in 6.88 min. Items per second: 53.79\n",
      "EvaluatorHoldout: Processed 10037 (100.0%) in 6.09 sec. Users per second: 1647\n"
     ]
    },
    {
     "name": "stderr",
     "output_type": "stream",
     "text": [
      "[I 2023-11-21 17:40:29,843] Trial 29 finished with value: 0.02932733014829273 and parameters: {'topK': 6925, 'l1_ratio': 0.07921707102437515, 'alpha': 0.000512985101498247}. Best is trial 17 with value: 0.030403087939702568.\n"
     ]
    }
   ],
   "source": [
    "best_params = {\n",
    "    \"topK\": 387,\n",
    "    \"l1_ratio\": 2.885534884125904e-05,\n",
    "    \"alpha\": 0.021093218153486776,\n",
    "}\n",
    "study = op.create_study(direction=\"maximize\")\n",
    "study.enqueue_trial(best_params)\n",
    "study.optimize(objective, n_trials=30)"
   ],
   "metadata": {
    "collapsed": false,
    "ExecuteTime": {
     "end_time": "2023-11-21T16:40:29.853154247Z",
     "start_time": "2023-11-21T13:57:21.816316786Z"
    }
   },
   "id": "c5b8a36d4aed08fc"
  },
  {
   "cell_type": "code",
   "execution_count": 6,
   "outputs": [
    {
     "data": {
      "text/plain": "{'topK': 8894, 'l1_ratio': 0.05565733019999427, 'alpha': 0.0012979360257937668}"
     },
     "execution_count": 6,
     "metadata": {},
     "output_type": "execute_result"
    }
   ],
   "source": [
    "study.best_params"
   ],
   "metadata": {
    "collapsed": false,
    "ExecuteTime": {
     "end_time": "2023-11-21T16:48:11.527945741Z",
     "start_time": "2023-11-21T16:48:11.484678634Z"
    }
   },
   "id": "f18968c2188a349a"
  },
  {
   "cell_type": "code",
   "execution_count": 7,
   "outputs": [
    {
     "name": "stdout",
     "output_type": "stream",
     "text": [
      "SLIMElasticNetRecommender: URM Detected 232 ( 1.8%) users with no interactions.\n",
      "SLIMElasticNetRecommender: URM Detected 103 ( 0.5%) items with no interactions.\n",
      "SLIMElasticNetRecommender: Processed 17389 (78.3%) in 5.00 min. Items per second: 57.96\n",
      "SLIMElasticNetRecommender: Processed 22222 (100.0%) in 6.45 min. Items per second: 57.42\n"
     ]
    }
   ],
   "source": [
    "final = model(URM_train_validation)\n",
    "final.fit(**study.best_params)"
   ],
   "metadata": {
    "collapsed": false,
    "ExecuteTime": {
     "end_time": "2023-11-21T17:01:23.976153916Z",
     "start_time": "2023-11-21T16:54:56.887169177Z"
    }
   },
   "id": "7ae12a0ef4bc0baa"
  },
  {
   "cell_type": "code",
   "execution_count": 8,
   "outputs": [
    {
     "name": "stdout",
     "output_type": "stream",
     "text": [
      "EvaluatorHoldout: Ignoring 2176 (17.2%) Users that have less than 1 test interactions\n",
      "EvaluatorHoldout: Ignoring 0 Users\n",
      "EvaluatorHoldout: Processed 10462 (100.0%) in 6.56 sec. Users per second: 1596\n"
     ]
    },
    {
     "data": {
      "text/plain": "(       PRECISION PRECISION_RECALL_MIN_DEN    RECALL       MAP MAP_MIN_DEN  \\\n cutoff                                                                      \n 10      0.096683                 0.167108  0.140668  0.049947    0.086206   \n \n             MRR      NDCG      F1  HIT_RATE ARHR_ALL_HITS  ... COVERAGE_USER  \\\n cutoff                                                     ...                 \n 10      0.27832  0.154074  0.1146  0.527337      0.368245  ...      0.827821   \n \n        COVERAGE_USER_HIT USERS_IN_GT DIVERSITY_GINI SHANNON_ENTROPY  \\\n cutoff                                                                \n 10              0.436541    0.827821       0.054661        10.16803   \n \n        RATIO_DIVERSITY_HERFINDAHL RATIO_DIVERSITY_GINI RATIO_SHANNON_ENTROPY  \\\n cutoff                                                                         \n 10                       0.997643             0.156901              0.783344   \n \n        RATIO_AVERAGE_POPULARITY RATIO_NOVELTY  \n cutoff                                         \n 10                     1.867518      0.284298  \n \n [1 rows x 27 columns],\n 'CUTOFF: 10 - PRECISION: 0.0966832, PRECISION_RECALL_MIN_DEN: 0.1671084, RECALL: 0.1406677, MAP: 0.0499469, MAP_MIN_DEN: 0.0862062, MRR: 0.2783201, NDCG: 0.1540742, F1: 0.1146000, HIT_RATE: 0.5273370, ARHR_ALL_HITS: 0.3682449, NOVELTY: 0.0050324, AVERAGE_POPULARITY: 0.2274640, DIVERSITY_MEAN_INTER_LIST: 0.9729123, DIVERSITY_HERFINDAHL: 0.9972819, COVERAGE_ITEM: 0.2935379, COVERAGE_ITEM_HIT: 0.0908559, ITEMS_IN_GT: 0.8044280, COVERAGE_USER: 0.8278209, COVERAGE_USER_HIT: 0.4365406, USERS_IN_GT: 0.8278209, DIVERSITY_GINI: 0.0546607, SHANNON_ENTROPY: 10.1680295, RATIO_DIVERSITY_HERFINDAHL: 0.9976433, RATIO_DIVERSITY_GINI: 0.1569015, RATIO_SHANNON_ENTROPY: 0.7833442, RATIO_AVERAGE_POPULARITY: 1.8675180, RATIO_NOVELTY: 0.2842978, \\n')"
     },
     "execution_count": 8,
     "metadata": {},
     "output_type": "execute_result"
    }
   ],
   "source": [
    "from Evaluation.Evaluator import EvaluatorHoldout\n",
    "evaluator_test = EvaluatorHoldout(URM_test, cutoff_list=[10], ignore_users=[])\n",
    "evaluator_test.evaluateRecommender(final)"
   ],
   "metadata": {
    "collapsed": false,
    "ExecuteTime": {
     "end_time": "2023-11-21T17:01:30.534196406Z",
     "start_time": "2023-11-21T17:01:23.971974392Z"
    }
   },
   "id": "1a0a3570fbcb348b"
  },
  {
   "cell_type": "code",
   "execution_count": null,
   "outputs": [],
   "source": [],
   "metadata": {
    "collapsed": false
   },
   "id": "3cdf5d82e17bdf89"
  }
 ],
 "metadata": {
  "kernelspec": {
   "display_name": "Python 3",
   "language": "python",
   "name": "python3"
  },
  "language_info": {
   "codemirror_mode": {
    "name": "ipython",
    "version": 2
   },
   "file_extension": ".py",
   "mimetype": "text/x-python",
   "name": "python",
   "nbconvert_exporter": "python",
   "pygments_lexer": "ipython2",
   "version": "2.7.6"
  }
 },
 "nbformat": 4,
 "nbformat_minor": 5
}
