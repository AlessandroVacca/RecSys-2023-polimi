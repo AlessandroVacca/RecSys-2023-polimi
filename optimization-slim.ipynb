{
 "cells": [
  {
   "cell_type": "code",
   "execution_count": 1,
   "id": "initial_id",
   "metadata": {
    "collapsed": true,
    "ExecuteTime": {
     "end_time": "2023-11-27T13:06:04.637873203Z",
     "start_time": "2023-11-27T13:06:01.995774411Z"
    }
   },
   "outputs": [
    {
     "name": "stdout",
     "output_type": "stream",
     "text": [
      "Warning: 221 (1.75 %) of 12638 users have no train items\n",
      "Warning: 2191 (17.34 %) of 12638 users have no sampled items\n",
      "Warning: 452 (3.58 %) of 12638 users have no train items\n",
      "Warning: 2592 (20.51 %) of 12638 users have no sampled items\n"
     ]
    }
   ],
   "source": [
    "from Data_manager.UserUtils import *\n",
    "from Data_manager.split_functions.split_train_validation_random_holdout import \\\n",
    "    split_train_in_two_percentage_global_sample\n",
    "URM_all = getURM_all()\n",
    "URM_train_validation, URM_test = split_train_in_two_percentage_global_sample(URM_all, train_percentage = 0.80)\n",
    "URM_train, URM_validation = split_train_in_two_percentage_global_sample(URM_train_validation, train_percentage = 0.80)"
   ]
  },
  {
   "cell_type": "code",
   "execution_count": 2,
   "outputs": [
    {
     "name": "stdout",
     "output_type": "stream",
     "text": [
      "EvaluatorHoldout: Ignoring 2592 (20.5%) Users that have less than 1 test interactions\n",
      "EvaluatorHoldout: Ignoring 0 Users\n"
     ]
    }
   ],
   "source": [
    "from Recommenders.SLIM.SLIMElasticNetRecommender import SLIMElasticNetRecommender\n",
    "\n",
    "model = SLIMElasticNetRecommender\n",
    "\n",
    "from Evaluation.Evaluator import EvaluatorHoldout\n",
    "evaluator_validation = EvaluatorHoldout(URM_validation, cutoff_list=[10], ignore_users=[])"
   ],
   "metadata": {
    "collapsed": false,
    "ExecuteTime": {
     "end_time": "2023-11-27T13:06:04.780468347Z",
     "start_time": "2023-11-27T13:06:04.639595596Z"
    }
   },
   "id": "8a9fec0ccc4f11c5"
  },
  {
   "cell_type": "code",
   "execution_count": 3,
   "outputs": [],
   "source": [
    "import optuna as op\n",
    "def objective(trial):\n",
    "    topK = trial.suggest_int(\"topK\", 3e2, 1e4)\n",
    "    l1 = trial.suggest_float(\"l1_ratio\", 0.01e-05, 0.1)\n",
    "    alpha = trial.suggest_float(\"alpha\", 5e-4, 0.5)\n",
    "\n",
    "    \n",
    "    recommender = model(URM_train)\n",
    "    recommender.fit(**trial.params)\n",
    "    \n",
    "    result, _ = evaluator_validation.evaluateRecommender(recommender)\n",
    "    MAP_result = result[\"MAP\"].item()\n",
    "       \n",
    "    return MAP_result"
   ],
   "metadata": {
    "collapsed": false,
    "ExecuteTime": {
     "end_time": "2023-11-27T13:06:05.027205419Z",
     "start_time": "2023-11-27T13:06:04.783766959Z"
    }
   },
   "id": "b826576f6714c764"
  },
  {
   "cell_type": "code",
   "execution_count": 5,
   "outputs": [
    {
     "name": "stderr",
     "output_type": "stream",
     "text": [
      "[I 2023-11-27 14:40:02,991] Using an existing study with name 'slim-elastic-study' instead of creating a new one.\n"
     ]
    },
    {
     "name": "stdout",
     "output_type": "stream",
     "text": [
      "SLIMElasticNetRecommender: URM Detected 452 ( 3.6%) users with no interactions.\n",
      "SLIMElasticNetRecommender: URM Detected 324 ( 1.5%) items with no interactions.\n",
      "SLIMElasticNetRecommender: Processed 16230 (73.0%) in 5.00 min. Items per second: 54.09\n",
      "SLIMElasticNetRecommender: Processed 22222 (100.0%) in 6.94 min. Items per second: 53.36\n",
      "EvaluatorHoldout: Processed 10046 (100.0%) in 6.16 sec. Users per second: 1630\n"
     ]
    },
    {
     "name": "stderr",
     "output_type": "stream",
     "text": [
      "[I 2023-11-27 14:47:05,811] Trial 113 finished with value: 0.030825930876697563 and parameters: {'topK': 8894, 'l1_ratio': 0.05565733019999427, 'alpha': 0.0012979360257937668}. Best is trial 113 with value: 0.030825930876697563.\n"
     ]
    },
    {
     "name": "stdout",
     "output_type": "stream",
     "text": [
      "SLIMElasticNetRecommender: URM Detected 452 ( 3.6%) users with no interactions.\n",
      "SLIMElasticNetRecommender: URM Detected 324 ( 1.5%) items with no interactions.\n",
      "SLIMElasticNetRecommender: Processed 22222 (100.0%) in 1.94 min. Items per second: 191.21\n",
      "EvaluatorHoldout: Processed 10046 (100.0%) in 4.63 sec. Users per second: 2169\n"
     ]
    },
    {
     "name": "stderr",
     "output_type": "stream",
     "text": [
      "[I 2023-11-27 14:49:06,753] Trial 114 finished with value: 0.019592675281008956 and parameters: {'topK': 9534, 'l1_ratio': 0.05458066196387485, 'alpha': 0.050833189139509696}. Best is trial 113 with value: 0.030825930876697563.\n"
     ]
    },
    {
     "name": "stdout",
     "output_type": "stream",
     "text": [
      "SLIMElasticNetRecommender: URM Detected 452 ( 3.6%) users with no interactions.\n",
      "SLIMElasticNetRecommender: URM Detected 324 ( 1.5%) items with no interactions.\n",
      "SLIMElasticNetRecommender: Processed 22222 (100.0%) in 2.07 min. Items per second: 178.91\n",
      "EvaluatorHoldout: Processed 10046 (100.0%) in 4.32 sec. Users per second: 2323\n"
     ]
    },
    {
     "name": "stderr",
     "output_type": "stream",
     "text": [
      "[I 2023-11-27 14:51:15,383] Trial 115 finished with value: 0.023539180089050697 and parameters: {'topK': 8202, 'l1_ratio': 0.06264362292422587, 'alpha': 0.021839636344256248}. Best is trial 113 with value: 0.030825930876697563.\n"
     ]
    },
    {
     "name": "stdout",
     "output_type": "stream",
     "text": [
      "SLIMElasticNetRecommender: URM Detected 452 ( 3.6%) users with no interactions.\n",
      "SLIMElasticNetRecommender: URM Detected 324 ( 1.5%) items with no interactions.\n",
      "SLIMElasticNetRecommender: Processed 22222 (100.0%) in 2.50 min. Items per second: 148.17\n",
      "EvaluatorHoldout: Processed 10046 (100.0%) in 5.35 sec. Users per second: 1877\n"
     ]
    },
    {
     "name": "stderr",
     "output_type": "stream",
     "text": [
      "[I 2023-11-27 14:53:50,819] Trial 116 finished with value: 0.028169606318869927 and parameters: {'topK': 9037, 'l1_ratio': 0.05836632012707128, 'alpha': 0.006923010669004361}. Best is trial 113 with value: 0.030825930876697563.\n"
     ]
    },
    {
     "name": "stdout",
     "output_type": "stream",
     "text": [
      "SLIMElasticNetRecommender: URM Detected 452 ( 3.6%) users with no interactions.\n",
      "SLIMElasticNetRecommender: URM Detected 324 ( 1.5%) items with no interactions.\n",
      "SLIMElasticNetRecommender: Processed 22222 (100.0%) in 2.07 min. Items per second: 179.08\n",
      "EvaluatorHoldout: Processed 10046 (100.0%) in 4.36 sec. Users per second: 2306\n"
     ]
    },
    {
     "name": "stderr",
     "output_type": "stream",
     "text": [
      "[I 2023-11-27 14:55:59,348] Trial 117 finished with value: 0.02395611931148463 and parameters: {'topK': 9255, 'l1_ratio': 0.056464693245213526, 'alpha': 0.02143490658358648}. Best is trial 113 with value: 0.030825930876697563.\n"
     ]
    },
    {
     "name": "stdout",
     "output_type": "stream",
     "text": [
      "SLIMElasticNetRecommender: URM Detected 452 ( 3.6%) users with no interactions.\n",
      "SLIMElasticNetRecommender: URM Detected 324 ( 1.5%) items with no interactions.\n",
      "SLIMElasticNetRecommender: Processed 22222 (100.0%) in 2.33 min. Items per second: 159.07\n",
      "EvaluatorHoldout: Processed 10046 (100.0%) in 5.13 sec. Users per second: 1959\n"
     ]
    },
    {
     "name": "stderr",
     "output_type": "stream",
     "text": [
      "[I 2023-11-27 14:58:24,271] Trial 118 finished with value: 0.027470022815682928 and parameters: {'topK': 8593, 'l1_ratio': 0.05247068054814113, 'alpha': 0.009127609425165821}. Best is trial 113 with value: 0.030825930876697563.\n"
     ]
    },
    {
     "name": "stdout",
     "output_type": "stream",
     "text": [
      "SLIMElasticNetRecommender: URM Detected 452 ( 3.6%) users with no interactions.\n",
      "SLIMElasticNetRecommender: URM Detected 324 ( 1.5%) items with no interactions.\n",
      "SLIMElasticNetRecommender: Processed 22222 (100.0%) in 1.97 min. Items per second: 188.09\n",
      "EvaluatorHoldout: Processed 10046 (100.0%) in 4.23 sec. Users per second: 2373\n"
     ]
    },
    {
     "name": "stderr",
     "output_type": "stream",
     "text": [
      "[I 2023-11-27 15:00:26,775] Trial 119 finished with value: 0.02168281460835717 and parameters: {'topK': 8893, 'l1_ratio': 0.054288425709492126, 'alpha': 0.03582842788059337}. Best is trial 113 with value: 0.030825930876697563.\n"
     ]
    },
    {
     "name": "stdout",
     "output_type": "stream",
     "text": [
      "SLIMElasticNetRecommender: URM Detected 452 ( 3.6%) users with no interactions.\n",
      "SLIMElasticNetRecommender: URM Detected 324 ( 1.5%) items with no interactions.\n",
      "SLIMElasticNetRecommender: Processed 22222 (100.0%) in 2.01 min. Items per second: 184.56\n",
      "EvaluatorHoldout: Processed 10046 (100.0%) in 4.70 sec. Users per second: 2137\n"
     ]
    },
    {
     "name": "stderr",
     "output_type": "stream",
     "text": [
      "[I 2023-11-27 15:02:31,984] Trial 120 finished with value: 0.024014406744846714 and parameters: {'topK': 8381, 'l1_ratio': 0.06042311396804053, 'alpha': 0.02016152702838895}. Best is trial 113 with value: 0.030825930876697563.\n"
     ]
    },
    {
     "name": "stdout",
     "output_type": "stream",
     "text": [
      "SLIMElasticNetRecommender: URM Detected 452 ( 3.6%) users with no interactions.\n",
      "SLIMElasticNetRecommender: URM Detected 324 ( 1.5%) items with no interactions.\n",
      "SLIMElasticNetRecommender: Processed 21323 (96.0%) in 5.00 min. Items per second: 71.06\n",
      "SLIMElasticNetRecommender: Processed 22222 (100.0%) in 5.31 min. Items per second: 69.76\n",
      "EvaluatorHoldout: Processed 10046 (100.0%) in 6.49 sec. Users per second: 1548\n"
     ]
    },
    {
     "name": "stderr",
     "output_type": "stream",
     "text": [
      "[I 2023-11-27 15:07:57,119] Trial 121 finished with value: 0.030692291648891493 and parameters: {'topK': 4273, 'l1_ratio': 0.049649381855336364, 'alpha': 0.0020031454555842583}. Best is trial 113 with value: 0.030825930876697563.\n"
     ]
    },
    {
     "name": "stdout",
     "output_type": "stream",
     "text": [
      "SLIMElasticNetRecommender: URM Detected 452 ( 3.6%) users with no interactions.\n",
      "SLIMElasticNetRecommender: URM Detected 324 ( 1.5%) items with no interactions.\n",
      "SLIMElasticNetRecommender: Processed 17285 (77.8%) in 5.00 min. Items per second: 57.61\n",
      "SLIMElasticNetRecommender: Processed 22222 (100.0%) in 6.93 min. Items per second: 53.42\n",
      "EvaluatorHoldout: Processed 10046 (100.0%) in 7.27 sec. Users per second: 1383\n"
     ]
    },
    {
     "name": "stderr",
     "output_type": "stream",
     "text": [
      "[I 2023-11-27 15:15:00,587] Trial 122 finished with value: 0.030818639022401905 and parameters: {'topK': 4301, 'l1_ratio': 0.047974525097375764, 'alpha': 0.0014254527820646956}. Best is trial 113 with value: 0.030825930876697563.\n"
     ]
    }
   ],
   "source": [
    "best_params = {\n",
    "    \"topK\": 8894,\n",
    "    \"l1_ratio\": 0.05565733019999427,\n",
    "    \"alpha\": 0.0012979360257937668,\n",
    "}\n",
    "\n",
    "study_name = \"slim-elastic-study\"  # Unique identifier of the study.\n",
    "storage_name = \"sqlite:///{}.db\".format(study_name)\n",
    "study = op.create_study(study_name=study_name, storage=storage_name, direction=\"maximize\", load_if_exists=True)\n",
    "study.enqueue_trial(best_params)\n",
    "study.optimize(objective, n_trials=10)"
   ],
   "metadata": {
    "collapsed": false,
    "ExecuteTime": {
     "end_time": "2023-11-27T14:15:00.593094762Z",
     "start_time": "2023-11-27T13:40:02.954034661Z"
    }
   },
   "id": "c5b8a36d4aed08fc"
  },
  {
   "cell_type": "code",
   "execution_count": 11,
   "outputs": [
    {
     "data": {
      "text/plain": "{'topK': 8894, 'l1_ratio': 0.05565733019999427, 'alpha': 0.0012979360257937668}"
     },
     "execution_count": 11,
     "metadata": {},
     "output_type": "execute_result"
    }
   ],
   "source": [
    "study.best_params"
   ],
   "metadata": {
    "collapsed": false,
    "ExecuteTime": {
     "end_time": "2023-11-24T23:38:41.568507164Z",
     "start_time": "2023-11-24T23:38:41.525779238Z"
    }
   },
   "id": "f18968c2188a349a"
  },
  {
   "cell_type": "code",
   "execution_count": 7,
   "outputs": [
    {
     "name": "stdout",
     "output_type": "stream",
     "text": [
      "SLIMElasticNetRecommender: URM Detected 232 ( 1.8%) users with no interactions.\n",
      "SLIMElasticNetRecommender: URM Detected 103 ( 0.5%) items with no interactions.\n",
      "SLIMElasticNetRecommender: Processed 17389 (78.3%) in 5.00 min. Items per second: 57.96\n",
      "SLIMElasticNetRecommender: Processed 22222 (100.0%) in 6.45 min. Items per second: 57.42\n"
     ]
    }
   ],
   "source": [
    "final = model(URM_train_validation)\n",
    "final.fit(**study.best_params)"
   ],
   "metadata": {
    "collapsed": false,
    "ExecuteTime": {
     "end_time": "2023-11-21T17:01:23.976153916Z",
     "start_time": "2023-11-21T16:54:56.887169177Z"
    }
   },
   "id": "7ae12a0ef4bc0baa"
  },
  {
   "cell_type": "code",
   "execution_count": 8,
   "outputs": [
    {
     "name": "stdout",
     "output_type": "stream",
     "text": [
      "EvaluatorHoldout: Ignoring 2176 (17.2%) Users that have less than 1 test interactions\n",
      "EvaluatorHoldout: Ignoring 0 Users\n",
      "EvaluatorHoldout: Processed 10462 (100.0%) in 6.56 sec. Users per second: 1596\n"
     ]
    },
    {
     "data": {
      "text/plain": "(       PRECISION PRECISION_RECALL_MIN_DEN    RECALL       MAP MAP_MIN_DEN  \\\n cutoff                                                                      \n 10      0.096683                 0.167108  0.140668  0.049947    0.086206   \n \n             MRR      NDCG      F1  HIT_RATE ARHR_ALL_HITS  ... COVERAGE_USER  \\\n cutoff                                                     ...                 \n 10      0.27832  0.154074  0.1146  0.527337      0.368245  ...      0.827821   \n \n        COVERAGE_USER_HIT USERS_IN_GT DIVERSITY_GINI SHANNON_ENTROPY  \\\n cutoff                                                                \n 10              0.436541    0.827821       0.054661        10.16803   \n \n        RATIO_DIVERSITY_HERFINDAHL RATIO_DIVERSITY_GINI RATIO_SHANNON_ENTROPY  \\\n cutoff                                                                         \n 10                       0.997643             0.156901              0.783344   \n \n        RATIO_AVERAGE_POPULARITY RATIO_NOVELTY  \n cutoff                                         \n 10                     1.867518      0.284298  \n \n [1 rows x 27 columns],\n 'CUTOFF: 10 - PRECISION: 0.0966832, PRECISION_RECALL_MIN_DEN: 0.1671084, RECALL: 0.1406677, MAP: 0.0499469, MAP_MIN_DEN: 0.0862062, MRR: 0.2783201, NDCG: 0.1540742, F1: 0.1146000, HIT_RATE: 0.5273370, ARHR_ALL_HITS: 0.3682449, NOVELTY: 0.0050324, AVERAGE_POPULARITY: 0.2274640, DIVERSITY_MEAN_INTER_LIST: 0.9729123, DIVERSITY_HERFINDAHL: 0.9972819, COVERAGE_ITEM: 0.2935379, COVERAGE_ITEM_HIT: 0.0908559, ITEMS_IN_GT: 0.8044280, COVERAGE_USER: 0.8278209, COVERAGE_USER_HIT: 0.4365406, USERS_IN_GT: 0.8278209, DIVERSITY_GINI: 0.0546607, SHANNON_ENTROPY: 10.1680295, RATIO_DIVERSITY_HERFINDAHL: 0.9976433, RATIO_DIVERSITY_GINI: 0.1569015, RATIO_SHANNON_ENTROPY: 0.7833442, RATIO_AVERAGE_POPULARITY: 1.8675180, RATIO_NOVELTY: 0.2842978, \\n')"
     },
     "execution_count": 8,
     "metadata": {},
     "output_type": "execute_result"
    }
   ],
   "source": [
    "from Evaluation.Evaluator import EvaluatorHoldout\n",
    "evaluator_test = EvaluatorHoldout(URM_test, cutoff_list=[10], ignore_users=[])\n",
    "evaluator_test.evaluateRecommender(final)"
   ],
   "metadata": {
    "collapsed": false,
    "ExecuteTime": {
     "end_time": "2023-11-21T17:01:30.534196406Z",
     "start_time": "2023-11-21T17:01:23.971974392Z"
    }
   },
   "id": "1a0a3570fbcb348b"
  },
  {
   "cell_type": "code",
   "execution_count": null,
   "outputs": [],
   "source": [],
   "metadata": {
    "collapsed": false
   },
   "id": "3cdf5d82e17bdf89"
  }
 ],
 "metadata": {
  "kernelspec": {
   "display_name": "Python 3",
   "language": "python",
   "name": "python3"
  },
  "language_info": {
   "codemirror_mode": {
    "name": "ipython",
    "version": 2
   },
   "file_extension": ".py",
   "mimetype": "text/x-python",
   "name": "python",
   "nbconvert_exporter": "python",
   "pygments_lexer": "ipython2",
   "version": "2.7.6"
  }
 },
 "nbformat": 4,
 "nbformat_minor": 5
}
