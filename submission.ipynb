{
 "cells": [
  {
   "cell_type": "code",
   "execution_count": 5,
   "id": "initial_id",
   "metadata": {
    "collapsed": true,
    "ExecuteTime": {
     "end_time": "2023-12-20T16:35:41.379069Z",
     "start_time": "2023-12-20T16:35:39.891075Z"
    }
   },
   "outputs": [
    {
     "name": "stdout",
     "output_type": "stream",
     "text": [
      "Warning: 209 (1.65 %) of 12638 users have no train items\n",
      "Warning: 2122 (16.79 %) of 12638 users have no sampled items\n",
      "Warning: 464 (3.67 %) of 12638 users have no train items\n",
      "Warning: 2595 (20.53 %) of 12638 users have no sampled items\n"
     ]
    }
   ],
   "source": [
    "from Data_manager.UserUtils import *\n",
    "from Data_manager.split_functions.split_train_validation_random_holdout import \\\n",
    "    split_train_in_two_percentage_global_sample\n",
    "URM_all = getURM_all()\n",
    "URM_train_validation, URM_test = split_train_in_two_percentage_global_sample(URM_all, train_percentage = 0.80)\n",
    "URM_train, URM_validation = split_train_in_two_percentage_global_sample(URM_train_validation, train_percentage = 0.80)"
   ]
  },
  {
   "cell_type": "code",
   "execution_count": 2,
   "outputs": [
    {
     "name": "stdout",
     "output_type": "stream",
     "text": [
      "SLIMElasticNetRecommender: Processed 14759 (66.4%) in 5.00 min. Items per second: 49.19\n",
      "SLIMElasticNetRecommender: Processed 22222 (100.0%) in 7.31 min. Items per second: 50.63\n",
      "RP3betaRecommender: Similarity column 22222 (100.0%), 3904.41 column/sec. Elapsed time 5.69 sec\n",
      "Similarity column 12638 (100.0%), 7148.74 column/sec. Elapsed time 1.77 sec\n"
     ]
    }
   ],
   "source": [
    "from Hybrid import HybridRecommender\n",
    "recommender = HybridRecommender(URM_all)\n",
    "recommender.fit()"
   ],
   "metadata": {
    "collapsed": false,
    "ExecuteTime": {
     "end_time": "2023-11-21T23:51:21.320697847Z",
     "start_time": "2023-11-21T23:43:52.418316955Z"
    }
   },
   "id": "deeb402454e21a28"
  },
  {
   "cell_type": "markdown",
   "source": [],
   "metadata": {
    "collapsed": false
   },
   "id": "80a9d84fa45ce5fd"
  },
  {
   "cell_type": "code",
   "execution_count": 2,
   "outputs": [
    {
     "name": "stdout",
     "output_type": "stream",
     "text": [
      "SLIMElasticNetRecommender: Loading model from file 'slim_modelsslim_24.zip'\n",
      "SLIMElasticNetRecommender: Loading complete\n",
      "RP3betaRecommender: Similarity column 22222 (100.0%), 3878.24 column/sec. Elapsed time 5.73 sec\n",
      "Similarity column 22222 (100.0%), 5026.76 column/sec. Elapsed time 4.42 sec\n"
     ]
    }
   ],
   "source": [
    "from Hybrid import *\n",
    "slim = SLIMElasticNetRecommender(URM_all)\n",
    "slim.load_model(folder_path='slim_models', file_name='slim_24.zip')\n",
    "rp3 = RP3betaRecommender(URM_all)\n",
    "rp3.fit(topK=32, alpha=0.22028996694465927, beta=0.17339063177346345)\n",
    "item = ItemKNNCFRecommender(URM_all)\n",
    "item.fit(topK=31, shrink=435, similarity='tversky', normalize=True,\n",
    "                                       feature_weighting='BM25', tversky_alpha=0.17113169506422393, tversky_beta=0.5684024974085575)\n",
    "recommender = ScoresHybridRecommender(URM_all, slim, rp3, item)\n",
    "recommender.fit(alpha=0.5072513954300486, beta=0.30902582824263064)"
   ],
   "metadata": {
    "collapsed": false,
    "ExecuteTime": {
     "end_time": "2023-12-15T23:52:11.208122029Z",
     "start_time": "2023-12-15T23:51:59.064221909Z"
    }
   },
   "id": "ce5533531b7a732f"
  },
  {
   "cell_type": "code",
   "execution_count": 6,
   "outputs": [
    {
     "name": "stdout",
     "output_type": "stream",
     "text": [
      "SLIMElasticNetRecommender: Loading model from file 'slim_modelsslim_24.zip'\n",
      "SLIMElasticNetRecommender: Loading complete\n",
      "RP3betaRecommender: Similarity column 22222 (100.0%), 6436.02 column/sec. Elapsed time 3.45 sec\n",
      "Similarity column 22222 (100.0%), 9369.80 column/sec. Elapsed time 2.37 sec\n",
      "EASE_R_Recommender: Fitting model... \n",
      "EASE_R_Recommender: Fitting model... done in 1.89 min\n"
     ]
    },
    {
     "ename": "TypeError",
     "evalue": "LinearHybridRecommender.fit() got an unexpected keyword argument 'alpha'",
     "output_type": "error",
     "traceback": [
      "\u001B[0;31m---------------------------------------------------------------------------\u001B[0m",
      "\u001B[0;31mTypeError\u001B[0m                                 Traceback (most recent call last)",
      "Cell \u001B[0;32mIn[6], line 13\u001B[0m\n\u001B[1;32m     11\u001B[0m ease\u001B[38;5;241m.\u001B[39mfit(topK\u001B[38;5;241m=\u001B[39m\u001B[38;5;241m24\u001B[39m, l2_norm\u001B[38;5;241m=\u001B[39m\u001B[38;5;241m37.54323189430143\u001B[39m)\n\u001B[1;32m     12\u001B[0m recommender \u001B[38;5;241m=\u001B[39m LinearHybridRecommender(URM_all, [slim, rp3, item, ease])\n\u001B[0;32m---> 13\u001B[0m \u001B[43mrecommender\u001B[49m\u001B[38;5;241;43m.\u001B[39;49m\u001B[43mfit\u001B[49m\u001B[43m(\u001B[49m\u001B[43malpha\u001B[49m\u001B[38;5;241;43m=\u001B[39;49m\u001B[38;5;241;43m0.5326659018693103\u001B[39;49m\u001B[43m,\u001B[49m\u001B[43m \u001B[49m\u001B[43mbeta\u001B[49m\u001B[38;5;241;43m=\u001B[39;49m\u001B[38;5;241;43m0.3729414230817969\u001B[39;49m\u001B[43m)\u001B[49m\n",
      "\u001B[0;31mTypeError\u001B[0m: LinearHybridRecommender.fit() got an unexpected keyword argument 'alpha'"
     ]
    }
   ],
   "source": [
    "from Recommenders.EASE_R.EASE_R_Recommender import EASE_R_Recommender\n",
    "from Hybrid import *\n",
    "slim = SLIMElasticNetRecommender(URM_all)\n",
    "slim.load_model(folder_path='slim_models', file_name='slim_24.zip')\n",
    "rp3 = RP3betaRecommender(URM_all)\n",
    "rp3.fit(topK=32, alpha=0.22028996694465927, beta=0.17339063177346345)\n",
    "item = ItemKNNCFRecommender(URM_all)\n",
    "item.fit(topK=31, shrink=435, similarity='tversky', normalize=True,\n",
    "                                       feature_weighting='BM25', tversky_alpha=0.17113169506422393, tversky_beta=0.5684024974085575)\n",
    "ease = EASE_R_Recommender(URM_all)\n",
    "ease.fit(topK=24, l2_norm=37.54323189430143)\n",
    "recommender = LinearHybridRecommender(URM_all, [slim, rp3, item, ease])"
   ],
   "metadata": {
    "collapsed": false,
    "ExecuteTime": {
     "end_time": "2023-12-20T16:37:58.039010Z",
     "start_time": "2023-12-20T16:35:48.487332Z"
    }
   },
   "id": "981c7adc7baa0ab1"
  },
  {
   "cell_type": "code",
   "execution_count": 7,
   "outputs": [],
   "source": [
    "recommender.fit(alphas=[0.8857667100747117, 0.6379807942443021, 0.0690929184825888, 0.11953478623354052])"
   ],
   "metadata": {
    "collapsed": false,
    "ExecuteTime": {
     "end_time": "2023-12-20T16:41:33.273908Z",
     "start_time": "2023-12-20T16:41:33.270446Z"
    }
   },
   "id": "78c6d60a72cd0a65"
  },
  {
   "cell_type": "code",
   "execution_count": 2,
   "outputs": [
    {
     "name": "stdout",
     "output_type": "stream",
     "text": [
      "SLIMElasticNetRecommender: Loading model from file 'slim_modelsslim_24.zip'\n",
      "SLIMElasticNetRecommender: Loading complete\n",
      "RP3betaRecommender: Similarity column 22222 (100.0%), 6525.21 column/sec. Elapsed time 3.41 sec\n",
      "Similarity column 22222 (100.0%), 9335.98 column/sec. Elapsed time 2.38 sec\n"
     ]
    }
   ],
   "source": [
    "from Hybrid import *\n",
    "slim = SLIMElasticNetRecommender(URM_all)\n",
    "slim.load_model(folder_path='slim_models', file_name='slim_24.zip')\n",
    "rp3 = RP3betaRecommender(URM_all)\n",
    "rp3.fit(topK=32, alpha=0.22028996694465927, beta=0.17339063177346345)\n",
    "item = ItemKNNCFRecommender(URM_all)\n",
    "item.fit(topK=31, shrink=435, similarity='tversky', normalize=True,\n",
    "                                       feature_weighting='BM25', tversky_alpha=0.17113169506422393, tversky_beta=0.5684024974085575)\n",
    "recommender = ScoresHybridRecommender(URM_all, slim, rp3, item)\n",
    "recommender.fit(alpha=0.5326659018693103, beta=0.3729414230817969)"
   ],
   "metadata": {
    "collapsed": false,
    "ExecuteTime": {
     "end_time": "2023-12-19T23:15:48.634865Z",
     "start_time": "2023-12-19T23:15:41.902573Z"
    }
   },
   "id": "20c68a1b1ceb0fd"
  },
  {
   "cell_type": "code",
   "execution_count": 2,
   "outputs": [
    {
     "name": "stdout",
     "output_type": "stream",
     "text": [
      "SLIMElasticNetRecommender: Processed 8041 (36.2%) in 5.00 min. Items per second: 26.80\n",
      "SLIMElasticNetRecommender: Processed 17392 (78.3%) in 10.00 min. Items per second: 28.98\n",
      "SLIMElasticNetRecommender: Processed 22222 (100.0%) in 12.63 min. Items per second: 29.33\n"
     ]
    }
   ],
   "source": [
    "from Recommenders.SLIM.SLIMElasticNetRecommender import SLIMElasticNetRecommender\n",
    "\n",
    "recommender = SLIMElasticNetRecommender(URM_all)\n",
    "recommender.fit(topK=8894, l1_ratio=0.05565733019999427, alpha=0.0012979360257937668)"
   ],
   "metadata": {
    "collapsed": false,
    "ExecuteTime": {
     "end_time": "2023-11-22T15:48:08.916476540Z",
     "start_time": "2023-11-22T15:35:30.216052378Z"
    }
   },
   "id": "ee3f1622ba2b96ce"
  },
  {
   "cell_type": "code",
   "execution_count": 8,
   "outputs": [],
   "source": [
    "from Recommenders.NonPersonalizedRecommender import TopPop\n",
    "\n",
    "top_recommender = TopPop(URM_all)\n",
    "top_recommender.fit()"
   ],
   "metadata": {
    "collapsed": false,
    "ExecuteTime": {
     "end_time": "2023-12-20T16:41:36.811767Z",
     "start_time": "2023-12-20T16:41:36.794230Z"
    }
   },
   "id": "323609d8b1bd32a"
  },
  {
   "cell_type": "code",
   "execution_count": 9,
   "outputs": [
    {
     "name": "stderr",
     "output_type": "stream",
     "text": [
      "/Users/alessandro/RecSys-2023-polimi/Data_manager/UserUtils.py:81: SettingWithCopyWarning: \n",
      "A value is trying to be set on a copy of a slice from a DataFrame.\n",
      "Try using .loc[row_indexer,col_indexer] = value instead\n",
      "\n",
      "See the caveats in the documentation: https://pandas.pydata.org/pandas-docs/stable/user_guide/indexing.html#returning-a-view-versus-a-copy\n",
      "  submission['item_list'] = submission['item_list'].apply(lambda x: ' '.join(map(str, x)))  # remove brakets\n",
      "/Users/alessandro/RecSys-2023-polimi/Data_manager/UserUtils.py:84: SettingWithCopyWarning: \n",
      "A value is trying to be set on a copy of a slice from a DataFrame.\n",
      "Try using .loc[row_indexer,col_indexer] = value instead\n",
      "\n",
      "See the caveats in the documentation: https://pandas.pydata.org/pandas-docs/stable/user_guide/indexing.html#returning-a-view-versus-a-copy\n",
      "  submission['item_list'] = submission['item_list'].astype(str)\n"
     ]
    }
   ],
   "source": [
    "generateSubmission(recommender, top_recommender)"
   ],
   "metadata": {
    "collapsed": false,
    "ExecuteTime": {
     "end_time": "2023-12-20T16:41:47.330192Z",
     "start_time": "2023-12-20T16:41:37.862031Z"
    }
   },
   "id": "6ee481b533e2a7b4"
  },
  {
   "cell_type": "code",
   "execution_count": null,
   "outputs": [],
   "source": [],
   "metadata": {
    "collapsed": false
   },
   "id": "924612887fc6f973"
  }
 ],
 "metadata": {
  "kernelspec": {
   "display_name": "Python 3",
   "language": "python",
   "name": "python3"
  },
  "language_info": {
   "codemirror_mode": {
    "name": "ipython",
    "version": 2
   },
   "file_extension": ".py",
   "mimetype": "text/x-python",
   "name": "python",
   "nbconvert_exporter": "python",
   "pygments_lexer": "ipython2",
   "version": "2.7.6"
  }
 },
 "nbformat": 4,
 "nbformat_minor": 5
}
