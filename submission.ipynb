{
 "cells": [
  {
   "cell_type": "code",
   "execution_count": 1,
   "id": "initial_id",
   "metadata": {
    "collapsed": true,
    "ExecuteTime": {
     "end_time": "2023-11-22T15:35:24.048701261Z",
     "start_time": "2023-11-22T15:35:17.599194276Z"
    }
   },
   "outputs": [
    {
     "name": "stdout",
     "output_type": "stream",
     "text": [
      "Warning: 216 (1.71 %) of 12638 users have no train items\n",
      "Warning: 2200 (17.41 %) of 12638 users have no sampled items\n",
      "Warning: 468 (3.70 %) of 12638 users have no train items\n",
      "Warning: 2580 (20.41 %) of 12638 users have no sampled items\n"
     ]
    }
   ],
   "source": [
    "from Data_manager.UserUtils import *\n",
    "from Data_manager.split_functions.split_train_validation_random_holdout import \\\n",
    "    split_train_in_two_percentage_global_sample\n",
    "URM_all = getURM_all()\n",
    "URM_train_validation, URM_test = split_train_in_two_percentage_global_sample(URM_all, train_percentage = 0.80)\n",
    "URM_train, URM_validation = split_train_in_two_percentage_global_sample(URM_train_validation, train_percentage = 0.80)"
   ]
  },
  {
   "cell_type": "code",
   "execution_count": 2,
   "outputs": [
    {
     "name": "stdout",
     "output_type": "stream",
     "text": [
      "SLIMElasticNetRecommender: Processed 14759 (66.4%) in 5.00 min. Items per second: 49.19\n",
      "SLIMElasticNetRecommender: Processed 22222 (100.0%) in 7.31 min. Items per second: 50.63\n",
      "RP3betaRecommender: Similarity column 22222 (100.0%), 3904.41 column/sec. Elapsed time 5.69 sec\n",
      "Similarity column 12638 (100.0%), 7148.74 column/sec. Elapsed time 1.77 sec\n"
     ]
    }
   ],
   "source": [
    "from Hybrid import HybridRecommender\n",
    "recommender = HybridRecommender(URM_all)\n",
    "recommender.fit()"
   ],
   "metadata": {
    "collapsed": false,
    "ExecuteTime": {
     "end_time": "2023-11-21T23:51:21.320697847Z",
     "start_time": "2023-11-21T23:43:52.418316955Z"
    }
   },
   "id": "deeb402454e21a28"
  },
  {
   "cell_type": "markdown",
   "source": [],
   "metadata": {
    "collapsed": false
   },
   "id": "80a9d84fa45ce5fd"
  },
  {
   "cell_type": "code",
   "execution_count": 2,
   "outputs": [
    {
     "name": "stdout",
     "output_type": "stream",
     "text": [
      "SLIMElasticNetRecommender: Processed 8041 (36.2%) in 5.00 min. Items per second: 26.80\n",
      "SLIMElasticNetRecommender: Processed 17392 (78.3%) in 10.00 min. Items per second: 28.98\n",
      "SLIMElasticNetRecommender: Processed 22222 (100.0%) in 12.63 min. Items per second: 29.33\n"
     ]
    }
   ],
   "source": [
    "from Recommenders.SLIM.SLIMElasticNetRecommender import SLIMElasticNetRecommender\n",
    "\n",
    "recommender = SLIMElasticNetRecommender(URM_all)\n",
    "recommender.fit(topK=8894, l1_ratio=0.05565733019999427, alpha=0.0012979360257937668)"
   ],
   "metadata": {
    "collapsed": false,
    "ExecuteTime": {
     "end_time": "2023-11-22T15:48:08.916476540Z",
     "start_time": "2023-11-22T15:35:30.216052378Z"
    }
   },
   "id": "ee3f1622ba2b96ce"
  },
  {
   "cell_type": "code",
   "execution_count": 3,
   "outputs": [],
   "source": [
    "from Recommenders.NonPersonalizedRecommender import TopPop\n",
    "\n",
    "top_recommender = TopPop(URM_all)\n",
    "top_recommender.fit()"
   ],
   "metadata": {
    "collapsed": false,
    "ExecuteTime": {
     "end_time": "2023-11-22T15:48:44.863308336Z",
     "start_time": "2023-11-22T15:48:44.808279325Z"
    }
   },
   "id": "323609d8b1bd32a"
  },
  {
   "cell_type": "code",
   "execution_count": 4,
   "outputs": [
    {
     "name": "stderr",
     "output_type": "stream",
     "text": [
      "/home/alessandro/RecSys-2023-polimi/Data_manager/UserUtils.py:71: SettingWithCopyWarning: \n",
      "A value is trying to be set on a copy of a slice from a DataFrame.\n",
      "Try using .loc[row_indexer,col_indexer] = value instead\n",
      "\n",
      "See the caveats in the documentation: https://pandas.pydata.org/pandas-docs/stable/user_guide/indexing.html#returning-a-view-versus-a-copy\n",
      "  submission['item_list'] = submission['item_list'].apply(lambda x: ' '.join(map(str, x)))  # remove brakets\n",
      "/home/alessandro/RecSys-2023-polimi/Data_manager/UserUtils.py:74: SettingWithCopyWarning: \n",
      "A value is trying to be set on a copy of a slice from a DataFrame.\n",
      "Try using .loc[row_indexer,col_indexer] = value instead\n",
      "\n",
      "See the caveats in the documentation: https://pandas.pydata.org/pandas-docs/stable/user_guide/indexing.html#returning-a-view-versus-a-copy\n",
      "  submission['item_list'] = submission['item_list'].astype(str)\n"
     ]
    }
   ],
   "source": [
    "generateSubmission(recommender, top_recommender)"
   ],
   "metadata": {
    "collapsed": false,
    "ExecuteTime": {
     "end_time": "2023-11-22T15:49:00.809775162Z",
     "start_time": "2023-11-22T15:48:47.345963442Z"
    }
   },
   "id": "6ee481b533e2a7b4"
  },
  {
   "cell_type": "code",
   "execution_count": null,
   "outputs": [],
   "source": [],
   "metadata": {
    "collapsed": false
   },
   "id": "924612887fc6f973"
  }
 ],
 "metadata": {
  "kernelspec": {
   "display_name": "Python 3",
   "language": "python",
   "name": "python3"
  },
  "language_info": {
   "codemirror_mode": {
    "name": "ipython",
    "version": 2
   },
   "file_extension": ".py",
   "mimetype": "text/x-python",
   "name": "python",
   "nbconvert_exporter": "python",
   "pygments_lexer": "ipython2",
   "version": "2.7.6"
  }
 },
 "nbformat": 4,
 "nbformat_minor": 5
}
