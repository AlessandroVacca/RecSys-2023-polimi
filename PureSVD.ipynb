{
 "cells": [
  {
   "cell_type": "markdown",
   "metadata": {},
   "source": [
    "# Recommender Systems 2022/23\n",
    "\n",
    "### Practice 3 - Content Based recommenders\n",
    "\n",
    "\n",
    "### Load the data you saw last time:"
   ]
  },
  {
   "cell_type": "code",
   "execution_count": 1,
   "metadata": {
    "ExecuteTime": {
     "end_time": "2023-11-07T00:06:30.975890Z",
     "start_time": "2023-11-07T00:06:29.791252Z"
    }
   },
   "outputs": [],
   "source": [
    "import pandas as pd\n",
    "URM_path = \"data_train.csv\"\n",
    "URM_all_dataframe = pd.read_csv(filepath_or_buffer=URM_path, \n",
    "                                sep=\",\", \n",
    "                                # header=None, \n",
    "                                dtype={0:int, 1:int, 2:int},\n",
    "                                engine='python')\n",
    "\n",
    "URM_all_dataframe.columns = [\"UserID\", \"ItemID\", \"Interaction\"]"
   ]
  },
  {
   "cell_type": "code",
   "execution_count": 2,
   "metadata": {
    "ExecuteTime": {
     "end_time": "2023-11-07T00:06:30.989652Z",
     "start_time": "2023-11-07T00:06:30.978159Z"
    }
   },
   "outputs": [
    {
     "data": {
      "text/plain": "   UserID  ItemID  Interaction\n0       1       7            1\n1       1      15            1\n2       1      16            1\n3       1     133            1\n4       1     161            1\n5       1     187            1\n6       1     205            1\n7       1     222            1\n8       1     237            1\n9       1     354            1",
      "text/html": "<div>\n<style scoped>\n    .dataframe tbody tr th:only-of-type {\n        vertical-align: middle;\n    }\n\n    .dataframe tbody tr th {\n        vertical-align: top;\n    }\n\n    .dataframe thead th {\n        text-align: right;\n    }\n</style>\n<table border=\"1\" class=\"dataframe\">\n  <thead>\n    <tr style=\"text-align: right;\">\n      <th></th>\n      <th>UserID</th>\n      <th>ItemID</th>\n      <th>Interaction</th>\n    </tr>\n  </thead>\n  <tbody>\n    <tr>\n      <th>0</th>\n      <td>1</td>\n      <td>7</td>\n      <td>1</td>\n    </tr>\n    <tr>\n      <th>1</th>\n      <td>1</td>\n      <td>15</td>\n      <td>1</td>\n    </tr>\n    <tr>\n      <th>2</th>\n      <td>1</td>\n      <td>16</td>\n      <td>1</td>\n    </tr>\n    <tr>\n      <th>3</th>\n      <td>1</td>\n      <td>133</td>\n      <td>1</td>\n    </tr>\n    <tr>\n      <th>4</th>\n      <td>1</td>\n      <td>161</td>\n      <td>1</td>\n    </tr>\n    <tr>\n      <th>5</th>\n      <td>1</td>\n      <td>187</td>\n      <td>1</td>\n    </tr>\n    <tr>\n      <th>6</th>\n      <td>1</td>\n      <td>205</td>\n      <td>1</td>\n    </tr>\n    <tr>\n      <th>7</th>\n      <td>1</td>\n      <td>222</td>\n      <td>1</td>\n    </tr>\n    <tr>\n      <th>8</th>\n      <td>1</td>\n      <td>237</td>\n      <td>1</td>\n    </tr>\n    <tr>\n      <th>9</th>\n      <td>1</td>\n      <td>354</td>\n      <td>1</td>\n    </tr>\n  </tbody>\n</table>\n</div>"
     },
     "execution_count": 2,
     "metadata": {},
     "output_type": "execute_result"
    }
   ],
   "source": [
    "URM_all_dataframe.head(10)"
   ]
  },
  {
   "cell_type": "markdown",
   "metadata": {},
   "source": [
    "### BUILD the SPARSE URM matrix"
   ]
  },
  {
   "cell_type": "code",
   "execution_count": 3,
   "metadata": {
    "ExecuteTime": {
     "end_time": "2023-11-07T00:06:32.331546Z",
     "start_time": "2023-11-07T00:06:32.196346Z"
    }
   },
   "outputs": [
    {
     "data": {
      "text/plain": "   UserID  ItemID  Interaction\n0       0       0            1\n1       0       1            1\n2       0       2            1\n3       0       3            1\n4       0       4            1\n5       0       5            1\n6       0       6            1\n7       0       7            1\n8       0       8            1\n9       0       9            1",
      "text/html": "<div>\n<style scoped>\n    .dataframe tbody tr th:only-of-type {\n        vertical-align: middle;\n    }\n\n    .dataframe tbody tr th {\n        vertical-align: top;\n    }\n\n    .dataframe thead th {\n        text-align: right;\n    }\n</style>\n<table border=\"1\" class=\"dataframe\">\n  <thead>\n    <tr style=\"text-align: right;\">\n      <th></th>\n      <th>UserID</th>\n      <th>ItemID</th>\n      <th>Interaction</th>\n    </tr>\n  </thead>\n  <tbody>\n    <tr>\n      <th>0</th>\n      <td>0</td>\n      <td>0</td>\n      <td>1</td>\n    </tr>\n    <tr>\n      <th>1</th>\n      <td>0</td>\n      <td>1</td>\n      <td>1</td>\n    </tr>\n    <tr>\n      <th>2</th>\n      <td>0</td>\n      <td>2</td>\n      <td>1</td>\n    </tr>\n    <tr>\n      <th>3</th>\n      <td>0</td>\n      <td>3</td>\n      <td>1</td>\n    </tr>\n    <tr>\n      <th>4</th>\n      <td>0</td>\n      <td>4</td>\n      <td>1</td>\n    </tr>\n    <tr>\n      <th>5</th>\n      <td>0</td>\n      <td>5</td>\n      <td>1</td>\n    </tr>\n    <tr>\n      <th>6</th>\n      <td>0</td>\n      <td>6</td>\n      <td>1</td>\n    </tr>\n    <tr>\n      <th>7</th>\n      <td>0</td>\n      <td>7</td>\n      <td>1</td>\n    </tr>\n    <tr>\n      <th>8</th>\n      <td>0</td>\n      <td>8</td>\n      <td>1</td>\n    </tr>\n    <tr>\n      <th>9</th>\n      <td>0</td>\n      <td>9</td>\n      <td>1</td>\n    </tr>\n  </tbody>\n</table>\n</div>"
     },
     "execution_count": 3,
     "metadata": {},
     "output_type": "execute_result"
    }
   ],
   "source": [
    "import scipy.sparse as sps\n",
    "import numpy as np\n",
    "\n",
    "mapped_id, original_id = pd.factorize(URM_all_dataframe[\"UserID\"].unique())\n",
    "user_original_ID_to_index = pd.Series(mapped_id, index=original_id)\n",
    "\n",
    "mapped_id, original_id = pd.factorize(URM_all_dataframe[\"ItemID\"].unique())\n",
    "item_original_ID_to_index = pd.Series(mapped_id, index=original_id)\n",
    "\n",
    "URM_all_dataframe[\"UserID\"] = URM_all_dataframe[\"UserID\"].map(user_original_ID_to_index)\n",
    "URM_all_dataframe[\"ItemID\"] = URM_all_dataframe[\"ItemID\"].map(item_original_ID_to_index)\n",
    "URM_all_dataframe.head(10)"
   ]
  },
  {
   "cell_type": "code",
   "execution_count": 4,
   "metadata": {
    "ExecuteTime": {
     "end_time": "2023-11-07T00:06:33.092919Z",
     "start_time": "2023-11-07T00:06:33.067709Z"
    }
   },
   "outputs": [
    {
     "data": {
      "text/plain": "<12638x22222 sparse matrix of type '<class 'numpy.int64'>'\n\twith 478730 stored elements in Compressed Sparse Row format>"
     },
     "execution_count": 4,
     "metadata": {},
     "output_type": "execute_result"
    }
   ],
   "source": [
    "n_users = len(URM_all_dataframe[\"UserID\"].unique())\n",
    "n_items = len(URM_all_dataframe[\"ItemID\"].unique())\n",
    "\n",
    "URM_all = sps.csr_matrix((URM_all_dataframe[\"Interaction\"].values, \n",
    "                          (URM_all_dataframe[\"UserID\"].values, URM_all_dataframe[\"ItemID\"].values)),\n",
    "                        shape = (n_users, n_items))\n",
    "\n",
    "URM_all"
   ]
  },
  {
   "cell_type": "markdown",
   "metadata": {},
   "source": [
    "# Let's take a look at the URM\n"
   ]
  },
  {
   "cell_type": "code",
   "execution_count": 5,
   "metadata": {
    "ExecuteTime": {
     "end_time": "2023-11-07T00:06:34.337211Z",
     "start_time": "2023-11-07T00:06:34.319191Z"
    }
   },
   "outputs": [],
   "source": [
    "URM_all = sps.csr_matrix(URM_all)\n",
    "items_per_user = np.ediff1d(URM_all.indptr)\n",
    "\n",
    "URM_all = sps.csc_matrix(URM_all)\n",
    "users_per_item = np.ediff1d(URM_all.indptr)\n",
    "\n",
    "URM_all = sps.csr_matrix(URM_all)"
   ]
  },
  {
   "cell_type": "code",
   "execution_count": 6,
   "metadata": {
    "ExecuteTime": {
     "end_time": "2023-11-07T00:06:35.502251Z",
     "start_time": "2023-11-07T00:06:35.496859Z"
    }
   },
   "outputs": [
    {
     "name": "stdout",
     "output_type": "stream",
     "text": [
      "(12638,)\n",
      "(22222,)\n"
     ]
    }
   ],
   "source": [
    "print(items_per_user.shape)\n",
    "print(users_per_item.shape)"
   ]
  },
  {
   "cell_type": "code",
   "execution_count": 7,
   "metadata": {
    "ExecuteTime": {
     "end_time": "2023-11-07T00:06:36.006714Z",
     "start_time": "2023-11-07T00:06:36.003607Z"
    }
   },
   "outputs": [],
   "source": [
    "items_per_user = np.sort(items_per_user)\n",
    "users_per_item = np.sort(users_per_item)"
   ]
  },
  {
   "cell_type": "code",
   "execution_count": 8,
   "metadata": {
    "ExecuteTime": {
     "end_time": "2023-11-07T00:06:36.701911Z",
     "start_time": "2023-11-07T00:06:36.434504Z"
    }
   },
   "outputs": [
    {
     "data": {
      "text/plain": "<Figure size 640x480 with 1 Axes>",
      "image/png": "[encoded data removed]"
     },
     "metadata": {},
     "output_type": "display_data"
    }
   ],
   "source": [
    "import matplotlib.pyplot as pyplot\n",
    "%matplotlib inline  \n",
    "\n",
    "pyplot.plot(items_per_user, 'ro')\n",
    "pyplot.ylabel('Num items ')\n",
    "pyplot.xlabel('Sorted users')\n",
    "pyplot.show()"
   ]
  },
  {
   "cell_type": "code",
   "execution_count": 9,
   "metadata": {
    "ExecuteTime": {
     "end_time": "2023-11-07T00:06:37.145242Z",
     "start_time": "2023-11-07T00:06:37.090876Z"
    }
   },
   "outputs": [
    {
     "data": {
      "text/plain": "<Figure size 640x480 with 1 Axes>",
      "image/png": "[encoded data removed]"
     },
     "metadata": {},
     "output_type": "display_data"
    }
   ],
   "source": [
    "pyplot.plot(users_per_item, 'ro')\n",
    "pyplot.ylabel('Num users ')\n",
    "pyplot.xlabel('Sorted items')\n",
    "pyplot.show()"
   ]
  },
  {
   "cell_type": "markdown",
   "metadata": {},
   "source": [
    "## DATASET SPLIT"
   ]
  },
  {
   "cell_type": "code",
   "execution_count": 10,
   "metadata": {
    "ExecuteTime": {
     "end_time": "2023-11-07T00:06:38.780412Z",
     "start_time": "2023-11-07T00:06:38.205247Z"
    }
   },
   "outputs": [
    {
     "name": "stdout",
     "output_type": "stream",
     "text": [
      "Warning: 211 (1.67 %) of 12638 users have no train items\n",
      "Warning: 2115 (16.74 %) of 12638 users have no sampled items\n",
      "Warning: 457 (3.62 %) of 12638 users have no train items\n",
      "Warning: 2600 (20.57 %) of 12638 users have no sampled items\n",
      "EvaluatorHoldout: Ignoring 2600 (20.6%) Users that have less than 1 test interactions\n",
      "EvaluatorHoldout: Ignoring 2115 (16.7%) Users that have less than 1 test interactions\n"
     ]
    }
   ],
   "source": [
    "from Evaluation.Evaluator import EvaluatorHoldout\n",
    "from Data_manager.split_functions.split_train_validation_random_holdout import split_train_in_two_percentage_global_sample\n",
    "\n",
    "URM_train, URM_test = split_train_in_two_percentage_global_sample(URM_all, train_percentage = 0.80)\n",
    "URM_train, URM_validation = split_train_in_two_percentage_global_sample(URM_train, train_percentage = 0.80)\n",
    "\n",
    "evaluator_validation = EvaluatorHoldout(URM_validation, cutoff_list=[10])\n",
    "evaluator_test = EvaluatorHoldout(URM_test, cutoff_list=[10])"
   ]
  },
  {
   "cell_type": "markdown",
   "metadata": {},
   "source": [
    "## Similarity matrix"
   ]
  },
  {
   "cell_type": "code",
   "execution_count": 11,
   "metadata": {
    "ExecuteTime": {
     "end_time": "2023-11-07T00:06:44.366431Z",
     "start_time": "2023-11-07T00:06:39.381029Z"
    }
   },
   "outputs": [
    {
     "name": "stdout",
     "output_type": "stream",
     "text": [
      "Similarity column 22222 (100.0%), 4473.02 column/sec. Elapsed time 4.97 sec\n"
     ]
    },
    {
     "data": {
      "text/plain": "<22222x22222 sparse matrix of type '<class 'numpy.float32'>'\n\twith 2103946 stored elements in Compressed Sparse Row format>"
     },
     "execution_count": 11,
     "metadata": {},
     "output_type": "execute_result"
    }
   ],
   "source": [
    "from Recommenders.Similarity.Compute_Similarity_Python import Compute_Similarity_Python\n",
    "\n",
    "similarity_object = Compute_Similarity_Python(URM_train, shrink=100.0, \n",
    "                                          topK=100,\n",
    "                                          normalize=True, \n",
    "                                          similarity = \"cosine\")\n",
    "\n",
    "W_sparse = similarity_object.compute_similarity()\n",
    "W_sparse"
   ]
  },
  {
   "cell_type": "markdown",
   "metadata": {},
   "source": [
    "### Prediction for a certain user"
   ]
  },
  {
   "cell_type": "code",
   "execution_count": 12,
   "metadata": {
    "ExecuteTime": {
     "end_time": "2023-11-07T00:06:44.389987Z",
     "start_time": "2023-11-07T00:06:44.367636Z"
    }
   },
   "outputs": [],
   "source": [
    "user_id = 80\n",
    "\n",
    "user_profile = URM_train[user_id]\n",
    "scores = user_profile.dot(W_sparse).toarray().ravel()\n",
    "\n",
    "ranking = scores.argsort()[::-1]"
   ]
  },
  {
   "cell_type": "code",
   "execution_count": 13,
   "metadata": {
    "ExecuteTime": {
     "end_time": "2023-11-07T00:06:44.436617Z",
     "start_time": "2023-11-07T00:06:44.375798Z"
    }
   },
   "outputs": [
    {
     "data": {
      "text/plain": "<Figure size 640x480 with 1 Axes>",
      "image/png": "[encoded data removed]"
     },
     "metadata": {},
     "output_type": "display_data"
    },
    {
     "data": {
      "text/plain": "array([ 284,  189,  288,  517,  287,  452,  809,  950,  289, 1266])"
     },
     "execution_count": 13,
     "metadata": {},
     "output_type": "execute_result"
    }
   ],
   "source": [
    "pyplot.plot(scores[ranking], 'ro')\n",
    "pyplot.ylabel('Similarity')\n",
    "pyplot.xlabel('Item')\n",
    "pyplot.show()\n",
    "ranking[0:10]"
   ]
  },
  {
   "cell_type": "markdown",
   "metadata": {},
   "source": [
    "### All together inside a class"
   ]
  },
  {
   "cell_type": "code",
   "execution_count": 27,
   "metadata": {
    "ExecuteTime": {
     "end_time": "2023-11-06T14:34:05.256160Z",
     "start_time": "2023-11-06T14:34:03.957003Z"
    }
   },
   "outputs": [
    {
     "name": "stdout",
     "output_type": "stream",
     "text": [
      "PureSVDRecommender: URM Detected 458 ( 3.6%) users with no interactions.\n",
      "PureSVDRecommender: URM Detected 332 ( 1.5%) items with no interactions.\n",
      "PureSVDRecommender: Computing SVD decomposition...\n",
      "PureSVDRecommender: Computing SVD decomposition... done in 1.22 sec\n",
      "TopPopRecommender: URM Detected 458 ( 3.6%) users with no interactions.\n",
      "TopPopRecommender: URM Detected 332 ( 1.5%) items with no interactions.\n"
     ]
    }
   ],
   "source": [
    "from Recommenders.MatrixFactorization.PureSVDRecommender import PureSVDRecommender\n",
    "from Recommenders.NonPersonalizedRecommender import TopPop\n",
    "\n",
    "recommender = PureSVDRecommender(URM_train)\n",
    "recommender.fit()\n",
    "\n",
    "top_recommender = TopPop(URM_train)\n",
    "top_recommender.fit()"
   ]
  },
  {
   "cell_type": "code",
   "execution_count": 16,
   "metadata": {
    "ExecuteTime": {
     "end_time": "2023-11-06T14:13:04.903383Z",
     "start_time": "2023-11-06T14:13:01.859266Z"
    }
   },
   "outputs": [
    {
     "name": "stdout",
     "output_type": "stream",
     "text": [
      "EvaluatorHoldout: Processed 10457 (100.0%) in 3.04 sec. Users per second: 3445\n"
     ]
    },
    {
     "data": {
      "text/plain": "(       PRECISION PRECISION_RECALL_MIN_DEN    RECALL       MAP MAP_MIN_DEN  \\\n cutoff                                                                      \n 10      0.028593                 0.053046  0.045684  0.011367    0.020432   \n \n             MRR      NDCG        F1  HIT_RATE ARHR_ALL_HITS  ...  \\\n cutoff                                                       ...   \n 10      0.09126  0.044273  0.035172  0.231424      0.101775  ...   \n \n        COVERAGE_USER COVERAGE_USER_HIT USERS_IN_GT DIVERSITY_GINI  \\\n cutoff                                                              \n 10          0.827425          0.191486    0.827425       0.000536   \n \n        SHANNON_ENTROPY RATIO_DIVERSITY_HERFINDAHL RATIO_DIVERSITY_GINI  \\\n cutoff                                                                   \n 10            3.600794                   0.913076             0.001555   \n \n        RATIO_SHANNON_ENTROPY RATIO_AVERAGE_POPULARITY RATIO_NOVELTY  \n cutoff                                                               \n 10                  0.277588                 6.117841      0.272471  \n \n [1 rows x 27 columns],\n 'CUTOFF: 10 - PRECISION: 0.0285933, PRECISION_RECALL_MIN_DEN: 0.0530460, RECALL: 0.0456838, MAP: 0.0113674, MAP_MIN_DEN: 0.0204317, MRR: 0.0912601, NDCG: 0.0442729, F1: 0.0351723, HIT_RATE: 0.2314239, ARHR_ALL_HITS: 0.1017750, NOVELTY: 0.0038559, AVERAGE_POPULARITY: 0.7444585, DIVERSITY_MEAN_INTER_LIST: 0.1274785, DIVERSITY_HERFINDAHL: 0.9127466, COVERAGE_ITEM: 0.0009000, COVERAGE_ITEM_HIT: 0.0007650, ITEMS_IN_GT: 0.8008730, COVERAGE_USER: 0.8274252, COVERAGE_USER_HIT: 0.1914860, USERS_IN_GT: 0.8274252, DIVERSITY_GINI: 0.0005357, SHANNON_ENTROPY: 3.6007939, RATIO_DIVERSITY_HERFINDAHL: 0.9130757, RATIO_DIVERSITY_GINI: 0.0015552, RATIO_SHANNON_ENTROPY: 0.2775877, RATIO_AVERAGE_POPULARITY: 6.1178413, RATIO_NOVELTY: 0.2724711, \\n')"
     },
     "execution_count": 16,
     "metadata": {},
     "output_type": "execute_result"
    }
   ],
   "source": [
    "evaluator_test.evaluateRecommender(top_recommender)"
   ]
  },
  {
   "cell_type": "code",
   "execution_count": 28,
   "outputs": [
    {
     "name": "stdout",
     "output_type": "stream",
     "text": [
      "EvaluatorHoldout: Processed 10457 (100.0%) in 5.22 sec. Users per second: 2004\n"
     ]
    },
    {
     "data": {
      "text/plain": "(       PRECISION PRECISION_RECALL_MIN_DEN    RECALL       MAP MAP_MIN_DEN  \\\n cutoff                                                                      \n 10      0.050158                 0.086054  0.073132  0.023879    0.041128   \n \n              MRR     NDCG        F1  HIT_RATE ARHR_ALL_HITS  ...  \\\n cutoff                                                       ...   \n 10      0.165563  0.08031  0.059504  0.344458      0.197708  ...   \n \n        COVERAGE_USER COVERAGE_USER_HIT USERS_IN_GT DIVERSITY_GINI  \\\n cutoff                                                              \n 10          0.827425          0.285013    0.827425       0.010028   \n \n        SHANNON_ENTROPY RATIO_DIVERSITY_HERFINDAHL RATIO_DIVERSITY_GINI  \\\n cutoff                                                                   \n 10            8.230596                   0.996009             0.029116   \n \n        RATIO_SHANNON_ENTROPY RATIO_AVERAGE_POPULARITY RATIO_NOVELTY  \n cutoff                                                               \n 10                  0.634502                 1.916227      0.332761  \n \n [1 rows x 27 columns],\n 'CUTOFF: 10 - PRECISION: 0.0501578, PRECISION_RECALL_MIN_DEN: 0.0860538, RECALL: 0.0731317, MAP: 0.0238789, MAP_MIN_DEN: 0.0411280, MRR: 0.1655635, NDCG: 0.0803100, F1: 0.0595043, HIT_RATE: 0.3444583, ARHR_ALL_HITS: 0.1977081, NOVELTY: 0.0047091, AVERAGE_POPULARITY: 0.2331789, DIVERSITY_MEAN_INTER_LIST: 0.9565900, DIVERSITY_HERFINDAHL: 0.9956499, COVERAGE_ITEM: 0.0345153, COVERAGE_ITEM_HIT: 0.0212852, ITEMS_IN_GT: 0.8008730, COVERAGE_USER: 0.8274252, COVERAGE_USER_HIT: 0.2850135, USERS_IN_GT: 0.8274252, DIVERSITY_GINI: 0.0100283, SHANNON_ENTROPY: 8.2305964, RATIO_DIVERSITY_HERFINDAHL: 0.9960088, RATIO_DIVERSITY_GINI: 0.0291158, RATIO_SHANNON_ENTROPY: 0.6345025, RATIO_AVERAGE_POPULARITY: 1.9162266, RATIO_NOVELTY: 0.3327614, \\n')"
     },
     "execution_count": 28,
     "metadata": {},
     "output_type": "execute_result"
    }
   ],
   "source": [
    "evaluator_test.evaluateRecommender(recommender)"
   ],
   "metadata": {
    "collapsed": false,
    "ExecuteTime": {
     "end_time": "2023-11-06T14:34:41.934245Z",
     "start_time": "2023-11-06T14:34:36.707964Z"
    }
   }
  },
  {
   "cell_type": "markdown",
   "metadata": {},
   "source": [
    "## Hyperparameter tuning\n",
    "\n",
    "#### Once we have built our model we can play with its parameters\n",
    "* Number of neighbors\n",
    "* Shrinkage\n",
    "* Similarity type\n",
    "\n",
    "#### Optimize the recommendation qualtiy on the validation data, then use those hyperparameters to train the model in all the data you have (train + validation) and evaluate on the test data"
   ]
  },
  {
   "cell_type": "code",
   "execution_count": 29,
   "metadata": {
    "ExecuteTime": {
     "end_time": "2023-11-06T14:35:51.116922Z",
     "start_time": "2023-11-06T14:35:16.354322Z"
    }
   },
   "outputs": [
    {
     "name": "stdout",
     "output_type": "stream",
     "text": [
      "PureSVDRecommender: URM Detected 458 ( 3.6%) users with no interactions.\n",
      "PureSVDRecommender: URM Detected 332 ( 1.5%) items with no interactions.\n",
      "PureSVDRecommender: Computing SVD decomposition...\n",
      "PureSVDRecommender: Computing SVD decomposition... done in 0.38 sec\n",
      "EvaluatorHoldout: Processed 9986 (100.0%) in 4.84 sec. Users per second: 2063\n",
      "PureSVDRecommender: URM Detected 458 ( 3.6%) users with no interactions.\n",
      "PureSVDRecommender: URM Detected 332 ( 1.5%) items with no interactions.\n",
      "PureSVDRecommender: Computing SVD decomposition...\n",
      "PureSVDRecommender: Computing SVD decomposition... done in 0.59 sec\n",
      "EvaluatorHoldout: Processed 9986 (100.0%) in 4.83 sec. Users per second: 2069\n",
      "PureSVDRecommender: URM Detected 458 ( 3.6%) users with no interactions.\n",
      "PureSVDRecommender: URM Detected 332 ( 1.5%) items with no interactions.\n",
      "PureSVDRecommender: Computing SVD decomposition...\n",
      "PureSVDRecommender: Computing SVD decomposition... done in 0.83 sec\n",
      "EvaluatorHoldout: Processed 9986 (100.0%) in 5.28 sec. Users per second: 1890\n",
      "PureSVDRecommender: URM Detected 458 ( 3.6%) users with no interactions.\n",
      "PureSVDRecommender: URM Detected 332 ( 1.5%) items with no interactions.\n",
      "PureSVDRecommender: Computing SVD decomposition...\n",
      "PureSVDRecommender: Computing SVD decomposition... done in 0.89 sec\n",
      "EvaluatorHoldout: Processed 9986 (100.0%) in 4.87 sec. Users per second: 2050\n",
      "PureSVDRecommender: URM Detected 458 ( 3.6%) users with no interactions.\n",
      "PureSVDRecommender: URM Detected 332 ( 1.5%) items with no interactions.\n",
      "PureSVDRecommender: Computing SVD decomposition...\n",
      "PureSVDRecommender: Computing SVD decomposition... done in 0.90 sec\n",
      "EvaluatorHoldout: Processed 9986 (100.0%) in 4.94 sec. Users per second: 2020\n",
      "PureSVDRecommender: URM Detected 458 ( 3.6%) users with no interactions.\n",
      "PureSVDRecommender: URM Detected 332 ( 1.5%) items with no interactions.\n",
      "PureSVDRecommender: Computing SVD decomposition...\n",
      "PureSVDRecommender: Computing SVD decomposition... done in 1.41 sec\n",
      "EvaluatorHoldout: Processed 9986 (100.0%) in 4.71 sec. Users per second: 2120\n"
     ]
    },
    {
     "data": {
      "text/plain": "<Figure size 640x480 with 1 Axes>",
      "image/png": "[encoded data removed]"
     },
     "metadata": {},
     "output_type": "display_data"
    }
   ],
   "source": [
    "x_tick = [50, 75, 100, 125, 150, 200]\n",
    "MAP_per_factors = []\n",
    "\n",
    "for factor in x_tick:\n",
    "    \n",
    "    recommender = (URM_train)\n",
    "    recommender.fit(num_factors=factor)\n",
    "    \n",
    "    result_df, _ = evaluator_validation.evaluateRecommender(recommender)\n",
    "    \n",
    "    MAP_per_factors.append(result_df.loc[10][\"MAP\"])\n",
    "\n",
    "pyplot.plot(x_tick, MAP_per_factors)\n",
    "pyplot.ylabel('MAP')\n",
    "pyplot.xlabel('factors')\n",
    "pyplot.show()"
   ]
  },
  {
   "cell_type": "markdown",
   "metadata": {},
   "source": [
    "# Generate submissions"
   ]
  },
  {
   "cell_type": "code",
   "execution_count": 30,
   "metadata": {
    "ExecuteTime": {
     "end_time": "2023-11-06T14:37:17.473498Z",
     "start_time": "2023-11-06T14:37:16.898725Z"
    }
   },
   "outputs": [
    {
     "name": "stdout",
     "output_type": "stream",
     "text": [
      "PureSVDRecommender: Computing SVD decomposition...\n",
      "PureSVDRecommender: Computing SVD decomposition... done in 0.50 sec\n"
     ]
    }
   ],
   "source": [
    "# RETRAIN WITH FULL DATASET\n",
    "from Recommenders.MatrixFactorization.PureSVDRecommender import PureSVDRecommender\n",
    "recommender = PureSVDRecommender(URM_all)\n",
    "recommender.fit(num_factors=65)\n",
    "\n",
    "top_recommender = TopPop(URM_all)\n",
    "top_recommender.fit()"
   ]
  },
  {
   "cell_type": "code",
   "execution_count": 31,
   "metadata": {
    "ExecuteTime": {
     "end_time": "2023-11-06T14:37:19.686962Z",
     "start_time": "2023-11-06T14:37:19.679161Z"
    }
   },
   "outputs": [
    {
     "data": {
      "text/plain": "[[517, 189, 44, 0, 284, 808, 285, 557, 1, 1266],\n [517, 189, 44, 0, 284, 808, 285, 557, 1, 1266],\n [517, 0, 284, 808, 285, 557, 1, 1266, 1265, 841]]"
     },
     "execution_count": 31,
     "metadata": {},
     "output_type": "execute_result"
    }
   ],
   "source": [
    "top_recommender.recommend(np.array([22,2,5]), cutoff=10)"
   ]
  },
  {
   "cell_type": "code",
   "execution_count": 32,
   "metadata": {
    "ExecuteTime": {
     "end_time": "2023-11-06T14:37:21.923770Z",
     "start_time": "2023-11-06T14:37:21.905792Z"
    }
   },
   "outputs": [],
   "source": [
    "import pandas as pd\n",
    "URM_path = \"data_target_users_test.csv\"\n",
    "URM_all_submission_dataframe = pd.read_csv(filepath_or_buffer=URM_path, \n",
    "                                sep=\",\", \n",
    "                                # header=None, \n",
    "                                dtype={0:int},\n",
    "                                engine='python')\n",
    "\n",
    "URM_all_submission_dataframe.columns = [\"UserID\"]"
   ]
  },
  {
   "cell_type": "code",
   "execution_count": 33,
   "metadata": {
    "ExecuteTime": {
     "end_time": "2023-11-06T14:37:22.571916Z",
     "start_time": "2023-11-06T14:37:22.569082Z"
    }
   },
   "outputs": [],
   "source": [
    "URM_all_submission_dataframe[\"UserIDMapped\"] = URM_all_submission_dataframe[\"UserID\"].map(user_original_ID_to_index)"
   ]
  },
  {
   "cell_type": "code",
   "execution_count": 34,
   "metadata": {
    "ExecuteTime": {
     "end_time": "2023-11-06T14:37:28.873074Z",
     "start_time": "2023-11-06T14:37:23.686037Z"
    }
   },
   "outputs": [],
   "source": [
    "import pandas as pd\n",
    "# Assuming you have a DataFrame URM_all_submission_dataframe with 'UserIDMapped' and 'item_list' columns\n",
    "\n",
    "# First, create a mask for non-null 'UserIDMapped' values\n",
    "mask = ~URM_all_submission_dataframe['UserIDMapped'].isna()\n",
    "URM_all_submission_dataframe['item_list'] = top_recommender.recommend(URM_all_submission_dataframe['UserIDMapped'], cutoff=10, remove_seen_flag=False)\n",
    "URM_all_submission_dataframe.loc[mask, 'item_list'] = pd.Series(recommender.recommend(URM_all_submission_dataframe.loc[mask, 'UserIDMapped'].to_numpy().astype(int), cutoff=10, remove_seen_flag=True), index=URM_all_submission_dataframe.index[mask])"
   ]
  },
  {
   "cell_type": "code",
   "execution_count": 35,
   "metadata": {
    "ExecuteTime": {
     "end_time": "2023-11-06T14:37:30.671896Z",
     "start_time": "2023-11-06T14:37:30.652677Z"
    }
   },
   "outputs": [],
   "source": [
    "item_index_to_original_id = item_original_ID_to_index.reset_index().set_index(0).to_numpy().reshape(-1)\n",
    "URM_all_submission_dataframe['item_list'] = URM_all_submission_dataframe['item_list'].apply(lambda item_indices: [item_index_to_original_id[index] for index in item_indices])"
   ]
  },
  {
   "cell_type": "code",
   "execution_count": 36,
   "metadata": {
    "ExecuteTime": {
     "end_time": "2023-11-06T14:37:31.499561Z",
     "start_time": "2023-11-06T14:37:31.349397Z"
    }
   },
   "outputs": [
    {
     "name": "stderr",
     "output_type": "stream",
     "text": [
      "/var/folders/l3/n3yjvx_d2g9dy0ztkyft2th40000gn/T/ipykernel_50253/2149847291.py:3: SettingWithCopyWarning: \n",
      "A value is trying to be set on a copy of a slice from a DataFrame.\n",
      "Try using .loc[row_indexer,col_indexer] = value instead\n",
      "\n",
      "See the caveats in the documentation: https://pandas.pydata.org/pandas-docs/stable/user_guide/indexing.html#returning-a-view-versus-a-copy\n",
      "  submission['item_list'] = submission['item_list'].apply(lambda x: ' '.join(map(str, x))) # remove brakets\n",
      "/var/folders/l3/n3yjvx_d2g9dy0ztkyft2th40000gn/T/ipykernel_50253/2149847291.py:6: SettingWithCopyWarning: \n",
      "A value is trying to be set on a copy of a slice from a DataFrame.\n",
      "Try using .loc[row_indexer,col_indexer] = value instead\n",
      "\n",
      "See the caveats in the documentation: https://pandas.pydata.org/pandas-docs/stable/user_guide/indexing.html#returning-a-view-versus-a-copy\n",
      "  submission['item_list'] = submission['item_list'].astype(str)\n"
     ]
    }
   ],
   "source": [
    "submission = URM_all_submission_dataframe[[\"UserID\",\"item_list\"]]\n",
    "submission.columns = [\"user_id\", \"item_list\"]\n",
    "submission['item_list'] = submission['item_list'].apply(lambda x: ' '.join(map(str, x))) # remove brakets\n",
    "\n",
    "# Convert item_list to string format\n",
    "submission['item_list'] = submission['item_list'].astype(str)\n",
    "\n",
    "# Save to CSV without quotes and with the desired format\n",
    "# submission.to_csv(\"submission.csv\", index=False, header=[\"user_id\", \"item_list\"], quoting=csv.QUOTE_NONE, sep=',')\n",
    "def write_csv_without_quotes(df, file_path):\n",
    "    with open(file_path, 'w', newline='') as f:\n",
    "        f.write(\"user_id,item_list\\n\")\n",
    "        for index, row in df.iterrows():\n",
    "            f.write(f\"{row['user_id']},{row['item_list']}\\n\")\n",
    "\n",
    "# Save the DataFrame to CSV without quotes and with the desired format\n",
    "write_csv_without_quotes(submission, \"submission.csv\")"
   ]
  },
  {
   "cell_type": "code",
   "execution_count": 37,
   "metadata": {
    "ExecuteTime": {
     "end_time": "2023-11-06T14:37:34.027708Z",
     "start_time": "2023-11-06T14:37:34.004542Z"
    }
   },
   "outputs": [
    {
     "data": {
      "text/plain": "0           36 101 52 102 112 139 403 146 318 156\n1                50 47 12 28 46 114 125 136 5 131\n2           59 259 414 536 584 648 117 18 159 956\n3                28 50 59 145 97 54 136 90 249 46\n4            116 77 164 62 131 179 175 148 186 95\n                           ...                   \n10877      161 155 108 337 105 87 506 403 303 345\n10878      13 133 24 57 593 474 6179 6720 350 579\n10879    119 147 83 299 540 133 809 625 1446 1411\n10880           23 32 129 89 82 96 242 282 313 37\n10881      347 292 329 139 353 408 415 24 733 132\nName: item_list, Length: 10882, dtype: object"
     },
     "execution_count": 37,
     "metadata": {},
     "output_type": "execute_result"
    }
   ],
   "source": [
    "submission['item_list']"
   ]
  },
  {
   "cell_type": "code",
   "execution_count": null,
   "outputs": [],
   "source": [],
   "metadata": {
    "collapsed": false
   }
  }
 ],
 "metadata": {
  "anaconda-cloud": {},
  "kernelspec": {
   "display_name": "Python 3 (ipykernel)",
   "language": "python",
   "name": "python3"
  },
  "language_info": {
   "codemirror_mode": {
    "name": "ipython",
    "version": 3
   },
   "file_extension": ".py",
   "mimetype": "text/x-python",
   "name": "python",
   "nbconvert_exporter": "python",
   "pygments_lexer": "ipython3",
   "version": "3.8.0"
  }
 },
 "nbformat": 4,
 "nbformat_minor": 4
}
