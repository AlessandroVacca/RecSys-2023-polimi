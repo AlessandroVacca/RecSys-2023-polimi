{
 "cells": [
  {
   "cell_type": "code",
   "execution_count": 1,
   "outputs": [],
   "source": [
    "import pickle\n",
    "\n",
    "with open('URM_train_validation.pkl', 'rb') as f:\n",
    "    URM_train_validation = pickle.load(f)\n",
    "with open('URM_test.pkl', 'rb') as f:\n",
    "    URM_test = pickle.load(f)"
   ],
   "metadata": {
    "collapsed": false,
    "ExecuteTime": {
     "end_time": "2024-01-05T10:59:28.678028Z",
     "start_time": "2024-01-05T10:59:28.223379Z"
    }
   },
   "id": "232dfce261c1c50c"
  },
  {
   "cell_type": "code",
   "outputs": [],
   "source": [
    "import pickle\n",
    "\n",
    "with open('URM_train.pkl', 'rb') as f:\n",
    "    URM_train = pickle.load(f)\n",
    "with open('URM_validation.pkl', 'rb') as f:\n",
    "    URM_validation = pickle.load(f)"
   ],
   "metadata": {
    "collapsed": false,
    "ExecuteTime": {
     "end_time": "2024-01-05T10:59:50.416578Z",
     "start_time": "2024-01-05T10:59:50.341884Z"
    }
   },
   "id": "1027f03c424bfa00",
   "execution_count": 2
  },
  {
   "cell_type": "code",
   "execution_count": null,
   "outputs": [],
   "source": [
    "from Recommenders.MatrixFactorization.IALSRecommender import IALSRecommender\n",
    "\n",
    "ials = IALSRecommender(URM_train)\n",
    "ials.fit(num_factors=198, epochs=240, confidence_scaling=\"log\", alpha=0.7585204478683131, epsilon=0.012327186309393981, reg=0.14342697473521604)\n",
    "ials.save_model(\"slim_models/\", \"IALS_train\")"
   ],
   "metadata": {
    "collapsed": false
   },
   "id": "11b9006b84035224"
  },
  {
   "cell_type": "code",
   "outputs": [
    {
     "name": "stdout",
     "output_type": "stream",
     "text": [
      "IALSRecommender: URM Detected 422 ( 3.3%) users with no interactions.\n",
      "IALSRecommender: URM Detected 329 ( 1.5%) items with no interactions.\n",
      "IALSRecommender: Loading model from file 'slim_models/IALS_train'\n",
      "IALSRecommender: Loading complete\n"
     ]
    }
   ],
   "source": [
    "from Recommenders.MatrixFactorization.IALSRecommender import IALSRecommender\n",
    "\n",
    "ials = IALSRecommender(URM_train)\n",
    "ials.load_model(\"slim_models/\", \"IALS_train\")"
   ],
   "metadata": {
    "collapsed": false,
    "ExecuteTime": {
     "end_time": "2024-01-05T11:00:19.918884Z",
     "start_time": "2024-01-05T11:00:19.099856Z"
    }
   },
   "id": "b75103d537a66b7e",
   "execution_count": 3
  },
  {
   "cell_type": "code",
   "outputs": [],
   "source": [
    "from Recommenders.Neural.MultVAERecommender import MultVAERecommender_OptimizerMask\n",
    "final = MultVAERecommender_OptimizerMask(URM_train_validation)\n",
    "epochs = 300\n",
    "final.fit(epochs=epochs, learning_rate=0.0002229220517428562, l2_reg=1.7199457884691567e-05, dropout=0.5397666797136971, total_anneal_steps=134713, anneal_cap=0.20025495518554443,batch_size=512,encoding_size=460,next_layer_size_multiplier=10,max_n_hidden_layers=4, max_parameters=3000000000.0)\n",
    "\n",
    "mv = final\n",
    "mv.save_model(\"slim_models/\", \"MultVAE_train_300\")"
   ],
   "metadata": {
    "collapsed": false
   },
   "id": "2cf8f1e256d05f92",
   "execution_count": null
  },
  {
   "cell_type": "code",
   "outputs": [
    {
     "name": "stdout",
     "output_type": "stream",
     "text": [
      "MultVAERecommender: URM Detected 422 ( 3.3%) users with no interactions.\n",
      "MultVAERecommender: URM Detected 329 ( 1.5%) items with no interactions.\n",
      "MultVAERecommender: Loading model from file 'slim_models/MultVAE_train_300'\n"
     ]
    },
    {
     "name": "stderr",
     "output_type": "stream",
     "text": [
      "2024-01-05 12:00:55.228921: I metal_plugin/src/device/metal_device.cc:1154] Metal device set to: Apple M1 Pro\n",
      "2024-01-05 12:00:55.228941: I metal_plugin/src/device/metal_device.cc:296] systemMemory: 16.00 GB\n",
      "2024-01-05 12:00:55.228945: I metal_plugin/src/device/metal_device.cc:313] maxCacheSize: 5.33 GB\n",
      "2024-01-05 12:00:55.229247: I tensorflow/core/common_runtime/pluggable_device/pluggable_device_factory.cc:306] Could not identify NUMA node of platform GPU ID 0, defaulting to 0. Your kernel may not have been built with NUMA support.\n",
      "2024-01-05 12:00:55.229510: I tensorflow/core/common_runtime/pluggable_device/pluggable_device_factory.cc:272] Created TensorFlow device (/job:localhost/replica:0/task:0/device:GPU:0 with 0 MB memory) -> physical PluggableDevice (device: 0, name: METAL, pci bus id: <undefined>)\n",
      "2024-01-05 12:00:55.337114: I tensorflow/compiler/mlir/mlir_graph_optimization_pass.cc:388] MLIR V1 optimization pass is not enabled\n",
      "2024-01-05 12:00:55.350326: I tensorflow/core/grappler/optimizers/custom_graph_optimizer_registry.cc:117] Plugin optimizer for device_type GPU is enabled.\n"
     ]
    },
    {
     "name": "stdout",
     "output_type": "stream",
     "text": [
      "INFO:tensorflow:Restoring parameters from slim_models/MultVAE_train_300/.session/session\n",
      "MultVAERecommender: Loading complete\n"
     ]
    }
   ],
   "source": [
    "from Recommenders.Neural.MultVAERecommender import MultVAERecommender_OptimizerMask\n",
    "mv = MultVAERecommender_OptimizerMask(URM_train)\n",
    "mv.load_model(\"slim_models/\", \"MultVAE_train_300\")"
   ],
   "metadata": {
    "collapsed": false,
    "ExecuteTime": {
     "end_time": "2024-01-05T11:00:55.967072Z",
     "start_time": "2024-01-05T11:00:50.948565Z"
    }
   },
   "id": "37e021482d5470f7",
   "execution_count": 4
  },
  {
   "cell_type": "code",
   "execution_count": null,
   "outputs": [],
   "source": [
    "from Recommenders.Neural.MultVAERecommender import MultVAERecommender_OptimizerMask\n",
    "final = MultVAERecommender_OptimizerMask(URM_train_validation)\n",
    "final.load_model(\"slim_models/\", \"MultVAE_train_validation_300\")\n",
    "mv = final"
   ],
   "metadata": {
    "collapsed": false
   },
   "id": "70224486bf41ca4d"
  },
  {
   "cell_type": "code",
   "outputs": [
    {
     "name": "stdout",
     "output_type": "stream",
     "text": [
      "SLIMElasticNetRecommender: URM Detected 422 ( 3.3%) users with no interactions.\n",
      "SLIMElasticNetRecommender: URM Detected 329 ( 1.5%) items with no interactions.\n",
      "SLIMElasticNetRecommender: Processed 22222 (100.0%) in 4.43 min. Items per second: 83.59\n",
      "RP3betaRecommender: URM Detected 422 ( 3.3%) users with no interactions.\n",
      "RP3betaRecommender: URM Detected 329 ( 1.5%) items with no interactions.\n",
      "RP3betaRecommender: Similarity column 22222 (100.0%), 7947.71 column/sec. Elapsed time 2.80 sec\n",
      "UserKNNCFRecommender: URM Detected 422 ( 3.3%) users with no interactions.\n",
      "UserKNNCFRecommender: URM Detected 329 ( 1.5%) items with no interactions.\n",
      "Similarity column 12638 (100.0%), 11818.55 column/sec. Elapsed time 1.07 sec\n",
      "ItemKNNCFRecommender: URM Detected 422 ( 3.3%) users with no interactions.\n",
      "ItemKNNCFRecommender: URM Detected 329 ( 1.5%) items with no interactions.\n",
      "Similarity column 22222 (100.0%), 10894.10 column/sec. Elapsed time 2.04 sec\n",
      "EASE_R_Recommender: URM Detected 422 ( 3.3%) users with no interactions.\n",
      "EASE_R_Recommender: URM Detected 329 ( 1.5%) items with no interactions.\n",
      "EASE_R_Recommender: Fitting model... \n",
      "EASE_R_Recommender: Fitting model... done in 2.10 min\n",
      "PureSVDRecommender: URM Detected 422 ( 3.3%) users with no interactions.\n",
      "PureSVDRecommender: URM Detected 329 ( 1.5%) items with no interactions.\n",
      "PureSVDRecommender: Computing SVD decomposition...\n",
      "PureSVDRecommender: Computing SVD decomposition... done in 0.78 sec\n",
      "P3alphaRecommender: URM Detected 422 ( 3.3%) users with no interactions.\n",
      "P3alphaRecommender: URM Detected 329 ( 1.5%) items with no interactions.\n",
      "P3alphaRecommender: Similarity column 22222 (100.0%), 7915.88 column/sec. Elapsed time 2.81 sec\n",
      "UserKNNCFItemKNNCFTwoScoresHybridRecommender: URM Detected 422 ( 3.3%) users with no interactions.\n",
      "UserKNNCFItemKNNCFTwoScoresHybridRecommender: URM Detected 329 ( 1.5%) items with no interactions.\n",
      "SLIMElasticNetRP3betaUserKNNCFItemKNNCFTwoScoresHybridEASE_R_LinearHybridRecommender: URM Detected 422 ( 3.3%) users with no interactions.\n",
      "SLIMElasticNetRP3betaUserKNNCFItemKNNCFTwoScoresHybridEASE_R_LinearHybridRecommender: URM Detected 329 ( 1.5%) items with no interactions.\n",
      "SLIMElasticNetRP3betaTwoScoresHybridRecommender: URM Detected 422 ( 3.3%) users with no interactions.\n",
      "SLIMElasticNetRP3betaTwoScoresHybridRecommender: URM Detected 329 ( 1.5%) items with no interactions.\n"
     ]
    }
   ],
   "source": [
    "from Hybrid import *\n",
    "from Recommenders.SLIM.SLIMElasticNetRecommender import *\n",
    "from Recommenders.MatrixFactorization.PureSVDRecommender import PureSVDRecommender\n",
    "from Recommenders.GraphBased.P3alphaRecommender import P3alphaRecommender\n",
    "from Recommenders.GraphBased.RP3betaRecommender import RP3betaRecommender\n",
    "from Recommenders.KNN.UserKNNCFRecommender import UserKNNCFRecommender\n",
    "from Recommenders.KNN.ItemKNNCFRecommender import ItemKNNCFRecommender\n",
    "from Recommenders.EASE_R.EASE_R_Recommender import EASE_R_Recommender\n",
    "## SLIM\n",
    "slim = SLIMElasticNetRecommender(URM_train)\n",
    "slim.fit(topK=8894, l1_ratio=0.05565733019999427, alpha=0.0012979360257937668)#, workers=7)\n",
    "## RP3BETA\n",
    "rp3beta = RP3betaRecommender(URM_train)\n",
    "rp3beta.fit(alpha=0.20026352123406477, beta=0.15999879728761354, topK=32)\n",
    "## USER KNN\n",
    "userknn = UserKNNCFRecommender(URM_train)\n",
    "userknn.fit(topK=469, shrink=38, similarity='asymmetric', normalize=True,\n",
    "                                       feature_weighting='TF-IDF', asymmetric_alpha=0.40077406933762383)\n",
    "## ITEM KNN\n",
    "itemknn = ItemKNNCFRecommender(URM_train)\n",
    "itemknn.fit(topK=31, shrink=435, similarity='tversky', normalize=True,\n",
    "                                       feature_weighting='BM25', tversky_alpha=0.17113169506422393, tversky_beta=0.5684024974085575)\n",
    "## EASE_R\n",
    "ease_r = EASE_R_Recommender(URM_train)\n",
    "ease_r.fit(topK=24, l2_norm=37.54323189430143)\n",
    "\n",
    "## PURESVD\n",
    "puresvd = PureSVDRecommender(URM_train)\n",
    "puresvd.fit(num_factors=69)\n",
    "\n",
    "## P3ALPHA\n",
    "p3alpha = P3alphaRecommender(URM_train)\n",
    "p3alpha.fit(topK=76, alpha=0.377201600381895, normalize_similarity=True)\n",
    "\n",
    "## HYBRIDS\n",
    "\n",
    "knn = TwoScoresHybridRecommender(URM_train, userknn, itemknn)\n",
    "knn.fit(alpha=0.022195783788315104)\n",
    "\n",
    "h_li = LinearHybridRecommender(URM_train, [slim, rp3beta, knn, ease_r])\n",
    "h_li.fit(alphas=[0.8857667100747117, 0.6379807942443021, 0.0690929184825888, 0.11953478623354052])\n",
    "h_hi = TwoScoresHybridRecommender(URM_train, slim, rp3beta)\n",
    "h_hi.fit(alpha=0.6201320790279279)"
   ],
   "metadata": {
    "collapsed": false,
    "ExecuteTime": {
     "end_time": "2024-01-05T11:08:04.410077Z",
     "start_time": "2024-01-05T11:01:11.069577Z"
    }
   },
   "id": "de0260b83dc08d40",
   "execution_count": 5
  },
  {
   "cell_type": "code",
   "outputs": [],
   "source": [
    "recommenders_train = {\n",
    "                #\"Hybrid\": hybrid,\n",
    "                \"SLIM\": slim, \n",
    "                \"RP3beta\": rp3beta, \n",
    "                \"UserKNN\": userknn, \n",
    "                \"ItemKNN\": itemknn, \n",
    "                \"EASE_R\": ease_r,\n",
    "                #\"PureSVD\": puresvd, \n",
    "                \"P3alpha\": p3alpha,\n",
    "                \"MULTVAE\": mv,\n",
    "                \"IALS\": ials,\n",
    "                #\"KNN\": knn, \n",
    "                #\"H_LI\": h_li, \n",
    "                #\"H_HI\": h_hi\n",
    "                }\n",
    "h_hi_train = h_hi"
   ],
   "metadata": {
    "collapsed": false,
    "ExecuteTime": {
     "end_time": "2024-01-05T11:10:13.341176Z",
     "start_time": "2024-01-05T11:10:13.302030Z"
    }
   },
   "id": "da673febb0032ac0",
   "execution_count": 7
  },
  {
   "cell_type": "code",
   "execution_count": 8,
   "outputs": [
    {
     "name": "stdout",
     "output_type": "stream",
     "text": [
      "SLIMElasticNetRecommender: URM Detected 205 ( 1.6%) users with no interactions.\n",
      "SLIMElasticNetRecommender: URM Detected 109 ( 0.5%) items with no interactions.\n",
      "SLIMElasticNetRecommender: Processed 22222 (100.0%) in 4.56 min. Items per second: 81.28\n",
      "RP3betaRecommender: URM Detected 205 ( 1.6%) users with no interactions.\n",
      "RP3betaRecommender: URM Detected 109 ( 0.5%) items with no interactions.\n",
      "RP3betaRecommender: Similarity column 22222 (100.0%), 7296.49 column/sec. Elapsed time 3.05 sec\n",
      "UserKNNCFRecommender: URM Detected 205 ( 1.6%) users with no interactions.\n",
      "UserKNNCFRecommender: URM Detected 109 ( 0.5%) items with no interactions.\n",
      "Similarity column 12638 (100.0%), 10145.61 column/sec. Elapsed time 1.25 sec\n",
      "ItemKNNCFRecommender: URM Detected 205 ( 1.6%) users with no interactions.\n",
      "ItemKNNCFRecommender: URM Detected 109 ( 0.5%) items with no interactions.\n",
      "Similarity column 22222 (100.0%), 10178.04 column/sec. Elapsed time 2.18 sec\n",
      "EASE_R_Recommender: URM Detected 205 ( 1.6%) users with no interactions.\n",
      "EASE_R_Recommender: URM Detected 109 ( 0.5%) items with no interactions.\n",
      "EASE_R_Recommender: Fitting model... \n",
      "EASE_R_Recommender: Fitting model... done in 1.93 min\n",
      "PureSVDRecommender: URM Detected 205 ( 1.6%) users with no interactions.\n",
      "PureSVDRecommender: URM Detected 109 ( 0.5%) items with no interactions.\n",
      "PureSVDRecommender: Computing SVD decomposition...\n",
      "PureSVDRecommender: Computing SVD decomposition... done in 0.55 sec\n",
      "P3alphaRecommender: URM Detected 205 ( 1.6%) users with no interactions.\n",
      "P3alphaRecommender: URM Detected 109 ( 0.5%) items with no interactions.\n",
      "P3alphaRecommender: Similarity column 22222 (100.0%), 6974.20 column/sec. Elapsed time 3.19 sec\n",
      "UserKNNCFItemKNNCFTwoScoresHybridRecommender: URM Detected 205 ( 1.6%) users with no interactions.\n",
      "UserKNNCFItemKNNCFTwoScoresHybridRecommender: URM Detected 109 ( 0.5%) items with no interactions.\n",
      "SLIMElasticNetRP3betaUserKNNCFItemKNNCFTwoScoresHybridEASE_R_LinearHybridRecommender: URM Detected 205 ( 1.6%) users with no interactions.\n",
      "SLIMElasticNetRP3betaUserKNNCFItemKNNCFTwoScoresHybridEASE_R_LinearHybridRecommender: URM Detected 109 ( 0.5%) items with no interactions.\n",
      "SLIMElasticNetRP3betaTwoScoresHybridRecommender: URM Detected 205 ( 1.6%) users with no interactions.\n",
      "SLIMElasticNetRP3betaTwoScoresHybridRecommender: URM Detected 109 ( 0.5%) items with no interactions.\n"
     ]
    }
   ],
   "source": [
    "from Hybrid import *\n",
    "from Recommenders.SLIM.SLIMElasticNetRecommender import *\n",
    "from Recommenders.MatrixFactorization.PureSVDRecommender import PureSVDRecommender\n",
    "from Recommenders.GraphBased.P3alphaRecommender import P3alphaRecommender\n",
    "from Recommenders.GraphBased.RP3betaRecommender import RP3betaRecommender\n",
    "from Recommenders.KNN.UserKNNCFRecommender import UserKNNCFRecommender\n",
    "from Recommenders.KNN.ItemKNNCFRecommender import ItemKNNCFRecommender\n",
    "from Recommenders.EASE_R.EASE_R_Recommender import EASE_R_Recommender\n",
    "## SLIM\n",
    "slim = SLIMElasticNetRecommender(URM_train_validation)\n",
    "slim.fit(topK=8894, l1_ratio=0.05565733019999427, alpha=0.0012979360257937668)#, workers=7)\n",
    "## RP3BETA\n",
    "rp3beta = RP3betaRecommender(URM_train_validation)\n",
    "rp3beta.fit(alpha=0.20026352123406477, beta=0.15999879728761354, topK=32)\n",
    "## USER KNN\n",
    "userknn = UserKNNCFRecommender(URM_train_validation)\n",
    "userknn.fit(topK=469, shrink=38, similarity='asymmetric', normalize=True,\n",
    "                                       feature_weighting='TF-IDF', asymmetric_alpha=0.40077406933762383)\n",
    "## ITEM KNN\n",
    "itemknn = ItemKNNCFRecommender(URM_train_validation)\n",
    "itemknn.fit(topK=31, shrink=435, similarity='tversky', normalize=True,\n",
    "                                       feature_weighting='BM25', tversky_alpha=0.17113169506422393, tversky_beta=0.5684024974085575)\n",
    "## EASE_R\n",
    "ease_r = EASE_R_Recommender(URM_train_validation)\n",
    "ease_r.fit(topK=24, l2_norm=37.54323189430143)\n",
    "\n",
    "## PURESVD\n",
    "puresvd = PureSVDRecommender(URM_train_validation)\n",
    "puresvd.fit(num_factors=69)\n",
    "\n",
    "## P3ALPHA\n",
    "p3alpha = P3alphaRecommender(URM_train_validation)\n",
    "p3alpha.fit(topK=76, alpha=0.377201600381895, normalize_similarity=True)\n",
    "\n",
    "## HYBRIDS\n",
    "\n",
    "knn = TwoScoresHybridRecommender(URM_train_validation, userknn, itemknn)\n",
    "knn.fit(alpha=0.022195783788315104)\n",
    "\n",
    "h_li = LinearHybridRecommender(URM_train_validation, [slim, rp3beta, knn, ease_r])\n",
    "h_li.fit(alphas=[0.8857667100747117, 0.6379807942443021, 0.0690929184825888, 0.11953478623354052])\n",
    "h_hi = TwoScoresHybridRecommender(URM_train_validation, slim, rp3beta)\n",
    "h_hi.fit(alpha=0.6201320790279279)"
   ],
   "metadata": {
    "collapsed": false,
    "ExecuteTime": {
     "end_time": "2024-01-05T11:17:24.721150Z",
     "start_time": "2024-01-05T11:10:35.161725Z"
    }
   },
   "id": "cbf9047f0c28f593"
  },
  {
   "cell_type": "code",
   "execution_count": 9,
   "outputs": [],
   "source": [
    "recommenders_t_val = {\n",
    "                #\"Hybrid\": hybrid,\n",
    "                \"SLIM\": slim, \n",
    "                \"RP3beta\": rp3beta, \n",
    "                \"UserKNN\": userknn, \n",
    "                \"ItemKNN\": itemknn, \n",
    "                \"EASE_R\": ease_r,\n",
    "                #\"PureSVD\": puresvd, \n",
    "                \"P3alpha\": p3alpha,\n",
    "                \"MULTVAE\": mv,\n",
    "                \"IALS\": ials,\n",
    "                #\"KNN\": knn, \n",
    "                #\"H_LI\": h_li, \n",
    "                #\"H_HI\": h_hi\n",
    "                }\n",
    "h_hi_t_val = h_hi"
   ],
   "metadata": {
    "collapsed": false,
    "ExecuteTime": {
     "end_time": "2024-01-05T11:17:32.404176Z",
     "start_time": "2024-01-05T11:17:32.391443Z"
    }
   },
   "id": "a8343cc3f456c0ca"
  },
  {
   "cell_type": "code",
   "outputs": [
    {
     "data": {
      "text/plain": "<Hybrid.HybridRecommender at 0x2ff1386d0>"
     },
     "execution_count": 61,
     "metadata": {},
     "output_type": "execute_result"
    }
   ],
   "source": [
    "recommenders_train_two = recommenders_train.copy()\n",
    "recommenders_train_two.pop(\"KNN\")\n",
    "recommenders_train_two.pop(\"H_LI\")\n",
    "recommenders_train_two.pop(\"H_HI\")\n",
    "recommenders_train_two.pop(\"Hybrid\")"
   ],
   "metadata": {
    "collapsed": false,
    "ExecuteTime": {
     "end_time": "2024-01-04T20:57:43.123626Z",
     "start_time": "2024-01-04T20:57:43.111153Z"
    }
   },
   "id": "ea9014df436bbc07",
   "execution_count": 61
  },
  {
   "cell_type": "code",
   "execution_count": 32,
   "outputs": [
    {
     "name": "stdout",
     "output_type": "stream",
     "text": [
      "XgBoostEnsembler: URM Detected 422 ( 3.3%) users with no interactions.\n",
      "XgBoostEnsembler: URM Detected 329 ( 1.5%) items with no interactions.\n"
     ]
    }
   ],
   "source": [
    "from Recommenders.XGBoostEnsemble import XgBoostEnsembler\n",
    "XGBoostRecommender = XgBoostEnsembler(URM_train, URM_val=URM_validation, recommenders=recommenders_train, recommenders_generate_data=get_dict(recommenders_train), internal_cutoff_xgboost=11)"
   ],
   "metadata": {
    "collapsed": false,
    "ExecuteTime": {
     "end_time": "2024-01-04T16:20:55.334894Z",
     "start_time": "2024-01-04T16:20:55.317079Z"
    }
   },
   "id": "519cd2f7ab131efb"
  },
  {
   "cell_type": "code",
   "outputs": [
    {
     "name": "stdout",
     "output_type": "stream",
     "text": [
      "XgBoostEnsembler: URM Detected 422 ( 3.3%) users with no interactions.\n",
      "XgBoostEnsembler: URM Detected 329 ( 1.5%) items with no interactions.\n"
     ]
    }
   ],
   "source": [
    "from Recommenders.XGBoostEnsemble import XgBoostEnsembler\n",
    "XGBoostRecommender = XgBoostEnsembler(URM_train, URM_val=URM_validation, recommenders=recommenders_train_two, recommenders_generate_data=get_dict(recommenders_train_two), internal_cutoff_xgboost=20)"
   ],
   "metadata": {
    "collapsed": false,
    "ExecuteTime": {
     "end_time": "2024-01-04T16:25:33.351581Z",
     "start_time": "2024-01-04T16:25:33.329893Z"
    }
   },
   "id": "54aeb1e691616966",
   "execution_count": 40
  },
  {
   "cell_type": "code",
   "execution_count": 41,
   "outputs": [
    {
     "name": "stdout",
     "output_type": "stream",
     "text": [
      "Creating training dataframe...\n",
      "Populating training dataframe with labels...\n",
      "Percentage of positive samples: 4.20%\n",
      "Populating training dataframe with item scores...\n"
     ]
    },
    {
     "name": "stderr",
     "output_type": "stream",
     "text": [
      "100%|██████████| 9/9 [00:24<00:00,  2.72s/it]\n"
     ]
    },
    {
     "name": "stdout",
     "output_type": "stream",
     "text": [
      "MSE: 7.12\n"
     ]
    },
    {
     "data": {
      "text/plain": "<Figure size 640x480 with 1 Axes>",
      "image/png": "[encoded data removed]"
     },
     "metadata": {},
     "output_type": "display_data"
    }
   ],
   "source": [
    "xgb_ranker_params = {\n",
    "    \"n_estimators\": 50,\n",
    "    \"learning_rate\": 1e-1,\n",
    "    \"reg_alpha\": 1e-1,\n",
    "    \"reg_lambda\": 1e-1,\n",
    "    \"max_depth\": 20,\n",
    "    \"max_leaves\": 0,\n",
    "    \"grow_policy\": \"depthwise\",\n",
    "    \"objective\": \"rank:pairwise\",\n",
    "    \"booster\": \"gbtree\",\n",
    "}\n",
    "XGBoostRecommender.fit(xgb_ranker_params=xgb_ranker_params, plot=True)"
   ],
   "metadata": {
    "collapsed": false,
    "ExecuteTime": {
     "end_time": "2024-01-04T16:26:25.138134Z",
     "start_time": "2024-01-04T16:25:37.868146Z"
    }
   },
   "id": "14bb2d820bb59608"
  },
  {
   "cell_type": "code",
   "outputs": [],
   "source": [
    "from joblib import dump\n",
    "\n",
    "# Save the dictionary\n",
    "dump(recommenders_train, 'recommenders_train.joblib')\n",
    "dump(recommenders_t_val, 'recommenders_t_val.joblib')"
   ],
   "metadata": {
    "collapsed": false
   },
   "id": "3051f3d3d53546b",
   "execution_count": null
  },
  {
   "cell_type": "code",
   "outputs": [
    {
     "data": {
      "text/plain": "<Hybrid.HybridRecommender at 0x2ff1386d0>"
     },
     "execution_count": 60,
     "metadata": {},
     "output_type": "execute_result"
    }
   ],
   "source": [
    "recommenders_t_val_two = recommenders_t_val.copy()\n",
    "recommenders_t_val_two.pop(\"KNN\")\n",
    "recommenders_t_val_two.pop(\"H_LI\")\n",
    "recommenders_t_val_two.pop(\"H_HI\")\n",
    "recommenders_t_val_two.pop(\"Hybrid\")"
   ],
   "metadata": {
    "collapsed": false,
    "ExecuteTime": {
     "end_time": "2024-01-04T20:57:28.561912Z",
     "start_time": "2024-01-04T20:57:28.554772Z"
    }
   },
   "id": "ad9116c129f9b70f",
   "execution_count": 60
  },
  {
   "cell_type": "code",
   "outputs": [],
   "source": [
    "XGBoostRecommender.recommenders = recommenders_t_val\n",
    "XGBoostRecommender.recommenders_generate_data = get_dict(recommenders_t_val)"
   ],
   "metadata": {
    "collapsed": false,
    "ExecuteTime": {
     "end_time": "2024-01-04T16:22:30.328455Z",
     "start_time": "2024-01-04T16:22:30.322695Z"
    }
   },
   "id": "b86e8e0673d64b92",
   "execution_count": 35
  },
  {
   "cell_type": "code",
   "outputs": [],
   "source": [
    "XGBoostRecommender.recommenders = recommenders_t_val_two\n",
    "XGBoostRecommender.recommenders_generate_data = get_dict(recommenders_t_val_two)"
   ],
   "metadata": {
    "collapsed": false,
    "ExecuteTime": {
     "end_time": "2024-01-04T16:27:32.417766Z",
     "start_time": "2024-01-04T16:27:32.408446Z"
    }
   },
   "id": "36f962daff540366",
   "execution_count": 43
  },
  {
   "cell_type": "code",
   "outputs": [
    {
     "name": "stdout",
     "output_type": "stream",
     "text": [
      "EvaluatorHoldout: Ignoring 2203 (17.4%) Users that have less than 1 test interactions\n"
     ]
    }
   ],
   "source": [
    "from Evaluation.Evaluator import EvaluatorHoldout\n",
    "evaluator_test = EvaluatorHoldout(URM_test, cutoff_list=[10])"
   ],
   "metadata": {
    "collapsed": false,
    "ExecuteTime": {
     "end_time": "2024-01-05T11:17:54.191043Z",
     "start_time": "2024-01-05T11:17:54.157661Z"
    }
   },
   "id": "4773603d92d9d306",
   "execution_count": 11
  },
  {
   "cell_type": "code",
   "outputs": [
    {
     "name": "stdout",
     "output_type": "stream",
     "text": [
      "EvaluatorHoldout: Processed 10435 (100.0%) in 4.43 sec. Users per second: 2354\n"
     ]
    },
    {
     "data": {
      "text/plain": "(       PRECISION PRECISION_RECALL_MIN_DEN    RECALL       MAP MAP_MIN_DEN  \\\n cutoff                                                                      \n 10      0.099425                 0.169137  0.141611  0.051901    0.086837   \n \n              MRR      NDCG        F1  HIT_RATE ARHR_ALL_HITS  ...  \\\n cutoff                                                        ...   \n 10      0.284584  0.156265  0.116826  0.533014      0.378869  ...   \n \n        COVERAGE_USER COVERAGE_USER_HIT USERS_IN_GT DIVERSITY_GINI  \\\n cutoff                                                              \n 10          0.825684          0.440101    0.825684       0.067983   \n \n        SHANNON_ENTROPY RATIO_DIVERSITY_HERFINDAHL RATIO_DIVERSITY_GINI  \\\n cutoff                                                                   \n 10           10.495531                   0.998292             0.195025   \n \n        RATIO_SHANNON_ENTROPY RATIO_AVERAGE_POPULARITY RATIO_NOVELTY  \n cutoff                                                               \n 10                  0.808559                 1.633028      0.290586  \n \n [1 rows x 27 columns],\n 'CUTOFF: 10 - PRECISION: 0.0994250, PRECISION_RECALL_MIN_DEN: 0.1691371, RECALL: 0.1416111, MAP: 0.0519011, MAP_MIN_DEN: 0.0868369, MRR: 0.2845838, NDCG: 0.1562648, F1: 0.1168263, HIT_RATE: 0.5330139, ARHR_ALL_HITS: 0.3788695, NOVELTY: 0.0051438, AVERAGE_POPULARITY: 0.2076982, DIVERSITY_MEAN_INTER_LIST: 0.9794005, DIVERSITY_HERFINDAHL: 0.9979307, COVERAGE_ITEM: 0.3415534, COVERAGE_ITEM_HIT: 0.0994510, ITEMS_IN_GT: 0.8012330, COVERAGE_USER: 0.8256844, COVERAGE_USER_HIT: 0.4401013, USERS_IN_GT: 0.8256844, DIVERSITY_GINI: 0.0679831, SHANNON_ENTROPY: 10.4955307, RATIO_DIVERSITY_HERFINDAHL: 0.9982918, RATIO_DIVERSITY_GINI: 0.1950253, RATIO_SHANNON_ENTROPY: 0.8085591, RATIO_AVERAGE_POPULARITY: 1.6330278, RATIO_NOVELTY: 0.2905864, \\n')"
     },
     "execution_count": 27,
     "metadata": {},
     "output_type": "execute_result"
    }
   ],
   "source": [
    "evaluator_test.evaluateRecommender(h_hi_t_val)"
   ],
   "metadata": {
    "collapsed": false,
    "ExecuteTime": {
     "end_time": "2024-01-05T15:50:13.302381Z",
     "start_time": "2024-01-05T15:50:08.858318Z"
    }
   },
   "id": "5c2ca5740d0b7bea",
   "execution_count": 27
  },
  {
   "cell_type": "code",
   "outputs": [],
   "source": [
    "evaluator_test.evaluateRecommender(XGBoostRecommender)"
   ],
   "metadata": {
    "collapsed": false
   },
   "id": "87ce974a3a273e56",
   "execution_count": null
  },
  {
   "cell_type": "code",
   "outputs": [],
   "source": [
    "import optuna as op\n",
    "from Recommenders.XGBoostEnsemble import XgBoostEnsembler\n",
    "rgd = {\n",
    "    \"H_HI\" : h_hi_train,\n",
    "}\n",
    "rgd_t_val = {\n",
    "    \"H_HI\" : h_hi_t_val,\n",
    "}\n",
    "xgb_ranker_params = {\n",
    "    \"n_estimators\": 50,\n",
    "    \"learning_rate\": 1e-1,\n",
    "    \"reg_alpha\": 1e-1,\n",
    "    \"reg_lambda\": 1e-1,\n",
    "    \"max_depth\": 20,\n",
    "    \"max_leaves\": 0,\n",
    "    \"grow_policy\": \"depthwise\",\n",
    "    \"objective\": \"rank:pairwise\",\n",
    "    \"booster\": \"gbtree\",\n",
    "}\n",
    "def objective(trial):\n",
    "    param = {\n",
    "            \"verbosity\": 0,\n",
    "            \"objective\": trial.suggest_categorical(\"objective\", [\"rank:pairwise\", \"rank:ndcg\", \"rank:map\"]),\n",
    "            \"n_estimators\": trial.suggest_int(\"n_estimators\", 10, 1000),\n",
    "            \"learning_rate\": trial.suggest_float(\"learning_rate\", 1e-8, 1.0, log=True),\n",
    "            \"eval_metric\": \"auc\",\n",
    "            \"booster\": trial.suggest_categorical(\"booster\", [\"gbtree\", \"gblinear\"]),\n",
    "            \"reg_lambda\": trial.suggest_float(\"reg_lambda\", 1e-8, 1.0, log=True),\n",
    "            \"reg_alpha\": trial.suggest_float(\"reg_alpha\", 1e-8, 1.0, log=True),\n",
    "        }\n",
    "    \n",
    "    if param[\"booster\"] == \"gbtree\":\n",
    "        param[\"max_depth\"] = trial.suggest_int(\"max_depth\", 1, 25)\n",
    "        param[\"eta\"] = trial.suggest_float(\"eta\", 1e-4, 1.0, log=True)\n",
    "        param[\"gamma\"] = trial.suggest_float(\"gamma\", 1e-4, 1.0, log=True)\n",
    "        param[\"grow_policy\"] = trial.suggest_categorical(\"grow_policy\", [\"depthwise\", \"lossguide\"])\n",
    "        param[\"max_delta_step\"] = trial.suggest_int(\"max_delta_step\", 1, 20)\n",
    "        \n",
    "\n",
    "    \n",
    "    xgb = XgBoostEnsembler(URM_train, URM_val=URM_validation, recommenders=recommenders_train, recommenders_generate_data=rgd, internal_cutoff_xgboost=trial.suggest_int(\"internal_cutoff_xgboost\", 10, 36))\n",
    "    xgb.fit(xgb_ranker_params=param, prepare_training_df=True, plot=False)\n",
    "    xgb.recommenders = recommenders_t_val\n",
    "    xgb.recommenders_generate_data = rgd_t_val\n",
    "    \n",
    "    result, _ = evaluator_test.evaluateRecommender(xgb)\n",
    "    MAP_result = result[\"MAP\"].item()\n",
    "    return MAP_result"
   ],
   "metadata": {
    "collapsed": false,
    "ExecuteTime": {
     "end_time": "2024-01-05T11:19:02.699814Z",
     "start_time": "2024-01-05T11:19:02.654014Z"
    }
   },
   "id": "b7e6ad74d522c477",
   "execution_count": 17
  },
  {
   "cell_type": "code",
   "outputs": [],
   "source": [
    "import optuna as op\n",
    "from Recommenders.XGBoostEnsemble import XgBoostEnsembler\n",
    "rgd = {\n",
    "    \"H_HI\" : h_hi_train,\n",
    "}\n",
    "rgd_t_val = {\n",
    "    \"H_HI\" : h_hi_t_val,\n",
    "}\n",
    "xgb_ranker_params = {\n",
    "    \"n_estimators\": 50,\n",
    "    \"learning_rate\": 1e-1,\n",
    "    \"reg_alpha\": 1e-1,\n",
    "    \"reg_lambda\": 1e-1,\n",
    "    \"max_depth\": 20,\n",
    "    \"max_leaves\": 0,\n",
    "    \"grow_policy\": \"depthwise\",\n",
    "    \"objective\": \"rank:pairwise\",\n",
    "    \"booster\": \"gbtree\",\n",
    "}\n",
    "def objective(trial):\n",
    "    param = {\n",
    "            \"verbosity\": 0,\n",
    "            \"objective\": trial.suggest_categorical(\"objective\", [\"rank:pairwise\", \"rank:ndcg\", \"rank:map\"]),\n",
    "            \"n_estimators\": trial.suggest_int(\"n_estimators\", 10, 1000),\n",
    "            \"learning_rate\": trial.suggest_float(\"learning_rate\", 1e-8, 1.0, log=True),\n",
    "            \"eval_metric\": \"auc\",\n",
    "            \"booster\": trial.suggest_categorical(\"booster\", [\"gbtree\", \"gblinear\"]),\n",
    "            \"lambda\": trial.suggest_float(\"reg_lambda\", 1e-8, 1.0, log=True),\n",
    "            \"alpha\": trial.suggest_float(\"reg_alpha\", 1e-8, 1.0, log=True),\n",
    "        }\n",
    "    \n",
    "    if param[\"booster\"] == \"gbtree\" or param[\"booster\"] == \"dart\":\n",
    "        param[\"max_depth\"] = trial.suggest_int(\"max_depth\", 1, 25)\n",
    "        param[\"eta\"] = trial.suggest_float(\"eta\", 1e-8, 1.0, log=True)\n",
    "        param[\"gamma\"] = trial.suggest_float(\"gamma\", 1e-8, 1.0, log=True)\n",
    "        param[\"grow_policy\"] = trial.suggest_categorical(\"grow_policy\", [\"depthwise\", \"lossguide\"])\n",
    "        param[\"max_delta_step\"] = trial.suggest_int(\"max_delta_step\", 1, 20)\n",
    "    if param['booster'] == 'dart':\n",
    "        # Add booster-specific parameters for 'dart'\n",
    "        param['sample_type'] = trial.suggest_categorical('sample_type', ['uniform', 'weighted'])\n",
    "        param['normalize_type'] = trial.suggest_categorical('normalize_type', ['tree', 'forest'])\n",
    "        param['rate_drop'] = trial.suggest_float('rate_drop', 1e-8, 1.0, log=True)\n",
    "        param['skip_drop'] = trial.suggest_float('skip_drop', 1e-8, 1.0, log=True) \n",
    "\n",
    "    \n",
    "    xgb = XgBoostEnsembler(URM_train, URM_val=URM_validation, recommenders=recommenders_train, recommenders_generate_data=rgd, internal_cutoff_xgboost=trial.suggest_int(\"internal_cutoff_xgboost\", 10, 36))\n",
    "    xgb.fit(xgb_ranker_params=param, prepare_training_df=True, plot=False)\n",
    "    xgb.recommenders = recommenders_t_val\n",
    "    xgb.recommenders_generate_data = rgd_t_val\n",
    "    \n",
    "    result, _ = evaluator_test.evaluateRecommender(xgb)\n",
    "    MAP_result = result[\"MAP\"].item()\n",
    "    return MAP_result"
   ],
   "metadata": {
    "collapsed": false,
    "ExecuteTime": {
     "end_time": "2024-01-05T16:14:33.409563Z",
     "start_time": "2024-01-05T16:14:33.388249Z"
    }
   },
   "id": "ec9d182e4dc38b54",
   "execution_count": 33
  },
  {
   "cell_type": "code",
   "outputs": [],
   "source": [
    "study_name = \"XGB-HI-2-study-test\"  # Unique identifier of the study.\n",
    "storage_name = \"sqlite:///db.db\"\n",
    "study = op.create_study(study_name=study_name, storage=storage_name, direction=\"maximize\",load_if_exists=True)\n",
    "study.optimize(objective, n_trials=20)\n",
    "# beat 0.0519020 "
   ],
   "metadata": {
    "collapsed": false
   },
   "id": "a0b35c2da7812e7c",
   "execution_count": null
  },
  {
   "cell_type": "code",
   "outputs": [
    {
     "data": {
      "text/plain": "{'objective': 'rank:pairwise',\n 'n_estimators': 798,\n 'learning_rate': 0.005475198763293265,\n 'booster': 'gblinear',\n 'reg_lambda': 1.5579294735565626e-08,\n 'reg_alpha': 9.59987912675069e-07,\n 'internal_cutoff_xgboost': 10}"
     },
     "execution_count": 42,
     "metadata": {},
     "output_type": "execute_result"
    }
   ],
   "source": [
    "study.best_params"
   ],
   "metadata": {
    "collapsed": false,
    "ExecuteTime": {
     "end_time": "2024-01-05T21:55:36.515735Z",
     "start_time": "2024-01-05T21:55:36.508373Z"
    }
   },
   "id": "65937fb02055b159",
   "execution_count": 42
  },
  {
   "cell_type": "code",
   "outputs": [
    {
     "name": "stdout",
     "output_type": "stream",
     "text": [
      "UserKNNCFItemKNNCFTwoScoresHybridRecommender: URM Detected 422 ( 3.3%) users with no interactions.\n",
      "UserKNNCFItemKNNCFTwoScoresHybridRecommender: URM Detected 329 ( 1.5%) items with no interactions.\n",
      "SLIMElasticNetRP3betaUserKNNCFItemKNNCFTwoScoresHybridEASE_R_LinearHybridRecommender: URM Detected 422 ( 3.3%) users with no interactions.\n",
      "SLIMElasticNetRP3betaUserKNNCFItemKNNCFTwoScoresHybridEASE_R_LinearHybridRecommender: URM Detected 329 ( 1.5%) items with no interactions.\n",
      "UserKNNCFItemKNNCFTwoScoresHybridRecommender: URM Detected 422 ( 3.3%) users with no interactions.\n",
      "UserKNNCFItemKNNCFTwoScoresHybridRecommender: URM Detected 329 ( 1.5%) items with no interactions.\n",
      "SLIMElasticNetRP3betaUserKNNCFItemKNNCFTwoScoresHybridEASE_R_LinearHybridRecommender: URM Detected 205 ( 1.6%) users with no interactions.\n",
      "SLIMElasticNetRP3betaUserKNNCFItemKNNCFTwoScoresHybridEASE_R_LinearHybridRecommender: URM Detected 109 ( 0.5%) items with no interactions.\n"
     ]
    }
   ],
   "source": [
    "import optuna as op\n",
    "from Recommenders.XGBoostEnsemble import XgBoostEnsembler\n",
    "\n",
    "knn_train = TwoScoresHybridRecommender(URM_train, recommenders_train[\"UserKNN\"], recommenders_train[\"ItemKNN\"])\n",
    "knn_train.fit(alpha=0.022195783788315104)\n",
    "\n",
    "h_li_train = LinearHybridRecommender(URM_train, [recommenders_train[\"SLIM\"], recommenders_train[\"RP3beta\"], knn_train, recommenders_train[\"EASE_R\"]])\n",
    "h_li_train.fit(alphas=[0.8857667100747117, 0.6379807942443021, 0.0690929184825888, 0.11953478623354052])\n",
    "\n",
    "knn_t_val = TwoScoresHybridRecommender(URM_train, recommenders_t_val[\"UserKNN\"], recommenders_t_val[\"ItemKNN\"])\n",
    "knn_t_val.fit(alpha=0.022195783788315104)\n",
    "\n",
    "h_li_t_val = LinearHybridRecommender(URM_train_validation, [recommenders_t_val[\"SLIM\"], recommenders_t_val[\"RP3beta\"], knn_t_val, recommenders_t_val[\"EASE_R\"]])\n",
    "h_li_t_val.fit(alphas=[0.8857667100747117, 0.6379807942443021, 0.0690929184825888, 0.11953478623354052])\n",
    "\n",
    "rgd = {\n",
    "    \"H_LI\" : h_li_train,\n",
    "}\n",
    "rgd_t_val = {\n",
    "    \"H_LI\" : h_li_t_val,\n",
    "}\n",
    "\n",
    "def objective(trial):\n",
    "    param = {\n",
    "            \"verbosity\": 0,\n",
    "            \"objective\": trial.suggest_categorical(\"objective\", [\"rank:pairwise\", \"rank:ndcg\", \"rank:map\"]),\n",
    "            \"n_estimators\": trial.suggest_int(\"n_estimators\", 10, 1000),\n",
    "            \"learning_rate\": trial.suggest_float(\"learning_rate\", 1e-8, 1.0, log=True),\n",
    "            \"eval_metric\": \"auc\",\n",
    "            \"booster\": trial.suggest_categorical(\"booster\", [\"gbtree\", \"gblinear\"]),\n",
    "            \"lambda\": trial.suggest_float(\"reg_lambda\", 1e-8, 1.0, log=True),\n",
    "            \"alpha\": trial.suggest_float(\"reg_alpha\", 1e-8, 1.0, log=True),\n",
    "        }\n",
    "    \n",
    "    if param[\"booster\"] == \"gbtree\" or param[\"booster\"] == \"dart\":\n",
    "        param[\"max_depth\"] = trial.suggest_int(\"max_depth\", 1, 25)\n",
    "        param[\"eta\"] = trial.suggest_float(\"eta\", 1e-8, 1.0, log=True)\n",
    "        param[\"gamma\"] = trial.suggest_float(\"gamma\", 1e-8, 1.0, log=True)\n",
    "        param[\"grow_policy\"] = trial.suggest_categorical(\"grow_policy\", [\"depthwise\", \"lossguide\"])\n",
    "        param[\"max_delta_step\"] = trial.suggest_int(\"max_delta_step\", 1, 20)\n",
    "    if param['booster'] == 'dart':\n",
    "        # Add booster-specific parameters for 'dart'\n",
    "        param['sample_type'] = trial.suggest_categorical('sample_type', ['uniform', 'weighted'])\n",
    "        param['normalize_type'] = trial.suggest_categorical('normalize_type', ['tree', 'forest'])\n",
    "        param['rate_drop'] = trial.suggest_float('rate_drop', 1e-8, 1.0, log=True)\n",
    "        param['skip_drop'] = trial.suggest_float('skip_drop', 1e-8, 1.0, log=True) \n",
    "\n",
    "    \n",
    "    xgb = XgBoostEnsembler(URM_train, URM_val=URM_validation, recommenders=recommenders_train, recommenders_generate_data=rgd, internal_cutoff_xgboost=trial.suggest_int(\"internal_cutoff_xgboost\", 10, 36))\n",
    "    xgb.fit(xgb_ranker_params=param, prepare_training_df=True, plot=False)\n",
    "    xgb.recommenders = recommenders_t_val\n",
    "    xgb.recommenders_generate_data = rgd_t_val\n",
    "    \n",
    "    result, _ = evaluator_test.evaluateRecommender(xgb)\n",
    "    MAP_result = result[\"MAP\"].item()\n",
    "    return MAP_result"
   ],
   "metadata": {
    "collapsed": false,
    "ExecuteTime": {
     "end_time": "2024-01-05T22:28:55.307796Z",
     "start_time": "2024-01-05T22:28:55.285578Z"
    }
   },
   "id": "f2225c4bb5b851db",
   "execution_count": 45
  },
  {
   "cell_type": "code",
   "outputs": [],
   "source": [
    "study_name = \"XGB-LI-study-test\"  # Unique identifier of the study.\n",
    "storage_name = \"sqlite:///db.db\"\n",
    "study = op.create_study(study_name=study_name, storage=storage_name, direction=\"maximize\",load_if_exists=True)\n",
    "study.optimize(objective, n_trials=20)\n",
    "# beat 0.0520373 "
   ],
   "metadata": {
    "collapsed": false
   },
   "id": "a41f6b689c92cc6e",
   "execution_count": null
  },
  {
   "cell_type": "code",
   "outputs": [
    {
     "name": "stdout",
     "output_type": "stream",
     "text": [
      "EvaluatorHoldout: Processed 10435 (100.0%) in 9.36 sec. Users per second: 1114\n"
     ]
    },
    {
     "data": {
      "text/plain": "(       PRECISION PRECISION_RECALL_MIN_DEN    RECALL       MAP MAP_MIN_DEN  \\\n cutoff                                                                      \n 10       0.10024                 0.172969  0.145334  0.052037    0.087769   \n \n              MRR      NDCG        F1  HIT_RATE ARHR_ALL_HITS  ...  \\\n cutoff                                                        ...   \n 10      0.285611  0.158053  0.118647  0.538955      0.380213  ...   \n \n        COVERAGE_USER COVERAGE_USER_HIT USERS_IN_GT DIVERSITY_GINI  \\\n cutoff                                                              \n 10          0.825684          0.445007    0.825684       0.058394   \n \n        SHANNON_ENTROPY RATIO_DIVERSITY_HERFINDAHL RATIO_DIVERSITY_GINI  \\\n cutoff                                                                   \n 10           10.187322                   0.997481             0.167517   \n \n        RATIO_SHANNON_ENTROPY RATIO_AVERAGE_POPULARITY RATIO_NOVELTY  \n cutoff                                                               \n 10                  0.784815                 1.862387      0.285763  \n \n [1 rows x 27 columns],\n 'CUTOFF: 10 - PRECISION: 0.1002396, PRECISION_RECALL_MIN_DEN: 0.1729687, RECALL: 0.1453341, MAP: 0.0520373, MAP_MIN_DEN: 0.0877692, MRR: 0.2856105, NDCG: 0.1580527, F1: 0.1186465, HIT_RATE: 0.5389554, ARHR_ALL_HITS: 0.3802127, NOVELTY: 0.0050585, AVERAGE_POPULARITY: 0.2368696, DIVERSITY_MEAN_INTER_LIST: 0.9712911, DIVERSITY_HERFINDAHL: 0.9971198, COVERAGE_ITEM: 0.3164882, COVERAGE_ITEM_HIT: 0.0973360, ITEMS_IN_GT: 0.8012330, COVERAGE_USER: 0.8256844, COVERAGE_USER_HIT: 0.4450071, USERS_IN_GT: 0.8256844, DIVERSITY_GINI: 0.0583942, SHANNON_ENTROPY: 10.1873218, RATIO_DIVERSITY_HERFINDAHL: 0.9974807, RATIO_DIVERSITY_GINI: 0.1675173, RATIO_SHANNON_ENTROPY: 0.7848152, RATIO_AVERAGE_POPULARITY: 1.8623872, RATIO_NOVELTY: 0.2857633, \\n')"
     },
     "execution_count": 46,
     "metadata": {},
     "output_type": "execute_result"
    }
   ],
   "source": [
    "evaluator_test.evaluateRecommender(h_li_t_val)"
   ],
   "metadata": {
    "collapsed": false,
    "ExecuteTime": {
     "end_time": "2024-01-05T22:29:26.097538Z",
     "start_time": "2024-01-05T22:29:16.712817Z"
    }
   },
   "id": "e9a961dd0ae8937b",
   "execution_count": 46
  },
  {
   "cell_type": "code",
   "outputs": [
    {
     "name": "stdout",
     "output_type": "stream",
     "text": [
      "UserKNNCFItemKNNCFTwoScoresHybridRecommender: URM Detected 422 ( 3.3%) users with no interactions.\n",
      "UserKNNCFItemKNNCFTwoScoresHybridRecommender: URM Detected 329 ( 1.5%) items with no interactions.\n",
      "UserKNNCFItemKNNCFTwoScoresHybridMultVAEIALSScoresHybridRecommender: URM Detected 205 ( 1.6%) users with no interactions.\n",
      "UserKNNCFItemKNNCFTwoScoresHybridMultVAEIALSScoresHybridRecommender: URM Detected 109 ( 0.5%) items with no interactions.\n",
      "UserKNNCFItemKNNCFTwoScoresHybridRecommender: URM Detected 422 ( 3.3%) users with no interactions.\n",
      "UserKNNCFItemKNNCFTwoScoresHybridRecommender: URM Detected 329 ( 1.5%) items with no interactions.\n",
      "UserKNNCFItemKNNCFTwoScoresHybridMultVAEIALSScoresHybridRecommender: URM Detected 205 ( 1.6%) users with no interactions.\n",
      "UserKNNCFItemKNNCFTwoScoresHybridMultVAEIALSScoresHybridRecommender: URM Detected 109 ( 0.5%) items with no interactions.\n"
     ]
    }
   ],
   "source": [
    "import optuna as op\n",
    "from Recommenders.XGBoostEnsemble import XgBoostEnsembler\n",
    "\n",
    "knn_train = TwoScoresHybridRecommender(URM_train, recommenders_train[\"UserKNN\"], recommenders_train[\"ItemKNN\"])\n",
    "knn_train.fit(alpha=0.022195783788315104)\n",
    "\n",
    "lint_train = ScoresHybridRecommender(URM_train_validation, knn_train, recommenders_train[\"MULTVAE\"], recommenders_train[\"IALS\"])\n",
    "lint_train.fit(alpha=0.7509279131476281,beta=0.028318614437090585)\n",
    "\n",
    "\n",
    "knn_t_val = TwoScoresHybridRecommender(URM_train, recommenders_t_val[\"UserKNN\"], recommenders_t_val[\"ItemKNN\"])\n",
    "knn_t_val.fit(alpha=0.022195783788315104)\n",
    "\n",
    "lint_t_val = ScoresHybridRecommender(URM_train_validation, knn_t_val, recommenders_t_val[\"MULTVAE\"], recommenders_t_val[\"IALS\"])\n",
    "lint_t_val.fit(alpha=0.7509279131476281,beta=0.028318614437090585)\n",
    "\n",
    "rgd = {\n",
    "    \"LINT\" : lint_train,\n",
    "}\n",
    "rgd_t_val = {\n",
    "    \"LINT\" : lint_t_val,\n",
    "}\n",
    "\n",
    "def objective(trial):\n",
    "    param = {\n",
    "            \"verbosity\": 0,\n",
    "            \"objective\": trial.suggest_categorical(\"objective\", [\"rank:pairwise\", \"rank:ndcg\", \"rank:map\"]),\n",
    "            \"n_estimators\": trial.suggest_int(\"n_estimators\", 10, 1000),\n",
    "            \"learning_rate\": trial.suggest_float(\"learning_rate\", 1e-8, 1.0, log=True),\n",
    "            \"eval_metric\": \"auc\",\n",
    "            \"booster\": trial.suggest_categorical(\"booster\", [\"gbtree\", \"gblinear\"]),\n",
    "            \"lambda\": trial.suggest_float(\"reg_lambda\", 1e-8, 1.0, log=True),\n",
    "            \"alpha\": trial.suggest_float(\"reg_alpha\", 1e-8, 1.0, log=True),\n",
    "        }\n",
    "    \n",
    "    if param[\"booster\"] == \"gbtree\" or param[\"booster\"] == \"dart\":\n",
    "        param[\"max_depth\"] = trial.suggest_int(\"max_depth\", 1, 25)\n",
    "        param[\"eta\"] = trial.suggest_float(\"eta\", 1e-8, 1.0, log=True)\n",
    "        param[\"gamma\"] = trial.suggest_float(\"gamma\", 1e-8, 1.0, log=True)\n",
    "        param[\"grow_policy\"] = trial.suggest_categorical(\"grow_policy\", [\"depthwise\", \"lossguide\"])\n",
    "        param[\"max_delta_step\"] = trial.suggest_int(\"max_delta_step\", 1, 20)\n",
    "    if param['booster'] == 'dart':\n",
    "        # Add booster-specific parameters for 'dart'\n",
    "        param['sample_type'] = trial.suggest_categorical('sample_type', ['uniform', 'weighted'])\n",
    "        param['normalize_type'] = trial.suggest_categorical('normalize_type', ['tree', 'forest'])\n",
    "        param['rate_drop'] = trial.suggest_float('rate_drop', 1e-8, 1.0, log=True)\n",
    "        param['skip_drop'] = trial.suggest_float('skip_drop', 1e-8, 1.0, log=True) \n",
    "\n",
    "    \n",
    "    xgb = XgBoostEnsembler(URM_train, URM_val=URM_validation, recommenders=recommenders_train, recommenders_generate_data=rgd, internal_cutoff_xgboost=trial.suggest_int(\"internal_cutoff_xgboost\", 10, 36))\n",
    "    xgb.fit(xgb_ranker_params=param, prepare_training_df=True, plot=False)\n",
    "    xgb.recommenders = recommenders_t_val\n",
    "    xgb.recommenders_generate_data = rgd_t_val\n",
    "    \n",
    "    result, _ = evaluator_test.evaluateRecommender(xgb)\n",
    "    MAP_result = result[\"MAP\"].item()\n",
    "    return MAP_result"
   ],
   "metadata": {
    "collapsed": false,
    "ExecuteTime": {
     "end_time": "2024-01-05T23:28:10.806081Z",
     "start_time": "2024-01-05T23:28:10.778776Z"
    }
   },
   "id": "5730aebf0b204250",
   "execution_count": 50
  },
  {
   "cell_type": "code",
   "outputs": [
    {
     "name": "stderr",
     "output_type": "stream",
     "text": [
      "[I 2024-01-06 00:34:32,479] Using an existing study with name 'XGB-1-study-test' instead of creating a new one.\n"
     ]
    },
    {
     "name": "stdout",
     "output_type": "stream",
     "text": [
      "XgBoostEnsembler: URM Detected 422 ( 3.3%) users with no interactions.\n",
      "XgBoostEnsembler: URM Detected 329 ( 1.5%) items with no interactions.\n",
      "Creating training dataframe...\n",
      "Populating training dataframe with labels...\n",
      "Percentage of positive samples: 0.00%\n",
      "Populating training dataframe with item scores...\n"
     ]
    },
    {
     "name": "stderr",
     "output_type": "stream",
     "text": [
      "100%|██████████| 8/8 [00:11<00:00,  1.42s/it]\n"
     ]
    },
    {
     "name": "stdout",
     "output_type": "stream",
     "text": [
      "MSE: 0.00\n",
      "Creating training dataframe...\n",
      "Populating training dataframe with item scores...\n"
     ]
    },
    {
     "name": "stderr",
     "output_type": "stream",
     "text": [
      "100%|██████████| 8/8 [00:00<00:00, 10.17it/s]\n",
      "100%|██████████| 1000/1000 [00:00<00:00, 4979.99it/s]\n"
     ]
    },
    {
     "name": "stdout",
     "output_type": "stream",
     "text": [
      "Creating training dataframe...\n",
      "Populating training dataframe with item scores...\n"
     ]
    },
    {
     "name": "stderr",
     "output_type": "stream",
     "text": [
      "100%|██████████| 8/8 [00:00<00:00, 11.58it/s]\n",
      "100%|██████████| 1000/1000 [00:00<00:00, 5122.85it/s]\n"
     ]
    },
    {
     "name": "stdout",
     "output_type": "stream",
     "text": [
      "Creating training dataframe...\n",
      "Populating training dataframe with item scores...\n"
     ]
    },
    {
     "name": "stderr",
     "output_type": "stream",
     "text": [
      "100%|██████████| 8/8 [00:00<00:00, 12.10it/s]\n",
      "100%|██████████| 1000/1000 [00:00<00:00, 5144.73it/s]\n"
     ]
    },
    {
     "name": "stdout",
     "output_type": "stream",
     "text": [
      "Creating training dataframe...\n",
      "Populating training dataframe with item scores...\n"
     ]
    },
    {
     "name": "stderr",
     "output_type": "stream",
     "text": [
      "100%|██████████| 8/8 [00:00<00:00, 12.76it/s]\n",
      "100%|██████████| 1000/1000 [00:00<00:00, 5192.98it/s]\n"
     ]
    },
    {
     "name": "stdout",
     "output_type": "stream",
     "text": [
      "Creating training dataframe...\n",
      "Populating training dataframe with item scores...\n"
     ]
    },
    {
     "name": "stderr",
     "output_type": "stream",
     "text": [
      "100%|██████████| 8/8 [00:00<00:00, 12.53it/s]\n",
      "100%|██████████| 1000/1000 [00:00<00:00, 5157.80it/s]\n"
     ]
    },
    {
     "name": "stdout",
     "output_type": "stream",
     "text": [
      "Creating training dataframe...\n",
      "Populating training dataframe with item scores...\n"
     ]
    },
    {
     "name": "stderr",
     "output_type": "stream",
     "text": [
      "100%|██████████| 8/8 [00:00<00:00, 12.98it/s]\n",
      "100%|██████████| 1000/1000 [00:00<00:00, 5177.19it/s]\n"
     ]
    },
    {
     "name": "stdout",
     "output_type": "stream",
     "text": [
      "Creating training dataframe...\n",
      "Populating training dataframe with item scores...\n"
     ]
    },
    {
     "name": "stderr",
     "output_type": "stream",
     "text": [
      "100%|██████████| 8/8 [00:00<00:00, 12.92it/s]\n",
      "100%|██████████| 1000/1000 [00:00<00:00, 5089.16it/s]\n"
     ]
    },
    {
     "name": "stdout",
     "output_type": "stream",
     "text": [
      "Creating training dataframe...\n",
      "Populating training dataframe with item scores...\n"
     ]
    },
    {
     "name": "stderr",
     "output_type": "stream",
     "text": [
      "100%|██████████| 8/8 [00:00<00:00, 13.42it/s]\n",
      "100%|██████████| 1000/1000 [00:00<00:00, 5101.26it/s]\n"
     ]
    },
    {
     "name": "stdout",
     "output_type": "stream",
     "text": [
      "Creating training dataframe...\n",
      "Populating training dataframe with item scores...\n"
     ]
    },
    {
     "name": "stderr",
     "output_type": "stream",
     "text": [
      "100%|██████████| 8/8 [00:00<00:00, 12.82it/s]\n",
      "100%|██████████| 1000/1000 [00:00<00:00, 5103.71it/s]\n"
     ]
    },
    {
     "name": "stdout",
     "output_type": "stream",
     "text": [
      "Creating training dataframe...\n",
      "Populating training dataframe with item scores...\n"
     ]
    },
    {
     "name": "stderr",
     "output_type": "stream",
     "text": [
      "100%|██████████| 8/8 [00:00<00:00, 13.11it/s]\n",
      "100%|██████████| 1000/1000 [00:00<00:00, 5186.91it/s]\n"
     ]
    },
    {
     "name": "stdout",
     "output_type": "stream",
     "text": [
      "Creating training dataframe...\n",
      "Populating training dataframe with item scores...\n"
     ]
    },
    {
     "name": "stderr",
     "output_type": "stream",
     "text": [
      "100%|██████████| 8/8 [00:00<00:00, 29.64it/s]\n",
      "100%|██████████| 435/435 [00:00<00:00, 5217.15it/s]\n"
     ]
    },
    {
     "name": "stdout",
     "output_type": "stream",
     "text": [
      "EvaluatorHoldout: Processed 10435 (100.0%) in 18.20 sec. Users per second: 573\n"
     ]
    },
    {
     "name": "stderr",
     "output_type": "stream",
     "text": [
      "[I 2024-01-06 00:35:24,747] Trial 7 finished with value: 0.022376936591598826 and parameters: {'objective': 'rank:pairwise', 'n_estimators': 570, 'learning_rate': 1.776594627563913e-07, 'booster': 'gbtree', 'reg_lambda': 3.9774433098020286e-08, 'reg_alpha': 0.00035903134943214527, 'max_depth': 23, 'eta': 0.5201779822333412, 'gamma': 1.9679939915272907e-06, 'grow_policy': 'lossguide', 'max_delta_step': 11, 'internal_cutoff_xgboost': 25}. Best is trial 4 with value: 0.03500464325644021.\n"
     ]
    },
    {
     "name": "stdout",
     "output_type": "stream",
     "text": [
      "XgBoostEnsembler: URM Detected 422 ( 3.3%) users with no interactions.\n",
      "XgBoostEnsembler: URM Detected 329 ( 1.5%) items with no interactions.\n",
      "Creating training dataframe...\n",
      "Populating training dataframe with labels...\n",
      "Percentage of positive samples: 0.00%\n",
      "Populating training dataframe with item scores...\n"
     ]
    },
    {
     "name": "stderr",
     "output_type": "stream",
     "text": [
      "100%|██████████| 8/8 [00:08<00:00,  1.03s/it]\n"
     ]
    },
    {
     "name": "stdout",
     "output_type": "stream",
     "text": [
      "MSE: 0.00\n",
      "Creating training dataframe...\n",
      "Populating training dataframe with item scores...\n"
     ]
    },
    {
     "name": "stderr",
     "output_type": "stream",
     "text": [
      "100%|██████████| 8/8 [00:00<00:00, 11.20it/s]\n",
      "100%|██████████| 1000/1000 [00:00<00:00, 5121.22it/s]\n"
     ]
    },
    {
     "name": "stdout",
     "output_type": "stream",
     "text": [
      "Creating training dataframe...\n",
      "Populating training dataframe with item scores...\n"
     ]
    },
    {
     "name": "stderr",
     "output_type": "stream",
     "text": [
      "100%|██████████| 8/8 [00:00<00:00, 11.91it/s]\n",
      "100%|██████████| 1000/1000 [00:00<00:00, 5006.33it/s]\n"
     ]
    },
    {
     "name": "stdout",
     "output_type": "stream",
     "text": [
      "Creating training dataframe...\n",
      "Populating training dataframe with item scores...\n"
     ]
    },
    {
     "name": "stderr",
     "output_type": "stream",
     "text": [
      "100%|██████████| 8/8 [00:00<00:00, 12.28it/s]\n",
      "100%|██████████| 1000/1000 [00:00<00:00, 4597.97it/s]\n"
     ]
    },
    {
     "name": "stdout",
     "output_type": "stream",
     "text": [
      "Creating training dataframe...\n",
      "Populating training dataframe with item scores...\n"
     ]
    },
    {
     "name": "stderr",
     "output_type": "stream",
     "text": [
      "100%|██████████| 8/8 [00:00<00:00, 13.35it/s]\n",
      "100%|██████████| 1000/1000 [00:00<00:00, 5137.11it/s]\n"
     ]
    },
    {
     "name": "stdout",
     "output_type": "stream",
     "text": [
      "Creating training dataframe...\n",
      "Populating training dataframe with item scores...\n"
     ]
    },
    {
     "name": "stderr",
     "output_type": "stream",
     "text": [
      "100%|██████████| 8/8 [00:00<00:00, 12.70it/s]\n",
      "100%|██████████| 1000/1000 [00:00<00:00, 5203.70it/s]\n"
     ]
    },
    {
     "name": "stdout",
     "output_type": "stream",
     "text": [
      "Creating training dataframe...\n",
      "Populating training dataframe with item scores...\n"
     ]
    },
    {
     "name": "stderr",
     "output_type": "stream",
     "text": [
      "100%|██████████| 8/8 [00:00<00:00, 13.22it/s]\n",
      "100%|██████████| 1000/1000 [00:00<00:00, 5208.66it/s]\n"
     ]
    },
    {
     "name": "stdout",
     "output_type": "stream",
     "text": [
      "Creating training dataframe...\n",
      "Populating training dataframe with item scores...\n"
     ]
    },
    {
     "name": "stderr",
     "output_type": "stream",
     "text": [
      "100%|██████████| 8/8 [00:00<00:00, 13.09it/s]\n",
      "100%|██████████| 1000/1000 [00:00<00:00, 5254.66it/s]\n"
     ]
    },
    {
     "name": "stdout",
     "output_type": "stream",
     "text": [
      "Creating training dataframe...\n",
      "Populating training dataframe with item scores...\n"
     ]
    },
    {
     "name": "stderr",
     "output_type": "stream",
     "text": [
      "100%|██████████| 8/8 [00:00<00:00, 13.88it/s]\n",
      "100%|██████████| 1000/1000 [00:00<00:00, 5249.07it/s]\n"
     ]
    },
    {
     "name": "stdout",
     "output_type": "stream",
     "text": [
      "Creating training dataframe...\n",
      "Populating training dataframe with item scores...\n"
     ]
    },
    {
     "name": "stderr",
     "output_type": "stream",
     "text": [
      "100%|██████████| 8/8 [00:00<00:00, 12.70it/s]\n",
      "100%|██████████| 1000/1000 [00:00<00:00, 5173.71it/s]\n"
     ]
    },
    {
     "name": "stdout",
     "output_type": "stream",
     "text": [
      "Creating training dataframe...\n",
      "Populating training dataframe with item scores...\n"
     ]
    },
    {
     "name": "stderr",
     "output_type": "stream",
     "text": [
      "100%|██████████| 8/8 [00:00<00:00, 13.40it/s]\n",
      "100%|██████████| 1000/1000 [00:00<00:00, 5176.90it/s]\n"
     ]
    },
    {
     "name": "stdout",
     "output_type": "stream",
     "text": [
      "Creating training dataframe...\n",
      "Populating training dataframe with item scores...\n"
     ]
    },
    {
     "name": "stderr",
     "output_type": "stream",
     "text": [
      "100%|██████████| 8/8 [00:00<00:00, 29.76it/s]\n",
      "100%|██████████| 435/435 [00:00<00:00, 5490.12it/s]\n"
     ]
    },
    {
     "name": "stdout",
     "output_type": "stream",
     "text": [
      "EvaluatorHoldout: Processed 10435 (100.0%) in 18.71 sec. Users per second: 558\n"
     ]
    },
    {
     "name": "stderr",
     "output_type": "stream",
     "text": [
      "[I 2024-01-06 00:36:12,587] Trial 8 finished with value: 0.02717441303306192 and parameters: {'objective': 'rank:pairwise', 'n_estimators': 623, 'learning_rate': 6.908847178255325e-06, 'booster': 'gbtree', 'reg_lambda': 0.015112507572926146, 'reg_alpha': 1.1751651136621999e-05, 'max_depth': 24, 'eta': 0.04563853998901812, 'gamma': 0.39587303647972977, 'grow_policy': 'depthwise', 'max_delta_step': 5, 'internal_cutoff_xgboost': 18}. Best is trial 4 with value: 0.03500464325644021.\n"
     ]
    },
    {
     "name": "stdout",
     "output_type": "stream",
     "text": [
      "XgBoostEnsembler: URM Detected 422 ( 3.3%) users with no interactions.\n",
      "XgBoostEnsembler: URM Detected 329 ( 1.5%) items with no interactions.\n",
      "Creating training dataframe...\n",
      "Populating training dataframe with labels...\n",
      "Percentage of positive samples: 0.00%\n",
      "Populating training dataframe with item scores...\n"
     ]
    },
    {
     "name": "stderr",
     "output_type": "stream",
     "text": [
      "100%|██████████| 8/8 [00:07<00:00,  1.01it/s]\n"
     ]
    },
    {
     "name": "stdout",
     "output_type": "stream",
     "text": [
      "MSE: 0.00\n",
      "Creating training dataframe...\n",
      "Populating training dataframe with item scores...\n"
     ]
    },
    {
     "name": "stderr",
     "output_type": "stream",
     "text": [
      "100%|██████████| 8/8 [00:00<00:00, 10.86it/s]\n",
      "100%|██████████| 1000/1000 [00:00<00:00, 4986.08it/s]\n"
     ]
    },
    {
     "name": "stdout",
     "output_type": "stream",
     "text": [
      "Creating training dataframe...\n",
      "Populating training dataframe with item scores...\n"
     ]
    },
    {
     "name": "stderr",
     "output_type": "stream",
     "text": [
      "100%|██████████| 8/8 [00:00<00:00, 11.87it/s]\n",
      "100%|██████████| 1000/1000 [00:00<00:00, 5045.26it/s]\n"
     ]
    },
    {
     "name": "stdout",
     "output_type": "stream",
     "text": [
      "Creating training dataframe...\n",
      "Populating training dataframe with item scores...\n"
     ]
    },
    {
     "name": "stderr",
     "output_type": "stream",
     "text": [
      "100%|██████████| 8/8 [00:00<00:00, 12.25it/s]\n",
      "100%|██████████| 1000/1000 [00:00<00:00, 5046.33it/s]\n"
     ]
    },
    {
     "name": "stdout",
     "output_type": "stream",
     "text": [
      "Creating training dataframe...\n",
      "Populating training dataframe with item scores...\n"
     ]
    },
    {
     "name": "stderr",
     "output_type": "stream",
     "text": [
      "100%|██████████| 8/8 [00:00<00:00, 12.81it/s]\n",
      "100%|██████████| 1000/1000 [00:00<00:00, 5080.14it/s]\n"
     ]
    },
    {
     "name": "stdout",
     "output_type": "stream",
     "text": [
      "Creating training dataframe...\n",
      "Populating training dataframe with item scores...\n"
     ]
    },
    {
     "name": "stderr",
     "output_type": "stream",
     "text": [
      "100%|██████████| 8/8 [00:00<00:00, 12.59it/s]\n",
      "100%|██████████| 1000/1000 [00:00<00:00, 5017.87it/s]\n"
     ]
    },
    {
     "name": "stdout",
     "output_type": "stream",
     "text": [
      "Creating training dataframe...\n",
      "Populating training dataframe with item scores...\n"
     ]
    },
    {
     "name": "stderr",
     "output_type": "stream",
     "text": [
      "100%|██████████| 8/8 [00:00<00:00, 13.11it/s]\n",
      "100%|██████████| 1000/1000 [00:00<00:00, 5084.14it/s]\n"
     ]
    },
    {
     "name": "stdout",
     "output_type": "stream",
     "text": [
      "Creating training dataframe...\n",
      "Populating training dataframe with item scores...\n"
     ]
    },
    {
     "name": "stderr",
     "output_type": "stream",
     "text": [
      "100%|██████████| 8/8 [00:00<00:00, 12.65it/s]\n",
      "100%|██████████| 1000/1000 [00:00<00:00, 5120.28it/s]\n"
     ]
    },
    {
     "name": "stdout",
     "output_type": "stream",
     "text": [
      "Creating training dataframe...\n",
      "Populating training dataframe with item scores...\n"
     ]
    },
    {
     "name": "stderr",
     "output_type": "stream",
     "text": [
      "100%|██████████| 8/8 [00:00<00:00, 13.64it/s]\n",
      "100%|██████████| 1000/1000 [00:00<00:00, 5190.71it/s]\n"
     ]
    },
    {
     "name": "stdout",
     "output_type": "stream",
     "text": [
      "Creating training dataframe...\n",
      "Populating training dataframe with item scores...\n"
     ]
    },
    {
     "name": "stderr",
     "output_type": "stream",
     "text": [
      "100%|██████████| 8/8 [00:00<00:00, 13.08it/s]\n",
      "100%|██████████| 1000/1000 [00:00<00:00, 5230.27it/s]\n"
     ]
    },
    {
     "name": "stdout",
     "output_type": "stream",
     "text": [
      "Creating training dataframe...\n",
      "Populating training dataframe with item scores...\n"
     ]
    },
    {
     "name": "stderr",
     "output_type": "stream",
     "text": [
      "100%|██████████| 8/8 [00:00<00:00, 13.54it/s]\n",
      "100%|██████████| 1000/1000 [00:00<00:00, 5135.87it/s]\n"
     ]
    },
    {
     "name": "stdout",
     "output_type": "stream",
     "text": [
      "Creating training dataframe...\n",
      "Populating training dataframe with item scores...\n"
     ]
    },
    {
     "name": "stderr",
     "output_type": "stream",
     "text": [
      "100%|██████████| 8/8 [00:00<00:00, 29.39it/s]\n",
      "100%|██████████| 435/435 [00:00<00:00, 5481.75it/s]\n"
     ]
    },
    {
     "name": "stdout",
     "output_type": "stream",
     "text": [
      "EvaluatorHoldout: Processed 10435 (100.0%) in 18.07 sec. Users per second: 577\n"
     ]
    },
    {
     "name": "stderr",
     "output_type": "stream",
     "text": [
      "[I 2024-01-06 00:36:58,328] Trial 9 finished with value: 0.022376936591598826 and parameters: {'objective': 'rank:map', 'n_estimators': 923, 'learning_rate': 2.870376106138228e-07, 'booster': 'gbtree', 'reg_lambda': 8.34848804584594e-08, 'reg_alpha': 0.01652295724940925, 'max_depth': 6, 'eta': 0.00335240632324173, 'gamma': 5.7520082479250105e-08, 'grow_policy': 'lossguide', 'max_delta_step': 14, 'internal_cutoff_xgboost': 25}. Best is trial 4 with value: 0.03500464325644021.\n"
     ]
    },
    {
     "name": "stdout",
     "output_type": "stream",
     "text": [
      "XgBoostEnsembler: URM Detected 422 ( 3.3%) users with no interactions.\n",
      "XgBoostEnsembler: URM Detected 329 ( 1.5%) items with no interactions.\n",
      "Creating training dataframe...\n",
      "Populating training dataframe with labels...\n",
      "Percentage of positive samples: 0.00%\n",
      "Populating training dataframe with item scores...\n"
     ]
    },
    {
     "name": "stderr",
     "output_type": "stream",
     "text": [
      "100%|██████████| 8/8 [00:07<00:00,  1.06it/s]\n"
     ]
    },
    {
     "name": "stdout",
     "output_type": "stream",
     "text": [
      "MSE: nan\n",
      "Creating training dataframe...\n",
      "Populating training dataframe with item scores...\n"
     ]
    },
    {
     "name": "stderr",
     "output_type": "stream",
     "text": [
      "100%|██████████| 8/8 [00:00<00:00, 11.25it/s]\n",
      "100%|██████████| 1000/1000 [00:00<00:00, 4850.20it/s]\n"
     ]
    },
    {
     "name": "stdout",
     "output_type": "stream",
     "text": [
      "Creating training dataframe...\n",
      "Populating training dataframe with item scores...\n"
     ]
    },
    {
     "name": "stderr",
     "output_type": "stream",
     "text": [
      "100%|██████████| 8/8 [00:00<00:00, 12.31it/s]\n",
      "100%|██████████| 1000/1000 [00:00<00:00, 4958.33it/s]\n"
     ]
    },
    {
     "name": "stdout",
     "output_type": "stream",
     "text": [
      "Creating training dataframe...\n",
      "Populating training dataframe with item scores...\n"
     ]
    },
    {
     "name": "stderr",
     "output_type": "stream",
     "text": [
      "100%|██████████| 8/8 [00:00<00:00, 12.55it/s]\n",
      "100%|██████████| 1000/1000 [00:00<00:00, 4967.61it/s]\n"
     ]
    },
    {
     "name": "stdout",
     "output_type": "stream",
     "text": [
      "Creating training dataframe...\n",
      "Populating training dataframe with item scores...\n"
     ]
    },
    {
     "name": "stderr",
     "output_type": "stream",
     "text": [
      "100%|██████████| 8/8 [00:00<00:00, 12.97it/s]\n",
      "100%|██████████| 1000/1000 [00:00<00:00, 4917.31it/s]\n"
     ]
    },
    {
     "name": "stdout",
     "output_type": "stream",
     "text": [
      "Creating training dataframe...\n",
      "Populating training dataframe with item scores...\n"
     ]
    },
    {
     "name": "stderr",
     "output_type": "stream",
     "text": [
      "100%|██████████| 8/8 [00:00<00:00, 12.78it/s]\n",
      "100%|██████████| 1000/1000 [00:00<00:00, 4981.28it/s]\n"
     ]
    },
    {
     "name": "stdout",
     "output_type": "stream",
     "text": [
      "Creating training dataframe...\n",
      "Populating training dataframe with item scores...\n"
     ]
    },
    {
     "name": "stderr",
     "output_type": "stream",
     "text": [
      "100%|██████████| 8/8 [00:00<00:00, 12.76it/s]\n",
      "100%|██████████| 1000/1000 [00:00<00:00, 5030.94it/s]\n"
     ]
    },
    {
     "name": "stdout",
     "output_type": "stream",
     "text": [
      "Creating training dataframe...\n",
      "Populating training dataframe with item scores...\n"
     ]
    },
    {
     "name": "stderr",
     "output_type": "stream",
     "text": [
      "100%|██████████| 8/8 [00:00<00:00, 12.79it/s]\n",
      "100%|██████████| 1000/1000 [00:00<00:00, 4905.54it/s]\n"
     ]
    },
    {
     "name": "stdout",
     "output_type": "stream",
     "text": [
      "Creating training dataframe...\n",
      "Populating training dataframe with item scores...\n"
     ]
    },
    {
     "name": "stderr",
     "output_type": "stream",
     "text": [
      "100%|██████████| 8/8 [00:00<00:00, 13.47it/s]\n",
      "100%|██████████| 1000/1000 [00:00<00:00, 5022.73it/s]\n"
     ]
    },
    {
     "name": "stdout",
     "output_type": "stream",
     "text": [
      "Creating training dataframe...\n",
      "Populating training dataframe with item scores...\n"
     ]
    },
    {
     "name": "stderr",
     "output_type": "stream",
     "text": [
      "100%|██████████| 8/8 [00:00<00:00, 13.03it/s]\n",
      "100%|██████████| 1000/1000 [00:00<00:00, 4788.17it/s]\n"
     ]
    },
    {
     "name": "stdout",
     "output_type": "stream",
     "text": [
      "Creating training dataframe...\n",
      "Populating training dataframe with item scores...\n"
     ]
    },
    {
     "name": "stderr",
     "output_type": "stream",
     "text": [
      "100%|██████████| 8/8 [00:00<00:00, 13.14it/s]\n",
      "100%|██████████| 1000/1000 [00:00<00:00, 4967.37it/s]\n"
     ]
    },
    {
     "name": "stdout",
     "output_type": "stream",
     "text": [
      "Creating training dataframe...\n",
      "Populating training dataframe with item scores...\n"
     ]
    },
    {
     "name": "stderr",
     "output_type": "stream",
     "text": [
      "100%|██████████| 8/8 [00:00<00:00, 30.00it/s]\n",
      "100%|██████████| 435/435 [00:00<00:00, 5341.75it/s]\n"
     ]
    },
    {
     "name": "stdout",
     "output_type": "stream",
     "text": [
      "EvaluatorHoldout: Processed 10435 (100.0%) in 17.42 sec. Users per second: 599\n"
     ]
    },
    {
     "name": "stderr",
     "output_type": "stream",
     "text": [
      "[I 2024-01-06 00:37:43,734] Trial 10 finished with value: 4.4732699021151345e-05 and parameters: {'objective': 'rank:map', 'n_estimators': 691, 'learning_rate': 4.4729125735151455e-05, 'booster': 'gblinear', 'reg_lambda': 0.007319825019649405, 'reg_alpha': 0.0012264950117575545, 'internal_cutoff_xgboost': 36}. Best is trial 4 with value: 0.03500464325644021.\n"
     ]
    },
    {
     "name": "stdout",
     "output_type": "stream",
     "text": [
      "XgBoostEnsembler: URM Detected 422 ( 3.3%) users with no interactions.\n",
      "XgBoostEnsembler: URM Detected 329 ( 1.5%) items with no interactions.\n",
      "Creating training dataframe...\n",
      "Populating training dataframe with labels...\n",
      "Percentage of positive samples: 0.00%\n",
      "Populating training dataframe with item scores...\n"
     ]
    },
    {
     "name": "stderr",
     "output_type": "stream",
     "text": [
      "100%|██████████| 8/8 [00:08<00:00,  1.01s/it]\n"
     ]
    },
    {
     "name": "stdout",
     "output_type": "stream",
     "text": [
      "MSE: 0.00\n",
      "Creating training dataframe...\n",
      "Populating training dataframe with item scores...\n"
     ]
    },
    {
     "name": "stderr",
     "output_type": "stream",
     "text": [
      "100%|██████████| 8/8 [00:00<00:00, 10.98it/s]\n",
      "100%|██████████| 1000/1000 [00:00<00:00, 4972.23it/s]\n"
     ]
    },
    {
     "name": "stdout",
     "output_type": "stream",
     "text": [
      "Creating training dataframe...\n",
      "Populating training dataframe with item scores...\n"
     ]
    },
    {
     "name": "stderr",
     "output_type": "stream",
     "text": [
      "100%|██████████| 8/8 [00:00<00:00, 12.11it/s]\n",
      "100%|██████████| 1000/1000 [00:00<00:00, 4979.41it/s]\n"
     ]
    },
    {
     "name": "stdout",
     "output_type": "stream",
     "text": [
      "Creating training dataframe...\n",
      "Populating training dataframe with item scores...\n"
     ]
    },
    {
     "name": "stderr",
     "output_type": "stream",
     "text": [
      "100%|██████████| 8/8 [00:00<00:00, 12.31it/s]\n",
      "100%|██████████| 1000/1000 [00:00<00:00, 5028.41it/s]\n"
     ]
    },
    {
     "name": "stdout",
     "output_type": "stream",
     "text": [
      "Creating training dataframe...\n",
      "Populating training dataframe with item scores...\n"
     ]
    },
    {
     "name": "stderr",
     "output_type": "stream",
     "text": [
      "100%|██████████| 8/8 [00:00<00:00, 12.86it/s]\n",
      "100%|██████████| 1000/1000 [00:00<00:00, 5090.72it/s]\n"
     ]
    },
    {
     "name": "stdout",
     "output_type": "stream",
     "text": [
      "Creating training dataframe...\n",
      "Populating training dataframe with item scores...\n"
     ]
    },
    {
     "name": "stderr",
     "output_type": "stream",
     "text": [
      "100%|██████████| 8/8 [00:00<00:00, 12.36it/s]\n",
      "100%|██████████| 1000/1000 [00:00<00:00, 5013.89it/s]\n"
     ]
    },
    {
     "name": "stdout",
     "output_type": "stream",
     "text": [
      "Creating training dataframe...\n",
      "Populating training dataframe with item scores...\n"
     ]
    },
    {
     "name": "stderr",
     "output_type": "stream",
     "text": [
      "100%|██████████| 8/8 [00:00<00:00, 12.60it/s]\n",
      "100%|██████████| 1000/1000 [00:00<00:00, 4995.11it/s]\n"
     ]
    },
    {
     "name": "stdout",
     "output_type": "stream",
     "text": [
      "Creating training dataframe...\n",
      "Populating training dataframe with item scores...\n"
     ]
    },
    {
     "name": "stderr",
     "output_type": "stream",
     "text": [
      "100%|██████████| 8/8 [00:00<00:00, 12.29it/s]\n",
      "100%|██████████| 1000/1000 [00:00<00:00, 4864.86it/s]\n"
     ]
    },
    {
     "name": "stdout",
     "output_type": "stream",
     "text": [
      "Creating training dataframe...\n",
      "Populating training dataframe with item scores...\n"
     ]
    },
    {
     "name": "stderr",
     "output_type": "stream",
     "text": [
      "100%|██████████| 8/8 [00:00<00:00, 12.79it/s]\n",
      "100%|██████████| 1000/1000 [00:00<00:00, 5007.53it/s]\n"
     ]
    },
    {
     "name": "stdout",
     "output_type": "stream",
     "text": [
      "Creating training dataframe...\n",
      "Populating training dataframe with item scores...\n"
     ]
    },
    {
     "name": "stderr",
     "output_type": "stream",
     "text": [
      "100%|██████████| 8/8 [00:00<00:00, 12.41it/s]\n",
      "100%|██████████| 1000/1000 [00:00<00:00, 4981.25it/s]\n"
     ]
    },
    {
     "name": "stdout",
     "output_type": "stream",
     "text": [
      "Creating training dataframe...\n",
      "Populating training dataframe with item scores...\n"
     ]
    },
    {
     "name": "stderr",
     "output_type": "stream",
     "text": [
      "100%|██████████| 8/8 [00:00<00:00,  8.92it/s]\n",
      "100%|██████████| 1000/1000 [00:00<00:00, 4784.30it/s]\n"
     ]
    },
    {
     "name": "stdout",
     "output_type": "stream",
     "text": [
      "Creating training dataframe...\n",
      "Populating training dataframe with item scores...\n"
     ]
    },
    {
     "name": "stderr",
     "output_type": "stream",
     "text": [
      "100%|██████████| 8/8 [00:00<00:00, 29.18it/s]\n",
      "100%|██████████| 435/435 [00:00<00:00, 5263.54it/s]\n"
     ]
    },
    {
     "name": "stdout",
     "output_type": "stream",
     "text": [
      "EvaluatorHoldout: Processed 10435 (100.0%) in 18.11 sec. Users per second: 576\n"
     ]
    },
    {
     "name": "stderr",
     "output_type": "stream",
     "text": [
      "[I 2024-01-06 00:38:26,300] Trial 11 finished with value: 0.02008761722226033 and parameters: {'objective': 'rank:pairwise', 'n_estimators': 330, 'learning_rate': 0.027877696315889162, 'booster': 'gbtree', 'reg_lambda': 0.9012127788559451, 'reg_alpha': 2.0989445407508798e-08, 'max_depth': 9, 'eta': 2.17790856306768e-06, 'gamma': 0.0005491548043793969, 'grow_policy': 'lossguide', 'max_delta_step': 20, 'internal_cutoff_xgboost': 32}. Best is trial 4 with value: 0.03500464325644021.\n"
     ]
    },
    {
     "name": "stdout",
     "output_type": "stream",
     "text": [
      "XgBoostEnsembler: URM Detected 422 ( 3.3%) users with no interactions.\n",
      "XgBoostEnsembler: URM Detected 329 ( 1.5%) items with no interactions.\n",
      "Creating training dataframe...\n",
      "Populating training dataframe with labels...\n",
      "Percentage of positive samples: 0.00%\n",
      "Populating training dataframe with item scores...\n"
     ]
    },
    {
     "name": "stderr",
     "output_type": "stream",
     "text": [
      "100%|██████████| 8/8 [00:17<00:00,  2.23s/it]\n"
     ]
    },
    {
     "name": "stdout",
     "output_type": "stream",
     "text": [
      "MSE: 0.00\n",
      "Creating training dataframe...\n",
      "Populating training dataframe with item scores...\n"
     ]
    },
    {
     "name": "stderr",
     "output_type": "stream",
     "text": [
      "100%|██████████| 8/8 [00:01<00:00,  5.96it/s]\n",
      "100%|██████████| 1000/1000 [00:00<00:00, 4263.05it/s]\n"
     ]
    },
    {
     "name": "stdout",
     "output_type": "stream",
     "text": [
      "Creating training dataframe...\n",
      "Populating training dataframe with item scores...\n"
     ]
    },
    {
     "name": "stderr",
     "output_type": "stream",
     "text": [
      "100%|██████████| 8/8 [00:00<00:00,  9.00it/s]\n",
      "100%|██████████| 1000/1000 [00:00<00:00, 5057.99it/s]\n"
     ]
    },
    {
     "name": "stdout",
     "output_type": "stream",
     "text": [
      "Creating training dataframe...\n",
      "Populating training dataframe with item scores...\n"
     ]
    },
    {
     "name": "stderr",
     "output_type": "stream",
     "text": [
      "100%|██████████| 8/8 [00:01<00:00,  6.34it/s]\n",
      "100%|██████████| 1000/1000 [00:00<00:00, 4714.53it/s]\n"
     ]
    },
    {
     "name": "stdout",
     "output_type": "stream",
     "text": [
      "Creating training dataframe...\n",
      "Populating training dataframe with item scores...\n"
     ]
    },
    {
     "name": "stderr",
     "output_type": "stream",
     "text": [
      "100%|██████████| 8/8 [00:00<00:00, 10.88it/s]\n",
      "100%|██████████| 1000/1000 [00:00<00:00, 5067.91it/s]\n"
     ]
    },
    {
     "name": "stdout",
     "output_type": "stream",
     "text": [
      "Creating training dataframe...\n",
      "Populating training dataframe with item scores...\n"
     ]
    },
    {
     "name": "stderr",
     "output_type": "stream",
     "text": [
      "100%|██████████| 8/8 [00:00<00:00, 11.04it/s]\n",
      "100%|██████████| 1000/1000 [00:00<00:00, 4935.42it/s]\n"
     ]
    },
    {
     "name": "stdout",
     "output_type": "stream",
     "text": [
      "Creating training dataframe...\n",
      "Populating training dataframe with item scores...\n"
     ]
    },
    {
     "name": "stderr",
     "output_type": "stream",
     "text": [
      "100%|██████████| 8/8 [00:00<00:00, 10.66it/s]\n",
      "100%|██████████| 1000/1000 [00:00<00:00, 5179.90it/s]\n"
     ]
    },
    {
     "name": "stdout",
     "output_type": "stream",
     "text": [
      "Creating training dataframe...\n",
      "Populating training dataframe with item scores...\n"
     ]
    },
    {
     "name": "stderr",
     "output_type": "stream",
     "text": [
      "100%|██████████| 8/8 [00:00<00:00, 11.03it/s]\n",
      "100%|██████████| 1000/1000 [00:00<00:00, 4875.56it/s]\n"
     ]
    },
    {
     "name": "stdout",
     "output_type": "stream",
     "text": [
      "Creating training dataframe...\n"
     ]
    },
    {
     "name": "stderr",
     "output_type": "stream",
     "text": [
      "[W 2024-01-06 00:39:23,925] Trial 12 failed with parameters: {'objective': 'rank:ndcg', 'n_estimators': 989, 'learning_rate': 1.1387078751933327e-08, 'booster': 'gbtree', 'reg_lambda': 8.422956862638953e-06, 'reg_alpha': 7.634545441063569e-07, 'max_depth': 16, 'eta': 3.0071234775417854e-08, 'gamma': 1.0556202032026349e-08, 'grow_policy': 'depthwise', 'max_delta_step': 19, 'internal_cutoff_xgboost': 11} because of the following error: KeyboardInterrupt().\n",
      "Traceback (most recent call last):\n",
      "  File \"/Users/alessandro/RecSys-2023-polimi/venv/lib/python3.11/site-packages/optuna/study/_optimize.py\", line 200, in _run_trial\n",
      "    value_or_values = func(trial)\n",
      "                      ^^^^^^^^^^^\n",
      "  File \"/var/folders/l3/n3yjvx_d2g9dy0ztkyft2th40000gn/T/ipykernel_2689/3456329998.py\", line 55, in objective\n",
      "    result, _ = evaluator_test.evaluateRecommender(xgb)\n",
      "                ^^^^^^^^^^^^^^^^^^^^^^^^^^^^^^^^^^^^^^^\n",
      "  File \"/Users/alessandro/RecSys-2023-polimi/Evaluation/Evaluator.py\", line 276, in evaluateRecommender\n",
      "    results_dict = self._run_evaluation_on_selected_users(recommender_object, self.users_to_evaluate)\n",
      "                   ^^^^^^^^^^^^^^^^^^^^^^^^^^^^^^^^^^^^^^^^^^^^^^^^^^^^^^^^^^^^^^^^^^^^^^^^^^^^^^^^^^\n",
      "  File \"/Users/alessandro/RecSys-2023-polimi/Evaluation/Evaluator.py\", line 476, in _run_evaluation_on_selected_users\n",
      "    recommended_items_batch_list, scores_batch = recommender_object.recommend(test_user_batch_array,\n",
      "                                                 ^^^^^^^^^^^^^^^^^^^^^^^^^^^^^^^^^^^^^^^^^^^^^^^^^^^\n",
      "  File \"/Users/alessandro/RecSys-2023-polimi/Recommenders/BaseRecommender.py\", line 147, in recommend\n",
      "    scores_batch = self._compute_item_score(user_id_array, items_to_compute=items_to_compute)\n",
      "                   ^^^^^^^^^^^^^^^^^^^^^^^^^^^^^^^^^^^^^^^^^^^^^^^^^^^^^^^^^^^^^^^^^^^^^^^^^^\n",
      "  File \"/Users/alessandro/RecSys-2023-polimi/Recommenders/XGBoostEnsemble.py\", line 209, in _compute_item_score\n",
      "    training_dataframe = self._create_training_dataframe(user_id_array)\n",
      "                         ^^^^^^^^^^^^^^^^^^^^^^^^^^^^^^^^^^^^^^^^^^^^^^\n",
      "  File \"/Users/alessandro/RecSys-2023-polimi/Recommenders/XGBoostEnsemble.py\", line 87, in _create_training_dataframe\n",
      "    recs = rec_instance.recommend(users, cutoff=self.internal_cutoff_xgboost)\n",
      "           ^^^^^^^^^^^^^^^^^^^^^^^^^^^^^^^^^^^^^^^^^^^^^^^^^^^^^^^^^^^^^^^^^^\n",
      "  File \"/Users/alessandro/RecSys-2023-polimi/Recommenders/BaseRecommender.py\", line 169, in recommend\n",
      "    relevant_items_partition = np.argpartition(-scores_batch, cutoff-1, axis=1)[:,0:cutoff]\n",
      "                               ^^^^^^^^^^^^^^^^^^^^^^^^^^^^^^^^^^^^^^^^^^^^^^^^\n",
      "  File \"<__array_function__ internals>\", line 180, in argpartition\n",
      "  File \"/Users/alessandro/RecSys-2023-polimi/venv/lib/python3.11/site-packages/numpy/core/fromnumeric.py\", line 845, in argpartition\n",
      "    return _wrapfunc(a, 'argpartition', kth, axis=axis, kind=kind, order=order)\n",
      "           ^^^^^^^^^^^^^^^^^^^^^^^^^^^^^^^^^^^^^^^^^^^^^^^^^^^^^^^^^^^^^^^^^^^^\n",
      "  File \"/Users/alessandro/RecSys-2023-polimi/venv/lib/python3.11/site-packages/numpy/core/fromnumeric.py\", line 57, in _wrapfunc\n",
      "    return bound(*args, **kwds)\n",
      "           ^^^^^^^^^^^^^^^^^^^^\n",
      "KeyboardInterrupt\n",
      "[W 2024-01-06 00:39:23,940] Trial 12 failed with value None.\n"
     ]
    },
    {
     "ename": "KeyboardInterrupt",
     "evalue": "",
     "output_type": "error",
     "traceback": [
      "\u001B[0;31m---------------------------------------------------------------------------\u001B[0m",
      "\u001B[0;31mKeyboardInterrupt\u001B[0m                         Traceback (most recent call last)",
      "Cell \u001B[0;32mIn[53], line 4\u001B[0m\n\u001B[1;32m      2\u001B[0m storage_name \u001B[38;5;241m=\u001B[39m \u001B[38;5;124m\"\u001B[39m\u001B[38;5;124msqlite:///db.db\u001B[39m\u001B[38;5;124m\"\u001B[39m\n\u001B[1;32m      3\u001B[0m study \u001B[38;5;241m=\u001B[39m op\u001B[38;5;241m.\u001B[39mcreate_study(study_name\u001B[38;5;241m=\u001B[39mstudy_name, storage\u001B[38;5;241m=\u001B[39mstorage_name, direction\u001B[38;5;241m=\u001B[39m\u001B[38;5;124m\"\u001B[39m\u001B[38;5;124mmaximize\u001B[39m\u001B[38;5;124m\"\u001B[39m,load_if_exists\u001B[38;5;241m=\u001B[39m\u001B[38;5;28;01mTrue\u001B[39;00m)\n\u001B[0;32m----> 4\u001B[0m \u001B[43mstudy\u001B[49m\u001B[38;5;241;43m.\u001B[39;49m\u001B[43moptimize\u001B[49m\u001B[43m(\u001B[49m\u001B[43mobjective\u001B[49m\u001B[43m,\u001B[49m\u001B[43m \u001B[49m\u001B[43mn_trials\u001B[49m\u001B[38;5;241;43m=\u001B[39;49m\u001B[38;5;241;43m10\u001B[39;49m\u001B[43m)\u001B[49m\n",
      "File \u001B[0;32m~/RecSys-2023-polimi/venv/lib/python3.11/site-packages/optuna/study/study.py:451\u001B[0m, in \u001B[0;36mStudy.optimize\u001B[0;34m(self, func, n_trials, timeout, n_jobs, catch, callbacks, gc_after_trial, show_progress_bar)\u001B[0m\n\u001B[1;32m    348\u001B[0m \u001B[38;5;28;01mdef\u001B[39;00m \u001B[38;5;21moptimize\u001B[39m(\n\u001B[1;32m    349\u001B[0m     \u001B[38;5;28mself\u001B[39m,\n\u001B[1;32m    350\u001B[0m     func: ObjectiveFuncType,\n\u001B[0;32m   (...)\u001B[0m\n\u001B[1;32m    357\u001B[0m     show_progress_bar: \u001B[38;5;28mbool\u001B[39m \u001B[38;5;241m=\u001B[39m \u001B[38;5;28;01mFalse\u001B[39;00m,\n\u001B[1;32m    358\u001B[0m ) \u001B[38;5;241m-\u001B[39m\u001B[38;5;241m>\u001B[39m \u001B[38;5;28;01mNone\u001B[39;00m:\n\u001B[1;32m    359\u001B[0m \u001B[38;5;250m    \u001B[39m\u001B[38;5;124;03m\"\"\"Optimize an objective function.\u001B[39;00m\n\u001B[1;32m    360\u001B[0m \n\u001B[1;32m    361\u001B[0m \u001B[38;5;124;03m    Optimization is done by choosing a suitable set of hyperparameter values from a given\u001B[39;00m\n\u001B[0;32m   (...)\u001B[0m\n\u001B[1;32m    449\u001B[0m \u001B[38;5;124;03m            If nested invocation of this method occurs.\u001B[39;00m\n\u001B[1;32m    450\u001B[0m \u001B[38;5;124;03m    \"\"\"\u001B[39;00m\n\u001B[0;32m--> 451\u001B[0m     \u001B[43m_optimize\u001B[49m\u001B[43m(\u001B[49m\n\u001B[1;32m    452\u001B[0m \u001B[43m        \u001B[49m\u001B[43mstudy\u001B[49m\u001B[38;5;241;43m=\u001B[39;49m\u001B[38;5;28;43mself\u001B[39;49m\u001B[43m,\u001B[49m\n\u001B[1;32m    453\u001B[0m \u001B[43m        \u001B[49m\u001B[43mfunc\u001B[49m\u001B[38;5;241;43m=\u001B[39;49m\u001B[43mfunc\u001B[49m\u001B[43m,\u001B[49m\n\u001B[1;32m    454\u001B[0m \u001B[43m        \u001B[49m\u001B[43mn_trials\u001B[49m\u001B[38;5;241;43m=\u001B[39;49m\u001B[43mn_trials\u001B[49m\u001B[43m,\u001B[49m\n\u001B[1;32m    455\u001B[0m \u001B[43m        \u001B[49m\u001B[43mtimeout\u001B[49m\u001B[38;5;241;43m=\u001B[39;49m\u001B[43mtimeout\u001B[49m\u001B[43m,\u001B[49m\n\u001B[1;32m    456\u001B[0m \u001B[43m        \u001B[49m\u001B[43mn_jobs\u001B[49m\u001B[38;5;241;43m=\u001B[39;49m\u001B[43mn_jobs\u001B[49m\u001B[43m,\u001B[49m\n\u001B[1;32m    457\u001B[0m \u001B[43m        \u001B[49m\u001B[43mcatch\u001B[49m\u001B[38;5;241;43m=\u001B[39;49m\u001B[38;5;28;43mtuple\u001B[39;49m\u001B[43m(\u001B[49m\u001B[43mcatch\u001B[49m\u001B[43m)\u001B[49m\u001B[43m \u001B[49m\u001B[38;5;28;43;01mif\u001B[39;49;00m\u001B[43m \u001B[49m\u001B[38;5;28;43misinstance\u001B[39;49m\u001B[43m(\u001B[49m\u001B[43mcatch\u001B[49m\u001B[43m,\u001B[49m\u001B[43m \u001B[49m\u001B[43mIterable\u001B[49m\u001B[43m)\u001B[49m\u001B[43m \u001B[49m\u001B[38;5;28;43;01melse\u001B[39;49;00m\u001B[43m \u001B[49m\u001B[43m(\u001B[49m\u001B[43mcatch\u001B[49m\u001B[43m,\u001B[49m\u001B[43m)\u001B[49m\u001B[43m,\u001B[49m\n\u001B[1;32m    458\u001B[0m \u001B[43m        \u001B[49m\u001B[43mcallbacks\u001B[49m\u001B[38;5;241;43m=\u001B[39;49m\u001B[43mcallbacks\u001B[49m\u001B[43m,\u001B[49m\n\u001B[1;32m    459\u001B[0m \u001B[43m        \u001B[49m\u001B[43mgc_after_trial\u001B[49m\u001B[38;5;241;43m=\u001B[39;49m\u001B[43mgc_after_trial\u001B[49m\u001B[43m,\u001B[49m\n\u001B[1;32m    460\u001B[0m \u001B[43m        \u001B[49m\u001B[43mshow_progress_bar\u001B[49m\u001B[38;5;241;43m=\u001B[39;49m\u001B[43mshow_progress_bar\u001B[49m\u001B[43m,\u001B[49m\n\u001B[1;32m    461\u001B[0m \u001B[43m    \u001B[49m\u001B[43m)\u001B[49m\n",
      "File \u001B[0;32m~/RecSys-2023-polimi/venv/lib/python3.11/site-packages/optuna/study/_optimize.py:66\u001B[0m, in \u001B[0;36m_optimize\u001B[0;34m(study, func, n_trials, timeout, n_jobs, catch, callbacks, gc_after_trial, show_progress_bar)\u001B[0m\n\u001B[1;32m     64\u001B[0m \u001B[38;5;28;01mtry\u001B[39;00m:\n\u001B[1;32m     65\u001B[0m     \u001B[38;5;28;01mif\u001B[39;00m n_jobs \u001B[38;5;241m==\u001B[39m \u001B[38;5;241m1\u001B[39m:\n\u001B[0;32m---> 66\u001B[0m         \u001B[43m_optimize_sequential\u001B[49m\u001B[43m(\u001B[49m\n\u001B[1;32m     67\u001B[0m \u001B[43m            \u001B[49m\u001B[43mstudy\u001B[49m\u001B[43m,\u001B[49m\n\u001B[1;32m     68\u001B[0m \u001B[43m            \u001B[49m\u001B[43mfunc\u001B[49m\u001B[43m,\u001B[49m\n\u001B[1;32m     69\u001B[0m \u001B[43m            \u001B[49m\u001B[43mn_trials\u001B[49m\u001B[43m,\u001B[49m\n\u001B[1;32m     70\u001B[0m \u001B[43m            \u001B[49m\u001B[43mtimeout\u001B[49m\u001B[43m,\u001B[49m\n\u001B[1;32m     71\u001B[0m \u001B[43m            \u001B[49m\u001B[43mcatch\u001B[49m\u001B[43m,\u001B[49m\n\u001B[1;32m     72\u001B[0m \u001B[43m            \u001B[49m\u001B[43mcallbacks\u001B[49m\u001B[43m,\u001B[49m\n\u001B[1;32m     73\u001B[0m \u001B[43m            \u001B[49m\u001B[43mgc_after_trial\u001B[49m\u001B[43m,\u001B[49m\n\u001B[1;32m     74\u001B[0m \u001B[43m            \u001B[49m\u001B[43mreseed_sampler_rng\u001B[49m\u001B[38;5;241;43m=\u001B[39;49m\u001B[38;5;28;43;01mFalse\u001B[39;49;00m\u001B[43m,\u001B[49m\n\u001B[1;32m     75\u001B[0m \u001B[43m            \u001B[49m\u001B[43mtime_start\u001B[49m\u001B[38;5;241;43m=\u001B[39;49m\u001B[38;5;28;43;01mNone\u001B[39;49;00m\u001B[43m,\u001B[49m\n\u001B[1;32m     76\u001B[0m \u001B[43m            \u001B[49m\u001B[43mprogress_bar\u001B[49m\u001B[38;5;241;43m=\u001B[39;49m\u001B[43mprogress_bar\u001B[49m\u001B[43m,\u001B[49m\n\u001B[1;32m     77\u001B[0m \u001B[43m        \u001B[49m\u001B[43m)\u001B[49m\n\u001B[1;32m     78\u001B[0m     \u001B[38;5;28;01melse\u001B[39;00m:\n\u001B[1;32m     79\u001B[0m         \u001B[38;5;28;01mif\u001B[39;00m n_jobs \u001B[38;5;241m==\u001B[39m \u001B[38;5;241m-\u001B[39m\u001B[38;5;241m1\u001B[39m:\n",
      "File \u001B[0;32m~/RecSys-2023-polimi/venv/lib/python3.11/site-packages/optuna/study/_optimize.py:163\u001B[0m, in \u001B[0;36m_optimize_sequential\u001B[0;34m(study, func, n_trials, timeout, catch, callbacks, gc_after_trial, reseed_sampler_rng, time_start, progress_bar)\u001B[0m\n\u001B[1;32m    160\u001B[0m         \u001B[38;5;28;01mbreak\u001B[39;00m\n\u001B[1;32m    162\u001B[0m \u001B[38;5;28;01mtry\u001B[39;00m:\n\u001B[0;32m--> 163\u001B[0m     frozen_trial \u001B[38;5;241m=\u001B[39m \u001B[43m_run_trial\u001B[49m\u001B[43m(\u001B[49m\u001B[43mstudy\u001B[49m\u001B[43m,\u001B[49m\u001B[43m \u001B[49m\u001B[43mfunc\u001B[49m\u001B[43m,\u001B[49m\u001B[43m \u001B[49m\u001B[43mcatch\u001B[49m\u001B[43m)\u001B[49m\n\u001B[1;32m    164\u001B[0m \u001B[38;5;28;01mfinally\u001B[39;00m:\n\u001B[1;32m    165\u001B[0m     \u001B[38;5;66;03m# The following line mitigates memory problems that can be occurred in some\u001B[39;00m\n\u001B[1;32m    166\u001B[0m     \u001B[38;5;66;03m# environments (e.g., services that use computing containers such as GitHub Actions).\u001B[39;00m\n\u001B[1;32m    167\u001B[0m     \u001B[38;5;66;03m# Please refer to the following PR for further details:\u001B[39;00m\n\u001B[1;32m    168\u001B[0m     \u001B[38;5;66;03m# https://github.com/optuna/optuna/pull/325.\u001B[39;00m\n\u001B[1;32m    169\u001B[0m     \u001B[38;5;28;01mif\u001B[39;00m gc_after_trial:\n",
      "File \u001B[0;32m~/RecSys-2023-polimi/venv/lib/python3.11/site-packages/optuna/study/_optimize.py:251\u001B[0m, in \u001B[0;36m_run_trial\u001B[0;34m(study, func, catch)\u001B[0m\n\u001B[1;32m    244\u001B[0m         \u001B[38;5;28;01massert\u001B[39;00m \u001B[38;5;28;01mFalse\u001B[39;00m, \u001B[38;5;124m\"\u001B[39m\u001B[38;5;124mShould not reach.\u001B[39m\u001B[38;5;124m\"\u001B[39m\n\u001B[1;32m    246\u001B[0m \u001B[38;5;28;01mif\u001B[39;00m (\n\u001B[1;32m    247\u001B[0m     frozen_trial\u001B[38;5;241m.\u001B[39mstate \u001B[38;5;241m==\u001B[39m TrialState\u001B[38;5;241m.\u001B[39mFAIL\n\u001B[1;32m    248\u001B[0m     \u001B[38;5;129;01mand\u001B[39;00m func_err \u001B[38;5;129;01mis\u001B[39;00m \u001B[38;5;129;01mnot\u001B[39;00m \u001B[38;5;28;01mNone\u001B[39;00m\n\u001B[1;32m    249\u001B[0m     \u001B[38;5;129;01mand\u001B[39;00m \u001B[38;5;129;01mnot\u001B[39;00m \u001B[38;5;28misinstance\u001B[39m(func_err, catch)\n\u001B[1;32m    250\u001B[0m ):\n\u001B[0;32m--> 251\u001B[0m     \u001B[38;5;28;01mraise\u001B[39;00m func_err\n\u001B[1;32m    252\u001B[0m \u001B[38;5;28;01mreturn\u001B[39;00m frozen_trial\n",
      "File \u001B[0;32m~/RecSys-2023-polimi/venv/lib/python3.11/site-packages/optuna/study/_optimize.py:200\u001B[0m, in \u001B[0;36m_run_trial\u001B[0;34m(study, func, catch)\u001B[0m\n\u001B[1;32m    198\u001B[0m \u001B[38;5;28;01mwith\u001B[39;00m get_heartbeat_thread(trial\u001B[38;5;241m.\u001B[39m_trial_id, study\u001B[38;5;241m.\u001B[39m_storage):\n\u001B[1;32m    199\u001B[0m     \u001B[38;5;28;01mtry\u001B[39;00m:\n\u001B[0;32m--> 200\u001B[0m         value_or_values \u001B[38;5;241m=\u001B[39m \u001B[43mfunc\u001B[49m\u001B[43m(\u001B[49m\u001B[43mtrial\u001B[49m\u001B[43m)\u001B[49m\n\u001B[1;32m    201\u001B[0m     \u001B[38;5;28;01mexcept\u001B[39;00m exceptions\u001B[38;5;241m.\u001B[39mTrialPruned \u001B[38;5;28;01mas\u001B[39;00m e:\n\u001B[1;32m    202\u001B[0m         \u001B[38;5;66;03m# TODO(mamu): Handle multi-objective cases.\u001B[39;00m\n\u001B[1;32m    203\u001B[0m         state \u001B[38;5;241m=\u001B[39m TrialState\u001B[38;5;241m.\u001B[39mPRUNED\n",
      "Cell \u001B[0;32mIn[50], line 55\u001B[0m, in \u001B[0;36mobjective\u001B[0;34m(trial)\u001B[0m\n\u001B[1;32m     52\u001B[0m xgb\u001B[38;5;241m.\u001B[39mrecommenders \u001B[38;5;241m=\u001B[39m recommenders_t_val\n\u001B[1;32m     53\u001B[0m xgb\u001B[38;5;241m.\u001B[39mrecommenders_generate_data \u001B[38;5;241m=\u001B[39m rgd_t_val\n\u001B[0;32m---> 55\u001B[0m result, _ \u001B[38;5;241m=\u001B[39m \u001B[43mevaluator_test\u001B[49m\u001B[38;5;241;43m.\u001B[39;49m\u001B[43mevaluateRecommender\u001B[49m\u001B[43m(\u001B[49m\u001B[43mxgb\u001B[49m\u001B[43m)\u001B[49m\n\u001B[1;32m     56\u001B[0m MAP_result \u001B[38;5;241m=\u001B[39m result[\u001B[38;5;124m\"\u001B[39m\u001B[38;5;124mMAP\u001B[39m\u001B[38;5;124m\"\u001B[39m]\u001B[38;5;241m.\u001B[39mitem()\n\u001B[1;32m     57\u001B[0m \u001B[38;5;28;01mreturn\u001B[39;00m MAP_result\n",
      "File \u001B[0;32m~/RecSys-2023-polimi/Evaluation/Evaluator.py:276\u001B[0m, in \u001B[0;36mEvaluator.evaluateRecommender\u001B[0;34m(self, recommender_object)\u001B[0m\n\u001B[1;32m    273\u001B[0m \u001B[38;5;28mself\u001B[39m\u001B[38;5;241m.\u001B[39m_start_time_print \u001B[38;5;241m=\u001B[39m time\u001B[38;5;241m.\u001B[39mtime()\n\u001B[1;32m    274\u001B[0m \u001B[38;5;28mself\u001B[39m\u001B[38;5;241m.\u001B[39m_n_users_evaluated \u001B[38;5;241m=\u001B[39m \u001B[38;5;241m0\u001B[39m\n\u001B[0;32m--> 276\u001B[0m results_dict \u001B[38;5;241m=\u001B[39m \u001B[38;5;28;43mself\u001B[39;49m\u001B[38;5;241;43m.\u001B[39;49m\u001B[43m_run_evaluation_on_selected_users\u001B[49m\u001B[43m(\u001B[49m\u001B[43mrecommender_object\u001B[49m\u001B[43m,\u001B[49m\u001B[43m \u001B[49m\u001B[38;5;28;43mself\u001B[39;49m\u001B[38;5;241;43m.\u001B[39;49m\u001B[43musers_to_evaluate\u001B[49m\u001B[43m)\u001B[49m\n\u001B[1;32m    279\u001B[0m \u001B[38;5;28;01mif\u001B[39;00m \u001B[38;5;28mself\u001B[39m\u001B[38;5;241m.\u001B[39m_n_users_evaluated \u001B[38;5;241m>\u001B[39m \u001B[38;5;241m0\u001B[39m:\n\u001B[1;32m    281\u001B[0m     \u001B[38;5;28;01mfor\u001B[39;00m cutoff \u001B[38;5;129;01min\u001B[39;00m \u001B[38;5;28mself\u001B[39m\u001B[38;5;241m.\u001B[39mcutoff_list:\n",
      "File \u001B[0;32m~/RecSys-2023-polimi/Evaluation/Evaluator.py:476\u001B[0m, in \u001B[0;36mEvaluatorHoldout._run_evaluation_on_selected_users\u001B[0;34m(self, recommender_object, users_to_evaluate, block_size)\u001B[0m\n\u001B[1;32m    473\u001B[0m     user_batch_start \u001B[38;5;241m=\u001B[39m user_batch_end\n\u001B[1;32m    475\u001B[0m     \u001B[38;5;66;03m# Compute predictions for a batch of users using vectorization, much more efficient than computing it one at a time\u001B[39;00m\n\u001B[0;32m--> 476\u001B[0m     recommended_items_batch_list, scores_batch \u001B[38;5;241m=\u001B[39m \u001B[43mrecommender_object\u001B[49m\u001B[38;5;241;43m.\u001B[39;49m\u001B[43mrecommend\u001B[49m\u001B[43m(\u001B[49m\u001B[43mtest_user_batch_array\u001B[49m\u001B[43m,\u001B[49m\n\u001B[1;32m    477\u001B[0m \u001B[43m                                                              \u001B[49m\u001B[43mremove_seen_flag\u001B[49m\u001B[38;5;241;43m=\u001B[39;49m\u001B[38;5;28;43mself\u001B[39;49m\u001B[38;5;241;43m.\u001B[39;49m\u001B[43mexclude_seen\u001B[49m\u001B[43m,\u001B[49m\n\u001B[1;32m    478\u001B[0m \u001B[43m                                                              \u001B[49m\u001B[43mcutoff\u001B[49m\u001B[43m \u001B[49m\u001B[38;5;241;43m=\u001B[39;49m\u001B[43m \u001B[49m\u001B[38;5;28;43mself\u001B[39;49m\u001B[38;5;241;43m.\u001B[39;49m\u001B[43mmax_cutoff\u001B[49m\u001B[43m,\u001B[49m\n\u001B[1;32m    479\u001B[0m \u001B[43m                                                              \u001B[49m\u001B[43mremove_top_pop_flag\u001B[49m\u001B[38;5;241;43m=\u001B[39;49m\u001B[38;5;28;43;01mFalse\u001B[39;49;00m\u001B[43m,\u001B[49m\n\u001B[1;32m    480\u001B[0m \u001B[43m                                                              \u001B[49m\u001B[43mremove_custom_items_flag\u001B[49m\u001B[38;5;241;43m=\u001B[39;49m\u001B[38;5;28;43mself\u001B[39;49m\u001B[38;5;241;43m.\u001B[39;49m\u001B[43mignore_items_flag\u001B[49m\u001B[43m,\u001B[49m\n\u001B[1;32m    481\u001B[0m \u001B[43m                                                              \u001B[49m\u001B[43mreturn_scores\u001B[49m\u001B[43m \u001B[49m\u001B[38;5;241;43m=\u001B[39;49m\u001B[43m \u001B[49m\u001B[38;5;28;43;01mTrue\u001B[39;49;00m\n\u001B[1;32m    482\u001B[0m \u001B[43m                                                             \u001B[49m\u001B[43m)\u001B[49m\n\u001B[1;32m    484\u001B[0m     results_dict \u001B[38;5;241m=\u001B[39m \u001B[38;5;28mself\u001B[39m\u001B[38;5;241m.\u001B[39m_compute_metrics_on_recommendation_list(test_user_batch_array \u001B[38;5;241m=\u001B[39m test_user_batch_array,\n\u001B[1;32m    485\u001B[0m                                                  recommended_items_batch_list \u001B[38;5;241m=\u001B[39m recommended_items_batch_list,\n\u001B[1;32m    486\u001B[0m                                                  scores_batch \u001B[38;5;241m=\u001B[39m scores_batch,\n\u001B[1;32m    487\u001B[0m                                                  results_dict \u001B[38;5;241m=\u001B[39m results_dict)\n\u001B[1;32m    490\u001B[0m \u001B[38;5;28;01mreturn\u001B[39;00m results_dict\n",
      "File \u001B[0;32m~/RecSys-2023-polimi/Recommenders/BaseRecommender.py:147\u001B[0m, in \u001B[0;36mBaseRecommender.recommend\u001B[0;34m(self, user_id_array, cutoff, remove_seen_flag, items_to_compute, remove_top_pop_flag, remove_custom_items_flag, return_scores)\u001B[0m\n\u001B[1;32m    143\u001B[0m cutoff \u001B[38;5;241m=\u001B[39m \u001B[38;5;28mmin\u001B[39m(cutoff, \u001B[38;5;28mself\u001B[39m\u001B[38;5;241m.\u001B[39mURM_train\u001B[38;5;241m.\u001B[39mshape[\u001B[38;5;241m1\u001B[39m] \u001B[38;5;241m-\u001B[39m \u001B[38;5;241m1\u001B[39m)\n\u001B[1;32m    145\u001B[0m \u001B[38;5;66;03m# Compute the scores using the model-specific function\u001B[39;00m\n\u001B[1;32m    146\u001B[0m \u001B[38;5;66;03m# Vectorize over all users in user_id_array\u001B[39;00m\n\u001B[0;32m--> 147\u001B[0m scores_batch \u001B[38;5;241m=\u001B[39m \u001B[38;5;28;43mself\u001B[39;49m\u001B[38;5;241;43m.\u001B[39;49m\u001B[43m_compute_item_score\u001B[49m\u001B[43m(\u001B[49m\u001B[43muser_id_array\u001B[49m\u001B[43m,\u001B[49m\u001B[43m \u001B[49m\u001B[43mitems_to_compute\u001B[49m\u001B[38;5;241;43m=\u001B[39;49m\u001B[43mitems_to_compute\u001B[49m\u001B[43m)\u001B[49m\n\u001B[1;32m    150\u001B[0m \u001B[38;5;28;01mfor\u001B[39;00m user_index \u001B[38;5;129;01min\u001B[39;00m \u001B[38;5;28mrange\u001B[39m(\u001B[38;5;28mlen\u001B[39m(user_id_array)):\n\u001B[1;32m    152\u001B[0m     user_id \u001B[38;5;241m=\u001B[39m user_id_array[user_index]\n",
      "File \u001B[0;32m~/RecSys-2023-polimi/Recommenders/XGBoostEnsemble.py:209\u001B[0m, in \u001B[0;36mXgBoostEnsembler._compute_item_score\u001B[0;34m(self, user_id_array, items_to_compute)\u001B[0m\n\u001B[1;32m    198\u001B[0m \u001B[38;5;250m\u001B[39m\u001B[38;5;124;03m\"\"\"\u001B[39;00m\n\u001B[1;32m    199\u001B[0m \u001B[38;5;124;03mComputes the item scores for a given array of user IDs.\u001B[39;00m\n\u001B[1;32m    200\u001B[0m \n\u001B[0;32m   (...)\u001B[0m\n\u001B[1;32m    206\u001B[0m \u001B[38;5;124;03marray: The array of item scores.\u001B[39;00m\n\u001B[1;32m    207\u001B[0m \u001B[38;5;124;03m\"\"\"\u001B[39;00m\n\u001B[1;32m    208\u001B[0m n_users, n_items \u001B[38;5;241m=\u001B[39m \u001B[38;5;28mself\u001B[39m\u001B[38;5;241m.\u001B[39mURM_train\u001B[38;5;241m.\u001B[39mshape\n\u001B[0;32m--> 209\u001B[0m training_dataframe \u001B[38;5;241m=\u001B[39m \u001B[38;5;28;43mself\u001B[39;49m\u001B[38;5;241;43m.\u001B[39;49m\u001B[43m_create_training_dataframe\u001B[49m\u001B[43m(\u001B[49m\u001B[43muser_id_array\u001B[49m\u001B[43m)\u001B[49m\n\u001B[1;32m    210\u001B[0m training_dataframe \u001B[38;5;241m=\u001B[39m \u001B[38;5;28mself\u001B[39m\u001B[38;5;241m.\u001B[39m_populate_training_dataframe(training_dataframe, user_id_array)\n\u001B[1;32m    211\u001B[0m X_train \u001B[38;5;241m=\u001B[39m training_dataframe\n",
      "File \u001B[0;32m~/RecSys-2023-polimi/Recommenders/XGBoostEnsemble.py:87\u001B[0m, in \u001B[0;36mXgBoostEnsembler._create_training_dataframe\u001B[0;34m(self, users)\u001B[0m\n\u001B[1;32m     83\u001B[0m all_user_recommendations \u001B[38;5;241m=\u001B[39m np\u001B[38;5;241m.\u001B[39mzeros(\n\u001B[1;32m     84\u001B[0m     (\u001B[38;5;28mlen\u001B[39m(users), \u001B[38;5;28mself\u001B[39m\u001B[38;5;241m.\u001B[39minternal_cutoff_xgboost \u001B[38;5;241m*\u001B[39m \u001B[38;5;28mlen\u001B[39m(\u001B[38;5;28mself\u001B[39m\u001B[38;5;241m.\u001B[39mrecommenders_generate_data)), dtype\u001B[38;5;241m=\u001B[39mnp\u001B[38;5;241m.\u001B[39mint64)\n\u001B[1;32m     86\u001B[0m \u001B[38;5;28;01mfor\u001B[39;00m i, (_, rec_instance) \u001B[38;5;129;01min\u001B[39;00m \u001B[38;5;28menumerate\u001B[39m(\u001B[38;5;28mself\u001B[39m\u001B[38;5;241m.\u001B[39mrecommenders_generate_data\u001B[38;5;241m.\u001B[39mitems()):\n\u001B[0;32m---> 87\u001B[0m     recs \u001B[38;5;241m=\u001B[39m \u001B[43mrec_instance\u001B[49m\u001B[38;5;241;43m.\u001B[39;49m\u001B[43mrecommend\u001B[49m\u001B[43m(\u001B[49m\u001B[43musers\u001B[49m\u001B[43m,\u001B[49m\u001B[43m \u001B[49m\u001B[43mcutoff\u001B[49m\u001B[38;5;241;43m=\u001B[39;49m\u001B[38;5;28;43mself\u001B[39;49m\u001B[38;5;241;43m.\u001B[39;49m\u001B[43minternal_cutoff_xgboost\u001B[49m\u001B[43m)\u001B[49m\n\u001B[1;32m     88\u001B[0m     all_user_recommendations[:, i \u001B[38;5;241m*\u001B[39m \u001B[38;5;28mself\u001B[39m\u001B[38;5;241m.\u001B[39minternal_cutoff_xgboost:(i \u001B[38;5;241m+\u001B[39m \u001B[38;5;241m1\u001B[39m) \u001B[38;5;241m*\u001B[39m \u001B[38;5;28mself\u001B[39m\u001B[38;5;241m.\u001B[39minternal_cutoff_xgboost] \u001B[38;5;241m=\u001B[39m recs\n\u001B[1;32m     90\u001B[0m training_dataframe[\u001B[38;5;124m\"\u001B[39m\u001B[38;5;124mItemID\u001B[39m\u001B[38;5;124m\"\u001B[39m] \u001B[38;5;241m=\u001B[39m all_user_recommendations\u001B[38;5;241m.\u001B[39mtolist()\n",
      "File \u001B[0;32m~/RecSys-2023-polimi/Recommenders/BaseRecommender.py:169\u001B[0m, in \u001B[0;36mBaseRecommender.recommend\u001B[0;34m(self, user_id_array, cutoff, remove_seen_flag, items_to_compute, remove_top_pop_flag, remove_custom_items_flag, return_scores)\u001B[0m\n\u001B[1;32m    162\u001B[0m     scores_batch \u001B[38;5;241m=\u001B[39m \u001B[38;5;28mself\u001B[39m\u001B[38;5;241m.\u001B[39m_remove_custom_items_on_scores(scores_batch)\n\u001B[1;32m    164\u001B[0m \u001B[38;5;66;03m# Sorting is done in three steps. Faster then plain np.argsort for higher number of items\u001B[39;00m\n\u001B[1;32m    165\u001B[0m \u001B[38;5;66;03m# - Partition the data to extract the set of relevant items\u001B[39;00m\n\u001B[1;32m    166\u001B[0m \u001B[38;5;66;03m# - Sort only the relevant items\u001B[39;00m\n\u001B[1;32m    167\u001B[0m \u001B[38;5;66;03m# - Get the original item index\u001B[39;00m\n\u001B[1;32m    168\u001B[0m \u001B[38;5;66;03m# relevant_items_partition is block_size x cutoff\u001B[39;00m\n\u001B[0;32m--> 169\u001B[0m relevant_items_partition \u001B[38;5;241m=\u001B[39m \u001B[43mnp\u001B[49m\u001B[38;5;241;43m.\u001B[39;49m\u001B[43margpartition\u001B[49m\u001B[43m(\u001B[49m\u001B[38;5;241;43m-\u001B[39;49m\u001B[43mscores_batch\u001B[49m\u001B[43m,\u001B[49m\u001B[43m \u001B[49m\u001B[43mcutoff\u001B[49m\u001B[38;5;241;43m-\u001B[39;49m\u001B[38;5;241;43m1\u001B[39;49m\u001B[43m,\u001B[49m\u001B[43m \u001B[49m\u001B[43maxis\u001B[49m\u001B[38;5;241;43m=\u001B[39;49m\u001B[38;5;241;43m1\u001B[39;49m\u001B[43m)\u001B[49m[:,\u001B[38;5;241m0\u001B[39m:cutoff]\n\u001B[1;32m    171\u001B[0m \u001B[38;5;66;03m# Get original value and sort it\u001B[39;00m\n\u001B[1;32m    172\u001B[0m \u001B[38;5;66;03m# [:, None] adds 1 dimension to the array, from (block_size,) to (block_size,1)\u001B[39;00m\n\u001B[1;32m    173\u001B[0m \u001B[38;5;66;03m# This is done to correctly get scores_batch value as [row, relevant_items_partition[row,:]]\u001B[39;00m\n\u001B[1;32m    174\u001B[0m relevant_items_partition_original_value \u001B[38;5;241m=\u001B[39m scores_batch[np\u001B[38;5;241m.\u001B[39marange(scores_batch\u001B[38;5;241m.\u001B[39mshape[\u001B[38;5;241m0\u001B[39m])[:, \u001B[38;5;28;01mNone\u001B[39;00m], relevant_items_partition]\n",
      "File \u001B[0;32m<__array_function__ internals>:180\u001B[0m, in \u001B[0;36margpartition\u001B[0;34m(*args, **kwargs)\u001B[0m\n",
      "File \u001B[0;32m~/RecSys-2023-polimi/venv/lib/python3.11/site-packages/numpy/core/fromnumeric.py:845\u001B[0m, in \u001B[0;36margpartition\u001B[0;34m(a, kth, axis, kind, order)\u001B[0m\n\u001B[1;32m    766\u001B[0m \u001B[38;5;129m@array_function_dispatch\u001B[39m(_argpartition_dispatcher)\n\u001B[1;32m    767\u001B[0m \u001B[38;5;28;01mdef\u001B[39;00m \u001B[38;5;21margpartition\u001B[39m(a, kth, axis\u001B[38;5;241m=\u001B[39m\u001B[38;5;241m-\u001B[39m\u001B[38;5;241m1\u001B[39m, kind\u001B[38;5;241m=\u001B[39m\u001B[38;5;124m'\u001B[39m\u001B[38;5;124mintroselect\u001B[39m\u001B[38;5;124m'\u001B[39m, order\u001B[38;5;241m=\u001B[39m\u001B[38;5;28;01mNone\u001B[39;00m):\n\u001B[1;32m    768\u001B[0m \u001B[38;5;250m    \u001B[39m\u001B[38;5;124;03m\"\"\"\u001B[39;00m\n\u001B[1;32m    769\u001B[0m \u001B[38;5;124;03m    Perform an indirect partition along the given axis using the\u001B[39;00m\n\u001B[1;32m    770\u001B[0m \u001B[38;5;124;03m    algorithm specified by the `kind` keyword. It returns an array of\u001B[39;00m\n\u001B[0;32m   (...)\u001B[0m\n\u001B[1;32m    843\u001B[0m \n\u001B[1;32m    844\u001B[0m \u001B[38;5;124;03m    \"\"\"\u001B[39;00m\n\u001B[0;32m--> 845\u001B[0m     \u001B[38;5;28;01mreturn\u001B[39;00m \u001B[43m_wrapfunc\u001B[49m\u001B[43m(\u001B[49m\u001B[43ma\u001B[49m\u001B[43m,\u001B[49m\u001B[43m \u001B[49m\u001B[38;5;124;43m'\u001B[39;49m\u001B[38;5;124;43margpartition\u001B[39;49m\u001B[38;5;124;43m'\u001B[39;49m\u001B[43m,\u001B[49m\u001B[43m \u001B[49m\u001B[43mkth\u001B[49m\u001B[43m,\u001B[49m\u001B[43m \u001B[49m\u001B[43maxis\u001B[49m\u001B[38;5;241;43m=\u001B[39;49m\u001B[43maxis\u001B[49m\u001B[43m,\u001B[49m\u001B[43m \u001B[49m\u001B[43mkind\u001B[49m\u001B[38;5;241;43m=\u001B[39;49m\u001B[43mkind\u001B[49m\u001B[43m,\u001B[49m\u001B[43m \u001B[49m\u001B[43morder\u001B[49m\u001B[38;5;241;43m=\u001B[39;49m\u001B[43morder\u001B[49m\u001B[43m)\u001B[49m\n",
      "File \u001B[0;32m~/RecSys-2023-polimi/venv/lib/python3.11/site-packages/numpy/core/fromnumeric.py:57\u001B[0m, in \u001B[0;36m_wrapfunc\u001B[0;34m(obj, method, *args, **kwds)\u001B[0m\n\u001B[1;32m     54\u001B[0m     \u001B[38;5;28;01mreturn\u001B[39;00m _wrapit(obj, method, \u001B[38;5;241m*\u001B[39margs, \u001B[38;5;241m*\u001B[39m\u001B[38;5;241m*\u001B[39mkwds)\n\u001B[1;32m     56\u001B[0m \u001B[38;5;28;01mtry\u001B[39;00m:\n\u001B[0;32m---> 57\u001B[0m     \u001B[38;5;28;01mreturn\u001B[39;00m \u001B[43mbound\u001B[49m\u001B[43m(\u001B[49m\u001B[38;5;241;43m*\u001B[39;49m\u001B[43margs\u001B[49m\u001B[43m,\u001B[49m\u001B[43m \u001B[49m\u001B[38;5;241;43m*\u001B[39;49m\u001B[38;5;241;43m*\u001B[39;49m\u001B[43mkwds\u001B[49m\u001B[43m)\u001B[49m\n\u001B[1;32m     58\u001B[0m \u001B[38;5;28;01mexcept\u001B[39;00m \u001B[38;5;167;01mTypeError\u001B[39;00m:\n\u001B[1;32m     59\u001B[0m     \u001B[38;5;66;03m# A TypeError occurs if the object does have such a method in its\u001B[39;00m\n\u001B[1;32m     60\u001B[0m     \u001B[38;5;66;03m# class, but its signature is not identical to that of NumPy's. This\u001B[39;00m\n\u001B[0;32m   (...)\u001B[0m\n\u001B[1;32m     64\u001B[0m     \u001B[38;5;66;03m# Call _wrapit from within the except clause to ensure a potential\u001B[39;00m\n\u001B[1;32m     65\u001B[0m     \u001B[38;5;66;03m# exception has a traceback chain.\u001B[39;00m\n\u001B[1;32m     66\u001B[0m     \u001B[38;5;28;01mreturn\u001B[39;00m _wrapit(obj, method, \u001B[38;5;241m*\u001B[39margs, \u001B[38;5;241m*\u001B[39m\u001B[38;5;241m*\u001B[39mkwds)\n",
      "\u001B[0;31mKeyboardInterrupt\u001B[0m: "
     ]
    }
   ],
   "source": [
    "study_name = \"XGB-1-study-test\"  # Unique identifier of the study.\n",
    "storage_name = \"sqlite:///db.db\"\n",
    "study = op.create_study(study_name=study_name, storage=storage_name, direction=\"maximize\",load_if_exists=True)\n",
    "study.optimize(objective, n_trials=10)\n",
    "# 216"
   ],
   "metadata": {
    "collapsed": false,
    "ExecuteTime": {
     "end_time": "2024-01-05T23:39:24.441957Z",
     "start_time": "2024-01-05T23:34:32.414412Z"
    }
   },
   "id": "7ae4f838184cfe89",
   "execution_count": 53
  },
  {
   "cell_type": "code",
   "outputs": [
    {
     "name": "stdout",
     "output_type": "stream",
     "text": [
      "EvaluatorHoldout: Processed 10435 (100.0%) in 9.09 sec. Users per second: 1149\n"
     ]
    },
    {
     "data": {
      "text/plain": "(       PRECISION PRECISION_RECALL_MIN_DEN    RECALL       MAP MAP_MIN_DEN  \\\n cutoff                                                                      \n 10      0.088241                  0.15575  0.131781  0.044584    0.076553   \n \n              MRR      NDCG        F1 HIT_RATE ARHR_ALL_HITS  ...  \\\n cutoff                                                       ...   \n 10      0.259631  0.140746  0.105703  0.50666       0.33643  ...   \n \n        COVERAGE_USER COVERAGE_USER_HIT USERS_IN_GT DIVERSITY_GINI  \\\n cutoff                                                              \n 10          0.825684          0.418342    0.825684       0.024596   \n \n        SHANNON_ENTROPY RATIO_DIVERSITY_HERFINDAHL RATIO_DIVERSITY_GINI  \\\n cutoff                                                                   \n 10            8.750562                   0.991364              0.07056   \n \n        RATIO_SHANNON_ENTROPY RATIO_AVERAGE_POPULARITY RATIO_NOVELTY  \n cutoff                                                               \n 10                  0.674129                 2.887194      0.262189  \n \n [1 rows x 27 columns],\n 'CUTOFF: 10 - PRECISION: 0.0882415, PRECISION_RECALL_MIN_DEN: 0.1557504, RECALL: 0.1317810, MAP: 0.0445837, MAP_MIN_DEN: 0.0765530, MRR: 0.2596306, NDCG: 0.1407459, F1: 0.1057033, HIT_RATE: 0.5066603, ARHR_ALL_HITS: 0.3364300, NOVELTY: 0.0046411, AVERAGE_POPULARITY: 0.3672106, DIVERSITY_MEAN_INTER_LIST: 0.9101404, DIVERSITY_HERFINDAHL: 0.9910053, COVERAGE_ITEM: 0.1800468, COVERAGE_ITEM_HIT: 0.0753308, ITEMS_IN_GT: 0.8012330, COVERAGE_USER: 0.8256844, COVERAGE_USER_HIT: 0.4183415, USERS_IN_GT: 0.8256844, DIVERSITY_GINI: 0.0245961, SHANNON_ENTROPY: 8.7505619, RATIO_DIVERSITY_HERFINDAHL: 0.9913640, RATIO_DIVERSITY_GINI: 0.0705596, RATIO_SHANNON_ENTROPY: 0.6741295, RATIO_AVERAGE_POPULARITY: 2.8871941, RATIO_NOVELTY: 0.2621886, \\n')"
     },
     "execution_count": 52,
     "metadata": {},
     "output_type": "execute_result"
    }
   ],
   "source": [
    "evaluator_test.evaluateRecommender(lint_t_val)"
   ],
   "metadata": {
    "collapsed": false,
    "ExecuteTime": {
     "end_time": "2024-01-05T23:34:18.955248Z",
     "start_time": "2024-01-05T23:34:09.850421Z"
    }
   },
   "id": "b5bf1dfb3158e0d4",
   "execution_count": 52
  },
  {
   "cell_type": "code",
   "outputs": [
    {
     "name": "stdout",
     "output_type": "stream",
     "text": [
      "XgBoostEnsembler: URM Detected 205 ( 1.6%) users with no interactions.\n",
      "XgBoostEnsembler: URM Detected 109 ( 0.5%) items with no interactions.\n",
      "Creating training dataframe...\n",
      "Populating training dataframe with labels...\n",
      "Percentage of positive samples: 8.21%\n",
      "Populating training dataframe with item scores...\n"
     ]
    },
    {
     "name": "stderr",
     "output_type": "stream",
     "text": [
      "100%|██████████| 8/8 [00:09<00:00,  1.24s/it]\n"
     ]
    },
    {
     "name": "stdout",
     "output_type": "stream",
     "text": [
      "MSE: 0.36\n"
     ]
    },
    {
     "data": {
      "text/plain": "<Figure size 640x480 with 1 Axes>",
      "image/png": "[encoded data removed]"
     },
     "metadata": {},
     "output_type": "display_data"
    }
   ],
   "source": [
    "xgb = XgBoostEnsembler(URM_train_validation, URM_val=URM_test, recommenders=recommenders_t_val, recommenders_generate_data=rgd_t_val, internal_cutoff_xgboost=10)\n",
    "params = {\n",
    "    'objective': 'rank:pairwise',\n",
    "    'n_estimators': 798,\n",
    "    'learning_rate': 0.005475198763293265,\n",
    "    'booster': 'gblinear',\n",
    "    'reg_lambda': 1.5579294735565626e-08,\n",
    "    'reg_alpha': 9.59987912675069e-07,\n",
    "}\n",
    "xgb.fit(xgb_ranker_params=params, prepare_training_df=True, plot=True)"
   ],
   "metadata": {
    "collapsed": false,
    "ExecuteTime": {
     "end_time": "2024-01-05T21:56:53.565694Z",
     "start_time": "2024-01-05T21:56:31.966084Z"
    }
   },
   "id": "938603aad417b01c",
   "execution_count": 43
  },
  {
   "cell_type": "code",
   "execution_count": null,
   "outputs": [],
   "source": [
    "from Data_manager.UserUtils import getURM_all\n",
    "from Hybrid import *\n",
    "from Recommenders.SLIM.SLIMElasticNetRecommender import SLIMElasticNetRecommender\n",
    "from Recommenders.MatrixFactorization.PureSVDRecommender import PureSVDRecommender\n",
    "from Recommenders.GraphBased.P3alphaRecommender import P3alphaRecommender\n",
    "from Recommenders.GraphBased.RP3betaRecommender import RP3betaRecommender\n",
    "from Recommenders.KNN.UserKNNCFRecommender import UserKNNCFRecommender\n",
    "from Recommenders.KNN.ItemKNNCFRecommender import ItemKNNCFRecommender\n",
    "from Recommenders.EASE_R.EASE_R_Recommender import EASE_R_Recommender\n",
    "from Recommenders.MatrixFactorization.IALSRecommender import IALSRecommender\n",
    "from Recommenders.Neural.MultVAERecommender import MultVAERecommender_OptimizerMask\n",
    "\n",
    "URM_all = getURM_all()\n",
    "hybrid_all = HybridRecommender(URM_all)\n",
    "mv_all = MultVAERecommender_OptimizerMask(URM_all)\n",
    "mv_all.load_model(\"slim_models/\", \"MultVAE_all_opt_300\")\n",
    "ials_all = IALSRecommender(URM_all)\n",
    "ials_all.load_model(\"slim_models/\", \"IALS_all\")\n",
    "hybrid_all.MV_recommender = mv_all\n",
    "hybrid_all.IALS_recommender = ials_all\n",
    "recommenders_all = {\"Hybrid\": hybrid_all, \n",
    "                    \"SLIM\": SLIMElasticNetRecommender(URM_all),\n",
    "                    \"RP3beta\": RP3betaRecommender(URM_all), \n",
    "                    \"UserKNN\": UserKNNCFRecommender(URM_all),\n",
    "                    \"ItemKNN\": ItemKNNCFRecommender(URM_all), \n",
    "                    \"EASE_R\": EASE_R_Recommender(URM_all), \n",
    "                    #\"PureSVD\": PureSVDRecommender(URM_all), \n",
    "                    \"P3alpha\": P3alphaRecommender(URM_all), \n",
    "                    \"MULTVAE\": mv_all,\n",
    "                    \"IALS\": ials_all,\n",
    "                    }\n",
    "recommenders_all[\"SLIM\"].load_model(\"slim_models/\", \"slim_24\")\n",
    "recommenders_all[\"RP3beta\"].fit(alpha=0.20026352123406477, beta=0.15999879728761354, topK=32)\n",
    "recommenders_all[\"UserKNN\"].fit(topK=469, shrink=38, similarity='asymmetric', normalize=True,\n",
    "                                       feature_weighting='TF-IDF', asymmetric_alpha=0.40077406933762383)\n",
    "recommenders_all[\"ItemKNN\"].fit(topK=31, shrink=435, similarity='tversky', normalize=True,\n",
    "                                       feature_weighting='BM25', tversky_alpha=0.17113169506422393, tversky_beta=0.5684024974085575)\n",
    "recommenders_all[\"EASE_R\"].load_model(\"slim_models/\", \"ease_all\")\n",
    "recommenders_all[\"P3alpha\"].fit(topK=76, alpha=0.377201600381895, normalize_similarity=True)\n",
    "\n",
    "recommenders_all[\"H_LI\"] = LinearHybridRecommender(URM_all, [recommenders_all[\"SLIM\"], recommenders_all[\"RP3beta\"], recommenders_all[\"UserKNN\"], recommenders_all[\"EASE_R\"]])\n",
    "recommenders_all[\"H_LI\"].fit(alphas=[0.8857667100747117, 0.6379807942443021, 0.0690929184825888, 0.11953478623354052])\n",
    "recommenders_all[\"H_HI\"] = TwoScoresHybridRecommender(URM_all, recommenders_all[\"SLIM\"], recommenders_all[\"RP3beta\"])\n",
    "recommenders_all[\"H_HI\"].fit(alpha=0.6201320790279279)"
   ],
   "metadata": {
    "collapsed": false
   },
   "id": "aafbb39de8789bf6"
  },
  {
   "cell_type": "code",
   "outputs": [
    {
     "data": {
      "text/plain": "<Hybrid.HybridRecommender at 0x2a57272d0>"
     },
     "execution_count": 83,
     "metadata": {},
     "output_type": "execute_result"
    }
   ],
   "source": [
    "recommenders_all.pop(\"H_LI\")\n",
    "recommenders_all.pop(\"H_HI\")\n",
    "recommenders_all.pop(\"Hybrid\")"
   ],
   "metadata": {
    "collapsed": false,
    "ExecuteTime": {
     "end_time": "2024-01-04T23:53:19.572302Z",
     "start_time": "2024-01-04T23:53:19.559459Z"
    }
   },
   "id": "e4b295562f2b2dac",
   "execution_count": 83
  },
  {
   "cell_type": "code",
   "outputs": [],
   "source": [
    "rgd_all = {\n",
    "    \"H_HI\": TwoScoresHybridRecommender(URM_all, recommenders_all[\"SLIM\"], recommenders_all[\"RP3beta\"])\n",
    "}\n",
    "rgd_all[\"H_HI\"].fit(alpha=0.6201320790279279)"
   ],
   "metadata": {
    "collapsed": false,
    "ExecuteTime": {
     "end_time": "2024-01-04T23:54:34.695799Z",
     "start_time": "2024-01-04T23:54:34.678685Z"
    }
   },
   "id": "a0a34cf453e0ce91",
   "execution_count": 84
  },
  {
   "cell_type": "code",
   "outputs": [],
   "source": [
    "xgb.recommenders = recommenders_all\n",
    "xgb.recommenders_generate_data = rgd_all"
   ],
   "metadata": {
    "collapsed": false,
    "ExecuteTime": {
     "end_time": "2024-01-04T23:54:45.859955Z",
     "start_time": "2024-01-04T23:54:45.839800Z"
    }
   },
   "id": "e77954f66782dcfd",
   "execution_count": 85
  },
  {
   "cell_type": "code",
   "outputs": [],
   "source": [
    "import pandas as pd\n",
    "URM_path = \"data_train.csv\"\n",
    "URM_all_dataframe = pd.read_csv(filepath_or_buffer=URM_path,\n",
    "                                sep=\",\",\n",
    "                                # header=None,\n",
    "                                dtype={0: int, 1: int, 2: int},\n",
    "                                engine='python')\n",
    "\n",
    "URM_all_dataframe.columns = [\"UserID\", \"ItemID\", \"Interaction\"]\n",
    "import scipy.sparse as sps\n",
    "\n",
    "mapped_id, original_id = pd.factorize(URM_all_dataframe[\"UserID\"].unique())\n",
    "user_original_ID_to_index = pd.Series(mapped_id, index=original_id)\n",
    "\n",
    "mapped_id, original_id = pd.factorize(URM_all_dataframe[\"ItemID\"].unique())\n",
    "item_original_ID_to_index = pd.Series(mapped_id, index=original_id)"
   ],
   "metadata": {
    "collapsed": false,
    "ExecuteTime": {
     "end_time": "2024-01-04T23:55:00.962878Z",
     "start_time": "2024-01-04T23:54:59.827008Z"
    }
   },
   "id": "ae6831adcbfa1554",
   "execution_count": 86
  },
  {
   "cell_type": "code",
   "outputs": [],
   "source": [
    "from Recommenders.MatrixFactorization.IALSRecommender import IALSRecommender\n",
    "from Recommenders.EASE_R.EASE_R_Recommender import EASE_R_Recommender\n",
    "from Recommenders.KNN.UserKNNCFRecommender import UserKNNCFRecommender\n",
    "from Hybrid import *\n",
    "from Recommenders.Neural.MultVAERecommender import MultVAERecommender_OptimizerMask\n",
    "from Data_manager.UserUtils import *\n",
    "import pandas as pd\n",
    "import numpy as np\n",
    "\n",
    "low_cutoff = 1\n",
    "hi_cutoff = 3\n",
    "# Load the CSV file\n",
    "file_path = 'submission_hybrids_14231.csv'\n",
    "df = pd.read_csv(file_path)\n",
    "\n",
    "URM_all = getURM_all()\n",
    "users_few_iterations = URM_all.sum(axis=1)  \n",
    "users_few_iterations = np.array(users_few_iterations).squeeze()\n",
    "# users_few_iterations = np.where(np.logical_and(users_few_iterations > low_cutoff, users_few_iterations < hi_cutoff))[0]\n",
    "users_few_iterations = np.where(users_few_iterations > 13)[0]\n",
    "\n",
    "slim = SLIMElasticNetRecommender(URM_all)\n",
    "slim.load_model(folder_path=\"slim_models/\", file_name=\"slim_24\")\n",
    "rp3 = RP3betaRecommender(URM_all)\n",
    "rp3.fit(alpha=0.20026352123406477, beta=0.15999879728761354, topK=32)\n",
    "itemknn = ItemKNNCFRecommender(URM_all)\n",
    "itemknn.fit(topK=31, shrink=435, similarity='tversky', normalize=True,\n",
    "                                       feature_weighting='BM25', tversky_alpha=0.17113169506422393, tversky_beta=0.5684024974085575)\n",
    "userknn = UserKNNCFRecommender(URM_all)\n",
    "userknn.fit(topK=469, shrink=38, similarity='asymmetric', normalize=True,\n",
    "                                       feature_weighting='TF-IDF', asymmetric_alpha=0.40077406933762383)\n",
    "knn = TwoScoresHybridRecommender(URM_all, userknn, itemknn)\n",
    "knn.fit(alpha=0.022195783788315104)\n",
    "\n",
    "ease = EASE_R_Recommender(URM_all)\n",
    "ease.load_model(folder_path=\"slim_models/\", file_name=\"ease_all\")\n",
    "\n",
    "# top = ScoresHybridRecommender(URM_all, slim, rp3, itemknn)\n",
    "# top.fit(alpha=0.5072513954300486, beta=0.30902582824263064)\n",
    "\n",
    "\n",
    "h = LinearHybridRecommender(URM_all, [slim, rp3, knn, ease])\n",
    "h.fit(alphas=[0.8857667100747117, 0.6379807942443021, 0.0690929184825888, 0.11953478623354052])\n",
    "\n",
    "mv = MultVAERecommender_OptimizerMask(URM_all)\n",
    "mv.load_model(folder_path=\"slim_models/\", file_name=\"MultVAE_all_opt_300\")\n",
    "# epochs = 350\n",
    "# mv.fit(epochs=epochs, learning_rate=0.0002229220517428562, l2_reg=1.7199457884691567e-05, dropout=0.5397666797136971, total_anneal_steps=134713, anneal_cap=0.20025495518554443,batch_size=512,encoding_size=460,next_layer_size_multiplier=10,max_n_hidden_layers=4, max_parameters=3000000000.0)\n",
    "\n",
    "ials = IALSRecommender(URM_all)\n",
    "ials.load_model(folder_path=\"slim_models/\", file_name=\"IALS_all\")\n",
    "\n",
    "# top = ScoresHybridRecommender(URM_all, knn, mv, ials)\n",
    "# top.fit(alpha=0.7509279131476281, beta=0.028318614437090585)\n",
    "\n",
    "# top = TwoScoresHybridRecommender(URM_all, slim, rp3)\n",
    "# top.fit(alpha=0.6201320790279279)\n",
    "# \n",
    "# top = LinearHybridRecommender(URM_all, [h, ials])\n",
    "# top.fit(alphas=[0.9571032903283305, 0.04813884608839388])\n",
    "\n",
    "top = xgb\n",
    "\n",
    "item_index_to_original_id = item_original_ID_to_index.reset_index().set_index(0).to_numpy().reshape(-1)\n",
    "\n",
    "update_dict = {}\n",
    "for user_id in users_few_iterations:\n",
    "    recommendations = [item_index_to_original_id[index] for index in top.recommend(user_id, cutoff=10)]\n",
    "    recommendations = \" \".join(str(x) for x in recommendations)\n",
    "    user_original = user_original_ID_to_index.reset_index().set_index(0).to_numpy().reshape(-1)[user_id]\n",
    "    update_dict[user_original] = recommendations"
   ],
   "metadata": {
    "collapsed": false
   },
   "id": "de5f91aa85e55512"
  },
  {
   "cell_type": "code",
   "outputs": [],
   "source": [
    "# Update the item_list for the specified userIDs\n",
    "for user_id, new_item_list in update_dict.items():\n",
    "    df.loc[df['user_id'] == user_id, 'item_list'] = new_item_list\n",
    "\n",
    "# Save the updated dataframe back to a CSV file\n",
    "df.to_csv('updated_submission.csv', index=False)"
   ],
   "metadata": {
    "collapsed": false
   },
   "id": "81583f32cb29c920"
  },
  {
   "cell_type": "code",
   "execution_count": null,
   "outputs": [],
   "source": [
    "hybrid_all.fit()"
   ],
   "metadata": {
    "collapsed": false,
    "is_executing": true,
    "ExecuteTime": {
     "start_time": "2024-01-03T23:59:53.899368Z"
    }
   },
   "id": "984ab65913f16d84"
  },
  {
   "cell_type": "code",
   "execution_count": 3,
   "outputs": [],
   "source": [
    "dict_r_all = {\n",
    "    \"Hybrid\": hybrid_all,\n",
    "}"
   ],
   "metadata": {
    "collapsed": false,
    "ExecuteTime": {
     "end_time": "2024-01-03T23:58:55.906362Z",
     "start_time": "2024-01-03T23:58:55.903824Z"
    }
   },
   "id": "a0f034404d7f8c38"
  },
  {
   "cell_type": "code",
   "execution_count": 6,
   "outputs": [],
   "source": [
    "from Recommenders.XGBoostEnsemble import XgBoostEnsembler\n",
    "main_recommender_all = \"Hybrid\"\n",
    "XGBoostRecommender_all = XgBoostEnsembler(URM_all, URM_val=URM_test, recommenders=recommenders_all, recommenders_generate_data=dict_r_all, internal_cutoff_xgboost=30)"
   ],
   "metadata": {
    "collapsed": false,
    "ExecuteTime": {
     "end_time": "2024-01-03T23:59:21.623804Z",
     "start_time": "2024-01-03T23:59:21.616559Z"
    }
   },
   "id": "777ac588cccc78a2"
  },
  {
   "cell_type": "code",
   "execution_count": 7,
   "outputs": [
    {
     "name": "stdout",
     "output_type": "stream",
     "text": [
      "Creating training dataframe...\n"
     ]
    },
    {
     "ename": "AttributeError",
     "evalue": "'HybridRecommender' object has no attribute 'hybrid_li'",
     "output_type": "error",
     "traceback": [
      "\u001B[0;31m---------------------------------------------------------------------------\u001B[0m",
      "\u001B[0;31mAttributeError\u001B[0m                            Traceback (most recent call last)",
      "Cell \u001B[0;32mIn[7], line 12\u001B[0m\n\u001B[1;32m      1\u001B[0m xgb_ranker_params \u001B[38;5;241m=\u001B[39m {\n\u001B[1;32m      2\u001B[0m     \u001B[38;5;124m\"\u001B[39m\u001B[38;5;124mn_estimators\u001B[39m\u001B[38;5;124m\"\u001B[39m: \u001B[38;5;241m50\u001B[39m,\n\u001B[1;32m      3\u001B[0m     \u001B[38;5;124m\"\u001B[39m\u001B[38;5;124mlearning_rate\u001B[39m\u001B[38;5;124m\"\u001B[39m: \u001B[38;5;241m1e-1\u001B[39m,\n\u001B[0;32m   (...)\u001B[0m\n\u001B[1;32m     10\u001B[0m     \u001B[38;5;124m\"\u001B[39m\u001B[38;5;124mbooster\u001B[39m\u001B[38;5;124m\"\u001B[39m: \u001B[38;5;124m\"\u001B[39m\u001B[38;5;124mgbtree\u001B[39m\u001B[38;5;124m\"\u001B[39m,\n\u001B[1;32m     11\u001B[0m }\n\u001B[0;32m---> 12\u001B[0m \u001B[43mXGBoostRecommender_all\u001B[49m\u001B[38;5;241;43m.\u001B[39;49m\u001B[43mfit\u001B[49m\u001B[43m(\u001B[49m\u001B[43mxgb_ranker_params\u001B[49m\u001B[38;5;241;43m=\u001B[39;49m\u001B[43mxgb_ranker_params\u001B[49m\u001B[43m,\u001B[49m\u001B[43m \u001B[49m\u001B[43mplot\u001B[49m\u001B[38;5;241;43m=\u001B[39;49m\u001B[38;5;28;43;01mTrue\u001B[39;49;00m\u001B[43m)\u001B[49m\n",
      "File \u001B[0;32m~/RecSys-2023-polimi/Recommenders/XGBoostEnsemble.py:156\u001B[0m, in \u001B[0;36mXgBoostEnsembler.fit\u001B[0;34m(self, xgb_ranker_params, plot, prepare_training_df)\u001B[0m\n\u001B[1;32m    154\u001B[0m \u001B[38;5;28;01mif\u001B[39;00m prepare_training_df \u001B[38;5;129;01mor\u001B[39;00m \u001B[38;5;28mself\u001B[39m\u001B[38;5;241m.\u001B[39mtraining_dataframe \u001B[38;5;129;01mis\u001B[39;00m \u001B[38;5;28;01mNone\u001B[39;00m:\n\u001B[1;32m    155\u001B[0m     n_users, n_items \u001B[38;5;241m=\u001B[39m \u001B[38;5;28mself\u001B[39m\u001B[38;5;241m.\u001B[39mURM_train\u001B[38;5;241m.\u001B[39mshape\n\u001B[0;32m--> 156\u001B[0m     training_dataframe \u001B[38;5;241m=\u001B[39m \u001B[38;5;28;43mself\u001B[39;49m\u001B[38;5;241;43m.\u001B[39;49m\u001B[43m_create_training_dataframe\u001B[49m\u001B[43m(\u001B[49m\u001B[38;5;28;43mrange\u001B[39;49m\u001B[43m(\u001B[49m\u001B[43mn_users\u001B[49m\u001B[43m)\u001B[49m\u001B[43m)\u001B[49m\n\u001B[1;32m    157\u001B[0m     training_dataframe \u001B[38;5;241m=\u001B[39m \u001B[38;5;28mself\u001B[39m\u001B[38;5;241m.\u001B[39m_populate_training_dataframe_label(training_dataframe)\n\u001B[1;32m    158\u001B[0m     \u001B[38;5;28mself\u001B[39m\u001B[38;5;241m.\u001B[39mtraining_dataframe \u001B[38;5;241m=\u001B[39m \u001B[38;5;28mself\u001B[39m\u001B[38;5;241m.\u001B[39m_populate_training_dataframe(training_dataframe, \u001B[38;5;28mrange\u001B[39m(n_users))\n",
      "File \u001B[0;32m~/RecSys-2023-polimi/Recommenders/XGBoostEnsemble.py:87\u001B[0m, in \u001B[0;36mXgBoostEnsembler._create_training_dataframe\u001B[0;34m(self, users)\u001B[0m\n\u001B[1;32m     83\u001B[0m all_user_recommendations \u001B[38;5;241m=\u001B[39m np\u001B[38;5;241m.\u001B[39mzeros(\n\u001B[1;32m     84\u001B[0m     (\u001B[38;5;28mlen\u001B[39m(users), \u001B[38;5;28mself\u001B[39m\u001B[38;5;241m.\u001B[39minternal_cutoff_xgboost \u001B[38;5;241m*\u001B[39m \u001B[38;5;28mlen\u001B[39m(\u001B[38;5;28mself\u001B[39m\u001B[38;5;241m.\u001B[39mrecommenders_generate_data)), dtype\u001B[38;5;241m=\u001B[39mnp\u001B[38;5;241m.\u001B[39mint64)\n\u001B[1;32m     86\u001B[0m \u001B[38;5;28;01mfor\u001B[39;00m i, (_, rec_instance) \u001B[38;5;129;01min\u001B[39;00m \u001B[38;5;28menumerate\u001B[39m(\u001B[38;5;28mself\u001B[39m\u001B[38;5;241m.\u001B[39mrecommenders_generate_data\u001B[38;5;241m.\u001B[39mitems()):\n\u001B[0;32m---> 87\u001B[0m     recs \u001B[38;5;241m=\u001B[39m \u001B[43mrec_instance\u001B[49m\u001B[38;5;241;43m.\u001B[39;49m\u001B[43mrecommend\u001B[49m\u001B[43m(\u001B[49m\u001B[43musers\u001B[49m\u001B[43m,\u001B[49m\u001B[43m \u001B[49m\u001B[43mcutoff\u001B[49m\u001B[38;5;241;43m=\u001B[39;49m\u001B[38;5;28;43mself\u001B[39;49m\u001B[38;5;241;43m.\u001B[39;49m\u001B[43minternal_cutoff_xgboost\u001B[49m\u001B[43m)\u001B[49m\n\u001B[1;32m     88\u001B[0m     all_user_recommendations[:, i \u001B[38;5;241m*\u001B[39m \u001B[38;5;28mself\u001B[39m\u001B[38;5;241m.\u001B[39minternal_cutoff_xgboost:(i \u001B[38;5;241m+\u001B[39m \u001B[38;5;241m1\u001B[39m) \u001B[38;5;241m*\u001B[39m \u001B[38;5;28mself\u001B[39m\u001B[38;5;241m.\u001B[39minternal_cutoff_xgboost] \u001B[38;5;241m=\u001B[39m recs\n\u001B[1;32m     90\u001B[0m training_dataframe[\u001B[38;5;124m\"\u001B[39m\u001B[38;5;124mItemID\u001B[39m\u001B[38;5;124m\"\u001B[39m] \u001B[38;5;241m=\u001B[39m all_user_recommendations\u001B[38;5;241m.\u001B[39mtolist()\n",
      "File \u001B[0;32m~/RecSys-2023-polimi/Recommenders/BaseRecommender.py:147\u001B[0m, in \u001B[0;36mBaseRecommender.recommend\u001B[0;34m(self, user_id_array, cutoff, remove_seen_flag, items_to_compute, remove_top_pop_flag, remove_custom_items_flag, return_scores)\u001B[0m\n\u001B[1;32m    143\u001B[0m cutoff \u001B[38;5;241m=\u001B[39m \u001B[38;5;28mmin\u001B[39m(cutoff, \u001B[38;5;28mself\u001B[39m\u001B[38;5;241m.\u001B[39mURM_train\u001B[38;5;241m.\u001B[39mshape[\u001B[38;5;241m1\u001B[39m] \u001B[38;5;241m-\u001B[39m \u001B[38;5;241m1\u001B[39m)\n\u001B[1;32m    145\u001B[0m \u001B[38;5;66;03m# Compute the scores using the model-specific function\u001B[39;00m\n\u001B[1;32m    146\u001B[0m \u001B[38;5;66;03m# Vectorize over all users in user_id_array\u001B[39;00m\n\u001B[0;32m--> 147\u001B[0m scores_batch \u001B[38;5;241m=\u001B[39m \u001B[38;5;28;43mself\u001B[39;49m\u001B[38;5;241;43m.\u001B[39;49m\u001B[43m_compute_item_score\u001B[49m\u001B[43m(\u001B[49m\u001B[43muser_id_array\u001B[49m\u001B[43m,\u001B[49m\u001B[43m \u001B[49m\u001B[43mitems_to_compute\u001B[49m\u001B[38;5;241;43m=\u001B[39;49m\u001B[43mitems_to_compute\u001B[49m\u001B[43m)\u001B[49m\n\u001B[1;32m    150\u001B[0m \u001B[38;5;28;01mfor\u001B[39;00m user_index \u001B[38;5;129;01min\u001B[39;00m \u001B[38;5;28mrange\u001B[39m(\u001B[38;5;28mlen\u001B[39m(user_id_array)):\n\u001B[1;32m    152\u001B[0m     user_id \u001B[38;5;241m=\u001B[39m user_id_array[user_index]\n",
      "File \u001B[0;32m~/RecSys-2023-polimi/Hybrid.py:68\u001B[0m, in \u001B[0;36mHybridRecommender._compute_item_score\u001B[0;34m(self, user_id_array, items_to_compute)\u001B[0m\n\u001B[1;32m     66\u001B[0m     item_weights[i, :] \u001B[38;5;241m=\u001B[39m w\n\u001B[1;32m     67\u001B[0m \u001B[38;5;28;01melif\u001B[39;00m interactions \u001B[38;5;241m>\u001B[39m\u001B[38;5;241m=\u001B[39m \u001B[38;5;241m2\u001B[39m \u001B[38;5;241m&\u001B[39m interactions \u001B[38;5;241m<\u001B[39m\u001B[38;5;241m=\u001B[39m \u001B[38;5;241m14\u001B[39m:\n\u001B[0;32m---> 68\u001B[0m     w \u001B[38;5;241m=\u001B[39m \u001B[38;5;28;43mself\u001B[39;49m\u001B[38;5;241;43m.\u001B[39;49m\u001B[43mhybrid_li\u001B[49m\u001B[38;5;241m.\u001B[39m_compute_item_score(user_id_array[i], items_to_compute)\n\u001B[1;32m     69\u001B[0m     item_weights[i, :] \u001B[38;5;241m=\u001B[39m w\n\u001B[1;32m     70\u001B[0m \u001B[38;5;28;01melse\u001B[39;00m:\n",
      "\u001B[0;31mAttributeError\u001B[0m: 'HybridRecommender' object has no attribute 'hybrid_li'"
     ]
    }
   ],
   "source": [
    "xgb_ranker_params = {\n",
    "    \"n_estimators\": 50,\n",
    "    \"learning_rate\": 1e-1,\n",
    "    \"reg_alpha\": 1e-1,\n",
    "    \"reg_lambda\": 1e-1,\n",
    "    \"max_depth\": 20,\n",
    "    \"max_leaves\": 0,\n",
    "    \"grow_policy\": \"depthwise\",\n",
    "    \"objective\": \"rank:pairwise\",\n",
    "    \"booster\": \"gbtree\",\n",
    "}\n",
    "XGBoostRecommender_all.fit(xgb_ranker_params=xgb_ranker_params, plot=True)"
   ],
   "metadata": {
    "collapsed": false,
    "ExecuteTime": {
     "end_time": "2024-01-03T23:59:29.624039Z",
     "start_time": "2024-01-03T23:59:29.504707Z"
    }
   },
   "id": "2d13437cf2f5b395"
  }
 ],
 "metadata": {
  "kernelspec": {
   "display_name": "Python 3",
   "language": "python",
   "name": "python3"
  },
  "language_info": {
   "codemirror_mode": {
    "name": "ipython",
    "version": 2
   },
   "file_extension": ".py",
   "mimetype": "text/x-python",
   "name": "python",
   "nbconvert_exporter": "python",
   "pygments_lexer": "ipython2",
   "version": "2.7.6"
  }
 },
 "nbformat": 4,
 "nbformat_minor": 5
}
