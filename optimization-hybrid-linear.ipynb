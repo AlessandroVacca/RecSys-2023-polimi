{
 "cells": [
  {
   "cell_type": "code",
   "execution_count": 1,
   "id": "initial_id",
   "metadata": {
    "collapsed": true,
    "jupyter": {
     "outputs_hidden": true
    },
    "ExecuteTime": {
     "end_time": "2023-12-16T00:00:56.177045651Z",
     "start_time": "2023-12-16T00:00:53.286572830Z"
    }
   },
   "outputs": [
    {
     "name": "stdout",
     "output_type": "stream",
     "text": [
      "Warning: 208 (1.65 %) of 12638 users have no train items\n",
      "Warning: 2213 (17.51 %) of 12638 users have no sampled items\n",
      "Warning: 440 (3.48 %) of 12638 users have no train items\n",
      "Warning: 2568 (20.32 %) of 12638 users have no sampled items\n"
     ]
    }
   ],
   "source": [
    "from Data_manager.UserUtils import *\n",
    "from Data_manager.split_functions.split_train_validation_random_holdout import \\\n",
    "    split_train_in_two_percentage_global_sample\n",
    "URM_all = getURM_all()\n",
    "URM_train_validation, URM_test = split_train_in_two_percentage_global_sample(URM_all, train_percentage = 0.80)\n",
    "URM_train, URM_validation = split_train_in_two_percentage_global_sample(URM_train_validation, train_percentage = 0.80)"
   ]
  },
  {
   "cell_type": "code",
   "execution_count": 2,
   "outputs": [
    {
     "name": "stdout",
     "output_type": "stream",
     "text": [
      "EvaluatorHoldout: Ignoring 2568 (20.3%) Users that have less than 1 test interactions\n",
      "EvaluatorHoldout: Ignoring 0 Users\n"
     ]
    }
   ],
   "source": [
    "from Hybrid import *\n",
    "model = ScoresHybridRecommender\n",
    "\n",
    "from Evaluation.Evaluator import EvaluatorHoldout\n",
    "evaluator_validation = EvaluatorHoldout(URM_validation, cutoff_list=[10], ignore_users=[])"
   ],
   "metadata": {
    "collapsed": false,
    "ExecuteTime": {
     "end_time": "2023-12-16T00:01:07.455389401Z",
     "start_time": "2023-12-16T00:01:07.052872828Z"
    }
   },
   "id": "eeee21ee8f3d4f42"
  },
  {
   "cell_type": "code",
   "execution_count": null,
   "id": "8a9fec0ccc4f11c5",
   "metadata": {
    "collapsed": false,
    "is_executing": true,
    "ExecuteTime": {
     "start_time": "2023-12-16T00:01:10.282995442Z"
    }
   },
   "outputs": [
    {
     "name": "stdout",
     "output_type": "stream",
     "text": [
      "SLIMElasticNetRecommender: URM Detected 440 ( 3.5%) users with no interactions.\n",
      "SLIMElasticNetRecommender: URM Detected 329 ( 1.5%) items with no interactions.\n",
      "RP3betaRecommender: URM Detected 440 ( 3.5%) users with no interactions.\n",
      "RP3betaRecommender: URM Detected 329 ( 1.5%) items with no interactions.\n",
      "ItemKNNCFRecommender: URM Detected 440 ( 3.5%) users with no interactions.\n",
      "ItemKNNCFRecommender: URM Detected 329 ( 1.5%) items with no interactions.\n"
     ]
    }
   ],
   "source": [
    "from Recommenders.KNN.ItemKNNCFRecommender import ItemKNNCFRecommender\n",
    "from Hybrid import LinearHybridRecommender, LinearZScoreNormalizedHybridRecommender\n",
    "from Recommenders.GraphBased.RP3betaRecommender import RP3betaRecommender\n",
    "from Recommenders.SLIM.SLIMElasticNetRecommender import SLIMElasticNetRecommender\n",
    "\n",
    "model = LinearHybridRecommender\n",
    "slim = SLIMElasticNetRecommender(URM_train)\n",
    "rp3 = RP3betaRecommender(URM_train)\n",
    "itemknn = ItemKNNCFRecommender(URM_train)\n",
    "slim.fit(topK=8894, l1_ratio=0.05565733019999427, alpha=0.0012979360257937668)\n",
    "rp3.fit(topK=32, alpha=0.22028996694465927, beta=0.17339063177346345)\n",
    "#rp3.fit(topK=101, alpha=0.3026342852596128, beta=0.058468783118329024)\n",
    "itemknn.fit(topK=31, shrink=435, similarity='tversky', normalize=True,\n",
    "                                       feature_weighting='BM25', tversky_alpha=0.17113169506422393, tversky_beta=0.5684024974085575)\n",
    "\n",
    "from Evaluation.Evaluator import EvaluatorHoldout\n",
    "evaluator_validation = EvaluatorHoldout(URM_validation, cutoff_list=[10], ignore_users=[])"
   ]
  },
  {
   "cell_type": "code",
   "execution_count": 14,
   "id": "b826576f6714c764",
   "metadata": {
    "collapsed": false,
    "ExecuteTime": {
     "end_time": "2023-12-15T23:31:33.835844009Z",
     "start_time": "2023-12-15T23:31:33.780768450Z"
    }
   },
   "outputs": [],
   "source": [
    "import optuna as op\n",
    "def objective(trial):\n",
    "    alpha = trial.suggest_float(\"alpha\", 0.0, 1.0)\n",
    "    beta = trial.suggest_float(\"beta\", 0.0, 1.0 - alpha)\n",
    "    \n",
    "    recommender = ScoresHybridRecommender(URM_train, slim, rp3, itemknn)\n",
    "    recommender.fit(alpha=alpha, beta=beta)\n",
    "    \n",
    "    result, _ = evaluator_validation.evaluateRecommender(recommender)\n",
    "    MAP_result = result[\"MAP\"].item()\n",
    "       \n",
    "    return MAP_result"
   ]
  },
  {
   "cell_type": "code",
   "execution_count": 15,
   "id": "c5b8a36d4aed08fc",
   "metadata": {
    "collapsed": false,
    "ExecuteTime": {
     "end_time": "2023-12-15T23:44:47.353622278Z",
     "start_time": "2023-12-15T23:31:34.711837829Z"
    }
   },
   "outputs": [
    {
     "name": "stderr",
     "output_type": "stream",
     "text": [
      "/tmp/ipykernel_56596/2307385466.py:7: FutureWarning: delete_study() got {'study_name', 'storage'} as positional arguments but they were expected to be given as keyword arguments.\n",
      "  op.delete_study(study_name, storage_name)\n",
      "[I 2023-12-16 00:31:34,787] A new study created in RDB with name: hybrid-scores-linear-study\n"
     ]
    },
    {
     "name": "stdout",
     "output_type": "stream",
     "text": [
      "ScoresHybridRecommender: URM Detected 463 ( 3.7%) users with no interactions.\n",
      "ScoresHybridRecommender: URM Detected 350 ( 1.6%) items with no interactions.\n",
      "EvaluatorHoldout: Processed 10065 (100.0%) in 8.09 sec. Users per second: 1244\n"
     ]
    },
    {
     "name": "stderr",
     "output_type": "stream",
     "text": [
      "[I 2023-12-16 00:31:42,981] Trial 0 finished with value: 0.03208112349095981 and parameters: {'alpha': 0.5740185614743544, 'beta': 0.11697573697529057}. Best is trial 0 with value: 0.03208112349095981.\n"
     ]
    },
    {
     "name": "stdout",
     "output_type": "stream",
     "text": [
      "ScoresHybridRecommender: URM Detected 463 ( 3.7%) users with no interactions.\n",
      "ScoresHybridRecommender: URM Detected 350 ( 1.6%) items with no interactions.\n",
      "EvaluatorHoldout: Processed 10065 (100.0%) in 7.97 sec. Users per second: 1262\n"
     ]
    },
    {
     "name": "stderr",
     "output_type": "stream",
     "text": [
      "[I 2023-12-16 00:31:51,009] Trial 1 finished with value: 0.031881007577729124 and parameters: {'alpha': 0.4521369355974042, 'beta': 0.12554538518073804}. Best is trial 0 with value: 0.03208112349095981.\n"
     ]
    },
    {
     "name": "stdout",
     "output_type": "stream",
     "text": [
      "ScoresHybridRecommender: URM Detected 463 ( 3.7%) users with no interactions.\n",
      "ScoresHybridRecommender: URM Detected 350 ( 1.6%) items with no interactions.\n",
      "EvaluatorHoldout: Processed 10065 (100.0%) in 8.19 sec. Users per second: 1230\n"
     ]
    },
    {
     "name": "stderr",
     "output_type": "stream",
     "text": [
      "[I 2023-12-16 00:31:59,248] Trial 2 finished with value: 0.03209577429249584 and parameters: {'alpha': 0.6125173643212373, 'beta': 0.12013691315787105}. Best is trial 2 with value: 0.03209577429249584.\n"
     ]
    },
    {
     "name": "stdout",
     "output_type": "stream",
     "text": [
      "ScoresHybridRecommender: URM Detected 463 ( 3.7%) users with no interactions.\n",
      "ScoresHybridRecommender: URM Detected 350 ( 1.6%) items with no interactions.\n",
      "EvaluatorHoldout: Processed 10065 (100.0%) in 8.47 sec. Users per second: 1188\n"
     ]
    },
    {
     "name": "stderr",
     "output_type": "stream",
     "text": [
      "[I 2023-12-16 00:32:07,811] Trial 3 finished with value: 0.031581505925768485 and parameters: {'alpha': 0.45488182671085775, 'beta': 0.025297483574529527}. Best is trial 2 with value: 0.03209577429249584.\n"
     ]
    },
    {
     "name": "stdout",
     "output_type": "stream",
     "text": [
      "ScoresHybridRecommender: URM Detected 463 ( 3.7%) users with no interactions.\n",
      "ScoresHybridRecommender: URM Detected 350 ( 1.6%) items with no interactions.\n",
      "EvaluatorHoldout: Processed 10065 (100.0%) in 7.73 sec. Users per second: 1302\n"
     ]
    },
    {
     "name": "stderr",
     "output_type": "stream",
     "text": [
      "[I 2023-12-16 00:32:15,623] Trial 4 finished with value: 0.03223019421380096 and parameters: {'alpha': 0.43377011276842026, 'beta': 0.3289789329244805}. Best is trial 4 with value: 0.03223019421380096.\n"
     ]
    },
    {
     "name": "stdout",
     "output_type": "stream",
     "text": [
      "ScoresHybridRecommender: URM Detected 463 ( 3.7%) users with no interactions.\n",
      "ScoresHybridRecommender: URM Detected 350 ( 1.6%) items with no interactions.\n",
      "EvaluatorHoldout: Processed 10065 (100.0%) in 7.43 sec. Users per second: 1355\n"
     ]
    },
    {
     "name": "stderr",
     "output_type": "stream",
     "text": [
      "[I 2023-12-16 00:32:23,103] Trial 5 finished with value: 0.03228340784898186 and parameters: {'alpha': 0.460555398525878, 'beta': 0.38607000288773363}. Best is trial 5 with value: 0.03228340784898186.\n"
     ]
    },
    {
     "name": "stdout",
     "output_type": "stream",
     "text": [
      "ScoresHybridRecommender: URM Detected 463 ( 3.7%) users with no interactions.\n",
      "ScoresHybridRecommender: URM Detected 350 ( 1.6%) items with no interactions.\n",
      "EvaluatorHoldout: Processed 10065 (100.0%) in 7.88 sec. Users per second: 1277\n"
     ]
    },
    {
     "name": "stderr",
     "output_type": "stream",
     "text": [
      "[I 2023-12-16 00:32:31,067] Trial 6 finished with value: 0.03188219430842406 and parameters: {'alpha': 0.7114831284478894, 'beta': 0.2440499696896452}. Best is trial 5 with value: 0.03228340784898186.\n"
     ]
    },
    {
     "name": "stdout",
     "output_type": "stream",
     "text": [
      "ScoresHybridRecommender: URM Detected 463 ( 3.7%) users with no interactions.\n",
      "ScoresHybridRecommender: URM Detected 350 ( 1.6%) items with no interactions.\n",
      "EvaluatorHoldout: Processed 10065 (100.0%) in 8.28 sec. Users per second: 1216\n"
     ]
    },
    {
     "name": "stderr",
     "output_type": "stream",
     "text": [
      "[I 2023-12-16 00:32:39,460] Trial 7 finished with value: 0.03210015455097451 and parameters: {'alpha': 0.4566681156712006, 'beta': 0.24494019070957226}. Best is trial 5 with value: 0.03228340784898186.\n"
     ]
    },
    {
     "name": "stdout",
     "output_type": "stream",
     "text": [
      "ScoresHybridRecommender: URM Detected 463 ( 3.7%) users with no interactions.\n",
      "ScoresHybridRecommender: URM Detected 350 ( 1.6%) items with no interactions.\n",
      "EvaluatorHoldout: Processed 10065 (100.0%) in 8.31 sec. Users per second: 1212\n"
     ]
    },
    {
     "name": "stderr",
     "output_type": "stream",
     "text": [
      "[I 2023-12-16 00:32:47,825] Trial 8 finished with value: 0.03213857545005106 and parameters: {'alpha': 0.2872168644509624, 'beta': 0.44892668304433175}. Best is trial 5 with value: 0.03228340784898186.\n"
     ]
    },
    {
     "name": "stdout",
     "output_type": "stream",
     "text": [
      "ScoresHybridRecommender: URM Detected 463 ( 3.7%) users with no interactions.\n",
      "ScoresHybridRecommender: URM Detected 350 ( 1.6%) items with no interactions.\n",
      "EvaluatorHoldout: Processed 10065 (100.0%) in 7.98 sec. Users per second: 1261\n"
     ]
    },
    {
     "name": "stderr",
     "output_type": "stream",
     "text": [
      "[I 2023-12-16 00:32:55,868] Trial 9 finished with value: 0.03196050276378163 and parameters: {'alpha': 0.6804145689731839, 'beta': 0.09375708962683278}. Best is trial 5 with value: 0.03228340784898186.\n"
     ]
    },
    {
     "name": "stdout",
     "output_type": "stream",
     "text": [
      "ScoresHybridRecommender: URM Detected 463 ( 3.7%) users with no interactions.\n",
      "ScoresHybridRecommender: URM Detected 350 ( 1.6%) items with no interactions.\n",
      "EvaluatorHoldout: Processed 10065 (100.0%) in 8.46 sec. Users per second: 1190\n"
     ]
    },
    {
     "name": "stderr",
     "output_type": "stream",
     "text": [
      "[I 2023-12-16 00:33:04,395] Trial 10 finished with value: 0.03129463645037437 and parameters: {'alpha': 0.9744459570538752, 'beta': 0.0008181414215017915}. Best is trial 5 with value: 0.03228340784898186.\n"
     ]
    },
    {
     "name": "stdout",
     "output_type": "stream",
     "text": [
      "ScoresHybridRecommender: URM Detected 463 ( 3.7%) users with no interactions.\n",
      "ScoresHybridRecommender: URM Detected 350 ( 1.6%) items with no interactions.\n",
      "EvaluatorHoldout: Processed 10065 (100.0%) in 8.22 sec. Users per second: 1224\n"
     ]
    },
    {
     "name": "stderr",
     "output_type": "stream",
     "text": [
      "[I 2023-12-16 00:33:12,687] Trial 11 finished with value: 0.03151198952838322 and parameters: {'alpha': 0.05585013597796673, 'beta': 0.7673504268859797}. Best is trial 5 with value: 0.03228340784898186.\n"
     ]
    },
    {
     "name": "stdout",
     "output_type": "stream",
     "text": [
      "ScoresHybridRecommender: URM Detected 463 ( 3.7%) users with no interactions.\n",
      "ScoresHybridRecommender: URM Detected 350 ( 1.6%) items with no interactions.\n",
      "EvaluatorHoldout: Processed 10065 (100.0%) in 8.00 sec. Users per second: 1258\n"
     ]
    },
    {
     "name": "stderr",
     "output_type": "stream",
     "text": [
      "[I 2023-12-16 00:33:20,748] Trial 12 finished with value: 0.03197494460609238 and parameters: {'alpha': 0.22878732294127602, 'beta': 0.46846673798447613}. Best is trial 5 with value: 0.03228340784898186.\n"
     ]
    },
    {
     "name": "stdout",
     "output_type": "stream",
     "text": [
      "ScoresHybridRecommender: URM Detected 463 ( 3.7%) users with no interactions.\n",
      "ScoresHybridRecommender: URM Detected 350 ( 1.6%) items with no interactions.\n",
      "EvaluatorHoldout: Processed 10065 (100.0%) in 7.55 sec. Users per second: 1333\n"
     ]
    },
    {
     "name": "stderr",
     "output_type": "stream",
     "text": [
      "[I 2023-12-16 00:33:28,372] Trial 13 finished with value: 0.03195584257879367 and parameters: {'alpha': 0.273220225971808, 'beta': 0.346240592477072}. Best is trial 5 with value: 0.03228340784898186.\n"
     ]
    },
    {
     "name": "stdout",
     "output_type": "stream",
     "text": [
      "ScoresHybridRecommender: URM Detected 463 ( 3.7%) users with no interactions.\n",
      "ScoresHybridRecommender: URM Detected 350 ( 1.6%) items with no interactions.\n",
      "EvaluatorHoldout: Processed 10065 (100.0%) in 7.49 sec. Users per second: 1344\n"
     ]
    },
    {
     "name": "stderr",
     "output_type": "stream",
     "text": [
      "[I 2023-12-16 00:33:35,934] Trial 14 finished with value: 0.03150568526798062 and parameters: {'alpha': 0.8770726499544075, 'beta': 0.12265694459923371}. Best is trial 5 with value: 0.03228340784898186.\n"
     ]
    },
    {
     "name": "stdout",
     "output_type": "stream",
     "text": [
      "ScoresHybridRecommender: URM Detected 463 ( 3.7%) users with no interactions.\n",
      "ScoresHybridRecommender: URM Detected 350 ( 1.6%) items with no interactions.\n",
      "EvaluatorHoldout: Processed 10065 (100.0%) in 7.46 sec. Users per second: 1349\n"
     ]
    },
    {
     "name": "stderr",
     "output_type": "stream",
     "text": [
      "[I 2023-12-16 00:33:43,452] Trial 15 finished with value: 0.03212701566799945 and parameters: {'alpha': 0.3527670737471358, 'beta': 0.4578057156271263}. Best is trial 5 with value: 0.03228340784898186.\n"
     ]
    },
    {
     "name": "stdout",
     "output_type": "stream",
     "text": [
      "ScoresHybridRecommender: URM Detected 463 ( 3.7%) users with no interactions.\n",
      "ScoresHybridRecommender: URM Detected 350 ( 1.6%) items with no interactions.\n",
      "EvaluatorHoldout: Processed 10065 (100.0%) in 7.38 sec. Users per second: 1364\n"
     ]
    },
    {
     "name": "stderr",
     "output_type": "stream",
     "text": [
      "[I 2023-12-16 00:33:50,922] Trial 16 finished with value: 0.03175963380881443 and parameters: {'alpha': 0.12202852824074872, 'beta': 0.6223834484648326}. Best is trial 5 with value: 0.03228340784898186.\n"
     ]
    },
    {
     "name": "stdout",
     "output_type": "stream",
     "text": [
      "ScoresHybridRecommender: URM Detected 463 ( 3.7%) users with no interactions.\n",
      "ScoresHybridRecommender: URM Detected 350 ( 1.6%) items with no interactions.\n",
      "EvaluatorHoldout: Processed 10065 (100.0%) in 7.48 sec. Users per second: 1346\n"
     ]
    },
    {
     "name": "stderr",
     "output_type": "stream",
     "text": [
      "[I 2023-12-16 00:33:58,500] Trial 17 finished with value: 0.031836400697056594 and parameters: {'alpha': 0.747900732902353, 'beta': 0.24778305387072944}. Best is trial 5 with value: 0.03228340784898186.\n"
     ]
    },
    {
     "name": "stdout",
     "output_type": "stream",
     "text": [
      "ScoresHybridRecommender: URM Detected 463 ( 3.7%) users with no interactions.\n",
      "ScoresHybridRecommender: URM Detected 350 ( 1.6%) items with no interactions.\n",
      "EvaluatorHoldout: Processed 10065 (100.0%) in 8.09 sec. Users per second: 1244\n"
     ]
    },
    {
     "name": "stderr",
     "output_type": "stream",
     "text": [
      "[I 2023-12-16 00:34:06,712] Trial 18 finished with value: 0.03225464638579412 and parameters: {'alpha': 0.3713542424379441, 'beta': 0.3612834537794205}. Best is trial 5 with value: 0.03228340784898186.\n"
     ]
    },
    {
     "name": "stdout",
     "output_type": "stream",
     "text": [
      "ScoresHybridRecommender: URM Detected 463 ( 3.7%) users with no interactions.\n",
      "ScoresHybridRecommender: URM Detected 350 ( 1.6%) items with no interactions.\n",
      "EvaluatorHoldout: Processed 10065 (100.0%) in 7.74 sec. Users per second: 1301\n"
     ]
    },
    {
     "name": "stderr",
     "output_type": "stream",
     "text": [
      "[I 2023-12-16 00:34:14,501] Trial 19 finished with value: 0.03190226227931171 and parameters: {'alpha': 0.16803532441672597, 'beta': 0.5755705198783316}. Best is trial 5 with value: 0.03228340784898186.\n"
     ]
    },
    {
     "name": "stdout",
     "output_type": "stream",
     "text": [
      "ScoresHybridRecommender: URM Detected 463 ( 3.7%) users with no interactions.\n",
      "ScoresHybridRecommender: URM Detected 350 ( 1.6%) items with no interactions.\n",
      "EvaluatorHoldout: Processed 10065 (100.0%) in 7.44 sec. Users per second: 1353\n"
     ]
    },
    {
     "name": "stderr",
     "output_type": "stream",
     "text": [
      "[I 2023-12-16 00:34:21,995] Trial 20 finished with value: 0.032215350223547094 and parameters: {'alpha': 0.3566397643647644, 'beta': 0.3953222700391937}. Best is trial 5 with value: 0.03228340784898186.\n"
     ]
    },
    {
     "name": "stdout",
     "output_type": "stream",
     "text": [
      "ScoresHybridRecommender: URM Detected 463 ( 3.7%) users with no interactions.\n",
      "ScoresHybridRecommender: URM Detected 350 ( 1.6%) items with no interactions.\n",
      "EvaluatorHoldout: Processed 10065 (100.0%) in 7.61 sec. Users per second: 1323\n"
     ]
    },
    {
     "name": "stderr",
     "output_type": "stream",
     "text": [
      "[I 2023-12-16 00:34:29,958] Trial 21 finished with value: 0.03221506635441084 and parameters: {'alpha': 0.5446784209186634, 'beta': 0.30532915454771414}. Best is trial 5 with value: 0.03228340784898186.\n"
     ]
    },
    {
     "name": "stdout",
     "output_type": "stream",
     "text": [
      "ScoresHybridRecommender: URM Detected 463 ( 3.7%) users with no interactions.\n",
      "ScoresHybridRecommender: URM Detected 350 ( 1.6%) items with no interactions.\n",
      "EvaluatorHoldout: Processed 10065 (100.0%) in 7.59 sec. Users per second: 1326\n"
     ]
    },
    {
     "name": "stderr",
     "output_type": "stream",
     "text": [
      "[I 2023-12-16 00:34:37,620] Trial 22 finished with value: 0.03218051317231668 and parameters: {'alpha': 0.36241530767330327, 'beta': 0.33122942048121706}. Best is trial 5 with value: 0.03228340784898186.\n"
     ]
    },
    {
     "name": "stdout",
     "output_type": "stream",
     "text": [
      "ScoresHybridRecommender: URM Detected 463 ( 3.7%) users with no interactions.\n",
      "ScoresHybridRecommender: URM Detected 350 ( 1.6%) items with no interactions.\n",
      "EvaluatorHoldout: Processed 10065 (100.0%) in 7.48 sec. Users per second: 1345\n"
     ]
    },
    {
     "name": "stderr",
     "output_type": "stream",
     "text": [
      "[I 2023-12-16 00:34:45,157] Trial 23 finished with value: 0.03219674102461007 and parameters: {'alpha': 0.4052301027478565, 'beta': 0.3824645648502479}. Best is trial 5 with value: 0.03228340784898186.\n"
     ]
    },
    {
     "name": "stdout",
     "output_type": "stream",
     "text": [
      "ScoresHybridRecommender: URM Detected 463 ( 3.7%) users with no interactions.\n",
      "ScoresHybridRecommender: URM Detected 350 ( 1.6%) items with no interactions.\n",
      "EvaluatorHoldout: Processed 10065 (100.0%) in 7.90 sec. Users per second: 1273\n"
     ]
    },
    {
     "name": "stderr",
     "output_type": "stream",
     "text": [
      "[I 2023-12-16 00:34:53,116] Trial 24 finished with value: 0.032277340146192844 and parameters: {'alpha': 0.5189364352970898, 'beta': 0.2916980877152407}. Best is trial 5 with value: 0.03228340784898186.\n"
     ]
    },
    {
     "name": "stdout",
     "output_type": "stream",
     "text": [
      "ScoresHybridRecommender: URM Detected 463 ( 3.7%) users with no interactions.\n",
      "ScoresHybridRecommender: URM Detected 350 ( 1.6%) items with no interactions.\n",
      "EvaluatorHoldout: Processed 10065 (100.0%) in 7.91 sec. Users per second: 1273\n"
     ]
    },
    {
     "name": "stderr",
     "output_type": "stream",
     "text": [
      "[I 2023-12-16 00:35:01,077] Trial 25 finished with value: 0.032290370528075686 and parameters: {'alpha': 0.5216271479967104, 'beta': 0.2924448031937536}. Best is trial 25 with value: 0.032290370528075686.\n"
     ]
    },
    {
     "name": "stdout",
     "output_type": "stream",
     "text": [
      "ScoresHybridRecommender: URM Detected 463 ( 3.7%) users with no interactions.\n",
      "ScoresHybridRecommender: URM Detected 350 ( 1.6%) items with no interactions.\n",
      "EvaluatorHoldout: Processed 10065 (100.0%) in 7.84 sec. Users per second: 1284\n"
     ]
    },
    {
     "name": "stderr",
     "output_type": "stream",
     "text": [
      "[I 2023-12-16 00:35:08,970] Trial 26 finished with value: 0.03182213627295609 and parameters: {'alpha': 0.7920966447849475, 'beta': 0.1506798573771941}. Best is trial 25 with value: 0.032290370528075686.\n"
     ]
    },
    {
     "name": "stdout",
     "output_type": "stream",
     "text": [
      "ScoresHybridRecommender: URM Detected 463 ( 3.7%) users with no interactions.\n",
      "ScoresHybridRecommender: URM Detected 350 ( 1.6%) items with no interactions.\n",
      "EvaluatorHoldout: Processed 10065 (100.0%) in 8.45 sec. Users per second: 1191\n"
     ]
    },
    {
     "name": "stderr",
     "output_type": "stream",
     "text": [
      "[I 2023-12-16 00:35:17,477] Trial 27 finished with value: 0.03211820783951947 and parameters: {'alpha': 0.6370990817425176, 'beta': 0.2719513805056586}. Best is trial 25 with value: 0.032290370528075686.\n"
     ]
    },
    {
     "name": "stdout",
     "output_type": "stream",
     "text": [
      "ScoresHybridRecommender: URM Detected 463 ( 3.7%) users with no interactions.\n",
      "ScoresHybridRecommender: URM Detected 350 ( 1.6%) items with no interactions.\n",
      "EvaluatorHoldout: Processed 10065 (100.0%) in 7.95 sec. Users per second: 1265\n"
     ]
    },
    {
     "name": "stderr",
     "output_type": "stream",
     "text": [
      "[I 2023-12-16 00:35:25,490] Trial 28 finished with value: 0.0320472444980645 and parameters: {'alpha': 0.5099736374774495, 'beta': 0.1838353449849419}. Best is trial 25 with value: 0.032290370528075686.\n"
     ]
    },
    {
     "name": "stdout",
     "output_type": "stream",
     "text": [
      "ScoresHybridRecommender: URM Detected 463 ( 3.7%) users with no interactions.\n",
      "ScoresHybridRecommender: URM Detected 350 ( 1.6%) items with no interactions.\n",
      "EvaluatorHoldout: Processed 10065 (100.0%) in 7.96 sec. Users per second: 1264\n"
     ]
    },
    {
     "name": "stderr",
     "output_type": "stream",
     "text": [
      "[I 2023-12-16 00:35:33,544] Trial 29 finished with value: 0.032239211001506306 and parameters: {'alpha': 0.5629967481058465, 'beta': 0.2970367360189442}. Best is trial 25 with value: 0.032290370528075686.\n"
     ]
    },
    {
     "name": "stdout",
     "output_type": "stream",
     "text": [
      "ScoresHybridRecommender: URM Detected 463 ( 3.7%) users with no interactions.\n",
      "ScoresHybridRecommender: URM Detected 350 ( 1.6%) items with no interactions.\n",
      "EvaluatorHoldout: Processed 10065 (100.0%) in 8.07 sec. Users per second: 1248\n"
     ]
    },
    {
     "name": "stderr",
     "output_type": "stream",
     "text": [
      "[I 2023-12-16 00:35:41,668] Trial 30 finished with value: 0.03224181313525597 and parameters: {'alpha': 0.582171442908187, 'beta': 0.1964144947546898}. Best is trial 25 with value: 0.032290370528075686.\n"
     ]
    },
    {
     "name": "stdout",
     "output_type": "stream",
     "text": [
      "ScoresHybridRecommender: URM Detected 463 ( 3.7%) users with no interactions.\n",
      "ScoresHybridRecommender: URM Detected 350 ( 1.6%) items with no interactions.\n",
      "EvaluatorHoldout: Processed 10065 (100.0%) in 7.81 sec. Users per second: 1289\n"
     ]
    },
    {
     "name": "stderr",
     "output_type": "stream",
     "text": [
      "[I 2023-12-16 00:35:49,539] Trial 31 finished with value: 0.03223180280557354 and parameters: {'alpha': 0.5078584848299226, 'beta': 0.3785589167508622}. Best is trial 25 with value: 0.032290370528075686.\n"
     ]
    },
    {
     "name": "stdout",
     "output_type": "stream",
     "text": [
      "ScoresHybridRecommender: URM Detected 463 ( 3.7%) users with no interactions.\n",
      "ScoresHybridRecommender: URM Detected 350 ( 1.6%) items with no interactions.\n",
      "EvaluatorHoldout: Processed 10065 (100.0%) in 8.13 sec. Users per second: 1237\n"
     ]
    },
    {
     "name": "stderr",
     "output_type": "stream",
     "text": [
      "[I 2023-12-16 00:35:57,734] Trial 32 finished with value: 0.03214763166402531 and parameters: {'alpha': 0.30065474221253136, 'beta': 0.40858632991617194}. Best is trial 25 with value: 0.032290370528075686.\n"
     ]
    },
    {
     "name": "stdout",
     "output_type": "stream",
     "text": [
      "ScoresHybridRecommender: URM Detected 463 ( 3.7%) users with no interactions.\n",
      "ScoresHybridRecommender: URM Detected 350 ( 1.6%) items with no interactions.\n",
      "EvaluatorHoldout: Processed 10065 (100.0%) in 8.17 sec. Users per second: 1232\n"
     ]
    },
    {
     "name": "stderr",
     "output_type": "stream",
     "text": [
      "[I 2023-12-16 00:36:05,965] Trial 33 finished with value: 0.032057889590676666 and parameters: {'alpha': 0.6561953327736024, 'beta': 0.27530044601116466}. Best is trial 25 with value: 0.032290370528075686.\n"
     ]
    },
    {
     "name": "stdout",
     "output_type": "stream",
     "text": [
      "ScoresHybridRecommender: URM Detected 463 ( 3.7%) users with no interactions.\n",
      "ScoresHybridRecommender: URM Detected 350 ( 1.6%) items with no interactions.\n",
      "EvaluatorHoldout: Processed 10065 (100.0%) in 8.60 sec. Users per second: 1170\n"
     ]
    },
    {
     "name": "stderr",
     "output_type": "stream",
     "text": [
      "[I 2023-12-16 00:36:14,641] Trial 34 finished with value: 0.032282784913932695 and parameters: {'alpha': 0.4758536710113966, 'beta': 0.35283400929718245}. Best is trial 25 with value: 0.032290370528075686.\n"
     ]
    },
    {
     "name": "stdout",
     "output_type": "stream",
     "text": [
      "ScoresHybridRecommender: URM Detected 463 ( 3.7%) users with no interactions.\n",
      "ScoresHybridRecommender: URM Detected 350 ( 1.6%) items with no interactions.\n",
      "EvaluatorHoldout: Processed 10065 (100.0%) in 8.67 sec. Users per second: 1161\n"
     ]
    },
    {
     "name": "stderr",
     "output_type": "stream",
     "text": [
      "[I 2023-12-16 00:36:23,370] Trial 35 finished with value: 0.03209197360017063 and parameters: {'alpha': 0.49517994076980704, 'beta': 0.2103542498550296}. Best is trial 25 with value: 0.032290370528075686.\n"
     ]
    },
    {
     "name": "stdout",
     "output_type": "stream",
     "text": [
      "ScoresHybridRecommender: URM Detected 463 ( 3.7%) users with no interactions.\n",
      "ScoresHybridRecommender: URM Detected 350 ( 1.6%) items with no interactions.\n",
      "EvaluatorHoldout: Processed 10065 (100.0%) in 8.26 sec. Users per second: 1218\n"
     ]
    },
    {
     "name": "stderr",
     "output_type": "stream",
     "text": [
      "[I 2023-12-16 00:36:31,726] Trial 36 finished with value: 0.03209428003690318 and parameters: {'alpha': 0.6170192649169582, 'beta': 0.3114625102071195}. Best is trial 25 with value: 0.032290370528075686.\n"
     ]
    },
    {
     "name": "stdout",
     "output_type": "stream",
     "text": [
      "ScoresHybridRecommender: URM Detected 463 ( 3.7%) users with no interactions.\n",
      "ScoresHybridRecommender: URM Detected 350 ( 1.6%) items with no interactions.\n",
      "EvaluatorHoldout: Processed 10065 (100.0%) in 7.56 sec. Users per second: 1332\n"
     ]
    },
    {
     "name": "stderr",
     "output_type": "stream",
     "text": [
      "[I 2023-12-16 00:36:39,353] Trial 37 finished with value: 0.032215224059486576 and parameters: {'alpha': 0.4617104054128644, 'beta': 0.42180898658793786}. Best is trial 25 with value: 0.032290370528075686.\n"
     ]
    },
    {
     "name": "stdout",
     "output_type": "stream",
     "text": [
      "ScoresHybridRecommender: URM Detected 463 ( 3.7%) users with no interactions.\n",
      "ScoresHybridRecommender: URM Detected 350 ( 1.6%) items with no interactions.\n",
      "EvaluatorHoldout: Processed 10065 (100.0%) in 7.77 sec. Users per second: 1295\n"
     ]
    },
    {
     "name": "stderr",
     "output_type": "stream",
     "text": [
      "[I 2023-12-16 00:36:47,247] Trial 38 finished with value: 0.032163130130343456 and parameters: {'alpha': 0.41896226331221054, 'beta': 0.5070693825561448}. Best is trial 25 with value: 0.032290370528075686.\n"
     ]
    },
    {
     "name": "stdout",
     "output_type": "stream",
     "text": [
      "ScoresHybridRecommender: URM Detected 463 ( 3.7%) users with no interactions.\n",
      "ScoresHybridRecommender: URM Detected 350 ( 1.6%) items with no interactions.\n",
      "EvaluatorHoldout: Processed 10065 (100.0%) in 7.94 sec. Users per second: 1268\n"
     ]
    },
    {
     "name": "stderr",
     "output_type": "stream",
     "text": [
      "[I 2023-12-16 00:36:55,278] Trial 39 finished with value: 0.03221626097035956 and parameters: {'alpha': 0.5468598186897081, 'beta': 0.277641077167942}. Best is trial 25 with value: 0.032290370528075686.\n"
     ]
    },
    {
     "name": "stdout",
     "output_type": "stream",
     "text": [
      "ScoresHybridRecommender: URM Detected 463 ( 3.7%) users with no interactions.\n",
      "ScoresHybridRecommender: URM Detected 350 ( 1.6%) items with no interactions.\n",
      "EvaluatorHoldout: Processed 10065 (100.0%) in 7.85 sec. Users per second: 1283\n"
     ]
    },
    {
     "name": "stderr",
     "output_type": "stream",
     "text": [
      "[I 2023-12-16 00:37:03,186] Trial 40 finished with value: 0.03191343174130085 and parameters: {'alpha': 0.7426141934150277, 'beta': 0.080907128797684}. Best is trial 25 with value: 0.032290370528075686.\n"
     ]
    },
    {
     "name": "stdout",
     "output_type": "stream",
     "text": [
      "ScoresHybridRecommender: URM Detected 463 ( 3.7%) users with no interactions.\n",
      "ScoresHybridRecommender: URM Detected 350 ( 1.6%) items with no interactions.\n",
      "EvaluatorHoldout: Processed 10065 (100.0%) in 7.66 sec. Users per second: 1313\n"
     ]
    },
    {
     "name": "stderr",
     "output_type": "stream",
     "text": [
      "[I 2023-12-16 00:37:10,914] Trial 41 finished with value: 0.03223559167001808 and parameters: {'alpha': 0.3898962114905512, 'beta': 0.353699773706628}. Best is trial 25 with value: 0.032290370528075686.\n"
     ]
    },
    {
     "name": "stdout",
     "output_type": "stream",
     "text": [
      "ScoresHybridRecommender: URM Detected 463 ( 3.7%) users with no interactions.\n",
      "ScoresHybridRecommender: URM Detected 350 ( 1.6%) items with no interactions.\n",
      "EvaluatorHoldout: Processed 10065 (100.0%) in 7.66 sec. Users per second: 1315\n"
     ]
    },
    {
     "name": "stderr",
     "output_type": "stream",
     "text": [
      "[I 2023-12-16 00:37:18,663] Trial 42 finished with value: 0.03225171701401228 and parameters: {'alpha': 0.4691139054172436, 'beta': 0.34262288418826853}. Best is trial 25 with value: 0.032290370528075686.\n"
     ]
    },
    {
     "name": "stdout",
     "output_type": "stream",
     "text": [
      "ScoresHybridRecommender: URM Detected 463 ( 3.7%) users with no interactions.\n",
      "ScoresHybridRecommender: URM Detected 350 ( 1.6%) items with no interactions.\n",
      "EvaluatorHoldout: Processed 10065 (100.0%) in 8.18 sec. Users per second: 1230\n"
     ]
    },
    {
     "name": "stderr",
     "output_type": "stream",
     "text": [
      "[I 2023-12-16 00:37:26,918] Trial 43 finished with value: 0.0321660989283942 and parameters: {'alpha': 0.3245282718244097, 'beta': 0.5106143180947025}. Best is trial 25 with value: 0.032290370528075686.\n"
     ]
    },
    {
     "name": "stdout",
     "output_type": "stream",
     "text": [
      "ScoresHybridRecommender: URM Detected 463 ( 3.7%) users with no interactions.\n",
      "ScoresHybridRecommender: URM Detected 350 ( 1.6%) items with no interactions.\n",
      "EvaluatorHoldout: Processed 10065 (100.0%) in 8.58 sec. Users per second: 1173\n"
     ]
    },
    {
     "name": "stderr",
     "output_type": "stream",
     "text": [
      "[I 2023-12-16 00:37:35,556] Trial 44 finished with value: 0.03218592245641446 and parameters: {'alpha': 0.43217945279933895, 'beta': 0.37208925941583304}. Best is trial 25 with value: 0.032290370528075686.\n"
     ]
    },
    {
     "name": "stdout",
     "output_type": "stream",
     "text": [
      "ScoresHybridRecommender: URM Detected 463 ( 3.7%) users with no interactions.\n",
      "ScoresHybridRecommender: URM Detected 350 ( 1.6%) items with no interactions.\n",
      "EvaluatorHoldout: Processed 10065 (100.0%) in 7.93 sec. Users per second: 1269\n"
     ]
    },
    {
     "name": "stderr",
     "output_type": "stream",
     "text": [
      "[I 2023-12-16 00:37:43,606] Trial 45 finished with value: 0.032292452235075424 and parameters: {'alpha': 0.4885686813240046, 'beta': 0.31997635495257154}. Best is trial 45 with value: 0.032292452235075424.\n"
     ]
    },
    {
     "name": "stdout",
     "output_type": "stream",
     "text": [
      "ScoresHybridRecommender: URM Detected 463 ( 3.7%) users with no interactions.\n",
      "ScoresHybridRecommender: URM Detected 350 ( 1.6%) items with no interactions.\n",
      "EvaluatorHoldout: Processed 10065 (100.0%) in 7.81 sec. Users per second: 1289\n"
     ]
    },
    {
     "name": "stderr",
     "output_type": "stream",
     "text": [
      "[I 2023-12-16 00:37:51,481] Trial 46 finished with value: 0.03208769584999115 and parameters: {'alpha': 0.597780281656135, 'beta': 0.31995729248675364}. Best is trial 45 with value: 0.032292452235075424.\n"
     ]
    },
    {
     "name": "stdout",
     "output_type": "stream",
     "text": [
      "ScoresHybridRecommender: URM Detected 463 ( 3.7%) users with no interactions.\n",
      "ScoresHybridRecommender: URM Detected 350 ( 1.6%) items with no interactions.\n",
      "EvaluatorHoldout: Processed 10065 (100.0%) in 7.46 sec. Users per second: 1349\n"
     ]
    },
    {
     "name": "stderr",
     "output_type": "stream",
     "text": [
      "[I 2023-12-16 00:37:58,997] Trial 47 finished with value: 0.0319634163650559 and parameters: {'alpha': 0.6912391707072044, 'beta': 0.2842826474532326}. Best is trial 45 with value: 0.032292452235075424.\n"
     ]
    },
    {
     "name": "stdout",
     "output_type": "stream",
     "text": [
      "ScoresHybridRecommender: URM Detected 463 ( 3.7%) users with no interactions.\n",
      "ScoresHybridRecommender: URM Detected 350 ( 1.6%) items with no interactions.\n",
      "EvaluatorHoldout: Processed 10065 (100.0%) in 7.65 sec. Users per second: 1315\n"
     ]
    },
    {
     "name": "stderr",
     "output_type": "stream",
     "text": [
      "[I 2023-12-16 00:38:06,709] Trial 48 finished with value: 0.03221807852135752 and parameters: {'alpha': 0.5269800527706474, 'beta': 0.22213020136830539}. Best is trial 45 with value: 0.032292452235075424.\n"
     ]
    },
    {
     "name": "stdout",
     "output_type": "stream",
     "text": [
      "ScoresHybridRecommender: URM Detected 463 ( 3.7%) users with no interactions.\n",
      "ScoresHybridRecommender: URM Detected 350 ( 1.6%) items with no interactions.\n",
      "EvaluatorHoldout: Processed 10065 (100.0%) in 8.44 sec. Users per second: 1193\n"
     ]
    },
    {
     "name": "stderr",
     "output_type": "stream",
     "text": [
      "[I 2023-12-16 00:38:15,200] Trial 49 finished with value: 0.03210637207358547 and parameters: {'alpha': 0.4561401723562165, 'beta': 0.24731574041637866}. Best is trial 45 with value: 0.032292452235075424.\n"
     ]
    },
    {
     "name": "stdout",
     "output_type": "stream",
     "text": [
      "ScoresHybridRecommender: URM Detected 463 ( 3.7%) users with no interactions.\n",
      "ScoresHybridRecommender: URM Detected 350 ( 1.6%) items with no interactions.\n",
      "EvaluatorHoldout: Processed 10065 (100.0%) in 9.38 sec. Users per second: 1073\n"
     ]
    },
    {
     "name": "stderr",
     "output_type": "stream",
     "text": [
      "[I 2023-12-16 00:38:24,663] Trial 50 finished with value: 0.03202880877471064 and parameters: {'alpha': 0.24713915237925355, 'beta': 0.4267331190815234}. Best is trial 45 with value: 0.032292452235075424.\n"
     ]
    },
    {
     "name": "stdout",
     "output_type": "stream",
     "text": [
      "ScoresHybridRecommender: URM Detected 463 ( 3.7%) users with no interactions.\n",
      "ScoresHybridRecommender: URM Detected 350 ( 1.6%) items with no interactions.\n",
      "EvaluatorHoldout: Processed 10065 (100.0%) in 8.49 sec. Users per second: 1186\n"
     ]
    },
    {
     "name": "stderr",
     "output_type": "stream",
     "text": [
      "[I 2023-12-16 00:38:33,215] Trial 51 finished with value: 0.03225278940852729 and parameters: {'alpha': 0.3922518139744281, 'beta': 0.3550009401242828}. Best is trial 45 with value: 0.032292452235075424.\n"
     ]
    },
    {
     "name": "stdout",
     "output_type": "stream",
     "text": [
      "ScoresHybridRecommender: URM Detected 463 ( 3.7%) users with no interactions.\n",
      "ScoresHybridRecommender: URM Detected 350 ( 1.6%) items with no interactions.\n",
      "EvaluatorHoldout: Processed 10065 (100.0%) in 8.10 sec. Users per second: 1243\n"
     ]
    },
    {
     "name": "stderr",
     "output_type": "stream",
     "text": [
      "[I 2023-12-16 00:38:41,393] Trial 52 finished with value: 0.032196981524850635 and parameters: {'alpha': 0.49951873414846276, 'beta': 0.3675022641075923}. Best is trial 45 with value: 0.032292452235075424.\n"
     ]
    },
    {
     "name": "stdout",
     "output_type": "stream",
     "text": [
      "ScoresHybridRecommender: URM Detected 463 ( 3.7%) users with no interactions.\n",
      "ScoresHybridRecommender: URM Detected 350 ( 1.6%) items with no interactions.\n",
      "EvaluatorHoldout: Processed 10065 (100.0%) in 8.22 sec. Users per second: 1225\n"
     ]
    },
    {
     "name": "stderr",
     "output_type": "stream",
     "text": [
      "[I 2023-12-16 00:38:49,710] Trial 53 finished with value: 0.0321650777880288 and parameters: {'alpha': 0.5764936431878408, 'beta': 0.328410721392423}. Best is trial 45 with value: 0.032292452235075424.\n"
     ]
    },
    {
     "name": "stdout",
     "output_type": "stream",
     "text": [
      "ScoresHybridRecommender: URM Detected 463 ( 3.7%) users with no interactions.\n",
      "ScoresHybridRecommender: URM Detected 350 ( 1.6%) items with no interactions.\n",
      "EvaluatorHoldout: Processed 10065 (100.0%) in 8.11 sec. Users per second: 1241\n"
     ]
    },
    {
     "name": "stderr",
     "output_type": "stream",
     "text": [
      "[I 2023-12-16 00:38:57,882] Trial 54 finished with value: 0.03217043581797702 and parameters: {'alpha': 0.3275234334740438, 'beta': 0.48457476407699185}. Best is trial 45 with value: 0.032292452235075424.\n"
     ]
    },
    {
     "name": "stdout",
     "output_type": "stream",
     "text": [
      "ScoresHybridRecommender: URM Detected 463 ( 3.7%) users with no interactions.\n",
      "ScoresHybridRecommender: URM Detected 350 ( 1.6%) items with no interactions.\n",
      "EvaluatorHoldout: Processed 10065 (100.0%) in 8.22 sec. Users per second: 1225\n"
     ]
    },
    {
     "name": "stderr",
     "output_type": "stream",
     "text": [
      "[I 2023-12-16 00:39:06,191] Trial 55 finished with value: 0.03228780782059488 and parameters: {'alpha': 0.47795590776966046, 'beta': 0.29920254601402274}. Best is trial 45 with value: 0.032292452235075424.\n"
     ]
    },
    {
     "name": "stdout",
     "output_type": "stream",
     "text": [
      "ScoresHybridRecommender: URM Detected 463 ( 3.7%) users with no interactions.\n",
      "ScoresHybridRecommender: URM Detected 350 ( 1.6%) items with no interactions.\n",
      "EvaluatorHoldout: Processed 10065 (100.0%) in 7.99 sec. Users per second: 1259\n"
     ]
    },
    {
     "name": "stderr",
     "output_type": "stream",
     "text": [
      "[I 2023-12-16 00:39:14,330] Trial 56 finished with value: 0.03226610760217339 and parameters: {'alpha': 0.48882407620288426, 'beta': 0.28855751428784515}. Best is trial 45 with value: 0.032292452235075424.\n"
     ]
    },
    {
     "name": "stdout",
     "output_type": "stream",
     "text": [
      "ScoresHybridRecommender: URM Detected 463 ( 3.7%) users with no interactions.\n",
      "ScoresHybridRecommender: URM Detected 350 ( 1.6%) items with no interactions.\n",
      "EvaluatorHoldout: Processed 10065 (100.0%) in 8.16 sec. Users per second: 1234\n"
     ]
    },
    {
     "name": "stderr",
     "output_type": "stream",
     "text": [
      "[I 2023-12-16 00:39:22,564] Trial 57 finished with value: 0.03210833550177841 and parameters: {'alpha': 0.43884216319626257, 'beta': 0.2601937548857052}. Best is trial 45 with value: 0.032292452235075424.\n"
     ]
    },
    {
     "name": "stdout",
     "output_type": "stream",
     "text": [
      "ScoresHybridRecommender: URM Detected 463 ( 3.7%) users with no interactions.\n",
      "ScoresHybridRecommender: URM Detected 350 ( 1.6%) items with no interactions.\n",
      "EvaluatorHoldout: Processed 10065 (100.0%) in 7.67 sec. Users per second: 1311\n"
     ]
    },
    {
     "name": "stderr",
     "output_type": "stream",
     "text": [
      "[I 2023-12-16 00:39:30,299] Trial 58 finished with value: 0.032201306586552694 and parameters: {'alpha': 0.5387556925126468, 'beta': 0.3072626948604282}. Best is trial 45 with value: 0.032292452235075424.\n"
     ]
    },
    {
     "name": "stdout",
     "output_type": "stream",
     "text": [
      "ScoresHybridRecommender: URM Detected 463 ( 3.7%) users with no interactions.\n",
      "ScoresHybridRecommender: URM Detected 350 ( 1.6%) items with no interactions.\n",
      "EvaluatorHoldout: Processed 10065 (100.0%) in 8.03 sec. Users per second: 1253\n"
     ]
    },
    {
     "name": "stderr",
     "output_type": "stream",
     "text": [
      "[I 2023-12-16 00:39:38,423] Trial 59 finished with value: 0.03204489863506278 and parameters: {'alpha': 0.640613822694754, 'beta': 0.3285153852743513}. Best is trial 45 with value: 0.032292452235075424.\n"
     ]
    },
    {
     "name": "stdout",
     "output_type": "stream",
     "text": [
      "ScoresHybridRecommender: URM Detected 463 ( 3.7%) users with no interactions.\n",
      "ScoresHybridRecommender: URM Detected 350 ( 1.6%) items with no interactions.\n",
      "EvaluatorHoldout: Processed 10065 (100.0%) in 7.66 sec. Users per second: 1313\n"
     ]
    },
    {
     "name": "stderr",
     "output_type": "stream",
     "text": [
      "[I 2023-12-16 00:39:46,150] Trial 60 finished with value: 0.032100627666201614 and parameters: {'alpha': 0.6032862231019452, 'beta': 0.3388347125493531}. Best is trial 45 with value: 0.032292452235075424.\n"
     ]
    },
    {
     "name": "stdout",
     "output_type": "stream",
     "text": [
      "ScoresHybridRecommender: URM Detected 463 ( 3.7%) users with no interactions.\n",
      "ScoresHybridRecommender: URM Detected 350 ( 1.6%) items with no interactions.\n",
      "EvaluatorHoldout: Processed 10065 (100.0%) in 7.91 sec. Users per second: 1272\n"
     ]
    },
    {
     "name": "stderr",
     "output_type": "stream",
     "text": [
      "[I 2023-12-16 00:39:54,121] Trial 61 finished with value: 0.032297865461800086 and parameters: {'alpha': 0.47626243330287105, 'beta': 0.2963551535690502}. Best is trial 61 with value: 0.032297865461800086.\n"
     ]
    },
    {
     "name": "stdout",
     "output_type": "stream",
     "text": [
      "ScoresHybridRecommender: URM Detected 463 ( 3.7%) users with no interactions.\n",
      "ScoresHybridRecommender: URM Detected 350 ( 1.6%) items with no interactions.\n",
      "EvaluatorHoldout: Processed 10065 (100.0%) in 8.14 sec. Users per second: 1236\n"
     ]
    },
    {
     "name": "stderr",
     "output_type": "stream",
     "text": [
      "[I 2023-12-16 00:40:02,320] Trial 62 finished with value: 0.032126637175817783 and parameters: {'alpha': 0.47866970195506914, 'beta': 0.2324415245613616}. Best is trial 61 with value: 0.032297865461800086.\n"
     ]
    },
    {
     "name": "stdout",
     "output_type": "stream",
     "text": [
      "ScoresHybridRecommender: URM Detected 463 ( 3.7%) users with no interactions.\n",
      "ScoresHybridRecommender: URM Detected 350 ( 1.6%) items with no interactions.\n",
      "EvaluatorHoldout: Processed 10065 (100.0%) in 8.04 sec. Users per second: 1251\n"
     ]
    },
    {
     "name": "stderr",
     "output_type": "stream",
     "text": [
      "[I 2023-12-16 00:40:10,517] Trial 63 finished with value: 0.03206642932052798 and parameters: {'alpha': 0.41890329626145806, 'beta': 0.260522670965038}. Best is trial 61 with value: 0.032297865461800086.\n"
     ]
    },
    {
     "name": "stdout",
     "output_type": "stream",
     "text": [
      "ScoresHybridRecommender: URM Detected 463 ( 3.7%) users with no interactions.\n",
      "ScoresHybridRecommender: URM Detected 350 ( 1.6%) items with no interactions.\n",
      "EvaluatorHoldout: Processed 10065 (100.0%) in 7.95 sec. Users per second: 1265\n"
     ]
    },
    {
     "name": "stderr",
     "output_type": "stream",
     "text": [
      "[I 2023-12-16 00:40:18,544] Trial 64 finished with value: 0.03216404087715585 and parameters: {'alpha': 0.5388527477962946, 'beta': 0.3929485423325588}. Best is trial 61 with value: 0.032297865461800086.\n"
     ]
    },
    {
     "name": "stdout",
     "output_type": "stream",
     "text": [
      "ScoresHybridRecommender: URM Detected 463 ( 3.7%) users with no interactions.\n",
      "ScoresHybridRecommender: URM Detected 350 ( 1.6%) items with no interactions.\n",
      "EvaluatorHoldout: Processed 10065 (100.0%) in 8.04 sec. Users per second: 1251\n"
     ]
    },
    {
     "name": "stderr",
     "output_type": "stream",
     "text": [
      "[I 2023-12-16 00:40:26,704] Trial 65 finished with value: 0.032291233963365355 and parameters: {'alpha': 0.5195701684166885, 'beta': 0.30002929080102864}. Best is trial 61 with value: 0.032297865461800086.\n"
     ]
    },
    {
     "name": "stdout",
     "output_type": "stream",
     "text": [
      "ScoresHybridRecommender: URM Detected 463 ( 3.7%) users with no interactions.\n",
      "ScoresHybridRecommender: URM Detected 350 ( 1.6%) items with no interactions.\n",
      "EvaluatorHoldout: Processed 10065 (100.0%) in 7.86 sec. Users per second: 1280\n"
     ]
    },
    {
     "name": "stderr",
     "output_type": "stream",
     "text": [
      "[I 2023-12-16 00:40:34,630] Trial 66 finished with value: 0.032253601589667426 and parameters: {'alpha': 0.5712352222229989, 'beta': 0.3148628984112836}. Best is trial 61 with value: 0.032297865461800086.\n"
     ]
    },
    {
     "name": "stdout",
     "output_type": "stream",
     "text": [
      "ScoresHybridRecommender: URM Detected 463 ( 3.7%) users with no interactions.\n",
      "ScoresHybridRecommender: URM Detected 350 ( 1.6%) items with no interactions.\n",
      "EvaluatorHoldout: Processed 10065 (100.0%) in 7.65 sec. Users per second: 1316\n"
     ]
    },
    {
     "name": "stderr",
     "output_type": "stream",
     "text": [
      "[I 2023-12-16 00:40:42,375] Trial 67 finished with value: 0.031389973111284906 and parameters: {'alpha': 0.02805644701708998, 'beta': 0.8015482119514865}. Best is trial 61 with value: 0.032297865461800086.\n"
     ]
    },
    {
     "name": "stdout",
     "output_type": "stream",
     "text": [
      "ScoresHybridRecommender: URM Detected 463 ( 3.7%) users with no interactions.\n",
      "ScoresHybridRecommender: URM Detected 350 ( 1.6%) items with no interactions.\n",
      "EvaluatorHoldout: Processed 10065 (100.0%) in 7.43 sec. Users per second: 1354\n"
     ]
    },
    {
     "name": "stderr",
     "output_type": "stream",
     "text": [
      "[I 2023-12-16 00:40:49,864] Trial 68 finished with value: 0.032142660011512655 and parameters: {'alpha': 0.3846615687805196, 'beta': 0.44347398793216464}. Best is trial 61 with value: 0.032297865461800086.\n"
     ]
    },
    {
     "name": "stdout",
     "output_type": "stream",
     "text": [
      "ScoresHybridRecommender: URM Detected 463 ( 3.7%) users with no interactions.\n",
      "ScoresHybridRecommender: URM Detected 350 ( 1.6%) items with no interactions.\n",
      "EvaluatorHoldout: Processed 10065 (100.0%) in 7.41 sec. Users per second: 1358\n"
     ]
    },
    {
     "name": "stderr",
     "output_type": "stream",
     "text": [
      "[I 2023-12-16 00:40:57,363] Trial 69 finished with value: 0.03224647726287091 and parameters: {'alpha': 0.44233616460526964, 'beta': 0.39903071535738427}. Best is trial 61 with value: 0.032297865461800086.\n"
     ]
    },
    {
     "name": "stdout",
     "output_type": "stream",
     "text": [
      "ScoresHybridRecommender: URM Detected 463 ( 3.7%) users with no interactions.\n",
      "ScoresHybridRecommender: URM Detected 350 ( 1.6%) items with no interactions.\n",
      "EvaluatorHoldout: Processed 10065 (100.0%) in 7.35 sec. Users per second: 1369\n"
     ]
    },
    {
     "name": "stderr",
     "output_type": "stream",
     "text": [
      "[I 2023-12-16 00:41:04,782] Trial 70 finished with value: 0.03224818047768888 and parameters: {'alpha': 0.4852690250937039, 'beta': 0.3015195149248116}. Best is trial 61 with value: 0.032297865461800086.\n"
     ]
    },
    {
     "name": "stdout",
     "output_type": "stream",
     "text": [
      "ScoresHybridRecommender: URM Detected 463 ( 3.7%) users with no interactions.\n",
      "ScoresHybridRecommender: URM Detected 350 ( 1.6%) items with no interactions.\n",
      "EvaluatorHoldout: Processed 10065 (100.0%) in 7.35 sec. Users per second: 1369\n"
     ]
    },
    {
     "name": "stderr",
     "output_type": "stream",
     "text": [
      "[I 2023-12-16 00:41:12,194] Trial 71 finished with value: 0.03227100434477505 and parameters: {'alpha': 0.5191026679806164, 'beta': 0.2891066750809858}. Best is trial 61 with value: 0.032297865461800086.\n"
     ]
    },
    {
     "name": "stdout",
     "output_type": "stream",
     "text": [
      "ScoresHybridRecommender: URM Detected 463 ( 3.7%) users with no interactions.\n",
      "ScoresHybridRecommender: URM Detected 350 ( 1.6%) items with no interactions.\n",
      "EvaluatorHoldout: Processed 10065 (100.0%) in 7.43 sec. Users per second: 1355\n"
     ]
    },
    {
     "name": "stderr",
     "output_type": "stream",
     "text": [
      "[I 2023-12-16 00:41:19,729] Trial 72 finished with value: 0.03224437190010984 and parameters: {'alpha': 0.5171208651802499, 'beta': 0.26229810324760094}. Best is trial 61 with value: 0.032297865461800086.\n"
     ]
    },
    {
     "name": "stdout",
     "output_type": "stream",
     "text": [
      "ScoresHybridRecommender: URM Detected 463 ( 3.7%) users with no interactions.\n",
      "ScoresHybridRecommender: URM Detected 350 ( 1.6%) items with no interactions.\n",
      "EvaluatorHoldout: Processed 10065 (100.0%) in 7.35 sec. Users per second: 1368\n"
     ]
    },
    {
     "name": "stderr",
     "output_type": "stream",
     "text": [
      "[I 2023-12-16 00:41:27,167] Trial 73 finished with value: 0.032228321466026624 and parameters: {'alpha': 0.5659626168818332, 'beta': 0.29401319608517046}. Best is trial 61 with value: 0.032297865461800086.\n"
     ]
    },
    {
     "name": "stdout",
     "output_type": "stream",
     "text": [
      "ScoresHybridRecommender: URM Detected 463 ( 3.7%) users with no interactions.\n",
      "ScoresHybridRecommender: URM Detected 350 ( 1.6%) items with no interactions.\n",
      "EvaluatorHoldout: Processed 10065 (100.0%) in 7.28 sec. Users per second: 1382\n"
     ]
    },
    {
     "name": "stderr",
     "output_type": "stream",
     "text": [
      "[I 2023-12-16 00:41:34,511] Trial 74 finished with value: 0.03225529297660461 and parameters: {'alpha': 0.46019848877329833, 'beta': 0.3475847980158762}. Best is trial 61 with value: 0.032297865461800086.\n"
     ]
    },
    {
     "name": "stdout",
     "output_type": "stream",
     "text": [
      "ScoresHybridRecommender: URM Detected 463 ( 3.7%) users with no interactions.\n",
      "ScoresHybridRecommender: URM Detected 350 ( 1.6%) items with no interactions.\n",
      "EvaluatorHoldout: Processed 10065 (100.0%) in 7.34 sec. Users per second: 1372\n"
     ]
    },
    {
     "name": "stderr",
     "output_type": "stream",
     "text": [
      "[I 2023-12-16 00:41:41,936] Trial 75 finished with value: 0.0319571791293105 and parameters: {'alpha': 0.41043711829196716, 'beta': 0.18738670824495987}. Best is trial 61 with value: 0.032297865461800086.\n"
     ]
    },
    {
     "name": "stdout",
     "output_type": "stream",
     "text": [
      "ScoresHybridRecommender: URM Detected 463 ( 3.7%) users with no interactions.\n",
      "ScoresHybridRecommender: URM Detected 350 ( 1.6%) items with no interactions.\n",
      "EvaluatorHoldout: Processed 10065 (100.0%) in 7.33 sec. Users per second: 1372\n"
     ]
    },
    {
     "name": "stderr",
     "output_type": "stream",
     "text": [
      "[I 2023-12-16 00:41:49,353] Trial 76 finished with value: 0.031202343497425667 and parameters: {'alpha': 0.9765247351365601, 'beta': 0.019683342618877775}. Best is trial 61 with value: 0.032297865461800086.\n"
     ]
    },
    {
     "name": "stdout",
     "output_type": "stream",
     "text": [
      "ScoresHybridRecommender: URM Detected 463 ( 3.7%) users with no interactions.\n",
      "ScoresHybridRecommender: URM Detected 350 ( 1.6%) items with no interactions.\n",
      "EvaluatorHoldout: Processed 10065 (100.0%) in 7.33 sec. Users per second: 1373\n"
     ]
    },
    {
     "name": "stderr",
     "output_type": "stream",
     "text": [
      "[I 2023-12-16 00:41:56,736] Trial 77 finished with value: 0.03209480046365311 and parameters: {'alpha': 0.6138213754988201, 'beta': 0.3182135800918192}. Best is trial 61 with value: 0.032297865461800086.\n"
     ]
    },
    {
     "name": "stdout",
     "output_type": "stream",
     "text": [
      "ScoresHybridRecommender: URM Detected 463 ( 3.7%) users with no interactions.\n",
      "ScoresHybridRecommender: URM Detected 350 ( 1.6%) items with no interactions.\n",
      "EvaluatorHoldout: Processed 10065 (100.0%) in 7.39 sec. Users per second: 1361\n"
     ]
    },
    {
     "name": "stderr",
     "output_type": "stream",
     "text": [
      "[I 2023-12-16 00:42:04,186] Trial 78 finished with value: 0.031787326820113905 and parameters: {'alpha': 0.3329083317145062, 'beta': 0.22645601038480373}. Best is trial 61 with value: 0.032297865461800086.\n"
     ]
    },
    {
     "name": "stdout",
     "output_type": "stream",
     "text": [
      "ScoresHybridRecommender: URM Detected 463 ( 3.7%) users with no interactions.\n",
      "ScoresHybridRecommender: URM Detected 350 ( 1.6%) items with no interactions.\n",
      "EvaluatorHoldout: Processed 10065 (100.0%) in 7.72 sec. Users per second: 1303\n"
     ]
    },
    {
     "name": "stderr",
     "output_type": "stream",
     "text": [
      "[I 2023-12-16 00:42:11,964] Trial 79 finished with value: 0.032221307532783176 and parameters: {'alpha': 0.5519120673650965, 'beta': 0.26580753783163025}. Best is trial 61 with value: 0.032297865461800086.\n"
     ]
    },
    {
     "name": "stdout",
     "output_type": "stream",
     "text": [
      "ScoresHybridRecommender: URM Detected 463 ( 3.7%) users with no interactions.\n",
      "ScoresHybridRecommender: URM Detected 350 ( 1.6%) items with no interactions.\n",
      "EvaluatorHoldout: Processed 10065 (100.0%) in 7.48 sec. Users per second: 1345\n"
     ]
    },
    {
     "name": "stderr",
     "output_type": "stream",
     "text": [
      "[I 2023-12-16 00:42:19,550] Trial 80 finished with value: 0.031994022977629724 and parameters: {'alpha': 0.6639526224114773, 'beta': 0.3225292916556115}. Best is trial 61 with value: 0.032297865461800086.\n"
     ]
    },
    {
     "name": "stdout",
     "output_type": "stream",
     "text": [
      "ScoresHybridRecommender: URM Detected 463 ( 3.7%) users with no interactions.\n",
      "ScoresHybridRecommender: URM Detected 350 ( 1.6%) items with no interactions.\n",
      "EvaluatorHoldout: Processed 10065 (100.0%) in 7.42 sec. Users per second: 1356\n"
     ]
    },
    {
     "name": "stderr",
     "output_type": "stream",
     "text": [
      "[I 2023-12-16 00:42:27,069] Trial 81 finished with value: 0.032259720546606 and parameters: {'alpha': 0.5142493535397824, 'beta': 0.2858895045696982}. Best is trial 61 with value: 0.032297865461800086.\n"
     ]
    },
    {
     "name": "stdout",
     "output_type": "stream",
     "text": [
      "ScoresHybridRecommender: URM Detected 463 ( 3.7%) users with no interactions.\n",
      "ScoresHybridRecommender: URM Detected 350 ( 1.6%) items with no interactions.\n",
      "EvaluatorHoldout: Processed 10065 (100.0%) in 7.41 sec. Users per second: 1359\n"
     ]
    },
    {
     "name": "stderr",
     "output_type": "stream",
     "text": [
      "[I 2023-12-16 00:42:34,560] Trial 82 finished with value: 0.03229100923363235 and parameters: {'alpha': 0.47772631823943607, 'beta': 0.30059483775116397}. Best is trial 61 with value: 0.032297865461800086.\n"
     ]
    },
    {
     "name": "stdout",
     "output_type": "stream",
     "text": [
      "ScoresHybridRecommender: URM Detected 463 ( 3.7%) users with no interactions.\n",
      "ScoresHybridRecommender: URM Detected 350 ( 1.6%) items with no interactions.\n",
      "EvaluatorHoldout: Processed 10065 (100.0%) in 7.42 sec. Users per second: 1357\n"
     ]
    },
    {
     "name": "stderr",
     "output_type": "stream",
     "text": [
      "[I 2023-12-16 00:42:42,046] Trial 83 finished with value: 0.03222918095868935 and parameters: {'alpha': 0.48655599607344424, 'beta': 0.30347035159638985}. Best is trial 61 with value: 0.032297865461800086.\n"
     ]
    },
    {
     "name": "stdout",
     "output_type": "stream",
     "text": [
      "ScoresHybridRecommender: URM Detected 463 ( 3.7%) users with no interactions.\n",
      "ScoresHybridRecommender: URM Detected 350 ( 1.6%) items with no interactions.\n",
      "EvaluatorHoldout: Processed 10065 (100.0%) in 8.54 sec. Users per second: 1178\n"
     ]
    },
    {
     "name": "stderr",
     "output_type": "stream",
     "text": [
      "[I 2023-12-16 00:42:50,646] Trial 84 finished with value: 0.032192025642845484 and parameters: {'alpha': 0.43663335266143166, 'beta': 0.36318389437598436}. Best is trial 61 with value: 0.032297865461800086.\n"
     ]
    },
    {
     "name": "stdout",
     "output_type": "stream",
     "text": [
      "ScoresHybridRecommender: URM Detected 463 ( 3.7%) users with no interactions.\n",
      "ScoresHybridRecommender: URM Detected 350 ( 1.6%) items with no interactions.\n",
      "EvaluatorHoldout: Processed 10065 (100.0%) in 7.69 sec. Users per second: 1309\n"
     ]
    },
    {
     "name": "stderr",
     "output_type": "stream",
     "text": [
      "[I 2023-12-16 00:42:58,436] Trial 85 finished with value: 0.032219580662203755 and parameters: {'alpha': 0.3709946617172517, 'beta': 0.38459308117814434}. Best is trial 61 with value: 0.032297865461800086.\n"
     ]
    },
    {
     "name": "stdout",
     "output_type": "stream",
     "text": [
      "ScoresHybridRecommender: URM Detected 463 ( 3.7%) users with no interactions.\n",
      "ScoresHybridRecommender: URM Detected 350 ( 1.6%) items with no interactions.\n",
      "EvaluatorHoldout: Processed 10065 (100.0%) in 7.51 sec. Users per second: 1340\n"
     ]
    },
    {
     "name": "stderr",
     "output_type": "stream",
     "text": [
      "[I 2023-12-16 00:43:06,009] Trial 86 finished with value: 0.03225926714451322 and parameters: {'alpha': 0.47395433561720207, 'beta': 0.33476225929959047}. Best is trial 61 with value: 0.032297865461800086.\n"
     ]
    },
    {
     "name": "stdout",
     "output_type": "stream",
     "text": [
      "ScoresHybridRecommender: URM Detected 463 ( 3.7%) users with no interactions.\n",
      "ScoresHybridRecommender: URM Detected 350 ( 1.6%) items with no interactions.\n",
      "EvaluatorHoldout: Processed 10065 (100.0%) in 7.35 sec. Users per second: 1369\n"
     ]
    },
    {
     "name": "stderr",
     "output_type": "stream",
     "text": [
      "[I 2023-12-16 00:43:13,431] Trial 87 finished with value: 0.03186947539406574 and parameters: {'alpha': 0.4044797759936911, 'beta': 0.1627187671914924}. Best is trial 61 with value: 0.032297865461800086.\n"
     ]
    },
    {
     "name": "stdout",
     "output_type": "stream",
     "text": [
      "ScoresHybridRecommender: URM Detected 463 ( 3.7%) users with no interactions.\n",
      "ScoresHybridRecommender: URM Detected 350 ( 1.6%) items with no interactions.\n",
      "EvaluatorHoldout: Processed 10065 (100.0%) in 7.32 sec. Users per second: 1375\n"
     ]
    },
    {
     "name": "stderr",
     "output_type": "stream",
     "text": [
      "[I 2023-12-16 00:43:20,809] Trial 88 finished with value: 0.031449837958034896 and parameters: {'alpha': 0.9085917026827929, 'beta': 0.08580536527779176}. Best is trial 61 with value: 0.032297865461800086.\n"
     ]
    },
    {
     "name": "stdout",
     "output_type": "stream",
     "text": [
      "ScoresHybridRecommender: URM Detected 463 ( 3.7%) users with no interactions.\n",
      "ScoresHybridRecommender: URM Detected 350 ( 1.6%) items with no interactions.\n",
      "EvaluatorHoldout: Processed 10065 (100.0%) in 7.28 sec. Users per second: 1383\n"
     ]
    },
    {
     "name": "stderr",
     "output_type": "stream",
     "text": [
      "[I 2023-12-16 00:43:28,194] Trial 89 finished with value: 0.032118665184239246 and parameters: {'alpha': 0.46079133883618556, 'beta': 0.2397574931379191}. Best is trial 61 with value: 0.032297865461800086.\n"
     ]
    },
    {
     "name": "stdout",
     "output_type": "stream",
     "text": [
      "ScoresHybridRecommender: URM Detected 463 ( 3.7%) users with no interactions.\n",
      "ScoresHybridRecommender: URM Detected 350 ( 1.6%) items with no interactions.\n",
      "EvaluatorHoldout: Processed 10065 (100.0%) in 7.42 sec. Users per second: 1356\n"
     ]
    },
    {
     "name": "stderr",
     "output_type": "stream",
     "text": [
      "[I 2023-12-16 00:43:35,686] Trial 90 finished with value: 0.03222799422799446 and parameters: {'alpha': 0.5331552359863277, 'beta': 0.2769581597833428}. Best is trial 61 with value: 0.032297865461800086.\n"
     ]
    },
    {
     "name": "stdout",
     "output_type": "stream",
     "text": [
      "ScoresHybridRecommender: URM Detected 463 ( 3.7%) users with no interactions.\n",
      "ScoresHybridRecommender: URM Detected 350 ( 1.6%) items with no interactions.\n",
      "EvaluatorHoldout: Processed 10065 (100.0%) in 7.79 sec. Users per second: 1292\n"
     ]
    },
    {
     "name": "stderr",
     "output_type": "stream",
     "text": [
      "[I 2023-12-16 00:43:43,538] Trial 91 finished with value: 0.032226294955803404 and parameters: {'alpha': 0.5845743524888619, 'beta': 0.2939461507787757}. Best is trial 61 with value: 0.032297865461800086.\n"
     ]
    },
    {
     "name": "stdout",
     "output_type": "stream",
     "text": [
      "ScoresHybridRecommender: URM Detected 463 ( 3.7%) users with no interactions.\n",
      "ScoresHybridRecommender: URM Detected 350 ( 1.6%) items with no interactions.\n",
      "EvaluatorHoldout: Processed 10065 (100.0%) in 7.76 sec. Users per second: 1297\n"
     ]
    },
    {
     "name": "stderr",
     "output_type": "stream",
     "text": [
      "[I 2023-12-16 00:43:51,383] Trial 92 finished with value: 0.03225283277742322 and parameters: {'alpha': 0.5102066160395797, 'beta': 0.25170925513897136}. Best is trial 61 with value: 0.032297865461800086.\n"
     ]
    },
    {
     "name": "stdout",
     "output_type": "stream",
     "text": [
      "ScoresHybridRecommender: URM Detected 463 ( 3.7%) users with no interactions.\n",
      "ScoresHybridRecommender: URM Detected 350 ( 1.6%) items with no interactions.\n",
      "EvaluatorHoldout: Processed 10065 (100.0%) in 7.77 sec. Users per second: 1296\n"
     ]
    },
    {
     "name": "stderr",
     "output_type": "stream",
     "text": [
      "[I 2023-12-16 00:43:59,212] Trial 93 finished with value: 0.03232528643184406 and parameters: {'alpha': 0.5072513954300486, 'beta': 0.30902582824263064}. Best is trial 93 with value: 0.03232528643184406.\n"
     ]
    },
    {
     "name": "stdout",
     "output_type": "stream",
     "text": [
      "ScoresHybridRecommender: URM Detected 463 ( 3.7%) users with no interactions.\n",
      "ScoresHybridRecommender: URM Detected 350 ( 1.6%) items with no interactions.\n",
      "EvaluatorHoldout: Processed 10065 (100.0%) in 8.18 sec. Users per second: 1230\n"
     ]
    },
    {
     "name": "stderr",
     "output_type": "stream",
     "text": [
      "[I 2023-12-16 00:44:07,457] Trial 94 finished with value: 0.032281065928607126 and parameters: {'alpha': 0.49470126015628435, 'beta': 0.3096569748381577}. Best is trial 93 with value: 0.03232528643184406.\n"
     ]
    },
    {
     "name": "stdout",
     "output_type": "stream",
     "text": [
      "ScoresHybridRecommender: URM Detected 463 ( 3.7%) users with no interactions.\n",
      "ScoresHybridRecommender: URM Detected 350 ( 1.6%) items with no interactions.\n",
      "EvaluatorHoldout: Processed 10065 (100.0%) in 8.14 sec. Users per second: 1237\n"
     ]
    },
    {
     "name": "stderr",
     "output_type": "stream",
     "text": [
      "[I 2023-12-16 00:44:15,721] Trial 95 finished with value: 0.03224416688351134 and parameters: {'alpha': 0.4307767643022879, 'beta': 0.34409839315606}. Best is trial 93 with value: 0.03232528643184406.\n"
     ]
    },
    {
     "name": "stdout",
     "output_type": "stream",
     "text": [
      "ScoresHybridRecommender: URM Detected 463 ( 3.7%) users with no interactions.\n",
      "ScoresHybridRecommender: URM Detected 350 ( 1.6%) items with no interactions.\n",
      "EvaluatorHoldout: Processed 10065 (100.0%) in 7.81 sec. Users per second: 1289\n"
     ]
    },
    {
     "name": "stderr",
     "output_type": "stream",
     "text": [
      "[I 2023-12-16 00:44:23,619] Trial 96 finished with value: 0.032242089119138555 and parameters: {'alpha': 0.5545965182696868, 'beta': 0.3108898074477538}. Best is trial 93 with value: 0.03232528643184406.\n"
     ]
    },
    {
     "name": "stdout",
     "output_type": "stream",
     "text": [
      "ScoresHybridRecommender: URM Detected 463 ( 3.7%) users with no interactions.\n",
      "ScoresHybridRecommender: URM Detected 350 ( 1.6%) items with no interactions.\n",
      "EvaluatorHoldout: Processed 10065 (100.0%) in 7.77 sec. Users per second: 1296\n"
     ]
    },
    {
     "name": "stderr",
     "output_type": "stream",
     "text": [
      "[I 2023-12-16 00:44:31,554] Trial 97 finished with value: 0.032223610026888956 and parameters: {'alpha': 0.4990082098008028, 'beta': 0.35640267026553496}. Best is trial 93 with value: 0.03232528643184406.\n"
     ]
    },
    {
     "name": "stdout",
     "output_type": "stream",
     "text": [
      "ScoresHybridRecommender: URM Detected 463 ( 3.7%) users with no interactions.\n",
      "ScoresHybridRecommender: URM Detected 350 ( 1.6%) items with no interactions.\n",
      "EvaluatorHoldout: Processed 10065 (100.0%) in 7.91 sec. Users per second: 1272\n"
     ]
    },
    {
     "name": "stderr",
     "output_type": "stream",
     "text": [
      "[I 2023-12-16 00:44:39,581] Trial 98 finished with value: 0.03227508496360971 and parameters: {'alpha': 0.45586395956051734, 'beta': 0.3329198895865545}. Best is trial 93 with value: 0.03232528643184406.\n"
     ]
    },
    {
     "name": "stdout",
     "output_type": "stream",
     "text": [
      "ScoresHybridRecommender: URM Detected 463 ( 3.7%) users with no interactions.\n",
      "ScoresHybridRecommender: URM Detected 350 ( 1.6%) items with no interactions.\n",
      "EvaluatorHoldout: Processed 10065 (100.0%) in 7.68 sec. Users per second: 1310\n"
     ]
    },
    {
     "name": "stderr",
     "output_type": "stream",
     "text": [
      "[I 2023-12-16 00:44:47,326] Trial 99 finished with value: 0.032203585424897166 and parameters: {'alpha': 0.5312935610316081, 'beta': 0.373681817826226}. Best is trial 93 with value: 0.03232528643184406.\n"
     ]
    }
   ],
   "source": [
    "best_params = {\n",
    "    \"alphas\": [1, 1, 1],\n",
    "}\n",
    "\n",
    "study_name = \"hybrid-scores-linear-study\"  # Unique identifier of the study.\n",
    "storage_name = \"sqlite:///db.db\"\n",
    "study = op.create_study(study_name=study_name, storage=storage_name, direction=\"maximize\", load_if_exists=True)\n",
    "#study.enqueue_trial(best_params)\n",
    "study.optimize(objective, n_trials=100)h"
   ]
  },
  {
   "cell_type": "code",
   "execution_count": 16,
   "id": "f18968c2188a349a",
   "metadata": {
    "collapsed": false,
    "ExecuteTime": {
     "end_time": "2023-12-15T23:45:03.071212760Z",
     "start_time": "2023-12-15T23:45:02.986868941Z"
    }
   },
   "outputs": [
    {
     "data": {
      "text/plain": "{'alpha': 0.5072513954300486, 'beta': 0.30902582824263064}"
     },
     "execution_count": 16,
     "metadata": {},
     "output_type": "execute_result"
    }
   ],
   "source": [
    "study.best_params"
   ]
  },
  {
   "cell_type": "code",
   "execution_count": 17,
   "outputs": [
    {
     "name": "stdout",
     "output_type": "stream",
     "text": [
      "ScoresHybridRecommender: URM Detected 219 ( 1.7%) users with no interactions.\n",
      "ScoresHybridRecommender: URM Detected 132 ( 0.6%) items with no interactions.\n"
     ]
    }
   ],
   "source": [
    "final = ScoresHybridRecommender(URM_train_validation, slim, rp3, itemknn)\n",
    "final.fit(**study.best_params)"
   ],
   "metadata": {
    "collapsed": false,
    "ExecuteTime": {
     "end_time": "2023-12-15T23:45:51.406536031Z",
     "start_time": "2023-12-15T23:45:51.316634034Z"
    }
   },
   "id": "598a6af814915992"
  },
  {
   "cell_type": "code",
   "execution_count": 18,
   "id": "1a0a3570fbcb348b",
   "metadata": {
    "collapsed": false,
    "ExecuteTime": {
     "end_time": "2023-12-15T23:46:02.232001718Z",
     "start_time": "2023-12-15T23:45:54.318127690Z"
    }
   },
   "outputs": [
    {
     "name": "stdout",
     "output_type": "stream",
     "text": [
      "EvaluatorHoldout: Ignoring 2184 (17.3%) Users that have less than 1 test interactions\n",
      "EvaluatorHoldout: Ignoring 0 Users\n",
      "EvaluatorHoldout: Processed 10454 (100.0%) in 7.87 sec. Users per second: 1328\n"
     ]
    },
    {
     "data": {
      "text/plain": "(       PRECISION PRECISION_RECALL_MIN_DEN    RECALL       MAP MAP_MIN_DEN  \\\n cutoff                                                                      \n 10      0.089047                 0.151877  0.127205  0.045314    0.076721   \n \n              MRR     NDCG       F1  HIT_RATE ARHR_ALL_HITS  ... COVERAGE_USER  \\\n cutoff                                                      ...                 \n 10      0.256018  0.13966  0.10476  0.495313      0.336462  ...      0.827188   \n \n        COVERAGE_USER_HIT USERS_IN_GT DIVERSITY_GINI SHANNON_ENTROPY  \\\n cutoff                                                                \n 10              0.409717    0.827188       0.072895       10.533339   \n \n        RATIO_DIVERSITY_HERFINDAHL RATIO_DIVERSITY_GINI RATIO_SHANNON_ENTROPY  \\\n cutoff                                                                         \n 10                       0.998302             0.209025              0.811384   \n \n        RATIO_AVERAGE_POPULARITY RATIO_NOVELTY  \n cutoff                                         \n 10                     1.607433      0.292792  \n \n [1 rows x 27 columns],\n 'CUTOFF: 10 - PRECISION: 0.0890473, PRECISION_RECALL_MIN_DEN: 0.1518765, RECALL: 0.1272053, MAP: 0.0453145, MAP_MIN_DEN: 0.0767215, MRR: 0.2560183, NDCG: 0.1396597, F1: 0.1047597, HIT_RATE: 0.4953128, ARHR_ALL_HITS: 0.3364620, NOVELTY: 0.0051834, AVERAGE_POPULARITY: 0.2024060, DIVERSITY_MEAN_INTER_LIST: 0.9795070, DIVERSITY_HERFINDAHL: 0.9979413, COVERAGE_ITEM: 0.3770588, COVERAGE_ITEM_HIT: 0.0862209, ITEMS_IN_GT: 0.8024930, COVERAGE_USER: 0.8271878, COVERAGE_USER_HIT: 0.4097167, USERS_IN_GT: 0.8271878, DIVERSITY_GINI: 0.0728946, SHANNON_ENTROPY: 10.5333389, RATIO_DIVERSITY_HERFINDAHL: 0.9983018, RATIO_DIVERSITY_GINI: 0.2090254, RATIO_SHANNON_ENTROPY: 0.8113839, RATIO_AVERAGE_POPULARITY: 1.6074326, RATIO_NOVELTY: 0.2927916, \\n')"
     },
     "execution_count": 18,
     "metadata": {},
     "output_type": "execute_result"
    }
   ],
   "source": [
    "from Evaluation.Evaluator import EvaluatorHoldout\n",
    "evaluator_test = EvaluatorHoldout(URM_test, cutoff_list=[10], ignore_users=[])\n",
    "evaluator_test.evaluateRecommender(final)"
   ]
  },
  {
   "cell_type": "code",
   "execution_count": 19,
   "id": "5a67428de0ca1e4f",
   "metadata": {
    "collapsed": false,
    "ExecuteTime": {
     "end_time": "2023-12-15T23:46:18.886786383Z",
     "start_time": "2023-12-15T23:46:12.811471705Z"
    }
   },
   "outputs": [
    {
     "name": "stdout",
     "output_type": "stream",
     "text": [
      "EvaluatorHoldout: Processed 10454 (100.0%) in 6.03 sec. Users per second: 1734\n"
     ]
    },
    {
     "data": {
      "text/plain": "(       PRECISION PRECISION_RECALL_MIN_DEN    RECALL       MAP MAP_MIN_DEN  \\\n cutoff                                                                      \n 10      0.078955                 0.137148  0.116498  0.037969    0.066754   \n \n              MRR      NDCG        F1  HIT_RATE ARHR_ALL_HITS  ...  \\\n cutoff                                                        ...   \n 10      0.231649  0.124553  0.094121  0.474077      0.294289  ...   \n \n        COVERAGE_USER COVERAGE_USER_HIT USERS_IN_GT DIVERSITY_GINI  \\\n cutoff                                                              \n 10          0.827188          0.392151    0.827188       0.050939   \n \n        SHANNON_ENTROPY RATIO_DIVERSITY_HERFINDAHL RATIO_DIVERSITY_GINI  \\\n cutoff                                                                   \n 10           10.043526                   0.997462             0.147806   \n \n        RATIO_SHANNON_ENTROPY RATIO_AVERAGE_POPULARITY RATIO_NOVELTY  \n cutoff                                                               \n 10                  0.774308                 1.962287       0.35363  \n \n [1 rows x 27 columns],\n 'CUTOFF: 10 - PRECISION: 0.0789554, PRECISION_RECALL_MIN_DEN: 0.1371481, RECALL: 0.1164977, MAP: 0.0379693, MAP_MIN_DEN: 0.0667540, MRR: 0.2316486, NDCG: 0.1245532, F1: 0.0941210, HIT_RATE: 0.4740769, ARHR_ALL_HITS: 0.2942889, NOVELTY: 0.0050042, AVERAGE_POPULARITY: 0.2424260, DIVERSITY_MEAN_INTER_LIST: 0.9711015, DIVERSITY_HERFINDAHL: 0.9971009, COVERAGE_ITEM: 0.2877779, COVERAGE_ITEM_HIT: 0.0713257, ITEMS_IN_GT: 0.8024930, COVERAGE_USER: 0.8271878, COVERAGE_USER_HIT: 0.3921507, USERS_IN_GT: 0.8271878, DIVERSITY_GINI: 0.0509391, SHANNON_ENTROPY: 10.0435255, RATIO_DIVERSITY_HERFINDAHL: 0.9974618, RATIO_DIVERSITY_GINI: 0.1478057, RATIO_SHANNON_ENTROPY: 0.7743084, RATIO_AVERAGE_POPULARITY: 1.9622866, RATIO_NOVELTY: 0.3536302, \\n')"
     },
     "execution_count": 19,
     "metadata": {},
     "output_type": "execute_result"
    }
   ],
   "source": [
    "evaluator_test.evaluateRecommender(slim)"
   ]
  }
 ],
 "metadata": {
  "kernelspec": {
   "display_name": "Python 3",
   "language": "python",
   "name": "python3"
  },
  "language_info": {
   "codemirror_mode": {
    "name": "ipython",
    "version": 2
   },
   "file_extension": ".py",
   "mimetype": "text/x-python",
   "name": "python",
   "nbconvert_exporter": "python",
   "pygments_lexer": "ipython2",
   "version": "2.7.6"
  }
 },
 "nbformat": 4,
 "nbformat_minor": 5
}
