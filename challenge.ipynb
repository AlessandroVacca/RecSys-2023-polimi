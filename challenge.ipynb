{
 "cells": [
  {
   "cell_type": "markdown",
   "metadata": {},
   "source": [
    "# Recommender Systems 2022/23\n",
    "\n",
    "### Practice 3 - Content Based recommenders\n",
    "\n",
    "\n",
    "### Load the data you saw last time:"
   ]
  },
  {
   "cell_type": "code",
   "execution_count": 1,
   "metadata": {},
   "outputs": [],
   "source": [
    "from urllib.request import urlretrieve\n",
    "import zipfile, os\n",
    "\n",
    "# If file exists, skip the download\n",
    "data_file_path = \"Data_manager_split_datasets/Movielens10M/\"\n",
    "data_file_name = data_file_path + \"movielens_10m.zip\"\n",
    "\n",
    "# If directory does not exist, create\n",
    "if not os.path.exists(data_file_path):\n",
    "    os.makedirs(data_file_path)\n",
    "\n",
    "if not os.path.exists(data_file_name):\n",
    "    urlretrieve (\"http://files.grouplens.org/datasets/movielens/ml-10m.zip\", data_file_name)\n",
    "    \n",
    "dataFile = zipfile.ZipFile(data_file_path + \"movielens_10m.zip\")\n",
    "\n",
    "URM_path = dataFile.extract(\"ml-10M100K/ratings.dat\", path = data_file_path + \"decompressed/\")\n",
    "\n",
    "URM_file = open(URM_path, 'r')"
   ]
  },
  {
   "cell_type": "code",
   "execution_count": 2,
   "metadata": {},
   "outputs": [],
   "source": [
    "import pandas as pd\n",
    "URM_path = \"./Data_manager/challenge/data_train.csv\"\n",
    "URM_all_dataframe = pd.read_csv(filepath_or_buffer=URM_path, \n",
    "                                sep=\",\", \n",
    "                                # header=None, \n",
    "                                dtype={0:int, 1:int, 2:int},\n",
    "                                engine='python')\n",
    "\n",
    "URM_all_dataframe.columns = [\"UserID\", \"ItemID\", \"Interaction\"]"
   ]
  },
  {
   "cell_type": "code",
   "execution_count": 3,
   "metadata": {},
   "outputs": [
    {
     "data": {
      "text/html": [
       "<div>\n",
       "<style scoped>\n",
       "    .dataframe tbody tr th:only-of-type {\n",
       "        vertical-align: middle;\n",
       "    }\n",
       "\n",
       "    .dataframe tbody tr th {\n",
       "        vertical-align: top;\n",
       "    }\n",
       "\n",
       "    .dataframe thead th {\n",
       "        text-align: right;\n",
       "    }\n",
       "</style>\n",
       "<table border=\"1\" class=\"dataframe\">\n",
       "  <thead>\n",
       "    <tr style=\"text-align: right;\">\n",
       "      <th></th>\n",
       "      <th>UserID</th>\n",
       "      <th>ItemID</th>\n",
       "      <th>Interaction</th>\n",
       "    </tr>\n",
       "  </thead>\n",
       "  <tbody>\n",
       "    <tr>\n",
       "      <th>0</th>\n",
       "      <td>1</td>\n",
       "      <td>7</td>\n",
       "      <td>1</td>\n",
       "    </tr>\n",
       "    <tr>\n",
       "      <th>1</th>\n",
       "      <td>1</td>\n",
       "      <td>15</td>\n",
       "      <td>1</td>\n",
       "    </tr>\n",
       "    <tr>\n",
       "      <th>2</th>\n",
       "      <td>1</td>\n",
       "      <td>16</td>\n",
       "      <td>1</td>\n",
       "    </tr>\n",
       "    <tr>\n",
       "      <th>3</th>\n",
       "      <td>1</td>\n",
       "      <td>133</td>\n",
       "      <td>1</td>\n",
       "    </tr>\n",
       "    <tr>\n",
       "      <th>4</th>\n",
       "      <td>1</td>\n",
       "      <td>161</td>\n",
       "      <td>1</td>\n",
       "    </tr>\n",
       "    <tr>\n",
       "      <th>5</th>\n",
       "      <td>1</td>\n",
       "      <td>187</td>\n",
       "      <td>1</td>\n",
       "    </tr>\n",
       "    <tr>\n",
       "      <th>6</th>\n",
       "      <td>1</td>\n",
       "      <td>205</td>\n",
       "      <td>1</td>\n",
       "    </tr>\n",
       "    <tr>\n",
       "      <th>7</th>\n",
       "      <td>1</td>\n",
       "      <td>222</td>\n",
       "      <td>1</td>\n",
       "    </tr>\n",
       "    <tr>\n",
       "      <th>8</th>\n",
       "      <td>1</td>\n",
       "      <td>237</td>\n",
       "      <td>1</td>\n",
       "    </tr>\n",
       "    <tr>\n",
       "      <th>9</th>\n",
       "      <td>1</td>\n",
       "      <td>354</td>\n",
       "      <td>1</td>\n",
       "    </tr>\n",
       "  </tbody>\n",
       "</table>\n",
       "</div>"
      ],
      "text/plain": [
       "   UserID  ItemID  Interaction\n",
       "0       1       7            1\n",
       "1       1      15            1\n",
       "2       1      16            1\n",
       "3       1     133            1\n",
       "4       1     161            1\n",
       "5       1     187            1\n",
       "6       1     205            1\n",
       "7       1     222            1\n",
       "8       1     237            1\n",
       "9       1     354            1"
      ]
     },
     "execution_count": 3,
     "metadata": {},
     "output_type": "execute_result"
    }
   ],
   "source": [
    "URM_all_dataframe.head(10)"
   ]
  },
  {
   "cell_type": "markdown",
   "metadata": {},
   "source": [
    "### BUILD the SPARSE URM matrix"
   ]
  },
  {
   "cell_type": "code",
   "execution_count": 4,
   "metadata": {},
   "outputs": [
    {
     "data": {
      "text/html": [
       "<div>\n",
       "<style scoped>\n",
       "    .dataframe tbody tr th:only-of-type {\n",
       "        vertical-align: middle;\n",
       "    }\n",
       "\n",
       "    .dataframe tbody tr th {\n",
       "        vertical-align: top;\n",
       "    }\n",
       "\n",
       "    .dataframe thead th {\n",
       "        text-align: right;\n",
       "    }\n",
       "</style>\n",
       "<table border=\"1\" class=\"dataframe\">\n",
       "  <thead>\n",
       "    <tr style=\"text-align: right;\">\n",
       "      <th></th>\n",
       "      <th>UserID</th>\n",
       "      <th>ItemID</th>\n",
       "      <th>Interaction</th>\n",
       "    </tr>\n",
       "  </thead>\n",
       "  <tbody>\n",
       "    <tr>\n",
       "      <th>0</th>\n",
       "      <td>0</td>\n",
       "      <td>0</td>\n",
       "      <td>1</td>\n",
       "    </tr>\n",
       "    <tr>\n",
       "      <th>1</th>\n",
       "      <td>0</td>\n",
       "      <td>1</td>\n",
       "      <td>1</td>\n",
       "    </tr>\n",
       "    <tr>\n",
       "      <th>2</th>\n",
       "      <td>0</td>\n",
       "      <td>2</td>\n",
       "      <td>1</td>\n",
       "    </tr>\n",
       "    <tr>\n",
       "      <th>3</th>\n",
       "      <td>0</td>\n",
       "      <td>3</td>\n",
       "      <td>1</td>\n",
       "    </tr>\n",
       "    <tr>\n",
       "      <th>4</th>\n",
       "      <td>0</td>\n",
       "      <td>4</td>\n",
       "      <td>1</td>\n",
       "    </tr>\n",
       "    <tr>\n",
       "      <th>5</th>\n",
       "      <td>0</td>\n",
       "      <td>5</td>\n",
       "      <td>1</td>\n",
       "    </tr>\n",
       "    <tr>\n",
       "      <th>6</th>\n",
       "      <td>0</td>\n",
       "      <td>6</td>\n",
       "      <td>1</td>\n",
       "    </tr>\n",
       "    <tr>\n",
       "      <th>7</th>\n",
       "      <td>0</td>\n",
       "      <td>7</td>\n",
       "      <td>1</td>\n",
       "    </tr>\n",
       "    <tr>\n",
       "      <th>8</th>\n",
       "      <td>0</td>\n",
       "      <td>8</td>\n",
       "      <td>1</td>\n",
       "    </tr>\n",
       "    <tr>\n",
       "      <th>9</th>\n",
       "      <td>0</td>\n",
       "      <td>9</td>\n",
       "      <td>1</td>\n",
       "    </tr>\n",
       "  </tbody>\n",
       "</table>\n",
       "</div>"
      ],
      "text/plain": [
       "   UserID  ItemID  Interaction\n",
       "0       0       0            1\n",
       "1       0       1            1\n",
       "2       0       2            1\n",
       "3       0       3            1\n",
       "4       0       4            1\n",
       "5       0       5            1\n",
       "6       0       6            1\n",
       "7       0       7            1\n",
       "8       0       8            1\n",
       "9       0       9            1"
      ]
     },
     "execution_count": 4,
     "metadata": {},
     "output_type": "execute_result"
    }
   ],
   "source": [
    "import scipy.sparse as sps\n",
    "import numpy as np\n",
    "\n",
    "mapped_id, original_id = pd.factorize(URM_all_dataframe[\"UserID\"].unique())\n",
    "user_original_ID_to_index = pd.Series(mapped_id, index=original_id)\n",
    "\n",
    "mapped_id, original_id = pd.factorize(URM_all_dataframe[\"ItemID\"].unique())\n",
    "item_original_ID_to_index = pd.Series(mapped_id, index=original_id)\n",
    "\n",
    "URM_all_dataframe[\"UserID\"] = URM_all_dataframe[\"UserID\"].map(user_original_ID_to_index)\n",
    "URM_all_dataframe[\"ItemID\"] = URM_all_dataframe[\"ItemID\"].map(item_original_ID_to_index)\n",
    "URM_all_dataframe.head(10)"
   ]
  },
  {
   "cell_type": "code",
   "execution_count": 5,
   "metadata": {},
   "outputs": [
    {
     "data": {
      "text/plain": [
       "<12638x22222 sparse matrix of type '<class 'numpy.int64'>'\n",
       "\twith 478730 stored elements in Compressed Sparse Row format>"
      ]
     },
     "execution_count": 5,
     "metadata": {},
     "output_type": "execute_result"
    }
   ],
   "source": [
    "n_users = len(URM_all_dataframe[\"UserID\"].unique())\n",
    "n_items = len(URM_all_dataframe[\"ItemID\"].unique())\n",
    "\n",
    "URM_all = sps.csr_matrix((URM_all_dataframe[\"Interaction\"].values, \n",
    "                          (URM_all_dataframe[\"UserID\"].values, URM_all_dataframe[\"ItemID\"].values)),\n",
    "                        shape = (n_users, n_items))\n",
    "\n",
    "URM_all"
   ]
  },
  {
   "cell_type": "markdown",
   "metadata": {},
   "source": [
    "# Let's take a look at the URM\n"
   ]
  },
  {
   "cell_type": "code",
   "execution_count": 6,
   "metadata": {},
   "outputs": [],
   "source": [
    "URM_all = sps.csr_matrix(URM_all)\n",
    "items_per_user = np.ediff1d(URM_all.indptr)\n",
    "\n",
    "URM_all = sps.csc_matrix(URM_all)\n",
    "users_per_item = np.ediff1d(URM_all.indptr)\n",
    "\n",
    "URM_all = sps.csr_matrix(URM_all)"
   ]
  },
  {
   "cell_type": "code",
   "execution_count": 7,
   "metadata": {},
   "outputs": [
    {
     "name": "stdout",
     "output_type": "stream",
     "text": [
      "(12638,)\n",
      "(22222,)\n"
     ]
    }
   ],
   "source": [
    "print(items_per_user.shape)\n",
    "print(users_per_item.shape)"
   ]
  },
  {
   "cell_type": "code",
   "execution_count": 8,
   "metadata": {},
   "outputs": [],
   "source": [
    "items_per_user = np.sort(items_per_user)\n",
    "users_per_item = np.sort(users_per_item)"
   ]
  },
  {
   "cell_type": "code",
   "execution_count": 9,
   "metadata": {},
   "outputs": [
    {
     "data": {
      "image/png": "[encoded data removed]",
      "text/plain": [
       "<Figure size 640x480 with 1 Axes>"
      ]
     },
     "metadata": {},
     "output_type": "display_data"
    }
   ],
   "source": [
    "import matplotlib.pyplot as pyplot\n",
    "%matplotlib inline  \n",
    "\n",
    "pyplot.plot(items_per_user, 'ro')\n",
    "pyplot.ylabel('Num items ')\n",
    "pyplot.xlabel('Sorted users')\n",
    "pyplot.show()"
   ]
  },
  {
   "cell_type": "code",
   "execution_count": 10,
   "metadata": {},
   "outputs": [
    {
     "data": {
      "image/png": "[encoded data removed]",
      "text/plain": [
       "<Figure size 640x480 with 1 Axes>"
      ]
     },
     "metadata": {},
     "output_type": "display_data"
    }
   ],
   "source": [
    "pyplot.plot(users_per_item, 'ro')\n",
    "pyplot.ylabel('Num users ')\n",
    "pyplot.xlabel('Sorted items')\n",
    "pyplot.show()"
   ]
  },
  {
   "cell_type": "markdown",
   "metadata": {},
   "source": [
    "## DATASET SPLIT"
   ]
  },
  {
   "cell_type": "code",
   "execution_count": 11,
   "metadata": {},
   "outputs": [
    {
     "name": "stdout",
     "output_type": "stream",
     "text": [
      "Warning: 221 (1.75 %) of 12638 users have no train items\n",
      "Warning: 2208 (17.47 %) of 12638 users have no sampled items\n",
      "Warning: 437 (3.46 %) of 12638 users have no train items\n",
      "Warning: 2608 (20.64 %) of 12638 users have no sampled items\n",
      "EvaluatorHoldout: Ignoring 2608 (20.6%) Users that have less than 1 test interactions\n",
      "EvaluatorHoldout: Ignoring 2208 (17.5%) Users that have less than 1 test interactions\n"
     ]
    }
   ],
   "source": [
    "from Evaluation.Evaluator import EvaluatorHoldout\n",
    "from Data_manager.split_functions.split_train_validation_random_holdout import split_train_in_two_percentage_global_sample\n",
    "\n",
    "URM_train, URM_test = split_train_in_two_percentage_global_sample(URM_all, train_percentage = 0.80)\n",
    "URM_train, URM_validation = split_train_in_two_percentage_global_sample(URM_train, train_percentage = 0.80)\n",
    "\n",
    "evaluator_validation = EvaluatorHoldout(URM_validation, cutoff_list=[10])\n",
    "evaluator_test = EvaluatorHoldout(URM_test, cutoff_list=[10])"
   ]
  },
  {
   "cell_type": "markdown",
   "metadata": {},
   "source": [
    "## Similarity matrix"
   ]
  },
  {
   "cell_type": "code",
   "execution_count": 12,
   "metadata": {},
   "outputs": [
    {
     "name": "stdout",
     "output_type": "stream",
     "text": [
      "Similarity column 22222 (100.0%), 1509.51 column/sec. Elapsed time 14.72 sec\n"
     ]
    },
    {
     "data": {
      "text/plain": [
       "<22222x22222 sparse matrix of type '<class 'numpy.float32'>'\n",
       "\twith 2104633 stored elements in Compressed Sparse Row format>"
      ]
     },
     "execution_count": 12,
     "metadata": {},
     "output_type": "execute_result"
    }
   ],
   "source": [
    "from Recommenders.Similarity.Compute_Similarity_Python import Compute_Similarity_Python\n",
    "\n",
    "similarity_object = Compute_Similarity_Python(URM_train, shrink=100.0, \n",
    "                                          topK=100,\n",
    "                                          normalize=True, \n",
    "                                          similarity = \"cosine\")\n",
    "\n",
    "W_sparse = similarity_object.compute_similarity()\n",
    "W_sparse"
   ]
  },
  {
   "cell_type": "markdown",
   "metadata": {},
   "source": [
    "### predition for a certain user"
   ]
  },
  {
   "cell_type": "code",
   "execution_count": 13,
   "metadata": {},
   "outputs": [],
   "source": [
    "user_id = 80\n",
    "\n",
    "user_profile = URM_train[user_id]\n",
    "scores = user_profile.dot(W_sparse).toarray().ravel()\n",
    "\n",
    "ranking = scores.argsort()[::-1]"
   ]
  },
  {
   "cell_type": "code",
   "execution_count": 14,
   "metadata": {},
   "outputs": [
    {
     "data": {
      "image/png": "[encoded data removed]",
      "text/plain": [
       "<Figure size 640x480 with 1 Axes>"
      ]
     },
     "metadata": {},
     "output_type": "display_data"
    },
    {
     "data": {
      "text/plain": [
       "array([ 189,   44,  517,  453,  288,  808,  881, 1266, 3114, 2436])"
      ]
     },
     "execution_count": 14,
     "metadata": {},
     "output_type": "execute_result"
    }
   ],
   "source": [
    "pyplot.plot(scores[ranking], 'ro')\n",
    "pyplot.ylabel('Similarity')\n",
    "pyplot.xlabel('Item')\n",
    "pyplot.show()\n",
    "ranking[0:10]"
   ]
  },
  {
   "cell_type": "markdown",
   "metadata": {},
   "source": [
    "### All together inside a class"
   ]
  },
  {
   "cell_type": "code",
   "execution_count": 117,
   "metadata": {},
   "outputs": [],
   "source": [
    "from Recommenders.KNN.ItemKNNCFRecommender import ItemKNNCFRecommender\n",
    "from Recommenders.NonPersonalizedRecommender import TopPop\n",
    "from Recommenders.SLIM.SLIMElasticNetRecommender import SLIMElasticNetRecommender\n",
    "\n",
    "# from Recommenders.Similarity.Compute_Similarity_Python import Compute_Similarity_Python\n",
    "# import numpy as np\n",
    "\n",
    "# class ItemKNNCFRecommender(object):\n",
    "    \n",
    "#     def __init__(self, URM):\n",
    "#         self.URM = URM\n",
    "\n",
    "#     def get_URM_train(self):\n",
    "#         return self.URM\n",
    "            \n",
    "#     def fit(self, topK=50, shrink=100, normalize=True, similarity=\"cosine\"):\n",
    "        \n",
    "#         similarity_object = Compute_Similarity_Python(self.URM, shrink=shrink, \n",
    "#                                                   topK=topK, normalize=normalize, \n",
    "#                                                   similarity = similarity)\n",
    "        \n",
    "#         self.W_sparse = similarity_object.compute_similarity()\n",
    "\n",
    "        \n",
    "#     def recommend(self, user_id, at=None, exclude_seen=True):\n",
    "#         # compute the scores using the dot product\n",
    "#         user_profile = self.URM[user_id]\n",
    "#         scores = user_profile.dot(self.W_sparse).toarray().ravel()\n",
    "\n",
    "#         if exclude_seen:\n",
    "#             scores = self.filter_seen(user_id, scores)\n",
    "\n",
    "#         # rank items\n",
    "#         ranking = scores.argsort()[::-1]\n",
    "            \n",
    "#         return ranking[:at]\n",
    "\n",
    "#     def recommend_user_profile(self, user_profile, at=None, exclude_seen=True):\n",
    "#         # compute the scores using the dot product\n",
    "#         scores = user_profile.dot(self.W_sparse).toarray().ravel()\n",
    "\n",
    "#         if exclude_seen:\n",
    "#             scores = self.filter_seen(user_id, scores)\n",
    "\n",
    "#         # rank items\n",
    "#         ranking = scores.argsort()[::-1]\n",
    "            \n",
    "#         return ranking[:at]\n",
    "    \n",
    "#     def filter_seen(self, user_id, scores):\n",
    "\n",
    "#         start_pos = self.URM.indptr[user_id]\n",
    "#         end_pos = self.URM.indptr[user_id+1]\n",
    "\n",
    "#         user_profile = self.URM.indices[start_pos:end_pos]\n",
    "        \n",
    "#         scores[user_profile] = -np.inf\n",
    "\n",
    "#         return scores\n",
    "\n",
    "\n",
    "# class TopPopRecommender(object):\n",
    "\n",
    "#     def fit(self, URM_train):\n",
    "        \n",
    "#         self.URM_train = URM_train\n",
    "\n",
    "#         item_popularity = np.ediff1d(URM_train.tocsc().indptr)\n",
    "\n",
    "#         # We are not interested in sorting the popularity value,\n",
    "#         # but to order the items according to it\n",
    "#         self.popular_items = np.argsort(item_popularity)\n",
    "#         self.popular_items = np.flip(self.popular_items, axis = 0)\n",
    "    \n",
    "    \n",
    "#     def recommend(self, user_id, at=5, remove_seen=True):\n",
    "\n",
    "#         if remove_seen:\n",
    "#             seen_items = self.URM_train.indices[self.URM_train.indptr[user_id]:self.URM_train.indptr[user_id+1]]\n",
    "            \n",
    "#             unseen_items_mask = np.in1d(self.popular_items, seen_items, assume_unique=True, invert = True)\n",
    "\n",
    "#             unseen_items = self.popular_items[unseen_items_mask]\n",
    "\n",
    "#             recommended_items = unseen_items[0:at]\n",
    "\n",
    "#         else:\n",
    "#             recommended_items = self.popular_items[0:at]\n",
    "            \n",
    "\n",
    "#         return recommended_items\n"
   ]
  },
  {
   "cell_type": "code",
   "execution_count": 122,
   "metadata": {},
   "outputs": [
    {
     "name": "stdout",
     "output_type": "stream",
     "text": [
      "ItemKNNCFRecommender: URM Detected 437 ( 3.5%) users with no interactions.\n",
      "ItemKNNCFRecommender: URM Detected 339 ( 1.5%) items with no interactions.\n",
      "Similarity column 22222 (100.0%), 7944.40 column/sec. Elapsed time 2.80 sec\n",
      "TopPopRecommender: URM Detected 437 ( 3.5%) users with no interactions.\n",
      "TopPopRecommender: URM Detected 339 ( 1.5%) items with no interactions.\n"
     ]
    }
   ],
   "source": [
    "recommender = ItemKNNCFRecommender(URM_train)\n",
    "recommender.fit(shrink=50.0, topK=10)\n",
    "\n",
    "top_recommender = TopPop(URM_train)\n",
    "top_recommender.fit()"
   ]
  },
  {
   "cell_type": "code",
   "execution_count": 123,
   "metadata": {},
   "outputs": [
    {
     "name": "stdout",
     "output_type": "stream",
     "text": [
      "EvaluatorHoldout: Processed 10430 (100.0%) in 5.30 sec. Users per second: 1967\n"
     ]
    },
    {
     "data": {
      "text/plain": [
       "(       PRECISION PRECISION_RECALL_MIN_DEN    RECALL       MAP MAP_MIN_DEN  \\\n",
       " cutoff                                                                      \n",
       " 10      0.028504                 0.052463  0.044719  0.011092    0.019655   \n",
       " \n",
       "              MRR      NDCG        F1  HIT_RATE ARHR_ALL_HITS  ...  \\\n",
       " cutoff                                                        ...   \n",
       " 10      0.088957  0.043229  0.034816  0.231544      0.099248  ...   \n",
       " \n",
       "        COVERAGE_USER COVERAGE_USER_HIT USERS_IN_GT DIVERSITY_GINI  \\\n",
       " cutoff                                                              \n",
       " 10          0.825289           0.19109    0.825289       0.000536   \n",
       " \n",
       "        SHANNON_ENTROPY RATIO_DIVERSITY_HERFINDAHL RATIO_DIVERSITY_GINI  \\\n",
       " cutoff                                                                   \n",
       " 10            3.600738                   0.913061             0.001559   \n",
       " \n",
       "        RATIO_SHANNON_ENTROPY RATIO_AVERAGE_POPULARITY RATIO_NOVELTY  \n",
       " cutoff                                                               \n",
       " 10                  0.277644                 6.043292       0.27234  \n",
       " \n",
       " [1 rows x 27 columns],\n",
       " 'CUTOFF: 10 - PRECISION: 0.0285043, PRECISION_RECALL_MIN_DEN: 0.0524630, RECALL: 0.0447193, MAP: 0.0110921, MAP_MIN_DEN: 0.0196552, MRR: 0.0889568, NDCG: 0.0432292, F1: 0.0348165, HIT_RATE: 0.2315436, ARHR_ALL_HITS: 0.0992484, NOVELTY: 0.0038532, AVERAGE_POPULARITY: 0.7356648, DIVERSITY_MEAN_INTER_LIST: 0.1273192, DIVERSITY_HERFINDAHL: 0.9127307, COVERAGE_ITEM: 0.0009450, COVERAGE_ITEM_HIT: 0.0008550, ITEMS_IN_GT: 0.8066781, COVERAGE_USER: 0.8252888, COVERAGE_USER_HIT: 0.1910904, USERS_IN_GT: 0.8252888, DIVERSITY_GINI: 0.0005357, SHANNON_ENTROPY: 3.6007385, RATIO_DIVERSITY_HERFINDAHL: 0.9130607, RATIO_DIVERSITY_GINI: 0.0015588, RATIO_SHANNON_ENTROPY: 0.2776436, RATIO_AVERAGE_POPULARITY: 6.0432922, RATIO_NOVELTY: 0.2723400, \\n')"
      ]
     },
     "execution_count": 123,
     "metadata": {},
     "output_type": "execute_result"
    }
   ],
   "source": [
    "evaluator_test.evaluateRecommender(top_recommender)"
   ]
  },
  {
   "cell_type": "markdown",
   "metadata": {},
   "source": [
    "## Hyperarameter tuning\n",
    "\n",
    "#### Once we have built our model we can play with its parameters\n",
    "* Number of neighbors\n",
    "* Shrinkage\n",
    "* Similarity type\n",
    "\n",
    "#### Optimize the recommendation qualtiy on the validation data, then use those hyperparameters to train the model in all the data you have (train + validation) and evaluate on the test data"
   ]
  },
  {
   "cell_type": "code",
   "execution_count": 18,
   "metadata": {},
   "outputs": [
    {
     "name": "stdout",
     "output_type": "stream",
     "text": [
      "ItemKNNCFRecommender: URM Detected 475 ( 3.8%) users with no interactions.\n",
      "ItemKNNCFRecommender: URM Detected 353 ( 1.6%) items with no interactions.\n",
      "Similarity column 22222 (100.0%), 8033.99 column/sec. Elapsed time 2.77 sec\n",
      "EvaluatorHoldout: Processed 10008 (100.0%) in 4.66 sec. Users per second: 2148\n",
      "ItemKNNCFRecommender: URM Detected 475 ( 3.8%) users with no interactions.\n",
      "ItemKNNCFRecommender: URM Detected 353 ( 1.6%) items with no interactions.\n",
      "Similarity column 22222 (100.0%), 7950.25 column/sec. Elapsed time 2.80 sec\n",
      "EvaluatorHoldout: Processed 10008 (100.0%) in 4.89 sec. Users per second: 2045\n",
      "ItemKNNCFRecommender: URM Detected 475 ( 3.8%) users with no interactions.\n",
      "ItemKNNCFRecommender: URM Detected 353 ( 1.6%) items with no interactions.\n",
      "Similarity column 22222 (100.0%), 7885.28 column/sec. Elapsed time 2.82 sec\n",
      "EvaluatorHoldout: Processed 10008 (100.0%) in 5.18 sec. Users per second: 1934\n",
      "ItemKNNCFRecommender: URM Detected 475 ( 3.8%) users with no interactions.\n",
      "ItemKNNCFRecommender: URM Detected 353 ( 1.6%) items with no interactions.\n",
      "Similarity column 22222 (100.0%), 7687.37 column/sec. Elapsed time 2.89 sec\n",
      "EvaluatorHoldout: Processed 10008 (100.0%) in 5.46 sec. Users per second: 1833\n",
      "ItemKNNCFRecommender: URM Detected 475 ( 3.8%) users with no interactions.\n",
      "ItemKNNCFRecommender: URM Detected 353 ( 1.6%) items with no interactions.\n",
      "Similarity column 22222 (100.0%), 7711.51 column/sec. Elapsed time 2.88 sec\n",
      "EvaluatorHoldout: Processed 10008 (100.0%) in 6.15 sec. Users per second: 1626\n",
      "ItemKNNCFRecommender: URM Detected 475 ( 3.8%) users with no interactions.\n",
      "ItemKNNCFRecommender: URM Detected 353 ( 1.6%) items with no interactions.\n",
      "Similarity column 22222 (100.0%), 7546.20 column/sec. Elapsed time 2.94 sec\n",
      "EvaluatorHoldout: Processed 10008 (100.0%) in 7.72 sec. Users per second: 1296\n"
     ]
    },
    {
     "data": {
      "image/png": "[encoded data removed]",
      "text/plain": [
       "<Figure size 640x480 with 1 Axes>"
      ]
     },
     "metadata": {},
     "output_type": "display_data"
    }
   ],
   "source": [
    "from Recommenders.KNN.ItemKNNCFRecommender import ItemKNNCFRecommender\n",
    "\n",
    "x_tick = [5, 10, 50, 100, 200, 500]\n",
    "MAP_per_k = []\n",
    "\n",
    "for topK in x_tick:\n",
    "    \n",
    "    recommender = ItemKNNCFRecommender(URM_train)\n",
    "    recommender.fit(shrink=0.0, topK=topK)\n",
    "    \n",
    "    result_df, _ = evaluator_validation.evaluateRecommender(recommender)\n",
    "    \n",
    "    MAP_per_k.append(result_df.loc[10][\"MAP\"])\n",
    "\n",
    "pyplot.plot(x_tick, MAP_per_k)\n",
    "pyplot.ylabel('MAP')\n",
    "pyplot.xlabel('TopK')\n",
    "pyplot.show()"
   ]
  },
  {
   "cell_type": "code",
   "execution_count": 20,
   "metadata": {},
   "outputs": [
    {
     "name": "stdout",
     "output_type": "stream",
     "text": [
      "ItemKNNCFRecommender: URM Detected 475 ( 3.8%) users with no interactions.\n",
      "ItemKNNCFRecommender: URM Detected 353 ( 1.6%) items with no interactions.\n",
      "Similarity column 22222 (100.0%), 8110.20 column/sec. Elapsed time 2.74 sec\n",
      "EvaluatorHoldout: Processed 10008 (100.0%) in 5.42 sec. Users per second: 1848\n",
      "ItemKNNCFRecommender: URM Detected 475 ( 3.8%) users with no interactions.\n",
      "ItemKNNCFRecommender: URM Detected 353 ( 1.6%) items with no interactions.\n",
      "Similarity column 22222 (100.0%), 8039.09 column/sec. Elapsed time 2.76 sec\n",
      "EvaluatorHoldout: Processed 10008 (100.0%) in 5.58 sec. Users per second: 1795\n",
      "ItemKNNCFRecommender: URM Detected 475 ( 3.8%) users with no interactions.\n",
      "ItemKNNCFRecommender: URM Detected 353 ( 1.6%) items with no interactions.\n",
      "Similarity column 22222 (100.0%), 8686.59 column/sec. Elapsed time 2.56 sec\n",
      "EvaluatorHoldout: Processed 10008 (100.0%) in 6.71 sec. Users per second: 1492\n",
      "ItemKNNCFRecommender: URM Detected 475 ( 3.8%) users with no interactions.\n",
      "ItemKNNCFRecommender: URM Detected 353 ( 1.6%) items with no interactions.\n",
      "Similarity column 22222 (100.0%), 8054.78 column/sec. Elapsed time 2.76 sec\n",
      "EvaluatorHoldout: Processed 10008 (100.0%) in 6.81 sec. Users per second: 1469\n",
      "ItemKNNCFRecommender: URM Detected 475 ( 3.8%) users with no interactions.\n",
      "ItemKNNCFRecommender: URM Detected 353 ( 1.6%) items with no interactions.\n",
      "Similarity column 22222 (100.0%), 8537.14 column/sec. Elapsed time 2.60 sec\n",
      "EvaluatorHoldout: Processed 10008 (100.0%) in 7.14 sec. Users per second: 1401\n",
      "ItemKNNCFRecommender: URM Detected 475 ( 3.8%) users with no interactions.\n",
      "ItemKNNCFRecommender: URM Detected 353 ( 1.6%) items with no interactions.\n",
      "Similarity column 22222 (100.0%), 7678.75 column/sec. Elapsed time 2.89 sec\n",
      "EvaluatorHoldout: Processed 10008 (100.0%) in 7.32 sec. Users per second: 1368\n"
     ]
    },
    {
     "data": {
      "image/png": "[encoded data removed]",
      "text/plain": [
       "<Figure size 640x480 with 1 Axes>"
      ]
     },
     "metadata": {},
     "output_type": "display_data"
    }
   ],
   "source": [
    "x_tick = [0, 10, 50, 100, 200, 500]\n",
    "MAP_per_shrinkage = []\n",
    "\n",
    "for shrink in x_tick:\n",
    "    \n",
    "    recommender = ItemKNNCFRecommender(URM_train)\n",
    "    recommender.fit(shrink=shrink, topK=100)\n",
    "    \n",
    "    result_df, _ = evaluator_validation.evaluateRecommender(recommender)\n",
    "    \n",
    "    MAP_per_shrinkage.append(result_df.loc[10][\"MAP\"])\n",
    "\n",
    "pyplot.plot(x_tick, MAP_per_shrinkage)\n",
    "pyplot.ylabel('MAP')\n",
    "pyplot.xlabel('Shrinkage')\n",
    "pyplot.show()"
   ]
  },
  {
   "cell_type": "markdown",
   "metadata": {},
   "source": [
    "# Generate submissions"
   ]
  },
  {
   "cell_type": "code",
   "execution_count": null,
   "metadata": {},
   "outputs": [],
   "source": [
    "# RETRAIN WITH FULL DATASET\n",
    "recommender = ItemKNNCFRecommender(URM_all)\n",
    "recommender.fit(shrink=50.0, topK=10)\n",
    "\n",
    "top_recommender = TopPopRecommender()\n",
    "top_recommender.fit(URM_all)"
   ]
  },
  {
   "cell_type": "code",
   "execution_count": 18,
   "metadata": {},
   "outputs": [],
   "source": [
    "import pandas as pd\n",
    "URM_path = \"./Data_manager/challenge/data_target_users_test.csv\"\n",
    "URM_all_submission_dataframe = pd.read_csv(filepath_or_buffer=URM_path, \n",
    "                                sep=\",\", \n",
    "                                # header=None, \n",
    "                                dtype={0:int},\n",
    "                                engine='python')\n",
    "\n",
    "URM_all_submission_dataframe.columns = [\"UserID\"]"
   ]
  },
  {
   "cell_type": "code",
   "execution_count": 55,
   "metadata": {},
   "outputs": [],
   "source": [
    "URM_all_submission_dataframe[\"UserIDMapped\"] = URM_all_submission_dataframe[\"UserID\"].map(user_original_ID_to_index)"
   ]
  },
  {
   "cell_type": "code",
   "execution_count": 101,
   "metadata": {},
   "outputs": [],
   "source": [
    "import pandas as pd\n",
    "# Assuming you have a DataFrame URM_all_submission_dataframe with 'UserIDMapped' and 'item_list' columns\n",
    "\n",
    "# First, create a mask for non-null 'UserIDMapped' values\n",
    "mask = ~URM_all_submission_dataframe['UserIDMapped'].isna()\n",
    "\n",
    "# Use the mask to make recommendations for non-null 'UserIDMapped'\n",
    "URM_all_submission_dataframe.loc[mask, 'item_list'] = URM_all_submission_dataframe.loc[mask, 'UserIDMapped'].apply(lambda x: recommender.recommend(int(x), at=10))\n"
   ]
  },
  {
   "cell_type": "code",
   "execution_count": 102,
   "metadata": {},
   "outputs": [],
   "source": [
    "item_index_to_original_id = item_original_ID_to_index.reset_index().set_index(0).to_numpy().reshape(-1)\n",
    "URM_all_submission_dataframe['item_list'] = URM_all_submission_dataframe['item_list'].apply(lambda item_indices: [item_index_to_original_id[index] for index in item_indices])"
   ]
  },
  {
   "cell_type": "code",
   "execution_count": 103,
   "metadata": {},
   "outputs": [
    {
     "name": "stderr",
     "output_type": "stream",
     "text": [
      "/tmp/ipykernel_12325/1077685429.py:3: SettingWithCopyWarning: \n",
      "A value is trying to be set on a copy of a slice from a DataFrame.\n",
      "Try using .loc[row_indexer,col_indexer] = value instead\n",
      "\n",
      "See the caveats in the documentation: https://pandas.pydata.org/pandas-docs/stable/user_guide/indexing.html#returning-a-view-versus-a-copy\n",
      "  submission['item_list'] = submission['item_list'].apply(lambda x: ' '.join(map(str, x))) # remove brakets\n",
      "/tmp/ipykernel_12325/1077685429.py:6: SettingWithCopyWarning: \n",
      "A value is trying to be set on a copy of a slice from a DataFrame.\n",
      "Try using .loc[row_indexer,col_indexer] = value instead\n",
      "\n",
      "See the caveats in the documentation: https://pandas.pydata.org/pandas-docs/stable/user_guide/indexing.html#returning-a-view-versus-a-copy\n",
      "  submission['item_list'] = submission['item_list'].astype(str)\n"
     ]
    }
   ],
   "source": [
    "submission = URM_all_submission_dataframe[[\"UserID\",\"item_list\"]]\n",
    "submission.columns = [\"user_id\", \"item_list\"]\n",
    "submission['item_list'] = submission['item_list'].apply(lambda x: ' '.join(map(str, x))) # remove brakets\n",
    "\n",
    "# Convert item_list to string format\n",
    "submission['item_list'] = submission['item_list'].astype(str)\n",
    "\n",
    "# Save to CSV without quotes and with the desired format\n",
    "# submission.to_csv(\"submission.csv\", index=False, header=[\"user_id\", \"item_list\"], quoting=csv.QUOTE_NONE, sep=',')\n",
    "def write_csv_without_quotes(df, file_path):\n",
    "    with open(file_path, 'w', newline='') as f:\n",
    "        f.write(\"user_id,item_list\\n\")\n",
    "        for index, row in df.iterrows():\n",
    "            f.write(f\"{row['user_id']},{row['item_list']}\\n\")\n",
    "\n",
    "# Save the DataFrame to CSV without quotes and with the desired format\n",
    "write_csv_without_quotes(submission, \"submission.csv\")"
   ]
  },
  {
   "cell_type": "code",
   "execution_count": 104,
   "metadata": {},
   "outputs": [
    {
     "data": {
      "text/plain": [
       "0                    101 15 694 869 773 52 1481 36 506 403\n",
       "1                           11 17 50 28 47 37 136 54 3 145\n",
       "2                 59 584 259 414 536 956 1097 1001 648 999\n",
       "3                       27 28 17 11 50 145 314 254 139 171\n",
       "4                       238 1570 8 278 24 77 243 12 148 66\n",
       "                               ...                        \n",
       "10877             36 161 403 6748 506 354 7055 627 34 7394\n",
       "10878               437 736 265 13 139 644 314 133 593 579\n",
       "10879    1446 1668 1316 1411 1674 809 1561 6025 11056 1...\n",
       "10880              1146 639 208 96 1273 138 344 32 324 928\n",
       "10881        2366 2120 1239 606 6215 325 2237 1069 474 733\n",
       "Name: item_list, Length: 10882, dtype: object"
      ]
     },
     "execution_count": 104,
     "metadata": {},
     "output_type": "execute_result"
    }
   ],
   "source": [
    "submission['item_list']"
   ]
  },
  {
   "cell_type": "code",
   "execution_count": null,
   "metadata": {},
   "outputs": [],
   "source": []
  },
  {
   "cell_type": "markdown",
   "metadata": {},
   "source": [
    "### When we create the matrices we need to make sure they have the same shape. As we have seen some items and users only appear in one of the two matrices and are missing in the other (if they have no tags or no interactions)"
   ]
  },
  {
   "cell_type": "markdown",
   "metadata": {},
   "source": [
    "# We can now build the recommender algorithm, but first we need the train/test split and the evaluation function:"
   ]
  },
  {
   "cell_type": "markdown",
   "metadata": {},
   "source": [
    "The denominator will be the product of norms plus the srink term and a small value which prevents the denominator to be zero (only for non-negative data)"
   ]
  },
  {
   "cell_type": "markdown",
   "metadata": {},
   "source": [
    "The operation is performed for all items.\n",
    "A simple strategy to perform it efficiently is to vectorize the most computationally intensive part, the dot product, on a group of items. The speedup can be of a factor of 10-100.\n",
    "This strategy is limited by the fact that the result of the dot product is a huge item-item dense similarity which likely does not fit in memory."
   ]
  },
  {
   "cell_type": "markdown",
   "metadata": {},
   "source": [
    "#### On this dataset the number of neighbors has a small absolute impact on MAP but a large relative one. Fine-tuning around the best values is needed.\n",
    "\n",
    "#### Different datasets will behave in different ways."
   ]
  },
  {
   "cell_type": "markdown",
   "metadata": {},
   "source": [
    "### Shrinkage"
   ]
  },
  {
   "cell_type": "code",
   "execution_count": null,
   "metadata": {},
   "outputs": [],
   "source": [
    "x_tick_grid = [0, 10, 50, 100, 150, 200, 250, 300, 350, 400, 450, 500]\n",
    "MAP_per_shrinkage_grid = []\n",
    "\n",
    "for shrink in x_tick_grid:\n",
    "    \n",
    "    recommender = ItemKNNCBFRecommender(URM_train, ICM_all)\n",
    "    recommender.fit(shrink=shrink, topK=100)\n",
    "    \n",
    "    result_df, _ = evaluator_test.evaluateRecommender(recommender)\n",
    "    \n",
    "    MAP_per_shrinkage_grid.append(result_df.loc[10][\"MAP\"])"
   ]
  },
  {
   "cell_type": "code",
   "execution_count": null,
   "metadata": {},
   "outputs": [],
   "source": [
    "x_tick_rnd = loguniform.rvs(0.1, 500, size=12).astype(int)\n",
    "x_tick_rnd.sort()\n",
    "x_tick_rnd = list(x_tick_rnd)\n",
    "\n",
    "MAP_per_shrinkage_rnd = []\n",
    "\n",
    "for shrink in x_tick_rnd:\n",
    "    \n",
    "    recommender = ItemKNNCBFRecommender(URM_train, ICM_all)\n",
    "    recommender.fit(shrink=shrink, topK=100)\n",
    "    \n",
    "    result_df, _ = evaluator_test.evaluateRecommender(recommender)\n",
    "    \n",
    "    MAP_per_shrinkage_rnd.append(result_df.loc[10][\"MAP\"])"
   ]
  },
  {
   "cell_type": "code",
   "execution_count": null,
   "metadata": {},
   "outputs": [],
   "source": [
    "pyplot.plot(x_tick_grid, MAP_per_shrinkage_grid, label=\"Grid\")\n",
    "pyplot.plot(x_tick_rnd, MAP_per_shrinkage_rnd, label=\"Rnd\")\n",
    "pyplot.ylabel('MAP')\n",
    "pyplot.xlabel('Shrinkage')\n",
    "pyplot.legend()\n",
    "pyplot.show()"
   ]
  },
  {
   "cell_type": "markdown",
   "metadata": {},
   "source": [
    "#### The shrinkage value (i.e. support) have a much stronger impact. Combine a hyperparameter search with the two to ensure maximum recommendation quality\n",
    "\n",
    "## Be careful, overfitting!\n",
    "\n",
    "#### While a thorough parameter tuning might result in significantly higher MAP on your validation split, it could have only marginally better or even worse MAP on the test set"
   ]
  },
  {
   "cell_type": "markdown",
   "metadata": {},
   "source": [
    "# Feature weighting"
   ]
  },
  {
   "cell_type": "markdown",
   "metadata": {
    "collapsed": true,
    "jupyter": {
     "outputs_hidden": true
    }
   },
   "source": [
    "# IDF"
   ]
  },
  {
   "cell_type": "markdown",
   "metadata": {},
   "source": [
    "![title](https://www.link-assistant.com/images/news/tf-idf-tool-for-seo/screen-03.png)"
   ]
  },
  {
   "cell_type": "code",
   "execution_count": null,
   "metadata": {},
   "outputs": [],
   "source": [
    "num_tot_items = ICM_all.shape[0]\n",
    "\n",
    "# let's count how many items have a certain feature\n",
    "items_per_feature = np.ediff1d(sps.csc_matrix(ICM_all).indptr)\n",
    "\n",
    "IDF = np.log(num_tot_items / items_per_feature)\n",
    "\n",
    "print(ICM_all.shape)\n",
    "print(IDF.shape)"
   ]
  },
  {
   "cell_type": "code",
   "execution_count": null,
   "metadata": {},
   "outputs": [],
   "source": [
    "np.sort(items_per_feature)"
   ]
  },
  {
   "cell_type": "code",
   "execution_count": null,
   "metadata": {},
   "outputs": [],
   "source": [
    "np.sort(IDF)"
   ]
  },
  {
   "cell_type": "code",
   "execution_count": null,
   "metadata": {},
   "outputs": [],
   "source": [
    "pyplot.plot(np.sort(IDF))\n",
    "pyplot.ylabel('IDF')\n",
    "pyplot.xlabel('Sorted feature')\n",
    "pyplot.show()"
   ]
  },
  {
   "cell_type": "markdown",
   "metadata": {},
   "source": [
    "#### Highest ranked features"
   ]
  },
  {
   "cell_type": "code",
   "execution_count": null,
   "metadata": {},
   "outputs": [],
   "source": [
    "feature_index_to_original_ID_dict = {value:key for key,value in feature_original_ID_to_index.iteritems()}"
   ]
  },
  {
   "cell_type": "code",
   "execution_count": null,
   "metadata": {},
   "outputs": [],
   "source": [
    "sorted_features = np.argsort(-IDF)\n",
    "\n",
    "highest_ranked_features = sorted_features[:20]\n",
    "\n",
    "for feature_index in highest_ranked_features:\n",
    "    print(feature_index_to_original_ID_dict[feature_index])"
   ]
  },
  {
   "cell_type": "markdown",
   "metadata": {},
   "source": [
    "#### Lowest ranked features"
   ]
  },
  {
   "cell_type": "code",
   "execution_count": null,
   "metadata": {},
   "outputs": [],
   "source": [
    "lowest_ranked_features = sorted_features[-20:]\n",
    "\n",
    "for feature_index in lowest_ranked_features:\n",
    "    print(feature_index_to_original_ID_dict[feature_index])    "
   ]
  },
  {
   "cell_type": "code",
   "execution_count": null,
   "metadata": {},
   "outputs": [],
   "source": [
    "from scipy.sparse import diags\n",
    "diags(IDF)"
   ]
  },
  {
   "cell_type": "code",
   "execution_count": null,
   "metadata": {},
   "outputs": [],
   "source": [
    "ICM_idf = ICM_all.copy()\n",
    "\n",
    "ICM_idf = ICM_idf*diags(IDF)"
   ]
  },
  {
   "cell_type": "code",
   "execution_count": null,
   "metadata": {
    "scrolled": true
   },
   "outputs": [],
   "source": [
    "recommender_idf = ItemKNNCBFRecommender(URM_train, ICM_idf)\n",
    "recommender_idf.fit(shrink=0.0, topK=50)\n",
    "\n",
    "result_df, _ = evaluator_test.evaluateRecommender(recommender_idf)\n",
    "result_df.loc[10]"
   ]
  },
  {
   "cell_type": "markdown",
   "metadata": {},
   "source": [
    "#### Try other feature weighting methods like BM25..."
   ]
  },
  {
   "cell_type": "markdown",
   "metadata": {},
   "source": [
    "# BM25"
   ]
  },
  {
   "cell_type": "code",
   "execution_count": null,
   "metadata": {},
   "outputs": [],
   "source": [
    "from Recommenders.IR_feature_weighting import okapi_BM_25\n",
    "\n",
    "ICM_BM25 = ICM_all.copy().astype(np.float32)\n",
    "ICM_BM25 = okapi_BM_25(ICM_BM25)\n",
    "ICM_BM25 = ICM_BM25.tocsr()"
   ]
  },
  {
   "cell_type": "code",
   "execution_count": null,
   "metadata": {
    "scrolled": true
   },
   "outputs": [],
   "source": [
    "recommender_bm25 = ItemKNNCBFRecommender(URM_train, ICM_BM25)\n",
    "recommender_bm25.fit(shrink=0.0, topK=50)\n",
    "\n",
    "result_df, _ = evaluator_test.evaluateRecommender(recommender_bm25)\n",
    "result_df.loc[10]"
   ]
  },
  {
   "cell_type": "markdown",
   "metadata": {},
   "source": [
    "#### A small gain over TF-IDF"
   ]
  },
  {
   "cell_type": "markdown",
   "metadata": {},
   "source": [
    "# Unnormalized similarity matrix"
   ]
  },
  {
   "cell_type": "code",
   "execution_count": null,
   "metadata": {},
   "outputs": [],
   "source": [
    "recommender_dot = ItemKNNCBFRecommender(URM_train, ICM_all)\n",
    "recommender_dot.W_sparse = ICM_all * ICM_all.T\n",
    "\n",
    "result_df, _ = evaluator_test.evaluateRecommender(recommender_dot)\n",
    "result_df.loc[10]"
   ]
  },
  {
   "cell_type": "code",
   "execution_count": null,
   "metadata": {},
   "outputs": [],
   "source": []
  }
 ],
 "metadata": {
  "anaconda-cloud": {},
  "kernelspec": {
   "display_name": "Python 3 (ipykernel)",
   "language": "python",
   "name": "python3"
  },
  "language_info": {
   "codemirror_mode": {
    "name": "ipython",
    "version": 3
   },
   "file_extension": ".py",
   "mimetype": "text/x-python",
   "name": "python",
   "nbconvert_exporter": "python",
   "pygments_lexer": "ipython3",
   "version": "3.8.0"
  }
 },
 "nbformat": 4,
 "nbformat_minor": 4
}
