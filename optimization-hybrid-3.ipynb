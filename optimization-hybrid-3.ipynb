{
 "cells": [
  {
   "cell_type": "code",
   "execution_count": 1,
   "outputs": [
    {
     "name": "stdout",
     "output_type": "stream",
     "text": [
      "Warning: 247 (1.95 %) of 12638 users have no train items\n",
      "Warning: 2112 (16.71 %) of 12638 users have no sampled items\n"
     ]
    }
   ],
   "source": [
    "from Data_manager.UserUtils import *\n",
    "from Data_manager.split_functions.split_train_validation_random_holdout import \\\n",
    "    split_train_in_two_percentage_global_sample\n",
    "URM_all = getURM_all()\n",
    "URM_train_validation, URM_test = split_train_in_two_percentage_global_sample(URM_all, train_percentage = 0.80)"
   ],
   "metadata": {
    "collapsed": false,
    "ExecuteTime": {
     "end_time": "2023-12-28T21:34:01.060812Z",
     "start_time": "2023-12-28T21:33:59.446438Z"
    }
   },
   "id": "a884190b64cf557"
  },
  {
   "cell_type": "code",
   "execution_count": 1,
   "outputs": [],
   "source": [
    "import pickle\n",
    "\n",
    "with open('URM_train_validation.pkl', 'rb') as f:\n",
    "    URM_train_validation = pickle.load(f)\n",
    "with open('URM_test.pkl', 'rb') as f:\n",
    "    URM_test = pickle.load(f)"
   ],
   "metadata": {
    "collapsed": false,
    "ExecuteTime": {
     "end_time": "2023-12-29T20:03:50.693497Z",
     "start_time": "2023-12-29T20:03:50.518424Z"
    }
   },
   "id": "e40223c1e1d7469d"
  },
  {
   "cell_type": "code",
   "execution_count": 2,
   "outputs": [
    {
     "name": "stdout",
     "output_type": "stream",
     "text": [
      "SLIMElasticNetRecommender: URM Detected 205 ( 1.6%) users with no interactions.\n",
      "SLIMElasticNetRecommender: URM Detected 109 ( 0.5%) items with no interactions.\n",
      "SLIMElasticNetRecommender: Processed 22057 (99.3%) in 5.00 min. Items per second: 73.50\n",
      "SLIMElasticNetRecommender: Processed 22222 (100.0%) in 5.06 min. Items per second: 73.13\n",
      "RP3betaRecommender: URM Detected 205 ( 1.6%) users with no interactions.\n",
      "RP3betaRecommender: URM Detected 109 ( 0.5%) items with no interactions.\n",
      "RP3betaRecommender: Similarity column 22222 (100.0%), 7438.56 column/sec. Elapsed time 2.99 sec\n",
      "ItemKNNCFRecommender: URM Detected 205 ( 1.6%) users with no interactions.\n",
      "ItemKNNCFRecommender: URM Detected 109 ( 0.5%) items with no interactions.\n",
      "Similarity column 22222 (100.0%), 10447.06 column/sec. Elapsed time 2.13 sec\n",
      "EvaluatorHoldout: Ignoring 2203 (17.4%) Users that have less than 1 test interactions\n"
     ]
    }
   ],
   "source": [
    "from Hybrid import *\n",
    "from Recommenders.SLIM.SLIMElasticNetRecommender import *\n",
    "from Recommenders.MatrixFactorization.PureSVDRecommender import PureSVDRecommender\n",
    "from Recommenders.GraphBased.P3alphaRecommender import P3alphaRecommender\n",
    "from Recommenders.GraphBased.RP3betaRecommender import RP3betaRecommender\n",
    "from Recommenders.KNN.UserKNNCFRecommender import UserKNNCFRecommender\n",
    "from Recommenders.KNN.ItemKNNCFRecommender import ItemKNNCFRecommender\n",
    "from Recommenders.EASE_R.EASE_R_Recommender import EASE_R_Recommender\n",
    "## SLIM\n",
    "slim = SLIMElasticNetRecommender(URM_train_validation)\n",
    "slim.fit(topK=8894, l1_ratio=0.05565733019999427, alpha=0.0012979360257937668)#, workers=7)\n",
    "## RP3BETA\n",
    "rp3beta = RP3betaRecommender(URM_train_validation)\n",
    "rp3beta.fit(alpha=0.20026352123406477, beta=0.15999879728761354, topK=32)\n",
    "## ITEM KNN\n",
    "itemknn = ItemKNNCFRecommender(URM_train_validation)\n",
    "itemknn.fit(topK=31, shrink=435, similarity='tversky', normalize=True,\n",
    "                                       feature_weighting='BM25', tversky_alpha=0.17113169506422393, tversky_beta=0.5684024974085575)\n",
    "from Evaluation.Evaluator import EvaluatorHoldout\n",
    "\n",
    "evaluator_validation = EvaluatorHoldout(URM_test, cutoff_list=[10])"
   ],
   "metadata": {
    "collapsed": false,
    "ExecuteTime": {
     "end_time": "2023-12-29T20:10:58.197444Z",
     "start_time": "2023-12-29T20:05:48.135491Z"
    }
   },
   "id": "7789e39614525279"
  },
  {
   "cell_type": "code",
   "execution_count": 11,
   "outputs": [
    {
     "name": "stdout",
     "output_type": "stream",
     "text": [
      "TwoScoresHybridRecommender: URM Detected 205 ( 1.6%) users with no interactions.\n",
      "TwoScoresHybridRecommender: URM Detected 109 ( 0.5%) items with no interactions.\n"
     ]
    }
   ],
   "source": [
    "hybrid = TwoScoresHybridRecommender(URM_train_validation, slim, rp3beta)"
   ],
   "metadata": {
    "collapsed": false,
    "ExecuteTime": {
     "end_time": "2023-12-29T21:18:25.088769Z",
     "start_time": "2023-12-29T21:18:25.080064Z"
    }
   },
   "id": "565e84e394099372"
  },
  {
   "cell_type": "code",
   "execution_count": 12,
   "outputs": [],
   "source": [
    "import optuna as op\n",
    "def objective(trial):\n",
    "    alpha = trial.suggest_float('alpha', 0, 1)\n",
    "    \n",
    "    # Create hybrid recommender with the suggested weights\n",
    "    hybrid.fit(alpha=alpha)\n",
    "    \n",
    "    # Evaluate the hybrid recommender\n",
    "    result, _ = evaluator_validation.evaluateRecommender(hybrid)\n",
    "    MAP_result = result[\"MAP\"].item()\n",
    "       \n",
    "    return MAP_result"
   ],
   "metadata": {
    "collapsed": false,
    "ExecuteTime": {
     "end_time": "2023-12-29T21:18:40.416986Z",
     "start_time": "2023-12-29T21:18:40.412373Z"
    }
   },
   "id": "23a7609029f4e05e"
  },
  {
   "cell_type": "code",
   "execution_count": 15,
   "outputs": [
    {
     "name": "stderr",
     "output_type": "stream",
     "text": [
      "[I 2023-12-30 00:42:29,821] Using an existing study with name 'hybrid-slim-rp3-study' instead of creating a new one.\n"
     ]
    },
    {
     "name": "stdout",
     "output_type": "stream",
     "text": [
      "EvaluatorHoldout: Processed 10435 (100.0%) in 4.40 sec. Users per second: 2370\n"
     ]
    },
    {
     "name": "stderr",
     "output_type": "stream",
     "text": [
      "[I 2023-12-30 00:42:34,276] Trial 300 finished with value: 0.0506210098797551 and parameters: {'alpha': 1.0}. Best is trial 190 with value: 0.051900719495592995.\n"
     ]
    },
    {
     "name": "stdout",
     "output_type": "stream",
     "text": [
      "EvaluatorHoldout: Processed 10435 (100.0%) in 4.18 sec. Users per second: 2498\n"
     ]
    },
    {
     "name": "stderr",
     "output_type": "stream",
     "text": [
      "[I 2023-12-30 00:42:38,477] Trial 301 finished with value: 0.051887554095268996 and parameters: {'alpha': 0.5914978770686858}. Best is trial 190 with value: 0.051900719495592995.\n"
     ]
    },
    {
     "name": "stdout",
     "output_type": "stream",
     "text": [
      "EvaluatorHoldout: Processed 10435 (100.0%) in 4.37 sec. Users per second: 2387\n"
     ]
    },
    {
     "name": "stderr",
     "output_type": "stream",
     "text": [
      "[I 2023-12-30 00:42:42,874] Trial 302 finished with value: 0.05075335980103631 and parameters: {'alpha': 0.21759842556219366}. Best is trial 190 with value: 0.051900719495592995.\n"
     ]
    },
    {
     "name": "stdout",
     "output_type": "stream",
     "text": [
      "EvaluatorHoldout: Processed 10435 (100.0%) in 4.24 sec. Users per second: 2460\n"
     ]
    },
    {
     "name": "stderr",
     "output_type": "stream",
     "text": [
      "[I 2023-12-30 00:42:47,141] Trial 303 finished with value: 0.05183156121416823 and parameters: {'alpha': 0.6541077003055157}. Best is trial 190 with value: 0.051900719495592995.\n"
     ]
    },
    {
     "name": "stdout",
     "output_type": "stream",
     "text": [
      "EvaluatorHoldout: Processed 10435 (100.0%) in 4.24 sec. Users per second: 2463\n"
     ]
    },
    {
     "name": "stderr",
     "output_type": "stream",
     "text": [
      "[I 2023-12-30 00:42:51,398] Trial 304 finished with value: 0.05186519345000467 and parameters: {'alpha': 0.6292267410061786}. Best is trial 190 with value: 0.051900719495592995.\n"
     ]
    },
    {
     "name": "stdout",
     "output_type": "stream",
     "text": [
      "EvaluatorHoldout: Processed 10435 (100.0%) in 4.25 sec. Users per second: 2455\n"
     ]
    },
    {
     "name": "stderr",
     "output_type": "stream",
     "text": [
      "[I 2023-12-30 00:42:55,672] Trial 305 finished with value: 0.05184669267802995 and parameters: {'alpha': 0.6072289805348049}. Best is trial 190 with value: 0.051900719495592995.\n"
     ]
    },
    {
     "name": "stdout",
     "output_type": "stream",
     "text": [
      "EvaluatorHoldout: Processed 10435 (100.0%) in 4.20 sec. Users per second: 2483\n"
     ]
    },
    {
     "name": "stderr",
     "output_type": "stream",
     "text": [
      "[I 2023-12-30 00:42:59,897] Trial 306 finished with value: 0.05175964207756304 and parameters: {'alpha': 0.6680035744613766}. Best is trial 190 with value: 0.051900719495592995.\n"
     ]
    },
    {
     "name": "stdout",
     "output_type": "stream",
     "text": [
      "EvaluatorHoldout: Processed 10435 (100.0%) in 4.30 sec. Users per second: 2426\n"
     ]
    },
    {
     "name": "stderr",
     "output_type": "stream",
     "text": [
      "[I 2023-12-30 00:43:04,224] Trial 307 finished with value: 0.051808215635719676 and parameters: {'alpha': 0.6444327507731081}. Best is trial 190 with value: 0.051900719495592995.\n"
     ]
    },
    {
     "name": "stdout",
     "output_type": "stream",
     "text": [
      "EvaluatorHoldout: Processed 10435 (100.0%) in 4.54 sec. Users per second: 2299\n"
     ]
    },
    {
     "name": "stderr",
     "output_type": "stream",
     "text": [
      "[I 2023-12-30 00:43:08,797] Trial 308 finished with value: 0.05150202310600076 and parameters: {'alpha': 0.7680927421704788}. Best is trial 190 with value: 0.051900719495592995.\n"
     ]
    },
    {
     "name": "stdout",
     "output_type": "stream",
     "text": [
      "EvaluatorHoldout: Processed 10435 (100.0%) in 4.33 sec. Users per second: 2411\n"
     ]
    },
    {
     "name": "stderr",
     "output_type": "stream",
     "text": [
      "[I 2023-12-30 00:43:13,148] Trial 309 finished with value: 0.051811634380633464 and parameters: {'alpha': 0.5728640672790501}. Best is trial 190 with value: 0.051900719495592995.\n"
     ]
    },
    {
     "name": "stdout",
     "output_type": "stream",
     "text": [
      "EvaluatorHoldout: Processed 10435 (100.0%) in 4.34 sec. Users per second: 2403\n"
     ]
    },
    {
     "name": "stderr",
     "output_type": "stream",
     "text": [
      "[I 2023-12-30 00:43:17,517] Trial 310 finished with value: 0.05189306439713771 and parameters: {'alpha': 0.6203816636053637}. Best is trial 190 with value: 0.051900719495592995.\n"
     ]
    },
    {
     "name": "stdout",
     "output_type": "stream",
     "text": [
      "EvaluatorHoldout: Processed 10435 (100.0%) in 4.27 sec. Users per second: 2446\n"
     ]
    },
    {
     "name": "stderr",
     "output_type": "stream",
     "text": [
      "[I 2023-12-30 00:43:21,807] Trial 311 finished with value: 0.05184151702527407 and parameters: {'alpha': 0.600340269025125}. Best is trial 190 with value: 0.051900719495592995.\n"
     ]
    },
    {
     "name": "stdout",
     "output_type": "stream",
     "text": [
      "EvaluatorHoldout: Processed 10435 (100.0%) in 4.66 sec. Users per second: 2238\n"
     ]
    },
    {
     "name": "stderr",
     "output_type": "stream",
     "text": [
      "[I 2023-12-30 00:43:26,498] Trial 312 finished with value: 0.0516768278306377 and parameters: {'alpha': 0.6932015330111471}. Best is trial 190 with value: 0.051900719495592995.\n"
     ]
    },
    {
     "name": "stdout",
     "output_type": "stream",
     "text": [
      "EvaluatorHoldout: Processed 10435 (100.0%) in 4.32 sec. Users per second: 2417\n"
     ]
    },
    {
     "name": "stderr",
     "output_type": "stream",
     "text": [
      "[I 2023-12-30 00:43:30,842] Trial 313 finished with value: 0.05186262273636544 and parameters: {'alpha': 0.6293173455270599}. Best is trial 190 with value: 0.051900719495592995.\n"
     ]
    },
    {
     "name": "stdout",
     "output_type": "stream",
     "text": [
      "EvaluatorHoldout: Processed 10435 (100.0%) in 4.27 sec. Users per second: 2445\n"
     ]
    },
    {
     "name": "stderr",
     "output_type": "stream",
     "text": [
      "[I 2023-12-30 00:43:35,134] Trial 314 finished with value: 0.05188194872262961 and parameters: {'alpha': 0.5906086730633983}. Best is trial 190 with value: 0.051900719495592995.\n"
     ]
    },
    {
     "name": "stdout",
     "output_type": "stream",
     "text": [
      "EvaluatorHoldout: Processed 10435 (100.0%) in 4.27 sec. Users per second: 2443\n"
     ]
    },
    {
     "name": "stderr",
     "output_type": "stream",
     "text": [
      "[I 2023-12-30 00:43:39,428] Trial 315 finished with value: 0.05179709996121158 and parameters: {'alpha': 0.6457416099275404}. Best is trial 190 with value: 0.051900719495592995.\n"
     ]
    },
    {
     "name": "stdout",
     "output_type": "stream",
     "text": [
      "EvaluatorHoldout: Processed 10435 (100.0%) in 4.18 sec. Users per second: 2494\n"
     ]
    },
    {
     "name": "stderr",
     "output_type": "stream",
     "text": [
      "[I 2023-12-30 00:43:43,653] Trial 316 finished with value: 0.051714559518105815 and parameters: {'alpha': 0.6743202391702601}. Best is trial 190 with value: 0.051900719495592995.\n"
     ]
    },
    {
     "name": "stdout",
     "output_type": "stream",
     "text": [
      "EvaluatorHoldout: Processed 10435 (100.0%) in 4.24 sec. Users per second: 2460\n"
     ]
    },
    {
     "name": "stderr",
     "output_type": "stream",
     "text": [
      "[I 2023-12-30 00:43:47,920] Trial 317 finished with value: 0.05189861272731466 and parameters: {'alpha': 0.6186462488231581}. Best is trial 190 with value: 0.051900719495592995.\n"
     ]
    },
    {
     "name": "stdout",
     "output_type": "stream",
     "text": [
      "EvaluatorHoldout: Processed 10435 (100.0%) in 4.35 sec. Users per second: 2400\n"
     ]
    },
    {
     "name": "stderr",
     "output_type": "stream",
     "text": [
      "[I 2023-12-30 00:43:52,292] Trial 318 finished with value: 0.051861189069143554 and parameters: {'alpha': 0.6285477854668062}. Best is trial 190 with value: 0.051900719495592995.\n"
     ]
    },
    {
     "name": "stdout",
     "output_type": "stream",
     "text": [
      "EvaluatorHoldout: Processed 10435 (100.0%) in 4.29 sec. Users per second: 2432\n"
     ]
    },
    {
     "name": "stderr",
     "output_type": "stream",
     "text": [
      "[I 2023-12-30 00:43:56,609] Trial 319 finished with value: 0.051812349312828986 and parameters: {'alpha': 0.5755549150707047}. Best is trial 190 with value: 0.051900719495592995.\n"
     ]
    },
    {
     "name": "stdout",
     "output_type": "stream",
     "text": [
      "EvaluatorHoldout: Processed 10435 (100.0%) in 4.39 sec. Users per second: 2376\n"
     ]
    },
    {
     "name": "stderr",
     "output_type": "stream",
     "text": [
      "[I 2023-12-30 00:44:01,126] Trial 320 finished with value: 0.05182169667100233 and parameters: {'alpha': 0.5971135876036524}. Best is trial 190 with value: 0.051900719495592995.\n"
     ]
    },
    {
     "name": "stdout",
     "output_type": "stream",
     "text": [
      "EvaluatorHoldout: Processed 10435 (100.0%) in 4.29 sec. Users per second: 2433\n"
     ]
    },
    {
     "name": "stderr",
     "output_type": "stream",
     "text": [
      "[I 2023-12-30 00:44:05,478] Trial 321 finished with value: 0.05179433150036931 and parameters: {'alpha': 0.6575311766159783}. Best is trial 190 with value: 0.051900719495592995.\n"
     ]
    },
    {
     "name": "stdout",
     "output_type": "stream",
     "text": [
      "EvaluatorHoldout: Processed 10435 (100.0%) in 4.24 sec. Users per second: 2462\n"
     ]
    },
    {
     "name": "stderr",
     "output_type": "stream",
     "text": [
      "[I 2023-12-30 00:44:09,742] Trial 322 finished with value: 0.05157151983936906 and parameters: {'alpha': 0.7497357444789148}. Best is trial 190 with value: 0.051900719495592995.\n"
     ]
    },
    {
     "name": "stdout",
     "output_type": "stream",
     "text": [
      "EvaluatorHoldout: Processed 10435 (100.0%) in 4.20 sec. Users per second: 2484\n"
     ]
    },
    {
     "name": "stderr",
     "output_type": "stream",
     "text": [
      "[I 2023-12-30 00:44:13,965] Trial 323 finished with value: 0.051898399768788336 and parameters: {'alpha': 0.6187244467053588}. Best is trial 190 with value: 0.051900719495592995.\n"
     ]
    },
    {
     "name": "stdout",
     "output_type": "stream",
     "text": [
      "EvaluatorHoldout: Processed 10435 (100.0%) in 4.35 sec. Users per second: 2401\n"
     ]
    },
    {
     "name": "stderr",
     "output_type": "stream",
     "text": [
      "[I 2023-12-30 00:44:18,339] Trial 324 finished with value: 0.05189878385470188 and parameters: {'alpha': 0.6186382868521564}. Best is trial 190 with value: 0.051900719495592995.\n"
     ]
    },
    {
     "name": "stdout",
     "output_type": "stream",
     "text": [
      "EvaluatorHoldout: Processed 10435 (100.0%) in 4.35 sec. Users per second: 2399\n"
     ]
    },
    {
     "name": "stderr",
     "output_type": "stream",
     "text": [
      "[I 2023-12-30 00:44:22,710] Trial 325 finished with value: 0.051806108867441386 and parameters: {'alpha': 0.645286407546495}. Best is trial 190 with value: 0.051900719495592995.\n"
     ]
    },
    {
     "name": "stdout",
     "output_type": "stream",
     "text": [
      "EvaluatorHoldout: Processed 10435 (100.0%) in 4.25 sec. Users per second: 2458\n"
     ]
    },
    {
     "name": "stderr",
     "output_type": "stream",
     "text": [
      "[I 2023-12-30 00:44:26,981] Trial 326 finished with value: 0.051424658315650774 and parameters: {'alpha': 0.33387595161243894}. Best is trial 190 with value: 0.051900719495592995.\n"
     ]
    },
    {
     "name": "stdout",
     "output_type": "stream",
     "text": [
      "EvaluatorHoldout: Processed 10435 (100.0%) in 4.30 sec. Users per second: 2426\n"
     ]
    },
    {
     "name": "stderr",
     "output_type": "stream",
     "text": [
      "[I 2023-12-30 00:44:31,306] Trial 327 finished with value: 0.051841528433766534 and parameters: {'alpha': 0.6110809378471643}. Best is trial 190 with value: 0.051900719495592995.\n"
     ]
    },
    {
     "name": "stdout",
     "output_type": "stream",
     "text": [
      "EvaluatorHoldout: Processed 10435 (100.0%) in 4.21 sec. Users per second: 2479\n"
     ]
    },
    {
     "name": "stderr",
     "output_type": "stream",
     "text": [
      "[I 2023-12-30 00:44:35,538] Trial 328 finished with value: 0.05185635947399294 and parameters: {'alpha': 0.5836890655863741}. Best is trial 190 with value: 0.051900719495592995.\n"
     ]
    },
    {
     "name": "stdout",
     "output_type": "stream",
     "text": [
      "EvaluatorHoldout: Processed 10435 (100.0%) in 4.21 sec. Users per second: 2481\n"
     ]
    },
    {
     "name": "stderr",
     "output_type": "stream",
     "text": [
      "[I 2023-12-30 00:44:39,766] Trial 329 finished with value: 0.05180788098660691 and parameters: {'alpha': 0.6356457493297334}. Best is trial 190 with value: 0.051900719495592995.\n"
     ]
    },
    {
     "name": "stdout",
     "output_type": "stream",
     "text": [
      "EvaluatorHoldout: Processed 10435 (100.0%) in 4.18 sec. Users per second: 2495\n"
     ]
    },
    {
     "name": "stderr",
     "output_type": "stream",
     "text": [
      "[I 2023-12-30 00:44:43,970] Trial 330 finished with value: 0.05169664057924773 and parameters: {'alpha': 0.6763430803029927}. Best is trial 190 with value: 0.051900719495592995.\n"
     ]
    },
    {
     "name": "stdout",
     "output_type": "stream",
     "text": [
      "EvaluatorHoldout: Processed 10435 (100.0%) in 4.16 sec. Users per second: 2508\n"
     ]
    },
    {
     "name": "stderr",
     "output_type": "stream",
     "text": [
      "[I 2023-12-30 00:44:48,152] Trial 331 finished with value: 0.05188206661038521 and parameters: {'alpha': 0.6167740511100707}. Best is trial 190 with value: 0.051900719495592995.\n"
     ]
    },
    {
     "name": "stdout",
     "output_type": "stream",
     "text": [
      "EvaluatorHoldout: Processed 10435 (100.0%) in 4.17 sec. Users per second: 2505\n"
     ]
    },
    {
     "name": "stderr",
     "output_type": "stream",
     "text": [
      "[I 2023-12-30 00:44:52,339] Trial 332 finished with value: 0.051808805074497935 and parameters: {'alpha': 0.5678457831608856}. Best is trial 190 with value: 0.051900719495592995.\n"
     ]
    },
    {
     "name": "stdout",
     "output_type": "stream",
     "text": [
      "EvaluatorHoldout: Processed 10435 (100.0%) in 4.28 sec. Users per second: 2436\n"
     ]
    },
    {
     "name": "stderr",
     "output_type": "stream",
     "text": [
      "[I 2023-12-30 00:44:56,647] Trial 333 finished with value: 0.05183790813881897 and parameters: {'alpha': 0.5996477236722156}. Best is trial 190 with value: 0.051900719495592995.\n"
     ]
    },
    {
     "name": "stdout",
     "output_type": "stream",
     "text": [
      "EvaluatorHoldout: Processed 10435 (100.0%) in 4.30 sec. Users per second: 2425\n"
     ]
    },
    {
     "name": "stderr",
     "output_type": "stream",
     "text": [
      "[I 2023-12-30 00:45:00,972] Trial 334 finished with value: 0.05183494193077367 and parameters: {'alpha': 0.6533203326091979}. Best is trial 190 with value: 0.051900719495592995.\n"
     ]
    },
    {
     "name": "stdout",
     "output_type": "stream",
     "text": [
      "EvaluatorHoldout: Processed 10435 (100.0%) in 4.27 sec. Users per second: 2441\n"
     ]
    },
    {
     "name": "stderr",
     "output_type": "stream",
     "text": [
      "[I 2023-12-30 00:45:05,272] Trial 335 finished with value: 0.05184467337486072 and parameters: {'alpha': 0.6321617106530231}. Best is trial 190 with value: 0.051900719495592995.\n"
     ]
    },
    {
     "name": "stdout",
     "output_type": "stream",
     "text": [
      "EvaluatorHoldout: Processed 10435 (100.0%) in 4.34 sec. Users per second: 2406\n"
     ]
    },
    {
     "name": "stderr",
     "output_type": "stream",
     "text": [
      "[I 2023-12-30 00:45:09,634] Trial 336 finished with value: 0.051838794198401754 and parameters: {'alpha': 0.5925458626293911}. Best is trial 190 with value: 0.051900719495592995.\n"
     ]
    },
    {
     "name": "stdout",
     "output_type": "stream",
     "text": [
      "EvaluatorHoldout: Processed 10435 (100.0%) in 4.26 sec. Users per second: 2452\n"
     ]
    },
    {
     "name": "stderr",
     "output_type": "stream",
     "text": [
      "[I 2023-12-30 00:45:13,911] Trial 337 finished with value: 0.05168340292513804 and parameters: {'alpha': 0.6919565447250171}. Best is trial 190 with value: 0.051900719495592995.\n"
     ]
    },
    {
     "name": "stdout",
     "output_type": "stream",
     "text": [
      "EvaluatorHoldout: Processed 10435 (100.0%) in 4.20 sec. Users per second: 2483\n"
     ]
    },
    {
     "name": "stderr",
     "output_type": "stream",
     "text": [
      "[I 2023-12-30 00:45:18,137] Trial 338 finished with value: 0.05189878385470188 and parameters: {'alpha': 0.618639630541223}. Best is trial 190 with value: 0.051900719495592995.\n"
     ]
    },
    {
     "name": "stdout",
     "output_type": "stream",
     "text": [
      "EvaluatorHoldout: Processed 10435 (100.0%) in 4.25 sec. Users per second: 2458\n"
     ]
    },
    {
     "name": "stderr",
     "output_type": "stream",
     "text": [
      "[I 2023-12-30 00:45:22,409] Trial 339 finished with value: 0.05142005308751899 and parameters: {'alpha': 0.3770717428965596}. Best is trial 190 with value: 0.051900719495592995.\n"
     ]
    },
    {
     "name": "stdout",
     "output_type": "stream",
     "text": [
      "EvaluatorHoldout: Processed 10435 (100.0%) in 4.24 sec. Users per second: 2461\n"
     ]
    },
    {
     "name": "stderr",
     "output_type": "stream",
     "text": [
      "[I 2023-12-30 00:45:26,674] Trial 340 finished with value: 0.05177653044926688 and parameters: {'alpha': 0.659733067090912}. Best is trial 190 with value: 0.051900719495592995.\n"
     ]
    },
    {
     "name": "stdout",
     "output_type": "stream",
     "text": [
      "EvaluatorHoldout: Processed 10435 (100.0%) in 4.22 sec. Users per second: 2474\n"
     ]
    },
    {
     "name": "stderr",
     "output_type": "stream",
     "text": [
      "[I 2023-12-30 00:45:30,914] Trial 341 finished with value: 0.04943153003095565 and parameters: {'alpha': 0.037688123298993514}. Best is trial 190 with value: 0.051900719495592995.\n"
     ]
    },
    {
     "name": "stdout",
     "output_type": "stream",
     "text": [
      "EvaluatorHoldout: Processed 10435 (100.0%) in 4.23 sec. Users per second: 2464\n"
     ]
    },
    {
     "name": "stderr",
     "output_type": "stream",
     "text": [
      "[I 2023-12-30 00:45:35,171] Trial 342 finished with value: 0.051852659319597955 and parameters: {'alpha': 0.6077780367710632}. Best is trial 190 with value: 0.051900719495592995.\n"
     ]
    },
    {
     "name": "stdout",
     "output_type": "stream",
     "text": [
      "EvaluatorHoldout: Processed 10435 (100.0%) in 4.26 sec. Users per second: 2449\n"
     ]
    },
    {
     "name": "stderr",
     "output_type": "stream",
     "text": [
      "[I 2023-12-30 00:45:39,458] Trial 343 finished with value: 0.05180752352050913 and parameters: {'alpha': 0.6363604565939841}. Best is trial 190 with value: 0.051900719495592995.\n"
     ]
    },
    {
     "name": "stdout",
     "output_type": "stream",
     "text": [
      "EvaluatorHoldout: Processed 10435 (100.0%) in 4.21 sec. Users per second: 2480\n"
     ]
    },
    {
     "name": "stderr",
     "output_type": "stream",
     "text": [
      "[I 2023-12-30 00:45:43,688] Trial 344 finished with value: 0.051852727770552894 and parameters: {'alpha': 0.5831178826205987}. Best is trial 190 with value: 0.051900719495592995.\n"
     ]
    },
    {
     "name": "stdout",
     "output_type": "stream",
     "text": [
      "EvaluatorHoldout: Processed 10435 (100.0%) in 4.20 sec. Users per second: 2485\n"
     ]
    },
    {
     "name": "stderr",
     "output_type": "stream",
     "text": [
      "[I 2023-12-30 00:45:47,913] Trial 345 finished with value: 0.05185614651546652 and parameters: {'alpha': 0.6143938046781279}. Best is trial 190 with value: 0.051900719495592995.\n"
     ]
    },
    {
     "name": "stdout",
     "output_type": "stream",
     "text": [
      "EvaluatorHoldout: Processed 10435 (100.0%) in 4.23 sec. Users per second: 2468\n"
     ]
    },
    {
     "name": "stderr",
     "output_type": "stream",
     "text": [
      "[I 2023-12-30 00:45:52,165] Trial 346 finished with value: 0.0518229135768671 and parameters: {'alpha': 0.566316127833991}. Best is trial 190 with value: 0.051900719495592995.\n"
     ]
    },
    {
     "name": "stdout",
     "output_type": "stream",
     "text": [
      "EvaluatorHoldout: Processed 10435 (100.0%) in 4.21 sec. Users per second: 2481\n"
     ]
    },
    {
     "name": "stderr",
     "output_type": "stream",
     "text": [
      "[I 2023-12-30 00:45:56,393] Trial 347 finished with value: 0.051809071272655834 and parameters: {'alpha': 0.6378790100835282}. Best is trial 190 with value: 0.051900719495592995.\n"
     ]
    },
    {
     "name": "stdout",
     "output_type": "stream",
     "text": [
      "EvaluatorHoldout: Processed 10435 (100.0%) in 4.82 sec. Users per second: 2166\n"
     ]
    },
    {
     "name": "stderr",
     "output_type": "stream",
     "text": [
      "[I 2023-12-30 00:46:01,240] Trial 348 finished with value: 0.051595876970817744 and parameters: {'alpha': 0.7183754237375091}. Best is trial 190 with value: 0.051900719495592995.\n"
     ]
    },
    {
     "name": "stdout",
     "output_type": "stream",
     "text": [
      "EvaluatorHoldout: Processed 10435 (100.0%) in 4.34 sec. Users per second: 2405\n"
     ]
    },
    {
     "name": "stderr",
     "output_type": "stream",
     "text": [
      "[I 2023-12-30 00:46:05,609] Trial 349 finished with value: 0.05175198317627693 and parameters: {'alpha': 0.6670807622081603}. Best is trial 190 with value: 0.051900719495592995.\n"
     ]
    },
    {
     "name": "stdout",
     "output_type": "stream",
     "text": [
      "EvaluatorHoldout: Processed 10435 (100.0%) in 4.24 sec. Users per second: 2461\n"
     ]
    },
    {
     "name": "stderr",
     "output_type": "stream",
     "text": [
      "[I 2023-12-30 00:46:09,872] Trial 350 finished with value: 0.050295765167591266 and parameters: {'alpha': 0.14170987250896305}. Best is trial 190 with value: 0.051900719495592995.\n"
     ]
    },
    {
     "name": "stdout",
     "output_type": "stream",
     "text": [
      "EvaluatorHoldout: Processed 10435 (100.0%) in 4.39 sec. Users per second: 2375\n"
     ]
    },
    {
     "name": "stderr",
     "output_type": "stream",
     "text": [
      "[I 2023-12-30 00:46:14,292] Trial 351 finished with value: 0.051850601988120415 and parameters: {'alpha': 0.602727651338959}. Best is trial 190 with value: 0.051900719495592995.\n"
     ]
    },
    {
     "name": "stdout",
     "output_type": "stream",
     "text": [
      "EvaluatorHoldout: Processed 10435 (100.0%) in 4.23 sec. Users per second: 2464\n"
     ]
    },
    {
     "name": "stderr",
     "output_type": "stream",
     "text": [
      "[I 2023-12-30 00:46:18,550] Trial 352 finished with value: 0.05165359633711399 and parameters: {'alpha': 0.7363356560491432}. Best is trial 190 with value: 0.051900719495592995.\n"
     ]
    },
    {
     "name": "stdout",
     "output_type": "stream",
     "text": [
      "EvaluatorHoldout: Processed 10435 (100.0%) in 4.20 sec. Users per second: 2487\n"
     ]
    },
    {
     "name": "stderr",
     "output_type": "stream",
     "text": [
      "[I 2023-12-30 00:46:22,769] Trial 353 finished with value: 0.05188431028057329 and parameters: {'alpha': 0.6178724513477705}. Best is trial 190 with value: 0.051900719495592995.\n"
     ]
    },
    {
     "name": "stdout",
     "output_type": "stream",
     "text": [
      "EvaluatorHoldout: Processed 10435 (100.0%) in 4.24 sec. Users per second: 2461\n"
     ]
    },
    {
     "name": "stderr",
     "output_type": "stream",
     "text": [
      "[I 2023-12-30 00:46:27,032] Trial 354 finished with value: 0.05180226040264419 and parameters: {'alpha': 0.6462463903504851}. Best is trial 190 with value: 0.051900719495592995.\n"
     ]
    },
    {
     "name": "stdout",
     "output_type": "stream",
     "text": [
      "EvaluatorHoldout: Processed 10435 (100.0%) in 4.22 sec. Users per second: 2472\n"
     ]
    },
    {
     "name": "stderr",
     "output_type": "stream",
     "text": [
      "[I 2023-12-30 00:46:31,277] Trial 355 finished with value: 0.05162230284223641 and parameters: {'alpha': 0.7033074229435684}. Best is trial 190 with value: 0.051900719495592995.\n"
     ]
    },
    {
     "name": "stdout",
     "output_type": "stream",
     "text": [
      "EvaluatorHoldout: Processed 10435 (100.0%) in 4.26 sec. Users per second: 2448\n"
     ]
    },
    {
     "name": "stderr",
     "output_type": "stream",
     "text": [
      "[I 2023-12-30 00:46:35,564] Trial 356 finished with value: 0.05187347981837728 and parameters: {'alpha': 0.5899048163237578}. Best is trial 190 with value: 0.051900719495592995.\n"
     ]
    },
    {
     "name": "stdout",
     "output_type": "stream",
     "text": [
      "EvaluatorHoldout: Processed 10435 (100.0%) in 4.23 sec. Users per second: 2467\n"
     ]
    },
    {
     "name": "stderr",
     "output_type": "stream",
     "text": [
      "[I 2023-12-30 00:46:39,817] Trial 357 finished with value: 0.05146808284086732 and parameters: {'alpha': 0.801386016966523}. Best is trial 190 with value: 0.051900719495592995.\n"
     ]
    },
    {
     "name": "stdout",
     "output_type": "stream",
     "text": [
      "EvaluatorHoldout: Processed 10435 (100.0%) in 4.19 sec. Users per second: 2488\n"
     ]
    },
    {
     "name": "stderr",
     "output_type": "stream",
     "text": [
      "[I 2023-12-30 00:46:44,037] Trial 358 finished with value: 0.051866049086940785 and parameters: {'alpha': 0.6256465870526898}. Best is trial 190 with value: 0.051900719495592995.\n"
     ]
    },
    {
     "name": "stdout",
     "output_type": "stream",
     "text": [
      "EvaluatorHoldout: Processed 10435 (100.0%) in 4.20 sec. Users per second: 2485\n"
     ]
    },
    {
     "name": "stderr",
     "output_type": "stream",
     "text": [
      "[I 2023-12-30 00:46:48,260] Trial 359 finished with value: 0.05169535522242811 and parameters: {'alpha': 0.6769606517787676}. Best is trial 190 with value: 0.051900719495592995.\n"
     ]
    },
    {
     "name": "stdout",
     "output_type": "stream",
     "text": [
      "EvaluatorHoldout: Processed 10435 (100.0%) in 4.24 sec. Users per second: 2459\n"
     ]
    },
    {
     "name": "stderr",
     "output_type": "stream",
     "text": [
      "[I 2023-12-30 00:46:52,527] Trial 360 finished with value: 0.05184197716780417 and parameters: {'alpha': 0.6006991362785165}. Best is trial 190 with value: 0.051900719495592995.\n"
     ]
    },
    {
     "name": "stdout",
     "output_type": "stream",
     "text": [
      "EvaluatorHoldout: Processed 10435 (100.0%) in 4.20 sec. Users per second: 2483\n"
     ]
    },
    {
     "name": "stderr",
     "output_type": "stream",
     "text": [
      "[I 2023-12-30 00:46:56,753] Trial 361 finished with value: 0.05181050113704689 and parameters: {'alpha': 0.5636358173946407}. Best is trial 190 with value: 0.051900719495592995.\n"
     ]
    },
    {
     "name": "stdout",
     "output_type": "stream",
     "text": [
      "EvaluatorHoldout: Processed 10435 (100.0%) in 4.22 sec. Users per second: 2474\n"
     ]
    },
    {
     "name": "stderr",
     "output_type": "stream",
     "text": [
      "[I 2023-12-30 00:47:00,992] Trial 362 finished with value: 0.05180375111232848 and parameters: {'alpha': 0.6459962543356883}. Best is trial 190 with value: 0.051900719495592995.\n"
     ]
    },
    {
     "name": "stdout",
     "output_type": "stream",
     "text": [
      "EvaluatorHoldout: Processed 10435 (100.0%) in 4.21 sec. Users per second: 2478\n"
     ]
    },
    {
     "name": "stderr",
     "output_type": "stream",
     "text": [
      "[I 2023-12-30 00:47:05,227] Trial 363 finished with value: 0.051882424076483 and parameters: {'alpha': 0.6227739158054398}. Best is trial 190 with value: 0.051900719495592995.\n"
     ]
    },
    {
     "name": "stdout",
     "output_type": "stream",
     "text": [
      "EvaluatorHoldout: Processed 10435 (100.0%) in 4.25 sec. Users per second: 2456\n"
     ]
    },
    {
     "name": "stderr",
     "output_type": "stream",
     "text": [
      "[I 2023-12-30 00:47:09,500] Trial 364 finished with value: 0.05185659524950423 and parameters: {'alpha': 0.5844301198230284}. Best is trial 190 with value: 0.051900719495592995.\n"
     ]
    },
    {
     "name": "stdout",
     "output_type": "stream",
     "text": [
      "EvaluatorHoldout: Processed 10435 (100.0%) in 4.31 sec. Users per second: 2423\n"
     ]
    },
    {
     "name": "stderr",
     "output_type": "stream",
     "text": [
      "[I 2023-12-30 00:47:13,832] Trial 365 finished with value: 0.05177653044926688 and parameters: {'alpha': 0.6595880229512785}. Best is trial 190 with value: 0.051900719495592995.\n"
     ]
    },
    {
     "name": "stdout",
     "output_type": "stream",
     "text": [
      "EvaluatorHoldout: Processed 10435 (100.0%) in 4.24 sec. Users per second: 2461\n"
     ]
    },
    {
     "name": "stderr",
     "output_type": "stream",
     "text": [
      "[I 2023-12-30 00:47:18,097] Trial 366 finished with value: 0.05185105072215801 and parameters: {'alpha': 0.6084051533173084}. Best is trial 190 with value: 0.051900719495592995.\n"
     ]
    },
    {
     "name": "stdout",
     "output_type": "stream",
     "text": [
      "EvaluatorHoldout: Processed 10435 (100.0%) in 4.24 sec. Users per second: 2458\n"
     ]
    },
    {
     "name": "stderr",
     "output_type": "stream",
     "text": [
      "[I 2023-12-30 00:47:22,364] Trial 367 finished with value: 0.05181196522691537 and parameters: {'alpha': 0.6343847635489985}. Best is trial 190 with value: 0.051900719495592995.\n"
     ]
    },
    {
     "name": "stdout",
     "output_type": "stream",
     "text": [
      "EvaluatorHoldout: Processed 10435 (100.0%) in 4.80 sec. Users per second: 2172\n"
     ]
    },
    {
     "name": "stderr",
     "output_type": "stream",
     "text": [
      "[I 2023-12-30 00:47:27,201] Trial 368 finished with value: 0.051844376754056135 and parameters: {'alpha': 0.6131375095350697}. Best is trial 190 with value: 0.051900719495592995.\n"
     ]
    },
    {
     "name": "stdout",
     "output_type": "stream",
     "text": [
      "EvaluatorHoldout: Processed 10435 (100.0%) in 4.26 sec. Users per second: 2452\n"
     ]
    },
    {
     "name": "stderr",
     "output_type": "stream",
     "text": [
      "[I 2023-12-30 00:47:31,482] Trial 369 finished with value: 0.05182455639978449 and parameters: {'alpha': 0.5659767279691484}. Best is trial 190 with value: 0.051900719495592995.\n"
     ]
    },
    {
     "name": "stdout",
     "output_type": "stream",
     "text": [
      "EvaluatorHoldout: Processed 10435 (100.0%) in 4.21 sec. Users per second: 2480\n"
     ]
    },
    {
     "name": "stderr",
     "output_type": "stream",
     "text": [
      "[I 2023-12-30 00:47:35,714] Trial 370 finished with value: 0.05187480700633599 and parameters: {'alpha': 0.5897544345461637}. Best is trial 190 with value: 0.051900719495592995.\n"
     ]
    },
    {
     "name": "stdout",
     "output_type": "stream",
     "text": [
      "EvaluatorHoldout: Processed 10435 (100.0%) in 4.37 sec. Users per second: 2389\n"
     ]
    },
    {
     "name": "stderr",
     "output_type": "stream",
     "text": [
      "[I 2023-12-30 00:47:40,106] Trial 371 finished with value: 0.05183070938006292 and parameters: {'alpha': 0.6547846662208487}. Best is trial 190 with value: 0.051900719495592995.\n"
     ]
    },
    {
     "name": "stdout",
     "output_type": "stream",
     "text": [
      "EvaluatorHoldout: Processed 10435 (100.0%) in 4.42 sec. Users per second: 2360\n"
     ]
    },
    {
     "name": "stderr",
     "output_type": "stream",
     "text": [
      "[I 2023-12-30 00:47:44,553] Trial 372 finished with value: 0.051860078642541996 and parameters: {'alpha': 0.6294940755149352}. Best is trial 190 with value: 0.051900719495592995.\n"
     ]
    },
    {
     "name": "stdout",
     "output_type": "stream",
     "text": [
      "EvaluatorHoldout: Processed 10435 (100.0%) in 4.36 sec. Users per second: 2394\n"
     ]
    },
    {
     "name": "stderr",
     "output_type": "stream",
     "text": [
      "[I 2023-12-30 00:47:48,934] Trial 373 finished with value: 0.051520554300622 and parameters: {'alpha': 0.3993974753674315}. Best is trial 190 with value: 0.051900719495592995.\n"
     ]
    },
    {
     "name": "stdout",
     "output_type": "stream",
     "text": [
      "EvaluatorHoldout: Processed 10435 (100.0%) in 4.27 sec. Users per second: 2443\n"
     ]
    },
    {
     "name": "stderr",
     "output_type": "stream",
     "text": [
      "[I 2023-12-30 00:47:53,230] Trial 374 finished with value: 0.05186077075775253 and parameters: {'alpha': 0.604605377924152}. Best is trial 190 with value: 0.051900719495592995.\n"
     ]
    },
    {
     "name": "stdout",
     "output_type": "stream",
     "text": [
      "EvaluatorHoldout: Processed 10435 (100.0%) in 4.45 sec. Users per second: 2344\n"
     ]
    },
    {
     "name": "stderr",
     "output_type": "stream",
     "text": [
      "[I 2023-12-30 00:47:57,729] Trial 375 finished with value: 0.05181301480822369 and parameters: {'alpha': 0.6387817355221652}. Best is trial 190 with value: 0.051900719495592995.\n"
     ]
    },
    {
     "name": "stdout",
     "output_type": "stream",
     "text": [
      "EvaluatorHoldout: Processed 10435 (100.0%) in 4.28 sec. Users per second: 2441\n"
     ]
    },
    {
     "name": "stderr",
     "output_type": "stream",
     "text": [
      "[I 2023-12-30 00:48:02,030] Trial 376 finished with value: 0.05171264289136887 and parameters: {'alpha': 0.674426407006371}. Best is trial 190 with value: 0.051900719495592995.\n"
     ]
    },
    {
     "name": "stdout",
     "output_type": "stream",
     "text": [
      "EvaluatorHoldout: Processed 10435 (100.0%) in 4.29 sec. Users per second: 2435\n"
     ]
    },
    {
     "name": "stderr",
     "output_type": "stream",
     "text": [
      "[I 2023-12-30 00:48:06,339] Trial 377 finished with value: 0.051845608871244286 and parameters: {'alpha': 0.5813992416274134}. Best is trial 190 with value: 0.051900719495592995.\n"
     ]
    },
    {
     "name": "stdout",
     "output_type": "stream",
     "text": [
      "EvaluatorHoldout: Processed 10435 (100.0%) in 4.21 sec. Users per second: 2480\n"
     ]
    },
    {
     "name": "stderr",
     "output_type": "stream",
     "text": [
      "[I 2023-12-30 00:48:10,571] Trial 378 finished with value: 0.05190429035373978 and parameters: {'alpha': 0.6214500859651194}. Best is trial 378 with value: 0.05190429035373978.\n"
     ]
    },
    {
     "name": "stdout",
     "output_type": "stream",
     "text": [
      "EvaluatorHoldout: Processed 10435 (100.0%) in 4.27 sec. Users per second: 2445\n"
     ]
    },
    {
     "name": "stderr",
     "output_type": "stream",
     "text": [
      "[I 2023-12-30 00:48:14,865] Trial 379 finished with value: 0.051844631543721535 and parameters: {'alpha': 0.6524962411565756}. Best is trial 378 with value: 0.05190429035373978.\n"
     ]
    },
    {
     "name": "stdout",
     "output_type": "stream",
     "text": [
      "EvaluatorHoldout: Processed 10435 (100.0%) in 4.39 sec. Users per second: 2375\n"
     ]
    },
    {
     "name": "stderr",
     "output_type": "stream",
     "text": [
      "[I 2023-12-30 00:48:19,280] Trial 380 finished with value: 0.05185105072215801 and parameters: {'alpha': 0.608385885569792}. Best is trial 378 with value: 0.05190429035373978.\n"
     ]
    },
    {
     "name": "stdout",
     "output_type": "stream",
     "text": [
      "EvaluatorHoldout: Processed 10435 (100.0%) in 4.22 sec. Users per second: 2472\n"
     ]
    },
    {
     "name": "stderr",
     "output_type": "stream",
     "text": [
      "[I 2023-12-30 00:48:23,525] Trial 381 finished with value: 0.051679314881998735 and parameters: {'alpha': 0.6903994010576386}. Best is trial 378 with value: 0.05190429035373978.\n"
     ]
    },
    {
     "name": "stdout",
     "output_type": "stream",
     "text": [
      "EvaluatorHoldout: Processed 10435 (100.0%) in 4.21 sec. Users per second: 2479\n"
     ]
    },
    {
     "name": "stderr",
     "output_type": "stream",
     "text": [
      "[I 2023-12-30 00:48:27,757] Trial 382 finished with value: 0.0508794160372987 and parameters: {'alpha': 0.24871963977657618}. Best is trial 378 with value: 0.05190429035373978.\n"
     ]
    },
    {
     "name": "stdout",
     "output_type": "stream",
     "text": [
      "EvaluatorHoldout: Processed 10435 (100.0%) in 4.22 sec. Users per second: 2473\n"
     ]
    },
    {
     "name": "stderr",
     "output_type": "stream",
     "text": [
      "[I 2023-12-30 00:48:31,999] Trial 383 finished with value: 0.05184982621063166 and parameters: {'alpha': 0.6274925517840316}. Best is trial 378 with value: 0.05190429035373978.\n"
     ]
    },
    {
     "name": "stdout",
     "output_type": "stream",
     "text": [
      "EvaluatorHoldout: Processed 10435 (100.0%) in 4.20 sec. Users per second: 2483\n"
     ]
    },
    {
     "name": "stderr",
     "output_type": "stream",
     "text": [
      "[I 2023-12-30 00:48:36,225] Trial 384 finished with value: 0.05181442946129145 and parameters: {'alpha': 0.5613248737366382}. Best is trial 378 with value: 0.05190429035373978.\n"
     ]
    },
    {
     "name": "stdout",
     "output_type": "stream",
     "text": [
      "EvaluatorHoldout: Processed 10435 (100.0%) in 4.21 sec. Users per second: 2477\n"
     ]
    },
    {
     "name": "stderr",
     "output_type": "stream",
     "text": [
      "[I 2023-12-30 00:48:40,463] Trial 385 finished with value: 0.05183097177539005 and parameters: {'alpha': 0.5939269807315056}. Best is trial 378 with value: 0.05190429035373978.\n"
     ]
    },
    {
     "name": "stdout",
     "output_type": "stream",
     "text": [
      "EvaluatorHoldout: Processed 10435 (100.0%) in 4.26 sec. Users per second: 2451\n"
     ]
    },
    {
     "name": "stderr",
     "output_type": "stream",
     "text": [
      "[I 2023-12-30 00:48:44,743] Trial 386 finished with value: 0.0518151367878253 and parameters: {'alpha': 0.6413574737995347}. Best is trial 378 with value: 0.05190429035373978.\n"
     ]
    },
    {
     "name": "stdout",
     "output_type": "stream",
     "text": [
      "EvaluatorHoldout: Processed 10435 (100.0%) in 4.23 sec. Users per second: 2466\n"
     ]
    },
    {
     "name": "stderr",
     "output_type": "stream",
     "text": [
      "[I 2023-12-30 00:48:49,000] Trial 387 finished with value: 0.05189673412888599 and parameters: {'alpha': 0.6185201550615197}. Best is trial 378 with value: 0.05190429035373978.\n"
     ]
    },
    {
     "name": "stdout",
     "output_type": "stream",
     "text": [
      "EvaluatorHoldout: Processed 10435 (100.0%) in 4.18 sec. Users per second: 2496\n"
     ]
    },
    {
     "name": "stderr",
     "output_type": "stream",
     "text": [
      "[I 2023-12-30 00:48:53,205] Trial 388 finished with value: 0.05182540062822808 and parameters: {'alpha': 0.5958770991708886}. Best is trial 378 with value: 0.05190429035373978.\n"
     ]
    },
    {
     "name": "stdout",
     "output_type": "stream",
     "text": [
      "EvaluatorHoldout: Processed 10435 (100.0%) in 4.23 sec. Users per second: 2470\n"
     ]
    },
    {
     "name": "stderr",
     "output_type": "stream",
     "text": [
      "[I 2023-12-30 00:48:57,453] Trial 389 finished with value: 0.05176479111050315 and parameters: {'alpha': 0.6642598365019555}. Best is trial 378 with value: 0.05190429035373978.\n"
     ]
    },
    {
     "name": "stdout",
     "output_type": "stream",
     "text": [
      "EvaluatorHoldout: Processed 10435 (100.0%) in 4.21 sec. Users per second: 2479\n"
     ]
    },
    {
     "name": "stderr",
     "output_type": "stream",
     "text": [
      "[I 2023-12-30 00:49:01,687] Trial 390 finished with value: 0.05189935808215682 and parameters: {'alpha': 0.618899646989442}. Best is trial 378 with value: 0.05190429035373978.\n"
     ]
    },
    {
     "name": "stdout",
     "output_type": "stream",
     "text": [
      "EvaluatorHoldout: Processed 10435 (100.0%) in 4.22 sec. Users per second: 2474\n"
     ]
    },
    {
     "name": "stderr",
     "output_type": "stream",
     "text": [
      "[I 2023-12-30 00:49:05,926] Trial 391 finished with value: 0.05180864535560323 and parameters: {'alpha': 0.5756018783267639}. Best is trial 378 with value: 0.05190429035373978.\n"
     ]
    },
    {
     "name": "stdout",
     "output_type": "stream",
     "text": [
      "EvaluatorHoldout: Processed 10435 (100.0%) in 4.21 sec. Users per second: 2479\n"
     ]
    },
    {
     "name": "stderr",
     "output_type": "stream",
     "text": [
      "[I 2023-12-30 00:49:10,157] Trial 392 finished with value: 0.051455959416190016 and parameters: {'alpha': 0.7946908305516578}. Best is trial 378 with value: 0.05190429035373978.\n"
     ]
    },
    {
     "name": "stdout",
     "output_type": "stream",
     "text": [
      "EvaluatorHoldout: Processed 10435 (100.0%) in 4.21 sec. Users per second: 2478\n"
     ]
    },
    {
     "name": "stderr",
     "output_type": "stream",
     "text": [
      "[I 2023-12-30 00:49:14,391] Trial 393 finished with value: 0.05185335523763933 and parameters: {'alpha': 0.609165207347225}. Best is trial 378 with value: 0.05190429035373978.\n"
     ]
    },
    {
     "name": "stdout",
     "output_type": "stream",
     "text": [
      "EvaluatorHoldout: Processed 10435 (100.0%) in 4.21 sec. Users per second: 2477\n"
     ]
    },
    {
     "name": "stderr",
     "output_type": "stream",
     "text": [
      "[I 2023-12-30 00:49:18,632] Trial 394 finished with value: 0.05181686327302088 and parameters: {'alpha': 0.6392876685107965}. Best is trial 378 with value: 0.05190429035373978.\n"
     ]
    },
    {
     "name": "stdout",
     "output_type": "stream",
     "text": [
      "EvaluatorHoldout: Processed 10435 (100.0%) in 4.26 sec. Users per second: 2448\n"
     ]
    },
    {
     "name": "stderr",
     "output_type": "stream",
     "text": [
      "[I 2023-12-30 00:49:22,919] Trial 395 finished with value: 0.05189220115453991 and parameters: {'alpha': 0.6210659719124554}. Best is trial 378 with value: 0.05190429035373978.\n"
     ]
    },
    {
     "name": "stdout",
     "output_type": "stream",
     "text": [
      "EvaluatorHoldout: Processed 10435 (100.0%) in 4.26 sec. Users per second: 2448\n"
     ]
    },
    {
     "name": "stderr",
     "output_type": "stream",
     "text": [
      "[I 2023-12-30 00:49:27,204] Trial 396 finished with value: 0.05177508157072167 and parameters: {'alpha': 0.6587371182737868}. Best is trial 378 with value: 0.05190429035373978.\n"
     ]
    },
    {
     "name": "stdout",
     "output_type": "stream",
     "text": [
      "EvaluatorHoldout: Processed 10435 (100.0%) in 4.33 sec. Users per second: 2412\n"
     ]
    },
    {
     "name": "stderr",
     "output_type": "stream",
     "text": [
      "[I 2023-12-30 00:49:31,553] Trial 397 finished with value: 0.051416044903827035 and parameters: {'alpha': 0.36986067972124764}. Best is trial 378 with value: 0.05190429035373978.\n"
     ]
    },
    {
     "name": "stdout",
     "output_type": "stream",
     "text": [
      "EvaluatorHoldout: Processed 10435 (100.0%) in 4.27 sec. Users per second: 2445\n"
     ]
    },
    {
     "name": "stderr",
     "output_type": "stream",
     "text": [
      "[I 2023-12-30 00:49:35,844] Trial 398 finished with value: 0.05182210737673168 and parameters: {'alpha': 0.5956131476475066}. Best is trial 378 with value: 0.05190429035373978.\n"
     ]
    },
    {
     "name": "stdout",
     "output_type": "stream",
     "text": [
      "EvaluatorHoldout: Processed 10435 (100.0%) in 4.25 sec. Users per second: 2455\n"
     ]
    },
    {
     "name": "stderr",
     "output_type": "stream",
     "text": [
      "[I 2023-12-30 00:49:40,118] Trial 399 finished with value: 0.051684688281957616 and parameters: {'alpha': 0.6788738274199106}. Best is trial 378 with value: 0.05190429035373978.\n"
     ]
    }
   ],
   "source": [
    "best_params = {\n",
    "    \"alpha\": 1,\n",
    "}\n",
    "study_name = \"hybrid-slim-rp3-study\"  # Unique identifier of the study.\n",
    "storage_name = \"sqlite:///db.db\"\n",
    "#op.delete_study(study_name, storage_name)\n",
    "study = op.create_study(study_name=study_name, storage=storage_name, direction=\"maximize\", load_if_exists=True)\n",
    "study.enqueue_trial(best_params)\n",
    "study.optimize(objective, n_trials=100)"
   ],
   "metadata": {
    "collapsed": false,
    "ExecuteTime": {
     "end_time": "2023-12-29T21:49:40.121790Z",
     "start_time": "2023-12-29T21:42:29.803072Z"
    }
   },
   "id": "52b5055a66579bf3"
  },
  {
   "cell_type": "code",
   "execution_count": 16,
   "outputs": [
    {
     "data": {
      "text/plain": "{'alpha': 0.8857667100747117,\n 'beta': 0.6379807942443021,\n 'gamma': 0.0690929184825888,\n 'delta': 0.11953478623354052}"
     },
     "execution_count": 16,
     "metadata": {},
     "output_type": "execute_result"
    }
   ],
   "source": [
    "study.best_params"
   ],
   "metadata": {
    "collapsed": false,
    "ExecuteTime": {
     "end_time": "2023-12-20T16:34:08.621166Z",
     "start_time": "2023-12-20T16:34:08.614300Z"
    }
   },
   "id": "731a6647494c1cea"
  }
 ],
 "metadata": {
  "kernelspec": {
   "display_name": "Python 3",
   "language": "python",
   "name": "python3"
  },
  "language_info": {
   "codemirror_mode": {
    "name": "ipython",
    "version": 2
   },
   "file_extension": ".py",
   "mimetype": "text/x-python",
   "name": "python",
   "nbconvert_exporter": "python",
   "pygments_lexer": "ipython2",
   "version": "2.7.6"
  }
 },
 "nbformat": 4,
 "nbformat_minor": 5
}
