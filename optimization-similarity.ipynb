{
 "cells": [
  {
   "cell_type": "code",
   "execution_count": 1,
   "id": "initial_id",
   "metadata": {
    "collapsed": true,
    "ExecuteTime": {
     "end_time": "2023-12-08T23:53:02.841166169Z",
     "start_time": "2023-12-08T23:52:59.722823497Z"
    }
   },
   "outputs": [
    {
     "name": "stdout",
     "output_type": "stream",
     "text": [
      "Warning: 236 (1.87 %) of 12638 users have no train items\n",
      "Warning: 2137 (16.91 %) of 12638 users have no sampled items\n",
      "Warning: 451 (3.57 %) of 12638 users have no train items\n",
      "Warning: 2649 (20.96 %) of 12638 users have no sampled items\n"
     ]
    }
   ],
   "source": [
    "from Data_manager.UserUtils import *\n",
    "from Data_manager.split_functions.split_train_validation_random_holdout import \\\n",
    "    split_train_in_two_percentage_global_sample\n",
    "URM_all = getURM_all()\n",
    "URM_train_validation, URM_test = split_train_in_two_percentage_global_sample(URM_all, train_percentage = 0.80)\n",
    "URM_train, URM_validation = split_train_in_two_percentage_global_sample(URM_train_validation, train_percentage = 0.80)"
   ]
  },
  {
   "cell_type": "code",
   "execution_count": 2,
   "outputs": [
    {
     "name": "stdout",
     "output_type": "stream",
     "text": [
      "SLIMElasticNetRecommender: URM Detected 451 ( 3.6%) users with no interactions.\n",
      "SLIMElasticNetRecommender: URM Detected 356 ( 1.6%) items with no interactions.\n",
      "ItemKNNCFRecommender: URM Detected 451 ( 3.6%) users with no interactions.\n",
      "ItemKNNCFRecommender: URM Detected 356 ( 1.6%) items with no interactions.\n"
     ]
    },
    {
     "name": "stderr",
     "output_type": "stream",
     "text": [
      "100%|█████████▉| 22160/22222 [02:03<00:00, 76.40it/s] "
     ]
    },
    {
     "name": "stdout",
     "output_type": "stream",
     "text": [
      "Similarity column 22222 (100.0%), 8057.63 column/sec. Elapsed time 2.76 sec\n",
      "EvaluatorHoldout: Ignoring 2649 (21.0%) Users that have less than 1 test interactions\n",
      "EvaluatorHoldout: Ignoring 0 Users\n"
     ]
    }
   ],
   "source": [
    "from Recommenders.KNN.ItemKNNCFRecommender import ItemKNNCFRecommender\n",
    "from Recommenders.SLIM.SLIMElasticNetRecommender import SLIMElasticNetRecommender, \\\n",
    "    MultiThreadSLIM_SLIMElasticNetRecommender\n",
    "\n",
    "slim = MultiThreadSLIM_SLIMElasticNetRecommender(URM_train)\n",
    "\n",
    "item = ItemKNNCFRecommender(URM_train)\n",
    "\n",
    "slim.fit(topK=8894, l1_ratio=0.05565733019999427, alpha=0.0012979360257937668, workers = 7)\n",
    "item.fit(topK=31, shrink=435, similarity='tversky', normalize=True,\n",
    "                                       feature_weighting='BM25', tversky_alpha=0.17113169506422393, tversky_beta=0.5684024974085575)\n",
    "\n",
    "from Evaluation.Evaluator import EvaluatorHoldout\n",
    "evaluator_validation = EvaluatorHoldout(URM_validation, cutoff_list=[10], ignore_users=[])"
   ],
   "metadata": {
    "collapsed": false,
    "ExecuteTime": {
     "end_time": "2023-12-08T23:56:39.591929744Z",
     "start_time": "2023-12-08T23:54:30.674756346Z"
    }
   },
   "id": "8a9fec0ccc4f11c5"
  },
  {
   "cell_type": "code",
   "execution_count": 5,
   "outputs": [],
   "source": [
    "from Recommenders.KNN.ItemKNNCustomSimilarityRecommender import ItemKNNCustomSimilarityRecommender\n",
    "import optuna as op\n",
    "model = ItemKNNCustomSimilarityRecommender\n",
    "\n",
    "def objective(trial):\n",
    "    alpha = trial.suggest_float(\"alpha\", 5e-4, 1)\n",
    "\n",
    "    new_similarity = (1 - alpha) * slim.W_sparse + alpha * item.W_sparse\n",
    "    recommender = model(URM_train)\n",
    "    recommender.fit(W_sparse=new_similarity)\n",
    "    \n",
    "    result, _ = evaluator_validation.evaluateRecommender(recommender)\n",
    "    MAP_result = result[\"MAP\"].item()\n",
    "       \n",
    "    return MAP_result"
   ],
   "metadata": {
    "collapsed": false,
    "ExecuteTime": {
     "end_time": "2023-12-08T23:57:51.553353133Z",
     "start_time": "2023-12-08T23:57:51.545887426Z"
    }
   },
   "id": "b826576f6714c764"
  },
  {
   "cell_type": "code",
   "execution_count": 6,
   "outputs": [
    {
     "name": "stderr",
     "output_type": "stream",
     "text": [
      "[I 2023-12-09 00:57:53,034] Using an existing study with name 'cust-sim-study' instead of creating a new one.\n"
     ]
    },
    {
     "name": "stdout",
     "output_type": "stream",
     "text": [
      "ItemKNNCustomSimilarityRecommender: URM Detected 451 ( 3.6%) users with no interactions.\n",
      "ItemKNNCustomSimilarityRecommender: URM Detected 356 ( 1.6%) items with no interactions.\n",
      "EvaluatorHoldout: Processed 9989 (100.0%) in 6.83 sec. Users per second: 1462\n"
     ]
    },
    {
     "name": "stderr",
     "output_type": "stream",
     "text": [
      "[I 2023-12-09 00:57:59,967] Trial 1 finished with value: 0.02582133600929286 and parameters: {'alpha': 0.7050715978800534}. Best is trial 1 with value: 0.02582133600929286.\n"
     ]
    },
    {
     "name": "stdout",
     "output_type": "stream",
     "text": [
      "ItemKNNCustomSimilarityRecommender: URM Detected 451 ( 3.6%) users with no interactions.\n",
      "ItemKNNCustomSimilarityRecommender: URM Detected 356 ( 1.6%) items with no interactions.\n",
      "EvaluatorHoldout: Processed 9989 (100.0%) in 7.74 sec. Users per second: 1291\n"
     ]
    },
    {
     "name": "stderr",
     "output_type": "stream",
     "text": [
      "[I 2023-12-09 00:58:07,837] Trial 2 finished with value: 0.029573395814761653 and parameters: {'alpha': 0.28121495054058593}. Best is trial 2 with value: 0.029573395814761653.\n"
     ]
    },
    {
     "name": "stdout",
     "output_type": "stream",
     "text": [
      "ItemKNNCustomSimilarityRecommender: URM Detected 451 ( 3.6%) users with no interactions.\n",
      "ItemKNNCustomSimilarityRecommender: URM Detected 356 ( 1.6%) items with no interactions.\n",
      "EvaluatorHoldout: Processed 9989 (100.0%) in 6.62 sec. Users per second: 1509\n"
     ]
    },
    {
     "name": "stderr",
     "output_type": "stream",
     "text": [
      "[I 2023-12-09 00:58:14,561] Trial 3 finished with value: 0.025561117228951963 and parameters: {'alpha': 0.7269275810793107}. Best is trial 2 with value: 0.029573395814761653.\n"
     ]
    },
    {
     "name": "stdout",
     "output_type": "stream",
     "text": [
      "ItemKNNCustomSimilarityRecommender: URM Detected 451 ( 3.6%) users with no interactions.\n",
      "ItemKNNCustomSimilarityRecommender: URM Detected 356 ( 1.6%) items with no interactions.\n",
      "EvaluatorHoldout: Processed 9989 (100.0%) in 7.31 sec. Users per second: 1367\n"
     ]
    },
    {
     "name": "stderr",
     "output_type": "stream",
     "text": [
      "[I 2023-12-09 00:58:22,009] Trial 4 finished with value: 0.030112186897651168 and parameters: {'alpha': 0.1878501611341553}. Best is trial 4 with value: 0.030112186897651168.\n"
     ]
    },
    {
     "name": "stdout",
     "output_type": "stream",
     "text": [
      "ItemKNNCustomSimilarityRecommender: URM Detected 451 ( 3.6%) users with no interactions.\n",
      "ItemKNNCustomSimilarityRecommender: URM Detected 356 ( 1.6%) items with no interactions.\n",
      "EvaluatorHoldout: Processed 9989 (100.0%) in 7.19 sec. Users per second: 1388\n"
     ]
    },
    {
     "name": "stderr",
     "output_type": "stream",
     "text": [
      "[I 2023-12-09 00:58:29,286] Trial 5 finished with value: 0.030421245115659166 and parameters: {'alpha': 0.11036860110483855}. Best is trial 5 with value: 0.030421245115659166.\n"
     ]
    },
    {
     "name": "stdout",
     "output_type": "stream",
     "text": [
      "ItemKNNCustomSimilarityRecommender: URM Detected 451 ( 3.6%) users with no interactions.\n",
      "ItemKNNCustomSimilarityRecommender: URM Detected 356 ( 1.6%) items with no interactions.\n",
      "EvaluatorHoldout: Processed 9989 (100.0%) in 6.56 sec. Users per second: 1523\n"
     ]
    },
    {
     "name": "stderr",
     "output_type": "stream",
     "text": [
      "[I 2023-12-09 00:58:35,966] Trial 6 finished with value: 0.027450862615543872 and parameters: {'alpha': 0.5276086650695503}. Best is trial 5 with value: 0.030421245115659166.\n"
     ]
    },
    {
     "name": "stdout",
     "output_type": "stream",
     "text": [
      "ItemKNNCustomSimilarityRecommender: URM Detected 451 ( 3.6%) users with no interactions.\n",
      "ItemKNNCustomSimilarityRecommender: URM Detected 356 ( 1.6%) items with no interactions.\n",
      "EvaluatorHoldout: Processed 9989 (100.0%) in 6.99 sec. Users per second: 1429\n"
     ]
    },
    {
     "name": "stderr",
     "output_type": "stream",
     "text": [
      "[I 2023-12-09 00:58:43,053] Trial 7 finished with value: 0.02645682472942471 and parameters: {'alpha': 0.6329968254114895}. Best is trial 5 with value: 0.030421245115659166.\n"
     ]
    },
    {
     "name": "stdout",
     "output_type": "stream",
     "text": [
      "ItemKNNCustomSimilarityRecommender: URM Detected 451 ( 3.6%) users with no interactions.\n",
      "ItemKNNCustomSimilarityRecommender: URM Detected 356 ( 1.6%) items with no interactions.\n",
      "EvaluatorHoldout: Processed 9989 (100.0%) in 7.04 sec. Users per second: 1418\n"
     ]
    },
    {
     "name": "stderr",
     "output_type": "stream",
     "text": [
      "[I 2023-12-09 00:58:50,192] Trial 8 finished with value: 0.023347877109264652 and parameters: {'alpha': 0.9584859100870732}. Best is trial 5 with value: 0.030421245115659166.\n"
     ]
    },
    {
     "name": "stdout",
     "output_type": "stream",
     "text": [
      "ItemKNNCustomSimilarityRecommender: URM Detected 451 ( 3.6%) users with no interactions.\n",
      "ItemKNNCustomSimilarityRecommender: URM Detected 356 ( 1.6%) items with no interactions.\n",
      "EvaluatorHoldout: Processed 9989 (100.0%) in 7.11 sec. Users per second: 1405\n"
     ]
    },
    {
     "name": "stderr",
     "output_type": "stream",
     "text": [
      "[I 2023-12-09 00:58:57,455] Trial 9 finished with value: 0.0250756347855658 and parameters: {'alpha': 0.776149545181583}. Best is trial 5 with value: 0.030421245115659166.\n"
     ]
    },
    {
     "name": "stdout",
     "output_type": "stream",
     "text": [
      "ItemKNNCustomSimilarityRecommender: URM Detected 451 ( 3.6%) users with no interactions.\n",
      "ItemKNNCustomSimilarityRecommender: URM Detected 356 ( 1.6%) items with no interactions.\n",
      "EvaluatorHoldout: Processed 9989 (100.0%) in 6.72 sec. Users per second: 1487\n"
     ]
    },
    {
     "name": "stderr",
     "output_type": "stream",
     "text": [
      "[I 2023-12-09 00:59:04,255] Trial 10 finished with value: 0.030364527964888567 and parameters: {'alpha': 0.028170448176154928}. Best is trial 5 with value: 0.030421245115659166.\n"
     ]
    },
    {
     "name": "stdout",
     "output_type": "stream",
     "text": [
      "ItemKNNCustomSimilarityRecommender: URM Detected 451 ( 3.6%) users with no interactions.\n",
      "ItemKNNCustomSimilarityRecommender: URM Detected 356 ( 1.6%) items with no interactions.\n",
      "EvaluatorHoldout: Processed 9989 (100.0%) in 7.06 sec. Users per second: 1415\n"
     ]
    },
    {
     "name": "stderr",
     "output_type": "stream",
     "text": [
      "[I 2023-12-09 00:59:11,402] Trial 11 finished with value: 0.02891379326783306 and parameters: {'alpha': 0.35669201584436144}. Best is trial 5 with value: 0.030421245115659166.\n"
     ]
    },
    {
     "name": "stdout",
     "output_type": "stream",
     "text": [
      "ItemKNNCustomSimilarityRecommender: URM Detected 451 ( 3.6%) users with no interactions.\n",
      "ItemKNNCustomSimilarityRecommender: URM Detected 356 ( 1.6%) items with no interactions.\n",
      "EvaluatorHoldout: Processed 9989 (100.0%) in 6.79 sec. Users per second: 1471\n"
     ]
    },
    {
     "name": "stderr",
     "output_type": "stream",
     "text": [
      "[I 2023-12-09 00:59:18,305] Trial 12 finished with value: 0.030384478481885836 and parameters: {'alpha': 0.014985056109906096}. Best is trial 5 with value: 0.030421245115659166.\n"
     ]
    },
    {
     "name": "stdout",
     "output_type": "stream",
     "text": [
      "ItemKNNCustomSimilarityRecommender: URM Detected 451 ( 3.6%) users with no interactions.\n",
      "ItemKNNCustomSimilarityRecommender: URM Detected 356 ( 1.6%) items with no interactions.\n",
      "EvaluatorHoldout: Processed 9989 (100.0%) in 6.62 sec. Users per second: 1510\n"
     ]
    },
    {
     "name": "stderr",
     "output_type": "stream",
     "text": [
      "[I 2023-12-09 00:59:25,019] Trial 13 finished with value: 0.030354878461546 and parameters: {'alpha': 0.028894632170787297}. Best is trial 5 with value: 0.030421245115659166.\n"
     ]
    },
    {
     "name": "stdout",
     "output_type": "stream",
     "text": [
      "ItemKNNCustomSimilarityRecommender: URM Detected 451 ( 3.6%) users with no interactions.\n",
      "ItemKNNCustomSimilarityRecommender: URM Detected 356 ( 1.6%) items with no interactions.\n",
      "EvaluatorHoldout: Processed 9989 (100.0%) in 6.94 sec. Users per second: 1438\n"
     ]
    },
    {
     "name": "stderr",
     "output_type": "stream",
     "text": [
      "[I 2023-12-09 00:59:32,060] Trial 14 finished with value: 0.030290355104901325 and parameters: {'alpha': 0.1501083979061253}. Best is trial 5 with value: 0.030421245115659166.\n"
     ]
    },
    {
     "name": "stdout",
     "output_type": "stream",
     "text": [
      "ItemKNNCustomSimilarityRecommender: URM Detected 451 ( 3.6%) users with no interactions.\n",
      "ItemKNNCustomSimilarityRecommender: URM Detected 356 ( 1.6%) items with no interactions.\n",
      "EvaluatorHoldout: Processed 9989 (100.0%) in 7.09 sec. Users per second: 1409\n"
     ]
    },
    {
     "name": "stderr",
     "output_type": "stream",
     "text": [
      "[I 2023-12-09 00:59:39,258] Trial 15 finished with value: 0.030343925937579192 and parameters: {'alpha': 0.02008478227424526}. Best is trial 5 with value: 0.030421245115659166.\n"
     ]
    },
    {
     "name": "stdout",
     "output_type": "stream",
     "text": [
      "ItemKNNCustomSimilarityRecommender: URM Detected 451 ( 3.6%) users with no interactions.\n",
      "ItemKNNCustomSimilarityRecommender: URM Detected 356 ( 1.6%) items with no interactions.\n",
      "EvaluatorHoldout: Processed 9989 (100.0%) in 7.21 sec. Users per second: 1385\n"
     ]
    },
    {
     "name": "stderr",
     "output_type": "stream",
     "text": [
      "[I 2023-12-09 00:59:46,626] Trial 16 finished with value: 0.028825640744501807 and parameters: {'alpha': 0.373133567001057}. Best is trial 5 with value: 0.030421245115659166.\n"
     ]
    },
    {
     "name": "stdout",
     "output_type": "stream",
     "text": [
      "ItemKNNCustomSimilarityRecommender: URM Detected 451 ( 3.6%) users with no interactions.\n",
      "ItemKNNCustomSimilarityRecommender: URM Detected 356 ( 1.6%) items with no interactions.\n",
      "EvaluatorHoldout: Processed 9989 (100.0%) in 6.84 sec. Users per second: 1461\n"
     ]
    },
    {
     "name": "stderr",
     "output_type": "stream",
     "text": [
      "[I 2023-12-09 00:59:53,620] Trial 17 finished with value: 0.030277869148126645 and parameters: {'alpha': 0.151586777232971}. Best is trial 5 with value: 0.030421245115659166.\n"
     ]
    },
    {
     "name": "stdout",
     "output_type": "stream",
     "text": [
      "ItemKNNCustomSimilarityRecommender: URM Detected 451 ( 3.6%) users with no interactions.\n",
      "ItemKNNCustomSimilarityRecommender: URM Detected 356 ( 1.6%) items with no interactions.\n",
      "EvaluatorHoldout: Processed 9989 (100.0%) in 6.75 sec. Users per second: 1481\n"
     ]
    },
    {
     "name": "stderr",
     "output_type": "stream",
     "text": [
      "[I 2023-12-09 01:00:00,520] Trial 18 finished with value: 0.029823543993631345 and parameters: {'alpha': 0.24517360136272992}. Best is trial 5 with value: 0.030421245115659166.\n"
     ]
    },
    {
     "name": "stdout",
     "output_type": "stream",
     "text": [
      "ItemKNNCustomSimilarityRecommender: URM Detected 451 ( 3.6%) users with no interactions.\n",
      "ItemKNNCustomSimilarityRecommender: URM Detected 356 ( 1.6%) items with no interactions.\n",
      "EvaluatorHoldout: Processed 9989 (100.0%) in 6.89 sec. Users per second: 1451\n"
     ]
    },
    {
     "name": "stderr",
     "output_type": "stream",
     "text": [
      "[I 2023-12-09 01:00:07,504] Trial 19 finished with value: 0.030395864021852795 and parameters: {'alpha': 0.11777401570803311}. Best is trial 5 with value: 0.030421245115659166.\n"
     ]
    },
    {
     "name": "stdout",
     "output_type": "stream",
     "text": [
      "ItemKNNCustomSimilarityRecommender: URM Detected 451 ( 3.6%) users with no interactions.\n",
      "ItemKNNCustomSimilarityRecommender: URM Detected 356 ( 1.6%) items with no interactions.\n",
      "EvaluatorHoldout: Processed 9989 (100.0%) in 6.96 sec. Users per second: 1435\n"
     ]
    },
    {
     "name": "stderr",
     "output_type": "stream",
     "text": [
      "[I 2023-12-09 01:00:14,619] Trial 20 finished with value: 0.028507989741096362 and parameters: {'alpha': 0.41243081662695613}. Best is trial 5 with value: 0.030421245115659166.\n"
     ]
    },
    {
     "name": "stdout",
     "output_type": "stream",
     "text": [
      "ItemKNNCustomSimilarityRecommender: URM Detected 451 ( 3.6%) users with no interactions.\n",
      "ItemKNNCustomSimilarityRecommender: URM Detected 356 ( 1.6%) items with no interactions.\n",
      "EvaluatorHoldout: Processed 9989 (100.0%) in 6.86 sec. Users per second: 1456\n"
     ]
    },
    {
     "name": "stderr",
     "output_type": "stream",
     "text": [
      "[I 2023-12-09 01:00:21,571] Trial 21 finished with value: 0.030381359972160037 and parameters: {'alpha': 0.13462547908449807}. Best is trial 5 with value: 0.030421245115659166.\n"
     ]
    },
    {
     "name": "stdout",
     "output_type": "stream",
     "text": [
      "ItemKNNCustomSimilarityRecommender: URM Detected 451 ( 3.6%) users with no interactions.\n",
      "ItemKNNCustomSimilarityRecommender: URM Detected 356 ( 1.6%) items with no interactions.\n",
      "EvaluatorHoldout: Processed 9989 (100.0%) in 6.69 sec. Users per second: 1494\n"
     ]
    },
    {
     "name": "stderr",
     "output_type": "stream",
     "text": [
      "[I 2023-12-09 01:00:28,398] Trial 22 finished with value: 0.030419981821273517 and parameters: {'alpha': 0.07144306636299537}. Best is trial 5 with value: 0.030421245115659166.\n"
     ]
    },
    {
     "name": "stdout",
     "output_type": "stream",
     "text": [
      "ItemKNNCustomSimilarityRecommender: URM Detected 451 ( 3.6%) users with no interactions.\n",
      "ItemKNNCustomSimilarityRecommender: URM Detected 356 ( 1.6%) items with no interactions.\n",
      "EvaluatorHoldout: Processed 9989 (100.0%) in 6.95 sec. Users per second: 1437\n"
     ]
    },
    {
     "name": "stderr",
     "output_type": "stream",
     "text": [
      "[I 2023-12-09 01:00:35,440] Trial 23 finished with value: 0.030456307493799014 and parameters: {'alpha': 0.09997233988316662}. Best is trial 23 with value: 0.030456307493799014.\n"
     ]
    },
    {
     "name": "stdout",
     "output_type": "stream",
     "text": [
      "ItemKNNCustomSimilarityRecommender: URM Detected 451 ( 3.6%) users with no interactions.\n",
      "ItemKNNCustomSimilarityRecommender: URM Detected 356 ( 1.6%) items with no interactions.\n",
      "EvaluatorHoldout: Processed 9989 (100.0%) in 7.02 sec. Users per second: 1423\n"
     ]
    },
    {
     "name": "stderr",
     "output_type": "stream",
     "text": [
      "[I 2023-12-09 01:00:42,554] Trial 24 finished with value: 0.029729071025747643 and parameters: {'alpha': 0.2544655641981554}. Best is trial 23 with value: 0.030456307493799014.\n"
     ]
    },
    {
     "name": "stdout",
     "output_type": "stream",
     "text": [
      "ItemKNNCustomSimilarityRecommender: URM Detected 451 ( 3.6%) users with no interactions.\n",
      "ItemKNNCustomSimilarityRecommender: URM Detected 356 ( 1.6%) items with no interactions.\n",
      "EvaluatorHoldout: Processed 9989 (100.0%) in 7.24 sec. Users per second: 1380\n"
     ]
    },
    {
     "name": "stderr",
     "output_type": "stream",
     "text": [
      "[I 2023-12-09 01:00:49,885] Trial 25 finished with value: 0.030436353004177866 and parameters: {'alpha': 0.08420797239749572}. Best is trial 23 with value: 0.030456307493799014.\n"
     ]
    },
    {
     "name": "stdout",
     "output_type": "stream",
     "text": [
      "ItemKNNCustomSimilarityRecommender: URM Detected 451 ( 3.6%) users with no interactions.\n",
      "ItemKNNCustomSimilarityRecommender: URM Detected 356 ( 1.6%) items with no interactions.\n",
      "EvaluatorHoldout: Processed 9989 (100.0%) in 6.67 sec. Users per second: 1497\n"
     ]
    },
    {
     "name": "stderr",
     "output_type": "stream",
     "text": [
      "[I 2023-12-09 01:00:56,656] Trial 26 finished with value: 0.03044867211075064 and parameters: {'alpha': 0.09651729206513095}. Best is trial 23 with value: 0.030456307493799014.\n"
     ]
    },
    {
     "name": "stdout",
     "output_type": "stream",
     "text": [
      "ItemKNNCustomSimilarityRecommender: URM Detected 451 ( 3.6%) users with no interactions.\n",
      "ItemKNNCustomSimilarityRecommender: URM Detected 356 ( 1.6%) items with no interactions.\n",
      "EvaluatorHoldout: Processed 9989 (100.0%) in 6.61 sec. Users per second: 1510\n"
     ]
    },
    {
     "name": "stderr",
     "output_type": "stream",
     "text": [
      "[I 2023-12-09 01:01:03,419] Trial 27 finished with value: 0.030048473956272796 and parameters: {'alpha': 0.20361532183229425}. Best is trial 23 with value: 0.030456307493799014.\n"
     ]
    },
    {
     "name": "stdout",
     "output_type": "stream",
     "text": [
      "ItemKNNCustomSimilarityRecommender: URM Detected 451 ( 3.6%) users with no interactions.\n",
      "ItemKNNCustomSimilarityRecommender: URM Detected 356 ( 1.6%) items with no interactions.\n",
      "EvaluatorHoldout: Processed 9989 (100.0%) in 6.52 sec. Users per second: 1533\n"
     ]
    },
    {
     "name": "stderr",
     "output_type": "stream",
     "text": [
      "[I 2023-12-09 01:01:10,025] Trial 28 finished with value: 0.02942946367988955 and parameters: {'alpha': 0.2954826325767419}. Best is trial 23 with value: 0.030456307493799014.\n"
     ]
    },
    {
     "name": "stdout",
     "output_type": "stream",
     "text": [
      "ItemKNNCustomSimilarityRecommender: URM Detected 451 ( 3.6%) users with no interactions.\n",
      "ItemKNNCustomSimilarityRecommender: URM Detected 356 ( 1.6%) items with no interactions.\n",
      "EvaluatorHoldout: Processed 9989 (100.0%) in 6.59 sec. Users per second: 1517\n"
     ]
    },
    {
     "name": "stderr",
     "output_type": "stream",
     "text": [
      "[I 2023-12-09 01:01:16,702] Trial 29 finished with value: 0.030448445671190972 and parameters: {'alpha': 0.08930156620640052}. Best is trial 23 with value: 0.030456307493799014.\n"
     ]
    },
    {
     "name": "stdout",
     "output_type": "stream",
     "text": [
      "ItemKNNCustomSimilarityRecommender: URM Detected 451 ( 3.6%) users with no interactions.\n",
      "ItemKNNCustomSimilarityRecommender: URM Detected 356 ( 1.6%) items with no interactions.\n",
      "EvaluatorHoldout: Processed 9989 (100.0%) in 6.91 sec. Users per second: 1446\n"
     ]
    },
    {
     "name": "stderr",
     "output_type": "stream",
     "text": [
      "[I 2023-12-09 01:01:23,702] Trial 30 finished with value: 0.03017266612321196 and parameters: {'alpha': 0.17157735663948948}. Best is trial 23 with value: 0.030456307493799014.\n"
     ]
    },
    {
     "name": "stdout",
     "output_type": "stream",
     "text": [
      "ItemKNNCustomSimilarityRecommender: URM Detected 451 ( 3.6%) users with no interactions.\n",
      "ItemKNNCustomSimilarityRecommender: URM Detected 356 ( 1.6%) items with no interactions.\n",
      "EvaluatorHoldout: Processed 9989 (100.0%) in 7.17 sec. Users per second: 1393\n"
     ]
    },
    {
     "name": "stderr",
     "output_type": "stream",
     "text": [
      "[I 2023-12-09 01:01:31,030] Trial 31 finished with value: 0.02998993734377682 and parameters: {'alpha': 0.21089577801053708}. Best is trial 23 with value: 0.030456307493799014.\n"
     ]
    },
    {
     "name": "stdout",
     "output_type": "stream",
     "text": [
      "ItemKNNCustomSimilarityRecommender: URM Detected 451 ( 3.6%) users with no interactions.\n",
      "ItemKNNCustomSimilarityRecommender: URM Detected 356 ( 1.6%) items with no interactions.\n",
      "EvaluatorHoldout: Processed 9989 (100.0%) in 6.99 sec. Users per second: 1429\n"
     ]
    },
    {
     "name": "stderr",
     "output_type": "stream",
     "text": [
      "[I 2023-12-09 01:01:38,099] Trial 32 finished with value: 0.030439888639408365 and parameters: {'alpha': 0.08579026066854817}. Best is trial 23 with value: 0.030456307493799014.\n"
     ]
    },
    {
     "name": "stdout",
     "output_type": "stream",
     "text": [
      "ItemKNNCustomSimilarityRecommender: URM Detected 451 ( 3.6%) users with no interactions.\n",
      "ItemKNNCustomSimilarityRecommender: URM Detected 356 ( 1.6%) items with no interactions.\n",
      "EvaluatorHoldout: Processed 9989 (100.0%) in 6.84 sec. Users per second: 1459\n"
     ]
    },
    {
     "name": "stderr",
     "output_type": "stream",
     "text": [
      "[I 2023-12-09 01:01:45,039] Trial 33 finished with value: 0.030404520369231827 and parameters: {'alpha': 0.08191219710294496}. Best is trial 23 with value: 0.030456307493799014.\n"
     ]
    },
    {
     "name": "stdout",
     "output_type": "stream",
     "text": [
      "ItemKNNCustomSimilarityRecommender: URM Detected 451 ( 3.6%) users with no interactions.\n",
      "ItemKNNCustomSimilarityRecommender: URM Detected 356 ( 1.6%) items with no interactions.\n",
      "EvaluatorHoldout: Processed 9989 (100.0%) in 6.90 sec. Users per second: 1448\n"
     ]
    },
    {
     "name": "stderr",
     "output_type": "stream",
     "text": [
      "[I 2023-12-09 01:01:52,084] Trial 34 finished with value: 0.029562498907528784 and parameters: {'alpha': 0.2816665874192213}. Best is trial 23 with value: 0.030456307493799014.\n"
     ]
    },
    {
     "name": "stdout",
     "output_type": "stream",
     "text": [
      "ItemKNNCustomSimilarityRecommender: URM Detected 451 ( 3.6%) users with no interactions.\n",
      "ItemKNNCustomSimilarityRecommender: URM Detected 356 ( 1.6%) items with no interactions.\n",
      "EvaluatorHoldout: Processed 9989 (100.0%) in 7.09 sec. Users per second: 1408\n"
     ]
    },
    {
     "name": "stderr",
     "output_type": "stream",
     "text": [
      "[I 2023-12-09 01:01:59,268] Trial 35 finished with value: 0.03045029691390713 and parameters: {'alpha': 0.09629006116038166}. Best is trial 23 with value: 0.030456307493799014.\n"
     ]
    },
    {
     "name": "stdout",
     "output_type": "stream",
     "text": [
      "ItemKNNCustomSimilarityRecommender: URM Detected 451 ( 3.6%) users with no interactions.\n",
      "ItemKNNCustomSimilarityRecommender: URM Detected 356 ( 1.6%) items with no interactions.\n",
      "EvaluatorHoldout: Processed 9989 (100.0%) in 7.34 sec. Users per second: 1361\n"
     ]
    },
    {
     "name": "stderr",
     "output_type": "stream",
     "text": [
      "[I 2023-12-09 01:02:06,752] Trial 36 finished with value: 0.030044854895941334 and parameters: {'alpha': 0.19927925560714976}. Best is trial 23 with value: 0.030456307493799014.\n"
     ]
    },
    {
     "name": "stdout",
     "output_type": "stream",
     "text": [
      "ItemKNNCustomSimilarityRecommender: URM Detected 451 ( 3.6%) users with no interactions.\n",
      "ItemKNNCustomSimilarityRecommender: URM Detected 356 ( 1.6%) items with no interactions.\n",
      "EvaluatorHoldout: Processed 9989 (100.0%) in 6.54 sec. Users per second: 1527\n"
     ]
    },
    {
     "name": "stderr",
     "output_type": "stream",
     "text": [
      "[I 2023-12-09 01:02:13,399] Trial 37 finished with value: 0.03033708507930173 and parameters: {'alpha': 0.1428465304118406}. Best is trial 23 with value: 0.030456307493799014.\n"
     ]
    },
    {
     "name": "stdout",
     "output_type": "stream",
     "text": [
      "ItemKNNCustomSimilarityRecommender: URM Detected 451 ( 3.6%) users with no interactions.\n",
      "ItemKNNCustomSimilarityRecommender: URM Detected 356 ( 1.6%) items with no interactions.\n",
      "EvaluatorHoldout: Processed 9989 (100.0%) in 6.72 sec. Users per second: 1486\n"
     ]
    },
    {
     "name": "stderr",
     "output_type": "stream",
     "text": [
      "[I 2023-12-09 01:02:20,203] Trial 38 finished with value: 0.030408298334517435 and parameters: {'alpha': 0.0645690798846251}. Best is trial 23 with value: 0.030456307493799014.\n"
     ]
    },
    {
     "name": "stdout",
     "output_type": "stream",
     "text": [
      "ItemKNNCustomSimilarityRecommender: URM Detected 451 ( 3.6%) users with no interactions.\n",
      "ItemKNNCustomSimilarityRecommender: URM Detected 356 ( 1.6%) items with no interactions.\n",
      "EvaluatorHoldout: Processed 9989 (100.0%) in 6.48 sec. Users per second: 1543\n"
     ]
    },
    {
     "name": "stderr",
     "output_type": "stream",
     "text": [
      "[I 2023-12-09 01:02:26,806] Trial 39 finished with value: 0.02996454433209885 and parameters: {'alpha': 0.22404120428431734}. Best is trial 23 with value: 0.030456307493799014.\n"
     ]
    },
    {
     "name": "stdout",
     "output_type": "stream",
     "text": [
      "ItemKNNCustomSimilarityRecommender: URM Detected 451 ( 3.6%) users with no interactions.\n",
      "ItemKNNCustomSimilarityRecommender: URM Detected 356 ( 1.6%) items with no interactions.\n",
      "EvaluatorHoldout: Processed 9989 (100.0%) in 6.79 sec. Users per second: 1472\n"
     ]
    },
    {
     "name": "stderr",
     "output_type": "stream",
     "text": [
      "[I 2023-12-09 01:02:33,744] Trial 40 finished with value: 0.03040670531235172 and parameters: {'alpha': 0.11437080577207168}. Best is trial 23 with value: 0.030456307493799014.\n"
     ]
    },
    {
     "name": "stdout",
     "output_type": "stream",
     "text": [
      "ItemKNNCustomSimilarityRecommender: URM Detected 451 ( 3.6%) users with no interactions.\n",
      "ItemKNNCustomSimilarityRecommender: URM Detected 356 ( 1.6%) items with no interactions.\n",
      "EvaluatorHoldout: Processed 9989 (100.0%) in 7.18 sec. Users per second: 1391\n"
     ]
    },
    {
     "name": "stderr",
     "output_type": "stream",
     "text": [
      "[I 2023-12-09 01:02:41,043] Trial 41 finished with value: 0.02938767564956413 and parameters: {'alpha': 0.3024227408417838}. Best is trial 23 with value: 0.030456307493799014.\n"
     ]
    },
    {
     "name": "stdout",
     "output_type": "stream",
     "text": [
      "ItemKNNCustomSimilarityRecommender: URM Detected 451 ( 3.6%) users with no interactions.\n",
      "ItemKNNCustomSimilarityRecommender: URM Detected 356 ( 1.6%) items with no interactions.\n",
      "EvaluatorHoldout: Processed 9989 (100.0%) in 7.26 sec. Users per second: 1377\n"
     ]
    },
    {
     "name": "stderr",
     "output_type": "stream",
     "text": [
      "[I 2023-12-09 01:02:48,401] Trial 42 finished with value: 0.030401374051139043 and parameters: {'alpha': 0.06802981046294632}. Best is trial 23 with value: 0.030456307493799014.\n"
     ]
    },
    {
     "name": "stdout",
     "output_type": "stream",
     "text": [
      "ItemKNNCustomSimilarityRecommender: URM Detected 451 ( 3.6%) users with no interactions.\n",
      "ItemKNNCustomSimilarityRecommender: URM Detected 356 ( 1.6%) items with no interactions.\n",
      "EvaluatorHoldout: Processed 9989 (100.0%) in 6.64 sec. Users per second: 1504\n"
     ]
    },
    {
     "name": "stderr",
     "output_type": "stream",
     "text": [
      "[I 2023-12-09 01:02:55,201] Trial 43 finished with value: 0.03015473369913277 and parameters: {'alpha': 0.18152499259962435}. Best is trial 23 with value: 0.030456307493799014.\n"
     ]
    },
    {
     "name": "stdout",
     "output_type": "stream",
     "text": [
      "ItemKNNCustomSimilarityRecommender: URM Detected 451 ( 3.6%) users with no interactions.\n",
      "ItemKNNCustomSimilarityRecommender: URM Detected 356 ( 1.6%) items with no interactions.\n",
      "EvaluatorHoldout: Processed 9989 (100.0%) in 6.82 sec. Users per second: 1465\n"
     ]
    },
    {
     "name": "stderr",
     "output_type": "stream",
     "text": [
      "[I 2023-12-09 01:03:02,167] Trial 44 finished with value: 0.030381781070288646 and parameters: {'alpha': 0.04072822120192613}. Best is trial 23 with value: 0.030456307493799014.\n"
     ]
    },
    {
     "name": "stdout",
     "output_type": "stream",
     "text": [
      "ItemKNNCustomSimilarityRecommender: URM Detected 451 ( 3.6%) users with no interactions.\n",
      "ItemKNNCustomSimilarityRecommender: URM Detected 356 ( 1.6%) items with no interactions.\n",
      "EvaluatorHoldout: Processed 9989 (100.0%) in 6.58 sec. Users per second: 1518\n"
     ]
    },
    {
     "name": "stderr",
     "output_type": "stream",
     "text": [
      "[I 2023-12-09 01:03:08,840] Trial 45 finished with value: 0.030351172003489774 and parameters: {'alpha': 0.0014475483846534132}. Best is trial 23 with value: 0.030456307493799014.\n"
     ]
    },
    {
     "name": "stdout",
     "output_type": "stream",
     "text": [
      "ItemKNNCustomSimilarityRecommender: URM Detected 451 ( 3.6%) users with no interactions.\n",
      "ItemKNNCustomSimilarityRecommender: URM Detected 356 ( 1.6%) items with no interactions.\n",
      "EvaluatorHoldout: Processed 9989 (100.0%) in 6.35 sec. Users per second: 1573\n"
     ]
    },
    {
     "name": "stderr",
     "output_type": "stream",
     "text": [
      "[I 2023-12-09 01:03:15,269] Trial 46 finished with value: 0.03047326662503385 and parameters: {'alpha': 0.10070766821684016}. Best is trial 46 with value: 0.03047326662503385.\n"
     ]
    },
    {
     "name": "stdout",
     "output_type": "stream",
     "text": [
      "ItemKNNCustomSimilarityRecommender: URM Detected 451 ( 3.6%) users with no interactions.\n",
      "ItemKNNCustomSimilarityRecommender: URM Detected 356 ( 1.6%) items with no interactions.\n",
      "EvaluatorHoldout: Processed 9989 (100.0%) in 6.47 sec. Users per second: 1544\n"
     ]
    },
    {
     "name": "stderr",
     "output_type": "stream",
     "text": [
      "[I 2023-12-09 01:03:21,889] Trial 47 finished with value: 0.030387207674473848 and parameters: {'alpha': 0.11853381224335682}. Best is trial 46 with value: 0.03047326662503385.\n"
     ]
    },
    {
     "name": "stdout",
     "output_type": "stream",
     "text": [
      "ItemKNNCustomSimilarityRecommender: URM Detected 451 ( 3.6%) users with no interactions.\n",
      "ItemKNNCustomSimilarityRecommender: URM Detected 356 ( 1.6%) items with no interactions.\n",
      "EvaluatorHoldout: Processed 9989 (100.0%) in 6.84 sec. Users per second: 1460\n"
     ]
    },
    {
     "name": "stderr",
     "output_type": "stream",
     "text": [
      "[I 2023-12-09 01:03:28,884] Trial 48 finished with value: 0.030181703842480926 and parameters: {'alpha': 0.17512563512161436}. Best is trial 46 with value: 0.03047326662503385.\n"
     ]
    },
    {
     "name": "stdout",
     "output_type": "stream",
     "text": [
      "ItemKNNCustomSimilarityRecommender: URM Detected 451 ( 3.6%) users with no interactions.\n",
      "ItemKNNCustomSimilarityRecommender: URM Detected 356 ( 1.6%) items with no interactions.\n",
      "EvaluatorHoldout: Processed 9989 (100.0%) in 7.19 sec. Users per second: 1390\n"
     ]
    },
    {
     "name": "stderr",
     "output_type": "stream",
     "text": [
      "[I 2023-12-09 01:03:36,232] Trial 49 finished with value: 0.030364806048558377 and parameters: {'alpha': 0.13184549920340805}. Best is trial 46 with value: 0.03047326662503385.\n"
     ]
    },
    {
     "name": "stdout",
     "output_type": "stream",
     "text": [
      "ItemKNNCustomSimilarityRecommender: URM Detected 451 ( 3.6%) users with no interactions.\n",
      "ItemKNNCustomSimilarityRecommender: URM Detected 356 ( 1.6%) items with no interactions.\n",
      "EvaluatorHoldout: Processed 9989 (100.0%) in 6.90 sec. Users per second: 1448\n"
     ]
    },
    {
     "name": "stderr",
     "output_type": "stream",
     "text": [
      "[I 2023-12-09 01:03:43,220] Trial 50 finished with value: 0.030365624409072405 and parameters: {'alpha': 0.028003851813210953}. Best is trial 46 with value: 0.03047326662503385.\n"
     ]
    },
    {
     "name": "stdout",
     "output_type": "stream",
     "text": [
      "ItemKNNCustomSimilarityRecommender: URM Detected 451 ( 3.6%) users with no interactions.\n",
      "ItemKNNCustomSimilarityRecommender: URM Detected 356 ( 1.6%) items with no interactions.\n",
      "EvaluatorHoldout: Processed 9989 (100.0%) in 6.88 sec. Users per second: 1453\n"
     ]
    },
    {
     "name": "stderr",
     "output_type": "stream",
     "text": [
      "[I 2023-12-09 01:03:50,193] Trial 51 finished with value: 0.03037390335718519 and parameters: {'alpha': 0.00918808445659007}. Best is trial 46 with value: 0.03047326662503385.\n"
     ]
    },
    {
     "name": "stdout",
     "output_type": "stream",
     "text": [
      "ItemKNNCustomSimilarityRecommender: URM Detected 451 ( 3.6%) users with no interactions.\n",
      "ItemKNNCustomSimilarityRecommender: URM Detected 356 ( 1.6%) items with no interactions.\n",
      "EvaluatorHoldout: Processed 9989 (100.0%) in 6.46 sec. Users per second: 1547\n"
     ]
    },
    {
     "name": "stderr",
     "output_type": "stream",
     "text": [
      "[I 2023-12-09 01:03:56,768] Trial 52 finished with value: 0.03044798484682385 and parameters: {'alpha': 0.08863824685446155}. Best is trial 46 with value: 0.03047326662503385.\n"
     ]
    },
    {
     "name": "stdout",
     "output_type": "stream",
     "text": [
      "ItemKNNCustomSimilarityRecommender: URM Detected 451 ( 3.6%) users with no interactions.\n",
      "ItemKNNCustomSimilarityRecommender: URM Detected 356 ( 1.6%) items with no interactions.\n",
      "EvaluatorHoldout: Processed 9989 (100.0%) in 7.25 sec. Users per second: 1378\n"
     ]
    },
    {
     "name": "stderr",
     "output_type": "stream",
     "text": [
      "[I 2023-12-09 01:04:04,128] Trial 53 finished with value: 0.030422909645054244 and parameters: {'alpha': 0.05171141909673308}. Best is trial 46 with value: 0.03047326662503385.\n"
     ]
    },
    {
     "name": "stdout",
     "output_type": "stream",
     "text": [
      "ItemKNNCustomSimilarityRecommender: URM Detected 451 ( 3.6%) users with no interactions.\n",
      "ItemKNNCustomSimilarityRecommender: URM Detected 356 ( 1.6%) items with no interactions.\n",
      "EvaluatorHoldout: Processed 9989 (100.0%) in 7.04 sec. Users per second: 1419\n"
     ]
    },
    {
     "name": "stderr",
     "output_type": "stream",
     "text": [
      "[I 2023-12-09 01:04:11,275] Trial 54 finished with value: 0.030476599656447785 and parameters: {'alpha': 0.10155141341511405}. Best is trial 54 with value: 0.030476599656447785.\n"
     ]
    },
    {
     "name": "stdout",
     "output_type": "stream",
     "text": [
      "ItemKNNCustomSimilarityRecommender: URM Detected 451 ( 3.6%) users with no interactions.\n",
      "ItemKNNCustomSimilarityRecommender: URM Detected 356 ( 1.6%) items with no interactions.\n",
      "EvaluatorHoldout: Processed 9989 (100.0%) in 6.85 sec. Users per second: 1459\n"
     ]
    },
    {
     "name": "stderr",
     "output_type": "stream",
     "text": [
      "[I 2023-12-09 01:04:18,257] Trial 55 finished with value: 0.030308331227842905 and parameters: {'alpha': 0.14827361816152312}. Best is trial 54 with value: 0.030476599656447785.\n"
     ]
    },
    {
     "name": "stdout",
     "output_type": "stream",
     "text": [
      "ItemKNNCustomSimilarityRecommender: URM Detected 451 ( 3.6%) users with no interactions.\n",
      "ItemKNNCustomSimilarityRecommender: URM Detected 356 ( 1.6%) items with no interactions.\n",
      "EvaluatorHoldout: Processed 9989 (100.0%) in 7.07 sec. Users per second: 1414\n"
     ]
    },
    {
     "name": "stderr",
     "output_type": "stream",
     "text": [
      "[I 2023-12-09 01:04:25,417] Trial 56 finished with value: 0.03042223032637508 and parameters: {'alpha': 0.11050435682276277}. Best is trial 54 with value: 0.030476599656447785.\n"
     ]
    },
    {
     "name": "stdout",
     "output_type": "stream",
     "text": [
      "ItemKNNCustomSimilarityRecommender: URM Detected 451 ( 3.6%) users with no interactions.\n",
      "ItemKNNCustomSimilarityRecommender: URM Detected 356 ( 1.6%) items with no interactions.\n",
      "EvaluatorHoldout: Processed 9989 (100.0%) in 6.71 sec. Users per second: 1488\n"
     ]
    },
    {
     "name": "stderr",
     "output_type": "stream",
     "text": [
      "[I 2023-12-09 01:04:32,236] Trial 57 finished with value: 0.02985620293433909 and parameters: {'alpha': 0.23815052286763477}. Best is trial 54 with value: 0.030476599656447785.\n"
     ]
    },
    {
     "name": "stdout",
     "output_type": "stream",
     "text": [
      "ItemKNNCustomSimilarityRecommender: URM Detected 451 ( 3.6%) users with no interactions.\n",
      "ItemKNNCustomSimilarityRecommender: URM Detected 356 ( 1.6%) items with no interactions.\n",
      "EvaluatorHoldout: Processed 9989 (100.0%) in 7.27 sec. Users per second: 1374\n"
     ]
    },
    {
     "name": "stderr",
     "output_type": "stream",
     "text": [
      "[I 2023-12-09 01:04:39,599] Trial 58 finished with value: 0.030184190705013856 and parameters: {'alpha': 0.17693040394687987}. Best is trial 54 with value: 0.030476599656447785.\n"
     ]
    },
    {
     "name": "stdout",
     "output_type": "stream",
     "text": [
      "ItemKNNCustomSimilarityRecommender: URM Detected 451 ( 3.6%) users with no interactions.\n",
      "ItemKNNCustomSimilarityRecommender: URM Detected 356 ( 1.6%) items with no interactions.\n",
      "EvaluatorHoldout: Processed 9989 (100.0%) in 6.83 sec. Users per second: 1463\n"
     ]
    },
    {
     "name": "stderr",
     "output_type": "stream",
     "text": [
      "[I 2023-12-09 01:04:46,583] Trial 59 finished with value: 0.030404798452901626 and parameters: {'alpha': 0.04724352412943156}. Best is trial 54 with value: 0.030476599656447785.\n"
     ]
    },
    {
     "name": "stdout",
     "output_type": "stream",
     "text": [
      "ItemKNNCustomSimilarityRecommender: URM Detected 451 ( 3.6%) users with no interactions.\n",
      "ItemKNNCustomSimilarityRecommender: URM Detected 356 ( 1.6%) items with no interactions.\n",
      "EvaluatorHoldout: Processed 9989 (100.0%) in 6.90 sec. Users per second: 1448\n"
     ]
    },
    {
     "name": "stderr",
     "output_type": "stream",
     "text": [
      "[I 2023-12-09 01:04:53,645] Trial 60 finished with value: 0.030178394646810134 and parameters: {'alpha': 0.16810442563856842}. Best is trial 54 with value: 0.030476599656447785.\n"
     ]
    },
    {
     "name": "stdout",
     "output_type": "stream",
     "text": [
      "ItemKNNCustomSimilarityRecommender: URM Detected 451 ( 3.6%) users with no interactions.\n",
      "ItemKNNCustomSimilarityRecommender: URM Detected 356 ( 1.6%) items with no interactions.\n",
      "EvaluatorHoldout: Processed 9989 (100.0%) in 7.28 sec. Users per second: 1373\n"
     ]
    },
    {
     "name": "stderr",
     "output_type": "stream",
     "text": [
      "[I 2023-12-09 01:05:01,024] Trial 61 finished with value: 0.02974499330215645 and parameters: {'alpha': 0.25310694749733526}. Best is trial 54 with value: 0.030476599656447785.\n"
     ]
    },
    {
     "name": "stdout",
     "output_type": "stream",
     "text": [
      "ItemKNNCustomSimilarityRecommender: URM Detected 451 ( 3.6%) users with no interactions.\n",
      "ItemKNNCustomSimilarityRecommender: URM Detected 356 ( 1.6%) items with no interactions.\n",
      "EvaluatorHoldout: Processed 9989 (100.0%) in 7.26 sec. Users per second: 1376\n"
     ]
    },
    {
     "name": "stderr",
     "output_type": "stream",
     "text": [
      "[I 2023-12-09 01:05:08,457] Trial 62 finished with value: 0.03047056921343666 and parameters: {'alpha': 0.10179929969997918}. Best is trial 54 with value: 0.030476599656447785.\n"
     ]
    },
    {
     "name": "stdout",
     "output_type": "stream",
     "text": [
      "ItemKNNCustomSimilarityRecommender: URM Detected 451 ( 3.6%) users with no interactions.\n",
      "ItemKNNCustomSimilarityRecommender: URM Detected 356 ( 1.6%) items with no interactions.\n",
      "EvaluatorHoldout: Processed 9989 (100.0%) in 7.23 sec. Users per second: 1382\n"
     ]
    },
    {
     "name": "stderr",
     "output_type": "stream",
     "text": [
      "[I 2023-12-09 01:05:15,780] Trial 63 finished with value: 0.030444723322639266 and parameters: {'alpha': 0.10619661462917526}. Best is trial 54 with value: 0.030476599656447785.\n"
     ]
    },
    {
     "name": "stdout",
     "output_type": "stream",
     "text": [
      "ItemKNNCustomSimilarityRecommender: URM Detected 451 ( 3.6%) users with no interactions.\n",
      "ItemKNNCustomSimilarityRecommender: URM Detected 356 ( 1.6%) items with no interactions.\n",
      "EvaluatorHoldout: Processed 9989 (100.0%) in 7.49 sec. Users per second: 1334\n"
     ]
    },
    {
     "name": "stderr",
     "output_type": "stream",
     "text": [
      "[I 2023-12-09 01:05:23,388] Trial 64 finished with value: 0.03038812535058431 and parameters: {'alpha': 0.04339480042300641}. Best is trial 54 with value: 0.030476599656447785.\n"
     ]
    },
    {
     "name": "stdout",
     "output_type": "stream",
     "text": [
      "ItemKNNCustomSimilarityRecommender: URM Detected 451 ( 3.6%) users with no interactions.\n",
      "ItemKNNCustomSimilarityRecommender: URM Detected 356 ( 1.6%) items with no interactions.\n",
      "EvaluatorHoldout: Processed 9989 (100.0%) in 7.19 sec. Users per second: 1390\n"
     ]
    },
    {
     "name": "stderr",
     "output_type": "stream",
     "text": [
      "[I 2023-12-09 01:05:30,675] Trial 65 finished with value: 0.030449851980035424 and parameters: {'alpha': 0.09653271633686776}. Best is trial 54 with value: 0.030476599656447785.\n"
     ]
    },
    {
     "name": "stdout",
     "output_type": "stream",
     "text": [
      "ItemKNNCustomSimilarityRecommender: URM Detected 451 ( 3.6%) users with no interactions.\n",
      "ItemKNNCustomSimilarityRecommender: URM Detected 356 ( 1.6%) items with no interactions.\n",
      "EvaluatorHoldout: Processed 9989 (100.0%) in 6.85 sec. Users per second: 1459\n"
     ]
    },
    {
     "name": "stderr",
     "output_type": "stream",
     "text": [
      "[I 2023-12-09 01:05:37,633] Trial 66 finished with value: 0.030297756103142247 and parameters: {'alpha': 0.14771598252994145}. Best is trial 54 with value: 0.030476599656447785.\n"
     ]
    },
    {
     "name": "stdout",
     "output_type": "stream",
     "text": [
      "ItemKNNCustomSimilarityRecommender: URM Detected 451 ( 3.6%) users with no interactions.\n",
      "ItemKNNCustomSimilarityRecommender: URM Detected 356 ( 1.6%) items with no interactions.\n",
      "EvaluatorHoldout: Processed 9989 (100.0%) in 7.34 sec. Users per second: 1360\n"
     ]
    },
    {
     "name": "stderr",
     "output_type": "stream",
     "text": [
      "[I 2023-12-09 01:05:45,124] Trial 67 finished with value: 0.030349038704479924 and parameters: {'alpha': 0.0015548637111494207}. Best is trial 54 with value: 0.030476599656447785.\n"
     ]
    },
    {
     "name": "stdout",
     "output_type": "stream",
     "text": [
      "ItemKNNCustomSimilarityRecommender: URM Detected 451 ( 3.6%) users with no interactions.\n",
      "ItemKNNCustomSimilarityRecommender: URM Detected 356 ( 1.6%) items with no interactions.\n",
      "EvaluatorHoldout: Processed 9989 (100.0%) in 7.05 sec. Users per second: 1417\n"
     ]
    },
    {
     "name": "stderr",
     "output_type": "stream",
     "text": [
      "[I 2023-12-09 01:05:52,272] Trial 68 finished with value: 0.029979413863186276 and parameters: {'alpha': 0.21442547264273426}. Best is trial 54 with value: 0.030476599656447785.\n"
     ]
    },
    {
     "name": "stdout",
     "output_type": "stream",
     "text": [
      "ItemKNNCustomSimilarityRecommender: URM Detected 451 ( 3.6%) users with no interactions.\n",
      "ItemKNNCustomSimilarityRecommender: URM Detected 356 ( 1.6%) items with no interactions.\n",
      "EvaluatorHoldout: Processed 9989 (100.0%) in 7.33 sec. Users per second: 1362\n"
     ]
    },
    {
     "name": "stderr",
     "output_type": "stream",
     "text": [
      "[I 2023-12-09 01:05:59,812] Trial 69 finished with value: 0.03047689760323686 and parameters: {'alpha': 0.10204960939360941}. Best is trial 69 with value: 0.03047689760323686.\n"
     ]
    },
    {
     "name": "stdout",
     "output_type": "stream",
     "text": [
      "ItemKNNCustomSimilarityRecommender: URM Detected 451 ( 3.6%) users with no interactions.\n",
      "ItemKNNCustomSimilarityRecommender: URM Detected 356 ( 1.6%) items with no interactions.\n",
      "EvaluatorHoldout: Processed 9989 (100.0%) in 7.25 sec. Users per second: 1377\n"
     ]
    },
    {
     "name": "stderr",
     "output_type": "stream",
     "text": [
      "[I 2023-12-09 01:06:07,218] Trial 70 finished with value: 0.030415973443804305 and parameters: {'alpha': 0.06337020796028768}. Best is trial 69 with value: 0.03047689760323686.\n"
     ]
    },
    {
     "name": "stdout",
     "output_type": "stream",
     "text": [
      "ItemKNNCustomSimilarityRecommender: URM Detected 451 ( 3.6%) users with no interactions.\n",
      "ItemKNNCustomSimilarityRecommender: URM Detected 356 ( 1.6%) items with no interactions.\n",
      "EvaluatorHoldout: Processed 9989 (100.0%) in 7.26 sec. Users per second: 1377\n"
     ]
    },
    {
     "name": "stderr",
     "output_type": "stream",
     "text": [
      "[I 2023-12-09 01:06:14,566] Trial 71 finished with value: 0.03037922270052632 and parameters: {'alpha': 0.1351979458489605}. Best is trial 69 with value: 0.03047689760323686.\n"
     ]
    },
    {
     "name": "stdout",
     "output_type": "stream",
     "text": [
      "ItemKNNCustomSimilarityRecommender: URM Detected 451 ( 3.6%) users with no interactions.\n",
      "ItemKNNCustomSimilarityRecommender: URM Detected 356 ( 1.6%) items with no interactions.\n",
      "EvaluatorHoldout: Processed 9989 (100.0%) in 7.33 sec. Users per second: 1362\n"
     ]
    },
    {
     "name": "stderr",
     "output_type": "stream",
     "text": [
      "[I 2023-12-09 01:06:22,010] Trial 72 finished with value: 0.030404039681745376 and parameters: {'alpha': 0.10777388884990732}. Best is trial 69 with value: 0.03047689760323686.\n"
     ]
    },
    {
     "name": "stdout",
     "output_type": "stream",
     "text": [
      "ItemKNNCustomSimilarityRecommender: URM Detected 451 ( 3.6%) users with no interactions.\n",
      "ItemKNNCustomSimilarityRecommender: URM Detected 356 ( 1.6%) items with no interactions.\n",
      "EvaluatorHoldout: Processed 9989 (100.0%) in 7.47 sec. Users per second: 1337\n"
     ]
    },
    {
     "name": "stderr",
     "output_type": "stream",
     "text": [
      "[I 2023-12-09 01:06:29,701] Trial 73 finished with value: 0.03041277945422531 and parameters: {'alpha': 0.0823735027584646}. Best is trial 69 with value: 0.03047689760323686.\n"
     ]
    },
    {
     "name": "stdout",
     "output_type": "stream",
     "text": [
      "ItemKNNCustomSimilarityRecommender: URM Detected 451 ( 3.6%) users with no interactions.\n",
      "ItemKNNCustomSimilarityRecommender: URM Detected 356 ( 1.6%) items with no interactions.\n",
      "EvaluatorHoldout: Processed 9989 (100.0%) in 7.40 sec. Users per second: 1349\n"
     ]
    },
    {
     "name": "stderr",
     "output_type": "stream",
     "text": [
      "[I 2023-12-09 01:06:37,199] Trial 74 finished with value: 0.030386417122326828 and parameters: {'alpha': 0.0318426336449225}. Best is trial 69 with value: 0.03047689760323686.\n"
     ]
    },
    {
     "name": "stdout",
     "output_type": "stream",
     "text": [
      "ItemKNNCustomSimilarityRecommender: URM Detected 451 ( 3.6%) users with no interactions.\n",
      "ItemKNNCustomSimilarityRecommender: URM Detected 356 ( 1.6%) items with no interactions.\n",
      "EvaluatorHoldout: Processed 9989 (100.0%) in 7.25 sec. Users per second: 1378\n"
     ]
    },
    {
     "name": "stderr",
     "output_type": "stream",
     "text": [
      "[I 2023-12-09 01:06:44,656] Trial 75 finished with value: 0.03005409521902688 and parameters: {'alpha': 0.19828893300401967}. Best is trial 69 with value: 0.03047689760323686.\n"
     ]
    },
    {
     "name": "stdout",
     "output_type": "stream",
     "text": [
      "ItemKNNCustomSimilarityRecommender: URM Detected 451 ( 3.6%) users with no interactions.\n",
      "ItemKNNCustomSimilarityRecommender: URM Detected 356 ( 1.6%) items with no interactions.\n",
      "EvaluatorHoldout: Processed 9989 (100.0%) in 7.22 sec. Users per second: 1383\n"
     ]
    },
    {
     "name": "stderr",
     "output_type": "stream",
     "text": [
      "[I 2023-12-09 01:06:51,998] Trial 76 finished with value: 0.030232485893212917 and parameters: {'alpha': 0.15917943688363184}. Best is trial 69 with value: 0.03047689760323686.\n"
     ]
    },
    {
     "name": "stdout",
     "output_type": "stream",
     "text": [
      "ItemKNNCustomSimilarityRecommender: URM Detected 451 ( 3.6%) users with no interactions.\n",
      "ItemKNNCustomSimilarityRecommender: URM Detected 356 ( 1.6%) items with no interactions.\n",
      "EvaluatorHoldout: Processed 9989 (100.0%) in 7.04 sec. Users per second: 1419\n"
     ]
    },
    {
     "name": "stderr",
     "output_type": "stream",
     "text": [
      "[I 2023-12-09 01:06:59,206] Trial 77 finished with value: 0.030473020322354872 and parameters: {'alpha': 0.10082086966642347}. Best is trial 69 with value: 0.03047689760323686.\n"
     ]
    },
    {
     "name": "stdout",
     "output_type": "stream",
     "text": [
      "ItemKNNCustomSimilarityRecommender: URM Detected 451 ( 3.6%) users with no interactions.\n",
      "ItemKNNCustomSimilarityRecommender: URM Detected 356 ( 1.6%) items with no interactions.\n",
      "EvaluatorHoldout: Processed 9989 (100.0%) in 7.21 sec. Users per second: 1386\n"
     ]
    },
    {
     "name": "stderr",
     "output_type": "stream",
     "text": [
      "[I 2023-12-09 01:07:06,515] Trial 78 finished with value: 0.0304080997033247 and parameters: {'alpha': 0.0611921319511218}. Best is trial 69 with value: 0.03047689760323686.\n"
     ]
    },
    {
     "name": "stdout",
     "output_type": "stream",
     "text": [
      "ItemKNNCustomSimilarityRecommender: URM Detected 451 ( 3.6%) users with no interactions.\n",
      "ItemKNNCustomSimilarityRecommender: URM Detected 356 ( 1.6%) items with no interactions.\n",
      "EvaluatorHoldout: Processed 9989 (100.0%) in 6.73 sec. Users per second: 1484\n"
     ]
    },
    {
     "name": "stderr",
     "output_type": "stream",
     "text": [
      "[I 2023-12-09 01:07:13,362] Trial 79 finished with value: 0.030361655757841773 and parameters: {'alpha': 0.12506680700228545}. Best is trial 69 with value: 0.03047689760323686.\n"
     ]
    },
    {
     "name": "stdout",
     "output_type": "stream",
     "text": [
      "ItemKNNCustomSimilarityRecommender: URM Detected 451 ( 3.6%) users with no interactions.\n",
      "ItemKNNCustomSimilarityRecommender: URM Detected 356 ( 1.6%) items with no interactions.\n",
      "EvaluatorHoldout: Processed 9989 (100.0%) in 6.56 sec. Users per second: 1524\n"
     ]
    },
    {
     "name": "stderr",
     "output_type": "stream",
     "text": [
      "[I 2023-12-09 01:07:20,015] Trial 80 finished with value: 0.03007874932266788 and parameters: {'alpha': 0.19002496739305075}. Best is trial 69 with value: 0.03047689760323686.\n"
     ]
    },
    {
     "name": "stdout",
     "output_type": "stream",
     "text": [
      "ItemKNNCustomSimilarityRecommender: URM Detected 451 ( 3.6%) users with no interactions.\n",
      "ItemKNNCustomSimilarityRecommender: URM Detected 356 ( 1.6%) items with no interactions.\n",
      "EvaluatorHoldout: Processed 9989 (100.0%) in 7.15 sec. Users per second: 1397\n"
     ]
    },
    {
     "name": "stderr",
     "output_type": "stream",
     "text": [
      "[I 2023-12-09 01:07:27,265] Trial 81 finished with value: 0.030408544637196423 and parameters: {'alpha': 0.0766843959596818}. Best is trial 69 with value: 0.03047689760323686.\n"
     ]
    },
    {
     "name": "stdout",
     "output_type": "stream",
     "text": [
      "ItemKNNCustomSimilarityRecommender: URM Detected 451 ( 3.6%) users with no interactions.\n",
      "ItemKNNCustomSimilarityRecommender: URM Detected 356 ( 1.6%) items with no interactions.\n",
      "EvaluatorHoldout: Processed 9989 (100.0%) in 7.77 sec. Users per second: 1285\n"
     ]
    },
    {
     "name": "stderr",
     "output_type": "stream",
     "text": [
      "[I 2023-12-09 01:07:35,141] Trial 82 finished with value: 0.030462580266865217 and parameters: {'alpha': 0.09694221898475569}. Best is trial 69 with value: 0.03047689760323686.\n"
     ]
    },
    {
     "name": "stdout",
     "output_type": "stream",
     "text": [
      "ItemKNNCustomSimilarityRecommender: URM Detected 451 ( 3.6%) users with no interactions.\n",
      "ItemKNNCustomSimilarityRecommender: URM Detected 356 ( 1.6%) items with no interactions.\n",
      "EvaluatorHoldout: Processed 9989 (100.0%) in 6.85 sec. Users per second: 1458\n"
     ]
    },
    {
     "name": "stderr",
     "output_type": "stream",
     "text": [
      "[I 2023-12-09 01:07:42,103] Trial 83 finished with value: 0.03041393548776692 and parameters: {'alpha': 0.11198094867637734}. Best is trial 69 with value: 0.03047689760323686.\n"
     ]
    },
    {
     "name": "stdout",
     "output_type": "stream",
     "text": [
      "ItemKNNCustomSimilarityRecommender: URM Detected 451 ( 3.6%) users with no interactions.\n",
      "ItemKNNCustomSimilarityRecommender: URM Detected 356 ( 1.6%) items with no interactions.\n",
      "EvaluatorHoldout: Processed 9989 (100.0%) in 7.81 sec. Users per second: 1280\n"
     ]
    },
    {
     "name": "stderr",
     "output_type": "stream",
     "text": [
      "[I 2023-12-09 01:07:50,065] Trial 84 finished with value: 0.03038501081348234 and parameters: {'alpha': 0.03346792745298924}. Best is trial 69 with value: 0.03047689760323686.\n"
     ]
    },
    {
     "name": "stdout",
     "output_type": "stream",
     "text": [
      "ItemKNNCustomSimilarityRecommender: URM Detected 451 ( 3.6%) users with no interactions.\n",
      "ItemKNNCustomSimilarityRecommender: URM Detected 356 ( 1.6%) items with no interactions.\n",
      "EvaluatorHoldout: Processed 9989 (100.0%) in 6.94 sec. Users per second: 1440\n"
     ]
    },
    {
     "name": "stderr",
     "output_type": "stream",
     "text": [
      "[I 2023-12-09 01:07:57,108] Trial 85 finished with value: 0.030290172364204008 and parameters: {'alpha': 0.14622504337931783}. Best is trial 69 with value: 0.03047689760323686.\n"
     ]
    },
    {
     "name": "stdout",
     "output_type": "stream",
     "text": [
      "ItemKNNCustomSimilarityRecommender: URM Detected 451 ( 3.6%) users with no interactions.\n",
      "ItemKNNCustomSimilarityRecommender: URM Detected 356 ( 1.6%) items with no interactions.\n",
      "EvaluatorHoldout: Processed 9989 (100.0%) in 7.58 sec. Users per second: 1318\n"
     ]
    },
    {
     "name": "stderr",
     "output_type": "stream",
     "text": [
      "[I 2023-12-09 01:08:04,825] Trial 86 finished with value: 0.030427418573129108 and parameters: {'alpha': 0.09493128360055919}. Best is trial 69 with value: 0.03047689760323686.\n"
     ]
    },
    {
     "name": "stdout",
     "output_type": "stream",
     "text": [
      "ItemKNNCustomSimilarityRecommender: URM Detected 451 ( 3.6%) users with no interactions.\n",
      "ItemKNNCustomSimilarityRecommender: URM Detected 356 ( 1.6%) items with no interactions.\n",
      "EvaluatorHoldout: Processed 9989 (100.0%) in 7.43 sec. Users per second: 1344\n"
     ]
    },
    {
     "name": "stderr",
     "output_type": "stream",
     "text": [
      "[I 2023-12-09 01:08:12,360] Trial 87 finished with value: 0.030397604031101134 and parameters: {'alpha': 0.060141994611562034}. Best is trial 69 with value: 0.03047689760323686.\n"
     ]
    },
    {
     "name": "stdout",
     "output_type": "stream",
     "text": [
      "ItemKNNCustomSimilarityRecommender: URM Detected 451 ( 3.6%) users with no interactions.\n",
      "ItemKNNCustomSimilarityRecommender: URM Detected 356 ( 1.6%) items with no interactions.\n",
      "EvaluatorHoldout: Processed 9989 (100.0%) in 7.02 sec. Users per second: 1422\n"
     ]
    },
    {
     "name": "stderr",
     "output_type": "stream",
     "text": [
      "[I 2023-12-09 01:08:19,514] Trial 88 finished with value: 0.03035413955350905 and parameters: {'alpha': 0.1311067646916914}. Best is trial 69 with value: 0.03047689760323686.\n"
     ]
    },
    {
     "name": "stdout",
     "output_type": "stream",
     "text": [
      "ItemKNNCustomSimilarityRecommender: URM Detected 451 ( 3.6%) users with no interactions.\n",
      "ItemKNNCustomSimilarityRecommender: URM Detected 356 ( 1.6%) items with no interactions.\n",
      "EvaluatorHoldout: Processed 9989 (100.0%) in 7.08 sec. Users per second: 1410\n"
     ]
    },
    {
     "name": "stderr",
     "output_type": "stream",
     "text": [
      "[I 2023-12-09 01:08:26,688] Trial 89 finished with value: 0.030184055635802783 and parameters: {'alpha': 0.16765166577531854}. Best is trial 69 with value: 0.03047689760323686.\n"
     ]
    },
    {
     "name": "stdout",
     "output_type": "stream",
     "text": [
      "ItemKNNCustomSimilarityRecommender: URM Detected 451 ( 3.6%) users with no interactions.\n",
      "ItemKNNCustomSimilarityRecommender: URM Detected 356 ( 1.6%) items with no interactions.\n",
      "EvaluatorHoldout: Processed 9989 (100.0%) in 7.13 sec. Users per second: 1401\n"
     ]
    },
    {
     "name": "stderr",
     "output_type": "stream",
     "text": [
      "[I 2023-12-09 01:08:33,905] Trial 90 finished with value: 0.03042710870846846 and parameters: {'alpha': 0.09427215703917868}. Best is trial 69 with value: 0.03047689760323686.\n"
     ]
    },
    {
     "name": "stdout",
     "output_type": "stream",
     "text": [
      "ItemKNNCustomSimilarityRecommender: URM Detected 451 ( 3.6%) users with no interactions.\n",
      "ItemKNNCustomSimilarityRecommender: URM Detected 356 ( 1.6%) items with no interactions.\n",
      "EvaluatorHoldout: Processed 9989 (100.0%) in 6.67 sec. Users per second: 1498\n"
     ]
    },
    {
     "name": "stderr",
     "output_type": "stream",
     "text": [
      "[I 2023-12-09 01:08:40,700] Trial 91 finished with value: 0.030388574257079824 and parameters: {'alpha': 0.03711413118338734}. Best is trial 69 with value: 0.03047689760323686.\n"
     ]
    },
    {
     "name": "stdout",
     "output_type": "stream",
     "text": [
      "ItemKNNCustomSimilarityRecommender: URM Detected 451 ( 3.6%) users with no interactions.\n",
      "ItemKNNCustomSimilarityRecommender: URM Detected 356 ( 1.6%) items with no interactions.\n",
      "EvaluatorHoldout: Processed 9989 (100.0%) in 7.41 sec. Users per second: 1348\n"
     ]
    },
    {
     "name": "stderr",
     "output_type": "stream",
     "text": [
      "[I 2023-12-09 01:08:48,188] Trial 92 finished with value: 0.030405207633158664 and parameters: {'alpha': 0.07942263717772192}. Best is trial 69 with value: 0.03047689760323686.\n"
     ]
    },
    {
     "name": "stdout",
     "output_type": "stream",
     "text": [
      "ItemKNNCustomSimilarityRecommender: URM Detected 451 ( 3.6%) users with no interactions.\n",
      "ItemKNNCustomSimilarityRecommender: URM Detected 356 ( 1.6%) items with no interactions.\n",
      "EvaluatorHoldout: Processed 9989 (100.0%) in 6.81 sec. Users per second: 1467\n"
     ]
    },
    {
     "name": "stderr",
     "output_type": "stream",
     "text": [
      "[I 2023-12-09 01:08:55,086] Trial 93 finished with value: 0.03036883031652299 and parameters: {'alpha': 0.12476455103330152}. Best is trial 69 with value: 0.03047689760323686.\n"
     ]
    },
    {
     "name": "stdout",
     "output_type": "stream",
     "text": [
      "ItemKNNCustomSimilarityRecommender: URM Detected 451 ( 3.6%) users with no interactions.\n",
      "ItemKNNCustomSimilarityRecommender: URM Detected 356 ( 1.6%) items with no interactions.\n",
      "EvaluatorHoldout: Processed 9989 (100.0%) in 7.05 sec. Users per second: 1416\n"
     ]
    },
    {
     "name": "stderr",
     "output_type": "stream",
     "text": [
      "[I 2023-12-09 01:09:02,318] Trial 94 finished with value: 0.030448811152585548 and parameters: {'alpha': 0.09578252721264181}. Best is trial 69 with value: 0.03047689760323686.\n"
     ]
    },
    {
     "name": "stdout",
     "output_type": "stream",
     "text": [
      "ItemKNNCustomSimilarityRecommender: URM Detected 451 ( 3.6%) users with no interactions.\n",
      "ItemKNNCustomSimilarityRecommender: URM Detected 356 ( 1.6%) items with no interactions.\n",
      "EvaluatorHoldout: Processed 9989 (100.0%) in 6.79 sec. Users per second: 1471\n"
     ]
    },
    {
     "name": "stderr",
     "output_type": "stream",
     "text": [
      "[I 2023-12-09 01:09:09,219] Trial 95 finished with value: 0.030368703192559666 and parameters: {'alpha': 0.009291325756690103}. Best is trial 69 with value: 0.03047689760323686.\n"
     ]
    },
    {
     "name": "stdout",
     "output_type": "stream",
     "text": [
      "ItemKNNCustomSimilarityRecommender: URM Detected 451 ( 3.6%) users with no interactions.\n",
      "ItemKNNCustomSimilarityRecommender: URM Detected 356 ( 1.6%) items with no interactions.\n",
      "EvaluatorHoldout: Processed 9989 (100.0%) in 6.84 sec. Users per second: 1460\n"
     ]
    },
    {
     "name": "stderr",
     "output_type": "stream",
     "text": [
      "[I 2023-12-09 01:09:16,157] Trial 96 finished with value: 0.030229021765211788 and parameters: {'alpha': 0.1575599877682054}. Best is trial 69 with value: 0.03047689760323686.\n"
     ]
    },
    {
     "name": "stdout",
     "output_type": "stream",
     "text": [
      "ItemKNNCustomSimilarityRecommender: URM Detected 451 ( 3.6%) users with no interactions.\n",
      "ItemKNNCustomSimilarityRecommender: URM Detected 356 ( 1.6%) items with no interactions.\n",
      "EvaluatorHoldout: Processed 9989 (100.0%) in 6.65 sec. Users per second: 1503\n"
     ]
    },
    {
     "name": "stderr",
     "output_type": "stream",
     "text": [
      "[I 2023-12-09 01:09:22,926] Trial 97 finished with value: 0.030409355052462724 and parameters: {'alpha': 0.052625111638464124}. Best is trial 69 with value: 0.03047689760323686.\n"
     ]
    },
    {
     "name": "stdout",
     "output_type": "stream",
     "text": [
      "ItemKNNCustomSimilarityRecommender: URM Detected 451 ( 3.6%) users with no interactions.\n",
      "ItemKNNCustomSimilarityRecommender: URM Detected 356 ( 1.6%) items with no interactions.\n",
      "EvaluatorHoldout: Processed 9989 (100.0%) in 7.17 sec. Users per second: 1392\n"
     ]
    },
    {
     "name": "stderr",
     "output_type": "stream",
     "text": [
      "[I 2023-12-09 01:09:30,239] Trial 98 finished with value: 0.030061551834001776 and parameters: {'alpha': 0.19173256822528087}. Best is trial 69 with value: 0.03047689760323686.\n"
     ]
    },
    {
     "name": "stdout",
     "output_type": "stream",
     "text": [
      "ItemKNNCustomSimilarityRecommender: URM Detected 451 ( 3.6%) users with no interactions.\n",
      "ItemKNNCustomSimilarityRecommender: URM Detected 356 ( 1.6%) items with no interactions.\n",
      "EvaluatorHoldout: Processed 9989 (100.0%) in 7.13 sec. Users per second: 1401\n"
     ]
    },
    {
     "name": "stderr",
     "output_type": "stream",
     "text": [
      "[I 2023-12-09 01:09:37,484] Trial 99 finished with value: 0.03046138450708502 and parameters: {'alpha': 0.09779989946234341}. Best is trial 69 with value: 0.03047689760323686.\n"
     ]
    },
    {
     "name": "stdout",
     "output_type": "stream",
     "text": [
      "ItemKNNCustomSimilarityRecommender: URM Detected 451 ( 3.6%) users with no interactions.\n",
      "ItemKNNCustomSimilarityRecommender: URM Detected 356 ( 1.6%) items with no interactions.\n",
      "EvaluatorHoldout: Processed 9989 (100.0%) in 6.85 sec. Users per second: 1459\n"
     ]
    },
    {
     "name": "stderr",
     "output_type": "stream",
     "text": [
      "[I 2023-12-09 01:09:44,459] Trial 100 finished with value: 0.029966776946705086 and parameters: {'alpha': 0.22020710371900423}. Best is trial 69 with value: 0.03047689760323686.\n"
     ]
    }
   ],
   "source": [
    "best_params = {\n",
    "}\n",
    "study_name = \"cust-sim-study\"  # Unique identifier of the study.\n",
    "storage_name = \"sqlite:///db.db\"\n",
    "study = op.create_study(study_name=study_name, storage=storage_name, direction=\"maximize\", load_if_exists=True)\n",
    "#study.enqueue_trial(best_params)\n",
    "study.optimize(objective, n_trials=100)"
   ],
   "metadata": {
    "collapsed": false,
    "ExecuteTime": {
     "end_time": "2023-12-09T00:09:44.468407290Z",
     "start_time": "2023-12-08T23:57:52.999047537Z"
    }
   },
   "id": "c5b8a36d4aed08fc"
  },
  {
   "cell_type": "code",
   "execution_count": 7,
   "outputs": [
    {
     "data": {
      "text/plain": "{'alpha': 0.10204960939360941}"
     },
     "execution_count": 7,
     "metadata": {},
     "output_type": "execute_result"
    }
   ],
   "source": [
    "study.best_params"
   ],
   "metadata": {
    "collapsed": false,
    "ExecuteTime": {
     "end_time": "2023-12-09T00:11:43.906381890Z",
     "start_time": "2023-12-09T00:11:43.865143011Z"
    }
   },
   "id": "f18968c2188a349a"
  },
  {
   "cell_type": "code",
   "execution_count": 10,
   "outputs": [
    {
     "name": "stdout",
     "output_type": "stream",
     "text": [
      "ItemKNNCustomSimilarityRecommender: URM Detected 451 ( 3.6%) users with no interactions.\n",
      "ItemKNNCustomSimilarityRecommender: URM Detected 356 ( 1.6%) items with no interactions.\n",
      "EvaluatorHoldout: Ignoring 2137 (16.9%) Users that have less than 1 test interactions\n",
      "EvaluatorHoldout: Ignoring 0 Users\n",
      "EvaluatorHoldout: Processed 10501 (100.0%) in 6.86 sec. Users per second: 1532\n"
     ]
    },
    {
     "data": {
      "text/plain": "(       PRECISION PRECISION_RECALL_MIN_DEN    RECALL       MAP MAP_MIN_DEN  \\\n cutoff                                                                      \n 10      0.078231                 0.137502  0.117368  0.037575    0.066342   \n \n              MRR      NDCG        F1  HIT_RATE ARHR_ALL_HITS  ...  \\\n cutoff                                                        ...   \n 10      0.229908  0.123998  0.093884  0.466908      0.292136  ...   \n \n        COVERAGE_USER COVERAGE_USER_HIT USERS_IN_GT DIVERSITY_GINI  \\\n cutoff                                                              \n 10          0.830907          0.387957    0.830907        0.04454   \n \n        SHANNON_ENTROPY RATIO_DIVERSITY_HERFINDAHL RATIO_DIVERSITY_GINI  \\\n cutoff                                                                   \n 10            9.767962                    0.99654             0.129436   \n \n        RATIO_SHANNON_ENTROPY RATIO_AVERAGE_POPULARITY RATIO_NOVELTY  \n cutoff                                                               \n 10                  0.753235                 2.188216      0.348298  \n \n [1 rows x 27 columns],\n 'CUTOFF: 10 - PRECISION: 0.0782306, PRECISION_RECALL_MIN_DEN: 0.1375022, RECALL: 0.1173681, MAP: 0.0375748, MAP_MIN_DEN: 0.0663424, MRR: 0.2299081, NDCG: 0.1239983, F1: 0.0938838, HIT_RATE: 0.4669079, ARHR_ALL_HITS: 0.2921362, NOVELTY: 0.0049276, AVERAGE_POPULARITY: 0.2690360, DIVERSITY_MEAN_INTER_LIST: 0.9618707, DIVERSITY_HERFINDAHL: 0.9961779, COVERAGE_ITEM: 0.2700477, COVERAGE_ITEM_HIT: 0.0692107, ITEMS_IN_GT: 0.7978130, COVERAGE_USER: 0.8309068, COVERAGE_USER_HIT: 0.3879570, USERS_IN_GT: 0.8309068, DIVERSITY_GINI: 0.0445399, SHANNON_ENTROPY: 9.7679618, RATIO_DIVERSITY_HERFINDAHL: 0.9965397, RATIO_DIVERSITY_GINI: 0.1294356, RATIO_SHANNON_ENTROPY: 0.7532351, RATIO_AVERAGE_POPULARITY: 2.1882164, RATIO_NOVELTY: 0.3482981, \\n')"
     },
     "execution_count": 10,
     "metadata": {},
     "output_type": "execute_result"
    }
   ],
   "source": [
    "new_similarity = (1 - 0.10204960939360941) * slim.W_sparse + 0.10204960939360941 * item.W_sparse\n",
    "recommender = model(URM_train)\n",
    "evaluator_test = EvaluatorHoldout(URM_test, cutoff_list=[10], ignore_users=[])\n",
    "recommender.fit(W_sparse=new_similarity)\n",
    "evaluator_test.evaluateRecommender(recommender)"
   ],
   "metadata": {
    "collapsed": false,
    "ExecuteTime": {
     "end_time": "2023-12-09T00:13:15.506264641Z",
     "start_time": "2023-12-09T00:13:08.594143129Z"
    }
   },
   "id": "7ae12a0ef4bc0baa"
  },
  {
   "cell_type": "code",
   "execution_count": 11,
   "outputs": [
    {
     "name": "stdout",
     "output_type": "stream",
     "text": [
      "EvaluatorHoldout: Ignoring 2137 (16.9%) Users that have less than 1 test interactions\n",
      "EvaluatorHoldout: Ignoring 0 Users\n",
      "EvaluatorHoldout: Processed 10501 (100.0%) in 6.83 sec. Users per second: 1538\n"
     ]
    },
    {
     "data": {
      "text/plain": "(       PRECISION PRECISION_RECALL_MIN_DEN    RECALL       MAP MAP_MIN_DEN  \\\n cutoff                                                                      \n 10      0.077831                 0.135528  0.115191  0.037798    0.066234   \n \n              MRR      NDCG        F1  HIT_RATE ARHR_ALL_HITS  ...  \\\n cutoff                                                        ...   \n 10      0.231465  0.123572  0.092895  0.464146      0.293879  ...   \n \n        COVERAGE_USER COVERAGE_USER_HIT USERS_IN_GT DIVERSITY_GINI  \\\n cutoff                                                              \n 10          0.830907          0.385662    0.830907       0.050025   \n \n        SHANNON_ENTROPY RATIO_DIVERSITY_HERFINDAHL RATIO_DIVERSITY_GINI  \\\n cutoff                                                                   \n 10           10.028651                   0.997428             0.145375   \n \n        RATIO_SHANNON_ENTROPY RATIO_AVERAGE_POPULARITY RATIO_NOVELTY  \n cutoff                                                               \n 10                  0.773338                 1.982242      0.353503  \n \n [1 rows x 27 columns],\n 'CUTOFF: 10 - PRECISION: 0.0778307, PRECISION_RECALL_MIN_DEN: 0.1355284, RECALL: 0.1151909, MAP: 0.0377978, MAP_MIN_DEN: 0.0662342, MRR: 0.2314645, NDCG: 0.1235722, F1: 0.0928952, HIT_RATE: 0.4641463, ARHR_ALL_HITS: 0.2938791, NOVELTY: 0.0050012, AVERAGE_POPULARITY: 0.2437119, DIVERSITY_MEAN_INTER_LIST: 0.9707562, DIVERSITY_HERFINDAHL: 0.9970664, COVERAGE_ITEM: 0.2818378, COVERAGE_ITEM_HIT: 0.0733507, ITEMS_IN_GT: 0.7978130, COVERAGE_USER: 0.8309068, COVERAGE_USER_HIT: 0.3856623, USERS_IN_GT: 0.8309068, DIVERSITY_GINI: 0.0500249, SHANNON_ENTROPY: 10.0286509, RATIO_DIVERSITY_HERFINDAHL: 0.9974285, RATIO_DIVERSITY_GINI: 0.1453754, RATIO_SHANNON_ENTROPY: 0.7733375, RATIO_AVERAGE_POPULARITY: 1.9822418, RATIO_NOVELTY: 0.3535027, \\n')"
     },
     "execution_count": 11,
     "metadata": {},
     "output_type": "execute_result"
    }
   ],
   "source": [
    "from Evaluation.Evaluator import EvaluatorHoldout\n",
    "evaluator_test = EvaluatorHoldout(URM_test, cutoff_list=[10], ignore_users=[])\n",
    "evaluator_test.evaluateRecommender(slim)"
   ],
   "metadata": {
    "collapsed": false,
    "ExecuteTime": {
     "end_time": "2023-12-09T00:13:45.018964694Z",
     "start_time": "2023-12-09T00:13:38.158478211Z"
    }
   },
   "id": "1a0a3570fbcb348b"
  },
  {
   "cell_type": "code",
   "execution_count": null,
   "outputs": [],
   "source": [
    "## MAP_MIN_DEN = .0822900 ## MAP = 0.0483066 the best 0.139"
   ],
   "metadata": {
    "collapsed": false
   },
   "id": "3cdf5d82e17bdf89"
  },
  {
   "cell_type": "code",
   "execution_count": null,
   "outputs": [],
   "source": [
    "## MAP_MIN_DEN = .0845288 ## MAP = 0.0495724 second 0.135"
   ],
   "metadata": {
    "collapsed": false
   },
   "id": "4073b54127eeda48"
  },
  {
   "cell_type": "code",
   "execution_count": null,
   "outputs": [],
   "source": [
    "## MAP_MIN_DEN = .0846506 ## MAP = 0.0496060 third "
   ],
   "metadata": {
    "collapsed": false
   },
   "id": "1f7312f3e9dda72e"
  }
 ],
 "metadata": {
  "kernelspec": {
   "display_name": "Python 3",
   "language": "python",
   "name": "python3"
  },
  "language_info": {
   "codemirror_mode": {
    "name": "ipython",
    "version": 2
   },
   "file_extension": ".py",
   "mimetype": "text/x-python",
   "name": "python",
   "nbconvert_exporter": "python",
   "pygments_lexer": "ipython2",
   "version": "2.7.6"
  }
 },
 "nbformat": 4,
 "nbformat_minor": 5
}
