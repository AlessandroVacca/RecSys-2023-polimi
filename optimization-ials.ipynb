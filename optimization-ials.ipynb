{
 "cells": [
  {
   "cell_type": "code",
   "execution_count": 1,
   "id": "initial_id",
   "metadata": {
    "collapsed": true,
    "ExecuteTime": {
     "end_time": "2023-11-22T12:37:24.250668065Z",
     "start_time": "2023-11-22T12:37:20.907259327Z"
    }
   },
   "outputs": [
    {
     "name": "stdout",
     "output_type": "stream",
     "text": [
      "Warning: 216 (1.71 %) of 12638 users have no train items\n",
      "Warning: 2175 (17.21 %) of 12638 users have no sampled items\n",
      "Warning: 464 (3.67 %) of 12638 users have no train items\n",
      "Warning: 2628 (20.79 %) of 12638 users have no sampled items\n"
     ]
    }
   ],
   "source": [
    "from Data_manager.UserUtils import *\n",
    "from Data_manager.split_functions.split_train_validation_random_holdout import \\\n",
    "    split_train_in_two_percentage_global_sample\n",
    "URM_all = getURM_all()\n",
    "URM_train_validation, URM_test = split_train_in_two_percentage_global_sample(URM_all, train_percentage = 0.80)\n",
    "URM_train, URM_validation = split_train_in_two_percentage_global_sample(URM_train_validation, train_percentage = 0.80)"
   ]
  },
  {
   "cell_type": "code",
   "execution_count": 2,
   "outputs": [
    {
     "name": "stdout",
     "output_type": "stream",
     "text": [
      "EvaluatorHoldout: Ignoring 2628 (20.8%) Users that have less than 1 test interactions\n",
      "EvaluatorHoldout: Ignoring 0 Users\n"
     ]
    }
   ],
   "source": [
    "from Recommenders.MatrixFactorization.IALSRecommender import IALSRecommender\n",
    "model = IALSRecommender\n",
    "\n",
    "from Evaluation.Evaluator import EvaluatorHoldout\n",
    "evaluator_validation = EvaluatorHoldout(URM_validation, cutoff_list=[10], ignore_users=[])\n",
    "earlystopping_kwargs =  {\"validation_every_n\": 5,\n",
    "                              \"stop_on_validation\": True,\n",
    "                              \"evaluator_object\": evaluator_validation,\n",
    "                              \"lower_validations_allowed\": 5,\n",
    "                              \"validation_metric\": \"MAP\",\n",
    "                              }"
   ],
   "metadata": {
    "collapsed": false,
    "ExecuteTime": {
     "end_time": "2023-11-22T12:37:24.251337282Z",
     "start_time": "2023-11-22T12:37:24.240852166Z"
    }
   },
   "id": "8a9fec0ccc4f11c5"
  },
  {
   "cell_type": "code",
   "execution_count": 3,
   "outputs": [],
   "source": [
    "import optuna as op\n",
    "def objective(trial):\n",
    "    num_factors = trial.suggest_int(\"num_factors\", 1, 1000)\n",
    "    epochs = 300\n",
    "    confidence_scaling = trial.suggest_categorical(\"confidence_scaling\", [\"linear\", \"log\"])\n",
    "    alpha = trial.suggest_loguniform(\"alpha\", 1e-10, 10.0)\n",
    "    epsilon = trial.suggest_loguniform(\"epsilon\", 1e-10, 10.0)\n",
    "    reg = trial.suggest_loguniform(\"reg\", 1e-10, 10.0)\n",
    "    \n",
    "    recommender = model(URM_train)\n",
    "    recommender.fit(**trial.params, **earlystopping_kwargs)\n",
    "    \n",
    "    result, _ = evaluator_validation.evaluateRecommender(recommender)\n",
    "    MAP_result = result[\"MAP\"].item()\n",
    "       \n",
    "    return MAP_result"
   ],
   "metadata": {
    "collapsed": false,
    "ExecuteTime": {
     "end_time": "2023-11-22T12:37:24.464436270Z",
     "start_time": "2023-11-22T12:37:24.254620682Z"
    }
   },
   "id": "b826576f6714c764"
  },
  {
   "cell_type": "code",
   "execution_count": null,
   "outputs": [],
   "source": [
    "best_params = {\n",
    "    \"num_factors\": 91,\n",
    "    \"epochs\": 50,\n",
    "    \"confidence_scaling\": \"log\",\n",
    "    \"alpha\": 8.931839513881036,\n",
    "    \"epsilon\": 6.099966408152877,\n",
    "    \"reg\": 0.0003668646666587094,\n",
    "}\n",
    "\n",
    "# {\"num_factors\": 91, \"epochs\": 50, \"confidence_scaling\": \"log\", \"alpha\": 8.931839513881036, \"epsilon\": 6.099966408152877, \"reg\": 0.0003668646666587094}\n",
    "study_name = \"IALS-study\"  # Unique identifier of the study.\n",
    "storage_name = \"sqlite:///{}.db\".format(study_name)\n",
    "study = op.create_study(study_name=study_name, storage=storage_name, direction=\"maximize\")\n",
    "study.enqueue_trial(best_params)\n",
    "study.optimize(objective, n_trials=30)"
   ],
   "metadata": {
    "collapsed": false
   },
   "id": "c5b8a36d4aed08fc"
  },
  {
   "cell_type": "code",
   "execution_count": 9,
   "outputs": [
    {
     "data": {
      "text/plain": "{'topK': 101, 'alpha': 0.3026342852596128, 'beta': 0.058468783118329024}"
     },
     "execution_count": 9,
     "metadata": {},
     "output_type": "execute_result"
    }
   ],
   "source": [
    "study.best_params"
   ],
   "metadata": {
    "collapsed": false,
    "ExecuteTime": {
     "end_time": "2023-11-21T21:50:49.816676107Z",
     "start_time": "2023-11-21T21:50:49.809307435Z"
    }
   },
   "id": "f18968c2188a349a"
  },
  {
   "cell_type": "code",
   "execution_count": 10,
   "outputs": [
    {
     "name": "stdout",
     "output_type": "stream",
     "text": [
      "RP3betaRecommender: URM Detected 245 ( 1.9%) users with no interactions.\n",
      "RP3betaRecommender: URM Detected 110 ( 0.5%) items with no interactions.\n",
      "RP3betaRecommender: Similarity column 22222 (100.0%), 4027.41 column/sec. Elapsed time 5.52 sec\n"
     ]
    }
   ],
   "source": [
    "final = model(URM_train_validation)\n",
    "final.fit(**study.best_params)"
   ],
   "metadata": {
    "collapsed": false,
    "ExecuteTime": {
     "end_time": "2023-11-21T21:50:58.781096801Z",
     "start_time": "2023-11-21T21:50:51.734119077Z"
    }
   },
   "id": "7ae12a0ef4bc0baa"
  },
  {
   "cell_type": "code",
   "execution_count": 11,
   "outputs": [
    {
     "name": "stdout",
     "output_type": "stream",
     "text": [
      "EvaluatorHoldout: Ignoring 2100 (16.6%) Users that have less than 1 test interactions\n",
      "EvaluatorHoldout: Ignoring 0 Users\n",
      "EvaluatorHoldout: Processed 10538 (100.0%) in 5.18 sec. Users per second: 2033\n"
     ]
    },
    {
     "data": {
      "text/plain": "(       PRECISION PRECISION_RECALL_MIN_DEN    RECALL       MAP MAP_MIN_DEN  \\\n cutoff                                                                      \n 10      0.090378                 0.157221  0.133194  0.045665    0.078973   \n \n              MRR      NDCG        F1  HIT_RATE ARHR_ALL_HITS  ...  \\\n cutoff                                                        ...   \n 10      0.259414  0.143182  0.107686  0.509869      0.339649  ...   \n \n        COVERAGE_USER COVERAGE_USER_HIT USERS_IN_GT DIVERSITY_GINI  \\\n cutoff                                                              \n 10          0.833834          0.425146    0.833834       0.057877   \n \n        SHANNON_ENTROPY RATIO_DIVERSITY_HERFINDAHL RATIO_DIVERSITY_GINI  \\\n cutoff                                                                   \n 10           10.145296                   0.997617             0.165954   \n \n        RATIO_SHANNON_ENTROPY RATIO_AVERAGE_POPULARITY RATIO_NOVELTY  \n cutoff                                                               \n 10                  0.781482                 1.752902      0.289366  \n \n [1 rows x 27 columns],\n 'CUTOFF: 10 - PRECISION: 0.0903777, PRECISION_RECALL_MIN_DEN: 0.1572207, RECALL: 0.1331937, MAP: 0.0456652, MAP_MIN_DEN: 0.0789727, MRR: 0.2594145, NDCG: 0.1431817, F1: 0.1076858, HIT_RATE: 0.5098690, ARHR_ALL_HITS: 0.3396486, NOVELTY: 0.0051229, AVERAGE_POPULARITY: 0.2142476, DIVERSITY_MEAN_INTER_LIST: 0.9726623, DIVERSITY_HERFINDAHL: 0.9972570, COVERAGE_ITEM: 0.3306633, COVERAGE_ITEM_HIT: 0.0932409, ITEMS_IN_GT: 0.8015930, COVERAGE_USER: 0.8338345, COVERAGE_USER_HIT: 0.4251464, USERS_IN_GT: 0.8338345, DIVERSITY_GINI: 0.0578771, SHANNON_ENTROPY: 10.1452956, RATIO_DIVERSITY_HERFINDAHL: 0.9976173, RATIO_DIVERSITY_GINI: 0.1659535, RATIO_SHANNON_ENTROPY: 0.7814820, RATIO_AVERAGE_POPULARITY: 1.7529024, RATIO_NOVELTY: 0.2893664, \\n')"
     },
     "execution_count": 11,
     "metadata": {},
     "output_type": "execute_result"
    }
   ],
   "source": [
    "from Evaluation.Evaluator import EvaluatorHoldout\n",
    "evaluator_test = EvaluatorHoldout(URM_test, cutoff_list=[10], ignore_users=[])\n",
    "evaluator_test.evaluateRecommender(final)"
   ],
   "metadata": {
    "collapsed": false,
    "ExecuteTime": {
     "end_time": "2023-11-21T21:51:04.026989928Z",
     "start_time": "2023-11-21T21:50:58.787046525Z"
    }
   },
   "id": "1a0a3570fbcb348b"
  },
  {
   "cell_type": "code",
   "execution_count": null,
   "outputs": [],
   "source": [],
   "metadata": {
    "collapsed": false
   },
   "id": "3cdf5d82e17bdf89"
  }
 ],
 "metadata": {
  "kernelspec": {
   "display_name": "Python 3",
   "language": "python",
   "name": "python3"
  },
  "language_info": {
   "codemirror_mode": {
    "name": "ipython",
    "version": 2
   },
   "file_extension": ".py",
   "mimetype": "text/x-python",
   "name": "python",
   "nbconvert_exporter": "python",
   "pygments_lexer": "ipython2",
   "version": "2.7.6"
  }
 },
 "nbformat": 4,
 "nbformat_minor": 5
}
