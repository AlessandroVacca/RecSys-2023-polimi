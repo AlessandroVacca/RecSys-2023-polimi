{
 "cells": [
  {
   "cell_type": "code",
   "execution_count": 1,
   "outputs": [
    {
     "name": "stdout",
     "output_type": "stream",
     "text": [
      "Warning: 231 (1.83 %) of 12638 users have no train items\n",
      "Warning: 2178 (17.23 %) of 12638 users have no sampled items\n",
      "Warning: 497 (3.93 %) of 12638 users have no train items\n",
      "Warning: 2563 (20.28 %) of 12638 users have no sampled items\n"
     ]
    }
   ],
   "source": [
    "from Data_manager.UserUtils import *\n",
    "from Data_manager.split_functions.split_train_validation_random_holdout import \\\n",
    "    split_train_in_two_percentage_global_sample\n",
    "URM_all = getURM_all()\n",
    "URM_train_validation, URM_test = split_train_in_two_percentage_global_sample(URM_all, train_percentage = 0.80)\n",
    "URM_train, URM_validation = split_train_in_two_percentage_global_sample(URM_train_validation, train_percentage = 0.80)"
   ],
   "metadata": {
    "collapsed": false,
    "ExecuteTime": {
     "end_time": "2023-11-24T17:05:46.662747788Z",
     "start_time": "2023-11-24T17:05:42.267361018Z"
    }
   },
   "id": "a884190b64cf557"
  },
  {
   "cell_type": "code",
   "execution_count": 2,
   "outputs": [
    {
     "name": "stdout",
     "output_type": "stream",
     "text": [
      "EvaluatorHoldout: Ignoring 2563 (20.3%) Users that have less than 1 test interactions\n",
      "EvaluatorHoldout: Ignoring 2178 (17.2%) Users that have less than 1 test interactions\n"
     ]
    }
   ],
   "source": [
    "# SETUP EVALUATORS\n",
    "from Evaluation.Evaluator import EvaluatorHoldout\n",
    "\n",
    "evaluator_validation = EvaluatorHoldout(URM_validation, cutoff_list=[10])\n",
    "evaluator_test = EvaluatorHoldout(URM_test, cutoff_list=[10])"
   ],
   "metadata": {
    "collapsed": false,
    "ExecuteTime": {
     "end_time": "2023-11-24T17:05:46.680303421Z",
     "start_time": "2023-11-24T17:05:46.661041094Z"
    }
   },
   "id": "3f01a5f386eaff3c"
  },
  {
   "cell_type": "code",
   "execution_count": 3,
   "outputs": [
    {
     "data": {
      "text/plain": "(array([37, 32,  1, ...,  4, 24, 53], dtype=int32), (12638,))"
     },
     "execution_count": 3,
     "metadata": {},
     "output_type": "execute_result"
    }
   ],
   "source": [
    "import numpy as np \n",
    "import scipy.sparse as sps\n",
    "\n",
    "profile_length = np.ediff1d(sps.csr_matrix(URM_train_validation).indptr)\n",
    "profile_length, profile_length.shape"
   ],
   "metadata": {
    "collapsed": false,
    "ExecuteTime": {
     "end_time": "2023-11-24T17:05:46.715626970Z",
     "start_time": "2023-11-24T17:05:46.682659177Z"
    }
   },
   "id": "fcb87886c96b697a"
  },
  {
   "cell_type": "code",
   "execution_count": 4,
   "outputs": [
    {
     "data": {
      "text/plain": "2527"
     },
     "execution_count": 4,
     "metadata": {},
     "output_type": "execute_result"
    }
   ],
   "source": [
    "block_size = int(len(profile_length)*0.2)\n",
    "block_size"
   ],
   "metadata": {
    "collapsed": false,
    "ExecuteTime": {
     "end_time": "2023-11-24T17:05:46.716211994Z",
     "start_time": "2023-11-24T17:05:46.695491724Z"
    }
   },
   "id": "e890d0608bfb6f8e"
  },
  {
   "cell_type": "code",
   "execution_count": 5,
   "outputs": [
    {
     "name": "stdout",
     "output_type": "stream",
     "text": [
      "Group 0, #users in group 2527, average p.len 1.64, median 2.0, min 0, max 3\n",
      "Group 1, #users in group 2527, average p.len 6.23, median 6.0, min 3, max 10\n",
      "Group 2, #users in group 2527, average p.len 14.73, median 14.0, min 10, max 21\n",
      "Group 3, #users in group 2527, average p.len 31.68, median 31.0, min 21, max 46\n",
      "Group 4, #users in group 2527, average p.len 96.38, median 76.0, min 46, max 560\n"
     ]
    }
   ],
   "source": [
    "sorted_users = np.argsort(profile_length)\n",
    "for group_id in range(0, 5):\n",
    "    start_pos = group_id * block_size\n",
    "    end_pos = min((group_id+1) * block_size, len(profile_length))\n",
    "    \n",
    "    users_in_group = sorted_users[start_pos:end_pos]\n",
    "    \n",
    "    users_in_group_p_len = profile_length[users_in_group]\n",
    "    \n",
    "    print(\"Group {}, #users in group {}, average p.len {:.2f}, median {}, min {}, max {}\".format(\n",
    "        group_id, \n",
    "        users_in_group.shape[0],\n",
    "        users_in_group_p_len.mean(),\n",
    "        np.median(users_in_group_p_len),\n",
    "        users_in_group_p_len.min(),\n",
    "        users_in_group_p_len.max()))\n",
    "    "
   ],
   "metadata": {
    "collapsed": false,
    "ExecuteTime": {
     "end_time": "2023-11-24T17:05:46.716817382Z",
     "start_time": "2023-11-24T17:05:46.702935220Z"
    }
   },
   "id": "2bc4fd6cf29cf877"
  },
  {
   "cell_type": "code",
   "execution_count": null,
   "outputs": [],
   "source": [
    "from Hybrid import *\n",
    "from Recommenders.EASE_R.EASE_R_Recommender import EASE_R_Recommender\n",
    "from Recommenders.FactorizationMachines.LightFMRecommender import LightFMCFRecommender\n",
    "from Recommenders.NonPersonalizedRecommender import TopPop\n",
    "from Recommenders.KNN.UserKNNCFRecommender import UserKNNCFRecommender\n",
    "from Recommenders.KNN.ItemKNNCFRecommender import ItemKNNCFRecommender\n",
    "from Recommenders.SLIM.Cython.SLIM_BPR_Cython import SLIM_BPR_Cython\n",
    "from Recommenders.SLIM.SLIMElasticNetRecommender import SLIMElasticNetRecommender\n",
    "from Recommenders.GraphBased.P3alphaRecommender import P3alphaRecommender\n",
    "from Recommenders.GraphBased.RP3betaRecommender import RP3betaRecommender\n",
    "from Recommenders.MatrixFactorization.Cython.MatrixFactorization_Cython import MatrixFactorization_BPR_Cython, MatrixFactorization_AsySVD_Cython\n",
    "from Recommenders.MatrixFactorization.PureSVDRecommender import PureSVDRecommender\n",
    "from Recommenders.MatrixFactorization.IALSRecommender import IALSRecommender\n",
    "from Recommenders.MatrixFactorization.NMFRecommender import NMFRecommender\n",
    "\n",
    "MAP_recommender_per_group = {}\n",
    "\n",
    "collaborative_recommender_class = {\"TopPop\": TopPop,\n",
    "                                   \"UserKNNCF\": UserKNNCFRecommender,\n",
    "                                   \"ItemKNNCF\": ItemKNNCFRecommender,\n",
    "                                   \"P3alpha\": P3alphaRecommender,\n",
    "                                   \"RP3beta\": RP3betaRecommender,\n",
    "                                   \"PureSVD\": PureSVDRecommender,\n",
    "                                   #\"NMF\": NMFRecommender,\n",
    "                                   \"MF_BPR\": MatrixFactorization_BPR_Cython,\n",
    "                                   \"SLIM_ELASTIC\": SLIMElasticNetRecommender,\n",
    "                                   \"SLIM_BPR\": SLIM_BPR_Cython,\n",
    "                                   #\"LightFM\": LightFMCFRecommender,\n",
    "                                   #\"IALS\": IALSRecommender,\n",
    "                                   #\"EASE_R\": EASE_R_Recommender,\n",
    "                                   #\"HYBRID\": HybridRecommender\n",
    "                                   }\n",
    "collaborative_recommender_class.items()\n",
    "\n",
    "recommender_object_dict = {}\n",
    "\n",
    "for label, recommender_class in collaborative_recommender_class.items():\n",
    "    recommender_object = recommender_class(URM_train_validation)\n",
    "    recommender_object_dict[label] = recommender_object\n",
    "    \n",
    "    \n",
    "recommender_object_dict[\"TopPop\"].fit()\n",
    "recommender_object_dict[\"SLIM_ELASTIC\"].fit(topK=8894, l1_ratio=0.05565733019999427, alpha=0.0012979360257937668)\n",
    "recommender_object_dict[\"PureSVD\"].fit(num_factors=70, random_seed=42)\n",
    "#recommender_object_dict[\"NMF\"].load_model(\"result_experiments/\", \"NMFRecommender_best_model.zip\")\n",
    "recommender_object_dict[\"P3alpha\"].fit(topK=76, alpha=0.377201600381895, normalize_similarity=True)\n",
    "recommender_object_dict[\"RP3beta\"].fit(topK=101, alpha=0.3026342852596128, beta=0.058468783118329024)\n",
    "recommender_object_dict[\"UserKNNCF\"].fit(topK=529, shrink=45, similarity='asymmetric', normalize=True,\n",
    "                                       feature_weighting='TF-IDF')\n",
    "recommender_object_dict[\"ItemKNNCF\"].fit(topK=22, shrink=6431, similarity='tversky', normalize=True,\n",
    "                                       feature_weighting='BM25')\n",
    "recommender_object_dict[\"MF_BPR\"].fit(sgd_mode=\"adagrad\", num_factors=219, batch_size=32, learning_rate=0.08036400470449359,positive_reg=0.016211221706684466,negative_reg=0.00012672106970228173, epochs=260, random_seed=1234)\n",
    "recommender_object_dict[\"SLIM_BPR\"].fit(topK=7, symmetric=True, sgd_mode=\"adam\", epochs=40, lambda_i=0.00032913664880523404, lambda_j=0.007236536070943505, learning_rate=0.00021598859241204376)\n",
    "#recommender_object_dict[\"LightFM\"].load_model(\"result_experiments/\", \"LightFMCFRecommender_best_model.zip\")\n",
    "#recommender_object_dict[\"IALS\"].fit()\n",
    "#recommender_object_dict[\"EASE_R\"].load_model(\"result_experiments_old/\", \"EASE_R_Recommender_best_model.zip\")\n",
    "#recommender_object_dict[\"HYBRID\"].fit()\n",
    "from Hybrid import LinearHybridRecommender\n",
    "#recommenders = [SLIM_Elastic, RP3Beta, ItemKNNCF, UserKNNCF] # ORDER MATTER!!!!!!!!!\n",
    "\n",
    "#alphas = [0.6321191861151624, 1.390285841050952, 0.23173069155212617, 0.0031112219228564527]\n",
    "\n",
    "#recommender_object_dict[\"HYBRID\"] = LinearHybridRecommender(URM_train, recommenders)\n",
    "#recommender_object_dict[\"HYBRID\"].fit(alphas)"
   ],
   "metadata": {
    "collapsed": false
   },
   "id": "fc4837a46c27e143"
  },
  {
   "cell_type": "code",
   "execution_count": null,
   "outputs": [],
   "source": [
    "from Evaluation.Evaluator import EvaluatorHoldout\n",
    "\n",
    "MAP_recommender_per_group = {}\n",
    "cutoff = 10\n",
    "\n",
    "for group_id in range(0, 5):\n",
    "    \n",
    "    start_pos = group_id*block_size\n",
    "    end_pos = min((group_id+1)*block_size, len(profile_length))\n",
    "    \n",
    "    users_in_group = sorted_users[start_pos:end_pos]\n",
    "    \n",
    "    users_in_group_p_len = profile_length[users_in_group]\n",
    "    \n",
    "    print(\"Group {}, #users in group {}, average p.len {:.2f}, median {}, min {}, max {}\".format(\n",
    "        group_id, \n",
    "        users_in_group.shape[0],\n",
    "        users_in_group_p_len.mean(),\n",
    "        np.median(users_in_group_p_len),\n",
    "        users_in_group_p_len.min(),\n",
    "        users_in_group_p_len.max()))\n",
    "    \n",
    "    \n",
    "    users_not_in_group_flag = np.isin(sorted_users, users_in_group, invert=True)\n",
    "    users_not_in_group = sorted_users[users_not_in_group_flag]\n",
    "    \n",
    "    evaluator_test = EvaluatorHoldout(URM_test, cutoff_list=[cutoff], ignore_users=users_not_in_group)\n",
    "    \n",
    "    for label, recommender in recommender_object_dict.items():\n",
    "        result_df, _ = evaluator_test.evaluateRecommender(recommender)\n",
    "        if label in MAP_recommender_per_group:\n",
    "            MAP_recommender_per_group[label].append(result_df.loc[cutoff][\"MAP\"])\n",
    "        else:\n",
    "            MAP_recommender_per_group[label] = [result_df.loc[cutoff][\"MAP\"]]\n",
    "        "
   ],
   "metadata": {
    "collapsed": false,
    "ExecuteTime": {
     "end_time": "2023-11-24T17:13:32.295573844Z",
     "start_time": "2023-11-24T17:13:32.292485004Z"
    }
   },
   "id": "36a5e13e180a688d"
  },
  {
   "cell_type": "code",
   "execution_count": null,
   "outputs": [],
   "source": [
    "import matplotlib.pyplot as plt\n",
    "import numpy as np\n",
    "\n",
    "# Assume you have the following data structure\n",
    "# recommender_object_dict = {'Recommender1': recommender1, 'Recommender2': recommender2, ...}\n",
    "# MAP_recommender_per_group = {'Recommender1': [0.8, 0.7, 0.6, ...], 'Recommender2': [0.9, 0.8, 0.7, ...], ...}\n",
    "\n",
    "# Your original code\n",
    "_ = plt.figure(figsize=(16, 9))\n",
    "for label, recommender in recommender_object_dict.items():\n",
    "    results = MAP_recommender_per_group[label]\n",
    "    plt.scatter(x=np.arange(0, len(results)), y=results, label=label, alpha=0.7)\n",
    "\n",
    "# Modifications for a better plot\n",
    "plt.title('Mean Average Precision (MAP) Across User Groups')\n",
    "plt.xlabel('User Group')\n",
    "plt.ylabel('MAP')\n",
    "\n",
    "# Use a line plot for better trend visualization\n",
    "for label, recommender in recommender_object_dict.items():\n",
    "    results = MAP_recommender_per_group[label]\n",
    "    plt.plot(np.arange(0, len(results)), results, marker='o', linestyle='-', alpha=0.7)\n",
    "    \n",
    "    # Annotate the lines with the names of the recommender systems\n",
    "    last_value = results[-1]\n",
    "    plt.text(len(results)-1, last_value, label, ha='left', va='center', fontsize=8)\n",
    "\n",
    "# Add grid for better readability\n",
    "plt.grid(True, linestyle='--', alpha=0.7)\n",
    "\n",
    "# Set x-axis ticks to integers from 0 to 4\n",
    "plt.xticks(np.arange(0, 5))\n",
    "\n",
    "# Set x-axis limits to 0 and 4\n",
    "plt.xlim(0, 4)\n",
    "\n",
    "plt.show()"
   ],
   "metadata": {
    "collapsed": false,
    "ExecuteTime": {
     "start_time": "2023-11-24T17:13:32.295331135Z"
    }
   },
   "id": "c84bd2272dcd2066"
  },
  {
   "cell_type": "code",
   "execution_count": null,
   "outputs": [],
   "source": [
    "evaluator_test = EvaluatorHoldout(URM_test, cutoff_list=[10])\n",
    "evaluator_test.evaluateRecommender(recommender_object_dict[\"ItemKNNCF\"])"
   ],
   "metadata": {
    "collapsed": false
   },
   "id": "44b4e7bd9d4033ca"
  },
  {
   "cell_type": "code",
   "execution_count": null,
   "outputs": [],
   "source": [],
   "metadata": {
    "collapsed": false
   },
   "id": "aa5be48879fcaadd"
  }
 ],
 "metadata": {
  "kernelspec": {
   "display_name": "Python 3",
   "language": "python",
   "name": "python3"
  },
  "language_info": {
   "codemirror_mode": {
    "name": "ipython",
    "version": 2
   },
   "file_extension": ".py",
   "mimetype": "text/x-python",
   "name": "python",
   "nbconvert_exporter": "python",
   "pygments_lexer": "ipython2",
   "version": "2.7.6"
  }
 },
 "nbformat": 4,
 "nbformat_minor": 5
}
