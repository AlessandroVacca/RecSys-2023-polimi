{
 "cells": [
  {
   "cell_type": "code",
   "execution_count": 1,
   "id": "initial_id",
   "metadata": {
    "collapsed": true,
    "jupyter": {
     "outputs_hidden": true
    },
    "ExecuteTime": {
     "end_time": "2023-12-28T19:30:00.080558Z",
     "start_time": "2023-12-28T19:29:59.955633Z"
    }
   },
   "outputs": [],
   "source": [
    "import pickle\n",
    "\n",
    "with open('URM_train_validation.pkl', 'rb') as f:\n",
    "    URM_train_validation = pickle.load(f)\n",
    "with open('URM_test.pkl', 'rb') as f:\n",
    "    URM_test = pickle.load(f)"
   ]
  },
  {
   "cell_type": "code",
   "execution_count": 2,
   "outputs": [
    {
     "name": "stdout",
     "output_type": "stream",
     "text": [
      "UserKNNCFRecommender: URM Detected 205 ( 1.6%) users with no interactions.\n",
      "UserKNNCFRecommender: URM Detected 109 ( 0.5%) items with no interactions.\n",
      "ItemKNNCFRecommender: URM Detected 205 ( 1.6%) users with no interactions.\n",
      "ItemKNNCFRecommender: URM Detected 109 ( 0.5%) items with no interactions.\n"
     ]
    }
   ],
   "source": [
    "from Recommenders.KNN.ItemKNNCFRecommender import ItemKNNCFRecommender\n",
    "from Recommenders.KNN.UserKNNCFRecommender import UserKNNCFRecommender\n",
    "\n",
    "userknn = UserKNNCFRecommender(URM_train_validation)\n",
    "itemknn = ItemKNNCFRecommender(URM_train_validation)"
   ],
   "metadata": {
    "collapsed": false,
    "ExecuteTime": {
     "end_time": "2023-12-28T19:30:08.196489Z",
     "start_time": "2023-12-28T19:30:07.988619Z"
    }
   },
   "id": "6c8df27dd21a2c7b"
  },
  {
   "cell_type": "code",
   "execution_count": 3,
   "outputs": [
    {
     "name": "stdout",
     "output_type": "stream",
     "text": [
      "Similarity column 12638 (100.0%), 9797.56 column/sec. Elapsed time 1.29 sec\n",
      "Similarity column 22222 (100.0%), 10088.34 column/sec. Elapsed time 2.20 sec\n"
     ]
    }
   ],
   "source": [
    "userknn.fit(topK=469, shrink=38, similarity='asymmetric', normalize=True,\n",
    "                                       feature_weighting='TF-IDF', asymmetric_alpha=0.40077406933762383)\n",
    "itemknn.fit(topK=31, shrink=435, similarity='tversky', normalize=True,\n",
    "                                       feature_weighting='BM25', tversky_alpha=0.17113169506422393, tversky_beta=0.5684024974085575)"
   ],
   "metadata": {
    "collapsed": false,
    "ExecuteTime": {
     "end_time": "2023-12-28T19:30:15.684160Z",
     "start_time": "2023-12-28T19:30:12.062375Z"
    }
   },
   "id": "2f35abd5e093566e"
  },
  {
   "cell_type": "code",
   "execution_count": 4,
   "outputs": [
    {
     "name": "stdout",
     "output_type": "stream",
     "text": [
      "EvaluatorHoldout: Ignoring 2203 (17.4%) Users that have less than 1 test interactions\n"
     ]
    }
   ],
   "source": [
    "from Evaluation.Evaluator import EvaluatorHoldout\n",
    "\n",
    "evaluator_validation = EvaluatorHoldout(URM_test, cutoff_list=[10])"
   ],
   "metadata": {
    "collapsed": false,
    "ExecuteTime": {
     "end_time": "2023-12-28T19:30:18.326013Z",
     "start_time": "2023-12-28T19:30:18.317452Z"
    }
   },
   "id": "d59e901214c7ed10"
  },
  {
   "cell_type": "code",
   "execution_count": 5,
   "outputs": [
    {
     "name": "stdout",
     "output_type": "stream",
     "text": [
      "TwoScoresHybridRecommender: URM Detected 205 ( 1.6%) users with no interactions.\n",
      "TwoScoresHybridRecommender: URM Detected 109 ( 0.5%) items with no interactions.\n"
     ]
    }
   ],
   "source": [
    "from Hybrid import TwoScoresHybridRecommender\n",
    "knn = TwoScoresHybridRecommender(URM_train_validation, userknn, itemknn)\n",
    "knn.fit(alpha=0.022195783788315104)"
   ],
   "metadata": {
    "collapsed": false,
    "ExecuteTime": {
     "end_time": "2023-12-28T19:30:25.545708Z",
     "start_time": "2023-12-28T19:30:25.042878Z"
    }
   },
   "id": "64f8fe6b25af10ff"
  },
  {
   "cell_type": "code",
   "execution_count": 6,
   "outputs": [
    {
     "name": "stdout",
     "output_type": "stream",
     "text": [
      "MultVAERecommender: URM Detected 205 ( 1.6%) users with no interactions.\n",
      "MultVAERecommender: URM Detected 109 ( 0.5%) items with no interactions.\n",
      "MultVAERecommender: Architecture: [460, 22222]\n",
      "MultVAERecommender: Using default Temp folder './result_experiments/__Temp_MultVAERecommender_16328/'\n"
     ]
    },
    {
     "name": "stderr",
     "output_type": "stream",
     "text": [
      "2023-12-28 22:30:46.352157: I metal_plugin/src/device/metal_device.cc:1154] Metal device set to: Apple M1 Pro\n",
      "2023-12-28 22:30:46.352183: I metal_plugin/src/device/metal_device.cc:296] systemMemory: 16.00 GB\n",
      "2023-12-28 22:30:46.352188: I metal_plugin/src/device/metal_device.cc:313] maxCacheSize: 5.33 GB\n",
      "2023-12-28 22:30:46.352220: I tensorflow/core/common_runtime/pluggable_device/pluggable_device_factory.cc:306] Could not identify NUMA node of platform GPU ID 0, defaulting to 0. Your kernel may not have been built with NUMA support.\n",
      "2023-12-28 22:30:46.352234: I tensorflow/core/common_runtime/pluggable_device/pluggable_device_factory.cc:272] Created TensorFlow device (/job:localhost/replica:0/task:0/device:GPU:0 with 0 MB memory) -> physical PluggableDevice (device: 0, name: METAL, pci bus id: <undefined>)\n",
      "2023-12-28 22:30:46.442652: I tensorflow/compiler/mlir/mlir_graph_optimization_pass.cc:388] MLIR V1 optimization pass is not enabled\n",
      "2023-12-28 22:30:46.447609: I tensorflow/core/grappler/optimizers/custom_graph_optimizer_registry.cc:117] Plugin optimizer for device_type GPU is enabled.\n"
     ]
    },
    {
     "name": "stdout",
     "output_type": "stream",
     "text": [
      "MultVAERecommender: Saving model in file './result_experiments/__Temp_MultVAERecommender_16328/_best_model'\n",
      "MultVAERecommender: Saving complete\n",
      "MultVAERecommender: Epoch 1 of 300. Elapsed time 8.64 sec\n",
      "MultVAERecommender: Epoch 2 of 300. Elapsed time 11.90 sec\n",
      "MultVAERecommender: Epoch 3 of 300. Elapsed time 15.23 sec\n",
      "MultVAERecommender: Epoch 4 of 300. Elapsed time 18.53 sec\n",
      "MultVAERecommender: Epoch 5 of 300. Elapsed time 21.80 sec\n",
      "MultVAERecommender: Epoch 6 of 300. Elapsed time 25.17 sec\n",
      "MultVAERecommender: Epoch 7 of 300. Elapsed time 28.47 sec\n",
      "MultVAERecommender: Epoch 8 of 300. Elapsed time 31.71 sec\n",
      "MultVAERecommender: Epoch 9 of 300. Elapsed time 34.93 sec\n",
      "MultVAERecommender: Epoch 10 of 300. Elapsed time 38.25 sec\n",
      "MultVAERecommender: Epoch 11 of 300. Elapsed time 41.49 sec\n",
      "MultVAERecommender: Epoch 12 of 300. Elapsed time 44.82 sec\n",
      "MultVAERecommender: Epoch 13 of 300. Elapsed time 48.12 sec\n",
      "MultVAERecommender: Epoch 14 of 300. Elapsed time 51.33 sec\n",
      "MultVAERecommender: Epoch 15 of 300. Elapsed time 54.50 sec\n",
      "MultVAERecommender: Epoch 16 of 300. Elapsed time 57.76 sec\n",
      "MultVAERecommender: Epoch 17 of 300. Elapsed time 1.02 min\n",
      "MultVAERecommender: Epoch 18 of 300. Elapsed time 1.07 min\n",
      "MultVAERecommender: Epoch 19 of 300. Elapsed time 1.12 min\n",
      "MultVAERecommender: Epoch 20 of 300. Elapsed time 1.18 min\n",
      "MultVAERecommender: Epoch 21 of 300. Elapsed time 1.23 min\n",
      "MultVAERecommender: Epoch 22 of 300. Elapsed time 1.28 min\n",
      "MultVAERecommender: Epoch 23 of 300. Elapsed time 1.33 min\n",
      "MultVAERecommender: Epoch 24 of 300. Elapsed time 1.39 min\n",
      "MultVAERecommender: Epoch 25 of 300. Elapsed time 1.44 min\n",
      "MultVAERecommender: Epoch 26 of 300. Elapsed time 1.50 min\n",
      "MultVAERecommender: Epoch 27 of 300. Elapsed time 1.55 min\n",
      "MultVAERecommender: Epoch 28 of 300. Elapsed time 1.60 min\n",
      "MultVAERecommender: Epoch 29 of 300. Elapsed time 1.66 min\n",
      "MultVAERecommender: Epoch 30 of 300. Elapsed time 1.71 min\n",
      "MultVAERecommender: Epoch 31 of 300. Elapsed time 1.76 min\n",
      "MultVAERecommender: Epoch 32 of 300. Elapsed time 1.82 min\n",
      "MultVAERecommender: Epoch 33 of 300. Elapsed time 1.87 min\n",
      "MultVAERecommender: Epoch 34 of 300. Elapsed time 1.92 min\n",
      "MultVAERecommender: Epoch 35 of 300. Elapsed time 1.97 min\n",
      "MultVAERecommender: Epoch 36 of 300. Elapsed time 2.02 min\n",
      "MultVAERecommender: Epoch 37 of 300. Elapsed time 2.07 min\n",
      "MultVAERecommender: Epoch 38 of 300. Elapsed time 2.13 min\n",
      "MultVAERecommender: Epoch 39 of 300. Elapsed time 2.18 min\n",
      "MultVAERecommender: Epoch 40 of 300. Elapsed time 2.23 min\n",
      "MultVAERecommender: Epoch 41 of 300. Elapsed time 2.28 min\n",
      "MultVAERecommender: Epoch 42 of 300. Elapsed time 2.33 min\n",
      "MultVAERecommender: Epoch 43 of 300. Elapsed time 2.38 min\n",
      "MultVAERecommender: Epoch 44 of 300. Elapsed time 2.43 min\n",
      "MultVAERecommender: Epoch 45 of 300. Elapsed time 2.49 min\n",
      "MultVAERecommender: Epoch 46 of 300. Elapsed time 2.54 min\n",
      "MultVAERecommender: Epoch 47 of 300. Elapsed time 2.59 min\n",
      "MultVAERecommender: Epoch 48 of 300. Elapsed time 2.64 min\n",
      "MultVAERecommender: Epoch 49 of 300. Elapsed time 2.69 min\n",
      "MultVAERecommender: Epoch 50 of 300. Elapsed time 2.74 min\n",
      "MultVAERecommender: Epoch 51 of 300. Elapsed time 2.79 min\n",
      "MultVAERecommender: Epoch 52 of 300. Elapsed time 2.85 min\n",
      "MultVAERecommender: Epoch 53 of 300. Elapsed time 2.90 min\n",
      "MultVAERecommender: Epoch 54 of 300. Elapsed time 2.95 min\n",
      "MultVAERecommender: Epoch 55 of 300. Elapsed time 3.00 min\n",
      "MultVAERecommender: Epoch 56 of 300. Elapsed time 3.05 min\n",
      "MultVAERecommender: Epoch 57 of 300. Elapsed time 3.10 min\n",
      "MultVAERecommender: Epoch 58 of 300. Elapsed time 3.15 min\n",
      "MultVAERecommender: Epoch 59 of 300. Elapsed time 3.20 min\n",
      "MultVAERecommender: Epoch 60 of 300. Elapsed time 3.25 min\n",
      "MultVAERecommender: Epoch 61 of 300. Elapsed time 3.31 min\n",
      "MultVAERecommender: Epoch 62 of 300. Elapsed time 3.36 min\n",
      "MultVAERecommender: Epoch 63 of 300. Elapsed time 3.41 min\n",
      "MultVAERecommender: Epoch 64 of 300. Elapsed time 3.46 min\n",
      "MultVAERecommender: Epoch 65 of 300. Elapsed time 3.51 min\n",
      "MultVAERecommender: Epoch 66 of 300. Elapsed time 3.56 min\n",
      "MultVAERecommender: Epoch 67 of 300. Elapsed time 3.61 min\n",
      "MultVAERecommender: Epoch 68 of 300. Elapsed time 3.67 min\n",
      "MultVAERecommender: Epoch 69 of 300. Elapsed time 3.72 min\n",
      "MultVAERecommender: Epoch 70 of 300. Elapsed time 3.77 min\n",
      "MultVAERecommender: Epoch 71 of 300. Elapsed time 3.82 min\n",
      "MultVAERecommender: Epoch 72 of 300. Elapsed time 3.87 min\n",
      "MultVAERecommender: Epoch 73 of 300. Elapsed time 3.92 min\n",
      "MultVAERecommender: Epoch 74 of 300. Elapsed time 3.97 min\n",
      "MultVAERecommender: Epoch 75 of 300. Elapsed time 4.03 min\n",
      "MultVAERecommender: Epoch 76 of 300. Elapsed time 4.08 min\n",
      "MultVAERecommender: Epoch 77 of 300. Elapsed time 4.13 min\n",
      "MultVAERecommender: Epoch 78 of 300. Elapsed time 4.18 min\n",
      "MultVAERecommender: Epoch 79 of 300. Elapsed time 4.23 min\n",
      "MultVAERecommender: Epoch 80 of 300. Elapsed time 4.28 min\n",
      "MultVAERecommender: Epoch 81 of 300. Elapsed time 4.33 min\n",
      "MultVAERecommender: Epoch 82 of 300. Elapsed time 4.38 min\n",
      "MultVAERecommender: Epoch 83 of 300. Elapsed time 4.43 min\n",
      "MultVAERecommender: Epoch 84 of 300. Elapsed time 4.48 min\n",
      "MultVAERecommender: Epoch 85 of 300. Elapsed time 4.54 min\n",
      "MultVAERecommender: Epoch 86 of 300. Elapsed time 4.59 min\n",
      "MultVAERecommender: Epoch 87 of 300. Elapsed time 4.64 min\n",
      "MultVAERecommender: Epoch 88 of 300. Elapsed time 4.69 min\n",
      "MultVAERecommender: Epoch 89 of 300. Elapsed time 4.74 min\n",
      "MultVAERecommender: Epoch 90 of 300. Elapsed time 4.79 min\n",
      "MultVAERecommender: Epoch 91 of 300. Elapsed time 4.84 min\n",
      "MultVAERecommender: Epoch 92 of 300. Elapsed time 4.89 min\n",
      "MultVAERecommender: Epoch 93 of 300. Elapsed time 4.94 min\n",
      "MultVAERecommender: Epoch 94 of 300. Elapsed time 4.99 min\n",
      "MultVAERecommender: Epoch 95 of 300. Elapsed time 5.04 min\n",
      "MultVAERecommender: Epoch 96 of 300. Elapsed time 5.09 min\n",
      "MultVAERecommender: Epoch 97 of 300. Elapsed time 5.14 min\n",
      "MultVAERecommender: Epoch 98 of 300. Elapsed time 5.20 min\n",
      "MultVAERecommender: Epoch 99 of 300. Elapsed time 5.25 min\n",
      "MultVAERecommender: Epoch 100 of 300. Elapsed time 5.30 min\n",
      "MultVAERecommender: Epoch 101 of 300. Elapsed time 5.35 min\n",
      "MultVAERecommender: Epoch 102 of 300. Elapsed time 5.40 min\n",
      "MultVAERecommender: Epoch 103 of 300. Elapsed time 5.45 min\n",
      "MultVAERecommender: Epoch 104 of 300. Elapsed time 5.50 min\n",
      "MultVAERecommender: Epoch 105 of 300. Elapsed time 5.55 min\n",
      "MultVAERecommender: Epoch 106 of 300. Elapsed time 5.60 min\n",
      "MultVAERecommender: Epoch 107 of 300. Elapsed time 5.65 min\n",
      "MultVAERecommender: Epoch 108 of 300. Elapsed time 5.70 min\n",
      "MultVAERecommender: Epoch 109 of 300. Elapsed time 5.75 min\n",
      "MultVAERecommender: Epoch 110 of 300. Elapsed time 5.80 min\n",
      "MultVAERecommender: Epoch 111 of 300. Elapsed time 5.85 min\n",
      "MultVAERecommender: Epoch 112 of 300. Elapsed time 5.90 min\n",
      "MultVAERecommender: Epoch 113 of 300. Elapsed time 5.96 min\n",
      "MultVAERecommender: Epoch 114 of 300. Elapsed time 6.01 min\n",
      "MultVAERecommender: Epoch 115 of 300. Elapsed time 6.06 min\n",
      "MultVAERecommender: Epoch 116 of 300. Elapsed time 6.11 min\n",
      "MultVAERecommender: Epoch 117 of 300. Elapsed time 6.16 min\n",
      "MultVAERecommender: Epoch 118 of 300. Elapsed time 6.21 min\n",
      "MultVAERecommender: Epoch 119 of 300. Elapsed time 6.26 min\n",
      "MultVAERecommender: Epoch 120 of 300. Elapsed time 6.31 min\n",
      "MultVAERecommender: Epoch 121 of 300. Elapsed time 6.36 min\n",
      "MultVAERecommender: Epoch 122 of 300. Elapsed time 6.41 min\n",
      "MultVAERecommender: Epoch 123 of 300. Elapsed time 6.46 min\n",
      "MultVAERecommender: Epoch 124 of 300. Elapsed time 6.51 min\n",
      "MultVAERecommender: Epoch 125 of 300. Elapsed time 6.56 min\n",
      "MultVAERecommender: Epoch 126 of 300. Elapsed time 6.62 min\n",
      "MultVAERecommender: Epoch 127 of 300. Elapsed time 6.67 min\n",
      "MultVAERecommender: Epoch 128 of 300. Elapsed time 6.72 min\n",
      "MultVAERecommender: Epoch 129 of 300. Elapsed time 6.77 min\n",
      "MultVAERecommender: Epoch 130 of 300. Elapsed time 6.82 min\n",
      "MultVAERecommender: Epoch 131 of 300. Elapsed time 6.87 min\n",
      "MultVAERecommender: Epoch 132 of 300. Elapsed time 6.92 min\n",
      "MultVAERecommender: Epoch 133 of 300. Elapsed time 6.97 min\n",
      "MultVAERecommender: Epoch 134 of 300. Elapsed time 7.02 min\n",
      "MultVAERecommender: Epoch 135 of 300. Elapsed time 7.07 min\n",
      "MultVAERecommender: Epoch 136 of 300. Elapsed time 7.12 min\n",
      "MultVAERecommender: Epoch 137 of 300. Elapsed time 7.17 min\n",
      "MultVAERecommender: Epoch 138 of 300. Elapsed time 7.22 min\n",
      "MultVAERecommender: Epoch 139 of 300. Elapsed time 7.28 min\n",
      "MultVAERecommender: Epoch 140 of 300. Elapsed time 7.33 min\n",
      "MultVAERecommender: Epoch 141 of 300. Elapsed time 7.38 min\n",
      "MultVAERecommender: Epoch 142 of 300. Elapsed time 7.43 min\n",
      "MultVAERecommender: Epoch 143 of 300. Elapsed time 7.48 min\n",
      "MultVAERecommender: Epoch 144 of 300. Elapsed time 7.53 min\n",
      "MultVAERecommender: Epoch 145 of 300. Elapsed time 7.58 min\n",
      "MultVAERecommender: Epoch 146 of 300. Elapsed time 7.63 min\n",
      "MultVAERecommender: Epoch 147 of 300. Elapsed time 7.68 min\n",
      "MultVAERecommender: Epoch 148 of 300. Elapsed time 7.73 min\n",
      "MultVAERecommender: Epoch 149 of 300. Elapsed time 7.78 min\n",
      "MultVAERecommender: Epoch 150 of 300. Elapsed time 7.84 min\n",
      "MultVAERecommender: Epoch 151 of 300. Elapsed time 7.89 min\n",
      "MultVAERecommender: Epoch 152 of 300. Elapsed time 7.94 min\n",
      "MultVAERecommender: Epoch 153 of 300. Elapsed time 7.99 min\n",
      "MultVAERecommender: Epoch 154 of 300. Elapsed time 8.04 min\n",
      "MultVAERecommender: Epoch 155 of 300. Elapsed time 8.09 min\n",
      "MultVAERecommender: Epoch 156 of 300. Elapsed time 8.14 min\n",
      "MultVAERecommender: Epoch 157 of 300. Elapsed time 8.19 min\n",
      "MultVAERecommender: Epoch 158 of 300. Elapsed time 8.24 min\n",
      "MultVAERecommender: Epoch 159 of 300. Elapsed time 8.29 min\n",
      "MultVAERecommender: Epoch 160 of 300. Elapsed time 8.34 min\n",
      "MultVAERecommender: Epoch 161 of 300. Elapsed time 8.40 min\n",
      "MultVAERecommender: Epoch 162 of 300. Elapsed time 8.45 min\n",
      "MultVAERecommender: Epoch 163 of 300. Elapsed time 8.50 min\n",
      "MultVAERecommender: Epoch 164 of 300. Elapsed time 8.55 min\n",
      "MultVAERecommender: Epoch 165 of 300. Elapsed time 8.60 min\n",
      "MultVAERecommender: Epoch 166 of 300. Elapsed time 8.65 min\n",
      "MultVAERecommender: Epoch 167 of 300. Elapsed time 8.70 min\n",
      "MultVAERecommender: Epoch 168 of 300. Elapsed time 8.75 min\n",
      "MultVAERecommender: Epoch 169 of 300. Elapsed time 8.80 min\n",
      "MultVAERecommender: Epoch 170 of 300. Elapsed time 8.86 min\n",
      "MultVAERecommender: Epoch 171 of 300. Elapsed time 8.91 min\n",
      "MultVAERecommender: Epoch 172 of 300. Elapsed time 8.96 min\n",
      "MultVAERecommender: Epoch 173 of 300. Elapsed time 9.01 min\n",
      "MultVAERecommender: Epoch 174 of 300. Elapsed time 9.06 min\n",
      "MultVAERecommender: Epoch 175 of 300. Elapsed time 9.11 min\n",
      "MultVAERecommender: Epoch 176 of 300. Elapsed time 9.16 min\n",
      "MultVAERecommender: Epoch 177 of 300. Elapsed time 9.21 min\n",
      "MultVAERecommender: Epoch 178 of 300. Elapsed time 9.26 min\n",
      "MultVAERecommender: Epoch 179 of 300. Elapsed time 9.32 min\n",
      "MultVAERecommender: Epoch 180 of 300. Elapsed time 9.37 min\n",
      "MultVAERecommender: Epoch 181 of 300. Elapsed time 9.42 min\n",
      "MultVAERecommender: Epoch 182 of 300. Elapsed time 9.47 min\n",
      "MultVAERecommender: Epoch 183 of 300. Elapsed time 9.52 min\n",
      "MultVAERecommender: Epoch 184 of 300. Elapsed time 9.57 min\n",
      "MultVAERecommender: Epoch 185 of 300. Elapsed time 9.62 min\n",
      "MultVAERecommender: Epoch 186 of 300. Elapsed time 9.67 min\n",
      "MultVAERecommender: Epoch 187 of 300. Elapsed time 9.72 min\n",
      "MultVAERecommender: Epoch 188 of 300. Elapsed time 9.78 min\n",
      "MultVAERecommender: Epoch 189 of 300. Elapsed time 9.83 min\n",
      "MultVAERecommender: Epoch 190 of 300. Elapsed time 9.88 min\n",
      "MultVAERecommender: Epoch 191 of 300. Elapsed time 9.93 min\n",
      "MultVAERecommender: Epoch 192 of 300. Elapsed time 9.98 min\n",
      "MultVAERecommender: Epoch 193 of 300. Elapsed time 10.03 min\n",
      "MultVAERecommender: Epoch 194 of 300. Elapsed time 10.08 min\n",
      "MultVAERecommender: Epoch 195 of 300. Elapsed time 10.13 min\n",
      "MultVAERecommender: Epoch 196 of 300. Elapsed time 10.19 min\n",
      "MultVAERecommender: Epoch 197 of 300. Elapsed time 10.24 min\n",
      "MultVAERecommender: Epoch 198 of 300. Elapsed time 10.29 min\n",
      "MultVAERecommender: Epoch 199 of 300. Elapsed time 10.34 min\n",
      "MultVAERecommender: Epoch 200 of 300. Elapsed time 10.39 min\n",
      "MultVAERecommender: Epoch 201 of 300. Elapsed time 10.44 min\n",
      "MultVAERecommender: Epoch 202 of 300. Elapsed time 10.49 min\n",
      "MultVAERecommender: Epoch 203 of 300. Elapsed time 10.54 min\n",
      "MultVAERecommender: Epoch 204 of 300. Elapsed time 10.59 min\n",
      "MultVAERecommender: Epoch 205 of 300. Elapsed time 10.65 min\n",
      "MultVAERecommender: Epoch 206 of 300. Elapsed time 10.70 min\n",
      "MultVAERecommender: Epoch 207 of 300. Elapsed time 10.75 min\n",
      "MultVAERecommender: Epoch 208 of 300. Elapsed time 10.80 min\n",
      "MultVAERecommender: Epoch 209 of 300. Elapsed time 10.85 min\n",
      "MultVAERecommender: Epoch 210 of 300. Elapsed time 10.90 min\n",
      "MultVAERecommender: Epoch 211 of 300. Elapsed time 10.95 min\n",
      "MultVAERecommender: Epoch 212 of 300. Elapsed time 11.00 min\n",
      "MultVAERecommender: Epoch 213 of 300. Elapsed time 11.06 min\n",
      "MultVAERecommender: Epoch 214 of 300. Elapsed time 11.11 min\n",
      "MultVAERecommender: Epoch 215 of 300. Elapsed time 11.16 min\n",
      "MultVAERecommender: Epoch 216 of 300. Elapsed time 11.21 min\n",
      "MultVAERecommender: Epoch 217 of 300. Elapsed time 11.26 min\n",
      "MultVAERecommender: Epoch 218 of 300. Elapsed time 11.31 min\n",
      "MultVAERecommender: Epoch 219 of 300. Elapsed time 11.36 min\n",
      "MultVAERecommender: Epoch 220 of 300. Elapsed time 11.41 min\n",
      "MultVAERecommender: Epoch 221 of 300. Elapsed time 11.46 min\n",
      "MultVAERecommender: Epoch 222 of 300. Elapsed time 11.52 min\n",
      "MultVAERecommender: Epoch 223 of 300. Elapsed time 11.57 min\n",
      "MultVAERecommender: Epoch 224 of 300. Elapsed time 11.62 min\n",
      "MultVAERecommender: Epoch 225 of 300. Elapsed time 11.67 min\n",
      "MultVAERecommender: Epoch 226 of 300. Elapsed time 11.72 min\n",
      "MultVAERecommender: Epoch 227 of 300. Elapsed time 11.77 min\n",
      "MultVAERecommender: Epoch 228 of 300. Elapsed time 11.82 min\n",
      "MultVAERecommender: Epoch 229 of 300. Elapsed time 11.87 min\n",
      "MultVAERecommender: Epoch 230 of 300. Elapsed time 11.92 min\n",
      "MultVAERecommender: Epoch 231 of 300. Elapsed time 11.98 min\n",
      "MultVAERecommender: Epoch 232 of 300. Elapsed time 12.03 min\n",
      "MultVAERecommender: Epoch 233 of 300. Elapsed time 12.08 min\n",
      "MultVAERecommender: Epoch 234 of 300. Elapsed time 12.13 min\n",
      "MultVAERecommender: Epoch 235 of 300. Elapsed time 12.18 min\n",
      "MultVAERecommender: Epoch 236 of 300. Elapsed time 12.24 min\n",
      "MultVAERecommender: Epoch 237 of 300. Elapsed time 12.30 min\n",
      "MultVAERecommender: Epoch 238 of 300. Elapsed time 12.35 min\n",
      "MultVAERecommender: Epoch 239 of 300. Elapsed time 12.40 min\n",
      "MultVAERecommender: Epoch 240 of 300. Elapsed time 12.45 min\n",
      "MultVAERecommender: Epoch 241 of 300. Elapsed time 12.51 min\n",
      "MultVAERecommender: Epoch 242 of 300. Elapsed time 12.56 min\n",
      "MultVAERecommender: Epoch 243 of 300. Elapsed time 12.61 min\n",
      "MultVAERecommender: Epoch 244 of 300. Elapsed time 12.66 min\n",
      "MultVAERecommender: Epoch 245 of 300. Elapsed time 12.71 min\n",
      "MultVAERecommender: Epoch 246 of 300. Elapsed time 12.76 min\n",
      "MultVAERecommender: Epoch 247 of 300. Elapsed time 12.81 min\n",
      "MultVAERecommender: Epoch 248 of 300. Elapsed time 12.86 min\n",
      "MultVAERecommender: Epoch 249 of 300. Elapsed time 12.92 min\n",
      "MultVAERecommender: Epoch 250 of 300. Elapsed time 12.97 min\n",
      "MultVAERecommender: Epoch 251 of 300. Elapsed time 13.02 min\n",
      "MultVAERecommender: Epoch 252 of 300. Elapsed time 13.07 min\n",
      "MultVAERecommender: Epoch 253 of 300. Elapsed time 13.12 min\n",
      "MultVAERecommender: Epoch 254 of 300. Elapsed time 13.17 min\n",
      "MultVAERecommender: Epoch 255 of 300. Elapsed time 13.22 min\n",
      "MultVAERecommender: Epoch 256 of 300. Elapsed time 13.27 min\n",
      "MultVAERecommender: Epoch 257 of 300. Elapsed time 13.32 min\n",
      "MultVAERecommender: Epoch 258 of 300. Elapsed time 13.38 min\n",
      "MultVAERecommender: Epoch 259 of 300. Elapsed time 13.43 min\n",
      "MultVAERecommender: Epoch 260 of 300. Elapsed time 13.48 min\n",
      "MultVAERecommender: Epoch 261 of 300. Elapsed time 13.53 min\n",
      "MultVAERecommender: Epoch 262 of 300. Elapsed time 13.58 min\n",
      "MultVAERecommender: Epoch 263 of 300. Elapsed time 13.63 min\n",
      "MultVAERecommender: Epoch 264 of 300. Elapsed time 13.68 min\n",
      "MultVAERecommender: Epoch 265 of 300. Elapsed time 13.74 min\n",
      "MultVAERecommender: Epoch 266 of 300. Elapsed time 13.79 min\n",
      "MultVAERecommender: Epoch 267 of 300. Elapsed time 13.84 min\n",
      "MultVAERecommender: Epoch 268 of 300. Elapsed time 13.89 min\n",
      "MultVAERecommender: Epoch 269 of 300. Elapsed time 13.94 min\n",
      "MultVAERecommender: Epoch 270 of 300. Elapsed time 13.99 min\n",
      "MultVAERecommender: Epoch 271 of 300. Elapsed time 14.04 min\n",
      "MultVAERecommender: Epoch 272 of 300. Elapsed time 14.09 min\n",
      "MultVAERecommender: Epoch 273 of 300. Elapsed time 14.15 min\n",
      "MultVAERecommender: Epoch 274 of 300. Elapsed time 14.20 min\n",
      "MultVAERecommender: Epoch 275 of 300. Elapsed time 14.25 min\n",
      "MultVAERecommender: Epoch 276 of 300. Elapsed time 14.30 min\n",
      "MultVAERecommender: Epoch 277 of 300. Elapsed time 14.35 min\n",
      "MultVAERecommender: Epoch 278 of 300. Elapsed time 14.40 min\n",
      "MultVAERecommender: Epoch 279 of 300. Elapsed time 14.45 min\n",
      "MultVAERecommender: Epoch 280 of 300. Elapsed time 14.51 min\n",
      "MultVAERecommender: Epoch 281 of 300. Elapsed time 14.56 min\n",
      "MultVAERecommender: Epoch 282 of 300. Elapsed time 14.61 min\n",
      "MultVAERecommender: Epoch 283 of 300. Elapsed time 14.66 min\n",
      "MultVAERecommender: Epoch 284 of 300. Elapsed time 14.71 min\n",
      "MultVAERecommender: Epoch 285 of 300. Elapsed time 14.76 min\n",
      "MultVAERecommender: Epoch 286 of 300. Elapsed time 14.81 min\n",
      "MultVAERecommender: Epoch 287 of 300. Elapsed time 14.86 min\n",
      "MultVAERecommender: Epoch 288 of 300. Elapsed time 14.92 min\n",
      "MultVAERecommender: Epoch 289 of 300. Elapsed time 14.97 min\n",
      "MultVAERecommender: Epoch 290 of 300. Elapsed time 15.02 min\n",
      "MultVAERecommender: Epoch 291 of 300. Elapsed time 15.07 min\n",
      "MultVAERecommender: Epoch 292 of 300. Elapsed time 15.12 min\n",
      "MultVAERecommender: Epoch 293 of 300. Elapsed time 15.17 min\n",
      "MultVAERecommender: Epoch 294 of 300. Elapsed time 15.22 min\n",
      "MultVAERecommender: Epoch 295 of 300. Elapsed time 15.27 min\n",
      "MultVAERecommender: Epoch 296 of 300. Elapsed time 15.33 min\n",
      "MultVAERecommender: Epoch 297 of 300. Elapsed time 15.38 min\n",
      "MultVAERecommender: Epoch 298 of 300. Elapsed time 15.43 min\n",
      "MultVAERecommender: Epoch 299 of 300. Elapsed time 15.48 min\n",
      "MultVAERecommender: Epoch 300 of 300. Elapsed time 15.53 min\n",
      "MultVAERecommender: Saving model in file './result_experiments/__Temp_MultVAERecommender_16328/_best_model'\n",
      "MultVAERecommender: Saving complete\n",
      "MultVAERecommender: Terminating at epoch 300. Elapsed time 15.54 min\n",
      "MultVAERecommender: Loading model from file './result_experiments/__Temp_MultVAERecommender_16328/_best_model'\n"
     ]
    },
    {
     "name": "stderr",
     "output_type": "stream",
     "text": [
      "2023-12-28 22:46:19.757111: I tensorflow/core/common_runtime/pluggable_device/pluggable_device_factory.cc:306] Could not identify NUMA node of platform GPU ID 0, defaulting to 0. Your kernel may not have been built with NUMA support.\n",
      "2023-12-28 22:46:19.757135: I tensorflow/core/common_runtime/pluggable_device/pluggable_device_factory.cc:272] Created TensorFlow device (/job:localhost/replica:0/task:0/device:GPU:0 with 0 MB memory) -> physical PluggableDevice (device: 0, name: METAL, pci bus id: <undefined>)\n"
     ]
    },
    {
     "name": "stdout",
     "output_type": "stream",
     "text": [
      "INFO:tensorflow:Restoring parameters from ./result_experiments/__Temp_MultVAERecommender_16328/_best_model/.session/session\n",
      "MultVAERecommender: Loading complete\n",
      "MultVAERecommender: Cleaning temporary files from './result_experiments/__Temp_MultVAERecommender_16328/'\n"
     ]
    }
   ],
   "source": [
    "from Recommenders.Neural.MultVAERecommender import MultVAERecommender_OptimizerMask\n",
    "\n",
    "multvae = MultVAERecommender_OptimizerMask(URM_train_validation)\n",
    "epochs = 300\n",
    "multvae.fit(epochs=epochs, learning_rate=0.0002229220517428562, l2_reg=1.7199457884691567e-05, dropout=0.5397666797136971, total_anneal_steps=134713, anneal_cap=0.20025495518554443,batch_size=512,encoding_size=460,next_layer_size_multiplier=10,max_n_hidden_layers=4, max_parameters=7*1e9*8/32)"
   ],
   "metadata": {
    "collapsed": false,
    "ExecuteTime": {
     "end_time": "2023-12-28T19:46:20.385732Z",
     "start_time": "2023-12-28T19:30:43.491168Z"
    }
   },
   "id": "ea0a8407efe6464a"
  },
  {
   "cell_type": "code",
   "execution_count": 8,
   "outputs": [
    {
     "name": "stdout",
     "output_type": "stream",
     "text": [
      "IALSRecommender: URM Detected 205 ( 1.6%) users with no interactions.\n",
      "IALSRecommender: URM Detected 109 ( 0.5%) items with no interactions.\n",
      "IALSRecommender: Loading model from file 'slim_models/IALS_train_validation'\n",
      "IALSRecommender: Loading complete\n"
     ]
    }
   ],
   "source": [
    "from Recommenders.MatrixFactorization.IALSRecommender import IALSRecommender\n",
    "\n",
    "ials = IALSRecommender(URM_train_validation)\n",
    "ials.load_model(folder_path='slim_models/', file_name='IALS_train_validation')"
   ],
   "metadata": {
    "collapsed": false,
    "ExecuteTime": {
     "end_time": "2023-12-28T19:46:57.446341Z",
     "start_time": "2023-12-28T19:46:57.108543Z"
    }
   },
   "id": "3defdd22f4d72fce"
  },
  {
   "cell_type": "code",
   "execution_count": 9,
   "outputs": [],
   "source": [
    "from Hybrid import ScoresHybridRecommender\n",
    "import optuna as op\n",
    "def objective(trial):\n",
    "        \n",
    "    alpha = trial.suggest_float(\"alpha\", 0.0, 1.0)\n",
    "    beta = trial.suggest_float(\"beta\", 0.0, 1.0 - alpha)\n",
    "    \n",
    "    recommender = ScoresHybridRecommender(URM_train_validation, knn, multvae, ials)\n",
    "    recommender.fit(alpha=alpha, beta=beta)\n",
    "    \n",
    "    result, _ = evaluator_validation.evaluateRecommender(recommender)\n",
    "    MAP_result = result[\"MAP\"].item()\n",
    "       \n",
    "    return MAP_result"
   ],
   "metadata": {
    "collapsed": false,
    "ExecuteTime": {
     "end_time": "2023-12-28T19:47:00.622657Z",
     "start_time": "2023-12-28T19:47:00.240401Z"
    }
   },
   "id": "f800731818a98c7d"
  },
  {
   "cell_type": "code",
   "execution_count": 13,
   "outputs": [
    {
     "name": "stderr",
     "output_type": "stream",
     "text": [
      "[I 2023-12-28 23:50:45,545] Using an existing study with name 'knn-multvae-ials-study' instead of creating a new one.\n"
     ]
    },
    {
     "name": "stdout",
     "output_type": "stream",
     "text": [
      "ScoresHybridRecommender: URM Detected 205 ( 1.6%) users with no interactions.\n",
      "ScoresHybridRecommender: URM Detected 109 ( 0.5%) items with no interactions.\n",
      "EvaluatorHoldout: Processed 10435 (100.0%) in 8.91 sec. Users per second: 1171\n"
     ]
    },
    {
     "name": "stderr",
     "output_type": "stream",
     "text": [
      "[I 2023-12-28 23:50:54,542] Trial 200 finished with value: 0.04492075280839121 and parameters: {'alpha': 0.8225999223616037, 'beta': 0.024404868567505955}. Best is trial 135 with value: 0.045118454377439235.\n"
     ]
    },
    {
     "name": "stdout",
     "output_type": "stream",
     "text": [
      "ScoresHybridRecommender: URM Detected 205 ( 1.6%) users with no interactions.\n",
      "ScoresHybridRecommender: URM Detected 109 ( 0.5%) items with no interactions.\n",
      "EvaluatorHoldout: Processed 10435 (100.0%) in 7.47 sec. Users per second: 1397\n"
     ]
    },
    {
     "name": "stderr",
     "output_type": "stream",
     "text": [
      "[I 2023-12-28 23:51:02,046] Trial 201 finished with value: 0.04502401107384395 and parameters: {'alpha': 0.7559498009215992, 'beta': 0.013727017910452128}. Best is trial 135 with value: 0.045118454377439235.\n"
     ]
    },
    {
     "name": "stdout",
     "output_type": "stream",
     "text": [
      "ScoresHybridRecommender: URM Detected 205 ( 1.6%) users with no interactions.\n",
      "ScoresHybridRecommender: URM Detected 109 ( 0.5%) items with no interactions.\n",
      "EvaluatorHoldout: Processed 10435 (100.0%) in 7.58 sec. Users per second: 1376\n"
     ]
    },
    {
     "name": "stderr",
     "output_type": "stream",
     "text": [
      "[I 2023-12-28 23:51:09,666] Trial 202 finished with value: 0.04495408462059225 and parameters: {'alpha': 0.7422541066165064, 'beta': 0.0065122425287497815}. Best is trial 135 with value: 0.045118454377439235.\n"
     ]
    },
    {
     "name": "stdout",
     "output_type": "stream",
     "text": [
      "ScoresHybridRecommender: URM Detected 205 ( 1.6%) users with no interactions.\n",
      "ScoresHybridRecommender: URM Detected 109 ( 0.5%) items with no interactions.\n",
      "EvaluatorHoldout: Processed 10435 (100.0%) in 7.51 sec. Users per second: 1389\n"
     ]
    },
    {
     "name": "stderr",
     "output_type": "stream",
     "text": [
      "[I 2023-12-28 23:51:17,214] Trial 203 finished with value: 0.04498063978825899 and parameters: {'alpha': 0.7882568781745114, 'beta': 0.01946960587794798}. Best is trial 135 with value: 0.045118454377439235.\n"
     ]
    },
    {
     "name": "stdout",
     "output_type": "stream",
     "text": [
      "ScoresHybridRecommender: URM Detected 205 ( 1.6%) users with no interactions.\n",
      "ScoresHybridRecommender: URM Detected 109 ( 0.5%) items with no interactions.\n",
      "EvaluatorHoldout: Processed 10435 (100.0%) in 7.63 sec. Users per second: 1367\n"
     ]
    },
    {
     "name": "stderr",
     "output_type": "stream",
     "text": [
      "[I 2023-12-28 23:51:24,884] Trial 204 finished with value: 0.04505772697195853 and parameters: {'alpha': 0.7684203760275263, 'beta': 0.028129382391522004}. Best is trial 135 with value: 0.045118454377439235.\n"
     ]
    },
    {
     "name": "stdout",
     "output_type": "stream",
     "text": [
      "ScoresHybridRecommender: URM Detected 205 ( 1.6%) users with no interactions.\n",
      "ScoresHybridRecommender: URM Detected 109 ( 0.5%) items with no interactions.\n",
      "EvaluatorHoldout: Processed 10435 (100.0%) in 7.32 sec. Users per second: 1425\n"
     ]
    },
    {
     "name": "stderr",
     "output_type": "stream",
     "text": [
      "[I 2023-12-28 23:51:32,241] Trial 205 finished with value: 0.044504609030963274 and parameters: {'alpha': 0.9751490118152775, 'beta': 0.01846874629040464}. Best is trial 135 with value: 0.045118454377439235.\n"
     ]
    },
    {
     "name": "stdout",
     "output_type": "stream",
     "text": [
      "ScoresHybridRecommender: URM Detected 205 ( 1.6%) users with no interactions.\n",
      "ScoresHybridRecommender: URM Detected 109 ( 0.5%) items with no interactions.\n",
      "EvaluatorHoldout: Processed 10435 (100.0%) in 7.47 sec. Users per second: 1397\n"
     ]
    },
    {
     "name": "stderr",
     "output_type": "stream",
     "text": [
      "[I 2023-12-28 23:51:39,741] Trial 206 finished with value: 0.0450319209619647 and parameters: {'alpha': 0.7706429364411632, 'beta': 0.028451043168498443}. Best is trial 135 with value: 0.045118454377439235.\n"
     ]
    },
    {
     "name": "stdout",
     "output_type": "stream",
     "text": [
      "ScoresHybridRecommender: URM Detected 205 ( 1.6%) users with no interactions.\n",
      "ScoresHybridRecommender: URM Detected 109 ( 0.5%) items with no interactions.\n",
      "EvaluatorHoldout: Processed 10435 (100.0%) in 7.33 sec. Users per second: 1424\n"
     ]
    },
    {
     "name": "stderr",
     "output_type": "stream",
     "text": [
      "[I 2023-12-28 23:51:47,099] Trial 207 finished with value: 0.04495337729405839 and parameters: {'alpha': 0.7275413377037437, 'beta': 0.03835795956333982}. Best is trial 135 with value: 0.045118454377439235.\n"
     ]
    },
    {
     "name": "stdout",
     "output_type": "stream",
     "text": [
      "ScoresHybridRecommender: URM Detected 205 ( 1.6%) users with no interactions.\n",
      "ScoresHybridRecommender: URM Detected 109 ( 0.5%) items with no interactions.\n",
      "EvaluatorHoldout: Processed 10435 (100.0%) in 7.34 sec. Users per second: 1422\n"
     ]
    },
    {
     "name": "stderr",
     "output_type": "stream",
     "text": [
      "[I 2023-12-28 23:51:54,473] Trial 208 finished with value: 0.04493992668142227 and parameters: {'alpha': 0.7543806310869092, 'beta': 0.03404806684542895}. Best is trial 135 with value: 0.045118454377439235.\n"
     ]
    },
    {
     "name": "stdout",
     "output_type": "stream",
     "text": [
      "ScoresHybridRecommender: URM Detected 205 ( 1.6%) users with no interactions.\n",
      "ScoresHybridRecommender: URM Detected 109 ( 0.5%) items with no interactions.\n",
      "EvaluatorHoldout: Processed 10435 (100.0%) in 7.64 sec. Users per second: 1366\n"
     ]
    },
    {
     "name": "stderr",
     "output_type": "stream",
     "text": [
      "[I 2023-12-28 23:52:02,152] Trial 209 finished with value: 0.04492732790289154 and parameters: {'alpha': 0.8082757243400508, 'beta': 0.024190426206170956}. Best is trial 135 with value: 0.045118454377439235.\n"
     ]
    },
    {
     "name": "stdout",
     "output_type": "stream",
     "text": [
      "ScoresHybridRecommender: URM Detected 205 ( 1.6%) users with no interactions.\n",
      "ScoresHybridRecommender: URM Detected 109 ( 0.5%) items with no interactions.\n",
      "EvaluatorHoldout: Processed 10435 (100.0%) in 7.34 sec. Users per second: 1421\n"
     ]
    },
    {
     "name": "stderr",
     "output_type": "stream",
     "text": [
      "[I 2023-12-28 23:52:09,528] Trial 210 finished with value: 0.045041698040021574 and parameters: {'alpha': 0.7760337493281617, 'beta': 0.028782474440965877}. Best is trial 135 with value: 0.045118454377439235.\n"
     ]
    },
    {
     "name": "stdout",
     "output_type": "stream",
     "text": [
      "ScoresHybridRecommender: URM Detected 205 ( 1.6%) users with no interactions.\n",
      "ScoresHybridRecommender: URM Detected 109 ( 0.5%) items with no interactions.\n",
      "EvaluatorHoldout: Processed 10435 (100.0%) in 7.27 sec. Users per second: 1435\n"
     ]
    },
    {
     "name": "stderr",
     "output_type": "stream",
     "text": [
      "[I 2023-12-28 23:52:16,829] Trial 211 finished with value: 0.044997661259041886 and parameters: {'alpha': 0.7390737158962501, 'beta': 0.012789658472459317}. Best is trial 135 with value: 0.045118454377439235.\n"
     ]
    },
    {
     "name": "stdout",
     "output_type": "stream",
     "text": [
      "ScoresHybridRecommender: URM Detected 205 ( 1.6%) users with no interactions.\n",
      "ScoresHybridRecommender: URM Detected 109 ( 0.5%) items with no interactions.\n",
      "EvaluatorHoldout: Processed 10435 (100.0%) in 7.25 sec. Users per second: 1440\n"
     ]
    },
    {
     "name": "stderr",
     "output_type": "stream",
     "text": [
      "[I 2023-12-28 23:52:24,108] Trial 212 finished with value: 0.045088214266700795 and parameters: {'alpha': 0.7535243238071747, 'beta': 0.023942395512235745}. Best is trial 135 with value: 0.045118454377439235.\n"
     ]
    },
    {
     "name": "stdout",
     "output_type": "stream",
     "text": [
      "ScoresHybridRecommender: URM Detected 205 ( 1.6%) users with no interactions.\n",
      "ScoresHybridRecommender: URM Detected 109 ( 0.5%) items with no interactions.\n",
      "EvaluatorHoldout: Processed 10435 (100.0%) in 7.55 sec. Users per second: 1382\n"
     ]
    },
    {
     "name": "stderr",
     "output_type": "stream",
     "text": [
      "[I 2023-12-28 23:52:31,687] Trial 213 finished with value: 0.045095283729208666 and parameters: {'alpha': 0.7639549160022646, 'beta': 0.023043936220118605}. Best is trial 135 with value: 0.045118454377439235.\n"
     ]
    },
    {
     "name": "stdout",
     "output_type": "stream",
     "text": [
      "ScoresHybridRecommender: URM Detected 205 ( 1.6%) users with no interactions.\n",
      "ScoresHybridRecommender: URM Detected 109 ( 0.5%) items with no interactions.\n",
      "EvaluatorHoldout: Processed 10435 (100.0%) in 7.41 sec. Users per second: 1408\n"
     ]
    },
    {
     "name": "stderr",
     "output_type": "stream",
     "text": [
      "[I 2023-12-28 23:52:39,126] Trial 214 finished with value: 0.04498188711677042 and parameters: {'alpha': 0.7157051084247881, 'beta': 0.03559482501344047}. Best is trial 135 with value: 0.045118454377439235.\n"
     ]
    },
    {
     "name": "stdout",
     "output_type": "stream",
     "text": [
      "ScoresHybridRecommender: URM Detected 205 ( 1.6%) users with no interactions.\n",
      "ScoresHybridRecommender: URM Detected 109 ( 0.5%) items with no interactions.\n",
      "EvaluatorHoldout: Processed 10435 (100.0%) in 7.49 sec. Users per second: 1393\n"
     ]
    },
    {
     "name": "stderr",
     "output_type": "stream",
     "text": [
      "[I 2023-12-28 23:52:46,653] Trial 215 finished with value: 0.04477846609015824 and parameters: {'alpha': 0.8995918434835024, 'beta': 0.02233057089777851}. Best is trial 135 with value: 0.045118454377439235.\n"
     ]
    },
    {
     "name": "stdout",
     "output_type": "stream",
     "text": [
      "ScoresHybridRecommender: URM Detected 205 ( 1.6%) users with no interactions.\n",
      "ScoresHybridRecommender: URM Detected 109 ( 0.5%) items with no interactions.\n",
      "EvaluatorHoldout: Processed 10435 (100.0%) in 7.47 sec. Users per second: 1397\n"
     ]
    },
    {
     "name": "stderr",
     "output_type": "stream",
     "text": [
      "[I 2023-12-28 23:52:54,156] Trial 216 finished with value: 0.04497568469969108 and parameters: {'alpha': 0.7891052792736577, 'beta': 0.024225277322332508}. Best is trial 135 with value: 0.045118454377439235.\n"
     ]
    },
    {
     "name": "stdout",
     "output_type": "stream",
     "text": [
      "ScoresHybridRecommender: URM Detected 205 ( 1.6%) users with no interactions.\n",
      "ScoresHybridRecommender: URM Detected 109 ( 0.5%) items with no interactions.\n",
      "EvaluatorHoldout: Processed 10435 (100.0%) in 7.65 sec. Users per second: 1363\n"
     ]
    },
    {
     "name": "stderr",
     "output_type": "stream",
     "text": [
      "[I 2023-12-28 23:53:01,842] Trial 217 finished with value: 0.04506471657501911 and parameters: {'alpha': 0.7503790296825077, 'beta': 0.018458869359028886}. Best is trial 135 with value: 0.045118454377439235.\n"
     ]
    },
    {
     "name": "stdout",
     "output_type": "stream",
     "text": [
      "ScoresHybridRecommender: URM Detected 205 ( 1.6%) users with no interactions.\n",
      "ScoresHybridRecommender: URM Detected 109 ( 0.5%) items with no interactions.\n",
      "EvaluatorHoldout: Processed 10435 (100.0%) in 7.42 sec. Users per second: 1406\n"
     ]
    },
    {
     "name": "stderr",
     "output_type": "stream",
     "text": [
      "[I 2023-12-28 23:53:09,293] Trial 218 finished with value: 0.044884374928697554 and parameters: {'alpha': 0.6939093632057903, 'beta': 0.04353966018792276}. Best is trial 135 with value: 0.045118454377439235.\n"
     ]
    },
    {
     "name": "stdout",
     "output_type": "stream",
     "text": [
      "ScoresHybridRecommender: URM Detected 205 ( 1.6%) users with no interactions.\n",
      "ScoresHybridRecommender: URM Detected 109 ( 0.5%) items with no interactions.\n",
      "EvaluatorHoldout: Processed 10435 (100.0%) in 7.58 sec. Users per second: 1376\n"
     ]
    },
    {
     "name": "stderr",
     "output_type": "stream",
     "text": [
      "[I 2023-12-28 23:53:16,906] Trial 219 finished with value: 0.0450394923981418 and parameters: {'alpha': 0.7578025847762686, 'beta': 0.03156157093923277}. Best is trial 135 with value: 0.045118454377439235.\n"
     ]
    },
    {
     "name": "stdout",
     "output_type": "stream",
     "text": [
      "ScoresHybridRecommender: URM Detected 205 ( 1.6%) users with no interactions.\n",
      "ScoresHybridRecommender: URM Detected 109 ( 0.5%) items with no interactions.\n",
      "EvaluatorHoldout: Processed 10435 (100.0%) in 7.65 sec. Users per second: 1364\n"
     ]
    },
    {
     "name": "stderr",
     "output_type": "stream",
     "text": [
      "[I 2023-12-28 23:53:24,593] Trial 220 finished with value: 0.04500878073638088 and parameters: {'alpha': 0.7361209478072258, 'beta': 0.008351256222649782}. Best is trial 135 with value: 0.045118454377439235.\n"
     ]
    },
    {
     "name": "stdout",
     "output_type": "stream",
     "text": [
      "ScoresHybridRecommender: URM Detected 205 ( 1.6%) users with no interactions.\n",
      "ScoresHybridRecommender: URM Detected 109 ( 0.5%) items with no interactions.\n",
      "EvaluatorHoldout: Processed 10435 (100.0%) in 7.52 sec. Users per second: 1387\n"
     ]
    },
    {
     "name": "stderr",
     "output_type": "stream",
     "text": [
      "[I 2023-12-28 23:53:32,154] Trial 221 finished with value: 0.045040811980438925 and parameters: {'alpha': 0.7516336951714443, 'beta': 0.018262009875799005}. Best is trial 135 with value: 0.045118454377439235.\n"
     ]
    },
    {
     "name": "stdout",
     "output_type": "stream",
     "text": [
      "ScoresHybridRecommender: URM Detected 205 ( 1.6%) users with no interactions.\n",
      "ScoresHybridRecommender: URM Detected 109 ( 0.5%) items with no interactions.\n",
      "EvaluatorHoldout: Processed 10435 (100.0%) in 7.45 sec. Users per second: 1400\n"
     ]
    },
    {
     "name": "stderr",
     "output_type": "stream",
     "text": [
      "[I 2023-12-28 23:53:39,642] Trial 222 finished with value: 0.04501811668606174 and parameters: {'alpha': 0.7812879604206658, 'beta': 0.022219593902777845}. Best is trial 135 with value: 0.045118454377439235.\n"
     ]
    },
    {
     "name": "stdout",
     "output_type": "stream",
     "text": [
      "ScoresHybridRecommender: URM Detected 205 ( 1.6%) users with no interactions.\n",
      "ScoresHybridRecommender: URM Detected 109 ( 0.5%) items with no interactions.\n",
      "EvaluatorHoldout: Processed 10435 (100.0%) in 7.46 sec. Users per second: 1399\n"
     ]
    },
    {
     "name": "stderr",
     "output_type": "stream",
     "text": [
      "[I 2023-12-28 23:53:47,132] Trial 223 finished with value: 0.04499142841931602 and parameters: {'alpha': 0.7241599828743293, 'beta': 0.015340469648413109}. Best is trial 135 with value: 0.045118454377439235.\n"
     ]
    },
    {
     "name": "stdout",
     "output_type": "stream",
     "text": [
      "ScoresHybridRecommender: URM Detected 205 ( 1.6%) users with no interactions.\n",
      "ScoresHybridRecommender: URM Detected 109 ( 0.5%) items with no interactions.\n",
      "EvaluatorHoldout: Processed 10435 (100.0%) in 7.41 sec. Users per second: 1408\n"
     ]
    },
    {
     "name": "stderr",
     "output_type": "stream",
     "text": [
      "[I 2023-12-28 23:53:54,579] Trial 224 finished with value: 0.045103376153209106 and parameters: {'alpha': 0.7600679485868869, 'beta': 0.025400778940665898}. Best is trial 135 with value: 0.045118454377439235.\n"
     ]
    },
    {
     "name": "stdout",
     "output_type": "stream",
     "text": [
      "ScoresHybridRecommender: URM Detected 205 ( 1.6%) users with no interactions.\n",
      "ScoresHybridRecommender: URM Detected 109 ( 0.5%) items with no interactions.\n",
      "EvaluatorHoldout: Processed 10435 (100.0%) in 7.32 sec. Users per second: 1426\n"
     ]
    },
    {
     "name": "stderr",
     "output_type": "stream",
     "text": [
      "[I 2023-12-28 23:54:01,928] Trial 225 finished with value: 0.04509640936713351 and parameters: {'alpha': 0.7680152878961102, 'beta': 0.02680801588858828}. Best is trial 135 with value: 0.045118454377439235.\n"
     ]
    },
    {
     "name": "stdout",
     "output_type": "stream",
     "text": [
      "ScoresHybridRecommender: URM Detected 205 ( 1.6%) users with no interactions.\n",
      "ScoresHybridRecommender: URM Detected 109 ( 0.5%) items with no interactions.\n",
      "EvaluatorHoldout: Processed 10435 (100.0%) in 7.46 sec. Users per second: 1399\n"
     ]
    },
    {
     "name": "stderr",
     "output_type": "stream",
     "text": [
      "[I 2023-12-28 23:54:09,420] Trial 226 finished with value: 0.044928757767282564 and parameters: {'alpha': 0.8021392428449796, 'beta': 0.025712110799751185}. Best is trial 135 with value: 0.045118454377439235.\n"
     ]
    },
    {
     "name": "stdout",
     "output_type": "stream",
     "text": [
      "ScoresHybridRecommender: URM Detected 205 ( 1.6%) users with no interactions.\n",
      "ScoresHybridRecommender: URM Detected 109 ( 0.5%) items with no interactions.\n",
      "EvaluatorHoldout: Processed 10435 (100.0%) in 7.41 sec. Users per second: 1407\n"
     ]
    },
    {
     "name": "stderr",
     "output_type": "stream",
     "text": [
      "[I 2023-12-28 23:54:16,867] Trial 227 finished with value: 0.04508723693917817 and parameters: {'alpha': 0.764675066755088, 'beta': 0.02152721296274941}. Best is trial 135 with value: 0.045118454377439235.\n"
     ]
    },
    {
     "name": "stdout",
     "output_type": "stream",
     "text": [
      "ScoresHybridRecommender: URM Detected 205 ( 1.6%) users with no interactions.\n",
      "ScoresHybridRecommender: URM Detected 109 ( 0.5%) items with no interactions.\n",
      "EvaluatorHoldout: Processed 10435 (100.0%) in 7.91 sec. Users per second: 1318\n"
     ]
    },
    {
     "name": "stderr",
     "output_type": "stream",
     "text": [
      "[I 2023-12-28 23:54:24,820] Trial 228 finished with value: 0.045000741552012016 and parameters: {'alpha': 0.7431103043529894, 'beta': 0.011799447299751256}. Best is trial 135 with value: 0.045118454377439235.\n"
     ]
    },
    {
     "name": "stdout",
     "output_type": "stream",
     "text": [
      "ScoresHybridRecommender: URM Detected 205 ( 1.6%) users with no interactions.\n",
      "ScoresHybridRecommender: URM Detected 109 ( 0.5%) items with no interactions.\n",
      "EvaluatorHoldout: Processed 10435 (100.0%) in 7.75 sec. Users per second: 1346\n"
     ]
    },
    {
     "name": "stderr",
     "output_type": "stream",
     "text": [
      "[I 2023-12-28 23:54:32,609] Trial 229 finished with value: 0.045108331241777044 and parameters: {'alpha': 0.7681372647873119, 'beta': 0.020668055803854352}. Best is trial 135 with value: 0.045118454377439235.\n"
     ]
    },
    {
     "name": "stdout",
     "output_type": "stream",
     "text": [
      "ScoresHybridRecommender: URM Detected 205 ( 1.6%) users with no interactions.\n",
      "ScoresHybridRecommender: URM Detected 109 ( 0.5%) items with no interactions.\n",
      "EvaluatorHoldout: Processed 10435 (100.0%) in 7.67 sec. Users per second: 1360\n"
     ]
    },
    {
     "name": "stderr",
     "output_type": "stream",
     "text": [
      "[I 2023-12-28 23:54:40,314] Trial 230 finished with value: 0.04510504179311145 and parameters: {'alpha': 0.7672853212714029, 'beta': 0.020966395074493556}. Best is trial 135 with value: 0.045118454377439235.\n"
     ]
    },
    {
     "name": "stdout",
     "output_type": "stream",
     "text": [
      "ScoresHybridRecommender: URM Detected 205 ( 1.6%) users with no interactions.\n",
      "ScoresHybridRecommender: URM Detected 109 ( 0.5%) items with no interactions.\n",
      "EvaluatorHoldout: Processed 10435 (100.0%) in 8.22 sec. Users per second: 1270\n"
     ]
    },
    {
     "name": "stderr",
     "output_type": "stream",
     "text": [
      "[I 2023-12-28 23:54:48,566] Trial 231 finished with value: 0.04434330815859382 and parameters: {'alpha': 0.5324388822274455, 'beta': 0.0018201745352225407}. Best is trial 135 with value: 0.045118454377439235.\n"
     ]
    },
    {
     "name": "stdout",
     "output_type": "stream",
     "text": [
      "ScoresHybridRecommender: URM Detected 205 ( 1.6%) users with no interactions.\n",
      "ScoresHybridRecommender: URM Detected 109 ( 0.5%) items with no interactions.\n",
      "EvaluatorHoldout: Processed 10435 (100.0%) in 7.75 sec. Users per second: 1346\n"
     ]
    },
    {
     "name": "stderr",
     "output_type": "stream",
     "text": [
      "[I 2023-12-28 23:54:56,354] Trial 232 finished with value: 0.04509775556924638 and parameters: {'alpha': 0.7675023291294755, 'beta': 0.022353245012153408}. Best is trial 135 with value: 0.045118454377439235.\n"
     ]
    },
    {
     "name": "stdout",
     "output_type": "stream",
     "text": [
      "ScoresHybridRecommender: URM Detected 205 ( 1.6%) users with no interactions.\n",
      "ScoresHybridRecommender: URM Detected 109 ( 0.5%) items with no interactions.\n",
      "EvaluatorHoldout: Processed 10435 (100.0%) in 8.61 sec. Users per second: 1213\n"
     ]
    },
    {
     "name": "stderr",
     "output_type": "stream",
     "text": [
      "[I 2023-12-28 23:55:05,009] Trial 233 finished with value: 0.045030742084408236 and parameters: {'alpha': 0.7735595137430871, 'beta': 0.022202398388097684}. Best is trial 135 with value: 0.045118454377439235.\n"
     ]
    },
    {
     "name": "stdout",
     "output_type": "stream",
     "text": [
      "ScoresHybridRecommender: URM Detected 205 ( 1.6%) users with no interactions.\n",
      "ScoresHybridRecommender: URM Detected 109 ( 0.5%) items with no interactions.\n",
      "EvaluatorHoldout: Processed 10435 (100.0%) in 8.47 sec. Users per second: 1231\n"
     ]
    },
    {
     "name": "stderr",
     "output_type": "stream",
     "text": [
      "[I 2023-12-28 23:55:13,535] Trial 234 finished with value: 0.04435815821297443 and parameters: {'alpha': 0.6002336943843595, 'beta': 0.0989620977384873}. Best is trial 135 with value: 0.045118454377439235.\n"
     ]
    },
    {
     "name": "stdout",
     "output_type": "stream",
     "text": [
      "ScoresHybridRecommender: URM Detected 205 ( 1.6%) users with no interactions.\n",
      "ScoresHybridRecommender: URM Detected 109 ( 0.5%) items with no interactions.\n",
      "EvaluatorHoldout: Processed 10435 (100.0%) in 8.78 sec. Users per second: 1188\n"
     ]
    },
    {
     "name": "stderr",
     "output_type": "stream",
     "text": [
      "[I 2023-12-28 23:55:22,362] Trial 235 finished with value: 0.04494216654877955 and parameters: {'alpha': 0.7944773526625021, 'beta': 0.020692684174064294}. Best is trial 135 with value: 0.045118454377439235.\n"
     ]
    },
    {
     "name": "stdout",
     "output_type": "stream",
     "text": [
      "ScoresHybridRecommender: URM Detected 205 ( 1.6%) users with no interactions.\n",
      "ScoresHybridRecommender: URM Detected 109 ( 0.5%) items with no interactions.\n",
      "EvaluatorHoldout: Processed 10435 (100.0%) in 8.19 sec. Users per second: 1274\n"
     ]
    },
    {
     "name": "stderr",
     "output_type": "stream",
     "text": [
      "[I 2023-12-28 23:55:30,596] Trial 236 finished with value: 0.044982906275432166 and parameters: {'alpha': 0.7293117116090588, 'beta': 0.011011206194368425}. Best is trial 135 with value: 0.045118454377439235.\n"
     ]
    },
    {
     "name": "stdout",
     "output_type": "stream",
     "text": [
      "ScoresHybridRecommender: URM Detected 205 ( 1.6%) users with no interactions.\n",
      "ScoresHybridRecommender: URM Detected 109 ( 0.5%) items with no interactions.\n",
      "EvaluatorHoldout: Processed 10435 (100.0%) in 8.10 sec. Users per second: 1288\n"
     ]
    },
    {
     "name": "stderr",
     "output_type": "stream",
     "text": [
      "[I 2023-12-28 23:55:38,735] Trial 237 finished with value: 0.04512424989161994 and parameters: {'alpha': 0.7638262672583308, 'beta': 0.025632876214657953}. Best is trial 237 with value: 0.04512424989161994.\n"
     ]
    },
    {
     "name": "stdout",
     "output_type": "stream",
     "text": [
      "ScoresHybridRecommender: URM Detected 205 ( 1.6%) users with no interactions.\n",
      "ScoresHybridRecommender: URM Detected 109 ( 0.5%) items with no interactions.\n",
      "EvaluatorHoldout: Processed 10435 (100.0%) in 8.01 sec. Users per second: 1302\n"
     ]
    },
    {
     "name": "stderr",
     "output_type": "stream",
     "text": [
      "[I 2023-12-28 23:55:46,783] Trial 238 finished with value: 0.04506708954145529 and parameters: {'alpha': 0.7683161352566978, 'beta': 0.024897049427999442}. Best is trial 237 with value: 0.04512424989161994.\n"
     ]
    },
    {
     "name": "stdout",
     "output_type": "stream",
     "text": [
      "ScoresHybridRecommender: URM Detected 205 ( 1.6%) users with no interactions.\n",
      "ScoresHybridRecommender: URM Detected 109 ( 0.5%) items with no interactions.\n",
      "EvaluatorHoldout: Processed 10435 (100.0%) in 8.26 sec. Users per second: 1263\n"
     ]
    },
    {
     "name": "stderr",
     "output_type": "stream",
     "text": [
      "[I 2023-12-28 23:55:55,079] Trial 239 finished with value: 0.044948239669610694 and parameters: {'alpha': 0.7908536514409802, 'beta': 0.024784042619759732}. Best is trial 237 with value: 0.04512424989161994.\n"
     ]
    },
    {
     "name": "stdout",
     "output_type": "stream",
     "text": [
      "ScoresHybridRecommender: URM Detected 205 ( 1.6%) users with no interactions.\n",
      "ScoresHybridRecommender: URM Detected 109 ( 0.5%) items with no interactions.\n",
      "EvaluatorHoldout: Processed 10435 (100.0%) in 8.80 sec. Users per second: 1185\n"
     ]
    },
    {
     "name": "stderr",
     "output_type": "stream",
     "text": [
      "[I 2023-12-28 23:56:03,928] Trial 240 finished with value: 0.04328530357998563 and parameters: {'alpha': 0.6312357474109669, 'beta': 0.1918422697273014}. Best is trial 237 with value: 0.04512424989161994.\n"
     ]
    },
    {
     "name": "stdout",
     "output_type": "stream",
     "text": [
      "ScoresHybridRecommender: URM Detected 205 ( 1.6%) users with no interactions.\n",
      "ScoresHybridRecommender: URM Detected 109 ( 0.5%) items with no interactions.\n",
      "EvaluatorHoldout: Processed 10435 (100.0%) in 9.51 sec. Users per second: 1098\n"
     ]
    },
    {
     "name": "stderr",
     "output_type": "stream",
     "text": [
      "[I 2023-12-28 23:56:13,480] Trial 241 finished with value: 0.04510529658277692 and parameters: {'alpha': 0.7578014137972698, 'beta': 0.02025436335711619}. Best is trial 237 with value: 0.04512424989161994.\n"
     ]
    },
    {
     "name": "stdout",
     "output_type": "stream",
     "text": [
      "ScoresHybridRecommender: URM Detected 205 ( 1.6%) users with no interactions.\n",
      "ScoresHybridRecommender: URM Detected 109 ( 0.5%) items with no interactions.\n",
      "EvaluatorHoldout: Processed 10435 (100.0%) in 7.92 sec. Users per second: 1318\n"
     ]
    },
    {
     "name": "stderr",
     "output_type": "stream",
     "text": [
      "[I 2023-12-28 23:56:21,432] Trial 242 finished with value: 0.045117400993300125 and parameters: {'alpha': 0.7589911875301585, 'beta': 0.020392521486758998}. Best is trial 237 with value: 0.04512424989161994.\n"
     ]
    },
    {
     "name": "stdout",
     "output_type": "stream",
     "text": [
      "ScoresHybridRecommender: URM Detected 205 ( 1.6%) users with no interactions.\n",
      "ScoresHybridRecommender: URM Detected 109 ( 0.5%) items with no interactions.\n",
      "EvaluatorHoldout: Processed 10435 (100.0%) in 8.15 sec. Users per second: 1281\n"
     ]
    },
    {
     "name": "stderr",
     "output_type": "stream",
     "text": [
      "[I 2023-12-28 23:56:29,613] Trial 243 finished with value: 0.045083095656407286 and parameters: {'alpha': 0.7646311090503367, 'beta': 0.02145819419958937}. Best is trial 237 with value: 0.04512424989161994.\n"
     ]
    },
    {
     "name": "stdout",
     "output_type": "stream",
     "text": [
      "ScoresHybridRecommender: URM Detected 205 ( 1.6%) users with no interactions.\n",
      "ScoresHybridRecommender: URM Detected 109 ( 0.5%) items with no interactions.\n",
      "EvaluatorHoldout: Processed 10435 (100.0%) in 8.04 sec. Users per second: 1299\n"
     ]
    },
    {
     "name": "stderr",
     "output_type": "stream",
     "text": [
      "[I 2023-12-28 23:56:37,687] Trial 244 finished with value: 0.0450880203223286 and parameters: {'alpha': 0.7676677011414551, 'beta': 0.02134428937782238}. Best is trial 237 with value: 0.04512424989161994.\n"
     ]
    },
    {
     "name": "stdout",
     "output_type": "stream",
     "text": [
      "ScoresHybridRecommender: URM Detected 205 ( 1.6%) users with no interactions.\n",
      "ScoresHybridRecommender: URM Detected 109 ( 0.5%) items with no interactions.\n",
      "EvaluatorHoldout: Processed 10435 (100.0%) in 8.11 sec. Users per second: 1287\n"
     ]
    },
    {
     "name": "stderr",
     "output_type": "stream",
     "text": [
      "[I 2023-12-28 23:56:45,831] Trial 245 finished with value: 0.045025167134415456 and parameters: {'alpha': 0.7784526924649496, 'beta': 0.02123694482883433}. Best is trial 237 with value: 0.04512424989161994.\n"
     ]
    },
    {
     "name": "stdout",
     "output_type": "stream",
     "text": [
      "ScoresHybridRecommender: URM Detected 205 ( 1.6%) users with no interactions.\n",
      "ScoresHybridRecommender: URM Detected 109 ( 0.5%) items with no interactions.\n",
      "EvaluatorHoldout: Processed 10435 (100.0%) in 8.57 sec. Users per second: 1217\n"
     ]
    },
    {
     "name": "stderr",
     "output_type": "stream",
     "text": [
      "[I 2023-12-28 23:56:54,444] Trial 246 finished with value: 0.04476997817175169 and parameters: {'alpha': 0.9215300530676391, 'beta': 0.02075336237286826}. Best is trial 237 with value: 0.04512424989161994.\n"
     ]
    },
    {
     "name": "stdout",
     "output_type": "stream",
     "text": [
      "ScoresHybridRecommender: URM Detected 205 ( 1.6%) users with no interactions.\n",
      "ScoresHybridRecommender: URM Detected 109 ( 0.5%) items with no interactions.\n",
      "EvaluatorHoldout: Processed 10435 (100.0%) in 8.34 sec. Users per second: 1251\n"
     ]
    },
    {
     "name": "stderr",
     "output_type": "stream",
     "text": [
      "[I 2023-12-28 23:57:02,823] Trial 247 finished with value: 0.0449455700823699 and parameters: {'alpha': 0.8000296819506846, 'beta': 0.02593476481964757}. Best is trial 237 with value: 0.04512424989161994.\n"
     ]
    },
    {
     "name": "stdout",
     "output_type": "stream",
     "text": [
      "ScoresHybridRecommender: URM Detected 205 ( 1.6%) users with no interactions.\n",
      "ScoresHybridRecommender: URM Detected 109 ( 0.5%) items with no interactions.\n",
      "EvaluatorHoldout: Processed 10435 (100.0%) in 8.55 sec. Users per second: 1220\n"
     ]
    },
    {
     "name": "stderr",
     "output_type": "stream",
     "text": [
      "[I 2023-12-28 23:57:11,426] Trial 248 finished with value: 0.044014382306189426 and parameters: {'alpha': 0.46999014954732193, 'beta': 0.06141092587756465}. Best is trial 237 with value: 0.04512424989161994.\n"
     ]
    },
    {
     "name": "stdout",
     "output_type": "stream",
     "text": [
      "ScoresHybridRecommender: URM Detected 205 ( 1.6%) users with no interactions.\n",
      "ScoresHybridRecommender: URM Detected 109 ( 0.5%) items with no interactions.\n",
      "EvaluatorHoldout: Processed 10435 (100.0%) in 8.60 sec. Users per second: 1214\n"
     ]
    },
    {
     "name": "stderr",
     "output_type": "stream",
     "text": [
      "[I 2023-12-28 23:57:20,064] Trial 249 finished with value: 0.045021322472449096 and parameters: {'alpha': 0.7625440224091731, 'beta': 0.01489929829766555}. Best is trial 237 with value: 0.04512424989161994.\n"
     ]
    },
    {
     "name": "stdout",
     "output_type": "stream",
     "text": [
      "ScoresHybridRecommender: URM Detected 205 ( 1.6%) users with no interactions.\n",
      "ScoresHybridRecommender: URM Detected 109 ( 0.5%) items with no interactions.\n",
      "EvaluatorHoldout: Processed 10435 (100.0%) in 8.19 sec. Users per second: 1274\n"
     ]
    },
    {
     "name": "stderr",
     "output_type": "stream",
     "text": [
      "[I 2023-12-28 23:57:28,286] Trial 250 finished with value: 0.04490513077935281 and parameters: {'alpha': 0.8170581165231903, 'beta': 0.021807812091128642}. Best is trial 237 with value: 0.04512424989161994.\n"
     ]
    },
    {
     "name": "stdout",
     "output_type": "stream",
     "text": [
      "ScoresHybridRecommender: URM Detected 205 ( 1.6%) users with no interactions.\n",
      "ScoresHybridRecommender: URM Detected 109 ( 0.5%) items with no interactions.\n",
      "EvaluatorHoldout: Processed 10435 (100.0%) in 8.40 sec. Users per second: 1242\n"
     ]
    },
    {
     "name": "stderr",
     "output_type": "stream",
     "text": [
      "[I 2023-12-28 23:57:36,727] Trial 251 finished with value: 0.04495903970916016 and parameters: {'alpha': 0.7790955473601049, 'beta': 0.01690093267463611}. Best is trial 237 with value: 0.04512424989161994.\n"
     ]
    },
    {
     "name": "stdout",
     "output_type": "stream",
     "text": [
      "ScoresHybridRecommender: URM Detected 205 ( 1.6%) users with no interactions.\n",
      "ScoresHybridRecommender: URM Detected 109 ( 0.5%) items with no interactions.\n",
      "EvaluatorHoldout: Processed 10435 (100.0%) in 8.14 sec. Users per second: 1282\n"
     ]
    },
    {
     "name": "stderr",
     "output_type": "stream",
     "text": [
      "[I 2023-12-28 23:57:44,904] Trial 252 finished with value: 0.04505683330671413 and parameters: {'alpha': 0.7614979713696257, 'beta': 0.03190653476604214}. Best is trial 237 with value: 0.04512424989161994.\n"
     ]
    },
    {
     "name": "stdout",
     "output_type": "stream",
     "text": [
      "ScoresHybridRecommender: URM Detected 205 ( 1.6%) users with no interactions.\n",
      "ScoresHybridRecommender: URM Detected 109 ( 0.5%) items with no interactions.\n",
      "EvaluatorHoldout: Processed 10435 (100.0%) in 8.56 sec. Users per second: 1219\n"
     ]
    },
    {
     "name": "stderr",
     "output_type": "stream",
     "text": [
      "[I 2023-12-28 23:57:53,511] Trial 253 finished with value: 0.04500746875974549 and parameters: {'alpha': 0.7288264860435056, 'beta': 0.034973084401511985}. Best is trial 237 with value: 0.04512424989161994.\n"
     ]
    },
    {
     "name": "stdout",
     "output_type": "stream",
     "text": [
      "ScoresHybridRecommender: URM Detected 205 ( 1.6%) users with no interactions.\n",
      "ScoresHybridRecommender: URM Detected 109 ( 0.5%) items with no interactions.\n",
      "EvaluatorHoldout: Processed 10435 (100.0%) in 9.27 sec. Users per second: 1126\n"
     ]
    },
    {
     "name": "stderr",
     "output_type": "stream",
     "text": [
      "[I 2023-12-28 23:58:02,826] Trial 254 finished with value: 0.04497620949034524 and parameters: {'alpha': 0.7893664155249276, 'beta': 0.024518564014914798}. Best is trial 237 with value: 0.04512424989161994.\n"
     ]
    },
    {
     "name": "stdout",
     "output_type": "stream",
     "text": [
      "ScoresHybridRecommender: URM Detected 205 ( 1.6%) users with no interactions.\n",
      "ScoresHybridRecommender: URM Detected 109 ( 0.5%) items with no interactions.\n",
      "EvaluatorHoldout: Processed 10435 (100.0%) in 8.22 sec. Users per second: 1270\n"
     ]
    },
    {
     "name": "stderr",
     "output_type": "stream",
     "text": [
      "[I 2023-12-28 23:58:11,080] Trial 255 finished with value: 0.04486056920771888 and parameters: {'alpha': 0.8109162023488202, 'beta': 0.02126934784384861}. Best is trial 237 with value: 0.04512424989161994.\n"
     ]
    },
    {
     "name": "stdout",
     "output_type": "stream",
     "text": [
      "ScoresHybridRecommender: URM Detected 205 ( 1.6%) users with no interactions.\n",
      "ScoresHybridRecommender: URM Detected 109 ( 0.5%) items with no interactions.\n",
      "EvaluatorHoldout: Processed 10435 (100.0%) in 7.88 sec. Users per second: 1324\n"
     ]
    },
    {
     "name": "stderr",
     "output_type": "stream",
     "text": [
      "[I 2023-12-28 23:58:18,995] Trial 256 finished with value: 0.045017200203832326 and parameters: {'alpha': 0.7627982510655386, 'beta': 0.014318170081037142}. Best is trial 237 with value: 0.04512424989161994.\n"
     ]
    },
    {
     "name": "stdout",
     "output_type": "stream",
     "text": [
      "ScoresHybridRecommender: URM Detected 205 ( 1.6%) users with no interactions.\n",
      "ScoresHybridRecommender: URM Detected 109 ( 0.5%) items with no interactions.\n",
      "EvaluatorHoldout: Processed 10435 (100.0%) in 7.87 sec. Users per second: 1326\n"
     ]
    },
    {
     "name": "stderr",
     "output_type": "stream",
     "text": [
      "[I 2023-12-28 23:58:26,895] Trial 257 finished with value: 0.04491341334489467 and parameters: {'alpha': 0.7109448693581337, 'beta': 0.00860843699916576}. Best is trial 237 with value: 0.04512424989161994.\n"
     ]
    },
    {
     "name": "stdout",
     "output_type": "stream",
     "text": [
      "ScoresHybridRecommender: URM Detected 205 ( 1.6%) users with no interactions.\n",
      "ScoresHybridRecommender: URM Detected 109 ( 0.5%) items with no interactions.\n",
      "EvaluatorHoldout: Processed 10435 (100.0%) in 8.17 sec. Users per second: 1277\n"
     ]
    },
    {
     "name": "stderr",
     "output_type": "stream",
     "text": [
      "[I 2023-12-28 23:58:35,099] Trial 258 finished with value: 0.0451125904123036 and parameters: {'alpha': 0.7487706666303047, 'beta': 0.029547313244923712}. Best is trial 237 with value: 0.04512424989161994.\n"
     ]
    },
    {
     "name": "stdout",
     "output_type": "stream",
     "text": [
      "ScoresHybridRecommender: URM Detected 205 ( 1.6%) users with no interactions.\n",
      "ScoresHybridRecommender: URM Detected 109 ( 0.5%) items with no interactions.\n",
      "EvaluatorHoldout: Processed 10435 (100.0%) in 8.26 sec. Users per second: 1264\n"
     ]
    },
    {
     "name": "stderr",
     "output_type": "stream",
     "text": [
      "[I 2023-12-28 23:58:43,391] Trial 259 finished with value: 0.03776908070367631 and parameters: {'alpha': 0.010328095460453768, 'beta': 0.07843318110083677}. Best is trial 237 with value: 0.04512424989161994.\n"
     ]
    },
    {
     "name": "stdout",
     "output_type": "stream",
     "text": [
      "ScoresHybridRecommender: URM Detected 205 ( 1.6%) users with no interactions.\n",
      "ScoresHybridRecommender: URM Detected 109 ( 0.5%) items with no interactions.\n",
      "EvaluatorHoldout: Processed 10435 (100.0%) in 8.03 sec. Users per second: 1300\n"
     ]
    },
    {
     "name": "stderr",
     "output_type": "stream",
     "text": [
      "[I 2023-12-28 23:58:51,455] Trial 260 finished with value: 0.0449004761144202 and parameters: {'alpha': 0.8360126356621007, 'beta': 0.02695985254066845}. Best is trial 237 with value: 0.04512424989161994.\n"
     ]
    },
    {
     "name": "stdout",
     "output_type": "stream",
     "text": [
      "ScoresHybridRecommender: URM Detected 205 ( 1.6%) users with no interactions.\n",
      "ScoresHybridRecommender: URM Detected 109 ( 0.5%) items with no interactions.\n",
      "EvaluatorHoldout: Processed 10435 (100.0%) in 7.90 sec. Users per second: 1321\n"
     ]
    },
    {
     "name": "stderr",
     "output_type": "stream",
     "text": [
      "[I 2023-12-28 23:58:59,386] Trial 261 finished with value: 0.04502362698793048 and parameters: {'alpha': 0.7397596030864425, 'beta': 0.032890021268345865}. Best is trial 237 with value: 0.04512424989161994.\n"
     ]
    },
    {
     "name": "stdout",
     "output_type": "stream",
     "text": [
      "ScoresHybridRecommender: URM Detected 205 ( 1.6%) users with no interactions.\n",
      "ScoresHybridRecommender: URM Detected 109 ( 0.5%) items with no interactions.\n",
      "EvaluatorHoldout: Processed 10435 (100.0%) in 7.77 sec. Users per second: 1343\n"
     ]
    },
    {
     "name": "stderr",
     "output_type": "stream",
     "text": [
      "[I 2023-12-28 23:59:07,191] Trial 262 finished with value: 0.04499310166487996 and parameters: {'alpha': 0.7846037038170712, 'beta': 0.028710701945771803}. Best is trial 237 with value: 0.04512424989161994.\n"
     ]
    },
    {
     "name": "stdout",
     "output_type": "stream",
     "text": [
      "ScoresHybridRecommender: URM Detected 205 ( 1.6%) users with no interactions.\n",
      "ScoresHybridRecommender: URM Detected 109 ( 0.5%) items with no interactions.\n",
      "EvaluatorHoldout: Processed 10435 (100.0%) in 8.03 sec. Users per second: 1299\n"
     ]
    },
    {
     "name": "stderr",
     "output_type": "stream",
     "text": [
      "[I 2023-12-28 23:59:15,262] Trial 263 finished with value: 0.04504210494292015 and parameters: {'alpha': 0.7430352133207895, 'beta': 0.014279415569302064}. Best is trial 237 with value: 0.04512424989161994.\n"
     ]
    },
    {
     "name": "stdout",
     "output_type": "stream",
     "text": [
      "ScoresHybridRecommender: URM Detected 205 ( 1.6%) users with no interactions.\n",
      "ScoresHybridRecommender: URM Detected 109 ( 0.5%) items with no interactions.\n",
      "EvaluatorHoldout: Processed 10435 (100.0%) in 8.00 sec. Users per second: 1304\n"
     ]
    },
    {
     "name": "stderr",
     "output_type": "stream",
     "text": [
      "[I 2023-12-28 23:59:23,304] Trial 264 finished with value: 0.04496456141952131 and parameters: {'alpha': 0.7208485419736639, 'beta': 0.038233494699131496}. Best is trial 237 with value: 0.04512424989161994.\n"
     ]
    },
    {
     "name": "stdout",
     "output_type": "stream",
     "text": [
      "ScoresHybridRecommender: URM Detected 205 ( 1.6%) users with no interactions.\n",
      "ScoresHybridRecommender: URM Detected 109 ( 0.5%) items with no interactions.\n",
      "EvaluatorHoldout: Processed 10435 (100.0%) in 8.25 sec. Users per second: 1264\n"
     ]
    },
    {
     "name": "stderr",
     "output_type": "stream",
     "text": [
      "[I 2023-12-28 23:59:31,600] Trial 265 finished with value: 0.04480435195959929 and parameters: {'alpha': 0.757247389004038, 'beta': 0.07086747974874194}. Best is trial 237 with value: 0.04512424989161994.\n"
     ]
    },
    {
     "name": "stdout",
     "output_type": "stream",
     "text": [
      "ScoresHybridRecommender: URM Detected 205 ( 1.6%) users with no interactions.\n",
      "ScoresHybridRecommender: URM Detected 109 ( 0.5%) items with no interactions.\n",
      "EvaluatorHoldout: Processed 10435 (100.0%) in 8.18 sec. Users per second: 1276\n"
     ]
    },
    {
     "name": "stderr",
     "output_type": "stream",
     "text": [
      "[I 2023-12-28 23:59:39,812] Trial 266 finished with value: 0.04480728774499808 and parameters: {'alpha': 0.6622418175452789, 'beta': 0.00019783105859716085}. Best is trial 237 with value: 0.04512424989161994.\n"
     ]
    },
    {
     "name": "stdout",
     "output_type": "stream",
     "text": [
      "ScoresHybridRecommender: URM Detected 205 ( 1.6%) users with no interactions.\n",
      "ScoresHybridRecommender: URM Detected 109 ( 0.5%) items with no interactions.\n",
      "EvaluatorHoldout: Processed 10435 (100.0%) in 7.87 sec. Users per second: 1326\n"
     ]
    },
    {
     "name": "stderr",
     "output_type": "stream",
     "text": [
      "[I 2023-12-28 23:59:47,716] Trial 267 finished with value: 0.044566180664887586 and parameters: {'alpha': 0.57627800284215, 'beta': 0.04757409075699047}. Best is trial 237 with value: 0.04512424989161994.\n"
     ]
    },
    {
     "name": "stdout",
     "output_type": "stream",
     "text": [
      "ScoresHybridRecommender: URM Detected 205 ( 1.6%) users with no interactions.\n",
      "ScoresHybridRecommender: URM Detected 109 ( 0.5%) items with no interactions.\n",
      "EvaluatorHoldout: Processed 10435 (100.0%) in 8.05 sec. Users per second: 1297\n"
     ]
    },
    {
     "name": "stderr",
     "output_type": "stream",
     "text": [
      "[I 2023-12-28 23:59:55,808] Trial 268 finished with value: 0.04479148698291079 and parameters: {'alpha': 0.8556134574370798, 'beta': 0.024032597062954835}. Best is trial 237 with value: 0.04512424989161994.\n"
     ]
    },
    {
     "name": "stdout",
     "output_type": "stream",
     "text": [
      "ScoresHybridRecommender: URM Detected 205 ( 1.6%) users with no interactions.\n",
      "ScoresHybridRecommender: URM Detected 109 ( 0.5%) items with no interactions.\n",
      "EvaluatorHoldout: Processed 10435 (100.0%) in 8.17 sec. Users per second: 1278\n"
     ]
    },
    {
     "name": "stderr",
     "output_type": "stream",
     "text": [
      "[I 2023-12-29 00:00:04,012] Trial 269 finished with value: 0.04486866163171937 and parameters: {'alpha': 0.8031649879046793, 'beta': 0.018223099055804888}. Best is trial 237 with value: 0.04512424989161994.\n"
     ]
    },
    {
     "name": "stdout",
     "output_type": "stream",
     "text": [
      "ScoresHybridRecommender: URM Detected 205 ( 1.6%) users with no interactions.\n",
      "ScoresHybridRecommender: URM Detected 109 ( 0.5%) items with no interactions.\n",
      "EvaluatorHoldout: Processed 10435 (100.0%) in 8.06 sec. Users per second: 1294\n"
     ]
    },
    {
     "name": "stderr",
     "output_type": "stream",
     "text": [
      "[I 2023-12-29 00:00:12,113] Trial 270 finished with value: 0.04502801545470505 and parameters: {'alpha': 0.7784573668281181, 'beta': 0.029560042826884885}. Best is trial 237 with value: 0.04512424989161994.\n"
     ]
    },
    {
     "name": "stdout",
     "output_type": "stream",
     "text": [
      "ScoresHybridRecommender: URM Detected 205 ( 1.6%) users with no interactions.\n",
      "ScoresHybridRecommender: URM Detected 109 ( 0.5%) items with no interactions.\n",
      "EvaluatorHoldout: Processed 10435 (100.0%) in 8.08 sec. Users per second: 1292\n"
     ]
    },
    {
     "name": "stderr",
     "output_type": "stream",
     "text": [
      "[I 2023-12-29 00:00:20,219] Trial 271 finished with value: 0.04503138856564899 and parameters: {'alpha': 0.7349209433266994, 'beta': 0.008773627544035772}. Best is trial 237 with value: 0.04512424989161994.\n"
     ]
    },
    {
     "name": "stdout",
     "output_type": "stream",
     "text": [
      "ScoresHybridRecommender: URM Detected 205 ( 1.6%) users with no interactions.\n",
      "ScoresHybridRecommender: URM Detected 109 ( 0.5%) items with no interactions.\n",
      "EvaluatorHoldout: Processed 10435 (100.0%) in 8.02 sec. Users per second: 1301\n"
     ]
    },
    {
     "name": "stderr",
     "output_type": "stream",
     "text": [
      "[I 2023-12-29 00:00:28,276] Trial 272 finished with value: 0.044948197838471635 and parameters: {'alpha': 0.7070776643360057, 'beta': 0.03912996922094105}. Best is trial 237 with value: 0.04512424989161994.\n"
     ]
    },
    {
     "name": "stdout",
     "output_type": "stream",
     "text": [
      "ScoresHybridRecommender: URM Detected 205 ( 1.6%) users with no interactions.\n",
      "ScoresHybridRecommender: URM Detected 109 ( 0.5%) items with no interactions.\n",
      "EvaluatorHoldout: Processed 10435 (100.0%) in 7.97 sec. Users per second: 1309\n"
     ]
    },
    {
     "name": "stderr",
     "output_type": "stream",
     "text": [
      "[I 2023-12-29 00:00:36,290] Trial 273 finished with value: 0.04507517055696325 and parameters: {'alpha': 0.7560550690816418, 'beta': 0.028232007371301042}. Best is trial 237 with value: 0.04512424989161994.\n"
     ]
    },
    {
     "name": "stdout",
     "output_type": "stream",
     "text": [
      "ScoresHybridRecommender: URM Detected 205 ( 1.6%) users with no interactions.\n",
      "ScoresHybridRecommender: URM Detected 109 ( 0.5%) items with no interactions.\n",
      "EvaluatorHoldout: Processed 10435 (100.0%) in 8.02 sec. Users per second: 1302\n"
     ]
    },
    {
     "name": "stderr",
     "output_type": "stream",
     "text": [
      "[I 2023-12-29 00:00:44,343] Trial 274 finished with value: 0.04499307504506419 and parameters: {'alpha': 0.7750671094370462, 'beta': 0.017120099566537088}. Best is trial 237 with value: 0.04512424989161994.\n"
     ]
    },
    {
     "name": "stdout",
     "output_type": "stream",
     "text": [
      "ScoresHybridRecommender: URM Detected 205 ( 1.6%) users with no interactions.\n",
      "ScoresHybridRecommender: URM Detected 109 ( 0.5%) items with no interactions.\n",
      "EvaluatorHoldout: Processed 10435 (100.0%) in 7.91 sec. Users per second: 1319\n"
     ]
    },
    {
     "name": "stderr",
     "output_type": "stream",
     "text": [
      "[I 2023-12-29 00:00:52,285] Trial 275 finished with value: 0.04427478494991733 and parameters: {'alpha': 0.9868690376440601, 'beta': 0.0020320543238500867}. Best is trial 237 with value: 0.04512424989161994.\n"
     ]
    },
    {
     "name": "stdout",
     "output_type": "stream",
     "text": [
      "ScoresHybridRecommender: URM Detected 205 ( 1.6%) users with no interactions.\n",
      "ScoresHybridRecommender: URM Detected 109 ( 0.5%) items with no interactions.\n",
      "EvaluatorHoldout: Processed 10435 (100.0%) in 7.98 sec. Users per second: 1307\n"
     ]
    },
    {
     "name": "stderr",
     "output_type": "stream",
     "text": [
      "[I 2023-12-29 00:01:00,305] Trial 276 finished with value: 0.04462000212958587 and parameters: {'alpha': 0.941871980135787, 'beta': 0.019836812541100982}. Best is trial 237 with value: 0.04512424989161994.\n"
     ]
    },
    {
     "name": "stdout",
     "output_type": "stream",
     "text": [
      "ScoresHybridRecommender: URM Detected 205 ( 1.6%) users with no interactions.\n",
      "ScoresHybridRecommender: URM Detected 109 ( 0.5%) items with no interactions.\n",
      "EvaluatorHoldout: Processed 10435 (100.0%) in 8.02 sec. Users per second: 1301\n"
     ]
    },
    {
     "name": "stderr",
     "output_type": "stream",
     "text": [
      "[I 2023-12-29 00:01:08,362] Trial 277 finished with value: 0.044935625679756626 and parameters: {'alpha': 0.7962862856736038, 'beta': 0.025636471519826363}. Best is trial 237 with value: 0.04512424989161994.\n"
     ]
    },
    {
     "name": "stdout",
     "output_type": "stream",
     "text": [
      "ScoresHybridRecommender: URM Detected 205 ( 1.6%) users with no interactions.\n",
      "ScoresHybridRecommender: URM Detected 109 ( 0.5%) items with no interactions.\n",
      "EvaluatorHoldout: Processed 10435 (100.0%) in 7.85 sec. Users per second: 1330\n"
     ]
    },
    {
     "name": "stderr",
     "output_type": "stream",
     "text": [
      "[I 2023-12-29 00:01:16,245] Trial 278 finished with value: 0.04498285683863136 and parameters: {'alpha': 0.7446871871005264, 'beta': 0.03548713069353192}. Best is trial 237 with value: 0.04512424989161994.\n"
     ]
    },
    {
     "name": "stdout",
     "output_type": "stream",
     "text": [
      "ScoresHybridRecommender: URM Detected 205 ( 1.6%) users with no interactions.\n",
      "ScoresHybridRecommender: URM Detected 109 ( 0.5%) items with no interactions.\n",
      "EvaluatorHoldout: Processed 10435 (100.0%) in 7.95 sec. Users per second: 1313\n"
     ]
    },
    {
     "name": "stderr",
     "output_type": "stream",
     "text": [
      "[I 2023-12-29 00:01:24,225] Trial 279 finished with value: 0.044885945497829316 and parameters: {'alpha': 0.8333918543847154, 'beta': 0.022886472318806847}. Best is trial 237 with value: 0.04512424989161994.\n"
     ]
    },
    {
     "name": "stdout",
     "output_type": "stream",
     "text": [
      "ScoresHybridRecommender: URM Detected 205 ( 1.6%) users with no interactions.\n",
      "ScoresHybridRecommender: URM Detected 109 ( 0.5%) items with no interactions.\n",
      "EvaluatorHoldout: Processed 10435 (100.0%) in 8.00 sec. Users per second: 1305\n"
     ]
    },
    {
     "name": "stderr",
     "output_type": "stream",
     "text": [
      "[I 2023-12-29 00:01:32,258] Trial 280 finished with value: 0.04217569458705122 and parameters: {'alpha': 0.6872259032063055, 'beta': 0.27865011233682047}. Best is trial 237 with value: 0.04512424989161994.\n"
     ]
    },
    {
     "name": "stdout",
     "output_type": "stream",
     "text": [
      "ScoresHybridRecommender: URM Detected 205 ( 1.6%) users with no interactions.\n",
      "ScoresHybridRecommender: URM Detected 109 ( 0.5%) items with no interactions.\n",
      "EvaluatorHoldout: Processed 10435 (100.0%) in 8.21 sec. Users per second: 1271\n"
     ]
    },
    {
     "name": "stderr",
     "output_type": "stream",
     "text": [
      "[I 2023-12-29 00:01:40,499] Trial 281 finished with value: 0.04499360363854924 and parameters: {'alpha': 0.7262306431200057, 'beta': 0.011344452116625985}. Best is trial 237 with value: 0.04512424989161994.\n"
     ]
    },
    {
     "name": "stdout",
     "output_type": "stream",
     "text": [
      "ScoresHybridRecommender: URM Detected 205 ( 1.6%) users with no interactions.\n",
      "ScoresHybridRecommender: URM Detected 109 ( 0.5%) items with no interactions.\n",
      "EvaluatorHoldout: Processed 10435 (100.0%) in 8.02 sec. Users per second: 1300\n"
     ]
    },
    {
     "name": "stderr",
     "output_type": "stream",
     "text": [
      "[I 2023-12-29 00:01:48,557] Trial 282 finished with value: 0.04504675580502185 and parameters: {'alpha': 0.769711524158295, 'beta': 0.030814902519740093}. Best is trial 237 with value: 0.04512424989161994.\n"
     ]
    },
    {
     "name": "stdout",
     "output_type": "stream",
     "text": [
      "ScoresHybridRecommender: URM Detected 205 ( 1.6%) users with no interactions.\n",
      "ScoresHybridRecommender: URM Detected 109 ( 0.5%) items with no interactions.\n",
      "EvaluatorHoldout: Processed 10435 (100.0%) in 7.96 sec. Users per second: 1312\n"
     ]
    },
    {
     "name": "stderr",
     "output_type": "stream",
     "text": [
      "[I 2023-12-29 00:01:56,550] Trial 283 finished with value: 0.04494350894806157 and parameters: {'alpha': 0.8106628852399413, 'beta': 0.025668748334746232}. Best is trial 237 with value: 0.04512424989161994.\n"
     ]
    },
    {
     "name": "stdout",
     "output_type": "stream",
     "text": [
      "ScoresHybridRecommender: URM Detected 205 ( 1.6%) users with no interactions.\n",
      "ScoresHybridRecommender: URM Detected 109 ( 0.5%) items with no interactions.\n",
      "EvaluatorHoldout: Processed 10435 (100.0%) in 7.95 sec. Users per second: 1312\n"
     ]
    },
    {
     "name": "stderr",
     "output_type": "stream",
     "text": [
      "[I 2023-12-29 00:02:04,539] Trial 284 finished with value: 0.04503527505875438 and parameters: {'alpha': 0.7610868510127868, 'beta': 0.016442896446091034}. Best is trial 237 with value: 0.04512424989161994.\n"
     ]
    },
    {
     "name": "stdout",
     "output_type": "stream",
     "text": [
      "ScoresHybridRecommender: URM Detected 205 ( 1.6%) users with no interactions.\n",
      "ScoresHybridRecommender: URM Detected 109 ( 0.5%) items with no interactions.\n",
      "EvaluatorHoldout: Processed 10435 (100.0%) in 8.17 sec. Users per second: 1277\n"
     ]
    },
    {
     "name": "stderr",
     "output_type": "stream",
     "text": [
      "[I 2023-12-29 00:02:12,742] Trial 285 finished with value: 0.04499763463922604 and parameters: {'alpha': 0.7869524780692557, 'beta': 0.019865141676360346}. Best is trial 237 with value: 0.04512424989161994.\n"
     ]
    },
    {
     "name": "stdout",
     "output_type": "stream",
     "text": [
      "ScoresHybridRecommender: URM Detected 205 ( 1.6%) users with no interactions.\n",
      "ScoresHybridRecommender: URM Detected 109 ( 0.5%) items with no interactions.\n",
      "EvaluatorHoldout: Processed 10435 (100.0%) in 7.92 sec. Users per second: 1318\n"
     ]
    },
    {
     "name": "stderr",
     "output_type": "stream",
     "text": [
      "[I 2023-12-29 00:02:20,700] Trial 286 finished with value: 0.04499866140354945 and parameters: {'alpha': 0.7373167373138249, 'beta': 0.0328802412847888}. Best is trial 237 with value: 0.04512424989161994.\n"
     ]
    },
    {
     "name": "stdout",
     "output_type": "stream",
     "text": [
      "ScoresHybridRecommender: URM Detected 205 ( 1.6%) users with no interactions.\n",
      "ScoresHybridRecommender: URM Detected 109 ( 0.5%) items with no interactions.\n",
      "EvaluatorHoldout: Processed 10435 (100.0%) in 7.98 sec. Users per second: 1307\n"
     ]
    },
    {
     "name": "stderr",
     "output_type": "stream",
     "text": [
      "[I 2023-12-29 00:02:28,725] Trial 287 finished with value: 0.04342719860664352 and parameters: {'alpha': 0.386901146929548, 'beta': 0.05108117937223445}. Best is trial 237 with value: 0.04512424989161994.\n"
     ]
    },
    {
     "name": "stdout",
     "output_type": "stream",
     "text": [
      "ScoresHybridRecommender: URM Detected 205 ( 1.6%) users with no interactions.\n",
      "ScoresHybridRecommender: URM Detected 109 ( 0.5%) items with no interactions.\n",
      "EvaluatorHoldout: Processed 10435 (100.0%) in 7.97 sec. Users per second: 1309\n"
     ]
    },
    {
     "name": "stderr",
     "output_type": "stream",
     "text": [
      "[I 2023-12-29 00:02:36,736] Trial 288 finished with value: 0.04451923852115573 and parameters: {'alpha': 0.9655066361662791, 'beta': 0.020409715339206415}. Best is trial 237 with value: 0.04512424989161994.\n"
     ]
    },
    {
     "name": "stdout",
     "output_type": "stream",
     "text": [
      "ScoresHybridRecommender: URM Detected 205 ( 1.6%) users with no interactions.\n",
      "ScoresHybridRecommender: URM Detected 109 ( 0.5%) items with no interactions.\n",
      "EvaluatorHoldout: Processed 10435 (100.0%) in 7.93 sec. Users per second: 1315\n"
     ]
    },
    {
     "name": "stderr",
     "output_type": "stream",
     "text": [
      "[I 2023-12-29 00:02:44,705] Trial 289 finished with value: 0.044932009187639926 and parameters: {'alpha': 0.7043186669061199, 'beta': 0.04157259195092358}. Best is trial 237 with value: 0.04512424989161994.\n"
     ]
    },
    {
     "name": "stdout",
     "output_type": "stream",
     "text": [
      "ScoresHybridRecommender: URM Detected 205 ( 1.6%) users with no interactions.\n",
      "ScoresHybridRecommender: URM Detected 109 ( 0.5%) items with no interactions.\n",
      "EvaluatorHoldout: Processed 10435 (100.0%) in 7.95 sec. Users per second: 1312\n"
     ]
    },
    {
     "name": "stderr",
     "output_type": "stream",
     "text": [
      "[I 2023-12-29 00:02:52,692] Trial 290 finished with value: 0.04503610787870552 and parameters: {'alpha': 0.7508320364681598, 'beta': 0.013500651442241138}. Best is trial 237 with value: 0.04512424989161994.\n"
     ]
    },
    {
     "name": "stdout",
     "output_type": "stream",
     "text": [
      "ScoresHybridRecommender: URM Detected 205 ( 1.6%) users with no interactions.\n",
      "ScoresHybridRecommender: URM Detected 109 ( 0.5%) items with no interactions.\n",
      "EvaluatorHoldout: Processed 10435 (100.0%) in 7.95 sec. Users per second: 1312\n"
     ]
    },
    {
     "name": "stderr",
     "output_type": "stream",
     "text": [
      "[I 2023-12-29 00:03:00,682] Trial 291 finished with value: 0.045034970832288156 and parameters: {'alpha': 0.7796879795261172, 'beta': 0.02599985905348871}. Best is trial 237 with value: 0.04512424989161994.\n"
     ]
    },
    {
     "name": "stdout",
     "output_type": "stream",
     "text": [
      "ScoresHybridRecommender: URM Detected 205 ( 1.6%) users with no interactions.\n",
      "ScoresHybridRecommender: URM Detected 109 ( 0.5%) items with no interactions.\n",
      "EvaluatorHoldout: Processed 10435 (100.0%) in 7.94 sec. Users per second: 1315\n"
     ]
    },
    {
     "name": "stderr",
     "output_type": "stream",
     "text": [
      "[I 2023-12-29 00:03:08,658] Trial 292 finished with value: 0.044746161042280554 and parameters: {'alpha': 0.919527936574145, 'beta': 0.022950781257831405}. Best is trial 237 with value: 0.04512424989161994.\n"
     ]
    },
    {
     "name": "stdout",
     "output_type": "stream",
     "text": [
      "ScoresHybridRecommender: URM Detected 205 ( 1.6%) users with no interactions.\n",
      "ScoresHybridRecommender: URM Detected 109 ( 0.5%) items with no interactions.\n",
      "EvaluatorHoldout: Processed 10435 (100.0%) in 8.02 sec. Users per second: 1300\n"
     ]
    },
    {
     "name": "stderr",
     "output_type": "stream",
     "text": [
      "[I 2023-12-29 00:03:16,717] Trial 293 finished with value: 0.044954567580107324 and parameters: {'alpha': 0.7172273523920385, 'beta': 0.009302150106933726}. Best is trial 237 with value: 0.04512424989161994.\n"
     ]
    },
    {
     "name": "stdout",
     "output_type": "stream",
     "text": [
      "ScoresHybridRecommender: URM Detected 205 ( 1.6%) users with no interactions.\n",
      "ScoresHybridRecommender: URM Detected 109 ( 0.5%) items with no interactions.\n",
      "EvaluatorHoldout: Processed 10435 (100.0%) in 7.85 sec. Users per second: 1329\n"
     ]
    },
    {
     "name": "stderr",
     "output_type": "stream",
     "text": [
      "[I 2023-12-29 00:03:24,607] Trial 294 finished with value: 0.0449082567062928 and parameters: {'alpha': 0.8172680718254389, 'beta': 0.024231708496955662}. Best is trial 237 with value: 0.04512424989161994.\n"
     ]
    },
    {
     "name": "stdout",
     "output_type": "stream",
     "text": [
      "ScoresHybridRecommender: URM Detected 205 ( 1.6%) users with no interactions.\n",
      "ScoresHybridRecommender: URM Detected 109 ( 0.5%) items with no interactions.\n",
      "EvaluatorHoldout: Processed 10435 (100.0%) in 7.93 sec. Users per second: 1315\n"
     ]
    },
    {
     "name": "stderr",
     "output_type": "stream",
     "text": [
      "[I 2023-12-29 00:03:32,576] Trial 295 finished with value: 0.04463538077745136 and parameters: {'alpha': 0.606054760020382, 'beta': 0.048257235786715896}. Best is trial 237 with value: 0.04512424989161994.\n"
     ]
    },
    {
     "name": "stdout",
     "output_type": "stream",
     "text": [
      "ScoresHybridRecommender: URM Detected 205 ( 1.6%) users with no interactions.\n",
      "ScoresHybridRecommender: URM Detected 109 ( 0.5%) items with no interactions.\n",
      "EvaluatorHoldout: Processed 10435 (100.0%) in 7.98 sec. Users per second: 1307\n"
     ]
    },
    {
     "name": "stderr",
     "output_type": "stream",
     "text": [
      "[I 2023-12-29 00:03:40,594] Trial 296 finished with value: 0.04508061240787707 and parameters: {'alpha': 0.7603957371149329, 'beta': 0.030179210062120248}. Best is trial 237 with value: 0.04512424989161994.\n"
     ]
    },
    {
     "name": "stdout",
     "output_type": "stream",
     "text": [
      "ScoresHybridRecommender: URM Detected 205 ( 1.6%) users with no interactions.\n",
      "ScoresHybridRecommender: URM Detected 109 ( 0.5%) items with no interactions.\n",
      "EvaluatorHoldout: Processed 10435 (100.0%) in 7.88 sec. Users per second: 1324\n"
     ]
    },
    {
     "name": "stderr",
     "output_type": "stream",
     "text": [
      "[I 2023-12-29 00:03:48,508] Trial 297 finished with value: 0.044747233440573936 and parameters: {'alpha': 0.8841239348320113, 'beta': 0.022915301886995126}. Best is trial 237 with value: 0.04512424989161994.\n"
     ]
    },
    {
     "name": "stdout",
     "output_type": "stream",
     "text": [
      "ScoresHybridRecommender: URM Detected 205 ( 1.6%) users with no interactions.\n",
      "ScoresHybridRecommender: URM Detected 109 ( 0.5%) items with no interactions.\n",
      "EvaluatorHoldout: Processed 10435 (100.0%) in 8.02 sec. Users per second: 1301\n"
     ]
    },
    {
     "name": "stderr",
     "output_type": "stream",
     "text": [
      "[I 2023-12-29 00:03:56,559] Trial 298 finished with value: 0.04481631186255121 and parameters: {'alpha': 0.6443567972622943, 'beta': 0.04273559976118576}. Best is trial 237 with value: 0.04512424989161994.\n"
     ]
    },
    {
     "name": "stdout",
     "output_type": "stream",
     "text": [
      "ScoresHybridRecommender: URM Detected 205 ( 1.6%) users with no interactions.\n",
      "ScoresHybridRecommender: URM Detected 109 ( 0.5%) items with no interactions.\n",
      "EvaluatorHoldout: Processed 10435 (100.0%) in 8.12 sec. Users per second: 1286\n"
     ]
    },
    {
     "name": "stderr",
     "output_type": "stream",
     "text": [
      "[I 2023-12-29 00:04:04,710] Trial 299 finished with value: 0.04488646648565257 and parameters: {'alpha': 0.7938575992228958, 'beta': 0.017541590099143235}. Best is trial 237 with value: 0.04512424989161994.\n"
     ]
    }
   ],
   "source": [
    "study_name = \"knn-multvae-ials-study\"  # Unique identifier of the study.\n",
    "storage_name = \"sqlite:///db.db\"\n",
    "#op.delete_study(study_name, storage_name)\n",
    "study = op.create_study(study_name=study_name, storage=storage_name, direction=\"maximize\", load_if_exists=True)\n",
    "study.optimize(objective, n_trials=100)"
   ],
   "metadata": {
    "collapsed": false,
    "ExecuteTime": {
     "end_time": "2023-12-28T21:04:04.716277Z",
     "start_time": "2023-12-28T20:50:45.450937Z"
    }
   },
   "id": "932910b333072bf8"
  },
  {
   "cell_type": "code",
   "execution_count": 12,
   "outputs": [
    {
     "data": {
      "text/plain": "{'alpha': 0.7509279131476281, 'beta': 0.028318614437090585}"
     },
     "execution_count": 12,
     "metadata": {},
     "output_type": "execute_result"
    }
   ],
   "source": [
    "study.best_params"
   ],
   "metadata": {
    "collapsed": false,
    "ExecuteTime": {
     "end_time": "2023-12-28T20:34:06.252547Z",
     "start_time": "2023-12-28T20:34:06.230139Z"
    }
   },
   "id": "4f5abc04ab181a28"
  }
 ],
 "metadata": {
  "kernelspec": {
   "display_name": "Python 3",
   "language": "python",
   "name": "python3"
  },
  "language_info": {
   "codemirror_mode": {
    "name": "ipython",
    "version": 2
   },
   "file_extension": ".py",
   "mimetype": "text/x-python",
   "name": "python",
   "nbconvert_exporter": "python",
   "pygments_lexer": "ipython2",
   "version": "2.7.6"
  }
 },
 "nbformat": 4,
 "nbformat_minor": 5
}
