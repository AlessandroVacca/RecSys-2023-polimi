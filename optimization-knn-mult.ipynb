{
 "cells": [
  {
   "cell_type": "code",
   "execution_count": 1,
   "id": "initial_id",
   "metadata": {
    "collapsed": true,
    "jupyter": {
     "outputs_hidden": true
    },
    "ExecuteTime": {
     "end_time": "2023-12-27T19:39:46.082511Z",
     "start_time": "2023-12-27T19:39:44.398199Z"
    }
   },
   "outputs": [
    {
     "name": "stdout",
     "output_type": "stream",
     "text": [
      "Warning: 228 (1.80 %) of 12638 users have no train items\n",
      "Warning: 2171 (17.18 %) of 12638 users have no sampled items\n"
     ]
    }
   ],
   "source": [
    "from Data_manager.UserUtils import *\n",
    "from Data_manager.split_functions.split_train_validation_random_holdout import \\\n",
    "    split_train_in_two_percentage_global_sample\n",
    "URM_all = getURM_all()\n",
    "URM_train, URM_validation = split_train_in_two_percentage_global_sample(URM_all, train_percentage = 0.80)"
   ]
  },
  {
   "cell_type": "code",
   "execution_count": 2,
   "outputs": [
    {
     "name": "stdout",
     "output_type": "stream",
     "text": [
      "UserKNNCFRecommender: URM Detected 228 ( 1.8%) users with no interactions.\n",
      "UserKNNCFRecommender: URM Detected 110 ( 0.5%) items with no interactions.\n",
      "ItemKNNCFRecommender: URM Detected 228 ( 1.8%) users with no interactions.\n",
      "ItemKNNCFRecommender: URM Detected 110 ( 0.5%) items with no interactions.\n"
     ]
    }
   ],
   "source": [
    "from Recommenders.KNN.ItemKNNCFRecommender import ItemKNNCFRecommender\n",
    "from Recommenders.KNN.UserKNNCFRecommender import UserKNNCFRecommender\n",
    "\n",
    "userknn = UserKNNCFRecommender(URM_train)\n",
    "itemknn = ItemKNNCFRecommender(URM_train)"
   ],
   "metadata": {
    "collapsed": false,
    "ExecuteTime": {
     "end_time": "2023-12-27T19:39:46.093807Z",
     "start_time": "2023-12-27T19:39:46.081553Z"
    }
   },
   "id": "6c8df27dd21a2c7b"
  },
  {
   "cell_type": "code",
   "execution_count": 3,
   "outputs": [
    {
     "name": "stdout",
     "output_type": "stream",
     "text": [
      "Similarity column 12638 (100.0%), 9598.41 column/sec. Elapsed time 1.32 sec\n",
      "Similarity column 22222 (100.0%), 10069.25 column/sec. Elapsed time 2.21 sec\n"
     ]
    }
   ],
   "source": [
    "userknn.fit(topK=469, shrink=38, similarity='asymmetric', normalize=True,\n",
    "                                       feature_weighting='TF-IDF', asymmetric_alpha=0.40077406933762383)\n",
    "itemknn.fit(topK=31, shrink=435, similarity='tversky', normalize=True,\n",
    "                                       feature_weighting='BM25', tversky_alpha=0.17113169506422393, tversky_beta=0.5684024974085575)"
   ],
   "metadata": {
    "collapsed": false,
    "ExecuteTime": {
     "end_time": "2023-12-27T19:39:51.972101Z",
     "start_time": "2023-12-27T19:39:48.305099Z"
    }
   },
   "id": "2f35abd5e093566e"
  },
  {
   "cell_type": "code",
   "execution_count": 4,
   "outputs": [
    {
     "name": "stdout",
     "output_type": "stream",
     "text": [
      "EvaluatorHoldout: Ignoring 2171 (17.2%) Users that have less than 1 test interactions\n"
     ]
    }
   ],
   "source": [
    "from Evaluation.Evaluator import EvaluatorHoldout\n",
    "\n",
    "evaluator_validation = EvaluatorHoldout(URM_validation, cutoff_list=[10])"
   ],
   "metadata": {
    "collapsed": false,
    "ExecuteTime": {
     "end_time": "2023-12-27T19:39:51.984058Z",
     "start_time": "2023-12-27T19:39:51.971653Z"
    }
   },
   "id": "d59e901214c7ed10"
  },
  {
   "cell_type": "code",
   "execution_count": 5,
   "outputs": [
    {
     "name": "stdout",
     "output_type": "stream",
     "text": [
      "TwoScoresHybridRecommender: URM Detected 228 ( 1.8%) users with no interactions.\n",
      "TwoScoresHybridRecommender: URM Detected 110 ( 0.5%) items with no interactions.\n"
     ]
    }
   ],
   "source": [
    "from Hybrid import TwoScoresHybridRecommender\n",
    "knn = TwoScoresHybridRecommender(URM_train, userknn, itemknn)\n",
    "knn.fit(alpha=0.022195783788315104)"
   ],
   "metadata": {
    "collapsed": false,
    "ExecuteTime": {
     "end_time": "2023-12-27T19:39:54.527940Z",
     "start_time": "2023-12-27T19:39:54.097788Z"
    }
   },
   "id": "64f8fe6b25af10ff"
  },
  {
   "cell_type": "code",
   "execution_count": 6,
   "outputs": [
    {
     "name": "stdout",
     "output_type": "stream",
     "text": [
      "MultVAERecommender: URM Detected 228 ( 1.8%) users with no interactions.\n",
      "MultVAERecommender: URM Detected 110 ( 0.5%) items with no interactions.\n",
      "MultVAERecommender: Architecture: [460, 22222]\n",
      "MultVAERecommender: Using default Temp folder './result_experiments/__Temp_MultVAERecommender_11750/'\n"
     ]
    },
    {
     "name": "stderr",
     "output_type": "stream",
     "text": [
      "2023-12-27 22:40:18.769528: I metal_plugin/src/device/metal_device.cc:1154] Metal device set to: Apple M1 Pro\n",
      "2023-12-27 22:40:18.769551: I metal_plugin/src/device/metal_device.cc:296] systemMemory: 16.00 GB\n",
      "2023-12-27 22:40:18.769557: I metal_plugin/src/device/metal_device.cc:313] maxCacheSize: 5.33 GB\n",
      "2023-12-27 22:40:18.769592: I tensorflow/core/common_runtime/pluggable_device/pluggable_device_factory.cc:306] Could not identify NUMA node of platform GPU ID 0, defaulting to 0. Your kernel may not have been built with NUMA support.\n",
      "2023-12-27 22:40:18.769608: I tensorflow/core/common_runtime/pluggable_device/pluggable_device_factory.cc:272] Created TensorFlow device (/job:localhost/replica:0/task:0/device:GPU:0 with 0 MB memory) -> physical PluggableDevice (device: 0, name: METAL, pci bus id: <undefined>)\n",
      "2023-12-27 22:40:18.861579: I tensorflow/compiler/mlir/mlir_graph_optimization_pass.cc:388] MLIR V1 optimization pass is not enabled\n",
      "2023-12-27 22:40:18.864415: I tensorflow/core/grappler/optimizers/custom_graph_optimizer_registry.cc:117] Plugin optimizer for device_type GPU is enabled.\n"
     ]
    },
    {
     "name": "stdout",
     "output_type": "stream",
     "text": [
      "MultVAERecommender: Saving model in file './result_experiments/__Temp_MultVAERecommender_11750/_best_model'\n",
      "MultVAERecommender: Saving complete\n",
      "MultVAERecommender: Epoch 1 of 300. Elapsed time 11.51 sec\n",
      "MultVAERecommender: Epoch 2 of 300. Elapsed time 15.08 sec\n",
      "MultVAERecommender: Epoch 3 of 300. Elapsed time 18.56 sec\n",
      "MultVAERecommender: Epoch 4 of 300. Elapsed time 22.01 sec\n",
      "MultVAERecommender: Epoch 5 of 300. Elapsed time 25.49 sec\n",
      "MultVAERecommender: Epoch 6 of 300. Elapsed time 28.96 sec\n",
      "MultVAERecommender: Epoch 7 of 300. Elapsed time 32.34 sec\n",
      "MultVAERecommender: Epoch 8 of 300. Elapsed time 35.73 sec\n",
      "MultVAERecommender: Epoch 9 of 300. Elapsed time 39.14 sec\n",
      "MultVAERecommender: Epoch 10 of 300. Elapsed time 42.57 sec\n",
      "MultVAERecommender: Epoch 11 of 300. Elapsed time 45.97 sec\n",
      "MultVAERecommender: Epoch 12 of 300. Elapsed time 49.36 sec\n",
      "MultVAERecommender: Epoch 13 of 300. Elapsed time 52.82 sec\n",
      "MultVAERecommender: Epoch 14 of 300. Elapsed time 56.36 sec\n",
      "MultVAERecommender: Epoch 15 of 300. Elapsed time 59.91 sec\n",
      "MultVAERecommender: Epoch 16 of 300. Elapsed time 1.06 min\n",
      "MultVAERecommender: Epoch 17 of 300. Elapsed time 1.12 min\n",
      "MultVAERecommender: Epoch 18 of 300. Elapsed time 1.17 min\n",
      "MultVAERecommender: Epoch 19 of 300. Elapsed time 1.23 min\n",
      "MultVAERecommender: Epoch 20 of 300. Elapsed time 1.29 min\n",
      "MultVAERecommender: Epoch 21 of 300. Elapsed time 1.35 min\n",
      "MultVAERecommender: Epoch 22 of 300. Elapsed time 1.40 min\n",
      "MultVAERecommender: Epoch 23 of 300. Elapsed time 1.46 min\n",
      "MultVAERecommender: Epoch 24 of 300. Elapsed time 1.52 min\n",
      "MultVAERecommender: Epoch 25 of 300. Elapsed time 1.57 min\n",
      "MultVAERecommender: Epoch 26 of 300. Elapsed time 1.63 min\n",
      "MultVAERecommender: Epoch 27 of 300. Elapsed time 1.69 min\n",
      "MultVAERecommender: Epoch 28 of 300. Elapsed time 1.74 min\n",
      "MultVAERecommender: Epoch 29 of 300. Elapsed time 1.80 min\n",
      "MultVAERecommender: Epoch 30 of 300. Elapsed time 1.86 min\n",
      "MultVAERecommender: Epoch 31 of 300. Elapsed time 1.92 min\n",
      "MultVAERecommender: Epoch 32 of 300. Elapsed time 1.97 min\n",
      "MultVAERecommender: Epoch 33 of 300. Elapsed time 2.03 min\n",
      "MultVAERecommender: Epoch 34 of 300. Elapsed time 2.09 min\n",
      "MultVAERecommender: Epoch 35 of 300. Elapsed time 2.15 min\n",
      "MultVAERecommender: Epoch 36 of 300. Elapsed time 2.20 min\n",
      "MultVAERecommender: Epoch 37 of 300. Elapsed time 2.26 min\n",
      "MultVAERecommender: Epoch 38 of 300. Elapsed time 2.32 min\n",
      "MultVAERecommender: Epoch 39 of 300. Elapsed time 2.37 min\n",
      "MultVAERecommender: Epoch 40 of 300. Elapsed time 2.43 min\n",
      "MultVAERecommender: Epoch 41 of 300. Elapsed time 2.49 min\n",
      "MultVAERecommender: Epoch 42 of 300. Elapsed time 2.54 min\n",
      "MultVAERecommender: Epoch 43 of 300. Elapsed time 2.60 min\n",
      "MultVAERecommender: Epoch 44 of 300. Elapsed time 2.65 min\n",
      "MultVAERecommender: Epoch 45 of 300. Elapsed time 2.71 min\n",
      "MultVAERecommender: Epoch 46 of 300. Elapsed time 2.77 min\n",
      "MultVAERecommender: Epoch 47 of 300. Elapsed time 2.82 min\n",
      "MultVAERecommender: Epoch 48 of 300. Elapsed time 2.88 min\n",
      "MultVAERecommender: Epoch 49 of 300. Elapsed time 2.93 min\n",
      "MultVAERecommender: Epoch 50 of 300. Elapsed time 2.99 min\n",
      "MultVAERecommender: Epoch 51 of 300. Elapsed time 3.05 min\n",
      "MultVAERecommender: Epoch 52 of 300. Elapsed time 3.10 min\n",
      "MultVAERecommender: Epoch 53 of 300. Elapsed time 3.16 min\n",
      "MultVAERecommender: Epoch 54 of 300. Elapsed time 3.21 min\n",
      "MultVAERecommender: Epoch 55 of 300. Elapsed time 3.27 min\n",
      "MultVAERecommender: Epoch 56 of 300. Elapsed time 3.33 min\n",
      "MultVAERecommender: Epoch 57 of 300. Elapsed time 3.38 min\n",
      "MultVAERecommender: Epoch 58 of 300. Elapsed time 3.44 min\n",
      "MultVAERecommender: Epoch 59 of 300. Elapsed time 3.50 min\n",
      "MultVAERecommender: Epoch 60 of 300. Elapsed time 3.55 min\n",
      "MultVAERecommender: Epoch 61 of 300. Elapsed time 3.61 min\n",
      "MultVAERecommender: Epoch 62 of 300. Elapsed time 3.66 min\n",
      "MultVAERecommender: Epoch 63 of 300. Elapsed time 3.72 min\n",
      "MultVAERecommender: Epoch 64 of 300. Elapsed time 3.78 min\n",
      "MultVAERecommender: Epoch 65 of 300. Elapsed time 3.83 min\n",
      "MultVAERecommender: Epoch 66 of 300. Elapsed time 3.89 min\n",
      "MultVAERecommender: Epoch 67 of 300. Elapsed time 3.95 min\n",
      "MultVAERecommender: Epoch 68 of 300. Elapsed time 4.00 min\n",
      "MultVAERecommender: Epoch 69 of 300. Elapsed time 4.06 min\n",
      "MultVAERecommender: Epoch 70 of 300. Elapsed time 4.11 min\n",
      "MultVAERecommender: Epoch 71 of 300. Elapsed time 4.17 min\n",
      "MultVAERecommender: Epoch 72 of 300. Elapsed time 4.23 min\n",
      "MultVAERecommender: Epoch 73 of 300. Elapsed time 4.28 min\n",
      "MultVAERecommender: Epoch 74 of 300. Elapsed time 4.34 min\n",
      "MultVAERecommender: Epoch 75 of 300. Elapsed time 4.40 min\n",
      "MultVAERecommender: Epoch 76 of 300. Elapsed time 4.45 min\n",
      "MultVAERecommender: Epoch 77 of 300. Elapsed time 4.51 min\n",
      "MultVAERecommender: Epoch 78 of 300. Elapsed time 4.56 min\n",
      "MultVAERecommender: Epoch 79 of 300. Elapsed time 4.62 min\n",
      "MultVAERecommender: Epoch 80 of 300. Elapsed time 4.68 min\n",
      "MultVAERecommender: Epoch 81 of 300. Elapsed time 4.73 min\n",
      "MultVAERecommender: Epoch 82 of 300. Elapsed time 4.79 min\n",
      "MultVAERecommender: Epoch 83 of 300. Elapsed time 4.85 min\n",
      "MultVAERecommender: Epoch 84 of 300. Elapsed time 4.90 min\n",
      "MultVAERecommender: Epoch 85 of 300. Elapsed time 4.96 min\n",
      "MultVAERecommender: Epoch 86 of 300. Elapsed time 5.01 min\n",
      "MultVAERecommender: Epoch 87 of 300. Elapsed time 5.07 min\n",
      "MultVAERecommender: Epoch 88 of 300. Elapsed time 5.13 min\n",
      "MultVAERecommender: Epoch 89 of 300. Elapsed time 5.18 min\n",
      "MultVAERecommender: Epoch 90 of 300. Elapsed time 5.24 min\n",
      "MultVAERecommender: Epoch 91 of 300. Elapsed time 5.30 min\n",
      "MultVAERecommender: Epoch 92 of 300. Elapsed time 5.35 min\n",
      "MultVAERecommender: Epoch 93 of 300. Elapsed time 5.41 min\n",
      "MultVAERecommender: Epoch 94 of 300. Elapsed time 5.46 min\n",
      "MultVAERecommender: Epoch 95 of 300. Elapsed time 5.52 min\n",
      "MultVAERecommender: Epoch 96 of 300. Elapsed time 5.58 min\n",
      "MultVAERecommender: Epoch 97 of 300. Elapsed time 5.63 min\n",
      "MultVAERecommender: Epoch 98 of 300. Elapsed time 5.69 min\n",
      "MultVAERecommender: Epoch 99 of 300. Elapsed time 5.75 min\n",
      "MultVAERecommender: Epoch 100 of 300. Elapsed time 5.80 min\n",
      "MultVAERecommender: Epoch 101 of 300. Elapsed time 5.86 min\n",
      "MultVAERecommender: Epoch 102 of 300. Elapsed time 5.91 min\n",
      "MultVAERecommender: Epoch 103 of 300. Elapsed time 5.97 min\n",
      "MultVAERecommender: Epoch 104 of 300. Elapsed time 6.03 min\n",
      "MultVAERecommender: Epoch 105 of 300. Elapsed time 6.08 min\n",
      "MultVAERecommender: Epoch 106 of 300. Elapsed time 6.14 min\n",
      "MultVAERecommender: Epoch 107 of 300. Elapsed time 6.19 min\n",
      "MultVAERecommender: Epoch 108 of 300. Elapsed time 6.25 min\n",
      "MultVAERecommender: Epoch 109 of 300. Elapsed time 6.31 min\n",
      "MultVAERecommender: Epoch 110 of 300. Elapsed time 6.36 min\n",
      "MultVAERecommender: Epoch 111 of 300. Elapsed time 6.42 min\n",
      "MultVAERecommender: Epoch 112 of 300. Elapsed time 6.48 min\n",
      "MultVAERecommender: Epoch 113 of 300. Elapsed time 6.54 min\n",
      "MultVAERecommender: Epoch 114 of 300. Elapsed time 6.59 min\n",
      "MultVAERecommender: Epoch 115 of 300. Elapsed time 6.65 min\n",
      "MultVAERecommender: Epoch 116 of 300. Elapsed time 6.71 min\n",
      "MultVAERecommender: Epoch 117 of 300. Elapsed time 6.77 min\n",
      "MultVAERecommender: Epoch 118 of 300. Elapsed time 6.82 min\n",
      "MultVAERecommender: Epoch 119 of 300. Elapsed time 6.88 min\n",
      "MultVAERecommender: Epoch 120 of 300. Elapsed time 6.94 min\n",
      "MultVAERecommender: Epoch 121 of 300. Elapsed time 7.00 min\n",
      "MultVAERecommender: Epoch 122 of 300. Elapsed time 7.06 min\n",
      "MultVAERecommender: Epoch 123 of 300. Elapsed time 7.11 min\n",
      "MultVAERecommender: Epoch 124 of 300. Elapsed time 7.17 min\n",
      "MultVAERecommender: Epoch 125 of 300. Elapsed time 7.23 min\n",
      "MultVAERecommender: Epoch 126 of 300. Elapsed time 7.29 min\n",
      "MultVAERecommender: Epoch 127 of 300. Elapsed time 7.35 min\n",
      "MultVAERecommender: Epoch 128 of 300. Elapsed time 7.41 min\n",
      "MultVAERecommender: Epoch 129 of 300. Elapsed time 7.46 min\n",
      "MultVAERecommender: Epoch 130 of 300. Elapsed time 7.52 min\n",
      "MultVAERecommender: Epoch 131 of 300. Elapsed time 7.58 min\n",
      "MultVAERecommender: Epoch 132 of 300. Elapsed time 7.64 min\n",
      "MultVAERecommender: Epoch 133 of 300. Elapsed time 7.70 min\n",
      "MultVAERecommender: Epoch 134 of 300. Elapsed time 7.76 min\n",
      "MultVAERecommender: Epoch 135 of 300. Elapsed time 7.81 min\n",
      "MultVAERecommender: Epoch 136 of 300. Elapsed time 7.87 min\n",
      "MultVAERecommender: Epoch 137 of 300. Elapsed time 7.93 min\n",
      "MultVAERecommender: Epoch 138 of 300. Elapsed time 8.00 min\n",
      "MultVAERecommender: Epoch 139 of 300. Elapsed time 8.05 min\n",
      "MultVAERecommender: Epoch 140 of 300. Elapsed time 8.11 min\n",
      "MultVAERecommender: Epoch 141 of 300. Elapsed time 8.17 min\n",
      "MultVAERecommender: Epoch 142 of 300. Elapsed time 8.22 min\n",
      "MultVAERecommender: Epoch 143 of 300. Elapsed time 8.28 min\n",
      "MultVAERecommender: Epoch 144 of 300. Elapsed time 8.33 min\n",
      "MultVAERecommender: Epoch 145 of 300. Elapsed time 8.39 min\n",
      "MultVAERecommender: Epoch 146 of 300. Elapsed time 8.44 min\n",
      "MultVAERecommender: Epoch 147 of 300. Elapsed time 8.50 min\n",
      "MultVAERecommender: Epoch 148 of 300. Elapsed time 8.56 min\n",
      "MultVAERecommender: Epoch 149 of 300. Elapsed time 8.61 min\n",
      "MultVAERecommender: Epoch 150 of 300. Elapsed time 8.67 min\n",
      "MultVAERecommender: Epoch 151 of 300. Elapsed time 8.73 min\n",
      "MultVAERecommender: Epoch 152 of 300. Elapsed time 8.78 min\n",
      "MultVAERecommender: Epoch 153 of 300. Elapsed time 8.84 min\n",
      "MultVAERecommender: Epoch 154 of 300. Elapsed time 8.90 min\n",
      "MultVAERecommender: Epoch 155 of 300. Elapsed time 8.96 min\n",
      "MultVAERecommender: Epoch 156 of 300. Elapsed time 9.02 min\n",
      "MultVAERecommender: Epoch 157 of 300. Elapsed time 9.08 min\n",
      "MultVAERecommender: Epoch 158 of 300. Elapsed time 9.14 min\n",
      "MultVAERecommender: Epoch 159 of 300. Elapsed time 9.19 min\n",
      "MultVAERecommender: Epoch 160 of 300. Elapsed time 9.25 min\n",
      "MultVAERecommender: Epoch 161 of 300. Elapsed time 9.30 min\n",
      "MultVAERecommender: Epoch 162 of 300. Elapsed time 9.36 min\n",
      "MultVAERecommender: Epoch 163 of 300. Elapsed time 9.42 min\n",
      "MultVAERecommender: Epoch 164 of 300. Elapsed time 9.48 min\n",
      "MultVAERecommender: Epoch 165 of 300. Elapsed time 9.53 min\n",
      "MultVAERecommender: Epoch 166 of 300. Elapsed time 9.59 min\n",
      "MultVAERecommender: Epoch 167 of 300. Elapsed time 9.64 min\n",
      "MultVAERecommender: Epoch 168 of 300. Elapsed time 9.70 min\n",
      "MultVAERecommender: Epoch 169 of 300. Elapsed time 9.75 min\n",
      "MultVAERecommender: Epoch 170 of 300. Elapsed time 9.81 min\n",
      "MultVAERecommender: Epoch 171 of 300. Elapsed time 9.86 min\n",
      "MultVAERecommender: Epoch 172 of 300. Elapsed time 9.92 min\n",
      "MultVAERecommender: Epoch 173 of 300. Elapsed time 9.98 min\n",
      "MultVAERecommender: Epoch 174 of 300. Elapsed time 10.04 min\n",
      "MultVAERecommender: Epoch 175 of 300. Elapsed time 10.10 min\n",
      "MultVAERecommender: Epoch 176 of 300. Elapsed time 10.15 min\n",
      "MultVAERecommender: Epoch 177 of 300. Elapsed time 10.21 min\n",
      "MultVAERecommender: Epoch 178 of 300. Elapsed time 10.26 min\n",
      "MultVAERecommender: Epoch 179 of 300. Elapsed time 10.32 min\n",
      "MultVAERecommender: Epoch 180 of 300. Elapsed time 10.38 min\n",
      "MultVAERecommender: Epoch 181 of 300. Elapsed time 10.44 min\n",
      "MultVAERecommender: Epoch 182 of 300. Elapsed time 10.50 min\n",
      "MultVAERecommender: Epoch 183 of 300. Elapsed time 10.56 min\n",
      "MultVAERecommender: Epoch 184 of 300. Elapsed time 10.62 min\n",
      "MultVAERecommender: Epoch 185 of 300. Elapsed time 10.68 min\n",
      "MultVAERecommender: Epoch 186 of 300. Elapsed time 10.73 min\n",
      "MultVAERecommender: Epoch 187 of 300. Elapsed time 10.79 min\n",
      "MultVAERecommender: Epoch 188 of 300. Elapsed time 10.84 min\n",
      "MultVAERecommender: Epoch 189 of 300. Elapsed time 10.90 min\n",
      "MultVAERecommender: Epoch 190 of 300. Elapsed time 10.96 min\n",
      "MultVAERecommender: Epoch 191 of 300. Elapsed time 11.01 min\n",
      "MultVAERecommender: Epoch 192 of 300. Elapsed time 11.07 min\n",
      "MultVAERecommender: Epoch 193 of 300. Elapsed time 11.12 min\n",
      "MultVAERecommender: Epoch 194 of 300. Elapsed time 11.18 min\n",
      "MultVAERecommender: Epoch 195 of 300. Elapsed time 11.23 min\n",
      "MultVAERecommender: Epoch 196 of 300. Elapsed time 11.29 min\n",
      "MultVAERecommender: Epoch 197 of 300. Elapsed time 11.35 min\n",
      "MultVAERecommender: Epoch 198 of 300. Elapsed time 11.42 min\n",
      "MultVAERecommender: Epoch 199 of 300. Elapsed time 11.48 min\n",
      "MultVAERecommender: Epoch 200 of 300. Elapsed time 11.54 min\n",
      "MultVAERecommender: Epoch 201 of 300. Elapsed time 11.60 min\n",
      "MultVAERecommender: Epoch 202 of 300. Elapsed time 11.67 min\n",
      "MultVAERecommender: Epoch 203 of 300. Elapsed time 11.73 min\n",
      "MultVAERecommender: Epoch 204 of 300. Elapsed time 11.79 min\n",
      "MultVAERecommender: Epoch 205 of 300. Elapsed time 11.85 min\n",
      "MultVAERecommender: Epoch 206 of 300. Elapsed time 11.92 min\n",
      "MultVAERecommender: Epoch 207 of 300. Elapsed time 11.98 min\n",
      "MultVAERecommender: Epoch 208 of 300. Elapsed time 12.04 min\n",
      "MultVAERecommender: Epoch 209 of 300. Elapsed time 12.10 min\n",
      "MultVAERecommender: Epoch 210 of 300. Elapsed time 12.17 min\n",
      "MultVAERecommender: Epoch 211 of 300. Elapsed time 12.23 min\n",
      "MultVAERecommender: Epoch 212 of 300. Elapsed time 12.29 min\n",
      "MultVAERecommender: Epoch 213 of 300. Elapsed time 12.34 min\n",
      "MultVAERecommender: Epoch 214 of 300. Elapsed time 12.40 min\n",
      "MultVAERecommender: Epoch 215 of 300. Elapsed time 12.45 min\n",
      "MultVAERecommender: Epoch 216 of 300. Elapsed time 12.51 min\n",
      "MultVAERecommender: Epoch 217 of 300. Elapsed time 12.57 min\n",
      "MultVAERecommender: Epoch 218 of 300. Elapsed time 12.63 min\n",
      "MultVAERecommender: Epoch 219 of 300. Elapsed time 12.68 min\n",
      "MultVAERecommender: Epoch 220 of 300. Elapsed time 12.74 min\n",
      "MultVAERecommender: Epoch 221 of 300. Elapsed time 12.79 min\n",
      "MultVAERecommender: Epoch 222 of 300. Elapsed time 12.85 min\n",
      "MultVAERecommender: Epoch 223 of 300. Elapsed time 12.90 min\n",
      "MultVAERecommender: Epoch 224 of 300. Elapsed time 12.96 min\n",
      "MultVAERecommender: Epoch 225 of 300. Elapsed time 13.01 min\n",
      "MultVAERecommender: Epoch 226 of 300. Elapsed time 13.07 min\n",
      "MultVAERecommender: Epoch 227 of 300. Elapsed time 13.13 min\n",
      "MultVAERecommender: Epoch 228 of 300. Elapsed time 13.18 min\n",
      "MultVAERecommender: Epoch 229 of 300. Elapsed time 13.24 min\n",
      "MultVAERecommender: Epoch 230 of 300. Elapsed time 13.30 min\n",
      "MultVAERecommender: Epoch 231 of 300. Elapsed time 13.36 min\n",
      "MultVAERecommender: Epoch 232 of 300. Elapsed time 13.42 min\n",
      "MultVAERecommender: Epoch 233 of 300. Elapsed time 13.48 min\n",
      "MultVAERecommender: Epoch 234 of 300. Elapsed time 13.53 min\n",
      "MultVAERecommender: Epoch 235 of 300. Elapsed time 13.59 min\n",
      "MultVAERecommender: Epoch 236 of 300. Elapsed time 13.64 min\n",
      "MultVAERecommender: Epoch 237 of 300. Elapsed time 13.69 min\n",
      "MultVAERecommender: Epoch 238 of 300. Elapsed time 13.75 min\n",
      "MultVAERecommender: Epoch 239 of 300. Elapsed time 13.80 min\n",
      "MultVAERecommender: Epoch 240 of 300. Elapsed time 13.86 min\n",
      "MultVAERecommender: Epoch 241 of 300. Elapsed time 13.91 min\n",
      "MultVAERecommender: Epoch 242 of 300. Elapsed time 13.97 min\n",
      "MultVAERecommender: Epoch 243 of 300. Elapsed time 14.03 min\n",
      "MultVAERecommender: Epoch 244 of 300. Elapsed time 14.08 min\n",
      "MultVAERecommender: Epoch 245 of 300. Elapsed time 14.14 min\n",
      "MultVAERecommender: Epoch 246 of 300. Elapsed time 14.20 min\n",
      "MultVAERecommender: Epoch 247 of 300. Elapsed time 14.26 min\n",
      "MultVAERecommender: Epoch 248 of 300. Elapsed time 14.32 min\n",
      "MultVAERecommender: Epoch 249 of 300. Elapsed time 14.38 min\n",
      "MultVAERecommender: Epoch 250 of 300. Elapsed time 14.44 min\n",
      "MultVAERecommender: Epoch 251 of 300. Elapsed time 14.49 min\n",
      "MultVAERecommender: Epoch 252 of 300. Elapsed time 14.55 min\n",
      "MultVAERecommender: Epoch 253 of 300. Elapsed time 14.61 min\n",
      "MultVAERecommender: Epoch 254 of 300. Elapsed time 14.67 min\n",
      "MultVAERecommender: Epoch 255 of 300. Elapsed time 14.73 min\n",
      "MultVAERecommender: Epoch 256 of 300. Elapsed time 14.78 min\n",
      "MultVAERecommender: Epoch 257 of 300. Elapsed time 14.84 min\n",
      "MultVAERecommender: Epoch 258 of 300. Elapsed time 14.89 min\n",
      "MultVAERecommender: Epoch 259 of 300. Elapsed time 14.95 min\n",
      "MultVAERecommender: Epoch 260 of 300. Elapsed time 15.00 min\n",
      "MultVAERecommender: Epoch 261 of 300. Elapsed time 15.06 min\n",
      "MultVAERecommender: Epoch 262 of 300. Elapsed time 15.12 min\n",
      "MultVAERecommender: Epoch 263 of 300. Elapsed time 15.18 min\n",
      "MultVAERecommender: Epoch 264 of 300. Elapsed time 15.23 min\n",
      "MultVAERecommender: Epoch 265 of 300. Elapsed time 15.29 min\n",
      "MultVAERecommender: Epoch 266 of 300. Elapsed time 15.34 min\n",
      "MultVAERecommender: Epoch 267 of 300. Elapsed time 15.39 min\n",
      "MultVAERecommender: Epoch 268 of 300. Elapsed time 15.45 min\n",
      "MultVAERecommender: Epoch 269 of 300. Elapsed time 15.50 min\n",
      "MultVAERecommender: Epoch 270 of 300. Elapsed time 15.56 min\n",
      "MultVAERecommender: Epoch 271 of 300. Elapsed time 15.61 min\n",
      "MultVAERecommender: Epoch 272 of 300. Elapsed time 15.67 min\n",
      "MultVAERecommender: Epoch 273 of 300. Elapsed time 15.72 min\n",
      "MultVAERecommender: Epoch 274 of 300. Elapsed time 15.78 min\n",
      "MultVAERecommender: Epoch 275 of 300. Elapsed time 15.84 min\n",
      "MultVAERecommender: Epoch 276 of 300. Elapsed time 15.89 min\n",
      "MultVAERecommender: Epoch 277 of 300. Elapsed time 15.95 min\n",
      "MultVAERecommender: Epoch 278 of 300. Elapsed time 16.01 min\n",
      "MultVAERecommender: Epoch 279 of 300. Elapsed time 16.06 min\n",
      "MultVAERecommender: Epoch 280 of 300. Elapsed time 16.12 min\n",
      "MultVAERecommender: Epoch 281 of 300. Elapsed time 16.18 min\n",
      "MultVAERecommender: Epoch 282 of 300. Elapsed time 16.24 min\n",
      "MultVAERecommender: Epoch 283 of 300. Elapsed time 16.29 min\n",
      "MultVAERecommender: Epoch 284 of 300. Elapsed time 16.35 min\n",
      "MultVAERecommender: Epoch 285 of 300. Elapsed time 16.40 min\n",
      "MultVAERecommender: Epoch 286 of 300. Elapsed time 16.46 min\n",
      "MultVAERecommender: Epoch 287 of 300. Elapsed time 16.52 min\n",
      "MultVAERecommender: Epoch 288 of 300. Elapsed time 16.58 min\n",
      "MultVAERecommender: Epoch 289 of 300. Elapsed time 16.64 min\n",
      "MultVAERecommender: Epoch 290 of 300. Elapsed time 16.69 min\n",
      "MultVAERecommender: Epoch 291 of 300. Elapsed time 16.75 min\n",
      "MultVAERecommender: Epoch 292 of 300. Elapsed time 16.81 min\n",
      "MultVAERecommender: Epoch 293 of 300. Elapsed time 16.86 min\n",
      "MultVAERecommender: Epoch 294 of 300. Elapsed time 16.92 min\n",
      "MultVAERecommender: Epoch 295 of 300. Elapsed time 16.97 min\n",
      "MultVAERecommender: Epoch 296 of 300. Elapsed time 17.03 min\n",
      "MultVAERecommender: Epoch 297 of 300. Elapsed time 17.09 min\n",
      "MultVAERecommender: Epoch 298 of 300. Elapsed time 17.15 min\n",
      "MultVAERecommender: Epoch 299 of 300. Elapsed time 17.20 min\n",
      "MultVAERecommender: Epoch 300 of 300. Elapsed time 17.26 min\n",
      "MultVAERecommender: Saving model in file './result_experiments/__Temp_MultVAERecommender_11750/_best_model'\n",
      "MultVAERecommender: Saving complete\n",
      "MultVAERecommender: Terminating at epoch 300. Elapsed time 17.27 min\n",
      "MultVAERecommender: Loading model from file './result_experiments/__Temp_MultVAERecommender_11750/_best_model'\n"
     ]
    },
    {
     "name": "stderr",
     "output_type": "stream",
     "text": [
      "2023-12-27 22:57:36.145370: I tensorflow/core/common_runtime/pluggable_device/pluggable_device_factory.cc:306] Could not identify NUMA node of platform GPU ID 0, defaulting to 0. Your kernel may not have been built with NUMA support.\n",
      "2023-12-27 22:57:36.145394: I tensorflow/core/common_runtime/pluggable_device/pluggable_device_factory.cc:272] Created TensorFlow device (/job:localhost/replica:0/task:0/device:GPU:0 with 0 MB memory) -> physical PluggableDevice (device: 0, name: METAL, pci bus id: <undefined>)\n"
     ]
    },
    {
     "name": "stdout",
     "output_type": "stream",
     "text": [
      "INFO:tensorflow:Restoring parameters from ./result_experiments/__Temp_MultVAERecommender_11750/_best_model/.session/session\n",
      "MultVAERecommender: Loading complete\n",
      "MultVAERecommender: Cleaning temporary files from './result_experiments/__Temp_MultVAERecommender_11750/'\n"
     ]
    }
   ],
   "source": [
    "from Recommenders.Neural.MultVAERecommender import MultVAERecommender_OptimizerMask\n",
    "\n",
    "multvae = MultVAERecommender_OptimizerMask(URM_train)\n",
    "epochs = 300\n",
    "multvae.fit(epochs=epochs, learning_rate=0.0002229220517428562, l2_reg=1.7199457884691567e-05, dropout=0.5397666797136971, total_anneal_steps=134713, anneal_cap=0.20025495518554443,batch_size=512,encoding_size=460,next_layer_size_multiplier=10,max_n_hidden_layers=4, max_parameters=7*1e9*8/32)"
   ],
   "metadata": {
    "collapsed": false,
    "ExecuteTime": {
     "end_time": "2023-12-27T19:57:36.743326Z",
     "start_time": "2023-12-27T19:40:15.810916Z"
    }
   },
   "id": "ea0a8407efe6464a"
  },
  {
   "cell_type": "code",
   "execution_count": 7,
   "outputs": [],
   "source": [
    "import optuna as op\n",
    "def objective(trial):\n",
    "        \n",
    "    alpha = trial.suggest_float(\"alpha\", 0.0, 1.0)\n",
    "    \n",
    "    recommender = TwoScoresHybridRecommender(URM_train, knn, multvae)\n",
    "    recommender.fit(alpha=alpha)\n",
    "    \n",
    "    result, _ = evaluator_validation.evaluateRecommender(recommender)\n",
    "    MAP_result = result[\"MAP\"].item()\n",
    "       \n",
    "    return MAP_result"
   ],
   "metadata": {
    "collapsed": false,
    "ExecuteTime": {
     "end_time": "2023-12-27T20:01:29.993588Z",
     "start_time": "2023-12-27T20:01:29.648886Z"
    }
   },
   "id": "f800731818a98c7d"
  },
  {
   "cell_type": "code",
   "execution_count": 8,
   "outputs": [
    {
     "name": "stderr",
     "output_type": "stream",
     "text": [
      "/var/folders/l3/n3yjvx_d2g9dy0ztkyft2th40000gn/T/ipykernel_11750/1025446613.py:3: FutureWarning: delete_study(): Please give all values as keyword arguments. See https://github.com/optuna/optuna/issues/3324 for details.\n",
      "  op.delete_study(study_name, storage_name)\n",
      "[I 2023-12-27 23:01:37,440] A new study created in RDB with name: knn-multvae-study\n"
     ]
    },
    {
     "name": "stdout",
     "output_type": "stream",
     "text": [
      "TwoScoresHybridRecommender: URM Detected 228 ( 1.8%) users with no interactions.\n",
      "TwoScoresHybridRecommender: URM Detected 110 ( 0.5%) items with no interactions.\n",
      "EvaluatorHoldout: Processed 10467 (100.0%) in 8.76 sec. Users per second: 1194\n"
     ]
    },
    {
     "name": "stderr",
     "output_type": "stream",
     "text": [
      "[I 2023-12-27 23:01:46,262] Trial 0 finished with value: 0.03332613383559259 and parameters: {'alpha': 0.12350586050454138}. Best is trial 0 with value: 0.03332613383559259.\n"
     ]
    },
    {
     "name": "stdout",
     "output_type": "stream",
     "text": [
      "TwoScoresHybridRecommender: URM Detected 228 ( 1.8%) users with no interactions.\n",
      "TwoScoresHybridRecommender: URM Detected 110 ( 0.5%) items with no interactions.\n",
      "EvaluatorHoldout: Processed 10467 (100.0%) in 6.96 sec. Users per second: 1505\n"
     ]
    },
    {
     "name": "stderr",
     "output_type": "stream",
     "text": [
      "[I 2023-12-27 23:01:53,247] Trial 1 finished with value: 0.04368117636532715 and parameters: {'alpha': 0.8322490455264067}. Best is trial 1 with value: 0.04368117636532715.\n"
     ]
    },
    {
     "name": "stdout",
     "output_type": "stream",
     "text": [
      "TwoScoresHybridRecommender: URM Detected 228 ( 1.8%) users with no interactions.\n",
      "TwoScoresHybridRecommender: URM Detected 110 ( 0.5%) items with no interactions.\n",
      "EvaluatorHoldout: Processed 10467 (100.0%) in 6.68 sec. Users per second: 1568\n"
     ]
    },
    {
     "name": "stderr",
     "output_type": "stream",
     "text": [
      "[I 2023-12-27 23:01:59,951] Trial 2 finished with value: 0.03253353699685072 and parameters: {'alpha': 0.06639182828049173}. Best is trial 1 with value: 0.04368117636532715.\n"
     ]
    },
    {
     "name": "stdout",
     "output_type": "stream",
     "text": [
      "TwoScoresHybridRecommender: URM Detected 228 ( 1.8%) users with no interactions.\n",
      "TwoScoresHybridRecommender: URM Detected 110 ( 0.5%) items with no interactions.\n",
      "EvaluatorHoldout: Processed 10467 (100.0%) in 6.86 sec. Users per second: 1526\n"
     ]
    },
    {
     "name": "stderr",
     "output_type": "stream",
     "text": [
      "[I 2023-12-27 23:02:06,845] Trial 3 finished with value: 0.04131847105263623 and parameters: {'alpha': 0.6737115432235113}. Best is trial 1 with value: 0.04368117636532715.\n"
     ]
    },
    {
     "name": "stdout",
     "output_type": "stream",
     "text": [
      "TwoScoresHybridRecommender: URM Detected 228 ( 1.8%) users with no interactions.\n",
      "TwoScoresHybridRecommender: URM Detected 110 ( 0.5%) items with no interactions.\n",
      "EvaluatorHoldout: Processed 10467 (100.0%) in 6.99 sec. Users per second: 1498\n"
     ]
    },
    {
     "name": "stderr",
     "output_type": "stream",
     "text": [
      "[I 2023-12-27 23:02:13,864] Trial 4 finished with value: 0.043195511668570455 and parameters: {'alpha': 0.7982905754555091}. Best is trial 1 with value: 0.04368117636532715.\n"
     ]
    },
    {
     "name": "stdout",
     "output_type": "stream",
     "text": [
      "TwoScoresHybridRecommender: URM Detected 228 ( 1.8%) users with no interactions.\n",
      "TwoScoresHybridRecommender: URM Detected 110 ( 0.5%) items with no interactions.\n",
      "EvaluatorHoldout: Processed 10467 (100.0%) in 6.63 sec. Users per second: 1578\n"
     ]
    },
    {
     "name": "stderr",
     "output_type": "stream",
     "text": [
      "[I 2023-12-27 23:02:20,520] Trial 5 finished with value: 0.0439667488599854 and parameters: {'alpha': 0.9731614935143711}. Best is trial 5 with value: 0.0439667488599854.\n"
     ]
    },
    {
     "name": "stdout",
     "output_type": "stream",
     "text": [
      "TwoScoresHybridRecommender: URM Detected 228 ( 1.8%) users with no interactions.\n",
      "TwoScoresHybridRecommender: URM Detected 110 ( 0.5%) items with no interactions.\n",
      "EvaluatorHoldout: Processed 10467 (100.0%) in 6.73 sec. Users per second: 1555\n"
     ]
    },
    {
     "name": "stderr",
     "output_type": "stream",
     "text": [
      "[I 2023-12-27 23:02:27,276] Trial 6 finished with value: 0.03616355105463782 and parameters: {'alpha': 0.32423085688064013}. Best is trial 5 with value: 0.0439667488599854.\n"
     ]
    },
    {
     "name": "stdout",
     "output_type": "stream",
     "text": [
      "TwoScoresHybridRecommender: URM Detected 228 ( 1.8%) users with no interactions.\n",
      "TwoScoresHybridRecommender: URM Detected 110 ( 0.5%) items with no interactions.\n",
      "EvaluatorHoldout: Processed 10467 (100.0%) in 6.70 sec. Users per second: 1562\n"
     ]
    },
    {
     "name": "stderr",
     "output_type": "stream",
     "text": [
      "[I 2023-12-27 23:02:34,004] Trial 7 finished with value: 0.042739429742153195 and parameters: {'alpha': 0.7620845758771253}. Best is trial 5 with value: 0.0439667488599854.\n"
     ]
    },
    {
     "name": "stdout",
     "output_type": "stream",
     "text": [
      "TwoScoresHybridRecommender: URM Detected 228 ( 1.8%) users with no interactions.\n",
      "TwoScoresHybridRecommender: URM Detected 110 ( 0.5%) items with no interactions.\n",
      "EvaluatorHoldout: Processed 10467 (100.0%) in 6.61 sec. Users per second: 1583\n"
     ]
    },
    {
     "name": "stderr",
     "output_type": "stream",
     "text": [
      "[I 2023-12-27 23:02:40,644] Trial 8 finished with value: 0.03556357016230963 and parameters: {'alpha': 0.28567657304944416}. Best is trial 5 with value: 0.0439667488599854.\n"
     ]
    },
    {
     "name": "stdout",
     "output_type": "stream",
     "text": [
      "TwoScoresHybridRecommender: URM Detected 228 ( 1.8%) users with no interactions.\n",
      "TwoScoresHybridRecommender: URM Detected 110 ( 0.5%) items with no interactions.\n",
      "EvaluatorHoldout: Processed 10467 (100.0%) in 6.70 sec. Users per second: 1563\n"
     ]
    },
    {
     "name": "stderr",
     "output_type": "stream",
     "text": [
      "[I 2023-12-27 23:02:47,366] Trial 9 finished with value: 0.03561455049202309 and parameters: {'alpha': 0.2887944968881426}. Best is trial 5 with value: 0.0439667488599854.\n"
     ]
    },
    {
     "name": "stdout",
     "output_type": "stream",
     "text": [
      "TwoScoresHybridRecommender: URM Detected 228 ( 1.8%) users with no interactions.\n",
      "TwoScoresHybridRecommender: URM Detected 110 ( 0.5%) items with no interactions.\n",
      "EvaluatorHoldout: Processed 10467 (100.0%) in 6.80 sec. Users per second: 1539\n"
     ]
    },
    {
     "name": "stderr",
     "output_type": "stream",
     "text": [
      "[I 2023-12-27 23:02:54,201] Trial 10 finished with value: 0.04395562925657573 and parameters: {'alpha': 0.9799444634444677}. Best is trial 5 with value: 0.0439667488599854.\n"
     ]
    },
    {
     "name": "stdout",
     "output_type": "stream",
     "text": [
      "TwoScoresHybridRecommender: URM Detected 228 ( 1.8%) users with no interactions.\n",
      "TwoScoresHybridRecommender: URM Detected 110 ( 0.5%) items with no interactions.\n",
      "EvaluatorHoldout: Processed 10467 (100.0%) in 6.81 sec. Users per second: 1538\n"
     ]
    },
    {
     "name": "stderr",
     "output_type": "stream",
     "text": [
      "[I 2023-12-27 23:03:01,036] Trial 11 finished with value: 0.043806801724543876 and parameters: {'alpha': 0.9862487354091262}. Best is trial 5 with value: 0.0439667488599854.\n"
     ]
    },
    {
     "name": "stdout",
     "output_type": "stream",
     "text": [
      "TwoScoresHybridRecommender: URM Detected 228 ( 1.8%) users with no interactions.\n",
      "TwoScoresHybridRecommender: URM Detected 110 ( 0.5%) items with no interactions.\n",
      "EvaluatorHoldout: Processed 10467 (100.0%) in 6.67 sec. Users per second: 1570\n"
     ]
    },
    {
     "name": "stderr",
     "output_type": "stream",
     "text": [
      "[I 2023-12-27 23:03:07,732] Trial 12 finished with value: 0.044056312280016045 and parameters: {'alpha': 0.9680471139912883}. Best is trial 12 with value: 0.044056312280016045.\n"
     ]
    },
    {
     "name": "stdout",
     "output_type": "stream",
     "text": [
      "TwoScoresHybridRecommender: URM Detected 228 ( 1.8%) users with no interactions.\n",
      "TwoScoresHybridRecommender: URM Detected 110 ( 0.5%) items with no interactions.\n",
      "EvaluatorHoldout: Processed 10467 (100.0%) in 6.80 sec. Users per second: 1538\n"
     ]
    },
    {
     "name": "stderr",
     "output_type": "stream",
     "text": [
      "[I 2023-12-27 23:03:14,568] Trial 13 finished with value: 0.04014532445888195 and parameters: {'alpha': 0.5891080062594364}. Best is trial 12 with value: 0.044056312280016045.\n"
     ]
    },
    {
     "name": "stdout",
     "output_type": "stream",
     "text": [
      "TwoScoresHybridRecommender: URM Detected 228 ( 1.8%) users with no interactions.\n",
      "TwoScoresHybridRecommender: URM Detected 110 ( 0.5%) items with no interactions.\n",
      "EvaluatorHoldout: Processed 10467 (100.0%) in 6.95 sec. Users per second: 1507\n"
     ]
    },
    {
     "name": "stderr",
     "output_type": "stream",
     "text": [
      "[I 2023-12-27 23:03:21,541] Trial 14 finished with value: 0.044068747431459464 and parameters: {'alpha': 0.8869353902049689}. Best is trial 14 with value: 0.044068747431459464.\n"
     ]
    },
    {
     "name": "stdout",
     "output_type": "stream",
     "text": [
      "TwoScoresHybridRecommender: URM Detected 228 ( 1.8%) users with no interactions.\n",
      "TwoScoresHybridRecommender: URM Detected 110 ( 0.5%) items with no interactions.\n",
      "EvaluatorHoldout: Processed 10467 (100.0%) in 6.77 sec. Users per second: 1545\n"
     ]
    },
    {
     "name": "stderr",
     "output_type": "stream",
     "text": [
      "[I 2023-12-27 23:03:28,353] Trial 15 finished with value: 0.039475615729557274 and parameters: {'alpha': 0.5403857965041989}. Best is trial 14 with value: 0.044068747431459464.\n"
     ]
    },
    {
     "name": "stdout",
     "output_type": "stream",
     "text": [
      "TwoScoresHybridRecommender: URM Detected 228 ( 1.8%) users with no interactions.\n",
      "TwoScoresHybridRecommender: URM Detected 110 ( 0.5%) items with no interactions.\n",
      "EvaluatorHoldout: Processed 10467 (100.0%) in 6.85 sec. Users per second: 1528\n"
     ]
    },
    {
     "name": "stderr",
     "output_type": "stream",
     "text": [
      "[I 2023-12-27 23:03:35,234] Trial 16 finished with value: 0.043931194942230224 and parameters: {'alpha': 0.8733116323419697}. Best is trial 14 with value: 0.044068747431459464.\n"
     ]
    },
    {
     "name": "stdout",
     "output_type": "stream",
     "text": [
      "TwoScoresHybridRecommender: URM Detected 228 ( 1.8%) users with no interactions.\n",
      "TwoScoresHybridRecommender: URM Detected 110 ( 0.5%) items with no interactions.\n",
      "EvaluatorHoldout: Processed 10467 (100.0%) in 6.65 sec. Users per second: 1575\n"
     ]
    },
    {
     "name": "stderr",
     "output_type": "stream",
     "text": [
      "[I 2023-12-27 23:03:41,904] Trial 17 finished with value: 0.041884547201257435 and parameters: {'alpha': 0.7144555305699468}. Best is trial 14 with value: 0.044068747431459464.\n"
     ]
    },
    {
     "name": "stdout",
     "output_type": "stream",
     "text": [
      "TwoScoresHybridRecommender: URM Detected 228 ( 1.8%) users with no interactions.\n",
      "TwoScoresHybridRecommender: URM Detected 110 ( 0.5%) items with no interactions.\n",
      "EvaluatorHoldout: Processed 10467 (100.0%) in 6.68 sec. Users per second: 1568\n"
     ]
    },
    {
     "name": "stderr",
     "output_type": "stream",
     "text": [
      "[I 2023-12-27 23:03:48,607] Trial 18 finished with value: 0.04398405950068377 and parameters: {'alpha': 0.8783550275314858}. Best is trial 14 with value: 0.044068747431459464.\n"
     ]
    },
    {
     "name": "stdout",
     "output_type": "stream",
     "text": [
      "TwoScoresHybridRecommender: URM Detected 228 ( 1.8%) users with no interactions.\n",
      "TwoScoresHybridRecommender: URM Detected 110 ( 0.5%) items with no interactions.\n",
      "EvaluatorHoldout: Processed 10467 (100.0%) in 6.72 sec. Users per second: 1559\n"
     ]
    },
    {
     "name": "stderr",
     "output_type": "stream",
     "text": [
      "[I 2023-12-27 23:03:55,350] Trial 19 finished with value: 0.04097785405681712 and parameters: {'alpha': 0.6519431650551138}. Best is trial 14 with value: 0.044068747431459464.\n"
     ]
    },
    {
     "name": "stdout",
     "output_type": "stream",
     "text": [
      "TwoScoresHybridRecommender: URM Detected 228 ( 1.8%) users with no interactions.\n",
      "TwoScoresHybridRecommender: URM Detected 110 ( 0.5%) items with no interactions.\n",
      "EvaluatorHoldout: Processed 10467 (100.0%) in 6.62 sec. Users per second: 1580\n"
     ]
    },
    {
     "name": "stderr",
     "output_type": "stream",
     "text": [
      "[I 2023-12-27 23:04:01,998] Trial 20 finished with value: 0.0440698544632343 and parameters: {'alpha': 0.8844956094096452}. Best is trial 20 with value: 0.0440698544632343.\n"
     ]
    },
    {
     "name": "stdout",
     "output_type": "stream",
     "text": [
      "TwoScoresHybridRecommender: URM Detected 228 ( 1.8%) users with no interactions.\n",
      "TwoScoresHybridRecommender: URM Detected 110 ( 0.5%) items with no interactions.\n",
      "EvaluatorHoldout: Processed 10467 (100.0%) in 6.76 sec. Users per second: 1548\n"
     ]
    },
    {
     "name": "stderr",
     "output_type": "stream",
     "text": [
      "[I 2023-12-27 23:04:08,786] Trial 21 finished with value: 0.04415988041023934 and parameters: {'alpha': 0.8906592970976505}. Best is trial 21 with value: 0.04415988041023934.\n"
     ]
    },
    {
     "name": "stdout",
     "output_type": "stream",
     "text": [
      "TwoScoresHybridRecommender: URM Detected 228 ( 1.8%) users with no interactions.\n",
      "TwoScoresHybridRecommender: URM Detected 110 ( 0.5%) items with no interactions.\n",
      "EvaluatorHoldout: Processed 10467 (100.0%) in 7.50 sec. Users per second: 1395\n"
     ]
    },
    {
     "name": "stderr",
     "output_type": "stream",
     "text": [
      "[I 2023-12-27 23:04:16,323] Trial 22 finished with value: 0.04272947782979372 and parameters: {'alpha': 0.7631397761573854}. Best is trial 21 with value: 0.04415988041023934.\n"
     ]
    },
    {
     "name": "stdout",
     "output_type": "stream",
     "text": [
      "TwoScoresHybridRecommender: URM Detected 228 ( 1.8%) users with no interactions.\n",
      "TwoScoresHybridRecommender: URM Detected 110 ( 0.5%) items with no interactions.\n",
      "EvaluatorHoldout: Processed 10467 (100.0%) in 6.82 sec. Users per second: 1536\n"
     ]
    },
    {
     "name": "stderr",
     "output_type": "stream",
     "text": [
      "[I 2023-12-27 23:04:23,170] Trial 23 finished with value: 0.04394662135418859 and parameters: {'alpha': 0.8765008202139579}. Best is trial 21 with value: 0.04415988041023934.\n"
     ]
    },
    {
     "name": "stdout",
     "output_type": "stream",
     "text": [
      "TwoScoresHybridRecommender: URM Detected 228 ( 1.8%) users with no interactions.\n",
      "TwoScoresHybridRecommender: URM Detected 110 ( 0.5%) items with no interactions.\n",
      "EvaluatorHoldout: Processed 10467 (100.0%) in 6.80 sec. Users per second: 1539\n"
     ]
    },
    {
     "name": "stderr",
     "output_type": "stream",
     "text": [
      "[I 2023-12-27 23:04:29,996] Trial 24 finished with value: 0.04415597167818501 and parameters: {'alpha': 0.8905975763054933}. Best is trial 21 with value: 0.04415988041023934.\n"
     ]
    },
    {
     "name": "stdout",
     "output_type": "stream",
     "text": [
      "TwoScoresHybridRecommender: URM Detected 228 ( 1.8%) users with no interactions.\n",
      "TwoScoresHybridRecommender: URM Detected 110 ( 0.5%) items with no interactions.\n",
      "EvaluatorHoldout: Processed 10467 (100.0%) in 6.72 sec. Users per second: 1557\n"
     ]
    },
    {
     "name": "stderr",
     "output_type": "stream",
     "text": [
      "[I 2023-12-27 23:04:36,762] Trial 25 finished with value: 0.04200848926558356 and parameters: {'alpha': 0.7191955613430433}. Best is trial 21 with value: 0.04415988041023934.\n"
     ]
    },
    {
     "name": "stdout",
     "output_type": "stream",
     "text": [
      "TwoScoresHybridRecommender: URM Detected 228 ( 1.8%) users with no interactions.\n",
      "TwoScoresHybridRecommender: URM Detected 110 ( 0.5%) items with no interactions.\n",
      "EvaluatorHoldout: Processed 10467 (100.0%) in 6.59 sec. Users per second: 1589\n"
     ]
    },
    {
     "name": "stderr",
     "output_type": "stream",
     "text": [
      "[I 2023-12-27 23:04:43,379] Trial 26 finished with value: 0.04340697369358941 and parameters: {'alpha': 0.812327495155931}. Best is trial 21 with value: 0.04415988041023934.\n"
     ]
    },
    {
     "name": "stdout",
     "output_type": "stream",
     "text": [
      "TwoScoresHybridRecommender: URM Detected 228 ( 1.8%) users with no interactions.\n",
      "TwoScoresHybridRecommender: URM Detected 110 ( 0.5%) items with no interactions.\n",
      "EvaluatorHoldout: Processed 10467 (100.0%) in 6.71 sec. Users per second: 1560\n"
     ]
    },
    {
     "name": "stderr",
     "output_type": "stream",
     "text": [
      "[I 2023-12-27 23:04:50,120] Trial 27 finished with value: 0.04057219136181648 and parameters: {'alpha': 0.6241738746333847}. Best is trial 21 with value: 0.04415988041023934.\n"
     ]
    },
    {
     "name": "stdout",
     "output_type": "stream",
     "text": [
      "TwoScoresHybridRecommender: URM Detected 228 ( 1.8%) users with no interactions.\n",
      "TwoScoresHybridRecommender: URM Detected 110 ( 0.5%) items with no interactions.\n",
      "EvaluatorHoldout: Processed 10467 (100.0%) in 6.66 sec. Users per second: 1573\n"
     ]
    },
    {
     "name": "stderr",
     "output_type": "stream",
     "text": [
      "[I 2023-12-27 23:04:56,802] Trial 28 finished with value: 0.04431900485425921 and parameters: {'alpha': 0.9120944180753733}. Best is trial 28 with value: 0.04431900485425921.\n"
     ]
    },
    {
     "name": "stdout",
     "output_type": "stream",
     "text": [
      "TwoScoresHybridRecommender: URM Detected 228 ( 1.8%) users with no interactions.\n",
      "TwoScoresHybridRecommender: URM Detected 110 ( 0.5%) items with no interactions.\n",
      "EvaluatorHoldout: Processed 10467 (100.0%) in 6.57 sec. Users per second: 1593\n"
     ]
    },
    {
     "name": "stderr",
     "output_type": "stream",
     "text": [
      "[I 2023-12-27 23:05:03,400] Trial 29 finished with value: 0.03862536224961049 and parameters: {'alpha': 0.48229758388518584}. Best is trial 28 with value: 0.04431900485425921.\n"
     ]
    },
    {
     "name": "stdout",
     "output_type": "stream",
     "text": [
      "TwoScoresHybridRecommender: URM Detected 228 ( 1.8%) users with no interactions.\n",
      "TwoScoresHybridRecommender: URM Detected 110 ( 0.5%) items with no interactions.\n",
      "EvaluatorHoldout: Processed 10467 (100.0%) in 6.62 sec. Users per second: 1582\n"
     ]
    },
    {
     "name": "stderr",
     "output_type": "stream",
     "text": [
      "[I 2023-12-27 23:05:10,045] Trial 30 finished with value: 0.044323656662436345 and parameters: {'alpha': 0.9300596122255987}. Best is trial 30 with value: 0.044323656662436345.\n"
     ]
    },
    {
     "name": "stdout",
     "output_type": "stream",
     "text": [
      "TwoScoresHybridRecommender: URM Detected 228 ( 1.8%) users with no interactions.\n",
      "TwoScoresHybridRecommender: URM Detected 110 ( 0.5%) items with no interactions.\n",
      "EvaluatorHoldout: Processed 10467 (100.0%) in 7.06 sec. Users per second: 1482\n"
     ]
    },
    {
     "name": "stderr",
     "output_type": "stream",
     "text": [
      "[I 2023-12-27 23:05:17,144] Trial 31 finished with value: 0.04431686661480367 and parameters: {'alpha': 0.9304598994980974}. Best is trial 30 with value: 0.044323656662436345.\n"
     ]
    },
    {
     "name": "stdout",
     "output_type": "stream",
     "text": [
      "TwoScoresHybridRecommender: URM Detected 228 ( 1.8%) users with no interactions.\n",
      "TwoScoresHybridRecommender: URM Detected 110 ( 0.5%) items with no interactions.\n",
      "EvaluatorHoldout: Processed 10467 (100.0%) in 7.12 sec. Users per second: 1470\n"
     ]
    },
    {
     "name": "stderr",
     "output_type": "stream",
     "text": [
      "[I 2023-12-27 23:05:24,307] Trial 32 finished with value: 0.04434180515937537 and parameters: {'alpha': 0.9319597565318276}. Best is trial 32 with value: 0.04434180515937537.\n"
     ]
    },
    {
     "name": "stdout",
     "output_type": "stream",
     "text": [
      "TwoScoresHybridRecommender: URM Detected 228 ( 1.8%) users with no interactions.\n",
      "TwoScoresHybridRecommender: URM Detected 110 ( 0.5%) items with no interactions.\n",
      "EvaluatorHoldout: Processed 10467 (100.0%) in 7.00 sec. Users per second: 1494\n"
     ]
    },
    {
     "name": "stderr",
     "output_type": "stream",
     "text": [
      "[I 2023-12-27 23:05:31,347] Trial 33 finished with value: 0.043676535930764177 and parameters: {'alpha': 0.9989792610571715}. Best is trial 32 with value: 0.04434180515937537.\n"
     ]
    },
    {
     "name": "stdout",
     "output_type": "stream",
     "text": [
      "TwoScoresHybridRecommender: URM Detected 228 ( 1.8%) users with no interactions.\n",
      "TwoScoresHybridRecommender: URM Detected 110 ( 0.5%) items with no interactions.\n",
      "EvaluatorHoldout: Processed 10467 (100.0%) in 6.67 sec. Users per second: 1569\n"
     ]
    },
    {
     "name": "stderr",
     "output_type": "stream",
     "text": [
      "[I 2023-12-27 23:05:38,045] Trial 34 finished with value: 0.04430266476196613 and parameters: {'alpha': 0.923730564743677}. Best is trial 32 with value: 0.04434180515937537.\n"
     ]
    },
    {
     "name": "stdout",
     "output_type": "stream",
     "text": [
      "TwoScoresHybridRecommender: URM Detected 228 ( 1.8%) users with no interactions.\n",
      "TwoScoresHybridRecommender: URM Detected 110 ( 0.5%) items with no interactions.\n",
      "EvaluatorHoldout: Processed 10467 (100.0%) in 6.67 sec. Users per second: 1570\n"
     ]
    },
    {
     "name": "stderr",
     "output_type": "stream",
     "text": [
      "[I 2023-12-27 23:05:44,739] Trial 35 finished with value: 0.04339962254765988 and parameters: {'alpha': 0.8121611636200857}. Best is trial 32 with value: 0.04434180515937537.\n"
     ]
    },
    {
     "name": "stdout",
     "output_type": "stream",
     "text": [
      "TwoScoresHybridRecommender: URM Detected 228 ( 1.8%) users with no interactions.\n",
      "TwoScoresHybridRecommender: URM Detected 110 ( 0.5%) items with no interactions.\n",
      "EvaluatorHoldout: Processed 10467 (100.0%) in 6.63 sec. Users per second: 1580\n"
     ]
    },
    {
     "name": "stderr",
     "output_type": "stream",
     "text": [
      "[I 2023-12-27 23:05:51,391] Trial 36 finished with value: 0.04434068675398642 and parameters: {'alpha': 0.9469258773638243}. Best is trial 32 with value: 0.04434180515937537.\n"
     ]
    },
    {
     "name": "stdout",
     "output_type": "stream",
     "text": [
      "TwoScoresHybridRecommender: URM Detected 228 ( 1.8%) users with no interactions.\n",
      "TwoScoresHybridRecommender: URM Detected 110 ( 0.5%) items with no interactions.\n",
      "EvaluatorHoldout: Processed 10467 (100.0%) in 6.87 sec. Users per second: 1523\n"
     ]
    },
    {
     "name": "stderr",
     "output_type": "stream",
     "text": [
      "[I 2023-12-27 23:05:58,317] Trial 37 finished with value: 0.04342623301350792 and parameters: {'alpha': 0.8151446214917202}. Best is trial 32 with value: 0.04434180515937537.\n"
     ]
    },
    {
     "name": "stdout",
     "output_type": "stream",
     "text": [
      "TwoScoresHybridRecommender: URM Detected 228 ( 1.8%) users with no interactions.\n",
      "TwoScoresHybridRecommender: URM Detected 110 ( 0.5%) items with no interactions.\n",
      "EvaluatorHoldout: Processed 10467 (100.0%) in 6.78 sec. Users per second: 1544\n"
     ]
    },
    {
     "name": "stderr",
     "output_type": "stream",
     "text": [
      "[I 2023-12-27 23:06:05,133] Trial 38 finished with value: 0.044364878431230534 and parameters: {'alpha': 0.9431451827224046}. Best is trial 38 with value: 0.044364878431230534.\n"
     ]
    },
    {
     "name": "stdout",
     "output_type": "stream",
     "text": [
      "TwoScoresHybridRecommender: URM Detected 228 ( 1.8%) users with no interactions.\n",
      "TwoScoresHybridRecommender: URM Detected 110 ( 0.5%) items with no interactions.\n",
      "EvaluatorHoldout: Processed 10467 (100.0%) in 6.70 sec. Users per second: 1562\n"
     ]
    },
    {
     "name": "stderr",
     "output_type": "stream",
     "text": [
      "[I 2023-12-27 23:06:11,865] Trial 39 finished with value: 0.04367789697325441 and parameters: {'alpha': 0.8360811123827641}. Best is trial 38 with value: 0.044364878431230534.\n"
     ]
    },
    {
     "name": "stdout",
     "output_type": "stream",
     "text": [
      "TwoScoresHybridRecommender: URM Detected 228 ( 1.8%) users with no interactions.\n",
      "TwoScoresHybridRecommender: URM Detected 110 ( 0.5%) items with no interactions.\n",
      "EvaluatorHoldout: Processed 10467 (100.0%) in 6.83 sec. Users per second: 1534\n"
     ]
    },
    {
     "name": "stderr",
     "output_type": "stream",
     "text": [
      "[I 2023-12-27 23:06:18,745] Trial 40 finished with value: 0.04364677497380343 and parameters: {'alpha': 0.9999130859992734}. Best is trial 38 with value: 0.044364878431230534.\n"
     ]
    },
    {
     "name": "stdout",
     "output_type": "stream",
     "text": [
      "TwoScoresHybridRecommender: URM Detected 228 ( 1.8%) users with no interactions.\n",
      "TwoScoresHybridRecommender: URM Detected 110 ( 0.5%) items with no interactions.\n",
      "EvaluatorHoldout: Processed 10467 (100.0%) in 6.59 sec. Users per second: 1589\n"
     ]
    },
    {
     "name": "stderr",
     "output_type": "stream",
     "text": [
      "[I 2023-12-27 23:06:25,364] Trial 41 finished with value: 0.04433902620632416 and parameters: {'alpha': 0.9345017680257911}. Best is trial 38 with value: 0.044364878431230534.\n"
     ]
    },
    {
     "name": "stdout",
     "output_type": "stream",
     "text": [
      "TwoScoresHybridRecommender: URM Detected 228 ( 1.8%) users with no interactions.\n",
      "TwoScoresHybridRecommender: URM Detected 110 ( 0.5%) items with no interactions.\n",
      "EvaluatorHoldout: Processed 10467 (100.0%) in 6.68 sec. Users per second: 1567\n"
     ]
    },
    {
     "name": "stderr",
     "output_type": "stream",
     "text": [
      "[I 2023-12-27 23:06:32,070] Trial 42 finished with value: 0.044320942159865165 and parameters: {'alpha': 0.94137235848543}. Best is trial 38 with value: 0.044364878431230534.\n"
     ]
    },
    {
     "name": "stdout",
     "output_type": "stream",
     "text": [
      "TwoScoresHybridRecommender: URM Detected 228 ( 1.8%) users with no interactions.\n",
      "TwoScoresHybridRecommender: URM Detected 110 ( 0.5%) items with no interactions.\n",
      "EvaluatorHoldout: Processed 10467 (100.0%) in 6.50 sec. Users per second: 1611\n"
     ]
    },
    {
     "name": "stderr",
     "output_type": "stream",
     "text": [
      "[I 2023-12-27 23:06:38,590] Trial 43 finished with value: 0.04430812030554149 and parameters: {'alpha': 0.9504623024453724}. Best is trial 38 with value: 0.044364878431230534.\n"
     ]
    },
    {
     "name": "stdout",
     "output_type": "stream",
     "text": [
      "TwoScoresHybridRecommender: URM Detected 228 ( 1.8%) users with no interactions.\n",
      "TwoScoresHybridRecommender: URM Detected 110 ( 0.5%) items with no interactions.\n",
      "EvaluatorHoldout: Processed 10467 (100.0%) in 6.69 sec. Users per second: 1565\n"
     ]
    },
    {
     "name": "stderr",
     "output_type": "stream",
     "text": [
      "[I 2023-12-27 23:06:45,303] Trial 44 finished with value: 0.04431516436388964 and parameters: {'alpha': 0.9385459410934003}. Best is trial 38 with value: 0.044364878431230534.\n"
     ]
    },
    {
     "name": "stdout",
     "output_type": "stream",
     "text": [
      "TwoScoresHybridRecommender: URM Detected 228 ( 1.8%) users with no interactions.\n",
      "TwoScoresHybridRecommender: URM Detected 110 ( 0.5%) items with no interactions.\n",
      "EvaluatorHoldout: Processed 10467 (100.0%) in 6.60 sec. Users per second: 1585\n"
     ]
    },
    {
     "name": "stderr",
     "output_type": "stream",
     "text": [
      "[I 2023-12-27 23:06:51,931] Trial 45 finished with value: 0.0437757479667774 and parameters: {'alpha': 0.8463253401328601}. Best is trial 38 with value: 0.044364878431230534.\n"
     ]
    },
    {
     "name": "stdout",
     "output_type": "stream",
     "text": [
      "TwoScoresHybridRecommender: URM Detected 228 ( 1.8%) users with no interactions.\n",
      "TwoScoresHybridRecommender: URM Detected 110 ( 0.5%) items with no interactions.\n",
      "EvaluatorHoldout: Processed 10467 (100.0%) in 6.85 sec. Users per second: 1529\n"
     ]
    },
    {
     "name": "stderr",
     "output_type": "stream",
     "text": [
      "[I 2023-12-27 23:06:58,833] Trial 46 finished with value: 0.04283329997073246 and parameters: {'alpha': 0.7688710046494145}. Best is trial 38 with value: 0.044364878431230534.\n"
     ]
    },
    {
     "name": "stdout",
     "output_type": "stream",
     "text": [
      "TwoScoresHybridRecommender: URM Detected 228 ( 1.8%) users with no interactions.\n",
      "TwoScoresHybridRecommender: URM Detected 110 ( 0.5%) items with no interactions.\n",
      "EvaluatorHoldout: Processed 10467 (100.0%) in 6.84 sec. Users per second: 1531\n"
     ]
    },
    {
     "name": "stderr",
     "output_type": "stream",
     "text": [
      "[I 2023-12-27 23:07:05,702] Trial 47 finished with value: 0.04432284534462882 and parameters: {'alpha': 0.9495788829136246}. Best is trial 38 with value: 0.044364878431230534.\n"
     ]
    },
    {
     "name": "stdout",
     "output_type": "stream",
     "text": [
      "TwoScoresHybridRecommender: URM Detected 228 ( 1.8%) users with no interactions.\n",
      "TwoScoresHybridRecommender: URM Detected 110 ( 0.5%) items with no interactions.\n",
      "EvaluatorHoldout: Processed 10467 (100.0%) in 6.72 sec. Users per second: 1558\n"
     ]
    },
    {
     "name": "stderr",
     "output_type": "stream",
     "text": [
      "[I 2023-12-27 23:07:12,446] Trial 48 finished with value: 0.04383479218890562 and parameters: {'alpha': 0.8528601486749169}. Best is trial 38 with value: 0.044364878431230534.\n"
     ]
    },
    {
     "name": "stdout",
     "output_type": "stream",
     "text": [
      "TwoScoresHybridRecommender: URM Detected 228 ( 1.8%) users with no interactions.\n",
      "TwoScoresHybridRecommender: URM Detected 110 ( 0.5%) items with no interactions.\n",
      "EvaluatorHoldout: Processed 10467 (100.0%) in 6.70 sec. Users per second: 1563\n"
     ]
    },
    {
     "name": "stderr",
     "output_type": "stream",
     "text": [
      "[I 2023-12-27 23:07:19,173] Trial 49 finished with value: 0.04373830223787297 and parameters: {'alpha': 0.9936366771536381}. Best is trial 38 with value: 0.044364878431230534.\n"
     ]
    },
    {
     "name": "stdout",
     "output_type": "stream",
     "text": [
      "TwoScoresHybridRecommender: URM Detected 228 ( 1.8%) users with no interactions.\n",
      "TwoScoresHybridRecommender: URM Detected 110 ( 0.5%) items with no interactions.\n",
      "EvaluatorHoldout: Processed 10467 (100.0%) in 6.71 sec. Users per second: 1560\n"
     ]
    },
    {
     "name": "stderr",
     "output_type": "stream",
     "text": [
      "[I 2023-12-27 23:07:25,919] Trial 50 finished with value: 0.044346210539246464 and parameters: {'alpha': 0.9149117415515107}. Best is trial 38 with value: 0.044364878431230534.\n"
     ]
    },
    {
     "name": "stdout",
     "output_type": "stream",
     "text": [
      "TwoScoresHybridRecommender: URM Detected 228 ( 1.8%) users with no interactions.\n",
      "TwoScoresHybridRecommender: URM Detected 110 ( 0.5%) items with no interactions.\n",
      "EvaluatorHoldout: Processed 10467 (100.0%) in 7.10 sec. Users per second: 1474\n"
     ]
    },
    {
     "name": "stderr",
     "output_type": "stream",
     "text": [
      "[I 2023-12-27 23:07:33,055] Trial 51 finished with value: 0.044322507927409716 and parameters: {'alpha': 0.9301974306972957}. Best is trial 38 with value: 0.044364878431230534.\n"
     ]
    },
    {
     "name": "stdout",
     "output_type": "stream",
     "text": [
      "TwoScoresHybridRecommender: URM Detected 228 ( 1.8%) users with no interactions.\n",
      "TwoScoresHybridRecommender: URM Detected 110 ( 0.5%) items with no interactions.\n",
      "EvaluatorHoldout: Processed 10467 (100.0%) in 7.38 sec. Users per second: 1417\n"
     ]
    },
    {
     "name": "stderr",
     "output_type": "stream",
     "text": [
      "[I 2023-12-27 23:07:40,484] Trial 52 finished with value: 0.044113676998458445 and parameters: {'alpha': 0.9605642885938263}. Best is trial 38 with value: 0.044364878431230534.\n"
     ]
    },
    {
     "name": "stdout",
     "output_type": "stream",
     "text": [
      "TwoScoresHybridRecommender: URM Detected 228 ( 1.8%) users with no interactions.\n",
      "TwoScoresHybridRecommender: URM Detected 110 ( 0.5%) items with no interactions.\n",
      "EvaluatorHoldout: Processed 10467 (100.0%) in 8.12 sec. Users per second: 1289\n"
     ]
    },
    {
     "name": "stderr",
     "output_type": "stream",
     "text": [
      "[I 2023-12-27 23:07:48,656] Trial 53 finished with value: 0.043056412367820186 and parameters: {'alpha': 0.7899441612992212}. Best is trial 38 with value: 0.044364878431230534.\n"
     ]
    },
    {
     "name": "stdout",
     "output_type": "stream",
     "text": [
      "TwoScoresHybridRecommender: URM Detected 228 ( 1.8%) users with no interactions.\n",
      "TwoScoresHybridRecommender: URM Detected 110 ( 0.5%) items with no interactions.\n",
      "EvaluatorHoldout: Processed 10467 (100.0%) in 7.42 sec. Users per second: 1411\n"
     ]
    },
    {
     "name": "stderr",
     "output_type": "stream",
     "text": [
      "[I 2023-12-27 23:07:56,124] Trial 54 finished with value: 0.04375849798535429 and parameters: {'alpha': 0.8456057854009377}. Best is trial 38 with value: 0.044364878431230534.\n"
     ]
    },
    {
     "name": "stdout",
     "output_type": "stream",
     "text": [
      "TwoScoresHybridRecommender: URM Detected 228 ( 1.8%) users with no interactions.\n",
      "TwoScoresHybridRecommender: URM Detected 110 ( 0.5%) items with no interactions.\n",
      "EvaluatorHoldout: Processed 10467 (100.0%) in 7.54 sec. Users per second: 1388\n"
     ]
    },
    {
     "name": "stderr",
     "output_type": "stream",
     "text": [
      "[I 2023-12-27 23:08:03,696] Trial 55 finished with value: 0.04429238301479697 and parameters: {'alpha': 0.9057233599779773}. Best is trial 38 with value: 0.044364878431230534.\n"
     ]
    },
    {
     "name": "stdout",
     "output_type": "stream",
     "text": [
      "TwoScoresHybridRecommender: URM Detected 228 ( 1.8%) users with no interactions.\n",
      "TwoScoresHybridRecommender: URM Detected 110 ( 0.5%) items with no interactions.\n",
      "EvaluatorHoldout: Processed 10467 (100.0%) in 7.21 sec. Users per second: 1451\n"
     ]
    },
    {
     "name": "stderr",
     "output_type": "stream",
     "text": [
      "[I 2023-12-27 23:08:10,944] Trial 56 finished with value: 0.04385568172684872 and parameters: {'alpha': 0.8551187456422386}. Best is trial 38 with value: 0.044364878431230534.\n"
     ]
    },
    {
     "name": "stdout",
     "output_type": "stream",
     "text": [
      "TwoScoresHybridRecommender: URM Detected 228 ( 1.8%) users with no interactions.\n",
      "TwoScoresHybridRecommender: URM Detected 110 ( 0.5%) items with no interactions.\n",
      "EvaluatorHoldout: Processed 10467 (100.0%) in 7.06 sec. Users per second: 1482\n"
     ]
    },
    {
     "name": "stderr",
     "output_type": "stream",
     "text": [
      "[I 2023-12-27 23:08:18,040] Trial 57 finished with value: 0.044047873058335234 and parameters: {'alpha': 0.9672358201136615}. Best is trial 38 with value: 0.044364878431230534.\n"
     ]
    },
    {
     "name": "stdout",
     "output_type": "stream",
     "text": [
      "TwoScoresHybridRecommender: URM Detected 228 ( 1.8%) users with no interactions.\n",
      "TwoScoresHybridRecommender: URM Detected 110 ( 0.5%) items with no interactions.\n",
      "EvaluatorHoldout: Processed 10467 (100.0%) in 7.31 sec. Users per second: 1433\n"
     ]
    },
    {
     "name": "stderr",
     "output_type": "stream",
     "text": [
      "[I 2023-12-27 23:08:25,381] Trial 58 finished with value: 0.04428541098933826 and parameters: {'alpha': 0.9037082885633109}. Best is trial 38 with value: 0.044364878431230534.\n"
     ]
    },
    {
     "name": "stdout",
     "output_type": "stream",
     "text": [
      "TwoScoresHybridRecommender: URM Detected 228 ( 1.8%) users with no interactions.\n",
      "TwoScoresHybridRecommender: URM Detected 110 ( 0.5%) items with no interactions.\n",
      "EvaluatorHoldout: Processed 10467 (100.0%) in 7.20 sec. Users per second: 1453\n"
     ]
    },
    {
     "name": "stderr",
     "output_type": "stream",
     "text": [
      "[I 2023-12-27 23:08:32,615] Trial 59 finished with value: 0.044093208284237934 and parameters: {'alpha': 0.9616910210755799}. Best is trial 38 with value: 0.044364878431230534.\n"
     ]
    },
    {
     "name": "stdout",
     "output_type": "stream",
     "text": [
      "TwoScoresHybridRecommender: URM Detected 228 ( 1.8%) users with no interactions.\n",
      "TwoScoresHybridRecommender: URM Detected 110 ( 0.5%) items with no interactions.\n",
      "EvaluatorHoldout: Processed 10467 (100.0%) in 6.91 sec. Users per second: 1514\n"
     ]
    },
    {
     "name": "stderr",
     "output_type": "stream",
     "text": [
      "[I 2023-12-27 23:08:39,560] Trial 60 finished with value: 0.04208598907223211 and parameters: {'alpha': 0.7239271962611318}. Best is trial 38 with value: 0.044364878431230534.\n"
     ]
    },
    {
     "name": "stdout",
     "output_type": "stream",
     "text": [
      "TwoScoresHybridRecommender: URM Detected 228 ( 1.8%) users with no interactions.\n",
      "TwoScoresHybridRecommender: URM Detected 110 ( 0.5%) items with no interactions.\n",
      "EvaluatorHoldout: Processed 10467 (100.0%) in 7.17 sec. Users per second: 1461\n"
     ]
    },
    {
     "name": "stderr",
     "output_type": "stream",
     "text": [
      "[I 2023-12-27 23:08:46,762] Trial 61 finished with value: 0.04410091201220538 and parameters: {'alpha': 0.9633550759456586}. Best is trial 38 with value: 0.044364878431230534.\n"
     ]
    },
    {
     "name": "stdout",
     "output_type": "stream",
     "text": [
      "TwoScoresHybridRecommender: URM Detected 228 ( 1.8%) users with no interactions.\n",
      "TwoScoresHybridRecommender: URM Detected 110 ( 0.5%) items with no interactions.\n",
      "EvaluatorHoldout: Processed 10467 (100.0%) in 7.06 sec. Users per second: 1483\n"
     ]
    },
    {
     "name": "stderr",
     "output_type": "stream",
     "text": [
      "[I 2023-12-27 23:08:53,853] Trial 62 finished with value: 0.04433931433788195 and parameters: {'alpha': 0.9183395470218555}. Best is trial 38 with value: 0.044364878431230534.\n"
     ]
    },
    {
     "name": "stdout",
     "output_type": "stream",
     "text": [
      "TwoScoresHybridRecommender: URM Detected 228 ( 1.8%) users with no interactions.\n",
      "TwoScoresHybridRecommender: URM Detected 110 ( 0.5%) items with no interactions.\n",
      "EvaluatorHoldout: Processed 10467 (100.0%) in 7.17 sec. Users per second: 1460\n"
     ]
    },
    {
     "name": "stderr",
     "output_type": "stream",
     "text": [
      "[I 2023-12-27 23:09:01,053] Trial 63 finished with value: 0.044320437929638974 and parameters: {'alpha': 0.9117931296606069}. Best is trial 38 with value: 0.044364878431230534.\n"
     ]
    },
    {
     "name": "stdout",
     "output_type": "stream",
     "text": [
      "TwoScoresHybridRecommender: URM Detected 228 ( 1.8%) users with no interactions.\n",
      "TwoScoresHybridRecommender: URM Detected 110 ( 0.5%) items with no interactions.\n",
      "EvaluatorHoldout: Processed 10467 (100.0%) in 7.12 sec. Users per second: 1471\n"
     ]
    },
    {
     "name": "stderr",
     "output_type": "stream",
     "text": [
      "[I 2023-12-27 23:09:08,200] Trial 64 finished with value: 0.04389048119486697 and parameters: {'alpha': 0.8648130079512505}. Best is trial 38 with value: 0.044364878431230534.\n"
     ]
    },
    {
     "name": "stdout",
     "output_type": "stream",
     "text": [
      "TwoScoresHybridRecommender: URM Detected 228 ( 1.8%) users with no interactions.\n",
      "TwoScoresHybridRecommender: URM Detected 110 ( 0.5%) items with no interactions.\n",
      "EvaluatorHoldout: Processed 10467 (100.0%) in 7.04 sec. Users per second: 1487\n"
     ]
    },
    {
     "name": "stderr",
     "output_type": "stream",
     "text": [
      "[I 2023-12-27 23:09:15,270] Trial 65 finished with value: 0.044064785622539196 and parameters: {'alpha': 0.8831617465641823}. Best is trial 38 with value: 0.044364878431230534.\n"
     ]
    },
    {
     "name": "stdout",
     "output_type": "stream",
     "text": [
      "TwoScoresHybridRecommender: URM Detected 228 ( 1.8%) users with no interactions.\n",
      "TwoScoresHybridRecommender: URM Detected 110 ( 0.5%) items with no interactions.\n",
      "EvaluatorHoldout: Processed 10467 (100.0%) in 7.13 sec. Users per second: 1468\n"
     ]
    },
    {
     "name": "stderr",
     "output_type": "stream",
     "text": [
      "[I 2023-12-27 23:09:22,434] Trial 66 finished with value: 0.0443373959882995 and parameters: {'alpha': 0.9171873060285448}. Best is trial 38 with value: 0.044364878431230534.\n"
     ]
    },
    {
     "name": "stdout",
     "output_type": "stream",
     "text": [
      "TwoScoresHybridRecommender: URM Detected 228 ( 1.8%) users with no interactions.\n",
      "TwoScoresHybridRecommender: URM Detected 110 ( 0.5%) items with no interactions.\n",
      "EvaluatorHoldout: Processed 10467 (100.0%) in 7.05 sec. Users per second: 1484\n"
     ]
    },
    {
     "name": "stderr",
     "output_type": "stream",
     "text": [
      "[I 2023-12-27 23:09:29,518] Trial 67 finished with value: 0.04309581435835432 and parameters: {'alpha': 0.7916383325212741}. Best is trial 38 with value: 0.044364878431230534.\n"
     ]
    },
    {
     "name": "stdout",
     "output_type": "stream",
     "text": [
      "TwoScoresHybridRecommender: URM Detected 228 ( 1.8%) users with no interactions.\n",
      "TwoScoresHybridRecommender: URM Detected 110 ( 0.5%) items with no interactions.\n",
      "EvaluatorHoldout: Processed 10467 (100.0%) in 7.33 sec. Users per second: 1427\n"
     ]
    },
    {
     "name": "stderr",
     "output_type": "stream",
     "text": [
      "[I 2023-12-27 23:09:36,881] Trial 68 finished with value: 0.04356870648644859 and parameters: {'alpha': 0.825041754853864}. Best is trial 38 with value: 0.044364878431230534.\n"
     ]
    },
    {
     "name": "stdout",
     "output_type": "stream",
     "text": [
      "TwoScoresHybridRecommender: URM Detected 228 ( 1.8%) users with no interactions.\n",
      "TwoScoresHybridRecommender: URM Detected 110 ( 0.5%) items with no interactions.\n",
      "EvaluatorHoldout: Processed 10467 (100.0%) in 7.02 sec. Users per second: 1490\n"
     ]
    },
    {
     "name": "stderr",
     "output_type": "stream",
     "text": [
      "[I 2023-12-27 23:09:43,939] Trial 69 finished with value: 0.043942993171282724 and parameters: {'alpha': 0.9776843609313256}. Best is trial 38 with value: 0.044364878431230534.\n"
     ]
    },
    {
     "name": "stdout",
     "output_type": "stream",
     "text": [
      "TwoScoresHybridRecommender: URM Detected 228 ( 1.8%) users with no interactions.\n",
      "TwoScoresHybridRecommender: URM Detected 110 ( 0.5%) items with no interactions.\n",
      "EvaluatorHoldout: Processed 10467 (100.0%) in 7.03 sec. Users per second: 1490\n"
     ]
    },
    {
     "name": "stderr",
     "output_type": "stream",
     "text": [
      "[I 2023-12-27 23:09:50,997] Trial 70 finished with value: 0.044172482374689966 and parameters: {'alpha': 0.8968046050462839}. Best is trial 38 with value: 0.044364878431230534.\n"
     ]
    },
    {
     "name": "stdout",
     "output_type": "stream",
     "text": [
      "TwoScoresHybridRecommender: URM Detected 228 ( 1.8%) users with no interactions.\n",
      "TwoScoresHybridRecommender: URM Detected 110 ( 0.5%) items with no interactions.\n",
      "EvaluatorHoldout: Processed 10467 (100.0%) in 7.21 sec. Users per second: 1452\n"
     ]
    },
    {
     "name": "stderr",
     "output_type": "stream",
     "text": [
      "[I 2023-12-27 23:09:58,234] Trial 71 finished with value: 0.044296526801543265 and parameters: {'alpha': 0.9225628331347143}. Best is trial 38 with value: 0.044364878431230534.\n"
     ]
    },
    {
     "name": "stdout",
     "output_type": "stream",
     "text": [
      "TwoScoresHybridRecommender: URM Detected 228 ( 1.8%) users with no interactions.\n",
      "TwoScoresHybridRecommender: URM Detected 110 ( 0.5%) items with no interactions.\n",
      "EvaluatorHoldout: Processed 10467 (100.0%) in 7.02 sec. Users per second: 1492\n"
     ]
    },
    {
     "name": "stderr",
     "output_type": "stream",
     "text": [
      "[I 2023-12-27 23:10:05,294] Trial 72 finished with value: 0.043895777507844576 and parameters: {'alpha': 0.8647214172657024}. Best is trial 38 with value: 0.044364878431230534.\n"
     ]
    },
    {
     "name": "stdout",
     "output_type": "stream",
     "text": [
      "TwoScoresHybridRecommender: URM Detected 228 ( 1.8%) users with no interactions.\n",
      "TwoScoresHybridRecommender: URM Detected 110 ( 0.5%) items with no interactions.\n",
      "EvaluatorHoldout: Processed 10467 (100.0%) in 7.14 sec. Users per second: 1465\n"
     ]
    },
    {
     "name": "stderr",
     "output_type": "stream",
     "text": [
      "[I 2023-12-27 23:10:12,468] Trial 73 finished with value: 0.043691109321663146 and parameters: {'alpha': 0.9980070104869289}. Best is trial 38 with value: 0.044364878431230534.\n"
     ]
    },
    {
     "name": "stdout",
     "output_type": "stream",
     "text": [
      "TwoScoresHybridRecommender: URM Detected 228 ( 1.8%) users with no interactions.\n",
      "TwoScoresHybridRecommender: URM Detected 110 ( 0.5%) items with no interactions.\n",
      "EvaluatorHoldout: Processed 10467 (100.0%) in 7.25 sec. Users per second: 1443\n"
     ]
    },
    {
     "name": "stderr",
     "output_type": "stream",
     "text": [
      "[I 2023-12-27 23:10:19,758] Trial 74 finished with value: 0.04433365027804764 and parameters: {'alpha': 0.9182521466181355}. Best is trial 38 with value: 0.044364878431230534.\n"
     ]
    },
    {
     "name": "stdout",
     "output_type": "stream",
     "text": [
      "TwoScoresHybridRecommender: URM Detected 228 ( 1.8%) users with no interactions.\n",
      "TwoScoresHybridRecommender: URM Detected 110 ( 0.5%) items with no interactions.\n",
      "EvaluatorHoldout: Processed 10467 (100.0%) in 6.96 sec. Users per second: 1504\n"
     ]
    },
    {
     "name": "stderr",
     "output_type": "stream",
     "text": [
      "[I 2023-12-27 23:10:26,748] Trial 75 finished with value: 0.04421823463311064 and parameters: {'alpha': 0.8999114740825339}. Best is trial 38 with value: 0.044364878431230534.\n"
     ]
    },
    {
     "name": "stdout",
     "output_type": "stream",
     "text": [
      "TwoScoresHybridRecommender: URM Detected 228 ( 1.8%) users with no interactions.\n",
      "TwoScoresHybridRecommender: URM Detected 110 ( 0.5%) items with no interactions.\n",
      "EvaluatorHoldout: Processed 10467 (100.0%) in 7.04 sec. Users per second: 1487\n"
     ]
    },
    {
     "name": "stderr",
     "output_type": "stream",
     "text": [
      "[I 2023-12-27 23:10:33,813] Trial 76 finished with value: 0.04436059436991008 and parameters: {'alpha': 0.9454601378693941}. Best is trial 38 with value: 0.044364878431230534.\n"
     ]
    },
    {
     "name": "stdout",
     "output_type": "stream",
     "text": [
      "TwoScoresHybridRecommender: URM Detected 228 ( 1.8%) users with no interactions.\n",
      "TwoScoresHybridRecommender: URM Detected 110 ( 0.5%) items with no interactions.\n",
      "EvaluatorHoldout: Processed 10467 (100.0%) in 7.04 sec. Users per second: 1487\n"
     ]
    },
    {
     "name": "stderr",
     "output_type": "stream",
     "text": [
      "[I 2023-12-27 23:10:40,884] Trial 77 finished with value: 0.04405639189531492 and parameters: {'alpha': 0.9680668395104429}. Best is trial 38 with value: 0.044364878431230534.\n"
     ]
    },
    {
     "name": "stdout",
     "output_type": "stream",
     "text": [
      "TwoScoresHybridRecommender: URM Detected 228 ( 1.8%) users with no interactions.\n",
      "TwoScoresHybridRecommender: URM Detected 110 ( 0.5%) items with no interactions.\n",
      "EvaluatorHoldout: Processed 10467 (100.0%) in 6.97 sec. Users per second: 1502\n"
     ]
    },
    {
     "name": "stderr",
     "output_type": "stream",
     "text": [
      "[I 2023-12-27 23:10:47,884] Trial 78 finished with value: 0.04393717746326005 and parameters: {'alpha': 0.872028670313899}. Best is trial 38 with value: 0.044364878431230534.\n"
     ]
    },
    {
     "name": "stdout",
     "output_type": "stream",
     "text": [
      "TwoScoresHybridRecommender: URM Detected 228 ( 1.8%) users with no interactions.\n",
      "TwoScoresHybridRecommender: URM Detected 110 ( 0.5%) items with no interactions.\n",
      "EvaluatorHoldout: Processed 10467 (100.0%) in 7.00 sec. Users per second: 1496\n"
     ]
    },
    {
     "name": "stderr",
     "output_type": "stream",
     "text": [
      "[I 2023-12-27 23:10:54,909] Trial 79 finished with value: 0.044340660215553454 and parameters: {'alpha': 0.9445130948017602}. Best is trial 38 with value: 0.044364878431230534.\n"
     ]
    },
    {
     "name": "stdout",
     "output_type": "stream",
     "text": [
      "TwoScoresHybridRecommender: URM Detected 228 ( 1.8%) users with no interactions.\n",
      "TwoScoresHybridRecommender: URM Detected 110 ( 0.5%) items with no interactions.\n",
      "EvaluatorHoldout: Processed 10467 (100.0%) in 6.96 sec. Users per second: 1505\n"
     ]
    },
    {
     "name": "stderr",
     "output_type": "stream",
     "text": [
      "[I 2023-12-27 23:11:01,895] Trial 80 finished with value: 0.04365318590096526 and parameters: {'alpha': 0.8310382931952565}. Best is trial 38 with value: 0.044364878431230534.\n"
     ]
    },
    {
     "name": "stdout",
     "output_type": "stream",
     "text": [
      "TwoScoresHybridRecommender: URM Detected 228 ( 1.8%) users with no interactions.\n",
      "TwoScoresHybridRecommender: URM Detected 110 ( 0.5%) items with no interactions.\n",
      "EvaluatorHoldout: Processed 10467 (100.0%) in 6.97 sec. Users per second: 1501\n"
     ]
    },
    {
     "name": "stderr",
     "output_type": "stream",
     "text": [
      "[I 2023-12-27 23:11:08,898] Trial 81 finished with value: 0.04431655573601763 and parameters: {'alpha': 0.9392889543850309}. Best is trial 38 with value: 0.044364878431230534.\n"
     ]
    },
    {
     "name": "stdout",
     "output_type": "stream",
     "text": [
      "TwoScoresHybridRecommender: URM Detected 228 ( 1.8%) users with no interactions.\n",
      "TwoScoresHybridRecommender: URM Detected 110 ( 0.5%) items with no interactions.\n",
      "EvaluatorHoldout: Processed 10467 (100.0%) in 6.87 sec. Users per second: 1523\n"
     ]
    },
    {
     "name": "stderr",
     "output_type": "stream",
     "text": [
      "[I 2023-12-27 23:11:15,799] Trial 82 finished with value: 0.044342044005271995 and parameters: {'alpha': 0.944349874384419}. Best is trial 38 with value: 0.044364878431230534.\n"
     ]
    },
    {
     "name": "stdout",
     "output_type": "stream",
     "text": [
      "TwoScoresHybridRecommender: URM Detected 228 ( 1.8%) users with no interactions.\n",
      "TwoScoresHybridRecommender: URM Detected 110 ( 0.5%) items with no interactions.\n",
      "EvaluatorHoldout: Processed 10467 (100.0%) in 6.88 sec. Users per second: 1521\n"
     ]
    },
    {
     "name": "stderr",
     "output_type": "stream",
     "text": [
      "[I 2023-12-27 23:11:22,707] Trial 83 finished with value: 0.043938117682027766 and parameters: {'alpha': 0.9739918975724892}. Best is trial 38 with value: 0.044364878431230534.\n"
     ]
    },
    {
     "name": "stdout",
     "output_type": "stream",
     "text": [
      "TwoScoresHybridRecommender: URM Detected 228 ( 1.8%) users with no interactions.\n",
      "TwoScoresHybridRecommender: URM Detected 110 ( 0.5%) items with no interactions.\n",
      "EvaluatorHoldout: Processed 10467 (100.0%) in 7.02 sec. Users per second: 1490\n"
     ]
    },
    {
     "name": "stderr",
     "output_type": "stream",
     "text": [
      "[I 2023-12-27 23:11:29,760] Trial 84 finished with value: 0.04435921816260094 and parameters: {'alpha': 0.9454205714902372}. Best is trial 38 with value: 0.044364878431230534.\n"
     ]
    },
    {
     "name": "stdout",
     "output_type": "stream",
     "text": [
      "TwoScoresHybridRecommender: URM Detected 228 ( 1.8%) users with no interactions.\n",
      "TwoScoresHybridRecommender: URM Detected 110 ( 0.5%) items with no interactions.\n",
      "EvaluatorHoldout: Processed 10467 (100.0%) in 6.95 sec. Users per second: 1507\n"
     ]
    },
    {
     "name": "stderr",
     "output_type": "stream",
     "text": [
      "[I 2023-12-27 23:11:36,737] Trial 85 finished with value: 0.04393113428295498 and parameters: {'alpha': 0.981532118303889}. Best is trial 38 with value: 0.044364878431230534.\n"
     ]
    },
    {
     "name": "stdout",
     "output_type": "stream",
     "text": [
      "TwoScoresHybridRecommender: URM Detected 228 ( 1.8%) users with no interactions.\n",
      "TwoScoresHybridRecommender: URM Detected 110 ( 0.5%) items with no interactions.\n",
      "EvaluatorHoldout: Processed 10467 (100.0%) in 6.95 sec. Users per second: 1505\n"
     ]
    },
    {
     "name": "stderr",
     "output_type": "stream",
     "text": [
      "[I 2023-12-27 23:11:43,718] Trial 86 finished with value: 0.044342279059963935 and parameters: {'alpha': 0.9475129051919223}. Best is trial 38 with value: 0.044364878431230534.\n"
     ]
    },
    {
     "name": "stdout",
     "output_type": "stream",
     "text": [
      "TwoScoresHybridRecommender: URM Detected 228 ( 1.8%) users with no interactions.\n",
      "TwoScoresHybridRecommender: URM Detected 110 ( 0.5%) items with no interactions.\n",
      "EvaluatorHoldout: Processed 10467 (100.0%) in 7.08 sec. Users per second: 1479\n"
     ]
    },
    {
     "name": "stderr",
     "output_type": "stream",
     "text": [
      "[I 2023-12-27 23:11:50,825] Trial 87 finished with value: 0.044324092650977864 and parameters: {'alpha': 0.9488341356223068}. Best is trial 38 with value: 0.044364878431230534.\n"
     ]
    },
    {
     "name": "stdout",
     "output_type": "stream",
     "text": [
      "TwoScoresHybridRecommender: URM Detected 228 ( 1.8%) users with no interactions.\n",
      "TwoScoresHybridRecommender: URM Detected 110 ( 0.5%) items with no interactions.\n",
      "EvaluatorHoldout: Processed 10467 (100.0%) in 11.22 sec. Users per second: 933\n"
     ]
    },
    {
     "name": "stderr",
     "output_type": "stream",
     "text": [
      "[I 2023-12-27 23:12:02,079] Trial 88 finished with value: 0.04392818093448706 and parameters: {'alpha': 0.8735210247811157}. Best is trial 38 with value: 0.044364878431230534.\n"
     ]
    },
    {
     "name": "stdout",
     "output_type": "stream",
     "text": [
      "TwoScoresHybridRecommender: URM Detected 228 ( 1.8%) users with no interactions.\n",
      "TwoScoresHybridRecommender: URM Detected 110 ( 0.5%) items with no interactions.\n",
      "EvaluatorHoldout: Processed 10467 (100.0%) in 9.91 sec. Users per second: 1056\n"
     ]
    },
    {
     "name": "stderr",
     "output_type": "stream",
     "text": [
      "[I 2023-12-27 23:12:12,033] Trial 89 finished with value: 0.044318299690183485 and parameters: {'alpha': 0.9495352500858298}. Best is trial 38 with value: 0.044364878431230534.\n"
     ]
    },
    {
     "name": "stdout",
     "output_type": "stream",
     "text": [
      "TwoScoresHybridRecommender: URM Detected 228 ( 1.8%) users with no interactions.\n",
      "TwoScoresHybridRecommender: URM Detected 110 ( 0.5%) items with no interactions.\n",
      "EvaluatorHoldout: Processed 10467 (100.0%) in 9.61 sec. Users per second: 1090\n"
     ]
    },
    {
     "name": "stderr",
     "output_type": "stream",
     "text": [
      "[I 2023-12-27 23:12:21,682] Trial 90 finished with value: 0.04372068071838846 and parameters: {'alpha': 0.9973884984097643}. Best is trial 38 with value: 0.044364878431230534.\n"
     ]
    },
    {
     "name": "stdout",
     "output_type": "stream",
     "text": [
      "TwoScoresHybridRecommender: URM Detected 228 ( 1.8%) users with no interactions.\n",
      "TwoScoresHybridRecommender: URM Detected 110 ( 0.5%) items with no interactions.\n",
      "EvaluatorHoldout: Processed 10467 (100.0%) in 11.26 sec. Users per second: 930\n"
     ]
    },
    {
     "name": "stderr",
     "output_type": "stream",
     "text": [
      "[I 2023-12-27 23:12:32,989] Trial 91 finished with value: 0.044164702822628375 and parameters: {'alpha': 0.8958175812003077}. Best is trial 38 with value: 0.044364878431230534.\n"
     ]
    },
    {
     "name": "stdout",
     "output_type": "stream",
     "text": [
      "TwoScoresHybridRecommender: URM Detected 228 ( 1.8%) users with no interactions.\n",
      "TwoScoresHybridRecommender: URM Detected 110 ( 0.5%) items with no interactions.\n",
      "EvaluatorHoldout: Processed 10467 (100.0%) in 12.25 sec. Users per second: 855\n"
     ]
    },
    {
     "name": "stderr",
     "output_type": "stream",
     "text": [
      "[I 2023-12-27 23:12:45,284] Trial 92 finished with value: 0.044333585827567586 and parameters: {'alpha': 0.9309037854015424}. Best is trial 38 with value: 0.044364878431230534.\n"
     ]
    },
    {
     "name": "stdout",
     "output_type": "stream",
     "text": [
      "TwoScoresHybridRecommender: URM Detected 228 ( 1.8%) users with no interactions.\n",
      "TwoScoresHybridRecommender: URM Detected 110 ( 0.5%) items with no interactions.\n",
      "EvaluatorHoldout: Processed 10467 (100.0%) in 10.19 sec. Users per second: 1027\n"
     ]
    },
    {
     "name": "stderr",
     "output_type": "stream",
     "text": [
      "[I 2023-12-27 23:12:55,527] Trial 93 finished with value: 0.04410516195268339 and parameters: {'alpha': 0.8881350280370399}. Best is trial 38 with value: 0.044364878431230534.\n"
     ]
    },
    {
     "name": "stdout",
     "output_type": "stream",
     "text": [
      "TwoScoresHybridRecommender: URM Detected 228 ( 1.8%) users with no interactions.\n",
      "TwoScoresHybridRecommender: URM Detected 110 ( 0.5%) items with no interactions.\n",
      "EvaluatorHoldout: Processed 10467 (100.0%) in 9.76 sec. Users per second: 1073\n"
     ]
    },
    {
     "name": "stderr",
     "output_type": "stream",
     "text": [
      "[I 2023-12-27 23:13:05,320] Trial 94 finished with value: 0.043915408365824596 and parameters: {'alpha': 0.9751378330005503}. Best is trial 38 with value: 0.044364878431230534.\n"
     ]
    },
    {
     "name": "stdout",
     "output_type": "stream",
     "text": [
      "TwoScoresHybridRecommender: URM Detected 228 ( 1.8%) users with no interactions.\n",
      "TwoScoresHybridRecommender: URM Detected 110 ( 0.5%) items with no interactions.\n",
      "EvaluatorHoldout: Processed 10467 (100.0%) in 9.66 sec. Users per second: 1083\n"
     ]
    },
    {
     "name": "stderr",
     "output_type": "stream",
     "text": [
      "[I 2023-12-27 23:13:15,023] Trial 95 finished with value: 0.044331477917749766 and parameters: {'alpha': 0.9481784299712142}. Best is trial 38 with value: 0.044364878431230534.\n"
     ]
    },
    {
     "name": "stdout",
     "output_type": "stream",
     "text": [
      "TwoScoresHybridRecommender: URM Detected 228 ( 1.8%) users with no interactions.\n",
      "TwoScoresHybridRecommender: URM Detected 110 ( 0.5%) items with no interactions.\n",
      "EvaluatorHoldout: Processed 10467 (100.0%) in 10.35 sec. Users per second: 1011\n"
     ]
    },
    {
     "name": "stderr",
     "output_type": "stream",
     "text": [
      "[I 2023-12-27 23:13:25,417] Trial 96 finished with value: 0.043707733754309204 and parameters: {'alpha': 0.8423846107292848}. Best is trial 38 with value: 0.044364878431230534.\n"
     ]
    },
    {
     "name": "stdout",
     "output_type": "stream",
     "text": [
      "TwoScoresHybridRecommender: URM Detected 228 ( 1.8%) users with no interactions.\n",
      "TwoScoresHybridRecommender: URM Detected 110 ( 0.5%) items with no interactions.\n",
      "EvaluatorHoldout: Processed 10467 (100.0%) in 11.04 sec. Users per second: 948\n"
     ]
    },
    {
     "name": "stderr",
     "output_type": "stream",
     "text": [
      "[I 2023-12-27 23:13:36,494] Trial 97 finished with value: 0.044350847182604826 and parameters: {'alpha': 0.9147138087332425}. Best is trial 38 with value: 0.044364878431230534.\n"
     ]
    },
    {
     "name": "stdout",
     "output_type": "stream",
     "text": [
      "TwoScoresHybridRecommender: URM Detected 228 ( 1.8%) users with no interactions.\n",
      "TwoScoresHybridRecommender: URM Detected 110 ( 0.5%) items with no interactions.\n",
      "EvaluatorHoldout: Processed 10467 (100.0%) in 10.09 sec. Users per second: 1038\n"
     ]
    },
    {
     "name": "stderr",
     "output_type": "stream",
     "text": [
      "[I 2023-12-27 23:13:46,623] Trial 98 finished with value: 0.04395953040622063 and parameters: {'alpha': 0.9805271470721086}. Best is trial 38 with value: 0.044364878431230534.\n"
     ]
    },
    {
     "name": "stdout",
     "output_type": "stream",
     "text": [
      "TwoScoresHybridRecommender: URM Detected 228 ( 1.8%) users with no interactions.\n",
      "TwoScoresHybridRecommender: URM Detected 110 ( 0.5%) items with no interactions.\n",
      "EvaluatorHoldout: Processed 10467 (100.0%) in 9.89 sec. Users per second: 1058\n"
     ]
    },
    {
     "name": "stderr",
     "output_type": "stream",
     "text": [
      "[I 2023-12-27 23:13:56,581] Trial 99 finished with value: 0.04388893817455066 and parameters: {'alpha': 0.8649366790857156}. Best is trial 38 with value: 0.044364878431230534.\n"
     ]
    }
   ],
   "source": [
    "study_name = \"knn-multvae-study\"  # Unique identifier of the study.\n",
    "storage_name = \"sqlite:///db.db\"\n",
    "#op.delete_study(study_name, storage_name)\n",
    "study = op.create_study(study_name=study_name, storage=storage_name, direction=\"maximize\", load_if_exists=True)\n",
    "study.optimize(objective, n_trials=100)"
   ],
   "metadata": {
    "collapsed": false,
    "ExecuteTime": {
     "end_time": "2023-12-27T20:13:56.597236Z",
     "start_time": "2023-12-27T20:01:37.074974Z"
    }
   },
   "id": "932910b333072bf8"
  },
  {
   "cell_type": "code",
   "execution_count": 12,
   "outputs": [
    {
     "data": {
      "text/plain": "{'alpha': 0.9341471759658744}"
     },
     "execution_count": 12,
     "metadata": {},
     "output_type": "execute_result"
    }
   ],
   "source": [
    "study.best_params"
   ],
   "metadata": {
    "collapsed": false,
    "ExecuteTime": {
     "end_time": "2023-12-26T01:24:57.434603Z",
     "start_time": "2023-12-26T01:24:57.426362Z"
    }
   },
   "id": "4f5abc04ab181a28"
  }
 ],
 "metadata": {
  "kernelspec": {
   "display_name": "Python 3",
   "language": "python",
   "name": "python3"
  },
  "language_info": {
   "codemirror_mode": {
    "name": "ipython",
    "version": 2
   },
   "file_extension": ".py",
   "mimetype": "text/x-python",
   "name": "python",
   "nbconvert_exporter": "python",
   "pygments_lexer": "ipython2",
   "version": "2.7.6"
  }
 },
 "nbformat": 4,
 "nbformat_minor": 5
}
