{
 "cells": [
  {
   "cell_type": "code",
   "execution_count": 1,
   "outputs": [
    {
     "name": "stdout",
     "output_type": "stream",
     "text": [
      "Warning: 247 (1.95 %) of 12638 users have no train items\n",
      "Warning: 2112 (16.71 %) of 12638 users have no sampled items\n"
     ]
    }
   ],
   "source": [
    "from Data_manager.UserUtils import *\n",
    "from Data_manager.split_functions.split_train_validation_random_holdout import \\\n",
    "    split_train_in_two_percentage_global_sample\n",
    "URM_all = getURM_all()\n",
    "URM_train_validation, URM_test = split_train_in_two_percentage_global_sample(URM_all, train_percentage = 0.80)"
   ],
   "metadata": {
    "collapsed": false,
    "ExecuteTime": {
     "end_time": "2023-12-28T21:34:01.060812Z",
     "start_time": "2023-12-28T21:33:59.446438Z"
    }
   },
   "id": "a884190b64cf557"
  },
  {
   "cell_type": "code",
   "execution_count": 2,
   "outputs": [],
   "source": [
    "import pickle\n",
    "\n",
    "with open('URM_train_validation.pkl', 'rb') as f:\n",
    "    URM_train_validation = pickle.load(f)\n",
    "with open('URM_test.pkl', 'rb') as f:\n",
    "    URM_test = pickle.load(f)"
   ],
   "metadata": {
    "collapsed": false,
    "ExecuteTime": {
     "end_time": "2023-12-28T21:34:14.567184Z",
     "start_time": "2023-12-28T21:34:14.559440Z"
    }
   },
   "id": "e40223c1e1d7469d"
  },
  {
   "cell_type": "code",
   "execution_count": 3,
   "outputs": [
    {
     "name": "stdout",
     "output_type": "stream",
     "text": [
      "SLIMElasticNetRecommender: URM Detected 205 ( 1.6%) users with no interactions.\n",
      "SLIMElasticNetRecommender: URM Detected 109 ( 0.5%) items with no interactions.\n",
      "SLIMElasticNetRecommender: Processed 22222 (100.0%) in 4.51 min. Items per second: 82.19\n",
      "RP3betaRecommender: URM Detected 205 ( 1.6%) users with no interactions.\n",
      "RP3betaRecommender: URM Detected 109 ( 0.5%) items with no interactions.\n",
      "RP3betaRecommender: Similarity column 22222 (100.0%), 7272.35 column/sec. Elapsed time 3.06 sec\n",
      "UserKNNCFRecommender: URM Detected 205 ( 1.6%) users with no interactions.\n",
      "UserKNNCFRecommender: URM Detected 109 ( 0.5%) items with no interactions.\n",
      "Similarity column 12638 (100.0%), 10232.89 column/sec. Elapsed time 1.24 sec\n",
      "ItemKNNCFRecommender: URM Detected 205 ( 1.6%) users with no interactions.\n",
      "ItemKNNCFRecommender: URM Detected 109 ( 0.5%) items with no interactions.\n",
      "Similarity column 22222 (100.0%), 10202.35 column/sec. Elapsed time 2.18 sec\n",
      "EASE_R_Recommender: URM Detected 205 ( 1.6%) users with no interactions.\n",
      "EASE_R_Recommender: URM Detected 109 ( 0.5%) items with no interactions.\n",
      "EASE_R_Recommender: Fitting model... \n",
      "EASE_R_Recommender: Fitting model... done in 2.23 min\n",
      "EvaluatorHoldout: Ignoring 2203 (17.4%) Users that have less than 1 test interactions\n"
     ]
    }
   ],
   "source": [
    "from Hybrid import *\n",
    "from Recommenders.SLIM.SLIMElasticNetRecommender import *\n",
    "from Recommenders.MatrixFactorization.PureSVDRecommender import PureSVDRecommender\n",
    "from Recommenders.GraphBased.P3alphaRecommender import P3alphaRecommender\n",
    "from Recommenders.GraphBased.RP3betaRecommender import RP3betaRecommender\n",
    "from Recommenders.KNN.UserKNNCFRecommender import UserKNNCFRecommender\n",
    "from Recommenders.KNN.ItemKNNCFRecommender import ItemKNNCFRecommender\n",
    "from Recommenders.EASE_R.EASE_R_Recommender import EASE_R_Recommender\n",
    "## SLIM\n",
    "slim = SLIMElasticNetRecommender(URM_train_validation)\n",
    "slim.fit(topK=8894, l1_ratio=0.05565733019999427, alpha=0.0012979360257937668)#, workers=7)\n",
    "## RP3BETA\n",
    "rp3beta = RP3betaRecommender(URM_train_validation)\n",
    "rp3beta.fit(alpha=0.20026352123406477, beta=0.15999879728761354, topK=32)\n",
    "## USER KNN\n",
    "userknn = UserKNNCFRecommender(URM_train_validation)\n",
    "userknn.fit(topK=469, shrink=38, similarity='asymmetric', normalize=True,\n",
    "                                       feature_weighting='TF-IDF', asymmetric_alpha=0.40077406933762383)\n",
    "## ITEM KNN\n",
    "itemknn = ItemKNNCFRecommender(URM_train_validation)\n",
    "itemknn.fit(topK=31, shrink=435, similarity='tversky', normalize=True,\n",
    "                                       feature_weighting='BM25', tversky_alpha=0.17113169506422393, tversky_beta=0.5684024974085575)\n",
    "## EASE_R\n",
    "ease_r = EASE_R_Recommender(URM_train_validation)\n",
    "ease_r.fit(topK=24, l2_norm=37.54323189430143)\n",
    "\n",
    "model = LinearHybridRecommender\n",
    "\n",
    "from Evaluation.Evaluator import EvaluatorHoldout\n",
    "\n",
    "evaluator_validation = EvaluatorHoldout(URM_test, cutoff_list=[10])"
   ],
   "metadata": {
    "collapsed": false,
    "ExecuteTime": {
     "end_time": "2023-12-28T21:41:24.477072Z",
     "start_time": "2023-12-28T21:34:22.738120Z"
    }
   },
   "id": "7789e39614525279"
  },
  {
   "cell_type": "code",
   "execution_count": 4,
   "outputs": [
    {
     "name": "stdout",
     "output_type": "stream",
     "text": [
      "TwoScoresHybridRecommender: URM Detected 205 ( 1.6%) users with no interactions.\n",
      "TwoScoresHybridRecommender: URM Detected 109 ( 0.5%) items with no interactions.\n"
     ]
    }
   ],
   "source": [
    "knn = TwoScoresHybridRecommender(URM_train_validation, userknn, itemknn)\n",
    "knn.fit(alpha=0.022195783788315104)"
   ],
   "metadata": {
    "collapsed": false,
    "ExecuteTime": {
     "end_time": "2023-12-28T21:42:12.637066Z",
     "start_time": "2023-12-28T21:42:12.619601Z"
    }
   },
   "id": "565e84e394099372"
  },
  {
   "cell_type": "code",
   "execution_count": 5,
   "outputs": [
    {
     "name": "stdout",
     "output_type": "stream",
     "text": [
      "IALSRecommender: URM Detected 205 ( 1.6%) users with no interactions.\n",
      "IALSRecommender: URM Detected 109 ( 0.5%) items with no interactions.\n",
      "IALSRecommender: Loading model from file 'slim_models/IALS_train_validation'\n",
      "IALSRecommender: Loading complete\n"
     ]
    }
   ],
   "source": [
    "from Recommenders.MatrixFactorization.IALSRecommender import IALSRecommender\n",
    "\n",
    "ials = IALSRecommender(URM_train_validation)\n",
    "ials.load_model(folder_path=\"slim_models/\", file_name=\"IALS_train_validation\")"
   ],
   "metadata": {
    "collapsed": false,
    "ExecuteTime": {
     "end_time": "2023-12-28T21:42:15.525650Z",
     "start_time": "2023-12-28T21:42:15.203518Z"
    }
   },
   "id": "de07452a3f9091e"
  },
  {
   "cell_type": "code",
   "execution_count": 19,
   "outputs": [
    {
     "name": "stdout",
     "output_type": "stream",
     "text": [
      "SLIMElasticNetRP3betaTwoScoresHybridEASE_R_HybridRecommender: URM Detected 205 ( 1.6%) users with no interactions.\n",
      "SLIMElasticNetRP3betaTwoScoresHybridEASE_R_HybridRecommender: URM Detected 109 ( 0.5%) items with no interactions.\n",
      "TwoScoresHybridRecommender: URM Detected 205 ( 1.6%) users with no interactions.\n",
      "TwoScoresHybridRecommender: URM Detected 109 ( 0.5%) items with no interactions.\n"
     ]
    }
   ],
   "source": [
    "hybrid = LinearHybridRecommender(URM_train_validation, [slim, rp3beta, knn, ease_r])\n",
    "hybrid.fit(alphas=[0.8857667100747117, 0.6379807942443021, 0.0690929184825888, 0.11953478623354052])\n",
    "hybrid_recommender = TwoScoresHybridRecommender(URM_train_validation, hybrid, ials)"
   ],
   "metadata": {
    "collapsed": false,
    "ExecuteTime": {
     "end_time": "2023-12-28T21:52:57.559340Z",
     "start_time": "2023-12-28T21:52:57.547037Z"
    }
   },
   "id": "1cf94f3d15cce754"
  },
  {
   "cell_type": "code",
   "execution_count": 20,
   "outputs": [],
   "source": [
    "import optuna as op\n",
    "def objective(trial):\n",
    "    alpha = trial.suggest_float('alpha', 0, 1)\n",
    "    \n",
    "    # Create hybrid recommender with the suggested weights\n",
    "    hybrid_recommender.fit(alpha=alpha)\n",
    "    \n",
    "    # Evaluate the hybrid recommender\n",
    "    result, _ = evaluator_validation.evaluateRecommender(hybrid_recommender)\n",
    "    MAP_result = result[\"MAP\"].item()\n",
    "       \n",
    "    return MAP_result"
   ],
   "metadata": {
    "collapsed": false,
    "ExecuteTime": {
     "end_time": "2023-12-28T21:52:59.777442Z",
     "start_time": "2023-12-28T21:52:59.774149Z"
    }
   },
   "id": "23a7609029f4e05e"
  },
  {
   "cell_type": "code",
   "execution_count": 21,
   "outputs": [
    {
     "name": "stderr",
     "output_type": "stream",
     "text": [
      "/var/folders/l3/n3yjvx_d2g9dy0ztkyft2th40000gn/T/ipykernel_19066/1644483355.py:6: FutureWarning: delete_study(): Please give all values as keyword arguments. See https://github.com/optuna/optuna/issues/3324 for details.\n",
      "  op.delete_study(study_name, storage_name)\n",
      "[I 2023-12-29 00:53:07,090] A new study created in RDB with name: hybrid-IALS-study\n"
     ]
    },
    {
     "name": "stdout",
     "output_type": "stream",
     "text": [
      "EvaluatorHoldout: Processed 10435 (100.0%) in 9.54 sec. Users per second: 1094\n"
     ]
    },
    {
     "name": "stderr",
     "output_type": "stream",
     "text": [
      "[I 2023-12-29 00:53:16,657] Trial 0 finished with value: 0.052030673633453296 and parameters: {'alpha': 1.0}. Best is trial 0 with value: 0.052030673633453296.\n"
     ]
    },
    {
     "name": "stdout",
     "output_type": "stream",
     "text": [
      "EvaluatorHoldout: Processed 10435 (100.0%) in 9.60 sec. Users per second: 1087\n"
     ]
    },
    {
     "name": "stderr",
     "output_type": "stream",
     "text": [
      "[I 2023-12-29 00:53:26,278] Trial 1 finished with value: 0.036898932165104155 and parameters: {'alpha': 0.04804232856077917}. Best is trial 0 with value: 0.052030673633453296.\n"
     ]
    },
    {
     "name": "stdout",
     "output_type": "stream",
     "text": [
      "EvaluatorHoldout: Processed 10435 (100.0%) in 9.33 sec. Users per second: 1118\n"
     ]
    },
    {
     "name": "stderr",
     "output_type": "stream",
     "text": [
      "[I 2023-12-29 00:53:35,632] Trial 2 finished with value: 0.04894051612020072 and parameters: {'alpha': 0.5783954317915515}. Best is trial 0 with value: 0.052030673633453296.\n"
     ]
    },
    {
     "name": "stdout",
     "output_type": "stream",
     "text": [
      "EvaluatorHoldout: Processed 10435 (100.0%) in 9.21 sec. Users per second: 1133\n"
     ]
    },
    {
     "name": "stderr",
     "output_type": "stream",
     "text": [
      "[I 2023-12-29 00:53:44,860] Trial 3 finished with value: 0.04774738175097628 and parameters: {'alpha': 0.5063291582038569}. Best is trial 0 with value: 0.052030673633453296.\n"
     ]
    },
    {
     "name": "stdout",
     "output_type": "stream",
     "text": [
      "EvaluatorHoldout: Processed 10435 (100.0%) in 9.35 sec. Users per second: 1116\n"
     ]
    },
    {
     "name": "stderr",
     "output_type": "stream",
     "text": [
      "[I 2023-12-29 00:53:54,235] Trial 4 finished with value: 0.051765665761593596 and parameters: {'alpha': 0.8862809432876636}. Best is trial 0 with value: 0.052030673633453296.\n"
     ]
    },
    {
     "name": "stdout",
     "output_type": "stream",
     "text": [
      "EvaluatorHoldout: Processed 10435 (100.0%) in 9.51 sec. Users per second: 1097\n"
     ]
    },
    {
     "name": "stderr",
     "output_type": "stream",
     "text": [
      "[I 2023-12-29 00:54:03,766] Trial 5 finished with value: 0.049196914383067517 and parameters: {'alpha': 0.5960704035119145}. Best is trial 0 with value: 0.052030673633453296.\n"
     ]
    },
    {
     "name": "stdout",
     "output_type": "stream",
     "text": [
      "EvaluatorHoldout: Processed 10435 (100.0%) in 9.06 sec. Users per second: 1152\n"
     ]
    },
    {
     "name": "stderr",
     "output_type": "stream",
     "text": [
      "[I 2023-12-29 00:54:12,847] Trial 6 finished with value: 0.048686749416266266 and parameters: {'alpha': 0.5620562079088051}. Best is trial 0 with value: 0.052030673633453296.\n"
     ]
    },
    {
     "name": "stdout",
     "output_type": "stream",
     "text": [
      "EvaluatorHoldout: Processed 10435 (100.0%) in 9.04 sec. Users per second: 1154\n"
     ]
    },
    {
     "name": "stderr",
     "output_type": "stream",
     "text": [
      "[I 2023-12-29 00:54:21,911] Trial 7 finished with value: 0.05171425529163983 and parameters: {'alpha': 0.900568586689093}. Best is trial 0 with value: 0.052030673633453296.\n"
     ]
    },
    {
     "name": "stdout",
     "output_type": "stream",
     "text": [
      "EvaluatorHoldout: Processed 10435 (100.0%) in 9.04 sec. Users per second: 1155\n"
     ]
    },
    {
     "name": "stderr",
     "output_type": "stream",
     "text": [
      "[I 2023-12-29 00:54:30,966] Trial 8 finished with value: 0.05170347046341367 and parameters: {'alpha': 0.8480385115966776}. Best is trial 0 with value: 0.052030673633453296.\n"
     ]
    },
    {
     "name": "stdout",
     "output_type": "stream",
     "text": [
      "EvaluatorHoldout: Processed 10435 (100.0%) in 9.11 sec. Users per second: 1146\n"
     ]
    },
    {
     "name": "stderr",
     "output_type": "stream",
     "text": [
      "[I 2023-12-29 00:54:40,094] Trial 9 finished with value: 0.03905117849727377 and parameters: {'alpha': 0.1338753037180761}. Best is trial 0 with value: 0.052030673633453296.\n"
     ]
    },
    {
     "name": "stdout",
     "output_type": "stream",
     "text": [
      "EvaluatorHoldout: Processed 10435 (100.0%) in 9.16 sec. Users per second: 1139\n"
     ]
    },
    {
     "name": "stderr",
     "output_type": "stream",
     "text": [
      "[I 2023-12-29 00:54:49,280] Trial 10 finished with value: 0.05201123356226438 and parameters: {'alpha': 0.967911676960676}. Best is trial 0 with value: 0.052030673633453296.\n"
     ]
    },
    {
     "name": "stdout",
     "output_type": "stream",
     "text": [
      "EvaluatorHoldout: Processed 10435 (100.0%) in 9.13 sec. Users per second: 1143\n"
     ]
    },
    {
     "name": "stderr",
     "output_type": "stream",
     "text": [
      "[I 2023-12-29 00:54:58,436] Trial 11 finished with value: 0.05196316578060776 and parameters: {'alpha': 0.9556530439722676}. Best is trial 0 with value: 0.052030673633453296.\n"
     ]
    },
    {
     "name": "stdout",
     "output_type": "stream",
     "text": [
      "EvaluatorHoldout: Processed 10435 (100.0%) in 8.97 sec. Users per second: 1163\n"
     ]
    },
    {
     "name": "stderr",
     "output_type": "stream",
     "text": [
      "[I 2023-12-29 00:55:07,425] Trial 12 finished with value: 0.051039245214138 and parameters: {'alpha': 0.7595658516539485}. Best is trial 0 with value: 0.052030673633453296.\n"
     ]
    },
    {
     "name": "stdout",
     "output_type": "stream",
     "text": [
      "EvaluatorHoldout: Processed 10435 (100.0%) in 8.99 sec. Users per second: 1161\n"
     ]
    },
    {
     "name": "stderr",
     "output_type": "stream",
     "text": [
      "[I 2023-12-29 00:55:16,435] Trial 13 finished with value: 0.052026395448772626 and parameters: {'alpha': 0.9911200042410971}. Best is trial 0 with value: 0.052030673633453296.\n"
     ]
    },
    {
     "name": "stdout",
     "output_type": "stream",
     "text": [
      "EvaluatorHoldout: Processed 10435 (100.0%) in 8.92 sec. Users per second: 1169\n"
     ]
    },
    {
     "name": "stderr",
     "output_type": "stream",
     "text": [
      "[I 2023-12-29 00:55:25,379] Trial 14 finished with value: 0.05090386443668728 and parameters: {'alpha': 0.7447020029024422}. Best is trial 0 with value: 0.052030673633453296.\n"
     ]
    },
    {
     "name": "stdout",
     "output_type": "stream",
     "text": [
      "EvaluatorHoldout: Processed 10435 (100.0%) in 8.97 sec. Users per second: 1163\n"
     ]
    },
    {
     "name": "stderr",
     "output_type": "stream",
     "text": [
      "[I 2023-12-29 00:55:34,373] Trial 15 finished with value: 0.05198141936857859 and parameters: {'alpha': 0.9629949916589032}. Best is trial 0 with value: 0.052030673633453296.\n"
     ]
    },
    {
     "name": "stdout",
     "output_type": "stream",
     "text": [
      "EvaluatorHoldout: Processed 10435 (100.0%) in 9.06 sec. Users per second: 1151\n"
     ]
    },
    {
     "name": "stderr",
     "output_type": "stream",
     "text": [
      "[I 2023-12-29 00:55:43,458] Trial 16 finished with value: 0.05088692282535181 and parameters: {'alpha': 0.7434149607093657}. Best is trial 0 with value: 0.052030673633453296.\n"
     ]
    },
    {
     "name": "stdout",
     "output_type": "stream",
     "text": [
      "EvaluatorHoldout: Processed 10435 (100.0%) in 9.22 sec. Users per second: 1132\n"
     ]
    },
    {
     "name": "stderr",
     "output_type": "stream",
     "text": [
      "[I 2023-12-29 00:55:52,703] Trial 17 finished with value: 0.05203488336717911 and parameters: {'alpha': 0.9965991736152844}. Best is trial 17 with value: 0.05203488336717911.\n"
     ]
    },
    {
     "name": "stdout",
     "output_type": "stream",
     "text": [
      "EvaluatorHoldout: Processed 10435 (100.0%) in 9.03 sec. Users per second: 1155\n"
     ]
    },
    {
     "name": "stderr",
     "output_type": "stream",
     "text": [
      "[I 2023-12-29 00:56:01,759] Trial 18 finished with value: 0.05157863493584684 and parameters: {'alpha': 0.826286339838197}. Best is trial 17 with value: 0.05203488336717911.\n"
     ]
    },
    {
     "name": "stdout",
     "output_type": "stream",
     "text": [
      "EvaluatorHoldout: Processed 10435 (100.0%) in 9.09 sec. Users per second: 1148\n"
     ]
    },
    {
     "name": "stderr",
     "output_type": "stream",
     "text": [
      "[I 2023-12-29 00:56:10,871] Trial 19 finished with value: 0.04480251138947888 and parameters: {'alpha': 0.35512533166356197}. Best is trial 17 with value: 0.05203488336717911.\n"
     ]
    },
    {
     "name": "stdout",
     "output_type": "stream",
     "text": [
      "EvaluatorHoldout: Processed 10435 (100.0%) in 8.99 sec. Users per second: 1160\n"
     ]
    },
    {
     "name": "stderr",
     "output_type": "stream",
     "text": [
      "[I 2023-12-29 00:56:19,887] Trial 20 finished with value: 0.05024265483225782 and parameters: {'alpha': 0.6727353782173883}. Best is trial 17 with value: 0.05203488336717911.\n"
     ]
    },
    {
     "name": "stdout",
     "output_type": "stream",
     "text": [
      "EvaluatorHoldout: Processed 10435 (100.0%) in 9.18 sec. Users per second: 1136\n"
     ]
    },
    {
     "name": "stderr",
     "output_type": "stream",
     "text": [
      "[I 2023-12-29 00:56:29,096] Trial 21 finished with value: 0.0519838607859697 and parameters: {'alpha': 0.982232249176078}. Best is trial 17 with value: 0.05203488336717911.\n"
     ]
    },
    {
     "name": "stdout",
     "output_type": "stream",
     "text": [
      "EvaluatorHoldout: Processed 10435 (100.0%) in 9.16 sec. Users per second: 1139\n"
     ]
    },
    {
     "name": "stderr",
     "output_type": "stream",
     "text": [
      "[I 2023-12-29 00:56:38,277] Trial 22 finished with value: 0.05203182589119395 and parameters: {'alpha': 0.9995850097371626}. Best is trial 17 with value: 0.05203488336717911.\n"
     ]
    },
    {
     "name": "stdout",
     "output_type": "stream",
     "text": [
      "EvaluatorHoldout: Processed 10435 (100.0%) in 8.94 sec. Users per second: 1168\n"
     ]
    },
    {
     "name": "stderr",
     "output_type": "stream",
     "text": [
      "[I 2023-12-29 00:56:47,234] Trial 23 finished with value: 0.05162154988173261 and parameters: {'alpha': 0.833763147408154}. Best is trial 17 with value: 0.05203488336717911.\n"
     ]
    },
    {
     "name": "stdout",
     "output_type": "stream",
     "text": [
      "EvaluatorHoldout: Processed 10435 (100.0%) in 9.02 sec. Users per second: 1156\n"
     ]
    },
    {
     "name": "stderr",
     "output_type": "stream",
     "text": [
      "[I 2023-12-29 00:56:56,280] Trial 24 finished with value: 0.05174251793034805 and parameters: {'alpha': 0.889805448080778}. Best is trial 17 with value: 0.05203488336717911.\n"
     ]
    },
    {
     "name": "stdout",
     "output_type": "stream",
     "text": [
      "EvaluatorHoldout: Processed 10435 (100.0%) in 8.96 sec. Users per second: 1165\n"
     ]
    },
    {
     "name": "stderr",
     "output_type": "stream",
     "text": [
      "[I 2023-12-29 00:57:05,256] Trial 25 finished with value: 0.05174547272990084 and parameters: {'alpha': 0.9054104563738881}. Best is trial 17 with value: 0.05203488336717911.\n"
     ]
    },
    {
     "name": "stdout",
     "output_type": "stream",
     "text": [
      "EvaluatorHoldout: Processed 10435 (100.0%) in 9.01 sec. Users per second: 1158\n"
     ]
    },
    {
     "name": "stderr",
     "output_type": "stream",
     "text": [
      "[I 2023-12-29 00:57:14,291] Trial 26 finished with value: 0.05204362227242017 and parameters: {'alpha': 0.9943654772627438}. Best is trial 26 with value: 0.05204362227242017.\n"
     ]
    },
    {
     "name": "stdout",
     "output_type": "stream",
     "text": [
      "EvaluatorHoldout: Processed 10435 (100.0%) in 8.96 sec. Users per second: 1164\n"
     ]
    },
    {
     "name": "stderr",
     "output_type": "stream",
     "text": [
      "[I 2023-12-29 00:57:23,273] Trial 27 finished with value: 0.05063291654307529 and parameters: {'alpha': 0.7100354117052998}. Best is trial 26 with value: 0.05204362227242017.\n"
     ]
    },
    {
     "name": "stdout",
     "output_type": "stream",
     "text": [
      "EvaluatorHoldout: Processed 10435 (100.0%) in 8.95 sec. Users per second: 1166\n"
     ]
    },
    {
     "name": "stderr",
     "output_type": "stream",
     "text": [
      "[I 2023-12-29 00:57:32,247] Trial 28 finished with value: 0.05135511214548172 and parameters: {'alpha': 0.7986253275210321}. Best is trial 26 with value: 0.05204362227242017.\n"
     ]
    },
    {
     "name": "stdout",
     "output_type": "stream",
     "text": [
      "EvaluatorHoldout: Processed 10435 (100.0%) in 8.97 sec. Users per second: 1163\n"
     ]
    },
    {
     "name": "stderr",
     "output_type": "stream",
     "text": [
      "[I 2023-12-29 00:57:41,243] Trial 29 finished with value: 0.051785105832782605 and parameters: {'alpha': 0.9109661472711299}. Best is trial 26 with value: 0.05204362227242017.\n"
     ]
    },
    {
     "name": "stdout",
     "output_type": "stream",
     "text": [
      "EvaluatorHoldout: Processed 10435 (100.0%) in 8.99 sec. Users per second: 1161\n"
     ]
    },
    {
     "name": "stderr",
     "output_type": "stream",
     "text": [
      "[I 2023-12-29 00:57:50,253] Trial 30 finished with value: 0.05204484678394656 and parameters: {'alpha': 0.9974761244555864}. Best is trial 30 with value: 0.05204484678394656.\n"
     ]
    },
    {
     "name": "stdout",
     "output_type": "stream",
     "text": [
      "EvaluatorHoldout: Processed 10435 (100.0%) in 9.05 sec. Users per second: 1153\n"
     ]
    },
    {
     "name": "stderr",
     "output_type": "stream",
     "text": [
      "[I 2023-12-29 00:57:59,325] Trial 31 finished with value: 0.05203870521216051 and parameters: {'alpha': 0.9960461142976761}. Best is trial 30 with value: 0.05204484678394656.\n"
     ]
    },
    {
     "name": "stdout",
     "output_type": "stream",
     "text": [
      "EvaluatorHoldout: Processed 10435 (100.0%) in 9.01 sec. Users per second: 1159\n"
     ]
    },
    {
     "name": "stderr",
     "output_type": "stream",
     "text": [
      "[I 2023-12-29 00:58:08,352] Trial 32 finished with value: 0.05202928179737052 and parameters: {'alpha': 0.9986383315743167}. Best is trial 30 with value: 0.05204484678394656.\n"
     ]
    },
    {
     "name": "stdout",
     "output_type": "stream",
     "text": [
      "EvaluatorHoldout: Processed 10435 (100.0%) in 8.94 sec. Users per second: 1167\n"
     ]
    },
    {
     "name": "stderr",
     "output_type": "stream",
     "text": [
      "[I 2023-12-29 00:58:17,317] Trial 33 finished with value: 0.051832584175661084 and parameters: {'alpha': 0.9275792793945171}. Best is trial 30 with value: 0.05204484678394656.\n"
     ]
    },
    {
     "name": "stdout",
     "output_type": "stream",
     "text": [
      "EvaluatorHoldout: Processed 10435 (100.0%) in 8.94 sec. Users per second: 1167\n"
     ]
    },
    {
     "name": "stderr",
     "output_type": "stream",
     "text": [
      "[I 2023-12-29 00:58:26,281] Trial 34 finished with value: 0.05164022178109451 and parameters: {'alpha': 0.8367183500936679}. Best is trial 30 with value: 0.05204484678394656.\n"
     ]
    },
    {
     "name": "stdout",
     "output_type": "stream",
     "text": [
      "EvaluatorHoldout: Processed 10435 (100.0%) in 8.99 sec. Users per second: 1161\n"
     ]
    },
    {
     "name": "stderr",
     "output_type": "stream",
     "text": [
      "[I 2023-12-29 00:58:35,291] Trial 35 finished with value: 0.05178957796183545 and parameters: {'alpha': 0.8664002530182293}. Best is trial 30 with value: 0.05204484678394656.\n"
     ]
    },
    {
     "name": "stdout",
     "output_type": "stream",
     "text": [
      "EvaluatorHoldout: Processed 10435 (100.0%) in 8.98 sec. Users per second: 1162\n"
     ]
    },
    {
     "name": "stderr",
     "output_type": "stream",
     "text": [
      "[I 2023-12-29 00:58:44,298] Trial 36 finished with value: 0.05184783352727841 and parameters: {'alpha': 0.9248727350482332}. Best is trial 30 with value: 0.05204484678394656.\n"
     ]
    },
    {
     "name": "stdout",
     "output_type": "stream",
     "text": [
      "EvaluatorHoldout: Processed 10435 (100.0%) in 8.98 sec. Users per second: 1163\n"
     ]
    },
    {
     "name": "stderr",
     "output_type": "stream",
     "text": [
      "[I 2023-12-29 00:58:53,296] Trial 37 finished with value: 0.05185243875541023 and parameters: {'alpha': 0.9254570266280614}. Best is trial 30 with value: 0.05204484678394656.\n"
     ]
    },
    {
     "name": "stdout",
     "output_type": "stream",
     "text": [
      "EvaluatorHoldout: Processed 10435 (100.0%) in 8.95 sec. Users per second: 1166\n"
     ]
    },
    {
     "name": "stderr",
     "output_type": "stream",
     "text": [
      "[I 2023-12-29 00:59:02,268] Trial 38 finished with value: 0.05122325659220782 and parameters: {'alpha': 0.7791016743455433}. Best is trial 30 with value: 0.05204484678394656.\n"
     ]
    },
    {
     "name": "stdout",
     "output_type": "stream",
     "text": [
      "EvaluatorHoldout: Processed 10435 (100.0%) in 9.02 sec. Users per second: 1157\n"
     ]
    },
    {
     "name": "stderr",
     "output_type": "stream",
     "text": [
      "[I 2023-12-29 00:59:11,312] Trial 39 finished with value: 0.05139371848404008 and parameters: {'alpha': 0.8022768149854924}. Best is trial 30 with value: 0.05204484678394656.\n"
     ]
    },
    {
     "name": "stdout",
     "output_type": "stream",
     "text": [
      "EvaluatorHoldout: Processed 10435 (100.0%) in 8.96 sec. Users per second: 1164\n"
     ]
    },
    {
     "name": "stderr",
     "output_type": "stream",
     "text": [
      "[I 2023-12-29 00:59:20,297] Trial 40 finished with value: 0.05180479689080618 and parameters: {'alpha': 0.8700812952737715}. Best is trial 30 with value: 0.05204484678394656.\n"
     ]
    },
    {
     "name": "stdout",
     "output_type": "stream",
     "text": [
      "EvaluatorHoldout: Processed 10435 (100.0%) in 9.02 sec. Users per second: 1157\n"
     ]
    },
    {
     "name": "stderr",
     "output_type": "stream",
     "text": [
      "[I 2023-12-29 00:59:29,333] Trial 41 finished with value: 0.05203008039184423 and parameters: {'alpha': 0.9994863419295249}. Best is trial 30 with value: 0.05204484678394656.\n"
     ]
    },
    {
     "name": "stdout",
     "output_type": "stream",
     "text": [
      "EvaluatorHoldout: Processed 10435 (100.0%) in 9.06 sec. Users per second: 1152\n"
     ]
    },
    {
     "name": "stderr",
     "output_type": "stream",
     "text": [
      "[I 2023-12-29 00:59:38,413] Trial 42 finished with value: 0.051940303161674195 and parameters: {'alpha': 0.9492536770983464}. Best is trial 30 with value: 0.05204484678394656.\n"
     ]
    },
    {
     "name": "stdout",
     "output_type": "stream",
     "text": [
      "EvaluatorHoldout: Processed 10435 (100.0%) in 8.96 sec. Users per second: 1164\n"
     ]
    },
    {
     "name": "stderr",
     "output_type": "stream",
     "text": [
      "[I 2023-12-29 00:59:47,396] Trial 43 finished with value: 0.051780276237631984 and parameters: {'alpha': 0.8780117675900053}. Best is trial 30 with value: 0.05204484678394656.\n"
     ]
    },
    {
     "name": "stdout",
     "output_type": "stream",
     "text": [
      "EvaluatorHoldout: Processed 10435 (100.0%) in 9.08 sec. Users per second: 1149\n"
     ]
    },
    {
     "name": "stderr",
     "output_type": "stream",
     "text": [
      "[I 2023-12-29 00:59:56,500] Trial 44 finished with value: 0.052027813904671184 and parameters: {'alpha': 0.9997741397420864}. Best is trial 30 with value: 0.05204484678394656.\n"
     ]
    },
    {
     "name": "stdout",
     "output_type": "stream",
     "text": [
      "EvaluatorHoldout: Processed 10435 (100.0%) in 8.97 sec. Users per second: 1164\n"
     ]
    },
    {
     "name": "stderr",
     "output_type": "stream",
     "text": [
      "[I 2023-12-29 01:00:05,489] Trial 45 finished with value: 0.05185132452597789 and parameters: {'alpha': 0.9333143097813466}. Best is trial 30 with value: 0.05204484678394656.\n"
     ]
    },
    {
     "name": "stdout",
     "output_type": "stream",
     "text": [
      "EvaluatorHoldout: Processed 10435 (100.0%) in 8.98 sec. Users per second: 1163\n"
     ]
    },
    {
     "name": "stderr",
     "output_type": "stream",
     "text": [
      "[I 2023-12-29 01:00:14,485] Trial 46 finished with value: 0.05187171150204283 and parameters: {'alpha': 0.9398610556205365}. Best is trial 30 with value: 0.05204484678394656.\n"
     ]
    },
    {
     "name": "stdout",
     "output_type": "stream",
     "text": [
      "EvaluatorHoldout: Processed 10435 (100.0%) in 8.94 sec. Users per second: 1167\n"
     ]
    },
    {
     "name": "stderr",
     "output_type": "stream",
     "text": [
      "[I 2023-12-29 01:00:23,445] Trial 47 finished with value: 0.05181738426084445 and parameters: {'alpha': 0.8654762338788036}. Best is trial 30 with value: 0.05204484678394656.\n"
     ]
    },
    {
     "name": "stdout",
     "output_type": "stream",
     "text": [
      "EvaluatorHoldout: Processed 10435 (100.0%) in 8.99 sec. Users per second: 1161\n"
     ]
    },
    {
     "name": "stderr",
     "output_type": "stream",
     "text": [
      "[I 2023-12-29 01:00:32,454] Trial 48 finished with value: 0.05195872787703233 and parameters: {'alpha': 0.9583328607855618}. Best is trial 30 with value: 0.05204484678394656.\n"
     ]
    },
    {
     "name": "stdout",
     "output_type": "stream",
     "text": [
      "EvaluatorHoldout: Processed 10435 (100.0%) in 9.08 sec. Users per second: 1149\n"
     ]
    },
    {
     "name": "stderr",
     "output_type": "stream",
     "text": [
      "[I 2023-12-29 01:00:41,554] Trial 49 finished with value: 0.05175807531126241 and parameters: {'alpha': 0.8888739987878288}. Best is trial 30 with value: 0.05204484678394656.\n"
     ]
    },
    {
     "name": "stdout",
     "output_type": "stream",
     "text": [
      "EvaluatorHoldout: Processed 10435 (100.0%) in 9.00 sec. Users per second: 1160\n"
     ]
    },
    {
     "name": "stderr",
     "output_type": "stream",
     "text": [
      "[I 2023-12-29 01:00:50,573] Trial 50 finished with value: 0.052027258691370405 and parameters: {'alpha': 0.9985863043988769}. Best is trial 30 with value: 0.05204484678394656.\n"
     ]
    },
    {
     "name": "stdout",
     "output_type": "stream",
     "text": [
      "EvaluatorHoldout: Processed 10435 (100.0%) in 8.98 sec. Users per second: 1162\n"
     ]
    },
    {
     "name": "stderr",
     "output_type": "stream",
     "text": [
      "[I 2023-12-29 01:00:59,576] Trial 51 finished with value: 0.05198661783831952 and parameters: {'alpha': 0.9575025850501427}. Best is trial 30 with value: 0.05204484678394656.\n"
     ]
    },
    {
     "name": "stdout",
     "output_type": "stream",
     "text": [
      "EvaluatorHoldout: Processed 10435 (100.0%) in 8.98 sec. Users per second: 1162\n"
     ]
    },
    {
     "name": "stderr",
     "output_type": "stream",
     "text": [
      "[I 2023-12-29 01:01:08,578] Trial 52 finished with value: 0.051980514294841705 and parameters: {'alpha': 0.9631295145226131}. Best is trial 30 with value: 0.05204484678394656.\n"
     ]
    },
    {
     "name": "stdout",
     "output_type": "stream",
     "text": [
      "EvaluatorHoldout: Processed 10435 (100.0%) in 8.97 sec. Users per second: 1163\n"
     ]
    },
    {
     "name": "stderr",
     "output_type": "stream",
     "text": [
      "[I 2023-12-29 01:01:17,570] Trial 53 finished with value: 0.051735193678174723 and parameters: {'alpha': 0.9049365451252859}. Best is trial 30 with value: 0.05204484678394656.\n"
     ]
    },
    {
     "name": "stdout",
     "output_type": "stream",
     "text": [
      "EvaluatorHoldout: Processed 10435 (100.0%) in 8.95 sec. Users per second: 1166\n"
     ]
    },
    {
     "name": "stderr",
     "output_type": "stream",
     "text": [
      "[I 2023-12-29 01:01:26,546] Trial 54 finished with value: 0.05165830424167818 and parameters: {'alpha': 0.8380414434220219}. Best is trial 30 with value: 0.05204484678394656.\n"
     ]
    },
    {
     "name": "stdout",
     "output_type": "stream",
     "text": [
      "EvaluatorHoldout: Processed 10435 (100.0%) in 9.54 sec. Users per second: 1094\n"
     ]
    },
    {
     "name": "stderr",
     "output_type": "stream",
     "text": [
      "[I 2023-12-29 01:01:36,110] Trial 55 finished with value: 0.052003688745903096 and parameters: {'alpha': 0.9669110833072406}. Best is trial 30 with value: 0.05204484678394656.\n"
     ]
    },
    {
     "name": "stdout",
     "output_type": "stream",
     "text": [
      "EvaluatorHoldout: Processed 10435 (100.0%) in 9.60 sec. Users per second: 1087\n"
     ]
    },
    {
     "name": "stderr",
     "output_type": "stream",
     "text": [
      "[I 2023-12-29 01:01:45,732] Trial 56 finished with value: 0.05177150310691347 and parameters: {'alpha': 0.9096505135376698}. Best is trial 30 with value: 0.05204484678394656.\n"
     ]
    },
    {
     "name": "stdout",
     "output_type": "stream",
     "text": [
      "EvaluatorHoldout: Processed 10435 (100.0%) in 9.33 sec. Users per second: 1119\n"
     ]
    },
    {
     "name": "stderr",
     "output_type": "stream",
     "text": [
      "[I 2023-12-29 01:01:55,080] Trial 57 finished with value: 0.05198151443934927 and parameters: {'alpha': 0.9629511899736292}. Best is trial 30 with value: 0.05204484678394656.\n"
     ]
    },
    {
     "name": "stdout",
     "output_type": "stream",
     "text": [
      "EvaluatorHoldout: Processed 10435 (100.0%) in 9.31 sec. Users per second: 1121\n"
     ]
    },
    {
     "name": "stderr",
     "output_type": "stream",
     "text": [
      "[I 2023-12-29 01:02:04,410] Trial 58 finished with value: 0.051778587780744685 and parameters: {'alpha': 0.8634988170329505}. Best is trial 30 with value: 0.05204484678394656.\n"
     ]
    },
    {
     "name": "stdout",
     "output_type": "stream",
     "text": [
      "EvaluatorHoldout: Processed 10435 (100.0%) in 9.29 sec. Users per second: 1123\n"
     ]
    },
    {
     "name": "stderr",
     "output_type": "stream",
     "text": [
      "[I 2023-12-29 01:02:13,729] Trial 59 finished with value: 0.052036039427750584 and parameters: {'alpha': 0.9968961510145405}. Best is trial 30 with value: 0.05204484678394656.\n"
     ]
    },
    {
     "name": "stdout",
     "output_type": "stream",
     "text": [
      "EvaluatorHoldout: Processed 10435 (100.0%) in 9.35 sec. Users per second: 1116\n"
     ]
    },
    {
     "name": "stderr",
     "output_type": "stream",
     "text": [
      "[I 2023-12-29 01:02:23,097] Trial 60 finished with value: 0.051544500726341265 and parameters: {'alpha': 0.8238285285069754}. Best is trial 30 with value: 0.05204484678394656.\n"
     ]
    },
    {
     "name": "stdout",
     "output_type": "stream",
     "text": [
      "EvaluatorHoldout: Processed 10435 (100.0%) in 9.30 sec. Users per second: 1122\n"
     ]
    },
    {
     "name": "stderr",
     "output_type": "stream",
     "text": [
      "[I 2023-12-29 01:02:32,422] Trial 61 finished with value: 0.05200643438976035 and parameters: {'alpha': 0.9741463407704587}. Best is trial 30 with value: 0.05204484678394656.\n"
     ]
    },
    {
     "name": "stdout",
     "output_type": "stream",
     "text": [
      "EvaluatorHoldout: Processed 10435 (100.0%) in 9.43 sec. Users per second: 1106\n"
     ]
    },
    {
     "name": "stderr",
     "output_type": "stream",
     "text": [
      "[I 2023-12-29 01:02:41,878] Trial 62 finished with value: 0.05187259756162558 and parameters: {'alpha': 0.9379263641702535}. Best is trial 30 with value: 0.05204484678394656.\n"
     ]
    },
    {
     "name": "stdout",
     "output_type": "stream",
     "text": [
      "EvaluatorHoldout: Processed 10435 (100.0%) in 9.36 sec. Users per second: 1114\n"
     ]
    },
    {
     "name": "stderr",
     "output_type": "stream",
     "text": [
      "[I 2023-12-29 01:02:51,268] Trial 63 finished with value: 0.05204516622173605 and parameters: {'alpha': 0.9973837125021244}. Best is trial 63 with value: 0.05204516622173605.\n"
     ]
    },
    {
     "name": "stdout",
     "output_type": "stream",
     "text": [
      "EvaluatorHoldout: Processed 10435 (100.0%) in 9.39 sec. Users per second: 1111\n"
     ]
    },
    {
     "name": "stderr",
     "output_type": "stream",
     "text": [
      "[I 2023-12-29 01:03:00,682] Trial 64 finished with value: 0.052040621838897454 and parameters: {'alpha': 0.9958273548220663}. Best is trial 63 with value: 0.05204516622173605.\n"
     ]
    },
    {
     "name": "stdout",
     "output_type": "stream",
     "text": [
      "EvaluatorHoldout: Processed 10435 (100.0%) in 9.31 sec. Users per second: 1121\n"
     ]
    },
    {
     "name": "stderr",
     "output_type": "stream",
     "text": [
      "[I 2023-12-29 01:03:10,013] Trial 65 finished with value: 0.05178672964154585 and parameters: {'alpha': 0.9108630574402069}. Best is trial 63 with value: 0.05204516622173605.\n"
     ]
    },
    {
     "name": "stdout",
     "output_type": "stream",
     "text": [
      "EvaluatorHoldout: Processed 10435 (100.0%) in 9.56 sec. Users per second: 1092\n"
     ]
    },
    {
     "name": "stderr",
     "output_type": "stream",
     "text": [
      "[I 2023-12-29 01:03:19,614] Trial 66 finished with value: 0.0520144621656367 and parameters: {'alpha': 0.9730167902783416}. Best is trial 63 with value: 0.05204516622173605.\n"
     ]
    },
    {
     "name": "stdout",
     "output_type": "stream",
     "text": [
      "EvaluatorHoldout: Processed 10435 (100.0%) in 9.43 sec. Users per second: 1107\n"
     ]
    },
    {
     "name": "stderr",
     "output_type": "stream",
     "text": [
      "[I 2023-12-29 01:03:29,074] Trial 67 finished with value: 0.05190716149101463 and parameters: {'alpha': 0.9421688092261058}. Best is trial 63 with value: 0.05204516622173605.\n"
     ]
    },
    {
     "name": "stdout",
     "output_type": "stream",
     "text": [
      "EvaluatorHoldout: Processed 10435 (100.0%) in 11.05 sec. Users per second: 944\n"
     ]
    },
    {
     "name": "stderr",
     "output_type": "stream",
     "text": [
      "[I 2023-12-29 01:03:40,189] Trial 68 finished with value: 0.051729930560309834 and parameters: {'alpha': 0.8990087045564343}. Best is trial 63 with value: 0.05204516622173605.\n"
     ]
    },
    {
     "name": "stdout",
     "output_type": "stream",
     "text": [
      "EvaluatorHoldout: Processed 10435 (100.0%) in 13.20 sec. Users per second: 791\n"
     ]
    },
    {
     "name": "stderr",
     "output_type": "stream",
     "text": [
      "[I 2023-12-29 01:03:53,430] Trial 69 finished with value: 0.052035780835254335 and parameters: {'alpha': 0.9979282770933726}. Best is trial 63 with value: 0.05204516622173605.\n"
     ]
    },
    {
     "name": "stdout",
     "output_type": "stream",
     "text": [
      "EvaluatorHoldout: Processed 10435 (100.0%) in 9.14 sec. Users per second: 1141\n"
     ]
    },
    {
     "name": "stderr",
     "output_type": "stream",
     "text": [
      "[I 2023-12-29 01:04:02,594] Trial 70 finished with value: 0.05201164046516288 and parameters: {'alpha': 0.9751060905061661}. Best is trial 63 with value: 0.05204516622173605.\n"
     ]
    },
    {
     "name": "stdout",
     "output_type": "stream",
     "text": [
      "EvaluatorHoldout: Processed 10435 (100.0%) in 9.12 sec. Users per second: 1144\n"
     ]
    },
    {
     "name": "stderr",
     "output_type": "stream",
     "text": [
      "[I 2023-12-29 01:04:11,739] Trial 71 finished with value: 0.05203008039184423 and parameters: {'alpha': 0.9994886279170064}. Best is trial 63 with value: 0.05204516622173605.\n"
     ]
    },
    {
     "name": "stdout",
     "output_type": "stream",
     "text": [
      "EvaluatorHoldout: Processed 10435 (100.0%) in 9.07 sec. Users per second: 1151\n"
     ]
    },
    {
     "name": "stderr",
     "output_type": "stream",
     "text": [
      "[I 2023-12-29 01:04:20,826] Trial 72 finished with value: 0.05186082019455354 and parameters: {'alpha': 0.9356743656397054}. Best is trial 63 with value: 0.05204516622173605.\n"
     ]
    },
    {
     "name": "stdout",
     "output_type": "stream",
     "text": [
      "EvaluatorHoldout: Processed 10435 (100.0%) in 9.05 sec. Users per second: 1153\n"
     ]
    },
    {
     "name": "stderr",
     "output_type": "stream",
     "text": [
      "[I 2023-12-29 01:04:29,899] Trial 73 finished with value: 0.05176800069972155 and parameters: {'alpha': 0.8863707878905653}. Best is trial 63 with value: 0.05204516622173605.\n"
     ]
    },
    {
     "name": "stdout",
     "output_type": "stream",
     "text": [
      "EvaluatorHoldout: Processed 10435 (100.0%) in 9.06 sec. Users per second: 1151\n"
     ]
    },
    {
     "name": "stderr",
     "output_type": "stream",
     "text": [
      "[I 2023-12-29 01:04:38,981] Trial 74 finished with value: 0.05197024284877726 and parameters: {'alpha': 0.9796636989979584}. Best is trial 63 with value: 0.05204516622173605.\n"
     ]
    },
    {
     "name": "stdout",
     "output_type": "stream",
     "text": [
      "EvaluatorHoldout: Processed 10435 (100.0%) in 9.12 sec. Users per second: 1144\n"
     ]
    },
    {
     "name": "stderr",
     "output_type": "stream",
     "text": [
      "[I 2023-12-29 01:04:48,124] Trial 75 finished with value: 0.05181606848137822 and parameters: {'alpha': 0.9222797553466211}. Best is trial 63 with value: 0.05204516622173605.\n"
     ]
    },
    {
     "name": "stdout",
     "output_type": "stream",
     "text": [
      "EvaluatorHoldout: Processed 10435 (100.0%) in 9.08 sec. Users per second: 1150\n"
     ]
    },
    {
     "name": "stderr",
     "output_type": "stream",
     "text": [
      "[I 2023-12-29 01:04:57,222] Trial 76 finished with value: 0.05193142355169251 and parameters: {'alpha': 0.9486832722690297}. Best is trial 63 with value: 0.05204516622173605.\n"
     ]
    },
    {
     "name": "stdout",
     "output_type": "stream",
     "text": [
      "EvaluatorHoldout: Processed 10435 (100.0%) in 9.09 sec. Users per second: 1148\n"
     ]
    },
    {
     "name": "stderr",
     "output_type": "stream",
     "text": [
      "[I 2023-12-29 01:05:06,331] Trial 77 finished with value: 0.05198766361679698 and parameters: {'alpha': 0.9773974882653421}. Best is trial 63 with value: 0.05204516622173605.\n"
     ]
    },
    {
     "name": "stdout",
     "output_type": "stream",
     "text": [
      "EvaluatorHoldout: Processed 10435 (100.0%) in 9.06 sec. Users per second: 1152\n"
     ]
    },
    {
     "name": "stderr",
     "output_type": "stream",
     "text": [
      "[I 2023-12-29 01:05:15,411] Trial 78 finished with value: 0.05170061834029318 and parameters: {'alpha': 0.8455284705945504}. Best is trial 63 with value: 0.05204516622173605.\n"
     ]
    },
    {
     "name": "stdout",
     "output_type": "stream",
     "text": [
      "EvaluatorHoldout: Processed 10435 (100.0%) in 9.02 sec. Users per second: 1157\n"
     ]
    },
    {
     "name": "stderr",
     "output_type": "stream",
     "text": [
      "[I 2023-12-29 01:05:24,452] Trial 79 finished with value: 0.051786029920673604 and parameters: {'alpha': 0.916799405280041}. Best is trial 63 with value: 0.05204516622173605.\n"
     ]
    },
    {
     "name": "stdout",
     "output_type": "stream",
     "text": [
      "EvaluatorHoldout: Processed 10435 (100.0%) in 9.09 sec. Users per second: 1148\n"
     ]
    },
    {
     "name": "stderr",
     "output_type": "stream",
     "text": [
      "[I 2023-12-29 01:05:33,566] Trial 80 finished with value: 0.051781645256729784 and parameters: {'alpha': 0.8774591425281185}. Best is trial 63 with value: 0.05204516622173605.\n"
     ]
    },
    {
     "name": "stdout",
     "output_type": "stream",
     "text": [
      "EvaluatorHoldout: Processed 10435 (100.0%) in 9.33 sec. Users per second: 1119\n"
     ]
    },
    {
     "name": "stderr",
     "output_type": "stream",
     "text": [
      "[I 2023-12-29 01:05:42,918] Trial 81 finished with value: 0.05203566675032952 and parameters: {'alpha': 0.9967859225600736}. Best is trial 63 with value: 0.05204516622173605.\n"
     ]
    },
    {
     "name": "stdout",
     "output_type": "stream",
     "text": [
      "EvaluatorHoldout: Processed 10435 (100.0%) in 9.15 sec. Users per second: 1141\n"
     ]
    },
    {
     "name": "stderr",
     "output_type": "stream",
     "text": [
      "[I 2023-12-29 01:05:52,084] Trial 82 finished with value: 0.05203566675032952 and parameters: {'alpha': 0.9967793278446002}. Best is trial 63 with value: 0.05204516622173605.\n"
     ]
    },
    {
     "name": "stdout",
     "output_type": "stream",
     "text": [
      "EvaluatorHoldout: Processed 10435 (100.0%) in 9.12 sec. Users per second: 1144\n"
     ]
    },
    {
     "name": "stderr",
     "output_type": "stream",
     "text": [
      "[I 2023-12-29 01:06:01,230] Trial 83 finished with value: 0.05190521063880023 and parameters: {'alpha': 0.9428085740166449}. Best is trial 63 with value: 0.05204516622173605.\n"
     ]
    },
    {
     "name": "stdout",
     "output_type": "stream",
     "text": [
      "EvaluatorHoldout: Processed 10435 (100.0%) in 9.34 sec. Users per second: 1117\n"
     ]
    },
    {
     "name": "stderr",
     "output_type": "stream",
     "text": [
      "[I 2023-12-29 01:06:10,600] Trial 84 finished with value: 0.052022048813137045 and parameters: {'alpha': 0.9988571939634102}. Best is trial 63 with value: 0.05204516622173605.\n"
     ]
    },
    {
     "name": "stdout",
     "output_type": "stream",
     "text": [
      "EvaluatorHoldout: Processed 10435 (100.0%) in 9.30 sec. Users per second: 1122\n"
     ]
    },
    {
     "name": "stderr",
     "output_type": "stream",
     "text": [
      "[I 2023-12-29 01:06:19,927] Trial 85 finished with value: 0.0520141959674788 and parameters: {'alpha': 0.9730227524497567}. Best is trial 63 with value: 0.05204516622173605.\n"
     ]
    },
    {
     "name": "stdout",
     "output_type": "stream",
     "text": [
      "EvaluatorHoldout: Processed 10435 (100.0%) in 9.22 sec. Users per second: 1132\n"
     ]
    },
    {
     "name": "stderr",
     "output_type": "stream",
     "text": [
      "[I 2023-12-29 01:06:29,172] Trial 86 finished with value: 0.05190479993307087 and parameters: {'alpha': 0.9453071616784658}. Best is trial 63 with value: 0.05204516622173605.\n"
     ]
    },
    {
     "name": "stdout",
     "output_type": "stream",
     "text": [
      "EvaluatorHoldout: Processed 10435 (100.0%) in 9.29 sec. Users per second: 1123\n"
     ]
    },
    {
     "name": "stderr",
     "output_type": "stream",
     "text": [
      "[I 2023-12-29 01:06:38,490] Trial 87 finished with value: 0.05197892851438673 and parameters: {'alpha': 0.9789110892810929}. Best is trial 63 with value: 0.05204516622173605.\n"
     ]
    },
    {
     "name": "stdout",
     "output_type": "stream",
     "text": [
      "EvaluatorHoldout: Processed 10435 (100.0%) in 9.27 sec. Users per second: 1126\n"
     ]
    },
    {
     "name": "stderr",
     "output_type": "stream",
     "text": [
      "[I 2023-12-29 01:06:47,781] Trial 88 finished with value: 0.05172732181836233 and parameters: {'alpha': 0.8990453842373598}. Best is trial 63 with value: 0.05204516622173605.\n"
     ]
    },
    {
     "name": "stdout",
     "output_type": "stream",
     "text": [
      "EvaluatorHoldout: Processed 10435 (100.0%) in 9.55 sec. Users per second: 1093\n"
     ]
    },
    {
     "name": "stderr",
     "output_type": "stream",
     "text": [
      "[I 2023-12-29 01:06:57,356] Trial 89 finished with value: 0.051816528623908314 and parameters: {'alpha': 0.922096677830987}. Best is trial 63 with value: 0.05204516622173605.\n"
     ]
    },
    {
     "name": "stdout",
     "output_type": "stream",
     "text": [
      "EvaluatorHoldout: Processed 10435 (100.0%) in 9.31 sec. Users per second: 1121\n"
     ]
    },
    {
     "name": "stderr",
     "output_type": "stream",
     "text": [
      "[I 2023-12-29 01:07:06,690] Trial 90 finished with value: 0.05197158144522848 and parameters: {'alpha': 0.951940595630655}. Best is trial 63 with value: 0.05204516622173605.\n"
     ]
    },
    {
     "name": "stdout",
     "output_type": "stream",
     "text": [
      "EvaluatorHoldout: Processed 10435 (100.0%) in 9.97 sec. Users per second: 1046\n"
     ]
    },
    {
     "name": "stderr",
     "output_type": "stream",
     "text": [
      "[I 2023-12-29 01:07:16,685] Trial 91 finished with value: 0.05203488336717911 and parameters: {'alpha': 0.9966021440494863}. Best is trial 63 with value: 0.05204516622173605.\n"
     ]
    },
    {
     "name": "stdout",
     "output_type": "stream",
     "text": [
      "EvaluatorHoldout: Processed 10435 (100.0%) in 9.59 sec. Users per second: 1088\n"
     ]
    },
    {
     "name": "stderr",
     "output_type": "stream",
     "text": [
      "[I 2023-12-29 01:07:26,296] Trial 92 finished with value: 0.051977369353747555 and parameters: {'alpha': 0.9776616767061764}. Best is trial 63 with value: 0.05204516622173605.\n"
     ]
    },
    {
     "name": "stdout",
     "output_type": "stream",
     "text": [
      "EvaluatorHoldout: Processed 10435 (100.0%) in 9.81 sec. Users per second: 1063\n"
     ]
    },
    {
     "name": "stderr",
     "output_type": "stream",
     "text": [
      "[I 2023-12-29 01:07:36,134] Trial 93 finished with value: 0.05196935678919455 and parameters: {'alpha': 0.955977174731097}. Best is trial 63 with value: 0.05204516622173605.\n"
     ]
    },
    {
     "name": "stdout",
     "output_type": "stream",
     "text": [
      "EvaluatorHoldout: Processed 10435 (100.0%) in 9.81 sec. Users per second: 1063\n"
     ]
    },
    {
     "name": "stderr",
     "output_type": "stream",
     "text": [
      "[I 2023-12-29 01:07:45,971] Trial 94 finished with value: 0.05204516622173605 and parameters: {'alpha': 0.9973770674631212}. Best is trial 63 with value: 0.05204516622173605.\n"
     ]
    },
    {
     "name": "stdout",
     "output_type": "stream",
     "text": [
      "EvaluatorHoldout: Processed 10435 (100.0%) in 10.01 sec. Users per second: 1043\n"
     ]
    },
    {
     "name": "stderr",
     "output_type": "stream",
     "text": [
      "[I 2023-12-29 01:07:56,010] Trial 95 finished with value: 0.051848590290613096 and parameters: {'alpha': 0.9301720947833505}. Best is trial 63 with value: 0.05204516622173605.\n"
     ]
    },
    {
     "name": "stdout",
     "output_type": "stream",
     "text": [
      "EvaluatorHoldout: Processed 10435 (100.0%) in 9.76 sec. Users per second: 1070\n"
     ]
    },
    {
     "name": "stderr",
     "output_type": "stream",
     "text": [
      "[I 2023-12-29 01:08:05,791] Trial 96 finished with value: 0.05198658361284202 and parameters: {'alpha': 0.9814894064808031}. Best is trial 63 with value: 0.05204516622173605.\n"
     ]
    },
    {
     "name": "stdout",
     "output_type": "stream",
     "text": [
      "EvaluatorHoldout: Processed 10435 (100.0%) in 9.87 sec. Users per second: 1058\n"
     ]
    },
    {
     "name": "stderr",
     "output_type": "stream",
     "text": [
      "[I 2023-12-29 01:08:15,687] Trial 97 finished with value: 0.05198024429385303 and parameters: {'alpha': 0.9572803593406405}. Best is trial 63 with value: 0.05204516622173605.\n"
     ]
    },
    {
     "name": "stdout",
     "output_type": "stream",
     "text": [
      "EvaluatorHoldout: Processed 10435 (100.0%) in 9.90 sec. Users per second: 1054\n"
     ]
    },
    {
     "name": "stderr",
     "output_type": "stream",
     "text": [
      "[I 2023-12-29 01:08:25,610] Trial 98 finished with value: 0.05175163711867185 and parameters: {'alpha': 0.8552584517022478}. Best is trial 63 with value: 0.05204516622173605.\n"
     ]
    },
    {
     "name": "stdout",
     "output_type": "stream",
     "text": [
      "EvaluatorHoldout: Processed 10435 (100.0%) in 10.25 sec. Users per second: 1018\n"
     ]
    },
    {
     "name": "stderr",
     "output_type": "stream",
     "text": [
      "[I 2023-12-29 01:08:35,889] Trial 99 finished with value: 0.05173920566469749 and parameters: {'alpha': 0.8904871843260057}. Best is trial 63 with value: 0.05204516622173605.\n"
     ]
    }
   ],
   "source": [
    "best_params = {\n",
    "    \"alpha\": 1,\n",
    "}\n",
    "study_name = \"hybrid-IALS-study\"  # Unique identifier of the study.\n",
    "storage_name = \"sqlite:///db.db\"\n",
    "#op.delete_study(study_name, storage_name)\n",
    "study = op.create_study(study_name=study_name, storage=storage_name, direction=\"maximize\", load_if_exists=True)\n",
    "#study.enqueue_trial(best_params)\n",
    "study.optimize(objective, n_trials=100)"
   ],
   "metadata": {
    "collapsed": false,
    "ExecuteTime": {
     "end_time": "2023-12-28T22:08:35.893781Z",
     "start_time": "2023-12-28T21:53:06.930182Z"
    }
   },
   "id": "52b5055a66579bf3"
  },
  {
   "cell_type": "code",
   "execution_count": 16,
   "outputs": [
    {
     "data": {
      "text/plain": "{'alpha': 0.8857667100747117,\n 'beta': 0.6379807942443021,\n 'gamma': 0.0690929184825888,\n 'delta': 0.11953478623354052}"
     },
     "execution_count": 16,
     "metadata": {},
     "output_type": "execute_result"
    }
   ],
   "source": [
    "study.best_params"
   ],
   "metadata": {
    "collapsed": false,
    "ExecuteTime": {
     "end_time": "2023-12-20T16:34:08.621166Z",
     "start_time": "2023-12-20T16:34:08.614300Z"
    }
   },
   "id": "731a6647494c1cea"
  }
 ],
 "metadata": {
  "kernelspec": {
   "display_name": "Python 3",
   "language": "python",
   "name": "python3"
  },
  "language_info": {
   "codemirror_mode": {
    "name": "ipython",
    "version": 2
   },
   "file_extension": ".py",
   "mimetype": "text/x-python",
   "name": "python",
   "nbconvert_exporter": "python",
   "pygments_lexer": "ipython2",
   "version": "2.7.6"
  }
 },
 "nbformat": 4,
 "nbformat_minor": 5
}
