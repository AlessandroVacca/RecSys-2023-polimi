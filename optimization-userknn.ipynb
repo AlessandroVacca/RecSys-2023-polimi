{
 "cells": [
  {
   "cell_type": "code",
   "execution_count": 1,
   "id": "initial_id",
   "metadata": {
    "collapsed": true,
    "ExecuteTime": {
     "end_time": "2023-11-21T23:36:25.465175431Z",
     "start_time": "2023-11-21T23:36:21.378002805Z"
    }
   },
   "outputs": [
    {
     "name": "stdout",
     "output_type": "stream",
     "text": [
      "Warning: 221 (1.75 %) of 12638 users have no train items\n",
      "Warning: 2130 (16.85 %) of 12638 users have no sampled items\n",
      "Warning: 484 (3.83 %) of 12638 users have no train items\n",
      "Warning: 2590 (20.49 %) of 12638 users have no sampled items\n"
     ]
    }
   ],
   "source": [
    "from Data_manager.UserUtils import *\n",
    "from Data_manager.split_functions.split_train_validation_random_holdout import \\\n",
    "    split_train_in_two_percentage_global_sample\n",
    "URM_all = getURM_all()\n",
    "URM_train_validation, URM_test = split_train_in_two_percentage_global_sample(URM_all, train_percentage = 0.80)\n",
    "URM_train, URM_validation = split_train_in_two_percentage_global_sample(URM_train_validation, train_percentage = 0.80)"
   ]
  },
  {
   "cell_type": "code",
   "execution_count": 2,
   "outputs": [
    {
     "name": "stdout",
     "output_type": "stream",
     "text": [
      "EvaluatorHoldout: Ignoring 2590 (20.5%) Users that have less than 1 test interactions\n",
      "EvaluatorHoldout: Ignoring 0 Users\n"
     ]
    }
   ],
   "source": [
    "from Recommenders.KNN.UserKNNCFRecommender import UserKNNCFRecommender\n",
    "model = UserKNNCFRecommender\n",
    "\n",
    "from Evaluation.Evaluator import EvaluatorHoldout\n",
    "evaluator_validation = EvaluatorHoldout(URM_validation, cutoff_list=[10], ignore_users=[])"
   ],
   "metadata": {
    "collapsed": false,
    "ExecuteTime": {
     "end_time": "2023-11-21T23:36:25.481916733Z",
     "start_time": "2023-11-21T23:36:25.461108742Z"
    }
   },
   "id": "8a9fec0ccc4f11c5"
  },
  {
   "cell_type": "code",
   "execution_count": 3,
   "outputs": [],
   "source": [
    "import optuna as op\n",
    "def objective(trial):\n",
    "    topK = trial.suggest_int(\"topK\", 1e2, 1e4)\n",
    "    shrink = trial.suggest_int(\"shrink\", 0, 100)\n",
    "    similarity = trial.suggest_categorical(\"similarity\", [\"cosine\", \"jaccard\", \"asymmetric\", \"dice\", \"tversky\"])\n",
    "    normalize = trial.suggest_categorical(\"normalize\", [True, False])\n",
    "    feature_weighting = trial.suggest_categorical(\"feature_weighting\", [\"none\", \"BM25\", \"TF-IDF\"])\n",
    "\n",
    "    \n",
    "    recommender = model(URM_train)\n",
    "    recommender.fit(**trial.params)\n",
    "    \n",
    "    result, _ = evaluator_validation.evaluateRecommender(recommender)\n",
    "    MAP_result = result[\"MAP\"].item()\n",
    "       \n",
    "    return MAP_result"
   ],
   "metadata": {
    "collapsed": false,
    "ExecuteTime": {
     "end_time": "2023-11-21T23:36:25.765290331Z",
     "start_time": "2023-11-21T23:36:25.479850126Z"
    }
   },
   "id": "b826576f6714c764"
  },
  {
   "cell_type": "code",
   "execution_count": 4,
   "outputs": [
    {
     "name": "stderr",
     "output_type": "stream",
     "text": [
      "[I 2023-11-22 00:36:28,404] A new study created in memory with name: no-name-7fd53cc8-f7ec-48dc-b04b-28654f52c578\n"
     ]
    },
    {
     "name": "stdout",
     "output_type": "stream",
     "text": [
      "UserKNNCFRecommender: URM Detected 484 ( 3.8%) users with no interactions.\n",
      "UserKNNCFRecommender: URM Detected 319 ( 1.4%) items with no interactions.\n",
      "Similarity column 12638 (100.0%), 8695.59 column/sec. Elapsed time 1.45 sec\n",
      "EvaluatorHoldout: Processed 10048 (100.0%) in 6.86 sec. Users per second: 1465\n"
     ]
    },
    {
     "name": "stderr",
     "output_type": "stream",
     "text": [
      "[I 2023-11-22 00:36:36,876] Trial 0 finished with value: 0.023100230007077137 and parameters: {'topK': 529, 'shrink': 45, 'similarity': 'asymmetric', 'normalize': True, 'feature_weighting': 'TF-IDF'}. Best is trial 0 with value: 0.023100230007077137.\n"
     ]
    },
    {
     "name": "stdout",
     "output_type": "stream",
     "text": [
      "UserKNNCFRecommender: URM Detected 484 ( 3.8%) users with no interactions.\n",
      "UserKNNCFRecommender: URM Detected 319 ( 1.4%) items with no interactions.\n",
      "Similarity column 12638 (100.0%), 9431.13 column/sec. Elapsed time 1.34 sec\n",
      "EvaluatorHoldout: Processed 10048 (100.0%) in 11.00 sec. Users per second: 914\n"
     ]
    },
    {
     "name": "stderr",
     "output_type": "stream",
     "text": [
      "[I 2023-11-22 00:36:49,772] Trial 1 finished with value: 0.014974068913658845 and parameters: {'topK': 7188, 'shrink': 83, 'similarity': 'asymmetric', 'normalize': True, 'feature_weighting': 'TF-IDF'}. Best is trial 0 with value: 0.023100230007077137.\n"
     ]
    },
    {
     "name": "stdout",
     "output_type": "stream",
     "text": [
      "UserKNNCFRecommender: URM Detected 484 ( 3.8%) users with no interactions.\n",
      "UserKNNCFRecommender: URM Detected 319 ( 1.4%) items with no interactions.\n",
      "Similarity column 12638 (100.0%), 10714.80 column/sec. Elapsed time 1.18 sec\n",
      "EvaluatorHoldout: Processed 10048 (100.0%) in 10.83 sec. Users per second: 928\n"
     ]
    },
    {
     "name": "stderr",
     "output_type": "stream",
     "text": [
      "[I 2023-11-22 00:37:02,308] Trial 2 finished with value: 0.01478339683803454 and parameters: {'topK': 6433, 'shrink': 10, 'similarity': 'dice', 'normalize': True, 'feature_weighting': 'none'}. Best is trial 0 with value: 0.023100230007077137.\n"
     ]
    },
    {
     "name": "stdout",
     "output_type": "stream",
     "text": [
      "UserKNNCFRecommender: URM Detected 484 ( 3.8%) users with no interactions.\n",
      "UserKNNCFRecommender: URM Detected 319 ( 1.4%) items with no interactions.\n",
      "Similarity column 12638 (100.0%), 9449.50 column/sec. Elapsed time 1.34 sec\n",
      "EvaluatorHoldout: Processed 10048 (100.0%) in 9.88 sec. Users per second: 1017\n"
     ]
    },
    {
     "name": "stderr",
     "output_type": "stream",
     "text": [
      "[I 2023-11-22 00:37:13,975] Trial 3 finished with value: 0.015575215157719088 and parameters: {'topK': 3702, 'shrink': 51, 'similarity': 'cosine', 'normalize': True, 'feature_weighting': 'TF-IDF'}. Best is trial 0 with value: 0.023100230007077137.\n"
     ]
    },
    {
     "name": "stdout",
     "output_type": "stream",
     "text": [
      "UserKNNCFRecommender: URM Detected 484 ( 3.8%) users with no interactions.\n",
      "UserKNNCFRecommender: URM Detected 319 ( 1.4%) items with no interactions.\n",
      "Similarity column 12638 (100.0%), 10853.30 column/sec. Elapsed time 1.16 sec\n",
      "EvaluatorHoldout: Processed 10048 (100.0%) in 10.50 sec. Users per second: 957\n"
     ]
    },
    {
     "name": "stderr",
     "output_type": "stream",
     "text": [
      "[I 2023-11-22 00:37:26,134] Trial 4 finished with value: 0.014058428274441395 and parameters: {'topK': 6059, 'shrink': 3, 'similarity': 'asymmetric', 'normalize': False, 'feature_weighting': 'none'}. Best is trial 0 with value: 0.023100230007077137.\n"
     ]
    },
    {
     "name": "stdout",
     "output_type": "stream",
     "text": [
      "UserKNNCFRecommender: URM Detected 484 ( 3.8%) users with no interactions.\n",
      "UserKNNCFRecommender: URM Detected 319 ( 1.4%) items with no interactions.\n",
      "Similarity column 12638 (100.0%), 10808.70 column/sec. Elapsed time 1.17 sec\n",
      "EvaluatorHoldout: Processed 10048 (100.0%) in 10.31 sec. Users per second: 974\n"
     ]
    },
    {
     "name": "stderr",
     "output_type": "stream",
     "text": [
      "[I 2023-11-22 00:37:38,149] Trial 5 finished with value: 0.014945491798099245 and parameters: {'topK': 6259, 'shrink': 21, 'similarity': 'jaccard', 'normalize': True, 'feature_weighting': 'TF-IDF'}. Best is trial 0 with value: 0.023100230007077137.\n"
     ]
    },
    {
     "name": "stdout",
     "output_type": "stream",
     "text": [
      "UserKNNCFRecommender: URM Detected 484 ( 3.8%) users with no interactions.\n",
      "UserKNNCFRecommender: URM Detected 319 ( 1.4%) items with no interactions.\n",
      "Similarity column 12638 (100.0%), 10164.46 column/sec. Elapsed time 1.24 sec\n",
      "EvaluatorHoldout: Processed 10048 (100.0%) in 8.27 sec. Users per second: 1215\n"
     ]
    },
    {
     "name": "stderr",
     "output_type": "stream",
     "text": [
      "[I 2023-11-22 00:37:47,974] Trial 6 finished with value: 0.017326858855272447 and parameters: {'topK': 1813, 'shrink': 77, 'similarity': 'asymmetric', 'normalize': False, 'feature_weighting': 'none'}. Best is trial 0 with value: 0.023100230007077137.\n"
     ]
    },
    {
     "name": "stdout",
     "output_type": "stream",
     "text": [
      "UserKNNCFRecommender: URM Detected 484 ( 3.8%) users with no interactions.\n",
      "UserKNNCFRecommender: URM Detected 319 ( 1.4%) items with no interactions.\n",
      "Similarity column 12638 (100.0%), 10747.05 column/sec. Elapsed time 1.18 sec\n",
      "EvaluatorHoldout: Processed 10048 (100.0%) in 7.89 sec. Users per second: 1274\n"
     ]
    },
    {
     "name": "stderr",
     "output_type": "stream",
     "text": [
      "[I 2023-11-22 00:37:57,292] Trial 7 finished with value: 0.013118815400363906 and parameters: {'topK': 1294, 'shrink': 44, 'similarity': 'cosine', 'normalize': False, 'feature_weighting': 'BM25'}. Best is trial 0 with value: 0.023100230007077137.\n"
     ]
    },
    {
     "name": "stdout",
     "output_type": "stream",
     "text": [
      "UserKNNCFRecommender: URM Detected 484 ( 3.8%) users with no interactions.\n",
      "UserKNNCFRecommender: URM Detected 319 ( 1.4%) items with no interactions.\n",
      "Similarity column 12638 (100.0%), 11519.95 column/sec. Elapsed time 1.10 sec\n",
      "EvaluatorHoldout: Processed 10048 (100.0%) in 5.45 sec. Users per second: 1844\n"
     ]
    },
    {
     "name": "stderr",
     "output_type": "stream",
     "text": [
      "[I 2023-11-22 00:38:03,900] Trial 8 finished with value: 0.01742609679885754 and parameters: {'topK': 175, 'shrink': 63, 'similarity': 'cosine', 'normalize': False, 'feature_weighting': 'none'}. Best is trial 0 with value: 0.023100230007077137.\n"
     ]
    },
    {
     "name": "stdout",
     "output_type": "stream",
     "text": [
      "UserKNNCFRecommender: URM Detected 484 ( 3.8%) users with no interactions.\n",
      "UserKNNCFRecommender: URM Detected 319 ( 1.4%) items with no interactions.\n",
      "Similarity column 12638 (100.0%), 9461.76 column/sec. Elapsed time 1.34 sec\n",
      "EvaluatorHoldout: Processed 10048 (100.0%) in 10.02 sec. Users per second: 1003\n"
     ]
    },
    {
     "name": "stderr",
     "output_type": "stream",
     "text": [
      "[I 2023-11-22 00:38:15,875] Trial 9 finished with value: 0.02057054313896462 and parameters: {'topK': 8449, 'shrink': 95, 'similarity': 'tversky', 'normalize': False, 'feature_weighting': 'BM25'}. Best is trial 0 with value: 0.023100230007077137.\n"
     ]
    },
    {
     "name": "stdout",
     "output_type": "stream",
     "text": [
      "UserKNNCFRecommender: URM Detected 484 ( 3.8%) users with no interactions.\n",
      "UserKNNCFRecommender: URM Detected 319 ( 1.4%) items with no interactions.\n",
      "Similarity column 12638 (100.0%), 10619.78 column/sec. Elapsed time 1.19 sec\n",
      "EvaluatorHoldout: Processed 10048 (100.0%) in 9.38 sec. Users per second: 1071\n"
     ]
    },
    {
     "name": "stderr",
     "output_type": "stream",
     "text": [
      "[I 2023-11-22 00:38:26,922] Trial 10 finished with value: 0.015574058013598168 and parameters: {'topK': 3574, 'shrink': 34, 'similarity': 'jaccard', 'normalize': True, 'feature_weighting': 'TF-IDF'}. Best is trial 0 with value: 0.023100230007077137.\n"
     ]
    },
    {
     "name": "stdout",
     "output_type": "stream",
     "text": [
      "UserKNNCFRecommender: URM Detected 484 ( 3.8%) users with no interactions.\n",
      "UserKNNCFRecommender: URM Detected 319 ( 1.4%) items with no interactions.\n",
      "Similarity column 12638 (100.0%), 9288.58 column/sec. Elapsed time 1.36 sec\n",
      "EvaluatorHoldout: Processed 10048 (100.0%) in 10.14 sec. Users per second: 991\n"
     ]
    },
    {
     "name": "stderr",
     "output_type": "stream",
     "text": [
      "[I 2023-11-22 00:38:39,080] Trial 11 finished with value: 0.020168303255484712 and parameters: {'topK': 9318, 'shrink': 99, 'similarity': 'tversky', 'normalize': False, 'feature_weighting': 'BM25'}. Best is trial 0 with value: 0.023100230007077137.\n"
     ]
    },
    {
     "name": "stdout",
     "output_type": "stream",
     "text": [
      "UserKNNCFRecommender: URM Detected 484 ( 3.8%) users with no interactions.\n",
      "UserKNNCFRecommender: URM Detected 319 ( 1.4%) items with no interactions.\n",
      "Similarity column 12638 (100.0%), 8863.24 column/sec. Elapsed time 1.43 sec\n",
      "EvaluatorHoldout: Processed 10048 (100.0%) in 10.41 sec. Users per second: 965\n"
     ]
    },
    {
     "name": "stderr",
     "output_type": "stream",
     "text": [
      "[I 2023-11-22 00:38:51,576] Trial 12 finished with value: 0.020197168669750253 and parameters: {'topK': 9403, 'shrink': 63, 'similarity': 'tversky', 'normalize': False, 'feature_weighting': 'BM25'}. Best is trial 0 with value: 0.023100230007077137.\n"
     ]
    },
    {
     "name": "stdout",
     "output_type": "stream",
     "text": [
      "UserKNNCFRecommender: URM Detected 484 ( 3.8%) users with no interactions.\n",
      "UserKNNCFRecommender: URM Detected 319 ( 1.4%) items with no interactions.\n",
      "Similarity column 12638 (100.0%), 9848.02 column/sec. Elapsed time 1.28 sec\n",
      "EvaluatorHoldout: Processed 10048 (100.0%) in 10.13 sec. Users per second: 992\n"
     ]
    },
    {
     "name": "stderr",
     "output_type": "stream",
     "text": [
      "[I 2023-11-22 00:39:03,557] Trial 13 finished with value: 0.02073373995298751 and parameters: {'topK': 7864, 'shrink': 32, 'similarity': 'tversky', 'normalize': True, 'feature_weighting': 'BM25'}. Best is trial 0 with value: 0.023100230007077137.\n"
     ]
    },
    {
     "name": "stdout",
     "output_type": "stream",
     "text": [
      "UserKNNCFRecommender: URM Detected 484 ( 3.8%) users with no interactions.\n",
      "UserKNNCFRecommender: URM Detected 319 ( 1.4%) items with no interactions.\n",
      "Similarity column 12638 (100.0%), 10983.59 column/sec. Elapsed time 1.15 sec\n",
      "EvaluatorHoldout: Processed 10048 (100.0%) in 9.62 sec. Users per second: 1044\n"
     ]
    },
    {
     "name": "stderr",
     "output_type": "stream",
     "text": [
      "[I 2023-11-22 00:39:14,838] Trial 14 finished with value: 0.015117226992973362 and parameters: {'topK': 4347, 'shrink': 28, 'similarity': 'dice', 'normalize': True, 'feature_weighting': 'TF-IDF'}. Best is trial 0 with value: 0.023100230007077137.\n"
     ]
    },
    {
     "name": "stdout",
     "output_type": "stream",
     "text": [
      "UserKNNCFRecommender: URM Detected 484 ( 3.8%) users with no interactions.\n",
      "UserKNNCFRecommender: URM Detected 319 ( 1.4%) items with no interactions.\n",
      "Similarity column 12638 (100.0%), 9886.28 column/sec. Elapsed time 1.28 sec\n",
      "EvaluatorHoldout: Processed 10048 (100.0%) in 10.01 sec. Users per second: 1004\n"
     ]
    },
    {
     "name": "stderr",
     "output_type": "stream",
     "text": [
      "[I 2023-11-22 00:39:26,696] Trial 15 finished with value: 0.020787959856182373 and parameters: {'topK': 7848, 'shrink': 44, 'similarity': 'tversky', 'normalize': True, 'feature_weighting': 'BM25'}. Best is trial 0 with value: 0.023100230007077137.\n"
     ]
    },
    {
     "name": "stdout",
     "output_type": "stream",
     "text": [
      "UserKNNCFRecommender: URM Detected 484 ( 3.8%) users with no interactions.\n",
      "UserKNNCFRecommender: URM Detected 319 ( 1.4%) items with no interactions.\n",
      "Similarity column 12638 (100.0%), 9626.83 column/sec. Elapsed time 1.31 sec\n",
      "EvaluatorHoldout: Processed 10048 (100.0%) in 8.98 sec. Users per second: 1120\n"
     ]
    },
    {
     "name": "stderr",
     "output_type": "stream",
     "text": [
      "[I 2023-11-22 00:39:37,379] Trial 16 finished with value: 0.016830874500808782 and parameters: {'topK': 2651, 'shrink': 48, 'similarity': 'asymmetric', 'normalize': True, 'feature_weighting': 'TF-IDF'}. Best is trial 0 with value: 0.023100230007077137.\n"
     ]
    },
    {
     "name": "stdout",
     "output_type": "stream",
     "text": [
      "UserKNNCFRecommender: URM Detected 484 ( 3.8%) users with no interactions.\n",
      "UserKNNCFRecommender: URM Detected 319 ( 1.4%) items with no interactions.\n",
      "Similarity column 12638 (100.0%), 10104.86 column/sec. Elapsed time 1.25 sec\n",
      "EvaluatorHoldout: Processed 10048 (100.0%) in 9.82 sec. Users per second: 1023\n"
     ]
    },
    {
     "name": "stderr",
     "output_type": "stream",
     "text": [
      "[I 2023-11-22 00:39:48,948] Trial 17 finished with value: 0.013315324537458238 and parameters: {'topK': 5137, 'shrink': 61, 'similarity': 'asymmetric', 'normalize': True, 'feature_weighting': 'BM25'}. Best is trial 0 with value: 0.023100230007077137.\n"
     ]
    },
    {
     "name": "stdout",
     "output_type": "stream",
     "text": [
      "UserKNNCFRecommender: URM Detected 484 ( 3.8%) users with no interactions.\n",
      "UserKNNCFRecommender: URM Detected 319 ( 1.4%) items with no interactions.\n",
      "Similarity column 12638 (100.0%), 9808.47 column/sec. Elapsed time 1.29 sec\n",
      "EvaluatorHoldout: Processed 10048 (100.0%) in 7.26 sec. Users per second: 1385\n"
     ]
    },
    {
     "name": "stderr",
     "output_type": "stream",
     "text": [
      "[I 2023-11-22 00:39:57,736] Trial 18 finished with value: 0.01796755336290565 and parameters: {'topK': 989, 'shrink': 16, 'similarity': 'tversky', 'normalize': True, 'feature_weighting': 'BM25'}. Best is trial 0 with value: 0.023100230007077137.\n"
     ]
    },
    {
     "name": "stdout",
     "output_type": "stream",
     "text": [
      "UserKNNCFRecommender: URM Detected 484 ( 3.8%) users with no interactions.\n",
      "UserKNNCFRecommender: URM Detected 319 ( 1.4%) items with no interactions.\n",
      "Similarity column 12638 (100.0%), 11151.35 column/sec. Elapsed time 1.13 sec\n",
      "EvaluatorHoldout: Processed 10048 (100.0%) in 9.81 sec. Users per second: 1025\n"
     ]
    },
    {
     "name": "stderr",
     "output_type": "stream",
     "text": [
      "[I 2023-11-22 00:40:09,189] Trial 19 finished with value: 0.014902791995248164 and parameters: {'topK': 5110, 'shrink': 38, 'similarity': 'dice', 'normalize': True, 'feature_weighting': 'TF-IDF'}. Best is trial 0 with value: 0.023100230007077137.\n"
     ]
    },
    {
     "name": "stdout",
     "output_type": "stream",
     "text": [
      "UserKNNCFRecommender: URM Detected 484 ( 3.8%) users with no interactions.\n",
      "UserKNNCFRecommender: URM Detected 319 ( 1.4%) items with no interactions.\n",
      "Similarity column 12638 (100.0%), 10441.46 column/sec. Elapsed time 1.21 sec\n",
      "EvaluatorHoldout: Processed 10048 (100.0%) in 8.92 sec. Users per second: 1126\n"
     ]
    },
    {
     "name": "stderr",
     "output_type": "stream",
     "text": [
      "[I 2023-11-22 00:40:19,725] Trial 20 finished with value: 0.016595974244262394 and parameters: {'topK': 2549, 'shrink': 54, 'similarity': 'jaccard', 'normalize': True, 'feature_weighting': 'TF-IDF'}. Best is trial 0 with value: 0.023100230007077137.\n"
     ]
    },
    {
     "name": "stdout",
     "output_type": "stream",
     "text": [
      "UserKNNCFRecommender: URM Detected 484 ( 3.8%) users with no interactions.\n",
      "UserKNNCFRecommender: URM Detected 319 ( 1.4%) items with no interactions.\n",
      "Similarity column 12638 (100.0%), 9942.53 column/sec. Elapsed time 1.27 sec\n",
      "EvaluatorHoldout: Processed 10048 (100.0%) in 9.97 sec. Users per second: 1008\n"
     ]
    },
    {
     "name": "stderr",
     "output_type": "stream",
     "text": [
      "[I 2023-11-22 00:40:31,527] Trial 21 finished with value: 0.020850267920331567 and parameters: {'topK': 7635, 'shrink': 29, 'similarity': 'tversky', 'normalize': True, 'feature_weighting': 'BM25'}. Best is trial 0 with value: 0.023100230007077137.\n"
     ]
    },
    {
     "name": "stdout",
     "output_type": "stream",
     "text": [
      "UserKNNCFRecommender: URM Detected 484 ( 3.8%) users with no interactions.\n",
      "UserKNNCFRecommender: URM Detected 319 ( 1.4%) items with no interactions.\n",
      "Similarity column 12638 (100.0%), 9736.27 column/sec. Elapsed time 1.30 sec\n",
      "EvaluatorHoldout: Processed 10048 (100.0%) in 9.98 sec. Users per second: 1006\n"
     ]
    },
    {
     "name": "stderr",
     "output_type": "stream",
     "text": [
      "[I 2023-11-22 00:40:43,406] Trial 22 finished with value: 0.020466009187645306 and parameters: {'topK': 8485, 'shrink': 23, 'similarity': 'tversky', 'normalize': True, 'feature_weighting': 'BM25'}. Best is trial 0 with value: 0.023100230007077137.\n"
     ]
    },
    {
     "name": "stdout",
     "output_type": "stream",
     "text": [
      "UserKNNCFRecommender: URM Detected 484 ( 3.8%) users with no interactions.\n",
      "UserKNNCFRecommender: URM Detected 319 ( 1.4%) items with no interactions.\n",
      "Similarity column 12638 (100.0%), 9120.58 column/sec. Elapsed time 1.39 sec\n",
      "EvaluatorHoldout: Processed 10048 (100.0%) in 10.00 sec. Users per second: 1005\n"
     ]
    },
    {
     "name": "stderr",
     "output_type": "stream",
     "text": [
      "[I 2023-11-22 00:40:55,471] Trial 23 finished with value: 0.02017457079036498 and parameters: {'topK': 9904, 'shrink': 43, 'similarity': 'tversky', 'normalize': True, 'feature_weighting': 'BM25'}. Best is trial 0 with value: 0.023100230007077137.\n"
     ]
    },
    {
     "name": "stdout",
     "output_type": "stream",
     "text": [
      "UserKNNCFRecommender: URM Detected 484 ( 3.8%) users with no interactions.\n",
      "UserKNNCFRecommender: URM Detected 319 ( 1.4%) items with no interactions.\n",
      "Similarity column 12638 (100.0%), 10019.61 column/sec. Elapsed time 1.26 sec\n",
      "EvaluatorHoldout: Processed 10048 (100.0%) in 10.22 sec. Users per second: 984\n"
     ]
    },
    {
     "name": "stderr",
     "output_type": "stream",
     "text": [
      "[I 2023-11-22 00:41:07,517] Trial 24 finished with value: 0.020809598056313806 and parameters: {'topK': 7349, 'shrink': 40, 'similarity': 'tversky', 'normalize': True, 'feature_weighting': 'BM25'}. Best is trial 0 with value: 0.023100230007077137.\n"
     ]
    },
    {
     "name": "stdout",
     "output_type": "stream",
     "text": [
      "UserKNNCFRecommender: URM Detected 484 ( 3.8%) users with no interactions.\n",
      "UserKNNCFRecommender: URM Detected 319 ( 1.4%) items with no interactions.\n",
      "Similarity column 12638 (100.0%), 9716.19 column/sec. Elapsed time 1.30 sec\n",
      "EvaluatorHoldout: Processed 10048 (100.0%) in 9.96 sec. Users per second: 1009\n"
     ]
    },
    {
     "name": "stderr",
     "output_type": "stream",
     "text": [
      "[I 2023-11-22 00:41:19,356] Trial 25 finished with value: 0.01266949199398437 and parameters: {'topK': 7143, 'shrink': 27, 'similarity': 'asymmetric', 'normalize': True, 'feature_weighting': 'BM25'}. Best is trial 0 with value: 0.023100230007077137.\n"
     ]
    },
    {
     "name": "stdout",
     "output_type": "stream",
     "text": [
      "UserKNNCFRecommender: URM Detected 484 ( 3.8%) users with no interactions.\n",
      "UserKNNCFRecommender: URM Detected 319 ( 1.4%) items with no interactions.\n",
      "Similarity column 12638 (100.0%), 10273.67 column/sec. Elapsed time 1.23 sec\n",
      "EvaluatorHoldout: Processed 10048 (100.0%) in 9.89 sec. Users per second: 1016\n"
     ]
    },
    {
     "name": "stderr",
     "output_type": "stream",
     "text": [
      "[I 2023-11-22 00:41:31,016] Trial 26 finished with value: 0.020885969568294367 and parameters: {'topK': 5591, 'shrink': 71, 'similarity': 'tversky', 'normalize': True, 'feature_weighting': 'BM25'}. Best is trial 0 with value: 0.023100230007077137.\n"
     ]
    },
    {
     "name": "stdout",
     "output_type": "stream",
     "text": [
      "UserKNNCFRecommender: URM Detected 484 ( 3.8%) users with no interactions.\n",
      "UserKNNCFRecommender: URM Detected 319 ( 1.4%) items with no interactions.\n",
      "Similarity column 12638 (100.0%), 10257.01 column/sec. Elapsed time 1.23 sec\n",
      "EvaluatorHoldout: Processed 10048 (100.0%) in 9.91 sec. Users per second: 1013\n"
     ]
    },
    {
     "name": "stderr",
     "output_type": "stream",
     "text": [
      "[I 2023-11-22 00:41:42,697] Trial 27 finished with value: 0.020834498376048897 and parameters: {'topK': 5802, 'shrink': 77, 'similarity': 'tversky', 'normalize': True, 'feature_weighting': 'BM25'}. Best is trial 0 with value: 0.023100230007077137.\n"
     ]
    },
    {
     "name": "stdout",
     "output_type": "stream",
     "text": [
      "UserKNNCFRecommender: URM Detected 484 ( 3.8%) users with no interactions.\n",
      "UserKNNCFRecommender: URM Detected 319 ( 1.4%) items with no interactions.\n",
      "Similarity column 12638 (100.0%), 9965.60 column/sec. Elapsed time 1.27 sec\n",
      "EvaluatorHoldout: Processed 10048 (100.0%) in 9.68 sec. Users per second: 1038\n"
     ]
    },
    {
     "name": "stderr",
     "output_type": "stream",
     "text": [
      "[I 2023-11-22 00:41:54,120] Trial 28 finished with value: 0.014727293120008044 and parameters: {'topK': 4380, 'shrink': 71, 'similarity': 'asymmetric', 'normalize': True, 'feature_weighting': 'none'}. Best is trial 0 with value: 0.023100230007077137.\n"
     ]
    },
    {
     "name": "stdout",
     "output_type": "stream",
     "text": [
      "UserKNNCFRecommender: URM Detected 484 ( 3.8%) users with no interactions.\n",
      "UserKNNCFRecommender: URM Detected 319 ( 1.4%) items with no interactions.\n",
      "Similarity column 12638 (100.0%), 9915.73 column/sec. Elapsed time 1.27 sec\n",
      "EvaluatorHoldout: Processed 10048 (100.0%) in 10.23 sec. Users per second: 983\n"
     ]
    },
    {
     "name": "stderr",
     "output_type": "stream",
     "text": [
      "[I 2023-11-22 00:42:06,155] Trial 29 finished with value: 0.014957343639419632 and parameters: {'topK': 6881, 'shrink': 86, 'similarity': 'asymmetric', 'normalize': True, 'feature_weighting': 'TF-IDF'}. Best is trial 0 with value: 0.023100230007077137.\n"
     ]
    },
    {
     "name": "stdout",
     "output_type": "stream",
     "text": [
      "UserKNNCFRecommender: URM Detected 484 ( 3.8%) users with no interactions.\n",
      "UserKNNCFRecommender: URM Detected 319 ( 1.4%) items with no interactions.\n",
      "Similarity column 12638 (100.0%), 10239.50 column/sec. Elapsed time 1.23 sec\n",
      "EvaluatorHoldout: Processed 10048 (100.0%) in 10.08 sec. Users per second: 997\n"
     ]
    },
    {
     "name": "stderr",
     "output_type": "stream",
     "text": [
      "[I 2023-11-22 00:42:17,992] Trial 30 finished with value: 0.015012531120463002 and parameters: {'topK': 5546, 'shrink': 56, 'similarity': 'cosine', 'normalize': True, 'feature_weighting': 'TF-IDF'}. Best is trial 0 with value: 0.023100230007077137.\n"
     ]
    },
    {
     "name": "stdout",
     "output_type": "stream",
     "text": [
      "UserKNNCFRecommender: URM Detected 484 ( 3.8%) users with no interactions.\n",
      "UserKNNCFRecommender: URM Detected 319 ( 1.4%) items with no interactions.\n",
      "Similarity column 12638 (100.0%), 10039.80 column/sec. Elapsed time 1.26 sec\n",
      "EvaluatorHoldout: Processed 10048 (100.0%) in 10.12 sec. Users per second: 993\n"
     ]
    },
    {
     "name": "stderr",
     "output_type": "stream",
     "text": [
      "[I 2023-11-22 00:42:29,927] Trial 31 finished with value: 0.020801806092659948 and parameters: {'topK': 5806, 'shrink': 84, 'similarity': 'tversky', 'normalize': True, 'feature_weighting': 'BM25'}. Best is trial 0 with value: 0.023100230007077137.\n"
     ]
    },
    {
     "name": "stdout",
     "output_type": "stream",
     "text": [
      "UserKNNCFRecommender: URM Detected 484 ( 3.8%) users with no interactions.\n",
      "UserKNNCFRecommender: URM Detected 319 ( 1.4%) items with no interactions.\n",
      "Similarity column 12638 (100.0%), 10169.25 column/sec. Elapsed time 1.24 sec\n",
      "EvaluatorHoldout: Processed 10048 (100.0%) in 10.20 sec. Users per second: 985\n"
     ]
    },
    {
     "name": "stderr",
     "output_type": "stream",
     "text": [
      "[I 2023-11-22 00:42:41,872] Trial 32 finished with value: 0.020808910878576423 and parameters: {'topK': 4332, 'shrink': 76, 'similarity': 'tversky', 'normalize': True, 'feature_weighting': 'BM25'}. Best is trial 0 with value: 0.023100230007077137.\n"
     ]
    },
    {
     "name": "stdout",
     "output_type": "stream",
     "text": [
      "UserKNNCFRecommender: URM Detected 484 ( 3.8%) users with no interactions.\n",
      "UserKNNCFRecommender: URM Detected 319 ( 1.4%) items with no interactions.\n",
      "Similarity column 12638 (100.0%), 9563.16 column/sec. Elapsed time 1.32 sec\n",
      "EvaluatorHoldout: Processed 10048 (100.0%) in 10.20 sec. Users per second: 985\n"
     ]
    },
    {
     "name": "stderr",
     "output_type": "stream",
     "text": [
      "[I 2023-11-22 00:42:53,967] Trial 33 finished with value: 0.020907512985289627 and parameters: {'topK': 6732, 'shrink': 71, 'similarity': 'tversky', 'normalize': True, 'feature_weighting': 'BM25'}. Best is trial 0 with value: 0.023100230007077137.\n"
     ]
    },
    {
     "name": "stdout",
     "output_type": "stream",
     "text": [
      "UserKNNCFRecommender: URM Detected 484 ( 3.8%) users with no interactions.\n",
      "UserKNNCFRecommender: URM Detected 319 ( 1.4%) items with no interactions.\n",
      "Similarity column 12638 (100.0%), 10999.65 column/sec. Elapsed time 1.15 sec\n",
      "EvaluatorHoldout: Processed 10048 (100.0%) in 10.26 sec. Users per second: 979\n"
     ]
    },
    {
     "name": "stderr",
     "output_type": "stream",
     "text": [
      "[I 2023-11-22 00:43:05,941] Trial 34 finished with value: 0.020881423927054894 and parameters: {'topK': 6801, 'shrink': 72, 'similarity': 'dice', 'normalize': True, 'feature_weighting': 'BM25'}. Best is trial 0 with value: 0.023100230007077137.\n"
     ]
    },
    {
     "name": "stdout",
     "output_type": "stream",
     "text": [
      "UserKNNCFRecommender: URM Detected 484 ( 3.8%) users with no interactions.\n",
      "UserKNNCFRecommender: URM Detected 319 ( 1.4%) items with no interactions.\n",
      "Similarity column 12638 (100.0%), 10868.60 column/sec. Elapsed time 1.16 sec\n",
      "EvaluatorHoldout: Processed 10048 (100.0%) in 10.09 sec. Users per second: 996\n"
     ]
    },
    {
     "name": "stderr",
     "output_type": "stream",
     "text": [
      "[I 2023-11-22 00:43:17,734] Trial 35 finished with value: 0.014446731087604877 and parameters: {'topK': 6593, 'shrink': 68, 'similarity': 'dice', 'normalize': True, 'feature_weighting': 'none'}. Best is trial 0 with value: 0.023100230007077137.\n"
     ]
    },
    {
     "name": "stdout",
     "output_type": "stream",
     "text": [
      "UserKNNCFRecommender: URM Detected 484 ( 3.8%) users with no interactions.\n",
      "UserKNNCFRecommender: URM Detected 319 ( 1.4%) items with no interactions.\n",
      "Similarity column 12638 (100.0%), 10862.54 column/sec. Elapsed time 1.16 sec\n",
      "EvaluatorHoldout: Processed 10048 (100.0%) in 10.25 sec. Users per second: 980\n"
     ]
    },
    {
     "name": "stderr",
     "output_type": "stream",
     "text": [
      "[I 2023-11-22 00:43:29,689] Trial 36 finished with value: 0.02084239697073094 and parameters: {'topK': 6286, 'shrink': 87, 'similarity': 'dice', 'normalize': True, 'feature_weighting': 'BM25'}. Best is trial 0 with value: 0.023100230007077137.\n"
     ]
    },
    {
     "name": "stdout",
     "output_type": "stream",
     "text": [
      "UserKNNCFRecommender: URM Detected 484 ( 3.8%) users with no interactions.\n",
      "UserKNNCFRecommender: URM Detected 319 ( 1.4%) items with no interactions.\n",
      "Similarity column 12638 (100.0%), 10633.54 column/sec. Elapsed time 1.19 sec\n",
      "EvaluatorHoldout: Processed 10048 (100.0%) in 9.39 sec. Users per second: 1071\n"
     ]
    },
    {
     "name": "stderr",
     "output_type": "stream",
     "text": [
      "[I 2023-11-22 00:43:40,724] Trial 37 finished with value: 0.01558002935117781 and parameters: {'topK': 3423, 'shrink': 71, 'similarity': 'dice', 'normalize': True, 'feature_weighting': 'TF-IDF'}. Best is trial 0 with value: 0.023100230007077137.\n"
     ]
    },
    {
     "name": "stdout",
     "output_type": "stream",
     "text": [
      "UserKNNCFRecommender: URM Detected 484 ( 3.8%) users with no interactions.\n",
      "UserKNNCFRecommender: URM Detected 319 ( 1.4%) items with no interactions.\n",
      "Similarity column 12638 (100.0%), 10809.85 column/sec. Elapsed time 1.17 sec\n",
      "EvaluatorHoldout: Processed 10048 (100.0%) in 10.32 sec. Users per second: 973\n"
     ]
    },
    {
     "name": "stderr",
     "output_type": "stream",
     "text": [
      "[I 2023-11-22 00:43:52,755] Trial 38 finished with value: 0.014389264861995729 and parameters: {'topK': 6636, 'shrink': 91, 'similarity': 'dice', 'normalize': True, 'feature_weighting': 'none'}. Best is trial 0 with value: 0.023100230007077137.\n"
     ]
    },
    {
     "name": "stdout",
     "output_type": "stream",
     "text": [
      "UserKNNCFRecommender: URM Detected 484 ( 3.8%) users with no interactions.\n",
      "UserKNNCFRecommender: URM Detected 319 ( 1.4%) items with no interactions.\n",
      "Similarity column 12638 (100.0%), 9709.29 column/sec. Elapsed time 1.30 sec\n",
      "EvaluatorHoldout: Processed 10048 (100.0%) in 10.10 sec. Users per second: 995\n"
     ]
    },
    {
     "name": "stderr",
     "output_type": "stream",
     "text": [
      "[I 2023-11-22 00:44:04,776] Trial 39 finished with value: 0.020676147349863495 and parameters: {'topK': 8279, 'shrink': 59, 'similarity': 'jaccard', 'normalize': False, 'feature_weighting': 'BM25'}. Best is trial 0 with value: 0.023100230007077137.\n"
     ]
    },
    {
     "name": "stdout",
     "output_type": "stream",
     "text": [
      "UserKNNCFRecommender: URM Detected 484 ( 3.8%) users with no interactions.\n",
      "UserKNNCFRecommender: URM Detected 319 ( 1.4%) items with no interactions.\n",
      "Similarity column 12638 (100.0%), 10162.44 column/sec. Elapsed time 1.24 sec\n",
      "EvaluatorHoldout: Processed 10048 (100.0%) in 9.98 sec. Users per second: 1007\n"
     ]
    },
    {
     "name": "stderr",
     "output_type": "stream",
     "text": [
      "[I 2023-11-22 00:44:16,514] Trial 40 finished with value: 0.015062864915074258 and parameters: {'topK': 5253, 'shrink': 68, 'similarity': 'cosine', 'normalize': True, 'feature_weighting': 'TF-IDF'}. Best is trial 0 with value: 0.023100230007077137.\n"
     ]
    },
    {
     "name": "stdout",
     "output_type": "stream",
     "text": [
      "UserKNNCFRecommender: URM Detected 484 ( 3.8%) users with no interactions.\n",
      "UserKNNCFRecommender: URM Detected 319 ( 1.4%) items with no interactions.\n",
      "Similarity column 12638 (100.0%), 9829.16 column/sec. Elapsed time 1.29 sec\n",
      "EvaluatorHoldout: Processed 10048 (100.0%) in 10.15 sec. Users per second: 990\n"
     ]
    },
    {
     "name": "stderr",
     "output_type": "stream",
     "text": [
      "[I 2023-11-22 00:44:28,536] Trial 41 finished with value: 0.02038636370816901 and parameters: {'topK': 7548, 'shrink': 2, 'similarity': 'tversky', 'normalize': True, 'feature_weighting': 'BM25'}. Best is trial 0 with value: 0.023100230007077137.\n"
     ]
    },
    {
     "name": "stdout",
     "output_type": "stream",
     "text": [
      "UserKNNCFRecommender: URM Detected 484 ( 3.8%) users with no interactions.\n",
      "UserKNNCFRecommender: URM Detected 319 ( 1.4%) items with no interactions.\n",
      "Similarity column 12638 (100.0%), 9808.85 column/sec. Elapsed time 1.29 sec\n",
      "EvaluatorHoldout: Processed 10048 (100.0%) in 10.10 sec. Users per second: 995\n"
     ]
    },
    {
     "name": "stderr",
     "output_type": "stream",
     "text": [
      "[I 2023-11-22 00:44:40,472] Trial 42 finished with value: 0.012762758599989814 and parameters: {'topK': 7038, 'shrink': 10, 'similarity': 'asymmetric', 'normalize': True, 'feature_weighting': 'BM25'}. Best is trial 0 with value: 0.023100230007077137.\n"
     ]
    },
    {
     "name": "stdout",
     "output_type": "stream",
     "text": [
      "UserKNNCFRecommender: URM Detected 484 ( 3.8%) users with no interactions.\n",
      "UserKNNCFRecommender: URM Detected 319 ( 1.4%) items with no interactions.\n",
      "Similarity column 12638 (100.0%), 10100.31 column/sec. Elapsed time 1.25 sec\n",
      "EvaluatorHoldout: Processed 10048 (100.0%) in 10.16 sec. Users per second: 989\n"
     ]
    },
    {
     "name": "stderr",
     "output_type": "stream",
     "text": [
      "[I 2023-11-22 00:44:52,444] Trial 43 finished with value: 0.020923839380497418 and parameters: {'topK': 6044, 'shrink': 49, 'similarity': 'tversky', 'normalize': True, 'feature_weighting': 'BM25'}. Best is trial 0 with value: 0.023100230007077137.\n"
     ]
    },
    {
     "name": "stdout",
     "output_type": "stream",
     "text": [
      "UserKNNCFRecommender: URM Detected 484 ( 3.8%) users with no interactions.\n",
      "UserKNNCFRecommender: URM Detected 319 ( 1.4%) items with no interactions.\n",
      "Similarity column 12638 (100.0%), 10789.86 column/sec. Elapsed time 1.17 sec\n",
      "EvaluatorHoldout: Processed 10048 (100.0%) in 9.98 sec. Users per second: 1007\n"
     ]
    },
    {
     "name": "stderr",
     "output_type": "stream",
     "text": [
      "[I 2023-11-22 00:45:04,130] Trial 44 finished with value: 0.02085041799363056 and parameters: {'topK': 4744, 'shrink': 51, 'similarity': 'dice', 'normalize': False, 'feature_weighting': 'BM25'}. Best is trial 0 with value: 0.023100230007077137.\n"
     ]
    },
    {
     "name": "stdout",
     "output_type": "stream",
     "text": [
      "UserKNNCFRecommender: URM Detected 484 ( 3.8%) users with no interactions.\n",
      "UserKNNCFRecommender: URM Detected 319 ( 1.4%) items with no interactions.\n",
      "Similarity column 12638 (100.0%), 10856.93 column/sec. Elapsed time 1.16 sec\n",
      "EvaluatorHoldout: Processed 10048 (100.0%) in 10.09 sec. Users per second: 996\n"
     ]
    },
    {
     "name": "stderr",
     "output_type": "stream",
     "text": [
      "[I 2023-11-22 00:45:15,949] Trial 45 finished with value: 0.020820375688757407 and parameters: {'topK': 6120, 'shrink': 79, 'similarity': 'jaccard', 'normalize': True, 'feature_weighting': 'BM25'}. Best is trial 0 with value: 0.023100230007077137.\n"
     ]
    },
    {
     "name": "stdout",
     "output_type": "stream",
     "text": [
      "UserKNNCFRecommender: URM Detected 484 ( 3.8%) users with no interactions.\n",
      "UserKNNCFRecommender: URM Detected 319 ( 1.4%) items with no interactions.\n",
      "Similarity column 12638 (100.0%), 10034.06 column/sec. Elapsed time 1.26 sec\n",
      "EvaluatorHoldout: Processed 10048 (100.0%) in 10.07 sec. Users per second: 998\n"
     ]
    },
    {
     "name": "stderr",
     "output_type": "stream",
     "text": [
      "[I 2023-11-22 00:45:27,830] Trial 46 finished with value: 0.014660131369426732 and parameters: {'topK': 5596, 'shrink': 48, 'similarity': 'tversky', 'normalize': True, 'feature_weighting': 'none'}. Best is trial 0 with value: 0.023100230007077137.\n"
     ]
    },
    {
     "name": "stdout",
     "output_type": "stream",
     "text": [
      "UserKNNCFRecommender: URM Detected 484 ( 3.8%) users with no interactions.\n",
      "UserKNNCFRecommender: URM Detected 319 ( 1.4%) items with no interactions.\n",
      "Similarity column 12638 (100.0%), 10831.06 column/sec. Elapsed time 1.17 sec\n",
      "EvaluatorHoldout: Processed 10048 (100.0%) in 9.68 sec. Users per second: 1038\n"
     ]
    },
    {
     "name": "stderr",
     "output_type": "stream",
     "text": [
      "[I 2023-11-22 00:45:39,163] Trial 47 finished with value: 0.01305953249797788 and parameters: {'topK': 3910, 'shrink': 66, 'similarity': 'cosine', 'normalize': False, 'feature_weighting': 'BM25'}. Best is trial 0 with value: 0.023100230007077137.\n"
     ]
    },
    {
     "name": "stdout",
     "output_type": "stream",
     "text": [
      "UserKNNCFRecommender: URM Detected 484 ( 3.8%) users with no interactions.\n",
      "UserKNNCFRecommender: URM Detected 319 ( 1.4%) items with no interactions.\n",
      "Similarity column 12638 (100.0%), 9776.07 column/sec. Elapsed time 1.29 sec\n",
      "EvaluatorHoldout: Processed 10048 (100.0%) in 6.82 sec. Users per second: 1473\n"
     ]
    },
    {
     "name": "stderr",
     "output_type": "stream",
     "text": [
      "[I 2023-11-22 00:45:47,459] Trial 48 finished with value: 0.013421110416034747 and parameters: {'topK': 676, 'shrink': 56, 'similarity': 'asymmetric', 'normalize': True, 'feature_weighting': 'BM25'}. Best is trial 0 with value: 0.023100230007077137.\n"
     ]
    },
    {
     "name": "stdout",
     "output_type": "stream",
     "text": [
      "UserKNNCFRecommender: URM Detected 484 ( 3.8%) users with no interactions.\n",
      "UserKNNCFRecommender: URM Detected 319 ( 1.4%) items with no interactions.\n",
      "Similarity column 12638 (100.0%), 10083.13 column/sec. Elapsed time 1.25 sec\n",
      "EvaluatorHoldout: Processed 10048 (100.0%) in 10.11 sec. Users per second: 993\n"
     ]
    },
    {
     "name": "stderr",
     "output_type": "stream",
     "text": [
      "[I 2023-11-22 00:45:59,378] Trial 49 finished with value: 0.014715832259124427 and parameters: {'topK': 6309, 'shrink': 74, 'similarity': 'tversky', 'normalize': True, 'feature_weighting': 'TF-IDF'}. Best is trial 0 with value: 0.023100230007077137.\n"
     ]
    },
    {
     "name": "stdout",
     "output_type": "stream",
     "text": [
      "UserKNNCFRecommender: URM Detected 484 ( 3.8%) users with no interactions.\n",
      "UserKNNCFRecommender: URM Detected 319 ( 1.4%) items with no interactions.\n",
      "Similarity column 12638 (100.0%), 10406.58 column/sec. Elapsed time 1.21 sec\n",
      "EvaluatorHoldout: Processed 10048 (100.0%) in 8.88 sec. Users per second: 1131\n"
     ]
    },
    {
     "name": "stderr",
     "output_type": "stream",
     "text": [
      "[I 2023-11-22 00:46:09,876] Trial 50 finished with value: 0.0201854866482155 and parameters: {'topK': 2394, 'shrink': 80, 'similarity': 'dice', 'normalize': False, 'feature_weighting': 'BM25'}. Best is trial 0 with value: 0.023100230007077137.\n"
     ]
    },
    {
     "name": "stdout",
     "output_type": "stream",
     "text": [
      "UserKNNCFRecommender: URM Detected 484 ( 3.8%) users with no interactions.\n",
      "UserKNNCFRecommender: URM Detected 319 ( 1.4%) items with no interactions.\n",
      "Similarity column 12638 (100.0%), 10872.42 column/sec. Elapsed time 1.16 sec\n",
      "EvaluatorHoldout: Processed 10048 (100.0%) in 9.87 sec. Users per second: 1018\n"
     ]
    },
    {
     "name": "stderr",
     "output_type": "stream",
     "text": [
      "[I 2023-11-22 00:46:21,448] Trial 51 finished with value: 0.020873608267617017 and parameters: {'topK': 4620, 'shrink': 51, 'similarity': 'dice', 'normalize': False, 'feature_weighting': 'BM25'}. Best is trial 0 with value: 0.023100230007077137.\n"
     ]
    },
    {
     "name": "stdout",
     "output_type": "stream",
     "text": [
      "UserKNNCFRecommender: URM Detected 484 ( 3.8%) users with no interactions.\n",
      "UserKNNCFRecommender: URM Detected 319 ( 1.4%) items with no interactions.\n",
      "Similarity column 12638 (100.0%), 10417.22 column/sec. Elapsed time 1.21 sec\n",
      "EvaluatorHoldout: Processed 10048 (100.0%) in 8.53 sec. Users per second: 1178\n"
     ]
    },
    {
     "name": "stderr",
     "output_type": "stream",
     "text": [
      "[I 2023-11-22 00:46:31,554] Trial 52 finished with value: 0.019760633088160957 and parameters: {'topK': 1926, 'shrink': 51, 'similarity': 'dice', 'normalize': False, 'feature_weighting': 'BM25'}. Best is trial 0 with value: 0.023100230007077137.\n"
     ]
    },
    {
     "name": "stdout",
     "output_type": "stream",
     "text": [
      "UserKNNCFRecommender: URM Detected 484 ( 3.8%) users with no interactions.\n",
      "UserKNNCFRecommender: URM Detected 319 ( 1.4%) items with no interactions.\n",
      "Similarity column 12638 (100.0%), 10481.05 column/sec. Elapsed time 1.21 sec\n",
      "EvaluatorHoldout: Processed 10048 (100.0%) in 9.34 sec. Users per second: 1076\n"
     ]
    },
    {
     "name": "stderr",
     "output_type": "stream",
     "text": [
      "[I 2023-11-22 00:46:42,569] Trial 53 finished with value: 0.020635884263471828 and parameters: {'topK': 3078, 'shrink': 38, 'similarity': 'dice', 'normalize': False, 'feature_weighting': 'BM25'}. Best is trial 0 with value: 0.023100230007077137.\n"
     ]
    },
    {
     "name": "stdout",
     "output_type": "stream",
     "text": [
      "UserKNNCFRecommender: URM Detected 484 ( 3.8%) users with no interactions.\n",
      "UserKNNCFRecommender: URM Detected 319 ( 1.4%) items with no interactions.\n",
      "Similarity column 12638 (100.0%), 10930.51 column/sec. Elapsed time 1.16 sec\n",
      "EvaluatorHoldout: Processed 10048 (100.0%) in 9.94 sec. Users per second: 1011\n"
     ]
    },
    {
     "name": "stderr",
     "output_type": "stream",
     "text": [
      "[I 2023-11-22 00:46:54,204] Trial 54 finished with value: 0.02077363575472647 and parameters: {'topK': 4768, 'shrink': 64, 'similarity': 'dice', 'normalize': False, 'feature_weighting': 'BM25'}. Best is trial 0 with value: 0.023100230007077137.\n"
     ]
    },
    {
     "name": "stdout",
     "output_type": "stream",
     "text": [
      "UserKNNCFRecommender: URM Detected 484 ( 3.8%) users with no interactions.\n",
      "UserKNNCFRecommender: URM Detected 319 ( 1.4%) items with no interactions.\n",
      "Similarity column 12638 (100.0%), 9913.83 column/sec. Elapsed time 1.27 sec\n",
      "EvaluatorHoldout: Processed 10048 (100.0%) in 10.18 sec. Users per second: 987\n"
     ]
    },
    {
     "name": "stderr",
     "output_type": "stream",
     "text": [
      "[I 2023-11-22 00:47:06,246] Trial 55 finished with value: 0.02091782854994439 and parameters: {'topK': 6799, 'shrink': 46, 'similarity': 'tversky', 'normalize': False, 'feature_weighting': 'BM25'}. Best is trial 0 with value: 0.023100230007077137.\n"
     ]
    },
    {
     "name": "stdout",
     "output_type": "stream",
     "text": [
      "UserKNNCFRecommender: URM Detected 484 ( 3.8%) users with no interactions.\n",
      "UserKNNCFRecommender: URM Detected 319 ( 1.4%) items with no interactions.\n",
      "Similarity column 12638 (100.0%), 9638.96 column/sec. Elapsed time 1.31 sec\n",
      "EvaluatorHoldout: Processed 10048 (100.0%) in 10.19 sec. Users per second: 986\n"
     ]
    },
    {
     "name": "stderr",
     "output_type": "stream",
     "text": [
      "[I 2023-11-22 00:47:18,361] Trial 56 finished with value: 0.020628897956475527 and parameters: {'topK': 8186, 'shrink': 46, 'similarity': 'tversky', 'normalize': True, 'feature_weighting': 'BM25'}. Best is trial 0 with value: 0.023100230007077137.\n"
     ]
    },
    {
     "name": "stdout",
     "output_type": "stream",
     "text": [
      "UserKNNCFRecommender: URM Detected 484 ( 3.8%) users with no interactions.\n",
      "UserKNNCFRecommender: URM Detected 319 ( 1.4%) items with no interactions.\n",
      "Similarity column 12638 (100.0%), 9989.42 column/sec. Elapsed time 1.27 sec\n",
      "EvaluatorHoldout: Processed 10048 (100.0%) in 10.07 sec. Users per second: 998\n"
     ]
    },
    {
     "name": "stderr",
     "output_type": "stream",
     "text": [
      "[I 2023-11-22 00:47:30,260] Trial 57 finished with value: 0.014759811634313981 and parameters: {'topK': 6768, 'shrink': 60, 'similarity': 'tversky', 'normalize': True, 'feature_weighting': 'TF-IDF'}. Best is trial 0 with value: 0.023100230007077137.\n"
     ]
    },
    {
     "name": "stdout",
     "output_type": "stream",
     "text": [
      "UserKNNCFRecommender: URM Detected 484 ( 3.8%) users with no interactions.\n",
      "UserKNNCFRecommender: URM Detected 319 ( 1.4%) items with no interactions.\n",
      "Similarity column 12638 (100.0%), 9456.38 column/sec. Elapsed time 1.34 sec\n",
      "EvaluatorHoldout: Processed 10048 (100.0%) in 10.07 sec. Users per second: 998\n"
     ]
    },
    {
     "name": "stderr",
     "output_type": "stream",
     "text": [
      "[I 2023-11-22 00:47:42,280] Trial 58 finished with value: 0.02038074780735012 and parameters: {'topK': 8719, 'shrink': 41, 'similarity': 'tversky', 'normalize': False, 'feature_weighting': 'BM25'}. Best is trial 0 with value: 0.023100230007077137.\n"
     ]
    },
    {
     "name": "stdout",
     "output_type": "stream",
     "text": [
      "UserKNNCFRecommender: URM Detected 484 ( 3.8%) users with no interactions.\n",
      "UserKNNCFRecommender: URM Detected 319 ( 1.4%) items with no interactions.\n",
      "Similarity column 12638 (100.0%), 10373.31 column/sec. Elapsed time 1.22 sec\n",
      "EvaluatorHoldout: Processed 10048 (100.0%) in 5.17 sec. Users per second: 1944\n"
     ]
    },
    {
     "name": "stderr",
     "output_type": "stream",
     "text": [
      "[I 2023-11-22 00:47:48,770] Trial 59 finished with value: 0.009601436912344522 and parameters: {'topK': 143, 'shrink': 37, 'similarity': 'tversky', 'normalize': True, 'feature_weighting': 'BM25'}. Best is trial 0 with value: 0.023100230007077137.\n"
     ]
    },
    {
     "name": "stdout",
     "output_type": "stream",
     "text": [
      "UserKNNCFRecommender: URM Detected 484 ( 3.8%) users with no interactions.\n",
      "UserKNNCFRecommender: URM Detected 319 ( 1.4%) items with no interactions.\n",
      "Similarity column 12638 (100.0%), 10219.22 column/sec. Elapsed time 1.24 sec\n",
      "EvaluatorHoldout: Processed 10048 (100.0%) in 10.04 sec. Users per second: 1001\n"
     ]
    },
    {
     "name": "stderr",
     "output_type": "stream",
     "text": [
      "[I 2023-11-22 00:48:00,578] Trial 60 finished with value: 0.014564850621777356 and parameters: {'topK': 5923, 'shrink': 56, 'similarity': 'tversky', 'normalize': True, 'feature_weighting': 'none'}. Best is trial 0 with value: 0.023100230007077137.\n"
     ]
    },
    {
     "name": "stdout",
     "output_type": "stream",
     "text": [
      "UserKNNCFRecommender: URM Detected 484 ( 3.8%) users with no interactions.\n",
      "UserKNNCFRecommender: URM Detected 319 ( 1.4%) items with no interactions.\n",
      "Similarity column 12638 (100.0%), 10630.78 column/sec. Elapsed time 1.19 sec\n",
      "EvaluatorHoldout: Processed 10048 (100.0%) in 10.09 sec. Users per second: 996\n"
     ]
    },
    {
     "name": "stderr",
     "output_type": "stream",
     "text": [
      "[I 2023-11-22 00:48:12,422] Trial 61 finished with value: 0.012791908363663852 and parameters: {'topK': 7315, 'shrink': 34, 'similarity': 'asymmetric', 'normalize': False, 'feature_weighting': 'BM25'}. Best is trial 0 with value: 0.023100230007077137.\n"
     ]
    },
    {
     "name": "stdout",
     "output_type": "stream",
     "text": [
      "UserKNNCFRecommender: URM Detected 484 ( 3.8%) users with no interactions.\n",
      "UserKNNCFRecommender: URM Detected 319 ( 1.4%) items with no interactions.\n",
      "Similarity column 12638 (100.0%), 10082.60 column/sec. Elapsed time 1.25 sec\n",
      "EvaluatorHoldout: Processed 10048 (100.0%) in 10.12 sec. Users per second: 993\n"
     ]
    },
    {
     "name": "stderr",
     "output_type": "stream",
     "text": [
      "[I 2023-11-22 00:48:24,336] Trial 62 finished with value: 0.020912556237994134 and parameters: {'topK': 5370, 'shrink': 45, 'similarity': 'tversky', 'normalize': False, 'feature_weighting': 'BM25'}. Best is trial 0 with value: 0.023100230007077137.\n"
     ]
    },
    {
     "name": "stdout",
     "output_type": "stream",
     "text": [
      "UserKNNCFRecommender: URM Detected 484 ( 3.8%) users with no interactions.\n",
      "UserKNNCFRecommender: URM Detected 319 ( 1.4%) items with no interactions.\n",
      "Similarity column 12638 (100.0%), 10065.68 column/sec. Elapsed time 1.26 sec\n",
      "EvaluatorHoldout: Processed 10048 (100.0%) in 10.06 sec. Users per second: 999\n"
     ]
    },
    {
     "name": "stderr",
     "output_type": "stream",
     "text": [
      "[I 2023-11-22 00:48:36,213] Trial 63 finished with value: 0.020927038311343647 and parameters: {'topK': 5434, 'shrink': 45, 'similarity': 'tversky', 'normalize': False, 'feature_weighting': 'BM25'}. Best is trial 0 with value: 0.023100230007077137.\n"
     ]
    },
    {
     "name": "stdout",
     "output_type": "stream",
     "text": [
      "UserKNNCFRecommender: URM Detected 484 ( 3.8%) users with no interactions.\n",
      "UserKNNCFRecommender: URM Detected 319 ( 1.4%) items with no interactions.\n",
      "Similarity column 12638 (100.0%), 10141.05 column/sec. Elapsed time 1.25 sec\n",
      "EvaluatorHoldout: Processed 10048 (100.0%) in 10.01 sec. Users per second: 1003\n"
     ]
    },
    {
     "name": "stderr",
     "output_type": "stream",
     "text": [
      "[I 2023-11-22 00:48:48,058] Trial 64 finished with value: 0.02091287218178142 and parameters: {'topK': 5406, 'shrink': 45, 'similarity': 'tversky', 'normalize': False, 'feature_weighting': 'BM25'}. Best is trial 0 with value: 0.023100230007077137.\n"
     ]
    },
    {
     "name": "stdout",
     "output_type": "stream",
     "text": [
      "UserKNNCFRecommender: URM Detected 484 ( 3.8%) users with no interactions.\n",
      "UserKNNCFRecommender: URM Detected 319 ( 1.4%) items with no interactions.\n",
      "Similarity column 12638 (100.0%), 10129.45 column/sec. Elapsed time 1.25 sec\n",
      "EvaluatorHoldout: Processed 10048 (100.0%) in 10.12 sec. Users per second: 993\n"
     ]
    },
    {
     "name": "stderr",
     "output_type": "stream",
     "text": [
      "[I 2023-11-22 00:48:59,974] Trial 65 finished with value: 0.020884160790112207 and parameters: {'topK': 5313, 'shrink': 45, 'similarity': 'tversky', 'normalize': False, 'feature_weighting': 'BM25'}. Best is trial 0 with value: 0.023100230007077137.\n"
     ]
    },
    {
     "name": "stdout",
     "output_type": "stream",
     "text": [
      "UserKNNCFRecommender: URM Detected 484 ( 3.8%) users with no interactions.\n",
      "UserKNNCFRecommender: URM Detected 319 ( 1.4%) items with no interactions.\n",
      "Similarity column 12638 (100.0%), 10137.70 column/sec. Elapsed time 1.25 sec\n",
      "EvaluatorHoldout: Processed 10048 (100.0%) in 9.95 sec. Users per second: 1010\n"
     ]
    },
    {
     "name": "stderr",
     "output_type": "stream",
     "text": [
      "[I 2023-11-22 00:49:11,711] Trial 66 finished with value: 0.014930208017389507 and parameters: {'topK': 5030, 'shrink': 48, 'similarity': 'tversky', 'normalize': False, 'feature_weighting': 'TF-IDF'}. Best is trial 0 with value: 0.023100230007077137.\n"
     ]
    },
    {
     "name": "stdout",
     "output_type": "stream",
     "text": [
      "UserKNNCFRecommender: URM Detected 484 ( 3.8%) users with no interactions.\n",
      "UserKNNCFRecommender: URM Detected 319 ( 1.4%) items with no interactions.\n",
      "Similarity column 12638 (100.0%), 9932.37 column/sec. Elapsed time 1.27 sec\n",
      "EvaluatorHoldout: Processed 10048 (100.0%) in 10.16 sec. Users per second: 989\n"
     ]
    },
    {
     "name": "stderr",
     "output_type": "stream",
     "text": [
      "[I 2023-11-22 00:49:23,713] Trial 67 finished with value: 0.020959450194621383 and parameters: {'topK': 6464, 'shrink': 42, 'similarity': 'tversky', 'normalize': False, 'feature_weighting': 'BM25'}. Best is trial 0 with value: 0.023100230007077137.\n"
     ]
    },
    {
     "name": "stdout",
     "output_type": "stream",
     "text": [
      "UserKNNCFRecommender: URM Detected 484 ( 3.8%) users with no interactions.\n",
      "UserKNNCFRecommender: URM Detected 319 ( 1.4%) items with no interactions.\n",
      "Similarity column 12638 (100.0%), 9822.05 column/sec. Elapsed time 1.29 sec\n",
      "EvaluatorHoldout: Processed 10048 (100.0%) in 9.77 sec. Users per second: 1028\n"
     ]
    },
    {
     "name": "stderr",
     "output_type": "stream",
     "text": [
      "[I 2023-11-22 00:49:35,284] Trial 68 finished with value: 0.020863336145232995 and parameters: {'topK': 4124, 'shrink': 42, 'similarity': 'tversky', 'normalize': False, 'feature_weighting': 'BM25'}. Best is trial 0 with value: 0.023100230007077137.\n"
     ]
    },
    {
     "name": "stdout",
     "output_type": "stream",
     "text": [
      "UserKNNCFRecommender: URM Detected 484 ( 3.8%) users with no interactions.\n",
      "UserKNNCFRecommender: URM Detected 319 ( 1.4%) items with no interactions.\n",
      "Similarity column 12638 (100.0%), 10064.76 column/sec. Elapsed time 1.26 sec\n",
      "EvaluatorHoldout: Processed 10048 (100.0%) in 10.17 sec. Users per second: 988\n"
     ]
    },
    {
     "name": "stderr",
     "output_type": "stream",
     "text": [
      "[I 2023-11-22 00:49:47,271] Trial 69 finished with value: 0.02090618207208573 and parameters: {'topK': 6377, 'shrink': 33, 'similarity': 'tversky', 'normalize': False, 'feature_weighting': 'BM25'}. Best is trial 0 with value: 0.023100230007077137.\n"
     ]
    },
    {
     "name": "stdout",
     "output_type": "stream",
     "text": [
      "UserKNNCFRecommender: URM Detected 484 ( 3.8%) users with no interactions.\n",
      "UserKNNCFRecommender: URM Detected 319 ( 1.4%) items with no interactions.\n",
      "Similarity column 12638 (100.0%), 9969.86 column/sec. Elapsed time 1.27 sec\n",
      "EvaluatorHoldout: Processed 10048 (100.0%) in 10.09 sec. Users per second: 996\n"
     ]
    },
    {
     "name": "stderr",
     "output_type": "stream",
     "text": [
      "[I 2023-11-22 00:49:59,178] Trial 70 finished with value: 0.01484874981043368 and parameters: {'topK': 5960, 'shrink': 36, 'similarity': 'tversky', 'normalize': False, 'feature_weighting': 'TF-IDF'}. Best is trial 0 with value: 0.023100230007077137.\n"
     ]
    },
    {
     "name": "stdout",
     "output_type": "stream",
     "text": [
      "UserKNNCFRecommender: URM Detected 484 ( 3.8%) users with no interactions.\n",
      "UserKNNCFRecommender: URM Detected 319 ( 1.4%) items with no interactions.\n",
      "Similarity column 12638 (100.0%), 10103.62 column/sec. Elapsed time 1.25 sec\n",
      "EvaluatorHoldout: Processed 10048 (100.0%) in 10.05 sec. Users per second: 999\n"
     ]
    },
    {
     "name": "stderr",
     "output_type": "stream",
     "text": [
      "[I 2023-11-22 00:50:11,023] Trial 71 finished with value: 0.020929143286826414 and parameters: {'topK': 5663, 'shrink': 30, 'similarity': 'tversky', 'normalize': False, 'feature_weighting': 'BM25'}. Best is trial 0 with value: 0.023100230007077137.\n"
     ]
    },
    {
     "name": "stdout",
     "output_type": "stream",
     "text": [
      "UserKNNCFRecommender: URM Detected 484 ( 3.8%) users with no interactions.\n",
      "UserKNNCFRecommender: URM Detected 319 ( 1.4%) items with no interactions.\n",
      "Similarity column 12638 (100.0%), 10098.23 column/sec. Elapsed time 1.25 sec\n",
      "EvaluatorHoldout: Processed 10048 (100.0%) in 10.07 sec. Users per second: 997\n"
     ]
    },
    {
     "name": "stderr",
     "output_type": "stream",
     "text": [
      "[I 2023-11-22 00:50:22,891] Trial 72 finished with value: 0.020905597576079276 and parameters: {'topK': 5525, 'shrink': 22, 'similarity': 'tversky', 'normalize': False, 'feature_weighting': 'BM25'}. Best is trial 0 with value: 0.023100230007077137.\n"
     ]
    },
    {
     "name": "stdout",
     "output_type": "stream",
     "text": [
      "UserKNNCFRecommender: URM Detected 484 ( 3.8%) users with no interactions.\n",
      "UserKNNCFRecommender: URM Detected 319 ( 1.4%) items with no interactions.\n",
      "Similarity column 12638 (100.0%), 10080.36 column/sec. Elapsed time 1.25 sec\n",
      "EvaluatorHoldout: Processed 10048 (100.0%) in 10.01 sec. Users per second: 1004\n"
     ]
    },
    {
     "name": "stderr",
     "output_type": "stream",
     "text": [
      "[I 2023-11-22 00:50:34,686] Trial 73 finished with value: 0.020823416647710008 and parameters: {'topK': 5054, 'shrink': 53, 'similarity': 'tversky', 'normalize': False, 'feature_weighting': 'BM25'}. Best is trial 0 with value: 0.023100230007077137.\n"
     ]
    },
    {
     "name": "stdout",
     "output_type": "stream",
     "text": [
      "UserKNNCFRecommender: URM Detected 484 ( 3.8%) users with no interactions.\n",
      "UserKNNCFRecommender: URM Detected 319 ( 1.4%) items with no interactions.\n",
      "Similarity column 12638 (100.0%), 9881.27 column/sec. Elapsed time 1.28 sec\n",
      "EvaluatorHoldout: Processed 10048 (100.0%) in 10.11 sec. Users per second: 994\n"
     ]
    },
    {
     "name": "stderr",
     "output_type": "stream",
     "text": [
      "[I 2023-11-22 00:50:46,642] Trial 74 finished with value: 0.020886016959862492 and parameters: {'topK': 6057, 'shrink': 26, 'similarity': 'tversky', 'normalize': False, 'feature_weighting': 'BM25'}. Best is trial 0 with value: 0.023100230007077137.\n"
     ]
    },
    {
     "name": "stdout",
     "output_type": "stream",
     "text": [
      "UserKNNCFRecommender: URM Detected 484 ( 3.8%) users with no interactions.\n",
      "UserKNNCFRecommender: URM Detected 319 ( 1.4%) items with no interactions.\n",
      "Similarity column 12638 (100.0%), 10068.56 column/sec. Elapsed time 1.26 sec\n",
      "EvaluatorHoldout: Processed 10048 (100.0%) in 10.10 sec. Users per second: 995\n"
     ]
    },
    {
     "name": "stderr",
     "output_type": "stream",
     "text": [
      "[I 2023-11-22 00:50:58,539] Trial 75 finished with value: 0.02092286390405419 and parameters: {'topK': 5707, 'shrink': 30, 'similarity': 'tversky', 'normalize': False, 'feature_weighting': 'BM25'}. Best is trial 0 with value: 0.023100230007077137.\n"
     ]
    },
    {
     "name": "stdout",
     "output_type": "stream",
     "text": [
      "UserKNNCFRecommender: URM Detected 484 ( 3.8%) users with no interactions.\n",
      "UserKNNCFRecommender: URM Detected 319 ( 1.4%) items with no interactions.\n",
      "Similarity column 12638 (100.0%), 10486.68 column/sec. Elapsed time 1.21 sec\n",
      "EvaluatorHoldout: Processed 10048 (100.0%) in 10.20 sec. Users per second: 986\n"
     ]
    },
    {
     "name": "stderr",
     "output_type": "stream",
     "text": [
      "[I 2023-11-22 00:51:10,508] Trial 76 finished with value: 0.02091945171115155 and parameters: {'topK': 6460, 'shrink': 30, 'similarity': 'jaccard', 'normalize': False, 'feature_weighting': 'BM25'}. Best is trial 0 with value: 0.023100230007077137.\n"
     ]
    },
    {
     "name": "stdout",
     "output_type": "stream",
     "text": [
      "UserKNNCFRecommender: URM Detected 484 ( 3.8%) users with no interactions.\n",
      "UserKNNCFRecommender: URM Detected 319 ( 1.4%) items with no interactions.\n",
      "Similarity column 12638 (100.0%), 10696.95 column/sec. Elapsed time 1.18 sec\n",
      "EvaluatorHoldout: Processed 10048 (100.0%) in 10.10 sec. Users per second: 995\n"
     ]
    },
    {
     "name": "stderr",
     "output_type": "stream",
     "text": [
      "[I 2023-11-22 00:51:22,371] Trial 77 finished with value: 0.02090491039834192 and parameters: {'topK': 6520, 'shrink': 29, 'similarity': 'jaccard', 'normalize': False, 'feature_weighting': 'BM25'}. Best is trial 0 with value: 0.023100230007077137.\n"
     ]
    },
    {
     "name": "stdout",
     "output_type": "stream",
     "text": [
      "UserKNNCFRecommender: URM Detected 484 ( 3.8%) users with no interactions.\n",
      "UserKNNCFRecommender: URM Detected 319 ( 1.4%) items with no interactions.\n",
      "Similarity column 12638 (100.0%), 10560.38 column/sec. Elapsed time 1.20 sec\n",
      "EvaluatorHoldout: Processed 10048 (100.0%) in 10.15 sec. Users per second: 990\n"
     ]
    },
    {
     "name": "stderr",
     "output_type": "stream",
     "text": [
      "[I 2023-11-22 00:51:34,340] Trial 78 finished with value: 0.020770310446365386 and parameters: {'topK': 7057, 'shrink': 14, 'similarity': 'jaccard', 'normalize': False, 'feature_weighting': 'BM25'}. Best is trial 0 with value: 0.023100230007077137.\n"
     ]
    },
    {
     "name": "stdout",
     "output_type": "stream",
     "text": [
      "UserKNNCFRecommender: URM Detected 484 ( 3.8%) users with no interactions.\n",
      "UserKNNCFRecommender: URM Detected 319 ( 1.4%) items with no interactions.\n",
      "Similarity column 12638 (100.0%), 10692.09 column/sec. Elapsed time 1.18 sec\n",
      "EvaluatorHoldout: Processed 10048 (100.0%) in 10.07 sec. Users per second: 998\n"
     ]
    },
    {
     "name": "stderr",
     "output_type": "stream",
     "text": [
      "[I 2023-11-22 00:51:46,182] Trial 79 finished with value: 0.01473713476898185 and parameters: {'topK': 7607, 'shrink': 31, 'similarity': 'jaccard', 'normalize': False, 'feature_weighting': 'none'}. Best is trial 0 with value: 0.023100230007077137.\n"
     ]
    },
    {
     "name": "stdout",
     "output_type": "stream",
     "text": [
      "UserKNNCFRecommender: URM Detected 484 ( 3.8%) users with no interactions.\n",
      "UserKNNCFRecommender: URM Detected 319 ( 1.4%) items with no interactions.\n",
      "Similarity column 12638 (100.0%), 10985.96 column/sec. Elapsed time 1.15 sec\n",
      "EvaluatorHoldout: Processed 10048 (100.0%) in 10.06 sec. Users per second: 999\n"
     ]
    },
    {
     "name": "stderr",
     "output_type": "stream",
     "text": [
      "[I 2023-11-22 00:51:57,971] Trial 80 finished with value: 0.014860566108078016 and parameters: {'topK': 5818, 'shrink': 40, 'similarity': 'jaccard', 'normalize': False, 'feature_weighting': 'TF-IDF'}. Best is trial 0 with value: 0.023100230007077137.\n"
     ]
    },
    {
     "name": "stdout",
     "output_type": "stream",
     "text": [
      "UserKNNCFRecommender: URM Detected 484 ( 3.8%) users with no interactions.\n",
      "UserKNNCFRecommender: URM Detected 319 ( 1.4%) items with no interactions.\n",
      "Similarity column 12638 (100.0%), 10938.00 column/sec. Elapsed time 1.16 sec\n",
      "EvaluatorHoldout: Processed 10048 (100.0%) in 9.86 sec. Users per second: 1019\n"
     ]
    },
    {
     "name": "stderr",
     "output_type": "stream",
     "text": [
      "[I 2023-11-22 00:52:09,546] Trial 81 finished with value: 0.013057273499898815 and parameters: {'topK': 6189, 'shrink': 25, 'similarity': 'asymmetric', 'normalize': False, 'feature_weighting': 'BM25'}. Best is trial 0 with value: 0.023100230007077137.\n"
     ]
    },
    {
     "name": "stdout",
     "output_type": "stream",
     "text": [
      "UserKNNCFRecommender: URM Detected 484 ( 3.8%) users with no interactions.\n",
      "UserKNNCFRecommender: URM Detected 319 ( 1.4%) items with no interactions.\n",
      "Similarity column 12638 (100.0%), 10156.67 column/sec. Elapsed time 1.24 sec\n",
      "EvaluatorHoldout: Processed 10048 (100.0%) in 9.91 sec. Users per second: 1014\n"
     ]
    },
    {
     "name": "stderr",
     "output_type": "stream",
     "text": [
      "[I 2023-11-22 00:52:21,274] Trial 82 finished with value: 0.020861353597967838 and parameters: {'topK': 5678, 'shrink': 16, 'similarity': 'tversky', 'normalize': False, 'feature_weighting': 'BM25'}. Best is trial 0 with value: 0.023100230007077137.\n"
     ]
    },
    {
     "name": "stdout",
     "output_type": "stream",
     "text": [
      "UserKNNCFRecommender: URM Detected 484 ( 3.8%) users with no interactions.\n",
      "UserKNNCFRecommender: URM Detected 319 ( 1.4%) items with no interactions.\n",
      "Similarity column 12638 (100.0%), 11080.21 column/sec. Elapsed time 1.14 sec\n",
      "EvaluatorHoldout: Processed 10048 (100.0%) in 9.69 sec. Users per second: 1037\n"
     ]
    },
    {
     "name": "stderr",
     "output_type": "stream",
     "text": [
      "[I 2023-11-22 00:52:32,630] Trial 83 finished with value: 0.013056937809624828 and parameters: {'topK': 4840, 'shrink': 48, 'similarity': 'cosine', 'normalize': False, 'feature_weighting': 'BM25'}. Best is trial 0 with value: 0.023100230007077137.\n"
     ]
    },
    {
     "name": "stdout",
     "output_type": "stream",
     "text": [
      "UserKNNCFRecommender: URM Detected 484 ( 3.8%) users with no interactions.\n",
      "UserKNNCFRecommender: URM Detected 319 ( 1.4%) items with no interactions.\n",
      "Similarity column 12638 (100.0%), 10057.82 column/sec. Elapsed time 1.26 sec\n",
      "EvaluatorHoldout: Processed 10048 (100.0%) in 9.93 sec. Users per second: 1012\n"
     ]
    },
    {
     "name": "stderr",
     "output_type": "stream",
     "text": [
      "[I 2023-11-22 00:52:44,398] Trial 84 finished with value: 0.020853032428470322 and parameters: {'topK': 6385, 'shrink': 19, 'similarity': 'tversky', 'normalize': False, 'feature_weighting': 'BM25'}. Best is trial 0 with value: 0.023100230007077137.\n"
     ]
    },
    {
     "name": "stdout",
     "output_type": "stream",
     "text": [
      "UserKNNCFRecommender: URM Detected 484 ( 3.8%) users with no interactions.\n",
      "UserKNNCFRecommender: URM Detected 319 ( 1.4%) items with no interactions.\n",
      "Similarity column 12638 (100.0%), 10180.13 column/sec. Elapsed time 1.24 sec\n",
      "EvaluatorHoldout: Processed 10048 (100.0%) in 9.70 sec. Users per second: 1036\n"
     ]
    },
    {
     "name": "stderr",
     "output_type": "stream",
     "text": [
      "[I 2023-11-22 00:52:55,880] Trial 85 finished with value: 0.02091363834546556 and parameters: {'topK': 4515, 'shrink': 35, 'similarity': 'tversky', 'normalize': False, 'feature_weighting': 'BM25'}. Best is trial 0 with value: 0.023100230007077137.\n"
     ]
    },
    {
     "name": "stdout",
     "output_type": "stream",
     "text": [
      "UserKNNCFRecommender: URM Detected 484 ( 3.8%) users with no interactions.\n",
      "UserKNNCFRecommender: URM Detected 319 ( 1.4%) items with no interactions.\n",
      "Similarity column 12638 (100.0%), 10779.25 column/sec. Elapsed time 1.17 sec\n",
      "EvaluatorHoldout: Processed 10048 (100.0%) in 7.72 sec. Users per second: 1301\n"
     ]
    },
    {
     "name": "stderr",
     "output_type": "stream",
     "text": [
      "[I 2023-11-22 00:53:05,057] Trial 86 finished with value: 0.01312530014659786 and parameters: {'topK': 1362, 'shrink': 31, 'similarity': 'asymmetric', 'normalize': False, 'feature_weighting': 'BM25'}. Best is trial 0 with value: 0.023100230007077137.\n"
     ]
    },
    {
     "name": "stdout",
     "output_type": "stream",
     "text": [
      "UserKNNCFRecommender: URM Detected 484 ( 3.8%) users with no interactions.\n",
      "UserKNNCFRecommender: URM Detected 319 ( 1.4%) items with no interactions.\n",
      "Similarity column 12638 (100.0%), 9982.62 column/sec. Elapsed time 1.27 sec\n",
      "EvaluatorHoldout: Processed 10048 (100.0%) in 9.99 sec. Users per second: 1006\n"
     ]
    },
    {
     "name": "stderr",
     "output_type": "stream",
     "text": [
      "[I 2023-11-22 00:53:16,903] Trial 87 finished with value: 0.02086805950485287 and parameters: {'topK': 6983, 'shrink': 35, 'similarity': 'tversky', 'normalize': False, 'feature_weighting': 'BM25'}. Best is trial 0 with value: 0.023100230007077137.\n"
     ]
    },
    {
     "name": "stdout",
     "output_type": "stream",
     "text": [
      "UserKNNCFRecommender: URM Detected 484 ( 3.8%) users with no interactions.\n",
      "UserKNNCFRecommender: URM Detected 319 ( 1.4%) items with no interactions.\n",
      "Similarity column 12638 (100.0%), 10522.90 column/sec. Elapsed time 1.20 sec\n",
      "EvaluatorHoldout: Processed 10048 (100.0%) in 9.97 sec. Users per second: 1008\n"
     ]
    },
    {
     "name": "stderr",
     "output_type": "stream",
     "text": [
      "[I 2023-11-22 00:53:28,691] Trial 88 finished with value: 0.020744553129107248 and parameters: {'topK': 7896, 'shrink': 40, 'similarity': 'jaccard', 'normalize': False, 'feature_weighting': 'BM25'}. Best is trial 0 with value: 0.023100230007077137.\n"
     ]
    },
    {
     "name": "stdout",
     "output_type": "stream",
     "text": [
      "UserKNNCFRecommender: URM Detected 484 ( 3.8%) users with no interactions.\n",
      "UserKNNCFRecommender: URM Detected 319 ( 1.4%) items with no interactions.\n",
      "Similarity column 12638 (100.0%), 10086.36 column/sec. Elapsed time 1.25 sec\n",
      "EvaluatorHoldout: Processed 10048 (100.0%) in 6.59 sec. Users per second: 1524\n"
     ]
    },
    {
     "name": "stderr",
     "output_type": "stream",
     "text": [
      "[I 2023-11-22 00:53:36,731] Trial 89 finished with value: 0.021159134566777885 and parameters: {'topK': 644, 'shrink': 38, 'similarity': 'tversky', 'normalize': False, 'feature_weighting': 'TF-IDF'}. Best is trial 0 with value: 0.023100230007077137.\n"
     ]
    },
    {
     "name": "stdout",
     "output_type": "stream",
     "text": [
      "UserKNNCFRecommender: URM Detected 484 ( 3.8%) users with no interactions.\n",
      "UserKNNCFRecommender: URM Detected 319 ( 1.4%) items with no interactions.\n",
      "Similarity column 12638 (100.0%), 9753.02 column/sec. Elapsed time 1.30 sec\n",
      "EvaluatorHoldout: Processed 10048 (100.0%) in 7.04 sec. Users per second: 1427\n"
     ]
    },
    {
     "name": "stderr",
     "output_type": "stream",
     "text": [
      "[I 2023-11-22 00:53:45,320] Trial 90 finished with value: 0.020570764299615806 and parameters: {'topK': 875, 'shrink': 38, 'similarity': 'tversky', 'normalize': False, 'feature_weighting': 'TF-IDF'}. Best is trial 0 with value: 0.023100230007077137.\n"
     ]
    },
    {
     "name": "stdout",
     "output_type": "stream",
     "text": [
      "UserKNNCFRecommender: URM Detected 484 ( 3.8%) users with no interactions.\n",
      "UserKNNCFRecommender: URM Detected 319 ( 1.4%) items with no interactions.\n",
      "Similarity column 12638 (100.0%), 9669.13 column/sec. Elapsed time 1.31 sec\n",
      "EvaluatorHoldout: Processed 10048 (100.0%) in 7.81 sec. Users per second: 1286\n"
     ]
    },
    {
     "name": "stderr",
     "output_type": "stream",
     "text": [
      "[I 2023-11-22 00:53:54,777] Trial 91 finished with value: 0.019095903156910333 and parameters: {'topK': 1399, 'shrink': 43, 'similarity': 'tversky', 'normalize': False, 'feature_weighting': 'TF-IDF'}. Best is trial 0 with value: 0.023100230007077137.\n"
     ]
    },
    {
     "name": "stdout",
     "output_type": "stream",
     "text": [
      "UserKNNCFRecommender: URM Detected 484 ( 3.8%) users with no interactions.\n",
      "UserKNNCFRecommender: URM Detected 319 ( 1.4%) items with no interactions.\n",
      "Similarity column 12638 (100.0%), 9700.22 column/sec. Elapsed time 1.30 sec\n",
      "EvaluatorHoldout: Processed 10048 (100.0%) in 7.44 sec. Users per second: 1351\n"
     ]
    },
    {
     "name": "stderr",
     "output_type": "stream",
     "text": [
      "[I 2023-11-22 00:54:03,800] Trial 92 finished with value: 0.01983745087074113 and parameters: {'topK': 1128, 'shrink': 24, 'similarity': 'tversky', 'normalize': False, 'feature_weighting': 'TF-IDF'}. Best is trial 0 with value: 0.023100230007077137.\n"
     ]
    },
    {
     "name": "stdout",
     "output_type": "stream",
     "text": [
      "UserKNNCFRecommender: URM Detected 484 ( 3.8%) users with no interactions.\n",
      "UserKNNCFRecommender: URM Detected 319 ( 1.4%) items with no interactions.\n",
      "Similarity column 12638 (100.0%), 10127.45 column/sec. Elapsed time 1.25 sec\n",
      "EvaluatorHoldout: Processed 10048 (100.0%) in 6.15 sec. Users per second: 1633\n"
     ]
    },
    {
     "name": "stderr",
     "output_type": "stream",
     "text": [
      "[I 2023-11-22 00:54:11,370] Trial 93 finished with value: 0.02175116188327771 and parameters: {'topK': 440, 'shrink': 29, 'similarity': 'tversky', 'normalize': False, 'feature_weighting': 'TF-IDF'}. Best is trial 0 with value: 0.023100230007077137.\n"
     ]
    },
    {
     "name": "stdout",
     "output_type": "stream",
     "text": [
      "UserKNNCFRecommender: URM Detected 484 ( 3.8%) users with no interactions.\n",
      "UserKNNCFRecommender: URM Detected 319 ( 1.4%) items with no interactions.\n",
      "Similarity column 12638 (100.0%), 9893.92 column/sec. Elapsed time 1.28 sec\n",
      "EvaluatorHoldout: Processed 10048 (100.0%) in 6.72 sec. Users per second: 1495\n"
     ]
    },
    {
     "name": "stderr",
     "output_type": "stream",
     "text": [
      "[I 2023-11-22 00:54:19,580] Trial 94 finished with value: 0.020954904553381865 and parameters: {'topK': 719, 'shrink': 30, 'similarity': 'tversky', 'normalize': False, 'feature_weighting': 'TF-IDF'}. Best is trial 0 with value: 0.023100230007077137.\n"
     ]
    },
    {
     "name": "stdout",
     "output_type": "stream",
     "text": [
      "UserKNNCFRecommender: URM Detected 484 ( 3.8%) users with no interactions.\n",
      "UserKNNCFRecommender: URM Detected 319 ( 1.4%) items with no interactions.\n",
      "Similarity column 12638 (100.0%), 10101.23 column/sec. Elapsed time 1.25 sec\n",
      "EvaluatorHoldout: Processed 10048 (100.0%) in 6.21 sec. Users per second: 1617\n"
     ]
    },
    {
     "name": "stderr",
     "output_type": "stream",
     "text": [
      "[I 2023-11-22 00:54:27,204] Trial 95 finished with value: 0.021723761658325697 and parameters: {'topK': 458, 'shrink': 29, 'similarity': 'tversky', 'normalize': False, 'feature_weighting': 'TF-IDF'}. Best is trial 0 with value: 0.023100230007077137.\n"
     ]
    },
    {
     "name": "stdout",
     "output_type": "stream",
     "text": [
      "UserKNNCFRecommender: URM Detected 484 ( 3.8%) users with no interactions.\n",
      "UserKNNCFRecommender: URM Detected 319 ( 1.4%) items with no interactions.\n",
      "Similarity column 12638 (100.0%), 10128.49 column/sec. Elapsed time 1.25 sec\n",
      "EvaluatorHoldout: Processed 10048 (100.0%) in 6.06 sec. Users per second: 1658\n"
     ]
    },
    {
     "name": "stderr",
     "output_type": "stream",
     "text": [
      "[I 2023-11-22 00:54:34,669] Trial 96 finished with value: 0.02197101531695484 and parameters: {'topK': 406, 'shrink': 20, 'similarity': 'tversky', 'normalize': False, 'feature_weighting': 'TF-IDF'}. Best is trial 0 with value: 0.023100230007077137.\n"
     ]
    },
    {
     "name": "stdout",
     "output_type": "stream",
     "text": [
      "UserKNNCFRecommender: URM Detected 484 ( 3.8%) users with no interactions.\n",
      "UserKNNCFRecommender: URM Detected 319 ( 1.4%) items with no interactions.\n",
      "Similarity column 12638 (100.0%), 10021.58 column/sec. Elapsed time 1.26 sec\n",
      "EvaluatorHoldout: Processed 10048 (100.0%) in 5.98 sec. Users per second: 1680\n"
     ]
    },
    {
     "name": "stderr",
     "output_type": "stream",
     "text": [
      "[I 2023-11-22 00:54:42,093] Trial 97 finished with value: 0.02193426315589934 and parameters: {'topK': 380, 'shrink': 17, 'similarity': 'tversky', 'normalize': False, 'feature_weighting': 'TF-IDF'}. Best is trial 0 with value: 0.023100230007077137.\n"
     ]
    },
    {
     "name": "stdout",
     "output_type": "stream",
     "text": [
      "UserKNNCFRecommender: URM Detected 484 ( 3.8%) users with no interactions.\n",
      "UserKNNCFRecommender: URM Detected 319 ( 1.4%) items with no interactions.\n",
      "Similarity column 12638 (100.0%), 10090.90 column/sec. Elapsed time 1.25 sec\n",
      "EvaluatorHoldout: Processed 10048 (100.0%) in 6.10 sec. Users per second: 1646\n"
     ]
    },
    {
     "name": "stderr",
     "output_type": "stream",
     "text": [
      "[I 2023-11-22 00:54:49,609] Trial 98 finished with value: 0.021875699025629355 and parameters: {'topK': 431, 'shrink': 20, 'similarity': 'tversky', 'normalize': False, 'feature_weighting': 'TF-IDF'}. Best is trial 0 with value: 0.023100230007077137.\n"
     ]
    },
    {
     "name": "stdout",
     "output_type": "stream",
     "text": [
      "UserKNNCFRecommender: URM Detected 484 ( 3.8%) users with no interactions.\n",
      "UserKNNCFRecommender: URM Detected 319 ( 1.4%) items with no interactions.\n",
      "Similarity column 12638 (100.0%), 10098.55 column/sec. Elapsed time 1.25 sec\n",
      "EvaluatorHoldout: Processed 10048 (100.0%) in 6.10 sec. Users per second: 1646\n"
     ]
    },
    {
     "name": "stderr",
     "output_type": "stream",
     "text": [
      "[I 2023-11-22 00:54:57,125] Trial 99 finished with value: 0.021965715359923168 and parameters: {'topK': 425, 'shrink': 12, 'similarity': 'tversky', 'normalize': False, 'feature_weighting': 'TF-IDF'}. Best is trial 0 with value: 0.023100230007077137.\n"
     ]
    }
   ],
   "source": [
    "best_params = {\n",
    "    'topK': 529,\n",
    "    'shrink': 45,\n",
    "    'similarity': 'asymmetric',\n",
    "    'normalize': True,\n",
    "    'feature_weighting': 'TF-IDF'\n",
    "}\n",
    "study = op.create_study(direction=\"maximize\")\n",
    "study.enqueue_trial(best_params)\n",
    "study.optimize(objective, n_trials=100)"
   ],
   "metadata": {
    "collapsed": false,
    "ExecuteTime": {
     "end_time": "2023-11-21T23:54:57.164420342Z",
     "start_time": "2023-11-21T23:36:28.406924087Z"
    }
   },
   "id": "c5b8a36d4aed08fc"
  },
  {
   "cell_type": "code",
   "execution_count": 5,
   "outputs": [
    {
     "data": {
      "text/plain": "{'topK': 529,\n 'shrink': 45,\n 'similarity': 'asymmetric',\n 'normalize': True,\n 'feature_weighting': 'TF-IDF'}"
     },
     "execution_count": 5,
     "metadata": {},
     "output_type": "execute_result"
    }
   ],
   "source": [
    "study.best_params"
   ],
   "metadata": {
    "collapsed": false,
    "ExecuteTime": {
     "end_time": "2023-11-21T22:15:57.569712822Z",
     "start_time": "2023-11-21T22:15:57.524923806Z"
    }
   },
   "id": "f18968c2188a349a"
  },
  {
   "cell_type": "code",
   "execution_count": 7,
   "outputs": [
    {
     "name": "stdout",
     "output_type": "stream",
     "text": [
      "SLIMElasticNetRecommender: URM Detected 232 ( 1.8%) users with no interactions.\n",
      "SLIMElasticNetRecommender: URM Detected 103 ( 0.5%) items with no interactions.\n",
      "SLIMElasticNetRecommender: Processed 17389 (78.3%) in 5.00 min. Items per second: 57.96\n",
      "SLIMElasticNetRecommender: Processed 22222 (100.0%) in 6.45 min. Items per second: 57.42\n"
     ]
    }
   ],
   "source": [
    "final = model(URM_train_validation)\n",
    "final.fit(**study.best_params)"
   ],
   "metadata": {
    "collapsed": false,
    "ExecuteTime": {
     "end_time": "2023-11-21T17:01:23.976153916Z",
     "start_time": "2023-11-21T16:54:56.887169177Z"
    }
   },
   "id": "7ae12a0ef4bc0baa"
  },
  {
   "cell_type": "code",
   "execution_count": 8,
   "outputs": [
    {
     "name": "stdout",
     "output_type": "stream",
     "text": [
      "EvaluatorHoldout: Ignoring 2176 (17.2%) Users that have less than 1 test interactions\n",
      "EvaluatorHoldout: Ignoring 0 Users\n",
      "EvaluatorHoldout: Processed 10462 (100.0%) in 6.56 sec. Users per second: 1596\n"
     ]
    },
    {
     "data": {
      "text/plain": "(       PRECISION PRECISION_RECALL_MIN_DEN    RECALL       MAP MAP_MIN_DEN  \\\n cutoff                                                                      \n 10      0.096683                 0.167108  0.140668  0.049947    0.086206   \n \n             MRR      NDCG      F1  HIT_RATE ARHR_ALL_HITS  ... COVERAGE_USER  \\\n cutoff                                                     ...                 \n 10      0.27832  0.154074  0.1146  0.527337      0.368245  ...      0.827821   \n \n        COVERAGE_USER_HIT USERS_IN_GT DIVERSITY_GINI SHANNON_ENTROPY  \\\n cutoff                                                                \n 10              0.436541    0.827821       0.054661        10.16803   \n \n        RATIO_DIVERSITY_HERFINDAHL RATIO_DIVERSITY_GINI RATIO_SHANNON_ENTROPY  \\\n cutoff                                                                         \n 10                       0.997643             0.156901              0.783344   \n \n        RATIO_AVERAGE_POPULARITY RATIO_NOVELTY  \n cutoff                                         \n 10                     1.867518      0.284298  \n \n [1 rows x 27 columns],\n 'CUTOFF: 10 - PRECISION: 0.0966832, PRECISION_RECALL_MIN_DEN: 0.1671084, RECALL: 0.1406677, MAP: 0.0499469, MAP_MIN_DEN: 0.0862062, MRR: 0.2783201, NDCG: 0.1540742, F1: 0.1146000, HIT_RATE: 0.5273370, ARHR_ALL_HITS: 0.3682449, NOVELTY: 0.0050324, AVERAGE_POPULARITY: 0.2274640, DIVERSITY_MEAN_INTER_LIST: 0.9729123, DIVERSITY_HERFINDAHL: 0.9972819, COVERAGE_ITEM: 0.2935379, COVERAGE_ITEM_HIT: 0.0908559, ITEMS_IN_GT: 0.8044280, COVERAGE_USER: 0.8278209, COVERAGE_USER_HIT: 0.4365406, USERS_IN_GT: 0.8278209, DIVERSITY_GINI: 0.0546607, SHANNON_ENTROPY: 10.1680295, RATIO_DIVERSITY_HERFINDAHL: 0.9976433, RATIO_DIVERSITY_GINI: 0.1569015, RATIO_SHANNON_ENTROPY: 0.7833442, RATIO_AVERAGE_POPULARITY: 1.8675180, RATIO_NOVELTY: 0.2842978, \\n')"
     },
     "execution_count": 8,
     "metadata": {},
     "output_type": "execute_result"
    }
   ],
   "source": [
    "from Evaluation.Evaluator import EvaluatorHoldout\n",
    "evaluator_test = EvaluatorHoldout(URM_test, cutoff_list=[10], ignore_users=[])\n",
    "evaluator_test.evaluateRecommender(final)"
   ],
   "metadata": {
    "collapsed": false,
    "ExecuteTime": {
     "end_time": "2023-11-21T17:01:30.534196406Z",
     "start_time": "2023-11-21T17:01:23.971974392Z"
    }
   },
   "id": "1a0a3570fbcb348b"
  },
  {
   "cell_type": "code",
   "execution_count": null,
   "outputs": [],
   "source": [],
   "metadata": {
    "collapsed": false
   },
   "id": "3cdf5d82e17bdf89"
  }
 ],
 "metadata": {
  "kernelspec": {
   "display_name": "Python 3",
   "language": "python",
   "name": "python3"
  },
  "language_info": {
   "codemirror_mode": {
    "name": "ipython",
    "version": 2
   },
   "file_extension": ".py",
   "mimetype": "text/x-python",
   "name": "python",
   "nbconvert_exporter": "python",
   "pygments_lexer": "ipython2",
   "version": "2.7.6"
  }
 },
 "nbformat": 4,
 "nbformat_minor": 5
}
