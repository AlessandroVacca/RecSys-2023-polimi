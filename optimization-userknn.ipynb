{
 "cells": [
  {
   "cell_type": "code",
   "execution_count": 1,
   "id": "initial_id",
   "metadata": {
    "collapsed": true,
    "ExecuteTime": {
     "end_time": "2023-11-27T13:28:25.006901362Z",
     "start_time": "2023-11-27T13:28:21.902697402Z"
    }
   },
   "outputs": [
    {
     "name": "stdout",
     "output_type": "stream",
     "text": [
      "Warning: 226 (1.79 %) of 12638 users have no train items\n",
      "Warning: 2180 (17.25 %) of 12638 users have no sampled items\n",
      "Warning: 468 (3.70 %) of 12638 users have no train items\n",
      "Warning: 2595 (20.53 %) of 12638 users have no sampled items\n"
     ]
    }
   ],
   "source": [
    "from Data_manager.UserUtils import *\n",
    "from Data_manager.split_functions.split_train_validation_random_holdout import \\\n",
    "    split_train_in_two_percentage_global_sample\n",
    "URM_all = getURM_all()\n",
    "URM_train_validation, URM_test = split_train_in_two_percentage_global_sample(URM_all, train_percentage = 0.80)\n",
    "URM_train, URM_validation = split_train_in_two_percentage_global_sample(URM_train_validation, train_percentage = 0.80)"
   ]
  },
  {
   "cell_type": "code",
   "execution_count": 2,
   "outputs": [
    {
     "name": "stdout",
     "output_type": "stream",
     "text": [
      "EvaluatorHoldout: Ignoring 2595 (20.5%) Users that have less than 1 test interactions\n",
      "EvaluatorHoldout: Ignoring 0 Users\n"
     ]
    }
   ],
   "source": [
    "from Recommenders.KNN.UserKNNCFRecommender import UserKNNCFRecommender\n",
    "model = UserKNNCFRecommender\n",
    "\n",
    "from Evaluation.Evaluator import EvaluatorHoldout\n",
    "evaluator_validation = EvaluatorHoldout(URM_validation, cutoff_list=[10], ignore_users=[])"
   ],
   "metadata": {
    "collapsed": false,
    "ExecuteTime": {
     "end_time": "2023-11-27T13:28:25.016959569Z",
     "start_time": "2023-11-27T13:28:25.004254892Z"
    }
   },
   "id": "8a9fec0ccc4f11c5"
  },
  {
   "cell_type": "code",
   "execution_count": 3,
   "outputs": [],
   "source": [
    "import optuna as op\n",
    "def objective(trial):\n",
    "    topK = trial.suggest_int(\"topK\", 1e2, 1e4)\n",
    "    shrink = trial.suggest_int(\"shrink\", 0, 100)\n",
    "    similarity = trial.suggest_categorical(\"similarity\", [\"cosine\", \"jaccard\", \"asymmetric\", \"dice\", \"tversky\"])\n",
    "    normalize = trial.suggest_categorical(\"normalize\", [True, False])\n",
    "    feature_weighting = trial.suggest_categorical(\"feature_weighting\", [\"none\", \"BM25\", \"TF-IDF\"])\n",
    "    recommender = model(URM_train)\n",
    "    if feature_weighting == \"tversky\": \n",
    "        tversky_alpha = trial.suggest_float(\"tversky_alpha\", 0, 2)\n",
    "        tversky_beta = trial.suggest_float(\"tversky_beta\", 0, 2)\n",
    "        normalize = True\n",
    "        tversky_params = [tversky_alpha, tversky_beta, normalize]\n",
    "        recommender.fit(**trial.params, **tversky_params)\n",
    "\n",
    "    else :\n",
    "        recommender.fit(**trial.params)\n",
    "    \n",
    "    result, _ = evaluator_validation.evaluateRecommender(recommender)\n",
    "    MAP_result = result[\"MAP\"].item()\n",
    "       \n",
    "    return MAP_result"
   ],
   "metadata": {
    "collapsed": false,
    "ExecuteTime": {
     "end_time": "2023-11-27T13:28:25.226873228Z",
     "start_time": "2023-11-27T13:28:25.021868781Z"
    }
   },
   "id": "b826576f6714c764"
  },
  {
   "cell_type": "code",
   "execution_count": 4,
   "outputs": [
    {
     "name": "stderr",
     "output_type": "stream",
     "text": [
      "[I 2023-11-27 14:28:25,229] A new study created in memory with name: no-name-1af6196b-9225-4bd2-b7f3-6de87c86a567\n"
     ]
    },
    {
     "name": "stdout",
     "output_type": "stream",
     "text": [
      "UserKNNCFRecommender: URM Detected 468 ( 3.7%) users with no interactions.\n",
      "UserKNNCFRecommender: URM Detected 305 ( 1.4%) items with no interactions.\n",
      "Similarity column 12638 (100.0%), 9455.52 column/sec. Elapsed time 1.34 sec\n",
      "EvaluatorHoldout: Processed 10043 (100.0%) in 6.84 sec. Users per second: 1469\n"
     ]
    },
    {
     "name": "stderr",
     "output_type": "stream",
     "text": [
      "[I 2023-11-27 14:28:33,549] Trial 0 finished with value: 0.023874364044134025 and parameters: {'topK': 529, 'shrink': 45, 'similarity': 'asymmetric', 'normalize': True, 'feature_weighting': 'TF-IDF'}. Best is trial 0 with value: 0.023874364044134025.\n"
     ]
    },
    {
     "name": "stdout",
     "output_type": "stream",
     "text": [
      "UserKNNCFRecommender: URM Detected 468 ( 3.7%) users with no interactions.\n",
      "UserKNNCFRecommender: URM Detected 305 ( 1.4%) items with no interactions.\n",
      "Similarity column 12638 (100.0%), 9764.93 column/sec. Elapsed time 1.29 sec\n",
      "EvaluatorHoldout: Processed 10043 (100.0%) in 7.01 sec. Users per second: 1433\n"
     ]
    },
    {
     "name": "stderr",
     "output_type": "stream",
     "text": [
      "[I 2023-11-27 14:28:42,099] Trial 1 finished with value: 0.017758270389705223 and parameters: {'topK': 920, 'shrink': 21, 'similarity': 'jaccard', 'normalize': True, 'feature_weighting': 'BM25'}. Best is trial 0 with value: 0.023874364044134025.\n"
     ]
    },
    {
     "name": "stdout",
     "output_type": "stream",
     "text": [
      "UserKNNCFRecommender: URM Detected 468 ( 3.7%) users with no interactions.\n",
      "UserKNNCFRecommender: URM Detected 305 ( 1.4%) items with no interactions.\n",
      "Similarity column 12638 (100.0%), 10380.80 column/sec. Elapsed time 1.22 sec\n",
      "EvaluatorHoldout: Processed 10043 (100.0%) in 9.86 sec. Users per second: 1019\n"
     ]
    },
    {
     "name": "stderr",
     "output_type": "stream",
     "text": [
      "[I 2023-11-27 14:28:53,981] Trial 2 finished with value: 0.014773794113881692 and parameters: {'topK': 6901, 'shrink': 29, 'similarity': 'cosine', 'normalize': False, 'feature_weighting': 'none'}. Best is trial 0 with value: 0.023874364044134025.\n"
     ]
    },
    {
     "name": "stdout",
     "output_type": "stream",
     "text": [
      "UserKNNCFRecommender: URM Detected 468 ( 3.7%) users with no interactions.\n",
      "UserKNNCFRecommender: URM Detected 305 ( 1.4%) items with no interactions.\n",
      "Similarity column 12638 (100.0%), 9808.08 column/sec. Elapsed time 1.29 sec\n",
      "EvaluatorHoldout: Processed 10043 (100.0%) in 7.78 sec. Users per second: 1290\n"
     ]
    },
    {
     "name": "stderr",
     "output_type": "stream",
     "text": [
      "[I 2023-11-27 14:29:03,368] Trial 3 finished with value: 0.019053356282271942 and parameters: {'topK': 1580, 'shrink': 39, 'similarity': 'jaccard', 'normalize': True, 'feature_weighting': 'TF-IDF'}. Best is trial 0 with value: 0.023874364044134025.\n"
     ]
    },
    {
     "name": "stdout",
     "output_type": "stream",
     "text": [
      "UserKNNCFRecommender: URM Detected 468 ( 3.7%) users with no interactions.\n",
      "UserKNNCFRecommender: URM Detected 305 ( 1.4%) items with no interactions.\n",
      "Similarity column 12638 (100.0%), 9984.76 column/sec. Elapsed time 1.27 sec\n",
      "EvaluatorHoldout: Processed 10043 (100.0%) in 9.73 sec. Users per second: 1032\n"
     ]
    },
    {
     "name": "stderr",
     "output_type": "stream",
     "text": [
      "[I 2023-11-27 14:29:14,991] Trial 4 finished with value: 0.015543709667477413 and parameters: {'topK': 7045, 'shrink': 55, 'similarity': 'cosine', 'normalize': True, 'feature_weighting': 'TF-IDF'}. Best is trial 0 with value: 0.023874364044134025.\n"
     ]
    },
    {
     "name": "stdout",
     "output_type": "stream",
     "text": [
      "UserKNNCFRecommender: URM Detected 468 ( 3.7%) users with no interactions.\n",
      "UserKNNCFRecommender: URM Detected 305 ( 1.4%) items with no interactions.\n",
      "Similarity column 12638 (100.0%), 9351.98 column/sec. Elapsed time 1.35 sec\n",
      "EvaluatorHoldout: Processed 10043 (100.0%) in 9.72 sec. Users per second: 1033\n"
     ]
    },
    {
     "name": "stderr",
     "output_type": "stream",
     "text": [
      "[I 2023-11-27 14:29:26,731] Trial 5 finished with value: 0.015338101718167388 and parameters: {'topK': 8998, 'shrink': 14, 'similarity': 'cosine', 'normalize': True, 'feature_weighting': 'none'}. Best is trial 0 with value: 0.023874364044134025.\n"
     ]
    },
    {
     "name": "stdout",
     "output_type": "stream",
     "text": [
      "UserKNNCFRecommender: URM Detected 468 ( 3.7%) users with no interactions.\n",
      "UserKNNCFRecommender: URM Detected 305 ( 1.4%) items with no interactions.\n",
      "Similarity column 12638 (100.0%), 9588.44 column/sec. Elapsed time 1.32 sec\n",
      "EvaluatorHoldout: Processed 10043 (100.0%) in 8.18 sec. Users per second: 1228\n"
     ]
    },
    {
     "name": "stderr",
     "output_type": "stream",
     "text": [
      "[I 2023-11-27 14:29:36,566] Trial 6 finished with value: 0.018244584003072516 and parameters: {'topK': 1958, 'shrink': 79, 'similarity': 'tversky', 'normalize': True, 'feature_weighting': 'none'}. Best is trial 0 with value: 0.023874364044134025.\n"
     ]
    },
    {
     "name": "stdout",
     "output_type": "stream",
     "text": [
      "UserKNNCFRecommender: URM Detected 468 ( 3.7%) users with no interactions.\n",
      "UserKNNCFRecommender: URM Detected 305 ( 1.4%) items with no interactions.\n",
      "Similarity column 12638 (100.0%), 9357.35 column/sec. Elapsed time 1.35 sec\n",
      "EvaluatorHoldout: Processed 10043 (100.0%) in 10.75 sec. Users per second: 934\n"
     ]
    },
    {
     "name": "stderr",
     "output_type": "stream",
     "text": [
      "[I 2023-11-27 14:29:49,350] Trial 7 finished with value: 0.015270171595472762 and parameters: {'topK': 9704, 'shrink': 20, 'similarity': 'cosine', 'normalize': False, 'feature_weighting': 'TF-IDF'}. Best is trial 0 with value: 0.023874364044134025.\n"
     ]
    },
    {
     "name": "stdout",
     "output_type": "stream",
     "text": [
      "UserKNNCFRecommender: URM Detected 468 ( 3.7%) users with no interactions.\n",
      "UserKNNCFRecommender: URM Detected 305 ( 1.4%) items with no interactions.\n",
      "Similarity column 12638 (100.0%), 8501.71 column/sec. Elapsed time 1.49 sec\n",
      "EvaluatorHoldout: Processed 10043 (100.0%) in 10.19 sec. Users per second: 985\n"
     ]
    },
    {
     "name": "stderr",
     "output_type": "stream",
     "text": [
      "[I 2023-11-27 14:30:01,417] Trial 8 finished with value: 0.018581203997414333 and parameters: {'topK': 1802, 'shrink': 85, 'similarity': 'cosine', 'normalize': False, 'feature_weighting': 'TF-IDF'}. Best is trial 0 with value: 0.023874364044134025.\n"
     ]
    },
    {
     "name": "stdout",
     "output_type": "stream",
     "text": [
      "UserKNNCFRecommender: URM Detected 468 ( 3.7%) users with no interactions.\n",
      "UserKNNCFRecommender: URM Detected 305 ( 1.4%) items with no interactions.\n",
      "Similarity column 12638 (100.0%), 9392.20 column/sec. Elapsed time 1.35 sec\n",
      "EvaluatorHoldout: Processed 10043 (100.0%) in 10.36 sec. Users per second: 970\n"
     ]
    },
    {
     "name": "stderr",
     "output_type": "stream",
     "text": [
      "[I 2023-11-27 14:30:13,485] Trial 9 finished with value: 0.018901971522453494 and parameters: {'topK': 1641, 'shrink': 96, 'similarity': 'dice', 'normalize': True, 'feature_weighting': 'TF-IDF'}. Best is trial 0 with value: 0.023874364044134025.\n"
     ]
    },
    {
     "name": "stdout",
     "output_type": "stream",
     "text": [
      "UserKNNCFRecommender: URM Detected 468 ( 3.7%) users with no interactions.\n",
      "UserKNNCFRecommender: URM Detected 305 ( 1.4%) items with no interactions.\n",
      "Similarity column 12638 (100.0%), 9839.45 column/sec. Elapsed time 1.28 sec\n",
      "EvaluatorHoldout: Processed 10043 (100.0%) in 10.24 sec. Users per second: 981\n"
     ]
    },
    {
     "name": "stderr",
     "output_type": "stream",
     "text": [
      "[I 2023-11-27 14:30:25,555] Trial 10 finished with value: 0.013019492373271064 and parameters: {'topK': 4100, 'shrink': 60, 'similarity': 'asymmetric', 'normalize': False, 'feature_weighting': 'BM25'}. Best is trial 0 with value: 0.023874364044134025.\n"
     ]
    },
    {
     "name": "stdout",
     "output_type": "stream",
     "text": [
      "UserKNNCFRecommender: URM Detected 468 ( 3.7%) users with no interactions.\n",
      "UserKNNCFRecommender: URM Detected 305 ( 1.4%) items with no interactions.\n",
      "Similarity column 12638 (100.0%), 10488.11 column/sec. Elapsed time 1.20 sec\n",
      "EvaluatorHoldout: Processed 10043 (100.0%) in 9.36 sec. Users per second: 1073\n"
     ]
    },
    {
     "name": "stderr",
     "output_type": "stream",
     "text": [
      "[I 2023-11-27 14:30:36,698] Trial 11 finished with value: 0.015978190605791885 and parameters: {'topK': 3875, 'shrink': 39, 'similarity': 'jaccard', 'normalize': True, 'feature_weighting': 'TF-IDF'}. Best is trial 0 with value: 0.023874364044134025.\n"
     ]
    },
    {
     "name": "stdout",
     "output_type": "stream",
     "text": [
      "UserKNNCFRecommender: URM Detected 468 ( 3.7%) users with no interactions.\n",
      "UserKNNCFRecommender: URM Detected 305 ( 1.4%) items with no interactions.\n",
      "Similarity column 12638 (100.0%), 10023.11 column/sec. Elapsed time 1.26 sec\n",
      "EvaluatorHoldout: Processed 10043 (100.0%) in 5.37 sec. Users per second: 1871\n"
     ]
    },
    {
     "name": "stderr",
     "output_type": "stream",
     "text": [
      "[I 2023-11-27 14:30:43,422] Trial 12 finished with value: 0.022003397296387454 and parameters: {'topK': 201, 'shrink': 42, 'similarity': 'asymmetric', 'normalize': True, 'feature_weighting': 'TF-IDF'}. Best is trial 0 with value: 0.023874364044134025.\n"
     ]
    },
    {
     "name": "stdout",
     "output_type": "stream",
     "text": [
      "UserKNNCFRecommender: URM Detected 468 ( 3.7%) users with no interactions.\n",
      "UserKNNCFRecommender: URM Detected 305 ( 1.4%) items with no interactions.\n",
      "Similarity column 12638 (100.0%), 9721.88 column/sec. Elapsed time 1.30 sec\n",
      "EvaluatorHoldout: Processed 10043 (100.0%) in 6.11 sec. Users per second: 1644\n"
     ]
    },
    {
     "name": "stderr",
     "output_type": "stream",
     "text": [
      "[I 2023-11-27 14:30:50,954] Trial 13 finished with value: 0.023597088076825194 and parameters: {'topK': 328, 'shrink': 66, 'similarity': 'asymmetric', 'normalize': True, 'feature_weighting': 'TF-IDF'}. Best is trial 0 with value: 0.023874364044134025.\n"
     ]
    },
    {
     "name": "stdout",
     "output_type": "stream",
     "text": [
      "UserKNNCFRecommender: URM Detected 468 ( 3.7%) users with no interactions.\n",
      "UserKNNCFRecommender: URM Detected 305 ( 1.4%) items with no interactions.\n",
      "Similarity column 12638 (100.0%), 8651.02 column/sec. Elapsed time 1.46 sec\n",
      "EvaluatorHoldout: Processed 10043 (100.0%) in 9.60 sec. Users per second: 1046\n"
     ]
    },
    {
     "name": "stderr",
     "output_type": "stream",
     "text": [
      "[I 2023-11-27 14:31:02,471] Trial 14 finished with value: 0.016534014847267818 and parameters: {'topK': 3299, 'shrink': 70, 'similarity': 'asymmetric', 'normalize': True, 'feature_weighting': 'TF-IDF'}. Best is trial 0 with value: 0.023874364044134025.\n"
     ]
    },
    {
     "name": "stdout",
     "output_type": "stream",
     "text": [
      "UserKNNCFRecommender: URM Detected 468 ( 3.7%) users with no interactions.\n",
      "UserKNNCFRecommender: URM Detected 305 ( 1.4%) items with no interactions.\n",
      "Similarity column 12638 (100.0%), 9977.39 column/sec. Elapsed time 1.27 sec\n",
      "EvaluatorHoldout: Processed 10043 (100.0%) in 6.03 sec. Users per second: 1666\n"
     ]
    },
    {
     "name": "stderr",
     "output_type": "stream",
     "text": [
      "[I 2023-11-27 14:31:09,894] Trial 15 finished with value: 0.012915285700061072 and parameters: {'topK': 371, 'shrink': 67, 'similarity': 'asymmetric', 'normalize': True, 'feature_weighting': 'BM25'}. Best is trial 0 with value: 0.023874364044134025.\n"
     ]
    },
    {
     "name": "stdout",
     "output_type": "stream",
     "text": [
      "UserKNNCFRecommender: URM Detected 468 ( 3.7%) users with no interactions.\n",
      "UserKNNCFRecommender: URM Detected 305 ( 1.4%) items with no interactions.\n",
      "Similarity column 12638 (100.0%), 9707.12 column/sec. Elapsed time 1.30 sec\n",
      "EvaluatorHoldout: Processed 10043 (100.0%) in 9.83 sec. Users per second: 1022\n"
     ]
    },
    {
     "name": "stderr",
     "output_type": "stream",
     "text": [
      "[I 2023-11-27 14:31:21,596] Trial 16 finished with value: 0.015531093283009993 and parameters: {'topK': 5751, 'shrink': 49, 'similarity': 'asymmetric', 'normalize': True, 'feature_weighting': 'TF-IDF'}. Best is trial 0 with value: 0.023874364044134025.\n"
     ]
    },
    {
     "name": "stdout",
     "output_type": "stream",
     "text": [
      "UserKNNCFRecommender: URM Detected 468 ( 3.7%) users with no interactions.\n",
      "UserKNNCFRecommender: URM Detected 305 ( 1.4%) items with no interactions.\n",
      "Similarity column 12638 (100.0%), 9164.05 column/sec. Elapsed time 1.38 sec\n",
      "EvaluatorHoldout: Processed 10043 (100.0%) in 8.80 sec. Users per second: 1141\n"
     ]
    },
    {
     "name": "stderr",
     "output_type": "stream",
     "text": [
      "[I 2023-11-27 14:31:32,222] Trial 17 finished with value: 0.01701342955450293 and parameters: {'topK': 2628, 'shrink': 76, 'similarity': 'tversky', 'normalize': True, 'feature_weighting': 'TF-IDF'}. Best is trial 0 with value: 0.023874364044134025.\n"
     ]
    },
    {
     "name": "stdout",
     "output_type": "stream",
     "text": [
      "UserKNNCFRecommender: URM Detected 468 ( 3.7%) users with no interactions.\n",
      "UserKNNCFRecommender: URM Detected 305 ( 1.4%) items with no interactions.\n",
      "Similarity column 12638 (100.0%), 10936.68 column/sec. Elapsed time 1.16 sec\n",
      "EvaluatorHoldout: Processed 10043 (100.0%) in 9.57 sec. Users per second: 1049\n"
     ]
    },
    {
     "name": "stderr",
     "output_type": "stream",
     "text": [
      "[I 2023-11-27 14:31:43,488] Trial 18 finished with value: 0.015200404135234333 and parameters: {'topK': 5167, 'shrink': 98, 'similarity': 'dice', 'normalize': False, 'feature_weighting': 'none'}. Best is trial 0 with value: 0.023874364044134025.\n"
     ]
    },
    {
     "name": "stdout",
     "output_type": "stream",
     "text": [
      "UserKNNCFRecommender: URM Detected 468 ( 3.7%) users with no interactions.\n",
      "UserKNNCFRecommender: URM Detected 305 ( 1.4%) items with no interactions.\n",
      "Similarity column 12638 (100.0%), 9619.43 column/sec. Elapsed time 1.31 sec\n",
      "EvaluatorHoldout: Processed 10043 (100.0%) in 9.09 sec. Users per second: 1105\n"
     ]
    },
    {
     "name": "stderr",
     "output_type": "stream",
     "text": [
      "[I 2023-11-27 14:31:54,350] Trial 19 finished with value: 0.013265853654681645 and parameters: {'topK': 3264, 'shrink': 61, 'similarity': 'asymmetric', 'normalize': True, 'feature_weighting': 'BM25'}. Best is trial 0 with value: 0.023874364044134025.\n"
     ]
    },
    {
     "name": "stdout",
     "output_type": "stream",
     "text": [
      "UserKNNCFRecommender: URM Detected 468 ( 3.7%) users with no interactions.\n",
      "UserKNNCFRecommender: URM Detected 305 ( 1.4%) items with no interactions.\n",
      "Similarity column 12638 (100.0%), 10115.76 column/sec. Elapsed time 1.25 sec\n",
      "EvaluatorHoldout: Processed 10043 (100.0%) in 5.15 sec. Users per second: 1949\n"
     ]
    },
    {
     "name": "stderr",
     "output_type": "stream",
     "text": [
      "[I 2023-11-27 14:32:00,838] Trial 20 finished with value: 0.020219097563018748 and parameters: {'topK': 128, 'shrink': 48, 'similarity': 'asymmetric', 'normalize': True, 'feature_weighting': 'TF-IDF'}. Best is trial 0 with value: 0.023874364044134025.\n"
     ]
    },
    {
     "name": "stdout",
     "output_type": "stream",
     "text": [
      "UserKNNCFRecommender: URM Detected 468 ( 3.7%) users with no interactions.\n",
      "UserKNNCFRecommender: URM Detected 305 ( 1.4%) items with no interactions.\n",
      "Similarity column 12638 (100.0%), 9586.63 column/sec. Elapsed time 1.32 sec\n",
      "EvaluatorHoldout: Processed 10043 (100.0%) in 6.94 sec. Users per second: 1448\n"
     ]
    },
    {
     "name": "stderr",
     "output_type": "stream",
     "text": [
      "[I 2023-11-27 14:32:09,301] Trial 21 finished with value: 0.022781393183912417 and parameters: {'topK': 846, 'shrink': 37, 'similarity': 'asymmetric', 'normalize': True, 'feature_weighting': 'TF-IDF'}. Best is trial 0 with value: 0.023874364044134025.\n"
     ]
    },
    {
     "name": "stdout",
     "output_type": "stream",
     "text": [
      "UserKNNCFRecommender: URM Detected 468 ( 3.7%) users with no interactions.\n",
      "UserKNNCFRecommender: URM Detected 305 ( 1.4%) items with no interactions.\n",
      "Similarity column 12638 (100.0%), 9540.31 column/sec. Elapsed time 1.32 sec\n",
      "EvaluatorHoldout: Processed 10043 (100.0%) in 6.82 sec. Users per second: 1472\n"
     ]
    },
    {
     "name": "stderr",
     "output_type": "stream",
     "text": [
      "[I 2023-11-27 14:32:17,650] Trial 22 finished with value: 0.023007500288442298 and parameters: {'topK': 819, 'shrink': 27, 'similarity': 'asymmetric', 'normalize': True, 'feature_weighting': 'TF-IDF'}. Best is trial 0 with value: 0.023874364044134025.\n"
     ]
    },
    {
     "name": "stdout",
     "output_type": "stream",
     "text": [
      "UserKNNCFRecommender: URM Detected 468 ( 3.7%) users with no interactions.\n",
      "UserKNNCFRecommender: URM Detected 305 ( 1.4%) items with no interactions.\n",
      "Similarity column 12638 (100.0%), 9583.96 column/sec. Elapsed time 1.32 sec\n",
      "EvaluatorHoldout: Processed 10043 (100.0%) in 7.41 sec. Users per second: 1355\n"
     ]
    },
    {
     "name": "stderr",
     "output_type": "stream",
     "text": [
      "[I 2023-11-27 14:32:26,639] Trial 23 finished with value: 0.021582271628821464 and parameters: {'topK': 1146, 'shrink': 3, 'similarity': 'asymmetric', 'normalize': True, 'feature_weighting': 'TF-IDF'}. Best is trial 0 with value: 0.023874364044134025.\n"
     ]
    },
    {
     "name": "stdout",
     "output_type": "stream",
     "text": [
      "UserKNNCFRecommender: URM Detected 468 ( 3.7%) users with no interactions.\n",
      "UserKNNCFRecommender: URM Detected 305 ( 1.4%) items with no interactions.\n",
      "Similarity column 12638 (100.0%), 9332.52 column/sec. Elapsed time 1.35 sec\n",
      "EvaluatorHoldout: Processed 10043 (100.0%) in 8.66 sec. Users per second: 1159\n"
     ]
    },
    {
     "name": "stderr",
     "output_type": "stream",
     "text": [
      "[I 2023-11-27 14:32:37,070] Trial 24 finished with value: 0.0175097991335669 and parameters: {'topK': 2557, 'shrink': 30, 'similarity': 'asymmetric', 'normalize': True, 'feature_weighting': 'TF-IDF'}. Best is trial 0 with value: 0.023874364044134025.\n"
     ]
    },
    {
     "name": "stdout",
     "output_type": "stream",
     "text": [
      "UserKNNCFRecommender: URM Detected 468 ( 3.7%) users with no interactions.\n",
      "UserKNNCFRecommender: URM Detected 305 ( 1.4%) items with no interactions.\n",
      "Similarity column 12638 (100.0%), 9424.70 column/sec. Elapsed time 1.34 sec\n",
      "EvaluatorHoldout: Processed 10043 (100.0%) in 8.41 sec. Users per second: 1194\n"
     ]
    },
    {
     "name": "stderr",
     "output_type": "stream",
     "text": [
      "[I 2023-11-27 14:32:47,210] Trial 25 finished with value: 0.0179026851206479 and parameters: {'topK': 2183, 'shrink': 10, 'similarity': 'tversky', 'normalize': True, 'feature_weighting': 'TF-IDF'}. Best is trial 0 with value: 0.023874364044134025.\n"
     ]
    },
    {
     "name": "stdout",
     "output_type": "stream",
     "text": [
      "UserKNNCFRecommender: URM Detected 468 ( 3.7%) users with no interactions.\n",
      "UserKNNCFRecommender: URM Detected 305 ( 1.4%) items with no interactions.\n",
      "Similarity column 12638 (100.0%), 10509.53 column/sec. Elapsed time 1.20 sec\n",
      "EvaluatorHoldout: Processed 10043 (100.0%) in 6.69 sec. Users per second: 1502\n"
     ]
    },
    {
     "name": "stderr",
     "output_type": "stream",
     "text": [
      "[I 2023-11-27 14:32:55,296] Trial 26 finished with value: 0.02129041154780477 and parameters: {'topK': 812, 'shrink': 28, 'similarity': 'asymmetric', 'normalize': False, 'feature_weighting': 'TF-IDF'}. Best is trial 0 with value: 0.023874364044134025.\n"
     ]
    },
    {
     "name": "stdout",
     "output_type": "stream",
     "text": [
      "UserKNNCFRecommender: URM Detected 468 ( 3.7%) users with no interactions.\n",
      "UserKNNCFRecommender: URM Detected 305 ( 1.4%) items with no interactions.\n",
      "Similarity column 12638 (100.0%), 10344.95 column/sec. Elapsed time 1.22 sec\n",
      "EvaluatorHoldout: Processed 10043 (100.0%) in 7.40 sec. Users per second: 1357\n"
     ]
    },
    {
     "name": "stderr",
     "output_type": "stream",
     "text": [
      "[I 2023-11-27 14:33:04,196] Trial 27 finished with value: 0.020293756687513532 and parameters: {'topK': 1194, 'shrink': 52, 'similarity': 'dice', 'normalize': True, 'feature_weighting': 'TF-IDF'}. Best is trial 0 with value: 0.023874364044134025.\n"
     ]
    },
    {
     "name": "stdout",
     "output_type": "stream",
     "text": [
      "UserKNNCFRecommender: URM Detected 468 ( 3.7%) users with no interactions.\n",
      "UserKNNCFRecommender: URM Detected 305 ( 1.4%) items with no interactions.\n",
      "Similarity column 12638 (100.0%), 9582.48 column/sec. Elapsed time 1.32 sec\n",
      "EvaluatorHoldout: Processed 10043 (100.0%) in 8.93 sec. Users per second: 1125\n"
     ]
    },
    {
     "name": "stderr",
     "output_type": "stream",
     "text": [
      "[I 2023-11-27 14:33:14,878] Trial 28 finished with value: 0.013447856755633262 and parameters: {'topK': 2939, 'shrink': 86, 'similarity': 'asymmetric', 'normalize': True, 'feature_weighting': 'BM25'}. Best is trial 0 with value: 0.023874364044134025.\n"
     ]
    },
    {
     "name": "stdout",
     "output_type": "stream",
     "text": [
      "UserKNNCFRecommender: URM Detected 468 ( 3.7%) users with no interactions.\n",
      "UserKNNCFRecommender: URM Detected 305 ( 1.4%) items with no interactions.\n",
      "Similarity column 12638 (100.0%), 10493.55 column/sec. Elapsed time 1.20 sec\n",
      "EvaluatorHoldout: Processed 10043 (100.0%) in 9.38 sec. Users per second: 1071\n"
     ]
    },
    {
     "name": "stderr",
     "output_type": "stream",
     "text": [
      "[I 2023-11-27 14:33:25,970] Trial 29 finished with value: 0.01573970419260667 and parameters: {'topK': 4275, 'shrink': 19, 'similarity': 'jaccard', 'normalize': True, 'feature_weighting': 'none'}. Best is trial 0 with value: 0.023874364044134025.\n"
     ]
    },
    {
     "name": "stdout",
     "output_type": "stream",
     "text": [
      "UserKNNCFRecommender: URM Detected 468 ( 3.7%) users with no interactions.\n",
      "UserKNNCFRecommender: URM Detected 305 ( 1.4%) items with no interactions.\n",
      "Similarity column 12638 (100.0%), 9725.78 column/sec. Elapsed time 1.30 sec\n",
      "EvaluatorHoldout: Processed 10043 (100.0%) in 7.23 sec. Users per second: 1389\n"
     ]
    },
    {
     "name": "stderr",
     "output_type": "stream",
     "text": [
      "[I 2023-11-27 14:33:34,735] Trial 30 finished with value: 0.01377570889619075 and parameters: {'topK': 952, 'shrink': 45, 'similarity': 'asymmetric', 'normalize': True, 'feature_weighting': 'BM25'}. Best is trial 0 with value: 0.023874364044134025.\n"
     ]
    },
    {
     "name": "stdout",
     "output_type": "stream",
     "text": [
      "UserKNNCFRecommender: URM Detected 468 ( 3.7%) users with no interactions.\n",
      "UserKNNCFRecommender: URM Detected 305 ( 1.4%) items with no interactions.\n",
      "Similarity column 12638 (100.0%), 9439.09 column/sec. Elapsed time 1.34 sec\n",
      "EvaluatorHoldout: Processed 10043 (100.0%) in 6.56 sec. Users per second: 1530\n"
     ]
    },
    {
     "name": "stderr",
     "output_type": "stream",
     "text": [
      "[I 2023-11-27 14:33:42,826] Trial 31 finished with value: 0.023853481616351254 and parameters: {'topK': 605, 'shrink': 35, 'similarity': 'asymmetric', 'normalize': True, 'feature_weighting': 'TF-IDF'}. Best is trial 0 with value: 0.023874364044134025.\n"
     ]
    },
    {
     "name": "stdout",
     "output_type": "stream",
     "text": [
      "UserKNNCFRecommender: URM Detected 468 ( 3.7%) users with no interactions.\n",
      "UserKNNCFRecommender: URM Detected 305 ( 1.4%) items with no interactions.\n",
      "Similarity column 12638 (100.0%), 9503.44 column/sec. Elapsed time 1.33 sec\n",
      "EvaluatorHoldout: Processed 10043 (100.0%) in 5.78 sec. Users per second: 1738\n"
     ]
    },
    {
     "name": "stderr",
     "output_type": "stream",
     "text": [
      "[I 2023-11-27 14:33:50,028] Trial 32 finished with value: 0.02149987197906149 and parameters: {'topK': 175, 'shrink': 30, 'similarity': 'asymmetric', 'normalize': True, 'feature_weighting': 'TF-IDF'}. Best is trial 0 with value: 0.023874364044134025.\n"
     ]
    },
    {
     "name": "stdout",
     "output_type": "stream",
     "text": [
      "UserKNNCFRecommender: URM Detected 468 ( 3.7%) users with no interactions.\n",
      "UserKNNCFRecommender: URM Detected 305 ( 1.4%) items with no interactions.\n",
      "Similarity column 12638 (100.0%), 8966.10 column/sec. Elapsed time 1.41 sec\n",
      "EvaluatorHoldout: Processed 10043 (100.0%) in 8.15 sec. Users per second: 1232\n"
     ]
    },
    {
     "name": "stderr",
     "output_type": "stream",
     "text": [
      "[I 2023-11-27 14:33:59,892] Trial 33 finished with value: 0.020262158433023772 and parameters: {'topK': 1489, 'shrink': 34, 'similarity': 'asymmetric', 'normalize': True, 'feature_weighting': 'TF-IDF'}. Best is trial 0 with value: 0.023874364044134025.\n"
     ]
    },
    {
     "name": "stdout",
     "output_type": "stream",
     "text": [
      "UserKNNCFRecommender: URM Detected 468 ( 3.7%) users with no interactions.\n",
      "UserKNNCFRecommender: URM Detected 305 ( 1.4%) items with no interactions.\n",
      "Similarity column 12638 (100.0%), 10024.77 column/sec. Elapsed time 1.26 sec\n",
      "EvaluatorHoldout: Processed 10043 (100.0%) in 7.04 sec. Users per second: 1426\n"
     ]
    },
    {
     "name": "stderr",
     "output_type": "stream",
     "text": [
      "[I 2023-11-27 14:34:08,412] Trial 34 finished with value: 0.02168081219012218 and parameters: {'topK': 798, 'shrink': 24, 'similarity': 'jaccard', 'normalize': True, 'feature_weighting': 'TF-IDF'}. Best is trial 0 with value: 0.023874364044134025.\n"
     ]
    },
    {
     "name": "stdout",
     "output_type": "stream",
     "text": [
      "UserKNNCFRecommender: URM Detected 468 ( 3.7%) users with no interactions.\n",
      "UserKNNCFRecommender: URM Detected 305 ( 1.4%) items with no interactions.\n",
      "Similarity column 12638 (100.0%), 9235.98 column/sec. Elapsed time 1.37 sec\n",
      "EvaluatorHoldout: Processed 10043 (100.0%) in 10.33 sec. Users per second: 972\n"
     ]
    },
    {
     "name": "stderr",
     "output_type": "stream",
     "text": [
      "[I 2023-11-27 14:34:20,734] Trial 35 finished with value: 0.01564538753202496 and parameters: {'topK': 7847, 'shrink': 58, 'similarity': 'asymmetric', 'normalize': True, 'feature_weighting': 'TF-IDF'}. Best is trial 0 with value: 0.023874364044134025.\n"
     ]
    },
    {
     "name": "stdout",
     "output_type": "stream",
     "text": [
      "UserKNNCFRecommender: URM Detected 468 ( 3.7%) users with no interactions.\n",
      "UserKNNCFRecommender: URM Detected 305 ( 1.4%) items with no interactions.\n",
      "Similarity column 12638 (100.0%), 9167.59 column/sec. Elapsed time 1.38 sec\n",
      "EvaluatorHoldout: Processed 10043 (100.0%) in 9.13 sec. Users per second: 1100\n"
     ]
    },
    {
     "name": "stderr",
     "output_type": "stream",
     "text": [
      "[I 2023-11-27 14:34:31,668] Trial 36 finished with value: 0.0176714137146777 and parameters: {'topK': 2277, 'shrink': 11, 'similarity': 'tversky', 'normalize': False, 'feature_weighting': 'none'}. Best is trial 0 with value: 0.023874364044134025.\n"
     ]
    },
    {
     "name": "stdout",
     "output_type": "stream",
     "text": [
      "UserKNNCFRecommender: URM Detected 468 ( 3.7%) users with no interactions.\n",
      "UserKNNCFRecommender: URM Detected 305 ( 1.4%) items with no interactions.\n",
      "Similarity column 12638 (100.0%), 9823.45 column/sec. Elapsed time 1.29 sec\n",
      "EvaluatorHoldout: Processed 10043 (100.0%) in 10.22 sec. Users per second: 983\n"
     ]
    },
    {
     "name": "stderr",
     "output_type": "stream",
     "text": [
      "[I 2023-11-27 14:34:43,790] Trial 37 finished with value: 0.01551209955919699 and parameters: {'topK': 6227, 'shrink': 43, 'similarity': 'asymmetric', 'normalize': True, 'feature_weighting': 'TF-IDF'}. Best is trial 0 with value: 0.023874364044134025.\n"
     ]
    },
    {
     "name": "stdout",
     "output_type": "stream",
     "text": [
      "UserKNNCFRecommender: URM Detected 468 ( 3.7%) users with no interactions.\n",
      "UserKNNCFRecommender: URM Detected 305 ( 1.4%) items with no interactions.\n",
      "Similarity column 12638 (100.0%), 9630.41 column/sec. Elapsed time 1.31 sec\n",
      "EvaluatorHoldout: Processed 10043 (100.0%) in 6.66 sec. Users per second: 1507\n"
     ]
    },
    {
     "name": "stderr",
     "output_type": "stream",
     "text": [
      "[I 2023-11-27 14:34:51,952] Trial 38 finished with value: 0.023824680856444295 and parameters: {'topK': 630, 'shrink': 68, 'similarity': 'cosine', 'normalize': True, 'feature_weighting': 'TF-IDF'}. Best is trial 0 with value: 0.023874364044134025.\n"
     ]
    },
    {
     "name": "stdout",
     "output_type": "stream",
     "text": [
      "UserKNNCFRecommender: URM Detected 468 ( 3.7%) users with no interactions.\n",
      "UserKNNCFRecommender: URM Detected 305 ( 1.4%) items with no interactions.\n",
      "Similarity column 12638 (100.0%), 10882.69 column/sec. Elapsed time 1.16 sec\n",
      "EvaluatorHoldout: Processed 10043 (100.0%) in 8.00 sec. Users per second: 1256\n"
     ]
    },
    {
     "name": "stderr",
     "output_type": "stream",
     "text": [
      "[I 2023-11-27 14:35:01,420] Trial 39 finished with value: 0.018212175739557995 and parameters: {'topK': 1708, 'shrink': 69, 'similarity': 'cosine', 'normalize': False, 'feature_weighting': 'none'}. Best is trial 0 with value: 0.023874364044134025.\n"
     ]
    },
    {
     "name": "stdout",
     "output_type": "stream",
     "text": [
      "UserKNNCFRecommender: URM Detected 468 ( 3.7%) users with no interactions.\n",
      "UserKNNCFRecommender: URM Detected 305 ( 1.4%) items with no interactions.\n",
      "Similarity column 12638 (100.0%), 9351.03 column/sec. Elapsed time 1.35 sec\n",
      "EvaluatorHoldout: Processed 10043 (100.0%) in 6.80 sec. Users per second: 1477\n"
     ]
    },
    {
     "name": "stderr",
     "output_type": "stream",
     "text": [
      "[I 2023-11-27 14:35:09,724] Trial 40 finished with value: 0.023847910334766853 and parameters: {'topK': 525, 'shrink': 65, 'similarity': 'cosine', 'normalize': True, 'feature_weighting': 'TF-IDF'}. Best is trial 0 with value: 0.023874364044134025.\n"
     ]
    },
    {
     "name": "stdout",
     "output_type": "stream",
     "text": [
      "UserKNNCFRecommender: URM Detected 468 ( 3.7%) users with no interactions.\n",
      "UserKNNCFRecommender: URM Detected 305 ( 1.4%) items with no interactions.\n",
      "Similarity column 12638 (100.0%), 10030.85 column/sec. Elapsed time 1.26 sec\n",
      "EvaluatorHoldout: Processed 10043 (100.0%) in 6.36 sec. Users per second: 1580\n"
     ]
    },
    {
     "name": "stderr",
     "output_type": "stream",
     "text": [
      "[I 2023-11-27 14:35:17,490] Trial 41 finished with value: 0.02387918063438327 and parameters: {'topK': 537, 'shrink': 66, 'similarity': 'cosine', 'normalize': True, 'feature_weighting': 'TF-IDF'}. Best is trial 41 with value: 0.02387918063438327.\n"
     ]
    },
    {
     "name": "stdout",
     "output_type": "stream",
     "text": [
      "UserKNNCFRecommender: URM Detected 468 ( 3.7%) users with no interactions.\n",
      "UserKNNCFRecommender: URM Detected 305 ( 1.4%) items with no interactions.\n",
      "Similarity column 12638 (100.0%), 9367.59 column/sec. Elapsed time 1.35 sec\n",
      "EvaluatorHoldout: Processed 10043 (100.0%) in 8.18 sec. Users per second: 1228\n"
     ]
    },
    {
     "name": "stderr",
     "output_type": "stream",
     "text": [
      "[I 2023-11-27 14:35:27,310] Trial 42 finished with value: 0.020769745649263708 and parameters: {'topK': 1340, 'shrink': 74, 'similarity': 'cosine', 'normalize': True, 'feature_weighting': 'TF-IDF'}. Best is trial 41 with value: 0.02387918063438327.\n"
     ]
    },
    {
     "name": "stdout",
     "output_type": "stream",
     "text": [
      "UserKNNCFRecommender: URM Detected 468 ( 3.7%) users with no interactions.\n",
      "UserKNNCFRecommender: URM Detected 305 ( 1.4%) items with no interactions.\n",
      "Similarity column 12638 (100.0%), 9146.92 column/sec. Elapsed time 1.38 sec\n",
      "EvaluatorHoldout: Processed 10043 (100.0%) in 8.71 sec. Users per second: 1153\n"
     ]
    },
    {
     "name": "stderr",
     "output_type": "stream",
     "text": [
      "[I 2023-11-27 14:35:37,766] Trial 43 finished with value: 0.01866999679157403 and parameters: {'topK': 1995, 'shrink': 83, 'similarity': 'cosine', 'normalize': True, 'feature_weighting': 'TF-IDF'}. Best is trial 41 with value: 0.02387918063438327.\n"
     ]
    },
    {
     "name": "stdout",
     "output_type": "stream",
     "text": [
      "UserKNNCFRecommender: URM Detected 468 ( 3.7%) users with no interactions.\n",
      "UserKNNCFRecommender: URM Detected 305 ( 1.4%) items with no interactions.\n",
      "Similarity column 12638 (100.0%), 9506.03 column/sec. Elapsed time 1.33 sec\n",
      "EvaluatorHoldout: Processed 10043 (100.0%) in 6.62 sec. Users per second: 1517\n"
     ]
    },
    {
     "name": "stderr",
     "output_type": "stream",
     "text": [
      "[I 2023-11-27 14:35:45,903] Trial 44 finished with value: 0.023771370408829352 and parameters: {'topK': 567, 'shrink': 56, 'similarity': 'cosine', 'normalize': True, 'feature_weighting': 'TF-IDF'}. Best is trial 41 with value: 0.02387918063438327.\n"
     ]
    },
    {
     "name": "stdout",
     "output_type": "stream",
     "text": [
      "UserKNNCFRecommender: URM Detected 468 ( 3.7%) users with no interactions.\n",
      "UserKNNCFRecommender: URM Detected 305 ( 1.4%) items with no interactions.\n",
      "Similarity column 12638 (100.0%), 9402.21 column/sec. Elapsed time 1.34 sec\n",
      "EvaluatorHoldout: Processed 10043 (100.0%) in 7.78 sec. Users per second: 1291\n"
     ]
    },
    {
     "name": "stderr",
     "output_type": "stream",
     "text": [
      "[I 2023-11-27 14:35:55,300] Trial 45 finished with value: 0.02093325288560778 and parameters: {'topK': 1290, 'shrink': 53, 'similarity': 'cosine', 'normalize': True, 'feature_weighting': 'TF-IDF'}. Best is trial 41 with value: 0.02387918063438327.\n"
     ]
    },
    {
     "name": "stdout",
     "output_type": "stream",
     "text": [
      "UserKNNCFRecommender: URM Detected 468 ( 3.7%) users with no interactions.\n",
      "UserKNNCFRecommender: URM Detected 305 ( 1.4%) items with no interactions.\n",
      "Similarity column 12638 (100.0%), 9617.60 column/sec. Elapsed time 1.31 sec\n",
      "EvaluatorHoldout: Processed 10043 (100.0%) in 8.40 sec. Users per second: 1196\n"
     ]
    },
    {
     "name": "stderr",
     "output_type": "stream",
     "text": [
      "[I 2023-11-27 14:36:05,364] Trial 46 finished with value: 0.019701904825125 and parameters: {'topK': 1703, 'shrink': 61, 'similarity': 'cosine', 'normalize': True, 'feature_weighting': 'TF-IDF'}. Best is trial 41 with value: 0.02387918063438327.\n"
     ]
    },
    {
     "name": "stdout",
     "output_type": "stream",
     "text": [
      "UserKNNCFRecommender: URM Detected 468 ( 3.7%) users with no interactions.\n",
      "UserKNNCFRecommender: URM Detected 305 ( 1.4%) items with no interactions.\n",
      "Similarity column 12638 (100.0%), 10666.62 column/sec. Elapsed time 1.18 sec\n",
      "EvaluatorHoldout: Processed 10043 (100.0%) in 6.31 sec. Users per second: 1592\n"
     ]
    },
    {
     "name": "stderr",
     "output_type": "stream",
     "text": [
      "[I 2023-11-27 14:36:13,010] Trial 47 finished with value: 0.022368292532586112 and parameters: {'topK': 490, 'shrink': 89, 'similarity': 'cosine', 'normalize': False, 'feature_weighting': 'TF-IDF'}. Best is trial 41 with value: 0.02387918063438327.\n"
     ]
    },
    {
     "name": "stdout",
     "output_type": "stream",
     "text": [
      "UserKNNCFRecommender: URM Detected 468 ( 3.7%) users with no interactions.\n",
      "UserKNNCFRecommender: URM Detected 305 ( 1.4%) items with no interactions.\n",
      "Similarity column 12638 (100.0%), 8837.27 column/sec. Elapsed time 1.43 sec\n",
      "EvaluatorHoldout: Processed 10043 (100.0%) in 10.25 sec. Users per second: 980\n"
     ]
    },
    {
     "name": "stderr",
     "output_type": "stream",
     "text": [
      "[I 2023-11-27 14:36:25,562] Trial 48 finished with value: 0.01111166428800597 and parameters: {'topK': 9954, 'shrink': 72, 'similarity': 'cosine', 'normalize': True, 'feature_weighting': 'BM25'}. Best is trial 41 with value: 0.02387918063438327.\n"
     ]
    },
    {
     "name": "stdout",
     "output_type": "stream",
     "text": [
      "UserKNNCFRecommender: URM Detected 468 ( 3.7%) users with no interactions.\n",
      "UserKNNCFRecommender: URM Detected 305 ( 1.4%) items with no interactions.\n",
      "Similarity column 12638 (100.0%), 8982.79 column/sec. Elapsed time 1.41 sec\n",
      "EvaluatorHoldout: Processed 10043 (100.0%) in 10.16 sec. Users per second: 989\n"
     ]
    },
    {
     "name": "stderr",
     "output_type": "stream",
     "text": [
      "[I 2023-11-27 14:36:37,798] Trial 49 finished with value: 0.01570376349949186 and parameters: {'topK': 8739, 'shrink': 64, 'similarity': 'cosine', 'normalize': True, 'feature_weighting': 'TF-IDF'}. Best is trial 41 with value: 0.02387918063438327.\n"
     ]
    },
    {
     "name": "stdout",
     "output_type": "stream",
     "text": [
      "UserKNNCFRecommender: URM Detected 468 ( 3.7%) users with no interactions.\n",
      "UserKNNCFRecommender: URM Detected 305 ( 1.4%) items with no interactions.\n",
      "Similarity column 12638 (100.0%), 9713.22 column/sec. Elapsed time 1.30 sec\n",
      "EvaluatorHoldout: Processed 10043 (100.0%) in 6.92 sec. Users per second: 1451\n"
     ]
    },
    {
     "name": "stderr",
     "output_type": "stream",
     "text": [
      "[I 2023-11-27 14:36:46,193] Trial 50 finished with value: 0.022081367579724617 and parameters: {'topK': 582, 'shrink': 79, 'similarity': 'cosine', 'normalize': True, 'feature_weighting': 'none'}. Best is trial 41 with value: 0.02387918063438327.\n"
     ]
    },
    {
     "name": "stdout",
     "output_type": "stream",
     "text": [
      "UserKNNCFRecommender: URM Detected 468 ( 3.7%) users with no interactions.\n",
      "UserKNNCFRecommender: URM Detected 305 ( 1.4%) items with no interactions.\n",
      "Similarity column 12638 (100.0%), 9642.52 column/sec. Elapsed time 1.31 sec\n",
      "EvaluatorHoldout: Processed 10043 (100.0%) in 6.37 sec. Users per second: 1577\n"
     ]
    },
    {
     "name": "stderr",
     "output_type": "stream",
     "text": [
      "[I 2023-11-27 14:36:54,031] Trial 51 finished with value: 0.023838794769791484 and parameters: {'topK': 468, 'shrink': 58, 'similarity': 'cosine', 'normalize': True, 'feature_weighting': 'TF-IDF'}. Best is trial 41 with value: 0.02387918063438327.\n"
     ]
    },
    {
     "name": "stdout",
     "output_type": "stream",
     "text": [
      "UserKNNCFRecommender: URM Detected 468 ( 3.7%) users with no interactions.\n",
      "UserKNNCFRecommender: URM Detected 305 ( 1.4%) items with no interactions.\n",
      "Similarity column 12638 (100.0%), 10319.94 column/sec. Elapsed time 1.22 sec\n",
      "EvaluatorHoldout: Processed 10043 (100.0%) in 5.18 sec. Users per second: 1940\n"
     ]
    },
    {
     "name": "stderr",
     "output_type": "stream",
     "text": [
      "[I 2023-11-27 14:37:00,518] Trial 52 finished with value: 0.02057002903388448 and parameters: {'topK': 134, 'shrink': 62, 'similarity': 'cosine', 'normalize': True, 'feature_weighting': 'TF-IDF'}. Best is trial 41 with value: 0.02387918063438327.\n"
     ]
    },
    {
     "name": "stdout",
     "output_type": "stream",
     "text": [
      "UserKNNCFRecommender: URM Detected 468 ( 3.7%) users with no interactions.\n",
      "UserKNNCFRecommender: URM Detected 305 ( 1.4%) items with no interactions.\n",
      "Similarity column 12638 (100.0%), 8016.12 column/sec. Elapsed time 1.58 sec\n",
      "EvaluatorHoldout: Processed 10043 (100.0%) in 7.67 sec. Users per second: 1310\n"
     ]
    },
    {
     "name": "stderr",
     "output_type": "stream",
     "text": [
      "[I 2023-11-27 14:37:10,029] Trial 53 finished with value: 0.021557987163135006 and parameters: {'topK': 1147, 'shrink': 47, 'similarity': 'cosine', 'normalize': True, 'feature_weighting': 'TF-IDF'}. Best is trial 41 with value: 0.02387918063438327.\n"
     ]
    },
    {
     "name": "stdout",
     "output_type": "stream",
     "text": [
      "UserKNNCFRecommender: URM Detected 468 ( 3.7%) users with no interactions.\n",
      "UserKNNCFRecommender: URM Detected 305 ( 1.4%) items with no interactions.\n",
      "Similarity column 12638 (100.0%), 10724.91 column/sec. Elapsed time 1.18 sec\n",
      "EvaluatorHoldout: Processed 10043 (100.0%) in 6.48 sec. Users per second: 1549\n"
     ]
    },
    {
     "name": "stderr",
     "output_type": "stream",
     "text": [
      "[I 2023-11-27 14:37:17,879] Trial 54 finished with value: 0.02224106974928448 and parameters: {'topK': 507, 'shrink': 67, 'similarity': 'dice', 'normalize': True, 'feature_weighting': 'TF-IDF'}. Best is trial 41 with value: 0.02387918063438327.\n"
     ]
    },
    {
     "name": "stdout",
     "output_type": "stream",
     "text": [
      "UserKNNCFRecommender: URM Detected 468 ( 3.7%) users with no interactions.\n",
      "UserKNNCFRecommender: URM Detected 305 ( 1.4%) items with no interactions.\n",
      "Similarity column 12638 (100.0%), 9335.51 column/sec. Elapsed time 1.35 sec\n",
      "EvaluatorHoldout: Processed 10043 (100.0%) in 8.37 sec. Users per second: 1200\n"
     ]
    },
    {
     "name": "stderr",
     "output_type": "stream",
     "text": [
      "[I 2023-11-27 14:37:27,935] Trial 55 finished with value: 0.01989631884484024 and parameters: {'topK': 1614, 'shrink': 56, 'similarity': 'cosine', 'normalize': True, 'feature_weighting': 'TF-IDF'}. Best is trial 41 with value: 0.02387918063438327.\n"
     ]
    },
    {
     "name": "stdout",
     "output_type": "stream",
     "text": [
      "UserKNNCFRecommender: URM Detected 468 ( 3.7%) users with no interactions.\n",
      "UserKNNCFRecommender: URM Detected 305 ( 1.4%) items with no interactions.\n",
      "Similarity column 12638 (100.0%), 9653.98 column/sec. Elapsed time 1.31 sec\n",
      "EvaluatorHoldout: Processed 10043 (100.0%) in 8.98 sec. Users per second: 1119\n"
     ]
    },
    {
     "name": "stderr",
     "output_type": "stream",
     "text": [
      "[I 2023-11-27 14:37:38,644] Trial 56 finished with value: 0.01778624138426982 and parameters: {'topK': 2421, 'shrink': 38, 'similarity': 'cosine', 'normalize': True, 'feature_weighting': 'TF-IDF'}. Best is trial 41 with value: 0.02387918063438327.\n"
     ]
    },
    {
     "name": "stdout",
     "output_type": "stream",
     "text": [
      "UserKNNCFRecommender: URM Detected 468 ( 3.7%) users with no interactions.\n",
      "UserKNNCFRecommender: URM Detected 305 ( 1.4%) items with no interactions.\n",
      "Similarity column 12638 (100.0%), 10104.75 column/sec. Elapsed time 1.25 sec\n",
      "EvaluatorHoldout: Processed 10043 (100.0%) in 8.58 sec. Users per second: 1170\n"
     ]
    },
    {
     "name": "stderr",
     "output_type": "stream",
     "text": [
      "[I 2023-11-27 14:37:48,922] Trial 57 finished with value: 0.018092555187297802 and parameters: {'topK': 2050, 'shrink': 51, 'similarity': 'jaccard', 'normalize': True, 'feature_weighting': 'TF-IDF'}. Best is trial 41 with value: 0.02387918063438327.\n"
     ]
    },
    {
     "name": "stdout",
     "output_type": "stream",
     "text": [
      "UserKNNCFRecommender: URM Detected 468 ( 3.7%) users with no interactions.\n",
      "UserKNNCFRecommender: URM Detected 305 ( 1.4%) items with no interactions.\n",
      "Similarity column 12638 (100.0%), 10310.50 column/sec. Elapsed time 1.23 sec\n",
      "EvaluatorHoldout: Processed 10043 (100.0%) in 7.40 sec. Users per second: 1357\n"
     ]
    },
    {
     "name": "stderr",
     "output_type": "stream",
     "text": [
      "[I 2023-11-27 14:37:57,788] Trial 58 finished with value: 0.020640211376794147 and parameters: {'topK': 993, 'shrink': 35, 'similarity': 'cosine', 'normalize': False, 'feature_weighting': 'TF-IDF'}. Best is trial 41 with value: 0.02387918063438327.\n"
     ]
    },
    {
     "name": "stdout",
     "output_type": "stream",
     "text": [
      "UserKNNCFRecommender: URM Detected 468 ( 3.7%) users with no interactions.\n",
      "UserKNNCFRecommender: URM Detected 305 ( 1.4%) items with no interactions.\n",
      "Similarity column 12638 (100.0%), 10084.56 column/sec. Elapsed time 1.25 sec\n",
      "EvaluatorHoldout: Processed 10043 (100.0%) in 5.19 sec. Users per second: 1933\n"
     ]
    },
    {
     "name": "stderr",
     "output_type": "stream",
     "text": [
      "[I 2023-11-27 14:38:04,330] Trial 59 finished with value: 0.02083053583875051 and parameters: {'topK': 121, 'shrink': 77, 'similarity': 'tversky', 'normalize': True, 'feature_weighting': 'TF-IDF'}. Best is trial 41 with value: 0.02387918063438327.\n"
     ]
    },
    {
     "name": "stdout",
     "output_type": "stream",
     "text": [
      "UserKNNCFRecommender: URM Detected 468 ( 3.7%) users with no interactions.\n",
      "UserKNNCFRecommender: URM Detected 305 ( 1.4%) items with no interactions.\n",
      "Similarity column 12638 (100.0%), 10536.67 column/sec. Elapsed time 1.20 sec\n",
      "EvaluatorHoldout: Processed 10043 (100.0%) in 9.66 sec. Users per second: 1040\n"
     ]
    },
    {
     "name": "stderr",
     "output_type": "stream",
     "text": [
      "[I 2023-11-27 14:38:15,718] Trial 60 finished with value: 0.020995173136465588 and parameters: {'topK': 3741, 'shrink': 66, 'similarity': 'dice', 'normalize': True, 'feature_weighting': 'BM25'}. Best is trial 41 with value: 0.02387918063438327.\n"
     ]
    },
    {
     "name": "stdout",
     "output_type": "stream",
     "text": [
      "UserKNNCFRecommender: URM Detected 468 ( 3.7%) users with no interactions.\n",
      "UserKNNCFRecommender: URM Detected 305 ( 1.4%) items with no interactions.\n",
      "Similarity column 12638 (100.0%), 9610.30 column/sec. Elapsed time 1.32 sec\n",
      "EvaluatorHoldout: Processed 10043 (100.0%) in 6.85 sec. Users per second: 1466\n"
     ]
    },
    {
     "name": "stderr",
     "output_type": "stream",
     "text": [
      "[I 2023-11-27 14:38:24,047] Trial 61 finished with value: 0.02383592615246507 and parameters: {'topK': 573, 'shrink': 56, 'similarity': 'cosine', 'normalize': True, 'feature_weighting': 'TF-IDF'}. Best is trial 41 with value: 0.02387918063438327.\n"
     ]
    },
    {
     "name": "stdout",
     "output_type": "stream",
     "text": [
      "UserKNNCFRecommender: URM Detected 468 ( 3.7%) users with no interactions.\n",
      "UserKNNCFRecommender: URM Detected 305 ( 1.4%) items with no interactions.\n",
      "Similarity column 12638 (100.0%), 9062.48 column/sec. Elapsed time 1.39 sec\n",
      "EvaluatorHoldout: Processed 10043 (100.0%) in 7.47 sec. Users per second: 1344\n"
     ]
    },
    {
     "name": "stderr",
     "output_type": "stream",
     "text": [
      "[I 2023-11-27 14:38:33,092] Trial 62 finished with value: 0.023810523479198188 and parameters: {'topK': 631, 'shrink': 57, 'similarity': 'cosine', 'normalize': True, 'feature_weighting': 'TF-IDF'}. Best is trial 41 with value: 0.02387918063438327.\n"
     ]
    },
    {
     "name": "stdout",
     "output_type": "stream",
     "text": [
      "UserKNNCFRecommender: URM Detected 468 ( 3.7%) users with no interactions.\n",
      "UserKNNCFRecommender: URM Detected 305 ( 1.4%) items with no interactions.\n",
      "Similarity column 12638 (100.0%), 9635.96 column/sec. Elapsed time 1.31 sec\n",
      "EvaluatorHoldout: Processed 10043 (100.0%) in 8.21 sec. Users per second: 1224\n"
     ]
    },
    {
     "name": "stderr",
     "output_type": "stream",
     "text": [
      "[I 2023-11-27 14:38:42,934] Trial 63 finished with value: 0.020472883268611655 and parameters: {'topK': 1434, 'shrink': 42, 'similarity': 'cosine', 'normalize': True, 'feature_weighting': 'TF-IDF'}. Best is trial 41 with value: 0.02387918063438327.\n"
     ]
    },
    {
     "name": "stdout",
     "output_type": "stream",
     "text": [
      "UserKNNCFRecommender: URM Detected 468 ( 3.7%) users with no interactions.\n",
      "UserKNNCFRecommender: URM Detected 305 ( 1.4%) items with no interactions.\n",
      "Similarity column 12638 (100.0%), 9612.60 column/sec. Elapsed time 1.31 sec\n",
      "EvaluatorHoldout: Processed 10043 (100.0%) in 7.61 sec. Users per second: 1320\n"
     ]
    },
    {
     "name": "stderr",
     "output_type": "stream",
     "text": [
      "[I 2023-11-27 14:38:52,104] Trial 64 finished with value: 0.022134543684379372 and parameters: {'topK': 998, 'shrink': 71, 'similarity': 'cosine', 'normalize': True, 'feature_weighting': 'TF-IDF'}. Best is trial 41 with value: 0.02387918063438327.\n"
     ]
    },
    {
     "name": "stdout",
     "output_type": "stream",
     "text": [
      "UserKNNCFRecommender: URM Detected 468 ( 3.7%) users with no interactions.\n",
      "UserKNNCFRecommender: URM Detected 305 ( 1.4%) items with no interactions.\n",
      "Similarity column 12638 (100.0%), 9906.79 column/sec. Elapsed time 1.28 sec\n",
      "EvaluatorHoldout: Processed 10043 (100.0%) in 6.44 sec. Users per second: 1560\n"
     ]
    },
    {
     "name": "stderr",
     "output_type": "stream",
     "text": [
      "[I 2023-11-27 14:38:59,966] Trial 65 finished with value: 0.023842066415998526 and parameters: {'topK': 405, 'shrink': 63, 'similarity': 'cosine', 'normalize': True, 'feature_weighting': 'TF-IDF'}. Best is trial 41 with value: 0.02387918063438327.\n"
     ]
    },
    {
     "name": "stdout",
     "output_type": "stream",
     "text": [
      "UserKNNCFRecommender: URM Detected 468 ( 3.7%) users with no interactions.\n",
      "UserKNNCFRecommender: URM Detected 305 ( 1.4%) items with no interactions.\n",
      "Similarity column 12638 (100.0%), 9352.11 column/sec. Elapsed time 1.35 sec\n",
      "EvaluatorHoldout: Processed 10043 (100.0%) in 6.65 sec. Users per second: 1510\n"
     ]
    },
    {
     "name": "stderr",
     "output_type": "stream",
     "text": [
      "[I 2023-11-27 14:39:08,111] Trial 66 finished with value: 0.02368501159300727 and parameters: {'topK': 356, 'shrink': 63, 'similarity': 'cosine', 'normalize': True, 'feature_weighting': 'TF-IDF'}. Best is trial 41 with value: 0.02387918063438327.\n"
     ]
    },
    {
     "name": "stdout",
     "output_type": "stream",
     "text": [
      "UserKNNCFRecommender: URM Detected 468 ( 3.7%) users with no interactions.\n",
      "UserKNNCFRecommender: URM Detected 305 ( 1.4%) items with no interactions.\n",
      "Similarity column 12638 (100.0%), 9525.31 column/sec. Elapsed time 1.33 sec\n",
      "EvaluatorHoldout: Processed 10043 (100.0%) in 7.68 sec. Users per second: 1308\n"
     ]
    },
    {
     "name": "stderr",
     "output_type": "stream",
     "text": [
      "[I 2023-11-27 14:39:17,392] Trial 67 finished with value: 0.020415186918472786 and parameters: {'topK': 1103, 'shrink': 54, 'similarity': 'jaccard', 'normalize': True, 'feature_weighting': 'TF-IDF'}. Best is trial 41 with value: 0.02387918063438327.\n"
     ]
    },
    {
     "name": "stdout",
     "output_type": "stream",
     "text": [
      "UserKNNCFRecommender: URM Detected 468 ( 3.7%) users with no interactions.\n",
      "UserKNNCFRecommender: URM Detected 305 ( 1.4%) items with no interactions.\n",
      "Similarity column 12638 (100.0%), 9734.62 column/sec. Elapsed time 1.30 sec\n",
      "EvaluatorHoldout: Processed 10043 (100.0%) in 8.38 sec. Users per second: 1199\n"
     ]
    },
    {
     "name": "stderr",
     "output_type": "stream",
     "text": [
      "[I 2023-11-27 14:39:27,427] Trial 68 finished with value: 0.019015337224537673 and parameters: {'topK': 1890, 'shrink': 47, 'similarity': 'cosine', 'normalize': True, 'feature_weighting': 'TF-IDF'}. Best is trial 41 with value: 0.02387918063438327.\n"
     ]
    },
    {
     "name": "stdout",
     "output_type": "stream",
     "text": [
      "UserKNNCFRecommender: URM Detected 468 ( 3.7%) users with no interactions.\n",
      "UserKNNCFRecommender: URM Detected 305 ( 1.4%) items with no interactions.\n",
      "Similarity column 12638 (100.0%), 7933.41 column/sec. Elapsed time 1.59 sec\n",
      "EvaluatorHoldout: Processed 10043 (100.0%) in 9.33 sec. Users per second: 1076\n"
     ]
    },
    {
     "name": "stderr",
     "output_type": "stream",
     "text": [
      "[I 2023-11-27 14:39:38,820] Trial 69 finished with value: 0.016700991292995612 and parameters: {'topK': 2860, 'shrink': 60, 'similarity': 'tversky', 'normalize': True, 'feature_weighting': 'none'}. Best is trial 41 with value: 0.02387918063438327.\n"
     ]
    },
    {
     "name": "stdout",
     "output_type": "stream",
     "text": [
      "UserKNNCFRecommender: URM Detected 468 ( 3.7%) users with no interactions.\n",
      "UserKNNCFRecommender: URM Detected 305 ( 1.4%) items with no interactions.\n",
      "Similarity column 12638 (100.0%), 8602.06 column/sec. Elapsed time 1.47 sec\n",
      "EvaluatorHoldout: Processed 10043 (100.0%) in 7.84 sec. Users per second: 1280\n"
     ]
    },
    {
     "name": "stderr",
     "output_type": "stream",
     "text": [
      "[I 2023-11-27 14:39:48,354] Trial 70 finished with value: 0.02162683002770633 and parameters: {'topK': 742, 'shrink': 51, 'similarity': 'dice', 'normalize': False, 'feature_weighting': 'TF-IDF'}. Best is trial 41 with value: 0.02387918063438327.\n"
     ]
    },
    {
     "name": "stdout",
     "output_type": "stream",
     "text": [
      "UserKNNCFRecommender: URM Detected 468 ( 3.7%) users with no interactions.\n",
      "UserKNNCFRecommender: URM Detected 305 ( 1.4%) items with no interactions.\n",
      "Similarity column 12638 (100.0%), 9667.46 column/sec. Elapsed time 1.31 sec\n",
      "EvaluatorHoldout: Processed 10043 (100.0%) in 6.89 sec. Users per second: 1458\n"
     ]
    },
    {
     "name": "stderr",
     "output_type": "stream",
     "text": [
      "[I 2023-11-27 14:39:56,681] Trial 71 finished with value: 0.02376610732580068 and parameters: {'topK': 382, 'shrink': 69, 'similarity': 'cosine', 'normalize': True, 'feature_weighting': 'TF-IDF'}. Best is trial 41 with value: 0.02387918063438327.\n"
     ]
    },
    {
     "name": "stdout",
     "output_type": "stream",
     "text": [
      "UserKNNCFRecommender: URM Detected 468 ( 3.7%) users with no interactions.\n",
      "UserKNNCFRecommender: URM Detected 305 ( 1.4%) items with no interactions.\n",
      "Similarity column 12638 (100.0%), 9567.76 column/sec. Elapsed time 1.32 sec\n",
      "EvaluatorHoldout: Processed 10043 (100.0%) in 7.64 sec. Users per second: 1315\n"
     ]
    },
    {
     "name": "stderr",
     "output_type": "stream",
     "text": [
      "[I 2023-11-27 14:40:05,847] Trial 72 finished with value: 0.02317842799770513 and parameters: {'topK': 763, 'shrink': 58, 'similarity': 'cosine', 'normalize': True, 'feature_weighting': 'TF-IDF'}. Best is trial 41 with value: 0.02387918063438327.\n"
     ]
    },
    {
     "name": "stdout",
     "output_type": "stream",
     "text": [
      "UserKNNCFRecommender: URM Detected 468 ( 3.7%) users with no interactions.\n",
      "UserKNNCFRecommender: URM Detected 305 ( 1.4%) items with no interactions.\n",
      "Similarity column 12638 (100.0%), 9412.25 column/sec. Elapsed time 1.34 sec\n",
      "EvaluatorHoldout: Processed 10043 (100.0%) in 8.79 sec. Users per second: 1142\n"
     ]
    },
    {
     "name": "stderr",
     "output_type": "stream",
     "text": [
      "[I 2023-11-27 14:40:16,311] Trial 73 finished with value: 0.02052485028662469 and parameters: {'topK': 1429, 'shrink': 64, 'similarity': 'cosine', 'normalize': True, 'feature_weighting': 'TF-IDF'}. Best is trial 41 with value: 0.02387918063438327.\n"
     ]
    },
    {
     "name": "stdout",
     "output_type": "stream",
     "text": [
      "UserKNNCFRecommender: URM Detected 468 ( 3.7%) users with no interactions.\n",
      "UserKNNCFRecommender: URM Detected 305 ( 1.4%) items with no interactions.\n",
      "Similarity column 12638 (100.0%), 10107.11 column/sec. Elapsed time 1.25 sec\n",
      "EvaluatorHoldout: Processed 10043 (100.0%) in 11.03 sec. Users per second: 910\n"
     ]
    },
    {
     "name": "stderr",
     "output_type": "stream",
     "text": [
      "[I 2023-11-27 14:40:29,172] Trial 74 finished with value: 0.015672137586157247 and parameters: {'topK': 4896, 'shrink': 43, 'similarity': 'cosine', 'normalize': True, 'feature_weighting': 'TF-IDF'}. Best is trial 41 with value: 0.02387918063438327.\n"
     ]
    },
    {
     "name": "stdout",
     "output_type": "stream",
     "text": [
      "UserKNNCFRecommender: URM Detected 468 ( 3.7%) users with no interactions.\n",
      "UserKNNCFRecommender: URM Detected 305 ( 1.4%) items with no interactions.\n",
      "Similarity column 12638 (100.0%), 8769.13 column/sec. Elapsed time 1.44 sec\n",
      "EvaluatorHoldout: Processed 10043 (100.0%) in 6.21 sec. Users per second: 1617\n"
     ]
    },
    {
     "name": "stderr",
     "output_type": "stream",
     "text": [
      "[I 2023-11-27 14:40:36,976] Trial 75 finished with value: 0.02380912473190686 and parameters: {'topK': 373, 'shrink': 67, 'similarity': 'asymmetric', 'normalize': True, 'feature_weighting': 'TF-IDF'}. Best is trial 41 with value: 0.02387918063438327.\n"
     ]
    },
    {
     "name": "stdout",
     "output_type": "stream",
     "text": [
      "UserKNNCFRecommender: URM Detected 468 ( 3.7%) users with no interactions.\n",
      "UserKNNCFRecommender: URM Detected 305 ( 1.4%) items with no interactions.\n",
      "Similarity column 12638 (100.0%), 9886.54 column/sec. Elapsed time 1.28 sec\n",
      "EvaluatorHoldout: Processed 10043 (100.0%) in 5.86 sec. Users per second: 1713\n"
     ]
    },
    {
     "name": "stderr",
     "output_type": "stream",
     "text": [
      "[I 2023-11-27 14:40:44,205] Trial 76 finished with value: 0.010630665124093339 and parameters: {'topK': 116, 'shrink': 60, 'similarity': 'cosine', 'normalize': True, 'feature_weighting': 'BM25'}. Best is trial 41 with value: 0.02387918063438327.\n"
     ]
    },
    {
     "name": "stdout",
     "output_type": "stream",
     "text": [
      "UserKNNCFRecommender: URM Detected 468 ( 3.7%) users with no interactions.\n",
      "UserKNNCFRecommender: URM Detected 305 ( 1.4%) items with no interactions.\n",
      "Similarity column 12638 (100.0%), 9168.93 column/sec. Elapsed time 1.38 sec\n",
      "EvaluatorHoldout: Processed 10043 (100.0%) in 7.79 sec. Users per second: 1289\n"
     ]
    },
    {
     "name": "stderr",
     "output_type": "stream",
     "text": [
      "[I 2023-11-27 14:40:53,634] Trial 77 finished with value: 0.02223286297492213 and parameters: {'topK': 973, 'shrink': 73, 'similarity': 'cosine', 'normalize': True, 'feature_weighting': 'TF-IDF'}. Best is trial 41 with value: 0.02387918063438327.\n"
     ]
    },
    {
     "name": "stdout",
     "output_type": "stream",
     "text": [
      "UserKNNCFRecommender: URM Detected 468 ( 3.7%) users with no interactions.\n",
      "UserKNNCFRecommender: URM Detected 305 ( 1.4%) items with no interactions.\n",
      "Similarity column 12638 (100.0%), 9015.16 column/sec. Elapsed time 1.40 sec\n",
      "EvaluatorHoldout: Processed 10043 (100.0%) in 8.03 sec. Users per second: 1251\n"
     ]
    },
    {
     "name": "stderr",
     "output_type": "stream",
     "text": [
      "[I 2023-11-27 14:41:03,339] Trial 78 finished with value: 0.020950116878375374 and parameters: {'topK': 1295, 'shrink': 80, 'similarity': 'asymmetric', 'normalize': True, 'feature_weighting': 'TF-IDF'}. Best is trial 41 with value: 0.02387918063438327.\n"
     ]
    },
    {
     "name": "stdout",
     "output_type": "stream",
     "text": [
      "UserKNNCFRecommender: URM Detected 468 ( 3.7%) users with no interactions.\n",
      "UserKNNCFRecommender: URM Detected 305 ( 1.4%) items with no interactions.\n",
      "Similarity column 12638 (100.0%), 9075.97 column/sec. Elapsed time 1.39 sec\n",
      "EvaluatorHoldout: Processed 10043 (100.0%) in 7.13 sec. Users per second: 1409\n"
     ]
    },
    {
     "name": "stderr",
     "output_type": "stream",
     "text": [
      "[I 2023-11-27 14:41:12,115] Trial 79 finished with value: 0.02375707868862308 and parameters: {'topK': 670, 'shrink': 33, 'similarity': 'cosine', 'normalize': True, 'feature_weighting': 'TF-IDF'}. Best is trial 41 with value: 0.02387918063438327.\n"
     ]
    },
    {
     "name": "stdout",
     "output_type": "stream",
     "text": [
      "UserKNNCFRecommender: URM Detected 468 ( 3.7%) users with no interactions.\n",
      "UserKNNCFRecommender: URM Detected 305 ( 1.4%) items with no interactions.\n",
      "Similarity column 12638 (100.0%), 9704.49 column/sec. Elapsed time 1.30 sec\n",
      "EvaluatorHoldout: Processed 10043 (100.0%) in 10.84 sec. Users per second: 926\n"
     ]
    },
    {
     "name": "stderr",
     "output_type": "stream",
     "text": [
      "[I 2023-11-27 14:41:24,839] Trial 80 finished with value: 0.015515746575439839 and parameters: {'topK': 6731, 'shrink': 65, 'similarity': 'asymmetric', 'normalize': True, 'feature_weighting': 'TF-IDF'}. Best is trial 41 with value: 0.02387918063438327.\n"
     ]
    },
    {
     "name": "stdout",
     "output_type": "stream",
     "text": [
      "UserKNNCFRecommender: URM Detected 468 ( 3.7%) users with no interactions.\n",
      "UserKNNCFRecommender: URM Detected 305 ( 1.4%) items with no interactions.\n",
      "Similarity column 12638 (100.0%), 9746.68 column/sec. Elapsed time 1.30 sec\n",
      "EvaluatorHoldout: Processed 10043 (100.0%) in 6.81 sec. Users per second: 1475\n"
     ]
    },
    {
     "name": "stderr",
     "output_type": "stream",
     "text": [
      "[I 2023-11-27 14:41:33,132] Trial 81 finished with value: 0.023833847787845593 and parameters: {'topK': 581, 'shrink': 59, 'similarity': 'cosine', 'normalize': True, 'feature_weighting': 'TF-IDF'}. Best is trial 41 with value: 0.02387918063438327.\n"
     ]
    },
    {
     "name": "stdout",
     "output_type": "stream",
     "text": [
      "UserKNNCFRecommender: URM Detected 468 ( 3.7%) users with no interactions.\n",
      "UserKNNCFRecommender: URM Detected 305 ( 1.4%) items with no interactions.\n",
      "Similarity column 12638 (100.0%), 7268.79 column/sec. Elapsed time 1.74 sec\n",
      "EvaluatorHoldout: Processed 10043 (100.0%) in 7.69 sec. Users per second: 1307\n"
     ]
    },
    {
     "name": "stderr",
     "output_type": "stream",
     "text": [
      "[I 2023-11-27 14:41:42,712] Trial 82 finished with value: 0.023780323971999827 and parameters: {'topK': 389, 'shrink': 53, 'similarity': 'cosine', 'normalize': True, 'feature_weighting': 'TF-IDF'}. Best is trial 41 with value: 0.02387918063438327.\n"
     ]
    },
    {
     "name": "stdout",
     "output_type": "stream",
     "text": [
      "UserKNNCFRecommender: URM Detected 468 ( 3.7%) users with no interactions.\n",
      "UserKNNCFRecommender: URM Detected 305 ( 1.4%) items with no interactions.\n",
      "Similarity column 12638 (100.0%), 8930.91 column/sec. Elapsed time 1.42 sec\n",
      "EvaluatorHoldout: Processed 10043 (100.0%) in 9.65 sec. Users per second: 1041\n"
     ]
    },
    {
     "name": "stderr",
     "output_type": "stream",
     "text": [
      "[I 2023-11-27 14:41:54,020] Trial 83 finished with value: 0.0227598113824839 and parameters: {'topK': 884, 'shrink': 75, 'similarity': 'cosine', 'normalize': True, 'feature_weighting': 'TF-IDF'}. Best is trial 41 with value: 0.02387918063438327.\n"
     ]
    },
    {
     "name": "stdout",
     "output_type": "stream",
     "text": [
      "UserKNNCFRecommender: URM Detected 468 ( 3.7%) users with no interactions.\n",
      "UserKNNCFRecommender: URM Detected 305 ( 1.4%) items with no interactions.\n",
      "Similarity column 12638 (100.0%), 9105.50 column/sec. Elapsed time 1.39 sec\n",
      "EvaluatorHoldout: Processed 10043 (100.0%) in 9.51 sec. Users per second: 1056\n"
     ]
    },
    {
     "name": "stderr",
     "output_type": "stream",
     "text": [
      "[I 2023-11-27 14:42:05,247] Trial 84 finished with value: 0.021451729784150372 and parameters: {'topK': 1198, 'shrink': 69, 'similarity': 'cosine', 'normalize': True, 'feature_weighting': 'TF-IDF'}. Best is trial 41 with value: 0.02387918063438327.\n"
     ]
    },
    {
     "name": "stdout",
     "output_type": "stream",
     "text": [
      "UserKNNCFRecommender: URM Detected 468 ( 3.7%) users with no interactions.\n",
      "UserKNNCFRecommender: URM Detected 305 ( 1.4%) items with no interactions.\n",
      "Similarity column 12638 (100.0%), 7128.41 column/sec. Elapsed time 1.77 sec\n",
      "EvaluatorHoldout: Processed 10043 (100.0%) in 7.24 sec. Users per second: 1387\n"
     ]
    },
    {
     "name": "stderr",
     "output_type": "stream",
     "text": [
      "[I 2023-11-27 14:42:14,417] Trial 85 finished with value: 0.02209121412845399 and parameters: {'topK': 576, 'shrink': 59, 'similarity': 'cosine', 'normalize': True, 'feature_weighting': 'none'}. Best is trial 41 with value: 0.02387918063438327.\n"
     ]
    },
    {
     "name": "stdout",
     "output_type": "stream",
     "text": [
      "UserKNNCFRecommender: URM Detected 468 ( 3.7%) users with no interactions.\n",
      "UserKNNCFRecommender: URM Detected 305 ( 1.4%) items with no interactions.\n",
      "Similarity column 12638 (100.0%), 9859.53 column/sec. Elapsed time 1.28 sec\n",
      "EvaluatorHoldout: Processed 10043 (100.0%) in 9.89 sec. Users per second: 1015\n"
     ]
    },
    {
     "name": "stderr",
     "output_type": "stream",
     "text": [
      "[I 2023-11-27 14:42:25,960] Trial 86 finished with value: 0.01890488755494235 and parameters: {'topK': 1645, 'shrink': 55, 'similarity': 'jaccard', 'normalize': True, 'feature_weighting': 'TF-IDF'}. Best is trial 41 with value: 0.02387918063438327.\n"
     ]
    },
    {
     "name": "stdout",
     "output_type": "stream",
     "text": [
      "UserKNNCFRecommender: URM Detected 468 ( 3.7%) users with no interactions.\n",
      "UserKNNCFRecommender: URM Detected 305 ( 1.4%) items with no interactions.\n",
      "Similarity column 12638 (100.0%), 9996.33 column/sec. Elapsed time 1.26 sec\n",
      "EvaluatorHoldout: Processed 10043 (100.0%) in 6.94 sec. Users per second: 1447\n"
     ]
    },
    {
     "name": "stderr",
     "output_type": "stream",
     "text": [
      "[I 2023-11-27 14:42:34,306] Trial 87 finished with value: 0.022282143133731332 and parameters: {'topK': 316, 'shrink': 49, 'similarity': 'cosine', 'normalize': False, 'feature_weighting': 'TF-IDF'}. Best is trial 41 with value: 0.02387918063438327.\n"
     ]
    },
    {
     "name": "stdout",
     "output_type": "stream",
     "text": [
      "UserKNNCFRecommender: URM Detected 468 ( 3.7%) users with no interactions.\n",
      "UserKNNCFRecommender: URM Detected 305 ( 1.4%) items with no interactions.\n",
      "Similarity column 12638 (100.0%), 9353.03 column/sec. Elapsed time 1.35 sec\n",
      "EvaluatorHoldout: Processed 10043 (100.0%) in 8.11 sec. Users per second: 1238\n"
     ]
    },
    {
     "name": "stderr",
     "output_type": "stream",
     "text": [
      "[I 2023-11-27 14:42:44,015] Trial 88 finished with value: 0.022237687467698438 and parameters: {'topK': 975, 'shrink': 62, 'similarity': 'asymmetric', 'normalize': True, 'feature_weighting': 'TF-IDF'}. Best is trial 41 with value: 0.02387918063438327.\n"
     ]
    },
    {
     "name": "stdout",
     "output_type": "stream",
     "text": [
      "UserKNNCFRecommender: URM Detected 468 ( 3.7%) users with no interactions.\n",
      "UserKNNCFRecommender: URM Detected 305 ( 1.4%) items with no interactions.\n",
      "Similarity column 12638 (100.0%), 8910.24 column/sec. Elapsed time 1.42 sec\n",
      "EvaluatorHoldout: Processed 10043 (100.0%) in 7.69 sec. Users per second: 1305\n"
     ]
    },
    {
     "name": "stderr",
     "output_type": "stream",
     "text": [
      "[I 2023-11-27 14:42:53,406] Trial 89 finished with value: 0.016493609226358417 and parameters: {'topK': 689, 'shrink': 41, 'similarity': 'tversky', 'normalize': True, 'feature_weighting': 'BM25'}. Best is trial 41 with value: 0.02387918063438327.\n"
     ]
    },
    {
     "name": "stdout",
     "output_type": "stream",
     "text": [
      "UserKNNCFRecommender: URM Detected 468 ( 3.7%) users with no interactions.\n",
      "UserKNNCFRecommender: URM Detected 305 ( 1.4%) items with no interactions.\n",
      "Similarity column 12638 (100.0%), 9338.74 column/sec. Elapsed time 1.35 sec\n",
      "EvaluatorHoldout: Processed 10043 (100.0%) in 8.75 sec. Users per second: 1148\n"
     ]
    },
    {
     "name": "stderr",
     "output_type": "stream",
     "text": [
      "[I 2023-11-27 14:43:03,846] Trial 90 finished with value: 0.020560103459884436 and parameters: {'topK': 1397, 'shrink': 45, 'similarity': 'cosine', 'normalize': True, 'feature_weighting': 'TF-IDF'}. Best is trial 41 with value: 0.02387918063438327.\n"
     ]
    },
    {
     "name": "stdout",
     "output_type": "stream",
     "text": [
      "UserKNNCFRecommender: URM Detected 468 ( 3.7%) users with no interactions.\n",
      "UserKNNCFRecommender: URM Detected 305 ( 1.4%) items with no interactions.\n",
      "Similarity column 12638 (100.0%), 9925.84 column/sec. Elapsed time 1.27 sec\n",
      "EvaluatorHoldout: Processed 10043 (100.0%) in 7.62 sec. Users per second: 1318\n"
     ]
    },
    {
     "name": "stderr",
     "output_type": "stream",
     "text": [
      "[I 2023-11-27 14:43:12,923] Trial 91 finished with value: 0.023856595212016926 and parameters: {'topK': 629, 'shrink': 55, 'similarity': 'cosine', 'normalize': True, 'feature_weighting': 'TF-IDF'}. Best is trial 41 with value: 0.02387918063438327.\n"
     ]
    },
    {
     "name": "stdout",
     "output_type": "stream",
     "text": [
      "UserKNNCFRecommender: URM Detected 468 ( 3.7%) users with no interactions.\n",
      "UserKNNCFRecommender: URM Detected 305 ( 1.4%) items with no interactions.\n",
      "Similarity column 12638 (100.0%), 10001.08 column/sec. Elapsed time 1.26 sec\n",
      "EvaluatorHoldout: Processed 10043 (100.0%) in 7.54 sec. Users per second: 1331\n"
     ]
    },
    {
     "name": "stderr",
     "output_type": "stream",
     "text": [
      "[I 2023-11-27 14:43:21,895] Trial 92 finished with value: 0.02391316940331183 and parameters: {'topK': 547, 'shrink': 57, 'similarity': 'cosine', 'normalize': True, 'feature_weighting': 'TF-IDF'}. Best is trial 92 with value: 0.02391316940331183.\n"
     ]
    },
    {
     "name": "stdout",
     "output_type": "stream",
     "text": [
      "UserKNNCFRecommender: URM Detected 468 ( 3.7%) users with no interactions.\n",
      "UserKNNCFRecommender: URM Detected 305 ( 1.4%) items with no interactions.\n",
      "Similarity column 12638 (100.0%), 10176.91 column/sec. Elapsed time 1.24 sec\n",
      "EvaluatorHoldout: Processed 10043 (100.0%) in 6.34 sec. Users per second: 1584\n"
     ]
    },
    {
     "name": "stderr",
     "output_type": "stream",
     "text": [
      "[I 2023-11-27 14:43:29,613] Trial 93 finished with value: 0.0234050764253393 and parameters: {'topK': 279, 'shrink': 55, 'similarity': 'cosine', 'normalize': True, 'feature_weighting': 'TF-IDF'}. Best is trial 92 with value: 0.02391316940331183.\n"
     ]
    },
    {
     "name": "stdout",
     "output_type": "stream",
     "text": [
      "UserKNNCFRecommender: URM Detected 468 ( 3.7%) users with no interactions.\n",
      "UserKNNCFRecommender: URM Detected 305 ( 1.4%) items with no interactions.\n",
      "Similarity column 12638 (100.0%), 6638.56 column/sec. Elapsed time 1.90 sec\n",
      "EvaluatorHoldout: Processed 10043 (100.0%) in 7.08 sec. Users per second: 1419\n"
     ]
    },
    {
     "name": "stderr",
     "output_type": "stream",
     "text": [
      "[I 2023-11-27 14:43:38,765] Trial 94 finished with value: 0.023863450654250176 and parameters: {'topK': 506, 'shrink': 58, 'similarity': 'cosine', 'normalize': True, 'feature_weighting': 'TF-IDF'}. Best is trial 92 with value: 0.02391316940331183.\n"
     ]
    },
    {
     "name": "stdout",
     "output_type": "stream",
     "text": [
      "UserKNNCFRecommender: URM Detected 468 ( 3.7%) users with no interactions.\n",
      "UserKNNCFRecommender: URM Detected 305 ( 1.4%) items with no interactions.\n",
      "Similarity column 12638 (100.0%), 5791.36 column/sec. Elapsed time 2.18 sec\n",
      "EvaluatorHoldout: Processed 10043 (100.0%) in 9.18 sec. Users per second: 1094\n"
     ]
    },
    {
     "name": "stderr",
     "output_type": "stream",
     "text": [
      "[I 2023-11-27 14:43:50,464] Trial 95 finished with value: 0.021586116208241055 and parameters: {'topK': 1143, 'shrink': 51, 'similarity': 'cosine', 'normalize': True, 'feature_weighting': 'TF-IDF'}. Best is trial 92 with value: 0.02391316940331183.\n"
     ]
    },
    {
     "name": "stdout",
     "output_type": "stream",
     "text": [
      "UserKNNCFRecommender: URM Detected 468 ( 3.7%) users with no interactions.\n",
      "UserKNNCFRecommender: URM Detected 305 ( 1.4%) items with no interactions.\n",
      "Similarity column 12638 (100.0%), 6648.05 column/sec. Elapsed time 1.90 sec\n",
      "EvaluatorHoldout: Processed 10043 (100.0%) in 6.08 sec. Users per second: 1652\n"
     ]
    },
    {
     "name": "stderr",
     "output_type": "stream",
     "text": [
      "[I 2023-11-27 14:43:58,645] Trial 96 finished with value: 0.02121691014352572 and parameters: {'topK': 151, 'shrink': 57, 'similarity': 'cosine', 'normalize': True, 'feature_weighting': 'TF-IDF'}. Best is trial 92 with value: 0.02391316940331183.\n"
     ]
    },
    {
     "name": "stdout",
     "output_type": "stream",
     "text": [
      "UserKNNCFRecommender: URM Detected 468 ( 3.7%) users with no interactions.\n",
      "UserKNNCFRecommender: URM Detected 305 ( 1.4%) items with no interactions.\n",
      "Similarity column 12638 (100.0%), 8834.35 column/sec. Elapsed time 1.43 sec\n",
      "EvaluatorHoldout: Processed 10043 (100.0%) in 9.77 sec. Users per second: 1028\n"
     ]
    },
    {
     "name": "stderr",
     "output_type": "stream",
     "text": [
      "[I 2023-11-27 14:44:10,194] Trial 97 finished with value: 0.01922687206915026 and parameters: {'topK': 1817, 'shrink': 46, 'similarity': 'asymmetric', 'normalize': True, 'feature_weighting': 'TF-IDF'}. Best is trial 92 with value: 0.02391316940331183.\n"
     ]
    },
    {
     "name": "stdout",
     "output_type": "stream",
     "text": [
      "UserKNNCFRecommender: URM Detected 468 ( 3.7%) users with no interactions.\n",
      "UserKNNCFRecommender: URM Detected 305 ( 1.4%) items with no interactions.\n",
      "Similarity column 12638 (100.0%), 7725.15 column/sec. Elapsed time 1.64 sec\n",
      "EvaluatorHoldout: Processed 10043 (100.0%) in 7.42 sec. Users per second: 1354\n"
     ]
    },
    {
     "name": "stderr",
     "output_type": "stream",
     "text": [
      "[I 2023-11-27 14:44:19,495] Trial 98 finished with value: 0.021216732336666683 and parameters: {'topK': 857, 'shrink': 40, 'similarity': 'dice', 'normalize': True, 'feature_weighting': 'TF-IDF'}. Best is trial 92 with value: 0.02391316940331183.\n"
     ]
    },
    {
     "name": "stdout",
     "output_type": "stream",
     "text": [
      "UserKNNCFRecommender: URM Detected 468 ( 3.7%) users with no interactions.\n",
      "UserKNNCFRecommender: URM Detected 305 ( 1.4%) items with no interactions.\n",
      "Similarity column 12638 (100.0%), 9136.06 column/sec. Elapsed time 1.38 sec\n",
      "EvaluatorHoldout: Processed 10043 (100.0%) in 6.60 sec. Users per second: 1521\n"
     ]
    },
    {
     "name": "stderr",
     "output_type": "stream",
     "text": [
      "[I 2023-11-27 14:44:27,652] Trial 99 finished with value: 0.023903939251693918 and parameters: {'topK': 457, 'shrink': 63, 'similarity': 'cosine', 'normalize': True, 'feature_weighting': 'TF-IDF'}. Best is trial 92 with value: 0.02391316940331183.\n"
     ]
    }
   ],
   "source": [
    "best_params = {\n",
    "    'topK': 529,\n",
    "    'shrink': 45,\n",
    "    'similarity': 'asymmetric',\n",
    "    'normalize': True,\n",
    "    'feature_weighting': 'TF-IDF',\n",
    "    'tversky_alpha': 0.0,\n",
    "    'tversky_beta': 0.0,\n",
    "}\n",
    "study = op.create_study(direction=\"maximize\")\n",
    "study.enqueue_trial(best_params)\n",
    "study.optimize(objective, n_trials=100)"
   ],
   "metadata": {
    "collapsed": false,
    "ExecuteTime": {
     "end_time": "2023-11-27T13:44:27.686449897Z",
     "start_time": "2023-11-27T13:28:25.231975185Z"
    }
   },
   "id": "c5b8a36d4aed08fc"
  },
  {
   "cell_type": "code",
   "execution_count": 5,
   "outputs": [
    {
     "data": {
      "text/plain": "{'topK': 529,\n 'shrink': 45,\n 'similarity': 'asymmetric',\n 'normalize': True,\n 'feature_weighting': 'TF-IDF'}"
     },
     "execution_count": 5,
     "metadata": {},
     "output_type": "execute_result"
    }
   ],
   "source": [
    "study.best_params"
   ],
   "metadata": {
    "collapsed": false,
    "ExecuteTime": {
     "end_time": "2023-11-21T22:15:57.569712822Z",
     "start_time": "2023-11-21T22:15:57.524923806Z"
    }
   },
   "id": "f18968c2188a349a"
  },
  {
   "cell_type": "code",
   "execution_count": 7,
   "outputs": [
    {
     "name": "stdout",
     "output_type": "stream",
     "text": [
      "SLIMElasticNetRecommender: URM Detected 232 ( 1.8%) users with no interactions.\n",
      "SLIMElasticNetRecommender: URM Detected 103 ( 0.5%) items with no interactions.\n",
      "SLIMElasticNetRecommender: Processed 17389 (78.3%) in 5.00 min. Items per second: 57.96\n",
      "SLIMElasticNetRecommender: Processed 22222 (100.0%) in 6.45 min. Items per second: 57.42\n"
     ]
    }
   ],
   "source": [
    "final = model(URM_train_validation)\n",
    "final.fit(**study.best_params)"
   ],
   "metadata": {
    "collapsed": false,
    "ExecuteTime": {
     "end_time": "2023-11-21T17:01:23.976153916Z",
     "start_time": "2023-11-21T16:54:56.887169177Z"
    }
   },
   "id": "7ae12a0ef4bc0baa"
  },
  {
   "cell_type": "code",
   "execution_count": 8,
   "outputs": [
    {
     "name": "stdout",
     "output_type": "stream",
     "text": [
      "EvaluatorHoldout: Ignoring 2176 (17.2%) Users that have less than 1 test interactions\n",
      "EvaluatorHoldout: Ignoring 0 Users\n",
      "EvaluatorHoldout: Processed 10462 (100.0%) in 6.56 sec. Users per second: 1596\n"
     ]
    },
    {
     "data": {
      "text/plain": "(       PRECISION PRECISION_RECALL_MIN_DEN    RECALL       MAP MAP_MIN_DEN  \\\n cutoff                                                                      \n 10      0.096683                 0.167108  0.140668  0.049947    0.086206   \n \n             MRR      NDCG      F1  HIT_RATE ARHR_ALL_HITS  ... COVERAGE_USER  \\\n cutoff                                                     ...                 \n 10      0.27832  0.154074  0.1146  0.527337      0.368245  ...      0.827821   \n \n        COVERAGE_USER_HIT USERS_IN_GT DIVERSITY_GINI SHANNON_ENTROPY  \\\n cutoff                                                                \n 10              0.436541    0.827821       0.054661        10.16803   \n \n        RATIO_DIVERSITY_HERFINDAHL RATIO_DIVERSITY_GINI RATIO_SHANNON_ENTROPY  \\\n cutoff                                                                         \n 10                       0.997643             0.156901              0.783344   \n \n        RATIO_AVERAGE_POPULARITY RATIO_NOVELTY  \n cutoff                                         \n 10                     1.867518      0.284298  \n \n [1 rows x 27 columns],\n 'CUTOFF: 10 - PRECISION: 0.0966832, PRECISION_RECALL_MIN_DEN: 0.1671084, RECALL: 0.1406677, MAP: 0.0499469, MAP_MIN_DEN: 0.0862062, MRR: 0.2783201, NDCG: 0.1540742, F1: 0.1146000, HIT_RATE: 0.5273370, ARHR_ALL_HITS: 0.3682449, NOVELTY: 0.0050324, AVERAGE_POPULARITY: 0.2274640, DIVERSITY_MEAN_INTER_LIST: 0.9729123, DIVERSITY_HERFINDAHL: 0.9972819, COVERAGE_ITEM: 0.2935379, COVERAGE_ITEM_HIT: 0.0908559, ITEMS_IN_GT: 0.8044280, COVERAGE_USER: 0.8278209, COVERAGE_USER_HIT: 0.4365406, USERS_IN_GT: 0.8278209, DIVERSITY_GINI: 0.0546607, SHANNON_ENTROPY: 10.1680295, RATIO_DIVERSITY_HERFINDAHL: 0.9976433, RATIO_DIVERSITY_GINI: 0.1569015, RATIO_SHANNON_ENTROPY: 0.7833442, RATIO_AVERAGE_POPULARITY: 1.8675180, RATIO_NOVELTY: 0.2842978, \\n')"
     },
     "execution_count": 8,
     "metadata": {},
     "output_type": "execute_result"
    }
   ],
   "source": [
    "from Evaluation.Evaluator import EvaluatorHoldout\n",
    "evaluator_test = EvaluatorHoldout(URM_test, cutoff_list=[10], ignore_users=[])\n",
    "evaluator_test.evaluateRecommender(final)"
   ],
   "metadata": {
    "collapsed": false,
    "ExecuteTime": {
     "end_time": "2023-11-21T17:01:30.534196406Z",
     "start_time": "2023-11-21T17:01:23.971974392Z"
    }
   },
   "id": "1a0a3570fbcb348b"
  },
  {
   "cell_type": "code",
   "execution_count": null,
   "outputs": [],
   "source": [],
   "metadata": {
    "collapsed": false
   },
   "id": "3cdf5d82e17bdf89"
  }
 ],
 "metadata": {
  "kernelspec": {
   "display_name": "Python 3",
   "language": "python",
   "name": "python3"
  },
  "language_info": {
   "codemirror_mode": {
    "name": "ipython",
    "version": 2
   },
   "file_extension": ".py",
   "mimetype": "text/x-python",
   "name": "python",
   "nbconvert_exporter": "python",
   "pygments_lexer": "ipython2",
   "version": "2.7.6"
  }
 },
 "nbformat": 4,
 "nbformat_minor": 5
}
